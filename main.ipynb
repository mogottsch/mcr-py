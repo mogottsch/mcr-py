{
 "cells": [
  {
   "cell_type": "code",
   "execution_count": 262,
   "metadata": {},
   "outputs": [],
   "source": [
    "import zipfile\n",
    "import pandas as pd\n",
    "import sys"
   ]
  },
  {
   "cell_type": "code",
   "execution_count": 263,
   "metadata": {},
   "outputs": [],
   "source": [
    "GTFS_PATH = '/home/moritz/dev/uni/multi_modal_data/Helsinki/GTFS.zip'\n",
    "# GTFS_PATH = '/home/moritz/dev/uni/multi_modal_data/illinois/gtfs_data/chicago_transit_authority_(cta).zip'"
   ]
  },
  {
   "attachments": {},
   "cell_type": "markdown",
   "metadata": {},
   "source": [
    "# Read data "
   ]
  },
  {
   "cell_type": "code",
   "execution_count": 250,
   "metadata": {},
   "outputs": [],
   "source": [
    "STOPS_FILE = \"stops.txt\"\n",
    "ROUTES_FILE = \"routes.txt\"\n",
    "TRIPS_FILE = \"trips.txt\"\n",
    "STOP_TIMES_FILE = \"stop_times.txt\"\n",
    "TRANSFERS_FILE = \"transfers.txt\"\n",
    "\n",
    "EXPECTED_FILES = [STOPS_FILE, ROUTES_FILE, TRIPS_FILE, STOP_TIMES_FILE, TRANSFERS_FILE]"
   ]
  },
  {
   "cell_type": "code",
   "execution_count": 251,
   "metadata": {},
   "outputs": [],
   "source": [
    "dfs = ()\n",
    "\n",
    "with zipfile.ZipFile(GTFS_PATH, 'r') as zip_ref:\n",
    "\tcontained = zip_ref.namelist()\n",
    "\tif not all([file in contained for file in EXPECTED_FILES]):\n",
    "\t\traise Exception('Not all expected files are in the zip file')\n",
    "\n",
    "\tfor file in EXPECTED_FILES:\n",
    "\t\twith zip_ref.open(file) as f:\n",
    "\t\t\tdf = pd.read_csv(f)\n",
    "\t\t\tdfs += (df,)\n",
    "\t"
   ]
  },
  {
   "attachments": {},
   "cell_type": "markdown",
   "metadata": {},
   "source": [
    "## Preprocessing\n",
    "In our algorithms we expect that routes always have the same path, that is the same sequence of stops.\n",
    "In GTFS this is not given. Routes can go in opposite directions and have different stops.  \n",
    "In this preprocessing step we make sure that all routes have the same path.  \n",
    "\n",
    "After we are done the new `routes_id` will have the following format:  \n",
    "`<old_route_id>_<direction>_<path_id>`\n"
   ]
  },
  {
   "cell_type": "code",
   "execution_count": 252,
   "metadata": {},
   "outputs": [],
   "source": [
    "stops_df, routes_df, trips_df, stop_times_df, transfers_df = dfs"
   ]
  },
  {
   "cell_type": "code",
   "execution_count": 253,
   "metadata": {},
   "outputs": [],
   "source": [
    "# split routes that go into opposite directions\n",
    "trips_df[\"old_route_id\"] = trips_df[\"route_id\"]\n",
    "trips_df[\"route_id\"] = trips_df[\"route_id\"] + \"_\" + trips_df[\"direction_id\"].astype(str)"
   ]
  },
  {
   "cell_type": "code",
   "execution_count": 254,
   "metadata": {},
   "outputs": [],
   "source": [
    "trips_stop_times_df = pd.merge(trips_df, stop_times_df, on=\"trip_id\")\n",
    "# create a df that contains the route_id, trip_id and a the ordered list of stop_ids as a string\n",
    "paths_df = (\n",
    "    trips_stop_times_df.sort_values([\"route_id\", \"trip_id\", \"stop_sequence\"])\n",
    "    .groupby([\"route_id\", \"trip_id\"])[\"stop_id\"]\n",
    "    .apply(list)\n",
    "    .apply(str)\n",
    "    .reset_index()\n",
    ")\n",
    "\n",
    "paths_df = paths_df.rename(columns={\"stop_id\": \"path\"})"
   ]
  },
  {
   "cell_type": "code",
   "execution_count": 255,
   "metadata": {},
   "outputs": [],
   "source": [
    "# now we go through each route and trip and assign a unique path id,\n",
    "# which is then used in the new route id.\n",
    "known_route_paths = {}\n",
    "path_counter_per_route = {}\n",
    "path_id_by_path = {}\n",
    "\n",
    "paths_df[\"new_route_id\"] = paths_df[\"route_id\"]\n",
    "\n",
    "for i,row in paths_df.iterrows():\n",
    "\tpath_counter = path_counter_per_route.get(row[\"route_id\"], 0)\n",
    "\tknown_paths = known_route_paths.get(row[\"route_id\"], set())\n",
    "\n",
    "\tpath_id = None\n",
    "\n",
    "\tpath = row[\"path\"]\n",
    "\tif path in known_paths:\n",
    "\t\tpath_id = path_id_by_path[path]\n",
    "\telse:\n",
    "\t\tpath_id = chr(ord('A') + path_counter)\n",
    "\t\tpaths_df.at[i, \"new_route_id\"] = row[\"route_id\"] + \"_\" + path_id\n",
    "\n",
    "\t\tknown_paths.add(path)\n",
    "\t\tknown_route_paths[row[\"route_id\"]] = known_paths\n",
    "\n",
    "\t\tpath_counter_per_route[row[\"route_id\"]] = path_counter + 1\n",
    "\n",
    "\t\tpath_id_by_path[path] = path_id\n",
    "\n",
    "\tpaths_df.at[i, \"new_route_id\"] = row[\"route_id\"] + \"_\" + path_id\n"
   ]
  },
  {
   "cell_type": "code",
   "execution_count": 256,
   "metadata": {},
   "outputs": [],
   "source": [
    "trips_df = trips_df.merge(\n",
    "    paths_df.drop(columns=[\"path\"]), on=[\"route_id\", \"trip_id\"]\n",
    ")\n"
   ]
  },
  {
   "cell_type": "code",
   "execution_count": 257,
   "metadata": {},
   "outputs": [],
   "source": [
    "trips_df[\"route_id\"] = trips_df[\"new_route_id\"]\n",
    "trips_df = trips_df.drop(columns=[\"new_route_id\"])"
   ]
  },
  {
   "cell_type": "code",
   "execution_count": 258,
   "metadata": {},
   "outputs": [
    {
     "data": {
      "text/html": [
       "<div>\n",
       "<style scoped>\n",
       "    .dataframe tbody tr th:only-of-type {\n",
       "        vertical-align: middle;\n",
       "    }\n",
       "\n",
       "    .dataframe tbody tr th {\n",
       "        vertical-align: top;\n",
       "    }\n",
       "\n",
       "    .dataframe thead th {\n",
       "        text-align: right;\n",
       "    }\n",
       "</style>\n",
       "<table border=\"1\" class=\"dataframe\">\n",
       "  <thead>\n",
       "    <tr style=\"text-align: right;\">\n",
       "      <th></th>\n",
       "      <th>route_id</th>\n",
       "      <th>service_id</th>\n",
       "      <th>trip_headsign</th>\n",
       "      <th>direction_id</th>\n",
       "      <th>shape_id</th>\n",
       "      <th>trip_id</th>\n",
       "      <th>wheelchair_accessible</th>\n",
       "      <th>bikes_allowed</th>\n",
       "      <th>old_route_id</th>\n",
       "    </tr>\n",
       "  </thead>\n",
       "  <tbody>\n",
       "    <tr>\n",
       "      <th>0</th>\n",
       "      <td>1001_1_A</td>\n",
       "      <td>1006H6_20220204_20220320_Ti</td>\n",
       "      <td>Eira</td>\n",
       "      <td>1</td>\n",
       "      <td>1001 6_20211004_2</td>\n",
       "      <td>1001 6_20220204_Ti_2_0514</td>\n",
       "      <td>1</td>\n",
       "      <td>2</td>\n",
       "      <td>1001</td>\n",
       "    </tr>\n",
       "    <tr>\n",
       "      <th>1</th>\n",
       "      <td>1001_1_A</td>\n",
       "      <td>1006H6_20220204_20220320_Ti</td>\n",
       "      <td>Eira</td>\n",
       "      <td>1</td>\n",
       "      <td>1001 6_20211004_2</td>\n",
       "      <td>1001 6_20220204_Ti_2_0610</td>\n",
       "      <td>1</td>\n",
       "      <td>2</td>\n",
       "      <td>1001</td>\n",
       "    </tr>\n",
       "    <tr>\n",
       "      <th>2</th>\n",
       "      <td>1001_1_B</td>\n",
       "      <td>1006H6_20220204_20220320_Ti</td>\n",
       "      <td>Eira</td>\n",
       "      <td>1</td>\n",
       "      <td>1001 7_20210712_2</td>\n",
       "      <td>1001 7_20220204_Ti_2_0541</td>\n",
       "      <td>1</td>\n",
       "      <td>2</td>\n",
       "      <td>1001</td>\n",
       "    </tr>\n",
       "    <tr>\n",
       "      <th>3</th>\n",
       "      <td>1001_1_C</td>\n",
       "      <td>1006H6_20220204_20220320_Ti</td>\n",
       "      <td>Eira</td>\n",
       "      <td>1</td>\n",
       "      <td>1001_20211004_2</td>\n",
       "      <td>1001_20220204_Ti_2_0545</td>\n",
       "      <td>1</td>\n",
       "      <td>2</td>\n",
       "      <td>1001</td>\n",
       "    </tr>\n",
       "    <tr>\n",
       "      <th>4</th>\n",
       "      <td>1001_1_C</td>\n",
       "      <td>1006H6_20220204_20220320_Ti</td>\n",
       "      <td>Eira</td>\n",
       "      <td>1</td>\n",
       "      <td>1001_20211004_2</td>\n",
       "      <td>1001_20220204_Ti_2_0557</td>\n",
       "      <td>1</td>\n",
       "      <td>2</td>\n",
       "      <td>1001</td>\n",
       "    </tr>\n",
       "    <tr>\n",
       "      <th>...</th>\n",
       "      <td>...</td>\n",
       "      <td>...</td>\n",
       "      <td>...</td>\n",
       "      <td>...</td>\n",
       "      <td>...</td>\n",
       "      <td>...</td>\n",
       "      <td>...</td>\n",
       "      <td>...</td>\n",
       "      <td>...</td>\n",
       "    </tr>\n",
       "    <tr>\n",
       "      <th>3190</th>\n",
       "      <td>9788_1_A</td>\n",
       "      <td>1006H6_20220204_20220320_Ti</td>\n",
       "      <td>Rautatientori</td>\n",
       "      <td>1</td>\n",
       "      <td>9788_20210816_2</td>\n",
       "      <td>9788_20220221_Ti_2_1518</td>\n",
       "      <td>1</td>\n",
       "      <td>2</td>\n",
       "      <td>9788</td>\n",
       "    </tr>\n",
       "    <tr>\n",
       "      <th>3191</th>\n",
       "      <td>9788_1_A</td>\n",
       "      <td>1006H6_20220204_20220320_Ti</td>\n",
       "      <td>Rautatientori</td>\n",
       "      <td>1</td>\n",
       "      <td>9788_20210816_2</td>\n",
       "      <td>9788_20220221_Ti_2_1617</td>\n",
       "      <td>1</td>\n",
       "      <td>2</td>\n",
       "      <td>9788</td>\n",
       "    </tr>\n",
       "    <tr>\n",
       "      <th>3192</th>\n",
       "      <td>9788K_0_A</td>\n",
       "      <td>1006H6_20220204_20220320_Ti</td>\n",
       "      <td>Porvoo</td>\n",
       "      <td>0</td>\n",
       "      <td>9788K_20210816_1</td>\n",
       "      <td>9788K_20220221_Ti_1_0715</td>\n",
       "      <td>1</td>\n",
       "      <td>2</td>\n",
       "      <td>9788K</td>\n",
       "    </tr>\n",
       "    <tr>\n",
       "      <th>3193</th>\n",
       "      <td>9788K_0_A</td>\n",
       "      <td>1006H6_20220204_20220320_Ti</td>\n",
       "      <td>Porvoo</td>\n",
       "      <td>0</td>\n",
       "      <td>9788K_20210816_1</td>\n",
       "      <td>9788K_20220221_Ti_1_1242</td>\n",
       "      <td>1</td>\n",
       "      <td>2</td>\n",
       "      <td>9788K</td>\n",
       "    </tr>\n",
       "    <tr>\n",
       "      <th>3194</th>\n",
       "      <td>9788K_1_A</td>\n",
       "      <td>1006H6_20220204_20220320_Ti</td>\n",
       "      <td>Rautatientori</td>\n",
       "      <td>1</td>\n",
       "      <td>9788K_20210816_2</td>\n",
       "      <td>9788K_20220221_Ti_2_1240</td>\n",
       "      <td>1</td>\n",
       "      <td>2</td>\n",
       "      <td>9788K</td>\n",
       "    </tr>\n",
       "  </tbody>\n",
       "</table>\n",
       "<p>3195 rows × 9 columns</p>\n",
       "</div>"
      ],
      "text/plain": [
       "       route_id                   service_id  trip_headsign  direction_id  \\\n",
       "0      1001_1_A  1006H6_20220204_20220320_Ti           Eira             1   \n",
       "1      1001_1_A  1006H6_20220204_20220320_Ti           Eira             1   \n",
       "2      1001_1_B  1006H6_20220204_20220320_Ti           Eira             1   \n",
       "3      1001_1_C  1006H6_20220204_20220320_Ti           Eira             1   \n",
       "4      1001_1_C  1006H6_20220204_20220320_Ti           Eira             1   \n",
       "...         ...                          ...            ...           ...   \n",
       "3190   9788_1_A  1006H6_20220204_20220320_Ti  Rautatientori             1   \n",
       "3191   9788_1_A  1006H6_20220204_20220320_Ti  Rautatientori             1   \n",
       "3192  9788K_0_A  1006H6_20220204_20220320_Ti         Porvoo             0   \n",
       "3193  9788K_0_A  1006H6_20220204_20220320_Ti         Porvoo             0   \n",
       "3194  9788K_1_A  1006H6_20220204_20220320_Ti  Rautatientori             1   \n",
       "\n",
       "               shape_id                    trip_id  wheelchair_accessible  \\\n",
       "0     1001 6_20211004_2  1001 6_20220204_Ti_2_0514                      1   \n",
       "1     1001 6_20211004_2  1001 6_20220204_Ti_2_0610                      1   \n",
       "2     1001 7_20210712_2  1001 7_20220204_Ti_2_0541                      1   \n",
       "3       1001_20211004_2    1001_20220204_Ti_2_0545                      1   \n",
       "4       1001_20211004_2    1001_20220204_Ti_2_0557                      1   \n",
       "...                 ...                        ...                    ...   \n",
       "3190    9788_20210816_2    9788_20220221_Ti_2_1518                      1   \n",
       "3191    9788_20210816_2    9788_20220221_Ti_2_1617                      1   \n",
       "3192   9788K_20210816_1   9788K_20220221_Ti_1_0715                      1   \n",
       "3193   9788K_20210816_1   9788K_20220221_Ti_1_1242                      1   \n",
       "3194   9788K_20210816_2   9788K_20220221_Ti_2_1240                      1   \n",
       "\n",
       "      bikes_allowed old_route_id  \n",
       "0                 2         1001  \n",
       "1                 2         1001  \n",
       "2                 2         1001  \n",
       "3                 2         1001  \n",
       "4                 2         1001  \n",
       "...             ...          ...  \n",
       "3190              2         9788  \n",
       "3191              2         9788  \n",
       "3192              2        9788K  \n",
       "3193              2        9788K  \n",
       "3194              2        9788K  \n",
       "\n",
       "[3195 rows x 9 columns]"
      ]
     },
     "execution_count": 258,
     "metadata": {},
     "output_type": "execute_result"
    }
   ],
   "source": [
    "trips_df"
   ]
  },
  {
   "cell_type": "code",
   "execution_count": 259,
   "metadata": {},
   "outputs": [],
   "source": [
    "# add first stop id to trips\n",
    "first_stop_times = (\n",
    "    stop_times_df.sort_values([\"trip_id\", \"stop_sequence\"])\n",
    "    .groupby(\"trip_id\")\n",
    "    .first()[[\"stop_id\", \"departure_time\"]]\n",
    "    .rename(\n",
    "        columns={\"stop_id\": \"first_stop_id\", \"departure_time\": \"trip_departure_time\"}\n",
    "    )\n",
    ")\n",
    "\n",
    "trips_df = trips_df.merge(\n",
    "    first_stop_times, left_on=\"trip_id\", right_index=True, how=\"left\"\n",
    ")\n"
   ]
  },
  {
   "cell_type": "code",
   "execution_count": 261,
   "metadata": {},
   "outputs": [
    {
     "data": {
      "text/html": [
       "<div>\n",
       "<style scoped>\n",
       "    .dataframe tbody tr th:only-of-type {\n",
       "        vertical-align: middle;\n",
       "    }\n",
       "\n",
       "    .dataframe tbody tr th {\n",
       "        vertical-align: top;\n",
       "    }\n",
       "\n",
       "    .dataframe thead th {\n",
       "        text-align: right;\n",
       "    }\n",
       "</style>\n",
       "<table border=\"1\" class=\"dataframe\">\n",
       "  <thead>\n",
       "    <tr style=\"text-align: right;\">\n",
       "      <th></th>\n",
       "      <th>trip_id</th>\n",
       "      <th>arrival_time</th>\n",
       "      <th>departure_time</th>\n",
       "      <th>stop_id</th>\n",
       "      <th>stop_sequence</th>\n",
       "      <th>stop_headsign</th>\n",
       "      <th>pickup_type</th>\n",
       "      <th>drop_off_type</th>\n",
       "      <th>shape_dist_traveled</th>\n",
       "      <th>timepoint</th>\n",
       "    </tr>\n",
       "  </thead>\n",
       "  <tbody>\n",
       "    <tr>\n",
       "      <th>0</th>\n",
       "      <td>1006H6_20220204_Ti_1_1846</td>\n",
       "      <td>18:46:00</td>\n",
       "      <td>18:46:00</td>\n",
       "      <td>1204401</td>\n",
       "      <td>1</td>\n",
       "      <td>Koskelan halli via Rautatieas.</td>\n",
       "      <td>NaN</td>\n",
       "      <td>1.0</td>\n",
       "      <td>0.000</td>\n",
       "      <td>NaN</td>\n",
       "    </tr>\n",
       "    <tr>\n",
       "      <th>1</th>\n",
       "      <td>1006H6_20220204_Ti_1_1846</td>\n",
       "      <td>18:48:00</td>\n",
       "      <td>18:48:00</td>\n",
       "      <td>1204403</td>\n",
       "      <td>2</td>\n",
       "      <td>Koskelan halli via Rautatieas.</td>\n",
       "      <td>NaN</td>\n",
       "      <td>NaN</td>\n",
       "      <td>0.524</td>\n",
       "      <td>0.0</td>\n",
       "    </tr>\n",
       "    <tr>\n",
       "      <th>2</th>\n",
       "      <td>1006H6_20220204_Ti_1_1846</td>\n",
       "      <td>18:49:00</td>\n",
       "      <td>18:49:00</td>\n",
       "      <td>1204405</td>\n",
       "      <td>3</td>\n",
       "      <td>Koskelan halli via Rautatieas.</td>\n",
       "      <td>NaN</td>\n",
       "      <td>NaN</td>\n",
       "      <td>0.854</td>\n",
       "      <td>0.0</td>\n",
       "    </tr>\n",
       "    <tr>\n",
       "      <th>3</th>\n",
       "      <td>1006H6_20220204_Ti_1_1846</td>\n",
       "      <td>18:50:00</td>\n",
       "      <td>18:50:00</td>\n",
       "      <td>1050432</td>\n",
       "      <td>4</td>\n",
       "      <td>Koskelan halli via Rautatieas.</td>\n",
       "      <td>NaN</td>\n",
       "      <td>NaN</td>\n",
       "      <td>1.270</td>\n",
       "      <td>0.0</td>\n",
       "    </tr>\n",
       "    <tr>\n",
       "      <th>4</th>\n",
       "      <td>1006H6_20220204_Ti_1_1846</td>\n",
       "      <td>18:52:00</td>\n",
       "      <td>18:52:00</td>\n",
       "      <td>1040440</td>\n",
       "      <td>5</td>\n",
       "      <td>Koskelan halli via Rautatieas.</td>\n",
       "      <td>NaN</td>\n",
       "      <td>NaN</td>\n",
       "      <td>1.538</td>\n",
       "      <td>0.0</td>\n",
       "    </tr>\n",
       "    <tr>\n",
       "      <th>...</th>\n",
       "      <td>...</td>\n",
       "      <td>...</td>\n",
       "      <td>...</td>\n",
       "      <td>...</td>\n",
       "      <td>...</td>\n",
       "      <td>...</td>\n",
       "      <td>...</td>\n",
       "      <td>...</td>\n",
       "      <td>...</td>\n",
       "      <td>...</td>\n",
       "    </tr>\n",
       "    <tr>\n",
       "      <th>62480</th>\n",
       "      <td>1701_20220204_Ti_2_1000_2</td>\n",
       "      <td>13:41:00</td>\n",
       "      <td>13:42:00</td>\n",
       "      <td>1383192</td>\n",
       "      <td>44</td>\n",
       "      <td>Viikki</td>\n",
       "      <td>NaN</td>\n",
       "      <td>NaN</td>\n",
       "      <td>16.236</td>\n",
       "      <td>NaN</td>\n",
       "    </tr>\n",
       "    <tr>\n",
       "      <th>62481</th>\n",
       "      <td>1701_20220204_Ti_2_1000_2</td>\n",
       "      <td>13:44:00</td>\n",
       "      <td>13:44:00</td>\n",
       "      <td>1361116</td>\n",
       "      <td>46</td>\n",
       "      <td>Viikki</td>\n",
       "      <td>NaN</td>\n",
       "      <td>NaN</td>\n",
       "      <td>17.142</td>\n",
       "      <td>0.0</td>\n",
       "    </tr>\n",
       "    <tr>\n",
       "      <th>62482</th>\n",
       "      <td>1701_20220204_Ti_2_1000_2</td>\n",
       "      <td>13:45:00</td>\n",
       "      <td>13:45:00</td>\n",
       "      <td>1361114</td>\n",
       "      <td>47</td>\n",
       "      <td>Viikki</td>\n",
       "      <td>NaN</td>\n",
       "      <td>NaN</td>\n",
       "      <td>17.575</td>\n",
       "      <td>0.0</td>\n",
       "    </tr>\n",
       "    <tr>\n",
       "      <th>62483</th>\n",
       "      <td>1701_20220204_Ti_2_1000_2</td>\n",
       "      <td>13:45:00</td>\n",
       "      <td>13:45:00</td>\n",
       "      <td>1361112</td>\n",
       "      <td>48</td>\n",
       "      <td>Viikki</td>\n",
       "      <td>NaN</td>\n",
       "      <td>NaN</td>\n",
       "      <td>17.785</td>\n",
       "      <td>0.0</td>\n",
       "    </tr>\n",
       "    <tr>\n",
       "      <th>62484</th>\n",
       "      <td>1701_20220204_Ti_2_1000_2</td>\n",
       "      <td>13:47:00</td>\n",
       "      <td>13:47:00</td>\n",
       "      <td>1361105</td>\n",
       "      <td>49</td>\n",
       "      <td>Viikki</td>\n",
       "      <td>NaN</td>\n",
       "      <td>NaN</td>\n",
       "      <td>18.753</td>\n",
       "      <td>0.0</td>\n",
       "    </tr>\n",
       "  </tbody>\n",
       "</table>\n",
       "<p>62485 rows × 10 columns</p>\n",
       "</div>"
      ],
      "text/plain": [
       "                         trip_id arrival_time departure_time  stop_id  \\\n",
       "0      1006H6_20220204_Ti_1_1846     18:46:00       18:46:00  1204401   \n",
       "1      1006H6_20220204_Ti_1_1846     18:48:00       18:48:00  1204403   \n",
       "2      1006H6_20220204_Ti_1_1846     18:49:00       18:49:00  1204405   \n",
       "3      1006H6_20220204_Ti_1_1846     18:50:00       18:50:00  1050432   \n",
       "4      1006H6_20220204_Ti_1_1846     18:52:00       18:52:00  1040440   \n",
       "...                          ...          ...            ...      ...   \n",
       "62480  1701_20220204_Ti_2_1000_2     13:41:00       13:42:00  1383192   \n",
       "62481  1701_20220204_Ti_2_1000_2     13:44:00       13:44:00  1361116   \n",
       "62482  1701_20220204_Ti_2_1000_2     13:45:00       13:45:00  1361114   \n",
       "62483  1701_20220204_Ti_2_1000_2     13:45:00       13:45:00  1361112   \n",
       "62484  1701_20220204_Ti_2_1000_2     13:47:00       13:47:00  1361105   \n",
       "\n",
       "       stop_sequence                   stop_headsign  pickup_type  \\\n",
       "0                  1  Koskelan halli via Rautatieas.          NaN   \n",
       "1                  2  Koskelan halli via Rautatieas.          NaN   \n",
       "2                  3  Koskelan halli via Rautatieas.          NaN   \n",
       "3                  4  Koskelan halli via Rautatieas.          NaN   \n",
       "4                  5  Koskelan halli via Rautatieas.          NaN   \n",
       "...              ...                             ...          ...   \n",
       "62480             44                          Viikki          NaN   \n",
       "62481             46                          Viikki          NaN   \n",
       "62482             47                          Viikki          NaN   \n",
       "62483             48                          Viikki          NaN   \n",
       "62484             49                          Viikki          NaN   \n",
       "\n",
       "       drop_off_type  shape_dist_traveled  timepoint  \n",
       "0                1.0                0.000        NaN  \n",
       "1                NaN                0.524        0.0  \n",
       "2                NaN                0.854        0.0  \n",
       "3                NaN                1.270        0.0  \n",
       "4                NaN                1.538        0.0  \n",
       "...              ...                  ...        ...  \n",
       "62480            NaN               16.236        NaN  \n",
       "62481            NaN               17.142        0.0  \n",
       "62482            NaN               17.575        0.0  \n",
       "62483            NaN               17.785        0.0  \n",
       "62484            NaN               18.753        0.0  \n",
       "\n",
       "[62485 rows x 10 columns]"
      ]
     },
     "execution_count": 261,
     "metadata": {},
     "output_type": "execute_result"
    }
   ],
   "source": [
    "stop_times_df"
   ]
  },
  {
   "attachments": {},
   "cell_type": "markdown",
   "metadata": {},
   "source": [
    "## Convert data from Dataframes into convenient data structures "
   ]
  },
  {
   "cell_type": "code",
   "execution_count": 264,
   "metadata": {},
   "outputs": [],
   "source": [
    "# testing\n",
    "trips_df = pd.read_csv(\"./tmp/trips.csv\")\n",
    "stop_times_df = pd.read_csv(\"./tmp/stop_times.csv\")"
   ]
  },
  {
   "cell_type": "code",
   "execution_count": 266,
   "metadata": {},
   "outputs": [],
   "source": [
    "routes_by_stop = {} # l.12\n",
    "stops_by_route = {} # atm we don't need the stop sequence\n",
    "stops_by_route_dict = {} # l. 14\n",
    "\n",
    "stop_times_by_trips_by_route = {}\n",
    "stop_times_by_trip = {} # atm not needed in this form\n",
    "times_by_stop_by_trip = {} # l. 24\n",
    "\n",
    "trip_by_route = {} # trips ordered by first departure time\n",
    "footpaths_by_route = {} # l. 35"
   ]
  },
  {
   "cell_type": "code",
   "execution_count": 267,
   "metadata": {},
   "outputs": [],
   "source": [
    "stop_times_by_trip_df = stop_times_df.groupby(\"trip_id\").apply(lambda x: x.sort_values(\"stop_sequence\"))[\n",
    "    [\"arrival_time\", \"departure_time\", \"stop_id\", \"stop_sequence\"]\n",
    "]\n",
    "for (trip_id, _), data in stop_times_by_trip_df.to_dict('index').items():\n",
    "    stop_times = stop_times_by_trip.get(trip_id, [])\n",
    "    stop_times.append(data)\n",
    "    stop_times_by_trip[trip_id] = stop_times"
   ]
  },
  {
   "cell_type": "code",
   "execution_count": 268,
   "metadata": {},
   "outputs": [],
   "source": [
    "# stop_id_set = set(stops_df['stop_id']) # we define the stop_id_set later, not through stops_df but rather through actually used stops\n",
    "route_id_set = set(trips_df['route_id'])\n",
    "trip_id_set = set(trips_df['trip_id'])"
   ]
  },
  {
   "cell_type": "code",
   "execution_count": 292,
   "metadata": {},
   "outputs": [],
   "source": [
    "trip_ids_by_route = (\n",
    "    trips_df.groupby(\"route_id\")[\"trip_id\"]\n",
    "    .apply(lambda x: x.tolist())\n",
    "    .to_dict()\n",
    ")"
   ]
  },
  {
   "cell_type": "code",
   "execution_count": 270,
   "metadata": {},
   "outputs": [],
   "source": [
    "for route_id, trip_ids in trip_ids_by_route.items():\n",
    "\tstops_ordered = []\n",
    "\tstops = set() # we only need the ordered stops, but use the set to check for duplicates\n",
    "\tfor trip_id in trip_ids:\n",
    "\t\ttrip_stop_times = stop_times_by_trip[trip_id]\n",
    "\n",
    "\t\tstop_times_by_trip_dict = stop_times_by_trips_by_route.get(route_id, {})\n",
    "\t\tstop_times_by_trip_dict[trip_id] = trip_stop_times\n",
    "\t\tstop_times_by_trips_by_route[route_id] = stop_times_by_trip_dict\n",
    "\n",
    "\t\tfor stop_time in trip_stop_times:\n",
    "\t\t\tstop_in_route = (stop_time['stop_id'], stop_time['stop_sequence'])\n",
    "\t\t\tif stop_in_route not in stops:\n",
    "\t\t\t\tstops_ordered.append(stop_in_route)\n",
    "\t\t\t\tstops.add(stop_in_route)\n",
    "\n",
    "\tstops_by_route[route_id] = stops_ordered"
   ]
  },
  {
   "cell_type": "code",
   "execution_count": 271,
   "metadata": {},
   "outputs": [],
   "source": [
    "# inverse routes_by_stop\n",
    "routes_by_stop = {}\n",
    "for route_id, stops in stops_by_route.items():\n",
    "\tfor (stop,_) in stops:\n",
    "\t\troutes = routes_by_stop.get(stop, [])\n",
    "\t\troutes.append(route_id)\n",
    "\t\troutes_by_stop[stop] = routes\n",
    "\n",
    "\n",
    "def get_routes_serving_stop(stop_id):\n",
    "\treturn routes_by_stop[stop_id]"
   ]
  },
  {
   "cell_type": "code",
   "execution_count": 272,
   "metadata": {},
   "outputs": [],
   "source": [
    "stop_id_set = set(routes_by_stop.keys()) # only use stops that are actually used\n",
    "stops_df = stops_df[stops_df['stop_id'].isin(stop_id_set)] # we use stops_df later, so we need to filter it here"
   ]
  },
  {
   "cell_type": "code",
   "execution_count": 293,
   "metadata": {},
   "outputs": [],
   "source": [
    "# if we have route and stop, we fastly want to access the stop_sequence\n",
    "stops_by_route_dict = {\n",
    "    k: {stop: stop_seq for (stop, stop_seq) in (v)} for k, v in stops_by_route.items()\n",
    "}\n",
    "\n",
    "def get_idx_of_stop_in_route(stop_id, route_id):\n",
    "    return stops_by_route_dict[route_id][stop_id]"
   ]
  },
  {
   "cell_type": "code",
   "execution_count": 274,
   "metadata": {},
   "outputs": [],
   "source": [
    "def str_time_to_seconds(str_time: str) -> int:\n",
    "    hours, minutes, seconds = map(int, str_time.split(\":\"))\n",
    "    total_seconds = hours * 3600 + minutes * 60 + seconds\n",
    "    return total_seconds"
   ]
  },
  {
   "cell_type": "code",
   "execution_count": 275,
   "metadata": {},
   "outputs": [],
   "source": [
    "def seconds_to_str_time(seconds: int) -> str:\n",
    "    hours = seconds // 3600\n",
    "    minutes = (seconds - hours * 3600) // 60\n",
    "    seconds = seconds - hours * 3600 - minutes * 60\n",
    "    return f\"{hours:02}:{minutes:02}:{seconds:02}\""
   ]
  },
  {
   "cell_type": "code",
   "execution_count": 276,
   "metadata": {},
   "outputs": [],
   "source": [
    "times_by_stop_by_trip = {\n",
    "    trip_id: {\n",
    "        stop[\"stop_id\"]: (\n",
    "            str_time_to_seconds(stop[\"arrival_time\"]),\n",
    "            str_time_to_seconds(stop[\"departure_time\"]),\n",
    "        )\n",
    "        for stop in stops\n",
    "    }\n",
    "    for (trip_id, stops) in stop_times_by_trip.items()\n",
    "}\n",
    "\n",
    "\n",
    "def get_arrival_time(trip_id: str, stop_id: str) -> int:\n",
    "    assert trip_id is not None\n",
    "    assert stop_id is not None\n",
    "\n",
    "    arrival_time = times_by_stop_by_trip[trip_id][stop_id][0]\n",
    "    assert type(arrival_time) == int\n",
    "    return arrival_time\n",
    "\n",
    "\n",
    "\n",
    "def get_departure_time(trip_id: str, stop_id: str) -> int:\n",
    "    assert stop_id is not None\n",
    "\n",
    "    if trip_id is None:\n",
    "        return sys.maxsize\n",
    "\n",
    "    departure_time = times_by_stop_by_trip[trip_id][stop_id][1]\n",
    "    assert type(departure_time) == int\n",
    "    return departure_time\n"
   ]
  },
  {
   "cell_type": "code",
   "execution_count": 297,
   "metadata": {},
   "outputs": [],
   "source": [
    "trip_by_route = {}  # trips ordered by first departure time\n",
    "trip_by_route = (\n",
    "    trips_df.sort_values([\"route_id\", \"trip_departure_time\"])\n",
    "    .groupby(\"route_id\")[\"trip_id\"]\n",
    "    .apply(list)\n",
    "    .to_dict()\n",
    ")\n"
   ]
  },
  {
   "attachments": {},
   "cell_type": "markdown",
   "metadata": {},
   "source": [
    "## Calculate footpath durations"
   ]
  },
  {
   "cell_type": "code",
   "execution_count": 278,
   "metadata": {},
   "outputs": [],
   "source": [
    "from pyrosm.data import sources, get_data\n",
    "import shutil\n",
    "import os\n",
    "\n",
    "city = \"Helsinki\"\n",
    "path = f\"./osm/{city}.pbf\"\n",
    "\n",
    "if not os.path.exists(path):\n",
    "\tfp = get_data(city, update=True)\n",
    "\tos.makedirs(\"./osm\", exist_ok=True)\n",
    "\tshutil.move(fp, path)"
   ]
  },
  {
   "cell_type": "code",
   "execution_count": 25,
   "metadata": {},
   "outputs": [],
   "source": [
    "import pyrosm\n",
    "\n",
    "osm = pyrosm.OSM(path)\n",
    "\n",
    "nodes, edges = osm.get_network(nodes=True, network_type=\"walking\")"
   ]
  },
  {
   "cell_type": "code",
   "execution_count": 26,
   "metadata": {},
   "outputs": [],
   "source": [
    "import geopandas as gpd\n",
    "from shapely.geometry import MultiPoint\n",
    "\n",
    "def trim_osm_to_stops(nodes: gpd.GeoDataFrame, edges: gpd.GeoDataFrame, stops_df: gpd.GeoDataFrame):\n",
    "\tcombined_geometry = MultiPoint(stops_df.geometry.tolist())\n",
    "\tconvex_hull = combined_geometry.convex_hull\n",
    "\tzone_of_interest = convex_hull.buffer(0.01)\n",
    "\n",
    "\tn_nodes_before = len(nodes)\n",
    "\tn_edges_before = len(edges)\n",
    "\n",
    "\tnodes = nodes.loc[nodes.geometry.within(zone_of_interest), :]\n",
    "\tedges = edges.loc[edges.u.isin(nodes.id) & edges.v.isin(nodes.id), :]\n",
    "\tprint(f\"\"\"\n",
    "\t{len(nodes)}/{n_nodes_before} ({len(nodes)/n_nodes_before*100:.2f}%) nodes remaining\n",
    "\t{len(edges)}/{n_edges_before} ({len(edges)/n_edges_before*100:.2f}%) edges remaining\n",
    "\t\"\"\")\n",
    "\n",
    "\treturn nodes, edges"
   ]
  },
  {
   "cell_type": "code",
   "execution_count": 27,
   "metadata": {},
   "outputs": [],
   "source": [
    "stops_gdf = gpd.GeoDataFrame(\n",
    "\tstops_df, geometry=gpd.points_from_xy(stops_df.stop_lon, stops_df.stop_lat)\n",
    ")"
   ]
  },
  {
   "cell_type": "code",
   "execution_count": 28,
   "metadata": {},
   "outputs": [
    {
     "name": "stdout",
     "output_type": "stream",
     "text": [
      "\n",
      "\t255110/973995 (26.19%) nodes remaining\n",
      "\t293374/1095796 (26.77%) edges remaining\n",
      "\t\n"
     ]
    }
   ],
   "source": [
    "nodes, edges = trim_osm_to_stops(nodes, edges, stops_gdf)"
   ]
  },
  {
   "cell_type": "code",
   "execution_count": 29,
   "metadata": {},
   "outputs": [],
   "source": [
    "G_nx = osm.to_graph(nodes, edges, graph_type=\"networkx\")\n",
    "G_i_graph = osm.to_graph(nodes, edges, graph_type=\"igraph\")"
   ]
  },
  {
   "cell_type": "code",
   "execution_count": 30,
   "metadata": {},
   "outputs": [],
   "source": [
    "import osmnx as ox\n",
    "import networkx as nx"
   ]
  },
  {
   "cell_type": "code",
   "execution_count": 31,
   "metadata": {},
   "outputs": [
    {
     "data": {
      "text/html": [
       "<div>\n",
       "<style scoped>\n",
       "    .dataframe tbody tr th:only-of-type {\n",
       "        vertical-align: middle;\n",
       "    }\n",
       "\n",
       "    .dataframe tbody tr th {\n",
       "        vertical-align: top;\n",
       "    }\n",
       "\n",
       "    .dataframe thead th {\n",
       "        text-align: right;\n",
       "    }\n",
       "</style>\n",
       "<table border=\"1\" class=\"dataframe\">\n",
       "  <thead>\n",
       "    <tr style=\"text-align: right;\">\n",
       "      <th></th>\n",
       "      <th>stop_id</th>\n",
       "      <th>stop_lat</th>\n",
       "      <th>stop_lon</th>\n",
       "      <th>nearest_node</th>\n",
       "      <th>nearest_node_dist</th>\n",
       "    </tr>\n",
       "  </thead>\n",
       "  <tbody>\n",
       "    <tr>\n",
       "      <th>0</th>\n",
       "      <td>1240134</td>\n",
       "      <td>60.20583</td>\n",
       "      <td>24.96293</td>\n",
       "      <td>5826933348</td>\n",
       "      <td>0.762623</td>\n",
       "    </tr>\n",
       "    <tr>\n",
       "      <th>1</th>\n",
       "      <td>1240133</td>\n",
       "      <td>60.20488</td>\n",
       "      <td>24.96385</td>\n",
       "      <td>772801262</td>\n",
       "      <td>4.249293</td>\n",
       "    </tr>\n",
       "  </tbody>\n",
       "</table>\n",
       "</div>"
      ],
      "text/plain": [
       "   stop_id  stop_lat  stop_lon  nearest_node  nearest_node_dist\n",
       "0  1240134  60.20583  24.96293    5826933348           0.762623\n",
       "1  1240133  60.20488  24.96385     772801262           4.249293"
      ]
     },
     "execution_count": 31,
     "metadata": {},
     "output_type": "execute_result"
    }
   ],
   "source": [
    "stop_ids_df = stops_df[[\"stop_id\", \"stop_lat\", \"stop_lon\"]].copy()\n",
    "nodes, dists = ox.nearest_nodes(\n",
    "    G_nx, stop_ids_df.stop_lon, stop_ids_df.stop_lat, return_dist=True\n",
    ")\n",
    "stop_ids_df[\"nearest_node\"] = nodes\n",
    "stop_ids_df[\"nearest_node_dist\"] = dists\n",
    "stop_ids_df.head(2)"
   ]
  },
  {
   "cell_type": "code",
   "execution_count": 32,
   "metadata": {},
   "outputs": [
    {
     "name": "stdout",
     "output_type": "stream",
     "text": [
      "47.29024306378295\n"
     ]
    }
   ],
   "source": [
    "print(stop_ids_df.nearest_node_dist.max())"
   ]
  },
  {
   "cell_type": "code",
   "execution_count": 33,
   "metadata": {},
   "outputs": [],
   "source": [
    "stop_ids_df.to_csv(\"stop_ids_near_nodes.csv\", index=False)"
   ]
  },
  {
   "cell_type": "code",
   "execution_count": 34,
   "metadata": {},
   "outputs": [],
   "source": [
    "stop_ids_gdf = gpd.GeoDataFrame(\n",
    "    stop_ids_df,\n",
    "    geometry=gpd.points_from_xy(stop_ids_df.stop_lon, stop_ids_df.stop_lat),\n",
    "    crs=\"epsg:4326\",\n",
    ").to_crs(\"EPSG:32634\")\n",
    "# find stops that are within max_walking_distance beeline distance from each other\n",
    "avg_walk_speed = 1.4  # m/s\n",
    "max_walking_duration = 10 * 60  # seconds\n",
    "max_walking_distance = avg_walk_speed * max_walking_duration\n",
    "max_walking_distance\n",
    "\n",
    "nearby_stops_map = {}\n",
    "for i, row in stop_ids_gdf.iterrows():\n",
    "    nearby_stops = stop_ids_gdf[\n",
    "        stop_ids_gdf.geometry.distance(row.geometry) < max_walking_distance\n",
    "    ].stop_id.tolist()\n",
    "    # remove self\n",
    "    nearby_stops = [stop_id for stop_id in nearby_stops if stop_id != row.stop_id]\n",
    "    nearby_stops_map[row.stop_id] = nearby_stops"
   ]
  },
  {
   "cell_type": "code",
   "execution_count": 35,
   "metadata": {},
   "outputs": [],
   "source": [
    "node_id_to_g_igraph_node_id_map = {\n",
    "    node.attributes()[\"id\"]: node.attributes()[\"node_id\"]\n",
    "    for node in G_i_graph.vs\n",
    "}"
   ]
  },
  {
   "cell_type": "code",
   "execution_count": 36,
   "metadata": {},
   "outputs": [],
   "source": [
    "def get_shortest_path_length_igraph(s_node_id, t_node_id):\n",
    "    paths = G_i_graph.get_shortest_paths(\n",
    "        node_id_to_g_igraph_node_id_map[s_node_id],\n",
    "        node_id_to_g_igraph_node_id_map[t_node_id],\n",
    "        weights=\"length\",\n",
    "        output=\"epath\",\n",
    "    )\n",
    "    path = paths[0]\n",
    "    return sum(G_i_graph.es[epath][\"length\"] for epath in path)"
   ]
  },
  {
   "cell_type": "code",
   "execution_count": 37,
   "metadata": {},
   "outputs": [],
   "source": [
    "nearest_node_dict = stop_ids_gdf.set_index(\"stop_id\")[\"nearest_node\"].to_dict()"
   ]
  },
  {
   "cell_type": "code",
   "execution_count": 38,
   "metadata": {},
   "outputs": [
    {
     "data": {
      "application/vnd.jupyter.widget-view+json": {
       "model_id": "8817f3eb986c4db5ad4bc19747dd0719",
       "version_major": 2,
       "version_minor": 0
      },
      "text/plain": [
       "  0%|          | 0/1388 [00:00<?, ?it/s]"
      ]
     },
     "metadata": {},
     "output_type": "display_data"
    }
   ],
   "source": [
    "from tqdm.notebook import tqdm\n",
    "from tqdm.contrib.concurrent import process_map\n",
    "\n",
    "nearby_stops_with_distance_map = {}\n",
    "\n",
    "\n",
    "def ge(source_stop, nearby_stops):\n",
    "    return {\n",
    "        target_stop: get_shortest_path_length_igraph(\n",
    "            nearest_node_dict[source_stop], nearest_node_dict[target_stop]\n",
    "        )\n",
    "        for target_stop in nearby_stops\n",
    "    }\n",
    "\n",
    "\n",
    "sources = nearby_stops_map.keys()\n",
    "res = process_map(\n",
    "    ge, sources, nearby_stops_map.values(), chunksize=5, max_workers=12\n",
    ")\n",
    "\n",
    "for source_stop, nearby_stops_with_distance in zip(sources, res):\n",
    "\tnearby_stops_with_distance_map[source_stop] = nearby_stops_with_distance\n",
    "\n",
    "\n",
    "# for source_stop, nearby_stops in tqdm(nearby_stops_map.items()):\n",
    "# \tnearby_stops_with_distance_map[source_stop] = {\n",
    "# \t\ttarget_stop: get_shortest_path_length_igraph(\n",
    "# \t\t\tnearest_node_dict[source_stop], nearest_node_dict[target_stop]\n",
    "# \t\t)\n",
    "# \t\tfor target_stop in nearby_stops\n",
    "# \t}\n"
   ]
  },
  {
   "cell_type": "code",
   "execution_count": 39,
   "metadata": {},
   "outputs": [],
   "source": [
    "nearby_stop_with_walking_time_map = {}\n",
    "for source_stop, nearby_stops_with_distance in nearby_stops_with_distance_map.items():\n",
    "    \tnearby_stop_with_walking_time_map[source_stop] = {\n",
    "\t\ttarget_stop: distance / avg_walk_speed\n",
    "\t\tfor target_stop, distance in nearby_stops_with_distance.items()\n",
    "\t}"
   ]
  },
  {
   "attachments": {},
   "cell_type": "markdown",
   "metadata": {},
   "source": [
    "# Algorithm"
   ]
  },
  {
   "cell_type": "code",
   "execution_count": 40,
   "metadata": {},
   "outputs": [],
   "source": [
    "import sys"
   ]
  },
  {
   "attachments": {},
   "cell_type": "markdown",
   "metadata": {},
   "source": [
    "### Helpers"
   ]
  },
  {
   "cell_type": "code",
   "execution_count": 41,
   "metadata": {},
   "outputs": [],
   "source": [
    "def earliest_trip(route_id: str, stop_id: str, arrival_time: int, change_time: int):\n",
    "    trip_ids = trip_by_route[route_id]\n",
    "    for trip_id in trip_ids:\n",
    "        if get_departure_time(trip_id, stop_id) >= arrival_time + change_time:\n",
    "            return trip_id"
   ]
  },
  {
   "attachments": {},
   "cell_type": "markdown",
   "metadata": {},
   "source": [
    "### Assertions"
   ]
  },
  {
   "cell_type": "code",
   "execution_count": null,
   "metadata": {},
   "outputs": [],
   "source": [
    "for stop_id, nearby_stops_with_time in nearby_stop_with_walking_time_map.items():\n",
    "\tfor nearby_stop_id, walking_time in nearby_stops_with_time.items():\n",
    "\t\tassert type(walking_time) == int, f\"walking_time is not int: {walking_time}\""
   ]
  },
  {
   "attachments": {},
   "cell_type": "markdown",
   "metadata": {},
   "source": [
    "### Config"
   ]
  },
  {
   "cell_type": "code",
   "execution_count": 214,
   "metadata": {},
   "outputs": [],
   "source": [
    "MAX_TRANSFERS = 8\n",
    "DEFAULT_TRANSFER_TIME = 60 # seconds\n",
    "\n",
    "start_stop_id = 1040409\n",
    "end_stop_id = 1361117\n",
    "\n",
    "start_time = str_time_to_seconds(\"15:00:00\")"
   ]
  },
  {
   "attachments": {},
   "cell_type": "markdown",
   "metadata": {},
   "source": [
    "### Algorithm"
   ]
  },
  {
   "cell_type": "code",
   "execution_count": 215,
   "metadata": {},
   "outputs": [],
   "source": [
    "# only needed once\n",
    "\n",
    "# nearby_stop_with_walking_time_map\n",
    "# # filter out stops that are not in stop_id_set\n",
    "# nearby_stop_with_walking_time_map = {\n",
    "#     source_stop: {\n",
    "#         target_stop: int(walking_time)\n",
    "#         for target_stop, walking_time in nearby_stops_with_walking_time.items()\n",
    "#         if target_stop in stop_id_set and source_stop in stop_id_set\n",
    "#     }\n",
    "#     for source_stop, nearby_stops_with_walking_time in nearby_stop_with_walking_time_map.items()\n",
    "# }\n"
   ]
  },
  {
   "cell_type": "code",
   "execution_count": 216,
   "metadata": {},
   "outputs": [
    {
     "name": "stdout",
     "output_type": "stream",
     "text": [
      "{'1007_1_A': 1040409, '1007_1_B': 1040409, '1009_1_A': 1040409, '1009_1_B': 1040409}\n",
      "{'1021N_1_A': 1201132, '1024_1_A': 1130183, '1025_1_A': 1130119, '1037_1_A': 1130139, '1041_1_A': 1130139, '1042_1_A': 1130139, '1069_1_A': 1130139, '1070_1_A': 1130139, '2108N_1_A': 1130139, '1021N_0_A': 1040117, '1020_0_A': 1050106, '1030_0_A': 1050106, '1001H_0_A': 1050417, '1001H_0_B': 1050417, '1001_0_B': 1050417, '1003H_0_A': 1050413, '1003_0_A': 1050413, '1006H_0_A': 1204401, '1006_0_B': 1204401, '1022_0_A': 1050105, '1022_1_A': 1201132, '1007_1_A': 1040411, '1007_1_B': 1040411, '1009_1_A': 1040411, '1009_1_B': 1040411, '1007H_0_A': 1203418, '1007_0_B': 1203418, '1009H_0_A': 1203416, '1009_0_A': 1203416, '1001_1_A': 1130439, '1001_1_B': 1130439, '1001_1_C': 1130439, '1002_1_A': 1130439, '1002_1_B': 1130439, '1002_1_C': 1130439, '1004S_1_A': 1020443, '1004_1_A': 1020443, '1004_1_B': 1020443, '1004_1_C': 1020443, '1005_1_A': 1020443, '1010_1_A': 1020443, '1010_1_B': 1020443, '1010_1_C': 1020443, '1002H_0_A': 1020444, '1002H_0_B': 1020444, '1002_0_B': 1020444, '1004H_0_A': 1020444, '1004H_0_B': 1020444, '1004S_0_A': 1020444, '1004_0_C': 1020444, '1005H_0_A': 1020444, '1010H_0_A': 1020444, '1010H_0_B': 1020444, '1010_0_B': 1020444, '1008H_0_A': 1203404, '1008_0_B': 1203404, '1008_1_A': 1130447, '1008_1_B': 1130447, '1020_1_A': 1130139, '1030_1_A': 1130139, '1003_1_A': 1040438, '1003_1_B': 1040438, '1003_1_C': 1040438, '1006_1_A': 1040438, '1006_1_B': 1040438, '2113N_0_A': 1040276, '2114N_0_A': 1040276, '2118N_0_A': 1040277, '2125N_0_A': 1040278, '2134N_0_A': 1040279, '2143A_0_A': 1040280, '2146A_0_A': 1040281, '2146N_0_A': 1040280, '2147A_0_A': 1040280, '2147N_0_A': 1040281, '2164A_0_A': 1040282, '2164VA_0_A': 1040282, '2165N_0_A': 1040280, '6173N_0_A': 1040282, '7192V_0_A': 1040291, '7192_0_A': 1040291, '1021_0_A': 1040278, '2112N_0_A': 1040273, '7192T_0_A': 1040291, '1021_1_A': 1201132, '2112N_1_A': 1201132, '2113N_1_A': 1201130, '2114N_1_A': 1201130, '2118N_1_A': 1201130, '2125N_1_A': 1201130, '2134N_1_A': 1201130, '2143A_1_A': 1201130, '2146A_1_A': 1201130, '2146N_1_A': 1201130, '2147A_1_A': 1201130, '2147N_1_A': 1201130, '2164A_1_A': 1201130, '2164VA_1_A': 1201130, '2165N_1_A': 1201130, '6173N_1_A': 1201130, '7192T_1_A': 1201132, '7192V_1_A': 1201130, '7192_1_A': 1201130, '1037_0_A': 1040271, '1041_0_A': 1040272, '1042_0_A': 1040273, '1069_0_A': 1040275, '1070_0_A': 1040276, '2108N_0_A': 1040275, '1063_1_A': 1130113, '2212_1_A': 1130113, '2213N_1_A': 1130113, '2213_1_A': 1130113, '1024_0_A': 1040277, '1025_0_A': 1040277, '1063_0_A': 1040274, '2212_0_A': 1040279, '2213N_0_A': 1040279, '2213_0_A': 1040279, '7280_1_A': 1040290, '7346_1_A': 1040290, '7455A_1_A': 1040290, '7455_1_A': 1040290, '7456A_1_A': 1040290, '7456_1_A': 1040290, '7457A_1_A': 1040290, '7457_1_A': 1040290, '7459_1_A': 1040290, '7465B_1_A': 1040290, '7465_1_A': 1040290, '7848_1_A': 1040290, '7280_0_A': 1040291, '7346_0_A': 1040291, '7453_0_A': 1040291, '7455A_0_A': 1040291, '7455_0_A': 1040291, '7456A_0_A': 1040291, '7457_0_A': 1040291, '7459_0_A': 1040291, '7465B_0_A': 1040291, '7465_0_A': 1040291, '7848_0_A': 1040291, '31M1_0_A': 1201601, '31M2_0_A': 1201601, '31M1_1_A': 1040602, '31M2M_1_A': 1040602, '31M2_1_A': 1040602, '1015_0_A': 1201107, '1015_1_A': 1201132}\n",
      "{'1002H_1_A': 1174410, '1002_1_C': 1174410, '1002_0_A': 1140438, '1002_0_B': 1090416, '1037_1_A': 1333185, '2321_1_A': 1320120, '2345N_1_A': 1320120, '2345_1_A': 1320120, '4322_1_A': 1320120, '4332_1_A': 1320120, '7346_1_A': 1320120, '1023_1_A': 1281192, '1063_1_A': 1351112, '1023_0_A': 1020116, '1063_0_A': 1130111, '1056_1_A': 1331156, '1056_0_A': 1100106, '1053_1_A': 1463116, '2550_1_A': 1465100, '1603_1_A': 1351112, '1001H_0_A': 1050416, '1001H_0_B': 1050416, '1001_0_B': 1050416, '1003H_0_A': 1090415, '1003_0_A': 1090415, '1006H_0_A': 1040437, '1006_0_B': 1040437, '1066_1_A': 1351115, '1067_1_A': 1351110, '2553K_1_A': 1465100, '2553_1_A': 1463226, '1066_0_A': 1020122, '1067N_0_A': 1020122, '1067_0_A': 1020122, '1603_0_A': 1382119, '2550_0_A': 1260110, '2553K_0_A': 1382119, '2553_0_A': 1382119, '1001_1_A': 1240403, '1001_1_B': 1140437, '1001_1_C': 1250431, '1003_1_A': 1140438, '1003_1_B': 1240403, '1003_1_C': 1180444, '1006_1_A': 1240403, '1006_1_B': 1230407, '1053_0_A': 1232102, '1009_1_B': 1220434, '1006H_1_A': 1230407, '1008H_1_A': 1230407, '1008_1_B': 1230407, '1002_1_B': 1240403, '1004_0_B': 1240403, '1004_1_B': 1240403, '1008_1_A': 1240403, '1010_1_B': 1240403, '3001I_0_A': 1020503, '1061N_0_A': 1020123, '1061T_0_A': 1020123, '1061_0_A': 1020123, '1064_0_A': 1020123, '1065_0_A': 1020122, '1071_0_A': 1020113, '1073N_0_A': 1020117, '1074N_0_A': 1020117, '1075_0_A': 1020117, '1077N_0_A': 1020113, '1077_0_A': 1020120, '1078N_0_A': 1020113, '1078_0_A': 1020113, '1079N_0_A': 1020117, '1085N_0_A': 1020123, '1086N_0_A': 1020123, '1087N_0_A': 1020123, '1090A_0_A': 1020122, '1090N_0_A': 1020122, '1092N_0_A': 1020120, '1094N_0_A': 1020120, '1095N_0_A': 1020120, '1096N_0_A': 1020122, '1097N_0_A': 1020120, '1016_1_A': 1100107, '1055_1_A': 1260108, '1061N_1_A': 1370112, '1061T_1_A': 1370112, '1061_1_A': 1370112, '1064_1_A': 1342116, '1065_1_A': 1285166, '1071_1_A': 1382119, '1073N_1_A': 1240123, '1074N_1_A': 1240123, '1075_1_A': 1240123, '1077N_1_A': 1382119, '1077_1_A': 1240123, '1078N_1_A': 1270105, '1078_1_A': 1270107, '1079N_1_A': 1240123, '1085N_1_A': 1100107, '1086N_1_A': 1100107, '1087N_1_A': 1100107, '1090A_1_A': 1100107, '1090N_1_A': 1100107, '1092N_1_A': 1100107, '1094N_1_A': 1100107, '1095N_1_A': 1100107, '1096N_1_A': 1100107, '1097N_1_A': 1100107, '1016_0_A': 1020112, '4721N_0_A': 1020115, '4731N_0_A': 1020115, '4739_0_A': 1020115, '9785K_0_A': 1020115, '9785_0_A': 1020115, '9787A_0_A': 1020115, '9787K_0_A': 1020115, '9787_0_A': 1020115, '9788K_0_A': 1020115, '9788_0_A': 1020115, '4717K_0_A': 1020117, '4717N_0_A': 1020117, '4717_0_A': 1020117, '4718A_0_A': 1020117, '4718_0_A': 1020117, '4614_0_A': 1020119, '4615_0_A': 1020119, '4617_0_A': 1020119, '4611B_0_A': 1020120, '4611_0_A': 1020120, '3002P_0_A': 1020502, '1040_1_A': 1331108, '2200_1_A': 1465100, '2231N_1_A': 1465100, '2235N_1_A': 1465100, '2435_1_A': 1332114, '2436K_1_A': 1332114, '2436N_1_A': 1334123, '2436_1_A': 1332114, '4411_1_A': 1332114, '4415N_1_A': 1332114, '4415_1_A': 1332114, '4421_1_A': 1332114, '4431N_1_A': 1332114, '4431_1_A': 1332114, '1040_0_A': 1020130, '2200_0_A': 1020131, '2231N_0_A': 1020131, '2235N_0_A': 1020131, '4322_0_A': 1020132, '4332_0_A': 1020133, '2345N_0_A': 1020135, '2345_0_A': 1020135, '1001_0_A': 1240403, '1007_0_A': 1240403, '1007_1_A': 1240403, '1009_1_A': 1240403, '1055_0_A': 1020182, '1021N_0_A': 1020171, '1021N_1_A': 1310121, '4611B_1_A': 1342299, '4611_1_A': 1342299, '4614_1_A': 1342299, '4615_1_A': 1342299, '4617_1_A': 1342299, '4717K_1_A': 1240123, '4717N_1_A': 1240123, '4717_1_A': 1240123, '4718A_1_A': 1240123, '4718_1_A': 1240123, '4721N_1_A': 1240123, '4731N_1_A': 1240123, '4739_1_A': 1240123, '9633N_1_A': 1342299, '9785K_1_A': 1240123, '9785_1_A': 1240123, '9787A_1_A': 1240123, '9787K_1_A': 1240123, '9787_1_A': 1240123, '9788K_1_A': 1240123, '9788_1_A': 1240123, '9633N_0_A': 1020204, '1001H_1_A': 1250431, '1007H_1_A': 1174402, '1007_1_B': 1174402, '2321N_0_A': 1020239, '2321_0_A': 1020239, '4411_0_A': 1020241, '4421_0_A': 1020241, '2435_0_A': 1020243, '2436K_0_A': 1020243, '2436N_0_A': 1020243, '2436_0_A': 1020243, '4415N_0_A': 1020245, '4415_0_A': 1020245, '4431N_0_A': 1020245, '4431_0_A': 1020245, '1506_0_A': 1270105, '1506_1_A': 1160113, '1057_1_A': 1301149, '1057_0_A': 1270107, '1036_0_A': 1320127, '1042_1_A': 1331156, '1052_1_A': 1302219, '1004H_0_A': 1080416, '1004H_0_B': 1080416, '1004_0_C': 1080416, '1005H_0_A': 1080413, '1005_0_A': 1080413, '1037_0_A': 1130103, '7455A_1_A': 1332114, '7455_1_A': 1332114, '7456A_1_A': 1332114, '7456_1_A': 1332114, '7457A_1_A': 1332114, '7457_1_A': 1332114, '7459_1_A': 1332114, '7465B_1_A': 1332114, '7465_1_A': 1332114, '1069_1_A': 1370119, '1500_0_A': 1100159, '2510_0_A': 1100159, '7848_1_A': 1260102, '1005_1_A': 1140437, '1005_1_B': 1020453, '1007H_0_A': 1020453, '1007_0_B': 1020453, '1002_1_A': 1140437, '1004S_1_A': 1140437, '1004_1_A': 1140437, '1004_1_C': 1301456, '1002H_0_A': 1090416, '1002H_0_B': 1090416, '1004S_0_A': 1030423, '1009H_0_A': 1020453, '1009_0_A': 1020453, '1041_0_A': 1130103, '1042_0_A': 1130103, '7346_0_A': 1130206, '7453_0_A': 1130206, '7455A_0_A': 1130206, '7455_0_A': 1130206, '7456A_0_A': 1130206, '7457_0_A': 1130206, '7459_0_A': 1130206, '7465B_0_A': 1130206, '7465_0_A': 1130206, '1041_1_A': 1294140, '1010H_0_A': 1070425, '1010H_0_B': 1070425, '1010_0_B': 1070425, '1010_1_A': 1140437, '1010_1_C': 1291404, '1034_0_A': 1304160, '1034_1_A': 1303192, '3001D_0_A': 1020501, '3001R_0_A': 1020501, '3001T_0_A': 1020501, '3001Z_0_A': 1020501, '3002A_0_A': 1020502, '3002E_0_A': 1020502, '3002L_0_A': 1020502, '3002U_0_A': 1020502, '3002X_0_A': 1020502, '3002Y_0_A': 1020502, '3001K_0_A': 1020503, '3001D_1_A': 1174553, '3001R_1_A': 1174553, '3001T_1_A': 1370551, '3001Z_1_A': 1174553, '3002A_1_A': 1465552, '3002E_1_A': 1291551, '3002L_1_A': 1465552, '3002U_1_A': 1291551, '3002X_1_A': 1291551, '3002Y_1_A': 1291551, '3001K_1_A': 1370551, '31M1_0_A': 1310603, '31M2_0_A': 1310603, '31M1_1_A': 1100602, '31M2M_1_A': 1100602, '31M2_1_A': 1100602, '1010_0_A': 1140438, '1010H_1_A': 1291404, '4616_0_A': 1111180, '4623K_0_A': 1111180, '4623_0_A': 1111180, '4633_0_A': 1111180, '9643K_0_A': 1111180, '9643_0_A': 1111180, '4616_1_A': 1342299, '4623K_1_A': 1342299, '4623_1_A': 1342299, '4633_1_A': 1342299, '9643K_1_A': 1342299, '9643_1_A': 1342299, '1069_0_A': 1130103, '4518_0_A': 1171150, '7848_0_A': 1130206, '4518_1_A': 1260102, '1030_0_A': 1060101, '1036_1_A': 1281110, '1059_0_A': 1100131, '2201B_1_A': 1463113, '2201_1_A': 1461105, '1030_1_A': 1333177, '1059_1_A': 1333185, '2201B_0_A': 1465100, '2201_0_A': 1465100, '1032_0_A': 1294191, '1032_1_A': 1304105, '1031_0_A': 1294191, '1031_1_A': 1304105, '1052_0_A': 1334158, '1025_0_A': 1130122, '1025_1_A': 1461109, '1054_1_A': 1465148, '1054_0_A': 1370107, '1015_1_A': 1201110, '1015_0_A': 1201122, '1021_1_A': 1310105, '1021_0_A': 1310101, '1073_0_A': 1111151, '1074_0_A': 1111151, '4711_0_A': 1111204, '4721_0_A': 1111204, '4731_0_A': 1111301, '1073_1_A': 1240123, '1074_1_A': 1240123, '4711_1_A': 1240123, '4721_1_A': 1240123, '4731_1_A': 1240123, '1500_1_A': 1304104, '2510_1_A': 1302219, '2108N_0_A': 1130103, '2502_0_A': 1113123, '1020_1_A': 1304103, '2502_1_A': 1301158, '2108N_1_A': 1302219, '1024_0_A': 1130182, '1024_1_A': 1150130, '2212_0_A': 1130111, '2213N_0_A': 1130111, '2213_0_A': 1130111, '7280_0_A': 1130206, '1070_0_A': 1130103, '2212_1_A': 1301158, '2213N_1_A': 1301158, '2213_1_A': 1301158, '7280_1_A': 1301158, '1070_1_A': 1370119, '1020_0_A': 1060101, '1033_0_A': 1304105, '1033_1_A': 1301108, '1035_0_A': 1304160, '1035_1_A': 1304105, '1006_0_A': 1220410, '1008_0_A': 1220410, '1008_0_B': 1130442, '1004_0_A': 1140438, '1004H_1_A': 1301456, '1008H_0_A': 1130442, '9738_1_A': 1240123, '9738_0_A': 1100130, '1702_0_A': 1370130, '1702_1_A': 1370125, '1019_0_A': 1030701, '1019_1_A': 1030701, '1701_0_A': 1383192, '1701_1_A': 1383192, '1019E_0_A': 1080701, '1019E_1_A': 1080701, '1022_0_A': 1310101, '2112N_0_A': 1310101, '7192T_0_A': 1310101, '1022_1_A': 1310121, '2112N_1_A': 1310299, '7192T_1_A': 1310299, '1022B_0_A': 1310105, '2104_0_A': 1310105, '1022B_1_A': 1310121, '2104_1_A': 1310299, '7192V_0_A': 1310124, '7192V_1_A': 1310299}\n",
      "{'1603_1_A': 1351112, '1066_0_A': 1020122, '1067_0_A': 1020122, '2550_0_A': 1361104, '2553K_0_A': 1284124, '2553_0_A': 1284124, '1603_0_A': 1284139, '1001H_0_A': 1040437, '1001H_0_B': 1040437, '1001_0_B': 1040437, '1003H_0_A': 1040437, '1003_0_A': 1040437, '1006H_0_A': 1040437, '1006_0_B': 1040437, '1061N_0_A': 1020123, '1061T_0_A': 1020123, '1061_0_A': 1020123, '4611B_0_A': 1020120, '4611_0_A': 1020120, '4614_0_A': 1020119, '4615_0_A': 1020119, '4616_0_A': 1111180, '4617_0_A': 1020119, '4623K_0_A': 1111180, '4623_0_A': 1111180, '4633_0_A': 1111180, '9633N_0_A': 1020204, '9643K_0_A': 1111180, '9643_0_A': 1111180, '1061N_1_A': 1284124, '1061T_1_A': 1284124, '1061_1_A': 1284124, '1066_1_A': 1351102, '1067_1_A': 1351110, '4611B_1_A': 1342299, '4611_1_A': 1342299, '4614_1_A': 1342299, '4615_1_A': 1342299, '4616_1_A': 1342299, '4617_1_A': 1342299, '4623K_1_A': 1342299, '4623_1_A': 1342299, '4633_1_A': 1342299, '9633N_1_A': 1342299, '9643K_1_A': 1342299, '9643_1_A': 1342299, '3002A_0_A': 1172503, '3002L_0_A': 1172503, '3002P_0_A': 1172503, '2553K_1_A': 1341121, '2553_1_A': 1341121, '2550_1_A': 1291127, '1023_0_A': 1020116, '1056_1_A': 1286179, '1063_0_A': 1174101, '1023_1_A': 1281109, '1056_0_A': 1250105, '1063_1_A': 1351112, '1053_0_A': 1250105, '1053_1_A': 1282141, '1073_1_A': 1113127, '1074_1_A': 1113127, '1065_1_A': 1285163, '1065_0_A': 1020122, '1064_0_A': 1020123, '1067N_0_A': 1020122, '1069_0_A': 1250111, '1069_1_A': 1284156, '1064_1_A': 1342116, '1071_1_A': 1364106, '1073N_1_A': 1112126, '1074N_1_A': 1112126, '1075_1_A': 1112126, '1077N_1_A': 1364106, '1077_1_A': 1112126, '1078N_1_A': 1361120, '1078_1_A': 1361120, '1079N_1_A': 1112126, '4711_1_A': 1112126, '4717K_1_A': 1112126, '4717N_1_A': 1112126, '4717_1_A': 1112126, '4718A_1_A': 1112126, '4718_1_A': 1112126, '4721N_1_A': 1112126, '4721_1_A': 1112126, '4731N_1_A': 1112126, '4731_1_A': 1112126, '4739_1_A': 1112126, '9785K_1_A': 1112126, '9785_1_A': 1112126, '9787A_1_A': 1112126, '9787K_1_A': 1112126, '9787_1_A': 1112126, '9788K_1_A': 1112126, '9788_1_A': 1112126, '1001_1_A': 1020464, '1001_1_B': 1020464, '1001_1_C': 1250431, '1003_1_A': 1111429, '1003_1_B': 1111429, '1003_1_C': 1111429, '1006_1_A': 1113433, '1006_1_B': 1113433, '1071_0_A': 1020113, '1073N_0_A': 1020117, '1073_0_A': 1111151, '1074N_0_A': 1020117, '1074_0_A': 1111151, '1075_0_A': 1020117, '1077N_0_A': 1020113, '1077_0_A': 1020120, '1078N_0_A': 1020113, '1078_0_A': 1020113, '1079N_0_A': 1020117, '4711_0_A': 1111204, '4717K_0_A': 1020117, '4717N_0_A': 1020117, '4717_0_A': 1020117, '4718A_0_A': 1020117, '4718_0_A': 1020117, '4721N_0_A': 1020115, '4721_0_A': 1111204, '4731N_0_A': 1020115, '4731_0_A': 1111301, '4739_0_A': 1020115, '9785K_0_A': 1020115, '9785_0_A': 1020115, '9787A_0_A': 1020115, '9787K_0_A': 1020115, '9787_0_A': 1020115, '9788K_0_A': 1020115, '9788_0_A': 1020115, '1055_0_A': 1020182, '1085N_0_A': 1020123, '1086N_0_A': 1020123, '1087N_0_A': 1020123, '1090A_0_A': 1020122, '1090N_0_A': 1020122, '1092N_0_A': 1020120, '1094N_0_A': 1020120, '1095N_0_A': 1020120, '1096N_0_A': 1020122, '1097N_0_A': 1020120, '1055_1_A': 1260108, '1085N_1_A': 1100122, '1086N_1_A': 1100122, '1087N_1_A': 1100122, '1090A_1_A': 1100122, '1090N_1_A': 1100122, '1092N_1_A': 1100122, '1094N_1_A': 1100122, '1095N_1_A': 1100122, '1096N_1_A': 1100122, '1097N_1_A': 1100122, '1001_0_A': 1173423, '1001H_1_A': 1250431, '1506_1_A': 1250111, '1506_0_A': 1364106, '3001I_0_A': 1250501, '3001K_0_A': 1250501, '3001T_0_A': 1020501, '1016_1_A': 1420120, '1057_1_A': 1250111, '1057_0_A': 1361120, '1701_1_A': 1361116, '1016_0_A': 1020112, '1701_0_A': 1361120, '1040_1_A': 1020128, '2200_1_A': 1020128, '2231N_1_A': 1020128, '2235N_1_A': 1020128, '2321_1_A': 1020128, '2345N_1_A': 1020128, '2345_1_A': 1020128, '2435_1_A': 1020128, '2436K_1_A': 1020128, '2436N_1_A': 1020128, '2436_1_A': 1020128, '4322_1_A': 1020128, '4332_1_A': 1020128, '4411_1_A': 1020128, '4415N_1_A': 1020128, '4415_1_A': 1020128, '4421_1_A': 1020128, '4431N_1_A': 1020128, '4431_1_A': 1020128, '1034_1_A': 1303107, '1052_1_A': 1302219, '2108N_1_A': 1302219, '2510_1_A': 1302219, '3001K_1_A': 1250551, '3001T_1_A': 1250551, '1021N_0_A': 1020171, '1021N_1_A': 1020171, '1004S_0_A': 1030423, '1004S_1_A': 1020446, '1002_1_A': 1020446, '1002_1_B': 1020446, '1002_1_C': 1020446, '1002H_0_A': 1030425, '1002H_0_B': 1030425, '1002_0_B': 1030425, '1010H_0_A': 1030428, '1010H_0_B': 1030428, '1010_0_B': 1030428, '1010_1_A': 1020464, '1010_1_B': 1020464, '1010_1_C': 1020464, '1500_1_A': 1100109, '1007H_0_A': 1020453, '1007_0_B': 1020453, '1007_1_A': 1113433, '1007_1_B': 1113433, '1059_0_A': 1100140, '1059_1_A': 1100143, '1009H_0_A': 1020453, '1009_0_A': 1020453, '1009_1_A': 1111429, '1009_1_B': 1111429, '1005H_0_A': 1010424, '1005_1_A': 1020453, '1005_1_B': 1020453, '1004_1_A': 1020446, '1004_1_B': 1020446, '1004_1_C': 1020446, '1004H_0_A': 1010424, '1004H_0_B': 1010424, '1004_0_C': 1010424, '1005_0_A': 1010424, '1019_0_A': 1030701, '1019_1_A': 1030701, '1034_0_A': 1302216, '3001D_0_A': 1020501, '3001R_0_A': 1020501, '3001Z_0_A': 1020501, '3001D_1_A': 1020551, '3001R_1_A': 1020551, '3001Z_1_A': 1020551, '1054_0_A': 1342101, '1054_1_A': 1341108, '31M1_0_A': 1020601, '31M2_0_A': 1020601, '31M1_1_A': 1020604, '31M2M_1_A': 1020604, '31M2_1_A': 1020604, '1052_0_A': 1291128, '2108N_0_A': 1302216, '2510_0_A': 1302216, '4518_0_A': 1250111, '7848_0_A': 1250111, '4518_1_A': 1250116, '7848_1_A': 1250116}\n",
      "{}\n",
      "{}\n",
      "{}\n",
      "{}\n",
      "63013\n"
     ]
    }
   ],
   "source": [
    "# initialize\n",
    "tau_i = {\n",
    "    0: {},\n",
    "}\n",
    "tau_best = {}\n",
    "marked_stops = set()\n",
    "\n",
    "for stop_id in stop_id_set:\n",
    "    tau_i[0][stop_id] = sys.maxsize\n",
    "    tau_best[stop_id] = sys.maxsize\n",
    "\n",
    "tau_i[0][start_stop_id] = start_time\n",
    "tau_best[start_stop_id] = start_time\n",
    "\n",
    "marked_stops.add(start_stop_id)\n",
    "\n",
    "\n",
    "for k in range(1, MAX_TRANSFERS + 1):\n",
    "    Q = {}\n",
    "    tau_i[k] = tau_i[k - 1].copy()\n",
    "\n",
    "    for stop_id in marked_stops:\n",
    "        for route_id in get_routes_serving_stop(stop_id):\n",
    "            if route_id not in Q:\n",
    "                Q[route_id] = stop_id\n",
    "                continue\n",
    "\n",
    "            # if our stop is closer to the start than the existing one, we replace it\n",
    "            existing_stop_id = Q[route_id]\n",
    "            idx = get_idx_of_stop_in_route(stop_id, route_id)\n",
    "            existing_idx = get_idx_of_stop_in_route(existing_stop_id, route_id)\n",
    "            if idx < existing_idx:\n",
    "                Q[route_id] = stop_id\n",
    "\n",
    "    marked_stops = set()\n",
    "\n",
    "    print(Q)\n",
    "\n",
    "    for route_id, stop_id in Q.items():\n",
    "        trip_id = None\n",
    "        for stop_id, _ in stops_by_route[route_id]:\n",
    "            if trip_id is not None and get_arrival_time(trip_id, stop_id) < min(\n",
    "                tau_best[stop_id], tau_best[end_stop_id]\n",
    "            ):\n",
    "                arrival_time = get_arrival_time(trip_id, stop_id)\n",
    "                tau_i[k][stop_id] = arrival_time\n",
    "                tau_best[stop_id] = arrival_time\n",
    "                marked_stops.add(stop_id)\n",
    "\n",
    "            ready_to_depart = tau_i[k - 1][stop_id] + DEFAULT_TRANSFER_TIME\n",
    "            if ready_to_depart < get_departure_time(trip_id, stop_id):\n",
    "                trip_id = earliest_trip(route_id, stop_id, ready_to_depart, DEFAULT_TRANSFER_TIME)\n",
    "\n",
    "    additional_marked_stops = set()\n",
    "    for stop_id in marked_stops:\n",
    "        if stop_id == 1040290:\n",
    "            print(\"here\")\n",
    "            print(nearby_stop_with_walking_time_map[stop_id])\n",
    "        for nearby_stop_id, walking_time in nearby_stop_with_walking_time_map[stop_id].items():\n",
    "            reachable_by_foot = tau_i[k][stop_id] + walking_time\n",
    "            assert type(reachable_by_foot) == int, f\"reachable_by_foot is not int: {reachable_by_foot} type: {str(type(reachable_by_foot))}\"\n",
    "\n",
    "            # if stop_id == 1040290 and nearby_stop_id == 1040411:\n",
    "            #     print(nearby_stop_id, reachable_by_foot, tau_i[k][nearby_stop_id])\n",
    "\n",
    "            # we have a couple of modifications here:\n",
    "            # 1. we only mark the stop if tau is actually updated\n",
    "            # 2. we use tau_best instead of tau_k (should not make a difference)\n",
    "            # 3. we also consider tau_best[end_stop_id] just like in the stop before\n",
    "            # 4. we also update tau_best\n",
    "            if reachable_by_foot < min(tau_best[nearby_stop_id], tau_best[end_stop_id]):\n",
    "                tau_i[k][nearby_stop_id] = reachable_by_foot\n",
    "                tau_best[nearby_stop_id] = reachable_by_foot\n",
    "                additional_marked_stops.add(nearby_stop_id)\n",
    "    marked_stops.update(additional_marked_stops)\n",
    "    \n",
    "print(tau_best[end_stop_id])"
   ]
  },
  {
   "cell_type": "code",
   "execution_count": 217,
   "metadata": {},
   "outputs": [],
   "source": [
    "for tau in tau_best.values():\n",
    "\tassert type(tau) == int, f\"tau is not int: {tau}\""
   ]
  },
  {
   "cell_type": "code",
   "execution_count": 218,
   "metadata": {},
   "outputs": [
    {
     "name": "stdout",
     "output_type": "stream",
     "text": [
      "reached 1355/1361 stops (99.56%)\n"
     ]
    }
   ],
   "source": [
    "reached = {k: v for k, v in tau_best.items() if v < sys.maxsize}\n",
    "\n",
    "print(f\"reached {len(reached)}/{len(tau_best)} stops ({len(reached)/len(tau_best)*100:.2f}%)\")"
   ]
  },
  {
   "cell_type": "code",
   "execution_count": 219,
   "metadata": {},
   "outputs": [],
   "source": [
    "reached = {k: seconds_to_str_time(v) for k, v in reached.items()}\n",
    "reached_df = pd.DataFrame.from_dict(reached, orient=\"index\", columns=[\"time\"])"
   ]
  },
  {
   "cell_type": "code",
   "execution_count": 220,
   "metadata": {},
   "outputs": [
    {
     "data": {
      "text/html": [
       "<div>\n",
       "<style scoped>\n",
       "    .dataframe tbody tr th:only-of-type {\n",
       "        vertical-align: middle;\n",
       "    }\n",
       "\n",
       "    .dataframe tbody tr th {\n",
       "        vertical-align: top;\n",
       "    }\n",
       "\n",
       "    .dataframe thead th {\n",
       "        text-align: right;\n",
       "    }\n",
       "</style>\n",
       "<table border=\"1\" class=\"dataframe\">\n",
       "  <thead>\n",
       "    <tr style=\"text-align: right;\">\n",
       "      <th></th>\n",
       "      <th>time</th>\n",
       "    </tr>\n",
       "    <tr>\n",
       "      <th>stop_id</th>\n",
       "      <th></th>\n",
       "    </tr>\n",
       "  </thead>\n",
       "  <tbody>\n",
       "    <tr>\n",
       "      <th>1171457</th>\n",
       "      <td>16:36:43</td>\n",
       "    </tr>\n",
       "    <tr>\n",
       "      <th>1171458</th>\n",
       "      <td>16:36:00</td>\n",
       "    </tr>\n",
       "  </tbody>\n",
       "</table>\n",
       "</div>"
      ],
      "text/plain": [
       "             time\n",
       "stop_id          \n",
       "1171457  16:36:43\n",
       "1171458  16:36:00"
      ]
     },
     "execution_count": 220,
     "metadata": {},
     "output_type": "execute_result"
    }
   ],
   "source": [
    "reached_df.index.name = \"stop_id\"\n",
    "reached_df.head(2)"
   ]
  },
  {
   "cell_type": "code",
   "execution_count": 221,
   "metadata": {},
   "outputs": [],
   "source": [
    "reached_df.to_csv(\"reached.csv\")"
   ]
  },
  {
   "cell_type": "code",
   "execution_count": null,
   "metadata": {},
   "outputs": [],
   "source": []
  }
 ],
 "metadata": {
  "kernelspec": {
   "display_name": "mcr-py",
   "language": "python",
   "name": "python3"
  },
  "language_info": {
   "codemirror_mode": {
    "name": "ipython",
    "version": 3
   },
   "file_extension": ".py",
   "mimetype": "text/x-python",
   "name": "python",
   "nbconvert_exporter": "python",
   "pygments_lexer": "ipython3",
   "version": "3.10.11"
  },
  "orig_nbformat": 4
 },
 "nbformat": 4,
 "nbformat_minor": 2
}
