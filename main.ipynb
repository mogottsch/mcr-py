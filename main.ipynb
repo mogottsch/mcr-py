{
 "cells": [
  {
   "cell_type": "code",
   "execution_count": 279,
   "metadata": {},
   "outputs": [],
   "source": [
    "import zipfile\n",
    "import pandas as pd\n",
    "import sys"
   ]
  },
  {
   "cell_type": "code",
   "execution_count": 228,
   "metadata": {},
   "outputs": [],
   "source": [
    "GTFS_PATH = '/home/moritz/dev/uni/multi_modal_data/Helsinki/GTFS.zip'"
   ]
  },
  {
   "attachments": {},
   "cell_type": "markdown",
   "metadata": {},
   "source": [
    "# Read data "
   ]
  },
  {
   "cell_type": "code",
   "execution_count": 229,
   "metadata": {},
   "outputs": [],
   "source": [
    "STOPS_FILE = 'stops.txt'\n",
    "ROUTES_FILE = 'routes.txt'\n",
    "TRIPS_FILE = 'trips.txt'\n",
    "STOP_TIMES_FILE = 'stop_times.txt'\n",
    "\n",
    "EXPECTED_FILES = [STOPS_FILE, ROUTES_FILE, TRIPS_FILE, STOP_TIMES_FILE]"
   ]
  },
  {
   "cell_type": "code",
   "execution_count": 230,
   "metadata": {},
   "outputs": [],
   "source": [
    "dfs = ()\n",
    "\n",
    "with zipfile.ZipFile(GTFS_PATH, 'r') as zip_ref:\n",
    "\tcontained = zip_ref.namelist()\n",
    "\tif not all([file in contained for file in EXPECTED_FILES]):\n",
    "\t\traise Exception('Not all expected files are in the zip file')\n",
    "\n",
    "\tfor file in EXPECTED_FILES:\n",
    "\t\twith zip_ref.open(file) as f:\n",
    "\t\t\tdf = pd.read_csv(f)\n",
    "\t\t\tdfs += (df,)\n",
    "\t"
   ]
  },
  {
   "attachments": {},
   "cell_type": "markdown",
   "metadata": {},
   "source": [
    "## Preprocessing\n",
    "In our algorithms we expect that routes always have the same path, that is the same sequence of stops.\n",
    "In GTFS this is not given. Routes can go in opposite directions and have different stops.  \n",
    "In this preprocessing step we make sure that all routes have the same path.  \n",
    "\n",
    "After we are done the new `routes_id` will have the following format:  \n",
    "`<old_route_id>_<direction>_<path_id>`\n"
   ]
  },
  {
   "cell_type": "code",
   "execution_count": 231,
   "metadata": {},
   "outputs": [],
   "source": [
    "stops_df, routes_df, trips_df, stop_times_df = dfs"
   ]
  },
  {
   "cell_type": "code",
   "execution_count": 232,
   "metadata": {},
   "outputs": [],
   "source": [
    "# split routes that go into opposite directions\n",
    "trips_df[\"extended_route_id\"] = trips_df[\"route_id\"] + \"_\" + trips_df[\"direction_id\"].astype(str)"
   ]
  },
  {
   "cell_type": "code",
   "execution_count": 233,
   "metadata": {},
   "outputs": [],
   "source": [
    "trips_stop_times_df = pd.merge(trips_df, stop_times_df, on=\"trip_id\")\n",
    "# create a df that contains the route_id, trip_id and a the ordered list of stop_ids as a string\n",
    "paths_df = (\n",
    "    trips_stop_times_df.sort_values([\"extended_route_id\", \"trip_id\", \"stop_sequence\"])\n",
    "    .groupby([\"extended_route_id\", \"trip_id\"])[\"stop_id\"]\n",
    "    .apply(list)\n",
    "    .apply(str)\n",
    "    .reset_index()\n",
    ")\n"
   ]
  },
  {
   "cell_type": "code",
   "execution_count": 234,
   "metadata": {},
   "outputs": [],
   "source": [
    "# now we go through each route and trip and assign a unique path id,\n",
    "# which is then used in the new route id.\n",
    "known_route_paths = {}\n",
    "path_counter_per_route = {}\n",
    "path_id_by_path = {}\n",
    "\n",
    "paths_df[\"new_route_id\"] = paths_df[\"extended_route_id\"]\n",
    "\n",
    "for i,row in paths_df.iterrows():\n",
    "\tpath_counter = path_counter_per_route.get(row[\"extended_route_id\"], 0)\n",
    "\tknown_paths = known_route_paths.get(row[\"extended_route_id\"], set())\n",
    "\n",
    "\tpath_id = None\n",
    "\n",
    "\tpath = row[\"stop_id\"]\n",
    "\tif path in known_paths:\n",
    "\t\tpath_id = path_id_by_path[path]\n",
    "\telse:\n",
    "\t\tpath_id = chr(ord('A') + path_counter)\n",
    "\t\tpaths_df.at[i, \"new_route_id\"] = row[\"extended_route_id\"] + \"_\" + path_id\n",
    "\n",
    "\t\tknown_paths.add(path)\n",
    "\t\tknown_route_paths[row[\"extended_route_id\"]] = known_paths\n",
    "\n",
    "\t\tpath_counter_per_route[row[\"extended_route_id\"]] = path_counter + 1\n",
    "\n",
    "\t\tpath_id_by_path[path] = path_id\n",
    "\n",
    "\tpaths_df.at[i, \"new_route_id\"] = row[\"extended_route_id\"] + \"_\" + path_id\n"
   ]
  },
  {
   "cell_type": "code",
   "execution_count": 235,
   "metadata": {},
   "outputs": [],
   "source": [
    "trips_df = trips_df.merge(\n",
    "    paths_df.drop(columns=[\"stop_id\"]), on=[\"extended_route_id\", \"trip_id\"]\n",
    ")\n"
   ]
  },
  {
   "cell_type": "code",
   "execution_count": 236,
   "metadata": {},
   "outputs": [],
   "source": [
    "trips_df[\"old_route_id\"] = trips_df[\"route_id\"]\n",
    "trips_df[\"route_id\"] = trips_df[\"new_route_id\"]"
   ]
  },
  {
   "attachments": {},
   "cell_type": "markdown",
   "metadata": {},
   "source": [
    "## Convert data from Dataframes into convenient data structures "
   ]
  },
  {
   "cell_type": "code",
   "execution_count": 237,
   "metadata": {},
   "outputs": [],
   "source": [
    "routes_by_stop = {} # l.12\n",
    "stops_by_route = {} # atm we don't need the stop sequence\n",
    "stops_by_route_dict = {} # l. 14\n",
    "\n",
    "stop_times_by_trips_by_route = {}\n",
    "stop_times_by_trip = {} # atm not needed in this form\n",
    "times_by_stop_by_trip = {} # l. 24\n",
    "\n",
    "trip_by_route = {} # trips ordered by first departure time"
   ]
  },
  {
   "cell_type": "code",
   "execution_count": 238,
   "metadata": {},
   "outputs": [],
   "source": [
    "stop_times_by_trip_df = stop_times_df.groupby(\"trip_id\").apply(lambda x: x.sort_values(\"stop_sequence\"))[\n",
    "    [\"arrival_time\", \"departure_time\", \"stop_id\", \"stop_sequence\"]\n",
    "]\n",
    "for (trip_id, _), data in stop_times_by_trip_df.to_dict('index').items():\n",
    "    stop_times = stop_times_by_trip.get(trip_id, [])\n",
    "    stop_times.append(data)\n",
    "    stop_times_by_trip[trip_id] = stop_times"
   ]
  },
  {
   "cell_type": "code",
   "execution_count": 239,
   "metadata": {},
   "outputs": [],
   "source": [
    "stop_id_set = set(stops_df['stop_id'])\n",
    "route_id_set = set(trips_df['route_id'])\n",
    "trip_id_set = set(trips_df['trip_id'])"
   ]
  },
  {
   "cell_type": "code",
   "execution_count": 240,
   "metadata": {},
   "outputs": [],
   "source": [
    "trip_ids_by_route = (\n",
    "    trips_df.groupby(\"route_id\")[\"trip_id\"]\n",
    "    .apply(lambda x: x.tolist())\n",
    "    .to_dict()\n",
    ")\n"
   ]
  },
  {
   "cell_type": "code",
   "execution_count": 241,
   "metadata": {},
   "outputs": [],
   "source": [
    "for route_id, trip_ids in trip_ids_by_route.items():\n",
    "\tstops_ordered = []\n",
    "\tstops = set() # we only need the ordered stops, but use the set to check for duplicates\n",
    "\tfor trip_id in trip_ids:\n",
    "\t\ttrip_stop_times = stop_times_by_trip[trip_id]\n",
    "\n",
    "\t\tstop_times_by_trip_dict = stop_times_by_trips_by_route.get(route_id, {})\n",
    "\t\tstop_times_by_trip_dict[trip_id] = trip_stop_times\n",
    "\t\tstop_times_by_trips_by_route[route_id] = stop_times_by_trip_dict\n",
    "\n",
    "\t\tfor stop_time in trip_stop_times:\n",
    "\t\t\tstop_in_route = (stop_time['stop_id'], stop_time['stop_sequence'])\n",
    "\t\t\tif stop_in_route not in stops:\n",
    "\t\t\t\tstops_ordered.append(stop_in_route)\n",
    "\t\t\t\tstops.add(stop_in_route)\n",
    "\n",
    "\tstops_by_route[route_id] = stops_ordered"
   ]
  },
  {
   "cell_type": "code",
   "execution_count": 242,
   "metadata": {},
   "outputs": [],
   "source": [
    "# inverse routes_by_stop\n",
    "routes_by_stop = {}\n",
    "for route_id, stops in stops_by_route.items():\n",
    "\tfor (stop,_) in stops:\n",
    "\t\troutes = routes_by_stop.get(stop, [])\n",
    "\t\troutes.append(route_id)\n",
    "\t\troutes_by_stop[stop] = routes\n",
    "\n",
    "\n",
    "def get_routes_serving_stop(stop_id):\n",
    "\treturn routes_by_stop[stop_id]"
   ]
  },
  {
   "cell_type": "code",
   "execution_count": 275,
   "metadata": {},
   "outputs": [],
   "source": [
    "# if we have route and stop, we fastly want to access the stop_sequence\n",
    "stops_by_route_dict = {\n",
    "    k: {stop: stop_seq for (stop, stop_seq) in (v)} for k, v in stops_by_route.items()\n",
    "}\n",
    "\n",
    "def get_idx_of_stop_in_route(stop_id, route_id):\n",
    "    return stops_by_route_dict[route_id][stop_id]"
   ]
  },
  {
   "cell_type": "code",
   "execution_count": 289,
   "metadata": {},
   "outputs": [],
   "source": [
    "def str_time_to_seconds(str_time):\n",
    "    hours, minutes, seconds = map(int, time_string.split(':'))\n",
    "    total_seconds = hours * 3600 + minutes * 60 + seconds\n",
    "    return total_seconds"
   ]
  },
  {
   "cell_type": "code",
   "execution_count": 290,
   "metadata": {},
   "outputs": [],
   "source": [
    "times_by_stop_by_trip = {\n",
    "    trip_id: {\n",
    "        stop[\"stop_id\"]: (\n",
    "            str_time_to_seconds(stop[\"arrival_time\"]),\n",
    "            str_time_to_seconds(stop[\"departure_time\"]),\n",
    "        )\n",
    "        for stop in stops\n",
    "    }\n",
    "    for (trip_id, stops) in stop_times_by_trip.items()\n",
    "}\n",
    "\n",
    "\n",
    "def get_arrival_time(trip_id: str, stop_id: str) -> int:\n",
    "    return times_by_stop_by_trip[trip_id][stop_id][0]\n",
    "\n",
    "\n",
    "def get_departure_time(trip_id: str, stop_id: str) -> int:\n",
    "    if trip_id is None:\n",
    "        return sys.maxsize\n",
    "    return times_by_stop_by_trip[trip_id][stop_id][1]\n"
   ]
  },
  {
   "cell_type": "code",
   "execution_count": null,
   "metadata": {},
   "outputs": [],
   "source": [
    "trip_by_route = {} # trips ordered by first departure time"
   ]
  },
  {
   "attachments": {},
   "cell_type": "markdown",
   "metadata": {},
   "source": [
    "# Algorithm"
   ]
  },
  {
   "cell_type": "code",
   "execution_count": 244,
   "metadata": {},
   "outputs": [],
   "source": [
    "import sys"
   ]
  },
  {
   "cell_type": "code",
   "execution_count": 245,
   "metadata": {},
   "outputs": [],
   "source": [
    "MAX_TRANSFERS = 5\n",
    "DEFAULT_TRANSFER_TIME = 60 # seconds\n",
    "\n",
    "start_stop_id = 1240134\n",
    "end_stop_id = 1230103"
   ]
  },
  {
   "cell_type": "code",
   "execution_count": 246,
   "metadata": {},
   "outputs": [],
   "source": [
    "# initialize\n",
    "tau_i = {\n",
    "    0: {},\n",
    "}\n",
    "tau_best = {}\n",
    "marked_stops = set()\n",
    "\n",
    "for stop_id in stop_id_set:\n",
    "    tau_i[0][stop_id] = sys.maxsize\n",
    "    tau_best[stop_id] = sys.maxsize\n",
    "\n",
    "marked_stops.add(start_stop_id)"
   ]
  },
  {
   "cell_type": "code",
   "execution_count": null,
   "metadata": {},
   "outputs": [],
   "source": [
    "def earliest_trip(route_id: str, stop_id: str, arrival_time: int, change_time: int):\n",
    "    \n"
   ]
  },
  {
   "cell_type": "code",
   "execution_count": 247,
   "metadata": {},
   "outputs": [],
   "source": [
    "Q = {}\n",
    "for k in range(1, MAX_TRANSFERS + 1):\n",
    "    Q = {}\n",
    "\n",
    "    for stop_id in marked_stops:\n",
    "        for route_id in get_routes_serving_stop(stop_id):\n",
    "            if route_id not in Q:\n",
    "                Q[route_id] = stop_id\n",
    "                continue\n",
    "\n",
    "            # if our stop is closer to the start than the existing one, we replace it\n",
    "            existing_stop_id = Q[route_id]\n",
    "            idx = get_idx_of_stop_in_route(stop_id, route_id)\n",
    "            existing_idx = get_idx_of_stop_in_route(existing_stop_id, route_id)\n",
    "            if idx < existing_idx:\n",
    "                Q[route_id] = stop_id\n",
    "\n",
    "        marked_stops.remove(stop_id)\n",
    "\n",
    "    for route_id, stop_id in Q.items():\n",
    "        trip_id = None\n",
    "        for stop_id, _ in stops_by_route[route_id]:\n",
    "            arrival_time = get_arrival_time(trip_id, stop_id)\n",
    "            if trip_id is not None and arrival_time < min(\n",
    "                tau_best[stop_id], tau_best[end_stop_id]\n",
    "            ):\n",
    "                tau_i[k][stop_id] = arrival_time\n",
    "                tau_best[stop_id] = arrival_time\n",
    "                marked_stops.add(stop_id)\n",
    "\n",
    "            if tau_i[k - 1][stop_id] + DEFAULT_TRANSFER_TIME < get_departure_time(\n",
    "                trip_id, stop_id\n",
    "            ):\n",
    "                trip_id = earliest_trip(stop_id, end_stop_id, arrival_time)\n"
   ]
  }
 ],
 "metadata": {
  "kernelspec": {
   "display_name": "mcr-py",
   "language": "python",
   "name": "python3"
  },
  "language_info": {
   "codemirror_mode": {
    "name": "ipython",
    "version": 3
   },
   "file_extension": ".py",
   "mimetype": "text/x-python",
   "name": "python",
   "nbconvert_exporter": "python",
   "pygments_lexer": "ipython3",
   "version": "3.11.4"
  },
  "orig_nbformat": 4
 },
 "nbformat": 4,
 "nbformat_minor": 2
}
