{
 "cells": [
  {
   "cell_type": "code",
   "execution_count": 39,
   "metadata": {},
   "outputs": [
    {
     "name": "stdout",
     "output_type": "stream",
     "text": [
      "The autoreload extension is already loaded. To reload it, use:\n",
      "  %reload_ext autoreload\n"
     ]
    }
   ],
   "source": [
    "%load_ext autoreload\n",
    "%autoreload 2"
   ]
  },
  {
   "cell_type": "code",
   "execution_count": 40,
   "metadata": {},
   "outputs": [],
   "source": [
    "# add . to module name\n",
    "import sys\n",
    "sys.path.append('../src/')"
   ]
  },
  {
   "cell_type": "code",
   "execution_count": 41,
   "metadata": {},
   "outputs": [],
   "source": [
    "from package.logger import setup\n",
    "setup(\"INFO\")"
   ]
  },
  {
   "cell_type": "code",
   "execution_count": 45,
   "metadata": {},
   "outputs": [],
   "source": [
    "import pandas as pd\n",
    "import os\n",
    "from package.logger import llog, Timed\n",
    "from package import storage, osm\n",
    "from package.footpaths import (\n",
    "    get_osm_path_from_city_id,\n",
    "    download_osm,\n",
    "    create_nearby_stops_map,\n",
    "    create_nx_graph,\n",
    "    add_nearest_node_to_stops,\n",
    ")\n",
    "from package.graph import igraph\n"
   ]
  },
  {
   "cell_type": "code",
   "execution_count": 47,
   "metadata": {},
   "outputs": [
    {
     "data": {
      "text/html": [
       "<pre style=\"white-space:pre;overflow-x:auto;line-height:normal;font-family:Menlo,'DejaVu Sans Mono',consolas,'Courier New',monospace\"><span style=\"color: #7fbfbf; text-decoration-color: #7fbfbf\">[12:26:46] </span><span style=\"color: #000080; text-decoration-color: #000080\">INFO    </span> Using existing OSM data                                                         <a href=\"file:///tmp/ipykernel_73857/366977008.py\" target=\"_blank\"><span style=\"color: #7f7f7f; text-decoration-color: #7f7f7f\">366977008.py</span></a><span style=\"color: #7f7f7f; text-decoration-color: #7f7f7f\">:</span><a href=\"file:///tmp/ipykernel_73857/366977008.py#11\" target=\"_blank\"><span style=\"color: #7f7f7f; text-decoration-color: #7f7f7f\">11</span></a>\n",
       "</pre>\n"
      ],
      "text/plain": [
       "\u001b[2;36m[12:26:46]\u001b[0m\u001b[2;36m \u001b[0m\u001b[34mINFO    \u001b[0m Using existing OSM data                                                         \u001b]8;id=746713;file:///tmp/ipykernel_73857/366977008.py\u001b\\\u001b[2m366977008.py\u001b[0m\u001b]8;;\u001b\\\u001b[2m:\u001b[0m\u001b]8;id=756976;file:///tmp/ipykernel_73857/366977008.py#11\u001b\\\u001b[2m11\u001b[0m\u001b]8;;\u001b\\\n"
      ]
     },
     "metadata": {},
     "output_type": "display_data"
    },
    {
     "data": {
      "text/html": [
       "<pre style=\"white-space:pre;overflow-x:auto;line-height:normal;font-family:Menlo,'DejaVu Sans Mono',consolas,'Courier New',monospace\"><span style=\"color: #7fbfbf; text-decoration-color: #7fbfbf\">           </span><span style=\"color: #000080; text-decoration-color: #000080\">INFO    </span> Reading OSM network                                                             <a href=\"file:///tmp/ipykernel_73857/366977008.py\" target=\"_blank\"><span style=\"color: #7f7f7f; text-decoration-color: #7f7f7f\">366977008.py</span></a><span style=\"color: #7f7f7f; text-decoration-color: #7f7f7f\">:</span><a href=\"file:///tmp/ipykernel_73857/366977008.py#15\" target=\"_blank\"><span style=\"color: #7f7f7f; text-decoration-color: #7f7f7f\">15</span></a>\n",
       "</pre>\n"
      ],
      "text/plain": [
       "\u001b[2;36m          \u001b[0m\u001b[2;36m \u001b[0m\u001b[34mINFO    \u001b[0m Reading OSM network                                                             \u001b]8;id=553565;file:///tmp/ipykernel_73857/366977008.py\u001b\\\u001b[2m366977008.py\u001b[0m\u001b]8;;\u001b\\\u001b[2m:\u001b[0m\u001b]8;id=792930;file:///tmp/ipykernel_73857/366977008.py#15\u001b\\\u001b[2m15\u001b[0m\u001b]8;;\u001b\\\n"
      ]
     },
     "metadata": {},
     "output_type": "display_data"
    },
    {
     "data": {
      "text/html": [
       "<pre style=\"white-space:pre;overflow-x:auto;line-height:normal;font-family:Menlo,'DejaVu Sans Mono',consolas,'Courier New',monospace\"><span style=\"color: #7fbfbf; text-decoration-color: #7fbfbf\">[12:27:44] </span><span style=\"color: #000080; text-decoration-color: #000080\">INFO    </span> Reading OSM network done <span style=\"font-weight: bold\">(</span><span style=\"color: #008080; text-decoration-color: #008080; font-weight: bold\">57.85</span> seconds<span style=\"font-weight: bold\">)</span>                                        <a href=\"file:///tmp/ipykernel_73857/366977008.py\" target=\"_blank\"><span style=\"color: #7f7f7f; text-decoration-color: #7f7f7f\">366977008.py</span></a><span style=\"color: #7f7f7f; text-decoration-color: #7f7f7f\">:</span><a href=\"file:///tmp/ipykernel_73857/366977008.py#15\" target=\"_blank\"><span style=\"color: #7f7f7f; text-decoration-color: #7f7f7f\">15</span></a>\n",
       "</pre>\n"
      ],
      "text/plain": [
       "\u001b[2;36m[12:27:44]\u001b[0m\u001b[2;36m \u001b[0m\u001b[34mINFO    \u001b[0m Reading OSM network done \u001b[1m(\u001b[0m\u001b[1;36m57.85\u001b[0m seconds\u001b[1m)\u001b[0m                                        \u001b]8;id=245876;file:///tmp/ipykernel_73857/366977008.py\u001b\\\u001b[2m366977008.py\u001b[0m\u001b]8;;\u001b\\\u001b[2m:\u001b[0m\u001b]8;id=134327;file:///tmp/ipykernel_73857/366977008.py#15\u001b\\\u001b[2m15\u001b[0m\u001b]8;;\u001b\\\n"
      ]
     },
     "metadata": {},
     "output_type": "display_data"
    },
    {
     "data": {
      "text/html": [
       "<pre style=\"white-space:pre;overflow-x:auto;line-height:normal;font-family:Menlo,'DejaVu Sans Mono',consolas,'Courier New',monospace\"><span style=\"color: #7fbfbf; text-decoration-color: #7fbfbf\">           </span><span style=\"color: #000080; text-decoration-color: #000080\">INFO    </span> Reading stops                                                                   <a href=\"file:///tmp/ipykernel_73857/366977008.py\" target=\"_blank\"><span style=\"color: #7f7f7f; text-decoration-color: #7f7f7f\">366977008.py</span></a><span style=\"color: #7f7f7f; text-decoration-color: #7f7f7f\">:</span><a href=\"file:///tmp/ipykernel_73857/366977008.py#19\" target=\"_blank\"><span style=\"color: #7f7f7f; text-decoration-color: #7f7f7f\">19</span></a>\n",
       "</pre>\n"
      ],
      "text/plain": [
       "\u001b[2;36m          \u001b[0m\u001b[2;36m \u001b[0m\u001b[34mINFO    \u001b[0m Reading stops                                                                   \u001b]8;id=553699;file:///tmp/ipykernel_73857/366977008.py\u001b\\\u001b[2m366977008.py\u001b[0m\u001b]8;;\u001b\\\u001b[2m:\u001b[0m\u001b]8;id=69548;file:///tmp/ipykernel_73857/366977008.py#19\u001b\\\u001b[2m19\u001b[0m\u001b]8;;\u001b\\\n"
      ]
     },
     "metadata": {},
     "output_type": "display_data"
    },
    {
     "data": {
      "text/html": [
       "<pre style=\"white-space:pre;overflow-x:auto;line-height:normal;font-family:Menlo,'DejaVu Sans Mono',consolas,'Courier New',monospace\"><span style=\"color: #7fbfbf; text-decoration-color: #7fbfbf\">           </span><span style=\"color: #000080; text-decoration-color: #000080\">INFO    </span> Reading stops done <span style=\"font-weight: bold\">(</span><span style=\"color: #008080; text-decoration-color: #008080; font-weight: bold\">0.04</span> seconds<span style=\"font-weight: bold\">)</span>                                               <a href=\"file:///tmp/ipykernel_73857/366977008.py\" target=\"_blank\"><span style=\"color: #7f7f7f; text-decoration-color: #7f7f7f\">366977008.py</span></a><span style=\"color: #7f7f7f; text-decoration-color: #7f7f7f\">:</span><a href=\"file:///tmp/ipykernel_73857/366977008.py#19\" target=\"_blank\"><span style=\"color: #7f7f7f; text-decoration-color: #7f7f7f\">19</span></a>\n",
       "</pre>\n"
      ],
      "text/plain": [
       "\u001b[2;36m          \u001b[0m\u001b[2;36m \u001b[0m\u001b[34mINFO    \u001b[0m Reading stops done \u001b[1m(\u001b[0m\u001b[1;36m0.04\u001b[0m seconds\u001b[1m)\u001b[0m                                               \u001b]8;id=185537;file:///tmp/ipykernel_73857/366977008.py\u001b\\\u001b[2m366977008.py\u001b[0m\u001b]8;;\u001b\\\u001b[2m:\u001b[0m\u001b]8;id=297998;file:///tmp/ipykernel_73857/366977008.py#19\u001b\\\u001b[2m19\u001b[0m\u001b]8;;\u001b\\\n"
      ]
     },
     "metadata": {},
     "output_type": "display_data"
    },
    {
     "data": {
      "text/html": [
       "<pre style=\"white-space:pre;overflow-x:auto;line-height:normal;font-family:Menlo,'DejaVu Sans Mono',consolas,'Courier New',monospace\"><span style=\"color: #7fbfbf; text-decoration-color: #7fbfbf\">           </span><span style=\"color: #000080; text-decoration-color: #000080\">INFO    </span> Cropping OSM network to stops                                                   <a href=\"file:///tmp/ipykernel_73857/366977008.py\" target=\"_blank\"><span style=\"color: #7f7f7f; text-decoration-color: #7f7f7f\">366977008.py</span></a><span style=\"color: #7f7f7f; text-decoration-color: #7f7f7f\">:</span><a href=\"file:///tmp/ipykernel_73857/366977008.py#22\" target=\"_blank\"><span style=\"color: #7f7f7f; text-decoration-color: #7f7f7f\">22</span></a>\n",
       "</pre>\n"
      ],
      "text/plain": [
       "\u001b[2;36m          \u001b[0m\u001b[2;36m \u001b[0m\u001b[34mINFO    \u001b[0m Cropping OSM network to stops                                                   \u001b]8;id=354658;file:///tmp/ipykernel_73857/366977008.py\u001b\\\u001b[2m366977008.py\u001b[0m\u001b]8;;\u001b\\\u001b[2m:\u001b[0m\u001b]8;id=676952;file:///tmp/ipykernel_73857/366977008.py#22\u001b\\\u001b[2m22\u001b[0m\u001b]8;;\u001b\\\n"
      ]
     },
     "metadata": {},
     "output_type": "display_data"
    },
    {
     "data": {
      "text/html": [
       "<pre style=\"white-space:pre;overflow-x:auto;line-height:normal;font-family:Menlo,'DejaVu Sans Mono',consolas,'Courier New',monospace\"><span style=\"color: #7fbfbf; text-decoration-color: #7fbfbf\">           </span><span style=\"color: #000080; text-decoration-color: #000080\">INFO    </span> <span style=\"color: #008080; text-decoration-color: #008080; font-weight: bold\">51582</span>/<span style=\"color: #008080; text-decoration-color: #008080; font-weight: bold\">1207629</span> <span style=\"font-weight: bold\">(</span><span style=\"color: #008080; text-decoration-color: #008080; font-weight: bold\">4.27</span>%<span style=\"font-weight: bold\">)</span> nodes remaining                                           <a href=\"file:///tmp/ipykernel_73857/366977008.py\" target=\"_blank\"><span style=\"color: #7f7f7f; text-decoration-color: #7f7f7f\">366977008.py</span></a><span style=\"color: #7f7f7f; text-decoration-color: #7f7f7f\">:</span><a href=\"file:///tmp/ipykernel_73857/366977008.py#22\" target=\"_blank\"><span style=\"color: #7f7f7f; text-decoration-color: #7f7f7f\">22</span></a>\n",
       "</pre>\n"
      ],
      "text/plain": [
       "\u001b[2;36m          \u001b[0m\u001b[2;36m \u001b[0m\u001b[34mINFO    \u001b[0m \u001b[1;36m51582\u001b[0m/\u001b[1;36m1207629\u001b[0m \u001b[1m(\u001b[0m\u001b[1;36m4.27\u001b[0m%\u001b[1m)\u001b[0m nodes remaining                                           \u001b]8;id=114817;file:///tmp/ipykernel_73857/366977008.py\u001b\\\u001b[2m366977008.py\u001b[0m\u001b]8;;\u001b\\\u001b[2m:\u001b[0m\u001b]8;id=663719;file:///tmp/ipykernel_73857/366977008.py#22\u001b\\\u001b[2m22\u001b[0m\u001b]8;;\u001b\\\n"
      ]
     },
     "metadata": {},
     "output_type": "display_data"
    },
    {
     "data": {
      "text/html": [
       "<pre style=\"white-space:pre;overflow-x:auto;line-height:normal;font-family:Menlo,'DejaVu Sans Mono',consolas,'Courier New',monospace\"><span style=\"color: #7fbfbf; text-decoration-color: #7fbfbf\">           </span><span style=\"color: #000080; text-decoration-color: #000080\">INFO    </span> <span style=\"color: #008080; text-decoration-color: #008080; font-weight: bold\">58320</span>/<span style=\"color: #008080; text-decoration-color: #008080; font-weight: bold\">1322890</span> <span style=\"font-weight: bold\">(</span><span style=\"color: #008080; text-decoration-color: #008080; font-weight: bold\">4.41</span>%<span style=\"font-weight: bold\">)</span> edges remaining                                           <a href=\"file:///tmp/ipykernel_73857/366977008.py\" target=\"_blank\"><span style=\"color: #7f7f7f; text-decoration-color: #7f7f7f\">366977008.py</span></a><span style=\"color: #7f7f7f; text-decoration-color: #7f7f7f\">:</span><a href=\"file:///tmp/ipykernel_73857/366977008.py#22\" target=\"_blank\"><span style=\"color: #7f7f7f; text-decoration-color: #7f7f7f\">22</span></a>\n",
       "</pre>\n"
      ],
      "text/plain": [
       "\u001b[2;36m          \u001b[0m\u001b[2;36m \u001b[0m\u001b[34mINFO    \u001b[0m \u001b[1;36m58320\u001b[0m/\u001b[1;36m1322890\u001b[0m \u001b[1m(\u001b[0m\u001b[1;36m4.41\u001b[0m%\u001b[1m)\u001b[0m edges remaining                                           \u001b]8;id=866166;file:///tmp/ipykernel_73857/366977008.py\u001b\\\u001b[2m366977008.py\u001b[0m\u001b]8;;\u001b\\\u001b[2m:\u001b[0m\u001b]8;id=767871;file:///tmp/ipykernel_73857/366977008.py#22\u001b\\\u001b[2m22\u001b[0m\u001b]8;;\u001b\\\n"
      ]
     },
     "metadata": {},
     "output_type": "display_data"
    },
    {
     "data": {
      "text/html": [
       "<pre style=\"white-space:pre;overflow-x:auto;line-height:normal;font-family:Menlo,'DejaVu Sans Mono',consolas,'Courier New',monospace\"><span style=\"color: #7fbfbf; text-decoration-color: #7fbfbf\">           </span><span style=\"color: #000080; text-decoration-color: #000080\">INFO    </span> Cropping OSM network to stops done <span style=\"font-weight: bold\">(</span><span style=\"color: #008080; text-decoration-color: #008080; font-weight: bold\">0.93</span> seconds<span style=\"font-weight: bold\">)</span>                               <a href=\"file:///tmp/ipykernel_73857/366977008.py\" target=\"_blank\"><span style=\"color: #7f7f7f; text-decoration-color: #7f7f7f\">366977008.py</span></a><span style=\"color: #7f7f7f; text-decoration-color: #7f7f7f\">:</span><a href=\"file:///tmp/ipykernel_73857/366977008.py#22\" target=\"_blank\"><span style=\"color: #7f7f7f; text-decoration-color: #7f7f7f\">22</span></a>\n",
       "</pre>\n"
      ],
      "text/plain": [
       "\u001b[2;36m          \u001b[0m\u001b[2;36m \u001b[0m\u001b[34mINFO    \u001b[0m Cropping OSM network to stops done \u001b[1m(\u001b[0m\u001b[1;36m0.93\u001b[0m seconds\u001b[1m)\u001b[0m                               \u001b]8;id=602290;file:///tmp/ipykernel_73857/366977008.py\u001b\\\u001b[2m366977008.py\u001b[0m\u001b]8;;\u001b\\\u001b[2m:\u001b[0m\u001b]8;id=955542;file:///tmp/ipykernel_73857/366977008.py#22\u001b\\\u001b[2m22\u001b[0m\u001b]8;;\u001b\\\n"
      ]
     },
     "metadata": {},
     "output_type": "display_data"
    },
    {
     "data": {
      "text/html": [
       "<pre style=\"white-space:pre;overflow-x:auto;line-height:normal;font-family:Menlo,'DejaVu Sans Mono',consolas,'Courier New',monospace\"><span style=\"color: #7fbfbf; text-decoration-color: #7fbfbf\">[12:27:45] </span><span style=\"color: #000080; text-decoration-color: #000080\">INFO    </span> Creating networkx graph                                                         <a href=\"file:///tmp/ipykernel_73857/366977008.py\" target=\"_blank\"><span style=\"color: #7f7f7f; text-decoration-color: #7f7f7f\">366977008.py</span></a><span style=\"color: #7f7f7f; text-decoration-color: #7f7f7f\">:</span><a href=\"file:///tmp/ipykernel_73857/366977008.py#25\" target=\"_blank\"><span style=\"color: #7f7f7f; text-decoration-color: #7f7f7f\">25</span></a>\n",
       "</pre>\n"
      ],
      "text/plain": [
       "\u001b[2;36m[12:27:45]\u001b[0m\u001b[2;36m \u001b[0m\u001b[34mINFO    \u001b[0m Creating networkx graph                                                         \u001b]8;id=306975;file:///tmp/ipykernel_73857/366977008.py\u001b\\\u001b[2m366977008.py\u001b[0m\u001b]8;;\u001b\\\u001b[2m:\u001b[0m\u001b]8;id=966224;file:///tmp/ipykernel_73857/366977008.py#25\u001b\\\u001b[2m25\u001b[0m\u001b]8;;\u001b\\\n"
      ]
     },
     "metadata": {},
     "output_type": "display_data"
    },
    {
     "data": {
      "text/html": [
       "<pre style=\"white-space:pre;overflow-x:auto;line-height:normal;font-family:Menlo,'DejaVu Sans Mono',consolas,'Courier New',monospace\"><span style=\"color: #7fbfbf; text-decoration-color: #7fbfbf\">[12:27:49] </span><span style=\"color: #000080; text-decoration-color: #000080\">INFO    </span> Creating networkx graph done <span style=\"font-weight: bold\">(</span><span style=\"color: #008080; text-decoration-color: #008080; font-weight: bold\">4.05</span> seconds<span style=\"font-weight: bold\">)</span>                                     <a href=\"file:///tmp/ipykernel_73857/366977008.py\" target=\"_blank\"><span style=\"color: #7f7f7f; text-decoration-color: #7f7f7f\">366977008.py</span></a><span style=\"color: #7f7f7f; text-decoration-color: #7f7f7f\">:</span><a href=\"file:///tmp/ipykernel_73857/366977008.py#25\" target=\"_blank\"><span style=\"color: #7f7f7f; text-decoration-color: #7f7f7f\">25</span></a>\n",
       "</pre>\n"
      ],
      "text/plain": [
       "\u001b[2;36m[12:27:49]\u001b[0m\u001b[2;36m \u001b[0m\u001b[34mINFO    \u001b[0m Creating networkx graph done \u001b[1m(\u001b[0m\u001b[1;36m4.05\u001b[0m seconds\u001b[1m)\u001b[0m                                     \u001b]8;id=210465;file:///tmp/ipykernel_73857/366977008.py\u001b\\\u001b[2m366977008.py\u001b[0m\u001b]8;;\u001b\\\u001b[2m:\u001b[0m\u001b]8;id=712342;file:///tmp/ipykernel_73857/366977008.py#25\u001b\\\u001b[2m25\u001b[0m\u001b]8;;\u001b\\\n"
      ]
     },
     "metadata": {},
     "output_type": "display_data"
    },
    {
     "data": {
      "text/html": [
       "<pre style=\"white-space:pre;overflow-x:auto;line-height:normal;font-family:Menlo,'DejaVu Sans Mono',consolas,'Courier New',monospace\"><span style=\"color: #7fbfbf; text-decoration-color: #7fbfbf\">           </span><span style=\"color: #000080; text-decoration-color: #000080\">INFO    </span> Adding nearest network node to each stop                                        <a href=\"file:///tmp/ipykernel_73857/366977008.py\" target=\"_blank\"><span style=\"color: #7f7f7f; text-decoration-color: #7f7f7f\">366977008.py</span></a><span style=\"color: #7f7f7f; text-decoration-color: #7f7f7f\">:</span><a href=\"file:///tmp/ipykernel_73857/366977008.py#28\" target=\"_blank\"><span style=\"color: #7f7f7f; text-decoration-color: #7f7f7f\">28</span></a>\n",
       "</pre>\n"
      ],
      "text/plain": [
       "\u001b[2;36m          \u001b[0m\u001b[2;36m \u001b[0m\u001b[34mINFO    \u001b[0m Adding nearest network node to each stop                                        \u001b]8;id=867687;file:///tmp/ipykernel_73857/366977008.py\u001b\\\u001b[2m366977008.py\u001b[0m\u001b]8;;\u001b\\\u001b[2m:\u001b[0m\u001b]8;id=459281;file:///tmp/ipykernel_73857/366977008.py#28\u001b\\\u001b[2m28\u001b[0m\u001b]8;;\u001b\\\n"
      ]
     },
     "metadata": {},
     "output_type": "display_data"
    },
    {
     "data": {
      "text/html": [
       "<pre style=\"white-space:pre;overflow-x:auto;line-height:normal;font-family:Menlo,'DejaVu Sans Mono',consolas,'Courier New',monospace\"><span style=\"color: #7fbfbf; text-decoration-color: #7fbfbf\">           </span><span style=\"color: #000080; text-decoration-color: #000080\">INFO    </span> Adding nearest network node to each stop done <span style=\"font-weight: bold\">(</span><span style=\"color: #008080; text-decoration-color: #008080; font-weight: bold\">0.18</span> seconds<span style=\"font-weight: bold\">)</span>                    <a href=\"file:///tmp/ipykernel_73857/366977008.py\" target=\"_blank\"><span style=\"color: #7f7f7f; text-decoration-color: #7f7f7f\">366977008.py</span></a><span style=\"color: #7f7f7f; text-decoration-color: #7f7f7f\">:</span><a href=\"file:///tmp/ipykernel_73857/366977008.py#28\" target=\"_blank\"><span style=\"color: #7f7f7f; text-decoration-color: #7f7f7f\">28</span></a>\n",
       "</pre>\n"
      ],
      "text/plain": [
       "\u001b[2;36m          \u001b[0m\u001b[2;36m \u001b[0m\u001b[34mINFO    \u001b[0m Adding nearest network node to each stop done \u001b[1m(\u001b[0m\u001b[1;36m0.18\u001b[0m seconds\u001b[1m)\u001b[0m                    \u001b]8;id=6765;file:///tmp/ipykernel_73857/366977008.py\u001b\\\u001b[2m366977008.py\u001b[0m\u001b]8;;\u001b\\\u001b[2m:\u001b[0m\u001b]8;id=308591;file:///tmp/ipykernel_73857/366977008.py#28\u001b\\\u001b[2m28\u001b[0m\u001b]8;;\u001b\\\n"
      ]
     },
     "metadata": {},
     "output_type": "display_data"
    },
    {
     "data": {
      "text/html": [
       "<pre style=\"white-space:pre;overflow-x:auto;line-height:normal;font-family:Menlo,'DejaVu Sans Mono',consolas,'Courier New',monospace\"><span style=\"color: #7fbfbf; text-decoration-color: #7fbfbf\">           </span><span style=\"color: #000080; text-decoration-color: #000080\">INFO    </span> Finding potential nearby stops for each stop                                    <a href=\"file:///tmp/ipykernel_73857/366977008.py\" target=\"_blank\"><span style=\"color: #7f7f7f; text-decoration-color: #7f7f7f\">366977008.py</span></a><span style=\"color: #7f7f7f; text-decoration-color: #7f7f7f\">:</span><a href=\"file:///tmp/ipykernel_73857/366977008.py#31\" target=\"_blank\"><span style=\"color: #7f7f7f; text-decoration-color: #7f7f7f\">31</span></a>\n",
       "</pre>\n"
      ],
      "text/plain": [
       "\u001b[2;36m          \u001b[0m\u001b[2;36m \u001b[0m\u001b[34mINFO    \u001b[0m Finding potential nearby stops for each stop                                    \u001b]8;id=973579;file:///tmp/ipykernel_73857/366977008.py\u001b\\\u001b[2m366977008.py\u001b[0m\u001b]8;;\u001b\\\u001b[2m:\u001b[0m\u001b]8;id=68137;file:///tmp/ipykernel_73857/366977008.py#31\u001b\\\u001b[2m31\u001b[0m\u001b]8;;\u001b\\\n"
      ]
     },
     "metadata": {},
     "output_type": "display_data"
    },
    {
     "data": {
      "text/html": [
       "<pre style=\"white-space:pre;overflow-x:auto;line-height:normal;font-family:Menlo,'DejaVu Sans Mono',consolas,'Courier New',monospace\"><span style=\"color: #7fbfbf; text-decoration-color: #7fbfbf\">           </span><span style=\"color: #000080; text-decoration-color: #000080\">INFO    </span> Finding potential nearby stops for each stop done <span style=\"font-weight: bold\">(</span><span style=\"color: #008080; text-decoration-color: #008080; font-weight: bold\">0.14</span> seconds<span style=\"font-weight: bold\">)</span>                <a href=\"file:///tmp/ipykernel_73857/366977008.py\" target=\"_blank\"><span style=\"color: #7f7f7f; text-decoration-color: #7f7f7f\">366977008.py</span></a><span style=\"color: #7f7f7f; text-decoration-color: #7f7f7f\">:</span><a href=\"file:///tmp/ipykernel_73857/366977008.py#31\" target=\"_blank\"><span style=\"color: #7f7f7f; text-decoration-color: #7f7f7f\">31</span></a>\n",
       "</pre>\n"
      ],
      "text/plain": [
       "\u001b[2;36m          \u001b[0m\u001b[2;36m \u001b[0m\u001b[34mINFO    \u001b[0m Finding potential nearby stops for each stop done \u001b[1m(\u001b[0m\u001b[1;36m0.14\u001b[0m seconds\u001b[1m)\u001b[0m                \u001b]8;id=212449;file:///tmp/ipykernel_73857/366977008.py\u001b\\\u001b[2m366977008.py\u001b[0m\u001b]8;;\u001b\\\u001b[2m:\u001b[0m\u001b]8;id=279137;file:///tmp/ipykernel_73857/366977008.py#31\u001b\\\u001b[2m31\u001b[0m\u001b]8;;\u001b\\\n"
      ]
     },
     "metadata": {},
     "output_type": "display_data"
    },
    {
     "data": {
      "text/html": [
       "<pre style=\"white-space:pre;overflow-x:auto;line-height:normal;font-family:Menlo,'DejaVu Sans Mono',consolas,'Courier New',monospace\"><span style=\"color: #7fbfbf; text-decoration-color: #7fbfbf\">           </span><span style=\"color: #000080; text-decoration-color: #000080\">INFO    </span> Calculating distances between nearby stops                                      <a href=\"file:///tmp/ipykernel_73857/366977008.py\" target=\"_blank\"><span style=\"color: #7f7f7f; text-decoration-color: #7f7f7f\">366977008.py</span></a><span style=\"color: #7f7f7f; text-decoration-color: #7f7f7f\">:</span><a href=\"file:///tmp/ipykernel_73857/366977008.py#51\" target=\"_blank\"><span style=\"color: #7f7f7f; text-decoration-color: #7f7f7f\">51</span></a>\n",
       "</pre>\n"
      ],
      "text/plain": [
       "\u001b[2;36m          \u001b[0m\u001b[2;36m \u001b[0m\u001b[34mINFO    \u001b[0m Calculating distances between nearby stops                                      \u001b]8;id=774553;file:///tmp/ipykernel_73857/366977008.py\u001b\\\u001b[2m366977008.py\u001b[0m\u001b]8;;\u001b\\\u001b[2m:\u001b[0m\u001b]8;id=739805;file:///tmp/ipykernel_73857/366977008.py#51\u001b\\\u001b[2m51\u001b[0m\u001b]8;;\u001b\\\n"
      ]
     },
     "metadata": {},
     "output_type": "display_data"
    },
    {
     "data": {
      "text/html": [
       "<pre style=\"white-space:pre;overflow-x:auto;line-height:normal;font-family:Menlo,'DejaVu Sans Mono',consolas,'Courier New',monospace\"><span style=\"color: #7fbfbf; text-decoration-color: #7fbfbf\">           </span><span style=\"color: #000080; text-decoration-color: #000080\">INFO    </span> Creating igraph graph                                                              <a href=\"file:///home/moritz/dev/uni/mcr-py/notebooks/../src/package/graph/igraph.py\" target=\"_blank\"><span style=\"color: #7f7f7f; text-decoration-color: #7f7f7f\">igraph.py</span></a><span style=\"color: #7f7f7f; text-decoration-color: #7f7f7f\">:</span><a href=\"file:///home/moritz/dev/uni/mcr-py/notebooks/../src/package/graph/igraph.py#20\" target=\"_blank\"><span style=\"color: #7f7f7f; text-decoration-color: #7f7f7f\">20</span></a>\n",
       "</pre>\n"
      ],
      "text/plain": [
       "\u001b[2;36m          \u001b[0m\u001b[2;36m \u001b[0m\u001b[34mINFO    \u001b[0m Creating igraph graph                                                              \u001b]8;id=153743;file:///home/moritz/dev/uni/mcr-py/notebooks/../src/package/graph/igraph.py\u001b\\\u001b[2migraph.py\u001b[0m\u001b]8;;\u001b\\\u001b[2m:\u001b[0m\u001b]8;id=911461;file:///home/moritz/dev/uni/mcr-py/notebooks/../src/package/graph/igraph.py#20\u001b\\\u001b[2m20\u001b[0m\u001b]8;;\u001b\\\n"
      ]
     },
     "metadata": {},
     "output_type": "display_data"
    },
    {
     "data": {
      "text/html": [
       "<pre style=\"white-space:pre;overflow-x:auto;line-height:normal;font-family:Menlo,'DejaVu Sans Mono',consolas,'Courier New',monospace\"><span style=\"color: #7fbfbf; text-decoration-color: #7fbfbf\">[12:27:52] </span><span style=\"color: #000080; text-decoration-color: #000080\">INFO    </span> Creating igraph graph done <span style=\"font-weight: bold\">(</span><span style=\"color: #008080; text-decoration-color: #008080; font-weight: bold\">2.61</span> seconds<span style=\"font-weight: bold\">)</span>                                          <a href=\"file:///home/moritz/dev/uni/mcr-py/notebooks/../src/package/graph/igraph.py\" target=\"_blank\"><span style=\"color: #7f7f7f; text-decoration-color: #7f7f7f\">igraph.py</span></a><span style=\"color: #7f7f7f; text-decoration-color: #7f7f7f\">:</span><a href=\"file:///home/moritz/dev/uni/mcr-py/notebooks/../src/package/graph/igraph.py#20\" target=\"_blank\"><span style=\"color: #7f7f7f; text-decoration-color: #7f7f7f\">20</span></a>\n",
       "</pre>\n"
      ],
      "text/plain": [
       "\u001b[2;36m[12:27:52]\u001b[0m\u001b[2;36m \u001b[0m\u001b[34mINFO    \u001b[0m Creating igraph graph done \u001b[1m(\u001b[0m\u001b[1;36m2.61\u001b[0m seconds\u001b[1m)\u001b[0m                                          \u001b]8;id=768128;file:///home/moritz/dev/uni/mcr-py/notebooks/../src/package/graph/igraph.py\u001b\\\u001b[2migraph.py\u001b[0m\u001b]8;;\u001b\\\u001b[2m:\u001b[0m\u001b]8;id=221245;file:///home/moritz/dev/uni/mcr-py/notebooks/../src/package/graph/igraph.py#20\u001b\\\u001b[2m20\u001b[0m\u001b]8;;\u001b\\\n"
      ]
     },
     "metadata": {},
     "output_type": "display_data"
    },
    {
     "data": {
      "text/html": [
       "<pre style=\"white-space:pre;overflow-x:auto;line-height:normal;font-family:Menlo,'DejaVu Sans Mono',consolas,'Courier New',monospace\"><span style=\"color: #7fbfbf; text-decoration-color: #7fbfbf\">           </span><span style=\"color: #000080; text-decoration-color: #000080\">INFO    </span> Calculating distances between nearby stops failed <span style=\"font-weight: bold\">(</span><span style=\"color: #008080; text-decoration-color: #008080; font-weight: bold\">2.76</span> seconds<span style=\"font-weight: bold\">)</span>                <a href=\"file:///tmp/ipykernel_73857/366977008.py\" target=\"_blank\"><span style=\"color: #7f7f7f; text-decoration-color: #7f7f7f\">366977008.py</span></a><span style=\"color: #7f7f7f; text-decoration-color: #7f7f7f\">:</span><a href=\"file:///tmp/ipykernel_73857/366977008.py#51\" target=\"_blank\"><span style=\"color: #7f7f7f; text-decoration-color: #7f7f7f\">51</span></a>\n",
       "</pre>\n"
      ],
      "text/plain": [
       "\u001b[2;36m          \u001b[0m\u001b[2;36m \u001b[0m\u001b[34mINFO    \u001b[0m Calculating distances between nearby stops failed \u001b[1m(\u001b[0m\u001b[1;36m2.76\u001b[0m seconds\u001b[1m)\u001b[0m                \u001b]8;id=232546;file:///tmp/ipykernel_73857/366977008.py\u001b\\\u001b[2m366977008.py\u001b[0m\u001b]8;;\u001b\\\u001b[2m:\u001b[0m\u001b]8;id=143372;file:///tmp/ipykernel_73857/366977008.py#51\u001b\\\u001b[2m51\u001b[0m\u001b]8;;\u001b\\\n"
      ]
     },
     "metadata": {},
     "output_type": "display_data"
    },
    {
     "ename": "TypeError",
     "evalue": "'zip' object is not subscriptable",
     "output_type": "error",
     "traceback": [
      "\u001b[0;31m---------------------------------------------------------------------------\u001b[0m",
      "\u001b[0;31mTypeError\u001b[0m                                 Traceback (most recent call last)",
      "Cell \u001b[0;32mIn[47], line 52\u001b[0m\n\u001b[1;32m     44\u001b[0m source_targets_map: \u001b[39mdict\u001b[39m[\u001b[39mint\u001b[39m, \u001b[39mlist\u001b[39m[\u001b[39mint\u001b[39m]] \u001b[39m=\u001b[39m {\n\u001b[1;32m     45\u001b[0m \tstop_to_node_map[stop_id]: [\n\u001b[1;32m     46\u001b[0m \t\tstop_to_node_map[stop_id] \u001b[39mfor\u001b[39;00m stop_id \u001b[39min\u001b[39;00m nearby_stops\n\u001b[1;32m     47\u001b[0m \t]\n\u001b[1;32m     48\u001b[0m \t\u001b[39mfor\u001b[39;00m stop_id, nearby_stops \u001b[39min\u001b[39;00m nearby_stops_map\u001b[39m.\u001b[39mitems()\n\u001b[1;32m     49\u001b[0m }\n\u001b[1;32m     51\u001b[0m \u001b[39mwith\u001b[39;00m Timed\u001b[39m.\u001b[39minfo(\u001b[39m\"\u001b[39m\u001b[39mCalculating distances between nearby stops\u001b[39m\u001b[39m\"\u001b[39m):\n\u001b[0;32m---> 52\u001b[0m \tsource_targets_distance_map \u001b[39m=\u001b[39m igraph\u001b[39m.\u001b[39;49mquery_multiple_one_to_many(\n\u001b[1;32m     53\u001b[0m \t\tsource_targets_map, osm_reader, nodes, edges\n\u001b[1;32m     54\u001b[0m \t)\n\u001b[1;32m     56\u001b[0m footpaths: \u001b[39mdict\u001b[39m[\u001b[39mstr\u001b[39m, \u001b[39mdict\u001b[39m[\u001b[39mstr\u001b[39m, \u001b[39mint\u001b[39m]] \u001b[39m=\u001b[39m {}\n\u001b[1;32m     57\u001b[0m \u001b[39mfor\u001b[39;00m source_node, targets_distance_map \u001b[39min\u001b[39;00m source_targets_distance_map\u001b[39m.\u001b[39mitems():\n",
      "File \u001b[0;32m~/dev/uni/mcr-py/notebooks/../src/package/graph/igraph.py:37\u001b[0m, in \u001b[0;36mquery_multiple_one_to_many\u001b[0;34m(source_target_nodes_map, osm_reader, nodes, edges)\u001b[0m\n\u001b[1;32m     29\u001b[0m source_target_nodes_map_igraph: \u001b[39mdict\u001b[39m[\u001b[39mint\u001b[39m, \u001b[39mlist\u001b[39m[\u001b[39mint\u001b[39m]] \u001b[39m=\u001b[39m {\n\u001b[1;32m     30\u001b[0m     node_id_to_g_igraph_node_id_map[node_id]: [\n\u001b[1;32m     31\u001b[0m         node_id_to_g_igraph_node_id_map[node_id] \u001b[39mfor\u001b[39;00m node_id \u001b[39min\u001b[39;00m nearby_nodes\n\u001b[1;32m     32\u001b[0m     ]\n\u001b[1;32m     33\u001b[0m     \u001b[39mfor\u001b[39;00m node_id, nearby_nodes \u001b[39min\u001b[39;00m source_target_nodes_map\u001b[39m.\u001b[39mitems()\n\u001b[1;32m     34\u001b[0m }\n\u001b[1;32m     36\u001b[0m unpack \u001b[39m=\u001b[39m \u001b[39mzip\u001b[39m(\u001b[39m*\u001b[39msource_target_nodes_map_igraph\u001b[39m.\u001b[39mitems())\n\u001b[0;32m---> 37\u001b[0m source_nodes: \u001b[39mlist\u001b[39m[\u001b[39mint\u001b[39m] \u001b[39m=\u001b[39m unpack[\u001b[39m0\u001b[39;49m]  \u001b[39m# type: ignore\u001b[39;00m\n\u001b[1;32m     38\u001b[0m target_nodes_matrix: \u001b[39mlist\u001b[39m[\u001b[39mlist\u001b[39m[\u001b[39mint\u001b[39m]] \u001b[39m=\u001b[39m unpack[\u001b[39m1\u001b[39m]  \u001b[39m# type: ignore\u001b[39;00m\n\u001b[1;32m     40\u001b[0m res \u001b[39m=\u001b[39m process_map(\n\u001b[1;32m     41\u001b[0m     get_shortest_path_one_to_many,\n\u001b[1;32m     42\u001b[0m     source_nodes,\n\u001b[0;32m   (...)\u001b[0m\n\u001b[1;32m     45\u001b[0m     max_workers\u001b[39m=\u001b[39mmultiprocessing\u001b[39m.\u001b[39mcpu_count() \u001b[39m-\u001b[39m \u001b[39m2\u001b[39m,  \u001b[39m# leave some to prevent lags\u001b[39;00m\n\u001b[1;32m     46\u001b[0m )\n",
      "\u001b[0;31mTypeError\u001b[0m: 'zip' object is not subscriptable"
     ]
    }
   ],
   "source": [
    "city_id = \"Koeln\"\n",
    "osm_path = get_osm_path_from_city_id(city_id)\n",
    "stops_path = \"../data/cleaned/stops.csv\"\n",
    "avg_walking_speed = 1.4  # m/s\n",
    "max_walking_duration = 10 * 60  # s\n",
    "\n",
    "if not os.path.exists(osm_path) and city_id:\n",
    "\tllog.info(\"Downloading OSM data\")\n",
    "\tdownload_osm(city_id, osm_path)\n",
    "else:\n",
    "\tllog.info(\"Using existing OSM data\")\n",
    "\n",
    "osm_reader = osm.new_osm_reader(osm_path)\n",
    "\n",
    "with Timed.info(\"Reading OSM network\"):\n",
    "\t# TODO: optimally we should first crop the data and then read the network\n",
    "\tnodes, edges = osm.read_network(osm_reader)\n",
    "\n",
    "with Timed.info(\"Reading stops\"):\n",
    "\tstops_df = storage.read_gdf(stops_path)\n",
    "\n",
    "with Timed.info(\"Cropping OSM network to stops\"):\n",
    "\tnodes, edges = osm.crop_to_stops(nodes, edges, stops_df)\n",
    "\n",
    "with Timed.info(\"Creating networkx graph\"):\n",
    "\tnx_graph = create_nx_graph(osm_reader, nodes, edges)\n",
    "\n",
    "with Timed.info(\"Adding nearest network node to each stop\"):\n",
    "\tstops_df = add_nearest_node_to_stops(stops_df, nx_graph)\n",
    "\n",
    "with Timed.info(\"Finding potential nearby stops for each stop\"):\n",
    "\tnearby_stops_map = create_nearby_stops_map(\n",
    "\t\tstops_df, avg_walking_speed, max_walking_duration\n",
    "\t)\n"
   ]
  },
  {
   "cell_type": "code",
   "execution_count": 48,
   "metadata": {},
   "outputs": [
    {
     "data": {
      "text/html": [
       "<pre style=\"white-space:pre;overflow-x:auto;line-height:normal;font-family:Menlo,'DejaVu Sans Mono',consolas,'Courier New',monospace\"><span style=\"color: #7fbfbf; text-decoration-color: #7fbfbf\">[12:29:16] </span><span style=\"color: #000080; text-decoration-color: #000080\">INFO    </span> Calculating distances between nearby stops                                     <a href=\"file:///tmp/ipykernel_73857/4088830788.py\" target=\"_blank\"><span style=\"color: #7f7f7f; text-decoration-color: #7f7f7f\">4088830788.py</span></a><span style=\"color: #7f7f7f; text-decoration-color: #7f7f7f\">:</span><a href=\"file:///tmp/ipykernel_73857/4088830788.py#16\" target=\"_blank\"><span style=\"color: #7f7f7f; text-decoration-color: #7f7f7f\">16</span></a>\n",
       "</pre>\n"
      ],
      "text/plain": [
       "\u001b[2;36m[12:29:16]\u001b[0m\u001b[2;36m \u001b[0m\u001b[34mINFO    \u001b[0m Calculating distances between nearby stops                                     \u001b]8;id=837471;file:///tmp/ipykernel_73857/4088830788.py\u001b\\\u001b[2m4088830788.py\u001b[0m\u001b]8;;\u001b\\\u001b[2m:\u001b[0m\u001b]8;id=969346;file:///tmp/ipykernel_73857/4088830788.py#16\u001b\\\u001b[2m16\u001b[0m\u001b]8;;\u001b\\\n"
      ]
     },
     "metadata": {},
     "output_type": "display_data"
    },
    {
     "data": {
      "text/html": [
       "<pre style=\"white-space:pre;overflow-x:auto;line-height:normal;font-family:Menlo,'DejaVu Sans Mono',consolas,'Courier New',monospace\"><span style=\"color: #7fbfbf; text-decoration-color: #7fbfbf\">           </span><span style=\"color: #000080; text-decoration-color: #000080\">INFO    </span> Creating igraph graph                                                              <a href=\"file:///home/moritz/dev/uni/mcr-py/notebooks/../src/package/graph/igraph.py\" target=\"_blank\"><span style=\"color: #7f7f7f; text-decoration-color: #7f7f7f\">igraph.py</span></a><span style=\"color: #7f7f7f; text-decoration-color: #7f7f7f\">:</span><a href=\"file:///home/moritz/dev/uni/mcr-py/notebooks/../src/package/graph/igraph.py#20\" target=\"_blank\"><span style=\"color: #7f7f7f; text-decoration-color: #7f7f7f\">20</span></a>\n",
       "</pre>\n"
      ],
      "text/plain": [
       "\u001b[2;36m          \u001b[0m\u001b[2;36m \u001b[0m\u001b[34mINFO    \u001b[0m Creating igraph graph                                                              \u001b]8;id=639388;file:///home/moritz/dev/uni/mcr-py/notebooks/../src/package/graph/igraph.py\u001b\\\u001b[2migraph.py\u001b[0m\u001b]8;;\u001b\\\u001b[2m:\u001b[0m\u001b]8;id=316645;file:///home/moritz/dev/uni/mcr-py/notebooks/../src/package/graph/igraph.py#20\u001b\\\u001b[2m20\u001b[0m\u001b]8;;\u001b\\\n"
      ]
     },
     "metadata": {},
     "output_type": "display_data"
    },
    {
     "data": {
      "text/html": [
       "<pre style=\"white-space:pre;overflow-x:auto;line-height:normal;font-family:Menlo,'DejaVu Sans Mono',consolas,'Courier New',monospace\"><span style=\"color: #7fbfbf; text-decoration-color: #7fbfbf\">[12:29:25] </span><span style=\"color: #000080; text-decoration-color: #000080\">INFO    </span> Creating igraph graph done <span style=\"font-weight: bold\">(</span><span style=\"color: #008080; text-decoration-color: #008080; font-weight: bold\">8.86</span> seconds<span style=\"font-weight: bold\">)</span>                                          <a href=\"file:///home/moritz/dev/uni/mcr-py/notebooks/../src/package/graph/igraph.py\" target=\"_blank\"><span style=\"color: #7f7f7f; text-decoration-color: #7f7f7f\">igraph.py</span></a><span style=\"color: #7f7f7f; text-decoration-color: #7f7f7f\">:</span><a href=\"file:///home/moritz/dev/uni/mcr-py/notebooks/../src/package/graph/igraph.py#20\" target=\"_blank\"><span style=\"color: #7f7f7f; text-decoration-color: #7f7f7f\">20</span></a>\n",
       "</pre>\n"
      ],
      "text/plain": [
       "\u001b[2;36m[12:29:25]\u001b[0m\u001b[2;36m \u001b[0m\u001b[34mINFO    \u001b[0m Creating igraph graph done \u001b[1m(\u001b[0m\u001b[1;36m8.86\u001b[0m seconds\u001b[1m)\u001b[0m                                          \u001b]8;id=289517;file:///home/moritz/dev/uni/mcr-py/notebooks/../src/package/graph/igraph.py\u001b\\\u001b[2migraph.py\u001b[0m\u001b]8;;\u001b\\\u001b[2m:\u001b[0m\u001b]8;id=820474;file:///home/moritz/dev/uni/mcr-py/notebooks/../src/package/graph/igraph.py#20\u001b\\\u001b[2m20\u001b[0m\u001b]8;;\u001b\\\n"
      ]
     },
     "metadata": {},
     "output_type": "display_data"
    },
    {
     "data": {
      "application/vnd.jupyter.widget-view+json": {
       "model_id": "4a45eda875204e6c91a28953bee5193e",
       "version_major": 2,
       "version_minor": 0
      },
      "text/plain": [
       "  0%|          | 0/97 [00:00<?, ?it/s]"
      ]
     },
     "metadata": {},
     "output_type": "display_data"
    },
    {
     "data": {
      "text/html": [
       "<pre style=\"white-space:pre;overflow-x:auto;line-height:normal;font-family:Menlo,'DejaVu Sans Mono',consolas,'Courier New',monospace\"><span style=\"color: #7fbfbf; text-decoration-color: #7fbfbf\">[12:29:28] </span><span style=\"color: #000080; text-decoration-color: #000080\">INFO    </span> Calculating distances between nearby stops done <span style=\"font-weight: bold\">(</span><span style=\"color: #008080; text-decoration-color: #008080; font-weight: bold\">11.52</span> seconds<span style=\"font-weight: bold\">)</span>                <a href=\"file:///tmp/ipykernel_73857/4088830788.py\" target=\"_blank\"><span style=\"color: #7f7f7f; text-decoration-color: #7f7f7f\">4088830788.py</span></a><span style=\"color: #7f7f7f; text-decoration-color: #7f7f7f\">:</span><a href=\"file:///tmp/ipykernel_73857/4088830788.py#16\" target=\"_blank\"><span style=\"color: #7f7f7f; text-decoration-color: #7f7f7f\">16</span></a>\n",
       "</pre>\n"
      ],
      "text/plain": [
       "\u001b[2;36m[12:29:28]\u001b[0m\u001b[2;36m \u001b[0m\u001b[34mINFO    \u001b[0m Calculating distances between nearby stops done \u001b[1m(\u001b[0m\u001b[1;36m11.52\u001b[0m seconds\u001b[1m)\u001b[0m                \u001b]8;id=454568;file:///tmp/ipykernel_73857/4088830788.py\u001b\\\u001b[2m4088830788.py\u001b[0m\u001b]8;;\u001b\\\u001b[2m:\u001b[0m\u001b]8;id=928845;file:///tmp/ipykernel_73857/4088830788.py#16\u001b\\\u001b[2m16\u001b[0m\u001b]8;;\u001b\\\n"
      ]
     },
     "metadata": {},
     "output_type": "display_data"
    }
   ],
   "source": [
    "\n",
    "stop_to_node_map: dict[str, int] = stops_df.set_index(\"stop_id\")[\n",
    "\t\"nearest_node\"\n",
    "].to_dict()\n",
    "node_to_stop_map: dict[int, str] = stops_df.set_index(\"nearest_node\")[\n",
    "\t\"stop_id\"\n",
    "].to_dict()\n",
    "\n",
    "# this map contains the one-to-many queries that have to be solved on the graph\n",
    "source_targets_map: dict[int, list[int]] = {\n",
    "\tstop_to_node_map[stop_id]: [\n",
    "\t\tstop_to_node_map[stop_id] for stop_id in nearby_stops\n",
    "\t]\n",
    "\tfor stop_id, nearby_stops in nearby_stops_map.items()\n",
    "}\n",
    "\n",
    "with Timed.info(\"Calculating distances between nearby stops\"):\n",
    "\tsource_targets_distance_map = igraph.query_multiple_one_to_many(\n",
    "\t\tsource_targets_map, osm_reader, nodes, edges\n",
    "\t)\n",
    "\n",
    "footpaths: dict[str, dict[str, int]] = {}\n",
    "for source_node, targets_distance_map in source_targets_distance_map.items():\n",
    "\tstop_id = node_to_stop_map[source_node]\n",
    "\tfootpaths[stop_id] = {  # type: ignore\n",
    "\t\tnode_to_stop_map[target_node]: distance / avg_walking_speed\n",
    "\t\tfor target_node, distance in targets_distance_map.items()\n",
    "\t}"
   ]
  },
  {
   "cell_type": "code",
   "execution_count": 12,
   "metadata": {},
   "outputs": [],
   "source": [
    "s_edges = edges[['u', 'v', 'length']]"
   ]
  },
  {
   "cell_type": "code",
   "execution_count": 13,
   "metadata": {},
   "outputs": [],
   "source": [
    "s_edges.to_csv(\"../tmp/edges.csv\", index=False)"
   ]
  },
  {
   "cell_type": "code",
   "execution_count": 14,
   "metadata": {},
   "outputs": [],
   "source": [
    "import pandas as pd\n",
    "s_edges = pd.read_csv(\"../tmp/edges.csv\")"
   ]
  },
  {
   "cell_type": "code",
   "execution_count": 1,
   "metadata": {},
   "outputs": [
    {
     "data": {
      "text/plain": [
       "<function mcr_py.mcr_py.query_multiple_one_to_many(raw_edges, source_target_nodes_map)>"
      ]
     },
     "execution_count": 1,
     "metadata": {},
     "output_type": "execute_result"
    }
   ],
   "source": [
    "import mcr_py\n",
    "mcr_py.query_multiple_one_to_many"
   ]
  }
 ],
 "metadata": {
  "kernelspec": {
   "display_name": "mcr-py",
   "language": "python",
   "name": "python3"
  },
  "language_info": {
   "codemirror_mode": {
    "name": "ipython",
    "version": 3
   },
   "file_extension": ".py",
   "mimetype": "text/x-python",
   "name": "python",
   "nbconvert_exporter": "python",
   "pygments_lexer": "ipython3",
   "version": "3.10.12"
  },
  "orig_nbformat": 4
 },
 "nbformat": 4,
 "nbformat_minor": 2
}
