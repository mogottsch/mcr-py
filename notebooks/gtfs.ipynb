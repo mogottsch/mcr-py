{
 "cells": [
  {
   "cell_type": "code",
   "execution_count": 1,
   "metadata": {},
   "outputs": [],
   "source": [
    "%load_ext autoreload\n",
    "%autoreload 2\n",
    "import sys\n",
    "sys.path.append('../src/')"
   ]
  },
  {
   "cell_type": "code",
   "execution_count": 2,
   "metadata": {},
   "outputs": [],
   "source": [
    "import pandas as pd\n",
    "import os\n",
    "os.environ['USE_PYGEOS'] = '0'\n",
    "import folium\n",
    "from package import storage\n",
    "from typing import Optional"
   ]
  },
  {
   "cell_type": "code",
   "execution_count": 3,
   "metadata": {},
   "outputs": [],
   "source": [
    "stops_df = storage.read_df('../data/cleaned/stops.csv')\n",
    "stop_times_df = storage.read_df('../data/cleaned/stop_times.csv')\n",
    "trips_df = storage.read_df('../data/cleaned/trips.csv')\n",
    "# routes_df = storage.read_df('../data/cleaned/routes.csv')"
   ]
  },
  {
   "cell_type": "code",
   "execution_count": 4,
   "metadata": {},
   "outputs": [],
   "source": [
    "def plot_route(route_id: str, m: Optional[folium.Map] = None) -> folium.Map:\n",
    "    associated_trips = trips_df[trips_df[\"route_id\"] == route_id]\n",
    "    trip = associated_trips.iloc[0]\n",
    "    associated_stops = stop_times_df[stop_times_df[\"trip_id\"] == trip[\"trip_id\"]]\n",
    "    associated_stops = associated_stops.merge(stops_df, on=\"stop_id\")\n",
    "\n",
    "    m = (\n",
    "        folium.Map(\n",
    "            location=[\n",
    "                associated_stops[\"stop_lat\"].mean(),\n",
    "                associated_stops[\"stop_lon\"].mean(),\n",
    "            ],\n",
    "            zoom_start=12,\n",
    "        )\n",
    "        if m is None\n",
    "        else m\n",
    "    )\n",
    "\n",
    "    folium.PolyLine(\n",
    "        associated_stops[[\"stop_lat\", \"stop_lon\"]].values.tolist(),\n",
    "        color=\"red\",\n",
    "        weight=2.5,\n",
    "        opacity=1,\n",
    "    ).add_to(m)\n",
    "    return m\n",
    "\n",
    "\n",
    "def plot_stop(stop_id: str, m: Optional[folium.Map] = None) -> folium.Map:\n",
    "    stop = stops_df[stops_df[\"stop_id\"] == stop_id].iloc[0]\n",
    "    m = (\n",
    "        folium.Map(location=[stop[\"stop_lat\"], stop[\"stop_lon\"]], zoom_start=12)\n",
    "        if m is None\n",
    "        else m\n",
    "    )\n",
    "    folium.Marker([stop[\"stop_lat\"], stop[\"stop_lon\"]], popup=stop[\"stop_name\"]).add_to(\n",
    "        m\n",
    "    )\n",
    "    return m\n"
   ]
  },
  {
   "cell_type": "code",
   "execution_count": 5,
   "metadata": {},
   "outputs": [
    {
     "ename": "IndexError",
     "evalue": "single positional indexer is out-of-bounds",
     "output_type": "error",
     "traceback": [
      "\u001b[0;31m---------------------------------------------------------------------------\u001b[0m",
      "\u001b[0;31mIndexError\u001b[0m                                Traceback (most recent call last)",
      "Cell \u001b[0;32mIn[5], line 1\u001b[0m\n\u001b[0;32m----> 1\u001b[0m m \u001b[39m=\u001b[39m plot_route(\u001b[39m\"\u001b[39;49m\u001b[39m100016_1_C\u001b[39;49m\u001b[39m\"\u001b[39;49m)\n\u001b[1;32m      2\u001b[0m plot_stop(\u001b[39m\"\u001b[39m\u001b[39m880\u001b[39m\u001b[39m\"\u001b[39m, m)\n",
      "Cell \u001b[0;32mIn[4], line 3\u001b[0m, in \u001b[0;36mplot_route\u001b[0;34m(route_id, m)\u001b[0m\n\u001b[1;32m      1\u001b[0m \u001b[39mdef\u001b[39;00m \u001b[39mplot_route\u001b[39m(route_id: \u001b[39mstr\u001b[39m, m: Optional[folium\u001b[39m.\u001b[39mMap] \u001b[39m=\u001b[39m \u001b[39mNone\u001b[39;00m) \u001b[39m-\u001b[39m\u001b[39m>\u001b[39m folium\u001b[39m.\u001b[39mMap:\n\u001b[1;32m      2\u001b[0m     associated_trips \u001b[39m=\u001b[39m trips_df[trips_df[\u001b[39m\"\u001b[39m\u001b[39mroute_id\u001b[39m\u001b[39m\"\u001b[39m] \u001b[39m==\u001b[39m route_id]\n\u001b[0;32m----> 3\u001b[0m     trip \u001b[39m=\u001b[39m associated_trips\u001b[39m.\u001b[39;49miloc[\u001b[39m0\u001b[39;49m]\n\u001b[1;32m      4\u001b[0m     associated_stops \u001b[39m=\u001b[39m stop_times_df[stop_times_df[\u001b[39m\"\u001b[39m\u001b[39mtrip_id\u001b[39m\u001b[39m\"\u001b[39m] \u001b[39m==\u001b[39m trip[\u001b[39m\"\u001b[39m\u001b[39mtrip_id\u001b[39m\u001b[39m\"\u001b[39m]]\n\u001b[1;32m      5\u001b[0m     associated_stops \u001b[39m=\u001b[39m associated_stops\u001b[39m.\u001b[39mmerge(stops_df, on\u001b[39m=\u001b[39m\u001b[39m\"\u001b[39m\u001b[39mstop_id\u001b[39m\u001b[39m\"\u001b[39m)\n",
      "File \u001b[0;32m~/miniconda3/envs/mcr-py/lib/python3.10/site-packages/pandas/core/indexing.py:1103\u001b[0m, in \u001b[0;36m_LocationIndexer.__getitem__\u001b[0;34m(self, key)\u001b[0m\n\u001b[1;32m   1100\u001b[0m axis \u001b[39m=\u001b[39m \u001b[39mself\u001b[39m\u001b[39m.\u001b[39maxis \u001b[39mor\u001b[39;00m \u001b[39m0\u001b[39m\n\u001b[1;32m   1102\u001b[0m maybe_callable \u001b[39m=\u001b[39m com\u001b[39m.\u001b[39mapply_if_callable(key, \u001b[39mself\u001b[39m\u001b[39m.\u001b[39mobj)\n\u001b[0;32m-> 1103\u001b[0m \u001b[39mreturn\u001b[39;00m \u001b[39mself\u001b[39;49m\u001b[39m.\u001b[39;49m_getitem_axis(maybe_callable, axis\u001b[39m=\u001b[39;49maxis)\n",
      "File \u001b[0;32m~/miniconda3/envs/mcr-py/lib/python3.10/site-packages/pandas/core/indexing.py:1656\u001b[0m, in \u001b[0;36m_iLocIndexer._getitem_axis\u001b[0;34m(self, key, axis)\u001b[0m\n\u001b[1;32m   1653\u001b[0m     \u001b[39mraise\u001b[39;00m \u001b[39mTypeError\u001b[39;00m(\u001b[39m\"\u001b[39m\u001b[39mCannot index by location index with a non-integer key\u001b[39m\u001b[39m\"\u001b[39m)\n\u001b[1;32m   1655\u001b[0m \u001b[39m# validate the location\u001b[39;00m\n\u001b[0;32m-> 1656\u001b[0m \u001b[39mself\u001b[39;49m\u001b[39m.\u001b[39;49m_validate_integer(key, axis)\n\u001b[1;32m   1658\u001b[0m \u001b[39mreturn\u001b[39;00m \u001b[39mself\u001b[39m\u001b[39m.\u001b[39mobj\u001b[39m.\u001b[39m_ixs(key, axis\u001b[39m=\u001b[39maxis)\n",
      "File \u001b[0;32m~/miniconda3/envs/mcr-py/lib/python3.10/site-packages/pandas/core/indexing.py:1589\u001b[0m, in \u001b[0;36m_iLocIndexer._validate_integer\u001b[0;34m(self, key, axis)\u001b[0m\n\u001b[1;32m   1587\u001b[0m len_axis \u001b[39m=\u001b[39m \u001b[39mlen\u001b[39m(\u001b[39mself\u001b[39m\u001b[39m.\u001b[39mobj\u001b[39m.\u001b[39m_get_axis(axis))\n\u001b[1;32m   1588\u001b[0m \u001b[39mif\u001b[39;00m key \u001b[39m>\u001b[39m\u001b[39m=\u001b[39m len_axis \u001b[39mor\u001b[39;00m key \u001b[39m<\u001b[39m \u001b[39m-\u001b[39mlen_axis:\n\u001b[0;32m-> 1589\u001b[0m     \u001b[39mraise\u001b[39;00m \u001b[39mIndexError\u001b[39;00m(\u001b[39m\"\u001b[39m\u001b[39msingle positional indexer is out-of-bounds\u001b[39m\u001b[39m\"\u001b[39m)\n",
      "\u001b[0;31mIndexError\u001b[0m: single positional indexer is out-of-bounds"
     ]
    }
   ],
   "source": [
    "m = plot_route(\"100016_1_C\")\n",
    "plot_stop(\"880\", m)"
   ]
  },
  {
   "cell_type": "code",
   "execution_count": null,
   "metadata": {},
   "outputs": [],
   "source": []
  }
 ],
 "metadata": {
  "kernelspec": {
   "display_name": "mcr-py",
   "language": "python",
   "name": "python3"
  },
  "language_info": {
   "codemirror_mode": {
    "name": "ipython",
    "version": 3
   },
   "file_extension": ".py",
   "mimetype": "text/x-python",
   "name": "python",
   "nbconvert_exporter": "python",
   "pygments_lexer": "ipython3",
   "version": "3.10.12"
  },
  "orig_nbformat": 4
 },
 "nbformat": 4,
 "nbformat_minor": 2
}
