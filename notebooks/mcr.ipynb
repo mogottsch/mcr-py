{
 "cells": [
  {
   "cell_type": "code",
   "execution_count": 2,
   "metadata": {},
   "outputs": [],
   "source": [
    "%load_ext autoreload\n",
    "%autoreload 2\n",
    "# add . to module name\n",
    "import sys\n",
    "sys.path.append('../src/')"
   ]
  },
  {
   "cell_type": "code",
   "execution_count": 111,
   "metadata": {},
   "outputs": [
    {
     "name": "stderr",
     "output_type": "stream",
     "text": [
      "[autoreload of mcr_py failed: Traceback (most recent call last):\n",
      "  File \"/home/moritz/miniconda3/envs/mcr-py/lib/python3.10/site-packages/IPython/extensions/autoreload.py\", line 276, in check\n",
      "    superreload(m, reload, self.old_objects)\n",
      "  File \"/home/moritz/miniconda3/envs/mcr-py/lib/python3.10/site-packages/IPython/extensions/autoreload.py\", line 475, in superreload\n",
      "    module = reload(module)\n",
      "  File \"/home/moritz/miniconda3/envs/mcr-py/lib/python3.10/importlib/__init__.py\", line 169, in reload\n",
      "    _bootstrap._exec(spec, module)\n",
      "  File \"<frozen importlib._bootstrap>\", line 619, in _exec\n",
      "  File \"<frozen importlib._bootstrap_external>\", line 883, in exec_module\n",
      "  File \"<frozen importlib._bootstrap>\", line 241, in _call_with_frames_removed\n",
      "  File \"/home/moritz/miniconda3/envs/mcr-py/lib/python3.10/site-packages/mcr_py/__init__.py\", line 3, in <module>\n",
      "    __doc__ = mcr_py.__doc__\n",
      "NameError: name 'mcr_py' is not defined\n",
      "]\n"
     ]
    }
   ],
   "source": [
    "from package.logger import Timed, rlog, setup\n",
    "from package import storage\n",
    "setup(\"INFO\")"
   ]
  },
  {
   "cell_type": "code",
   "execution_count": 112,
   "metadata": {},
   "outputs": [],
   "source": [
    "from mcr_py import run_mlc_with_bags, GraphCache"
   ]
  },
  {
   "cell_type": "code",
   "execution_count": 113,
   "metadata": {},
   "outputs": [],
   "source": [
    "\n",
    "from typing import Any, Tuple\n",
    "\n",
    "import pandas as pd\n",
    "import geopandas as gpd\n",
    "\n",
    "import mcr_py\n",
    "from mcr_py import GraphCache\n",
    "import pyrosm\n",
    "from package import storage\n",
    "from package.logger import Timed\n",
    "from package.mcr.path import PathManager\n",
    "from package.osm import osm, graph\n",
    "from package.rust.bag import convert_to_intermediate_bags\n",
    "\n",
    "\n",
    "ACCURACY = 4\n",
    "ACCURACY_MULTIPLIER = 10 ** (ACCURACY - 1)\n",
    "\n",
    "AVG_WALKING_SPEED = 1.4  # m/s\n",
    "AVG_BIKING_SPEED = 4.0  # m/s\n",
    "\n"
   ]
  },
  {
   "cell_type": "code",
   "execution_count": 114,
   "metadata": {},
   "outputs": [],
   "source": [
    "def get_reverse_map(d: dict[Any, Any]) -> dict[Any, Any]:\n",
    "    return {v: k for k, v in d.items()}\n",
    "def prefix_id(\n",
    "    gdf: pd.DataFrame, prefix: str, column: str, save_old=False\n",
    ") -> pd.DataFrame:\n",
    "    if save_old:\n",
    "        gdf[f\"{column}_old\"] = gdf[column]\n",
    "    gdf[column] = prefix + gdf[column].astype(str)\n",
    "\n",
    "    return gdf\n",
    "\n",
    "\n",
    "def get_graph(\n",
    "    osm_reader: pyrosm.OSM, stops_df: gpd.GeoDataFrame\n",
    ") -> Tuple[gpd.GeoDataFrame, gpd.GeoDataFrame]:\n",
    "    with Timed.info(\"Getting OSM graph\"):\n",
    "        nodes, edges = osm.get_graph_for_city_cropped_to_stops(osm_reader, stops_df)\n",
    "\n",
    "    return nodes, edges\n",
    "\n",
    "\n",
    "def mark_bicycles(nodes: pd.DataFrame) -> pd.DataFrame:\n",
    "    nodes[\"has_bicycle\"] = False\n",
    "    nodes.loc[nodes.sample(100).index, \"has_bicycle\"] = True\n",
    "    return nodes\n",
    "\n",
    "\n",
    "def create_multi_modal_graph(\n",
    "    nodes: pd.DataFrame, edges: pd.DataFrame\n",
    ") -> dict[str, pd.DataFrame]:\n",
    "    walking_nodes = nodes.copy()\n",
    "    bike_nodes = nodes.copy()\n",
    "    walking_edges = edges.copy()\n",
    "    bike_edges = edges.copy()\n",
    "\n",
    "    walking_nodes = prefix_id(walking_nodes, \"W\", \"id\", save_old=True)\n",
    "    bike_nodes = prefix_id(bike_nodes, \"B\", \"id\", save_old=True)\n",
    "\n",
    "    walking_edges = prefix_id(walking_edges, \"W\", \"u\")\n",
    "    walking_edges = prefix_id(walking_edges, \"W\", \"v\")\n",
    "    bike_edges = prefix_id(bike_edges, \"B\", \"u\")\n",
    "    bike_edges = prefix_id(bike_edges, \"B\", \"v\")\n",
    "\n",
    "    transfer_edges = create_transfer_edges(nodes)\n",
    "\n",
    "    walking_edges = add_travel_time(walking_edges, AVG_WALKING_SPEED)\n",
    "    bike_edges = add_travel_time(bike_edges, AVG_BIKING_SPEED)\n",
    "\n",
    "    bike_edges[\"travel_time_bike\"] = bike_edges[\"travel_time\"]\n",
    "\n",
    "    edges = combine_edges(walking_edges, bike_edges, transfer_edges)\n",
    "    nodes = pd.concat([walking_nodes, bike_nodes])\n",
    "    return {\n",
    "        \"nodes\": nodes,\n",
    "        \"edges\": edges,\n",
    "        \"walking_nodes\": walking_nodes,\n",
    "        \"walking_edges\": walking_edges,\n",
    "    }\n",
    "\n",
    "\n",
    "# create transfer edges from bike to walk at all nodes\n",
    "def create_transfer_edges(nodes: pd.DataFrame):\n",
    "    transfer_edges_values: pd.Series = nodes.apply(\n",
    "        lambda x: [\"B\" + str(x.id), \"W\" + str(x.id), 0], axis=1\n",
    "    )  # type: ignore\n",
    "    transfer_edges = pd.DataFrame(\n",
    "        transfer_edges_values.tolist(), columns=[\"u\", \"v\", \"length\"]\n",
    "    )\n",
    "\n",
    "    return transfer_edges\n",
    "\n",
    "\n",
    "def add_travel_time(edges: pd.DataFrame, speed: float) -> pd.DataFrame:\n",
    "    edges[\"travel_time\"] = edges.length / speed\n",
    "\n",
    "    return edges\n",
    "\n",
    "\n",
    "def combine_edges(\n",
    "    walking_edges: pd.DataFrame,\n",
    "    bike_edges: pd.DataFrame,\n",
    "    transfer_edges: pd.DataFrame,\n",
    ") -> pd.DataFrame:\n",
    "    edges = pd.concat([walking_edges, bike_edges, transfer_edges], ignore_index=True)\n",
    "\n",
    "    # fill travel_time for transfer edges and\n",
    "    # travel_time_bike for walking and transfer edges\n",
    "    edges = edges.fillna(0)\n",
    "\n",
    "    return edges\n",
    "\n",
    "\n",
    "def add_multi_modal_weights(edges: pd.DataFrame) -> pd.DataFrame:\n",
    "    edges[\"weights\"] = (\n",
    "        \"(\"\n",
    "        + (edges[\"travel_time\"].round(ACCURACY) * ACCURACY_MULTIPLIER)\n",
    "        .astype(int)\n",
    "        .astype(str)\n",
    "        + \",0)\"\n",
    "    )\n",
    "    edges[\"hidden_weights\"] = (\n",
    "        \"(\"\n",
    "        + (edges[\"travel_time_bike\"].round(ACCURACY) * ACCURACY_MULTIPLIER)\n",
    "        .astype(int)\n",
    "        .astype(str)\n",
    "        + \")\"\n",
    "    )\n",
    "\n",
    "    return edges\n",
    "\n",
    "\n",
    "def add_single_modal_weights(edges: pd.DataFrame) -> pd.DataFrame:\n",
    "    edges[\"weights\"] = (\n",
    "        \"(\"\n",
    "        + (edges[\"travel_time\"].round(ACCURACY) * ACCURACY_MULTIPLIER)\n",
    "        .astype(int)\n",
    "        .astype(str)\n",
    "        + \")\"\n",
    "    )\n",
    "    return edges\n",
    "\n",
    "\n",
    "def reset_node_ids(\n",
    "    nodes: pd.DataFrame, edges: pd.DataFrame\n",
    ") -> Tuple[pd.DataFrame, pd.DataFrame, dict[Any, int]]:\n",
    "    node_map = {}\n",
    "    for i, node_id in enumerate(nodes.id.unique()):\n",
    "        node_map[node_id] = i\n",
    "\n",
    "    nodes[\"old_id\"] = nodes[\"id\"]\n",
    "    nodes[\"id\"] = nodes[\"id\"].map(node_map)\n",
    "    edges[\"u\"] = edges[\"u\"].map(node_map)\n",
    "    edges[\"v\"] = edges[\"v\"].map(node_map)\n",
    "\n",
    "    total_na = edges.isna().sum().sum() + nodes.isna().sum().sum()\n",
    "    if total_na > 0:\n",
    "        raise ValueError(f\"Found {total_na} NaNs in graph\")\n",
    "\n",
    "    return nodes, edges, node_map\n"
   ]
  },
  {
   "cell_type": "code",
   "execution_count": 115,
   "metadata": {},
   "outputs": [
    {
     "data": {
      "text/html": [
       "<pre style=\"white-space:pre;overflow-x:auto;line-height:normal;font-family:Menlo,'DejaVu Sans Mono',consolas,'Courier New',monospace\"><span style=\"color: #7fbfbf; text-decoration-color: #7fbfbf\">[10:47:18] </span><span style=\"color: #000080; text-decoration-color: #000080\">INFO    </span> Reading stops                                                                     <a href=\"file:///tmp/ipykernel_8359/25483325.py\" target=\"_blank\"><span style=\"color: #7f7f7f; text-decoration-color: #7f7f7f\">25483325.py</span></a><span style=\"color: #7f7f7f; text-decoration-color: #7f7f7f\">:</span><a href=\"file:///tmp/ipykernel_8359/25483325.py#5\" target=\"_blank\"><span style=\"color: #7f7f7f; text-decoration-color: #7f7f7f\">5</span></a>\n",
       "</pre>\n"
      ],
      "text/plain": [
       "\u001b[2;36m[10:47:18]\u001b[0m\u001b[2;36m \u001b[0m\u001b[34mINFO    \u001b[0m Reading stops                                                                     \u001b]8;id=59713;file:///tmp/ipykernel_8359/25483325.py\u001b\\\u001b[2m25483325.py\u001b[0m\u001b]8;;\u001b\\\u001b[2m:\u001b[0m\u001b]8;id=785436;file:///tmp/ipykernel_8359/25483325.py#5\u001b\\\u001b[2m5\u001b[0m\u001b]8;;\u001b\\\n"
      ]
     },
     "metadata": {},
     "output_type": "display_data"
    },
    {
     "data": {
      "text/html": [
       "<pre style=\"white-space:pre;overflow-x:auto;line-height:normal;font-family:Menlo,'DejaVu Sans Mono',consolas,'Courier New',monospace\"><span style=\"color: #7fbfbf; text-decoration-color: #7fbfbf\">           </span><span style=\"color: #000080; text-decoration-color: #000080\">INFO    </span> Reading stops done <span style=\"font-weight: bold\">(</span><span style=\"color: #008080; text-decoration-color: #008080; font-weight: bold\">0.04</span> seconds<span style=\"font-weight: bold\">)</span>                                                 <a href=\"file:///tmp/ipykernel_8359/25483325.py\" target=\"_blank\"><span style=\"color: #7f7f7f; text-decoration-color: #7f7f7f\">25483325.py</span></a><span style=\"color: #7f7f7f; text-decoration-color: #7f7f7f\">:</span><a href=\"file:///tmp/ipykernel_8359/25483325.py#5\" target=\"_blank\"><span style=\"color: #7f7f7f; text-decoration-color: #7f7f7f\">5</span></a>\n",
       "</pre>\n"
      ],
      "text/plain": [
       "\u001b[2;36m          \u001b[0m\u001b[2;36m \u001b[0m\u001b[34mINFO    \u001b[0m Reading stops done \u001b[1m(\u001b[0m\u001b[1;36m0.04\u001b[0m seconds\u001b[1m)\u001b[0m                                                 \u001b]8;id=747502;file:///tmp/ipykernel_8359/25483325.py\u001b\\\u001b[2m25483325.py\u001b[0m\u001b]8;;\u001b\\\u001b[2m:\u001b[0m\u001b]8;id=310375;file:///tmp/ipykernel_8359/25483325.py#5\u001b\\\u001b[2m5\u001b[0m\u001b]8;;\u001b\\\n"
      ]
     },
     "metadata": {},
     "output_type": "display_data"
    },
    {
     "data": {
      "text/html": [
       "<pre style=\"white-space:pre;overflow-x:auto;line-height:normal;font-family:Menlo,'DejaVu Sans Mono',consolas,'Courier New',monospace\"><span style=\"color: #7fbfbf; text-decoration-color: #7fbfbf\">           </span><span style=\"color: #000080; text-decoration-color: #000080\">INFO    </span> Preparing graphs                                                                  <a href=\"file:///tmp/ipykernel_8359/25483325.py\" target=\"_blank\"><span style=\"color: #7f7f7f; text-decoration-color: #7f7f7f\">25483325.py</span></a><span style=\"color: #7f7f7f; text-decoration-color: #7f7f7f\">:</span><a href=\"file:///tmp/ipykernel_8359/25483325.py#8\" target=\"_blank\"><span style=\"color: #7f7f7f; text-decoration-color: #7f7f7f\">8</span></a>\n",
       "</pre>\n"
      ],
      "text/plain": [
       "\u001b[2;36m          \u001b[0m\u001b[2;36m \u001b[0m\u001b[34mINFO    \u001b[0m Preparing graphs                                                                  \u001b]8;id=830901;file:///tmp/ipykernel_8359/25483325.py\u001b\\\u001b[2m25483325.py\u001b[0m\u001b]8;;\u001b\\\u001b[2m:\u001b[0m\u001b]8;id=733875;file:///tmp/ipykernel_8359/25483325.py#8\u001b\\\u001b[2m8\u001b[0m\u001b]8;;\u001b\\\n"
      ]
     },
     "metadata": {},
     "output_type": "display_data"
    },
    {
     "data": {
      "text/html": [
       "<pre style=\"white-space:pre;overflow-x:auto;line-height:normal;font-family:Menlo,'DejaVu Sans Mono',consolas,'Courier New',monospace\"><span style=\"color: #7fbfbf; text-decoration-color: #7fbfbf\">           </span><span style=\"color: #000080; text-decoration-color: #000080\">INFO    </span> Using existing OSM data                                                           <a href=\"file:///tmp/ipykernel_8359/25483325.py\" target=\"_blank\"><span style=\"color: #7f7f7f; text-decoration-color: #7f7f7f\">25483325.py</span></a><span style=\"color: #7f7f7f; text-decoration-color: #7f7f7f\">:</span><a href=\"file:///tmp/ipykernel_8359/25483325.py#8\" target=\"_blank\"><span style=\"color: #7f7f7f; text-decoration-color: #7f7f7f\">8</span></a>\n",
       "</pre>\n"
      ],
      "text/plain": [
       "\u001b[2;36m          \u001b[0m\u001b[2;36m \u001b[0m\u001b[34mINFO    \u001b[0m Using existing OSM data                                                           \u001b]8;id=777324;file:///tmp/ipykernel_8359/25483325.py\u001b\\\u001b[2m25483325.py\u001b[0m\u001b]8;;\u001b\\\u001b[2m:\u001b[0m\u001b]8;id=434299;file:///tmp/ipykernel_8359/25483325.py#8\u001b\\\u001b[2m8\u001b[0m\u001b]8;;\u001b\\\n"
      ]
     },
     "metadata": {},
     "output_type": "display_data"
    },
    {
     "data": {
      "text/html": [
       "<pre style=\"white-space:pre;overflow-x:auto;line-height:normal;font-family:Menlo,'DejaVu Sans Mono',consolas,'Courier New',monospace\"><span style=\"color: #7fbfbf; text-decoration-color: #7fbfbf\">           </span><span style=\"color: #000080; text-decoration-color: #000080\">INFO    </span> Loading OSM network from cache                                                    <a href=\"file:///tmp/ipykernel_8359/25483325.py\" target=\"_blank\"><span style=\"color: #7f7f7f; text-decoration-color: #7f7f7f\">25483325.py</span></a><span style=\"color: #7f7f7f; text-decoration-color: #7f7f7f\">:</span><a href=\"file:///tmp/ipykernel_8359/25483325.py#8\" target=\"_blank\"><span style=\"color: #7f7f7f; text-decoration-color: #7f7f7f\">8</span></a>\n",
       "</pre>\n"
      ],
      "text/plain": [
       "\u001b[2;36m          \u001b[0m\u001b[2;36m \u001b[0m\u001b[34mINFO    \u001b[0m Loading OSM network from cache                                                    \u001b]8;id=904056;file:///tmp/ipykernel_8359/25483325.py\u001b\\\u001b[2m25483325.py\u001b[0m\u001b]8;;\u001b\\\u001b[2m:\u001b[0m\u001b]8;id=496685;file:///tmp/ipykernel_8359/25483325.py#8\u001b\\\u001b[2m8\u001b[0m\u001b]8;;\u001b\\\n"
      ]
     },
     "metadata": {},
     "output_type": "display_data"
    },
    {
     "data": {
      "text/html": [
       "<pre style=\"white-space:pre;overflow-x:auto;line-height:normal;font-family:Menlo,'DejaVu Sans Mono',consolas,'Courier New',monospace\"><span style=\"color: #7fbfbf; text-decoration-color: #7fbfbf\">[10:47:26] </span><span style=\"color: #000080; text-decoration-color: #000080\">INFO    </span> Preparing graphs done <span style=\"font-weight: bold\">(</span><span style=\"color: #008080; text-decoration-color: #008080; font-weight: bold\">7.80</span> seconds<span style=\"font-weight: bold\">)</span>                                              <a href=\"file:///tmp/ipykernel_8359/25483325.py\" target=\"_blank\"><span style=\"color: #7f7f7f; text-decoration-color: #7f7f7f\">25483325.py</span></a><span style=\"color: #7f7f7f; text-decoration-color: #7f7f7f\">:</span><a href=\"file:///tmp/ipykernel_8359/25483325.py#8\" target=\"_blank\"><span style=\"color: #7f7f7f; text-decoration-color: #7f7f7f\">8</span></a>\n",
       "</pre>\n"
      ],
      "text/plain": [
       "\u001b[2;36m[10:47:26]\u001b[0m\u001b[2;36m \u001b[0m\u001b[34mINFO    \u001b[0m Preparing graphs done \u001b[1m(\u001b[0m\u001b[1;36m7.80\u001b[0m seconds\u001b[1m)\u001b[0m                                              \u001b]8;id=979712;file:///tmp/ipykernel_8359/25483325.py\u001b\\\u001b[2m25483325.py\u001b[0m\u001b]8;;\u001b\\\u001b[2m:\u001b[0m\u001b]8;id=780129;file:///tmp/ipykernel_8359/25483325.py#8\u001b\\\u001b[2m8\u001b[0m\u001b]8;;\u001b\\\n"
      ]
     },
     "metadata": {},
     "output_type": "display_data"
    },
    {
     "data": {
      "text/html": [
       "<pre style=\"white-space:pre;overflow-x:auto;line-height:normal;font-family:Menlo,'DejaVu Sans Mono',consolas,'Courier New',monospace\"><span style=\"color: #7fbfbf; text-decoration-color: #7fbfbf\">           </span><span style=\"color: #000080; text-decoration-color: #000080\">INFO    </span> Creating graph cache                                                             <a href=\"file:///tmp/ipykernel_8359/25483325.py\" target=\"_blank\"><span style=\"color: #7f7f7f; text-decoration-color: #7f7f7f\">25483325.py</span></a><span style=\"color: #7f7f7f; text-decoration-color: #7f7f7f\">:</span><a href=\"file:///tmp/ipykernel_8359/25483325.py#45\" target=\"_blank\"><span style=\"color: #7f7f7f; text-decoration-color: #7f7f7f\">45</span></a>\n",
       "</pre>\n"
      ],
      "text/plain": [
       "\u001b[2;36m          \u001b[0m\u001b[2;36m \u001b[0m\u001b[34mINFO    \u001b[0m Creating graph cache                                                             \u001b]8;id=304083;file:///tmp/ipykernel_8359/25483325.py\u001b\\\u001b[2m25483325.py\u001b[0m\u001b]8;;\u001b\\\u001b[2m:\u001b[0m\u001b]8;id=271049;file:///tmp/ipykernel_8359/25483325.py#45\u001b\\\u001b[2m45\u001b[0m\u001b]8;;\u001b\\\n"
      ]
     },
     "metadata": {},
     "output_type": "display_data"
    },
    {
     "data": {
      "text/html": [
       "<pre style=\"white-space:pre;overflow-x:auto;line-height:normal;font-family:Menlo,'DejaVu Sans Mono',consolas,'Courier New',monospace\"><span style=\"color: #7fbfbf; text-decoration-color: #7fbfbf\">[10:47:27] </span><span style=\"color: #000080; text-decoration-color: #000080\">INFO    </span> Creating graph cache done <span style=\"font-weight: bold\">(</span><span style=\"color: #008080; text-decoration-color: #008080; font-weight: bold\">0.98</span> seconds<span style=\"font-weight: bold\">)</span>                                         <a href=\"file:///tmp/ipykernel_8359/25483325.py\" target=\"_blank\"><span style=\"color: #7f7f7f; text-decoration-color: #7f7f7f\">25483325.py</span></a><span style=\"color: #7f7f7f; text-decoration-color: #7f7f7f\">:</span><a href=\"file:///tmp/ipykernel_8359/25483325.py#45\" target=\"_blank\"><span style=\"color: #7f7f7f; text-decoration-color: #7f7f7f\">45</span></a>\n",
       "</pre>\n"
      ],
      "text/plain": [
       "\u001b[2;36m[10:47:27]\u001b[0m\u001b[2;36m \u001b[0m\u001b[34mINFO    \u001b[0m Creating graph cache done \u001b[1m(\u001b[0m\u001b[1;36m0.98\u001b[0m seconds\u001b[1m)\u001b[0m                                         \u001b]8;id=443980;file:///tmp/ipykernel_8359/25483325.py\u001b\\\u001b[2m25483325.py\u001b[0m\u001b]8;;\u001b\\\u001b[2m:\u001b[0m\u001b]8;id=530646;file:///tmp/ipykernel_8359/25483325.py#45\u001b\\\u001b[2m45\u001b[0m\u001b]8;;\u001b\\\n"
      ]
     },
     "metadata": {},
     "output_type": "display_data"
    },
    {
     "data": {
      "text/html": [
       "<pre style=\"white-space:pre;overflow-x:auto;line-height:normal;font-family:Menlo,'DejaVu Sans Mono',consolas,'Courier New',monospace\"><span style=\"color: #7fbfbf; text-decoration-color: #7fbfbf\">           </span><span style=\"color: #000080; text-decoration-color: #000080\">INFO    </span> Running Dijkstra step                                                            <a href=\"file:///tmp/ipykernel_8359/25483325.py\" target=\"_blank\"><span style=\"color: #7f7f7f; text-decoration-color: #7f7f7f\">25483325.py</span></a><span style=\"color: #7f7f7f; text-decoration-color: #7f7f7f\">:</span><a href=\"file:///tmp/ipykernel_8359/25483325.py#51\" target=\"_blank\"><span style=\"color: #7f7f7f; text-decoration-color: #7f7f7f\">51</span></a>\n",
       "</pre>\n"
      ],
      "text/plain": [
       "\u001b[2;36m          \u001b[0m\u001b[2;36m \u001b[0m\u001b[34mINFO    \u001b[0m Running Dijkstra step                                                            \u001b]8;id=204574;file:///tmp/ipykernel_8359/25483325.py\u001b\\\u001b[2m25483325.py\u001b[0m\u001b]8;;\u001b\\\u001b[2m:\u001b[0m\u001b]8;id=13644;file:///tmp/ipykernel_8359/25483325.py#51\u001b\\\u001b[2m51\u001b[0m\u001b]8;;\u001b\\\n"
      ]
     },
     "metadata": {},
     "output_type": "display_data"
    },
    {
     "data": {
      "text/html": [
       "<pre style=\"white-space:pre;overflow-x:auto;line-height:normal;font-family:Menlo,'DejaVu Sans Mono',consolas,'Courier New',monospace\"><span style=\"color: #7fbfbf; text-decoration-color: #7fbfbf\">           </span><span style=\"color: #000080; text-decoration-color: #000080\">INFO    </span> queue size: <span style=\"color: #008080; text-decoration-color: #008080; font-weight: bold\">90</span>                                                                       <a href=\"file:///home/moritz/dev/uni/mlc/src/mlc.rs\" target=\"_blank\"><span style=\"color: #7f7f7f; text-decoration-color: #7f7f7f\">mlc.rs</span></a><span style=\"color: #7f7f7f; text-decoration-color: #7f7f7f\">:</span><a href=\"file:///home/moritz/dev/uni/mlc/src/mlc.rs#215\" target=\"_blank\"><span style=\"color: #7f7f7f; text-decoration-color: #7f7f7f\">215</span></a>\n",
       "</pre>\n"
      ],
      "text/plain": [
       "\u001b[2;36m          \u001b[0m\u001b[2;36m \u001b[0m\u001b[34mINFO    \u001b[0m queue size: \u001b[1;36m90\u001b[0m                                                                       \u001b]8;id=493508;file:///home/moritz/dev/uni/mlc/src/mlc.rs\u001b\\\u001b[2mmlc.rs\u001b[0m\u001b]8;;\u001b\\\u001b[2m:\u001b[0m\u001b]8;id=621687;file:///home/moritz/dev/uni/mlc/src/mlc.rs#215\u001b\\\u001b[2m215\u001b[0m\u001b]8;;\u001b\\\n"
      ]
     },
     "metadata": {},
     "output_type": "display_data"
    },
    {
     "data": {
      "text/html": [
       "<pre style=\"white-space:pre;overflow-x:auto;line-height:normal;font-family:Menlo,'DejaVu Sans Mono',consolas,'Courier New',monospace\"><span style=\"color: #7fbfbf; text-decoration-color: #7fbfbf\">           </span><span style=\"color: #000080; text-decoration-color: #000080\">INFO    </span> queue size: <span style=\"color: #008080; text-decoration-color: #008080; font-weight: bold\">122</span>                                                                      <a href=\"file:///home/moritz/dev/uni/mlc/src/mlc.rs\" target=\"_blank\"><span style=\"color: #7f7f7f; text-decoration-color: #7f7f7f\">mlc.rs</span></a><span style=\"color: #7f7f7f; text-decoration-color: #7f7f7f\">:</span><a href=\"file:///home/moritz/dev/uni/mlc/src/mlc.rs#215\" target=\"_blank\"><span style=\"color: #7f7f7f; text-decoration-color: #7f7f7f\">215</span></a>\n",
       "</pre>\n"
      ],
      "text/plain": [
       "\u001b[2;36m          \u001b[0m\u001b[2;36m \u001b[0m\u001b[34mINFO    \u001b[0m queue size: \u001b[1;36m122\u001b[0m                                                                      \u001b]8;id=906411;file:///home/moritz/dev/uni/mlc/src/mlc.rs\u001b\\\u001b[2mmlc.rs\u001b[0m\u001b]8;;\u001b\\\u001b[2m:\u001b[0m\u001b]8;id=257895;file:///home/moritz/dev/uni/mlc/src/mlc.rs#215\u001b\\\u001b[2m215\u001b[0m\u001b]8;;\u001b\\\n"
      ]
     },
     "metadata": {},
     "output_type": "display_data"
    },
    {
     "data": {
      "text/html": [
       "<pre style=\"white-space:pre;overflow-x:auto;line-height:normal;font-family:Menlo,'DejaVu Sans Mono',consolas,'Courier New',monospace\"><span style=\"color: #7fbfbf; text-decoration-color: #7fbfbf\">           </span><span style=\"color: #000080; text-decoration-color: #000080\">INFO    </span> queue size: <span style=\"color: #008080; text-decoration-color: #008080; font-weight: bold\">122</span>                                                                      <a href=\"file:///home/moritz/dev/uni/mlc/src/mlc.rs\" target=\"_blank\"><span style=\"color: #7f7f7f; text-decoration-color: #7f7f7f\">mlc.rs</span></a><span style=\"color: #7f7f7f; text-decoration-color: #7f7f7f\">:</span><a href=\"file:///home/moritz/dev/uni/mlc/src/mlc.rs#215\" target=\"_blank\"><span style=\"color: #7f7f7f; text-decoration-color: #7f7f7f\">215</span></a>\n",
       "</pre>\n"
      ],
      "text/plain": [
       "\u001b[2;36m          \u001b[0m\u001b[2;36m \u001b[0m\u001b[34mINFO    \u001b[0m queue size: \u001b[1;36m122\u001b[0m                                                                      \u001b]8;id=362615;file:///home/moritz/dev/uni/mlc/src/mlc.rs\u001b\\\u001b[2mmlc.rs\u001b[0m\u001b]8;;\u001b\\\u001b[2m:\u001b[0m\u001b]8;id=290909;file:///home/moritz/dev/uni/mlc/src/mlc.rs#215\u001b\\\u001b[2m215\u001b[0m\u001b]8;;\u001b\\\n"
      ]
     },
     "metadata": {},
     "output_type": "display_data"
    },
    {
     "data": {
      "text/html": [
       "<pre style=\"white-space:pre;overflow-x:auto;line-height:normal;font-family:Menlo,'DejaVu Sans Mono',consolas,'Courier New',monospace\"><span style=\"color: #7fbfbf; text-decoration-color: #7fbfbf\">           </span><span style=\"color: #000080; text-decoration-color: #000080\">INFO    </span> queue size: <span style=\"color: #008080; text-decoration-color: #008080; font-weight: bold\">134</span>                                                                      <a href=\"file:///home/moritz/dev/uni/mlc/src/mlc.rs\" target=\"_blank\"><span style=\"color: #7f7f7f; text-decoration-color: #7f7f7f\">mlc.rs</span></a><span style=\"color: #7f7f7f; text-decoration-color: #7f7f7f\">:</span><a href=\"file:///home/moritz/dev/uni/mlc/src/mlc.rs#215\" target=\"_blank\"><span style=\"color: #7f7f7f; text-decoration-color: #7f7f7f\">215</span></a>\n",
       "</pre>\n"
      ],
      "text/plain": [
       "\u001b[2;36m          \u001b[0m\u001b[2;36m \u001b[0m\u001b[34mINFO    \u001b[0m queue size: \u001b[1;36m134\u001b[0m                                                                      \u001b]8;id=919431;file:///home/moritz/dev/uni/mlc/src/mlc.rs\u001b\\\u001b[2mmlc.rs\u001b[0m\u001b]8;;\u001b\\\u001b[2m:\u001b[0m\u001b]8;id=173541;file:///home/moritz/dev/uni/mlc/src/mlc.rs#215\u001b\\\u001b[2m215\u001b[0m\u001b]8;;\u001b\\\n"
      ]
     },
     "metadata": {},
     "output_type": "display_data"
    },
    {
     "data": {
      "text/html": [
       "<pre style=\"white-space:pre;overflow-x:auto;line-height:normal;font-family:Menlo,'DejaVu Sans Mono',consolas,'Courier New',monospace\"><span style=\"color: #7fbfbf; text-decoration-color: #7fbfbf\">           </span><span style=\"color: #000080; text-decoration-color: #000080\">INFO    </span> queue size: <span style=\"color: #008080; text-decoration-color: #008080; font-weight: bold\">172</span>                                                                      <a href=\"file:///home/moritz/dev/uni/mlc/src/mlc.rs\" target=\"_blank\"><span style=\"color: #7f7f7f; text-decoration-color: #7f7f7f\">mlc.rs</span></a><span style=\"color: #7f7f7f; text-decoration-color: #7f7f7f\">:</span><a href=\"file:///home/moritz/dev/uni/mlc/src/mlc.rs#215\" target=\"_blank\"><span style=\"color: #7f7f7f; text-decoration-color: #7f7f7f\">215</span></a>\n",
       "</pre>\n"
      ],
      "text/plain": [
       "\u001b[2;36m          \u001b[0m\u001b[2;36m \u001b[0m\u001b[34mINFO    \u001b[0m queue size: \u001b[1;36m172\u001b[0m                                                                      \u001b]8;id=301849;file:///home/moritz/dev/uni/mlc/src/mlc.rs\u001b\\\u001b[2mmlc.rs\u001b[0m\u001b]8;;\u001b\\\u001b[2m:\u001b[0m\u001b]8;id=691470;file:///home/moritz/dev/uni/mlc/src/mlc.rs#215\u001b\\\u001b[2m215\u001b[0m\u001b]8;;\u001b\\\n"
      ]
     },
     "metadata": {},
     "output_type": "display_data"
    },
    {
     "data": {
      "text/html": [
       "<pre style=\"white-space:pre;overflow-x:auto;line-height:normal;font-family:Menlo,'DejaVu Sans Mono',consolas,'Courier New',monospace\"><span style=\"color: #7fbfbf; text-decoration-color: #7fbfbf\">           </span><span style=\"color: #000080; text-decoration-color: #000080\">INFO    </span> queue size: <span style=\"color: #008080; text-decoration-color: #008080; font-weight: bold\">151</span>                                                                      <a href=\"file:///home/moritz/dev/uni/mlc/src/mlc.rs\" target=\"_blank\"><span style=\"color: #7f7f7f; text-decoration-color: #7f7f7f\">mlc.rs</span></a><span style=\"color: #7f7f7f; text-decoration-color: #7f7f7f\">:</span><a href=\"file:///home/moritz/dev/uni/mlc/src/mlc.rs#215\" target=\"_blank\"><span style=\"color: #7f7f7f; text-decoration-color: #7f7f7f\">215</span></a>\n",
       "</pre>\n"
      ],
      "text/plain": [
       "\u001b[2;36m          \u001b[0m\u001b[2;36m \u001b[0m\u001b[34mINFO    \u001b[0m queue size: \u001b[1;36m151\u001b[0m                                                                      \u001b]8;id=499312;file:///home/moritz/dev/uni/mlc/src/mlc.rs\u001b\\\u001b[2mmlc.rs\u001b[0m\u001b]8;;\u001b\\\u001b[2m:\u001b[0m\u001b]8;id=267436;file:///home/moritz/dev/uni/mlc/src/mlc.rs#215\u001b\\\u001b[2m215\u001b[0m\u001b]8;;\u001b\\\n"
      ]
     },
     "metadata": {},
     "output_type": "display_data"
    },
    {
     "data": {
      "text/html": [
       "<pre style=\"white-space:pre;overflow-x:auto;line-height:normal;font-family:Menlo,'DejaVu Sans Mono',consolas,'Courier New',monospace\"><span style=\"color: #7fbfbf; text-decoration-color: #7fbfbf\">           </span><span style=\"color: #000080; text-decoration-color: #000080\">INFO    </span> queue size: <span style=\"color: #008080; text-decoration-color: #008080; font-weight: bold\">176</span>                                                                      <a href=\"file:///home/moritz/dev/uni/mlc/src/mlc.rs\" target=\"_blank\"><span style=\"color: #7f7f7f; text-decoration-color: #7f7f7f\">mlc.rs</span></a><span style=\"color: #7f7f7f; text-decoration-color: #7f7f7f\">:</span><a href=\"file:///home/moritz/dev/uni/mlc/src/mlc.rs#215\" target=\"_blank\"><span style=\"color: #7f7f7f; text-decoration-color: #7f7f7f\">215</span></a>\n",
       "</pre>\n"
      ],
      "text/plain": [
       "\u001b[2;36m          \u001b[0m\u001b[2;36m \u001b[0m\u001b[34mINFO    \u001b[0m queue size: \u001b[1;36m176\u001b[0m                                                                      \u001b]8;id=30605;file:///home/moritz/dev/uni/mlc/src/mlc.rs\u001b\\\u001b[2mmlc.rs\u001b[0m\u001b]8;;\u001b\\\u001b[2m:\u001b[0m\u001b]8;id=373877;file:///home/moritz/dev/uni/mlc/src/mlc.rs#215\u001b\\\u001b[2m215\u001b[0m\u001b]8;;\u001b\\\n"
      ]
     },
     "metadata": {},
     "output_type": "display_data"
    },
    {
     "data": {
      "text/html": [
       "<pre style=\"white-space:pre;overflow-x:auto;line-height:normal;font-family:Menlo,'DejaVu Sans Mono',consolas,'Courier New',monospace\"><span style=\"color: #7fbfbf; text-decoration-color: #7fbfbf\">           </span><span style=\"color: #000080; text-decoration-color: #000080\">INFO    </span> queue size: <span style=\"color: #008080; text-decoration-color: #008080; font-weight: bold\">174</span>                                                                      <a href=\"file:///home/moritz/dev/uni/mlc/src/mlc.rs\" target=\"_blank\"><span style=\"color: #7f7f7f; text-decoration-color: #7f7f7f\">mlc.rs</span></a><span style=\"color: #7f7f7f; text-decoration-color: #7f7f7f\">:</span><a href=\"file:///home/moritz/dev/uni/mlc/src/mlc.rs#215\" target=\"_blank\"><span style=\"color: #7f7f7f; text-decoration-color: #7f7f7f\">215</span></a>\n",
       "</pre>\n"
      ],
      "text/plain": [
       "\u001b[2;36m          \u001b[0m\u001b[2;36m \u001b[0m\u001b[34mINFO    \u001b[0m queue size: \u001b[1;36m174\u001b[0m                                                                      \u001b]8;id=857022;file:///home/moritz/dev/uni/mlc/src/mlc.rs\u001b\\\u001b[2mmlc.rs\u001b[0m\u001b]8;;\u001b\\\u001b[2m:\u001b[0m\u001b]8;id=614653;file:///home/moritz/dev/uni/mlc/src/mlc.rs#215\u001b\\\u001b[2m215\u001b[0m\u001b]8;;\u001b\\\n"
      ]
     },
     "metadata": {},
     "output_type": "display_data"
    },
    {
     "data": {
      "text/html": [
       "<pre style=\"white-space:pre;overflow-x:auto;line-height:normal;font-family:Menlo,'DejaVu Sans Mono',consolas,'Courier New',monospace\"><span style=\"color: #7fbfbf; text-decoration-color: #7fbfbf\">           </span><span style=\"color: #000080; text-decoration-color: #000080\">INFO    </span> queue size: <span style=\"color: #008080; text-decoration-color: #008080; font-weight: bold\">174</span>                                                                      <a href=\"file:///home/moritz/dev/uni/mlc/src/mlc.rs\" target=\"_blank\"><span style=\"color: #7f7f7f; text-decoration-color: #7f7f7f\">mlc.rs</span></a><span style=\"color: #7f7f7f; text-decoration-color: #7f7f7f\">:</span><a href=\"file:///home/moritz/dev/uni/mlc/src/mlc.rs#215\" target=\"_blank\"><span style=\"color: #7f7f7f; text-decoration-color: #7f7f7f\">215</span></a>\n",
       "</pre>\n"
      ],
      "text/plain": [
       "\u001b[2;36m          \u001b[0m\u001b[2;36m \u001b[0m\u001b[34mINFO    \u001b[0m queue size: \u001b[1;36m174\u001b[0m                                                                      \u001b]8;id=705991;file:///home/moritz/dev/uni/mlc/src/mlc.rs\u001b\\\u001b[2mmlc.rs\u001b[0m\u001b]8;;\u001b\\\u001b[2m:\u001b[0m\u001b]8;id=406068;file:///home/moritz/dev/uni/mlc/src/mlc.rs#215\u001b\\\u001b[2m215\u001b[0m\u001b]8;;\u001b\\\n"
      ]
     },
     "metadata": {},
     "output_type": "display_data"
    },
    {
     "data": {
      "text/html": [
       "<pre style=\"white-space:pre;overflow-x:auto;line-height:normal;font-family:Menlo,'DejaVu Sans Mono',consolas,'Courier New',monospace\"><span style=\"color: #7fbfbf; text-decoration-color: #7fbfbf\">           </span><span style=\"color: #000080; text-decoration-color: #000080\">INFO    </span> queue size: <span style=\"color: #008080; text-decoration-color: #008080; font-weight: bold\">201</span>                                                                      <a href=\"file:///home/moritz/dev/uni/mlc/src/mlc.rs\" target=\"_blank\"><span style=\"color: #7f7f7f; text-decoration-color: #7f7f7f\">mlc.rs</span></a><span style=\"color: #7f7f7f; text-decoration-color: #7f7f7f\">:</span><a href=\"file:///home/moritz/dev/uni/mlc/src/mlc.rs#215\" target=\"_blank\"><span style=\"color: #7f7f7f; text-decoration-color: #7f7f7f\">215</span></a>\n",
       "</pre>\n"
      ],
      "text/plain": [
       "\u001b[2;36m          \u001b[0m\u001b[2;36m \u001b[0m\u001b[34mINFO    \u001b[0m queue size: \u001b[1;36m201\u001b[0m                                                                      \u001b]8;id=34069;file:///home/moritz/dev/uni/mlc/src/mlc.rs\u001b\\\u001b[2mmlc.rs\u001b[0m\u001b]8;;\u001b\\\u001b[2m:\u001b[0m\u001b]8;id=240252;file:///home/moritz/dev/uni/mlc/src/mlc.rs#215\u001b\\\u001b[2m215\u001b[0m\u001b]8;;\u001b\\\n"
      ]
     },
     "metadata": {},
     "output_type": "display_data"
    },
    {
     "data": {
      "text/html": [
       "<pre style=\"white-space:pre;overflow-x:auto;line-height:normal;font-family:Menlo,'DejaVu Sans Mono',consolas,'Courier New',monospace\"><span style=\"color: #7fbfbf; text-decoration-color: #7fbfbf\">           </span><span style=\"color: #000080; text-decoration-color: #000080\">INFO    </span> queue size: <span style=\"color: #008080; text-decoration-color: #008080; font-weight: bold\">200</span>                                                                      <a href=\"file:///home/moritz/dev/uni/mlc/src/mlc.rs\" target=\"_blank\"><span style=\"color: #7f7f7f; text-decoration-color: #7f7f7f\">mlc.rs</span></a><span style=\"color: #7f7f7f; text-decoration-color: #7f7f7f\">:</span><a href=\"file:///home/moritz/dev/uni/mlc/src/mlc.rs#215\" target=\"_blank\"><span style=\"color: #7f7f7f; text-decoration-color: #7f7f7f\">215</span></a>\n",
       "</pre>\n"
      ],
      "text/plain": [
       "\u001b[2;36m          \u001b[0m\u001b[2;36m \u001b[0m\u001b[34mINFO    \u001b[0m queue size: \u001b[1;36m200\u001b[0m                                                                      \u001b]8;id=141146;file:///home/moritz/dev/uni/mlc/src/mlc.rs\u001b\\\u001b[2mmlc.rs\u001b[0m\u001b]8;;\u001b\\\u001b[2m:\u001b[0m\u001b]8;id=134045;file:///home/moritz/dev/uni/mlc/src/mlc.rs#215\u001b\\\u001b[2m215\u001b[0m\u001b]8;;\u001b\\\n"
      ]
     },
     "metadata": {},
     "output_type": "display_data"
    },
    {
     "data": {
      "text/html": [
       "<pre style=\"white-space:pre;overflow-x:auto;line-height:normal;font-family:Menlo,'DejaVu Sans Mono',consolas,'Courier New',monospace\"><span style=\"color: #7fbfbf; text-decoration-color: #7fbfbf\">           </span><span style=\"color: #000080; text-decoration-color: #000080\">INFO    </span> queue size: <span style=\"color: #008080; text-decoration-color: #008080; font-weight: bold\">200</span>                                                                      <a href=\"file:///home/moritz/dev/uni/mlc/src/mlc.rs\" target=\"_blank\"><span style=\"color: #7f7f7f; text-decoration-color: #7f7f7f\">mlc.rs</span></a><span style=\"color: #7f7f7f; text-decoration-color: #7f7f7f\">:</span><a href=\"file:///home/moritz/dev/uni/mlc/src/mlc.rs#215\" target=\"_blank\"><span style=\"color: #7f7f7f; text-decoration-color: #7f7f7f\">215</span></a>\n",
       "</pre>\n"
      ],
      "text/plain": [
       "\u001b[2;36m          \u001b[0m\u001b[2;36m \u001b[0m\u001b[34mINFO    \u001b[0m queue size: \u001b[1;36m200\u001b[0m                                                                      \u001b]8;id=501578;file:///home/moritz/dev/uni/mlc/src/mlc.rs\u001b\\\u001b[2mmlc.rs\u001b[0m\u001b]8;;\u001b\\\u001b[2m:\u001b[0m\u001b]8;id=966269;file:///home/moritz/dev/uni/mlc/src/mlc.rs#215\u001b\\\u001b[2m215\u001b[0m\u001b]8;;\u001b\\\n"
      ]
     },
     "metadata": {},
     "output_type": "display_data"
    },
    {
     "data": {
      "text/html": [
       "<pre style=\"white-space:pre;overflow-x:auto;line-height:normal;font-family:Menlo,'DejaVu Sans Mono',consolas,'Courier New',monospace\"><span style=\"color: #7fbfbf; text-decoration-color: #7fbfbf\">           </span><span style=\"color: #000080; text-decoration-color: #000080\">INFO    </span> queue size: <span style=\"color: #008080; text-decoration-color: #008080; font-weight: bold\">223</span>                                                                      <a href=\"file:///home/moritz/dev/uni/mlc/src/mlc.rs\" target=\"_blank\"><span style=\"color: #7f7f7f; text-decoration-color: #7f7f7f\">mlc.rs</span></a><span style=\"color: #7f7f7f; text-decoration-color: #7f7f7f\">:</span><a href=\"file:///home/moritz/dev/uni/mlc/src/mlc.rs#215\" target=\"_blank\"><span style=\"color: #7f7f7f; text-decoration-color: #7f7f7f\">215</span></a>\n",
       "</pre>\n"
      ],
      "text/plain": [
       "\u001b[2;36m          \u001b[0m\u001b[2;36m \u001b[0m\u001b[34mINFO    \u001b[0m queue size: \u001b[1;36m223\u001b[0m                                                                      \u001b]8;id=727759;file:///home/moritz/dev/uni/mlc/src/mlc.rs\u001b\\\u001b[2mmlc.rs\u001b[0m\u001b]8;;\u001b\\\u001b[2m:\u001b[0m\u001b]8;id=38998;file:///home/moritz/dev/uni/mlc/src/mlc.rs#215\u001b\\\u001b[2m215\u001b[0m\u001b]8;;\u001b\\\n"
      ]
     },
     "metadata": {},
     "output_type": "display_data"
    },
    {
     "data": {
      "text/html": [
       "<pre style=\"white-space:pre;overflow-x:auto;line-height:normal;font-family:Menlo,'DejaVu Sans Mono',consolas,'Courier New',monospace\"><span style=\"color: #7fbfbf; text-decoration-color: #7fbfbf\">           </span><span style=\"color: #000080; text-decoration-color: #000080\">INFO    </span> queue size: <span style=\"color: #008080; text-decoration-color: #008080; font-weight: bold\">211</span>                                                                      <a href=\"file:///home/moritz/dev/uni/mlc/src/mlc.rs\" target=\"_blank\"><span style=\"color: #7f7f7f; text-decoration-color: #7f7f7f\">mlc.rs</span></a><span style=\"color: #7f7f7f; text-decoration-color: #7f7f7f\">:</span><a href=\"file:///home/moritz/dev/uni/mlc/src/mlc.rs#215\" target=\"_blank\"><span style=\"color: #7f7f7f; text-decoration-color: #7f7f7f\">215</span></a>\n",
       "</pre>\n"
      ],
      "text/plain": [
       "\u001b[2;36m          \u001b[0m\u001b[2;36m \u001b[0m\u001b[34mINFO    \u001b[0m queue size: \u001b[1;36m211\u001b[0m                                                                      \u001b]8;id=706376;file:///home/moritz/dev/uni/mlc/src/mlc.rs\u001b\\\u001b[2mmlc.rs\u001b[0m\u001b]8;;\u001b\\\u001b[2m:\u001b[0m\u001b]8;id=785379;file:///home/moritz/dev/uni/mlc/src/mlc.rs#215\u001b\\\u001b[2m215\u001b[0m\u001b]8;;\u001b\\\n"
      ]
     },
     "metadata": {},
     "output_type": "display_data"
    },
    {
     "data": {
      "text/html": [
       "<pre style=\"white-space:pre;overflow-x:auto;line-height:normal;font-family:Menlo,'DejaVu Sans Mono',consolas,'Courier New',monospace\"><span style=\"color: #7fbfbf; text-decoration-color: #7fbfbf\">           </span><span style=\"color: #000080; text-decoration-color: #000080\">INFO    </span> queue size: <span style=\"color: #008080; text-decoration-color: #008080; font-weight: bold\">205</span>                                                                      <a href=\"file:///home/moritz/dev/uni/mlc/src/mlc.rs\" target=\"_blank\"><span style=\"color: #7f7f7f; text-decoration-color: #7f7f7f\">mlc.rs</span></a><span style=\"color: #7f7f7f; text-decoration-color: #7f7f7f\">:</span><a href=\"file:///home/moritz/dev/uni/mlc/src/mlc.rs#215\" target=\"_blank\"><span style=\"color: #7f7f7f; text-decoration-color: #7f7f7f\">215</span></a>\n",
       "</pre>\n"
      ],
      "text/plain": [
       "\u001b[2;36m          \u001b[0m\u001b[2;36m \u001b[0m\u001b[34mINFO    \u001b[0m queue size: \u001b[1;36m205\u001b[0m                                                                      \u001b]8;id=458129;file:///home/moritz/dev/uni/mlc/src/mlc.rs\u001b\\\u001b[2mmlc.rs\u001b[0m\u001b]8;;\u001b\\\u001b[2m:\u001b[0m\u001b]8;id=386886;file:///home/moritz/dev/uni/mlc/src/mlc.rs#215\u001b\\\u001b[2m215\u001b[0m\u001b]8;;\u001b\\\n"
      ]
     },
     "metadata": {},
     "output_type": "display_data"
    },
    {
     "data": {
      "text/html": [
       "<pre style=\"white-space:pre;overflow-x:auto;line-height:normal;font-family:Menlo,'DejaVu Sans Mono',consolas,'Courier New',monospace\"><span style=\"color: #7fbfbf; text-decoration-color: #7fbfbf\">           </span><span style=\"color: #000080; text-decoration-color: #000080\">INFO    </span> queue size: <span style=\"color: #008080; text-decoration-color: #008080; font-weight: bold\">193</span>                                                                      <a href=\"file:///home/moritz/dev/uni/mlc/src/mlc.rs\" target=\"_blank\"><span style=\"color: #7f7f7f; text-decoration-color: #7f7f7f\">mlc.rs</span></a><span style=\"color: #7f7f7f; text-decoration-color: #7f7f7f\">:</span><a href=\"file:///home/moritz/dev/uni/mlc/src/mlc.rs#215\" target=\"_blank\"><span style=\"color: #7f7f7f; text-decoration-color: #7f7f7f\">215</span></a>\n",
       "</pre>\n"
      ],
      "text/plain": [
       "\u001b[2;36m          \u001b[0m\u001b[2;36m \u001b[0m\u001b[34mINFO    \u001b[0m queue size: \u001b[1;36m193\u001b[0m                                                                      \u001b]8;id=457545;file:///home/moritz/dev/uni/mlc/src/mlc.rs\u001b\\\u001b[2mmlc.rs\u001b[0m\u001b]8;;\u001b\\\u001b[2m:\u001b[0m\u001b]8;id=895916;file:///home/moritz/dev/uni/mlc/src/mlc.rs#215\u001b\\\u001b[2m215\u001b[0m\u001b]8;;\u001b\\\n"
      ]
     },
     "metadata": {},
     "output_type": "display_data"
    },
    {
     "data": {
      "text/html": [
       "<pre style=\"white-space:pre;overflow-x:auto;line-height:normal;font-family:Menlo,'DejaVu Sans Mono',consolas,'Courier New',monospace\"><span style=\"color: #7fbfbf; text-decoration-color: #7fbfbf\">           </span><span style=\"color: #000080; text-decoration-color: #000080\">INFO    </span> queue size: <span style=\"color: #008080; text-decoration-color: #008080; font-weight: bold\">161</span>                                                                      <a href=\"file:///home/moritz/dev/uni/mlc/src/mlc.rs\" target=\"_blank\"><span style=\"color: #7f7f7f; text-decoration-color: #7f7f7f\">mlc.rs</span></a><span style=\"color: #7f7f7f; text-decoration-color: #7f7f7f\">:</span><a href=\"file:///home/moritz/dev/uni/mlc/src/mlc.rs#215\" target=\"_blank\"><span style=\"color: #7f7f7f; text-decoration-color: #7f7f7f\">215</span></a>\n",
       "</pre>\n"
      ],
      "text/plain": [
       "\u001b[2;36m          \u001b[0m\u001b[2;36m \u001b[0m\u001b[34mINFO    \u001b[0m queue size: \u001b[1;36m161\u001b[0m                                                                      \u001b]8;id=616923;file:///home/moritz/dev/uni/mlc/src/mlc.rs\u001b\\\u001b[2mmlc.rs\u001b[0m\u001b]8;;\u001b\\\u001b[2m:\u001b[0m\u001b]8;id=757032;file:///home/moritz/dev/uni/mlc/src/mlc.rs#215\u001b\\\u001b[2m215\u001b[0m\u001b]8;;\u001b\\\n"
      ]
     },
     "metadata": {},
     "output_type": "display_data"
    },
    {
     "data": {
      "text/html": [
       "<pre style=\"white-space:pre;overflow-x:auto;line-height:normal;font-family:Menlo,'DejaVu Sans Mono',consolas,'Courier New',monospace\"><span style=\"color: #7fbfbf; text-decoration-color: #7fbfbf\">           </span><span style=\"color: #000080; text-decoration-color: #000080\">INFO    </span> queue size: <span style=\"color: #008080; text-decoration-color: #008080; font-weight: bold\">153</span>                                                                      <a href=\"file:///home/moritz/dev/uni/mlc/src/mlc.rs\" target=\"_blank\"><span style=\"color: #7f7f7f; text-decoration-color: #7f7f7f\">mlc.rs</span></a><span style=\"color: #7f7f7f; text-decoration-color: #7f7f7f\">:</span><a href=\"file:///home/moritz/dev/uni/mlc/src/mlc.rs#215\" target=\"_blank\"><span style=\"color: #7f7f7f; text-decoration-color: #7f7f7f\">215</span></a>\n",
       "</pre>\n"
      ],
      "text/plain": [
       "\u001b[2;36m          \u001b[0m\u001b[2;36m \u001b[0m\u001b[34mINFO    \u001b[0m queue size: \u001b[1;36m153\u001b[0m                                                                      \u001b]8;id=621584;file:///home/moritz/dev/uni/mlc/src/mlc.rs\u001b\\\u001b[2mmlc.rs\u001b[0m\u001b]8;;\u001b\\\u001b[2m:\u001b[0m\u001b]8;id=471843;file:///home/moritz/dev/uni/mlc/src/mlc.rs#215\u001b\\\u001b[2m215\u001b[0m\u001b]8;;\u001b\\\n"
      ]
     },
     "metadata": {},
     "output_type": "display_data"
    },
    {
     "data": {
      "text/html": [
       "<pre style=\"white-space:pre;overflow-x:auto;line-height:normal;font-family:Menlo,'DejaVu Sans Mono',consolas,'Courier New',monospace\"><span style=\"color: #7fbfbf; text-decoration-color: #7fbfbf\">           </span><span style=\"color: #000080; text-decoration-color: #000080\">INFO    </span> queue size: <span style=\"color: #008080; text-decoration-color: #008080; font-weight: bold\">151</span>                                                                      <a href=\"file:///home/moritz/dev/uni/mlc/src/mlc.rs\" target=\"_blank\"><span style=\"color: #7f7f7f; text-decoration-color: #7f7f7f\">mlc.rs</span></a><span style=\"color: #7f7f7f; text-decoration-color: #7f7f7f\">:</span><a href=\"file:///home/moritz/dev/uni/mlc/src/mlc.rs#215\" target=\"_blank\"><span style=\"color: #7f7f7f; text-decoration-color: #7f7f7f\">215</span></a>\n",
       "</pre>\n"
      ],
      "text/plain": [
       "\u001b[2;36m          \u001b[0m\u001b[2;36m \u001b[0m\u001b[34mINFO    \u001b[0m queue size: \u001b[1;36m151\u001b[0m                                                                      \u001b]8;id=622330;file:///home/moritz/dev/uni/mlc/src/mlc.rs\u001b\\\u001b[2mmlc.rs\u001b[0m\u001b]8;;\u001b\\\u001b[2m:\u001b[0m\u001b]8;id=206162;file:///home/moritz/dev/uni/mlc/src/mlc.rs#215\u001b\\\u001b[2m215\u001b[0m\u001b]8;;\u001b\\\n"
      ]
     },
     "metadata": {},
     "output_type": "display_data"
    },
    {
     "data": {
      "text/html": [
       "<pre style=\"white-space:pre;overflow-x:auto;line-height:normal;font-family:Menlo,'DejaVu Sans Mono',consolas,'Courier New',monospace\"><span style=\"color: #7fbfbf; text-decoration-color: #7fbfbf\">           </span><span style=\"color: #000080; text-decoration-color: #000080\">INFO    </span> queue size: <span style=\"color: #008080; text-decoration-color: #008080; font-weight: bold\">183</span>                                                                      <a href=\"file:///home/moritz/dev/uni/mlc/src/mlc.rs\" target=\"_blank\"><span style=\"color: #7f7f7f; text-decoration-color: #7f7f7f\">mlc.rs</span></a><span style=\"color: #7f7f7f; text-decoration-color: #7f7f7f\">:</span><a href=\"file:///home/moritz/dev/uni/mlc/src/mlc.rs#215\" target=\"_blank\"><span style=\"color: #7f7f7f; text-decoration-color: #7f7f7f\">215</span></a>\n",
       "</pre>\n"
      ],
      "text/plain": [
       "\u001b[2;36m          \u001b[0m\u001b[2;36m \u001b[0m\u001b[34mINFO    \u001b[0m queue size: \u001b[1;36m183\u001b[0m                                                                      \u001b]8;id=898141;file:///home/moritz/dev/uni/mlc/src/mlc.rs\u001b\\\u001b[2mmlc.rs\u001b[0m\u001b]8;;\u001b\\\u001b[2m:\u001b[0m\u001b]8;id=418814;file:///home/moritz/dev/uni/mlc/src/mlc.rs#215\u001b\\\u001b[2m215\u001b[0m\u001b]8;;\u001b\\\n"
      ]
     },
     "metadata": {},
     "output_type": "display_data"
    },
    {
     "data": {
      "text/html": [
       "<pre style=\"white-space:pre;overflow-x:auto;line-height:normal;font-family:Menlo,'DejaVu Sans Mono',consolas,'Courier New',monospace\"><span style=\"color: #7fbfbf; text-decoration-color: #7fbfbf\">           </span><span style=\"color: #000080; text-decoration-color: #000080\">INFO    </span> queue size: <span style=\"color: #008080; text-decoration-color: #008080; font-weight: bold\">187</span>                                                                      <a href=\"file:///home/moritz/dev/uni/mlc/src/mlc.rs\" target=\"_blank\"><span style=\"color: #7f7f7f; text-decoration-color: #7f7f7f\">mlc.rs</span></a><span style=\"color: #7f7f7f; text-decoration-color: #7f7f7f\">:</span><a href=\"file:///home/moritz/dev/uni/mlc/src/mlc.rs#215\" target=\"_blank\"><span style=\"color: #7f7f7f; text-decoration-color: #7f7f7f\">215</span></a>\n",
       "</pre>\n"
      ],
      "text/plain": [
       "\u001b[2;36m          \u001b[0m\u001b[2;36m \u001b[0m\u001b[34mINFO    \u001b[0m queue size: \u001b[1;36m187\u001b[0m                                                                      \u001b]8;id=579451;file:///home/moritz/dev/uni/mlc/src/mlc.rs\u001b\\\u001b[2mmlc.rs\u001b[0m\u001b]8;;\u001b\\\u001b[2m:\u001b[0m\u001b]8;id=801481;file:///home/moritz/dev/uni/mlc/src/mlc.rs#215\u001b\\\u001b[2m215\u001b[0m\u001b]8;;\u001b\\\n"
      ]
     },
     "metadata": {},
     "output_type": "display_data"
    },
    {
     "data": {
      "text/html": [
       "<pre style=\"white-space:pre;overflow-x:auto;line-height:normal;font-family:Menlo,'DejaVu Sans Mono',consolas,'Courier New',monospace\"><span style=\"color: #7fbfbf; text-decoration-color: #7fbfbf\">           </span><span style=\"color: #000080; text-decoration-color: #000080\">INFO    </span> queue size: <span style=\"color: #008080; text-decoration-color: #008080; font-weight: bold\">195</span>                                                                      <a href=\"file:///home/moritz/dev/uni/mlc/src/mlc.rs\" target=\"_blank\"><span style=\"color: #7f7f7f; text-decoration-color: #7f7f7f\">mlc.rs</span></a><span style=\"color: #7f7f7f; text-decoration-color: #7f7f7f\">:</span><a href=\"file:///home/moritz/dev/uni/mlc/src/mlc.rs#215\" target=\"_blank\"><span style=\"color: #7f7f7f; text-decoration-color: #7f7f7f\">215</span></a>\n",
       "</pre>\n"
      ],
      "text/plain": [
       "\u001b[2;36m          \u001b[0m\u001b[2;36m \u001b[0m\u001b[34mINFO    \u001b[0m queue size: \u001b[1;36m195\u001b[0m                                                                      \u001b]8;id=117630;file:///home/moritz/dev/uni/mlc/src/mlc.rs\u001b\\\u001b[2mmlc.rs\u001b[0m\u001b]8;;\u001b\\\u001b[2m:\u001b[0m\u001b]8;id=303568;file:///home/moritz/dev/uni/mlc/src/mlc.rs#215\u001b\\\u001b[2m215\u001b[0m\u001b]8;;\u001b\\\n"
      ]
     },
     "metadata": {},
     "output_type": "display_data"
    },
    {
     "data": {
      "text/html": [
       "<pre style=\"white-space:pre;overflow-x:auto;line-height:normal;font-family:Menlo,'DejaVu Sans Mono',consolas,'Courier New',monospace\"><span style=\"color: #7fbfbf; text-decoration-color: #7fbfbf\">           </span><span style=\"color: #000080; text-decoration-color: #000080\">INFO    </span> queue size: <span style=\"color: #008080; text-decoration-color: #008080; font-weight: bold\">214</span>                                                                      <a href=\"file:///home/moritz/dev/uni/mlc/src/mlc.rs\" target=\"_blank\"><span style=\"color: #7f7f7f; text-decoration-color: #7f7f7f\">mlc.rs</span></a><span style=\"color: #7f7f7f; text-decoration-color: #7f7f7f\">:</span><a href=\"file:///home/moritz/dev/uni/mlc/src/mlc.rs#215\" target=\"_blank\"><span style=\"color: #7f7f7f; text-decoration-color: #7f7f7f\">215</span></a>\n",
       "</pre>\n"
      ],
      "text/plain": [
       "\u001b[2;36m          \u001b[0m\u001b[2;36m \u001b[0m\u001b[34mINFO    \u001b[0m queue size: \u001b[1;36m214\u001b[0m                                                                      \u001b]8;id=569810;file:///home/moritz/dev/uni/mlc/src/mlc.rs\u001b\\\u001b[2mmlc.rs\u001b[0m\u001b]8;;\u001b\\\u001b[2m:\u001b[0m\u001b]8;id=265953;file:///home/moritz/dev/uni/mlc/src/mlc.rs#215\u001b\\\u001b[2m215\u001b[0m\u001b]8;;\u001b\\\n"
      ]
     },
     "metadata": {},
     "output_type": "display_data"
    },
    {
     "data": {
      "text/html": [
       "<pre style=\"white-space:pre;overflow-x:auto;line-height:normal;font-family:Menlo,'DejaVu Sans Mono',consolas,'Courier New',monospace\"><span style=\"color: #7fbfbf; text-decoration-color: #7fbfbf\">           </span><span style=\"color: #000080; text-decoration-color: #000080\">INFO    </span> queue size: <span style=\"color: #008080; text-decoration-color: #008080; font-weight: bold\">191</span>                                                                      <a href=\"file:///home/moritz/dev/uni/mlc/src/mlc.rs\" target=\"_blank\"><span style=\"color: #7f7f7f; text-decoration-color: #7f7f7f\">mlc.rs</span></a><span style=\"color: #7f7f7f; text-decoration-color: #7f7f7f\">:</span><a href=\"file:///home/moritz/dev/uni/mlc/src/mlc.rs#215\" target=\"_blank\"><span style=\"color: #7f7f7f; text-decoration-color: #7f7f7f\">215</span></a>\n",
       "</pre>\n"
      ],
      "text/plain": [
       "\u001b[2;36m          \u001b[0m\u001b[2;36m \u001b[0m\u001b[34mINFO    \u001b[0m queue size: \u001b[1;36m191\u001b[0m                                                                      \u001b]8;id=243065;file:///home/moritz/dev/uni/mlc/src/mlc.rs\u001b\\\u001b[2mmlc.rs\u001b[0m\u001b]8;;\u001b\\\u001b[2m:\u001b[0m\u001b]8;id=285130;file:///home/moritz/dev/uni/mlc/src/mlc.rs#215\u001b\\\u001b[2m215\u001b[0m\u001b]8;;\u001b\\\n"
      ]
     },
     "metadata": {},
     "output_type": "display_data"
    },
    {
     "data": {
      "text/html": [
       "<pre style=\"white-space:pre;overflow-x:auto;line-height:normal;font-family:Menlo,'DejaVu Sans Mono',consolas,'Courier New',monospace\"><span style=\"color: #7fbfbf; text-decoration-color: #7fbfbf\">           </span><span style=\"color: #000080; text-decoration-color: #000080\">INFO    </span> queue size: <span style=\"color: #008080; text-decoration-color: #008080; font-weight: bold\">196</span>                                                                      <a href=\"file:///home/moritz/dev/uni/mlc/src/mlc.rs\" target=\"_blank\"><span style=\"color: #7f7f7f; text-decoration-color: #7f7f7f\">mlc.rs</span></a><span style=\"color: #7f7f7f; text-decoration-color: #7f7f7f\">:</span><a href=\"file:///home/moritz/dev/uni/mlc/src/mlc.rs#215\" target=\"_blank\"><span style=\"color: #7f7f7f; text-decoration-color: #7f7f7f\">215</span></a>\n",
       "</pre>\n"
      ],
      "text/plain": [
       "\u001b[2;36m          \u001b[0m\u001b[2;36m \u001b[0m\u001b[34mINFO    \u001b[0m queue size: \u001b[1;36m196\u001b[0m                                                                      \u001b]8;id=104924;file:///home/moritz/dev/uni/mlc/src/mlc.rs\u001b\\\u001b[2mmlc.rs\u001b[0m\u001b]8;;\u001b\\\u001b[2m:\u001b[0m\u001b]8;id=21689;file:///home/moritz/dev/uni/mlc/src/mlc.rs#215\u001b\\\u001b[2m215\u001b[0m\u001b]8;;\u001b\\\n"
      ]
     },
     "metadata": {},
     "output_type": "display_data"
    },
    {
     "data": {
      "text/html": [
       "<pre style=\"white-space:pre;overflow-x:auto;line-height:normal;font-family:Menlo,'DejaVu Sans Mono',consolas,'Courier New',monospace\"><span style=\"color: #7fbfbf; text-decoration-color: #7fbfbf\">           </span><span style=\"color: #000080; text-decoration-color: #000080\">INFO    </span> queue size: <span style=\"color: #008080; text-decoration-color: #008080; font-weight: bold\">203</span>                                                                      <a href=\"file:///home/moritz/dev/uni/mlc/src/mlc.rs\" target=\"_blank\"><span style=\"color: #7f7f7f; text-decoration-color: #7f7f7f\">mlc.rs</span></a><span style=\"color: #7f7f7f; text-decoration-color: #7f7f7f\">:</span><a href=\"file:///home/moritz/dev/uni/mlc/src/mlc.rs#215\" target=\"_blank\"><span style=\"color: #7f7f7f; text-decoration-color: #7f7f7f\">215</span></a>\n",
       "</pre>\n"
      ],
      "text/plain": [
       "\u001b[2;36m          \u001b[0m\u001b[2;36m \u001b[0m\u001b[34mINFO    \u001b[0m queue size: \u001b[1;36m203\u001b[0m                                                                      \u001b]8;id=528013;file:///home/moritz/dev/uni/mlc/src/mlc.rs\u001b\\\u001b[2mmlc.rs\u001b[0m\u001b]8;;\u001b\\\u001b[2m:\u001b[0m\u001b]8;id=186680;file:///home/moritz/dev/uni/mlc/src/mlc.rs#215\u001b\\\u001b[2m215\u001b[0m\u001b]8;;\u001b\\\n"
      ]
     },
     "metadata": {},
     "output_type": "display_data"
    },
    {
     "data": {
      "text/html": [
       "<pre style=\"white-space:pre;overflow-x:auto;line-height:normal;font-family:Menlo,'DejaVu Sans Mono',consolas,'Courier New',monospace\"><span style=\"color: #7fbfbf; text-decoration-color: #7fbfbf\">           </span><span style=\"color: #000080; text-decoration-color: #000080\">INFO    </span> queue size: <span style=\"color: #008080; text-decoration-color: #008080; font-weight: bold\">212</span>                                                                      <a href=\"file:///home/moritz/dev/uni/mlc/src/mlc.rs\" target=\"_blank\"><span style=\"color: #7f7f7f; text-decoration-color: #7f7f7f\">mlc.rs</span></a><span style=\"color: #7f7f7f; text-decoration-color: #7f7f7f\">:</span><a href=\"file:///home/moritz/dev/uni/mlc/src/mlc.rs#215\" target=\"_blank\"><span style=\"color: #7f7f7f; text-decoration-color: #7f7f7f\">215</span></a>\n",
       "</pre>\n"
      ],
      "text/plain": [
       "\u001b[2;36m          \u001b[0m\u001b[2;36m \u001b[0m\u001b[34mINFO    \u001b[0m queue size: \u001b[1;36m212\u001b[0m                                                                      \u001b]8;id=716363;file:///home/moritz/dev/uni/mlc/src/mlc.rs\u001b\\\u001b[2mmlc.rs\u001b[0m\u001b]8;;\u001b\\\u001b[2m:\u001b[0m\u001b]8;id=573531;file:///home/moritz/dev/uni/mlc/src/mlc.rs#215\u001b\\\u001b[2m215\u001b[0m\u001b]8;;\u001b\\\n"
      ]
     },
     "metadata": {},
     "output_type": "display_data"
    },
    {
     "data": {
      "text/html": [
       "<pre style=\"white-space:pre;overflow-x:auto;line-height:normal;font-family:Menlo,'DejaVu Sans Mono',consolas,'Courier New',monospace\"><span style=\"color: #7fbfbf; text-decoration-color: #7fbfbf\">           </span><span style=\"color: #000080; text-decoration-color: #000080\">INFO    </span> queue size: <span style=\"color: #008080; text-decoration-color: #008080; font-weight: bold\">200</span>                                                                      <a href=\"file:///home/moritz/dev/uni/mlc/src/mlc.rs\" target=\"_blank\"><span style=\"color: #7f7f7f; text-decoration-color: #7f7f7f\">mlc.rs</span></a><span style=\"color: #7f7f7f; text-decoration-color: #7f7f7f\">:</span><a href=\"file:///home/moritz/dev/uni/mlc/src/mlc.rs#215\" target=\"_blank\"><span style=\"color: #7f7f7f; text-decoration-color: #7f7f7f\">215</span></a>\n",
       "</pre>\n"
      ],
      "text/plain": [
       "\u001b[2;36m          \u001b[0m\u001b[2;36m \u001b[0m\u001b[34mINFO    \u001b[0m queue size: \u001b[1;36m200\u001b[0m                                                                      \u001b]8;id=384607;file:///home/moritz/dev/uni/mlc/src/mlc.rs\u001b\\\u001b[2mmlc.rs\u001b[0m\u001b]8;;\u001b\\\u001b[2m:\u001b[0m\u001b]8;id=198452;file:///home/moritz/dev/uni/mlc/src/mlc.rs#215\u001b\\\u001b[2m215\u001b[0m\u001b]8;;\u001b\\\n"
      ]
     },
     "metadata": {},
     "output_type": "display_data"
    },
    {
     "data": {
      "text/html": [
       "<pre style=\"white-space:pre;overflow-x:auto;line-height:normal;font-family:Menlo,'DejaVu Sans Mono',consolas,'Courier New',monospace\"><span style=\"color: #7fbfbf; text-decoration-color: #7fbfbf\">           </span><span style=\"color: #000080; text-decoration-color: #000080\">INFO    </span> queue size: <span style=\"color: #008080; text-decoration-color: #008080; font-weight: bold\">214</span>                                                                      <a href=\"file:///home/moritz/dev/uni/mlc/src/mlc.rs\" target=\"_blank\"><span style=\"color: #7f7f7f; text-decoration-color: #7f7f7f\">mlc.rs</span></a><span style=\"color: #7f7f7f; text-decoration-color: #7f7f7f\">:</span><a href=\"file:///home/moritz/dev/uni/mlc/src/mlc.rs#215\" target=\"_blank\"><span style=\"color: #7f7f7f; text-decoration-color: #7f7f7f\">215</span></a>\n",
       "</pre>\n"
      ],
      "text/plain": [
       "\u001b[2;36m          \u001b[0m\u001b[2;36m \u001b[0m\u001b[34mINFO    \u001b[0m queue size: \u001b[1;36m214\u001b[0m                                                                      \u001b]8;id=605691;file:///home/moritz/dev/uni/mlc/src/mlc.rs\u001b\\\u001b[2mmlc.rs\u001b[0m\u001b]8;;\u001b\\\u001b[2m:\u001b[0m\u001b]8;id=99915;file:///home/moritz/dev/uni/mlc/src/mlc.rs#215\u001b\\\u001b[2m215\u001b[0m\u001b]8;;\u001b\\\n"
      ]
     },
     "metadata": {},
     "output_type": "display_data"
    },
    {
     "data": {
      "text/html": [
       "<pre style=\"white-space:pre;overflow-x:auto;line-height:normal;font-family:Menlo,'DejaVu Sans Mono',consolas,'Courier New',monospace\"><span style=\"color: #7fbfbf; text-decoration-color: #7fbfbf\">           </span><span style=\"color: #000080; text-decoration-color: #000080\">INFO    </span> queue size: <span style=\"color: #008080; text-decoration-color: #008080; font-weight: bold\">219</span>                                                                      <a href=\"file:///home/moritz/dev/uni/mlc/src/mlc.rs\" target=\"_blank\"><span style=\"color: #7f7f7f; text-decoration-color: #7f7f7f\">mlc.rs</span></a><span style=\"color: #7f7f7f; text-decoration-color: #7f7f7f\">:</span><a href=\"file:///home/moritz/dev/uni/mlc/src/mlc.rs#215\" target=\"_blank\"><span style=\"color: #7f7f7f; text-decoration-color: #7f7f7f\">215</span></a>\n",
       "</pre>\n"
      ],
      "text/plain": [
       "\u001b[2;36m          \u001b[0m\u001b[2;36m \u001b[0m\u001b[34mINFO    \u001b[0m queue size: \u001b[1;36m219\u001b[0m                                                                      \u001b]8;id=312163;file:///home/moritz/dev/uni/mlc/src/mlc.rs\u001b\\\u001b[2mmlc.rs\u001b[0m\u001b]8;;\u001b\\\u001b[2m:\u001b[0m\u001b]8;id=432041;file:///home/moritz/dev/uni/mlc/src/mlc.rs#215\u001b\\\u001b[2m215\u001b[0m\u001b]8;;\u001b\\\n"
      ]
     },
     "metadata": {},
     "output_type": "display_data"
    },
    {
     "data": {
      "text/html": [
       "<pre style=\"white-space:pre;overflow-x:auto;line-height:normal;font-family:Menlo,'DejaVu Sans Mono',consolas,'Courier New',monospace\"><span style=\"color: #7fbfbf; text-decoration-color: #7fbfbf\">           </span><span style=\"color: #000080; text-decoration-color: #000080\">INFO    </span> queue size: <span style=\"color: #008080; text-decoration-color: #008080; font-weight: bold\">216</span>                                                                      <a href=\"file:///home/moritz/dev/uni/mlc/src/mlc.rs\" target=\"_blank\"><span style=\"color: #7f7f7f; text-decoration-color: #7f7f7f\">mlc.rs</span></a><span style=\"color: #7f7f7f; text-decoration-color: #7f7f7f\">:</span><a href=\"file:///home/moritz/dev/uni/mlc/src/mlc.rs#215\" target=\"_blank\"><span style=\"color: #7f7f7f; text-decoration-color: #7f7f7f\">215</span></a>\n",
       "</pre>\n"
      ],
      "text/plain": [
       "\u001b[2;36m          \u001b[0m\u001b[2;36m \u001b[0m\u001b[34mINFO    \u001b[0m queue size: \u001b[1;36m216\u001b[0m                                                                      \u001b]8;id=448151;file:///home/moritz/dev/uni/mlc/src/mlc.rs\u001b\\\u001b[2mmlc.rs\u001b[0m\u001b]8;;\u001b\\\u001b[2m:\u001b[0m\u001b]8;id=976073;file:///home/moritz/dev/uni/mlc/src/mlc.rs#215\u001b\\\u001b[2m215\u001b[0m\u001b]8;;\u001b\\\n"
      ]
     },
     "metadata": {},
     "output_type": "display_data"
    },
    {
     "data": {
      "text/html": [
       "<pre style=\"white-space:pre;overflow-x:auto;line-height:normal;font-family:Menlo,'DejaVu Sans Mono',consolas,'Courier New',monospace\"><span style=\"color: #7fbfbf; text-decoration-color: #7fbfbf\">           </span><span style=\"color: #000080; text-decoration-color: #000080\">INFO    </span> queue size: <span style=\"color: #008080; text-decoration-color: #008080; font-weight: bold\">225</span>                                                                      <a href=\"file:///home/moritz/dev/uni/mlc/src/mlc.rs\" target=\"_blank\"><span style=\"color: #7f7f7f; text-decoration-color: #7f7f7f\">mlc.rs</span></a><span style=\"color: #7f7f7f; text-decoration-color: #7f7f7f\">:</span><a href=\"file:///home/moritz/dev/uni/mlc/src/mlc.rs#215\" target=\"_blank\"><span style=\"color: #7f7f7f; text-decoration-color: #7f7f7f\">215</span></a>\n",
       "</pre>\n"
      ],
      "text/plain": [
       "\u001b[2;36m          \u001b[0m\u001b[2;36m \u001b[0m\u001b[34mINFO    \u001b[0m queue size: \u001b[1;36m225\u001b[0m                                                                      \u001b]8;id=176461;file:///home/moritz/dev/uni/mlc/src/mlc.rs\u001b\\\u001b[2mmlc.rs\u001b[0m\u001b]8;;\u001b\\\u001b[2m:\u001b[0m\u001b]8;id=866878;file:///home/moritz/dev/uni/mlc/src/mlc.rs#215\u001b\\\u001b[2m215\u001b[0m\u001b]8;;\u001b\\\n"
      ]
     },
     "metadata": {},
     "output_type": "display_data"
    },
    {
     "data": {
      "text/html": [
       "<pre style=\"white-space:pre;overflow-x:auto;line-height:normal;font-family:Menlo,'DejaVu Sans Mono',consolas,'Courier New',monospace\"><span style=\"color: #7fbfbf; text-decoration-color: #7fbfbf\">           </span><span style=\"color: #000080; text-decoration-color: #000080\">INFO    </span> queue size: <span style=\"color: #008080; text-decoration-color: #008080; font-weight: bold\">208</span>                                                                      <a href=\"file:///home/moritz/dev/uni/mlc/src/mlc.rs\" target=\"_blank\"><span style=\"color: #7f7f7f; text-decoration-color: #7f7f7f\">mlc.rs</span></a><span style=\"color: #7f7f7f; text-decoration-color: #7f7f7f\">:</span><a href=\"file:///home/moritz/dev/uni/mlc/src/mlc.rs#215\" target=\"_blank\"><span style=\"color: #7f7f7f; text-decoration-color: #7f7f7f\">215</span></a>\n",
       "</pre>\n"
      ],
      "text/plain": [
       "\u001b[2;36m          \u001b[0m\u001b[2;36m \u001b[0m\u001b[34mINFO    \u001b[0m queue size: \u001b[1;36m208\u001b[0m                                                                      \u001b]8;id=622464;file:///home/moritz/dev/uni/mlc/src/mlc.rs\u001b\\\u001b[2mmlc.rs\u001b[0m\u001b]8;;\u001b\\\u001b[2m:\u001b[0m\u001b]8;id=240835;file:///home/moritz/dev/uni/mlc/src/mlc.rs#215\u001b\\\u001b[2m215\u001b[0m\u001b]8;;\u001b\\\n"
      ]
     },
     "metadata": {},
     "output_type": "display_data"
    },
    {
     "data": {
      "text/html": [
       "<pre style=\"white-space:pre;overflow-x:auto;line-height:normal;font-family:Menlo,'DejaVu Sans Mono',consolas,'Courier New',monospace\"><span style=\"color: #7fbfbf; text-decoration-color: #7fbfbf\">           </span><span style=\"color: #000080; text-decoration-color: #000080\">INFO    </span> queue size: <span style=\"color: #008080; text-decoration-color: #008080; font-weight: bold\">230</span>                                                                      <a href=\"file:///home/moritz/dev/uni/mlc/src/mlc.rs\" target=\"_blank\"><span style=\"color: #7f7f7f; text-decoration-color: #7f7f7f\">mlc.rs</span></a><span style=\"color: #7f7f7f; text-decoration-color: #7f7f7f\">:</span><a href=\"file:///home/moritz/dev/uni/mlc/src/mlc.rs#215\" target=\"_blank\"><span style=\"color: #7f7f7f; text-decoration-color: #7f7f7f\">215</span></a>\n",
       "</pre>\n"
      ],
      "text/plain": [
       "\u001b[2;36m          \u001b[0m\u001b[2;36m \u001b[0m\u001b[34mINFO    \u001b[0m queue size: \u001b[1;36m230\u001b[0m                                                                      \u001b]8;id=797975;file:///home/moritz/dev/uni/mlc/src/mlc.rs\u001b\\\u001b[2mmlc.rs\u001b[0m\u001b]8;;\u001b\\\u001b[2m:\u001b[0m\u001b]8;id=888798;file:///home/moritz/dev/uni/mlc/src/mlc.rs#215\u001b\\\u001b[2m215\u001b[0m\u001b]8;;\u001b\\\n"
      ]
     },
     "metadata": {},
     "output_type": "display_data"
    },
    {
     "data": {
      "text/html": [
       "<pre style=\"white-space:pre;overflow-x:auto;line-height:normal;font-family:Menlo,'DejaVu Sans Mono',consolas,'Courier New',monospace\"><span style=\"color: #7fbfbf; text-decoration-color: #7fbfbf\">           </span><span style=\"color: #000080; text-decoration-color: #000080\">INFO    </span> queue size: <span style=\"color: #008080; text-decoration-color: #008080; font-weight: bold\">236</span>                                                                      <a href=\"file:///home/moritz/dev/uni/mlc/src/mlc.rs\" target=\"_blank\"><span style=\"color: #7f7f7f; text-decoration-color: #7f7f7f\">mlc.rs</span></a><span style=\"color: #7f7f7f; text-decoration-color: #7f7f7f\">:</span><a href=\"file:///home/moritz/dev/uni/mlc/src/mlc.rs#215\" target=\"_blank\"><span style=\"color: #7f7f7f; text-decoration-color: #7f7f7f\">215</span></a>\n",
       "</pre>\n"
      ],
      "text/plain": [
       "\u001b[2;36m          \u001b[0m\u001b[2;36m \u001b[0m\u001b[34mINFO    \u001b[0m queue size: \u001b[1;36m236\u001b[0m                                                                      \u001b]8;id=865903;file:///home/moritz/dev/uni/mlc/src/mlc.rs\u001b\\\u001b[2mmlc.rs\u001b[0m\u001b]8;;\u001b\\\u001b[2m:\u001b[0m\u001b]8;id=616555;file:///home/moritz/dev/uni/mlc/src/mlc.rs#215\u001b\\\u001b[2m215\u001b[0m\u001b]8;;\u001b\\\n"
      ]
     },
     "metadata": {},
     "output_type": "display_data"
    },
    {
     "data": {
      "text/html": [
       "<pre style=\"white-space:pre;overflow-x:auto;line-height:normal;font-family:Menlo,'DejaVu Sans Mono',consolas,'Courier New',monospace\"><span style=\"color: #7fbfbf; text-decoration-color: #7fbfbf\">           </span><span style=\"color: #000080; text-decoration-color: #000080\">INFO    </span> queue size: <span style=\"color: #008080; text-decoration-color: #008080; font-weight: bold\">235</span>                                                                      <a href=\"file:///home/moritz/dev/uni/mlc/src/mlc.rs\" target=\"_blank\"><span style=\"color: #7f7f7f; text-decoration-color: #7f7f7f\">mlc.rs</span></a><span style=\"color: #7f7f7f; text-decoration-color: #7f7f7f\">:</span><a href=\"file:///home/moritz/dev/uni/mlc/src/mlc.rs#215\" target=\"_blank\"><span style=\"color: #7f7f7f; text-decoration-color: #7f7f7f\">215</span></a>\n",
       "</pre>\n"
      ],
      "text/plain": [
       "\u001b[2;36m          \u001b[0m\u001b[2;36m \u001b[0m\u001b[34mINFO    \u001b[0m queue size: \u001b[1;36m235\u001b[0m                                                                      \u001b]8;id=608477;file:///home/moritz/dev/uni/mlc/src/mlc.rs\u001b\\\u001b[2mmlc.rs\u001b[0m\u001b]8;;\u001b\\\u001b[2m:\u001b[0m\u001b]8;id=703863;file:///home/moritz/dev/uni/mlc/src/mlc.rs#215\u001b\\\u001b[2m215\u001b[0m\u001b]8;;\u001b\\\n"
      ]
     },
     "metadata": {},
     "output_type": "display_data"
    },
    {
     "data": {
      "text/html": [
       "<pre style=\"white-space:pre;overflow-x:auto;line-height:normal;font-family:Menlo,'DejaVu Sans Mono',consolas,'Courier New',monospace\"><span style=\"color: #7fbfbf; text-decoration-color: #7fbfbf\">           </span><span style=\"color: #000080; text-decoration-color: #000080\">INFO    </span> queue size: <span style=\"color: #008080; text-decoration-color: #008080; font-weight: bold\">174</span>                                                                      <a href=\"file:///home/moritz/dev/uni/mlc/src/mlc.rs\" target=\"_blank\"><span style=\"color: #7f7f7f; text-decoration-color: #7f7f7f\">mlc.rs</span></a><span style=\"color: #7f7f7f; text-decoration-color: #7f7f7f\">:</span><a href=\"file:///home/moritz/dev/uni/mlc/src/mlc.rs#215\" target=\"_blank\"><span style=\"color: #7f7f7f; text-decoration-color: #7f7f7f\">215</span></a>\n",
       "</pre>\n"
      ],
      "text/plain": [
       "\u001b[2;36m          \u001b[0m\u001b[2;36m \u001b[0m\u001b[34mINFO    \u001b[0m queue size: \u001b[1;36m174\u001b[0m                                                                      \u001b]8;id=74051;file:///home/moritz/dev/uni/mlc/src/mlc.rs\u001b\\\u001b[2mmlc.rs\u001b[0m\u001b]8;;\u001b\\\u001b[2m:\u001b[0m\u001b]8;id=668549;file:///home/moritz/dev/uni/mlc/src/mlc.rs#215\u001b\\\u001b[2m215\u001b[0m\u001b]8;;\u001b\\\n"
      ]
     },
     "metadata": {},
     "output_type": "display_data"
    },
    {
     "data": {
      "text/html": [
       "<pre style=\"white-space:pre;overflow-x:auto;line-height:normal;font-family:Menlo,'DejaVu Sans Mono',consolas,'Courier New',monospace\"><span style=\"color: #7fbfbf; text-decoration-color: #7fbfbf\">           </span><span style=\"color: #000080; text-decoration-color: #000080\">INFO    </span> queue size: <span style=\"color: #008080; text-decoration-color: #008080; font-weight: bold\">188</span>                                                                      <a href=\"file:///home/moritz/dev/uni/mlc/src/mlc.rs\" target=\"_blank\"><span style=\"color: #7f7f7f; text-decoration-color: #7f7f7f\">mlc.rs</span></a><span style=\"color: #7f7f7f; text-decoration-color: #7f7f7f\">:</span><a href=\"file:///home/moritz/dev/uni/mlc/src/mlc.rs#215\" target=\"_blank\"><span style=\"color: #7f7f7f; text-decoration-color: #7f7f7f\">215</span></a>\n",
       "</pre>\n"
      ],
      "text/plain": [
       "\u001b[2;36m          \u001b[0m\u001b[2;36m \u001b[0m\u001b[34mINFO    \u001b[0m queue size: \u001b[1;36m188\u001b[0m                                                                      \u001b]8;id=847235;file:///home/moritz/dev/uni/mlc/src/mlc.rs\u001b\\\u001b[2mmlc.rs\u001b[0m\u001b]8;;\u001b\\\u001b[2m:\u001b[0m\u001b]8;id=930258;file:///home/moritz/dev/uni/mlc/src/mlc.rs#215\u001b\\\u001b[2m215\u001b[0m\u001b]8;;\u001b\\\n"
      ]
     },
     "metadata": {},
     "output_type": "display_data"
    },
    {
     "data": {
      "text/html": [
       "<pre style=\"white-space:pre;overflow-x:auto;line-height:normal;font-family:Menlo,'DejaVu Sans Mono',consolas,'Courier New',monospace\"><span style=\"color: #7fbfbf; text-decoration-color: #7fbfbf\">           </span><span style=\"color: #000080; text-decoration-color: #000080\">INFO    </span> queue size: <span style=\"color: #008080; text-decoration-color: #008080; font-weight: bold\">201</span>                                                                      <a href=\"file:///home/moritz/dev/uni/mlc/src/mlc.rs\" target=\"_blank\"><span style=\"color: #7f7f7f; text-decoration-color: #7f7f7f\">mlc.rs</span></a><span style=\"color: #7f7f7f; text-decoration-color: #7f7f7f\">:</span><a href=\"file:///home/moritz/dev/uni/mlc/src/mlc.rs#215\" target=\"_blank\"><span style=\"color: #7f7f7f; text-decoration-color: #7f7f7f\">215</span></a>\n",
       "</pre>\n"
      ],
      "text/plain": [
       "\u001b[2;36m          \u001b[0m\u001b[2;36m \u001b[0m\u001b[34mINFO    \u001b[0m queue size: \u001b[1;36m201\u001b[0m                                                                      \u001b]8;id=867608;file:///home/moritz/dev/uni/mlc/src/mlc.rs\u001b\\\u001b[2mmlc.rs\u001b[0m\u001b]8;;\u001b\\\u001b[2m:\u001b[0m\u001b]8;id=115883;file:///home/moritz/dev/uni/mlc/src/mlc.rs#215\u001b\\\u001b[2m215\u001b[0m\u001b]8;;\u001b\\\n"
      ]
     },
     "metadata": {},
     "output_type": "display_data"
    },
    {
     "data": {
      "text/html": [
       "<pre style=\"white-space:pre;overflow-x:auto;line-height:normal;font-family:Menlo,'DejaVu Sans Mono',consolas,'Courier New',monospace\"><span style=\"color: #7fbfbf; text-decoration-color: #7fbfbf\">           </span><span style=\"color: #000080; text-decoration-color: #000080\">INFO    </span> queue size: <span style=\"color: #008080; text-decoration-color: #008080; font-weight: bold\">178</span>                                                                      <a href=\"file:///home/moritz/dev/uni/mlc/src/mlc.rs\" target=\"_blank\"><span style=\"color: #7f7f7f; text-decoration-color: #7f7f7f\">mlc.rs</span></a><span style=\"color: #7f7f7f; text-decoration-color: #7f7f7f\">:</span><a href=\"file:///home/moritz/dev/uni/mlc/src/mlc.rs#215\" target=\"_blank\"><span style=\"color: #7f7f7f; text-decoration-color: #7f7f7f\">215</span></a>\n",
       "</pre>\n"
      ],
      "text/plain": [
       "\u001b[2;36m          \u001b[0m\u001b[2;36m \u001b[0m\u001b[34mINFO    \u001b[0m queue size: \u001b[1;36m178\u001b[0m                                                                      \u001b]8;id=516609;file:///home/moritz/dev/uni/mlc/src/mlc.rs\u001b\\\u001b[2mmlc.rs\u001b[0m\u001b]8;;\u001b\\\u001b[2m:\u001b[0m\u001b]8;id=9689;file:///home/moritz/dev/uni/mlc/src/mlc.rs#215\u001b\\\u001b[2m215\u001b[0m\u001b]8;;\u001b\\\n"
      ]
     },
     "metadata": {},
     "output_type": "display_data"
    },
    {
     "data": {
      "text/html": [
       "<pre style=\"white-space:pre;overflow-x:auto;line-height:normal;font-family:Menlo,'DejaVu Sans Mono',consolas,'Courier New',monospace\"><span style=\"color: #7fbfbf; text-decoration-color: #7fbfbf\">[10:47:28] </span><span style=\"color: #000080; text-decoration-color: #000080\">INFO    </span> queue size: <span style=\"color: #008080; text-decoration-color: #008080; font-weight: bold\">176</span>                                                                      <a href=\"file:///home/moritz/dev/uni/mlc/src/mlc.rs\" target=\"_blank\"><span style=\"color: #7f7f7f; text-decoration-color: #7f7f7f\">mlc.rs</span></a><span style=\"color: #7f7f7f; text-decoration-color: #7f7f7f\">:</span><a href=\"file:///home/moritz/dev/uni/mlc/src/mlc.rs#215\" target=\"_blank\"><span style=\"color: #7f7f7f; text-decoration-color: #7f7f7f\">215</span></a>\n",
       "</pre>\n"
      ],
      "text/plain": [
       "\u001b[2;36m[10:47:28]\u001b[0m\u001b[2;36m \u001b[0m\u001b[34mINFO    \u001b[0m queue size: \u001b[1;36m176\u001b[0m                                                                      \u001b]8;id=814676;file:///home/moritz/dev/uni/mlc/src/mlc.rs\u001b\\\u001b[2mmlc.rs\u001b[0m\u001b]8;;\u001b\\\u001b[2m:\u001b[0m\u001b]8;id=788638;file:///home/moritz/dev/uni/mlc/src/mlc.rs#215\u001b\\\u001b[2m215\u001b[0m\u001b]8;;\u001b\\\n"
      ]
     },
     "metadata": {},
     "output_type": "display_data"
    },
    {
     "data": {
      "text/html": [
       "<pre style=\"white-space:pre;overflow-x:auto;line-height:normal;font-family:Menlo,'DejaVu Sans Mono',consolas,'Courier New',monospace\"><span style=\"color: #7fbfbf; text-decoration-color: #7fbfbf\">           </span><span style=\"color: #000080; text-decoration-color: #000080\">INFO    </span> queue size: <span style=\"color: #008080; text-decoration-color: #008080; font-weight: bold\">169</span>                                                                      <a href=\"file:///home/moritz/dev/uni/mlc/src/mlc.rs\" target=\"_blank\"><span style=\"color: #7f7f7f; text-decoration-color: #7f7f7f\">mlc.rs</span></a><span style=\"color: #7f7f7f; text-decoration-color: #7f7f7f\">:</span><a href=\"file:///home/moritz/dev/uni/mlc/src/mlc.rs#215\" target=\"_blank\"><span style=\"color: #7f7f7f; text-decoration-color: #7f7f7f\">215</span></a>\n",
       "</pre>\n"
      ],
      "text/plain": [
       "\u001b[2;36m          \u001b[0m\u001b[2;36m \u001b[0m\u001b[34mINFO    \u001b[0m queue size: \u001b[1;36m169\u001b[0m                                                                      \u001b]8;id=198844;file:///home/moritz/dev/uni/mlc/src/mlc.rs\u001b\\\u001b[2mmlc.rs\u001b[0m\u001b]8;;\u001b\\\u001b[2m:\u001b[0m\u001b]8;id=300135;file:///home/moritz/dev/uni/mlc/src/mlc.rs#215\u001b\\\u001b[2m215\u001b[0m\u001b]8;;\u001b\\\n"
      ]
     },
     "metadata": {},
     "output_type": "display_data"
    },
    {
     "data": {
      "text/html": [
       "<pre style=\"white-space:pre;overflow-x:auto;line-height:normal;font-family:Menlo,'DejaVu Sans Mono',consolas,'Courier New',monospace\"><span style=\"color: #7fbfbf; text-decoration-color: #7fbfbf\">           </span><span style=\"color: #000080; text-decoration-color: #000080\">INFO    </span> queue size: <span style=\"color: #008080; text-decoration-color: #008080; font-weight: bold\">153</span>                                                                      <a href=\"file:///home/moritz/dev/uni/mlc/src/mlc.rs\" target=\"_blank\"><span style=\"color: #7f7f7f; text-decoration-color: #7f7f7f\">mlc.rs</span></a><span style=\"color: #7f7f7f; text-decoration-color: #7f7f7f\">:</span><a href=\"file:///home/moritz/dev/uni/mlc/src/mlc.rs#215\" target=\"_blank\"><span style=\"color: #7f7f7f; text-decoration-color: #7f7f7f\">215</span></a>\n",
       "</pre>\n"
      ],
      "text/plain": [
       "\u001b[2;36m          \u001b[0m\u001b[2;36m \u001b[0m\u001b[34mINFO    \u001b[0m queue size: \u001b[1;36m153\u001b[0m                                                                      \u001b]8;id=883197;file:///home/moritz/dev/uni/mlc/src/mlc.rs\u001b\\\u001b[2mmlc.rs\u001b[0m\u001b]8;;\u001b\\\u001b[2m:\u001b[0m\u001b]8;id=800748;file:///home/moritz/dev/uni/mlc/src/mlc.rs#215\u001b\\\u001b[2m215\u001b[0m\u001b]8;;\u001b\\\n"
      ]
     },
     "metadata": {},
     "output_type": "display_data"
    },
    {
     "data": {
      "text/html": [
       "<pre style=\"white-space:pre;overflow-x:auto;line-height:normal;font-family:Menlo,'DejaVu Sans Mono',consolas,'Courier New',monospace\"><span style=\"color: #7fbfbf; text-decoration-color: #7fbfbf\">           </span><span style=\"color: #000080; text-decoration-color: #000080\">INFO    </span> queue size: <span style=\"color: #008080; text-decoration-color: #008080; font-weight: bold\">159</span>                                                                      <a href=\"file:///home/moritz/dev/uni/mlc/src/mlc.rs\" target=\"_blank\"><span style=\"color: #7f7f7f; text-decoration-color: #7f7f7f\">mlc.rs</span></a><span style=\"color: #7f7f7f; text-decoration-color: #7f7f7f\">:</span><a href=\"file:///home/moritz/dev/uni/mlc/src/mlc.rs#215\" target=\"_blank\"><span style=\"color: #7f7f7f; text-decoration-color: #7f7f7f\">215</span></a>\n",
       "</pre>\n"
      ],
      "text/plain": [
       "\u001b[2;36m          \u001b[0m\u001b[2;36m \u001b[0m\u001b[34mINFO    \u001b[0m queue size: \u001b[1;36m159\u001b[0m                                                                      \u001b]8;id=847190;file:///home/moritz/dev/uni/mlc/src/mlc.rs\u001b\\\u001b[2mmlc.rs\u001b[0m\u001b]8;;\u001b\\\u001b[2m:\u001b[0m\u001b]8;id=844938;file:///home/moritz/dev/uni/mlc/src/mlc.rs#215\u001b\\\u001b[2m215\u001b[0m\u001b]8;;\u001b\\\n"
      ]
     },
     "metadata": {},
     "output_type": "display_data"
    },
    {
     "data": {
      "text/html": [
       "<pre style=\"white-space:pre;overflow-x:auto;line-height:normal;font-family:Menlo,'DejaVu Sans Mono',consolas,'Courier New',monospace\"><span style=\"color: #7fbfbf; text-decoration-color: #7fbfbf\">           </span><span style=\"color: #000080; text-decoration-color: #000080\">INFO    </span> queue size: <span style=\"color: #008080; text-decoration-color: #008080; font-weight: bold\">171</span>                                                                      <a href=\"file:///home/moritz/dev/uni/mlc/src/mlc.rs\" target=\"_blank\"><span style=\"color: #7f7f7f; text-decoration-color: #7f7f7f\">mlc.rs</span></a><span style=\"color: #7f7f7f; text-decoration-color: #7f7f7f\">:</span><a href=\"file:///home/moritz/dev/uni/mlc/src/mlc.rs#215\" target=\"_blank\"><span style=\"color: #7f7f7f; text-decoration-color: #7f7f7f\">215</span></a>\n",
       "</pre>\n"
      ],
      "text/plain": [
       "\u001b[2;36m          \u001b[0m\u001b[2;36m \u001b[0m\u001b[34mINFO    \u001b[0m queue size: \u001b[1;36m171\u001b[0m                                                                      \u001b]8;id=739194;file:///home/moritz/dev/uni/mlc/src/mlc.rs\u001b\\\u001b[2mmlc.rs\u001b[0m\u001b]8;;\u001b\\\u001b[2m:\u001b[0m\u001b]8;id=571180;file:///home/moritz/dev/uni/mlc/src/mlc.rs#215\u001b\\\u001b[2m215\u001b[0m\u001b]8;;\u001b\\\n"
      ]
     },
     "metadata": {},
     "output_type": "display_data"
    },
    {
     "data": {
      "text/html": [
       "<pre style=\"white-space:pre;overflow-x:auto;line-height:normal;font-family:Menlo,'DejaVu Sans Mono',consolas,'Courier New',monospace\"><span style=\"color: #7fbfbf; text-decoration-color: #7fbfbf\">           </span><span style=\"color: #000080; text-decoration-color: #000080\">INFO    </span> queue size: <span style=\"color: #008080; text-decoration-color: #008080; font-weight: bold\">136</span>                                                                      <a href=\"file:///home/moritz/dev/uni/mlc/src/mlc.rs\" target=\"_blank\"><span style=\"color: #7f7f7f; text-decoration-color: #7f7f7f\">mlc.rs</span></a><span style=\"color: #7f7f7f; text-decoration-color: #7f7f7f\">:</span><a href=\"file:///home/moritz/dev/uni/mlc/src/mlc.rs#215\" target=\"_blank\"><span style=\"color: #7f7f7f; text-decoration-color: #7f7f7f\">215</span></a>\n",
       "</pre>\n"
      ],
      "text/plain": [
       "\u001b[2;36m          \u001b[0m\u001b[2;36m \u001b[0m\u001b[34mINFO    \u001b[0m queue size: \u001b[1;36m136\u001b[0m                                                                      \u001b]8;id=383993;file:///home/moritz/dev/uni/mlc/src/mlc.rs\u001b\\\u001b[2mmlc.rs\u001b[0m\u001b]8;;\u001b\\\u001b[2m:\u001b[0m\u001b]8;id=779885;file:///home/moritz/dev/uni/mlc/src/mlc.rs#215\u001b\\\u001b[2m215\u001b[0m\u001b]8;;\u001b\\\n"
      ]
     },
     "metadata": {},
     "output_type": "display_data"
    },
    {
     "data": {
      "text/html": [
       "<pre style=\"white-space:pre;overflow-x:auto;line-height:normal;font-family:Menlo,'DejaVu Sans Mono',consolas,'Courier New',monospace\"><span style=\"color: #7fbfbf; text-decoration-color: #7fbfbf\">           </span><span style=\"color: #000080; text-decoration-color: #000080\">INFO    </span> queue size: <span style=\"color: #008080; text-decoration-color: #008080; font-weight: bold\">105</span>                                                                      <a href=\"file:///home/moritz/dev/uni/mlc/src/mlc.rs\" target=\"_blank\"><span style=\"color: #7f7f7f; text-decoration-color: #7f7f7f\">mlc.rs</span></a><span style=\"color: #7f7f7f; text-decoration-color: #7f7f7f\">:</span><a href=\"file:///home/moritz/dev/uni/mlc/src/mlc.rs#215\" target=\"_blank\"><span style=\"color: #7f7f7f; text-decoration-color: #7f7f7f\">215</span></a>\n",
       "</pre>\n"
      ],
      "text/plain": [
       "\u001b[2;36m          \u001b[0m\u001b[2;36m \u001b[0m\u001b[34mINFO    \u001b[0m queue size: \u001b[1;36m105\u001b[0m                                                                      \u001b]8;id=400687;file:///home/moritz/dev/uni/mlc/src/mlc.rs\u001b\\\u001b[2mmlc.rs\u001b[0m\u001b]8;;\u001b\\\u001b[2m:\u001b[0m\u001b]8;id=92261;file:///home/moritz/dev/uni/mlc/src/mlc.rs#215\u001b\\\u001b[2m215\u001b[0m\u001b]8;;\u001b\\\n"
      ]
     },
     "metadata": {},
     "output_type": "display_data"
    },
    {
     "data": {
      "text/html": [
       "<pre style=\"white-space:pre;overflow-x:auto;line-height:normal;font-family:Menlo,'DejaVu Sans Mono',consolas,'Courier New',monospace\"><span style=\"color: #7fbfbf; text-decoration-color: #7fbfbf\">           </span><span style=\"color: #000080; text-decoration-color: #000080\">INFO    </span> queue size: <span style=\"color: #008080; text-decoration-color: #008080; font-weight: bold\">125</span>                                                                      <a href=\"file:///home/moritz/dev/uni/mlc/src/mlc.rs\" target=\"_blank\"><span style=\"color: #7f7f7f; text-decoration-color: #7f7f7f\">mlc.rs</span></a><span style=\"color: #7f7f7f; text-decoration-color: #7f7f7f\">:</span><a href=\"file:///home/moritz/dev/uni/mlc/src/mlc.rs#215\" target=\"_blank\"><span style=\"color: #7f7f7f; text-decoration-color: #7f7f7f\">215</span></a>\n",
       "</pre>\n"
      ],
      "text/plain": [
       "\u001b[2;36m          \u001b[0m\u001b[2;36m \u001b[0m\u001b[34mINFO    \u001b[0m queue size: \u001b[1;36m125\u001b[0m                                                                      \u001b]8;id=986610;file:///home/moritz/dev/uni/mlc/src/mlc.rs\u001b\\\u001b[2mmlc.rs\u001b[0m\u001b]8;;\u001b\\\u001b[2m:\u001b[0m\u001b]8;id=19782;file:///home/moritz/dev/uni/mlc/src/mlc.rs#215\u001b\\\u001b[2m215\u001b[0m\u001b]8;;\u001b\\\n"
      ]
     },
     "metadata": {},
     "output_type": "display_data"
    },
    {
     "data": {
      "text/html": [
       "<pre style=\"white-space:pre;overflow-x:auto;line-height:normal;font-family:Menlo,'DejaVu Sans Mono',consolas,'Courier New',monospace\"><span style=\"color: #7fbfbf; text-decoration-color: #7fbfbf\">           </span><span style=\"color: #000080; text-decoration-color: #000080\">INFO    </span> queue size: <span style=\"color: #008080; text-decoration-color: #008080; font-weight: bold\">103</span>                                                                      <a href=\"file:///home/moritz/dev/uni/mlc/src/mlc.rs\" target=\"_blank\"><span style=\"color: #7f7f7f; text-decoration-color: #7f7f7f\">mlc.rs</span></a><span style=\"color: #7f7f7f; text-decoration-color: #7f7f7f\">:</span><a href=\"file:///home/moritz/dev/uni/mlc/src/mlc.rs#215\" target=\"_blank\"><span style=\"color: #7f7f7f; text-decoration-color: #7f7f7f\">215</span></a>\n",
       "</pre>\n"
      ],
      "text/plain": [
       "\u001b[2;36m          \u001b[0m\u001b[2;36m \u001b[0m\u001b[34mINFO    \u001b[0m queue size: \u001b[1;36m103\u001b[0m                                                                      \u001b]8;id=200840;file:///home/moritz/dev/uni/mlc/src/mlc.rs\u001b\\\u001b[2mmlc.rs\u001b[0m\u001b]8;;\u001b\\\u001b[2m:\u001b[0m\u001b]8;id=448038;file:///home/moritz/dev/uni/mlc/src/mlc.rs#215\u001b\\\u001b[2m215\u001b[0m\u001b]8;;\u001b\\\n"
      ]
     },
     "metadata": {},
     "output_type": "display_data"
    },
    {
     "data": {
      "text/html": [
       "<pre style=\"white-space:pre;overflow-x:auto;line-height:normal;font-family:Menlo,'DejaVu Sans Mono',consolas,'Courier New',monospace\"><span style=\"color: #7fbfbf; text-decoration-color: #7fbfbf\">           </span><span style=\"color: #000080; text-decoration-color: #000080\">INFO    </span> queue size: <span style=\"color: #008080; text-decoration-color: #008080; font-weight: bold\">89</span>                                                                       <a href=\"file:///home/moritz/dev/uni/mlc/src/mlc.rs\" target=\"_blank\"><span style=\"color: #7f7f7f; text-decoration-color: #7f7f7f\">mlc.rs</span></a><span style=\"color: #7f7f7f; text-decoration-color: #7f7f7f\">:</span><a href=\"file:///home/moritz/dev/uni/mlc/src/mlc.rs#215\" target=\"_blank\"><span style=\"color: #7f7f7f; text-decoration-color: #7f7f7f\">215</span></a>\n",
       "</pre>\n"
      ],
      "text/plain": [
       "\u001b[2;36m          \u001b[0m\u001b[2;36m \u001b[0m\u001b[34mINFO    \u001b[0m queue size: \u001b[1;36m89\u001b[0m                                                                       \u001b]8;id=839717;file:///home/moritz/dev/uni/mlc/src/mlc.rs\u001b\\\u001b[2mmlc.rs\u001b[0m\u001b]8;;\u001b\\\u001b[2m:\u001b[0m\u001b]8;id=929927;file:///home/moritz/dev/uni/mlc/src/mlc.rs#215\u001b\\\u001b[2m215\u001b[0m\u001b]8;;\u001b\\\n"
      ]
     },
     "metadata": {},
     "output_type": "display_data"
    },
    {
     "data": {
      "text/html": [
       "<pre style=\"white-space:pre;overflow-x:auto;line-height:normal;font-family:Menlo,'DejaVu Sans Mono',consolas,'Courier New',monospace\"><span style=\"color: #7fbfbf; text-decoration-color: #7fbfbf\">           </span><span style=\"color: #000080; text-decoration-color: #000080\">INFO    </span> queue size: <span style=\"color: #008080; text-decoration-color: #008080; font-weight: bold\">69</span>                                                                       <a href=\"file:///home/moritz/dev/uni/mlc/src/mlc.rs\" target=\"_blank\"><span style=\"color: #7f7f7f; text-decoration-color: #7f7f7f\">mlc.rs</span></a><span style=\"color: #7f7f7f; text-decoration-color: #7f7f7f\">:</span><a href=\"file:///home/moritz/dev/uni/mlc/src/mlc.rs#215\" target=\"_blank\"><span style=\"color: #7f7f7f; text-decoration-color: #7f7f7f\">215</span></a>\n",
       "</pre>\n"
      ],
      "text/plain": [
       "\u001b[2;36m          \u001b[0m\u001b[2;36m \u001b[0m\u001b[34mINFO    \u001b[0m queue size: \u001b[1;36m69\u001b[0m                                                                       \u001b]8;id=949159;file:///home/moritz/dev/uni/mlc/src/mlc.rs\u001b\\\u001b[2mmlc.rs\u001b[0m\u001b]8;;\u001b\\\u001b[2m:\u001b[0m\u001b]8;id=18736;file:///home/moritz/dev/uni/mlc/src/mlc.rs#215\u001b\\\u001b[2m215\u001b[0m\u001b]8;;\u001b\\\n"
      ]
     },
     "metadata": {},
     "output_type": "display_data"
    },
    {
     "data": {
      "text/html": [
       "<pre style=\"white-space:pre;overflow-x:auto;line-height:normal;font-family:Menlo,'DejaVu Sans Mono',consolas,'Courier New',monospace\"><span style=\"color: #7fbfbf; text-decoration-color: #7fbfbf\">           </span><span style=\"color: #000080; text-decoration-color: #000080\">INFO    </span> queue size: <span style=\"color: #008080; text-decoration-color: #008080; font-weight: bold\">19</span>                                                                       <a href=\"file:///home/moritz/dev/uni/mlc/src/mlc.rs\" target=\"_blank\"><span style=\"color: #7f7f7f; text-decoration-color: #7f7f7f\">mlc.rs</span></a><span style=\"color: #7f7f7f; text-decoration-color: #7f7f7f\">:</span><a href=\"file:///home/moritz/dev/uni/mlc/src/mlc.rs#215\" target=\"_blank\"><span style=\"color: #7f7f7f; text-decoration-color: #7f7f7f\">215</span></a>\n",
       "</pre>\n"
      ],
      "text/plain": [
       "\u001b[2;36m          \u001b[0m\u001b[2;36m \u001b[0m\u001b[34mINFO    \u001b[0m queue size: \u001b[1;36m19\u001b[0m                                                                       \u001b]8;id=705509;file:///home/moritz/dev/uni/mlc/src/mlc.rs\u001b\\\u001b[2mmlc.rs\u001b[0m\u001b]8;;\u001b\\\u001b[2m:\u001b[0m\u001b]8;id=349487;file:///home/moritz/dev/uni/mlc/src/mlc.rs#215\u001b\\\u001b[2m215\u001b[0m\u001b]8;;\u001b\\\n"
      ]
     },
     "metadata": {},
     "output_type": "display_data"
    },
    {
     "data": {
      "text/html": [
       "<pre style=\"white-space:pre;overflow-x:auto;line-height:normal;font-family:Menlo,'DejaVu Sans Mono',consolas,'Courier New',monospace\"><span style=\"color: #7fbfbf; text-decoration-color: #7fbfbf\">           </span><span style=\"color: #000080; text-decoration-color: #000080\">INFO    </span> Done! queue size: <span style=\"color: #008080; text-decoration-color: #008080; font-weight: bold\">0</span>                                                                  <a href=\"file:///home/moritz/dev/uni/mlc/src/mlc.rs\" target=\"_blank\"><span style=\"color: #7f7f7f; text-decoration-color: #7f7f7f\">mlc.rs</span></a><span style=\"color: #7f7f7f; text-decoration-color: #7f7f7f\">:</span><a href=\"file:///home/moritz/dev/uni/mlc/src/mlc.rs#226\" target=\"_blank\"><span style=\"color: #7f7f7f; text-decoration-color: #7f7f7f\">226</span></a>\n",
       "</pre>\n"
      ],
      "text/plain": [
       "\u001b[2;36m          \u001b[0m\u001b[2;36m \u001b[0m\u001b[34mINFO    \u001b[0m Done! queue size: \u001b[1;36m0\u001b[0m                                                                  \u001b]8;id=205272;file:///home/moritz/dev/uni/mlc/src/mlc.rs\u001b\\\u001b[2mmlc.rs\u001b[0m\u001b]8;;\u001b\\\u001b[2m:\u001b[0m\u001b]8;id=91073;file:///home/moritz/dev/uni/mlc/src/mlc.rs#226\u001b\\\u001b[2m226\u001b[0m\u001b]8;;\u001b\\\n"
      ]
     },
     "metadata": {},
     "output_type": "display_data"
    },
    {
     "data": {
      "text/html": [
       "<pre style=\"white-space:pre;overflow-x:auto;line-height:normal;font-family:Menlo,'DejaVu Sans Mono',consolas,'Courier New',monospace\"><span style=\"color: #7fbfbf; text-decoration-color: #7fbfbf\">           </span><span style=\"color: #000080; text-decoration-color: #000080\">INFO    </span> Running Dijkstra step done <span style=\"font-weight: bold\">(</span><span style=\"color: #008080; text-decoration-color: #008080; font-weight: bold\">0.71</span> seconds<span style=\"font-weight: bold\">)</span>                                        <a href=\"file:///tmp/ipykernel_8359/25483325.py\" target=\"_blank\"><span style=\"color: #7f7f7f; text-decoration-color: #7f7f7f\">25483325.py</span></a><span style=\"color: #7f7f7f; text-decoration-color: #7f7f7f\">:</span><a href=\"file:///tmp/ipykernel_8359/25483325.py#51\" target=\"_blank\"><span style=\"color: #7f7f7f; text-decoration-color: #7f7f7f\">51</span></a>\n",
       "</pre>\n"
      ],
      "text/plain": [
       "\u001b[2;36m          \u001b[0m\u001b[2;36m \u001b[0m\u001b[34mINFO    \u001b[0m Running Dijkstra step done \u001b[1m(\u001b[0m\u001b[1;36m0.71\u001b[0m seconds\u001b[1m)\u001b[0m                                        \u001b]8;id=749609;file:///tmp/ipykernel_8359/25483325.py\u001b\\\u001b[2m25483325.py\u001b[0m\u001b]8;;\u001b\\\u001b[2m:\u001b[0m\u001b]8;id=634613;file:///tmp/ipykernel_8359/25483325.py#51\u001b\\\u001b[2m51\u001b[0m\u001b]8;;\u001b\\\n"
      ]
     },
     "metadata": {},
     "output_type": "display_data"
    }
   ],
   "source": [
    "stops_path = \"../data/cleaned/stops.csv\"\n",
    "city_id = \"Koeln\"\n",
    "osm_path = \"\"\n",
    "\n",
    "with Timed.info(\"Reading stops\"):\n",
    "\tstops_df = storage.read_gdf(stops_path)\n",
    "\n",
    "with Timed.info(\"Preparing graphs\"):\n",
    "\tosm_reader = osm.get_osm_reader_for_city_id_or_osm_path(city_id, osm_path)\n",
    "\tnodes, edges = osm.get_graph_for_city_cropped_to_stops(osm_reader, stops_df)\n",
    "\tnxgraph = graph.create_nx_graph(osm_reader, nodes, edges)\n",
    "\n",
    "\tnodes: pd.DataFrame = nodes[[\"id\"]]  # type: ignore\n",
    "\tedges: pd.DataFrame = edges[[\"u\", \"v\", \"length\"]]  # type: ignore\n",
    "\n",
    "\tstops_df = graph.add_nearest_node_to_stops(stops_df, nxgraph)\n",
    "\n",
    "\tnodes = mark_bicycles(nodes)\n",
    "\n",
    "\tgraph_components = create_multi_modal_graph(nodes, edges)\n",
    "\tnodes, edges, walking_nodes, walking_edges = (\n",
    "\t\tgraph_components[\"nodes\"],\n",
    "\t\tgraph_components[\"edges\"],\n",
    "\t\tgraph_components[\"walking_nodes\"],\n",
    "\t\tgraph_components[\"walking_edges\"],\n",
    "\t)\n",
    "\n",
    "\tnodes, edges, node_map = reset_node_ids(nodes, edges)\n",
    "\twalking_nodes, walking_edges, walking_node_map = reset_node_ids(\n",
    "\t\twalking_nodes, walking_edges\n",
    "\t)\n",
    "\treverse_node_map = get_reverse_map(node_map)\n",
    "\treverse_walking_node_map = get_reverse_map(walking_node_map)\n",
    "\n",
    "\tedges = add_multi_modal_weights(edges)\n",
    "\twalking_edges = add_single_modal_weights(walking_edges)\n",
    "\n",
    "\traw_edges = edges[[\"u\", \"v\", \"weights\"]].to_dict(\"records\")\n",
    "\traw_walking_edges = walking_edges[[\"u\", \"v\", \"weights\"]].to_dict(\"records\")\n",
    "\n",
    "bicycle_transfer_nodes_walking_node_ids = walking_nodes[\n",
    "\twalking_nodes[\"has_bicycle\"]\n",
    "].id.values\n",
    "\n",
    "with Timed.info(\"Creating graph cache\"):\n",
    "\tgc = GraphCache()\n",
    "\tgc.set_graph(raw_edges)\n",
    "\twalking_gc = GraphCache()\n",
    "\twalking_gc.set_graph(raw_walking_edges)\n",
    "\n",
    "with Timed.info(\"Running Dijkstra step\"):\n",
    "\tbags = mcr_py.run_mlc(walking_gc, 0)  # type: ignore\n",
    "\n",
    "path_manager = PathManager()\n",
    "intermediate_bags = convert_to_intermediate_bags(bags)\n",
    "path_manager.extract_all_paths_from_bags(intermediate_bags)\n",
    "\n",
    "# translates a node id from the walking graph to the corresponding bicycle\n",
    "# node id from the multi-modal graph\n",
    "def translate_walking_node_id_to_bicycle_node_id(\n",
    "\twalking_node_id: int,\n",
    ") -> int:\n",
    "\toriginal_walking_node = reverse_walking_node_map[walking_node_id]\n",
    "\toriginal_bicycle_node = original_walking_node.replace(\"W\", \"B\")\n",
    "\tbicycle_node_id = node_map[original_bicycle_node]\n",
    "\treturn bicycle_node_id\n",
    "\n",
    "# filter bags at bicycle nodes\n",
    "bicycle_bags = {\n",
    "\ttranslate_walking_node_id_to_bicycle_node_id(node_id): bag\n",
    "\tfor node_id, bag in intermediate_bags.items()\n",
    "\tif node_id in bicycle_transfer_nodes_walking_node_ids\n",
    "}\n"
   ]
  },
  {
   "cell_type": "code",
   "execution_count": 158,
   "metadata": {},
   "outputs": [],
   "source": [
    "data = storage.read_any_dict(\"/home/moritz/dev/uni/mcr-py/data/bags.pkl\")\n",
    "bags = data[\"intermediate_bags\"]\n",
    "new_bags = data[\"new_intermediate_bags\"]\n",
    "path_manager = data[\"path_manager\"]\n",
    "node_map = data[\"node_map\"]\n",
    "walking_node_map = data[\"walking_node_map\"]\n",
    "reverse_node_map = {v: k for k, v in node_map.items()}\n",
    "reverse_walking_node_map = {v: k for k, v in walking_node_map.items()}"
   ]
  },
  {
   "cell_type": "code",
   "execution_count": 118,
   "metadata": {},
   "outputs": [
    {
     "ename": "KeyError",
     "evalue": "'W1992584223'",
     "output_type": "error",
     "traceback": [
      "\u001b[0;31m---------------------------------------------------------------------------\u001b[0m",
      "\u001b[0;31mKeyError\u001b[0m                                  Traceback (most recent call last)",
      "Cell \u001b[0;32mIn[118], line 1\u001b[0m\n\u001b[0;32m----> 1\u001b[0m walking_node_map[\u001b[39m\"\u001b[39;49m\u001b[39mW1992584223\u001b[39;49m\u001b[39m\"\u001b[39;49m]\n",
      "\u001b[0;31mKeyError\u001b[0m: 'W1992584223'"
     ]
    }
   ],
   "source": [
    "walking_node_map[\"W1992584223\"]"
   ]
  },
  {
   "cell_type": "code",
   "execution_count": 120,
   "metadata": {},
   "outputs": [
    {
     "data": {
      "text/plain": [
       "eat                 38.966667\n",
       "cost                 0.000000\n",
       "bicycle_duration    30.366667\n",
       "dtype: float64"
      ]
     },
     "execution_count": 120,
     "metadata": {},
     "output_type": "execute_result"
    }
   ],
   "source": [
    "all_labels = [label for bag in new_bags.values() for label in bag]\n",
    "all_labels[0].values\n",
    "all_values = [label.values for label in all_labels]\n",
    "all_hidden_values = [label.hidden_values for label in all_labels]\n",
    "df = pd.DataFrame(all_values, columns=[\"eat\", \"cost\"])\n",
    "hidden_df = pd.DataFrame(all_hidden_values, columns=[\"bicycle_duration\"])\n",
    "df[\"bicycle_duration\"] = hidden_df[\"bicycle_duration\"]\n",
    "df = df / 60\n",
    "df.max()"
   ]
  },
  {
   "cell_type": "code",
   "execution_count": 152,
   "metadata": {},
   "outputs": [],
   "source": [
    "import os\n",
    "import folium\n",
    "from package.mcr.path import PathType"
   ]
  },
  {
   "cell_type": "code",
   "execution_count": 123,
   "metadata": {},
   "outputs": [
    {
     "data": {
      "text/html": [
       "<pre style=\"white-space:pre;overflow-x:auto;line-height:normal;font-family:Menlo,'DejaVu Sans Mono',consolas,'Courier New',monospace\"><span style=\"color: #7fbfbf; text-decoration-color: #7fbfbf\">[10:49:45] </span><span style=\"color: #000080; text-decoration-color: #000080\">INFO    </span> Reading stops                                                                   <a href=\"file:///tmp/ipykernel_8359/2041299943.py\" target=\"_blank\"><span style=\"color: #7f7f7f; text-decoration-color: #7f7f7f\">2041299943.py</span></a><span style=\"color: #7f7f7f; text-decoration-color: #7f7f7f\">:</span><a href=\"file:///tmp/ipykernel_8359/2041299943.py#5\" target=\"_blank\"><span style=\"color: #7f7f7f; text-decoration-color: #7f7f7f\">5</span></a>\n",
       "</pre>\n"
      ],
      "text/plain": [
       "\u001b[2;36m[10:49:45]\u001b[0m\u001b[2;36m \u001b[0m\u001b[34mINFO    \u001b[0m Reading stops                                                                   \u001b]8;id=841022;file:///tmp/ipykernel_8359/2041299943.py\u001b\\\u001b[2m2041299943.py\u001b[0m\u001b]8;;\u001b\\\u001b[2m:\u001b[0m\u001b]8;id=246481;file:///tmp/ipykernel_8359/2041299943.py#5\u001b\\\u001b[2m5\u001b[0m\u001b]8;;\u001b\\\n"
      ]
     },
     "metadata": {},
     "output_type": "display_data"
    },
    {
     "data": {
      "text/html": [
       "<pre style=\"white-space:pre;overflow-x:auto;line-height:normal;font-family:Menlo,'DejaVu Sans Mono',consolas,'Courier New',monospace\"><span style=\"color: #7fbfbf; text-decoration-color: #7fbfbf\">           </span><span style=\"color: #000080; text-decoration-color: #000080\">INFO    </span> Reading stops done <span style=\"font-weight: bold\">(</span><span style=\"color: #008080; text-decoration-color: #008080; font-weight: bold\">0.05</span> seconds<span style=\"font-weight: bold\">)</span>                                               <a href=\"file:///tmp/ipykernel_8359/2041299943.py\" target=\"_blank\"><span style=\"color: #7f7f7f; text-decoration-color: #7f7f7f\">2041299943.py</span></a><span style=\"color: #7f7f7f; text-decoration-color: #7f7f7f\">:</span><a href=\"file:///tmp/ipykernel_8359/2041299943.py#5\" target=\"_blank\"><span style=\"color: #7f7f7f; text-decoration-color: #7f7f7f\">5</span></a>\n",
       "</pre>\n"
      ],
      "text/plain": [
       "\u001b[2;36m          \u001b[0m\u001b[2;36m \u001b[0m\u001b[34mINFO    \u001b[0m Reading stops done \u001b[1m(\u001b[0m\u001b[1;36m0.05\u001b[0m seconds\u001b[1m)\u001b[0m                                               \u001b]8;id=15752;file:///tmp/ipykernel_8359/2041299943.py\u001b\\\u001b[2m2041299943.py\u001b[0m\u001b]8;;\u001b\\\u001b[2m:\u001b[0m\u001b]8;id=961551;file:///tmp/ipykernel_8359/2041299943.py#5\u001b\\\u001b[2m5\u001b[0m\u001b]8;;\u001b\\\n"
      ]
     },
     "metadata": {},
     "output_type": "display_data"
    },
    {
     "data": {
      "text/html": [
       "<pre style=\"white-space:pre;overflow-x:auto;line-height:normal;font-family:Menlo,'DejaVu Sans Mono',consolas,'Courier New',monospace\"><span style=\"color: #7fbfbf; text-decoration-color: #7fbfbf\">           </span><span style=\"color: #000080; text-decoration-color: #000080\">INFO    </span> Using existing OSM data                                                        <a href=\"file:///tmp/ipykernel_8359/2041299943.py\" target=\"_blank\"><span style=\"color: #7f7f7f; text-decoration-color: #7f7f7f\">2041299943.py</span></a><span style=\"color: #7f7f7f; text-decoration-color: #7f7f7f\">:</span><a href=\"file:///tmp/ipykernel_8359/2041299943.py#12\" target=\"_blank\"><span style=\"color: #7f7f7f; text-decoration-color: #7f7f7f\">12</span></a>\n",
       "</pre>\n"
      ],
      "text/plain": [
       "\u001b[2;36m          \u001b[0m\u001b[2;36m \u001b[0m\u001b[34mINFO    \u001b[0m Using existing OSM data                                                        \u001b]8;id=37418;file:///tmp/ipykernel_8359/2041299943.py\u001b\\\u001b[2m2041299943.py\u001b[0m\u001b]8;;\u001b\\\u001b[2m:\u001b[0m\u001b]8;id=963984;file:///tmp/ipykernel_8359/2041299943.py#12\u001b\\\u001b[2m12\u001b[0m\u001b]8;;\u001b\\\n"
      ]
     },
     "metadata": {},
     "output_type": "display_data"
    },
    {
     "data": {
      "text/html": [
       "<pre style=\"white-space:pre;overflow-x:auto;line-height:normal;font-family:Menlo,'DejaVu Sans Mono',consolas,'Courier New',monospace\"><span style=\"color: #7fbfbf; text-decoration-color: #7fbfbf\">           </span><span style=\"color: #000080; text-decoration-color: #000080\">INFO    </span> Getting OSM graph                                                              <a href=\"file:///tmp/ipykernel_8359/2041299943.py\" target=\"_blank\"><span style=\"color: #7f7f7f; text-decoration-color: #7f7f7f\">2041299943.py</span></a><span style=\"color: #7f7f7f; text-decoration-color: #7f7f7f\">:</span><a href=\"file:///tmp/ipykernel_8359/2041299943.py#16\" target=\"_blank\"><span style=\"color: #7f7f7f; text-decoration-color: #7f7f7f\">16</span></a>\n",
       "</pre>\n"
      ],
      "text/plain": [
       "\u001b[2;36m          \u001b[0m\u001b[2;36m \u001b[0m\u001b[34mINFO    \u001b[0m Getting OSM graph                                                              \u001b]8;id=202016;file:///tmp/ipykernel_8359/2041299943.py\u001b\\\u001b[2m2041299943.py\u001b[0m\u001b]8;;\u001b\\\u001b[2m:\u001b[0m\u001b]8;id=574190;file:///tmp/ipykernel_8359/2041299943.py#16\u001b\\\u001b[2m16\u001b[0m\u001b]8;;\u001b\\\n"
      ]
     },
     "metadata": {},
     "output_type": "display_data"
    },
    {
     "data": {
      "text/html": [
       "<pre style=\"white-space:pre;overflow-x:auto;line-height:normal;font-family:Menlo,'DejaVu Sans Mono',consolas,'Courier New',monospace\"><span style=\"color: #7fbfbf; text-decoration-color: #7fbfbf\">           </span><span style=\"color: #000080; text-decoration-color: #000080\">INFO    </span> Loading OSM network from cache                                                 <a href=\"file:///tmp/ipykernel_8359/2041299943.py\" target=\"_blank\"><span style=\"color: #7f7f7f; text-decoration-color: #7f7f7f\">2041299943.py</span></a><span style=\"color: #7f7f7f; text-decoration-color: #7f7f7f\">:</span><a href=\"file:///tmp/ipykernel_8359/2041299943.py#16\" target=\"_blank\"><span style=\"color: #7f7f7f; text-decoration-color: #7f7f7f\">16</span></a>\n",
       "</pre>\n"
      ],
      "text/plain": [
       "\u001b[2;36m          \u001b[0m\u001b[2;36m \u001b[0m\u001b[34mINFO    \u001b[0m Loading OSM network from cache                                                 \u001b]8;id=531014;file:///tmp/ipykernel_8359/2041299943.py\u001b\\\u001b[2m2041299943.py\u001b[0m\u001b]8;;\u001b\\\u001b[2m:\u001b[0m\u001b]8;id=206219;file:///tmp/ipykernel_8359/2041299943.py#16\u001b\\\u001b[2m16\u001b[0m\u001b]8;;\u001b\\\n"
      ]
     },
     "metadata": {},
     "output_type": "display_data"
    },
    {
     "data": {
      "text/html": [
       "<pre style=\"white-space:pre;overflow-x:auto;line-height:normal;font-family:Menlo,'DejaVu Sans Mono',consolas,'Courier New',monospace\"><span style=\"color: #7fbfbf; text-decoration-color: #7fbfbf\">           </span><span style=\"color: #000080; text-decoration-color: #000080\">INFO    </span> Getting OSM graph done <span style=\"font-weight: bold\">(</span><span style=\"color: #008080; text-decoration-color: #008080; font-weight: bold\">0.45</span> seconds<span style=\"font-weight: bold\">)</span>                                          <a href=\"file:///tmp/ipykernel_8359/2041299943.py\" target=\"_blank\"><span style=\"color: #7f7f7f; text-decoration-color: #7f7f7f\">2041299943.py</span></a><span style=\"color: #7f7f7f; text-decoration-color: #7f7f7f\">:</span><a href=\"file:///tmp/ipykernel_8359/2041299943.py#16\" target=\"_blank\"><span style=\"color: #7f7f7f; text-decoration-color: #7f7f7f\">16</span></a>\n",
       "</pre>\n"
      ],
      "text/plain": [
       "\u001b[2;36m          \u001b[0m\u001b[2;36m \u001b[0m\u001b[34mINFO    \u001b[0m Getting OSM graph done \u001b[1m(\u001b[0m\u001b[1;36m0.45\u001b[0m seconds\u001b[1m)\u001b[0m                                          \u001b]8;id=190317;file:///tmp/ipykernel_8359/2041299943.py\u001b\\\u001b[2m2041299943.py\u001b[0m\u001b]8;;\u001b\\\u001b[2m:\u001b[0m\u001b]8;id=466679;file:///tmp/ipykernel_8359/2041299943.py#16\u001b\\\u001b[2m16\u001b[0m\u001b]8;;\u001b\\\n"
      ]
     },
     "metadata": {},
     "output_type": "display_data"
    }
   ],
   "source": [
    "city_id = \"Koeln\"\n",
    "stops_path = \"../data/cleaned/stops.csv\"\n",
    "osm_path = osm.get_osm_path_from_city_id(city_id)\n",
    "\n",
    "with Timed.info(\"Reading stops\"):\n",
    "\tstops_df = storage.read_gdf(stops_path)\n",
    "\n",
    "if not os.path.exists(osm_path) and city_id:\n",
    "\trlog.info(\"Downloading OSM data\")\n",
    "\tosm.download_city(city_id, osm_path)\n",
    "else:\n",
    "\trlog.info(\"Using existing OSM data\")\n",
    "\n",
    "osm_reader = osm.new_osm_reader(osm_path)\n",
    "\n",
    "with Timed.info(\"Getting OSM graph\"):\n",
    "\tnodes, edges = osm.get_graph_for_city_cropped_to_stops(osm_reader, stops_df)"
   ]
  },
  {
   "cell_type": "code",
   "execution_count": 189,
   "metadata": {},
   "outputs": [],
   "source": [
    "translator_map = {\n",
    "    PathType.WALKING: reverse_walking_node_map,\n",
    "    PathType.CYCLING_WALKING: reverse_node_map,\n",
    "}\n",
    "no_prefix_reverse_walking_node_map = {\n",
    "    k: int(v[1:]) for k, v in reverse_walking_node_map.items()\n",
    "}\n",
    "no_prefix_reverse_node_map = {k: int(v[1:]) for k, v in reverse_node_map.items()}\n",
    "no_prefix_translator_map = {\n",
    "    PathType.WALKING: no_prefix_reverse_walking_node_map,\n",
    "    PathType.CYCLING_WALKING: no_prefix_reverse_node_map,\n",
    "}\n"
   ]
  },
  {
   "cell_type": "code",
   "execution_count": 182,
   "metadata": {},
   "outputs": [
    {
     "data": {
      "text/plain": [
       "[<package.mcr.path.Path at 0x7f4279038f70>]"
      ]
     },
     "execution_count": 182,
     "metadata": {},
     "output_type": "execute_result"
    }
   ],
   "source": [
    "\n",
    "path = path_manager.reconstruct_and_translate_path_for_label(label, no_prefix_translator_map)\n",
    "path"
   ]
  },
  {
   "cell_type": "code",
   "execution_count": 184,
   "metadata": {},
   "outputs": [
    {
     "data": {
      "text/html": [
       "<div style=\"width:100%;\"><div style=\"position:relative;width:100%;height:0;padding-bottom:60%;\"><span style=\"color:#565656\">Make this Notebook Trusted to load map: File -> Trust Notebook</span><iframe srcdoc=\"&lt;!DOCTYPE html&gt;\n",
       "&lt;html&gt;\n",
       "&lt;head&gt;\n",
       "    \n",
       "    &lt;meta http-equiv=&quot;content-type&quot; content=&quot;text/html; charset=UTF-8&quot; /&gt;\n",
       "    \n",
       "        &lt;script&gt;\n",
       "            L_NO_TOUCH = false;\n",
       "            L_DISABLE_3D = false;\n",
       "        &lt;/script&gt;\n",
       "    \n",
       "    &lt;style&gt;html, body {width: 100%;height: 100%;margin: 0;padding: 0;}&lt;/style&gt;\n",
       "    &lt;style&gt;#map {position:absolute;top:0;bottom:0;right:0;left:0;}&lt;/style&gt;\n",
       "    &lt;script src=&quot;https://cdn.jsdelivr.net/npm/leaflet@1.9.3/dist/leaflet.js&quot;&gt;&lt;/script&gt;\n",
       "    &lt;script src=&quot;https://code.jquery.com/jquery-1.12.4.min.js&quot;&gt;&lt;/script&gt;\n",
       "    &lt;script src=&quot;https://cdn.jsdelivr.net/npm/bootstrap@5.2.2/dist/js/bootstrap.bundle.min.js&quot;&gt;&lt;/script&gt;\n",
       "    &lt;script src=&quot;https://cdnjs.cloudflare.com/ajax/libs/Leaflet.awesome-markers/2.0.2/leaflet.awesome-markers.js&quot;&gt;&lt;/script&gt;\n",
       "    &lt;link rel=&quot;stylesheet&quot; href=&quot;https://cdn.jsdelivr.net/npm/leaflet@1.9.3/dist/leaflet.css&quot;/&gt;\n",
       "    &lt;link rel=&quot;stylesheet&quot; href=&quot;https://cdn.jsdelivr.net/npm/bootstrap@5.2.2/dist/css/bootstrap.min.css&quot;/&gt;\n",
       "    &lt;link rel=&quot;stylesheet&quot; href=&quot;https://netdna.bootstrapcdn.com/bootstrap/3.0.0/css/bootstrap.min.css&quot;/&gt;\n",
       "    &lt;link rel=&quot;stylesheet&quot; href=&quot;https://cdn.jsdelivr.net/npm/@fortawesome/fontawesome-free@6.2.0/css/all.min.css&quot;/&gt;\n",
       "    &lt;link rel=&quot;stylesheet&quot; href=&quot;https://cdnjs.cloudflare.com/ajax/libs/Leaflet.awesome-markers/2.0.2/leaflet.awesome-markers.css&quot;/&gt;\n",
       "    &lt;link rel=&quot;stylesheet&quot; href=&quot;https://cdn.jsdelivr.net/gh/python-visualization/folium/folium/templates/leaflet.awesome.rotate.min.css&quot;/&gt;\n",
       "    \n",
       "            &lt;meta name=&quot;viewport&quot; content=&quot;width=device-width,\n",
       "                initial-scale=1.0, maximum-scale=1.0, user-scalable=no&quot; /&gt;\n",
       "            &lt;style&gt;\n",
       "                #map_b5287797903315f754e7b2ffe5e46913 {\n",
       "                    position: relative;\n",
       "                    width: 100.0%;\n",
       "                    height: 100.0%;\n",
       "                    left: 0.0%;\n",
       "                    top: 0.0%;\n",
       "                }\n",
       "                .leaflet-container { font-size: 1rem; }\n",
       "            &lt;/style&gt;\n",
       "        \n",
       "&lt;/head&gt;\n",
       "&lt;body&gt;\n",
       "    \n",
       "    \n",
       "            &lt;div class=&quot;folium-map&quot; id=&quot;map_b5287797903315f754e7b2ffe5e46913&quot; &gt;&lt;/div&gt;\n",
       "        \n",
       "&lt;/body&gt;\n",
       "&lt;script&gt;\n",
       "    \n",
       "    \n",
       "            var map_b5287797903315f754e7b2ffe5e46913 = L.map(\n",
       "                &quot;map_b5287797903315f754e7b2ffe5e46913&quot;,\n",
       "                {\n",
       "                    center: [50.9626489, 6.9438841],\n",
       "                    crs: L.CRS.EPSG3857,\n",
       "                    zoom: 15,\n",
       "                    zoomControl: true,\n",
       "                    preferCanvas: false,\n",
       "                }\n",
       "            );\n",
       "\n",
       "            \n",
       "\n",
       "        \n",
       "    \n",
       "            var tile_layer_d8c9b79e5dd9d143fc2f03bbf96e624c = L.tileLayer(\n",
       "                &quot;https://{s}.tile.openstreetmap.org/{z}/{x}/{y}.png&quot;,\n",
       "                {&quot;attribution&quot;: &quot;Data by \\u0026copy; \\u003ca target=\\&quot;_blank\\&quot; href=\\&quot;http://openstreetmap.org\\&quot;\\u003eOpenStreetMap\\u003c/a\\u003e, under \\u003ca target=\\&quot;_blank\\&quot; href=\\&quot;http://www.openstreetmap.org/copyright\\&quot;\\u003eODbL\\u003c/a\\u003e.&quot;, &quot;detectRetina&quot;: false, &quot;maxNativeZoom&quot;: 18, &quot;maxZoom&quot;: 18, &quot;minZoom&quot;: 0, &quot;noWrap&quot;: false, &quot;opacity&quot;: 1, &quot;subdomains&quot;: &quot;abc&quot;, &quot;tms&quot;: false}\n",
       "            ).addTo(map_b5287797903315f754e7b2ffe5e46913);\n",
       "        \n",
       "    \n",
       "            var circle_marker_3a7a527d7c50a5f7d97415f8429128d3 = L.circleMarker(\n",
       "                [50.9626489, 6.9438841],\n",
       "                {&quot;bubblingMouseEvents&quot;: true, &quot;color&quot;: &quot;red&quot;, &quot;dashArray&quot;: null, &quot;dashOffset&quot;: null, &quot;fill&quot;: false, &quot;fillColor&quot;: &quot;red&quot;, &quot;fillOpacity&quot;: 0.2, &quot;fillRule&quot;: &quot;evenodd&quot;, &quot;lineCap&quot;: &quot;round&quot;, &quot;lineJoin&quot;: &quot;round&quot;, &quot;opacity&quot;: 1.0, &quot;radius&quot;: 3, &quot;stroke&quot;: true, &quot;weight&quot;: 3}\n",
       "            ).addTo(map_b5287797903315f754e7b2ffe5e46913);\n",
       "        \n",
       "    \n",
       "        var popup_d16dc536ca0bb47f2847718cd003d8cf = L.popup({&quot;maxWidth&quot;: &quot;100%&quot;});\n",
       "\n",
       "        \n",
       "            \n",
       "                var html_dd3f5e40681416a1f03383005a0d5c5a = $(`&lt;div id=&quot;html_dd3f5e40681416a1f03383005a0d5c5a&quot; style=&quot;width: 100.0%; height: 100.0%;&quot;&gt;node_id: 3283940651  label: 42.95min&lt;/div&gt;`)[0];\n",
       "                popup_d16dc536ca0bb47f2847718cd003d8cf.setContent(html_dd3f5e40681416a1f03383005a0d5c5a);\n",
       "            \n",
       "        \n",
       "\n",
       "        circle_marker_3a7a527d7c50a5f7d97415f8429128d3.bindPopup(popup_d16dc536ca0bb47f2847718cd003d8cf)\n",
       "        ;\n",
       "\n",
       "        \n",
       "    \n",
       "    \n",
       "            var poly_line_1d66254b1ba1951c1a4c6b94f7edc49b = L.polyline(\n",
       "                [[50.9883329, 6.9646961], [50.9882423, 6.9646103], [50.9881889, 6.9645947], [50.9880821, 6.9646387], [50.9879814, 6.9639089], [50.9879131, 6.9639583], [50.9879037, 6.9617419], [50.9878053, 6.9617417], [50.9878031, 6.9613676], [50.987547, 6.9613627], [50.9875216, 6.9613534], [50.9874825, 6.9613392], [50.9874412, 6.9613241], [50.987427, 6.9613183], [50.9873258, 6.9612769], [50.9871961, 6.9612597], [50.9869923, 6.9612326], [50.9863187, 6.9611537], [50.9861486, 6.9611361], [50.9858405, 6.9611091], [50.9857529, 6.9611226], [50.9856539, 6.9611379], [50.9855929, 6.961133], [50.9855561, 6.961182], [50.9855166, 6.9611805], [50.9853055, 6.9611723], [50.9852716, 6.9611843], [50.9852085, 6.9612067], [50.9850586, 6.9611883], [50.9849173, 6.961171], [50.9848961, 6.9611405], [50.9848478, 6.9611218], [50.9847893, 6.9610991], [50.9846425, 6.9610752], [50.9844015, 6.9610517], [50.9842016, 6.9610301], [50.984167, 6.9610346], [50.9841054, 6.9610687], [50.9838173, 6.9610257], [50.9836651, 6.9610012], [50.9836316, 6.9609734], [50.9836203, 6.9609641], [50.9833821, 6.9609303], [50.9833066, 6.9609196], [50.9832374, 6.960901], [50.9830586, 6.9608825], [50.9830054, 6.960887], [50.9829298, 6.9609181], [50.982799, 6.9609065], [50.981856, 6.9607929], [50.9818124, 6.9608033], [50.9816412, 6.9607713], [50.9813844, 6.960755], [50.981227, 6.9607164], [50.9811845, 6.9607134], [50.9811579, 6.9607297], [50.9810282, 6.9607183], [50.9804464, 6.9606497], [50.9802379, 6.9606252], [50.9789863, 6.9604954], [50.9789153, 6.9604635], [50.9787197, 6.9604287], [50.9785159, 6.9604102], [50.9784159, 6.9604045], [50.9783247, 6.960397], [50.9781412, 6.9603893], [50.9778339, 6.9603567], [50.9777391, 6.9603463], [50.9773497, 6.9602989], [50.9772176, 6.960287], [50.9771681, 6.9602492], [50.9771189, 6.9601785], [50.9771215, 6.9601117], [50.977021, 6.9601001], [50.976849, 6.9600817], [50.9768035, 6.9600768], [50.9766043, 6.9600555], [50.9765086, 6.9599228], [50.9764464, 6.9598291], [50.9764171, 6.9597889], [50.9763749, 6.959731], [50.9758293, 6.9589829], [50.9757739, 6.9588512], [50.9754805, 6.9584215], [50.975389, 6.9583689], [50.9751629, 6.9580919], [50.9749696, 6.9577227], [50.9746996, 6.9574132], [50.9745411, 6.9572316], [50.9743328, 6.956993], [50.9742369, 6.9568831], [50.9741637, 6.9567992], [50.9740839, 6.9567115], [50.974003, 6.9566342], [50.9739374, 6.9565715], [50.973391, 6.9560382], [50.9730359, 6.9556896], [50.9726793, 6.9553395], [50.9722474, 6.9548829], [50.9721201, 6.9547746], [50.9718803, 6.954559], [50.9710632, 6.9537211], [50.9705232, 6.9532205], [50.9700906, 6.9527924], [50.9699821, 6.9526879], [50.969949, 6.9526507], [50.9699256, 6.9526243], [50.9698848, 6.9525677], [50.9698583, 6.9525309], [50.9698151, 6.9524666], [50.969793, 6.9524188], [50.9697599, 6.952352], [50.969706, 6.9522435], [50.9695987, 6.952027], [50.9692651, 6.9513542], [50.9691922, 6.9512072], [50.9691519, 6.9510458], [50.9691187, 6.9507083], [50.9691251, 6.9505275], [50.9691324, 6.9504119], [50.9691583, 6.950005], [50.9691563, 6.9499409], [50.9691525, 6.9498173], [50.9688142, 6.9496107], [50.968299, 6.9493451], [50.9681174, 6.9492361], [50.9679945, 6.9491339], [50.9677606, 6.9490202], [50.9677205, 6.9490148], [50.967598, 6.9490477], [50.9675907, 6.9490001], [50.9675617, 6.9488769], [50.967515, 6.9488869], [50.9672533, 6.948923], [50.9667918, 6.949044], [50.9666528, 6.9476264], [50.9666447, 6.9475439], [50.9666203, 6.9474726], [50.9665691, 6.947441], [50.9665134, 6.9474376], [50.9658117, 6.9476459], [50.9657705, 6.9464098], [50.9657288, 6.9463009], [50.9656778, 6.9462093], [50.9656509, 6.9461621], [50.9654646, 6.945835], [50.965449, 6.9458076], [50.9651777, 6.9453313], [50.9650386, 6.945087], [50.9649435, 6.94492], [50.9648191, 6.9447015], [50.9647544, 6.944714], [50.9646673, 6.9445676], [50.9645206, 6.9443211], [50.9641713, 6.9437257], [50.9641232, 6.9436438], [50.9640815, 6.9436519], [50.964086, 6.9437098], [50.9638328, 6.9437577], [50.9637244, 6.9437783], [50.963547, 6.9438119], [50.9628959, 6.9439352], [50.9627485, 6.9439631], [50.9627192, 6.9439686], [50.9626102, 6.9439893], [50.9626377, 6.9439419], [50.9626489, 6.9438841]],\n",
       "                {&quot;bubblingMouseEvents&quot;: true, &quot;color&quot;: &quot;blue&quot;, &quot;dashArray&quot;: null, &quot;dashOffset&quot;: null, &quot;fill&quot;: false, &quot;fillColor&quot;: &quot;blue&quot;, &quot;fillOpacity&quot;: 0.2, &quot;fillRule&quot;: &quot;evenodd&quot;, &quot;lineCap&quot;: &quot;round&quot;, &quot;lineJoin&quot;: &quot;round&quot;, &quot;noClip&quot;: false, &quot;opacity&quot;: 1.0, &quot;smoothFactor&quot;: 1.0, &quot;stroke&quot;: true, &quot;weight&quot;: 2}\n",
       "            ).addTo(map_b5287797903315f754e7b2ffe5e46913);\n",
       "        \n",
       "    \n",
       "            var circle_marker_33b6f2836b25ad8c701dee92a96e3260 = L.circleMarker(\n",
       "                [50.953088, 6.9218772],\n",
       "                {&quot;bubblingMouseEvents&quot;: true, &quot;color&quot;: &quot;red&quot;, &quot;dashArray&quot;: null, &quot;dashOffset&quot;: null, &quot;fill&quot;: false, &quot;fillColor&quot;: &quot;red&quot;, &quot;fillOpacity&quot;: 0.2, &quot;fillRule&quot;: &quot;evenodd&quot;, &quot;lineCap&quot;: &quot;round&quot;, &quot;lineJoin&quot;: &quot;round&quot;, &quot;opacity&quot;: 1.0, &quot;radius&quot;: 3, &quot;stroke&quot;: true, &quot;weight&quot;: 3}\n",
       "            ).addTo(map_b5287797903315f754e7b2ffe5e46913);\n",
       "        \n",
       "    \n",
       "        var popup_456eec9632830b64a4df3fb99ced2318 = L.popup({&quot;maxWidth&quot;: &quot;100%&quot;});\n",
       "\n",
       "        \n",
       "            \n",
       "                var html_9b6e07b2833b379e1812ac38107ae2e4 = $(`&lt;div id=&quot;html_9b6e07b2833b379e1812ac38107ae2e4&quot; style=&quot;width: 100.0%; height: 100.0%;&quot;&gt;node_id: 1705497091  label: 65.97min&lt;/div&gt;`)[0];\n",
       "                popup_456eec9632830b64a4df3fb99ced2318.setContent(html_9b6e07b2833b379e1812ac38107ae2e4);\n",
       "            \n",
       "        \n",
       "\n",
       "        circle_marker_33b6f2836b25ad8c701dee92a96e3260.bindPopup(popup_456eec9632830b64a4df3fb99ced2318)\n",
       "        ;\n",
       "\n",
       "        \n",
       "    \n",
       "    \n",
       "            var poly_line_d29669f6ae45f0c3a956a2ca7cf0746f = L.polyline(\n",
       "                [[50.9883329, 6.9646961], [50.9882423, 6.9646103], [50.9881889, 6.9645947], [50.9880821, 6.9646387], [50.9879814, 6.9639089], [50.9879131, 6.9639583], [50.9879037, 6.9617419], [50.9878053, 6.9617417], [50.9878031, 6.9613676], [50.987547, 6.9613627], [50.9875216, 6.9613534], [50.9874825, 6.9613392], [50.9874412, 6.9613241], [50.987427, 6.9613183], [50.9873258, 6.9612769], [50.9871961, 6.9612597], [50.9869923, 6.9612326], [50.9863187, 6.9611537], [50.9861486, 6.9611361], [50.9858405, 6.9611091], [50.9857529, 6.9611226], [50.9856539, 6.9611379], [50.9855929, 6.961133], [50.9855561, 6.961182], [50.9855166, 6.9611805], [50.9853055, 6.9611723], [50.9852716, 6.9611843], [50.9852085, 6.9612067], [50.9850586, 6.9611883], [50.9849173, 6.961171], [50.9848961, 6.9611405], [50.9848478, 6.9611218], [50.9847893, 6.9610991], [50.9846425, 6.9610752], [50.9844015, 6.9610517], [50.9842016, 6.9610301], [50.984167, 6.9610346], [50.9841054, 6.9610687], [50.9838173, 6.9610257], [50.9836651, 6.9610012], [50.9836316, 6.9609734], [50.9836203, 6.9609641], [50.9833821, 6.9609303], [50.9833066, 6.9609196], [50.9832374, 6.960901], [50.9830586, 6.9608825], [50.9830054, 6.960887], [50.9829298, 6.9609181], [50.982799, 6.9609065], [50.981856, 6.9607929], [50.9818124, 6.9608033], [50.9816412, 6.9607713], [50.9813844, 6.960755], [50.981227, 6.9607164], [50.9811845, 6.9607134], [50.9811579, 6.9607297], [50.9810282, 6.9607183], [50.9804464, 6.9606497], [50.9802379, 6.9606252], [50.9789863, 6.9604954], [50.9789153, 6.9604635], [50.9787197, 6.9604287], [50.9785159, 6.9604102], [50.9784159, 6.9604045], [50.9783247, 6.960397], [50.9781412, 6.9603893], [50.9778339, 6.9603567], [50.9777391, 6.9603463], [50.9773497, 6.9602989], [50.9772176, 6.960287], [50.9771681, 6.9602492], [50.9771189, 6.9601785], [50.9771215, 6.9601117], [50.977021, 6.9601001], [50.976849, 6.9600817], [50.9768035, 6.9600768], [50.9766043, 6.9600555], [50.9765086, 6.9599228], [50.9764464, 6.9598291], [50.9764171, 6.9597889], [50.9763749, 6.959731], [50.9758293, 6.9589829], [50.9757739, 6.9588512], [50.9754805, 6.9584215], [50.975389, 6.9583689], [50.9751629, 6.9580919], [50.9749696, 6.9577227], [50.9746996, 6.9574132], [50.9745411, 6.9572316], [50.9743328, 6.956993], [50.9742369, 6.9568831], [50.9741637, 6.9567992], [50.9740839, 6.9567115], [50.974003, 6.9566342], [50.9739374, 6.9565715], [50.973391, 6.9560382], [50.9730359, 6.9556896], [50.9726793, 6.9553395], [50.9722474, 6.9548829], [50.9723213, 6.9546085], [50.9723713, 6.9544216], [50.9724901, 6.9539683], [50.9725077, 6.9538199], [50.9725196, 6.9537189], [50.9725622, 6.9533716], [50.9725773, 6.9529801], [50.972552, 6.9525173], [50.9725208, 6.9520635], [50.9724527, 6.9514218], [50.9724438, 6.951329], [50.9724328, 6.951252], [50.9724022, 6.9510014], [50.9723235, 6.9508121], [50.9722388, 6.9501627], [50.9722065, 6.9498628], [50.9720931, 6.9487478], [50.9719758, 6.947672], [50.9719471, 6.9475305], [50.9718865, 6.947278], [50.9718341, 6.947166], [50.9717616, 6.9470849], [50.9717028, 6.9470021], [50.9715584, 6.9465183], [50.9715453, 6.9464019], [50.9715215, 6.9462347], [50.9714916, 6.9462296], [50.9715116, 6.9460092], [50.9714598, 6.9458576], [50.9713362, 6.9454961], [50.9713218, 6.9454538], [50.9711822, 6.9450828], [50.9710098, 6.9447305], [50.9708696, 6.944516], [50.9708083, 6.9444222], [50.9705417, 6.9440966], [50.970234, 6.9438297], [50.9700129, 6.9436769], [50.9697912, 6.9435578], [50.9695027, 6.9434392], [50.9692048, 6.9432719], [50.9690078, 6.9431287], [50.9688732, 6.9429777], [50.9687038, 6.9427473], [50.9686, 6.9425044], [50.9685238, 6.9422748], [50.9684629, 6.9420169], [50.968428, 6.9417963], [50.9683753, 6.9414129], [50.9683152, 6.9408687], [50.9682864, 6.9407737], [50.9681819, 6.9405445], [50.9681264, 6.9405009], [50.9681552, 6.940449], [50.9681474, 6.9403435], [50.9681394, 6.9402446], [50.9681321, 6.9400891], [50.9680621, 6.9400422], [50.9680287, 6.9399954], [50.9680644, 6.9398035], [50.9680622, 6.939639], [50.9680379, 6.9394149], [50.9679938, 6.9391686], [50.9679277, 6.938976], [50.9678745, 6.9388672], [50.9677593, 6.9386562], [50.9676003, 6.9384045], [50.9675322, 6.9382968], [50.9673482, 6.9380181], [50.9667035, 6.9370373], [50.9660776, 6.9360815], [50.9654692, 6.9352041], [50.9651897, 6.9348082], [50.9650044, 6.9345724], [50.964761, 6.9342725], [50.964697, 6.9341976], [50.9646521, 6.9341598], [50.9646267, 6.9341345], [50.9645494, 6.9341149], [50.9645065, 6.9341108], [50.9644882, 6.9340608], [50.9644698, 6.9340213], [50.9644168, 6.9339604], [50.9643376, 6.9338611], [50.9642861, 6.9338468], [50.9642737, 6.9337782], [50.9642297, 6.933606], [50.9640388, 6.9333872], [50.9638436, 6.9331996], [50.9636939, 6.9330415], [50.9635709, 6.9329115], [50.9632949, 6.9326624], [50.9631483, 6.9325487], [50.9630481, 6.932471], [50.9629482, 6.9323926], [50.9628737, 6.9323301], [50.9627282, 6.9322263], [50.962699, 6.9322018], [50.9625929, 6.9321127], [50.9622898, 6.9318278], [50.9620701, 6.9316268], [50.9613942, 6.9308934], [50.9613429, 6.9308392], [50.9612693, 6.930757], [50.9611767, 6.9306265], [50.9611183, 6.9305576], [50.9611082, 6.9305456], [50.9610966, 6.9304111], [50.9610843, 6.9303438], [50.9608952, 6.930073], [50.9606606, 6.9297249], [50.9604668, 6.9293971], [50.9603556, 6.9292132], [50.9602877, 6.9291341], [50.9601687, 6.9289961], [50.9601031, 6.9289479], [50.959924, 6.9285979], [50.9598971, 6.9285435], [50.9596594, 6.9280306], [50.9595459, 6.9277708], [50.9594129, 6.9274695], [50.9593925, 6.927426], [50.9591757, 6.9269687], [50.9589349, 6.9264792], [50.9587603, 6.9260872], [50.9586927, 6.9259329], [50.9586161, 6.9257671], [50.9584534, 6.9254276], [50.9583393, 6.9252156], [50.9582061, 6.9250066], [50.9580568, 6.9248058], [50.9579312, 6.924659], [50.9577556, 6.9244981], [50.9575839, 6.9243301], [50.9573593, 6.9241289], [50.9573434, 6.9241128], [50.9567473, 6.9234967], [50.9566386, 6.9233817], [50.9566253, 6.923369], [50.956125, 6.9228923], [50.9560349, 6.9228068], [50.9559313, 6.9227018], [50.9554631, 6.922227], [50.9554274, 6.9221915], [50.9553857, 6.9221501], [50.9550274, 6.9217939], [50.9545323, 6.9212844], [50.9544852, 6.9213389], [50.9544259, 6.9212504], [50.9543701, 6.9211485], [50.9542466, 6.9210173], [50.9539147, 6.9206824], [50.9537528, 6.920523], [50.9536838, 6.9207078], [50.9536068, 6.9209016], [50.953519, 6.9211418], [50.953396, 6.9214857], [50.9532667, 6.9218164], [50.9532496, 6.9218604], [50.9532031, 6.9218136], [50.9531897, 6.9218002], [50.9531413, 6.921931], [50.9531244, 6.921914], [50.953088, 6.9218772]],\n",
       "                {&quot;bubblingMouseEvents&quot;: true, &quot;color&quot;: &quot;blue&quot;, &quot;dashArray&quot;: null, &quot;dashOffset&quot;: null, &quot;fill&quot;: false, &quot;fillColor&quot;: &quot;blue&quot;, &quot;fillOpacity&quot;: 0.2, &quot;fillRule&quot;: &quot;evenodd&quot;, &quot;lineCap&quot;: &quot;round&quot;, &quot;lineJoin&quot;: &quot;round&quot;, &quot;noClip&quot;: false, &quot;opacity&quot;: 1.0, &quot;smoothFactor&quot;: 1.0, &quot;stroke&quot;: true, &quot;weight&quot;: 2}\n",
       "            ).addTo(map_b5287797903315f754e7b2ffe5e46913);\n",
       "        \n",
       "    \n",
       "            var circle_marker_a16fe6d10cd996d3dcf2447e67bbf871 = L.circleMarker(\n",
       "                [50.9472978, 6.9882819],\n",
       "                {&quot;bubblingMouseEvents&quot;: true, &quot;color&quot;: &quot;red&quot;, &quot;dashArray&quot;: null, &quot;dashOffset&quot;: null, &quot;fill&quot;: false, &quot;fillColor&quot;: &quot;red&quot;, &quot;fillOpacity&quot;: 0.2, &quot;fillRule&quot;: &quot;evenodd&quot;, &quot;lineCap&quot;: &quot;round&quot;, &quot;lineJoin&quot;: &quot;round&quot;, &quot;opacity&quot;: 1.0, &quot;radius&quot;: 3, &quot;stroke&quot;: true, &quot;weight&quot;: 3}\n",
       "            ).addTo(map_b5287797903315f754e7b2ffe5e46913);\n",
       "        \n",
       "    \n",
       "        var popup_4b6c064260c8d22aa68ab7bad85504ec = L.popup({&quot;maxWidth&quot;: &quot;100%&quot;});\n",
       "\n",
       "        \n",
       "            \n",
       "                var html_e16b436eaa2727dbbe179093b5f4165b = $(`&lt;div id=&quot;html_e16b436eaa2727dbbe179093b5f4165b&quot; style=&quot;width: 100.0%; height: 100.0%;&quot;&gt;node_id: 955155302  label: 63.07min&lt;/div&gt;`)[0];\n",
       "                popup_4b6c064260c8d22aa68ab7bad85504ec.setContent(html_e16b436eaa2727dbbe179093b5f4165b);\n",
       "            \n",
       "        \n",
       "\n",
       "        circle_marker_a16fe6d10cd996d3dcf2447e67bbf871.bindPopup(popup_4b6c064260c8d22aa68ab7bad85504ec)\n",
       "        ;\n",
       "\n",
       "        \n",
       "    \n",
       "    \n",
       "            var poly_line_2e7418978062a5303c113d1568c3e64a = L.polyline(\n",
       "                [[50.9883329, 6.9646961], [50.9883789, 6.9648421], [50.9880455, 6.965058], [50.9878439, 6.9652074], [50.987797, 6.9652401], [50.9866984, 6.9659736], [50.9860244, 6.9664463], [50.985827, 6.9665564], [50.9855352, 6.9667601], [50.984602, 6.9672983], [50.9843727, 6.9674147], [50.9839563, 6.9676044], [50.9833538, 6.9678941], [50.9831359, 6.9680235], [50.9830066, 6.9681021], [50.9828623, 6.9681898], [50.9827064, 6.9682742], [50.9825248, 6.9683551], [50.9824456, 6.9683752], [50.9823559, 6.9683595], [50.9822979, 6.9683378], [50.9821702, 6.9683364], [50.9819689, 6.9682486], [50.9819054, 6.9682208], [50.9817649, 6.9681767], [50.9815938, 6.9681504], [50.9812907, 6.9682042], [50.9811756, 6.9683411], [50.9810441, 6.9683568], [50.98098, 6.968371], [50.9809498, 6.9684031], [50.9809159, 6.9684367], [50.9808661, 6.9683951], [50.980773, 6.9683867], [50.9806714, 6.9684005], [50.9805626, 6.9684248], [50.9803825, 6.9684651], [50.9798547, 6.968578], [50.9798014, 6.968589], [50.979547, 6.9686415], [50.9792569, 6.9686947], [50.9786585, 6.9688375], [50.9783852, 6.9688803], [50.9780255, 6.9689366], [50.9780045, 6.9689408], [50.9775892, 6.9690242], [50.9774991, 6.969046], [50.97733, 6.9690869], [50.977036, 6.969158], [50.9767901, 6.9691877], [50.97675, 6.9691949], [50.9766464, 6.9692148], [50.9764778, 6.9692473], [50.9764204, 6.9692583], [50.9762869, 6.9692871], [50.9762696, 6.9692914], [50.9762077, 6.9693067], [50.9759603, 6.9693679], [50.9759464, 6.9693713], [50.975839, 6.969407], [50.9755021, 6.9694474], [50.9751921, 6.9694773], [50.974954, 6.9694693], [50.9748849, 6.9694677], [50.9746644, 6.9694624], [50.9746201, 6.9694677], [50.9745384, 6.9694775], [50.9744838, 6.9694816], [50.9743966, 6.9694877], [50.974325, 6.9694982], [50.9742839, 6.9695373], [50.9742536, 6.9695498], [50.9741516, 6.9695154], [50.9740021, 6.9695321], [50.9738388, 6.9695263], [50.9737027, 6.9695175], [50.973447, 6.9695091], [50.9732755, 6.9694888], [50.9731372, 6.9694859], [50.9731033, 6.9694852], [50.9728436, 6.9694691], [50.9725211, 6.9694605], [50.972158, 6.9694281], [50.9721498, 6.9694274], [50.9720307, 6.9694118], [50.9715642, 6.9693823], [50.9714655, 6.969376], [50.9713468, 6.9693736], [50.9712425, 6.969366], [50.9711583, 6.9693599], [50.970653, 6.9693421], [50.9705282, 6.969336], [50.970257, 6.9693134], [50.9700916, 6.969303], [50.9696712, 6.9692767], [50.969518, 6.9692703], [50.9690527, 6.9692724], [50.9688931, 6.9692715], [50.9687903, 6.969266], [50.9687465, 6.9692655], [50.9686949, 6.969265], [50.9685964, 6.9692607], [50.9685705, 6.9692505], [50.9685519, 6.9692487], [50.9685266, 6.9692462], [50.9682806, 6.9692218], [50.9675639, 6.969146], [50.9675001, 6.9691447], [50.9674266, 6.9691433], [50.9673335, 6.9691373], [50.9672722, 6.9691336], [50.967226, 6.969132], [50.9670521, 6.9691262], [50.9663557, 6.9690646], [50.9660799, 6.9690293], [50.9659621, 6.9690176], [50.9657083, 6.9689963], [50.9652211, 6.9689375], [50.964985, 6.9689311], [50.9648233, 6.9689348], [50.9643551, 6.9688703], [50.9643472, 6.9688692], [50.9638324, 6.9687954], [50.9638152, 6.9687911], [50.9636639, 6.9687532], [50.9632702, 6.9686546], [50.9629353, 6.9685837], [50.9628501, 6.9685657], [50.9626796, 6.9685261], [50.9620959, 6.9684112], [50.9615526, 6.9682882], [50.9610627, 6.9681658], [50.9607597, 6.9681203], [50.958895, 6.9677159], [50.9586327, 6.9685969], [50.9579323, 6.9708177], [50.9579125, 6.9708884], [50.9578839, 6.9709906], [50.9577978, 6.9710116], [50.9577144, 6.9710477], [50.9576711, 6.9710726], [50.9576278, 6.9711077], [50.9574939, 6.971254], [50.9574141, 6.9714982], [50.9573341, 6.9717253], [50.9571801, 6.9720341], [50.957131, 6.9721418], [50.9570791, 6.9721707], [50.9570213, 6.9721842], [50.9569556, 6.9721662], [50.9568678, 6.9720783], [50.9568209, 6.9722616], [50.95649, 6.9729483], [50.9563758, 6.9731805], [50.9563054, 6.9733377], [50.9562319, 6.9733699], [50.9562019, 6.9733693], [50.9561751, 6.9733564], [50.9561588, 6.9733365], [50.956122, 6.9732543], [50.956121, 6.9732558], [50.9551132, 6.9748017], [50.9545399, 6.9757042], [50.9539786, 6.9765848], [50.9535121, 6.9773443], [50.952766, 6.9785146], [50.9522991, 6.9792552], [50.9512457, 6.9809113], [50.9502156, 6.9825352], [50.9498672, 6.983041], [50.9496458, 6.9833086], [50.9493798, 6.9836689], [50.9490026, 6.9841259], [50.9487952, 6.9843302], [50.9481905, 6.9849343], [50.9478879, 6.9852198], [50.9476609, 6.9854454], [50.9475322, 6.9855935], [50.9474255, 6.9857366], [50.9473167, 6.9859405], [50.947259, 6.9860818], [50.9472121, 6.9862276], [50.9471467, 6.9865409], [50.9471268, 6.9868591], [50.947119, 6.987181], [50.9471105, 6.9874432], [50.947094, 6.987594], [50.947054, 6.9877785], [50.9470253, 6.9879242], [50.9470131, 6.9881262], [50.9471969, 6.988145], [50.9472978, 6.9882819]],\n",
       "                {&quot;bubblingMouseEvents&quot;: true, &quot;color&quot;: &quot;blue&quot;, &quot;dashArray&quot;: null, &quot;dashOffset&quot;: null, &quot;fill&quot;: false, &quot;fillColor&quot;: &quot;blue&quot;, &quot;fillOpacity&quot;: 0.2, &quot;fillRule&quot;: &quot;evenodd&quot;, &quot;lineCap&quot;: &quot;round&quot;, &quot;lineJoin&quot;: &quot;round&quot;, &quot;noClip&quot;: false, &quot;opacity&quot;: 1.0, &quot;smoothFactor&quot;: 1.0, &quot;stroke&quot;: true, &quot;weight&quot;: 2}\n",
       "            ).addTo(map_b5287797903315f754e7b2ffe5e46913);\n",
       "        \n",
       "    \n",
       "            var circle_marker_7ce222b61e8852a08c1e4a5862fe2320 = L.circleMarker(\n",
       "                [50.9622543, 6.9854442],\n",
       "                {&quot;bubblingMouseEvents&quot;: true, &quot;color&quot;: &quot;red&quot;, &quot;dashArray&quot;: null, &quot;dashOffset&quot;: null, &quot;fill&quot;: false, &quot;fillColor&quot;: &quot;red&quot;, &quot;fillOpacity&quot;: 0.2, &quot;fillRule&quot;: &quot;evenodd&quot;, &quot;lineCap&quot;: &quot;round&quot;, &quot;lineJoin&quot;: &quot;round&quot;, &quot;opacity&quot;: 1.0, &quot;radius&quot;: 3, &quot;stroke&quot;: true, &quot;weight&quot;: 3}\n",
       "            ).addTo(map_b5287797903315f754e7b2ffe5e46913);\n",
       "        \n",
       "    \n",
       "        var popup_0f9b5a6394eb491215212b2eebf279f3 = L.popup({&quot;maxWidth&quot;: &quot;100%&quot;});\n",
       "\n",
       "        \n",
       "            \n",
       "                var html_f2b01cc5d080e3ed0051d6494ded7d8f = $(`&lt;div id=&quot;html_f2b01cc5d080e3ed0051d6494ded7d8f&quot; style=&quot;width: 100.0%; height: 100.0%;&quot;&gt;node_id: 1679749988  label: 41.62min&lt;/div&gt;`)[0];\n",
       "                popup_0f9b5a6394eb491215212b2eebf279f3.setContent(html_f2b01cc5d080e3ed0051d6494ded7d8f);\n",
       "            \n",
       "        \n",
       "\n",
       "        circle_marker_7ce222b61e8852a08c1e4a5862fe2320.bindPopup(popup_0f9b5a6394eb491215212b2eebf279f3)\n",
       "        ;\n",
       "\n",
       "        \n",
       "    \n",
       "    \n",
       "            var poly_line_f2f5b4d3cb17226fed7ca41242eeb66b = L.polyline(\n",
       "                [[50.9883329, 6.9646961], [50.9883789, 6.9648421], [50.9880455, 6.965058], [50.9878439, 6.9652074], [50.987797, 6.9652401], [50.9866984, 6.9659736], [50.9860244, 6.9664463], [50.985827, 6.9665564], [50.9855352, 6.9667601], [50.984602, 6.9672983], [50.9843727, 6.9674147], [50.9839563, 6.9676044], [50.9833538, 6.9678941], [50.9831359, 6.9680235], [50.9830066, 6.9681021], [50.9828623, 6.9681898], [50.9827064, 6.9682742], [50.9825248, 6.9683551], [50.9824456, 6.9683752], [50.9823559, 6.9683595], [50.9822979, 6.9683378], [50.9821702, 6.9683364], [50.9819689, 6.9682486], [50.9819054, 6.9682208], [50.9817649, 6.9681767], [50.9815938, 6.9681504], [50.9814266, 6.9682811], [50.9813235, 6.9684062], [50.9812722, 6.9684635], [50.9810982, 6.9687016], [50.9808817, 6.9689489], [50.9804697, 6.9695126], [50.9804405, 6.9695515], [50.9802434, 6.9698134], [50.9800006, 6.9700963], [50.9796592, 6.970416], [50.9788561, 6.9711602], [50.9784504, 6.9715303], [50.9783402, 6.9716309], [50.9778832, 6.9720721], [50.9778279, 6.9721255], [50.9775469, 6.9723782], [50.9773052, 6.9726144], [50.9769114, 6.9729509], [50.9767649, 6.9730651], [50.9753392, 6.9740918], [50.9752931, 6.9741181], [50.9752533, 6.9741428], [50.9751138, 6.9742351], [50.9748885, 6.974406], [50.9742505, 6.9749159], [50.9727946, 6.9759607], [50.9727035, 6.9760248], [50.9726521, 6.9760652], [50.9726169, 6.9760901], [50.9724985, 6.9761204], [50.9723611, 6.9762104], [50.9722119, 6.9763196], [50.971976, 6.9764706], [50.9717134, 6.9766955], [50.9715621, 6.9768134], [50.9714529, 6.9769004], [50.9713968, 6.9769451], [50.9710096, 6.9772268], [50.970829, 6.977353], [50.9707864, 6.9773853], [50.9707556, 6.9774101], [50.9704635, 6.9776166], [50.9703291, 6.9777186], [50.9699674, 6.9779607], [50.969815, 6.9780926], [50.9696649, 6.9782135], [50.9696123, 6.978251], [50.9694837, 6.9783473], [50.9694417, 6.9783648], [50.9693512, 6.978418], [50.969092, 6.978549], [50.9685375, 6.9787968], [50.9681981, 6.978957], [50.9680547, 6.9790277], [50.9679272, 6.9790855], [50.9678023, 6.9791451], [50.9677456, 6.9791696], [50.9676962, 6.9791909], [50.9676059, 6.9792239], [50.9662912, 6.9798822], [50.9661888, 6.9799335], [50.9661711, 6.9798871], [50.9660815, 6.9799071], [50.9660191, 6.979921], [50.9658896, 6.9799714], [50.9655005, 6.9801539], [50.9653453, 6.9802407], [50.9650748, 6.980392], [50.9649689, 6.980437], [50.9644248, 6.9807058], [50.9643897, 6.9807231], [50.9640039, 6.9809187], [50.9636552, 6.9810876], [50.9635271, 6.9812071], [50.9633257, 6.9814098], [50.96327, 6.9814326], [50.9631465, 6.981623], [50.9630556, 6.9817266], [50.9630108, 6.9817787], [50.9629814, 6.9817162], [50.9629075, 6.9815328], [50.9628749, 6.9815622], [50.9627673, 6.9816526], [50.9627453, 6.9816761], [50.9626871, 6.9817448], [50.9625989, 6.9815387], [50.9625885, 6.9815433], [50.9625263, 6.9813805], [50.9624735, 6.9814377], [50.9625068, 6.981525], [50.9625706, 6.9816728], [50.9625949, 6.9817319], [50.9628325, 6.9822497], [50.9628285, 6.9824231], [50.9628245, 6.9825016], [50.9627711, 6.9827073], [50.9628478, 6.9827742], [50.9629069, 6.9829887], [50.962928, 6.9830507], [50.9629376, 6.9830807], [50.9629082, 6.9831683], [50.9629011, 6.9832522], [50.9628967, 6.9833152], [50.9629008, 6.9833869], [50.963031, 6.9836927], [50.9630012, 6.9837317], [50.9629759, 6.9837937], [50.9629741, 6.9838838], [50.9629763, 6.9839895], [50.9629716, 6.9841122], [50.9629678, 6.9842014], [50.9629633, 6.984351], [50.96294, 6.9845395], [50.9628483, 6.9850597], [50.9627951, 6.9853165], [50.9627461, 6.9854913], [50.9626992, 6.9855861], [50.96261, 6.9857092], [50.9625301, 6.9858039], [50.9624404, 6.9856766], [50.9624035, 6.9856429], [50.9623575, 6.9855861], [50.9623055, 6.9855175], [50.9622543, 6.9854442]],\n",
       "                {&quot;bubblingMouseEvents&quot;: true, &quot;color&quot;: &quot;blue&quot;, &quot;dashArray&quot;: null, &quot;dashOffset&quot;: null, &quot;fill&quot;: false, &quot;fillColor&quot;: &quot;blue&quot;, &quot;fillOpacity&quot;: 0.2, &quot;fillRule&quot;: &quot;evenodd&quot;, &quot;lineCap&quot;: &quot;round&quot;, &quot;lineJoin&quot;: &quot;round&quot;, &quot;noClip&quot;: false, &quot;opacity&quot;: 1.0, &quot;smoothFactor&quot;: 1.0, &quot;stroke&quot;: true, &quot;weight&quot;: 2}\n",
       "            ).addTo(map_b5287797903315f754e7b2ffe5e46913);\n",
       "        \n",
       "    \n",
       "            var circle_marker_69a77d947d309ae9ea68941b8bf7f6dd = L.circleMarker(\n",
       "                [50.9640516, 6.9641746],\n",
       "                {&quot;bubblingMouseEvents&quot;: true, &quot;color&quot;: &quot;red&quot;, &quot;dashArray&quot;: null, &quot;dashOffset&quot;: null, &quot;fill&quot;: false, &quot;fillColor&quot;: &quot;red&quot;, &quot;fillOpacity&quot;: 0.2, &quot;fillRule&quot;: &quot;evenodd&quot;, &quot;lineCap&quot;: &quot;round&quot;, &quot;lineJoin&quot;: &quot;round&quot;, &quot;opacity&quot;: 1.0, &quot;radius&quot;: 3, &quot;stroke&quot;: true, &quot;weight&quot;: 3}\n",
       "            ).addTo(map_b5287797903315f754e7b2ffe5e46913);\n",
       "        \n",
       "    \n",
       "        var popup_3f0fde8c033b9fbefa745749ca99d2a6 = L.popup({&quot;maxWidth&quot;: &quot;100%&quot;});\n",
       "\n",
       "        \n",
       "            \n",
       "                var html_8cc54a07d267e1ab306c2e034195459f = $(`&lt;div id=&quot;html_8cc54a07d267e1ab306c2e034195459f&quot; style=&quot;width: 100.0%; height: 100.0%;&quot;&gt;node_id: 8697393924  label: 34.57min&lt;/div&gt;`)[0];\n",
       "                popup_3f0fde8c033b9fbefa745749ca99d2a6.setContent(html_8cc54a07d267e1ab306c2e034195459f);\n",
       "            \n",
       "        \n",
       "\n",
       "        circle_marker_69a77d947d309ae9ea68941b8bf7f6dd.bindPopup(popup_3f0fde8c033b9fbefa745749ca99d2a6)\n",
       "        ;\n",
       "\n",
       "        \n",
       "    \n",
       "    \n",
       "            var poly_line_85c388a5deb97f1cec4f0ee99c774436 = L.polyline(\n",
       "                [[50.9883329, 6.9646961], [50.9883789, 6.9648421], [50.9880455, 6.965058], [50.9878439, 6.9652074], [50.987797, 6.9652401], [50.9866984, 6.9659736], [50.9860244, 6.9664463], [50.985827, 6.9665564], [50.9855352, 6.9667601], [50.984602, 6.9672983], [50.9843727, 6.9674147], [50.9839563, 6.9676044], [50.9833538, 6.9678941], [50.9831359, 6.9680235], [50.9830066, 6.9681021], [50.9828623, 6.9681898], [50.9827064, 6.9682742], [50.9825248, 6.9683551], [50.9824456, 6.9683752], [50.9823559, 6.9683595], [50.9822979, 6.9683378], [50.9821511, 6.9681054], [50.9821093, 6.9680321], [50.9820717, 6.9679613], [50.9820093, 6.9679199], [50.9819337, 6.9677372], [50.9818539, 6.9678068], [50.9817438, 6.967859], [50.9816282, 6.9679041], [50.9811801, 6.96797], [50.981074, 6.9679748], [50.9810206, 6.9679771], [50.9810153, 6.9679057], [50.9810169, 6.9677831], [50.9808731, 6.9672924], [50.980852, 6.9672198], [50.9806725, 6.966628], [50.9805744, 6.966309], [50.9803851, 6.9656872], [50.9803327, 6.9655471], [50.9802455, 6.9653769], [50.9801358, 6.9652149], [50.9798208, 6.9649158], [50.9795244, 6.964654], [50.9793661, 6.9645557], [50.9793367, 6.9645434], [50.9792662, 6.9645447], [50.9788058, 6.9646705], [50.9783038, 6.9648234], [50.9777458, 6.9649863], [50.9772372, 6.9651211], [50.9772071, 6.9649459], [50.9771677, 6.9646372], [50.9768839, 6.9647184], [50.9764954, 6.9648295], [50.9763035, 6.9648663], [50.9761662, 6.9648778], [50.9760919, 6.9648951], [50.9759879, 6.9649208], [50.975937, 6.9649403], [50.9759014, 6.9649465], [50.975776, 6.965001], [50.9757226, 6.9650242], [50.9756381, 6.9650609], [50.9753818, 6.9651848], [50.9752071, 6.9652427], [50.9751235, 6.9652496], [50.9748545, 6.965256], [50.9745411, 6.9652635], [50.9744985, 6.9652646], [50.9743993, 6.9652679], [50.9743262, 6.9652757], [50.9742413, 6.9652984], [50.9741607, 6.9653226], [50.9741286, 6.965331], [50.9736699, 6.9653123], [50.9734599, 6.9653049], [50.9727412, 6.9652556], [50.9721898, 6.9652407], [50.9721566, 6.965243], [50.9717291, 6.9652298], [50.9712004, 6.9652294], [50.9710877, 6.9652411], [50.970979, 6.9652364], [50.9709022, 6.9652336], [50.9707974, 6.9652297], [50.9707104, 6.9652265], [50.9706607, 6.9652597], [50.9704996, 6.9653981], [50.9704113, 6.9652461], [50.9703404, 6.9651242], [50.9703286, 6.9651089], [50.9702843, 6.9650655], [50.97023, 6.9650278], [50.9701646, 6.9649982], [50.9700883, 6.9649801], [50.9700279, 6.9649714], [50.9699249, 6.9649613], [50.9698548, 6.9649555], [50.9695776, 6.9649421], [50.969541, 6.9649364], [50.9695115, 6.9649298], [50.9694944, 6.9649275], [50.9693544, 6.964894], [50.9691127, 6.9648746], [50.9687255, 6.9648436], [50.9684814, 6.9648212], [50.9677048, 6.9647615], [50.9672105, 6.9647237], [50.9670367, 6.964707], [50.9668947, 6.9646896], [50.9668858, 6.9646908], [50.9668775, 6.9646991], [50.9668614, 6.9647925], [50.9668023, 6.9647718], [50.9667361, 6.9647538], [50.9667038, 6.9647541], [50.9666352, 6.9647425], [50.9665724, 6.9647338], [50.9664382, 6.9647003], [50.9662487, 6.9646622], [50.9660385, 6.964609], [50.9658821, 6.9645707], [50.965817, 6.9645562], [50.965722, 6.9645672], [50.9657099, 6.9645226], [50.9656677, 6.9644649], [50.9655903, 6.9643916], [50.9655118, 6.9643721], [50.9653844, 6.9643749], [50.9651602, 6.9642892], [50.9651463, 6.9643107], [50.9649612, 6.9644312], [50.9648207, 6.9644982], [50.9647226, 6.9645019], [50.9646429, 6.9645123], [50.9645646, 6.9645396], [50.9644408, 6.9645744], [50.9644047, 6.9645734], [50.9643604, 6.964559], [50.9643074, 6.9645334], [50.9642495, 6.9644907], [50.9641795, 6.9644198], [50.9641215, 6.9642944], [50.9640832, 6.9642043], [50.9640516, 6.9641746]],\n",
       "                {&quot;bubblingMouseEvents&quot;: true, &quot;color&quot;: &quot;blue&quot;, &quot;dashArray&quot;: null, &quot;dashOffset&quot;: null, &quot;fill&quot;: false, &quot;fillColor&quot;: &quot;blue&quot;, &quot;fillOpacity&quot;: 0.2, &quot;fillRule&quot;: &quot;evenodd&quot;, &quot;lineCap&quot;: &quot;round&quot;, &quot;lineJoin&quot;: &quot;round&quot;, &quot;noClip&quot;: false, &quot;opacity&quot;: 1.0, &quot;smoothFactor&quot;: 1.0, &quot;stroke&quot;: true, &quot;weight&quot;: 2}\n",
       "            ).addTo(map_b5287797903315f754e7b2ffe5e46913);\n",
       "        \n",
       "    \n",
       "            var circle_marker_100538346785223b6154f1b1922f1ee9 = L.circleMarker(\n",
       "                [50.9556652, 6.9165994],\n",
       "                {&quot;bubblingMouseEvents&quot;: true, &quot;color&quot;: &quot;red&quot;, &quot;dashArray&quot;: null, &quot;dashOffset&quot;: null, &quot;fill&quot;: false, &quot;fillColor&quot;: &quot;red&quot;, &quot;fillOpacity&quot;: 0.2, &quot;fillRule&quot;: &quot;evenodd&quot;, &quot;lineCap&quot;: &quot;round&quot;, &quot;lineJoin&quot;: &quot;round&quot;, &quot;opacity&quot;: 1.0, &quot;radius&quot;: 3, &quot;stroke&quot;: true, &quot;weight&quot;: 3}\n",
       "            ).addTo(map_b5287797903315f754e7b2ffe5e46913);\n",
       "        \n",
       "    \n",
       "        var popup_d0030851caf4df6b3fc34e8058861074 = L.popup({&quot;maxWidth&quot;: &quot;100%&quot;});\n",
       "\n",
       "        \n",
       "            \n",
       "                var html_76246e07bc335500db97e6d93265dba9 = $(`&lt;div id=&quot;html_76246e07bc335500db97e6d93265dba9&quot; style=&quot;width: 100.0%; height: 100.0%;&quot;&gt;node_id: 428608920  label: 67.08min&lt;/div&gt;`)[0];\n",
       "                popup_d0030851caf4df6b3fc34e8058861074.setContent(html_76246e07bc335500db97e6d93265dba9);\n",
       "            \n",
       "        \n",
       "\n",
       "        circle_marker_100538346785223b6154f1b1922f1ee9.bindPopup(popup_d0030851caf4df6b3fc34e8058861074)\n",
       "        ;\n",
       "\n",
       "        \n",
       "    \n",
       "    \n",
       "            var poly_line_2b3abe1d15fc1415371404bde5aa6bce = L.polyline(\n",
       "                [[50.9883329, 6.9646961], [50.9882423, 6.9646103], [50.9881889, 6.9645947], [50.9880821, 6.9646387], [50.9879814, 6.9639089], [50.9879131, 6.9639583], [50.9879037, 6.9617419], [50.9878053, 6.9617417], [50.9878031, 6.9613676], [50.987547, 6.9613627], [50.9875216, 6.9613534], [50.9874825, 6.9613392], [50.9874412, 6.9613241], [50.987427, 6.9613183], [50.9873258, 6.9612769], [50.9871961, 6.9612597], [50.9869923, 6.9612326], [50.9863187, 6.9611537], [50.9861486, 6.9611361], [50.9858405, 6.9611091], [50.9857529, 6.9611226], [50.9856539, 6.9611379], [50.9855929, 6.961133], [50.9855561, 6.961182], [50.9855166, 6.9611805], [50.9853055, 6.9611723], [50.9852716, 6.9611843], [50.9852085, 6.9612067], [50.9850586, 6.9611883], [50.9849173, 6.961171], [50.9848961, 6.9611405], [50.9848478, 6.9611218], [50.9847893, 6.9610991], [50.9846425, 6.9610752], [50.9844015, 6.9610517], [50.9842016, 6.9610301], [50.984167, 6.9610346], [50.9841054, 6.9610687], [50.9838173, 6.9610257], [50.9836651, 6.9610012], [50.9836316, 6.9609734], [50.9836203, 6.9609641], [50.9833821, 6.9609303], [50.9833066, 6.9609196], [50.9832374, 6.960901], [50.9830586, 6.9608825], [50.9830054, 6.960887], [50.9829298, 6.9609181], [50.982799, 6.9609065], [50.981856, 6.9607929], [50.9818124, 6.9608033], [50.9816412, 6.9607713], [50.9813844, 6.960755], [50.981227, 6.9607164], [50.9811845, 6.9607134], [50.9811579, 6.9607297], [50.9810282, 6.9607183], [50.9804464, 6.9606497], [50.9802379, 6.9606252], [50.9789863, 6.9604954], [50.9789153, 6.9604635], [50.9787197, 6.9604287], [50.9785159, 6.9604102], [50.9784159, 6.9604045], [50.9783247, 6.960397], [50.9781412, 6.9603893], [50.9778339, 6.9603567], [50.9777391, 6.9603463], [50.9773497, 6.9602989], [50.9772176, 6.960287], [50.9771681, 6.9602492], [50.9771189, 6.9601785], [50.9771215, 6.9601117], [50.977021, 6.9601001], [50.976849, 6.9600817], [50.9768035, 6.9600768], [50.9766043, 6.9600555], [50.9765086, 6.9599228], [50.9764464, 6.9598291], [50.9764171, 6.9597889], [50.9763749, 6.959731], [50.9758293, 6.9589829], [50.9757739, 6.9588512], [50.9754805, 6.9584215], [50.975389, 6.9583689], [50.9751629, 6.9580919], [50.9749696, 6.9577227], [50.9746996, 6.9574132], [50.9745411, 6.9572316], [50.9743328, 6.956993], [50.9742369, 6.9568831], [50.9741637, 6.9567992], [50.9740839, 6.9567115], [50.974003, 6.9566342], [50.9739374, 6.9565715], [50.973391, 6.9560382], [50.9730359, 6.9556896], [50.9726793, 6.9553395], [50.9722474, 6.9548829], [50.9723213, 6.9546085], [50.9723713, 6.9544216], [50.9724901, 6.9539683], [50.9725077, 6.9538199], [50.9725196, 6.9537189], [50.9725622, 6.9533716], [50.9725773, 6.9529801], [50.972552, 6.9525173], [50.9725208, 6.9520635], [50.9724527, 6.9514218], [50.9724438, 6.951329], [50.9724328, 6.951252], [50.9724022, 6.9510014], [50.9723235, 6.9508121], [50.9722388, 6.9501627], [50.9722065, 6.9498628], [50.9720931, 6.9487478], [50.9719758, 6.947672], [50.9719471, 6.9475305], [50.9718865, 6.947278], [50.9718341, 6.947166], [50.9717616, 6.9470849], [50.9717028, 6.9470021], [50.9715584, 6.9465183], [50.9715453, 6.9464019], [50.9715215, 6.9462347], [50.9714916, 6.9462296], [50.9715116, 6.9460092], [50.9714598, 6.9458576], [50.9713362, 6.9454961], [50.9713218, 6.9454538], [50.9711822, 6.9450828], [50.9710098, 6.9447305], [50.9708696, 6.944516], [50.9708083, 6.9444222], [50.9705417, 6.9440966], [50.970234, 6.9438297], [50.9700129, 6.9436769], [50.9697912, 6.9435578], [50.9695027, 6.9434392], [50.9692048, 6.9432719], [50.9690078, 6.9431287], [50.9688732, 6.9429777], [50.9687038, 6.9427473], [50.9686, 6.9425044], [50.9685238, 6.9422748], [50.9684629, 6.9420169], [50.968428, 6.9417963], [50.9683753, 6.9414129], [50.9683152, 6.9408687], [50.9682864, 6.9407737], [50.9681819, 6.9405445], [50.9681264, 6.9405009], [50.9681552, 6.940449], [50.9681474, 6.9403435], [50.9681394, 6.9402446], [50.9681321, 6.9400891], [50.9680621, 6.9400422], [50.9680287, 6.9399954], [50.9680644, 6.9398035], [50.9680622, 6.939639], [50.9680379, 6.9394149], [50.9679938, 6.9391686], [50.9679277, 6.938976], [50.9678745, 6.9388672], [50.9677593, 6.9386562], [50.9676003, 6.9384045], [50.9675322, 6.9382968], [50.9673482, 6.9380181], [50.9667035, 6.9370373], [50.9660776, 6.9360815], [50.9654692, 6.9352041], [50.9651897, 6.9348082], [50.9650044, 6.9345724], [50.964761, 6.9342725], [50.964697, 6.9341976], [50.9646521, 6.9341598], [50.9646267, 6.9341345], [50.9645494, 6.9341149], [50.9645065, 6.9341108], [50.9644882, 6.9340608], [50.9644698, 6.9340213], [50.9644168, 6.9339604], [50.9643376, 6.9338611], [50.9642861, 6.9338468], [50.9642737, 6.9337782], [50.9642297, 6.933606], [50.9640388, 6.9333872], [50.9638436, 6.9331996], [50.9636939, 6.9330415], [50.9635709, 6.9329115], [50.9632949, 6.9326624], [50.9631483, 6.9325487], [50.9630481, 6.932471], [50.9629482, 6.9323926], [50.9628737, 6.9323301], [50.9627282, 6.9322263], [50.962699, 6.9322018], [50.9625929, 6.9321127], [50.9622898, 6.9318278], [50.9620701, 6.9316268], [50.9613942, 6.9308934], [50.9613429, 6.9308392], [50.9612693, 6.930757], [50.9613051, 6.9306782], [50.9613319, 6.9305648], [50.9613405, 6.9304987], [50.9613242, 6.9304229], [50.9613189, 6.9303924], [50.961308, 6.9303374], [50.9612749, 6.9302928], [50.961196, 6.9301866], [50.9609552, 6.9298488], [50.9607911, 6.9296068], [50.9604125, 6.9290101], [50.9601046, 6.9285207], [50.9600621, 6.9284309], [50.9599188, 6.928112], [50.9598334, 6.9279219], [50.9597403, 6.9277004], [50.9595647, 6.9273314], [50.9594274, 6.9270094], [50.9593546, 6.9268508], [50.9591794, 6.9264742], [50.9588014, 6.9256728], [50.9587059, 6.9254731], [50.9585981, 6.925269], [50.9584808, 6.9250667], [50.9583371, 6.9248524], [50.9581565, 6.9246113], [50.9580336, 6.9244573], [50.957746, 6.9241075], [50.9576982, 6.9239927], [50.9576936, 6.9239336], [50.95769, 6.9237721], [50.9576973, 6.9236683], [50.9577049, 6.923614], [50.9577145, 6.9235411], [50.9577205, 6.9234768], [50.9577453, 6.9232161], [50.9577948, 6.9227949], [50.9578172, 6.9225512], [50.9578349, 6.9223652], [50.957842, 6.9222904], [50.9578493, 6.9222138], [50.9578724, 6.9219713], [50.9579412, 6.9212098], [50.9579706, 6.9208977], [50.958008, 6.9205644], [50.9580576, 6.9201734], [50.9580383, 6.9201605], [50.9580011, 6.9201358], [50.9572947, 6.9196655], [50.9572126, 6.9195872], [50.9572231, 6.9195352], [50.9572407, 6.9194676], [50.9574281, 6.9189675], [50.9570539, 6.9185831], [50.9559694, 6.9175605], [50.9558769, 6.9175024], [50.9560531, 6.9169957], [50.9556652, 6.9165994]],\n",
       "                {&quot;bubblingMouseEvents&quot;: true, &quot;color&quot;: &quot;blue&quot;, &quot;dashArray&quot;: null, &quot;dashOffset&quot;: null, &quot;fill&quot;: false, &quot;fillColor&quot;: &quot;blue&quot;, &quot;fillOpacity&quot;: 0.2, &quot;fillRule&quot;: &quot;evenodd&quot;, &quot;lineCap&quot;: &quot;round&quot;, &quot;lineJoin&quot;: &quot;round&quot;, &quot;noClip&quot;: false, &quot;opacity&quot;: 1.0, &quot;smoothFactor&quot;: 1.0, &quot;stroke&quot;: true, &quot;weight&quot;: 2}\n",
       "            ).addTo(map_b5287797903315f754e7b2ffe5e46913);\n",
       "        \n",
       "    \n",
       "            var circle_marker_178e3968b630f2a400312830e85a3c1f = L.circleMarker(\n",
       "                [50.9569411, 6.9670271],\n",
       "                {&quot;bubblingMouseEvents&quot;: true, &quot;color&quot;: &quot;red&quot;, &quot;dashArray&quot;: null, &quot;dashOffset&quot;: null, &quot;fill&quot;: false, &quot;fillColor&quot;: &quot;red&quot;, &quot;fillOpacity&quot;: 0.2, &quot;fillRule&quot;: &quot;evenodd&quot;, &quot;lineCap&quot;: &quot;round&quot;, &quot;lineJoin&quot;: &quot;round&quot;, &quot;opacity&quot;: 1.0, &quot;radius&quot;: 3, &quot;stroke&quot;: true, &quot;weight&quot;: 3}\n",
       "            ).addTo(map_b5287797903315f754e7b2ffe5e46913);\n",
       "        \n",
       "    \n",
       "        var popup_3368ad740ad6a0630ce92ac6c2b93c13 = L.popup({&quot;maxWidth&quot;: &quot;100%&quot;});\n",
       "\n",
       "        \n",
       "            \n",
       "                var html_9bc745663214a3943e4251af5ac458fe = $(`&lt;div id=&quot;html_9bc745663214a3943e4251af5ac458fe&quot; style=&quot;width: 100.0%; height: 100.0%;&quot;&gt;node_id: 311634424  label: 41.73min&lt;/div&gt;`)[0];\n",
       "                popup_3368ad740ad6a0630ce92ac6c2b93c13.setContent(html_9bc745663214a3943e4251af5ac458fe);\n",
       "            \n",
       "        \n",
       "\n",
       "        circle_marker_178e3968b630f2a400312830e85a3c1f.bindPopup(popup_3368ad740ad6a0630ce92ac6c2b93c13)\n",
       "        ;\n",
       "\n",
       "        \n",
       "    \n",
       "    \n",
       "            var poly_line_9df53105da035aab8872ca3ec7597f14 = L.polyline(\n",
       "                [[50.9883329, 6.9646961], [50.9883789, 6.9648421], [50.9880455, 6.965058], [50.9878439, 6.9652074], [50.987797, 6.9652401], [50.9866984, 6.9659736], [50.9860244, 6.9664463], [50.985827, 6.9665564], [50.9855352, 6.9667601], [50.984602, 6.9672983], [50.9843727, 6.9674147], [50.9839563, 6.9676044], [50.9833538, 6.9678941], [50.9831359, 6.9680235], [50.9830066, 6.9681021], [50.9828623, 6.9681898], [50.9827064, 6.9682742], [50.9825248, 6.9683551], [50.9824456, 6.9683752], [50.9823559, 6.9683595], [50.9822979, 6.9683378], [50.9821702, 6.9683364], [50.9819689, 6.9682486], [50.9819054, 6.9682208], [50.9817649, 6.9681767], [50.9815938, 6.9681504], [50.9812907, 6.9682042], [50.981036, 6.9682495], [50.9809606, 6.968265], [50.9808623, 6.9682857], [50.9805851, 6.9683336], [50.9803332, 6.9683772], [50.9802867, 6.9683853], [50.980179, 6.9684041], [50.979966, 6.9684501], [50.9797949, 6.9684829], [50.9792476, 6.968574], [50.9787814, 6.9686668], [50.9783781, 6.9687501], [50.9779969, 6.9688288], [50.9774935, 6.9689328], [50.9774307, 6.9689447], [50.9773132, 6.968967], [50.9768537, 6.9690542], [50.9767776, 6.9690786], [50.9766499, 6.9691192], [50.9766015, 6.9691302], [50.9764736, 6.9691591], [50.9762633, 6.9692066], [50.9761985, 6.9692213], [50.9761116, 6.9692409], [50.9759523, 6.9692689], [50.9759024, 6.9692773], [50.9755036, 6.9693443], [50.9751158, 6.9693699], [50.9748971, 6.9693647], [50.9748802, 6.9693665], [50.9747442, 6.9693808], [50.9746154, 6.9694033], [50.974482, 6.9694138], [50.9743903, 6.9694211], [50.9742967, 6.9694223], [50.9742794, 6.9693109], [50.974273, 6.9692528], [50.9742397, 6.9691193], [50.9739134, 6.9691192], [50.9734106, 6.9691069], [50.9731173, 6.9690954], [50.973067, 6.9690938], [50.9729896, 6.9690918], [50.9729361, 6.9690892], [50.9727762, 6.9690849], [50.9720699, 6.9690574], [50.9715114, 6.9689983], [50.9714318, 6.9689913], [50.9709976, 6.9689507], [50.9709743, 6.9689499], [50.9709022, 6.9689479], [50.9708536, 6.9689456], [50.9707873, 6.9689425], [50.9707851, 6.9688816], [50.9705883, 6.9688641], [50.9705353, 6.9688617], [50.9704935, 6.9688598], [50.9704147, 6.9688553], [50.9701375, 6.968842], [50.9700705, 6.9688426], [50.9697758, 6.9688457], [50.9697393, 6.9688451], [50.9695783, 6.9688442], [50.969367, 6.9688404], [50.9691125, 6.9688272], [50.9687771, 6.9688105], [50.9687513, 6.9688105], [50.9679818, 6.9687474], [50.9677207, 6.968719], [50.9674145, 6.9686998], [50.9672937, 6.9686922], [50.9672517, 6.9686906], [50.9669531, 6.968667], [50.9661546, 6.9685936], [50.966032, 6.9685815], [50.9659513, 6.9685797], [50.9656244, 6.9685724], [50.9651542, 6.9685203], [50.9644317, 6.9684211], [50.9643706, 6.9684478], [50.964306, 6.9684567], [50.9639739, 6.9684099], [50.9638397, 6.9683252], [50.9637758, 6.9683131], [50.9636986, 6.9682984], [50.9634709, 6.968252], [50.9630245, 6.9681739], [50.9629929, 6.9681487], [50.9629385, 6.968134], [50.9628043, 6.9680982], [50.9627483, 6.9680849], [50.9627187, 6.9680787], [50.9626134, 6.9680568], [50.962585, 6.9680641], [50.9624462, 6.9680302], [50.9624348, 6.9680196], [50.9624136, 6.9680152], [50.9623818, 6.9680075], [50.9622381, 6.9679732], [50.9621833, 6.9679602], [50.9621629, 6.9679552], [50.9620106, 6.9679173], [50.9619831, 6.9679105], [50.9619598, 6.9679048], [50.9619339, 6.9678995], [50.9618488, 6.9678822], [50.9617247, 6.9678569], [50.9611032, 6.967712], [50.9610404, 6.9676991], [50.9607198, 6.9676367], [50.9607136, 6.9676986], [50.9605309, 6.9676668], [50.960461, 6.9676526], [50.9601471, 6.9675863], [50.9596728, 6.9674953], [50.959624, 6.9674857], [50.9590653, 6.967376], [50.95896, 6.9673523], [50.9584259, 6.9672092], [50.9583281, 6.9671691], [50.9582808, 6.967116], [50.9581671, 6.9669816], [50.9581322, 6.9669323], [50.9580774, 6.9668983], [50.9580289, 6.9668992], [50.95797, 6.9669071], [50.9578023, 6.9669324], [50.9576763, 6.9669606], [50.9576181, 6.9669753], [50.957472, 6.9670345], [50.9573187, 6.9671471], [50.9571024, 6.967059], [50.9569411, 6.9670271]],\n",
       "                {&quot;bubblingMouseEvents&quot;: true, &quot;color&quot;: &quot;blue&quot;, &quot;dashArray&quot;: null, &quot;dashOffset&quot;: null, &quot;fill&quot;: false, &quot;fillColor&quot;: &quot;blue&quot;, &quot;fillOpacity&quot;: 0.2, &quot;fillRule&quot;: &quot;evenodd&quot;, &quot;lineCap&quot;: &quot;round&quot;, &quot;lineJoin&quot;: &quot;round&quot;, &quot;noClip&quot;: false, &quot;opacity&quot;: 1.0, &quot;smoothFactor&quot;: 1.0, &quot;stroke&quot;: true, &quot;weight&quot;: 2}\n",
       "            ).addTo(map_b5287797903315f754e7b2ffe5e46913);\n",
       "        \n",
       "    \n",
       "            var circle_marker_8648e331b9e688a0a13900cb4d3544c5 = L.circleMarker(\n",
       "                [50.9351355, 6.9569421],\n",
       "                {&quot;bubblingMouseEvents&quot;: true, &quot;color&quot;: &quot;red&quot;, &quot;dashArray&quot;: null, &quot;dashOffset&quot;: null, &quot;fill&quot;: false, &quot;fillColor&quot;: &quot;red&quot;, &quot;fillOpacity&quot;: 0.2, &quot;fillRule&quot;: &quot;evenodd&quot;, &quot;lineCap&quot;: &quot;round&quot;, &quot;lineJoin&quot;: &quot;round&quot;, &quot;opacity&quot;: 1.0, &quot;radius&quot;: 3, &quot;stroke&quot;: true, &quot;weight&quot;: 3}\n",
       "            ).addTo(map_b5287797903315f754e7b2ffe5e46913);\n",
       "        \n",
       "    \n",
       "        var popup_39b2cc6d49250484a8cc5b658b5f7c21 = L.popup({&quot;maxWidth&quot;: &quot;100%&quot;});\n",
       "\n",
       "        \n",
       "            \n",
       "                var html_64f796edbf06669881643b35d9ea1f90 = $(`&lt;div id=&quot;html_64f796edbf06669881643b35d9ea1f90&quot; style=&quot;width: 100.0%; height: 100.0%;&quot;&gt;node_id: 784463011  label: 72.97min&lt;/div&gt;`)[0];\n",
       "                popup_39b2cc6d49250484a8cc5b658b5f7c21.setContent(html_64f796edbf06669881643b35d9ea1f90);\n",
       "            \n",
       "        \n",
       "\n",
       "        circle_marker_8648e331b9e688a0a13900cb4d3544c5.bindPopup(popup_39b2cc6d49250484a8cc5b658b5f7c21)\n",
       "        ;\n",
       "\n",
       "        \n",
       "    \n",
       "    \n",
       "            var poly_line_eb6dee0648dcaa84fcc27836af89f71e = L.polyline(\n",
       "                [[50.9883329, 6.9646961], [50.9882423, 6.9646103], [50.9881889, 6.9645947], [50.9880821, 6.9646387], [50.9879814, 6.9639089], [50.9879131, 6.9639583], [50.9879037, 6.9617419], [50.9878053, 6.9617417], [50.9878031, 6.9613676], [50.987547, 6.9613627], [50.9875216, 6.9613534], [50.9874825, 6.9613392], [50.9874412, 6.9613241], [50.987427, 6.9613183], [50.9873258, 6.9612769], [50.9871961, 6.9612597], [50.9869923, 6.9612326], [50.9863187, 6.9611537], [50.9861486, 6.9611361], [50.9858405, 6.9611091], [50.9857529, 6.9611226], [50.9856539, 6.9611379], [50.9855929, 6.961133], [50.9855561, 6.961182], [50.9855166, 6.9611805], [50.9853055, 6.9611723], [50.9852716, 6.9611843], [50.9852085, 6.9612067], [50.9850586, 6.9611883], [50.9849173, 6.961171], [50.9848961, 6.9611405], [50.9848478, 6.9611218], [50.9847893, 6.9610991], [50.9846425, 6.9610752], [50.9844015, 6.9610517], [50.9842016, 6.9610301], [50.984167, 6.9610346], [50.9841054, 6.9610687], [50.9838173, 6.9610257], [50.9836651, 6.9610012], [50.9836316, 6.9609734], [50.9836203, 6.9609641], [50.9833821, 6.9609303], [50.9833066, 6.9609196], [50.9832374, 6.960901], [50.9830586, 6.9608825], [50.9830054, 6.960887], [50.9829298, 6.9609181], [50.982799, 6.9609065], [50.981856, 6.9607929], [50.9818124, 6.9608033], [50.9816412, 6.9607713], [50.9813844, 6.960755], [50.981227, 6.9607164], [50.9811845, 6.9607134], [50.9811579, 6.9607297], [50.9810282, 6.9607183], [50.9804464, 6.9606497], [50.9802379, 6.9606252], [50.9789863, 6.9604954], [50.9789153, 6.9604635], [50.9787197, 6.9604287], [50.9785159, 6.9604102], [50.9784159, 6.9604045], [50.9783247, 6.960397], [50.9781412, 6.9603893], [50.9778339, 6.9603567], [50.9777391, 6.9603463], [50.9773497, 6.9602989], [50.9772176, 6.960287], [50.9771681, 6.9602492], [50.9771189, 6.9601785], [50.9770948, 6.9601706], [50.9769696, 6.9601661], [50.9767534, 6.9601498], [50.9766793, 6.960175], [50.9766544, 6.9601832], [50.9762982, 6.9601461], [50.9760988, 6.9601238], [50.976078, 6.9601343], [50.976048, 6.9601371], [50.9752363, 6.9600504], [50.9750556, 6.9600297], [50.9750474, 6.9600233], [50.9748562, 6.9599659], [50.9747553, 6.9599481], [50.9747097, 6.959937], [50.9745368, 6.959918], [50.9744666, 6.959894], [50.9743847, 6.9598854], [50.9743005, 6.9599058], [50.9742297, 6.959924], [50.9741541, 6.959908], [50.9739559, 6.9598764], [50.9735423, 6.959828], [50.9731122, 6.959779], [50.9730504, 6.9597738], [50.9727783, 6.9597508], [50.9725575, 6.9597225], [50.9723505, 6.959696], [50.9718527, 6.9596337], [50.9713599, 6.9595978], [50.9711689, 6.9595542], [50.9706568, 6.959476], [50.9704051, 6.9594492], [50.9697382, 6.9593499], [50.9696513, 6.9592112], [50.9695842, 6.9591973], [50.9694986, 6.9591829], [50.9692127, 6.959135], [50.9686998, 6.9590568], [50.9681809, 6.9589759], [50.967944, 6.9589453], [50.967791, 6.9589256], [50.9677447, 6.9589196], [50.9675756, 6.9588978], [50.9674159, 6.9588824], [50.9672887, 6.9588702], [50.9668619, 6.9588291], [50.9667286, 6.9588163], [50.966653, 6.958809], [50.9665716, 6.9588029], [50.966506, 6.958798], [50.9662951, 6.9587823], [50.9662541, 6.9587772], [50.9662234, 6.9587752], [50.9661688, 6.9587698], [50.9655364, 6.958707], [50.9652258, 6.9586728], [50.964802, 6.9586338], [50.9646825, 6.9586222], [50.9644621, 6.9586075], [50.9643368, 6.9585945], [50.9639643, 6.9585688], [50.9639242, 6.958566], [50.9637476, 6.9585636], [50.9636989, 6.9585629], [50.9635927, 6.9585615], [50.9634877, 6.9585556], [50.9634471, 6.95855], [50.9633793, 6.958552], [50.9633373, 6.9585533], [50.9630926, 6.9585606], [50.9627519, 6.9585731], [50.9626084, 6.9585646], [50.962376, 6.9585582], [50.9622332, 6.9585543], [50.9621013, 6.958527], [50.961898, 6.958485], [50.9615459, 6.9584001], [50.961304, 6.9583313], [50.9612514, 6.9583157], [50.9611604, 6.9582898], [50.9610039, 6.9582538], [50.9605359, 6.9581608], [50.9603638, 6.9581271], [50.9601276, 6.958082], [50.9600706, 6.958076], [50.9600043, 6.9580681], [50.9598479, 6.9580512], [50.9594058, 6.9579923], [50.9589083, 6.9579186], [50.9585737, 6.9578688], [50.9581996, 6.9578266], [50.9580215, 6.9578086], [50.9579467, 6.9578021], [50.9578996, 6.9577997], [50.9577983, 6.9577906], [50.9576516, 6.9577849], [50.9575669, 6.9577779], [50.9574974, 6.95777], [50.9573703, 6.9577518], [50.9572899, 6.9577359], [50.9571596, 6.9577072], [50.9569977, 6.957686], [50.9563554, 6.9576106], [50.9558005, 6.9575991], [50.9557497, 6.9575972], [50.9556806, 6.9575828], [50.9556441, 6.957561], [50.955599, 6.9575211], [50.9555482, 6.9574468], [50.9554953, 6.9573224], [50.9553443, 6.9569593], [50.9553085, 6.9568674], [50.9552594, 6.9567545], [50.9551302, 6.9568126], [50.955069, 6.9568417], [50.9548072, 6.9569701], [50.9546434, 6.9570246], [50.9543127, 6.9571821], [50.9542527, 6.9571944], [50.954161, 6.9572105], [50.9540295, 6.9572647], [50.9539415, 6.9572819], [50.9538927, 6.9572864], [50.9537683, 6.9572922], [50.953087, 6.9572292], [50.9530428, 6.9572255], [50.9529386, 6.957215], [50.9528818, 6.95721], [50.9528412, 6.957206], [50.951975, 6.9571245], [50.9518621, 6.9571037], [50.9517848, 6.9570915], [50.9512284, 6.9570414], [50.951224, 6.9571661], [50.9511331, 6.9571611], [50.9510051, 6.957158], [50.9508158, 6.9571299], [50.9506417, 6.9571464], [50.9505515, 6.9571193], [50.9503414, 6.9570505], [50.9501987, 6.9570082], [50.950181, 6.9570029], [50.9501071, 6.9569977], [50.9500842, 6.9569961], [50.9500846, 6.9569421], [50.949498, 6.9568935], [50.9493333, 6.9568763], [50.9492385, 6.9568648], [50.9491218, 6.9568522], [50.9485188, 6.9567765], [50.9482342, 6.9567333], [50.9479601, 6.956706], [50.9475723, 6.9566486], [50.9474722, 6.9566437], [50.9473086, 6.9566336], [50.9467983, 6.9565304], [50.9467633, 6.9565239], [50.946483, 6.9564753], [50.9461204, 6.9564348], [50.9457883, 6.9563977], [50.9457546, 6.9563873], [50.9457291, 6.9563795], [50.9456936, 6.9563685], [50.945155, 6.9561611], [50.9451244, 6.9561494], [50.9450871, 6.9561461], [50.9450722, 6.9561461], [50.9450036, 6.9561462], [50.9448861, 6.9561315], [50.9445876, 6.9560463], [50.9444281, 6.9560043], [50.9440283, 6.9558662], [50.9439523, 6.9558539], [50.9438762, 6.955858], [50.9437246, 6.9558685], [50.94346, 6.9559199], [50.9433028, 6.9559732], [50.9431116, 6.9559955], [50.9429459, 6.9559909], [50.9428317, 6.9559721], [50.9426821, 6.9559357], [50.9426515, 6.9559284], [50.9426135, 6.9559192], [50.9426159, 6.9558437], [50.9426038, 6.9557956], [50.9425897, 6.9557676], [50.9425627, 6.9557383], [50.9425293, 6.9557253], [50.9424969, 6.9557313], [50.9424648, 6.9557583], [50.9424434, 6.9557974], [50.9424343, 6.9558293], [50.9423476, 6.9558582], [50.9419474, 6.9559952], [50.9419113, 6.9560077], [50.9418802, 6.9560197], [50.9418112, 6.9560456], [50.9417735, 6.9560683], [50.9417152, 6.9561009], [50.9417127, 6.9561958], [50.9417141, 6.9562501], [50.9417152, 6.9562953], [50.9416427, 6.9563015], [50.9416289, 6.9563027], [50.9414186, 6.956291], [50.9413791, 6.9562831], [50.9413435, 6.9562734], [50.9411245, 6.9561535], [50.9408883, 6.9561179], [50.9405825, 6.9560853], [50.9402664, 6.9564166], [50.9402206, 6.9564059], [50.9401804, 6.9564016], [50.9398783, 6.9563631], [50.939169, 6.9563168], [50.9384367, 6.9562944], [50.9381047, 6.9562644], [50.9377691, 6.9562308], [50.9374836, 6.9562246], [50.9370747, 6.9562562], [50.9368251, 6.9563063], [50.9365456, 6.9562928], [50.9364259, 6.9562819], [50.9363633, 6.956265], [50.9360583, 6.9561786], [50.9359198, 6.9561591], [50.9358684, 6.9561518], [50.9353861, 6.9561997], [50.9352982, 6.9561981], [50.9352446, 6.9561969], [50.9352184, 6.9561938], [50.9351722, 6.9561906], [50.9351502, 6.9561908], [50.9351164, 6.956191], [50.9350813, 6.9561907], [50.9350447, 6.9561897], [50.9350143, 6.9561889], [50.9350594, 6.9563735], [50.9351118, 6.9567115], [50.9351355, 6.9569421]],\n",
       "                {&quot;bubblingMouseEvents&quot;: true, &quot;color&quot;: &quot;blue&quot;, &quot;dashArray&quot;: null, &quot;dashOffset&quot;: null, &quot;fill&quot;: false, &quot;fillColor&quot;: &quot;blue&quot;, &quot;fillOpacity&quot;: 0.2, &quot;fillRule&quot;: &quot;evenodd&quot;, &quot;lineCap&quot;: &quot;round&quot;, &quot;lineJoin&quot;: &quot;round&quot;, &quot;noClip&quot;: false, &quot;opacity&quot;: 1.0, &quot;smoothFactor&quot;: 1.0, &quot;stroke&quot;: true, &quot;weight&quot;: 2}\n",
       "            ).addTo(map_b5287797903315f754e7b2ffe5e46913);\n",
       "        \n",
       "    \n",
       "            var circle_marker_e4b6d28c13cb24ab2122ac278232d82e = L.circleMarker(\n",
       "                [50.9822992, 6.9671021],\n",
       "                {&quot;bubblingMouseEvents&quot;: true, &quot;color&quot;: &quot;red&quot;, &quot;dashArray&quot;: null, &quot;dashOffset&quot;: null, &quot;fill&quot;: false, &quot;fillColor&quot;: &quot;red&quot;, &quot;fillOpacity&quot;: 0.2, &quot;fillRule&quot;: &quot;evenodd&quot;, &quot;lineCap&quot;: &quot;round&quot;, &quot;lineJoin&quot;: &quot;round&quot;, &quot;opacity&quot;: 1.0, &quot;radius&quot;: 3, &quot;stroke&quot;: true, &quot;weight&quot;: 3}\n",
       "            ).addTo(map_b5287797903315f754e7b2ffe5e46913);\n",
       "        \n",
       "    \n",
       "        var popup_6e5cfae4ff3c8e5e1fd2c7886c115097 = L.popup({&quot;maxWidth&quot;: &quot;100%&quot;});\n",
       "\n",
       "        \n",
       "            \n",
       "                var html_97cbfc32d69cbd03a3263f69bc6439dd = $(`&lt;div id=&quot;html_97cbfc32d69cbd03a3263f69bc6439dd&quot; style=&quot;width: 100.0%; height: 100.0%;&quot;&gt;node_id: 279028518  label: 9.75min&lt;/div&gt;`)[0];\n",
       "                popup_6e5cfae4ff3c8e5e1fd2c7886c115097.setContent(html_97cbfc32d69cbd03a3263f69bc6439dd);\n",
       "            \n",
       "        \n",
       "\n",
       "        circle_marker_e4b6d28c13cb24ab2122ac278232d82e.bindPopup(popup_6e5cfae4ff3c8e5e1fd2c7886c115097)\n",
       "        ;\n",
       "\n",
       "        \n",
       "    \n",
       "    \n",
       "            var poly_line_ee04a3abc1e962b05d04b3d8bdde0bf7 = L.polyline(\n",
       "                [[50.9883329, 6.9646961], [50.9883789, 6.9648421], [50.9880455, 6.965058], [50.9878439, 6.9652074], [50.987797, 6.9652401], [50.9866984, 6.9659736], [50.9860244, 6.9664463], [50.985827, 6.9665564], [50.9855352, 6.9667601], [50.9854982, 6.9665969], [50.9854593, 6.9665236], [50.9853671, 6.9665234], [50.9841247, 6.96684], [50.9837891, 6.9668739], [50.9835705, 6.9669296], [50.983509, 6.9669095], [50.9830042, 6.9671593], [50.9828188, 6.9672567], [50.9827536, 6.967347], [50.9826051, 6.9674282], [50.9825731, 6.9674544], [50.9824176, 6.9677069], [50.9822884, 6.9678448], [50.9822617, 6.9679525], [50.9822292, 6.9679512], [50.9821648, 6.9679466], [50.9821212, 6.967808], [50.9820665, 6.9676183], [50.9820353, 6.9675098], [50.982143, 6.9673816], [50.9821965, 6.9673141], [50.9822992, 6.9671021]],\n",
       "                {&quot;bubblingMouseEvents&quot;: true, &quot;color&quot;: &quot;blue&quot;, &quot;dashArray&quot;: null, &quot;dashOffset&quot;: null, &quot;fill&quot;: false, &quot;fillColor&quot;: &quot;blue&quot;, &quot;fillOpacity&quot;: 0.2, &quot;fillRule&quot;: &quot;evenodd&quot;, &quot;lineCap&quot;: &quot;round&quot;, &quot;lineJoin&quot;: &quot;round&quot;, &quot;noClip&quot;: false, &quot;opacity&quot;: 1.0, &quot;smoothFactor&quot;: 1.0, &quot;stroke&quot;: true, &quot;weight&quot;: 2}\n",
       "            ).addTo(map_b5287797903315f754e7b2ffe5e46913);\n",
       "        \n",
       "    \n",
       "            var circle_marker_0b2be49cd7f6150daab08086df4973aa = L.circleMarker(\n",
       "                [50.9668412, 6.9518891],\n",
       "                {&quot;bubblingMouseEvents&quot;: true, &quot;color&quot;: &quot;red&quot;, &quot;dashArray&quot;: null, &quot;dashOffset&quot;: null, &quot;fill&quot;: false, &quot;fillColor&quot;: &quot;red&quot;, &quot;fillOpacity&quot;: 0.2, &quot;fillRule&quot;: &quot;evenodd&quot;, &quot;lineCap&quot;: &quot;round&quot;, &quot;lineJoin&quot;: &quot;round&quot;, &quot;opacity&quot;: 1.0, &quot;radius&quot;: 3, &quot;stroke&quot;: true, &quot;weight&quot;: 3}\n",
       "            ).addTo(map_b5287797903315f754e7b2ffe5e46913);\n",
       "        \n",
       "    \n",
       "        var popup_c9e467a242915ee096fb5509203c0110 = L.popup({&quot;maxWidth&quot;: &quot;100%&quot;});\n",
       "\n",
       "        \n",
       "            \n",
       "                var html_1cd3aa1f27714f3277155394722b9259 = $(`&lt;div id=&quot;html_1cd3aa1f27714f3277155394722b9259&quot; style=&quot;width: 100.0%; height: 100.0%;&quot;&gt;node_id: 8634509231  label: 33.87min&lt;/div&gt;`)[0];\n",
       "                popup_c9e467a242915ee096fb5509203c0110.setContent(html_1cd3aa1f27714f3277155394722b9259);\n",
       "            \n",
       "        \n",
       "\n",
       "        circle_marker_0b2be49cd7f6150daab08086df4973aa.bindPopup(popup_c9e467a242915ee096fb5509203c0110)\n",
       "        ;\n",
       "\n",
       "        \n",
       "    \n",
       "    \n",
       "            var poly_line_1cc25b6ae13afa4e53f7cb0b37554b3f = L.polyline(\n",
       "                [[50.9883329, 6.9646961], [50.9882423, 6.9646103], [50.9881889, 6.9645947], [50.9880821, 6.9646387], [50.9879814, 6.9639089], [50.9879131, 6.9639583], [50.9879037, 6.9617419], [50.9878053, 6.9617417], [50.9878031, 6.9613676], [50.987547, 6.9613627], [50.9875216, 6.9613534], [50.9874825, 6.9613392], [50.9874412, 6.9613241], [50.987427, 6.9613183], [50.9873258, 6.9612769], [50.9871961, 6.9612597], [50.9869923, 6.9612326], [50.9863187, 6.9611537], [50.9861486, 6.9611361], [50.9858405, 6.9611091], [50.9857529, 6.9611226], [50.9856539, 6.9611379], [50.9855929, 6.961133], [50.9855561, 6.961182], [50.9855166, 6.9611805], [50.9853055, 6.9611723], [50.9852716, 6.9611843], [50.9852085, 6.9612067], [50.9850586, 6.9611883], [50.9849173, 6.961171], [50.9848961, 6.9611405], [50.9848478, 6.9611218], [50.9847893, 6.9610991], [50.9846425, 6.9610752], [50.9844015, 6.9610517], [50.9842016, 6.9610301], [50.984167, 6.9610346], [50.9841054, 6.9610687], [50.9838173, 6.9610257], [50.9836651, 6.9610012], [50.9836316, 6.9609734], [50.9836203, 6.9609641], [50.9833821, 6.9609303], [50.9833066, 6.9609196], [50.9832374, 6.960901], [50.9830586, 6.9608825], [50.9830054, 6.960887], [50.9829298, 6.9609181], [50.982799, 6.9609065], [50.981856, 6.9607929], [50.9818124, 6.9608033], [50.9816412, 6.9607713], [50.9813844, 6.960755], [50.981227, 6.9607164], [50.9811845, 6.9607134], [50.9811579, 6.9607297], [50.9810282, 6.9607183], [50.9804464, 6.9606497], [50.9802379, 6.9606252], [50.9789863, 6.9604954], [50.9789153, 6.9604635], [50.9787197, 6.9604287], [50.9785159, 6.9604102], [50.9784159, 6.9604045], [50.9783247, 6.960397], [50.9781412, 6.9603893], [50.9778339, 6.9603567], [50.9777391, 6.9603463], [50.9773497, 6.9602989], [50.9772176, 6.960287], [50.9771681, 6.9602492], [50.9771189, 6.9601785], [50.9771215, 6.9601117], [50.977021, 6.9601001], [50.976849, 6.9600817], [50.9768035, 6.9600768], [50.9766043, 6.9600555], [50.9765086, 6.9599228], [50.9764464, 6.9598291], [50.9764171, 6.9597889], [50.9763749, 6.959731], [50.9758293, 6.9589829], [50.9757739, 6.9588512], [50.9754805, 6.9584215], [50.975389, 6.9583689], [50.9751629, 6.9580919], [50.9749696, 6.9577227], [50.9746996, 6.9574132], [50.9745411, 6.9572316], [50.9743328, 6.956993], [50.9742369, 6.9568831], [50.9741637, 6.9567992], [50.9740839, 6.9567115], [50.974003, 6.9566342], [50.9739374, 6.9565715], [50.973391, 6.9560382], [50.9730359, 6.9556896], [50.9726793, 6.9553395], [50.9722474, 6.9548829], [50.9721201, 6.9547746], [50.9718803, 6.954559], [50.9710632, 6.9537211], [50.9705232, 6.9532205], [50.9700906, 6.9527924], [50.9699821, 6.9526879], [50.969949, 6.9526507], [50.9699256, 6.9526243], [50.9698848, 6.9525677], [50.9698583, 6.9525309], [50.9698151, 6.9524666], [50.969793, 6.9524188], [50.9697599, 6.952352], [50.969706, 6.9522435], [50.9695987, 6.952027], [50.9692651, 6.9513542], [50.9689473, 6.9514127], [50.9687767, 6.9514934], [50.9687151, 6.9515277], [50.9686851, 6.9515444], [50.9686936, 6.9516015], [50.9686866, 6.9516525], [50.9686642, 6.9516954], [50.9686258, 6.9517033], [50.9684084, 6.9517566], [50.9682435, 6.9518027], [50.9682112, 6.9518118], [50.9679619, 6.9518815], [50.9677665, 6.9519361], [50.96771, 6.9519876], [50.9676026, 6.9519997], [50.9666111, 6.95227], [50.9666017, 6.9521838], [50.9666237, 6.9521404], [50.9666429, 6.9520986], [50.9666291, 6.9519425], [50.9668412, 6.9518891]],\n",
       "                {&quot;bubblingMouseEvents&quot;: true, &quot;color&quot;: &quot;blue&quot;, &quot;dashArray&quot;: null, &quot;dashOffset&quot;: null, &quot;fill&quot;: false, &quot;fillColor&quot;: &quot;blue&quot;, &quot;fillOpacity&quot;: 0.2, &quot;fillRule&quot;: &quot;evenodd&quot;, &quot;lineCap&quot;: &quot;round&quot;, &quot;lineJoin&quot;: &quot;round&quot;, &quot;noClip&quot;: false, &quot;opacity&quot;: 1.0, &quot;smoothFactor&quot;: 1.0, &quot;stroke&quot;: true, &quot;weight&quot;: 2}\n",
       "            ).addTo(map_b5287797903315f754e7b2ffe5e46913);\n",
       "        \n",
       "    \n",
       "            var circle_marker_1cf088ff0ef3003246657fd3e49b8ca0 = L.circleMarker(\n",
       "                [50.9642056, 6.9798376],\n",
       "                {&quot;bubblingMouseEvents&quot;: true, &quot;color&quot;: &quot;red&quot;, &quot;dashArray&quot;: null, &quot;dashOffset&quot;: null, &quot;fill&quot;: false, &quot;fillColor&quot;: &quot;red&quot;, &quot;fillOpacity&quot;: 0.2, &quot;fillRule&quot;: &quot;evenodd&quot;, &quot;lineCap&quot;: &quot;round&quot;, &quot;lineJoin&quot;: &quot;round&quot;, &quot;opacity&quot;: 1.0, &quot;radius&quot;: 3, &quot;stroke&quot;: true, &quot;weight&quot;: 3}\n",
       "            ).addTo(map_b5287797903315f754e7b2ffe5e46913);\n",
       "        \n",
       "    \n",
       "        var popup_96f9763cfcc72ef4c7cefd7f78910471 = L.popup({&quot;maxWidth&quot;: &quot;100%&quot;});\n",
       "\n",
       "        \n",
       "            \n",
       "                var html_65126692f3709de4b6c67e8af0818006 = $(`&lt;div id=&quot;html_65126692f3709de4b6c67e8af0818006&quot; style=&quot;width: 100.0%; height: 100.0%;&quot;&gt;node_id: 647132040  label: 35.02min&lt;/div&gt;`)[0];\n",
       "                popup_96f9763cfcc72ef4c7cefd7f78910471.setContent(html_65126692f3709de4b6c67e8af0818006);\n",
       "            \n",
       "        \n",
       "\n",
       "        circle_marker_1cf088ff0ef3003246657fd3e49b8ca0.bindPopup(popup_96f9763cfcc72ef4c7cefd7f78910471)\n",
       "        ;\n",
       "\n",
       "        \n",
       "    \n",
       "    \n",
       "            var poly_line_001512b47af956238742a2510841a879 = L.polyline(\n",
       "                [[50.9883329, 6.9646961], [50.9883789, 6.9648421], [50.9880455, 6.965058], [50.9878439, 6.9652074], [50.987797, 6.9652401], [50.9866984, 6.9659736], [50.9860244, 6.9664463], [50.985827, 6.9665564], [50.9855352, 6.9667601], [50.984602, 6.9672983], [50.9843727, 6.9674147], [50.9839563, 6.9676044], [50.9833538, 6.9678941], [50.9831359, 6.9680235], [50.9830066, 6.9681021], [50.9828623, 6.9681898], [50.9827064, 6.9682742], [50.9825248, 6.9683551], [50.9824456, 6.9683752], [50.9823559, 6.9683595], [50.9822979, 6.9683378], [50.9821702, 6.9683364], [50.9819689, 6.9682486], [50.9819054, 6.9682208], [50.9817649, 6.9681767], [50.9815938, 6.9681504], [50.9814266, 6.9682811], [50.9813235, 6.9684062], [50.9812722, 6.9684635], [50.9810982, 6.9687016], [50.9808817, 6.9689489], [50.9804697, 6.9695126], [50.9804405, 6.9695515], [50.9802434, 6.9698134], [50.9800006, 6.9700963], [50.9796592, 6.970416], [50.9788561, 6.9711602], [50.9784504, 6.9715303], [50.9783402, 6.9716309], [50.9778832, 6.9720721], [50.9778279, 6.9721255], [50.9775469, 6.9723782], [50.9773052, 6.9726144], [50.9769114, 6.9729509], [50.9767649, 6.9730651], [50.9753392, 6.9740918], [50.9752931, 6.9741181], [50.9752533, 6.9741428], [50.9751138, 6.9742351], [50.9748885, 6.974406], [50.9742505, 6.9749159], [50.9727946, 6.9759607], [50.9727035, 6.9760248], [50.9726521, 6.9760652], [50.9726169, 6.9760901], [50.9724985, 6.9761204], [50.9723611, 6.9762104], [50.9722119, 6.9763196], [50.971976, 6.9764706], [50.9717134, 6.9766955], [50.9715621, 6.9768134], [50.9714529, 6.9769004], [50.9713968, 6.9769451], [50.9710096, 6.9772268], [50.970829, 6.977353], [50.9707864, 6.9773853], [50.9707556, 6.9774101], [50.9704635, 6.9776166], [50.9703291, 6.9777186], [50.9699674, 6.9779607], [50.969815, 6.9780926], [50.9696649, 6.9782135], [50.9696123, 6.978251], [50.9694837, 6.9783473], [50.9694417, 6.9783648], [50.9693512, 6.978418], [50.969092, 6.978549], [50.9685375, 6.9787968], [50.9681981, 6.978957], [50.9680547, 6.9790277], [50.9679272, 6.9790855], [50.9678023, 6.9791451], [50.9677456, 6.9791696], [50.9676962, 6.9791909], [50.9676059, 6.9792239], [50.9662912, 6.9798822], [50.9661888, 6.9799335], [50.9661711, 6.9798871], [50.9660815, 6.9799071], [50.9660191, 6.979921], [50.9658896, 6.9799714], [50.9655005, 6.9801539], [50.9653453, 6.9802407], [50.9650748, 6.980392], [50.9649689, 6.980437], [50.9644248, 6.9807058], [50.9643897, 6.9807231], [50.9642978, 6.9802875], [50.9642661, 6.9801463], [50.9642564, 6.9800968], [50.9642517, 6.9800728], [50.9642056, 6.9798376]],\n",
       "                {&quot;bubblingMouseEvents&quot;: true, &quot;color&quot;: &quot;blue&quot;, &quot;dashArray&quot;: null, &quot;dashOffset&quot;: null, &quot;fill&quot;: false, &quot;fillColor&quot;: &quot;blue&quot;, &quot;fillOpacity&quot;: 0.2, &quot;fillRule&quot;: &quot;evenodd&quot;, &quot;lineCap&quot;: &quot;round&quot;, &quot;lineJoin&quot;: &quot;round&quot;, &quot;noClip&quot;: false, &quot;opacity&quot;: 1.0, &quot;smoothFactor&quot;: 1.0, &quot;stroke&quot;: true, &quot;weight&quot;: 2}\n",
       "            ).addTo(map_b5287797903315f754e7b2ffe5e46913);\n",
       "        \n",
       "&lt;/script&gt;\n",
       "&lt;/html&gt;\" style=\"position:absolute;width:100%;height:100%;left:0;top:0;border:none !important;\" allowfullscreen webkitallowfullscreen mozallowfullscreen></iframe></div></div>"
      ],
      "text/plain": [
       "<folium.folium.Map at 0x7f41fff16b90>"
      ]
     },
     "execution_count": 184,
     "metadata": {},
     "output_type": "execute_result"
    }
   ],
   "source": [
    "sample_label = list(bags.values())[0][0]\n",
    "sample_node_id = int(reverse_walking_node_map[label.node_id].replace('W', ''))\n",
    "nodes_by_id = nodes.set_index('id')\n",
    "sample_node = nodes_by_id.loc[sample_node_id]\n",
    "\n",
    "m = folium.Map(location=[sample_node.lat, sample_node.lon], zoom_start=15)\n",
    "counter = 0\n",
    "for bag in bags.values():\n",
    "\tif counter > 10:\n",
    "\t\tbreak\n",
    "\tfor label in bag:\n",
    "\t\tcounter += 1\n",
    "\n",
    "\n",
    "\t\tnode_id = int(reverse_walking_node_map[label.node_id].replace('W', ''))\n",
    "\t\tnode = nodes_by_id.loc[node_id]\n",
    "\t\tpopup=f\"node_id: {node_id}\\n label: {round(label.values[0]/60, 2)}min\"\n",
    "\t\tfolium.CircleMarker(\n",
    "\t\t\tlocation=[node.lat, node.lon],\n",
    "\t\t\tradius=3,\n",
    "\t\t\tpopup=popup,\n",
    "\t\t\tcolor='red',\n",
    "\t\t).add_to(m)\n",
    "\n",
    "\t\t# path\n",
    "\t\tpaths = path_manager.reconstruct_and_translate_path_for_label(label, no_prefix_translator_map)\n",
    "\t\tfor path in paths:\n",
    "\t\t\tpath_nodes = [nodes_by_id.loc[node_id] for node_id in path.path]\n",
    "\t\t\tpath_lat_lon = [(node.lat, node.lon) for node in path_nodes]\n",
    "\t\t\tfolium.PolyLine(path_lat_lon, color='blue', weight=2).add_to(m)\n",
    "m"
   ]
  },
  {
   "cell_type": "code",
   "execution_count": 194,
   "metadata": {},
   "outputs": [],
   "source": [
    "color_map = {\n",
    "\tPathType.WALKING: 'red',\n",
    "\tPathType.CYCLING_WALKING: 'blue',\n",
    "}"
   ]
  },
  {
   "cell_type": "code",
   "execution_count": 198,
   "metadata": {},
   "outputs": [
    {
     "data": {
      "text/html": [
       "<div style=\"width:100%;\"><div style=\"position:relative;width:100%;height:0;padding-bottom:60%;\"><span style=\"color:#565656\">Make this Notebook Trusted to load map: File -> Trust Notebook</span><iframe srcdoc=\"&lt;!DOCTYPE html&gt;\n",
       "&lt;html&gt;\n",
       "&lt;head&gt;\n",
       "    \n",
       "    &lt;meta http-equiv=&quot;content-type&quot; content=&quot;text/html; charset=UTF-8&quot; /&gt;\n",
       "    \n",
       "        &lt;script&gt;\n",
       "            L_NO_TOUCH = false;\n",
       "            L_DISABLE_3D = false;\n",
       "        &lt;/script&gt;\n",
       "    \n",
       "    &lt;style&gt;html, body {width: 100%;height: 100%;margin: 0;padding: 0;}&lt;/style&gt;\n",
       "    &lt;style&gt;#map {position:absolute;top:0;bottom:0;right:0;left:0;}&lt;/style&gt;\n",
       "    &lt;script src=&quot;https://cdn.jsdelivr.net/npm/leaflet@1.9.3/dist/leaflet.js&quot;&gt;&lt;/script&gt;\n",
       "    &lt;script src=&quot;https://code.jquery.com/jquery-1.12.4.min.js&quot;&gt;&lt;/script&gt;\n",
       "    &lt;script src=&quot;https://cdn.jsdelivr.net/npm/bootstrap@5.2.2/dist/js/bootstrap.bundle.min.js&quot;&gt;&lt;/script&gt;\n",
       "    &lt;script src=&quot;https://cdnjs.cloudflare.com/ajax/libs/Leaflet.awesome-markers/2.0.2/leaflet.awesome-markers.js&quot;&gt;&lt;/script&gt;\n",
       "    &lt;link rel=&quot;stylesheet&quot; href=&quot;https://cdn.jsdelivr.net/npm/leaflet@1.9.3/dist/leaflet.css&quot;/&gt;\n",
       "    &lt;link rel=&quot;stylesheet&quot; href=&quot;https://cdn.jsdelivr.net/npm/bootstrap@5.2.2/dist/css/bootstrap.min.css&quot;/&gt;\n",
       "    &lt;link rel=&quot;stylesheet&quot; href=&quot;https://netdna.bootstrapcdn.com/bootstrap/3.0.0/css/bootstrap.min.css&quot;/&gt;\n",
       "    &lt;link rel=&quot;stylesheet&quot; href=&quot;https://cdn.jsdelivr.net/npm/@fortawesome/fontawesome-free@6.2.0/css/all.min.css&quot;/&gt;\n",
       "    &lt;link rel=&quot;stylesheet&quot; href=&quot;https://cdnjs.cloudflare.com/ajax/libs/Leaflet.awesome-markers/2.0.2/leaflet.awesome-markers.css&quot;/&gt;\n",
       "    &lt;link rel=&quot;stylesheet&quot; href=&quot;https://cdn.jsdelivr.net/gh/python-visualization/folium/folium/templates/leaflet.awesome.rotate.min.css&quot;/&gt;\n",
       "    \n",
       "            &lt;meta name=&quot;viewport&quot; content=&quot;width=device-width,\n",
       "                initial-scale=1.0, maximum-scale=1.0, user-scalable=no&quot; /&gt;\n",
       "            &lt;style&gt;\n",
       "                #map_4a13ae461c397a304e6e627a62e73105 {\n",
       "                    position: relative;\n",
       "                    width: 100.0%;\n",
       "                    height: 100.0%;\n",
       "                    left: 0.0%;\n",
       "                    top: 0.0%;\n",
       "                }\n",
       "                .leaflet-container { font-size: 1rem; }\n",
       "            &lt;/style&gt;\n",
       "        \n",
       "&lt;/head&gt;\n",
       "&lt;body&gt;\n",
       "    \n",
       "    \n",
       "            &lt;div class=&quot;folium-map&quot; id=&quot;map_4a13ae461c397a304e6e627a62e73105&quot; &gt;&lt;/div&gt;\n",
       "        \n",
       "&lt;/body&gt;\n",
       "&lt;script&gt;\n",
       "    \n",
       "    \n",
       "            var map_4a13ae461c397a304e6e627a62e73105 = L.map(\n",
       "                &quot;map_4a13ae461c397a304e6e627a62e73105&quot;,\n",
       "                {\n",
       "                    center: [50.9372296, 6.9814417],\n",
       "                    crs: L.CRS.EPSG3857,\n",
       "                    zoom: 15,\n",
       "                    zoomControl: true,\n",
       "                    preferCanvas: false,\n",
       "                }\n",
       "            );\n",
       "\n",
       "            \n",
       "\n",
       "        \n",
       "    \n",
       "            var tile_layer_1d03588c542969b8f3d9799d8ac8e571 = L.tileLayer(\n",
       "                &quot;https://{s}.tile.openstreetmap.org/{z}/{x}/{y}.png&quot;,\n",
       "                {&quot;attribution&quot;: &quot;Data by \\u0026copy; \\u003ca target=\\&quot;_blank\\&quot; href=\\&quot;http://openstreetmap.org\\&quot;\\u003eOpenStreetMap\\u003c/a\\u003e, under \\u003ca target=\\&quot;_blank\\&quot; href=\\&quot;http://www.openstreetmap.org/copyright\\&quot;\\u003eODbL\\u003c/a\\u003e.&quot;, &quot;detectRetina&quot;: false, &quot;maxNativeZoom&quot;: 18, &quot;maxZoom&quot;: 18, &quot;minZoom&quot;: 0, &quot;noWrap&quot;: false, &quot;opacity&quot;: 1, &quot;subdomains&quot;: &quot;abc&quot;, &quot;tms&quot;: false}\n",
       "            ).addTo(map_4a13ae461c397a304e6e627a62e73105);\n",
       "        \n",
       "    \n",
       "            var circle_marker_55c6f10311790a793ab4a6c35ee0a215 = L.circleMarker(\n",
       "                [50.9630564, 6.9236186],\n",
       "                {&quot;bubblingMouseEvents&quot;: true, &quot;color&quot;: &quot;red&quot;, &quot;dashArray&quot;: null, &quot;dashOffset&quot;: null, &quot;fill&quot;: false, &quot;fillColor&quot;: &quot;red&quot;, &quot;fillOpacity&quot;: 0.2, &quot;fillRule&quot;: &quot;evenodd&quot;, &quot;lineCap&quot;: &quot;round&quot;, &quot;lineJoin&quot;: &quot;round&quot;, &quot;opacity&quot;: 1.0, &quot;radius&quot;: 3, &quot;stroke&quot;: true, &quot;weight&quot;: 3}\n",
       "            ).addTo(map_4a13ae461c397a304e6e627a62e73105);\n",
       "        \n",
       "    \n",
       "        var popup_f09883800b788eb61a03f9f03c47c07a = L.popup({&quot;maxWidth&quot;: &quot;100%&quot;});\n",
       "\n",
       "        \n",
       "            \n",
       "                var html_f945dbca762ae93cfadcdf5d1b6d6627 = $(`&lt;div id=&quot;html_f945dbca762ae93cfadcdf5d1b6d6627&quot; style=&quot;width: 100.0%; height: 100.0%;&quot;&gt;node_id: 320064586  label: 23.75min&lt;/div&gt;`)[0];\n",
       "                popup_f09883800b788eb61a03f9f03c47c07a.setContent(html_f945dbca762ae93cfadcdf5d1b6d6627);\n",
       "            \n",
       "        \n",
       "\n",
       "        circle_marker_55c6f10311790a793ab4a6c35ee0a215.bindPopup(popup_f09883800b788eb61a03f9f03c47c07a)\n",
       "        ;\n",
       "\n",
       "        \n",
       "    \n",
       "    \n",
       "            var poly_line_e21d384d459f709d7e9794656d78056e = L.polyline(\n",
       "                [[50.9883329, 6.9646961], [50.9882423, 6.9646103], [50.9881889, 6.9645947], [50.9880821, 6.9646387], [50.9879814, 6.9639089], [50.9879131, 6.9639583], [50.9879037, 6.9617419], [50.9878053, 6.9617417], [50.9878031, 6.9613676], [50.987547, 6.9613627], [50.9875216, 6.9613534], [50.9874825, 6.9613392], [50.9874412, 6.9613241], [50.987427, 6.9613183], [50.9873258, 6.9612769], [50.9871961, 6.9612597], [50.9869923, 6.9612326], [50.9863187, 6.9611537], [50.9861486, 6.9611361], [50.9858405, 6.9611091], [50.9857529, 6.9611226], [50.9856539, 6.9611379], [50.9855929, 6.961133], [50.9855561, 6.961182], [50.9855166, 6.9611805], [50.9853055, 6.9611723], [50.9852716, 6.9611843], [50.9852085, 6.9612067], [50.9850586, 6.9611883], [50.9849173, 6.961171], [50.9848961, 6.9611405], [50.9848478, 6.9611218], [50.9847893, 6.9610991], [50.9846425, 6.9610752], [50.9844015, 6.9610517], [50.9842016, 6.9610301]],\n",
       "                {&quot;bubblingMouseEvents&quot;: true, &quot;color&quot;: &quot;red&quot;, &quot;dashArray&quot;: null, &quot;dashOffset&quot;: null, &quot;fill&quot;: false, &quot;fillColor&quot;: &quot;red&quot;, &quot;fillOpacity&quot;: 0.2, &quot;fillRule&quot;: &quot;evenodd&quot;, &quot;lineCap&quot;: &quot;round&quot;, &quot;lineJoin&quot;: &quot;round&quot;, &quot;noClip&quot;: false, &quot;opacity&quot;: 1.0, &quot;smoothFactor&quot;: 1.0, &quot;stroke&quot;: true, &quot;weight&quot;: 2}\n",
       "            ).addTo(map_4a13ae461c397a304e6e627a62e73105);\n",
       "        \n",
       "    \n",
       "            var poly_line_125fe6b83f34cc3faf9a51c0fa68c90c = L.polyline(\n",
       "                [[50.984167, 6.9610346], [50.9841054, 6.9610687], [50.9838173, 6.9610257], [50.9836651, 6.9610012], [50.9836316, 6.9609734], [50.9836203, 6.9609641], [50.9833821, 6.9609303], [50.9833066, 6.9609196], [50.9832374, 6.960901], [50.9830586, 6.9608825], [50.9830054, 6.960887], [50.9829298, 6.9609181], [50.982799, 6.9609065], [50.981856, 6.9607929], [50.9818124, 6.9608033], [50.9816412, 6.9607713], [50.9813844, 6.960755], [50.981227, 6.9607164], [50.9811845, 6.9607134], [50.9811579, 6.9607297], [50.9810282, 6.9607183], [50.9804464, 6.9606497], [50.9802379, 6.9606252], [50.9789863, 6.9604954], [50.9789153, 6.9604635], [50.9787197, 6.9604287], [50.9785159, 6.9604102], [50.9784159, 6.9604045], [50.9783247, 6.960397], [50.9781412, 6.9603893], [50.9778339, 6.9603567], [50.9777391, 6.9603463], [50.9773497, 6.9602989], [50.9772176, 6.960287], [50.9771681, 6.9602492], [50.9771189, 6.9601785], [50.9771215, 6.9601117], [50.977021, 6.9601001], [50.976849, 6.9600817], [50.9768035, 6.9600768], [50.9766043, 6.9600555], [50.9765086, 6.9599228], [50.9764464, 6.9598291], [50.9764171, 6.9597889], [50.9763749, 6.959731], [50.9758293, 6.9589829], [50.9757739, 6.9588512], [50.9754805, 6.9584215], [50.975389, 6.9583689], [50.9751629, 6.9580919], [50.9749696, 6.9577227], [50.9746996, 6.9574132], [50.9745411, 6.9572316], [50.9743328, 6.956993], [50.9742369, 6.9568831], [50.9741637, 6.9567992], [50.9740839, 6.9567115], [50.974003, 6.9566342], [50.9739374, 6.9565715], [50.973391, 6.9560382], [50.9730359, 6.9556896], [50.9726793, 6.9553395], [50.9722474, 6.9548829], [50.9723213, 6.9546085], [50.9723713, 6.9544216], [50.9724901, 6.9539683], [50.9725077, 6.9538199], [50.9725196, 6.9537189], [50.9725622, 6.9533716], [50.9725773, 6.9529801], [50.972552, 6.9525173], [50.9725208, 6.9520635], [50.9724527, 6.9514218], [50.9724438, 6.951329], [50.9724328, 6.951252], [50.9724022, 6.9510014], [50.9723235, 6.9508121], [50.9722388, 6.9501627], [50.9722065, 6.9498628], [50.9720931, 6.9487478], [50.9719758, 6.947672], [50.9719471, 6.9475305], [50.9718865, 6.947278], [50.9718341, 6.947166], [50.9717616, 6.9470849], [50.9717028, 6.9470021], [50.9715584, 6.9465183], [50.9715453, 6.9464019], [50.9715215, 6.9462347], [50.9715752, 6.9461908], [50.9716787, 6.9461122], [50.9717572, 6.946126], [50.9717671, 6.9460779], [50.9717073, 6.9460359], [50.9715907, 6.9459539], [50.9715092, 6.9457982], [50.9713883, 6.9454304], [50.9713681, 6.9452818], [50.9713776, 6.9451386], [50.9713966, 6.9450167], [50.9713963, 6.9448893], [50.9713738, 6.9447753], [50.9713252, 6.9446273], [50.9711425, 6.9442798], [50.9709555, 6.9440359], [50.9707152, 6.9437999], [50.9705035, 6.9437034], [50.9700126, 6.9433804], [50.9696558, 6.9430845], [50.969622, 6.9430502], [50.9695929, 6.9430073], [50.9695675, 6.9429651], [50.9695354, 6.9429095], [50.9695152, 6.9428658], [50.9695042, 6.9428216], [50.9694932, 6.9427773], [50.9694858, 6.9427315], [50.9694366, 6.9424189], [50.9694256, 6.942375], [50.9694104, 6.9423341], [50.9693936, 6.9423047], [50.9693712, 6.9422704], [50.96935, 6.9422469], [50.9693293, 6.9422264], [50.9693078, 6.9422107], [50.9692804, 6.9421986], [50.9692467, 6.9421898], [50.9692128, 6.9421872], [50.9691866, 6.9421899], [50.9691597, 6.9421972], [50.9691787, 6.9420941], [50.9691562, 6.9420981], [50.9691237, 6.9421108], [50.9690808, 6.9421381], [50.969035, 6.9421633], [50.9689586, 6.9422758], [50.9689351, 6.9423144], [50.9689144, 6.9423014], [50.9688799, 6.942252], [50.9688437, 6.9421933], [50.9688121, 6.9421276], [50.9688053, 6.9421182], [50.9687836, 6.9421034], [50.9687709, 6.942081], [50.9687641, 6.9420589], [50.968731, 6.9418959], [50.9687173, 6.9418278], [50.9687073, 6.9417645], [50.9686888, 6.941629], [50.9686731, 6.9414973], [50.9686668, 6.941447], [50.9686552, 6.9413432], [50.9686103, 6.9409353], [50.9685993, 6.9408345], [50.9685979, 6.9408219], [50.9686131, 6.9407871], [50.9686109, 6.9407221], [50.9686116, 6.9406544], [50.9686165, 6.9406063], [50.9686256, 6.9405444], [50.9686356, 6.9404996], [50.9686513, 6.9403668], [50.9686266, 6.9403379], [50.9686089, 6.9403171], [50.9685806, 6.9402798], [50.9685679, 6.9401619], [50.9685567, 6.9400569], [50.9685439, 6.9399378], [50.9686285, 6.9397038], [50.9686521, 6.9396306], [50.9685672, 6.9394825], [50.96849, 6.9393028], [50.9683641, 6.9390184], [50.9681257, 6.9385845], [50.9680183, 6.93838], [50.9678976, 6.938185], [50.9677342, 6.9379072], [50.9675454, 6.9376131], [50.9674092, 6.9374101], [50.9672392, 6.9371476], [50.9671808, 6.9370634], [50.9669326, 6.9367061], [50.9668541, 6.9365842], [50.9665901, 6.9361862], [50.9663318, 6.9357991], [50.9660745, 6.9354302], [50.9658156, 6.9350423], [50.9655818, 6.9346949], [50.9654352, 6.9344828], [50.9652886, 6.9342558], [50.9652278, 6.9341502], [50.9650585, 6.9339156], [50.9649732, 6.9338058], [50.9649067, 6.9336573], [50.9649015, 6.933592], [50.9648484, 6.9335892], [50.9647976, 6.9335641], [50.9647233, 6.9334784], [50.9646585, 6.9333839], [50.9646623, 6.933332], [50.9646621, 6.9332187], [50.9646618, 6.9330882], [50.9645628, 6.9330885], [50.9645521, 6.9331018], [50.964541, 6.9331086], [50.9644581, 6.9331132], [50.9644384, 6.9331066], [50.9644219, 6.9330899], [50.9643994, 6.9330643], [50.9642791, 6.932882], [50.9642601, 6.9328639], [50.9642311, 6.9328556], [50.9642369, 6.9327895], [50.9642436, 6.9322106], [50.9642429, 6.9320884], [50.9642439, 6.9315974], [50.9642456, 6.9314128], [50.9642496, 6.9306018], [50.9642492, 6.9303894], [50.964254, 6.9300961], [50.9642539, 6.9300921], [50.9642458, 6.9297921], [50.9642441, 6.9293435], [50.9642454, 6.9286314], [50.9642416, 6.9285817], [50.9642297, 6.9285268], [50.9642035, 6.9284651], [50.9639261, 6.9278844], [50.9638226, 6.9276591], [50.9637854, 6.9275687], [50.9643105, 6.9269326], [50.9642954, 6.926903], [50.964215, 6.9267334], [50.9641697, 6.9267816], [50.9640884, 6.9266032], [50.964054, 6.9265242], [50.9641017, 6.9264692], [50.9640591, 6.9263712], [50.9640314, 6.9263114], [50.9640794, 6.9262559], [50.9640759, 6.9262072], [50.9641072, 6.9261717], [50.963997, 6.9259343], [50.9640844, 6.9258277], [50.9640386, 6.9257293], [50.9639866, 6.925611], [50.9631098, 6.9237404], [50.9630564, 6.9236186], [50.9630564, 6.9236186]],\n",
       "                {&quot;bubblingMouseEvents&quot;: true, &quot;color&quot;: &quot;blue&quot;, &quot;dashArray&quot;: null, &quot;dashOffset&quot;: null, &quot;fill&quot;: false, &quot;fillColor&quot;: &quot;blue&quot;, &quot;fillOpacity&quot;: 0.2, &quot;fillRule&quot;: &quot;evenodd&quot;, &quot;lineCap&quot;: &quot;round&quot;, &quot;lineJoin&quot;: &quot;round&quot;, &quot;noClip&quot;: false, &quot;opacity&quot;: 1.0, &quot;smoothFactor&quot;: 1.0, &quot;stroke&quot;: true, &quot;weight&quot;: 2}\n",
       "            ).addTo(map_4a13ae461c397a304e6e627a62e73105);\n",
       "        \n",
       "    \n",
       "            var circle_marker_05ad455532abb9ce120cc77a43d43eda = L.circleMarker(\n",
       "                [50.9844806, 6.9569928],\n",
       "                {&quot;bubblingMouseEvents&quot;: true, &quot;color&quot;: &quot;red&quot;, &quot;dashArray&quot;: null, &quot;dashOffset&quot;: null, &quot;fill&quot;: false, &quot;fillColor&quot;: &quot;red&quot;, &quot;fillOpacity&quot;: 0.2, &quot;fillRule&quot;: &quot;evenodd&quot;, &quot;lineCap&quot;: &quot;round&quot;, &quot;lineJoin&quot;: &quot;round&quot;, &quot;opacity&quot;: 1.0, &quot;radius&quot;: 3, &quot;stroke&quot;: true, &quot;weight&quot;: 3}\n",
       "            ).addTo(map_4a13ae461c397a304e6e627a62e73105);\n",
       "        \n",
       "    \n",
       "        var popup_7a9577c7457b7e6c9aab5537f53b63c4 = L.popup({&quot;maxWidth&quot;: &quot;100%&quot;});\n",
       "\n",
       "        \n",
       "            \n",
       "                var html_156ce28607a52bee5997f23d63d95b40 = $(`&lt;div id=&quot;html_156ce28607a52bee5997f23d63d95b40&quot; style=&quot;width: 100.0%; height: 100.0%;&quot;&gt;node_id: 62419495  label: 13.53min&lt;/div&gt;`)[0];\n",
       "                popup_7a9577c7457b7e6c9aab5537f53b63c4.setContent(html_156ce28607a52bee5997f23d63d95b40);\n",
       "            \n",
       "        \n",
       "\n",
       "        circle_marker_05ad455532abb9ce120cc77a43d43eda.bindPopup(popup_7a9577c7457b7e6c9aab5537f53b63c4)\n",
       "        ;\n",
       "\n",
       "        \n",
       "    \n",
       "    \n",
       "            var poly_line_f1d712478c44aed56a96520b0dab2114 = L.polyline(\n",
       "                [[50.9883329, 6.9646961], [50.9882423, 6.9646103], [50.9881889, 6.9645947], [50.9880821, 6.9646387], [50.9879814, 6.9639089], [50.9879131, 6.9639583], [50.9879037, 6.9617419], [50.9878053, 6.9617417], [50.9878031, 6.9613676], [50.987547, 6.9613627], [50.9875216, 6.9613534], [50.9874825, 6.9613392], [50.9874412, 6.9613241], [50.987427, 6.9613183], [50.9873258, 6.9612769], [50.9871961, 6.9612597], [50.9869923, 6.9612326], [50.9863187, 6.9611537], [50.9861486, 6.9611361], [50.9858405, 6.9611091], [50.9857529, 6.9611226], [50.9856539, 6.9611379], [50.9855929, 6.961133], [50.9855561, 6.961182], [50.9855166, 6.9611805], [50.9853055, 6.9611723], [50.9852716, 6.9611843], [50.9852085, 6.9612067], [50.9850586, 6.9611883], [50.9849173, 6.961171], [50.9848961, 6.9611405], [50.9848478, 6.9611218], [50.9847893, 6.9610991], [50.9846425, 6.9610752], [50.9844015, 6.9610517], [50.9842016, 6.9610301]],\n",
       "                {&quot;bubblingMouseEvents&quot;: true, &quot;color&quot;: &quot;red&quot;, &quot;dashArray&quot;: null, &quot;dashOffset&quot;: null, &quot;fill&quot;: false, &quot;fillColor&quot;: &quot;red&quot;, &quot;fillOpacity&quot;: 0.2, &quot;fillRule&quot;: &quot;evenodd&quot;, &quot;lineCap&quot;: &quot;round&quot;, &quot;lineJoin&quot;: &quot;round&quot;, &quot;noClip&quot;: false, &quot;opacity&quot;: 1.0, &quot;smoothFactor&quot;: 1.0, &quot;stroke&quot;: true, &quot;weight&quot;: 2}\n",
       "            ).addTo(map_4a13ae461c397a304e6e627a62e73105);\n",
       "        \n",
       "    \n",
       "            var poly_line_2ed358830828f6abda0668c9d9616902 = L.polyline(\n",
       "                [[50.984167, 6.9610346], [50.9841054, 6.9610687], [50.9838173, 6.9610257], [50.9836651, 6.9610012], [50.9836316, 6.9609734], [50.9836203, 6.9609641], [50.9833821, 6.9609303], [50.9833066, 6.9609196], [50.9832374, 6.960901], [50.9830586, 6.9608825], [50.9830054, 6.960887], [50.9829298, 6.9609181], [50.982799, 6.9609065], [50.981856, 6.9607929], [50.9818124, 6.9608033], [50.9816412, 6.9607713], [50.9813844, 6.960755], [50.981227, 6.9607164], [50.9811845, 6.9607134], [50.9811579, 6.9607297], [50.9810282, 6.9607183], [50.9804464, 6.9606497], [50.9802379, 6.9606252], [50.9789863, 6.9604954], [50.9789153, 6.9604635], [50.9787197, 6.9604287], [50.9785159, 6.9604102], [50.9785207, 6.9602758], [50.9785249, 6.9601551], [50.9784149, 6.9601429], [50.9785765, 6.959914], [50.9786911, 6.9599145], [50.9787827, 6.9598962], [50.9788828, 6.9598234], [50.9789478, 6.9597214], [50.9791954, 6.9593052], [50.9794273, 6.9589842], [50.9794569, 6.9589046], [50.9794764, 6.9588115], [50.9794802, 6.9585815], [50.9794752, 6.9582817], [50.9795478, 6.9582654], [50.9798711, 6.9582], [50.9801952, 6.958134], [50.9804353, 6.9580838], [50.9834368, 6.9574391], [50.9839244, 6.9573352], [50.9840565, 6.9573006], [50.9841713, 6.9572569], [50.9842708, 6.9572024], [50.9843723, 6.9571175], [50.9844806, 6.9569928], [50.9844806, 6.9569928]],\n",
       "                {&quot;bubblingMouseEvents&quot;: true, &quot;color&quot;: &quot;blue&quot;, &quot;dashArray&quot;: null, &quot;dashOffset&quot;: null, &quot;fill&quot;: false, &quot;fillColor&quot;: &quot;blue&quot;, &quot;fillOpacity&quot;: 0.2, &quot;fillRule&quot;: &quot;evenodd&quot;, &quot;lineCap&quot;: &quot;round&quot;, &quot;lineJoin&quot;: &quot;round&quot;, &quot;noClip&quot;: false, &quot;opacity&quot;: 1.0, &quot;smoothFactor&quot;: 1.0, &quot;stroke&quot;: true, &quot;weight&quot;: 2}\n",
       "            ).addTo(map_4a13ae461c397a304e6e627a62e73105);\n",
       "        \n",
       "    \n",
       "            var circle_marker_f71e3af33833df52300d841fcdef4c91 = L.circleMarker(\n",
       "                [50.9612243, 6.9289282],\n",
       "                {&quot;bubblingMouseEvents&quot;: true, &quot;color&quot;: &quot;red&quot;, &quot;dashArray&quot;: null, &quot;dashOffset&quot;: null, &quot;fill&quot;: false, &quot;fillColor&quot;: &quot;red&quot;, &quot;fillOpacity&quot;: 0.2, &quot;fillRule&quot;: &quot;evenodd&quot;, &quot;lineCap&quot;: &quot;round&quot;, &quot;lineJoin&quot;: &quot;round&quot;, &quot;opacity&quot;: 1.0, &quot;radius&quot;: 3, &quot;stroke&quot;: true, &quot;weight&quot;: 3}\n",
       "            ).addTo(map_4a13ae461c397a304e6e627a62e73105);\n",
       "        \n",
       "    \n",
       "        var popup_326d9012e53421ae8c50feefb7d7e858 = L.popup({&quot;maxWidth&quot;: &quot;100%&quot;});\n",
       "\n",
       "        \n",
       "            \n",
       "                var html_ed684d0c01ad520f4b7e34f4d4124760 = $(`&lt;div id=&quot;html_ed684d0c01ad520f4b7e34f4d4124760&quot; style=&quot;width: 100.0%; height: 100.0%;&quot;&gt;node_id: 293894330  label: 22.7min&lt;/div&gt;`)[0];\n",
       "                popup_326d9012e53421ae8c50feefb7d7e858.setContent(html_ed684d0c01ad520f4b7e34f4d4124760);\n",
       "            \n",
       "        \n",
       "\n",
       "        circle_marker_f71e3af33833df52300d841fcdef4c91.bindPopup(popup_326d9012e53421ae8c50feefb7d7e858)\n",
       "        ;\n",
       "\n",
       "        \n",
       "    \n",
       "    \n",
       "            var poly_line_6cfbf335ccd3481a691410e63b7b8b89 = L.polyline(\n",
       "                [[50.9883329, 6.9646961], [50.9882423, 6.9646103], [50.9881889, 6.9645947], [50.9880821, 6.9646387], [50.9879814, 6.9639089], [50.9879131, 6.9639583], [50.9879037, 6.9617419], [50.9878053, 6.9617417], [50.9878031, 6.9613676], [50.987547, 6.9613627], [50.9875216, 6.9613534], [50.9874825, 6.9613392], [50.9874412, 6.9613241], [50.987427, 6.9613183], [50.9873258, 6.9612769], [50.9871961, 6.9612597], [50.9869923, 6.9612326], [50.9863187, 6.9611537], [50.9861486, 6.9611361], [50.9858405, 6.9611091], [50.9857529, 6.9611226], [50.9856539, 6.9611379], [50.9855929, 6.961133], [50.9855561, 6.961182], [50.9855166, 6.9611805], [50.9853055, 6.9611723], [50.9852716, 6.9611843], [50.9852085, 6.9612067], [50.9850586, 6.9611883], [50.9849173, 6.961171], [50.9848961, 6.9611405], [50.9848478, 6.9611218], [50.9847893, 6.9610991], [50.9846425, 6.9610752], [50.9844015, 6.9610517], [50.9842016, 6.9610301]],\n",
       "                {&quot;bubblingMouseEvents&quot;: true, &quot;color&quot;: &quot;red&quot;, &quot;dashArray&quot;: null, &quot;dashOffset&quot;: null, &quot;fill&quot;: false, &quot;fillColor&quot;: &quot;red&quot;, &quot;fillOpacity&quot;: 0.2, &quot;fillRule&quot;: &quot;evenodd&quot;, &quot;lineCap&quot;: &quot;round&quot;, &quot;lineJoin&quot;: &quot;round&quot;, &quot;noClip&quot;: false, &quot;opacity&quot;: 1.0, &quot;smoothFactor&quot;: 1.0, &quot;stroke&quot;: true, &quot;weight&quot;: 2}\n",
       "            ).addTo(map_4a13ae461c397a304e6e627a62e73105);\n",
       "        \n",
       "    \n",
       "            var poly_line_9c825fa9e0dff7eff7981ddaee6d883e = L.polyline(\n",
       "                [[50.984167, 6.9610346], [50.9841054, 6.9610687], [50.9838173, 6.9610257], [50.9836651, 6.9610012], [50.9836316, 6.9609734], [50.9836203, 6.9609641], [50.9833821, 6.9609303], [50.9833066, 6.9609196], [50.9832374, 6.960901], [50.9830586, 6.9608825], [50.9830054, 6.960887], [50.9829298, 6.9609181], [50.982799, 6.9609065], [50.981856, 6.9607929], [50.9818124, 6.9608033], [50.9816412, 6.9607713], [50.9813844, 6.960755], [50.981227, 6.9607164], [50.9811845, 6.9607134], [50.9811579, 6.9607297], [50.9810282, 6.9607183], [50.9804464, 6.9606497], [50.9802379, 6.9606252], [50.9789863, 6.9604954], [50.9789153, 6.9604635], [50.9787197, 6.9604287], [50.9785159, 6.9604102], [50.9784159, 6.9604045], [50.9783247, 6.960397], [50.9781412, 6.9603893], [50.9778339, 6.9603567], [50.9777391, 6.9603463], [50.9773497, 6.9602989], [50.9772176, 6.960287], [50.9771681, 6.9602492], [50.9771189, 6.9601785], [50.9771215, 6.9601117], [50.977021, 6.9601001], [50.976849, 6.9600817], [50.9768035, 6.9600768], [50.9766043, 6.9600555], [50.9765086, 6.9599228], [50.9764464, 6.9598291], [50.9764171, 6.9597889], [50.9763749, 6.959731], [50.9758293, 6.9589829], [50.9757739, 6.9588512], [50.9754805, 6.9584215], [50.975389, 6.9583689], [50.9751629, 6.9580919], [50.9749696, 6.9577227], [50.9746996, 6.9574132], [50.9745411, 6.9572316], [50.9743328, 6.956993], [50.9742369, 6.9568831], [50.9741637, 6.9567992], [50.9740839, 6.9567115], [50.974003, 6.9566342], [50.9739374, 6.9565715], [50.973391, 6.9560382], [50.9730359, 6.9556896], [50.9726793, 6.9553395], [50.9722474, 6.9548829], [50.9723213, 6.9546085], [50.9723713, 6.9544216], [50.9724901, 6.9539683], [50.9725077, 6.9538199], [50.9725196, 6.9537189], [50.9725622, 6.9533716], [50.9725773, 6.9529801], [50.972552, 6.9525173], [50.9725208, 6.9520635], [50.9724527, 6.9514218], [50.9724438, 6.951329], [50.9724328, 6.951252], [50.9724022, 6.9510014], [50.9723235, 6.9508121], [50.9722388, 6.9501627], [50.9722065, 6.9498628], [50.9720931, 6.9487478], [50.9719758, 6.947672], [50.9719471, 6.9475305], [50.9718865, 6.947278], [50.9718341, 6.947166], [50.9717616, 6.9470849], [50.9717028, 6.9470021], [50.9715584, 6.9465183], [50.9715453, 6.9464019], [50.9715215, 6.9462347], [50.9715752, 6.9461908], [50.9716787, 6.9461122], [50.9717572, 6.946126], [50.9717671, 6.9460779], [50.9717073, 6.9460359], [50.9715907, 6.9459539], [50.9715092, 6.9457982], [50.9713883, 6.9454304], [50.9713681, 6.9452818], [50.9713776, 6.9451386], [50.9713966, 6.9450167], [50.9713963, 6.9448893], [50.9713738, 6.9447753], [50.9713252, 6.9446273], [50.9711425, 6.9442798], [50.9709555, 6.9440359], [50.9707152, 6.9437999], [50.9705035, 6.9437034], [50.9700126, 6.9433804], [50.9696558, 6.9430845], [50.969622, 6.9430502], [50.9695929, 6.9430073], [50.9695675, 6.9429651], [50.9695354, 6.9429095], [50.9695152, 6.9428658], [50.9695042, 6.9428216], [50.9694932, 6.9427773], [50.9694858, 6.9427315], [50.9694366, 6.9424189], [50.9694256, 6.942375], [50.9694104, 6.9423341], [50.9693936, 6.9423047], [50.9693712, 6.9422704], [50.96935, 6.9422469], [50.9693293, 6.9422264], [50.9693078, 6.9422107], [50.9692804, 6.9421986], [50.9692467, 6.9421898], [50.9692128, 6.9421872], [50.9691866, 6.9421899], [50.9691597, 6.9421972], [50.9691787, 6.9420941], [50.9691562, 6.9420981], [50.9691237, 6.9421108], [50.9690808, 6.9421381], [50.969035, 6.9421633], [50.9689586, 6.9422758], [50.9689351, 6.9423144], [50.9689144, 6.9423014], [50.9688799, 6.942252], [50.9688437, 6.9421933], [50.9688121, 6.9421276], [50.9688053, 6.9421182], [50.9687836, 6.9421034], [50.9687709, 6.942081], [50.9687641, 6.9420589], [50.968731, 6.9418959], [50.9687173, 6.9418278], [50.9687073, 6.9417645], [50.9686888, 6.941629], [50.9686731, 6.9414973], [50.9686668, 6.941447], [50.9686552, 6.9413432], [50.9686103, 6.9409353], [50.9685993, 6.9408345], [50.9685979, 6.9408219], [50.9686131, 6.9407871], [50.9686109, 6.9407221], [50.9686116, 6.9406544], [50.9686165, 6.9406063], [50.9686256, 6.9405444], [50.9686356, 6.9404996], [50.9686513, 6.9403668], [50.9686266, 6.9403379], [50.9686089, 6.9403171], [50.9685806, 6.9402798], [50.9685679, 6.9401619], [50.9685567, 6.9400569], [50.9685439, 6.9399378], [50.9686285, 6.9397038], [50.9686521, 6.9396306], [50.9685672, 6.9394825], [50.96849, 6.9393028], [50.9683641, 6.9390184], [50.9681257, 6.9385845], [50.9680183, 6.93838], [50.9678976, 6.938185], [50.9677342, 6.9379072], [50.9675454, 6.9376131], [50.9674092, 6.9374101], [50.9672392, 6.9371476], [50.9671808, 6.9370634], [50.9669326, 6.9367061], [50.9668541, 6.9365842], [50.9665901, 6.9361862], [50.9663318, 6.9357991], [50.9660745, 6.9354302], [50.9658156, 6.9350423], [50.9655818, 6.9346949], [50.9654352, 6.9344828], [50.9652886, 6.9342558], [50.9652278, 6.9341502], [50.9650585, 6.9339156], [50.9649732, 6.9338058], [50.9649067, 6.9336573], [50.9649015, 6.933592], [50.9648484, 6.9335892], [50.9647976, 6.9335641], [50.9647233, 6.9334784], [50.9646585, 6.9333839], [50.9646623, 6.933332], [50.9645603, 6.9332834], [50.9644948, 6.9332257], [50.9643745, 6.9331097], [50.9642008, 6.9329704], [50.9641322, 6.9329316], [50.9640148, 6.932831], [50.9636774, 6.9325346], [50.9631953, 6.9321282], [50.9630264, 6.9319786], [50.9628038, 6.9318372], [50.962656, 6.9317415], [50.9624081, 6.9315176], [50.9620987, 6.9312029], [50.9618334, 6.9308922], [50.9614991, 6.9305007], [50.9615158, 6.9304654], [50.9615206, 6.9303398], [50.9615258, 6.9301623], [50.9615432, 6.9299731], [50.9616461, 6.9298557], [50.9614208, 6.9293547], [50.9613505, 6.9291979], [50.9613146, 6.9291245], [50.9612243, 6.9289282]],\n",
       "                {&quot;bubblingMouseEvents&quot;: true, &quot;color&quot;: &quot;blue&quot;, &quot;dashArray&quot;: null, &quot;dashOffset&quot;: null, &quot;fill&quot;: false, &quot;fillColor&quot;: &quot;blue&quot;, &quot;fillOpacity&quot;: 0.2, &quot;fillRule&quot;: &quot;evenodd&quot;, &quot;lineCap&quot;: &quot;round&quot;, &quot;lineJoin&quot;: &quot;round&quot;, &quot;noClip&quot;: false, &quot;opacity&quot;: 1.0, &quot;smoothFactor&quot;: 1.0, &quot;stroke&quot;: true, &quot;weight&quot;: 2}\n",
       "            ).addTo(map_4a13ae461c397a304e6e627a62e73105);\n",
       "        \n",
       "    \n",
       "            var circle_marker_73bbdbbb3d74403fb692ce89401b4580 = L.circleMarker(\n",
       "                [50.9516855, 6.9187272],\n",
       "                {&quot;bubblingMouseEvents&quot;: true, &quot;color&quot;: &quot;red&quot;, &quot;dashArray&quot;: null, &quot;dashOffset&quot;: null, &quot;fill&quot;: false, &quot;fillColor&quot;: &quot;red&quot;, &quot;fillOpacity&quot;: 0.2, &quot;fillRule&quot;: &quot;evenodd&quot;, &quot;lineCap&quot;: &quot;round&quot;, &quot;lineJoin&quot;: &quot;round&quot;, &quot;opacity&quot;: 1.0, &quot;radius&quot;: 3, &quot;stroke&quot;: true, &quot;weight&quot;: 3}\n",
       "            ).addTo(map_4a13ae461c397a304e6e627a62e73105);\n",
       "        \n",
       "    \n",
       "        var popup_9f1020c50acfaa1455ea807e9012d95c = L.popup({&quot;maxWidth&quot;: &quot;100%&quot;});\n",
       "\n",
       "        \n",
       "            \n",
       "                var html_2eb2c55106865dcfa91c1d6521cc23ca = $(`&lt;div id=&quot;html_2eb2c55106865dcfa91c1d6521cc23ca&quot; style=&quot;width: 100.0%; height: 100.0%;&quot;&gt;node_id: 3373081986  label: 27.48min&lt;/div&gt;`)[0];\n",
       "                popup_9f1020c50acfaa1455ea807e9012d95c.setContent(html_2eb2c55106865dcfa91c1d6521cc23ca);\n",
       "            \n",
       "        \n",
       "\n",
       "        circle_marker_73bbdbbb3d74403fb692ce89401b4580.bindPopup(popup_9f1020c50acfaa1455ea807e9012d95c)\n",
       "        ;\n",
       "\n",
       "        \n",
       "    \n",
       "    \n",
       "            var poly_line_bb72aad651e5e53f780e4286942c253b = L.polyline(\n",
       "                [[50.9883329, 6.9646961], [50.9882423, 6.9646103], [50.9881889, 6.9645947], [50.9880821, 6.9646387], [50.9879814, 6.9639089], [50.9879131, 6.9639583], [50.9879037, 6.9617419], [50.9878053, 6.9617417], [50.9878031, 6.9613676], [50.987547, 6.9613627], [50.9875216, 6.9613534], [50.9874825, 6.9613392], [50.9874412, 6.9613241], [50.987427, 6.9613183], [50.9873258, 6.9612769], [50.9871961, 6.9612597], [50.9869923, 6.9612326], [50.9863187, 6.9611537], [50.9861486, 6.9611361], [50.9858405, 6.9611091], [50.9857529, 6.9611226], [50.9856539, 6.9611379], [50.9855929, 6.961133], [50.9855561, 6.961182], [50.9855166, 6.9611805], [50.9853055, 6.9611723], [50.9852716, 6.9611843], [50.9852085, 6.9612067], [50.9850586, 6.9611883], [50.9849173, 6.961171], [50.9848961, 6.9611405], [50.9848478, 6.9611218], [50.9847893, 6.9610991], [50.9846425, 6.9610752], [50.9844015, 6.9610517], [50.9842016, 6.9610301]],\n",
       "                {&quot;bubblingMouseEvents&quot;: true, &quot;color&quot;: &quot;red&quot;, &quot;dashArray&quot;: null, &quot;dashOffset&quot;: null, &quot;fill&quot;: false, &quot;fillColor&quot;: &quot;red&quot;, &quot;fillOpacity&quot;: 0.2, &quot;fillRule&quot;: &quot;evenodd&quot;, &quot;lineCap&quot;: &quot;round&quot;, &quot;lineJoin&quot;: &quot;round&quot;, &quot;noClip&quot;: false, &quot;opacity&quot;: 1.0, &quot;smoothFactor&quot;: 1.0, &quot;stroke&quot;: true, &quot;weight&quot;: 2}\n",
       "            ).addTo(map_4a13ae461c397a304e6e627a62e73105);\n",
       "        \n",
       "    \n",
       "            var poly_line_2864ba4fcc418d6d5f3f9ba198a3ff6a = L.polyline(\n",
       "                [[50.984167, 6.9610346], [50.9841054, 6.9610687], [50.9838173, 6.9610257], [50.9836651, 6.9610012], [50.9836316, 6.9609734], [50.9836203, 6.9609641], [50.9833821, 6.9609303], [50.9833066, 6.9609196], [50.9832374, 6.960901], [50.9830586, 6.9608825], [50.9830054, 6.960887], [50.9829298, 6.9609181], [50.982799, 6.9609065], [50.981856, 6.9607929], [50.9818124, 6.9608033], [50.9816412, 6.9607713], [50.9813844, 6.960755], [50.981227, 6.9607164], [50.9811845, 6.9607134], [50.9811579, 6.9607297], [50.9810282, 6.9607183], [50.9804464, 6.9606497], [50.9802379, 6.9606252], [50.9789863, 6.9604954], [50.9789153, 6.9604635], [50.9787197, 6.9604287], [50.9785159, 6.9604102], [50.9784159, 6.9604045], [50.9783247, 6.960397], [50.9781412, 6.9603893], [50.9778339, 6.9603567], [50.9777391, 6.9603463], [50.9773497, 6.9602989], [50.9772176, 6.960287], [50.9771681, 6.9602492], [50.9771189, 6.9601785], [50.9771215, 6.9601117], [50.977021, 6.9601001], [50.976849, 6.9600817], [50.9768035, 6.9600768], [50.9766043, 6.9600555], [50.9765086, 6.9599228], [50.9764464, 6.9598291], [50.9764171, 6.9597889], [50.9763749, 6.959731], [50.9758293, 6.9589829], [50.9757739, 6.9588512], [50.9754805, 6.9584215], [50.975389, 6.9583689], [50.9751629, 6.9580919], [50.9749696, 6.9577227], [50.9746996, 6.9574132], [50.9745411, 6.9572316], [50.9743328, 6.956993], [50.9742369, 6.9568831], [50.9741637, 6.9567992], [50.9740839, 6.9567115], [50.974003, 6.9566342], [50.9739374, 6.9565715], [50.973391, 6.9560382], [50.9730359, 6.9556896], [50.9726793, 6.9553395], [50.9722474, 6.9548829], [50.9723213, 6.9546085], [50.9723713, 6.9544216], [50.9724901, 6.9539683], [50.9725077, 6.9538199], [50.9725196, 6.9537189], [50.9725622, 6.9533716], [50.9725773, 6.9529801], [50.972552, 6.9525173], [50.9725208, 6.9520635], [50.9724527, 6.9514218], [50.9724438, 6.951329], [50.9724328, 6.951252], [50.9724022, 6.9510014], [50.9723235, 6.9508121], [50.9722388, 6.9501627], [50.9722065, 6.9498628], [50.9720931, 6.9487478], [50.9719758, 6.947672], [50.9719471, 6.9475305], [50.9718865, 6.947278], [50.9718341, 6.947166], [50.9717616, 6.9470849], [50.9717028, 6.9470021], [50.9715584, 6.9465183], [50.9715453, 6.9464019], [50.9715215, 6.9462347], [50.9715752, 6.9461908], [50.9716787, 6.9461122], [50.9717572, 6.946126], [50.9717671, 6.9460779], [50.9717073, 6.9460359], [50.9715907, 6.9459539], [50.9715092, 6.9457982], [50.9713883, 6.9454304], [50.9713681, 6.9452818], [50.9713776, 6.9451386], [50.9713966, 6.9450167], [50.9713963, 6.9448893], [50.9713738, 6.9447753], [50.9713252, 6.9446273], [50.9711425, 6.9442798], [50.9709555, 6.9440359], [50.9707152, 6.9437999], [50.9705035, 6.9437034], [50.9700126, 6.9433804], [50.9696558, 6.9430845], [50.969622, 6.9430502], [50.9695929, 6.9430073], [50.9695675, 6.9429651], [50.9695354, 6.9429095], [50.9695152, 6.9428658], [50.9695042, 6.9428216], [50.9694932, 6.9427773], [50.9694858, 6.9427315], [50.9694366, 6.9424189], [50.9694256, 6.942375], [50.9694104, 6.9423341], [50.9693936, 6.9423047], [50.9693712, 6.9422704], [50.96935, 6.9422469], [50.9693293, 6.9422264], [50.9693078, 6.9422107], [50.9692804, 6.9421986], [50.9692467, 6.9421898], [50.9692128, 6.9421872], [50.9691866, 6.9421899], [50.9691597, 6.9421972], [50.9691787, 6.9420941], [50.9691562, 6.9420981], [50.9691237, 6.9421108], [50.9690808, 6.9421381], [50.969035, 6.9421633], [50.9689586, 6.9422758], [50.9689351, 6.9423144], [50.9689144, 6.9423014], [50.9688799, 6.942252], [50.9688437, 6.9421933], [50.9688121, 6.9421276], [50.9688053, 6.9421182], [50.9687836, 6.9421034], [50.9687709, 6.942081], [50.9687641, 6.9420589], [50.968731, 6.9418959], [50.9687173, 6.9418278], [50.9687073, 6.9417645], [50.9686888, 6.941629], [50.9686731, 6.9414973], [50.9686668, 6.941447], [50.9686552, 6.9413432], [50.9686546, 6.9413432], [50.9686313, 6.941349], [50.9685183, 6.9413763], [50.9685158, 6.9413511], [50.9685128, 6.9413226], [50.9684936, 6.9413269], [50.968447, 6.9413374], [50.9684224, 6.9413409], [50.9683246, 6.9413559], [50.968323, 6.941356], [50.9683032, 6.9411744], [50.9682804, 6.9409935], [50.9682642, 6.94088], [50.9682612, 6.9408713], [50.9682422, 6.9408428], [50.9682364, 6.9408299], [50.968213, 6.9407535], [50.9681978, 6.9407132], [50.968175, 6.9406629], [50.9681441, 6.9406175], [50.968152, 6.9405962], [50.968112, 6.9405476], [50.9681264, 6.9405009], [50.9681552, 6.940449], [50.9681474, 6.9403435], [50.9681394, 6.9402446], [50.9681321, 6.9400891], [50.9680621, 6.9400422], [50.9680287, 6.9399954], [50.9680644, 6.9398035], [50.9680622, 6.939639], [50.9680379, 6.9394149], [50.9679938, 6.9391686], [50.9679277, 6.938976], [50.9678745, 6.9388672], [50.9677593, 6.9386562], [50.9676003, 6.9384045], [50.9675322, 6.9382968], [50.9673482, 6.9380181], [50.9667035, 6.9370373], [50.9660776, 6.9360815], [50.9654692, 6.9352041], [50.9651897, 6.9348082], [50.9650044, 6.9345724], [50.964761, 6.9342725], [50.964697, 6.9341976], [50.9646521, 6.9341598], [50.9646267, 6.9341345], [50.9645494, 6.9341149], [50.9645065, 6.9341108], [50.9644882, 6.9340608], [50.9644698, 6.9340213], [50.9644168, 6.9339604], [50.9643376, 6.9338611], [50.9642861, 6.9338468], [50.9642737, 6.9337782], [50.9642297, 6.933606], [50.9640388, 6.9333872], [50.9638436, 6.9331996], [50.9636939, 6.9330415], [50.9635709, 6.9329115], [50.9632949, 6.9326624], [50.9631483, 6.9325487], [50.9630481, 6.932471], [50.9629482, 6.9323926], [50.9628737, 6.9323301], [50.9627282, 6.9322263], [50.962699, 6.9322018], [50.9625929, 6.9321127], [50.9625311, 6.9319208], [50.9624344, 6.9318227], [50.9621878, 6.9316036], [50.9618302, 6.9312353], [50.9615459, 6.9309175], [50.9613942, 6.9308934], [50.9613429, 6.9308392], [50.9612693, 6.930757], [50.9611767, 6.9306265], [50.9611183, 6.9305576], [50.9611082, 6.9305456], [50.9610966, 6.9304111], [50.9610843, 6.9303438], [50.9608952, 6.930073], [50.9606606, 6.9297249], [50.9604668, 6.9293971], [50.9603556, 6.9292132], [50.9602877, 6.9291341], [50.9601687, 6.9289961], [50.9601031, 6.9289479], [50.959924, 6.9285979], [50.9598971, 6.9285435], [50.9596594, 6.9280306], [50.9595459, 6.9277708], [50.9594129, 6.9274695], [50.9593925, 6.927426], [50.9591757, 6.9269687], [50.9589349, 6.9264792], [50.9587603, 6.9260872], [50.9586927, 6.9259329], [50.9586161, 6.9257671], [50.9584534, 6.9254276], [50.9583393, 6.9252156], [50.9582061, 6.9250066], [50.9580568, 6.9248058], [50.9579312, 6.924659], [50.9577556, 6.9244981], [50.9575839, 6.9243301], [50.9573593, 6.9241289], [50.9573434, 6.9241128], [50.9567473, 6.9234967], [50.9566386, 6.9233817], [50.9566253, 6.923369], [50.956125, 6.9228923], [50.9560349, 6.9228068], [50.9559313, 6.9227018], [50.9554631, 6.922227], [50.9554274, 6.9221915], [50.9553857, 6.9221501], [50.9550274, 6.9217939], [50.9545323, 6.9212844], [50.9544488, 6.9211857], [50.95442, 6.9211435], [50.9543612, 6.9210534], [50.9537893, 6.9204834], [50.9537741, 6.9204682], [50.9537677, 6.9204852], [50.9537528, 6.920523], [50.9537273, 6.9204959], [50.9537, 6.9204666], [50.9536875, 6.9204532], [50.9536797, 6.9204449], [50.9536416, 6.9204043], [50.9535794, 6.9203404], [50.9535186, 6.920278], [50.9534246, 6.9202035], [50.9531737, 6.9199577], [50.9530451, 6.9198332], [50.9528267, 6.9195857], [50.9524174, 6.9191851], [50.9522951, 6.9190817], [50.9522114, 6.9190538], [50.9521086, 6.9190133], [50.9520576, 6.9189393], [50.9519975, 6.9189487], [50.9518159, 6.9190119], [50.9516823, 6.9190583], [50.9516723, 6.9189788], [50.9516514, 6.9187355], [50.951663, 6.9187326], [50.9516855, 6.9187272], [50.9516855, 6.9187272]],\n",
       "                {&quot;bubblingMouseEvents&quot;: true, &quot;color&quot;: &quot;blue&quot;, &quot;dashArray&quot;: null, &quot;dashOffset&quot;: null, &quot;fill&quot;: false, &quot;fillColor&quot;: &quot;blue&quot;, &quot;fillOpacity&quot;: 0.2, &quot;fillRule&quot;: &quot;evenodd&quot;, &quot;lineCap&quot;: &quot;round&quot;, &quot;lineJoin&quot;: &quot;round&quot;, &quot;noClip&quot;: false, &quot;opacity&quot;: 1.0, &quot;smoothFactor&quot;: 1.0, &quot;stroke&quot;: true, &quot;weight&quot;: 2}\n",
       "            ).addTo(map_4a13ae461c397a304e6e627a62e73105);\n",
       "        \n",
       "    \n",
       "            var circle_marker_af2ca35bec499395efc4175a5d80a2b7 = L.circleMarker(\n",
       "                [50.9723374, 6.9501726],\n",
       "                {&quot;bubblingMouseEvents&quot;: true, &quot;color&quot;: &quot;red&quot;, &quot;dashArray&quot;: null, &quot;dashOffset&quot;: null, &quot;fill&quot;: false, &quot;fillColor&quot;: &quot;red&quot;, &quot;fillOpacity&quot;: 0.2, &quot;fillRule&quot;: &quot;evenodd&quot;, &quot;lineCap&quot;: &quot;round&quot;, &quot;lineJoin&quot;: &quot;round&quot;, &quot;opacity&quot;: 1.0, &quot;radius&quot;: 3, &quot;stroke&quot;: true, &quot;weight&quot;: 3}\n",
       "            ).addTo(map_4a13ae461c397a304e6e627a62e73105);\n",
       "        \n",
       "    \n",
       "        var popup_2ef726bd198201d783609c04d75d92b5 = L.popup({&quot;maxWidth&quot;: &quot;100%&quot;});\n",
       "\n",
       "        \n",
       "            \n",
       "                var html_e0cd46b6aa96c63920f70ee8266da583 = $(`&lt;div id=&quot;html_e0cd46b6aa96c63920f70ee8266da583&quot; style=&quot;width: 100.0%; height: 100.0%;&quot;&gt;node_id: 1110726422  label: 14.82min&lt;/div&gt;`)[0];\n",
       "                popup_2ef726bd198201d783609c04d75d92b5.setContent(html_e0cd46b6aa96c63920f70ee8266da583);\n",
       "            \n",
       "        \n",
       "\n",
       "        circle_marker_af2ca35bec499395efc4175a5d80a2b7.bindPopup(popup_2ef726bd198201d783609c04d75d92b5)\n",
       "        ;\n",
       "\n",
       "        \n",
       "    \n",
       "    \n",
       "            var poly_line_c2c6a00027d2fce3065e959cc1d19267 = L.polyline(\n",
       "                [[50.9883329, 6.9646961], [50.9882423, 6.9646103], [50.9881889, 6.9645947], [50.9880821, 6.9646387], [50.9879814, 6.9639089], [50.9879131, 6.9639583], [50.9879037, 6.9617419], [50.9878053, 6.9617417], [50.9878031, 6.9613676], [50.987547, 6.9613627], [50.9875216, 6.9613534], [50.9874825, 6.9613392], [50.9874412, 6.9613241], [50.987427, 6.9613183], [50.9873258, 6.9612769], [50.9871961, 6.9612597], [50.9869923, 6.9612326], [50.9863187, 6.9611537], [50.9861486, 6.9611361], [50.9858405, 6.9611091], [50.9857529, 6.9611226], [50.9856539, 6.9611379], [50.9855929, 6.961133], [50.9855561, 6.961182], [50.9855166, 6.9611805], [50.9853055, 6.9611723], [50.9852716, 6.9611843], [50.9852085, 6.9612067], [50.9850586, 6.9611883], [50.9849173, 6.961171], [50.9848961, 6.9611405], [50.9848478, 6.9611218], [50.9847893, 6.9610991], [50.9846425, 6.9610752], [50.9844015, 6.9610517], [50.9842016, 6.9610301]],\n",
       "                {&quot;bubblingMouseEvents&quot;: true, &quot;color&quot;: &quot;red&quot;, &quot;dashArray&quot;: null, &quot;dashOffset&quot;: null, &quot;fill&quot;: false, &quot;fillColor&quot;: &quot;red&quot;, &quot;fillOpacity&quot;: 0.2, &quot;fillRule&quot;: &quot;evenodd&quot;, &quot;lineCap&quot;: &quot;round&quot;, &quot;lineJoin&quot;: &quot;round&quot;, &quot;noClip&quot;: false, &quot;opacity&quot;: 1.0, &quot;smoothFactor&quot;: 1.0, &quot;stroke&quot;: true, &quot;weight&quot;: 2}\n",
       "            ).addTo(map_4a13ae461c397a304e6e627a62e73105);\n",
       "        \n",
       "    \n",
       "            var poly_line_3e3f433c93b06446a05cee29bce58a45 = L.polyline(\n",
       "                [[50.984167, 6.9610346], [50.9841054, 6.9610687], [50.9838173, 6.9610257], [50.9836651, 6.9610012], [50.9836316, 6.9609734], [50.9836203, 6.9609641], [50.9833821, 6.9609303], [50.9833066, 6.9609196], [50.9832374, 6.960901], [50.9830586, 6.9608825], [50.9830054, 6.960887], [50.9829298, 6.9609181], [50.982799, 6.9609065], [50.981856, 6.9607929], [50.9818124, 6.9608033], [50.9816412, 6.9607713], [50.9813844, 6.960755], [50.981227, 6.9607164], [50.9811845, 6.9607134], [50.9811579, 6.9607297], [50.9810282, 6.9607183], [50.9804464, 6.9606497], [50.9802379, 6.9606252], [50.9789863, 6.9604954], [50.9789153, 6.9604635], [50.9787197, 6.9604287], [50.9785159, 6.9604102], [50.9784159, 6.9604045], [50.9783247, 6.960397], [50.9781412, 6.9603893], [50.9778339, 6.9603567], [50.9777391, 6.9603463], [50.9773497, 6.9602989], [50.9772176, 6.960287], [50.9771681, 6.9602492], [50.9771189, 6.9601785], [50.9771215, 6.9601117], [50.977021, 6.9601001], [50.976849, 6.9600817], [50.9768035, 6.9600768], [50.9766043, 6.9600555], [50.9765086, 6.9599228], [50.9764464, 6.9598291], [50.9764171, 6.9597889], [50.9763749, 6.959731], [50.9758293, 6.9589829], [50.9757739, 6.9588512], [50.9754805, 6.9584215], [50.975389, 6.9583689], [50.9751629, 6.9580919], [50.9749696, 6.9577227], [50.9746996, 6.9574132], [50.9745411, 6.9572316], [50.9743328, 6.956993], [50.9742369, 6.9568831], [50.9741637, 6.9567992], [50.9740839, 6.9567115], [50.974003, 6.9566342], [50.9739374, 6.9565715], [50.973391, 6.9560382], [50.9730359, 6.9556896], [50.9726793, 6.9553395], [50.9722474, 6.9548829], [50.9723213, 6.9546085], [50.9723713, 6.9544216], [50.9724901, 6.9539683], [50.9725077, 6.9538199], [50.9725196, 6.9537189], [50.9725622, 6.9533716], [50.9725773, 6.9529801], [50.972552, 6.9525173], [50.9725208, 6.9520635], [50.9724527, 6.9514218], [50.9724438, 6.951329], [50.9724328, 6.951252], [50.9724022, 6.9510014], [50.9723962, 6.9509336], [50.9724481, 6.9509215], [50.9724163, 6.9506116], [50.9723966, 6.9505394], [50.9723644, 6.9504435], [50.9723473, 6.9503157], [50.9723374, 6.9501726], [50.9723374, 6.9501726]],\n",
       "                {&quot;bubblingMouseEvents&quot;: true, &quot;color&quot;: &quot;blue&quot;, &quot;dashArray&quot;: null, &quot;dashOffset&quot;: null, &quot;fill&quot;: false, &quot;fillColor&quot;: &quot;blue&quot;, &quot;fillOpacity&quot;: 0.2, &quot;fillRule&quot;: &quot;evenodd&quot;, &quot;lineCap&quot;: &quot;round&quot;, &quot;lineJoin&quot;: &quot;round&quot;, &quot;noClip&quot;: false, &quot;opacity&quot;: 1.0, &quot;smoothFactor&quot;: 1.0, &quot;stroke&quot;: true, &quot;weight&quot;: 2}\n",
       "            ).addTo(map_4a13ae461c397a304e6e627a62e73105);\n",
       "        \n",
       "    \n",
       "            var circle_marker_32671af77591799638210da0b0ea6314 = L.circleMarker(\n",
       "                [50.9485519, 6.9604362],\n",
       "                {&quot;bubblingMouseEvents&quot;: true, &quot;color&quot;: &quot;red&quot;, &quot;dashArray&quot;: null, &quot;dashOffset&quot;: null, &quot;fill&quot;: false, &quot;fillColor&quot;: &quot;red&quot;, &quot;fillOpacity&quot;: 0.2, &quot;fillRule&quot;: &quot;evenodd&quot;, &quot;lineCap&quot;: &quot;round&quot;, &quot;lineJoin&quot;: &quot;round&quot;, &quot;opacity&quot;: 1.0, &quot;radius&quot;: 3, &quot;stroke&quot;: true, &quot;weight&quot;: 3}\n",
       "            ).addTo(map_4a13ae461c397a304e6e627a62e73105);\n",
       "        \n",
       "    \n",
       "        var popup_758d953f27c8a3072539801bcdd08979 = L.popup({&quot;maxWidth&quot;: &quot;100%&quot;});\n",
       "\n",
       "        \n",
       "            \n",
       "                var html_82a6421b18e76dcb5d84b6ff9d9c5500 = $(`&lt;div id=&quot;html_82a6421b18e76dcb5d84b6ff9d9c5500&quot; style=&quot;width: 100.0%; height: 100.0%;&quot;&gt;node_id: 956233266  label: 24.08min&lt;/div&gt;`)[0];\n",
       "                popup_758d953f27c8a3072539801bcdd08979.setContent(html_82a6421b18e76dcb5d84b6ff9d9c5500);\n",
       "            \n",
       "        \n",
       "\n",
       "        circle_marker_32671af77591799638210da0b0ea6314.bindPopup(popup_758d953f27c8a3072539801bcdd08979)\n",
       "        ;\n",
       "\n",
       "        \n",
       "    \n",
       "    \n",
       "            var poly_line_c943b2c243fd307f67141aed12f257f4 = L.polyline(\n",
       "                [[50.9883329, 6.9646961], [50.9882423, 6.9646103], [50.9881889, 6.9645947], [50.9880821, 6.9646387], [50.9879814, 6.9639089], [50.9879131, 6.9639583], [50.9879037, 6.9617419], [50.9878053, 6.9617417], [50.9878031, 6.9613676], [50.987547, 6.9613627], [50.9875216, 6.9613534], [50.9874825, 6.9613392], [50.9874412, 6.9613241], [50.987427, 6.9613183], [50.9873258, 6.9612769], [50.9871961, 6.9612597], [50.9869923, 6.9612326], [50.9863187, 6.9611537], [50.9861486, 6.9611361], [50.9858405, 6.9611091], [50.9857529, 6.9611226], [50.9856539, 6.9611379], [50.9855929, 6.961133], [50.9855561, 6.961182], [50.9855166, 6.9611805], [50.9853055, 6.9611723], [50.9852716, 6.9611843], [50.9852085, 6.9612067], [50.9850586, 6.9611883], [50.9849173, 6.961171], [50.9848961, 6.9611405], [50.9848478, 6.9611218], [50.9847893, 6.9610991], [50.9846425, 6.9610752], [50.9844015, 6.9610517], [50.9842016, 6.9610301]],\n",
       "                {&quot;bubblingMouseEvents&quot;: true, &quot;color&quot;: &quot;red&quot;, &quot;dashArray&quot;: null, &quot;dashOffset&quot;: null, &quot;fill&quot;: false, &quot;fillColor&quot;: &quot;red&quot;, &quot;fillOpacity&quot;: 0.2, &quot;fillRule&quot;: &quot;evenodd&quot;, &quot;lineCap&quot;: &quot;round&quot;, &quot;lineJoin&quot;: &quot;round&quot;, &quot;noClip&quot;: false, &quot;opacity&quot;: 1.0, &quot;smoothFactor&quot;: 1.0, &quot;stroke&quot;: true, &quot;weight&quot;: 2}\n",
       "            ).addTo(map_4a13ae461c397a304e6e627a62e73105);\n",
       "        \n",
       "    \n",
       "            var poly_line_e5bdd975cad539142dc9b999b9b20df9 = L.polyline(\n",
       "                [[50.984167, 6.9610346], [50.9841054, 6.9610687], [50.9838173, 6.9610257], [50.9836651, 6.9610012], [50.9836316, 6.9609734], [50.9836203, 6.9609641], [50.9833821, 6.9609303], [50.9833066, 6.9609196], [50.9832374, 6.960901], [50.9830586, 6.9608825], [50.9830054, 6.960887], [50.9829298, 6.9609181], [50.982799, 6.9609065], [50.981856, 6.9607929], [50.9818124, 6.9608033], [50.9816412, 6.9607713], [50.9813844, 6.960755], [50.981227, 6.9607164], [50.9811845, 6.9607134], [50.9811579, 6.9607297], [50.9810282, 6.9607183], [50.9804464, 6.9606497], [50.9802379, 6.9606252], [50.9789863, 6.9604954], [50.9789153, 6.9604635], [50.9787197, 6.9604287], [50.9785159, 6.9604102], [50.9784159, 6.9604045], [50.9783247, 6.960397], [50.9781412, 6.9603893], [50.9778339, 6.9603567], [50.9777391, 6.9603463], [50.9773497, 6.9602989], [50.9772176, 6.960287], [50.9771681, 6.9602492], [50.9771189, 6.9601785], [50.9770948, 6.9601706], [50.9769696, 6.9601661], [50.9767534, 6.9601498], [50.9766793, 6.960175], [50.9766544, 6.9601832], [50.9762982, 6.9601461], [50.9760988, 6.9601238], [50.976078, 6.9601343], [50.976048, 6.9601371], [50.9752363, 6.9600504], [50.9750556, 6.9600297], [50.9750474, 6.9600233], [50.9748562, 6.9599659], [50.9747553, 6.9599481], [50.9747097, 6.959937], [50.9745368, 6.959918], [50.9744666, 6.959894], [50.9743847, 6.9598854], [50.9743005, 6.9599058], [50.9742961, 6.9597746], [50.9742309, 6.9597678], [50.9741543, 6.9597614], [50.9740361, 6.9597562], [50.9739598, 6.9597529], [50.9731129, 6.9596664], [50.9730506, 6.9596592], [50.972563, 6.9596025], [50.9718086, 6.9595149], [50.9717799, 6.9595109], [50.9717285, 6.9595037], [50.9713703, 6.9594604], [50.9711803, 6.9594252], [50.9707182, 6.9593387], [50.9706641, 6.9593422], [50.9705873, 6.9593316], [50.9704153, 6.959308], [50.9700306, 6.9592633], [50.9698371, 6.9592269], [50.9696513, 6.9592112], [50.9695842, 6.9591973], [50.9694986, 6.9591829], [50.9692127, 6.959135], [50.9686998, 6.9590568], [50.9681809, 6.9589759], [50.967944, 6.9589453], [50.967791, 6.9589256], [50.9677447, 6.9589196], [50.9675756, 6.9588978], [50.9674159, 6.9588824], [50.9672887, 6.9588702], [50.9668619, 6.9588291], [50.9667286, 6.9588163], [50.966653, 6.958809], [50.9665716, 6.9588029], [50.966506, 6.958798], [50.9662951, 6.9587823], [50.9662541, 6.9587772], [50.9662234, 6.9587752], [50.9661688, 6.9587698], [50.9655364, 6.958707], [50.9652258, 6.9586728], [50.964802, 6.9586338], [50.9646825, 6.9586222], [50.9644621, 6.9586075], [50.9643368, 6.9585945], [50.9639643, 6.9585688], [50.9639242, 6.958566], [50.9637476, 6.9585636], [50.9636989, 6.9585629], [50.9635927, 6.9585615], [50.9634877, 6.9585556], [50.9634471, 6.95855], [50.9633793, 6.958552], [50.9633373, 6.9585533], [50.9630926, 6.9585606], [50.9627519, 6.9585731], [50.9626084, 6.9585646], [50.962376, 6.9585582], [50.9622332, 6.9585543], [50.9621013, 6.958527], [50.961898, 6.958485], [50.9615459, 6.9584001], [50.961304, 6.9583313], [50.9612514, 6.9583157], [50.9611604, 6.9582898], [50.9610039, 6.9582538], [50.9605359, 6.9581608], [50.9603638, 6.9581271], [50.9601276, 6.958082], [50.9600706, 6.958076], [50.9600043, 6.9580681], [50.9598479, 6.9580512], [50.9594058, 6.9579923], [50.9589083, 6.9579186], [50.9585737, 6.9578688], [50.9581996, 6.9578266], [50.9580215, 6.9578086], [50.9579467, 6.9578021], [50.9578996, 6.9577997], [50.9577983, 6.9577906], [50.9576516, 6.9577849], [50.9575669, 6.9577779], [50.9574974, 6.95777], [50.9573703, 6.9577518], [50.9572899, 6.9577359], [50.9571596, 6.9577072], [50.9569977, 6.957686], [50.9563554, 6.9576106], [50.9558005, 6.9575991], [50.9557497, 6.9575972], [50.9556806, 6.9575828], [50.9556441, 6.957561], [50.955599, 6.9575211], [50.9555482, 6.9574468], [50.9554953, 6.9573224], [50.9553443, 6.9569593], [50.9553085, 6.9568674], [50.9552594, 6.9567545], [50.9551302, 6.9568126], [50.955069, 6.9568417], [50.9548072, 6.9569701], [50.9546434, 6.9570246], [50.9543127, 6.9571821], [50.9542527, 6.9571944], [50.954161, 6.9572105], [50.9540295, 6.9572647], [50.9539415, 6.9572819], [50.9538927, 6.9572864], [50.9537683, 6.9572922], [50.953087, 6.9572292], [50.9530428, 6.9572255], [50.9529386, 6.957215], [50.9528818, 6.95721], [50.9528412, 6.957206], [50.951975, 6.9571245], [50.9518621, 6.9571037], [50.9517848, 6.9570915], [50.9512284, 6.9570414], [50.9511648, 6.9570355], [50.9510555, 6.9571353], [50.9509989, 6.9572049], [50.950957, 6.9572855], [50.9509144, 6.9573953], [50.9508808, 6.9575415], [50.9508706, 6.9575932], [50.9508125, 6.9575972], [50.9506342, 6.9577146], [50.9504221, 6.9582738], [50.9502391, 6.958331], [50.9501769, 6.9583284], [50.9501636, 6.9586416], [50.9501513, 6.9588832], [50.9501441, 6.9590257], [50.9501338, 6.9592277], [50.9500944, 6.9592268], [50.9493159, 6.9592186], [50.948419, 6.9591681], [50.9483748, 6.959732], [50.9483061, 6.9604116], [50.9484943, 6.9604382], [50.9485519, 6.9604362]],\n",
       "                {&quot;bubblingMouseEvents&quot;: true, &quot;color&quot;: &quot;blue&quot;, &quot;dashArray&quot;: null, &quot;dashOffset&quot;: null, &quot;fill&quot;: false, &quot;fillColor&quot;: &quot;blue&quot;, &quot;fillOpacity&quot;: 0.2, &quot;fillRule&quot;: &quot;evenodd&quot;, &quot;lineCap&quot;: &quot;round&quot;, &quot;lineJoin&quot;: &quot;round&quot;, &quot;noClip&quot;: false, &quot;opacity&quot;: 1.0, &quot;smoothFactor&quot;: 1.0, &quot;stroke&quot;: true, &quot;weight&quot;: 2}\n",
       "            ).addTo(map_4a13ae461c397a304e6e627a62e73105);\n",
       "        \n",
       "&lt;/script&gt;\n",
       "&lt;/html&gt;\" style=\"position:absolute;width:100%;height:100%;left:0;top:0;border:none !important;\" allowfullscreen webkitallowfullscreen mozallowfullscreen></iframe></div></div>"
      ],
      "text/plain": [
       "<folium.folium.Map at 0x7f425100f490>"
      ]
     },
     "execution_count": 198,
     "metadata": {},
     "output_type": "execute_result"
    }
   ],
   "source": [
    "sample_label = list(new_bags.values())[0][0]\n",
    "sample_node_id = int(reverse_node_map[label.node_id].replace('B', '').replace('W', ''))\n",
    "nodes_by_id = nodes.set_index('id')\n",
    "sample_node = nodes_by_id.loc[sample_node_id]\n",
    "\n",
    "m = folium.Map(location=[sample_node.lat, sample_node.lon], zoom_start=15)\n",
    "counter = 0\n",
    "for bag in new_bags.values():\n",
    "\tif counter > 5:\n",
    "\t\tbreak\n",
    "\tfor label in bag:\n",
    "\t\tcounter += 1\n",
    "\n",
    "\n",
    "\t\tnode_id = int(reverse_node_map[label.node_id].replace('B', '').replace('W', ''))\n",
    "\t\tnode = nodes_by_id.loc[node_id]\n",
    "\t\tpopup=f\"node_id: {node_id}\\n label: {round(label.values[0]/60, 2)}min\"\n",
    "\t\tfolium.CircleMarker(\n",
    "\t\t\tlocation=[node.lat, node.lon],\n",
    "\t\t\tradius=3,\n",
    "\t\t\tpopup=popup,\n",
    "\t\t\tcolor='red',\n",
    "\t\t).add_to(m)\n",
    "\n",
    "\t\t# path\n",
    "\t\tpaths = path_manager.reconstruct_and_translate_path_for_label(label, no_prefix_translator_map)\n",
    "\t\tfor path in paths:\n",
    "\t\t\tpath_nodes = [nodes_by_id.loc[node_id] for node_id in path.path]\n",
    "\t\t\tpath_lat_lon = [(node.lat, node.lon) for node in path_nodes]\n",
    "\t\t\tcolor = color_map[path.path_type]\n",
    "\t\t\tfolium.PolyLine(path_lat_lon, color=color, weight=2).add_to(m)\n",
    "m"
   ]
  }
 ],
 "metadata": {
  "kernelspec": {
   "display_name": "mcr-py",
   "language": "python",
   "name": "python3"
  },
  "language_info": {
   "codemirror_mode": {
    "name": "ipython",
    "version": 3
   },
   "file_extension": ".py",
   "mimetype": "text/x-python",
   "name": "python",
   "nbconvert_exporter": "python",
   "pygments_lexer": "ipython3",
   "version": "3.10.12"
  },
  "orig_nbformat": 4
 },
 "nbformat": 4,
 "nbformat_minor": 2
}
