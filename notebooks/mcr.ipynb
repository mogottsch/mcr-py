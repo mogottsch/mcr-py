{
 "cells": [
  {
   "cell_type": "code",
   "execution_count": 47,
   "metadata": {},
   "outputs": [
    {
     "name": "stdout",
     "output_type": "stream",
     "text": [
      "The autoreload extension is already loaded. To reload it, use:\n",
      "  %reload_ext autoreload\n"
     ]
    }
   ],
   "source": [
    "%load_ext autoreload\n",
    "%autoreload 2\n",
    "# add . to module name\n",
    "import sys\n",
    "sys.path.append('../src/')"
   ]
  },
  {
   "cell_type": "code",
   "execution_count": 48,
   "metadata": {},
   "outputs": [],
   "source": [
    "from package.logger import Timed, rlog, setup\n",
    "from package import storage\n",
    "setup(\"INFO\")"
   ]
  },
  {
   "cell_type": "code",
   "execution_count": 49,
   "metadata": {},
   "outputs": [],
   "source": [
    "from typing import Any, Optional\n",
    "import sys\n",
    "\n",
    "import pandas as pd\n",
    "\n",
    "import mcr_py\n",
    "from mcr_py import PyLabel\n",
    "from package import storage, strtime\n",
    "from package.logger import Timer, rlog\n",
    "from package.mcr.data import MCRGeoData\n",
    "from package.mcr.label import (\n",
    "    IntermediateLabel,\n",
    "    McRAPTORLabel,\n",
    "    McRAPTORLabelWithPath,\n",
    "    merge_intermediate_bags,\n",
    ")\n",
    "from package.mcr.output import OutputFormat\n",
    "from package.mcr.path import PathManager, PathType\n",
    "from package.raptor.mcraptor_single import McRaptorSingle\n",
    "from package.raptor.bag import Bag\n",
    "from package.mcr.bag import (\n",
    "    IntermediateBags,\n",
    "    convert_mc_raptor_bags_to_intermediate_bags,\n",
    "    convert_mlc_bags_to_intermediate_bags,\n",
    ")\n",
    "\n",
    "McRAPTORInputBags = dict[str, list[IntermediateLabel]]\n",
    "\n",
    "\n",
    "from package.osm import osm\n",
    "from package.geometa import GeoMeta\n",
    "import os\n",
    "from package.mcr.mcr import MCR\n",
    "from package.minute_city import minute_city"
   ]
  },
  {
   "cell_type": "code",
   "execution_count": 50,
   "metadata": {},
   "outputs": [
    {
     "data": {
      "text/html": [
       "<pre style=\"white-space:pre;overflow-x:auto;line-height:normal;font-family:Menlo,'DejaVu Sans Mono',consolas,'Courier New',monospace\"><span style=\"color: #7fbfbf; text-decoration-color: #7fbfbf\">[16:52:02] </span><span style=\"color: #000080; text-decoration-color: #000080\">INFO    </span> Reading stops                                                                   <a href=\"file:///tmp/ipykernel_125110/1014092602.py\" target=\"_blank\"><span style=\"color: #7f7f7f; text-decoration-color: #7f7f7f\">1014092602.py</span></a><span style=\"color: #7f7f7f; text-decoration-color: #7f7f7f\">:</span><a href=\"file:///tmp/ipykernel_125110/1014092602.py#5\" target=\"_blank\"><span style=\"color: #7f7f7f; text-decoration-color: #7f7f7f\">5</span></a>\n",
       "</pre>\n"
      ],
      "text/plain": [
       "\u001b[2;36m[16:52:02]\u001b[0m\u001b[2;36m \u001b[0m\u001b[34mINFO    \u001b[0m Reading stops                                                                   \u001b]8;id=924217;file:///tmp/ipykernel_125110/1014092602.py\u001b\\\u001b[2m1014092602.py\u001b[0m\u001b]8;;\u001b\\\u001b[2m:\u001b[0m\u001b]8;id=300993;file:///tmp/ipykernel_125110/1014092602.py#5\u001b\\\u001b[2m5\u001b[0m\u001b]8;;\u001b\\\n"
      ]
     },
     "metadata": {},
     "output_type": "display_data"
    },
    {
     "data": {
      "text/html": [
       "<pre style=\"white-space:pre;overflow-x:auto;line-height:normal;font-family:Menlo,'DejaVu Sans Mono',consolas,'Courier New',monospace\"><span style=\"color: #7fbfbf; text-decoration-color: #7fbfbf\">           </span><span style=\"color: #000080; text-decoration-color: #000080\">INFO    </span> Reading stops done <span style=\"font-weight: bold\">(</span><span style=\"color: #008080; text-decoration-color: #008080; font-weight: bold\">0.11</span> seconds<span style=\"font-weight: bold\">)</span>                                               <a href=\"file:///tmp/ipykernel_125110/1014092602.py\" target=\"_blank\"><span style=\"color: #7f7f7f; text-decoration-color: #7f7f7f\">1014092602.py</span></a><span style=\"color: #7f7f7f; text-decoration-color: #7f7f7f\">:</span><a href=\"file:///tmp/ipykernel_125110/1014092602.py#5\" target=\"_blank\"><span style=\"color: #7f7f7f; text-decoration-color: #7f7f7f\">5</span></a>\n",
       "</pre>\n"
      ],
      "text/plain": [
       "\u001b[2;36m          \u001b[0m\u001b[2;36m \u001b[0m\u001b[34mINFO    \u001b[0m Reading stops done \u001b[1m(\u001b[0m\u001b[1;36m0.11\u001b[0m seconds\u001b[1m)\u001b[0m                                               \u001b]8;id=719101;file:///tmp/ipykernel_125110/1014092602.py\u001b\\\u001b[2m1014092602.py\u001b[0m\u001b]8;;\u001b\\\u001b[2m:\u001b[0m\u001b]8;id=525317;file:///tmp/ipykernel_125110/1014092602.py#5\u001b\\\u001b[2m5\u001b[0m\u001b]8;;\u001b\\\n"
      ]
     },
     "metadata": {},
     "output_type": "display_data"
    },
    {
     "data": {
      "text/html": [
       "<pre style=\"white-space:pre;overflow-x:auto;line-height:normal;font-family:Menlo,'DejaVu Sans Mono',consolas,'Courier New',monospace\"><span style=\"color: #7fbfbf; text-decoration-color: #7fbfbf\">           </span><span style=\"color: #000080; text-decoration-color: #000080\">INFO    </span> Using existing OSM data                                                        <a href=\"file:///tmp/ipykernel_125110/1014092602.py\" target=\"_blank\"><span style=\"color: #7f7f7f; text-decoration-color: #7f7f7f\">1014092602.py</span></a><span style=\"color: #7f7f7f; text-decoration-color: #7f7f7f\">:</span><a href=\"file:///tmp/ipykernel_125110/1014092602.py#12\" target=\"_blank\"><span style=\"color: #7f7f7f; text-decoration-color: #7f7f7f\">12</span></a>\n",
       "</pre>\n"
      ],
      "text/plain": [
       "\u001b[2;36m          \u001b[0m\u001b[2;36m \u001b[0m\u001b[34mINFO    \u001b[0m Using existing OSM data                                                        \u001b]8;id=992896;file:///tmp/ipykernel_125110/1014092602.py\u001b\\\u001b[2m1014092602.py\u001b[0m\u001b]8;;\u001b\\\u001b[2m:\u001b[0m\u001b]8;id=39941;file:///tmp/ipykernel_125110/1014092602.py#12\u001b\\\u001b[2m12\u001b[0m\u001b]8;;\u001b\\\n"
      ]
     },
     "metadata": {},
     "output_type": "display_data"
    },
    {
     "data": {
      "text/html": [
       "<pre style=\"white-space:pre;overflow-x:auto;line-height:normal;font-family:Menlo,'DejaVu Sans Mono',consolas,'Courier New',monospace\"><span style=\"color: #7fbfbf; text-decoration-color: #7fbfbf\">           </span><span style=\"color: #000080; text-decoration-color: #000080\">INFO    </span> Getting OSM graph                                                              <a href=\"file:///tmp/ipykernel_125110/1014092602.py\" target=\"_blank\"><span style=\"color: #7f7f7f; text-decoration-color: #7f7f7f\">1014092602.py</span></a><span style=\"color: #7f7f7f; text-decoration-color: #7f7f7f\">:</span><a href=\"file:///tmp/ipykernel_125110/1014092602.py#18\" target=\"_blank\"><span style=\"color: #7f7f7f; text-decoration-color: #7f7f7f\">18</span></a>\n",
       "</pre>\n"
      ],
      "text/plain": [
       "\u001b[2;36m          \u001b[0m\u001b[2;36m \u001b[0m\u001b[34mINFO    \u001b[0m Getting OSM graph                                                              \u001b]8;id=995792;file:///tmp/ipykernel_125110/1014092602.py\u001b\\\u001b[2m1014092602.py\u001b[0m\u001b]8;;\u001b\\\u001b[2m:\u001b[0m\u001b]8;id=958782;file:///tmp/ipykernel_125110/1014092602.py#18\u001b\\\u001b[2m18\u001b[0m\u001b]8;;\u001b\\\n"
      ]
     },
     "metadata": {},
     "output_type": "display_data"
    },
    {
     "data": {
      "text/html": [
       "<pre style=\"white-space:pre;overflow-x:auto;line-height:normal;font-family:Menlo,'DejaVu Sans Mono',consolas,'Courier New',monospace\"><span style=\"color: #7fbfbf; text-decoration-color: #7fbfbf\">           </span><span style=\"color: #000080; text-decoration-color: #000080\">INFO    </span> Loading OSM network from cache                                                 <a href=\"file:///tmp/ipykernel_125110/1014092602.py\" target=\"_blank\"><span style=\"color: #7f7f7f; text-decoration-color: #7f7f7f\">1014092602.py</span></a><span style=\"color: #7f7f7f; text-decoration-color: #7f7f7f\">:</span><a href=\"file:///tmp/ipykernel_125110/1014092602.py#18\" target=\"_blank\"><span style=\"color: #7f7f7f; text-decoration-color: #7f7f7f\">18</span></a>\n",
       "</pre>\n"
      ],
      "text/plain": [
       "\u001b[2;36m          \u001b[0m\u001b[2;36m \u001b[0m\u001b[34mINFO    \u001b[0m Loading OSM network from cache                                                 \u001b]8;id=756518;file:///tmp/ipykernel_125110/1014092602.py\u001b\\\u001b[2m1014092602.py\u001b[0m\u001b]8;;\u001b\\\u001b[2m:\u001b[0m\u001b]8;id=847944;file:///tmp/ipykernel_125110/1014092602.py#18\u001b\\\u001b[2m18\u001b[0m\u001b]8;;\u001b\\\n"
      ]
     },
     "metadata": {},
     "output_type": "display_data"
    },
    {
     "data": {
      "text/html": [
       "<pre style=\"white-space:pre;overflow-x:auto;line-height:normal;font-family:Menlo,'DejaVu Sans Mono',consolas,'Courier New',monospace\"><span style=\"color: #7fbfbf; text-decoration-color: #7fbfbf\">[16:52:05] </span><span style=\"color: #000080; text-decoration-color: #000080\">INFO    </span> Getting OSM graph done <span style=\"font-weight: bold\">(</span><span style=\"color: #008080; text-decoration-color: #008080; font-weight: bold\">2.72</span> seconds<span style=\"font-weight: bold\">)</span>                                          <a href=\"file:///tmp/ipykernel_125110/1014092602.py\" target=\"_blank\"><span style=\"color: #7f7f7f; text-decoration-color: #7f7f7f\">1014092602.py</span></a><span style=\"color: #7f7f7f; text-decoration-color: #7f7f7f\">:</span><a href=\"file:///tmp/ipykernel_125110/1014092602.py#18\" target=\"_blank\"><span style=\"color: #7f7f7f; text-decoration-color: #7f7f7f\">18</span></a>\n",
       "</pre>\n"
      ],
      "text/plain": [
       "\u001b[2;36m[16:52:05]\u001b[0m\u001b[2;36m \u001b[0m\u001b[34mINFO    \u001b[0m Getting OSM graph done \u001b[1m(\u001b[0m\u001b[1;36m2.72\u001b[0m seconds\u001b[1m)\u001b[0m                                          \u001b]8;id=857225;file:///tmp/ipykernel_125110/1014092602.py\u001b\\\u001b[2m1014092602.py\u001b[0m\u001b]8;;\u001b\\\u001b[2m:\u001b[0m\u001b]8;id=792736;file:///tmp/ipykernel_125110/1014092602.py#18\u001b\\\u001b[2m18\u001b[0m\u001b]8;;\u001b\\\n"
      ]
     },
     "metadata": {},
     "output_type": "display_data"
    }
   ],
   "source": [
    "city_id = \"Koeln\"\n",
    "stops_path = \"../data/cleaned/stops.csv\"\n",
    "osm_path = osm.get_osm_path_from_city_id(city_id)\n",
    "\n",
    "with Timed.info(\"Reading stops\"):\n",
    "\tother_stops_df = storage.read_gdf(stops_path)\n",
    "\n",
    "if not os.path.exists(osm_path) and city_id:\n",
    "\trlog.info(\"Downloading OSM data\")\n",
    "\tosm.download_city(city_id, osm_path)\n",
    "else:\n",
    "\trlog.info(\"Using existing OSM data\")\n",
    "\n",
    "osm_reader = osm.new_osm_reader(osm_path)\n",
    "\n",
    "geo_meta = GeoMeta.load(\"../data/geometa.pkl\")\n",
    "\n",
    "with Timed.info(\"Getting OSM graph\"):\n",
    "\tnodes, edges = osm.get_graph_for_city_cropped_to_boundary(osm_reader, geo_meta)"
   ]
  },
  {
   "cell_type": "code",
   "execution_count": 51,
   "metadata": {},
   "outputs": [],
   "source": [
    "start_time = \"08:00:00\"\n",
    "start_node_id = 8734972825\n",
    "\n",
    "geo_meta_path = \"../data/geometa.pkl\"\n",
    "stops_path = \"../data/cleaned/stops.csv\"\n",
    "structs_path = \"../data/structs.pkl\"\n",
    "bicycle_location_path = \"../data/bicycle_locations/2022-11-01_09_01_00.csv\"\n",
    "city_id = \"Koeln\"\n",
    "\n",
    "disable_paths=False\n",
    "\n",
    "output_path = \"../data/bags.pkl\""
   ]
  },
  {
   "cell_type": "code",
   "execution_count": 52,
   "metadata": {},
   "outputs": [
    {
     "data": {
      "text/html": [
       "<pre style=\"white-space:pre;overflow-x:auto;line-height:normal;font-family:Menlo,'DejaVu Sans Mono',consolas,'Courier New',monospace\"><span style=\"color: #7fbfbf; text-decoration-color: #7fbfbf\">[16:52:06] </span><span style=\"color: #000080; text-decoration-color: #000080\">INFO    </span> Reading stops and geo meta                                                           <a href=\"file:///home/moritz/dev/uni/mcr-py/notebooks/../src/package/mcr/data.py\" target=\"_blank\"><span style=\"color: #7f7f7f; text-decoration-color: #7f7f7f\">data.py</span></a><span style=\"color: #7f7f7f; text-decoration-color: #7f7f7f\">:</span><a href=\"file:///home/moritz/dev/uni/mcr-py/notebooks/../src/package/mcr/data.py#41\" target=\"_blank\"><span style=\"color: #7f7f7f; text-decoration-color: #7f7f7f\">41</span></a>\n",
       "</pre>\n"
      ],
      "text/plain": [
       "\u001b[2;36m[16:52:06]\u001b[0m\u001b[2;36m \u001b[0m\u001b[34mINFO    \u001b[0m Reading stops and geo meta                                                           \u001b]8;id=963285;file:///home/moritz/dev/uni/mcr-py/notebooks/../src/package/mcr/data.py\u001b\\\u001b[2mdata.py\u001b[0m\u001b]8;;\u001b\\\u001b[2m:\u001b[0m\u001b]8;id=767839;file:///home/moritz/dev/uni/mcr-py/notebooks/../src/package/mcr/data.py#41\u001b\\\u001b[2m41\u001b[0m\u001b]8;;\u001b\\\n"
      ]
     },
     "metadata": {},
     "output_type": "display_data"
    },
    {
     "data": {
      "text/html": [
       "<pre style=\"white-space:pre;overflow-x:auto;line-height:normal;font-family:Menlo,'DejaVu Sans Mono',consolas,'Courier New',monospace\"><span style=\"color: #7fbfbf; text-decoration-color: #7fbfbf\">           </span><span style=\"color: #000080; text-decoration-color: #000080\">INFO    </span> Reading stops and geo meta done <span style=\"font-weight: bold\">(</span><span style=\"color: #008080; text-decoration-color: #008080; font-weight: bold\">0.09</span> seconds<span style=\"font-weight: bold\">)</span>                                       <a href=\"file:///home/moritz/dev/uni/mcr-py/notebooks/../src/package/mcr/data.py\" target=\"_blank\"><span style=\"color: #7f7f7f; text-decoration-color: #7f7f7f\">data.py</span></a><span style=\"color: #7f7f7f; text-decoration-color: #7f7f7f\">:</span><a href=\"file:///home/moritz/dev/uni/mcr-py/notebooks/../src/package/mcr/data.py#41\" target=\"_blank\"><span style=\"color: #7f7f7f; text-decoration-color: #7f7f7f\">41</span></a>\n",
       "</pre>\n"
      ],
      "text/plain": [
       "\u001b[2;36m          \u001b[0m\u001b[2;36m \u001b[0m\u001b[34mINFO    \u001b[0m Reading stops and geo meta done \u001b[1m(\u001b[0m\u001b[1;36m0.09\u001b[0m seconds\u001b[1m)\u001b[0m                                       \u001b]8;id=746029;file:///home/moritz/dev/uni/mcr-py/notebooks/../src/package/mcr/data.py\u001b\\\u001b[2mdata.py\u001b[0m\u001b]8;;\u001b\\\u001b[2m:\u001b[0m\u001b]8;id=599368;file:///home/moritz/dev/uni/mcr-py/notebooks/../src/package/mcr/data.py#41\u001b\\\u001b[2m41\u001b[0m\u001b]8;;\u001b\\\n"
      ]
     },
     "metadata": {},
     "output_type": "display_data"
    },
    {
     "data": {
      "text/html": [
       "<pre style=\"white-space:pre;overflow-x:auto;line-height:normal;font-family:Menlo,'DejaVu Sans Mono',consolas,'Courier New',monospace\"><span style=\"color: #7fbfbf; text-decoration-color: #7fbfbf\">           </span><span style=\"color: #000080; text-decoration-color: #000080\">INFO    </span> Preparing graphs                                                                     <a href=\"file:///home/moritz/dev/uni/mcr-py/notebooks/../src/package/mcr/data.py\" target=\"_blank\"><span style=\"color: #7f7f7f; text-decoration-color: #7f7f7f\">data.py</span></a><span style=\"color: #7f7f7f; text-decoration-color: #7f7f7f\">:</span><a href=\"file:///home/moritz/dev/uni/mcr-py/notebooks/../src/package/mcr/data.py#44\" target=\"_blank\"><span style=\"color: #7f7f7f; text-decoration-color: #7f7f7f\">44</span></a>\n",
       "</pre>\n"
      ],
      "text/plain": [
       "\u001b[2;36m          \u001b[0m\u001b[2;36m \u001b[0m\u001b[34mINFO    \u001b[0m Preparing graphs                                                                     \u001b]8;id=452651;file:///home/moritz/dev/uni/mcr-py/notebooks/../src/package/mcr/data.py\u001b\\\u001b[2mdata.py\u001b[0m\u001b]8;;\u001b\\\u001b[2m:\u001b[0m\u001b]8;id=340595;file:///home/moritz/dev/uni/mcr-py/notebooks/../src/package/mcr/data.py#44\u001b\\\u001b[2m44\u001b[0m\u001b]8;;\u001b\\\n"
      ]
     },
     "metadata": {},
     "output_type": "display_data"
    },
    {
     "data": {
      "text/html": [
       "<pre style=\"white-space:pre;overflow-x:auto;line-height:normal;font-family:Menlo,'DejaVu Sans Mono',consolas,'Courier New',monospace\"><span style=\"color: #7fbfbf; text-decoration-color: #7fbfbf\">           </span><span style=\"color: #000080; text-decoration-color: #000080\">INFO    </span> Using existing OSM data                                                              <a href=\"file:///home/moritz/dev/uni/mcr-py/notebooks/../src/package/mcr/data.py\" target=\"_blank\"><span style=\"color: #7f7f7f; text-decoration-color: #7f7f7f\">data.py</span></a><span style=\"color: #7f7f7f; text-decoration-color: #7f7f7f\">:</span><a href=\"file:///home/moritz/dev/uni/mcr-py/notebooks/../src/package/mcr/data.py#44\" target=\"_blank\"><span style=\"color: #7f7f7f; text-decoration-color: #7f7f7f\">44</span></a>\n",
       "</pre>\n"
      ],
      "text/plain": [
       "\u001b[2;36m          \u001b[0m\u001b[2;36m \u001b[0m\u001b[34mINFO    \u001b[0m Using existing OSM data                                                              \u001b]8;id=716999;file:///home/moritz/dev/uni/mcr-py/notebooks/../src/package/mcr/data.py\u001b\\\u001b[2mdata.py\u001b[0m\u001b]8;;\u001b\\\u001b[2m:\u001b[0m\u001b]8;id=36726;file:///home/moritz/dev/uni/mcr-py/notebooks/../src/package/mcr/data.py#44\u001b\\\u001b[2m44\u001b[0m\u001b]8;;\u001b\\\n"
      ]
     },
     "metadata": {},
     "output_type": "display_data"
    },
    {
     "data": {
      "text/html": [
       "<pre style=\"white-space:pre;overflow-x:auto;line-height:normal;font-family:Menlo,'DejaVu Sans Mono',consolas,'Courier New',monospace\"><span style=\"color: #7fbfbf; text-decoration-color: #7fbfbf\">           </span><span style=\"color: #000080; text-decoration-color: #000080\">INFO    </span> Loading OSM network from cache                                                       <a href=\"file:///home/moritz/dev/uni/mcr-py/notebooks/../src/package/mcr/data.py\" target=\"_blank\"><span style=\"color: #7f7f7f; text-decoration-color: #7f7f7f\">data.py</span></a><span style=\"color: #7f7f7f; text-decoration-color: #7f7f7f\">:</span><a href=\"file:///home/moritz/dev/uni/mcr-py/notebooks/../src/package/mcr/data.py#44\" target=\"_blank\"><span style=\"color: #7f7f7f; text-decoration-color: #7f7f7f\">44</span></a>\n",
       "</pre>\n"
      ],
      "text/plain": [
       "\u001b[2;36m          \u001b[0m\u001b[2;36m \u001b[0m\u001b[34mINFO    \u001b[0m Loading OSM network from cache                                                       \u001b]8;id=651826;file:///home/moritz/dev/uni/mcr-py/notebooks/../src/package/mcr/data.py\u001b\\\u001b[2mdata.py\u001b[0m\u001b]8;;\u001b\\\u001b[2m:\u001b[0m\u001b]8;id=917037;file:///home/moritz/dev/uni/mcr-py/notebooks/../src/package/mcr/data.py#44\u001b\\\u001b[2m44\u001b[0m\u001b]8;;\u001b\\\n"
      ]
     },
     "metadata": {},
     "output_type": "display_data"
    },
    {
     "data": {
      "text/html": [
       "<pre style=\"white-space:pre;overflow-x:auto;line-height:normal;font-family:Menlo,'DejaVu Sans Mono',consolas,'Courier New',monospace\"><span style=\"color: #7fbfbf; text-decoration-color: #7fbfbf\">[16:53:07] </span><span style=\"color: #000080; text-decoration-color: #000080\">INFO    </span> Preparing graphs done <span style=\"font-weight: bold\">(</span><span style=\"color: #00ff00; text-decoration-color: #00ff00; font-weight: bold\">1:01</span> minutes<span style=\"font-weight: bold\">)</span>                                                 <a href=\"file:///home/moritz/dev/uni/mcr-py/notebooks/../src/package/mcr/data.py\" target=\"_blank\"><span style=\"color: #7f7f7f; text-decoration-color: #7f7f7f\">data.py</span></a><span style=\"color: #7f7f7f; text-decoration-color: #7f7f7f\">:</span><a href=\"file:///home/moritz/dev/uni/mcr-py/notebooks/../src/package/mcr/data.py#44\" target=\"_blank\"><span style=\"color: #7f7f7f; text-decoration-color: #7f7f7f\">44</span></a>\n",
       "</pre>\n"
      ],
      "text/plain": [
       "\u001b[2;36m[16:53:07]\u001b[0m\u001b[2;36m \u001b[0m\u001b[34mINFO    \u001b[0m Preparing graphs done \u001b[1m(\u001b[0m\u001b[1;92m1:01\u001b[0m minutes\u001b[1m)\u001b[0m                                                 \u001b]8;id=820423;file:///home/moritz/dev/uni/mcr-py/notebooks/../src/package/mcr/data.py\u001b\\\u001b[2mdata.py\u001b[0m\u001b]8;;\u001b\\\u001b[2m:\u001b[0m\u001b]8;id=601336;file:///home/moritz/dev/uni/mcr-py/notebooks/../src/package/mcr/data.py#44\u001b\\\u001b[2m44\u001b[0m\u001b]8;;\u001b\\\n"
      ]
     },
     "metadata": {},
     "output_type": "display_data"
    },
    {
     "data": {
      "text/html": [
       "<pre style=\"white-space:pre;overflow-x:auto;line-height:normal;font-family:Menlo,'DejaVu Sans Mono',consolas,'Courier New',monospace\"><span style=\"color: #7fbfbf; text-decoration-color: #7fbfbf\">           </span><span style=\"color: #000080; text-decoration-color: #000080\">INFO    </span> Creating graph cache                                                                <a href=\"file:///home/moritz/dev/uni/mcr-py/notebooks/../src/package/mcr/data.py\" target=\"_blank\"><span style=\"color: #7f7f7f; text-decoration-color: #7f7f7f\">data.py</span></a><span style=\"color: #7f7f7f; text-decoration-color: #7f7f7f\">:</span><a href=\"file:///home/moritz/dev/uni/mcr-py/notebooks/../src/package/mcr/data.py#144\" target=\"_blank\"><span style=\"color: #7f7f7f; text-decoration-color: #7f7f7f\">144</span></a>\n",
       "</pre>\n"
      ],
      "text/plain": [
       "\u001b[2;36m          \u001b[0m\u001b[2;36m \u001b[0m\u001b[34mINFO    \u001b[0m Creating graph cache                                                                \u001b]8;id=626266;file:///home/moritz/dev/uni/mcr-py/notebooks/../src/package/mcr/data.py\u001b\\\u001b[2mdata.py\u001b[0m\u001b]8;;\u001b\\\u001b[2m:\u001b[0m\u001b]8;id=306109;file:///home/moritz/dev/uni/mcr-py/notebooks/../src/package/mcr/data.py#144\u001b\\\u001b[2m144\u001b[0m\u001b]8;;\u001b\\\n"
      ]
     },
     "metadata": {},
     "output_type": "display_data"
    },
    {
     "data": {
      "text/html": [
       "<pre style=\"white-space:pre;overflow-x:auto;line-height:normal;font-family:Menlo,'DejaVu Sans Mono',consolas,'Courier New',monospace\"><span style=\"color: #7fbfbf; text-decoration-color: #7fbfbf\">[16:53:18] </span><span style=\"color: #000080; text-decoration-color: #000080\">INFO    </span> Creating graph cache done <span style=\"font-weight: bold\">(</span><span style=\"color: #008080; text-decoration-color: #008080; font-weight: bold\">10.86</span> seconds<span style=\"font-weight: bold\">)</span>                                           <a href=\"file:///home/moritz/dev/uni/mcr-py/notebooks/../src/package/mcr/data.py\" target=\"_blank\"><span style=\"color: #7f7f7f; text-decoration-color: #7f7f7f\">data.py</span></a><span style=\"color: #7f7f7f; text-decoration-color: #7f7f7f\">:</span><a href=\"file:///home/moritz/dev/uni/mcr-py/notebooks/../src/package/mcr/data.py#144\" target=\"_blank\"><span style=\"color: #7f7f7f; text-decoration-color: #7f7f7f\">144</span></a>\n",
       "</pre>\n"
      ],
      "text/plain": [
       "\u001b[2;36m[16:53:18]\u001b[0m\u001b[2;36m \u001b[0m\u001b[34mINFO    \u001b[0m Creating graph cache done \u001b[1m(\u001b[0m\u001b[1;36m10.86\u001b[0m seconds\u001b[1m)\u001b[0m                                           \u001b]8;id=608175;file:///home/moritz/dev/uni/mcr-py/notebooks/../src/package/mcr/data.py\u001b\\\u001b[2mdata.py\u001b[0m\u001b]8;;\u001b\\\u001b[2m:\u001b[0m\u001b]8;id=507904;file:///home/moritz/dev/uni/mcr-py/notebooks/../src/package/mcr/data.py#144\u001b\\\u001b[2m144\u001b[0m\u001b]8;;\u001b\\\n"
      ]
     },
     "metadata": {},
     "output_type": "display_data"
    }
   ],
   "source": [
    "logger = rlog\n",
    "timer = Timed\n",
    "geo_meta = GeoMeta.load(geo_meta_path)\n",
    "geo_data = MCRGeoData(\n",
    "\tstops_path,\n",
    "\tstructs_path,\n",
    "\tgeo_meta,\n",
    "\tcity_id,\n",
    "\tbicycle_location_path=bicycle_location_path,\n",
    ")"
   ]
  },
  {
   "cell_type": "code",
   "execution_count": 53,
   "metadata": {},
   "outputs": [],
   "source": [
    "pois = minute_city.fetch_pois_for_area(geo_meta.boundary, nodes)"
   ]
  },
  {
   "cell_type": "code",
   "execution_count": 54,
   "metadata": {},
   "outputs": [],
   "source": [
    "geo_data.add_pois_to_mm_graph(pois)\n",
    "geo_data.add_pois_to_walking_graph(pois)"
   ]
  },
  {
   "cell_type": "code",
   "execution_count": 55,
   "metadata": {},
   "outputs": [],
   "source": [
    "mcr = MCR(geo_data, disable_paths=True, enable_limit=True)"
   ]
  },
  {
   "cell_type": "code",
   "execution_count": 56,
   "metadata": {},
   "outputs": [
    {
     "data": {
      "text/html": [
       "<pre style=\"white-space:pre;overflow-x:auto;line-height:normal;font-family:Menlo,'DejaVu Sans Mono',consolas,'Courier New',monospace\"><span style=\"color: #7fbfbf; text-decoration-color: #7fbfbf\">[16:53:27] </span><span style=\"color: #000080; text-decoration-color: #000080\">INFO    </span> Running Dijkstra step                                                              <a href=\"file:///home/moritz/dev/uni/mcr-py/notebooks/../src/package/logger.py\" target=\"_blank\"><span style=\"color: #7f7f7f; text-decoration-color: #7f7f7f\">logger.py</span></a><span style=\"color: #7f7f7f; text-decoration-color: #7f7f7f\">:</span><a href=\"file:///home/moritz/dev/uni/mcr-py/notebooks/../src/package/logger.py#37\" target=\"_blank\"><span style=\"color: #7f7f7f; text-decoration-color: #7f7f7f\">37</span></a>\n",
       "</pre>\n"
      ],
      "text/plain": [
       "\u001b[2;36m[16:53:27]\u001b[0m\u001b[2;36m \u001b[0m\u001b[34mINFO    \u001b[0m Running Dijkstra step                                                              \u001b]8;id=913457;file:///home/moritz/dev/uni/mcr-py/notebooks/../src/package/logger.py\u001b\\\u001b[2mlogger.py\u001b[0m\u001b]8;;\u001b\\\u001b[2m:\u001b[0m\u001b]8;id=126738;file:///home/moritz/dev/uni/mcr-py/notebooks/../src/package/logger.py#37\u001b\\\u001b[2m37\u001b[0m\u001b]8;;\u001b\\\n"
      ]
     },
     "metadata": {},
     "output_type": "display_data"
    },
    {
     "data": {
      "text/html": [
       "<pre style=\"white-space:pre;overflow-x:auto;line-height:normal;font-family:Menlo,'DejaVu Sans Mono',consolas,'Courier New',monospace\"><span style=\"color: #7fbfbf; text-decoration-color: #7fbfbf\">           </span><span style=\"color: #800000; text-decoration-color: #800000\">WARNING </span> <span style=\"color: #008080; text-decoration-color: #008080; font-weight: bold\">94</span> labels were discarded because they exceeded the limit                             <a href=\"file:///home/moritz/dev/uni/mlc/src/mlc.rs\" target=\"_blank\"><span style=\"color: #7f7f7f; text-decoration-color: #7f7f7f\">mlc.rs</span></a><span style=\"color: #7f7f7f; text-decoration-color: #7f7f7f\">:</span><a href=\"file:///home/moritz/dev/uni/mlc/src/mlc.rs#307\" target=\"_blank\"><span style=\"color: #7f7f7f; text-decoration-color: #7f7f7f\">307</span></a>\n",
       "</pre>\n"
      ],
      "text/plain": [
       "\u001b[2;36m          \u001b[0m\u001b[2;36m \u001b[0m\u001b[31mWARNING \u001b[0m \u001b[1;36m94\u001b[0m labels were discarded because they exceeded the limit                             \u001b]8;id=662103;file:///home/moritz/dev/uni/mlc/src/mlc.rs\u001b\\\u001b[2mmlc.rs\u001b[0m\u001b]8;;\u001b\\\u001b[2m:\u001b[0m\u001b]8;id=584350;file:///home/moritz/dev/uni/mlc/src/mlc.rs#307\u001b\\\u001b[2m307\u001b[0m\u001b]8;;\u001b\\\n"
      ]
     },
     "metadata": {},
     "output_type": "display_data"
    },
    {
     "data": {
      "text/html": [
       "<pre style=\"white-space:pre;overflow-x:auto;line-height:normal;font-family:Menlo,'DejaVu Sans Mono',consolas,'Courier New',monospace\"><span style=\"color: #7fbfbf; text-decoration-color: #7fbfbf\">           </span><span style=\"color: #000080; text-decoration-color: #000080\">INFO    </span> Running Dijkstra step done <span style=\"font-weight: bold\">(</span><span style=\"color: #008080; text-decoration-color: #008080; font-weight: bold\">0.09</span> seconds<span style=\"font-weight: bold\">)</span>                                          <a href=\"file:///home/moritz/dev/uni/mcr-py/notebooks/../src/package/logger.py\" target=\"_blank\"><span style=\"color: #7f7f7f; text-decoration-color: #7f7f7f\">logger.py</span></a><span style=\"color: #7f7f7f; text-decoration-color: #7f7f7f\">:</span><a href=\"file:///home/moritz/dev/uni/mcr-py/notebooks/../src/package/logger.py#37\" target=\"_blank\"><span style=\"color: #7f7f7f; text-decoration-color: #7f7f7f\">37</span></a>\n",
       "</pre>\n"
      ],
      "text/plain": [
       "\u001b[2;36m          \u001b[0m\u001b[2;36m \u001b[0m\u001b[34mINFO    \u001b[0m Running Dijkstra step done \u001b[1m(\u001b[0m\u001b[1;36m0.09\u001b[0m seconds\u001b[1m)\u001b[0m                                          \u001b]8;id=800406;file:///home/moritz/dev/uni/mcr-py/notebooks/../src/package/logger.py\u001b\\\u001b[2mlogger.py\u001b[0m\u001b]8;;\u001b\\\u001b[2m:\u001b[0m\u001b]8;id=903190;file:///home/moritz/dev/uni/mcr-py/notebooks/../src/package/logger.py#37\u001b\\\u001b[2m37\u001b[0m\u001b]8;;\u001b\\\n"
      ]
     },
     "metadata": {},
     "output_type": "display_data"
    }
   ],
   "source": [
    "\n",
    "start_time_in_seconds = strtime.str_time_to_seconds(start_time)\n",
    "\n",
    "bags_i: dict[int, IntermediateBags] = {}\n",
    "\n",
    "mcr.logger.debug(f\"Starting MCR with config: {mcr.__dict__}\")\n",
    "\n",
    "with mcr.timer.info(\"Running Dijkstra step\"):\n",
    "\twalking_result_bags = mcr_py.run_mlc_with_node_and_time(\n",
    "\t\tmcr.geo_data.walking_graph_cache,\n",
    "\t\tmcr.geo_data.walking_node_to_resetted_map[f\"W{start_node_id}\"],\n",
    "\t\tstart_time_in_seconds,\n",
    "\t\tdisable_paths=mcr.disable_paths,\n",
    "\t\tenable_limit=mcr.enable_limit,\n",
    "\t)"
   ]
  },
  {
   "cell_type": "code",
   "execution_count": 57,
   "metadata": {},
   "outputs": [
    {
     "data": {
      "text/html": [
       "<pre style=\"white-space:pre;overflow-x:auto;line-height:normal;font-family:Menlo,'DejaVu Sans Mono',consolas,'Courier New',monospace\"><span style=\"color: #7fbfbf; text-decoration-color: #7fbfbf\">           </span><span style=\"color: #000080; text-decoration-color: #000080\">INFO    </span> Extracting dijkstra step bags                                                      <a href=\"file:///home/moritz/dev/uni/mcr-py/notebooks/../src/package/logger.py\" target=\"_blank\"><span style=\"color: #7f7f7f; text-decoration-color: #7f7f7f\">logger.py</span></a><span style=\"color: #7f7f7f; text-decoration-color: #7f7f7f\">:</span><a href=\"file:///home/moritz/dev/uni/mcr-py/notebooks/../src/package/logger.py#37\" target=\"_blank\"><span style=\"color: #7f7f7f; text-decoration-color: #7f7f7f\">37</span></a>\n",
       "</pre>\n"
      ],
      "text/plain": [
       "\u001b[2;36m          \u001b[0m\u001b[2;36m \u001b[0m\u001b[34mINFO    \u001b[0m Extracting dijkstra step bags                                                      \u001b]8;id=134936;file:///home/moritz/dev/uni/mcr-py/notebooks/../src/package/logger.py\u001b\\\u001b[2mlogger.py\u001b[0m\u001b]8;;\u001b\\\u001b[2m:\u001b[0m\u001b]8;id=184691;file:///home/moritz/dev/uni/mcr-py/notebooks/../src/package/logger.py#37\u001b\\\u001b[2m37\u001b[0m\u001b]8;;\u001b\\\n"
      ]
     },
     "metadata": {},
     "output_type": "display_data"
    },
    {
     "data": {
      "text/html": [
       "<pre style=\"white-space:pre;overflow-x:auto;line-height:normal;font-family:Menlo,'DejaVu Sans Mono',consolas,'Courier New',monospace\"><span style=\"color: #7fbfbf; text-decoration-color: #7fbfbf\">           </span><span style=\"color: #000080; text-decoration-color: #000080\">INFO    </span> Extracting dijkstra step bags done <span style=\"font-weight: bold\">(</span><span style=\"color: #008080; text-decoration-color: #008080; font-weight: bold\">0.02</span> seconds<span style=\"font-weight: bold\">)</span>                                  <a href=\"file:///home/moritz/dev/uni/mcr-py/notebooks/../src/package/logger.py\" target=\"_blank\"><span style=\"color: #7f7f7f; text-decoration-color: #7f7f7f\">logger.py</span></a><span style=\"color: #7f7f7f; text-decoration-color: #7f7f7f\">:</span><a href=\"file:///home/moritz/dev/uni/mcr-py/notebooks/../src/package/logger.py#37\" target=\"_blank\"><span style=\"color: #7f7f7f; text-decoration-color: #7f7f7f\">37</span></a>\n",
       "</pre>\n"
      ],
      "text/plain": [
       "\u001b[2;36m          \u001b[0m\u001b[2;36m \u001b[0m\u001b[34mINFO    \u001b[0m Extracting dijkstra step bags done \u001b[1m(\u001b[0m\u001b[1;36m0.02\u001b[0m seconds\u001b[1m)\u001b[0m                                  \u001b]8;id=922310;file:///home/moritz/dev/uni/mcr-py/notebooks/../src/package/logger.py\u001b\\\u001b[2mlogger.py\u001b[0m\u001b]8;;\u001b\\\u001b[2m:\u001b[0m\u001b]8;id=320041;file:///home/moritz/dev/uni/mcr-py/notebooks/../src/package/logger.py#37\u001b\\\u001b[2m37\u001b[0m\u001b]8;;\u001b\\\n"
      ]
     },
     "metadata": {},
     "output_type": "display_data"
    }
   ],
   "source": [
    "with mcr.timer.info(\"Extracting dijkstra step bags\"):\n",
    "\twalking_result_bags = mcr.convert_walking_bags(\n",
    "\t\twalking_result_bags,\n",
    "\t)\n",
    "\tbags_i[0] = walking_result_bags\n",
    "\n",
    "\tn_osm_nodes = len(walking_result_bags)\n",
    "\tmcr.logger.debug(f\"Found {n_osm_nodes} osm nodes in walking step\")"
   ]
  },
  {
   "cell_type": "code",
   "execution_count": 86,
   "metadata": {},
   "outputs": [
    {
     "data": {
      "text/plain": [
       "0"
      ]
     },
     "execution_count": 86,
     "metadata": {},
     "output_type": "execute_result"
    }
   ],
   "source": [
    "test = pd.DataFrame(\n",
    "    [(label.path, label) for bag in walking_result_bags.values() for label in bag],\n",
    "    columns=[\"path\", \"label\"],\n",
    ")\n",
    "len(test[test.path.apply(lambda x: len(x) > 1)])"
   ]
  },
  {
   "cell_type": "code",
   "execution_count": 93,
   "metadata": {},
   "outputs": [
    {
     "data": {
      "text/plain": [
       "IntermediateLabel(values=[28800, 0], hidden_values=[0, 0], path=[66346], node_id=8734972825)"
      ]
     },
     "execution_count": 93,
     "metadata": {},
     "output_type": "execute_result"
    }
   ],
   "source": [
    "test[test.path.astype(str) != '[]'].label.iloc[0]"
   ]
  },
  {
   "cell_type": "code",
   "execution_count": 61,
   "metadata": {},
   "outputs": [
    {
     "data": {
      "text/html": [
       "<pre style=\"white-space:pre;overflow-x:auto;line-height:normal;font-family:Menlo,'DejaVu Sans Mono',consolas,'Courier New',monospace\"><span style=\"color: #7fbfbf; text-decoration-color: #7fbfbf\">[16:55:05] </span><span style=\"color: #000080; text-decoration-color: #000080\">INFO    </span> Running iteration <span style=\"color: #008080; text-decoration-color: #008080; font-weight: bold\">1</span>                                                             <a href=\"file:///tmp/ipykernel_125110/4269777464.py\" target=\"_blank\"><span style=\"color: #7f7f7f; text-decoration-color: #7f7f7f\">4269777464.py</span></a><span style=\"color: #7f7f7f; text-decoration-color: #7f7f7f\">:</span><a href=\"file:///tmp/ipykernel_125110/4269777464.py#2\" target=\"_blank\"><span style=\"color: #7f7f7f; text-decoration-color: #7f7f7f\">2</span></a>\n",
       "</pre>\n"
      ],
      "text/plain": [
       "\u001b[2;36m[16:55:05]\u001b[0m\u001b[2;36m \u001b[0m\u001b[34mINFO    \u001b[0m Running iteration \u001b[1;36m1\u001b[0m                                                             \u001b]8;id=917957;file:///tmp/ipykernel_125110/4269777464.py\u001b\\\u001b[2m4269777464.py\u001b[0m\u001b]8;;\u001b\\\u001b[2m:\u001b[0m\u001b]8;id=544594;file:///tmp/ipykernel_125110/4269777464.py#2\u001b\\\u001b[2m2\u001b[0m\u001b]8;;\u001b\\\n"
      ]
     },
     "metadata": {},
     "output_type": "display_data"
    }
   ],
   "source": [
    "i = 1\n",
    "mcr.logger.info(f\"Running iteration {i}\")\n",
    "offset = i * 2 - 1"
   ]
  },
  {
   "cell_type": "code",
   "execution_count": 82,
   "metadata": {},
   "outputs": [
    {
     "name": "stderr",
     "output_type": "stream",
     "text": [
      "[autoreload of mcr_py failed: Traceback (most recent call last):\n",
      "  File \"/home/moritz/miniconda3/envs/mcr-py/lib/python3.10/site-packages/IPython/extensions/autoreload.py\", line 276, in check\n",
      "    superreload(m, reload, self.old_objects)\n",
      "  File \"/home/moritz/miniconda3/envs/mcr-py/lib/python3.10/site-packages/IPython/extensions/autoreload.py\", line 475, in superreload\n",
      "    module = reload(module)\n",
      "  File \"/home/moritz/miniconda3/envs/mcr-py/lib/python3.10/importlib/__init__.py\", line 169, in reload\n",
      "    _bootstrap._exec(spec, module)\n",
      "  File \"<frozen importlib._bootstrap>\", line 619, in _exec\n",
      "  File \"<frozen importlib._bootstrap_external>\", line 883, in exec_module\n",
      "  File \"<frozen importlib._bootstrap>\", line 241, in _call_with_frames_removed\n",
      "  File \"/home/moritz/miniconda3/envs/mcr-py/lib/python3.10/site-packages/mcr_py/__init__.py\", line 3, in <module>\n",
      "    __doc__ = mcr_py.__doc__\n",
      "NameError: name 'mcr_py' is not defined\n",
      "]\n"
     ]
    },
    {
     "data": {
      "text/html": [
       "<pre style=\"white-space:pre;overflow-x:auto;line-height:normal;font-family:Menlo,'DejaVu Sans Mono',consolas,'Courier New',monospace\"><span style=\"color: #7fbfbf; text-decoration-color: #7fbfbf\">[17:08:10] </span><span style=\"color: #000080; text-decoration-color: #000080\">INFO    </span> Preparing input for bicycle step                                                   <a href=\"file:///home/moritz/dev/uni/mcr-py/notebooks/../src/package/logger.py\" target=\"_blank\"><span style=\"color: #7f7f7f; text-decoration-color: #7f7f7f\">logger.py</span></a><span style=\"color: #7f7f7f; text-decoration-color: #7f7f7f\">:</span><a href=\"file:///home/moritz/dev/uni/mcr-py/notebooks/../src/package/logger.py#37\" target=\"_blank\"><span style=\"color: #7f7f7f; text-decoration-color: #7f7f7f\">37</span></a>\n",
       "</pre>\n"
      ],
      "text/plain": [
       "\u001b[2;36m[17:08:10]\u001b[0m\u001b[2;36m \u001b[0m\u001b[34mINFO    \u001b[0m Preparing input for bicycle step                                                   \u001b]8;id=105291;file:///home/moritz/dev/uni/mcr-py/notebooks/../src/package/logger.py\u001b\\\u001b[2mlogger.py\u001b[0m\u001b]8;;\u001b\\\u001b[2m:\u001b[0m\u001b]8;id=279453;file:///home/moritz/dev/uni/mcr-py/notebooks/../src/package/logger.py#37\u001b\\\u001b[2m37\u001b[0m\u001b]8;;\u001b\\\n"
      ]
     },
     "metadata": {},
     "output_type": "display_data"
    },
    {
     "data": {
      "text/html": [
       "<pre style=\"white-space:pre;overflow-x:auto;line-height:normal;font-family:Menlo,'DejaVu Sans Mono',consolas,'Courier New',monospace\"><span style=\"color: #7fbfbf; text-decoration-color: #7fbfbf\">           </span><span style=\"color: #800000; text-decoration-color: #800000\">WARNING </span> No bicycles reached with walking step                                              <a href=\"file:///home/moritz/dev/uni/mcr-py/notebooks/../src/package/logger.py\" target=\"_blank\"><span style=\"color: #7f7f7f; text-decoration-color: #7f7f7f\">logger.py</span></a><span style=\"color: #7f7f7f; text-decoration-color: #7f7f7f\">:</span><a href=\"file:///home/moritz/dev/uni/mcr-py/notebooks/../src/package/logger.py#37\" target=\"_blank\"><span style=\"color: #7f7f7f; text-decoration-color: #7f7f7f\">37</span></a>\n",
       "</pre>\n"
      ],
      "text/plain": [
       "\u001b[2;36m          \u001b[0m\u001b[2;36m \u001b[0m\u001b[31mWARNING \u001b[0m No bicycles reached with walking step                                              \u001b]8;id=649234;file:///home/moritz/dev/uni/mcr-py/notebooks/../src/package/logger.py\u001b\\\u001b[2mlogger.py\u001b[0m\u001b]8;;\u001b\\\u001b[2m:\u001b[0m\u001b]8;id=102446;file:///home/moritz/dev/uni/mcr-py/notebooks/../src/package/logger.py#37\u001b\\\u001b[2m37\u001b[0m\u001b]8;;\u001b\\\n"
      ]
     },
     "metadata": {},
     "output_type": "display_data"
    },
    {
     "data": {
      "text/html": [
       "<pre style=\"white-space:pre;overflow-x:auto;line-height:normal;font-family:Menlo,'DejaVu Sans Mono',consolas,'Courier New',monospace\"><span style=\"color: #7fbfbf; text-decoration-color: #7fbfbf\">           </span><span style=\"color: #000080; text-decoration-color: #000080\">INFO    </span> Preparing input for bicycle step done <span style=\"font-weight: bold\">(</span><span style=\"color: #008080; text-decoration-color: #008080; font-weight: bold\">0.01</span> seconds<span style=\"font-weight: bold\">)</span>                               <a href=\"file:///home/moritz/dev/uni/mcr-py/notebooks/../src/package/logger.py\" target=\"_blank\"><span style=\"color: #7f7f7f; text-decoration-color: #7f7f7f\">logger.py</span></a><span style=\"color: #7f7f7f; text-decoration-color: #7f7f7f\">:</span><a href=\"file:///home/moritz/dev/uni/mcr-py/notebooks/../src/package/logger.py#37\" target=\"_blank\"><span style=\"color: #7f7f7f; text-decoration-color: #7f7f7f\">37</span></a>\n",
       "</pre>\n"
      ],
      "text/plain": [
       "\u001b[2;36m          \u001b[0m\u001b[2;36m \u001b[0m\u001b[34mINFO    \u001b[0m Preparing input for bicycle step done \u001b[1m(\u001b[0m\u001b[1;36m0.01\u001b[0m seconds\u001b[1m)\u001b[0m                               \u001b]8;id=967626;file:///home/moritz/dev/uni/mcr-py/notebooks/../src/package/logger.py\u001b\\\u001b[2mlogger.py\u001b[0m\u001b]8;;\u001b\\\u001b[2m:\u001b[0m\u001b]8;id=53122;file:///home/moritz/dev/uni/mcr-py/notebooks/../src/package/logger.py#37\u001b\\\u001b[2m37\u001b[0m\u001b]8;;\u001b\\\n"
      ]
     },
     "metadata": {},
     "output_type": "display_data"
    }
   ],
   "source": [
    "bicycle_result_bags = mcr.run_bicycle_step(walking_result_bags, offset)"
   ]
  },
  {
   "cell_type": "code",
   "execution_count": 83,
   "metadata": {},
   "outputs": [
    {
     "data": {
      "text/html": [
       "<pre style=\"white-space:pre;overflow-x:auto;line-height:normal;font-family:Menlo,'DejaVu Sans Mono',consolas,'Courier New',monospace\"><span style=\"color: #7fbfbf; text-decoration-color: #7fbfbf\">[17:08:13] </span><span style=\"color: #000080; text-decoration-color: #000080\">INFO    </span> Preparing input for MCRAPTOR step                                                  <a href=\"file:///home/moritz/dev/uni/mcr-py/notebooks/../src/package/logger.py\" target=\"_blank\"><span style=\"color: #7f7f7f; text-decoration-color: #7f7f7f\">logger.py</span></a><span style=\"color: #7f7f7f; text-decoration-color: #7f7f7f\">:</span><a href=\"file:///home/moritz/dev/uni/mcr-py/notebooks/../src/package/logger.py#37\" target=\"_blank\"><span style=\"color: #7f7f7f; text-decoration-color: #7f7f7f\">37</span></a>\n",
       "</pre>\n"
      ],
      "text/plain": [
       "\u001b[2;36m[17:08:13]\u001b[0m\u001b[2;36m \u001b[0m\u001b[34mINFO    \u001b[0m Preparing input for MCRAPTOR step                                                  \u001b]8;id=662071;file:///home/moritz/dev/uni/mcr-py/notebooks/../src/package/logger.py\u001b\\\u001b[2mlogger.py\u001b[0m\u001b]8;;\u001b\\\u001b[2m:\u001b[0m\u001b]8;id=659062;file:///home/moritz/dev/uni/mcr-py/notebooks/../src/package/logger.py#37\u001b\\\u001b[2m37\u001b[0m\u001b]8;;\u001b\\\n"
      ]
     },
     "metadata": {},
     "output_type": "display_data"
    },
    {
     "name": "stdout",
     "output_type": "stream",
     "text": [
      "[66346] 647\n"
     ]
    },
    {
     "data": {
      "text/html": [
       "<pre style=\"white-space:pre;overflow-x:auto;line-height:normal;font-family:Menlo,'DejaVu Sans Mono',consolas,'Courier New',monospace\"><span style=\"color: #7fbfbf; text-decoration-color: #7fbfbf\">           </span><span style=\"color: #000080; text-decoration-color: #000080\">INFO    </span> Preparing input for MCRAPTOR step done <span style=\"font-weight: bold\">(</span><span style=\"color: #008080; text-decoration-color: #008080; font-weight: bold\">0.01</span> seconds<span style=\"font-weight: bold\">)</span>                              <a href=\"file:///home/moritz/dev/uni/mcr-py/notebooks/../src/package/logger.py\" target=\"_blank\"><span style=\"color: #7f7f7f; text-decoration-color: #7f7f7f\">logger.py</span></a><span style=\"color: #7f7f7f; text-decoration-color: #7f7f7f\">:</span><a href=\"file:///home/moritz/dev/uni/mcr-py/notebooks/../src/package/logger.py#37\" target=\"_blank\"><span style=\"color: #7f7f7f; text-decoration-color: #7f7f7f\">37</span></a>\n",
       "</pre>\n"
      ],
      "text/plain": [
       "\u001b[2;36m          \u001b[0m\u001b[2;36m \u001b[0m\u001b[34mINFO    \u001b[0m Preparing input for MCRAPTOR step done \u001b[1m(\u001b[0m\u001b[1;36m0.01\u001b[0m seconds\u001b[1m)\u001b[0m                              \u001b]8;id=364086;file:///home/moritz/dev/uni/mcr-py/notebooks/../src/package/logger.py\u001b\\\u001b[2mlogger.py\u001b[0m\u001b]8;;\u001b\\\u001b[2m:\u001b[0m\u001b]8;id=103183;file:///home/moritz/dev/uni/mcr-py/notebooks/../src/package/logger.py#37\u001b\\\u001b[2m37\u001b[0m\u001b]8;;\u001b\\\n"
      ]
     },
     "metadata": {},
     "output_type": "display_data"
    }
   ],
   "source": [
    "with mcr.timer.info(\"Preparing input for MCRAPTOR step\"):\n",
    "\tmc_raptor_bags = mcr.prepare_mcraptor_step_input(walking_result_bags)"
   ]
  },
  {
   "cell_type": "code",
   "execution_count": 80,
   "metadata": {},
   "outputs": [
    {
     "data": {
      "text/plain": [
       "{'641': {Label(29555)},\n",
       " '640': {Label(29795)},\n",
       " '649': {Label(29851)},\n",
       " '650': {Label(29690)},\n",
       " '817': {Label(29357)},\n",
       " '645': {Label(29789)},\n",
       " '644': {Label(29923)},\n",
       " '647': {McRAPTORLabelWithPath(time=28800, cost=0, n_stops=0, path=[66346])},\n",
       " '812': {Label(29171)},\n",
       " '813': {Label(29660)},\n",
       " '648': {Label(29544)},\n",
       " '842': {Label(29902)}}"
      ]
     },
     "execution_count": 80,
     "metadata": {},
     "output_type": "execute_result"
    }
   ],
   "source": [
    "mc_raptor_bags"
   ]
  },
  {
   "cell_type": "code",
   "execution_count": null,
   "metadata": {},
   "outputs": [],
   "source": [
    "with mcr.timer.info(\"Running MCRAPTOR step\"):\n",
    "\tmc_raptor = McRaptorSingle(\n",
    "\t\tmcr.geo_data.structs_dict,\n",
    "\t\tdefault_transfer_time=60,\n",
    "\t\tlabel_class=(\n",
    "\t\t\tMcRAPTORLabel if mcr.disable_paths else McRAPTORLabelWithPath\n",
    "\t\t),\n",
    "\t)\n",
    "\tmc_raptor_result_bags = mc_raptor.run(mc_raptor_bags)  # type: ignore\n",
    "\n",
    "with mcr.timer.info(\"Extracting MCRAPTOR step bags\"):\n",
    "\tmc_raptor_result_bags = mcr.convert_mc_raptor_bags(\n",
    "\t\tmc_raptor_result_bags, path_index_offset=offset\n",
    "\t)\n",
    "\tif len(mc_raptor_result_bags) == 0:\n",
    "\t\tmcr.logger.warn(\"No MCRAPTOR bags found\")"
   ]
  },
  {
   "cell_type": "code",
   "execution_count": 78,
   "metadata": {},
   "outputs": [
    {
     "name": "stderr",
     "output_type": "stream",
     "text": [
      "[autoreload of mcr_py failed: Traceback (most recent call last):\n",
      "  File \"/home/moritz/miniconda3/envs/mcr-py/lib/python3.10/site-packages/IPython/extensions/autoreload.py\", line 276, in check\n",
      "    superreload(m, reload, self.old_objects)\n",
      "  File \"/home/moritz/miniconda3/envs/mcr-py/lib/python3.10/site-packages/IPython/extensions/autoreload.py\", line 475, in superreload\n",
      "    module = reload(module)\n",
      "  File \"/home/moritz/miniconda3/envs/mcr-py/lib/python3.10/importlib/__init__.py\", line 169, in reload\n",
      "    _bootstrap._exec(spec, module)\n",
      "  File \"<frozen importlib._bootstrap>\", line 619, in _exec\n",
      "  File \"<frozen importlib._bootstrap_external>\", line 883, in exec_module\n",
      "  File \"<frozen importlib._bootstrap>\", line 241, in _call_with_frames_removed\n",
      "  File \"/home/moritz/miniconda3/envs/mcr-py/lib/python3.10/site-packages/mcr_py/__init__.py\", line 3, in <module>\n",
      "    __doc__ = mcr_py.__doc__\n",
      "NameError: name 'mcr_py' is not defined\n",
      "]\n"
     ]
    },
    {
     "data": {
      "text/html": [
       "<pre style=\"white-space:pre;overflow-x:auto;line-height:normal;font-family:Menlo,'DejaVu Sans Mono',consolas,'Courier New',monospace\"><span style=\"color: #7fbfbf; text-decoration-color: #7fbfbf\">[17:05:35] </span><span style=\"color: #000080; text-decoration-color: #000080\">INFO    </span> Preparing input for MCRAPTOR step                                                  <a href=\"file:///home/moritz/dev/uni/mcr-py/notebooks/../src/package/logger.py\" target=\"_blank\"><span style=\"color: #7f7f7f; text-decoration-color: #7f7f7f\">logger.py</span></a><span style=\"color: #7f7f7f; text-decoration-color: #7f7f7f\">:</span><a href=\"file:///home/moritz/dev/uni/mcr-py/notebooks/../src/package/logger.py#37\" target=\"_blank\"><span style=\"color: #7f7f7f; text-decoration-color: #7f7f7f\">37</span></a>\n",
       "</pre>\n"
      ],
      "text/plain": [
       "\u001b[2;36m[17:05:35]\u001b[0m\u001b[2;36m \u001b[0m\u001b[34mINFO    \u001b[0m Preparing input for MCRAPTOR step                                                  \u001b]8;id=922552;file:///home/moritz/dev/uni/mcr-py/notebooks/../src/package/logger.py\u001b\\\u001b[2mlogger.py\u001b[0m\u001b]8;;\u001b\\\u001b[2m:\u001b[0m\u001b]8;id=183999;file:///home/moritz/dev/uni/mcr-py/notebooks/../src/package/logger.py#37\u001b\\\u001b[2m37\u001b[0m\u001b]8;;\u001b\\\n"
      ]
     },
     "metadata": {},
     "output_type": "display_data"
    },
    {
     "data": {
      "text/html": [
       "<pre style=\"white-space:pre;overflow-x:auto;line-height:normal;font-family:Menlo,'DejaVu Sans Mono',consolas,'Courier New',monospace\"><span style=\"color: #7fbfbf; text-decoration-color: #7fbfbf\">           </span><span style=\"color: #000080; text-decoration-color: #000080\">INFO    </span> Preparing input for MCRAPTOR step done <span style=\"font-weight: bold\">(</span><span style=\"color: #008080; text-decoration-color: #008080; font-weight: bold\">0.01</span> seconds<span style=\"font-weight: bold\">)</span>                              <a href=\"file:///home/moritz/dev/uni/mcr-py/notebooks/../src/package/logger.py\" target=\"_blank\"><span style=\"color: #7f7f7f; text-decoration-color: #7f7f7f\">logger.py</span></a><span style=\"color: #7f7f7f; text-decoration-color: #7f7f7f\">:</span><a href=\"file:///home/moritz/dev/uni/mcr-py/notebooks/../src/package/logger.py#37\" target=\"_blank\"><span style=\"color: #7f7f7f; text-decoration-color: #7f7f7f\">37</span></a>\n",
       "</pre>\n"
      ],
      "text/plain": [
       "\u001b[2;36m          \u001b[0m\u001b[2;36m \u001b[0m\u001b[34mINFO    \u001b[0m Preparing input for MCRAPTOR step done \u001b[1m(\u001b[0m\u001b[1;36m0.01\u001b[0m seconds\u001b[1m)\u001b[0m                              \u001b]8;id=199182;file:///home/moritz/dev/uni/mcr-py/notebooks/../src/package/logger.py\u001b\\\u001b[2mlogger.py\u001b[0m\u001b]8;;\u001b\\\u001b[2m:\u001b[0m\u001b]8;id=372583;file:///home/moritz/dev/uni/mcr-py/notebooks/../src/package/logger.py#37\u001b\\\u001b[2m37\u001b[0m\u001b]8;;\u001b\\\n"
      ]
     },
     "metadata": {},
     "output_type": "display_data"
    },
    {
     "data": {
      "text/html": [
       "<pre style=\"white-space:pre;overflow-x:auto;line-height:normal;font-family:Menlo,'DejaVu Sans Mono',consolas,'Courier New',monospace\"><span style=\"color: #7fbfbf; text-decoration-color: #7fbfbf\">           </span><span style=\"color: #000080; text-decoration-color: #000080\">INFO    </span> Running MCRAPTOR step                                                              <a href=\"file:///home/moritz/dev/uni/mcr-py/notebooks/../src/package/logger.py\" target=\"_blank\"><span style=\"color: #7f7f7f; text-decoration-color: #7f7f7f\">logger.py</span></a><span style=\"color: #7f7f7f; text-decoration-color: #7f7f7f\">:</span><a href=\"file:///home/moritz/dev/uni/mcr-py/notebooks/../src/package/logger.py#37\" target=\"_blank\"><span style=\"color: #7f7f7f; text-decoration-color: #7f7f7f\">37</span></a>\n",
       "</pre>\n"
      ],
      "text/plain": [
       "\u001b[2;36m          \u001b[0m\u001b[2;36m \u001b[0m\u001b[34mINFO    \u001b[0m Running MCRAPTOR step                                                              \u001b]8;id=867587;file:///home/moritz/dev/uni/mcr-py/notebooks/../src/package/logger.py\u001b\\\u001b[2mlogger.py\u001b[0m\u001b]8;;\u001b\\\u001b[2m:\u001b[0m\u001b]8;id=262555;file:///home/moritz/dev/uni/mcr-py/notebooks/../src/package/logger.py#37\u001b\\\u001b[2m37\u001b[0m\u001b]8;;\u001b\\\n"
      ]
     },
     "metadata": {},
     "output_type": "display_data"
    },
    {
     "data": {
      "text/html": [
       "<pre style=\"white-space:pre;overflow-x:auto;line-height:normal;font-family:Menlo,'DejaVu Sans Mono',consolas,'Courier New',monospace\"><span style=\"color: #7fbfbf; text-decoration-color: #7fbfbf\">           </span><span style=\"color: #800000; text-decoration-color: #800000\">WARNING </span> Added <span style=\"color: #008080; text-decoration-color: #008080; font-weight: bold\">824</span> missing stops to bags <span style=\"font-weight: bold\">(</span><span style=\"color: #008080; text-decoration-color: #008080; font-weight: bold\">98.56</span>%<span style=\"font-weight: bold\">)</span>                                           <a href=\"file:///home/moritz/dev/uni/mcr-py/notebooks/../src/package/logger.py\" target=\"_blank\"><span style=\"color: #7f7f7f; text-decoration-color: #7f7f7f\">logger.py</span></a><span style=\"color: #7f7f7f; text-decoration-color: #7f7f7f\">:</span><a href=\"file:///home/moritz/dev/uni/mcr-py/notebooks/../src/package/logger.py#37\" target=\"_blank\"><span style=\"color: #7f7f7f; text-decoration-color: #7f7f7f\">37</span></a>\n",
       "</pre>\n"
      ],
      "text/plain": [
       "\u001b[2;36m          \u001b[0m\u001b[2;36m \u001b[0m\u001b[31mWARNING \u001b[0m Added \u001b[1;36m824\u001b[0m missing stops to bags \u001b[1m(\u001b[0m\u001b[1;36m98.56\u001b[0m%\u001b[1m)\u001b[0m                                           \u001b]8;id=931496;file:///home/moritz/dev/uni/mcr-py/notebooks/../src/package/logger.py\u001b\\\u001b[2mlogger.py\u001b[0m\u001b]8;;\u001b\\\u001b[2m:\u001b[0m\u001b]8;id=883643;file:///home/moritz/dev/uni/mcr-py/notebooks/../src/package/logger.py#37\u001b\\\u001b[2m37\u001b[0m\u001b]8;;\u001b\\\n"
      ]
     },
     "metadata": {},
     "output_type": "display_data"
    },
    {
     "name": "stdout",
     "output_type": "stream",
     "text": [
      "[McRAPTORLabelWithPath(time=29040, cost=220, n_stops=1, path=[66346, 'STOP_647', 'TRIP_9-151-001-467.2.21:064500-47-2_B7E643E3-5616-4606-9BDE-B03101412D17'])]\n",
      "[Label(29880), McRAPTORLabelWithPath(time=29100, cost=220, n_stops=2, path=[66346, 'STOP_647', 'TRIP_9-151-001-467.2.21:064500-47-2_B7E643E3-5616-4606-9BDE-B03101412D17'])]\n",
      "[McRAPTORLabelWithPath(time=29160, cost=220, n_stops=1, path=[66346, 'STOP_647', 'TRIP_119-151-001-814.2.22:080200-47-2_C26846EF-6A43-4C62-BC00-B0310141273C'])]\n",
      "[McRAPTORLabelWithPath(time=29220, cost=220, n_stops=2, path=[66346, 'STOP_647', 'TRIP_119-151-001-814.2.22:080200-47-2_C26846EF-6A43-4C62-BC00-B0310141273C']), Label(30420)]\n",
      "[McRAPTORLabelWithPath(time=29280, cost=220, n_stops=3, path=[66346, 'STOP_647', 'TRIP_119-151-001-814.2.22:080200-47-2_C26846EF-6A43-4C62-BC00-B0310141273C']), Label(30480)]\n",
      "[McRAPTORLabelWithPath(time=29340, cost=220, n_stops=4, path=[66346, 'STOP_647', 'TRIP_119-151-001-814.2.22:080200-47-2_C26846EF-6A43-4C62-BC00-B0310141273C']), Label(30540)]\n",
      "[McRAPTORLabelWithPath(time=29460, cost=320, n_stops=5, path=[66346, 'STOP_647', 'TRIP_119-151-001-814.2.22:080200-47-2_C26846EF-6A43-4C62-BC00-B0310141273C']), Label(30660)]\n",
      "[McRAPTORLabelWithPath(time=29520, cost=320, n_stops=6, path=[66346, 'STOP_647', 'TRIP_119-151-001-814.2.22:080200-47-2_C26846EF-6A43-4C62-BC00-B0310141273C']), Label(30720)]\n",
      "[McRAPTORLabelWithPath(time=29640, cost=320, n_stops=8, path=[66346, 'STOP_647', 'TRIP_119-151-001-814.2.22:080200-47-2_C26846EF-6A43-4C62-BC00-B0310141273C']), Label(30840)]\n",
      "[McRAPTORLabelWithPath(time=29760, cost=320, n_stops=9, path=[66346, 'STOP_647', 'TRIP_119-151-001-814.2.22:080200-47-2_C26846EF-6A43-4C62-BC00-B0310141273C']), Label(30960)]\n",
      "[McRAPTORLabelWithPath(time=29820, cost=320, n_stops=10, path=[66346, 'STOP_647', 'TRIP_119-151-001-814.2.22:080200-47-2_C26846EF-6A43-4C62-BC00-B0310141273C']), Label(31020)]\n",
      "[McRAPTORLabelWithPath(time=29880, cost=320, n_stops=11, path=[66346, 'STOP_647', 'TRIP_119-151-001-814.2.22:080200-47-2_C26846EF-6A43-4C62-BC00-B0310141273C']), Label(31080)]\n",
      "[McRAPTORLabelWithPath(time=30000, cost=320, n_stops=12, path=[66346, 'STOP_647', 'TRIP_119-151-001-814.2.22:080200-47-2_C26846EF-6A43-4C62-BC00-B0310141273C']), Label(31200)]\n",
      "[McRAPTORLabelWithPath(time=30120, cost=320, n_stops=13, path=[66346, 'STOP_647', 'TRIP_119-151-001-814.2.22:080200-47-2_C26846EF-6A43-4C62-BC00-B0310141273C']), Label(31320)]\n",
      "[McRAPTORLabelWithPath(time=30180, cost=320, n_stops=14, path=[66346, 'STOP_647', 'TRIP_119-151-001-814.2.22:080200-47-2_C26846EF-6A43-4C62-BC00-B0310141273C']), Label(31380)]\n",
      "[McRAPTORLabelWithPath(time=31380, cost=320, n_stops=23, path=[66346, 'STOP_647', 'TRIP_119-151-001-814.2.22:080200-47-2_C26846EF-6A43-4C62-BC00-B0310141273C']), Label(32580)]\n",
      "[McRAPTORLabelWithPath(time=31560, cost=320, n_stops=24, path=[66346, 'STOP_647', 'TRIP_119-151-001-814.2.22:080200-47-2_C26846EF-6A43-4C62-BC00-B0310141273C']), Label(32760)]\n",
      "[McRAPTORLabelWithPath(time=31740, cost=320, n_stops=25, path=[66346, 'STOP_647', 'TRIP_119-151-001-814.2.22:080200-47-2_C26846EF-6A43-4C62-BC00-B0310141273C']), Label(32940)]\n",
      "[McRAPTORLabelWithPath(time=31980, cost=320, n_stops=26, path=[66346, 'STOP_647', 'TRIP_119-151-001-814.2.22:080200-47-2_C26846EF-6A43-4C62-BC00-B0310141273C']), Label(33180)]\n",
      "[McRAPTORLabelWithPath(time=32040, cost=320, n_stops=27, path=[66346, 'STOP_647', 'TRIP_119-151-001-814.2.22:080200-47-2_C26846EF-6A43-4C62-BC00-B0310141273C']), Label(33240)]\n",
      "[McRAPTORLabelWithPath(time=32100, cost=320, n_stops=28, path=[66346, 'STOP_647', 'TRIP_119-151-001-814.2.22:080200-47-2_C26846EF-6A43-4C62-BC00-B0310141273C']), Label(33300)]\n",
      "[McRAPTORLabelWithPath(time=32160, cost=320, n_stops=29, path=[66346, 'STOP_647', 'TRIP_119-151-001-814.2.22:080200-47-2_C26846EF-6A43-4C62-BC00-B0310141273C']), Label(33360)]\n",
      "[McRAPTORLabelWithPath(time=32280, cost=320, n_stops=30, path=[66346, 'STOP_647', 'TRIP_119-151-001-814.2.22:080200-47-2_C26846EF-6A43-4C62-BC00-B0310141273C']), Label(33480)]\n",
      "[McRAPTORLabelWithPath(time=32340, cost=320, n_stops=31, path=[66346, 'STOP_647', 'TRIP_119-151-001-814.2.22:080200-47-2_C26846EF-6A43-4C62-BC00-B0310141273C']), Label(33540)]\n",
      "[McRAPTORLabelWithPath(time=32400, cost=320, n_stops=32, path=[66346, 'STOP_647', 'TRIP_119-151-001-814.2.22:080200-47-2_C26846EF-6A43-4C62-BC00-B0310141273C']), Label(33600)]\n",
      "[McRAPTORLabelWithPath(time=32580, cost=320, n_stops=33, path=[66346, 'STOP_647', 'TRIP_119-151-001-814.2.22:080200-47-2_C26846EF-6A43-4C62-BC00-B0310141273C']), Label(33780)]\n",
      "[McRAPTORLabelWithPath(time=32700, cost=320, n_stops=34, path=[66346, 'STOP_647', 'TRIP_119-151-001-814.2.22:080200-47-2_C26846EF-6A43-4C62-BC00-B0310141273C']), Label(33900)]\n",
      "[McRAPTORLabelWithPath(time=32760, cost=320, n_stops=35, path=[66346, 'STOP_647', 'TRIP_119-151-001-814.2.22:080200-47-2_C26846EF-6A43-4C62-BC00-B0310141273C']), Label(33960)]\n",
      "[McRAPTORLabelWithPath(time=32940, cost=320, n_stops=36, path=[66346, 'STOP_647', 'TRIP_119-151-001-814.2.22:080200-47-2_C26846EF-6A43-4C62-BC00-B0310141273C']), Label(34140)]\n",
      "[McRAPTORLabelWithPath(time=33060, cost=320, n_stops=37, path=[66346, 'STOP_647', 'TRIP_119-151-001-814.2.22:080200-47-2_C26846EF-6A43-4C62-BC00-B0310141273C']), Label(34260)]\n",
      "[McRAPTORLabelWithPath(time=33120, cost=320, n_stops=38, path=[66346, 'STOP_647', 'TRIP_119-151-001-814.2.22:080200-47-2_C26846EF-6A43-4C62-BC00-B0310141273C']), Label(34320)]\n",
      "[McRAPTORLabelWithPath(time=33240, cost=320, n_stops=39, path=[66346, 'STOP_647', 'TRIP_119-151-001-814.2.22:080200-47-2_C26846EF-6A43-4C62-BC00-B0310141273C']), Label(34440)]\n",
      "[McRAPTORLabelWithPath(time=33360, cost=320, n_stops=40, path=[66346, 'STOP_647', 'TRIP_119-151-001-814.2.22:080200-47-2_C26846EF-6A43-4C62-BC00-B0310141273C']), Label(34560)]\n",
      "[McRAPTORLabelWithPath(time=33420, cost=320, n_stops=41, path=[66346, 'STOP_647', 'TRIP_119-151-001-814.2.22:080200-47-2_C26846EF-6A43-4C62-BC00-B0310141273C']), Label(34620)]\n",
      "[McRAPTORLabelWithPath(time=33480, cost=320, n_stops=42, path=[66346, 'STOP_647', 'TRIP_119-151-001-814.2.22:080200-47-2_C26846EF-6A43-4C62-BC00-B0310141273C']), Label(34680)]\n",
      "[McRAPTORLabelWithPath(time=33540, cost=320, n_stops=43, path=[66346, 'STOP_647', 'TRIP_119-151-001-814.2.22:080200-47-2_C26846EF-6A43-4C62-BC00-B0310141273C']), Label(34740)]\n",
      "[McRAPTORLabelWithPath(time=33660, cost=320, n_stops=44, path=[66346, 'STOP_647', 'TRIP_119-151-001-814.2.22:080200-47-2_C26846EF-6A43-4C62-BC00-B0310141273C']), Label(34860)]\n",
      "[Label(30300)]\n",
      "[Label(30360)]\n",
      "[Label(30420)]\n"
     ]
    },
    {
     "data": {
      "text/html": [
       "<pre style=\"white-space:pre;overflow-x:auto;line-height:normal;font-family:Menlo,'DejaVu Sans Mono',consolas,'Courier New',monospace\"><span style=\"color: #7fbfbf; text-decoration-color: #7fbfbf\">           </span><span style=\"color: #000080; text-decoration-color: #000080\">INFO    </span> Running MCRAPTOR step done <span style=\"font-weight: bold\">(</span><span style=\"color: #008080; text-decoration-color: #008080; font-weight: bold\">0.03</span> seconds<span style=\"font-weight: bold\">)</span>                                          <a href=\"file:///home/moritz/dev/uni/mcr-py/notebooks/../src/package/logger.py\" target=\"_blank\"><span style=\"color: #7f7f7f; text-decoration-color: #7f7f7f\">logger.py</span></a><span style=\"color: #7f7f7f; text-decoration-color: #7f7f7f\">:</span><a href=\"file:///home/moritz/dev/uni/mcr-py/notebooks/../src/package/logger.py#37\" target=\"_blank\"><span style=\"color: #7f7f7f; text-decoration-color: #7f7f7f\">37</span></a>\n",
       "</pre>\n"
      ],
      "text/plain": [
       "\u001b[2;36m          \u001b[0m\u001b[2;36m \u001b[0m\u001b[34mINFO    \u001b[0m Running MCRAPTOR step done \u001b[1m(\u001b[0m\u001b[1;36m0.03\u001b[0m seconds\u001b[1m)\u001b[0m                                          \u001b]8;id=933306;file:///home/moritz/dev/uni/mcr-py/notebooks/../src/package/logger.py\u001b\\\u001b[2mlogger.py\u001b[0m\u001b]8;;\u001b\\\u001b[2m:\u001b[0m\u001b]8;id=802415;file:///home/moritz/dev/uni/mcr-py/notebooks/../src/package/logger.py#37\u001b\\\u001b[2m37\u001b[0m\u001b]8;;\u001b\\\n"
      ]
     },
     "metadata": {},
     "output_type": "display_data"
    },
    {
     "data": {
      "text/html": [
       "<pre style=\"white-space:pre;overflow-x:auto;line-height:normal;font-family:Menlo,'DejaVu Sans Mono',consolas,'Courier New',monospace\"><span style=\"color: #7fbfbf; text-decoration-color: #7fbfbf\">           </span><span style=\"color: #000080; text-decoration-color: #000080\">INFO    </span> Extracting MCRAPTOR step bags                                                      <a href=\"file:///home/moritz/dev/uni/mcr-py/notebooks/../src/package/logger.py\" target=\"_blank\"><span style=\"color: #7f7f7f; text-decoration-color: #7f7f7f\">logger.py</span></a><span style=\"color: #7f7f7f; text-decoration-color: #7f7f7f\">:</span><a href=\"file:///home/moritz/dev/uni/mcr-py/notebooks/../src/package/logger.py#37\" target=\"_blank\"><span style=\"color: #7f7f7f; text-decoration-color: #7f7f7f\">37</span></a>\n",
       "</pre>\n"
      ],
      "text/plain": [
       "\u001b[2;36m          \u001b[0m\u001b[2;36m \u001b[0m\u001b[34mINFO    \u001b[0m Extracting MCRAPTOR step bags                                                      \u001b]8;id=802000;file:///home/moritz/dev/uni/mcr-py/notebooks/../src/package/logger.py\u001b\\\u001b[2mlogger.py\u001b[0m\u001b]8;;\u001b\\\u001b[2m:\u001b[0m\u001b]8;id=751091;file:///home/moritz/dev/uni/mcr-py/notebooks/../src/package/logger.py#37\u001b\\\u001b[2m37\u001b[0m\u001b]8;;\u001b\\\n"
      ]
     },
     "metadata": {},
     "output_type": "display_data"
    },
    {
     "data": {
      "text/html": [
       "<pre style=\"white-space:pre;overflow-x:auto;line-height:normal;font-family:Menlo,'DejaVu Sans Mono',consolas,'Courier New',monospace\"><span style=\"color: #7fbfbf; text-decoration-color: #7fbfbf\">           </span><span style=\"color: #000080; text-decoration-color: #000080\">INFO    </span> Extracting MCRAPTOR step bags failed <span style=\"font-weight: bold\">(</span><span style=\"color: #008080; text-decoration-color: #008080; font-weight: bold\">0.01</span> seconds<span style=\"font-weight: bold\">)</span>                                <a href=\"file:///home/moritz/dev/uni/mcr-py/notebooks/../src/package/logger.py\" target=\"_blank\"><span style=\"color: #7f7f7f; text-decoration-color: #7f7f7f\">logger.py</span></a><span style=\"color: #7f7f7f; text-decoration-color: #7f7f7f\">:</span><a href=\"file:///home/moritz/dev/uni/mcr-py/notebooks/../src/package/logger.py#37\" target=\"_blank\"><span style=\"color: #7f7f7f; text-decoration-color: #7f7f7f\">37</span></a>\n",
       "</pre>\n"
      ],
      "text/plain": [
       "\u001b[2;36m          \u001b[0m\u001b[2;36m \u001b[0m\u001b[34mINFO    \u001b[0m Extracting MCRAPTOR step bags failed \u001b[1m(\u001b[0m\u001b[1;36m0.01\u001b[0m seconds\u001b[1m)\u001b[0m                                \u001b]8;id=977370;file:///home/moritz/dev/uni/mcr-py/notebooks/../src/package/logger.py\u001b\\\u001b[2mlogger.py\u001b[0m\u001b]8;;\u001b\\\u001b[2m:\u001b[0m\u001b]8;id=302703;file:///home/moritz/dev/uni/mcr-py/notebooks/../src/package/logger.py#37\u001b\\\u001b[2m37\u001b[0m\u001b]8;;\u001b\\\n"
      ]
     },
     "metadata": {},
     "output_type": "display_data"
    },
    {
     "ename": "ValueError",
     "evalue": "Expected McRAPTORLabel, got <class 'package.mcr.label.McRAPTORLabel'> instead",
     "output_type": "error",
     "traceback": [
      "\u001b[0;31m---------------------------------------------------------------------------\u001b[0m",
      "\u001b[0;31mValueError\u001b[0m                                Traceback (most recent call last)",
      "\u001b[1;32m/home/moritz/dev/uni/mcr-py/notebooks/mcr.ipynb Cell 15\u001b[0m line \u001b[0;36m1\n\u001b[0;32m----> <a href='vscode-notebook-cell:/home/moritz/dev/uni/mcr-py/notebooks/mcr.ipynb#X66sZmlsZQ%3D%3D?line=0'>1</a>\u001b[0m mc_raptor_result_bags \u001b[39m=\u001b[39m mcr\u001b[39m.\u001b[39;49mrun_mc_raptor_step(walking_result_bags, offset)\n",
      "File \u001b[0;32m~/dev/uni/mcr-py/notebooks/../src/package/mcr/mcr.py:151\u001b[0m, in \u001b[0;36mMCR.run_mc_raptor_step\u001b[0;34m(self, walking_result_bags, offset)\u001b[0m\n\u001b[1;32m    148\u001b[0m     mc_raptor_result_bags \u001b[39m=\u001b[39m mc_raptor\u001b[39m.\u001b[39mrun(mc_raptor_bags)  \u001b[39m# type: ignore\u001b[39;00m\n\u001b[1;32m    150\u001b[0m \u001b[39mwith\u001b[39;00m \u001b[39mself\u001b[39m\u001b[39m.\u001b[39mtimer\u001b[39m.\u001b[39minfo(\u001b[39m\"\u001b[39m\u001b[39mExtracting MCRAPTOR step bags\u001b[39m\u001b[39m\"\u001b[39m):\n\u001b[0;32m--> 151\u001b[0m     mc_raptor_result_bags \u001b[39m=\u001b[39m \u001b[39mself\u001b[39;49m\u001b[39m.\u001b[39;49mconvert_mc_raptor_bags(\n\u001b[1;32m    152\u001b[0m         mc_raptor_result_bags, path_index_offset\u001b[39m=\u001b[39;49moffset\n\u001b[1;32m    153\u001b[0m     )\n\u001b[1;32m    154\u001b[0m     \u001b[39mif\u001b[39;00m \u001b[39mlen\u001b[39m(mc_raptor_result_bags) \u001b[39m==\u001b[39m \u001b[39m0\u001b[39m:\n\u001b[1;32m    155\u001b[0m         \u001b[39mself\u001b[39m\u001b[39m.\u001b[39mlogger\u001b[39m.\u001b[39mwarn(\u001b[39m\"\u001b[39m\u001b[39mNo MCRAPTOR bags found\u001b[39m\u001b[39m\"\u001b[39m)\n",
      "File \u001b[0;32m~/dev/uni/mcr-py/notebooks/../src/package/mcr/mcr.py:290\u001b[0m, in \u001b[0;36mMCR.convert_mc_raptor_bags\u001b[0;34m(self, bags, path_index_offset)\u001b[0m\n\u001b[1;32m    277\u001b[0m \u001b[39m\u001b[39m\u001b[39m\"\"\"\u001b[39;00m\n\u001b[1;32m    278\u001b[0m \u001b[39mConverts the bags from the McRAPTOR step to the intermediate bags\u001b[39;00m\n\u001b[1;32m    279\u001b[0m \u001b[39mformat.\u001b[39;00m\n\u001b[0;32m   (...)\u001b[0m\n\u001b[1;32m    284\u001b[0m \u001b[39m    be set to the length of the path before the step.\u001b[39;00m\n\u001b[1;32m    285\u001b[0m \u001b[39m\"\"\"\u001b[39;00m\n\u001b[1;32m    286\u001b[0m mc_raptor_result_bags \u001b[39m=\u001b[39m {\n\u001b[1;32m    287\u001b[0m     \u001b[39mself\u001b[39m\u001b[39m.\u001b[39mgeo_data\u001b[39m.\u001b[39mstop_to_osm_node_map[\u001b[39mint\u001b[39m(stop_id)]: bag\n\u001b[1;32m    288\u001b[0m     \u001b[39mfor\u001b[39;00m stop_id, bag \u001b[39min\u001b[39;00m bags\u001b[39m.\u001b[39mitems()\n\u001b[1;32m    289\u001b[0m }\n\u001b[0;32m--> 290\u001b[0m mc_raptor_result_bags \u001b[39m=\u001b[39m convert_mc_raptor_bags_to_intermediate_bags(\n\u001b[1;32m    291\u001b[0m     mc_raptor_result_bags,\n\u001b[1;32m    292\u001b[0m     min_path_length\u001b[39m=\u001b[39;49mpath_index_offset \u001b[39m+\u001b[39;49m \u001b[39m1\u001b[39;49m,\n\u001b[1;32m    293\u001b[0m )\n\u001b[1;32m    294\u001b[0m \u001b[39mif\u001b[39;00m \u001b[39mself\u001b[39m\u001b[39m.\u001b[39mpath_manager:\n\u001b[1;32m    295\u001b[0m     \u001b[39mself\u001b[39m\u001b[39m.\u001b[39mpath_manager\u001b[39m.\u001b[39mextract_all_paths_from_bags(\n\u001b[1;32m    296\u001b[0m         mc_raptor_result_bags,\n\u001b[1;32m    297\u001b[0m         PathType\u001b[39m.\u001b[39mPUBLIC_TRANSPORT,\n\u001b[1;32m    298\u001b[0m         path_index_offset\u001b[39m=\u001b[39mpath_index_offset,\n\u001b[1;32m    299\u001b[0m     )\n",
      "File \u001b[0;32m~/dev/uni/mcr-py/notebooks/../src/package/mcr/bag.py:39\u001b[0m, in \u001b[0;36mconvert_mc_raptor_bags_to_intermediate_bags\u001b[0;34m(bags, min_path_length)\u001b[0m\n\u001b[1;32m     37\u001b[0m \u001b[39mfor\u001b[39;00m label \u001b[39min\u001b[39;00m bag:  \u001b[39m# type: ignore\u001b[39;00m\n\u001b[1;32m     38\u001b[0m     \u001b[39mif\u001b[39;00m \u001b[39mnot\u001b[39;00m \u001b[39misinstance\u001b[39m(label, McRAPTORLabel):\n\u001b[0;32m---> 39\u001b[0m         \u001b[39mraise\u001b[39;00m \u001b[39mValueError\u001b[39;00m(\n\u001b[1;32m     40\u001b[0m             \u001b[39mf\u001b[39m\u001b[39m\"\u001b[39m\u001b[39mExpected McRAPTORLabel, got \u001b[39m\u001b[39m{\u001b[39;00m\u001b[39mstr\u001b[39m(\u001b[39mtype\u001b[39m(label))\u001b[39m}\u001b[39;00m\u001b[39m instead\u001b[39m\u001b[39m\"\u001b[39m\n\u001b[1;32m     41\u001b[0m         )\n\u001b[1;32m     43\u001b[0m     label: McRAPTORLabel \u001b[39m=\u001b[39m label\n\u001b[1;32m     44\u001b[0m     \u001b[39mif\u001b[39;00m (\n\u001b[1;32m     45\u001b[0m         \u001b[39misinstance\u001b[39m(label, McRAPTORLabelWithPath)\n\u001b[1;32m     46\u001b[0m         \u001b[39mand\u001b[39;00m \u001b[39mlen\u001b[39m(label\u001b[39m.\u001b[39mpath) \u001b[39m<\u001b[39m min_path_length\n\u001b[1;32m     47\u001b[0m     ):\n",
      "\u001b[0;31mValueError\u001b[0m: Expected McRAPTORLabel, got <class 'package.mcr.label.McRAPTORLabel'> instead"
     ]
    }
   ],
   "source": [
    "mc_raptor_result_bags = mcr.run_mc_raptor_step(walking_result_bags, offset)"
   ]
  },
  {
   "cell_type": "code",
   "execution_count": 70,
   "metadata": {},
   "outputs": [
    {
     "name": "stderr",
     "output_type": "stream",
     "text": [
      "[autoreload of mcr_py failed: Traceback (most recent call last):\n",
      "  File \"/home/moritz/miniconda3/envs/mcr-py/lib/python3.10/site-packages/IPython/extensions/autoreload.py\", line 276, in check\n",
      "    superreload(m, reload, self.old_objects)\n",
      "  File \"/home/moritz/miniconda3/envs/mcr-py/lib/python3.10/site-packages/IPython/extensions/autoreload.py\", line 475, in superreload\n",
      "    module = reload(module)\n",
      "  File \"/home/moritz/miniconda3/envs/mcr-py/lib/python3.10/importlib/__init__.py\", line 169, in reload\n",
      "    _bootstrap._exec(spec, module)\n",
      "  File \"<frozen importlib._bootstrap>\", line 619, in _exec\n",
      "  File \"<frozen importlib._bootstrap_external>\", line 883, in exec_module\n",
      "  File \"<frozen importlib._bootstrap>\", line 241, in _call_with_frames_removed\n",
      "  File \"/home/moritz/miniconda3/envs/mcr-py/lib/python3.10/site-packages/mcr_py/__init__.py\", line 3, in <module>\n",
      "    __doc__ = mcr_py.__doc__\n",
      "NameError: name 'mcr_py' is not defined\n",
      "]\n"
     ]
    },
    {
     "data": {
      "text/plain": [
       "37"
      ]
     },
     "execution_count": 70,
     "metadata": {},
     "output_type": "execute_result"
    }
   ],
   "source": [
    "test = pd.DataFrame(\n",
    "    [(label.path, label) for bag in mc_raptor_result_bags.values() for label in bag],\n",
    "    columns=[\"path\", \"label\"],\n",
    ")\n",
    "len(test[test.path.apply(lambda x: len(x) > 1)])"
   ]
  },
  {
   "cell_type": "code",
   "execution_count": 19,
   "metadata": {},
   "outputs": [
    {
     "data": {
      "text/html": [
       "<pre style=\"white-space:pre;overflow-x:auto;line-height:normal;font-family:Menlo,'DejaVu Sans Mono',consolas,'Courier New',monospace\"><span style=\"color: #7fbfbf; text-decoration-color: #7fbfbf\">[16:44:28] </span><span style=\"color: #000080; text-decoration-color: #000080\">INFO    </span> Merging bags                                                                       <a href=\"file:///home/moritz/dev/uni/mcr-py/notebooks/../src/package/logger.py\" target=\"_blank\"><span style=\"color: #7f7f7f; text-decoration-color: #7f7f7f\">logger.py</span></a><span style=\"color: #7f7f7f; text-decoration-color: #7f7f7f\">:</span><a href=\"file:///home/moritz/dev/uni/mcr-py/notebooks/../src/package/logger.py#37\" target=\"_blank\"><span style=\"color: #7f7f7f; text-decoration-color: #7f7f7f\">37</span></a>\n",
       "</pre>\n"
      ],
      "text/plain": [
       "\u001b[2;36m[16:44:28]\u001b[0m\u001b[2;36m \u001b[0m\u001b[34mINFO    \u001b[0m Merging bags                                                                       \u001b]8;id=120878;file:///home/moritz/dev/uni/mcr-py/notebooks/../src/package/logger.py\u001b\\\u001b[2mlogger.py\u001b[0m\u001b]8;;\u001b\\\u001b[2m:\u001b[0m\u001b]8;id=304956;file:///home/moritz/dev/uni/mcr-py/notebooks/../src/package/logger.py#37\u001b\\\u001b[2m37\u001b[0m\u001b]8;;\u001b\\\n"
      ]
     },
     "metadata": {},
     "output_type": "display_data"
    },
    {
     "data": {
      "text/html": [
       "<pre style=\"white-space:pre;overflow-x:auto;line-height:normal;font-family:Menlo,'DejaVu Sans Mono',consolas,'Courier New',monospace\"><span style=\"color: #7fbfbf; text-decoration-color: #7fbfbf\">           </span><span style=\"color: #000080; text-decoration-color: #000080\">INFO    </span> Merging bags done <span style=\"font-weight: bold\">(</span><span style=\"color: #008080; text-decoration-color: #008080; font-weight: bold\">0.01</span> seconds<span style=\"font-weight: bold\">)</span>                                                   <a href=\"file:///home/moritz/dev/uni/mcr-py/notebooks/../src/package/logger.py\" target=\"_blank\"><span style=\"color: #7f7f7f; text-decoration-color: #7f7f7f\">logger.py</span></a><span style=\"color: #7f7f7f; text-decoration-color: #7f7f7f\">:</span><a href=\"file:///home/moritz/dev/uni/mcr-py/notebooks/../src/package/logger.py#37\" target=\"_blank\"><span style=\"color: #7f7f7f; text-decoration-color: #7f7f7f\">37</span></a>\n",
       "</pre>\n"
      ],
      "text/plain": [
       "\u001b[2;36m          \u001b[0m\u001b[2;36m \u001b[0m\u001b[34mINFO    \u001b[0m Merging bags done \u001b[1m(\u001b[0m\u001b[1;36m0.01\u001b[0m seconds\u001b[1m)\u001b[0m                                                   \u001b]8;id=417654;file:///home/moritz/dev/uni/mcr-py/notebooks/../src/package/logger.py\u001b\\\u001b[2mlogger.py\u001b[0m\u001b]8;;\u001b\\\u001b[2m:\u001b[0m\u001b]8;id=859141;file:///home/moritz/dev/uni/mcr-py/notebooks/../src/package/logger.py#37\u001b\\\u001b[2m37\u001b[0m\u001b]8;;\u001b\\\n"
      ]
     },
     "metadata": {},
     "output_type": "display_data"
    }
   ],
   "source": [
    "with mcr.timer.info(\"Merging bags\"):\n",
    "\tcombined_bags = mcr.merge_bags(\n",
    "\t\tbicycle_result_bags,\n",
    "\t\tmc_raptor_result_bags,\n",
    "\t)"
   ]
  },
  {
   "cell_type": "code",
   "execution_count": null,
   "metadata": {},
   "outputs": [],
   "source": [
    "with mcr.timer.info(\"Preparing input for walking step\"):\n",
    "\twalking_bags = mcr.prepare_walking_step_input(combined_bags)"
   ]
  },
  {
   "cell_type": "code",
   "execution_count": 45,
   "metadata": {},
   "outputs": [
    {
     "data": {
      "text/plain": [
       "37"
      ]
     },
     "execution_count": 45,
     "metadata": {},
     "output_type": "execute_result"
    }
   ],
   "source": [
    "test = pd.DataFrame(\n",
    "    [(label.path, label) for bag in walking_result_bags.values() for label in bag],\n",
    "    columns=[\"path\", \"label\"],\n",
    ")\n",
    "len(test[test.path.apply(lambda x: len(x) > 1)])"
   ]
  },
  {
   "cell_type": "code",
   "execution_count": 21,
   "metadata": {},
   "outputs": [
    {
     "data": {
      "text/html": [
       "<pre style=\"white-space:pre;overflow-x:auto;line-height:normal;font-family:Menlo,'DejaVu Sans Mono',consolas,'Courier New',monospace\"><span style=\"color: #7fbfbf; text-decoration-color: #7fbfbf\">[16:44:39] </span><span style=\"color: #000080; text-decoration-color: #000080\">INFO    </span> Preparing input for walking step                                                   <a href=\"file:///home/moritz/dev/uni/mcr-py/notebooks/../src/package/logger.py\" target=\"_blank\"><span style=\"color: #7f7f7f; text-decoration-color: #7f7f7f\">logger.py</span></a><span style=\"color: #7f7f7f; text-decoration-color: #7f7f7f\">:</span><a href=\"file:///home/moritz/dev/uni/mcr-py/notebooks/../src/package/logger.py#37\" target=\"_blank\"><span style=\"color: #7f7f7f; text-decoration-color: #7f7f7f\">37</span></a>\n",
       "</pre>\n"
      ],
      "text/plain": [
       "\u001b[2;36m[16:44:39]\u001b[0m\u001b[2;36m \u001b[0m\u001b[34mINFO    \u001b[0m Preparing input for walking step                                                   \u001b]8;id=575204;file:///home/moritz/dev/uni/mcr-py/notebooks/../src/package/logger.py\u001b\\\u001b[2mlogger.py\u001b[0m\u001b]8;;\u001b\\\u001b[2m:\u001b[0m\u001b]8;id=325872;file:///home/moritz/dev/uni/mcr-py/notebooks/../src/package/logger.py#37\u001b\\\u001b[2m37\u001b[0m\u001b]8;;\u001b\\\n"
      ]
     },
     "metadata": {},
     "output_type": "display_data"
    },
    {
     "data": {
      "text/html": [
       "<pre style=\"white-space:pre;overflow-x:auto;line-height:normal;font-family:Menlo,'DejaVu Sans Mono',consolas,'Courier New',monospace\"><span style=\"color: #7fbfbf; text-decoration-color: #7fbfbf\">           </span><span style=\"color: #000080; text-decoration-color: #000080\">INFO    </span> Preparing input for walking step done <span style=\"font-weight: bold\">(</span><span style=\"color: #008080; text-decoration-color: #008080; font-weight: bold\">0.22</span> seconds<span style=\"font-weight: bold\">)</span>                               <a href=\"file:///home/moritz/dev/uni/mcr-py/notebooks/../src/package/logger.py\" target=\"_blank\"><span style=\"color: #7f7f7f; text-decoration-color: #7f7f7f\">logger.py</span></a><span style=\"color: #7f7f7f; text-decoration-color: #7f7f7f\">:</span><a href=\"file:///home/moritz/dev/uni/mcr-py/notebooks/../src/package/logger.py#37\" target=\"_blank\"><span style=\"color: #7f7f7f; text-decoration-color: #7f7f7f\">37</span></a>\n",
       "</pre>\n"
      ],
      "text/plain": [
       "\u001b[2;36m          \u001b[0m\u001b[2;36m \u001b[0m\u001b[34mINFO    \u001b[0m Preparing input for walking step done \u001b[1m(\u001b[0m\u001b[1;36m0.22\u001b[0m seconds\u001b[1m)\u001b[0m                               \u001b]8;id=62469;file:///home/moritz/dev/uni/mcr-py/notebooks/../src/package/logger.py\u001b\\\u001b[2mlogger.py\u001b[0m\u001b]8;;\u001b\\\u001b[2m:\u001b[0m\u001b]8;id=169291;file:///home/moritz/dev/uni/mcr-py/notebooks/../src/package/logger.py#37\u001b\\\u001b[2m37\u001b[0m\u001b]8;;\u001b\\\n"
      ]
     },
     "metadata": {},
     "output_type": "display_data"
    },
    {
     "data": {
      "text/html": [
       "<pre style=\"white-space:pre;overflow-x:auto;line-height:normal;font-family:Menlo,'DejaVu Sans Mono',consolas,'Courier New',monospace\"><span style=\"color: #7fbfbf; text-decoration-color: #7fbfbf\">           </span><span style=\"color: #000080; text-decoration-color: #000080\">INFO    </span> Running walking step                                                               <a href=\"file:///home/moritz/dev/uni/mcr-py/notebooks/../src/package/logger.py\" target=\"_blank\"><span style=\"color: #7f7f7f; text-decoration-color: #7f7f7f\">logger.py</span></a><span style=\"color: #7f7f7f; text-decoration-color: #7f7f7f\">:</span><a href=\"file:///home/moritz/dev/uni/mcr-py/notebooks/../src/package/logger.py#37\" target=\"_blank\"><span style=\"color: #7f7f7f; text-decoration-color: #7f7f7f\">37</span></a>\n",
       "</pre>\n"
      ],
      "text/plain": [
       "\u001b[2;36m          \u001b[0m\u001b[2;36m \u001b[0m\u001b[34mINFO    \u001b[0m Running walking step                                                               \u001b]8;id=851005;file:///home/moritz/dev/uni/mcr-py/notebooks/../src/package/logger.py\u001b\\\u001b[2mlogger.py\u001b[0m\u001b]8;;\u001b\\\u001b[2m:\u001b[0m\u001b]8;id=728597;file:///home/moritz/dev/uni/mcr-py/notebooks/../src/package/logger.py#37\u001b\\\u001b[2m37\u001b[0m\u001b]8;;\u001b\\\n"
      ]
     },
     "metadata": {},
     "output_type": "display_data"
    },
    {
     "name": "stderr",
     "output_type": "stream",
     "text": [
      "thread '<unnamed>' panicked at 'called `Result::unwrap()` on an `Err` value: PyErr { type: <class 'TypeError'>, value: TypeError(\"'str' object cannot be interpreted as an integer\"), traceback: None }', src/rs/mlc_adapter.rs:142:18\n",
      "note: run with `RUST_BACKTRACE=1` environment variable to display a backtrace\n"
     ]
    },
    {
     "data": {
      "text/html": [
       "<pre style=\"white-space:pre;overflow-x:auto;line-height:normal;font-family:Menlo,'DejaVu Sans Mono',consolas,'Courier New',monospace\"><span style=\"color: #7fbfbf; text-decoration-color: #7fbfbf\">           </span><span style=\"color: #000080; text-decoration-color: #000080\">INFO    </span> Running walking step failed <span style=\"font-weight: bold\">(</span><span style=\"color: #008080; text-decoration-color: #008080; font-weight: bold\">0.01</span> seconds<span style=\"font-weight: bold\">)</span>                                         <a href=\"file:///home/moritz/dev/uni/mcr-py/notebooks/../src/package/logger.py\" target=\"_blank\"><span style=\"color: #7f7f7f; text-decoration-color: #7f7f7f\">logger.py</span></a><span style=\"color: #7f7f7f; text-decoration-color: #7f7f7f\">:</span><a href=\"file:///home/moritz/dev/uni/mcr-py/notebooks/../src/package/logger.py#37\" target=\"_blank\"><span style=\"color: #7f7f7f; text-decoration-color: #7f7f7f\">37</span></a>\n",
       "</pre>\n"
      ],
      "text/plain": [
       "\u001b[2;36m          \u001b[0m\u001b[2;36m \u001b[0m\u001b[34mINFO    \u001b[0m Running walking step failed \u001b[1m(\u001b[0m\u001b[1;36m0.01\u001b[0m seconds\u001b[1m)\u001b[0m                                         \u001b]8;id=403815;file:///home/moritz/dev/uni/mcr-py/notebooks/../src/package/logger.py\u001b\\\u001b[2mlogger.py\u001b[0m\u001b]8;;\u001b\\\u001b[2m:\u001b[0m\u001b]8;id=883290;file:///home/moritz/dev/uni/mcr-py/notebooks/../src/package/logger.py#37\u001b\\\u001b[2m37\u001b[0m\u001b]8;;\u001b\\\n"
      ]
     },
     "metadata": {},
     "output_type": "display_data"
    },
    {
     "ename": "PanicException",
     "evalue": "called `Result::unwrap()` on an `Err` value: PyErr { type: <class 'TypeError'>, value: TypeError(\"'str' object cannot be interpreted as an integer\"), traceback: None }",
     "output_type": "error",
     "traceback": [
      "\u001b[0;31m---------------------------------------------------------------------------\u001b[0m",
      "\u001b[0;31mPanicException\u001b[0m                            Traceback (most recent call last)",
      "\u001b[1;32m/home/moritz/dev/uni/mcr-py/notebooks/mcr.ipynb Cell 16\u001b[0m line \u001b[0;36m6\n\u001b[1;32m      <a href='vscode-notebook-cell:/home/moritz/dev/uni/mcr-py/notebooks/mcr.ipynb#Y101sZmlsZQ%3D%3D?line=1'>2</a>\u001b[0m \twalking_bags \u001b[39m=\u001b[39m mcr\u001b[39m.\u001b[39mprepare_walking_step_input(combined_bags)\n\u001b[1;32m      <a href='vscode-notebook-cell:/home/moritz/dev/uni/mcr-py/notebooks/mcr.ipynb#Y101sZmlsZQ%3D%3D?line=4'>5</a>\u001b[0m \u001b[39mwith\u001b[39;00m mcr\u001b[39m.\u001b[39mtimer\u001b[39m.\u001b[39minfo(\u001b[39m\"\u001b[39m\u001b[39mRunning walking step\u001b[39m\u001b[39m\"\u001b[39m):\n\u001b[0;32m----> <a href='vscode-notebook-cell:/home/moritz/dev/uni/mcr-py/notebooks/mcr.ipynb#Y101sZmlsZQ%3D%3D?line=5'>6</a>\u001b[0m \twalking_result_bags \u001b[39m=\u001b[39m mcr_py\u001b[39m.\u001b[39;49mrun_mlc_with_bags(\n\u001b[1;32m      <a href='vscode-notebook-cell:/home/moritz/dev/uni/mcr-py/notebooks/mcr.ipynb#Y101sZmlsZQ%3D%3D?line=6'>7</a>\u001b[0m \t\tmcr\u001b[39m.\u001b[39;49mgeo_data\u001b[39m.\u001b[39;49mwalking_graph_cache,\n\u001b[1;32m      <a href='vscode-notebook-cell:/home/moritz/dev/uni/mcr-py/notebooks/mcr.ipynb#Y101sZmlsZQ%3D%3D?line=7'>8</a>\u001b[0m \t\twalking_bags,\n\u001b[1;32m      <a href='vscode-notebook-cell:/home/moritz/dev/uni/mcr-py/notebooks/mcr.ipynb#Y101sZmlsZQ%3D%3D?line=8'>9</a>\u001b[0m \t\tdisable_paths\u001b[39m=\u001b[39;49mmcr\u001b[39m.\u001b[39;49mdisable_paths,\n\u001b[1;32m     <a href='vscode-notebook-cell:/home/moritz/dev/uni/mcr-py/notebooks/mcr.ipynb#Y101sZmlsZQ%3D%3D?line=9'>10</a>\u001b[0m \t\tenable_limit\u001b[39m=\u001b[39;49mmcr\u001b[39m.\u001b[39;49menable_limit,\n\u001b[1;32m     <a href='vscode-notebook-cell:/home/moritz/dev/uni/mcr-py/notebooks/mcr.ipynb#Y101sZmlsZQ%3D%3D?line=10'>11</a>\u001b[0m \t)\n",
      "\u001b[0;31mPanicException\u001b[0m: called `Result::unwrap()` on an `Err` value: PyErr { type: <class 'TypeError'>, value: TypeError(\"'str' object cannot be interpreted as an integer\"), traceback: None }"
     ]
    }
   ],
   "source": [
    "\n",
    "with mcr.timer.info(\"Running walking step\"):\n",
    "\twalking_result_bags = mcr_py.run_mlc_with_bags(\n",
    "\t\tmcr.geo_data.walking_graph_cache,\n",
    "\t\twalking_bags,\n",
    "\t\tdisable_paths=mcr.disable_paths,\n",
    "\t\tenable_limit=mcr.enable_limit,\n",
    "\t)"
   ]
  },
  {
   "cell_type": "code",
   "execution_count": null,
   "metadata": {},
   "outputs": [],
   "source": [
    "with mcr.timer.info(\"Extracting walking step bags\"):\n",
    "\twalking_result_bags = mcr.convert_walking_bags(\n",
    "\t\twalking_result_bags, path_index_offset=offset + 1\n",
    "\t)\n",
    "\n",
    "bags_i[i] = walking_result_bags\n",
    "\n",
    "with mcr.timer.info(\"Saving bags\"):\n",
    "mcr.save_bags(bags_i, output_path)\n"
   ]
  },
  {
   "cell_type": "code",
   "execution_count": null,
   "metadata": {},
   "outputs": [
    {
     "data": {
      "text/html": [
       "<pre style=\"white-space:pre;overflow-x:auto;line-height:normal;font-family:Menlo,'DejaVu Sans Mono',consolas,'Courier New',monospace\"><span style=\"color: #7fbfbf; text-decoration-color: #7fbfbf\">[09:16:17] </span><span style=\"color: #000080; text-decoration-color: #000080\">INFO    </span> Reading stops and geo meta                                                           <a href=\"file:///home/moritz/dev/uni/mcr-py/notebooks/../src/package/mcr/data.py\" target=\"_blank\"><span style=\"color: #7f7f7f; text-decoration-color: #7f7f7f\">data.py</span></a><span style=\"color: #7f7f7f; text-decoration-color: #7f7f7f\">:</span><a href=\"file:///home/moritz/dev/uni/mcr-py/notebooks/../src/package/mcr/data.py#40\" target=\"_blank\"><span style=\"color: #7f7f7f; text-decoration-color: #7f7f7f\">40</span></a>\n",
       "</pre>\n"
      ],
      "text/plain": [
       "\u001b[2;36m[09:16:17]\u001b[0m\u001b[2;36m \u001b[0m\u001b[34mINFO    \u001b[0m Reading stops and geo meta                                                           \u001b]8;id=523592;file:///home/moritz/dev/uni/mcr-py/notebooks/../src/package/mcr/data.py\u001b\\\u001b[2mdata.py\u001b[0m\u001b]8;;\u001b\\\u001b[2m:\u001b[0m\u001b]8;id=505202;file:///home/moritz/dev/uni/mcr-py/notebooks/../src/package/mcr/data.py#40\u001b\\\u001b[2m40\u001b[0m\u001b]8;;\u001b\\\n"
      ]
     },
     "metadata": {},
     "output_type": "display_data"
    },
    {
     "data": {
      "text/html": [
       "<pre style=\"white-space:pre;overflow-x:auto;line-height:normal;font-family:Menlo,'DejaVu Sans Mono',consolas,'Courier New',monospace\"><span style=\"color: #7fbfbf; text-decoration-color: #7fbfbf\">           </span><span style=\"color: #000080; text-decoration-color: #000080\">INFO    </span> Reading stops and geo meta done <span style=\"font-weight: bold\">(</span><span style=\"color: #008080; text-decoration-color: #008080; font-weight: bold\">0.10</span> seconds<span style=\"font-weight: bold\">)</span>                                       <a href=\"file:///home/moritz/dev/uni/mcr-py/notebooks/../src/package/mcr/data.py\" target=\"_blank\"><span style=\"color: #7f7f7f; text-decoration-color: #7f7f7f\">data.py</span></a><span style=\"color: #7f7f7f; text-decoration-color: #7f7f7f\">:</span><a href=\"file:///home/moritz/dev/uni/mcr-py/notebooks/../src/package/mcr/data.py#40\" target=\"_blank\"><span style=\"color: #7f7f7f; text-decoration-color: #7f7f7f\">40</span></a>\n",
       "</pre>\n"
      ],
      "text/plain": [
       "\u001b[2;36m          \u001b[0m\u001b[2;36m \u001b[0m\u001b[34mINFO    \u001b[0m Reading stops and geo meta done \u001b[1m(\u001b[0m\u001b[1;36m0.10\u001b[0m seconds\u001b[1m)\u001b[0m                                       \u001b]8;id=996382;file:///home/moritz/dev/uni/mcr-py/notebooks/../src/package/mcr/data.py\u001b\\\u001b[2mdata.py\u001b[0m\u001b]8;;\u001b\\\u001b[2m:\u001b[0m\u001b]8;id=670565;file:///home/moritz/dev/uni/mcr-py/notebooks/../src/package/mcr/data.py#40\u001b\\\u001b[2m40\u001b[0m\u001b]8;;\u001b\\\n"
      ]
     },
     "metadata": {},
     "output_type": "display_data"
    },
    {
     "data": {
      "text/html": [
       "<pre style=\"white-space:pre;overflow-x:auto;line-height:normal;font-family:Menlo,'DejaVu Sans Mono',consolas,'Courier New',monospace\"><span style=\"color: #7fbfbf; text-decoration-color: #7fbfbf\">           </span><span style=\"color: #000080; text-decoration-color: #000080\">INFO    </span> Preparing graphs                                                                     <a href=\"file:///home/moritz/dev/uni/mcr-py/notebooks/../src/package/mcr/data.py\" target=\"_blank\"><span style=\"color: #7f7f7f; text-decoration-color: #7f7f7f\">data.py</span></a><span style=\"color: #7f7f7f; text-decoration-color: #7f7f7f\">:</span><a href=\"file:///home/moritz/dev/uni/mcr-py/notebooks/../src/package/mcr/data.py#44\" target=\"_blank\"><span style=\"color: #7f7f7f; text-decoration-color: #7f7f7f\">44</span></a>\n",
       "</pre>\n"
      ],
      "text/plain": [
       "\u001b[2;36m          \u001b[0m\u001b[2;36m \u001b[0m\u001b[34mINFO    \u001b[0m Preparing graphs                                                                     \u001b]8;id=732994;file:///home/moritz/dev/uni/mcr-py/notebooks/../src/package/mcr/data.py\u001b\\\u001b[2mdata.py\u001b[0m\u001b]8;;\u001b\\\u001b[2m:\u001b[0m\u001b]8;id=873269;file:///home/moritz/dev/uni/mcr-py/notebooks/../src/package/mcr/data.py#44\u001b\\\u001b[2m44\u001b[0m\u001b]8;;\u001b\\\n"
      ]
     },
     "metadata": {},
     "output_type": "display_data"
    },
    {
     "data": {
      "text/html": [
       "<pre style=\"white-space:pre;overflow-x:auto;line-height:normal;font-family:Menlo,'DejaVu Sans Mono',consolas,'Courier New',monospace\"><span style=\"color: #7fbfbf; text-decoration-color: #7fbfbf\">           </span><span style=\"color: #000080; text-decoration-color: #000080\">INFO    </span> Using existing OSM data                                                              <a href=\"file:///home/moritz/dev/uni/mcr-py/notebooks/../src/package/mcr/data.py\" target=\"_blank\"><span style=\"color: #7f7f7f; text-decoration-color: #7f7f7f\">data.py</span></a><span style=\"color: #7f7f7f; text-decoration-color: #7f7f7f\">:</span><a href=\"file:///home/moritz/dev/uni/mcr-py/notebooks/../src/package/mcr/data.py#44\" target=\"_blank\"><span style=\"color: #7f7f7f; text-decoration-color: #7f7f7f\">44</span></a>\n",
       "</pre>\n"
      ],
      "text/plain": [
       "\u001b[2;36m          \u001b[0m\u001b[2;36m \u001b[0m\u001b[34mINFO    \u001b[0m Using existing OSM data                                                              \u001b]8;id=98038;file:///home/moritz/dev/uni/mcr-py/notebooks/../src/package/mcr/data.py\u001b\\\u001b[2mdata.py\u001b[0m\u001b]8;;\u001b\\\u001b[2m:\u001b[0m\u001b]8;id=541345;file:///home/moritz/dev/uni/mcr-py/notebooks/../src/package/mcr/data.py#44\u001b\\\u001b[2m44\u001b[0m\u001b]8;;\u001b\\\n"
      ]
     },
     "metadata": {},
     "output_type": "display_data"
    },
    {
     "data": {
      "text/html": [
       "<pre style=\"white-space:pre;overflow-x:auto;line-height:normal;font-family:Menlo,'DejaVu Sans Mono',consolas,'Courier New',monospace\"><span style=\"color: #7fbfbf; text-decoration-color: #7fbfbf\">           </span><span style=\"color: #000080; text-decoration-color: #000080\">INFO    </span> Loading OSM network from cache                                                       <a href=\"file:///home/moritz/dev/uni/mcr-py/notebooks/../src/package/mcr/data.py\" target=\"_blank\"><span style=\"color: #7f7f7f; text-decoration-color: #7f7f7f\">data.py</span></a><span style=\"color: #7f7f7f; text-decoration-color: #7f7f7f\">:</span><a href=\"file:///home/moritz/dev/uni/mcr-py/notebooks/../src/package/mcr/data.py#44\" target=\"_blank\"><span style=\"color: #7f7f7f; text-decoration-color: #7f7f7f\">44</span></a>\n",
       "</pre>\n"
      ],
      "text/plain": [
       "\u001b[2;36m          \u001b[0m\u001b[2;36m \u001b[0m\u001b[34mINFO    \u001b[0m Loading OSM network from cache                                                       \u001b]8;id=569089;file:///home/moritz/dev/uni/mcr-py/notebooks/../src/package/mcr/data.py\u001b\\\u001b[2mdata.py\u001b[0m\u001b]8;;\u001b\\\u001b[2m:\u001b[0m\u001b]8;id=326929;file:///home/moritz/dev/uni/mcr-py/notebooks/../src/package/mcr/data.py#44\u001b\\\u001b[2m44\u001b[0m\u001b]8;;\u001b\\\n"
      ]
     },
     "metadata": {},
     "output_type": "display_data"
    },
    {
     "data": {
      "text/html": [
       "<pre style=\"white-space:pre;overflow-x:auto;line-height:normal;font-family:Menlo,'DejaVu Sans Mono',consolas,'Courier New',monospace\"><span style=\"color: #7fbfbf; text-decoration-color: #7fbfbf\">[09:16:57] </span><span style=\"color: #000080; text-decoration-color: #000080\">INFO    </span> Reading bicycle locations                                                            <a href=\"file:///home/moritz/dev/uni/mcr-py/notebooks/../src/package/mcr/data.py\" target=\"_blank\"><span style=\"color: #7f7f7f; text-decoration-color: #7f7f7f\">data.py</span></a><span style=\"color: #7f7f7f; text-decoration-color: #7f7f7f\">:</span><a href=\"file:///home/moritz/dev/uni/mcr-py/notebooks/../src/package/mcr/data.py#60\" target=\"_blank\"><span style=\"color: #7f7f7f; text-decoration-color: #7f7f7f\">60</span></a>\n",
       "</pre>\n"
      ],
      "text/plain": [
       "\u001b[2;36m[09:16:57]\u001b[0m\u001b[2;36m \u001b[0m\u001b[34mINFO    \u001b[0m Reading bicycle locations                                                            \u001b]8;id=766786;file:///home/moritz/dev/uni/mcr-py/notebooks/../src/package/mcr/data.py\u001b\\\u001b[2mdata.py\u001b[0m\u001b]8;;\u001b\\\u001b[2m:\u001b[0m\u001b]8;id=245330;file:///home/moritz/dev/uni/mcr-py/notebooks/../src/package/mcr/data.py#60\u001b\\\u001b[2m60\u001b[0m\u001b]8;;\u001b\\\n"
      ]
     },
     "metadata": {},
     "output_type": "display_data"
    },
    {
     "data": {
      "text/html": [
       "<pre style=\"white-space:pre;overflow-x:auto;line-height:normal;font-family:Menlo,'DejaVu Sans Mono',consolas,'Courier New',monospace\"><span style=\"color: #7fbfbf; text-decoration-color: #7fbfbf\">           </span><span style=\"color: #000080; text-decoration-color: #000080\">INFO    </span> Reading bicycle locations done <span style=\"font-weight: bold\">(</span><span style=\"color: #008080; text-decoration-color: #008080; font-weight: bold\">0.38</span> seconds<span style=\"font-weight: bold\">)</span>                                        <a href=\"file:///home/moritz/dev/uni/mcr-py/notebooks/../src/package/mcr/data.py\" target=\"_blank\"><span style=\"color: #7f7f7f; text-decoration-color: #7f7f7f\">data.py</span></a><span style=\"color: #7f7f7f; text-decoration-color: #7f7f7f\">:</span><a href=\"file:///home/moritz/dev/uni/mcr-py/notebooks/../src/package/mcr/data.py#60\" target=\"_blank\"><span style=\"color: #7f7f7f; text-decoration-color: #7f7f7f\">60</span></a>\n",
       "</pre>\n"
      ],
      "text/plain": [
       "\u001b[2;36m          \u001b[0m\u001b[2;36m \u001b[0m\u001b[34mINFO    \u001b[0m Reading bicycle locations done \u001b[1m(\u001b[0m\u001b[1;36m0.38\u001b[0m seconds\u001b[1m)\u001b[0m                                        \u001b]8;id=645157;file:///home/moritz/dev/uni/mcr-py/notebooks/../src/package/mcr/data.py\u001b\\\u001b[2mdata.py\u001b[0m\u001b]8;;\u001b\\\u001b[2m:\u001b[0m\u001b]8;id=603030;file:///home/moritz/dev/uni/mcr-py/notebooks/../src/package/mcr/data.py#60\u001b\\\u001b[2m60\u001b[0m\u001b]8;;\u001b\\\n"
      ]
     },
     "metadata": {},
     "output_type": "display_data"
    },
    {
     "data": {
      "text/html": [
       "<pre style=\"white-space:pre;overflow-x:auto;line-height:normal;font-family:Menlo,'DejaVu Sans Mono',consolas,'Courier New',monospace\"><span style=\"color: #7fbfbf; text-decoration-color: #7fbfbf\">[09:17:20] </span><span style=\"color: #000080; text-decoration-color: #000080\">INFO    </span> Preparing graphs done <span style=\"font-weight: bold\">(</span><span style=\"color: #00ff00; text-decoration-color: #00ff00; font-weight: bold\">1:02</span> minutes<span style=\"font-weight: bold\">)</span>                                                 <a href=\"file:///home/moritz/dev/uni/mcr-py/notebooks/../src/package/mcr/data.py\" target=\"_blank\"><span style=\"color: #7f7f7f; text-decoration-color: #7f7f7f\">data.py</span></a><span style=\"color: #7f7f7f; text-decoration-color: #7f7f7f\">:</span><a href=\"file:///home/moritz/dev/uni/mcr-py/notebooks/../src/package/mcr/data.py#44\" target=\"_blank\"><span style=\"color: #7f7f7f; text-decoration-color: #7f7f7f\">44</span></a>\n",
       "</pre>\n"
      ],
      "text/plain": [
       "\u001b[2;36m[09:17:20]\u001b[0m\u001b[2;36m \u001b[0m\u001b[34mINFO    \u001b[0m Preparing graphs done \u001b[1m(\u001b[0m\u001b[1;92m1:02\u001b[0m minutes\u001b[1m)\u001b[0m                                                 \u001b]8;id=730234;file:///home/moritz/dev/uni/mcr-py/notebooks/../src/package/mcr/data.py\u001b\\\u001b[2mdata.py\u001b[0m\u001b]8;;\u001b\\\u001b[2m:\u001b[0m\u001b]8;id=417376;file:///home/moritz/dev/uni/mcr-py/notebooks/../src/package/mcr/data.py#44\u001b\\\u001b[2m44\u001b[0m\u001b]8;;\u001b\\\n"
      ]
     },
     "metadata": {},
     "output_type": "display_data"
    },
    {
     "data": {
      "text/html": [
       "<pre style=\"white-space:pre;overflow-x:auto;line-height:normal;font-family:Menlo,'DejaVu Sans Mono',consolas,'Courier New',monospace\"><span style=\"color: #7fbfbf; text-decoration-color: #7fbfbf\">           </span><span style=\"color: #000080; text-decoration-color: #000080\">INFO    </span> Creating graph cache                                                                <a href=\"file:///home/moritz/dev/uni/mcr-py/notebooks/../src/package/mcr/data.py\" target=\"_blank\"><span style=\"color: #7f7f7f; text-decoration-color: #7f7f7f\">data.py</span></a><span style=\"color: #7f7f7f; text-decoration-color: #7f7f7f\">:</span><a href=\"file:///home/moritz/dev/uni/mcr-py/notebooks/../src/package/mcr/data.py#147\" target=\"_blank\"><span style=\"color: #7f7f7f; text-decoration-color: #7f7f7f\">147</span></a>\n",
       "</pre>\n"
      ],
      "text/plain": [
       "\u001b[2;36m          \u001b[0m\u001b[2;36m \u001b[0m\u001b[34mINFO    \u001b[0m Creating graph cache                                                                \u001b]8;id=132980;file:///home/moritz/dev/uni/mcr-py/notebooks/../src/package/mcr/data.py\u001b\\\u001b[2mdata.py\u001b[0m\u001b]8;;\u001b\\\u001b[2m:\u001b[0m\u001b]8;id=330086;file:///home/moritz/dev/uni/mcr-py/notebooks/../src/package/mcr/data.py#147\u001b\\\u001b[2m147\u001b[0m\u001b]8;;\u001b\\\n"
      ]
     },
     "metadata": {},
     "output_type": "display_data"
    },
    {
     "data": {
      "text/html": [
       "<pre style=\"white-space:pre;overflow-x:auto;line-height:normal;font-family:Menlo,'DejaVu Sans Mono',consolas,'Courier New',monospace\"><span style=\"color: #7fbfbf; text-decoration-color: #7fbfbf\">[09:17:30] </span><span style=\"color: #000080; text-decoration-color: #000080\">INFO    </span> Creating graph cache done <span style=\"font-weight: bold\">(</span><span style=\"color: #008080; text-decoration-color: #008080; font-weight: bold\">10.46</span> seconds<span style=\"font-weight: bold\">)</span>                                           <a href=\"file:///home/moritz/dev/uni/mcr-py/notebooks/../src/package/mcr/data.py\" target=\"_blank\"><span style=\"color: #7f7f7f; text-decoration-color: #7f7f7f\">data.py</span></a><span style=\"color: #7f7f7f; text-decoration-color: #7f7f7f\">:</span><a href=\"file:///home/moritz/dev/uni/mcr-py/notebooks/../src/package/mcr/data.py#147\" target=\"_blank\"><span style=\"color: #7f7f7f; text-decoration-color: #7f7f7f\">147</span></a>\n",
       "</pre>\n"
      ],
      "text/plain": [
       "\u001b[2;36m[09:17:30]\u001b[0m\u001b[2;36m \u001b[0m\u001b[34mINFO    \u001b[0m Creating graph cache done \u001b[1m(\u001b[0m\u001b[1;36m10.46\u001b[0m seconds\u001b[1m)\u001b[0m                                           \u001b]8;id=27891;file:///home/moritz/dev/uni/mcr-py/notebooks/../src/package/mcr/data.py\u001b\\\u001b[2mdata.py\u001b[0m\u001b]8;;\u001b\\\u001b[2m:\u001b[0m\u001b]8;id=766126;file:///home/moritz/dev/uni/mcr-py/notebooks/../src/package/mcr/data.py#147\u001b\\\u001b[2m147\u001b[0m\u001b]8;;\u001b\\\n"
      ]
     },
     "metadata": {},
     "output_type": "display_data"
    }
   ],
   "source": [
    "stops_path = \"../data/cleaned/stops.csv\"\n",
    "city_id = \"Koeln\"\n",
    "osm_path = \"\"\n",
    "structs = \"../data/structs.pkl\"\n",
    "bicycle_location_path = \"../data/bicycle_locations/2022-11-01_09_01_00.csv\"\n",
    "geo_meta_path = \"../data/geometa.pkl\"\n",
    "\n",
    "mcr_geo_data = MCRGeoData(\n",
    "    stops_path,\n",
    "    structs,\n",
    "    geo_meta_path,\n",
    "    city_id,\n",
    "    bicycle_location_path=bicycle_location_path,\n",
    ")\n"
   ]
  },
  {
   "cell_type": "code",
   "execution_count": null,
   "metadata": {},
   "outputs": [],
   "source": [
    "mcr_geo_data.add_pois_to_mm_graph(pois)"
   ]
  },
  {
   "cell_type": "code",
   "execution_count": null,
   "metadata": {},
   "outputs": [
    {
     "data": {
      "text/html": [
       "<pre style=\"white-space:pre;overflow-x:auto;line-height:normal;font-family:Menlo,'DejaVu Sans Mono',consolas,'Courier New',monospace\"><span style=\"color: #7fbfbf; text-decoration-color: #7fbfbf\">[09:19:20] </span><span style=\"color: #000080; text-decoration-color: #000080\">INFO    </span> Running Dijkstra step                                                              <a href=\"file:///home/moritz/dev/uni/mcr-py/notebooks/../src/package/logger.py\" target=\"_blank\"><span style=\"color: #7f7f7f; text-decoration-color: #7f7f7f\">logger.py</span></a><span style=\"color: #7f7f7f; text-decoration-color: #7f7f7f\">:</span><a href=\"file:///home/moritz/dev/uni/mcr-py/notebooks/../src/package/logger.py#37\" target=\"_blank\"><span style=\"color: #7f7f7f; text-decoration-color: #7f7f7f\">37</span></a>\n",
       "</pre>\n"
      ],
      "text/plain": [
       "\u001b[2;36m[09:19:20]\u001b[0m\u001b[2;36m \u001b[0m\u001b[34mINFO    \u001b[0m Running Dijkstra step                                                              \u001b]8;id=378213;file:///home/moritz/dev/uni/mcr-py/notebooks/../src/package/logger.py\u001b\\\u001b[2mlogger.py\u001b[0m\u001b]8;;\u001b\\\u001b[2m:\u001b[0m\u001b]8;id=746871;file:///home/moritz/dev/uni/mcr-py/notebooks/../src/package/logger.py#37\u001b\\\u001b[2m37\u001b[0m\u001b]8;;\u001b\\\n"
      ]
     },
     "metadata": {},
     "output_type": "display_data"
    },
    {
     "data": {
      "text/html": [
       "<pre style=\"white-space:pre;overflow-x:auto;line-height:normal;font-family:Menlo,'DejaVu Sans Mono',consolas,'Courier New',monospace\"><span style=\"color: #7fbfbf; text-decoration-color: #7fbfbf\">[09:19:26] </span><span style=\"color: #000080; text-decoration-color: #000080\">INFO    </span> Running Dijkstra step done <span style=\"font-weight: bold\">(</span><span style=\"color: #008080; text-decoration-color: #008080; font-weight: bold\">5.60</span> seconds<span style=\"font-weight: bold\">)</span>                                          <a href=\"file:///home/moritz/dev/uni/mcr-py/notebooks/../src/package/logger.py\" target=\"_blank\"><span style=\"color: #7f7f7f; text-decoration-color: #7f7f7f\">logger.py</span></a><span style=\"color: #7f7f7f; text-decoration-color: #7f7f7f\">:</span><a href=\"file:///home/moritz/dev/uni/mcr-py/notebooks/../src/package/logger.py#37\" target=\"_blank\"><span style=\"color: #7f7f7f; text-decoration-color: #7f7f7f\">37</span></a>\n",
       "</pre>\n"
      ],
      "text/plain": [
       "\u001b[2;36m[09:19:26]\u001b[0m\u001b[2;36m \u001b[0m\u001b[34mINFO    \u001b[0m Running Dijkstra step done \u001b[1m(\u001b[0m\u001b[1;36m5.60\u001b[0m seconds\u001b[1m)\u001b[0m                                          \u001b]8;id=670575;file:///home/moritz/dev/uni/mcr-py/notebooks/../src/package/logger.py\u001b\\\u001b[2mlogger.py\u001b[0m\u001b]8;;\u001b\\\u001b[2m:\u001b[0m\u001b]8;id=115860;file:///home/moritz/dev/uni/mcr-py/notebooks/../src/package/logger.py#37\u001b\\\u001b[2m37\u001b[0m\u001b]8;;\u001b\\\n"
      ]
     },
     "metadata": {},
     "output_type": "display_data"
    },
    {
     "data": {
      "text/html": [
       "<pre style=\"white-space:pre;overflow-x:auto;line-height:normal;font-family:Menlo,'DejaVu Sans Mono',consolas,'Courier New',monospace\"><span style=\"color: #7fbfbf; text-decoration-color: #7fbfbf\">           </span><span style=\"color: #000080; text-decoration-color: #000080\">INFO    </span> Extracting dijkstra step bags                                                      <a href=\"file:///home/moritz/dev/uni/mcr-py/notebooks/../src/package/logger.py\" target=\"_blank\"><span style=\"color: #7f7f7f; text-decoration-color: #7f7f7f\">logger.py</span></a><span style=\"color: #7f7f7f; text-decoration-color: #7f7f7f\">:</span><a href=\"file:///home/moritz/dev/uni/mcr-py/notebooks/../src/package/logger.py#37\" target=\"_blank\"><span style=\"color: #7f7f7f; text-decoration-color: #7f7f7f\">37</span></a>\n",
       "</pre>\n"
      ],
      "text/plain": [
       "\u001b[2;36m          \u001b[0m\u001b[2;36m \u001b[0m\u001b[34mINFO    \u001b[0m Extracting dijkstra step bags                                                      \u001b]8;id=127319;file:///home/moritz/dev/uni/mcr-py/notebooks/../src/package/logger.py\u001b\\\u001b[2mlogger.py\u001b[0m\u001b]8;;\u001b\\\u001b[2m:\u001b[0m\u001b]8;id=930482;file:///home/moritz/dev/uni/mcr-py/notebooks/../src/package/logger.py#37\u001b\\\u001b[2m37\u001b[0m\u001b]8;;\u001b\\\n"
      ]
     },
     "metadata": {},
     "output_type": "display_data"
    },
    {
     "data": {
      "text/html": [
       "<pre style=\"white-space:pre;overflow-x:auto;line-height:normal;font-family:Menlo,'DejaVu Sans Mono',consolas,'Courier New',monospace\"><span style=\"color: #7fbfbf; text-decoration-color: #7fbfbf\">[09:19:38] </span><span style=\"color: #000080; text-decoration-color: #000080\">INFO    </span> Extracting dijkstra step bags done <span style=\"font-weight: bold\">(</span><span style=\"color: #008080; text-decoration-color: #008080; font-weight: bold\">12.29</span> seconds<span style=\"font-weight: bold\">)</span>                                 <a href=\"file:///home/moritz/dev/uni/mcr-py/notebooks/../src/package/logger.py\" target=\"_blank\"><span style=\"color: #7f7f7f; text-decoration-color: #7f7f7f\">logger.py</span></a><span style=\"color: #7f7f7f; text-decoration-color: #7f7f7f\">:</span><a href=\"file:///home/moritz/dev/uni/mcr-py/notebooks/../src/package/logger.py#37\" target=\"_blank\"><span style=\"color: #7f7f7f; text-decoration-color: #7f7f7f\">37</span></a>\n",
       "</pre>\n"
      ],
      "text/plain": [
       "\u001b[2;36m[09:19:38]\u001b[0m\u001b[2;36m \u001b[0m\u001b[34mINFO    \u001b[0m Extracting dijkstra step bags done \u001b[1m(\u001b[0m\u001b[1;36m12.29\u001b[0m seconds\u001b[1m)\u001b[0m                                 \u001b]8;id=416563;file:///home/moritz/dev/uni/mcr-py/notebooks/../src/package/logger.py\u001b\\\u001b[2mlogger.py\u001b[0m\u001b]8;;\u001b\\\u001b[2m:\u001b[0m\u001b]8;id=956125;file:///home/moritz/dev/uni/mcr-py/notebooks/../src/package/logger.py#37\u001b\\\u001b[2m37\u001b[0m\u001b]8;;\u001b\\\n"
      ]
     },
     "metadata": {},
     "output_type": "display_data"
    },
    {
     "data": {
      "text/html": [
       "<pre style=\"white-space:pre;overflow-x:auto;line-height:normal;font-family:Menlo,'DejaVu Sans Mono',consolas,'Courier New',monospace\"><span style=\"color: #7fbfbf; text-decoration-color: #7fbfbf\">           </span><span style=\"color: #000080; text-decoration-color: #000080\">INFO    </span> Running iteration <span style=\"color: #008080; text-decoration-color: #008080; font-weight: bold\">1</span>                                                                   <a href=\"file:///home/moritz/dev/uni/mcr-py/notebooks/../src/package/mcr/mcr.py\" target=\"_blank\"><span style=\"color: #7f7f7f; text-decoration-color: #7f7f7f\">mcr.py</span></a><span style=\"color: #7f7f7f; text-decoration-color: #7f7f7f\">:</span><a href=\"file:///home/moritz/dev/uni/mcr-py/notebooks/../src/package/mcr/mcr.py#94\" target=\"_blank\"><span style=\"color: #7f7f7f; text-decoration-color: #7f7f7f\">94</span></a>\n",
       "</pre>\n"
      ],
      "text/plain": [
       "\u001b[2;36m          \u001b[0m\u001b[2;36m \u001b[0m\u001b[34mINFO    \u001b[0m Running iteration \u001b[1;36m1\u001b[0m                                                                   \u001b]8;id=248679;file:///home/moritz/dev/uni/mcr-py/notebooks/../src/package/mcr/mcr.py\u001b\\\u001b[2mmcr.py\u001b[0m\u001b]8;;\u001b\\\u001b[2m:\u001b[0m\u001b]8;id=359458;file:///home/moritz/dev/uni/mcr-py/notebooks/../src/package/mcr/mcr.py#94\u001b\\\u001b[2m94\u001b[0m\u001b]8;;\u001b\\\n"
      ]
     },
     "metadata": {},
     "output_type": "display_data"
    },
    {
     "data": {
      "text/html": [
       "<pre style=\"white-space:pre;overflow-x:auto;line-height:normal;font-family:Menlo,'DejaVu Sans Mono',consolas,'Courier New',monospace\"><span style=\"color: #7fbfbf; text-decoration-color: #7fbfbf\">           </span><span style=\"color: #000080; text-decoration-color: #000080\">INFO    </span> Preparing input for bicycle step                                                   <a href=\"file:///home/moritz/dev/uni/mcr-py/notebooks/../src/package/logger.py\" target=\"_blank\"><span style=\"color: #7f7f7f; text-decoration-color: #7f7f7f\">logger.py</span></a><span style=\"color: #7f7f7f; text-decoration-color: #7f7f7f\">:</span><a href=\"file:///home/moritz/dev/uni/mcr-py/notebooks/../src/package/logger.py#37\" target=\"_blank\"><span style=\"color: #7f7f7f; text-decoration-color: #7f7f7f\">37</span></a>\n",
       "</pre>\n"
      ],
      "text/plain": [
       "\u001b[2;36m          \u001b[0m\u001b[2;36m \u001b[0m\u001b[34mINFO    \u001b[0m Preparing input for bicycle step                                                   \u001b]8;id=170041;file:///home/moritz/dev/uni/mcr-py/notebooks/../src/package/logger.py\u001b\\\u001b[2mlogger.py\u001b[0m\u001b]8;;\u001b\\\u001b[2m:\u001b[0m\u001b]8;id=512117;file:///home/moritz/dev/uni/mcr-py/notebooks/../src/package/logger.py#37\u001b\\\u001b[2m37\u001b[0m\u001b]8;;\u001b\\\n"
      ]
     },
     "metadata": {},
     "output_type": "display_data"
    },
    {
     "data": {
      "text/html": [
       "<pre style=\"white-space:pre;overflow-x:auto;line-height:normal;font-family:Menlo,'DejaVu Sans Mono',consolas,'Courier New',monospace\"><span style=\"color: #7fbfbf; text-decoration-color: #7fbfbf\">[09:19:39] </span><span style=\"color: #000080; text-decoration-color: #000080\">INFO    </span> Preparing input for bicycle step done <span style=\"font-weight: bold\">(</span><span style=\"color: #008080; text-decoration-color: #008080; font-weight: bold\">0.77</span> seconds<span style=\"font-weight: bold\">)</span>                               <a href=\"file:///home/moritz/dev/uni/mcr-py/notebooks/../src/package/logger.py\" target=\"_blank\"><span style=\"color: #7f7f7f; text-decoration-color: #7f7f7f\">logger.py</span></a><span style=\"color: #7f7f7f; text-decoration-color: #7f7f7f\">:</span><a href=\"file:///home/moritz/dev/uni/mcr-py/notebooks/../src/package/logger.py#37\" target=\"_blank\"><span style=\"color: #7f7f7f; text-decoration-color: #7f7f7f\">37</span></a>\n",
       "</pre>\n"
      ],
      "text/plain": [
       "\u001b[2;36m[09:19:39]\u001b[0m\u001b[2;36m \u001b[0m\u001b[34mINFO    \u001b[0m Preparing input for bicycle step done \u001b[1m(\u001b[0m\u001b[1;36m0.77\u001b[0m seconds\u001b[1m)\u001b[0m                               \u001b]8;id=757033;file:///home/moritz/dev/uni/mcr-py/notebooks/../src/package/logger.py\u001b\\\u001b[2mlogger.py\u001b[0m\u001b]8;;\u001b\\\u001b[2m:\u001b[0m\u001b]8;id=355630;file:///home/moritz/dev/uni/mcr-py/notebooks/../src/package/logger.py#37\u001b\\\u001b[2m37\u001b[0m\u001b]8;;\u001b\\\n"
      ]
     },
     "metadata": {},
     "output_type": "display_data"
    },
    {
     "ename": "",
     "evalue": "",
     "output_type": "error",
     "traceback": [
      "\u001b[1;31mThe Kernel crashed while executing code in the the current cell or a previous cell. Please review the code in the cell(s) to identify a possible cause of the failure. Click <a href='https://aka.ms/vscodeJupyterKernelCrash'>here</a> for more info. View Jupyter <a href='command:jupyter.viewOutput'>log</a> for further details."
     ]
    }
   ],
   "source": [
    "mcr = MCR(mcr_geo_data, disable_paths=False, enable_limit=False)\n",
    "mcr.run(1638242852, \"08:00:00\", 2, output_path=\"../data/bags.pkl\")"
   ]
  },
  {
   "cell_type": "code",
   "execution_count": null,
   "metadata": {},
   "outputs": [],
   "source": []
  }
 ],
 "metadata": {
  "kernelspec": {
   "display_name": "mcr-py",
   "language": "python",
   "name": "python3"
  },
  "language_info": {
   "codemirror_mode": {
    "name": "ipython",
    "version": 3
   },
   "file_extension": ".py",
   "mimetype": "text/x-python",
   "name": "python",
   "nbconvert_exporter": "python",
   "pygments_lexer": "ipython3",
   "version": "3.10.12"
  },
  "orig_nbformat": 4
 },
 "nbformat": 4,
 "nbformat_minor": 2
}
