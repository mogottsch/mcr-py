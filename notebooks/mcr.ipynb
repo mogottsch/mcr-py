{
 "cells": [
  {
   "cell_type": "code",
   "execution_count": 1,
   "metadata": {},
   "outputs": [],
   "source": [
    "%load_ext autoreload\n",
    "%autoreload 2\n",
    "# add . to module name\n",
    "import sys\n",
    "sys.path.append('../src/')"
   ]
  },
  {
   "cell_type": "code",
   "execution_count": 2,
   "metadata": {},
   "outputs": [],
   "source": [
    "from package.logger import Timed, rlog, setup\n",
    "from package import storage\n",
    "setup(\"INFO\")"
   ]
  },
  {
   "cell_type": "code",
   "execution_count": 5,
   "metadata": {},
   "outputs": [],
   "source": [
    "from typing import Any, Optional\n",
    "import sys\n",
    "\n",
    "import pandas as pd\n",
    "\n",
    "import mcr_py\n",
    "from mcr_py import PyLabel\n",
    "from package import storage, strtime\n",
    "from package.logger import Timer, rlog\n",
    "from package.mcr.data import OSMData\n",
    "from package.mcr.label import (\n",
    "    IntermediateLabel,\n",
    "    McRAPTORLabel,\n",
    "    McRAPTORLabelWithPath,\n",
    "    merge_intermediate_bags,\n",
    ")\n",
    "from package.mcr.output import OutputFormat\n",
    "from package.mcr.path import PathManager, PathType\n",
    "from package.raptor.mcraptor_single import McRaptorSingle\n",
    "from package.raptor.bag import Bag\n",
    "from package.mcr.bag import (\n",
    "    IntermediateBags,\n",
    "    convert_mc_raptor_bags_to_intermediate_bags,\n",
    "    convert_mlc_bags_to_intermediate_bags,\n",
    ")\n",
    "\n",
    "McRAPTORInputBags = dict[str, list[IntermediateLabel]]\n",
    "\n",
    "\n",
    "from package.osm import osm\n",
    "from package.geometa import GeoMeta\n",
    "import os\n",
    "from package.mcr.mcr import MCR\n",
    "from package.minute_city import minute_city"
   ]
  },
  {
   "cell_type": "code",
   "execution_count": null,
   "metadata": {},
   "outputs": [
    {
     "data": {
      "text/html": [
       "<pre style=\"white-space:pre;overflow-x:auto;line-height:normal;font-family:Menlo,'DejaVu Sans Mono',consolas,'Courier New',monospace\"><span style=\"color: #7fbfbf; text-decoration-color: #7fbfbf\">[17:30:51] </span><span style=\"color: #000080; text-decoration-color: #000080\">INFO    </span> Reading stops                                                                   <a href=\"file:///tmp/ipykernel_46690/1014092602.py\" target=\"_blank\"><span style=\"color: #7f7f7f; text-decoration-color: #7f7f7f\">1014092602.py</span></a><span style=\"color: #7f7f7f; text-decoration-color: #7f7f7f\">:</span><a href=\"file:///tmp/ipykernel_46690/1014092602.py#5\" target=\"_blank\"><span style=\"color: #7f7f7f; text-decoration-color: #7f7f7f\">5</span></a>\n",
       "</pre>\n"
      ],
      "text/plain": [
       "\u001b[2;36m[17:30:51]\u001b[0m\u001b[2;36m \u001b[0m\u001b[34mINFO    \u001b[0m Reading stops                                                                   \u001b]8;id=276065;file:///tmp/ipykernel_46690/1014092602.py\u001b\\\u001b[2m1014092602.py\u001b[0m\u001b]8;;\u001b\\\u001b[2m:\u001b[0m\u001b]8;id=543658;file:///tmp/ipykernel_46690/1014092602.py#5\u001b\\\u001b[2m5\u001b[0m\u001b]8;;\u001b\\\n"
      ]
     },
     "metadata": {},
     "output_type": "display_data"
    },
    {
     "data": {
      "text/html": [
       "<pre style=\"white-space:pre;overflow-x:auto;line-height:normal;font-family:Menlo,'DejaVu Sans Mono',consolas,'Courier New',monospace\"><span style=\"color: #7fbfbf; text-decoration-color: #7fbfbf\">           </span><span style=\"color: #000080; text-decoration-color: #000080\">INFO    </span> Reading stops done <span style=\"font-weight: bold\">(</span><span style=\"color: #008080; text-decoration-color: #008080; font-weight: bold\">0.13</span> seconds<span style=\"font-weight: bold\">)</span>                                               <a href=\"file:///tmp/ipykernel_46690/1014092602.py\" target=\"_blank\"><span style=\"color: #7f7f7f; text-decoration-color: #7f7f7f\">1014092602.py</span></a><span style=\"color: #7f7f7f; text-decoration-color: #7f7f7f\">:</span><a href=\"file:///tmp/ipykernel_46690/1014092602.py#5\" target=\"_blank\"><span style=\"color: #7f7f7f; text-decoration-color: #7f7f7f\">5</span></a>\n",
       "</pre>\n"
      ],
      "text/plain": [
       "\u001b[2;36m          \u001b[0m\u001b[2;36m \u001b[0m\u001b[34mINFO    \u001b[0m Reading stops done \u001b[1m(\u001b[0m\u001b[1;36m0.13\u001b[0m seconds\u001b[1m)\u001b[0m                                               \u001b]8;id=238471;file:///tmp/ipykernel_46690/1014092602.py\u001b\\\u001b[2m1014092602.py\u001b[0m\u001b]8;;\u001b\\\u001b[2m:\u001b[0m\u001b]8;id=31274;file:///tmp/ipykernel_46690/1014092602.py#5\u001b\\\u001b[2m5\u001b[0m\u001b]8;;\u001b\\\n"
      ]
     },
     "metadata": {},
     "output_type": "display_data"
    },
    {
     "data": {
      "text/html": [
       "<pre style=\"white-space:pre;overflow-x:auto;line-height:normal;font-family:Menlo,'DejaVu Sans Mono',consolas,'Courier New',monospace\"><span style=\"color: #7fbfbf; text-decoration-color: #7fbfbf\">           </span><span style=\"color: #000080; text-decoration-color: #000080\">INFO    </span> Using existing OSM data                                                        <a href=\"file:///tmp/ipykernel_46690/1014092602.py\" target=\"_blank\"><span style=\"color: #7f7f7f; text-decoration-color: #7f7f7f\">1014092602.py</span></a><span style=\"color: #7f7f7f; text-decoration-color: #7f7f7f\">:</span><a href=\"file:///tmp/ipykernel_46690/1014092602.py#12\" target=\"_blank\"><span style=\"color: #7f7f7f; text-decoration-color: #7f7f7f\">12</span></a>\n",
       "</pre>\n"
      ],
      "text/plain": [
       "\u001b[2;36m          \u001b[0m\u001b[2;36m \u001b[0m\u001b[34mINFO    \u001b[0m Using existing OSM data                                                        \u001b]8;id=605428;file:///tmp/ipykernel_46690/1014092602.py\u001b\\\u001b[2m1014092602.py\u001b[0m\u001b]8;;\u001b\\\u001b[2m:\u001b[0m\u001b]8;id=591709;file:///tmp/ipykernel_46690/1014092602.py#12\u001b\\\u001b[2m12\u001b[0m\u001b]8;;\u001b\\\n"
      ]
     },
     "metadata": {},
     "output_type": "display_data"
    },
    {
     "data": {
      "text/html": [
       "<pre style=\"white-space:pre;overflow-x:auto;line-height:normal;font-family:Menlo,'DejaVu Sans Mono',consolas,'Courier New',monospace\"><span style=\"color: #7fbfbf; text-decoration-color: #7fbfbf\">           </span><span style=\"color: #000080; text-decoration-color: #000080\">INFO    </span> Getting OSM graph                                                              <a href=\"file:///tmp/ipykernel_46690/1014092602.py\" target=\"_blank\"><span style=\"color: #7f7f7f; text-decoration-color: #7f7f7f\">1014092602.py</span></a><span style=\"color: #7f7f7f; text-decoration-color: #7f7f7f\">:</span><a href=\"file:///tmp/ipykernel_46690/1014092602.py#18\" target=\"_blank\"><span style=\"color: #7f7f7f; text-decoration-color: #7f7f7f\">18</span></a>\n",
       "</pre>\n"
      ],
      "text/plain": [
       "\u001b[2;36m          \u001b[0m\u001b[2;36m \u001b[0m\u001b[34mINFO    \u001b[0m Getting OSM graph                                                              \u001b]8;id=545597;file:///tmp/ipykernel_46690/1014092602.py\u001b\\\u001b[2m1014092602.py\u001b[0m\u001b]8;;\u001b\\\u001b[2m:\u001b[0m\u001b]8;id=206899;file:///tmp/ipykernel_46690/1014092602.py#18\u001b\\\u001b[2m18\u001b[0m\u001b]8;;\u001b\\\n"
      ]
     },
     "metadata": {},
     "output_type": "display_data"
    },
    {
     "data": {
      "text/html": [
       "<pre style=\"white-space:pre;overflow-x:auto;line-height:normal;font-family:Menlo,'DejaVu Sans Mono',consolas,'Courier New',monospace\"><span style=\"color: #7fbfbf; text-decoration-color: #7fbfbf\">           </span><span style=\"color: #000080; text-decoration-color: #000080\">INFO    </span> Loading OSM network from cache                                                 <a href=\"file:///tmp/ipykernel_46690/1014092602.py\" target=\"_blank\"><span style=\"color: #7f7f7f; text-decoration-color: #7f7f7f\">1014092602.py</span></a><span style=\"color: #7f7f7f; text-decoration-color: #7f7f7f\">:</span><a href=\"file:///tmp/ipykernel_46690/1014092602.py#18\" target=\"_blank\"><span style=\"color: #7f7f7f; text-decoration-color: #7f7f7f\">18</span></a>\n",
       "</pre>\n"
      ],
      "text/plain": [
       "\u001b[2;36m          \u001b[0m\u001b[2;36m \u001b[0m\u001b[34mINFO    \u001b[0m Loading OSM network from cache                                                 \u001b]8;id=77040;file:///tmp/ipykernel_46690/1014092602.py\u001b\\\u001b[2m1014092602.py\u001b[0m\u001b]8;;\u001b\\\u001b[2m:\u001b[0m\u001b]8;id=776642;file:///tmp/ipykernel_46690/1014092602.py#18\u001b\\\u001b[2m18\u001b[0m\u001b]8;;\u001b\\\n"
      ]
     },
     "metadata": {},
     "output_type": "display_data"
    },
    {
     "data": {
      "text/html": [
       "<pre style=\"white-space:pre;overflow-x:auto;line-height:normal;font-family:Menlo,'DejaVu Sans Mono',consolas,'Courier New',monospace\"><span style=\"color: #7fbfbf; text-decoration-color: #7fbfbf\">[17:30:52] </span><span style=\"color: #000080; text-decoration-color: #000080\">INFO    </span> Getting OSM graph done <span style=\"font-weight: bold\">(</span><span style=\"color: #008080; text-decoration-color: #008080; font-weight: bold\">0.25</span> seconds<span style=\"font-weight: bold\">)</span>                                          <a href=\"file:///tmp/ipykernel_46690/1014092602.py\" target=\"_blank\"><span style=\"color: #7f7f7f; text-decoration-color: #7f7f7f\">1014092602.py</span></a><span style=\"color: #7f7f7f; text-decoration-color: #7f7f7f\">:</span><a href=\"file:///tmp/ipykernel_46690/1014092602.py#18\" target=\"_blank\"><span style=\"color: #7f7f7f; text-decoration-color: #7f7f7f\">18</span></a>\n",
       "</pre>\n"
      ],
      "text/plain": [
       "\u001b[2;36m[17:30:52]\u001b[0m\u001b[2;36m \u001b[0m\u001b[34mINFO    \u001b[0m Getting OSM graph done \u001b[1m(\u001b[0m\u001b[1;36m0.25\u001b[0m seconds\u001b[1m)\u001b[0m                                          \u001b]8;id=583348;file:///tmp/ipykernel_46690/1014092602.py\u001b\\\u001b[2m1014092602.py\u001b[0m\u001b]8;;\u001b\\\u001b[2m:\u001b[0m\u001b]8;id=745610;file:///tmp/ipykernel_46690/1014092602.py#18\u001b\\\u001b[2m18\u001b[0m\u001b]8;;\u001b\\\n"
      ]
     },
     "metadata": {},
     "output_type": "display_data"
    }
   ],
   "source": [
    "city_id = \"Koeln\"\n",
    "stops_path = \"../data/cleaned/stops.csv\"\n",
    "osm_path = osm.get_osm_path_from_city_id(city_id)\n",
    "\n",
    "with Timed.info(\"Reading stops\"):\n",
    "\tother_stops_df = storage.read_gdf(stops_path)\n",
    "\n",
    "if not os.path.exists(osm_path) and city_id:\n",
    "\trlog.info(\"Downloading OSM data\")\n",
    "\tosm.download_city(city_id, osm_path)\n",
    "else:\n",
    "\trlog.info(\"Using existing OSM data\")\n",
    "\n",
    "osm_reader = osm.new_osm_reader(osm_path)\n",
    "\n",
    "geo_meta = GeoMeta.load(\"../data/geometa.pkl\")\n",
    "\n",
    "with Timed.info(\"Getting OSM graph\"):\n",
    "\tnodes, edges = osm.get_graph_for_city_cropped_to_boundary(osm_reader, geo_meta)"
   ]
  },
  {
   "cell_type": "code",
   "execution_count": 7,
   "metadata": {},
   "outputs": [],
   "source": [
    "start_time = \"08:00:00\"\n",
    "start_node_id = 8734972825\n",
    "\n",
    "geo_meta_path = \"../data/geometa.pkl\"\n",
    "stops_path = \"../data/cleaned/stops.csv\"\n",
    "structs_path = \"../data/structs.pkl\"\n",
    "bicycle_location_path = \"../data/bicycle_locations/2022-11-01_09_01_00.csv\"\n",
    "city_id = \"Koeln\"\n",
    "\n",
    "disable_paths=False\n",
    "\n",
    "output_path = \"../data/bags.pkl\""
   ]
  },
  {
   "cell_type": "code",
   "execution_count": 9,
   "metadata": {},
   "outputs": [
    {
     "data": {
      "text/html": [
       "<pre style=\"white-space:pre;overflow-x:auto;line-height:normal;font-family:Menlo,'DejaVu Sans Mono',consolas,'Courier New',monospace\"><span style=\"color: #7fbfbf; text-decoration-color: #7fbfbf\">[15:20:59] </span><span style=\"color: #000080; text-decoration-color: #000080\">INFO    </span> Using existing OSM data                                                              <a href=\"file:///home/moritz/dev/uni/mcr-py/notebooks/../src/package/osm/osm.py\" target=\"_blank\"><span style=\"color: #7f7f7f; text-decoration-color: #7f7f7f\">osm.py</span></a><span style=\"color: #7f7f7f; text-decoration-color: #7f7f7f\">:</span><a href=\"file:///home/moritz/dev/uni/mcr-py/notebooks/../src/package/osm/osm.py#106\" target=\"_blank\"><span style=\"color: #7f7f7f; text-decoration-color: #7f7f7f\">106</span></a>\n",
       "</pre>\n"
      ],
      "text/plain": [
       "\u001b[2;36m[15:20:59]\u001b[0m\u001b[2;36m \u001b[0m\u001b[34mINFO    \u001b[0m Using existing OSM data                                                              \u001b]8;id=160387;file:///home/moritz/dev/uni/mcr-py/notebooks/../src/package/osm/osm.py\u001b\\\u001b[2mosm.py\u001b[0m\u001b]8;;\u001b\\\u001b[2m:\u001b[0m\u001b]8;id=340802;file:///home/moritz/dev/uni/mcr-py/notebooks/../src/package/osm/osm.py#106\u001b\\\u001b[2m106\u001b[0m\u001b]8;;\u001b\\\n"
      ]
     },
     "metadata": {},
     "output_type": "display_data"
    },
    {
     "data": {
      "text/html": [
       "<pre style=\"white-space:pre;overflow-x:auto;line-height:normal;font-family:Menlo,'DejaVu Sans Mono',consolas,'Courier New',monospace\"><span style=\"color: #7fbfbf; text-decoration-color: #7fbfbf\">           </span><span style=\"color: #000080; text-decoration-color: #000080\">INFO    </span> Loading OSM network from cache                                                        <a href=\"file:///home/moritz/dev/uni/mcr-py/notebooks/../src/package/osm/osm.py\" target=\"_blank\"><span style=\"color: #7f7f7f; text-decoration-color: #7f7f7f\">osm.py</span></a><span style=\"color: #7f7f7f; text-decoration-color: #7f7f7f\">:</span><a href=\"file:///home/moritz/dev/uni/mcr-py/notebooks/../src/package/osm/osm.py#69\" target=\"_blank\"><span style=\"color: #7f7f7f; text-decoration-color: #7f7f7f\">69</span></a>\n",
       "</pre>\n"
      ],
      "text/plain": [
       "\u001b[2;36m          \u001b[0m\u001b[2;36m \u001b[0m\u001b[34mINFO    \u001b[0m Loading OSM network from cache                                                        \u001b]8;id=952154;file:///home/moritz/dev/uni/mcr-py/notebooks/../src/package/osm/osm.py\u001b\\\u001b[2mosm.py\u001b[0m\u001b]8;;\u001b\\\u001b[2m:\u001b[0m\u001b]8;id=413289;file:///home/moritz/dev/uni/mcr-py/notebooks/../src/package/osm/osm.py#69\u001b\\\u001b[2m69\u001b[0m\u001b]8;;\u001b\\\n"
      ]
     },
     "metadata": {},
     "output_type": "display_data"
    },
    {
     "data": {
      "text/html": [
       "<pre style=\"white-space:pre;overflow-x:auto;line-height:normal;font-family:Menlo,'DejaVu Sans Mono',consolas,'Courier New',monospace\"><span style=\"color: #7fbfbf; text-decoration-color: #7fbfbf\">[15:21:04] </span><span style=\"color: #000080; text-decoration-color: #000080\">INFO    </span> Using existing OSM data                                                              <a href=\"file:///home/moritz/dev/uni/mcr-py/notebooks/../src/package/osm/osm.py\" target=\"_blank\"><span style=\"color: #7f7f7f; text-decoration-color: #7f7f7f\">osm.py</span></a><span style=\"color: #7f7f7f; text-decoration-color: #7f7f7f\">:</span><a href=\"file:///home/moritz/dev/uni/mcr-py/notebooks/../src/package/osm/osm.py#106\" target=\"_blank\"><span style=\"color: #7f7f7f; text-decoration-color: #7f7f7f\">106</span></a>\n",
       "</pre>\n"
      ],
      "text/plain": [
       "\u001b[2;36m[15:21:04]\u001b[0m\u001b[2;36m \u001b[0m\u001b[34mINFO    \u001b[0m Using existing OSM data                                                              \u001b]8;id=993334;file:///home/moritz/dev/uni/mcr-py/notebooks/../src/package/osm/osm.py\u001b\\\u001b[2mosm.py\u001b[0m\u001b]8;;\u001b\\\u001b[2m:\u001b[0m\u001b]8;id=731538;file:///home/moritz/dev/uni/mcr-py/notebooks/../src/package/osm/osm.py#106\u001b\\\u001b[2m106\u001b[0m\u001b]8;;\u001b\\\n"
      ]
     },
     "metadata": {},
     "output_type": "display_data"
    },
    {
     "data": {
      "text/html": [
       "<pre style=\"white-space:pre;overflow-x:auto;line-height:normal;font-family:Menlo,'DejaVu Sans Mono',consolas,'Courier New',monospace\"><span style=\"color: #7fbfbf; text-decoration-color: #7fbfbf\">           </span><span style=\"color: #000080; text-decoration-color: #000080\">INFO    </span> Loading OSM network from cache                                                        <a href=\"file:///home/moritz/dev/uni/mcr-py/notebooks/../src/package/osm/osm.py\" target=\"_blank\"><span style=\"color: #7f7f7f; text-decoration-color: #7f7f7f\">osm.py</span></a><span style=\"color: #7f7f7f; text-decoration-color: #7f7f7f\">:</span><a href=\"file:///home/moritz/dev/uni/mcr-py/notebooks/../src/package/osm/osm.py#69\" target=\"_blank\"><span style=\"color: #7f7f7f; text-decoration-color: #7f7f7f\">69</span></a>\n",
       "</pre>\n"
      ],
      "text/plain": [
       "\u001b[2;36m          \u001b[0m\u001b[2;36m \u001b[0m\u001b[34mINFO    \u001b[0m Loading OSM network from cache                                                        \u001b]8;id=328931;file:///home/moritz/dev/uni/mcr-py/notebooks/../src/package/osm/osm.py\u001b\\\u001b[2mosm.py\u001b[0m\u001b]8;;\u001b\\\u001b[2m:\u001b[0m\u001b]8;id=477067;file:///home/moritz/dev/uni/mcr-py/notebooks/../src/package/osm/osm.py#69\u001b\\\u001b[2m69\u001b[0m\u001b]8;;\u001b\\\n"
      ]
     },
     "metadata": {},
     "output_type": "display_data"
    }
   ],
   "source": [
    "from package.mcr.data import NetworkType\n",
    "\n",
    "geo_meta = GeoMeta.load(geo_meta_path)\n",
    "geo_data = OSMData(\n",
    "\tgeo_meta, city_id, additional_network_types=[NetworkType.CYCLING]\n",
    ")"
   ]
  },
  {
   "cell_type": "code",
   "execution_count": 10,
   "metadata": {},
   "outputs": [
    {
     "name": "stderr",
     "output_type": "stream",
     "text": [
      "[autoreload of mcr_py failed: Traceback (most recent call last):\n",
      "  File \"/home/moritz/miniconda3/envs/mcr-py/lib/python3.10/site-packages/IPython/extensions/autoreload.py\", line 276, in check\n",
      "    superreload(m, reload, self.old_objects)\n",
      "  File \"/home/moritz/miniconda3/envs/mcr-py/lib/python3.10/site-packages/IPython/extensions/autoreload.py\", line 475, in superreload\n",
      "    module = reload(module)\n",
      "  File \"/home/moritz/miniconda3/envs/mcr-py/lib/python3.10/importlib/__init__.py\", line 169, in reload\n",
      "    _bootstrap._exec(spec, module)\n",
      "  File \"<frozen importlib._bootstrap>\", line 619, in _exec\n",
      "  File \"<frozen importlib._bootstrap_external>\", line 883, in exec_module\n",
      "  File \"<frozen importlib._bootstrap>\", line 241, in _call_with_frames_removed\n",
      "  File \"/home/moritz/miniconda3/envs/mcr-py/lib/python3.10/site-packages/mcr_py/__init__.py\", line 3, in <module>\n",
      "    __doc__ = mcr_py.__doc__\n",
      "NameError: name 'mcr_py' is not defined\n",
      "]\n"
     ]
    },
    {
     "data": {
      "text/html": [
       "<pre style=\"white-space:pre;overflow-x:auto;line-height:normal;font-family:Menlo,'DejaVu Sans Mono',consolas,'Courier New',monospace\"><span style=\"color: #7fbfbf; text-decoration-color: #7fbfbf\">[17:34:40] </span><span style=\"color: #000080; text-decoration-color: #000080\">INFO    </span> Reading stops and geo meta                                                           <a href=\"file:///home/moritz/dev/uni/mcr-py/notebooks/../src/package/mcr/data.py\" target=\"_blank\"><span style=\"color: #7f7f7f; text-decoration-color: #7f7f7f\">data.py</span></a><span style=\"color: #7f7f7f; text-decoration-color: #7f7f7f\">:</span><a href=\"file:///home/moritz/dev/uni/mcr-py/notebooks/../src/package/mcr/data.py#41\" target=\"_blank\"><span style=\"color: #7f7f7f; text-decoration-color: #7f7f7f\">41</span></a>\n",
       "</pre>\n"
      ],
      "text/plain": [
       "\u001b[2;36m[17:34:40]\u001b[0m\u001b[2;36m \u001b[0m\u001b[34mINFO    \u001b[0m Reading stops and geo meta                                                           \u001b]8;id=973889;file:///home/moritz/dev/uni/mcr-py/notebooks/../src/package/mcr/data.py\u001b\\\u001b[2mdata.py\u001b[0m\u001b]8;;\u001b\\\u001b[2m:\u001b[0m\u001b]8;id=480811;file:///home/moritz/dev/uni/mcr-py/notebooks/../src/package/mcr/data.py#41\u001b\\\u001b[2m41\u001b[0m\u001b]8;;\u001b\\\n"
      ]
     },
     "metadata": {},
     "output_type": "display_data"
    },
    {
     "data": {
      "text/html": [
       "<pre style=\"white-space:pre;overflow-x:auto;line-height:normal;font-family:Menlo,'DejaVu Sans Mono',consolas,'Courier New',monospace\"><span style=\"color: #7fbfbf; text-decoration-color: #7fbfbf\">           </span><span style=\"color: #000080; text-decoration-color: #000080\">INFO    </span> Reading stops and geo meta done <span style=\"font-weight: bold\">(</span><span style=\"color: #008080; text-decoration-color: #008080; font-weight: bold\">0.02</span> seconds<span style=\"font-weight: bold\">)</span>                                       <a href=\"file:///home/moritz/dev/uni/mcr-py/notebooks/../src/package/mcr/data.py\" target=\"_blank\"><span style=\"color: #7f7f7f; text-decoration-color: #7f7f7f\">data.py</span></a><span style=\"color: #7f7f7f; text-decoration-color: #7f7f7f\">:</span><a href=\"file:///home/moritz/dev/uni/mcr-py/notebooks/../src/package/mcr/data.py#41\" target=\"_blank\"><span style=\"color: #7f7f7f; text-decoration-color: #7f7f7f\">41</span></a>\n",
       "</pre>\n"
      ],
      "text/plain": [
       "\u001b[2;36m          \u001b[0m\u001b[2;36m \u001b[0m\u001b[34mINFO    \u001b[0m Reading stops and geo meta done \u001b[1m(\u001b[0m\u001b[1;36m0.02\u001b[0m seconds\u001b[1m)\u001b[0m                                       \u001b]8;id=380589;file:///home/moritz/dev/uni/mcr-py/notebooks/../src/package/mcr/data.py\u001b\\\u001b[2mdata.py\u001b[0m\u001b]8;;\u001b\\\u001b[2m:\u001b[0m\u001b]8;id=994683;file:///home/moritz/dev/uni/mcr-py/notebooks/../src/package/mcr/data.py#41\u001b\\\u001b[2m41\u001b[0m\u001b]8;;\u001b\\\n"
      ]
     },
     "metadata": {},
     "output_type": "display_data"
    },
    {
     "data": {
      "text/html": [
       "<pre style=\"white-space:pre;overflow-x:auto;line-height:normal;font-family:Menlo,'DejaVu Sans Mono',consolas,'Courier New',monospace\"><span style=\"color: #7fbfbf; text-decoration-color: #7fbfbf\">           </span><span style=\"color: #000080; text-decoration-color: #000080\">INFO    </span> Preparing graphs                                                                     <a href=\"file:///home/moritz/dev/uni/mcr-py/notebooks/../src/package/mcr/data.py\" target=\"_blank\"><span style=\"color: #7f7f7f; text-decoration-color: #7f7f7f\">data.py</span></a><span style=\"color: #7f7f7f; text-decoration-color: #7f7f7f\">:</span><a href=\"file:///home/moritz/dev/uni/mcr-py/notebooks/../src/package/mcr/data.py#44\" target=\"_blank\"><span style=\"color: #7f7f7f; text-decoration-color: #7f7f7f\">44</span></a>\n",
       "</pre>\n"
      ],
      "text/plain": [
       "\u001b[2;36m          \u001b[0m\u001b[2;36m \u001b[0m\u001b[34mINFO    \u001b[0m Preparing graphs                                                                     \u001b]8;id=625967;file:///home/moritz/dev/uni/mcr-py/notebooks/../src/package/mcr/data.py\u001b\\\u001b[2mdata.py\u001b[0m\u001b]8;;\u001b\\\u001b[2m:\u001b[0m\u001b]8;id=581070;file:///home/moritz/dev/uni/mcr-py/notebooks/../src/package/mcr/data.py#44\u001b\\\u001b[2m44\u001b[0m\u001b]8;;\u001b\\\n"
      ]
     },
     "metadata": {},
     "output_type": "display_data"
    },
    {
     "data": {
      "text/html": [
       "<pre style=\"white-space:pre;overflow-x:auto;line-height:normal;font-family:Menlo,'DejaVu Sans Mono',consolas,'Courier New',monospace\"><span style=\"color: #7fbfbf; text-decoration-color: #7fbfbf\">           </span><span style=\"color: #000080; text-decoration-color: #000080\">INFO    </span> Using existing OSM data                                                              <a href=\"file:///home/moritz/dev/uni/mcr-py/notebooks/../src/package/mcr/data.py\" target=\"_blank\"><span style=\"color: #7f7f7f; text-decoration-color: #7f7f7f\">data.py</span></a><span style=\"color: #7f7f7f; text-decoration-color: #7f7f7f\">:</span><a href=\"file:///home/moritz/dev/uni/mcr-py/notebooks/../src/package/mcr/data.py#44\" target=\"_blank\"><span style=\"color: #7f7f7f; text-decoration-color: #7f7f7f\">44</span></a>\n",
       "</pre>\n"
      ],
      "text/plain": [
       "\u001b[2;36m          \u001b[0m\u001b[2;36m \u001b[0m\u001b[34mINFO    \u001b[0m Using existing OSM data                                                              \u001b]8;id=589083;file:///home/moritz/dev/uni/mcr-py/notebooks/../src/package/mcr/data.py\u001b\\\u001b[2mdata.py\u001b[0m\u001b]8;;\u001b\\\u001b[2m:\u001b[0m\u001b]8;id=327111;file:///home/moritz/dev/uni/mcr-py/notebooks/../src/package/mcr/data.py#44\u001b\\\u001b[2m44\u001b[0m\u001b]8;;\u001b\\\n"
      ]
     },
     "metadata": {},
     "output_type": "display_data"
    },
    {
     "data": {
      "text/html": [
       "<pre style=\"white-space:pre;overflow-x:auto;line-height:normal;font-family:Menlo,'DejaVu Sans Mono',consolas,'Courier New',monospace\"><span style=\"color: #7fbfbf; text-decoration-color: #7fbfbf\">           </span><span style=\"color: #000080; text-decoration-color: #000080\">INFO    </span> Loading OSM network from cache                                                       <a href=\"file:///home/moritz/dev/uni/mcr-py/notebooks/../src/package/mcr/data.py\" target=\"_blank\"><span style=\"color: #7f7f7f; text-decoration-color: #7f7f7f\">data.py</span></a><span style=\"color: #7f7f7f; text-decoration-color: #7f7f7f\">:</span><a href=\"file:///home/moritz/dev/uni/mcr-py/notebooks/../src/package/mcr/data.py#44\" target=\"_blank\"><span style=\"color: #7f7f7f; text-decoration-color: #7f7f7f\">44</span></a>\n",
       "</pre>\n"
      ],
      "text/plain": [
       "\u001b[2;36m          \u001b[0m\u001b[2;36m \u001b[0m\u001b[34mINFO    \u001b[0m Loading OSM network from cache                                                       \u001b]8;id=394368;file:///home/moritz/dev/uni/mcr-py/notebooks/../src/package/mcr/data.py\u001b\\\u001b[2mdata.py\u001b[0m\u001b]8;;\u001b\\\u001b[2m:\u001b[0m\u001b]8;id=434217;file:///home/moritz/dev/uni/mcr-py/notebooks/../src/package/mcr/data.py#44\u001b\\\u001b[2m44\u001b[0m\u001b]8;;\u001b\\\n"
      ]
     },
     "metadata": {},
     "output_type": "display_data"
    },
    {
     "data": {
      "text/html": [
       "<pre style=\"white-space:pre;overflow-x:auto;line-height:normal;font-family:Menlo,'DejaVu Sans Mono',consolas,'Courier New',monospace\"><span style=\"color: #7fbfbf; text-decoration-color: #7fbfbf\">[17:34:47] </span><span style=\"color: #000080; text-decoration-color: #000080\">INFO    </span> Preparing graphs done <span style=\"font-weight: bold\">(</span><span style=\"color: #008080; text-decoration-color: #008080; font-weight: bold\">7.13</span> seconds<span style=\"font-weight: bold\">)</span>                                                 <a href=\"file:///home/moritz/dev/uni/mcr-py/notebooks/../src/package/mcr/data.py\" target=\"_blank\"><span style=\"color: #7f7f7f; text-decoration-color: #7f7f7f\">data.py</span></a><span style=\"color: #7f7f7f; text-decoration-color: #7f7f7f\">:</span><a href=\"file:///home/moritz/dev/uni/mcr-py/notebooks/../src/package/mcr/data.py#44\" target=\"_blank\"><span style=\"color: #7f7f7f; text-decoration-color: #7f7f7f\">44</span></a>\n",
       "</pre>\n"
      ],
      "text/plain": [
       "\u001b[2;36m[17:34:47]\u001b[0m\u001b[2;36m \u001b[0m\u001b[34mINFO    \u001b[0m Preparing graphs done \u001b[1m(\u001b[0m\u001b[1;36m7.13\u001b[0m seconds\u001b[1m)\u001b[0m                                                 \u001b]8;id=377818;file:///home/moritz/dev/uni/mcr-py/notebooks/../src/package/mcr/data.py\u001b\\\u001b[2mdata.py\u001b[0m\u001b]8;;\u001b\\\u001b[2m:\u001b[0m\u001b]8;id=495563;file:///home/moritz/dev/uni/mcr-py/notebooks/../src/package/mcr/data.py#44\u001b\\\u001b[2m44\u001b[0m\u001b]8;;\u001b\\\n"
      ]
     },
     "metadata": {},
     "output_type": "display_data"
    },
    {
     "data": {
      "text/html": [
       "<pre style=\"white-space:pre;overflow-x:auto;line-height:normal;font-family:Menlo,'DejaVu Sans Mono',consolas,'Courier New',monospace\"><span style=\"color: #7fbfbf; text-decoration-color: #7fbfbf\">           </span><span style=\"color: #000080; text-decoration-color: #000080\">INFO    </span> Creating graph cache                                                                <a href=\"file:///home/moritz/dev/uni/mcr-py/notebooks/../src/package/mcr/data.py\" target=\"_blank\"><span style=\"color: #7f7f7f; text-decoration-color: #7f7f7f\">data.py</span></a><span style=\"color: #7f7f7f; text-decoration-color: #7f7f7f\">:</span><a href=\"file:///home/moritz/dev/uni/mcr-py/notebooks/../src/package/mcr/data.py#156\" target=\"_blank\"><span style=\"color: #7f7f7f; text-decoration-color: #7f7f7f\">156</span></a>\n",
       "</pre>\n"
      ],
      "text/plain": [
       "\u001b[2;36m          \u001b[0m\u001b[2;36m \u001b[0m\u001b[34mINFO    \u001b[0m Creating graph cache                                                                \u001b]8;id=671982;file:///home/moritz/dev/uni/mcr-py/notebooks/../src/package/mcr/data.py\u001b\\\u001b[2mdata.py\u001b[0m\u001b]8;;\u001b\\\u001b[2m:\u001b[0m\u001b]8;id=60844;file:///home/moritz/dev/uni/mcr-py/notebooks/../src/package/mcr/data.py#156\u001b\\\u001b[2m156\u001b[0m\u001b]8;;\u001b\\\n"
      ]
     },
     "metadata": {},
     "output_type": "display_data"
    },
    {
     "data": {
      "text/html": [
       "<pre style=\"white-space:pre;overflow-x:auto;line-height:normal;font-family:Menlo,'DejaVu Sans Mono',consolas,'Courier New',monospace\"><span style=\"color: #7fbfbf; text-decoration-color: #7fbfbf\">[17:34:49] </span><span style=\"color: #000080; text-decoration-color: #000080\">INFO    </span> Creating graph cache done <span style=\"font-weight: bold\">(</span><span style=\"color: #008080; text-decoration-color: #008080; font-weight: bold\">1.23</span> seconds<span style=\"font-weight: bold\">)</span>                                            <a href=\"file:///home/moritz/dev/uni/mcr-py/notebooks/../src/package/mcr/data.py\" target=\"_blank\"><span style=\"color: #7f7f7f; text-decoration-color: #7f7f7f\">data.py</span></a><span style=\"color: #7f7f7f; text-decoration-color: #7f7f7f\">:</span><a href=\"file:///home/moritz/dev/uni/mcr-py/notebooks/../src/package/mcr/data.py#156\" target=\"_blank\"><span style=\"color: #7f7f7f; text-decoration-color: #7f7f7f\">156</span></a>\n",
       "</pre>\n"
      ],
      "text/plain": [
       "\u001b[2;36m[17:34:49]\u001b[0m\u001b[2;36m \u001b[0m\u001b[34mINFO    \u001b[0m Creating graph cache done \u001b[1m(\u001b[0m\u001b[1;36m1.23\u001b[0m seconds\u001b[1m)\u001b[0m                                            \u001b]8;id=302962;file:///home/moritz/dev/uni/mcr-py/notebooks/../src/package/mcr/data.py\u001b\\\u001b[2mdata.py\u001b[0m\u001b]8;;\u001b\\\u001b[2m:\u001b[0m\u001b]8;id=453948;file:///home/moritz/dev/uni/mcr-py/notebooks/../src/package/mcr/data.py#156\u001b\\\u001b[2m156\u001b[0m\u001b]8;;\u001b\\\n"
      ]
     },
     "metadata": {},
     "output_type": "display_data"
    }
   ],
   "source": [
    "logger = rlog\n",
    "timer = Timed\n",
    "geo_meta = GeoMeta.load(geo_meta_path)\n",
    "geo_data = MCRGeoData(\n",
    "\tstops_path,\n",
    "\tstructs_path,\n",
    "\tgeo_meta,\n",
    "\tcity_id,\n",
    "\tbicycle_location_path=bicycle_location_path,\n",
    ")"
   ]
  },
  {
   "cell_type": "code",
   "execution_count": 25,
   "metadata": {},
   "outputs": [
    {
     "name": "stdout",
     "output_type": "stream",
     "text": [
      "34508\n",
      "69016\n"
     ]
    }
   ],
   "source": [
    "print(len( \n",
    "\t[\n",
    "        geo_data.mm_walking_node_resetted_to_osm_node_map[k]\n",
    "        for k in list(geo_data.resetted_to_multi_modal_node_map.keys())\n",
    "        if k in geo_data.mm_walking_node_resetted_to_osm_node_map\n",
    "    ]\n",
    ")\n",
    ")\n",
    "print(len(geo_data.resetted_to_multi_modal_node_map.keys()))"
   ]
  },
  {
   "cell_type": "code",
   "execution_count": 16,
   "metadata": {},
   "outputs": [
    {
     "data": {
      "text/plain": [
       "0          34508\n",
       "1          34509\n",
       "2          34510\n",
       "3          34511\n",
       "12         34512\n",
       "           ...  \n",
       "1218486    69011\n",
       "1218514    69012\n",
       "1218515    69013\n",
       "1218516    69014\n",
       "1218517    69015\n",
       "Name: id, Length: 34508, dtype: int64"
      ]
     },
     "execution_count": 16,
     "metadata": {},
     "output_type": "execute_result"
    }
   ],
   "source": [
    "geo_data.original_osm_nodes.id.map(geo_data.osm_node_to_mm_bicycle_resetted_map)"
   ]
  },
  {
   "cell_type": "code",
   "execution_count": 12,
   "metadata": {},
   "outputs": [
    {
     "data": {
      "text/plain": [
       "{21063145: 34508,\n",
       " 7151289920: 34509,\n",
       " 10929975: 34510,\n",
       " 10853912: 34511,\n",
       " 10990037: 34512,\n",
       " 68732822: 34513,\n",
       " 1672368051: 34514,\n",
       " 1672368053: 34515,\n",
       " 1672380621: 34516,\n",
       " 10989051: 34517,\n",
       " 2276506373: 34518,\n",
       " 2276506377: 34519,\n",
       " 313720425: 34520,\n",
       " 2276506375: 34521,\n",
       " 2234629647: 34522,\n",
       " 9719444415: 34523,\n",
       " 2603599693: 34524,\n",
       " 368868: 34525,\n",
       " 359972: 34526,\n",
       " 408755657: 34527,\n",
       " 33481155: 34528,\n",
       " 2107675109: 34529,\n",
       " 2107675123: 34530,\n",
       " 359970: 34531,\n",
       " 1431777755: 34532,\n",
       " 15341577: 34533,\n",
       " 15341603: 34534,\n",
       " 3500842867: 34535,\n",
       " 10989169: 34536,\n",
       " 25294726: 34537,\n",
       " 1625403091: 34538,\n",
       " 449266: 34539,\n",
       " 804434762: 34540,\n",
       " 1672324096: 34541,\n",
       " 449270: 34542,\n",
       " 8807429618: 34543,\n",
       " 449272: 34544,\n",
       " 805802896: 34545,\n",
       " 804434772: 34546,\n",
       " 449256: 34547,\n",
       " 2340965976: 34548,\n",
       " 8807204612: 34549,\n",
       " 458606823: 34550,\n",
       " 14601871: 34551,\n",
       " 359927: 34552,\n",
       " 1625403078: 34553,\n",
       " 1003841477: 34554,\n",
       " 1003841492: 34555,\n",
       " 25294727: 34556,\n",
       " 2277589205: 34557,\n",
       " 9831414967: 34558,\n",
       " 2715815513: 34559,\n",
       " 2234647793: 34560,\n",
       " 1584118516: 34561,\n",
       " 3286717395: 34562,\n",
       " 2603602518: 34563,\n",
       " 2159925917: 34564,\n",
       " 2234629663: 34565,\n",
       " 396970: 34566,\n",
       " 936357562: 34567,\n",
       " 6705222058: 34568,\n",
       " 672171965: 34569,\n",
       " 6705222057: 34570,\n",
       " 6705222056: 34571,\n",
       " 672171963: 34572,\n",
       " 6705222055: 34573,\n",
       " 648517503: 34574,\n",
       " 457862: 34575,\n",
       " 936357556: 34576,\n",
       " 457860: 34577,\n",
       " 4743107046: 34578,\n",
       " 993726468: 34579,\n",
       " 6705222011: 34580,\n",
       " 457889: 34581,\n",
       " 672171924: 34582,\n",
       " 672171919: 34583,\n",
       " 6705222012: 34584,\n",
       " 6705222013: 34585,\n",
       " 242169167: 34586,\n",
       " 672171904: 34587,\n",
       " 672171905: 34588,\n",
       " 457890: 34589,\n",
       " 672171897: 34590,\n",
       " 457891: 34591,\n",
       " 672171870: 34592,\n",
       " 672171871: 34593,\n",
       " 2284337798: 34594,\n",
       " 457887: 34595,\n",
       " 457969: 34596,\n",
       " 457970: 34597,\n",
       " 672171941: 34598,\n",
       " 672171939: 34599,\n",
       " 6705222023: 34600,\n",
       " 6071559186: 34601,\n",
       " 6705222022: 34602,\n",
       " 672171930: 34603,\n",
       " 672171932: 34604,\n",
       " 672171931: 34605,\n",
       " 6071559187: 34606,\n",
       " 6705222021: 34607,\n",
       " 457972: 34608,\n",
       " 457973: 34609,\n",
       " 6705222020: 34610,\n",
       " 6071559188: 34611,\n",
       " 672171864: 34612,\n",
       " 2093637446: 34613,\n",
       " 1726436538: 34614,\n",
       " 2828283828: 34615,\n",
       " 457980: 34616,\n",
       " 36832211: 34617,\n",
       " 773906707: 34618,\n",
       " 672773488: 34619,\n",
       " 712629838: 34620,\n",
       " 5711280858: 34621,\n",
       " 36832212: 34622,\n",
       " 33019119: 34623,\n",
       " 10693867803: 34624,\n",
       " 255071405: 34625,\n",
       " 7635891543: 34626,\n",
       " 7638421166: 34627,\n",
       " 265769074: 34628,\n",
       " 21760914: 34629,\n",
       " 712629794: 34630,\n",
       " 6000894703: 34631,\n",
       " 712629776: 34632,\n",
       " 457990: 34633,\n",
       " 10693867804: 34634,\n",
       " 21760915: 34635,\n",
       " 2583461626: 34636,\n",
       " 8812856510: 34637,\n",
       " 1672368433: 34638,\n",
       " 449275: 34639,\n",
       " 26722808: 34640,\n",
       " 368857: 34641,\n",
       " 255444820: 34642,\n",
       " 1574556628: 34643,\n",
       " 32248893: 34644,\n",
       " 5274163983: 34645,\n",
       " 2276506404: 34646,\n",
       " 6520928101: 34647,\n",
       " 6520928102: 34648,\n",
       " 2276506367: 34649,\n",
       " 5274163982: 34650,\n",
       " 2276506365: 34651,\n",
       " 26110664: 34652,\n",
       " 26110697: 34653,\n",
       " 26610813: 34654,\n",
       " 1678246879: 34655,\n",
       " 32525722: 34656,\n",
       " 26715765: 34657,\n",
       " 26715772: 34658,\n",
       " 14607100: 34659,\n",
       " 7556732401: 34660,\n",
       " 1973931040: 34661,\n",
       " 1973930637: 34662,\n",
       " 1973930638: 34663,\n",
       " 25630554: 34664,\n",
       " 1584118522: 34665,\n",
       " 8812857506: 34666,\n",
       " 368866: 34667,\n",
       " 368867: 34668,\n",
       " 1238715: 34669,\n",
       " 1556294092: 34670,\n",
       " 7021491532: 34671,\n",
       " 9787606755: 34672,\n",
       " 3075905058: 34673,\n",
       " 1238714: 34674,\n",
       " 5861014023: 34675,\n",
       " 1556294181: 34676,\n",
       " 1253841591: 34677,\n",
       " 5861014025: 34678,\n",
       " 1556294148: 34679,\n",
       " 1253841595: 34680,\n",
       " 1631250717: 34681,\n",
       " 1556294186: 34682,\n",
       " 1556294192: 34683,\n",
       " 1556294200: 34684,\n",
       " 837757199: 34685,\n",
       " 264852762: 34686,\n",
       " 5357100729: 34687,\n",
       " 26820631: 34688,\n",
       " 1639063754: 34689,\n",
       " 1726436536: 34690,\n",
       " 672171847: 34691,\n",
       " 25630640: 34692,\n",
       " 25630639: 34693,\n",
       " 9687223208: 34694,\n",
       " 9687223207: 34695,\n",
       " 664112572: 34696,\n",
       " 1243664300: 34697,\n",
       " 9590483403: 34698,\n",
       " 1166751069: 34699,\n",
       " 1265004359: 34700,\n",
       " 848882163: 34701,\n",
       " 3356209458: 34702,\n",
       " 662768668: 34703,\n",
       " 164012470: 34704,\n",
       " 1182550754: 34705,\n",
       " 25630712: 34706,\n",
       " 376489851: 34707,\n",
       " 617744893: 34708,\n",
       " 617132423: 34709,\n",
       " 25631472: 34710,\n",
       " 25630713: 34711,\n",
       " 5180936703: 34712,\n",
       " 2225450611: 34713,\n",
       " 25630714: 34714,\n",
       " 1238718: 34715,\n",
       " 25630716: 34716,\n",
       " 1249786384: 34717,\n",
       " 262395518: 34718,\n",
       " 262391931: 34719,\n",
       " 25630717: 34720,\n",
       " 1249786410: 34721,\n",
       " 1966546670: 34722,\n",
       " 1966561194: 34723,\n",
       " 262391154: 34724,\n",
       " 1876079790: 34725,\n",
       " 1876079788: 34726,\n",
       " 25630711: 34727,\n",
       " 25630988: 34728,\n",
       " 1870064345: 34729,\n",
       " 1578199940: 34730,\n",
       " 937946881: 34731,\n",
       " 25630709: 34732,\n",
       " 1870064717: 34733,\n",
       " 262392281: 34734,\n",
       " 262391930: 34735,\n",
       " 25630894: 34736,\n",
       " 1713216703: 34737,\n",
       " 25630559: 34738,\n",
       " 603112857: 34739,\n",
       " 2258353115: 34740,\n",
       " 2258353107: 34741,\n",
       " 25630560: 34742,\n",
       " 9798045214: 34743,\n",
       " 2258353175: 34744,\n",
       " 25630571: 34745,\n",
       " 25630570: 34746,\n",
       " 837941828: 34747,\n",
       " 837941844: 34748,\n",
       " 5100433600: 34749,\n",
       " 1556294130: 34750,\n",
       " 25631495: 34751,\n",
       " 2258353185: 34752,\n",
       " 1238725: 34753,\n",
       " 2258353023: 34754,\n",
       " 2258353027: 34755,\n",
       " 25630577: 34756,\n",
       " 3709734192: 34757,\n",
       " 937946862: 34758,\n",
       " 25630557: 34759,\n",
       " 25630563: 34760,\n",
       " 10000438490: 34761,\n",
       " 1578267840: 34762,\n",
       " 1440422833: 34763,\n",
       " 1440422834: 34764,\n",
       " 1440430569: 34765,\n",
       " 25630564: 34766,\n",
       " 25630555: 34767,\n",
       " 26903500: 34768,\n",
       " 14593401: 34769,\n",
       " 1672459336: 34770,\n",
       " 25630575: 34771,\n",
       " 25630578: 34772,\n",
       " 1166518271: 34773,\n",
       " 442135078: 34774,\n",
       " 320990791: 34775,\n",
       " 442135081: 34776,\n",
       " 1166518214: 34777,\n",
       " 320990786: 34778,\n",
       " 1761928418: 34779,\n",
       " 25630576: 34780,\n",
       " 9700745853: 34781,\n",
       " 1578199932: 34782,\n",
       " 872564188: 34783,\n",
       " 1578199938: 34784,\n",
       " 25630645: 34785,\n",
       " 3356710067: 34786,\n",
       " 3651302431: 34787,\n",
       " 3356710071: 34788,\n",
       " 25630647: 34789,\n",
       " 25630642: 34790,\n",
       " 7721733425: 34791,\n",
       " 3356710087: 34792,\n",
       " 3651302433: 34793,\n",
       " 3356710079: 34794,\n",
       " 3651302432: 34795,\n",
       " 3356710080: 34796,\n",
       " 475237504: 34797,\n",
       " 25630646: 34798,\n",
       " 443879: 34799,\n",
       " 715698964: 34800,\n",
       " 1625566911: 34801,\n",
       " 1625566907: 34802,\n",
       " 1486380863: 34803,\n",
       " 255223810: 34804,\n",
       " 25630650: 34805,\n",
       " 6696746899: 34806,\n",
       " 4511205331: 34807,\n",
       " 1450860278: 34808,\n",
       " 1484809602: 34809,\n",
       " 25630652: 34810,\n",
       " 25630685: 34811,\n",
       " 376461715: 34812,\n",
       " 7673207602: 34813,\n",
       " 78574270: 34814,\n",
       " 26904151: 34815,\n",
       " 376518998: 34816,\n",
       " 26904573: 34817,\n",
       " 26904574: 34818,\n",
       " 376518952: 34819,\n",
       " 26904153: 34820,\n",
       " 25630718: 34821,\n",
       " 5166086075: 34822,\n",
       " 1299345522: 34823,\n",
       " 26904570: 34824,\n",
       " 1057350438: 34825,\n",
       " 25631473: 34826,\n",
       " 8319741414: 34827,\n",
       " 255236089: 34828,\n",
       " 257894366: 34829,\n",
       " 1861720540: 34830,\n",
       " 380510873: 34831,\n",
       " 9989237606: 34832,\n",
       " 380510879: 34833,\n",
       " 25631474: 34834,\n",
       " 25631476: 34835,\n",
       " 380494827: 34836,\n",
       " 1406195: 34837,\n",
       " 9660207381: 34838,\n",
       " 1406196: 34839,\n",
       " 348140567: 34840,\n",
       " 255274142: 34841,\n",
       " 1794608449: 34842,\n",
       " 1794608445: 34843,\n",
       " 1794608442: 34844,\n",
       " 1794608441: 34845,\n",
       " 1406198: 34846,\n",
       " 348138978: 34847,\n",
       " 474473: 34848,\n",
       " 7721733427: 34849,\n",
       " 646704984: 34850,\n",
       " 28120261: 34851,\n",
       " 3349874274: 34852,\n",
       " 256482834: 34853,\n",
       " 254433955: 34854,\n",
       " 59647219: 34855,\n",
       " 529807678: 34856,\n",
       " 1439231903: 34857,\n",
       " 1439231904: 34858,\n",
       " 28163970: 34859,\n",
       " 310630066: 34860,\n",
       " 75080117: 34861,\n",
       " 2620093311: 34862,\n",
       " 28123304: 34863,\n",
       " 2620093313: 34864,\n",
       " 4773678167: 34865,\n",
       " 3793149500: 34866,\n",
       " 3793149501: 34867,\n",
       " 3793149502: 34868,\n",
       " 2620093315: 34869,\n",
       " 4323874017: 34870,\n",
       " 1349286566: 34871,\n",
       " 4163914396: 34872,\n",
       " 4163914394: 34873,\n",
       " 575994825: 34874,\n",
       " 1609941484: 34875,\n",
       " 1609941474: 34876,\n",
       " 2655853195: 34877,\n",
       " 575994822: 34878,\n",
       " 576064504: 34879,\n",
       " 2655853192: 34880,\n",
       " 26904571: 34881,\n",
       " 1606334905: 34882,\n",
       " 1049172327: 34883,\n",
       " 262373028: 34884,\n",
       " 633481640: 34885,\n",
       " 366143891: 34886,\n",
       " 366145377: 34887,\n",
       " 639615143: 34888,\n",
       " 4518828762: 34889,\n",
       " 9561430537: 34890,\n",
       " 9561430536: 34891,\n",
       " 9561430535: 34892,\n",
       " 614234058: 34893,\n",
       " 28164022: 34894,\n",
       " 256574970: 34895,\n",
       " 7123603636: 34896,\n",
       " 1360351552: 34897,\n",
       " 32351897: 34898,\n",
       " 28123281: 34899,\n",
       " 259183472: 34900,\n",
       " 428127696: 34901,\n",
       " 614234055: 34902,\n",
       " 2921741600: 34903,\n",
       " 778311831: 34904,\n",
       " 258315777: 34905,\n",
       " 614214375: 34906,\n",
       " 260724671: 34907,\n",
       " 3411886410: 34908,\n",
       " 28164126: 34909,\n",
       " 28164128: 34910,\n",
       " 21042324: 34911,\n",
       " 136711010: 34912,\n",
       " 694324383: 34913,\n",
       " 136710994: 34914,\n",
       " 29010721: 34915,\n",
       " 9851787047: 34916,\n",
       " 866993819: 34917,\n",
       " 32857491: 34918,\n",
       " 2234647787: 34919,\n",
       " 32048856: 34920,\n",
       " 32048854: 34921,\n",
       " 137019461: 34922,\n",
       " 32048852: 34923,\n",
       " 137019491: 34924,\n",
       " 137019479: 34925,\n",
       " 137019503: 34926,\n",
       " 32048850: 34927,\n",
       " 32048846: 34928,\n",
       " 32048830: 34929,\n",
       " 175609405: 34930,\n",
       " 175609417: 34931,\n",
       " 359924: 34932,\n",
       " 1705496771: 34933,\n",
       " 175609413: 34934,\n",
       " 175617112: 34935,\n",
       " 21042320: 34936,\n",
       " 21763517: 34937,\n",
       " 2276506370: 34938,\n",
       " 21760933: 34939,\n",
       " 8812857495: 34940,\n",
       " 8812857494: 34941,\n",
       " 29670141: 34942,\n",
       " 29670165: 34943,\n",
       " 1261046445: 34944,\n",
       " 1261046428: 34945,\n",
       " 315791580: 34946,\n",
       " 30009220: 34947,\n",
       " 610484057: 34948,\n",
       " 249470580: 34949,\n",
       " 652719821: 34950,\n",
       " 652719823: 34951,\n",
       " 9653644259: 34952,\n",
       " 652719818: 34953,\n",
       " 26052225: 34954,\n",
       " 7097001774: 34955,\n",
       " 7097001775: 34956,\n",
       " 5413040707: 34957,\n",
       " 26052205: 34958,\n",
       " 281426927: 34959,\n",
       " 5412990626: 34960,\n",
       " 5414463902: 34961,\n",
       " 5414463900: 34962,\n",
       " 8594422981: 34963,\n",
       " 5414463898: 34964,\n",
       " 606172106: 34965,\n",
       " 3965850601: 34966,\n",
       " 26052215: 34967,\n",
       " 7099826325: 34968,\n",
       " 2993957668: 34969,\n",
       " 532727169: 34970,\n",
       " 3344031548: 34971,\n",
       " 3344031552: 34972,\n",
       " 39665135: 34973,\n",
       " 7099768967: 34974,\n",
       " 26052218: 34975,\n",
       " 269871217: 34976,\n",
       " 2598896866: 34977,\n",
       " 31900487: 34978,\n",
       " 7100067149: 34979,\n",
       " 1829406394: 34980,\n",
       " 6520959366: 34981,\n",
       " 7099826327: 34982,\n",
       " 7099826326: 34983,\n",
       " 6520959367: 34984,\n",
       " 2508438808: 34985,\n",
       " 7101505041: 34986,\n",
       " 7490025194: 34987,\n",
       " 2993957656: 34988,\n",
       " 21033645: 34989,\n",
       " 36835184: 34990,\n",
       " 824641000: 34991,\n",
       " 824640933: 34992,\n",
       " 824641116: 34993,\n",
       " 36834889: 34994,\n",
       " 6486478799: 34995,\n",
       " 6520959368: 34996,\n",
       " 2742254524: 34997,\n",
       " 824641103: 34998,\n",
       " 6486478801: 34999,\n",
       " 824641142: 35000,\n",
       " 824640956: 35001,\n",
       " 9602814937: 35002,\n",
       " 824641111: 35003,\n",
       " 9602814941: 35004,\n",
       " 991756670: 35005,\n",
       " 1092681493: 35006,\n",
       " 824640937: 35007,\n",
       " 606172107: 35008,\n",
       " 7503275801: 35009,\n",
       " 6486478800: 35010,\n",
       " 26052194: 35011,\n",
       " 9602814929: 35012,\n",
       " 26052199: 35013,\n",
       " 5999081530: 35014,\n",
       " 2492625663: 35015,\n",
       " 9603965980: 35016,\n",
       " 359955: 35017,\n",
       " 39579178: 35018,\n",
       " 6192098355: 35019,\n",
       " 1624068038: 35020,\n",
       " 4311775190: 35021,\n",
       " 4311772688: 35022,\n",
       " 26052238: 35023,\n",
       " 359935: 35024,\n",
       " 9428208684: 35025,\n",
       " 31920054: 35026,\n",
       " 6192098351: 35027,\n",
       " 39912162: 35028,\n",
       " 359934: 35029,\n",
       " 7439245031: 35030,\n",
       " 1168787341: 35031,\n",
       " 10005205015: 35032,\n",
       " 1168787344: 35033,\n",
       " 11097492299: 35034,\n",
       " 6185611297: 35035,\n",
       " 259598745: 35036,\n",
       " 9961439294: 35037,\n",
       " 8815068432: 35038,\n",
       " 31792550: 35039,\n",
       " 31598389: 35040,\n",
       " 31598492: 35041,\n",
       " 2598944042: 35042,\n",
       " 262799731: 35043,\n",
       " 36834149: 35044,\n",
       " 11078645781: 35045,\n",
       " 11078645782: 35046,\n",
       " 2598941305: 35047,\n",
       " 10004909673: 35048,\n",
       " 10004909664: 35049,\n",
       " 31598457: 35050,\n",
       " 31792566: 35051,\n",
       " 3292288842: 35052,\n",
       " 2598944043: 35053,\n",
       " 418743345: 35054,\n",
       " 662840565: 35055,\n",
       " 31598404: 35056,\n",
       " 31598434: 35057,\n",
       " 31598472: 35058,\n",
       " 2598941202: 35059,\n",
       " 2598941195: 35060,\n",
       " 31598481: 35061,\n",
       " 31598483: 35062,\n",
       " 31598479: 35063,\n",
       " 2598941196: 35064,\n",
       " 2598941205: 35065,\n",
       " 31598477: 35066,\n",
       " 2234629667: 35067,\n",
       " 9579451044: 35068,\n",
       " 9579451049: 35069,\n",
       " 5999081499: 35070,\n",
       " 31598486: 35071,\n",
       " 2603657361: 35072,\n",
       " 359921: 35073,\n",
       " 31598454: 35074,\n",
       " 2598941306: 35075,\n",
       " 2603658614: 35076,\n",
       " 2603657362: 35077,\n",
       " 2598941302: 35078,\n",
       " 360035: 35079,\n",
       " 136742243: 35080,\n",
       " 1705496779: 35081,\n",
       " 136742197: 35082,\n",
       " 136742282: 35083,\n",
       " 5941437597: 35084,\n",
       " 359917: 35085,\n",
       " 359918: 35086,\n",
       " 2430189758: 35087,\n",
       " 31405620: 35088,\n",
       " 2229418465: 35089,\n",
       " 31900480: 35090,\n",
       " 2603609818: 35091,\n",
       " 31900479: 35092,\n",
       " 359544: 35093,\n",
       " 1623822512: 35094,\n",
       " 5822410905: 35095,\n",
       " 262631126: 35096,\n",
       " 561152857: 35097,\n",
       " 39614128: 35098,\n",
       " 1623822505: 35099,\n",
       " 31900481: 35100,\n",
       " 2603586913: 35101,\n",
       " 10005223416: 35102,\n",
       " 7107676689: 35103,\n",
       " 31900482: 35104,\n",
       " 2603564788: 35105,\n",
       " 8812917055: 35106,\n",
       " 5213068556: 35107,\n",
       " 3983697922: 35108,\n",
       " 1596379182: 35109,\n",
       " 7107658580: 35110,\n",
       " 31900486: 35111,\n",
       " 3487674682: 35112,\n",
       " 1596379185: 35113,\n",
       " 31900485: 35114,\n",
       " 359940: 35115,\n",
       " 5213065324: 35116,\n",
       " 1598767726: 35117,\n",
       " 7439245032: 35118,\n",
       " 31919918: 35119,\n",
       " 1880506062: 35120,\n",
       " 969115509: 35121,\n",
       " 359939: 35122,\n",
       " 31919929: 35123,\n",
       " 479974018: 35124,\n",
       " 175651606: 35125,\n",
       " 823682728: 35126,\n",
       " 823682674: 35127,\n",
       " 31919934: 35128,\n",
       " 175651619: 35129,\n",
       " 31919923: 35130,\n",
       " 175651613: 35131,\n",
       " 7737161794: 35132,\n",
       " 7737161795: 35133,\n",
       " 1880506008: 35134,\n",
       " 31919949: 35135,\n",
       " 31919954: 35136,\n",
       " 1596379190: 35137,\n",
       " 1596379187: 35138,\n",
       " 1598767750: 35139,\n",
       " 31919968: 35140,\n",
       " 151024667: 35141,\n",
       " 648524826: 35142,\n",
       " 31920001: 35143,\n",
       " 31920039: 35144,\n",
       " 722583017: 35145,\n",
       " 722583096: 35146,\n",
       " 31920027: 35147,\n",
       " 31920059: 35148,\n",
       " 2535429483: 35149,\n",
       " 31920045: 35150,\n",
       " 6337070406: 35151,\n",
       " 722488006: 35152,\n",
       " 32048717: 35153,\n",
       " 4042649155: 35154,\n",
       " 668283039: 35155,\n",
       " 1261046436: 35156,\n",
       " 668283014: 35157,\n",
       " 32048722: 35158,\n",
       " 869039651: 35159,\n",
       " 32048732: 35160,\n",
       " 1705496824: 35161,\n",
       " 1665862911: 35162,\n",
       " 32048740: 35163,\n",
       " 21042316: 35164,\n",
       " 1665843948: 35165,\n",
       " 7637452239: 35166,\n",
       " 32048742: 35167,\n",
       " 1665843962: 35168,\n",
       " 32048738: 35169,\n",
       " 359925: 35170,\n",
       " 8815077224: 35171,\n",
       " 8815077225: 35172,\n",
       " 2580536833: 35173,\n",
       " 32048835: 35174,\n",
       " 32048837: 35175,\n",
       " 2580536815: 35176,\n",
       " 32048839: 35177,\n",
       " 5544363475: 35178,\n",
       " 32048840: 35179,\n",
       " 32048842: 35180,\n",
       " 2580536816: 35181,\n",
       " 2580536800: 35182,\n",
       " 2580536791: 35183,\n",
       " 32048865: 35184,\n",
       " 32048747: 35185,\n",
       " 33458312: 35186,\n",
       " 136751944: 35187,\n",
       " 32048858: 35188,\n",
       " 5909832631: 35189,\n",
       " 136787279: 35190,\n",
       " 2234647790: 35191,\n",
       " 32048746: 35192,\n",
       " 136751913: 35193,\n",
       " 32048824: 35194,\n",
       " 32048828: 35195,\n",
       " 5544362985: 35196,\n",
       " 5544364742: 35197,\n",
       " 32048863: 35198,\n",
       " 32048848: 35199,\n",
       " 32048844: 35200,\n",
       " 2580536839: 35201,\n",
       " 32048832: 35202,\n",
       " 2349110697: 35203,\n",
       " 175609424: 35204,\n",
       " 32048834: 35205,\n",
       " 53215711: 35206,\n",
       " 2415405894: 35207,\n",
       " 769392815: 35208,\n",
       " 4406728295: 35209,\n",
       " 295482288: 35210,\n",
       " 3503648256: 35211,\n",
       " 333618309: 35212,\n",
       " 2558497264: 35213,\n",
       " 2558497261: 35214,\n",
       " 32248901: 35215,\n",
       " 336679868: 35216,\n",
       " 6916358095: 35217,\n",
       " 32248944: 35218,\n",
       " 32248903: 35219,\n",
       " 3475691620: 35220,\n",
       " 32248904: 35221,\n",
       " 1366644760: 35222,\n",
       " 32248905: 35223,\n",
       " 32248935: 35224,\n",
       " 2670536525: 35225,\n",
       " 2670536517: 35226,\n",
       " 32248937: 35227,\n",
       " 1888001295: 35228,\n",
       " 1888001293: 35229,\n",
       " 1888001291: 35230,\n",
       " 333663098: 35231,\n",
       " 9002302168: 35232,\n",
       " 333663115: 35233,\n",
       " 7794295456: 35234,\n",
       " 8360959330: 35235,\n",
       " 6520959364: 35236,\n",
       " 450658067: 35237,\n",
       " 448981476: 35238,\n",
       " 448981475: 35239,\n",
       " 6520959365: 35240,\n",
       " 32248898: 35241,\n",
       " 32248902: 35242,\n",
       " 3503648260: 35243,\n",
       " 3503648259: 35244,\n",
       " 4551088232: 35245,\n",
       " 829042554: 35246,\n",
       " 2558502744: 35247,\n",
       " 448981479: 35248,\n",
       " 335393232: 35249,\n",
       " 8088304553: 35250,\n",
       " 6063477266: 35251,\n",
       " 439331772: 35252,\n",
       " 828523225: 35253,\n",
       " 32248931: 35254,\n",
       " 846650189: 35255,\n",
       " 1705497065: 35256,\n",
       " 76598885: 35257,\n",
       " 439331695: 35258,\n",
       " 3475691601: 35259,\n",
       " 1369858393: 35260,\n",
       " 1369858369: 35261,\n",
       " 1366644756: 35262,\n",
       " 1366644742: 35263,\n",
       " 32248947: 35264,\n",
       " 99715773: 35265,\n",
       " 99715756: 35266,\n",
       " 99715761: 35267,\n",
       " 703142121: 35268,\n",
       " 32248949: 35269,\n",
       " 6837223341: 35270,\n",
       " 846343685: 35271,\n",
       " 9991611171: 35272,\n",
       " 9991611170: 35273,\n",
       " 846343632: 35274,\n",
       " 32248934: 35275,\n",
       " 99715738: 35276,\n",
       " 99715745: 35277,\n",
       " 99715765: 35278,\n",
       " 99715779: 35279,\n",
       " 829042598: 35280,\n",
       " 32248932: 35281,\n",
       " 359938: 35282,\n",
       " 2211560558: 35283,\n",
       " 32248910: 35284,\n",
       " 2653547326: 35285,\n",
       " 32248912: 35286,\n",
       " 40861513: 35287,\n",
       " 1705497030: 35288,\n",
       " 1420173098: 35289,\n",
       " 32248908: 35290,\n",
       " 2211560622: 35291,\n",
       " 32248954: 35292,\n",
       " 2437617182: 35293,\n",
       " 32248914: 35294,\n",
       " 32248916: 35295,\n",
       " 2653547278: 35296,\n",
       " 2653547282: 35297,\n",
       " 32248957: 35298,\n",
       " 6128477837: 35299,\n",
       " 32248913: 35300,\n",
       " 2437617216: 35301,\n",
       " 1923827456: 35302,\n",
       " 1897869207: 35303,\n",
       " 1897869213: 35304,\n",
       " 3476709385: 35305,\n",
       " 8812917052: 35306,\n",
       " 6274920225: 35307,\n",
       " 40861523: 35308,\n",
       " 40861522: 35309,\n",
       " 32248926: 35310,\n",
       " 7723383615: 35311,\n",
       " 1888665514: 35312,\n",
       " 7723383614: 35313,\n",
       " 32248928: 35314,\n",
       " 32248960: 35315,\n",
       " 1888665622: 35316,\n",
       " 32248929: 35317,\n",
       " 40861526: 35318,\n",
       " 1923827497: 35319,\n",
       " 1968504733: 35320,\n",
       " 1968504737: 35321,\n",
       " 1946007078: 35322,\n",
       " 1946007082: 35323,\n",
       " 1705497007: 35324,\n",
       " 32248962: 35325,\n",
       " 267098732: 35326,\n",
       " 1642876231: 35327,\n",
       " 267113617: 35328,\n",
       " 26110656: 35329,\n",
       " 1678246830: 35330,\n",
       " 629539736: 35331,\n",
       " 317213294: 35332,\n",
       " 32319828: 35333,\n",
       " 8786250230: 35334,\n",
       " 8786250232: 35335,\n",
       " 256490868: 35336,\n",
       " 32524342: 35337,\n",
       " 4807291901: 35338,\n",
       " 5357065862: 35339,\n",
       " 5357065861: 35340,\n",
       " 1678199275: 35341,\n",
       " 32524497: 35342,\n",
       " 4807291895: 35343,\n",
       " 1678199231: 35344,\n",
       " 1678199229: 35345,\n",
       " 4807291908: 35346,\n",
       " 4807291905: 35347,\n",
       " 32524506: 35348,\n",
       " 32995902: 35349,\n",
       " 4864233622: 35350,\n",
       " 4864233624: 35351,\n",
       " 1679579534: 35352,\n",
       " 1679579528: 35353,\n",
       " 8807124664: 35354,\n",
       " 1679579524: 35355,\n",
       " 8807124663: 35356,\n",
       " 1679579491: 35357,\n",
       " 1679579467: 35358,\n",
       " 1679579446: 35359,\n",
       " 1679579440: 35360,\n",
       " 9422141265: 35361,\n",
       " 4163331992: 35362,\n",
       " 4864233634: 35363,\n",
       " 4864233632: 35364,\n",
       " 254927719: 35365,\n",
       " 32543936: 35366,\n",
       " 5032599403: 35367,\n",
       " 32543883: 35368,\n",
       " 32543886: 35369,\n",
       " 5357100317: 35370,\n",
       " 5357100318: 35371,\n",
       " 350150794: 35372,\n",
       " 265877665: 35373,\n",
       " 8818400490: 35374,\n",
       " 9020872894: 35375,\n",
       " 9020872892: 35376,\n",
       " 8301369338: 35377,\n",
       " 32857243: 35378,\n",
       " 33021535: 35379,\n",
       " 773860247: 35380,\n",
       " 32857308: 35381,\n",
       " 869039807: 35382,\n",
       " 8113689091: 35383,\n",
       " 33021536: 35384,\n",
       " 32857477: 35385,\n",
       " 4874433640: 35386,\n",
       " 43016711: 35387,\n",
       " 32857479: 35388,\n",
       " 862795620: 35389,\n",
       " 864941936: 35390,\n",
       " 32857478: 35391,\n",
       " 861919378: 35392,\n",
       " 862795640: 35393,\n",
       " 29670164: 35394,\n",
       " 1261934060: 35395,\n",
       " 32857487: 35396,\n",
       " 7469572769: 35397,\n",
       " 32857492: 35398,\n",
       " 32857475: 35399,\n",
       " 175624841: 35400,\n",
       " 773860252: 35401,\n",
       " 32857469: 35402,\n",
       " 866993512: 35403,\n",
       " 773860294: 35404,\n",
       " 32857309: 35405,\n",
       " 5711280862: 35406,\n",
       " 5711280865: 35407,\n",
       " 5711280863: 35408,\n",
       " 32857494: 35409,\n",
       " 175624840: 35410,\n",
       " 773860287: 35411,\n",
       " 5711280864: 35412,\n",
       " 5711280860: 35413,\n",
       " 866993938: 35414,\n",
       " 866994146: 35415,\n",
       " 712629789: 35416,\n",
       " 773860283: 35417,\n",
       " 9851787046: 35418,\n",
       " 32857496: 35419,\n",
       " 7638710087: 35420,\n",
       " 87308226: 35421,\n",
       " 7638710086: 35422,\n",
       " 773860297: 35423,\n",
       " 2663581746: 35424,\n",
       " 2663581781: 35425,\n",
       " 2663581767: 35426,\n",
       " 2109001183: 35427,\n",
       " 2663581763: 35428,\n",
       " 6385965253: 35429,\n",
       " 2663581785: 35430,\n",
       " 1638972013: 35431,\n",
       " 8517408535: 35432,\n",
       " 1672324110: 35433,\n",
       " 32949994: 35434,\n",
       " 33019528: 35435,\n",
       " 51452727: 35436,\n",
       " 359894: 35437,\n",
       " 26052185: 35438,\n",
       " 738577175: 35439,\n",
       " 651599362: 35440,\n",
       " 651599360: 35441,\n",
       " 2197791406: 35442,\n",
       " 1620871099: 35443,\n",
       " 1620871098: 35444,\n",
       " 1620871097: 35445,\n",
       " 1620871096: 35446,\n",
       " 26052182: 35447,\n",
       " 1620871095: 35448,\n",
       " 359956: 35449,\n",
       " 2492625658: 35450,\n",
       " 2197791216: 35451,\n",
       " 2197791215: 35452,\n",
       " 2198059305: 35453,\n",
       " 26052179: 35454,\n",
       " 26052255: 35455,\n",
       " 1620871094: 35456,\n",
       " 651599287: 35457,\n",
       " 2197791357: 35458,\n",
       " 2197791356: 35459,\n",
       " 2197791353: 35460,\n",
       " 2197791351: 35461,\n",
       " 2197791347: 35462,\n",
       " 2197791345: 35463,\n",
       " 2197791349: 35464,\n",
       " 2197791361: 35465,\n",
       " 2197791365: 35466,\n",
       " 2197791368: 35467,\n",
       " 2197791370: 35468,\n",
       " 1696343538: 35469,\n",
       " 2198091646: 35470,\n",
       " 2198003623: 35471,\n",
       " 33481142: 35472,\n",
       " 33481143: 35473,\n",
       " 2198003635: 35474,\n",
       " 33481141: 35475,\n",
       " 26052251: 35476,\n",
       " 1696343533: 35477,\n",
       " 1696343535: 35478,\n",
       " 7376540069: 35479,\n",
       " 7376540068: 35480,\n",
       " 2198003654: 35481,\n",
       " 2198003665: 35482,\n",
       " 1696343543: 35483,\n",
       " 4485050317: 35484,\n",
       " 4540912346: 35485,\n",
       " 2198091610: 35486,\n",
       " 2198091601: 35487,\n",
       " 4540912348: 35488,\n",
       " 2198091559: 35489,\n",
       " 2198091555: 35490,\n",
       " 4540912365: 35491,\n",
       " 2198091521: 35492,\n",
       " 2198091518: 35493,\n",
       " 4540912363: 35494,\n",
       " 2198091489: 35495,\n",
       " 4540895896: 35496,\n",
       " 2198091485: 35497,\n",
       " 26052260: 35498,\n",
       " 4540882598: 35499,\n",
       " 6782553874: 35500,\n",
       " 2198091483: 35501,\n",
       " 662429234: 35502,\n",
       " 738577316: 35503,\n",
       " 2198091481: 35504,\n",
       " 33481154: 35505,\n",
       " 2107675144: 35506,\n",
       " 2107675138: 35507,\n",
       " ...}"
      ]
     },
     "execution_count": 12,
     "metadata": {},
     "output_type": "execute_result"
    }
   ],
   "source": []
  },
  {
   "cell_type": "code",
   "execution_count": 7,
   "metadata": {},
   "outputs": [
    {
     "data": {
      "text/plain": [
       "{21063145: 34508,\n",
       " 7151289920: 34509,\n",
       " 10929975: 34510,\n",
       " 10853912: 34511,\n",
       " 10990037: 34512,\n",
       " 68732822: 34513,\n",
       " 1672368051: 34514,\n",
       " 1672368053: 34515,\n",
       " 1672380621: 34516,\n",
       " 10989051: 34517,\n",
       " 2276506373: 34518,\n",
       " 2276506377: 34519,\n",
       " 313720425: 34520,\n",
       " 2276506375: 34521,\n",
       " 2234629647: 34522,\n",
       " 9719444415: 34523,\n",
       " 2603599693: 34524,\n",
       " 368868: 34525,\n",
       " 359972: 34526,\n",
       " 408755657: 34527,\n",
       " 33481155: 34528,\n",
       " 2107675109: 34529,\n",
       " 2107675123: 34530,\n",
       " 359970: 34531,\n",
       " 1431777755: 34532,\n",
       " 15341577: 34533,\n",
       " 15341603: 34534,\n",
       " 3500842867: 34535,\n",
       " 10989169: 34536,\n",
       " 25294726: 34537,\n",
       " 1625403091: 34538,\n",
       " 449266: 34539,\n",
       " 804434762: 34540,\n",
       " 1672324096: 34541,\n",
       " 449270: 34542,\n",
       " 8807429618: 34543,\n",
       " 449272: 34544,\n",
       " 805802896: 34545,\n",
       " 804434772: 34546,\n",
       " 449256: 34547,\n",
       " 2340965976: 34548,\n",
       " 8807204612: 34549,\n",
       " 458606823: 34550,\n",
       " 14601871: 34551,\n",
       " 359927: 34552,\n",
       " 1625403078: 34553,\n",
       " 1003841477: 34554,\n",
       " 1003841492: 34555,\n",
       " 25294727: 34556,\n",
       " 2277589205: 34557,\n",
       " 9831414967: 34558,\n",
       " 2715815513: 34559,\n",
       " 2234647793: 34560,\n",
       " 1584118516: 34561,\n",
       " 3286717395: 34562,\n",
       " 2603602518: 34563,\n",
       " 2159925917: 34564,\n",
       " 2234629663: 34565,\n",
       " 396970: 34566,\n",
       " 936357562: 34567,\n",
       " 6705222058: 34568,\n",
       " 672171965: 34569,\n",
       " 6705222057: 34570,\n",
       " 6705222056: 34571,\n",
       " 672171963: 34572,\n",
       " 6705222055: 34573,\n",
       " 648517503: 34574,\n",
       " 457862: 34575,\n",
       " 936357556: 34576,\n",
       " 457860: 34577,\n",
       " 4743107046: 34578,\n",
       " 993726468: 34579,\n",
       " 6705222011: 34580,\n",
       " 457889: 34581,\n",
       " 672171924: 34582,\n",
       " 672171919: 34583,\n",
       " 6705222012: 34584,\n",
       " 6705222013: 34585,\n",
       " 242169167: 34586,\n",
       " 672171904: 34587,\n",
       " 672171905: 34588,\n",
       " 457890: 34589,\n",
       " 672171897: 34590,\n",
       " 457891: 34591,\n",
       " 672171870: 34592,\n",
       " 672171871: 34593,\n",
       " 2284337798: 34594,\n",
       " 457887: 34595,\n",
       " 457969: 34596,\n",
       " 457970: 34597,\n",
       " 672171941: 34598,\n",
       " 672171939: 34599,\n",
       " 6705222023: 34600,\n",
       " 6071559186: 34601,\n",
       " 6705222022: 34602,\n",
       " 672171930: 34603,\n",
       " 672171932: 34604,\n",
       " 672171931: 34605,\n",
       " 6071559187: 34606,\n",
       " 6705222021: 34607,\n",
       " 457972: 34608,\n",
       " 457973: 34609,\n",
       " 6705222020: 34610,\n",
       " 6071559188: 34611,\n",
       " 672171864: 34612,\n",
       " 2093637446: 34613,\n",
       " 1726436538: 34614,\n",
       " 2828283828: 34615,\n",
       " 457980: 34616,\n",
       " 36832211: 34617,\n",
       " 773906707: 34618,\n",
       " 672773488: 34619,\n",
       " 712629838: 34620,\n",
       " 5711280858: 34621,\n",
       " 36832212: 34622,\n",
       " 33019119: 34623,\n",
       " 10693867803: 34624,\n",
       " 255071405: 34625,\n",
       " 7635891543: 34626,\n",
       " 7638421166: 34627,\n",
       " 265769074: 34628,\n",
       " 21760914: 34629,\n",
       " 712629794: 34630,\n",
       " 6000894703: 34631,\n",
       " 712629776: 34632,\n",
       " 457990: 34633,\n",
       " 10693867804: 34634,\n",
       " 21760915: 34635,\n",
       " 2583461626: 34636,\n",
       " 8812856510: 34637,\n",
       " 1672368433: 34638,\n",
       " 449275: 34639,\n",
       " 26722808: 34640,\n",
       " 368857: 34641,\n",
       " 255444820: 34642,\n",
       " 1574556628: 34643,\n",
       " 32248893: 34644,\n",
       " 5274163983: 34645,\n",
       " 2276506404: 34646,\n",
       " 6520928101: 34647,\n",
       " 6520928102: 34648,\n",
       " 2276506367: 34649,\n",
       " 5274163982: 34650,\n",
       " 2276506365: 34651,\n",
       " 26110664: 34652,\n",
       " 26110697: 34653,\n",
       " 26610813: 34654,\n",
       " 1678246879: 34655,\n",
       " 32525722: 34656,\n",
       " 26715765: 34657,\n",
       " 26715772: 34658,\n",
       " 14607100: 34659,\n",
       " 7556732401: 34660,\n",
       " 1973931040: 34661,\n",
       " 1973930637: 34662,\n",
       " 1973930638: 34663,\n",
       " 25630554: 34664,\n",
       " 1584118522: 34665,\n",
       " 8812857506: 34666,\n",
       " 368866: 34667,\n",
       " 368867: 34668,\n",
       " 1238715: 34669,\n",
       " 1556294092: 34670,\n",
       " 7021491532: 34671,\n",
       " 9787606755: 34672,\n",
       " 3075905058: 34673,\n",
       " 1238714: 34674,\n",
       " 5861014023: 34675,\n",
       " 1556294181: 34676,\n",
       " 1253841591: 34677,\n",
       " 5861014025: 34678,\n",
       " 1556294148: 34679,\n",
       " 1253841595: 34680,\n",
       " 1631250717: 34681,\n",
       " 1556294186: 34682,\n",
       " 1556294192: 34683,\n",
       " 1556294200: 34684,\n",
       " 837757199: 34685,\n",
       " 264852762: 34686,\n",
       " 5357100729: 34687,\n",
       " 26820631: 34688,\n",
       " 1639063754: 34689,\n",
       " 1726436536: 34690,\n",
       " 672171847: 34691,\n",
       " 25630640: 34692,\n",
       " 25630639: 34693,\n",
       " 9687223208: 34694,\n",
       " 9687223207: 34695,\n",
       " 664112572: 34696,\n",
       " 1243664300: 34697,\n",
       " 9590483403: 34698,\n",
       " 1166751069: 34699,\n",
       " 1265004359: 34700,\n",
       " 848882163: 34701,\n",
       " 3356209458: 34702,\n",
       " 662768668: 34703,\n",
       " 164012470: 34704,\n",
       " 1182550754: 34705,\n",
       " 25630712: 34706,\n",
       " 376489851: 34707,\n",
       " 617744893: 34708,\n",
       " 617132423: 34709,\n",
       " 25631472: 34710,\n",
       " 25630713: 34711,\n",
       " 5180936703: 34712,\n",
       " 2225450611: 34713,\n",
       " 25630714: 34714,\n",
       " 1238718: 34715,\n",
       " 25630716: 34716,\n",
       " 1249786384: 34717,\n",
       " 262395518: 34718,\n",
       " 262391931: 34719,\n",
       " 25630717: 34720,\n",
       " 1249786410: 34721,\n",
       " 1966546670: 34722,\n",
       " 1966561194: 34723,\n",
       " 262391154: 34724,\n",
       " 1876079790: 34725,\n",
       " 1876079788: 34726,\n",
       " 25630711: 34727,\n",
       " 25630988: 34728,\n",
       " 1870064345: 34729,\n",
       " 1578199940: 34730,\n",
       " 937946881: 34731,\n",
       " 25630709: 34732,\n",
       " 1870064717: 34733,\n",
       " 262392281: 34734,\n",
       " 262391930: 34735,\n",
       " 25630894: 34736,\n",
       " 1713216703: 34737,\n",
       " 25630559: 34738,\n",
       " 603112857: 34739,\n",
       " 2258353115: 34740,\n",
       " 2258353107: 34741,\n",
       " 25630560: 34742,\n",
       " 9798045214: 34743,\n",
       " 2258353175: 34744,\n",
       " 25630571: 34745,\n",
       " 25630570: 34746,\n",
       " 837941828: 34747,\n",
       " 837941844: 34748,\n",
       " 5100433600: 34749,\n",
       " 1556294130: 34750,\n",
       " 25631495: 34751,\n",
       " 2258353185: 34752,\n",
       " 1238725: 34753,\n",
       " 2258353023: 34754,\n",
       " 2258353027: 34755,\n",
       " 25630577: 34756,\n",
       " 3709734192: 34757,\n",
       " 937946862: 34758,\n",
       " 25630557: 34759,\n",
       " 25630563: 34760,\n",
       " 10000438490: 34761,\n",
       " 1578267840: 34762,\n",
       " 1440422833: 34763,\n",
       " 1440422834: 34764,\n",
       " 1440430569: 34765,\n",
       " 25630564: 34766,\n",
       " 25630555: 34767,\n",
       " 26903500: 34768,\n",
       " 14593401: 34769,\n",
       " 1672459336: 34770,\n",
       " 25630575: 34771,\n",
       " 25630578: 34772,\n",
       " 1166518271: 34773,\n",
       " 442135078: 34774,\n",
       " 320990791: 34775,\n",
       " 442135081: 34776,\n",
       " 1166518214: 34777,\n",
       " 320990786: 34778,\n",
       " 1761928418: 34779,\n",
       " 25630576: 34780,\n",
       " 9700745853: 34781,\n",
       " 1578199932: 34782,\n",
       " 872564188: 34783,\n",
       " 1578199938: 34784,\n",
       " 25630645: 34785,\n",
       " 3356710067: 34786,\n",
       " 3651302431: 34787,\n",
       " 3356710071: 34788,\n",
       " 25630647: 34789,\n",
       " 25630642: 34790,\n",
       " 7721733425: 34791,\n",
       " 3356710087: 34792,\n",
       " 3651302433: 34793,\n",
       " 3356710079: 34794,\n",
       " 3651302432: 34795,\n",
       " 3356710080: 34796,\n",
       " 475237504: 34797,\n",
       " 25630646: 34798,\n",
       " 443879: 34799,\n",
       " 715698964: 34800,\n",
       " 1625566911: 34801,\n",
       " 1625566907: 34802,\n",
       " 1486380863: 34803,\n",
       " 255223810: 34804,\n",
       " 25630650: 34805,\n",
       " 6696746899: 34806,\n",
       " 4511205331: 34807,\n",
       " 1450860278: 34808,\n",
       " 1484809602: 34809,\n",
       " 25630652: 34810,\n",
       " 25630685: 34811,\n",
       " 376461715: 34812,\n",
       " 7673207602: 34813,\n",
       " 78574270: 34814,\n",
       " 26904151: 34815,\n",
       " 376518998: 34816,\n",
       " 26904573: 34817,\n",
       " 26904574: 34818,\n",
       " 376518952: 34819,\n",
       " 26904153: 34820,\n",
       " 25630718: 34821,\n",
       " 5166086075: 34822,\n",
       " 1299345522: 34823,\n",
       " 26904570: 34824,\n",
       " 1057350438: 34825,\n",
       " 25631473: 34826,\n",
       " 8319741414: 34827,\n",
       " 255236089: 34828,\n",
       " 257894366: 34829,\n",
       " 1861720540: 34830,\n",
       " 380510873: 34831,\n",
       " 9989237606: 34832,\n",
       " 380510879: 34833,\n",
       " 25631474: 34834,\n",
       " 25631476: 34835,\n",
       " 380494827: 34836,\n",
       " 1406195: 34837,\n",
       " 9660207381: 34838,\n",
       " 1406196: 34839,\n",
       " 348140567: 34840,\n",
       " 255274142: 34841,\n",
       " 1794608449: 34842,\n",
       " 1794608445: 34843,\n",
       " 1794608442: 34844,\n",
       " 1794608441: 34845,\n",
       " 1406198: 34846,\n",
       " 348138978: 34847,\n",
       " 474473: 34848,\n",
       " 7721733427: 34849,\n",
       " 646704984: 34850,\n",
       " 28120261: 34851,\n",
       " 3349874274: 34852,\n",
       " 256482834: 34853,\n",
       " 254433955: 34854,\n",
       " 59647219: 34855,\n",
       " 529807678: 34856,\n",
       " 1439231903: 34857,\n",
       " 1439231904: 34858,\n",
       " 28163970: 34859,\n",
       " 310630066: 34860,\n",
       " 75080117: 34861,\n",
       " 2620093311: 34862,\n",
       " 28123304: 34863,\n",
       " 2620093313: 34864,\n",
       " 4773678167: 34865,\n",
       " 3793149500: 34866,\n",
       " 3793149501: 34867,\n",
       " 3793149502: 34868,\n",
       " 2620093315: 34869,\n",
       " 4323874017: 34870,\n",
       " 1349286566: 34871,\n",
       " 4163914396: 34872,\n",
       " 4163914394: 34873,\n",
       " 575994825: 34874,\n",
       " 1609941484: 34875,\n",
       " 1609941474: 34876,\n",
       " 2655853195: 34877,\n",
       " 575994822: 34878,\n",
       " 576064504: 34879,\n",
       " 2655853192: 34880,\n",
       " 26904571: 34881,\n",
       " 1606334905: 34882,\n",
       " 1049172327: 34883,\n",
       " 262373028: 34884,\n",
       " 633481640: 34885,\n",
       " 366143891: 34886,\n",
       " 366145377: 34887,\n",
       " 639615143: 34888,\n",
       " 4518828762: 34889,\n",
       " 9561430537: 34890,\n",
       " 9561430536: 34891,\n",
       " 9561430535: 34892,\n",
       " 614234058: 34893,\n",
       " 28164022: 34894,\n",
       " 256574970: 34895,\n",
       " 7123603636: 34896,\n",
       " 1360351552: 34897,\n",
       " 32351897: 34898,\n",
       " 28123281: 34899,\n",
       " 259183472: 34900,\n",
       " 428127696: 34901,\n",
       " 614234055: 34902,\n",
       " 2921741600: 34903,\n",
       " 778311831: 34904,\n",
       " 258315777: 34905,\n",
       " 614214375: 34906,\n",
       " 260724671: 34907,\n",
       " 3411886410: 34908,\n",
       " 28164126: 34909,\n",
       " 28164128: 34910,\n",
       " 21042324: 34911,\n",
       " 136711010: 34912,\n",
       " 694324383: 34913,\n",
       " 136710994: 34914,\n",
       " 29010721: 34915,\n",
       " 9851787047: 34916,\n",
       " 866993819: 34917,\n",
       " 32857491: 34918,\n",
       " 2234647787: 34919,\n",
       " 32048856: 34920,\n",
       " 32048854: 34921,\n",
       " 137019461: 34922,\n",
       " 32048852: 34923,\n",
       " 137019491: 34924,\n",
       " 137019479: 34925,\n",
       " 137019503: 34926,\n",
       " 32048850: 34927,\n",
       " 32048846: 34928,\n",
       " 32048830: 34929,\n",
       " 175609405: 34930,\n",
       " 175609417: 34931,\n",
       " 359924: 34932,\n",
       " 1705496771: 34933,\n",
       " 175609413: 34934,\n",
       " 175617112: 34935,\n",
       " 21042320: 34936,\n",
       " 21763517: 34937,\n",
       " 2276506370: 34938,\n",
       " 21760933: 34939,\n",
       " 8812857495: 34940,\n",
       " 8812857494: 34941,\n",
       " 29670141: 34942,\n",
       " 29670165: 34943,\n",
       " 1261046445: 34944,\n",
       " 1261046428: 34945,\n",
       " 315791580: 34946,\n",
       " 30009220: 34947,\n",
       " 610484057: 34948,\n",
       " 249470580: 34949,\n",
       " 652719821: 34950,\n",
       " 652719823: 34951,\n",
       " 9653644259: 34952,\n",
       " 652719818: 34953,\n",
       " 26052225: 34954,\n",
       " 7097001774: 34955,\n",
       " 7097001775: 34956,\n",
       " 5413040707: 34957,\n",
       " 26052205: 34958,\n",
       " 281426927: 34959,\n",
       " 5412990626: 34960,\n",
       " 5414463902: 34961,\n",
       " 5414463900: 34962,\n",
       " 8594422981: 34963,\n",
       " 5414463898: 34964,\n",
       " 606172106: 34965,\n",
       " 3965850601: 34966,\n",
       " 26052215: 34967,\n",
       " 7099826325: 34968,\n",
       " 2993957668: 34969,\n",
       " 532727169: 34970,\n",
       " 3344031548: 34971,\n",
       " 3344031552: 34972,\n",
       " 39665135: 34973,\n",
       " 7099768967: 34974,\n",
       " 26052218: 34975,\n",
       " 269871217: 34976,\n",
       " 2598896866: 34977,\n",
       " 31900487: 34978,\n",
       " 7100067149: 34979,\n",
       " 1829406394: 34980,\n",
       " 6520959366: 34981,\n",
       " 7099826327: 34982,\n",
       " 7099826326: 34983,\n",
       " 6520959367: 34984,\n",
       " 2508438808: 34985,\n",
       " 7101505041: 34986,\n",
       " 7490025194: 34987,\n",
       " 2993957656: 34988,\n",
       " 21033645: 34989,\n",
       " 36835184: 34990,\n",
       " 824641000: 34991,\n",
       " 824640933: 34992,\n",
       " 824641116: 34993,\n",
       " 36834889: 34994,\n",
       " 6486478799: 34995,\n",
       " 6520959368: 34996,\n",
       " 2742254524: 34997,\n",
       " 824641103: 34998,\n",
       " 6486478801: 34999,\n",
       " 824641142: 35000,\n",
       " 824640956: 35001,\n",
       " 9602814937: 35002,\n",
       " 824641111: 35003,\n",
       " 9602814941: 35004,\n",
       " 991756670: 35005,\n",
       " 1092681493: 35006,\n",
       " 824640937: 35007,\n",
       " 606172107: 35008,\n",
       " 7503275801: 35009,\n",
       " 6486478800: 35010,\n",
       " 26052194: 35011,\n",
       " 9602814929: 35012,\n",
       " 26052199: 35013,\n",
       " 5999081530: 35014,\n",
       " 2492625663: 35015,\n",
       " 9603965980: 35016,\n",
       " 359955: 35017,\n",
       " 39579178: 35018,\n",
       " 6192098355: 35019,\n",
       " 1624068038: 35020,\n",
       " 4311775190: 35021,\n",
       " 4311772688: 35022,\n",
       " 26052238: 35023,\n",
       " 359935: 35024,\n",
       " 9428208684: 35025,\n",
       " 31920054: 35026,\n",
       " 6192098351: 35027,\n",
       " 39912162: 35028,\n",
       " 359934: 35029,\n",
       " 7439245031: 35030,\n",
       " 1168787341: 35031,\n",
       " 10005205015: 35032,\n",
       " 1168787344: 35033,\n",
       " 11097492299: 35034,\n",
       " 6185611297: 35035,\n",
       " 259598745: 35036,\n",
       " 9961439294: 35037,\n",
       " 8815068432: 35038,\n",
       " 31792550: 35039,\n",
       " 31598389: 35040,\n",
       " 31598492: 35041,\n",
       " 2598944042: 35042,\n",
       " 262799731: 35043,\n",
       " 36834149: 35044,\n",
       " 11078645781: 35045,\n",
       " 11078645782: 35046,\n",
       " 2598941305: 35047,\n",
       " 10004909673: 35048,\n",
       " 10004909664: 35049,\n",
       " 31598457: 35050,\n",
       " 31792566: 35051,\n",
       " 3292288842: 35052,\n",
       " 2598944043: 35053,\n",
       " 418743345: 35054,\n",
       " 662840565: 35055,\n",
       " 31598404: 35056,\n",
       " 31598434: 35057,\n",
       " 31598472: 35058,\n",
       " 2598941202: 35059,\n",
       " 2598941195: 35060,\n",
       " 31598481: 35061,\n",
       " 31598483: 35062,\n",
       " 31598479: 35063,\n",
       " 2598941196: 35064,\n",
       " 2598941205: 35065,\n",
       " 31598477: 35066,\n",
       " 2234629667: 35067,\n",
       " 9579451044: 35068,\n",
       " 9579451049: 35069,\n",
       " 5999081499: 35070,\n",
       " 31598486: 35071,\n",
       " 2603657361: 35072,\n",
       " 359921: 35073,\n",
       " 31598454: 35074,\n",
       " 2598941306: 35075,\n",
       " 2603658614: 35076,\n",
       " 2603657362: 35077,\n",
       " 2598941302: 35078,\n",
       " 360035: 35079,\n",
       " 136742243: 35080,\n",
       " 1705496779: 35081,\n",
       " 136742197: 35082,\n",
       " 136742282: 35083,\n",
       " 5941437597: 35084,\n",
       " 359917: 35085,\n",
       " 359918: 35086,\n",
       " 2430189758: 35087,\n",
       " 31405620: 35088,\n",
       " 2229418465: 35089,\n",
       " 31900480: 35090,\n",
       " 2603609818: 35091,\n",
       " 31900479: 35092,\n",
       " 359544: 35093,\n",
       " 1623822512: 35094,\n",
       " 5822410905: 35095,\n",
       " 262631126: 35096,\n",
       " 561152857: 35097,\n",
       " 39614128: 35098,\n",
       " 1623822505: 35099,\n",
       " 31900481: 35100,\n",
       " 2603586913: 35101,\n",
       " 10005223416: 35102,\n",
       " 7107676689: 35103,\n",
       " 31900482: 35104,\n",
       " 2603564788: 35105,\n",
       " 8812917055: 35106,\n",
       " 5213068556: 35107,\n",
       " 3983697922: 35108,\n",
       " 1596379182: 35109,\n",
       " 7107658580: 35110,\n",
       " 31900486: 35111,\n",
       " 3487674682: 35112,\n",
       " 1596379185: 35113,\n",
       " 31900485: 35114,\n",
       " 359940: 35115,\n",
       " 5213065324: 35116,\n",
       " 1598767726: 35117,\n",
       " 7439245032: 35118,\n",
       " 31919918: 35119,\n",
       " 1880506062: 35120,\n",
       " 969115509: 35121,\n",
       " 359939: 35122,\n",
       " 31919929: 35123,\n",
       " 479974018: 35124,\n",
       " 175651606: 35125,\n",
       " 823682728: 35126,\n",
       " 823682674: 35127,\n",
       " 31919934: 35128,\n",
       " 175651619: 35129,\n",
       " 31919923: 35130,\n",
       " 175651613: 35131,\n",
       " 7737161794: 35132,\n",
       " 7737161795: 35133,\n",
       " 1880506008: 35134,\n",
       " 31919949: 35135,\n",
       " 31919954: 35136,\n",
       " 1596379190: 35137,\n",
       " 1596379187: 35138,\n",
       " 1598767750: 35139,\n",
       " 31919968: 35140,\n",
       " 151024667: 35141,\n",
       " 648524826: 35142,\n",
       " 31920001: 35143,\n",
       " 31920039: 35144,\n",
       " 722583017: 35145,\n",
       " 722583096: 35146,\n",
       " 31920027: 35147,\n",
       " 31920059: 35148,\n",
       " 2535429483: 35149,\n",
       " 31920045: 35150,\n",
       " 6337070406: 35151,\n",
       " 722488006: 35152,\n",
       " 32048717: 35153,\n",
       " 4042649155: 35154,\n",
       " 668283039: 35155,\n",
       " 1261046436: 35156,\n",
       " 668283014: 35157,\n",
       " 32048722: 35158,\n",
       " 869039651: 35159,\n",
       " 32048732: 35160,\n",
       " 1705496824: 35161,\n",
       " 1665862911: 35162,\n",
       " 32048740: 35163,\n",
       " 21042316: 35164,\n",
       " 1665843948: 35165,\n",
       " 7637452239: 35166,\n",
       " 32048742: 35167,\n",
       " 1665843962: 35168,\n",
       " 32048738: 35169,\n",
       " 359925: 35170,\n",
       " 8815077224: 35171,\n",
       " 8815077225: 35172,\n",
       " 2580536833: 35173,\n",
       " 32048835: 35174,\n",
       " 32048837: 35175,\n",
       " 2580536815: 35176,\n",
       " 32048839: 35177,\n",
       " 5544363475: 35178,\n",
       " 32048840: 35179,\n",
       " 32048842: 35180,\n",
       " 2580536816: 35181,\n",
       " 2580536800: 35182,\n",
       " 2580536791: 35183,\n",
       " 32048865: 35184,\n",
       " 32048747: 35185,\n",
       " 33458312: 35186,\n",
       " 136751944: 35187,\n",
       " 32048858: 35188,\n",
       " 5909832631: 35189,\n",
       " 136787279: 35190,\n",
       " 2234647790: 35191,\n",
       " 32048746: 35192,\n",
       " 136751913: 35193,\n",
       " 32048824: 35194,\n",
       " 32048828: 35195,\n",
       " 5544362985: 35196,\n",
       " 5544364742: 35197,\n",
       " 32048863: 35198,\n",
       " 32048848: 35199,\n",
       " 32048844: 35200,\n",
       " 2580536839: 35201,\n",
       " 32048832: 35202,\n",
       " 2349110697: 35203,\n",
       " 175609424: 35204,\n",
       " 32048834: 35205,\n",
       " 53215711: 35206,\n",
       " 2415405894: 35207,\n",
       " 769392815: 35208,\n",
       " 4406728295: 35209,\n",
       " 295482288: 35210,\n",
       " 3503648256: 35211,\n",
       " 333618309: 35212,\n",
       " 2558497264: 35213,\n",
       " 2558497261: 35214,\n",
       " 32248901: 35215,\n",
       " 336679868: 35216,\n",
       " 6916358095: 35217,\n",
       " 32248944: 35218,\n",
       " 32248903: 35219,\n",
       " 3475691620: 35220,\n",
       " 32248904: 35221,\n",
       " 1366644760: 35222,\n",
       " 32248905: 35223,\n",
       " 32248935: 35224,\n",
       " 2670536525: 35225,\n",
       " 2670536517: 35226,\n",
       " 32248937: 35227,\n",
       " 1888001295: 35228,\n",
       " 1888001293: 35229,\n",
       " 1888001291: 35230,\n",
       " 333663098: 35231,\n",
       " 9002302168: 35232,\n",
       " 333663115: 35233,\n",
       " 7794295456: 35234,\n",
       " 8360959330: 35235,\n",
       " 6520959364: 35236,\n",
       " 450658067: 35237,\n",
       " 448981476: 35238,\n",
       " 448981475: 35239,\n",
       " 6520959365: 35240,\n",
       " 32248898: 35241,\n",
       " 32248902: 35242,\n",
       " 3503648260: 35243,\n",
       " 3503648259: 35244,\n",
       " 4551088232: 35245,\n",
       " 829042554: 35246,\n",
       " 2558502744: 35247,\n",
       " 448981479: 35248,\n",
       " 335393232: 35249,\n",
       " 8088304553: 35250,\n",
       " 6063477266: 35251,\n",
       " 439331772: 35252,\n",
       " 828523225: 35253,\n",
       " 32248931: 35254,\n",
       " 846650189: 35255,\n",
       " 1705497065: 35256,\n",
       " 76598885: 35257,\n",
       " 439331695: 35258,\n",
       " 3475691601: 35259,\n",
       " 1369858393: 35260,\n",
       " 1369858369: 35261,\n",
       " 1366644756: 35262,\n",
       " 1366644742: 35263,\n",
       " 32248947: 35264,\n",
       " 99715773: 35265,\n",
       " 99715756: 35266,\n",
       " 99715761: 35267,\n",
       " 703142121: 35268,\n",
       " 32248949: 35269,\n",
       " 6837223341: 35270,\n",
       " 846343685: 35271,\n",
       " 9991611171: 35272,\n",
       " 9991611170: 35273,\n",
       " 846343632: 35274,\n",
       " 32248934: 35275,\n",
       " 99715738: 35276,\n",
       " 99715745: 35277,\n",
       " 99715765: 35278,\n",
       " 99715779: 35279,\n",
       " 829042598: 35280,\n",
       " 32248932: 35281,\n",
       " 359938: 35282,\n",
       " 2211560558: 35283,\n",
       " 32248910: 35284,\n",
       " 2653547326: 35285,\n",
       " 32248912: 35286,\n",
       " 40861513: 35287,\n",
       " 1705497030: 35288,\n",
       " 1420173098: 35289,\n",
       " 32248908: 35290,\n",
       " 2211560622: 35291,\n",
       " 32248954: 35292,\n",
       " 2437617182: 35293,\n",
       " 32248914: 35294,\n",
       " 32248916: 35295,\n",
       " 2653547278: 35296,\n",
       " 2653547282: 35297,\n",
       " 32248957: 35298,\n",
       " 6128477837: 35299,\n",
       " 32248913: 35300,\n",
       " 2437617216: 35301,\n",
       " 1923827456: 35302,\n",
       " 1897869207: 35303,\n",
       " 1897869213: 35304,\n",
       " 3476709385: 35305,\n",
       " 8812917052: 35306,\n",
       " 6274920225: 35307,\n",
       " 40861523: 35308,\n",
       " 40861522: 35309,\n",
       " 32248926: 35310,\n",
       " 7723383615: 35311,\n",
       " 1888665514: 35312,\n",
       " 7723383614: 35313,\n",
       " 32248928: 35314,\n",
       " 32248960: 35315,\n",
       " 1888665622: 35316,\n",
       " 32248929: 35317,\n",
       " 40861526: 35318,\n",
       " 1923827497: 35319,\n",
       " 1968504733: 35320,\n",
       " 1968504737: 35321,\n",
       " 1946007078: 35322,\n",
       " 1946007082: 35323,\n",
       " 1705497007: 35324,\n",
       " 32248962: 35325,\n",
       " 267098732: 35326,\n",
       " 1642876231: 35327,\n",
       " 267113617: 35328,\n",
       " 26110656: 35329,\n",
       " 1678246830: 35330,\n",
       " 629539736: 35331,\n",
       " 317213294: 35332,\n",
       " 32319828: 35333,\n",
       " 8786250230: 35334,\n",
       " 8786250232: 35335,\n",
       " 256490868: 35336,\n",
       " 32524342: 35337,\n",
       " 4807291901: 35338,\n",
       " 5357065862: 35339,\n",
       " 5357065861: 35340,\n",
       " 1678199275: 35341,\n",
       " 32524497: 35342,\n",
       " 4807291895: 35343,\n",
       " 1678199231: 35344,\n",
       " 1678199229: 35345,\n",
       " 4807291908: 35346,\n",
       " 4807291905: 35347,\n",
       " 32524506: 35348,\n",
       " 32995902: 35349,\n",
       " 4864233622: 35350,\n",
       " 4864233624: 35351,\n",
       " 1679579534: 35352,\n",
       " 1679579528: 35353,\n",
       " 8807124664: 35354,\n",
       " 1679579524: 35355,\n",
       " 8807124663: 35356,\n",
       " 1679579491: 35357,\n",
       " 1679579467: 35358,\n",
       " 1679579446: 35359,\n",
       " 1679579440: 35360,\n",
       " 9422141265: 35361,\n",
       " 4163331992: 35362,\n",
       " 4864233634: 35363,\n",
       " 4864233632: 35364,\n",
       " 254927719: 35365,\n",
       " 32543936: 35366,\n",
       " 5032599403: 35367,\n",
       " 32543883: 35368,\n",
       " 32543886: 35369,\n",
       " 5357100317: 35370,\n",
       " 5357100318: 35371,\n",
       " 350150794: 35372,\n",
       " 265877665: 35373,\n",
       " 8818400490: 35374,\n",
       " 9020872894: 35375,\n",
       " 9020872892: 35376,\n",
       " 8301369338: 35377,\n",
       " 32857243: 35378,\n",
       " 33021535: 35379,\n",
       " 773860247: 35380,\n",
       " 32857308: 35381,\n",
       " 869039807: 35382,\n",
       " 8113689091: 35383,\n",
       " 33021536: 35384,\n",
       " 32857477: 35385,\n",
       " 4874433640: 35386,\n",
       " 43016711: 35387,\n",
       " 32857479: 35388,\n",
       " 862795620: 35389,\n",
       " 864941936: 35390,\n",
       " 32857478: 35391,\n",
       " 861919378: 35392,\n",
       " 862795640: 35393,\n",
       " 29670164: 35394,\n",
       " 1261934060: 35395,\n",
       " 32857487: 35396,\n",
       " 7469572769: 35397,\n",
       " 32857492: 35398,\n",
       " 32857475: 35399,\n",
       " 175624841: 35400,\n",
       " 773860252: 35401,\n",
       " 32857469: 35402,\n",
       " 866993512: 35403,\n",
       " 773860294: 35404,\n",
       " 32857309: 35405,\n",
       " 5711280862: 35406,\n",
       " 5711280865: 35407,\n",
       " 5711280863: 35408,\n",
       " 32857494: 35409,\n",
       " 175624840: 35410,\n",
       " 773860287: 35411,\n",
       " 5711280864: 35412,\n",
       " 5711280860: 35413,\n",
       " 866993938: 35414,\n",
       " 866994146: 35415,\n",
       " 712629789: 35416,\n",
       " 773860283: 35417,\n",
       " 9851787046: 35418,\n",
       " 32857496: 35419,\n",
       " 7638710087: 35420,\n",
       " 87308226: 35421,\n",
       " 7638710086: 35422,\n",
       " 773860297: 35423,\n",
       " 2663581746: 35424,\n",
       " 2663581781: 35425,\n",
       " 2663581767: 35426,\n",
       " 2109001183: 35427,\n",
       " 2663581763: 35428,\n",
       " 6385965253: 35429,\n",
       " 2663581785: 35430,\n",
       " 1638972013: 35431,\n",
       " 8517408535: 35432,\n",
       " 1672324110: 35433,\n",
       " 32949994: 35434,\n",
       " 33019528: 35435,\n",
       " 51452727: 35436,\n",
       " 359894: 35437,\n",
       " 26052185: 35438,\n",
       " 738577175: 35439,\n",
       " 651599362: 35440,\n",
       " 651599360: 35441,\n",
       " 2197791406: 35442,\n",
       " 1620871099: 35443,\n",
       " 1620871098: 35444,\n",
       " 1620871097: 35445,\n",
       " 1620871096: 35446,\n",
       " 26052182: 35447,\n",
       " 1620871095: 35448,\n",
       " 359956: 35449,\n",
       " 2492625658: 35450,\n",
       " 2197791216: 35451,\n",
       " 2197791215: 35452,\n",
       " 2198059305: 35453,\n",
       " 26052179: 35454,\n",
       " 26052255: 35455,\n",
       " 1620871094: 35456,\n",
       " 651599287: 35457,\n",
       " 2197791357: 35458,\n",
       " 2197791356: 35459,\n",
       " 2197791353: 35460,\n",
       " 2197791351: 35461,\n",
       " 2197791347: 35462,\n",
       " 2197791345: 35463,\n",
       " 2197791349: 35464,\n",
       " 2197791361: 35465,\n",
       " 2197791365: 35466,\n",
       " 2197791368: 35467,\n",
       " 2197791370: 35468,\n",
       " 1696343538: 35469,\n",
       " 2198091646: 35470,\n",
       " 2198003623: 35471,\n",
       " 33481142: 35472,\n",
       " 33481143: 35473,\n",
       " 2198003635: 35474,\n",
       " 33481141: 35475,\n",
       " 26052251: 35476,\n",
       " 1696343533: 35477,\n",
       " 1696343535: 35478,\n",
       " 7376540069: 35479,\n",
       " 7376540068: 35480,\n",
       " 2198003654: 35481,\n",
       " 2198003665: 35482,\n",
       " 1696343543: 35483,\n",
       " 4485050317: 35484,\n",
       " 4540912346: 35485,\n",
       " 2198091610: 35486,\n",
       " 2198091601: 35487,\n",
       " 4540912348: 35488,\n",
       " 2198091559: 35489,\n",
       " 2198091555: 35490,\n",
       " 4540912365: 35491,\n",
       " 2198091521: 35492,\n",
       " 2198091518: 35493,\n",
       " 4540912363: 35494,\n",
       " 2198091489: 35495,\n",
       " 4540895896: 35496,\n",
       " 2198091485: 35497,\n",
       " 26052260: 35498,\n",
       " 4540882598: 35499,\n",
       " 6782553874: 35500,\n",
       " 2198091483: 35501,\n",
       " 662429234: 35502,\n",
       " 738577316: 35503,\n",
       " 2198091481: 35504,\n",
       " 33481154: 35505,\n",
       " 2107675144: 35506,\n",
       " 2107675138: 35507,\n",
       " ...}"
      ]
     },
     "execution_count": 7,
     "metadata": {},
     "output_type": "execute_result"
    }
   ],
   "source": [
    "{\n",
    "\tint(k[1:]): v\n",
    "\tfor k, v in geo_data.multi_modal_node_to_resetted_map.items()\n",
    "\tif k[0] == \"B\"\n",
    "}\n"
   ]
  },
  {
   "cell_type": "code",
   "execution_count": 53,
   "metadata": {},
   "outputs": [],
   "source": [
    "pois = minute_city.fetch_pois_for_area(geo_meta.boundary, nodes)"
   ]
  },
  {
   "cell_type": "code",
   "execution_count": 54,
   "metadata": {},
   "outputs": [],
   "source": [
    "geo_data.add_pois_to_mm_graph(pois)\n",
    "geo_data.add_pois_to_walking_graph(pois)"
   ]
  },
  {
   "cell_type": "code",
   "execution_count": 55,
   "metadata": {},
   "outputs": [],
   "source": [
    "mcr = MCR(geo_data, disable_paths=True, enable_limit=True)"
   ]
  },
  {
   "cell_type": "code",
   "execution_count": 56,
   "metadata": {},
   "outputs": [
    {
     "data": {
      "text/html": [
       "<pre style=\"white-space:pre;overflow-x:auto;line-height:normal;font-family:Menlo,'DejaVu Sans Mono',consolas,'Courier New',monospace\"><span style=\"color: #7fbfbf; text-decoration-color: #7fbfbf\">[16:53:27] </span><span style=\"color: #000080; text-decoration-color: #000080\">INFO    </span> Running Dijkstra step                                                              <a href=\"file:///home/moritz/dev/uni/mcr-py/notebooks/../src/package/logger.py\" target=\"_blank\"><span style=\"color: #7f7f7f; text-decoration-color: #7f7f7f\">logger.py</span></a><span style=\"color: #7f7f7f; text-decoration-color: #7f7f7f\">:</span><a href=\"file:///home/moritz/dev/uni/mcr-py/notebooks/../src/package/logger.py#37\" target=\"_blank\"><span style=\"color: #7f7f7f; text-decoration-color: #7f7f7f\">37</span></a>\n",
       "</pre>\n"
      ],
      "text/plain": [
       "\u001b[2;36m[16:53:27]\u001b[0m\u001b[2;36m \u001b[0m\u001b[34mINFO    \u001b[0m Running Dijkstra step                                                              \u001b]8;id=913457;file:///home/moritz/dev/uni/mcr-py/notebooks/../src/package/logger.py\u001b\\\u001b[2mlogger.py\u001b[0m\u001b]8;;\u001b\\\u001b[2m:\u001b[0m\u001b]8;id=126738;file:///home/moritz/dev/uni/mcr-py/notebooks/../src/package/logger.py#37\u001b\\\u001b[2m37\u001b[0m\u001b]8;;\u001b\\\n"
      ]
     },
     "metadata": {},
     "output_type": "display_data"
    },
    {
     "data": {
      "text/html": [
       "<pre style=\"white-space:pre;overflow-x:auto;line-height:normal;font-family:Menlo,'DejaVu Sans Mono',consolas,'Courier New',monospace\"><span style=\"color: #7fbfbf; text-decoration-color: #7fbfbf\">           </span><span style=\"color: #800000; text-decoration-color: #800000\">WARNING </span> <span style=\"color: #008080; text-decoration-color: #008080; font-weight: bold\">94</span> labels were discarded because they exceeded the limit                             <a href=\"file:///home/moritz/dev/uni/mlc/src/mlc.rs\" target=\"_blank\"><span style=\"color: #7f7f7f; text-decoration-color: #7f7f7f\">mlc.rs</span></a><span style=\"color: #7f7f7f; text-decoration-color: #7f7f7f\">:</span><a href=\"file:///home/moritz/dev/uni/mlc/src/mlc.rs#307\" target=\"_blank\"><span style=\"color: #7f7f7f; text-decoration-color: #7f7f7f\">307</span></a>\n",
       "</pre>\n"
      ],
      "text/plain": [
       "\u001b[2;36m          \u001b[0m\u001b[2;36m \u001b[0m\u001b[31mWARNING \u001b[0m \u001b[1;36m94\u001b[0m labels were discarded because they exceeded the limit                             \u001b]8;id=662103;file:///home/moritz/dev/uni/mlc/src/mlc.rs\u001b\\\u001b[2mmlc.rs\u001b[0m\u001b]8;;\u001b\\\u001b[2m:\u001b[0m\u001b]8;id=584350;file:///home/moritz/dev/uni/mlc/src/mlc.rs#307\u001b\\\u001b[2m307\u001b[0m\u001b]8;;\u001b\\\n"
      ]
     },
     "metadata": {},
     "output_type": "display_data"
    },
    {
     "data": {
      "text/html": [
       "<pre style=\"white-space:pre;overflow-x:auto;line-height:normal;font-family:Menlo,'DejaVu Sans Mono',consolas,'Courier New',monospace\"><span style=\"color: #7fbfbf; text-decoration-color: #7fbfbf\">           </span><span style=\"color: #000080; text-decoration-color: #000080\">INFO    </span> Running Dijkstra step done <span style=\"font-weight: bold\">(</span><span style=\"color: #008080; text-decoration-color: #008080; font-weight: bold\">0.09</span> seconds<span style=\"font-weight: bold\">)</span>                                          <a href=\"file:///home/moritz/dev/uni/mcr-py/notebooks/../src/package/logger.py\" target=\"_blank\"><span style=\"color: #7f7f7f; text-decoration-color: #7f7f7f\">logger.py</span></a><span style=\"color: #7f7f7f; text-decoration-color: #7f7f7f\">:</span><a href=\"file:///home/moritz/dev/uni/mcr-py/notebooks/../src/package/logger.py#37\" target=\"_blank\"><span style=\"color: #7f7f7f; text-decoration-color: #7f7f7f\">37</span></a>\n",
       "</pre>\n"
      ],
      "text/plain": [
       "\u001b[2;36m          \u001b[0m\u001b[2;36m \u001b[0m\u001b[34mINFO    \u001b[0m Running Dijkstra step done \u001b[1m(\u001b[0m\u001b[1;36m0.09\u001b[0m seconds\u001b[1m)\u001b[0m                                          \u001b]8;id=800406;file:///home/moritz/dev/uni/mcr-py/notebooks/../src/package/logger.py\u001b\\\u001b[2mlogger.py\u001b[0m\u001b]8;;\u001b\\\u001b[2m:\u001b[0m\u001b]8;id=903190;file:///home/moritz/dev/uni/mcr-py/notebooks/../src/package/logger.py#37\u001b\\\u001b[2m37\u001b[0m\u001b]8;;\u001b\\\n"
      ]
     },
     "metadata": {},
     "output_type": "display_data"
    }
   ],
   "source": [
    "\n",
    "start_time_in_seconds = strtime.str_time_to_seconds(start_time)\n",
    "\n",
    "bags_i: dict[int, IntermediateBags] = {}\n",
    "\n",
    "mcr.logger.debug(f\"Starting MCR with config: {mcr.__dict__}\")\n",
    "\n",
    "with mcr.timer.info(\"Running Dijkstra step\"):\n",
    "\twalking_result_bags = mcr_py.run_mlc_with_node_and_time(\n",
    "\t\tmcr.geo_data.walking_graph_cache,\n",
    "\t\tmcr.geo_data.walking_node_to_resetted_map[f\"W{start_node_id}\"],\n",
    "\t\tstart_time_in_seconds,\n",
    "\t\tdisable_paths=mcr.disable_paths,\n",
    "\t\tenable_limit=mcr.enable_limit,\n",
    "\t)"
   ]
  },
  {
   "cell_type": "code",
   "execution_count": 57,
   "metadata": {},
   "outputs": [
    {
     "data": {
      "text/html": [
       "<pre style=\"white-space:pre;overflow-x:auto;line-height:normal;font-family:Menlo,'DejaVu Sans Mono',consolas,'Courier New',monospace\"><span style=\"color: #7fbfbf; text-decoration-color: #7fbfbf\">           </span><span style=\"color: #000080; text-decoration-color: #000080\">INFO    </span> Extracting dijkstra step bags                                                      <a href=\"file:///home/moritz/dev/uni/mcr-py/notebooks/../src/package/logger.py\" target=\"_blank\"><span style=\"color: #7f7f7f; text-decoration-color: #7f7f7f\">logger.py</span></a><span style=\"color: #7f7f7f; text-decoration-color: #7f7f7f\">:</span><a href=\"file:///home/moritz/dev/uni/mcr-py/notebooks/../src/package/logger.py#37\" target=\"_blank\"><span style=\"color: #7f7f7f; text-decoration-color: #7f7f7f\">37</span></a>\n",
       "</pre>\n"
      ],
      "text/plain": [
       "\u001b[2;36m          \u001b[0m\u001b[2;36m \u001b[0m\u001b[34mINFO    \u001b[0m Extracting dijkstra step bags                                                      \u001b]8;id=134936;file:///home/moritz/dev/uni/mcr-py/notebooks/../src/package/logger.py\u001b\\\u001b[2mlogger.py\u001b[0m\u001b]8;;\u001b\\\u001b[2m:\u001b[0m\u001b]8;id=184691;file:///home/moritz/dev/uni/mcr-py/notebooks/../src/package/logger.py#37\u001b\\\u001b[2m37\u001b[0m\u001b]8;;\u001b\\\n"
      ]
     },
     "metadata": {},
     "output_type": "display_data"
    },
    {
     "data": {
      "text/html": [
       "<pre style=\"white-space:pre;overflow-x:auto;line-height:normal;font-family:Menlo,'DejaVu Sans Mono',consolas,'Courier New',monospace\"><span style=\"color: #7fbfbf; text-decoration-color: #7fbfbf\">           </span><span style=\"color: #000080; text-decoration-color: #000080\">INFO    </span> Extracting dijkstra step bags done <span style=\"font-weight: bold\">(</span><span style=\"color: #008080; text-decoration-color: #008080; font-weight: bold\">0.02</span> seconds<span style=\"font-weight: bold\">)</span>                                  <a href=\"file:///home/moritz/dev/uni/mcr-py/notebooks/../src/package/logger.py\" target=\"_blank\"><span style=\"color: #7f7f7f; text-decoration-color: #7f7f7f\">logger.py</span></a><span style=\"color: #7f7f7f; text-decoration-color: #7f7f7f\">:</span><a href=\"file:///home/moritz/dev/uni/mcr-py/notebooks/../src/package/logger.py#37\" target=\"_blank\"><span style=\"color: #7f7f7f; text-decoration-color: #7f7f7f\">37</span></a>\n",
       "</pre>\n"
      ],
      "text/plain": [
       "\u001b[2;36m          \u001b[0m\u001b[2;36m \u001b[0m\u001b[34mINFO    \u001b[0m Extracting dijkstra step bags done \u001b[1m(\u001b[0m\u001b[1;36m0.02\u001b[0m seconds\u001b[1m)\u001b[0m                                  \u001b]8;id=922310;file:///home/moritz/dev/uni/mcr-py/notebooks/../src/package/logger.py\u001b\\\u001b[2mlogger.py\u001b[0m\u001b]8;;\u001b\\\u001b[2m:\u001b[0m\u001b]8;id=320041;file:///home/moritz/dev/uni/mcr-py/notebooks/../src/package/logger.py#37\u001b\\\u001b[2m37\u001b[0m\u001b]8;;\u001b\\\n"
      ]
     },
     "metadata": {},
     "output_type": "display_data"
    }
   ],
   "source": [
    "with mcr.timer.info(\"Extracting dijkstra step bags\"):\n",
    "\twalking_result_bags = mcr.convert_walking_bags(\n",
    "\t\twalking_result_bags,\n",
    "\t)\n",
    "\tbags_i[0] = walking_result_bags\n",
    "\n",
    "\tn_osm_nodes = len(walking_result_bags)\n",
    "\tmcr.logger.debug(f\"Found {n_osm_nodes} osm nodes in walking step\")"
   ]
  },
  {
   "cell_type": "code",
   "execution_count": 86,
   "metadata": {},
   "outputs": [
    {
     "data": {
      "text/plain": [
       "0"
      ]
     },
     "execution_count": 86,
     "metadata": {},
     "output_type": "execute_result"
    }
   ],
   "source": [
    "test = pd.DataFrame(\n",
    "    [(label.path, label) for bag in walking_result_bags.values() for label in bag],\n",
    "    columns=[\"path\", \"label\"],\n",
    ")\n",
    "len(test[test.path.apply(lambda x: len(x) > 1)])"
   ]
  },
  {
   "cell_type": "code",
   "execution_count": 93,
   "metadata": {},
   "outputs": [
    {
     "data": {
      "text/plain": [
       "IntermediateLabel(values=[28800, 0], hidden_values=[0, 0], path=[66346], node_id=8734972825)"
      ]
     },
     "execution_count": 93,
     "metadata": {},
     "output_type": "execute_result"
    }
   ],
   "source": [
    "test[test.path.astype(str) != '[]'].label.iloc[0]"
   ]
  },
  {
   "cell_type": "code",
   "execution_count": 61,
   "metadata": {},
   "outputs": [
    {
     "data": {
      "text/html": [
       "<pre style=\"white-space:pre;overflow-x:auto;line-height:normal;font-family:Menlo,'DejaVu Sans Mono',consolas,'Courier New',monospace\"><span style=\"color: #7fbfbf; text-decoration-color: #7fbfbf\">[16:55:05] </span><span style=\"color: #000080; text-decoration-color: #000080\">INFO    </span> Running iteration <span style=\"color: #008080; text-decoration-color: #008080; font-weight: bold\">1</span>                                                             <a href=\"file:///tmp/ipykernel_125110/4269777464.py\" target=\"_blank\"><span style=\"color: #7f7f7f; text-decoration-color: #7f7f7f\">4269777464.py</span></a><span style=\"color: #7f7f7f; text-decoration-color: #7f7f7f\">:</span><a href=\"file:///tmp/ipykernel_125110/4269777464.py#2\" target=\"_blank\"><span style=\"color: #7f7f7f; text-decoration-color: #7f7f7f\">2</span></a>\n",
       "</pre>\n"
      ],
      "text/plain": [
       "\u001b[2;36m[16:55:05]\u001b[0m\u001b[2;36m \u001b[0m\u001b[34mINFO    \u001b[0m Running iteration \u001b[1;36m1\u001b[0m                                                             \u001b]8;id=917957;file:///tmp/ipykernel_125110/4269777464.py\u001b\\\u001b[2m4269777464.py\u001b[0m\u001b]8;;\u001b\\\u001b[2m:\u001b[0m\u001b]8;id=544594;file:///tmp/ipykernel_125110/4269777464.py#2\u001b\\\u001b[2m2\u001b[0m\u001b]8;;\u001b\\\n"
      ]
     },
     "metadata": {},
     "output_type": "display_data"
    }
   ],
   "source": [
    "i = 1\n",
    "mcr.logger.info(f\"Running iteration {i}\")\n",
    "offset = i * 2 - 1"
   ]
  },
  {
   "cell_type": "code",
   "execution_count": 82,
   "metadata": {},
   "outputs": [
    {
     "name": "stderr",
     "output_type": "stream",
     "text": [
      "[autoreload of mcr_py failed: Traceback (most recent call last):\n",
      "  File \"/home/moritz/miniconda3/envs/mcr-py/lib/python3.10/site-packages/IPython/extensions/autoreload.py\", line 276, in check\n",
      "    superreload(m, reload, self.old_objects)\n",
      "  File \"/home/moritz/miniconda3/envs/mcr-py/lib/python3.10/site-packages/IPython/extensions/autoreload.py\", line 475, in superreload\n",
      "    module = reload(module)\n",
      "  File \"/home/moritz/miniconda3/envs/mcr-py/lib/python3.10/importlib/__init__.py\", line 169, in reload\n",
      "    _bootstrap._exec(spec, module)\n",
      "  File \"<frozen importlib._bootstrap>\", line 619, in _exec\n",
      "  File \"<frozen importlib._bootstrap_external>\", line 883, in exec_module\n",
      "  File \"<frozen importlib._bootstrap>\", line 241, in _call_with_frames_removed\n",
      "  File \"/home/moritz/miniconda3/envs/mcr-py/lib/python3.10/site-packages/mcr_py/__init__.py\", line 3, in <module>\n",
      "    __doc__ = mcr_py.__doc__\n",
      "NameError: name 'mcr_py' is not defined\n",
      "]\n"
     ]
    },
    {
     "data": {
      "text/html": [
       "<pre style=\"white-space:pre;overflow-x:auto;line-height:normal;font-family:Menlo,'DejaVu Sans Mono',consolas,'Courier New',monospace\"><span style=\"color: #7fbfbf; text-decoration-color: #7fbfbf\">[17:08:10] </span><span style=\"color: #000080; text-decoration-color: #000080\">INFO    </span> Preparing input for bicycle step                                                   <a href=\"file:///home/moritz/dev/uni/mcr-py/notebooks/../src/package/logger.py\" target=\"_blank\"><span style=\"color: #7f7f7f; text-decoration-color: #7f7f7f\">logger.py</span></a><span style=\"color: #7f7f7f; text-decoration-color: #7f7f7f\">:</span><a href=\"file:///home/moritz/dev/uni/mcr-py/notebooks/../src/package/logger.py#37\" target=\"_blank\"><span style=\"color: #7f7f7f; text-decoration-color: #7f7f7f\">37</span></a>\n",
       "</pre>\n"
      ],
      "text/plain": [
       "\u001b[2;36m[17:08:10]\u001b[0m\u001b[2;36m \u001b[0m\u001b[34mINFO    \u001b[0m Preparing input for bicycle step                                                   \u001b]8;id=105291;file:///home/moritz/dev/uni/mcr-py/notebooks/../src/package/logger.py\u001b\\\u001b[2mlogger.py\u001b[0m\u001b]8;;\u001b\\\u001b[2m:\u001b[0m\u001b]8;id=279453;file:///home/moritz/dev/uni/mcr-py/notebooks/../src/package/logger.py#37\u001b\\\u001b[2m37\u001b[0m\u001b]8;;\u001b\\\n"
      ]
     },
     "metadata": {},
     "output_type": "display_data"
    },
    {
     "data": {
      "text/html": [
       "<pre style=\"white-space:pre;overflow-x:auto;line-height:normal;font-family:Menlo,'DejaVu Sans Mono',consolas,'Courier New',monospace\"><span style=\"color: #7fbfbf; text-decoration-color: #7fbfbf\">           </span><span style=\"color: #800000; text-decoration-color: #800000\">WARNING </span> No bicycles reached with walking step                                              <a href=\"file:///home/moritz/dev/uni/mcr-py/notebooks/../src/package/logger.py\" target=\"_blank\"><span style=\"color: #7f7f7f; text-decoration-color: #7f7f7f\">logger.py</span></a><span style=\"color: #7f7f7f; text-decoration-color: #7f7f7f\">:</span><a href=\"file:///home/moritz/dev/uni/mcr-py/notebooks/../src/package/logger.py#37\" target=\"_blank\"><span style=\"color: #7f7f7f; text-decoration-color: #7f7f7f\">37</span></a>\n",
       "</pre>\n"
      ],
      "text/plain": [
       "\u001b[2;36m          \u001b[0m\u001b[2;36m \u001b[0m\u001b[31mWARNING \u001b[0m No bicycles reached with walking step                                              \u001b]8;id=649234;file:///home/moritz/dev/uni/mcr-py/notebooks/../src/package/logger.py\u001b\\\u001b[2mlogger.py\u001b[0m\u001b]8;;\u001b\\\u001b[2m:\u001b[0m\u001b]8;id=102446;file:///home/moritz/dev/uni/mcr-py/notebooks/../src/package/logger.py#37\u001b\\\u001b[2m37\u001b[0m\u001b]8;;\u001b\\\n"
      ]
     },
     "metadata": {},
     "output_type": "display_data"
    },
    {
     "data": {
      "text/html": [
       "<pre style=\"white-space:pre;overflow-x:auto;line-height:normal;font-family:Menlo,'DejaVu Sans Mono',consolas,'Courier New',monospace\"><span style=\"color: #7fbfbf; text-decoration-color: #7fbfbf\">           </span><span style=\"color: #000080; text-decoration-color: #000080\">INFO    </span> Preparing input for bicycle step done <span style=\"font-weight: bold\">(</span><span style=\"color: #008080; text-decoration-color: #008080; font-weight: bold\">0.01</span> seconds<span style=\"font-weight: bold\">)</span>                               <a href=\"file:///home/moritz/dev/uni/mcr-py/notebooks/../src/package/logger.py\" target=\"_blank\"><span style=\"color: #7f7f7f; text-decoration-color: #7f7f7f\">logger.py</span></a><span style=\"color: #7f7f7f; text-decoration-color: #7f7f7f\">:</span><a href=\"file:///home/moritz/dev/uni/mcr-py/notebooks/../src/package/logger.py#37\" target=\"_blank\"><span style=\"color: #7f7f7f; text-decoration-color: #7f7f7f\">37</span></a>\n",
       "</pre>\n"
      ],
      "text/plain": [
       "\u001b[2;36m          \u001b[0m\u001b[2;36m \u001b[0m\u001b[34mINFO    \u001b[0m Preparing input for bicycle step done \u001b[1m(\u001b[0m\u001b[1;36m0.01\u001b[0m seconds\u001b[1m)\u001b[0m                               \u001b]8;id=967626;file:///home/moritz/dev/uni/mcr-py/notebooks/../src/package/logger.py\u001b\\\u001b[2mlogger.py\u001b[0m\u001b]8;;\u001b\\\u001b[2m:\u001b[0m\u001b]8;id=53122;file:///home/moritz/dev/uni/mcr-py/notebooks/../src/package/logger.py#37\u001b\\\u001b[2m37\u001b[0m\u001b]8;;\u001b\\\n"
      ]
     },
     "metadata": {},
     "output_type": "display_data"
    }
   ],
   "source": [
    "bicycle_result_bags = mcr.run_bicycle_step(walking_result_bags, offset)"
   ]
  },
  {
   "cell_type": "code",
   "execution_count": 83,
   "metadata": {},
   "outputs": [
    {
     "data": {
      "text/html": [
       "<pre style=\"white-space:pre;overflow-x:auto;line-height:normal;font-family:Menlo,'DejaVu Sans Mono',consolas,'Courier New',monospace\"><span style=\"color: #7fbfbf; text-decoration-color: #7fbfbf\">[17:08:13] </span><span style=\"color: #000080; text-decoration-color: #000080\">INFO    </span> Preparing input for MCRAPTOR step                                                  <a href=\"file:///home/moritz/dev/uni/mcr-py/notebooks/../src/package/logger.py\" target=\"_blank\"><span style=\"color: #7f7f7f; text-decoration-color: #7f7f7f\">logger.py</span></a><span style=\"color: #7f7f7f; text-decoration-color: #7f7f7f\">:</span><a href=\"file:///home/moritz/dev/uni/mcr-py/notebooks/../src/package/logger.py#37\" target=\"_blank\"><span style=\"color: #7f7f7f; text-decoration-color: #7f7f7f\">37</span></a>\n",
       "</pre>\n"
      ],
      "text/plain": [
       "\u001b[2;36m[17:08:13]\u001b[0m\u001b[2;36m \u001b[0m\u001b[34mINFO    \u001b[0m Preparing input for MCRAPTOR step                                                  \u001b]8;id=662071;file:///home/moritz/dev/uni/mcr-py/notebooks/../src/package/logger.py\u001b\\\u001b[2mlogger.py\u001b[0m\u001b]8;;\u001b\\\u001b[2m:\u001b[0m\u001b]8;id=659062;file:///home/moritz/dev/uni/mcr-py/notebooks/../src/package/logger.py#37\u001b\\\u001b[2m37\u001b[0m\u001b]8;;\u001b\\\n"
      ]
     },
     "metadata": {},
     "output_type": "display_data"
    },
    {
     "name": "stdout",
     "output_type": "stream",
     "text": [
      "[66346] 647\n"
     ]
    },
    {
     "data": {
      "text/html": [
       "<pre style=\"white-space:pre;overflow-x:auto;line-height:normal;font-family:Menlo,'DejaVu Sans Mono',consolas,'Courier New',monospace\"><span style=\"color: #7fbfbf; text-decoration-color: #7fbfbf\">           </span><span style=\"color: #000080; text-decoration-color: #000080\">INFO    </span> Preparing input for MCRAPTOR step done <span style=\"font-weight: bold\">(</span><span style=\"color: #008080; text-decoration-color: #008080; font-weight: bold\">0.01</span> seconds<span style=\"font-weight: bold\">)</span>                              <a href=\"file:///home/moritz/dev/uni/mcr-py/notebooks/../src/package/logger.py\" target=\"_blank\"><span style=\"color: #7f7f7f; text-decoration-color: #7f7f7f\">logger.py</span></a><span style=\"color: #7f7f7f; text-decoration-color: #7f7f7f\">:</span><a href=\"file:///home/moritz/dev/uni/mcr-py/notebooks/../src/package/logger.py#37\" target=\"_blank\"><span style=\"color: #7f7f7f; text-decoration-color: #7f7f7f\">37</span></a>\n",
       "</pre>\n"
      ],
      "text/plain": [
       "\u001b[2;36m          \u001b[0m\u001b[2;36m \u001b[0m\u001b[34mINFO    \u001b[0m Preparing input for MCRAPTOR step done \u001b[1m(\u001b[0m\u001b[1;36m0.01\u001b[0m seconds\u001b[1m)\u001b[0m                              \u001b]8;id=364086;file:///home/moritz/dev/uni/mcr-py/notebooks/../src/package/logger.py\u001b\\\u001b[2mlogger.py\u001b[0m\u001b]8;;\u001b\\\u001b[2m:\u001b[0m\u001b]8;id=103183;file:///home/moritz/dev/uni/mcr-py/notebooks/../src/package/logger.py#37\u001b\\\u001b[2m37\u001b[0m\u001b]8;;\u001b\\\n"
      ]
     },
     "metadata": {},
     "output_type": "display_data"
    }
   ],
   "source": [
    "with mcr.timer.info(\"Preparing input for MCRAPTOR step\"):\n",
    "\tmc_raptor_bags = mcr.prepare_mcraptor_step_input(walking_result_bags)"
   ]
  },
  {
   "cell_type": "code",
   "execution_count": 80,
   "metadata": {},
   "outputs": [
    {
     "data": {
      "text/plain": [
       "{'641': {Label(29555)},\n",
       " '640': {Label(29795)},\n",
       " '649': {Label(29851)},\n",
       " '650': {Label(29690)},\n",
       " '817': {Label(29357)},\n",
       " '645': {Label(29789)},\n",
       " '644': {Label(29923)},\n",
       " '647': {McRAPTORLabelWithPath(time=28800, cost=0, n_stops=0, path=[66346])},\n",
       " '812': {Label(29171)},\n",
       " '813': {Label(29660)},\n",
       " '648': {Label(29544)},\n",
       " '842': {Label(29902)}}"
      ]
     },
     "execution_count": 80,
     "metadata": {},
     "output_type": "execute_result"
    }
   ],
   "source": [
    "mc_raptor_bags"
   ]
  },
  {
   "cell_type": "code",
   "execution_count": null,
   "metadata": {},
   "outputs": [],
   "source": [
    "with mcr.timer.info(\"Running MCRAPTOR step\"):\n",
    "\tmc_raptor = McRaptorSingle(\n",
    "\t\tmcr.geo_data.structs_dict,\n",
    "\t\tdefault_transfer_time=60,\n",
    "\t\tlabel_class=(\n",
    "\t\t\tMcRAPTORLabel if mcr.disable_paths else McRAPTORLabelWithPath\n",
    "\t\t),\n",
    "\t)\n",
    "\tmc_raptor_result_bags = mc_raptor.run(mc_raptor_bags)  # type: ignore\n",
    "\n",
    "with mcr.timer.info(\"Extracting MCRAPTOR step bags\"):\n",
    "\tmc_raptor_result_bags = mcr.convert_mc_raptor_bags(\n",
    "\t\tmc_raptor_result_bags, path_index_offset=offset\n",
    "\t)\n",
    "\tif len(mc_raptor_result_bags) == 0:\n",
    "\t\tmcr.logger.warn(\"No MCRAPTOR bags found\")"
   ]
  },
  {
   "cell_type": "code",
   "execution_count": 78,
   "metadata": {},
   "outputs": [
    {
     "name": "stderr",
     "output_type": "stream",
     "text": [
      "[autoreload of mcr_py failed: Traceback (most recent call last):\n",
      "  File \"/home/moritz/miniconda3/envs/mcr-py/lib/python3.10/site-packages/IPython/extensions/autoreload.py\", line 276, in check\n",
      "    superreload(m, reload, self.old_objects)\n",
      "  File \"/home/moritz/miniconda3/envs/mcr-py/lib/python3.10/site-packages/IPython/extensions/autoreload.py\", line 475, in superreload\n",
      "    module = reload(module)\n",
      "  File \"/home/moritz/miniconda3/envs/mcr-py/lib/python3.10/importlib/__init__.py\", line 169, in reload\n",
      "    _bootstrap._exec(spec, module)\n",
      "  File \"<frozen importlib._bootstrap>\", line 619, in _exec\n",
      "  File \"<frozen importlib._bootstrap_external>\", line 883, in exec_module\n",
      "  File \"<frozen importlib._bootstrap>\", line 241, in _call_with_frames_removed\n",
      "  File \"/home/moritz/miniconda3/envs/mcr-py/lib/python3.10/site-packages/mcr_py/__init__.py\", line 3, in <module>\n",
      "    __doc__ = mcr_py.__doc__\n",
      "NameError: name 'mcr_py' is not defined\n",
      "]\n"
     ]
    },
    {
     "data": {
      "text/html": [
       "<pre style=\"white-space:pre;overflow-x:auto;line-height:normal;font-family:Menlo,'DejaVu Sans Mono',consolas,'Courier New',monospace\"><span style=\"color: #7fbfbf; text-decoration-color: #7fbfbf\">[17:05:35] </span><span style=\"color: #000080; text-decoration-color: #000080\">INFO    </span> Preparing input for MCRAPTOR step                                                  <a href=\"file:///home/moritz/dev/uni/mcr-py/notebooks/../src/package/logger.py\" target=\"_blank\"><span style=\"color: #7f7f7f; text-decoration-color: #7f7f7f\">logger.py</span></a><span style=\"color: #7f7f7f; text-decoration-color: #7f7f7f\">:</span><a href=\"file:///home/moritz/dev/uni/mcr-py/notebooks/../src/package/logger.py#37\" target=\"_blank\"><span style=\"color: #7f7f7f; text-decoration-color: #7f7f7f\">37</span></a>\n",
       "</pre>\n"
      ],
      "text/plain": [
       "\u001b[2;36m[17:05:35]\u001b[0m\u001b[2;36m \u001b[0m\u001b[34mINFO    \u001b[0m Preparing input for MCRAPTOR step                                                  \u001b]8;id=922552;file:///home/moritz/dev/uni/mcr-py/notebooks/../src/package/logger.py\u001b\\\u001b[2mlogger.py\u001b[0m\u001b]8;;\u001b\\\u001b[2m:\u001b[0m\u001b]8;id=183999;file:///home/moritz/dev/uni/mcr-py/notebooks/../src/package/logger.py#37\u001b\\\u001b[2m37\u001b[0m\u001b]8;;\u001b\\\n"
      ]
     },
     "metadata": {},
     "output_type": "display_data"
    },
    {
     "data": {
      "text/html": [
       "<pre style=\"white-space:pre;overflow-x:auto;line-height:normal;font-family:Menlo,'DejaVu Sans Mono',consolas,'Courier New',monospace\"><span style=\"color: #7fbfbf; text-decoration-color: #7fbfbf\">           </span><span style=\"color: #000080; text-decoration-color: #000080\">INFO    </span> Preparing input for MCRAPTOR step done <span style=\"font-weight: bold\">(</span><span style=\"color: #008080; text-decoration-color: #008080; font-weight: bold\">0.01</span> seconds<span style=\"font-weight: bold\">)</span>                              <a href=\"file:///home/moritz/dev/uni/mcr-py/notebooks/../src/package/logger.py\" target=\"_blank\"><span style=\"color: #7f7f7f; text-decoration-color: #7f7f7f\">logger.py</span></a><span style=\"color: #7f7f7f; text-decoration-color: #7f7f7f\">:</span><a href=\"file:///home/moritz/dev/uni/mcr-py/notebooks/../src/package/logger.py#37\" target=\"_blank\"><span style=\"color: #7f7f7f; text-decoration-color: #7f7f7f\">37</span></a>\n",
       "</pre>\n"
      ],
      "text/plain": [
       "\u001b[2;36m          \u001b[0m\u001b[2;36m \u001b[0m\u001b[34mINFO    \u001b[0m Preparing input for MCRAPTOR step done \u001b[1m(\u001b[0m\u001b[1;36m0.01\u001b[0m seconds\u001b[1m)\u001b[0m                              \u001b]8;id=199182;file:///home/moritz/dev/uni/mcr-py/notebooks/../src/package/logger.py\u001b\\\u001b[2mlogger.py\u001b[0m\u001b]8;;\u001b\\\u001b[2m:\u001b[0m\u001b]8;id=372583;file:///home/moritz/dev/uni/mcr-py/notebooks/../src/package/logger.py#37\u001b\\\u001b[2m37\u001b[0m\u001b]8;;\u001b\\\n"
      ]
     },
     "metadata": {},
     "output_type": "display_data"
    },
    {
     "data": {
      "text/html": [
       "<pre style=\"white-space:pre;overflow-x:auto;line-height:normal;font-family:Menlo,'DejaVu Sans Mono',consolas,'Courier New',monospace\"><span style=\"color: #7fbfbf; text-decoration-color: #7fbfbf\">           </span><span style=\"color: #000080; text-decoration-color: #000080\">INFO    </span> Running MCRAPTOR step                                                              <a href=\"file:///home/moritz/dev/uni/mcr-py/notebooks/../src/package/logger.py\" target=\"_blank\"><span style=\"color: #7f7f7f; text-decoration-color: #7f7f7f\">logger.py</span></a><span style=\"color: #7f7f7f; text-decoration-color: #7f7f7f\">:</span><a href=\"file:///home/moritz/dev/uni/mcr-py/notebooks/../src/package/logger.py#37\" target=\"_blank\"><span style=\"color: #7f7f7f; text-decoration-color: #7f7f7f\">37</span></a>\n",
       "</pre>\n"
      ],
      "text/plain": [
       "\u001b[2;36m          \u001b[0m\u001b[2;36m \u001b[0m\u001b[34mINFO    \u001b[0m Running MCRAPTOR step                                                              \u001b]8;id=867587;file:///home/moritz/dev/uni/mcr-py/notebooks/../src/package/logger.py\u001b\\\u001b[2mlogger.py\u001b[0m\u001b]8;;\u001b\\\u001b[2m:\u001b[0m\u001b]8;id=262555;file:///home/moritz/dev/uni/mcr-py/notebooks/../src/package/logger.py#37\u001b\\\u001b[2m37\u001b[0m\u001b]8;;\u001b\\\n"
      ]
     },
     "metadata": {},
     "output_type": "display_data"
    },
    {
     "data": {
      "text/html": [
       "<pre style=\"white-space:pre;overflow-x:auto;line-height:normal;font-family:Menlo,'DejaVu Sans Mono',consolas,'Courier New',monospace\"><span style=\"color: #7fbfbf; text-decoration-color: #7fbfbf\">           </span><span style=\"color: #800000; text-decoration-color: #800000\">WARNING </span> Added <span style=\"color: #008080; text-decoration-color: #008080; font-weight: bold\">824</span> missing stops to bags <span style=\"font-weight: bold\">(</span><span style=\"color: #008080; text-decoration-color: #008080; font-weight: bold\">98.56</span>%<span style=\"font-weight: bold\">)</span>                                           <a href=\"file:///home/moritz/dev/uni/mcr-py/notebooks/../src/package/logger.py\" target=\"_blank\"><span style=\"color: #7f7f7f; text-decoration-color: #7f7f7f\">logger.py</span></a><span style=\"color: #7f7f7f; text-decoration-color: #7f7f7f\">:</span><a href=\"file:///home/moritz/dev/uni/mcr-py/notebooks/../src/package/logger.py#37\" target=\"_blank\"><span style=\"color: #7f7f7f; text-decoration-color: #7f7f7f\">37</span></a>\n",
       "</pre>\n"
      ],
      "text/plain": [
       "\u001b[2;36m          \u001b[0m\u001b[2;36m \u001b[0m\u001b[31mWARNING \u001b[0m Added \u001b[1;36m824\u001b[0m missing stops to bags \u001b[1m(\u001b[0m\u001b[1;36m98.56\u001b[0m%\u001b[1m)\u001b[0m                                           \u001b]8;id=931496;file:///home/moritz/dev/uni/mcr-py/notebooks/../src/package/logger.py\u001b\\\u001b[2mlogger.py\u001b[0m\u001b]8;;\u001b\\\u001b[2m:\u001b[0m\u001b]8;id=883643;file:///home/moritz/dev/uni/mcr-py/notebooks/../src/package/logger.py#37\u001b\\\u001b[2m37\u001b[0m\u001b]8;;\u001b\\\n"
      ]
     },
     "metadata": {},
     "output_type": "display_data"
    },
    {
     "name": "stdout",
     "output_type": "stream",
     "text": [
      "[McRAPTORLabelWithPath(time=29040, cost=220, n_stops=1, path=[66346, 'STOP_647', 'TRIP_9-151-001-467.2.21:064500-47-2_B7E643E3-5616-4606-9BDE-B03101412D17'])]\n",
      "[Label(29880), McRAPTORLabelWithPath(time=29100, cost=220, n_stops=2, path=[66346, 'STOP_647', 'TRIP_9-151-001-467.2.21:064500-47-2_B7E643E3-5616-4606-9BDE-B03101412D17'])]\n",
      "[McRAPTORLabelWithPath(time=29160, cost=220, n_stops=1, path=[66346, 'STOP_647', 'TRIP_119-151-001-814.2.22:080200-47-2_C26846EF-6A43-4C62-BC00-B0310141273C'])]\n",
      "[McRAPTORLabelWithPath(time=29220, cost=220, n_stops=2, path=[66346, 'STOP_647', 'TRIP_119-151-001-814.2.22:080200-47-2_C26846EF-6A43-4C62-BC00-B0310141273C']), Label(30420)]\n",
      "[McRAPTORLabelWithPath(time=29280, cost=220, n_stops=3, path=[66346, 'STOP_647', 'TRIP_119-151-001-814.2.22:080200-47-2_C26846EF-6A43-4C62-BC00-B0310141273C']), Label(30480)]\n",
      "[McRAPTORLabelWithPath(time=29340, cost=220, n_stops=4, path=[66346, 'STOP_647', 'TRIP_119-151-001-814.2.22:080200-47-2_C26846EF-6A43-4C62-BC00-B0310141273C']), Label(30540)]\n",
      "[McRAPTORLabelWithPath(time=29460, cost=320, n_stops=5, path=[66346, 'STOP_647', 'TRIP_119-151-001-814.2.22:080200-47-2_C26846EF-6A43-4C62-BC00-B0310141273C']), Label(30660)]\n",
      "[McRAPTORLabelWithPath(time=29520, cost=320, n_stops=6, path=[66346, 'STOP_647', 'TRIP_119-151-001-814.2.22:080200-47-2_C26846EF-6A43-4C62-BC00-B0310141273C']), Label(30720)]\n",
      "[McRAPTORLabelWithPath(time=29640, cost=320, n_stops=8, path=[66346, 'STOP_647', 'TRIP_119-151-001-814.2.22:080200-47-2_C26846EF-6A43-4C62-BC00-B0310141273C']), Label(30840)]\n",
      "[McRAPTORLabelWithPath(time=29760, cost=320, n_stops=9, path=[66346, 'STOP_647', 'TRIP_119-151-001-814.2.22:080200-47-2_C26846EF-6A43-4C62-BC00-B0310141273C']), Label(30960)]\n",
      "[McRAPTORLabelWithPath(time=29820, cost=320, n_stops=10, path=[66346, 'STOP_647', 'TRIP_119-151-001-814.2.22:080200-47-2_C26846EF-6A43-4C62-BC00-B0310141273C']), Label(31020)]\n",
      "[McRAPTORLabelWithPath(time=29880, cost=320, n_stops=11, path=[66346, 'STOP_647', 'TRIP_119-151-001-814.2.22:080200-47-2_C26846EF-6A43-4C62-BC00-B0310141273C']), Label(31080)]\n",
      "[McRAPTORLabelWithPath(time=30000, cost=320, n_stops=12, path=[66346, 'STOP_647', 'TRIP_119-151-001-814.2.22:080200-47-2_C26846EF-6A43-4C62-BC00-B0310141273C']), Label(31200)]\n",
      "[McRAPTORLabelWithPath(time=30120, cost=320, n_stops=13, path=[66346, 'STOP_647', 'TRIP_119-151-001-814.2.22:080200-47-2_C26846EF-6A43-4C62-BC00-B0310141273C']), Label(31320)]\n",
      "[McRAPTORLabelWithPath(time=30180, cost=320, n_stops=14, path=[66346, 'STOP_647', 'TRIP_119-151-001-814.2.22:080200-47-2_C26846EF-6A43-4C62-BC00-B0310141273C']), Label(31380)]\n",
      "[McRAPTORLabelWithPath(time=31380, cost=320, n_stops=23, path=[66346, 'STOP_647', 'TRIP_119-151-001-814.2.22:080200-47-2_C26846EF-6A43-4C62-BC00-B0310141273C']), Label(32580)]\n",
      "[McRAPTORLabelWithPath(time=31560, cost=320, n_stops=24, path=[66346, 'STOP_647', 'TRIP_119-151-001-814.2.22:080200-47-2_C26846EF-6A43-4C62-BC00-B0310141273C']), Label(32760)]\n",
      "[McRAPTORLabelWithPath(time=31740, cost=320, n_stops=25, path=[66346, 'STOP_647', 'TRIP_119-151-001-814.2.22:080200-47-2_C26846EF-6A43-4C62-BC00-B0310141273C']), Label(32940)]\n",
      "[McRAPTORLabelWithPath(time=31980, cost=320, n_stops=26, path=[66346, 'STOP_647', 'TRIP_119-151-001-814.2.22:080200-47-2_C26846EF-6A43-4C62-BC00-B0310141273C']), Label(33180)]\n",
      "[McRAPTORLabelWithPath(time=32040, cost=320, n_stops=27, path=[66346, 'STOP_647', 'TRIP_119-151-001-814.2.22:080200-47-2_C26846EF-6A43-4C62-BC00-B0310141273C']), Label(33240)]\n",
      "[McRAPTORLabelWithPath(time=32100, cost=320, n_stops=28, path=[66346, 'STOP_647', 'TRIP_119-151-001-814.2.22:080200-47-2_C26846EF-6A43-4C62-BC00-B0310141273C']), Label(33300)]\n",
      "[McRAPTORLabelWithPath(time=32160, cost=320, n_stops=29, path=[66346, 'STOP_647', 'TRIP_119-151-001-814.2.22:080200-47-2_C26846EF-6A43-4C62-BC00-B0310141273C']), Label(33360)]\n",
      "[McRAPTORLabelWithPath(time=32280, cost=320, n_stops=30, path=[66346, 'STOP_647', 'TRIP_119-151-001-814.2.22:080200-47-2_C26846EF-6A43-4C62-BC00-B0310141273C']), Label(33480)]\n",
      "[McRAPTORLabelWithPath(time=32340, cost=320, n_stops=31, path=[66346, 'STOP_647', 'TRIP_119-151-001-814.2.22:080200-47-2_C26846EF-6A43-4C62-BC00-B0310141273C']), Label(33540)]\n",
      "[McRAPTORLabelWithPath(time=32400, cost=320, n_stops=32, path=[66346, 'STOP_647', 'TRIP_119-151-001-814.2.22:080200-47-2_C26846EF-6A43-4C62-BC00-B0310141273C']), Label(33600)]\n",
      "[McRAPTORLabelWithPath(time=32580, cost=320, n_stops=33, path=[66346, 'STOP_647', 'TRIP_119-151-001-814.2.22:080200-47-2_C26846EF-6A43-4C62-BC00-B0310141273C']), Label(33780)]\n",
      "[McRAPTORLabelWithPath(time=32700, cost=320, n_stops=34, path=[66346, 'STOP_647', 'TRIP_119-151-001-814.2.22:080200-47-2_C26846EF-6A43-4C62-BC00-B0310141273C']), Label(33900)]\n",
      "[McRAPTORLabelWithPath(time=32760, cost=320, n_stops=35, path=[66346, 'STOP_647', 'TRIP_119-151-001-814.2.22:080200-47-2_C26846EF-6A43-4C62-BC00-B0310141273C']), Label(33960)]\n",
      "[McRAPTORLabelWithPath(time=32940, cost=320, n_stops=36, path=[66346, 'STOP_647', 'TRIP_119-151-001-814.2.22:080200-47-2_C26846EF-6A43-4C62-BC00-B0310141273C']), Label(34140)]\n",
      "[McRAPTORLabelWithPath(time=33060, cost=320, n_stops=37, path=[66346, 'STOP_647', 'TRIP_119-151-001-814.2.22:080200-47-2_C26846EF-6A43-4C62-BC00-B0310141273C']), Label(34260)]\n",
      "[McRAPTORLabelWithPath(time=33120, cost=320, n_stops=38, path=[66346, 'STOP_647', 'TRIP_119-151-001-814.2.22:080200-47-2_C26846EF-6A43-4C62-BC00-B0310141273C']), Label(34320)]\n",
      "[McRAPTORLabelWithPath(time=33240, cost=320, n_stops=39, path=[66346, 'STOP_647', 'TRIP_119-151-001-814.2.22:080200-47-2_C26846EF-6A43-4C62-BC00-B0310141273C']), Label(34440)]\n",
      "[McRAPTORLabelWithPath(time=33360, cost=320, n_stops=40, path=[66346, 'STOP_647', 'TRIP_119-151-001-814.2.22:080200-47-2_C26846EF-6A43-4C62-BC00-B0310141273C']), Label(34560)]\n",
      "[McRAPTORLabelWithPath(time=33420, cost=320, n_stops=41, path=[66346, 'STOP_647', 'TRIP_119-151-001-814.2.22:080200-47-2_C26846EF-6A43-4C62-BC00-B0310141273C']), Label(34620)]\n",
      "[McRAPTORLabelWithPath(time=33480, cost=320, n_stops=42, path=[66346, 'STOP_647', 'TRIP_119-151-001-814.2.22:080200-47-2_C26846EF-6A43-4C62-BC00-B0310141273C']), Label(34680)]\n",
      "[McRAPTORLabelWithPath(time=33540, cost=320, n_stops=43, path=[66346, 'STOP_647', 'TRIP_119-151-001-814.2.22:080200-47-2_C26846EF-6A43-4C62-BC00-B0310141273C']), Label(34740)]\n",
      "[McRAPTORLabelWithPath(time=33660, cost=320, n_stops=44, path=[66346, 'STOP_647', 'TRIP_119-151-001-814.2.22:080200-47-2_C26846EF-6A43-4C62-BC00-B0310141273C']), Label(34860)]\n",
      "[Label(30300)]\n",
      "[Label(30360)]\n",
      "[Label(30420)]\n"
     ]
    },
    {
     "data": {
      "text/html": [
       "<pre style=\"white-space:pre;overflow-x:auto;line-height:normal;font-family:Menlo,'DejaVu Sans Mono',consolas,'Courier New',monospace\"><span style=\"color: #7fbfbf; text-decoration-color: #7fbfbf\">           </span><span style=\"color: #000080; text-decoration-color: #000080\">INFO    </span> Running MCRAPTOR step done <span style=\"font-weight: bold\">(</span><span style=\"color: #008080; text-decoration-color: #008080; font-weight: bold\">0.03</span> seconds<span style=\"font-weight: bold\">)</span>                                          <a href=\"file:///home/moritz/dev/uni/mcr-py/notebooks/../src/package/logger.py\" target=\"_blank\"><span style=\"color: #7f7f7f; text-decoration-color: #7f7f7f\">logger.py</span></a><span style=\"color: #7f7f7f; text-decoration-color: #7f7f7f\">:</span><a href=\"file:///home/moritz/dev/uni/mcr-py/notebooks/../src/package/logger.py#37\" target=\"_blank\"><span style=\"color: #7f7f7f; text-decoration-color: #7f7f7f\">37</span></a>\n",
       "</pre>\n"
      ],
      "text/plain": [
       "\u001b[2;36m          \u001b[0m\u001b[2;36m \u001b[0m\u001b[34mINFO    \u001b[0m Running MCRAPTOR step done \u001b[1m(\u001b[0m\u001b[1;36m0.03\u001b[0m seconds\u001b[1m)\u001b[0m                                          \u001b]8;id=933306;file:///home/moritz/dev/uni/mcr-py/notebooks/../src/package/logger.py\u001b\\\u001b[2mlogger.py\u001b[0m\u001b]8;;\u001b\\\u001b[2m:\u001b[0m\u001b]8;id=802415;file:///home/moritz/dev/uni/mcr-py/notebooks/../src/package/logger.py#37\u001b\\\u001b[2m37\u001b[0m\u001b]8;;\u001b\\\n"
      ]
     },
     "metadata": {},
     "output_type": "display_data"
    },
    {
     "data": {
      "text/html": [
       "<pre style=\"white-space:pre;overflow-x:auto;line-height:normal;font-family:Menlo,'DejaVu Sans Mono',consolas,'Courier New',monospace\"><span style=\"color: #7fbfbf; text-decoration-color: #7fbfbf\">           </span><span style=\"color: #000080; text-decoration-color: #000080\">INFO    </span> Extracting MCRAPTOR step bags                                                      <a href=\"file:///home/moritz/dev/uni/mcr-py/notebooks/../src/package/logger.py\" target=\"_blank\"><span style=\"color: #7f7f7f; text-decoration-color: #7f7f7f\">logger.py</span></a><span style=\"color: #7f7f7f; text-decoration-color: #7f7f7f\">:</span><a href=\"file:///home/moritz/dev/uni/mcr-py/notebooks/../src/package/logger.py#37\" target=\"_blank\"><span style=\"color: #7f7f7f; text-decoration-color: #7f7f7f\">37</span></a>\n",
       "</pre>\n"
      ],
      "text/plain": [
       "\u001b[2;36m          \u001b[0m\u001b[2;36m \u001b[0m\u001b[34mINFO    \u001b[0m Extracting MCRAPTOR step bags                                                      \u001b]8;id=802000;file:///home/moritz/dev/uni/mcr-py/notebooks/../src/package/logger.py\u001b\\\u001b[2mlogger.py\u001b[0m\u001b]8;;\u001b\\\u001b[2m:\u001b[0m\u001b]8;id=751091;file:///home/moritz/dev/uni/mcr-py/notebooks/../src/package/logger.py#37\u001b\\\u001b[2m37\u001b[0m\u001b]8;;\u001b\\\n"
      ]
     },
     "metadata": {},
     "output_type": "display_data"
    },
    {
     "data": {
      "text/html": [
       "<pre style=\"white-space:pre;overflow-x:auto;line-height:normal;font-family:Menlo,'DejaVu Sans Mono',consolas,'Courier New',monospace\"><span style=\"color: #7fbfbf; text-decoration-color: #7fbfbf\">           </span><span style=\"color: #000080; text-decoration-color: #000080\">INFO    </span> Extracting MCRAPTOR step bags failed <span style=\"font-weight: bold\">(</span><span style=\"color: #008080; text-decoration-color: #008080; font-weight: bold\">0.01</span> seconds<span style=\"font-weight: bold\">)</span>                                <a href=\"file:///home/moritz/dev/uni/mcr-py/notebooks/../src/package/logger.py\" target=\"_blank\"><span style=\"color: #7f7f7f; text-decoration-color: #7f7f7f\">logger.py</span></a><span style=\"color: #7f7f7f; text-decoration-color: #7f7f7f\">:</span><a href=\"file:///home/moritz/dev/uni/mcr-py/notebooks/../src/package/logger.py#37\" target=\"_blank\"><span style=\"color: #7f7f7f; text-decoration-color: #7f7f7f\">37</span></a>\n",
       "</pre>\n"
      ],
      "text/plain": [
       "\u001b[2;36m          \u001b[0m\u001b[2;36m \u001b[0m\u001b[34mINFO    \u001b[0m Extracting MCRAPTOR step bags failed \u001b[1m(\u001b[0m\u001b[1;36m0.01\u001b[0m seconds\u001b[1m)\u001b[0m                                \u001b]8;id=977370;file:///home/moritz/dev/uni/mcr-py/notebooks/../src/package/logger.py\u001b\\\u001b[2mlogger.py\u001b[0m\u001b]8;;\u001b\\\u001b[2m:\u001b[0m\u001b]8;id=302703;file:///home/moritz/dev/uni/mcr-py/notebooks/../src/package/logger.py#37\u001b\\\u001b[2m37\u001b[0m\u001b]8;;\u001b\\\n"
      ]
     },
     "metadata": {},
     "output_type": "display_data"
    },
    {
     "ename": "ValueError",
     "evalue": "Expected McRAPTORLabel, got <class 'package.mcr.label.McRAPTORLabel'> instead",
     "output_type": "error",
     "traceback": [
      "\u001b[0;31m---------------------------------------------------------------------------\u001b[0m",
      "\u001b[0;31mValueError\u001b[0m                                Traceback (most recent call last)",
      "\u001b[1;32m/home/moritz/dev/uni/mcr-py/notebooks/mcr.ipynb Cell 15\u001b[0m line \u001b[0;36m1\n\u001b[0;32m----> <a href='vscode-notebook-cell:/home/moritz/dev/uni/mcr-py/notebooks/mcr.ipynb#X66sZmlsZQ%3D%3D?line=0'>1</a>\u001b[0m mc_raptor_result_bags \u001b[39m=\u001b[39m mcr\u001b[39m.\u001b[39;49mrun_mc_raptor_step(walking_result_bags, offset)\n",
      "File \u001b[0;32m~/dev/uni/mcr-py/notebooks/../src/package/mcr/mcr.py:151\u001b[0m, in \u001b[0;36mMCR.run_mc_raptor_step\u001b[0;34m(self, walking_result_bags, offset)\u001b[0m\n\u001b[1;32m    148\u001b[0m     mc_raptor_result_bags \u001b[39m=\u001b[39m mc_raptor\u001b[39m.\u001b[39mrun(mc_raptor_bags)  \u001b[39m# type: ignore\u001b[39;00m\n\u001b[1;32m    150\u001b[0m \u001b[39mwith\u001b[39;00m \u001b[39mself\u001b[39m\u001b[39m.\u001b[39mtimer\u001b[39m.\u001b[39minfo(\u001b[39m\"\u001b[39m\u001b[39mExtracting MCRAPTOR step bags\u001b[39m\u001b[39m\"\u001b[39m):\n\u001b[0;32m--> 151\u001b[0m     mc_raptor_result_bags \u001b[39m=\u001b[39m \u001b[39mself\u001b[39;49m\u001b[39m.\u001b[39;49mconvert_mc_raptor_bags(\n\u001b[1;32m    152\u001b[0m         mc_raptor_result_bags, path_index_offset\u001b[39m=\u001b[39;49moffset\n\u001b[1;32m    153\u001b[0m     )\n\u001b[1;32m    154\u001b[0m     \u001b[39mif\u001b[39;00m \u001b[39mlen\u001b[39m(mc_raptor_result_bags) \u001b[39m==\u001b[39m \u001b[39m0\u001b[39m:\n\u001b[1;32m    155\u001b[0m         \u001b[39mself\u001b[39m\u001b[39m.\u001b[39mlogger\u001b[39m.\u001b[39mwarn(\u001b[39m\"\u001b[39m\u001b[39mNo MCRAPTOR bags found\u001b[39m\u001b[39m\"\u001b[39m)\n",
      "File \u001b[0;32m~/dev/uni/mcr-py/notebooks/../src/package/mcr/mcr.py:290\u001b[0m, in \u001b[0;36mMCR.convert_mc_raptor_bags\u001b[0;34m(self, bags, path_index_offset)\u001b[0m\n\u001b[1;32m    277\u001b[0m \u001b[39m\u001b[39m\u001b[39m\"\"\"\u001b[39;00m\n\u001b[1;32m    278\u001b[0m \u001b[39mConverts the bags from the McRAPTOR step to the intermediate bags\u001b[39;00m\n\u001b[1;32m    279\u001b[0m \u001b[39mformat.\u001b[39;00m\n\u001b[0;32m   (...)\u001b[0m\n\u001b[1;32m    284\u001b[0m \u001b[39m    be set to the length of the path before the step.\u001b[39;00m\n\u001b[1;32m    285\u001b[0m \u001b[39m\"\"\"\u001b[39;00m\n\u001b[1;32m    286\u001b[0m mc_raptor_result_bags \u001b[39m=\u001b[39m {\n\u001b[1;32m    287\u001b[0m     \u001b[39mself\u001b[39m\u001b[39m.\u001b[39mgeo_data\u001b[39m.\u001b[39mstop_to_osm_node_map[\u001b[39mint\u001b[39m(stop_id)]: bag\n\u001b[1;32m    288\u001b[0m     \u001b[39mfor\u001b[39;00m stop_id, bag \u001b[39min\u001b[39;00m bags\u001b[39m.\u001b[39mitems()\n\u001b[1;32m    289\u001b[0m }\n\u001b[0;32m--> 290\u001b[0m mc_raptor_result_bags \u001b[39m=\u001b[39m convert_mc_raptor_bags_to_intermediate_bags(\n\u001b[1;32m    291\u001b[0m     mc_raptor_result_bags,\n\u001b[1;32m    292\u001b[0m     min_path_length\u001b[39m=\u001b[39;49mpath_index_offset \u001b[39m+\u001b[39;49m \u001b[39m1\u001b[39;49m,\n\u001b[1;32m    293\u001b[0m )\n\u001b[1;32m    294\u001b[0m \u001b[39mif\u001b[39;00m \u001b[39mself\u001b[39m\u001b[39m.\u001b[39mpath_manager:\n\u001b[1;32m    295\u001b[0m     \u001b[39mself\u001b[39m\u001b[39m.\u001b[39mpath_manager\u001b[39m.\u001b[39mextract_all_paths_from_bags(\n\u001b[1;32m    296\u001b[0m         mc_raptor_result_bags,\n\u001b[1;32m    297\u001b[0m         PathType\u001b[39m.\u001b[39mPUBLIC_TRANSPORT,\n\u001b[1;32m    298\u001b[0m         path_index_offset\u001b[39m=\u001b[39mpath_index_offset,\n\u001b[1;32m    299\u001b[0m     )\n",
      "File \u001b[0;32m~/dev/uni/mcr-py/notebooks/../src/package/mcr/bag.py:39\u001b[0m, in \u001b[0;36mconvert_mc_raptor_bags_to_intermediate_bags\u001b[0;34m(bags, min_path_length)\u001b[0m\n\u001b[1;32m     37\u001b[0m \u001b[39mfor\u001b[39;00m label \u001b[39min\u001b[39;00m bag:  \u001b[39m# type: ignore\u001b[39;00m\n\u001b[1;32m     38\u001b[0m     \u001b[39mif\u001b[39;00m \u001b[39mnot\u001b[39;00m \u001b[39misinstance\u001b[39m(label, McRAPTORLabel):\n\u001b[0;32m---> 39\u001b[0m         \u001b[39mraise\u001b[39;00m \u001b[39mValueError\u001b[39;00m(\n\u001b[1;32m     40\u001b[0m             \u001b[39mf\u001b[39m\u001b[39m\"\u001b[39m\u001b[39mExpected McRAPTORLabel, got \u001b[39m\u001b[39m{\u001b[39;00m\u001b[39mstr\u001b[39m(\u001b[39mtype\u001b[39m(label))\u001b[39m}\u001b[39;00m\u001b[39m instead\u001b[39m\u001b[39m\"\u001b[39m\n\u001b[1;32m     41\u001b[0m         )\n\u001b[1;32m     43\u001b[0m     label: McRAPTORLabel \u001b[39m=\u001b[39m label\n\u001b[1;32m     44\u001b[0m     \u001b[39mif\u001b[39;00m (\n\u001b[1;32m     45\u001b[0m         \u001b[39misinstance\u001b[39m(label, McRAPTORLabelWithPath)\n\u001b[1;32m     46\u001b[0m         \u001b[39mand\u001b[39;00m \u001b[39mlen\u001b[39m(label\u001b[39m.\u001b[39mpath) \u001b[39m<\u001b[39m min_path_length\n\u001b[1;32m     47\u001b[0m     ):\n",
      "\u001b[0;31mValueError\u001b[0m: Expected McRAPTORLabel, got <class 'package.mcr.label.McRAPTORLabel'> instead"
     ]
    }
   ],
   "source": [
    "mc_raptor_result_bags = mcr.run_mc_raptor_step(walking_result_bags, offset)"
   ]
  },
  {
   "cell_type": "code",
   "execution_count": 70,
   "metadata": {},
   "outputs": [
    {
     "name": "stderr",
     "output_type": "stream",
     "text": [
      "[autoreload of mcr_py failed: Traceback (most recent call last):\n",
      "  File \"/home/moritz/miniconda3/envs/mcr-py/lib/python3.10/site-packages/IPython/extensions/autoreload.py\", line 276, in check\n",
      "    superreload(m, reload, self.old_objects)\n",
      "  File \"/home/moritz/miniconda3/envs/mcr-py/lib/python3.10/site-packages/IPython/extensions/autoreload.py\", line 475, in superreload\n",
      "    module = reload(module)\n",
      "  File \"/home/moritz/miniconda3/envs/mcr-py/lib/python3.10/importlib/__init__.py\", line 169, in reload\n",
      "    _bootstrap._exec(spec, module)\n",
      "  File \"<frozen importlib._bootstrap>\", line 619, in _exec\n",
      "  File \"<frozen importlib._bootstrap_external>\", line 883, in exec_module\n",
      "  File \"<frozen importlib._bootstrap>\", line 241, in _call_with_frames_removed\n",
      "  File \"/home/moritz/miniconda3/envs/mcr-py/lib/python3.10/site-packages/mcr_py/__init__.py\", line 3, in <module>\n",
      "    __doc__ = mcr_py.__doc__\n",
      "NameError: name 'mcr_py' is not defined\n",
      "]\n"
     ]
    },
    {
     "data": {
      "text/plain": [
       "37"
      ]
     },
     "execution_count": 70,
     "metadata": {},
     "output_type": "execute_result"
    }
   ],
   "source": [
    "test = pd.DataFrame(\n",
    "    [(label.path, label) for bag in mc_raptor_result_bags.values() for label in bag],\n",
    "    columns=[\"path\", \"label\"],\n",
    ")\n",
    "len(test[test.path.apply(lambda x: len(x) > 1)])"
   ]
  },
  {
   "cell_type": "code",
   "execution_count": 19,
   "metadata": {},
   "outputs": [
    {
     "data": {
      "text/html": [
       "<pre style=\"white-space:pre;overflow-x:auto;line-height:normal;font-family:Menlo,'DejaVu Sans Mono',consolas,'Courier New',monospace\"><span style=\"color: #7fbfbf; text-decoration-color: #7fbfbf\">[16:44:28] </span><span style=\"color: #000080; text-decoration-color: #000080\">INFO    </span> Merging bags                                                                       <a href=\"file:///home/moritz/dev/uni/mcr-py/notebooks/../src/package/logger.py\" target=\"_blank\"><span style=\"color: #7f7f7f; text-decoration-color: #7f7f7f\">logger.py</span></a><span style=\"color: #7f7f7f; text-decoration-color: #7f7f7f\">:</span><a href=\"file:///home/moritz/dev/uni/mcr-py/notebooks/../src/package/logger.py#37\" target=\"_blank\"><span style=\"color: #7f7f7f; text-decoration-color: #7f7f7f\">37</span></a>\n",
       "</pre>\n"
      ],
      "text/plain": [
       "\u001b[2;36m[16:44:28]\u001b[0m\u001b[2;36m \u001b[0m\u001b[34mINFO    \u001b[0m Merging bags                                                                       \u001b]8;id=120878;file:///home/moritz/dev/uni/mcr-py/notebooks/../src/package/logger.py\u001b\\\u001b[2mlogger.py\u001b[0m\u001b]8;;\u001b\\\u001b[2m:\u001b[0m\u001b]8;id=304956;file:///home/moritz/dev/uni/mcr-py/notebooks/../src/package/logger.py#37\u001b\\\u001b[2m37\u001b[0m\u001b]8;;\u001b\\\n"
      ]
     },
     "metadata": {},
     "output_type": "display_data"
    },
    {
     "data": {
      "text/html": [
       "<pre style=\"white-space:pre;overflow-x:auto;line-height:normal;font-family:Menlo,'DejaVu Sans Mono',consolas,'Courier New',monospace\"><span style=\"color: #7fbfbf; text-decoration-color: #7fbfbf\">           </span><span style=\"color: #000080; text-decoration-color: #000080\">INFO    </span> Merging bags done <span style=\"font-weight: bold\">(</span><span style=\"color: #008080; text-decoration-color: #008080; font-weight: bold\">0.01</span> seconds<span style=\"font-weight: bold\">)</span>                                                   <a href=\"file:///home/moritz/dev/uni/mcr-py/notebooks/../src/package/logger.py\" target=\"_blank\"><span style=\"color: #7f7f7f; text-decoration-color: #7f7f7f\">logger.py</span></a><span style=\"color: #7f7f7f; text-decoration-color: #7f7f7f\">:</span><a href=\"file:///home/moritz/dev/uni/mcr-py/notebooks/../src/package/logger.py#37\" target=\"_blank\"><span style=\"color: #7f7f7f; text-decoration-color: #7f7f7f\">37</span></a>\n",
       "</pre>\n"
      ],
      "text/plain": [
       "\u001b[2;36m          \u001b[0m\u001b[2;36m \u001b[0m\u001b[34mINFO    \u001b[0m Merging bags done \u001b[1m(\u001b[0m\u001b[1;36m0.01\u001b[0m seconds\u001b[1m)\u001b[0m                                                   \u001b]8;id=417654;file:///home/moritz/dev/uni/mcr-py/notebooks/../src/package/logger.py\u001b\\\u001b[2mlogger.py\u001b[0m\u001b]8;;\u001b\\\u001b[2m:\u001b[0m\u001b]8;id=859141;file:///home/moritz/dev/uni/mcr-py/notebooks/../src/package/logger.py#37\u001b\\\u001b[2m37\u001b[0m\u001b]8;;\u001b\\\n"
      ]
     },
     "metadata": {},
     "output_type": "display_data"
    }
   ],
   "source": [
    "with mcr.timer.info(\"Merging bags\"):\n",
    "\tcombined_bags = mcr.merge_bags(\n",
    "\t\tbicycle_result_bags,\n",
    "\t\tmc_raptor_result_bags,\n",
    "\t)"
   ]
  },
  {
   "cell_type": "code",
   "execution_count": null,
   "metadata": {},
   "outputs": [],
   "source": [
    "with mcr.timer.info(\"Preparing input for walking step\"):\n",
    "\twalking_bags = mcr.prepare_walking_step_input(combined_bags)"
   ]
  },
  {
   "cell_type": "code",
   "execution_count": 45,
   "metadata": {},
   "outputs": [
    {
     "data": {
      "text/plain": [
       "37"
      ]
     },
     "execution_count": 45,
     "metadata": {},
     "output_type": "execute_result"
    }
   ],
   "source": [
    "test = pd.DataFrame(\n",
    "    [(label.path, label) for bag in walking_result_bags.values() for label in bag],\n",
    "    columns=[\"path\", \"label\"],\n",
    ")\n",
    "len(test[test.path.apply(lambda x: len(x) > 1)])"
   ]
  },
  {
   "cell_type": "code",
   "execution_count": 21,
   "metadata": {},
   "outputs": [
    {
     "data": {
      "text/html": [
       "<pre style=\"white-space:pre;overflow-x:auto;line-height:normal;font-family:Menlo,'DejaVu Sans Mono',consolas,'Courier New',monospace\"><span style=\"color: #7fbfbf; text-decoration-color: #7fbfbf\">[16:44:39] </span><span style=\"color: #000080; text-decoration-color: #000080\">INFO    </span> Preparing input for walking step                                                   <a href=\"file:///home/moritz/dev/uni/mcr-py/notebooks/../src/package/logger.py\" target=\"_blank\"><span style=\"color: #7f7f7f; text-decoration-color: #7f7f7f\">logger.py</span></a><span style=\"color: #7f7f7f; text-decoration-color: #7f7f7f\">:</span><a href=\"file:///home/moritz/dev/uni/mcr-py/notebooks/../src/package/logger.py#37\" target=\"_blank\"><span style=\"color: #7f7f7f; text-decoration-color: #7f7f7f\">37</span></a>\n",
       "</pre>\n"
      ],
      "text/plain": [
       "\u001b[2;36m[16:44:39]\u001b[0m\u001b[2;36m \u001b[0m\u001b[34mINFO    \u001b[0m Preparing input for walking step                                                   \u001b]8;id=575204;file:///home/moritz/dev/uni/mcr-py/notebooks/../src/package/logger.py\u001b\\\u001b[2mlogger.py\u001b[0m\u001b]8;;\u001b\\\u001b[2m:\u001b[0m\u001b]8;id=325872;file:///home/moritz/dev/uni/mcr-py/notebooks/../src/package/logger.py#37\u001b\\\u001b[2m37\u001b[0m\u001b]8;;\u001b\\\n"
      ]
     },
     "metadata": {},
     "output_type": "display_data"
    },
    {
     "data": {
      "text/html": [
       "<pre style=\"white-space:pre;overflow-x:auto;line-height:normal;font-family:Menlo,'DejaVu Sans Mono',consolas,'Courier New',monospace\"><span style=\"color: #7fbfbf; text-decoration-color: #7fbfbf\">           </span><span style=\"color: #000080; text-decoration-color: #000080\">INFO    </span> Preparing input for walking step done <span style=\"font-weight: bold\">(</span><span style=\"color: #008080; text-decoration-color: #008080; font-weight: bold\">0.22</span> seconds<span style=\"font-weight: bold\">)</span>                               <a href=\"file:///home/moritz/dev/uni/mcr-py/notebooks/../src/package/logger.py\" target=\"_blank\"><span style=\"color: #7f7f7f; text-decoration-color: #7f7f7f\">logger.py</span></a><span style=\"color: #7f7f7f; text-decoration-color: #7f7f7f\">:</span><a href=\"file:///home/moritz/dev/uni/mcr-py/notebooks/../src/package/logger.py#37\" target=\"_blank\"><span style=\"color: #7f7f7f; text-decoration-color: #7f7f7f\">37</span></a>\n",
       "</pre>\n"
      ],
      "text/plain": [
       "\u001b[2;36m          \u001b[0m\u001b[2;36m \u001b[0m\u001b[34mINFO    \u001b[0m Preparing input for walking step done \u001b[1m(\u001b[0m\u001b[1;36m0.22\u001b[0m seconds\u001b[1m)\u001b[0m                               \u001b]8;id=62469;file:///home/moritz/dev/uni/mcr-py/notebooks/../src/package/logger.py\u001b\\\u001b[2mlogger.py\u001b[0m\u001b]8;;\u001b\\\u001b[2m:\u001b[0m\u001b]8;id=169291;file:///home/moritz/dev/uni/mcr-py/notebooks/../src/package/logger.py#37\u001b\\\u001b[2m37\u001b[0m\u001b]8;;\u001b\\\n"
      ]
     },
     "metadata": {},
     "output_type": "display_data"
    },
    {
     "data": {
      "text/html": [
       "<pre style=\"white-space:pre;overflow-x:auto;line-height:normal;font-family:Menlo,'DejaVu Sans Mono',consolas,'Courier New',monospace\"><span style=\"color: #7fbfbf; text-decoration-color: #7fbfbf\">           </span><span style=\"color: #000080; text-decoration-color: #000080\">INFO    </span> Running walking step                                                               <a href=\"file:///home/moritz/dev/uni/mcr-py/notebooks/../src/package/logger.py\" target=\"_blank\"><span style=\"color: #7f7f7f; text-decoration-color: #7f7f7f\">logger.py</span></a><span style=\"color: #7f7f7f; text-decoration-color: #7f7f7f\">:</span><a href=\"file:///home/moritz/dev/uni/mcr-py/notebooks/../src/package/logger.py#37\" target=\"_blank\"><span style=\"color: #7f7f7f; text-decoration-color: #7f7f7f\">37</span></a>\n",
       "</pre>\n"
      ],
      "text/plain": [
       "\u001b[2;36m          \u001b[0m\u001b[2;36m \u001b[0m\u001b[34mINFO    \u001b[0m Running walking step                                                               \u001b]8;id=851005;file:///home/moritz/dev/uni/mcr-py/notebooks/../src/package/logger.py\u001b\\\u001b[2mlogger.py\u001b[0m\u001b]8;;\u001b\\\u001b[2m:\u001b[0m\u001b]8;id=728597;file:///home/moritz/dev/uni/mcr-py/notebooks/../src/package/logger.py#37\u001b\\\u001b[2m37\u001b[0m\u001b]8;;\u001b\\\n"
      ]
     },
     "metadata": {},
     "output_type": "display_data"
    },
    {
     "name": "stderr",
     "output_type": "stream",
     "text": [
      "thread '<unnamed>' panicked at 'called `Result::unwrap()` on an `Err` value: PyErr { type: <class 'TypeError'>, value: TypeError(\"'str' object cannot be interpreted as an integer\"), traceback: None }', src/rs/mlc_adapter.rs:142:18\n",
      "note: run with `RUST_BACKTRACE=1` environment variable to display a backtrace\n"
     ]
    },
    {
     "data": {
      "text/html": [
       "<pre style=\"white-space:pre;overflow-x:auto;line-height:normal;font-family:Menlo,'DejaVu Sans Mono',consolas,'Courier New',monospace\"><span style=\"color: #7fbfbf; text-decoration-color: #7fbfbf\">           </span><span style=\"color: #000080; text-decoration-color: #000080\">INFO    </span> Running walking step failed <span style=\"font-weight: bold\">(</span><span style=\"color: #008080; text-decoration-color: #008080; font-weight: bold\">0.01</span> seconds<span style=\"font-weight: bold\">)</span>                                         <a href=\"file:///home/moritz/dev/uni/mcr-py/notebooks/../src/package/logger.py\" target=\"_blank\"><span style=\"color: #7f7f7f; text-decoration-color: #7f7f7f\">logger.py</span></a><span style=\"color: #7f7f7f; text-decoration-color: #7f7f7f\">:</span><a href=\"file:///home/moritz/dev/uni/mcr-py/notebooks/../src/package/logger.py#37\" target=\"_blank\"><span style=\"color: #7f7f7f; text-decoration-color: #7f7f7f\">37</span></a>\n",
       "</pre>\n"
      ],
      "text/plain": [
       "\u001b[2;36m          \u001b[0m\u001b[2;36m \u001b[0m\u001b[34mINFO    \u001b[0m Running walking step failed \u001b[1m(\u001b[0m\u001b[1;36m0.01\u001b[0m seconds\u001b[1m)\u001b[0m                                         \u001b]8;id=403815;file:///home/moritz/dev/uni/mcr-py/notebooks/../src/package/logger.py\u001b\\\u001b[2mlogger.py\u001b[0m\u001b]8;;\u001b\\\u001b[2m:\u001b[0m\u001b]8;id=883290;file:///home/moritz/dev/uni/mcr-py/notebooks/../src/package/logger.py#37\u001b\\\u001b[2m37\u001b[0m\u001b]8;;\u001b\\\n"
      ]
     },
     "metadata": {},
     "output_type": "display_data"
    },
    {
     "ename": "PanicException",
     "evalue": "called `Result::unwrap()` on an `Err` value: PyErr { type: <class 'TypeError'>, value: TypeError(\"'str' object cannot be interpreted as an integer\"), traceback: None }",
     "output_type": "error",
     "traceback": [
      "\u001b[0;31m---------------------------------------------------------------------------\u001b[0m",
      "\u001b[0;31mPanicException\u001b[0m                            Traceback (most recent call last)",
      "\u001b[1;32m/home/moritz/dev/uni/mcr-py/notebooks/mcr.ipynb Cell 16\u001b[0m line \u001b[0;36m6\n\u001b[1;32m      <a href='vscode-notebook-cell:/home/moritz/dev/uni/mcr-py/notebooks/mcr.ipynb#Y101sZmlsZQ%3D%3D?line=1'>2</a>\u001b[0m \twalking_bags \u001b[39m=\u001b[39m mcr\u001b[39m.\u001b[39mprepare_walking_step_input(combined_bags)\n\u001b[1;32m      <a href='vscode-notebook-cell:/home/moritz/dev/uni/mcr-py/notebooks/mcr.ipynb#Y101sZmlsZQ%3D%3D?line=4'>5</a>\u001b[0m \u001b[39mwith\u001b[39;00m mcr\u001b[39m.\u001b[39mtimer\u001b[39m.\u001b[39minfo(\u001b[39m\"\u001b[39m\u001b[39mRunning walking step\u001b[39m\u001b[39m\"\u001b[39m):\n\u001b[0;32m----> <a href='vscode-notebook-cell:/home/moritz/dev/uni/mcr-py/notebooks/mcr.ipynb#Y101sZmlsZQ%3D%3D?line=5'>6</a>\u001b[0m \twalking_result_bags \u001b[39m=\u001b[39m mcr_py\u001b[39m.\u001b[39;49mrun_mlc_with_bags(\n\u001b[1;32m      <a href='vscode-notebook-cell:/home/moritz/dev/uni/mcr-py/notebooks/mcr.ipynb#Y101sZmlsZQ%3D%3D?line=6'>7</a>\u001b[0m \t\tmcr\u001b[39m.\u001b[39;49mgeo_data\u001b[39m.\u001b[39;49mwalking_graph_cache,\n\u001b[1;32m      <a href='vscode-notebook-cell:/home/moritz/dev/uni/mcr-py/notebooks/mcr.ipynb#Y101sZmlsZQ%3D%3D?line=7'>8</a>\u001b[0m \t\twalking_bags,\n\u001b[1;32m      <a href='vscode-notebook-cell:/home/moritz/dev/uni/mcr-py/notebooks/mcr.ipynb#Y101sZmlsZQ%3D%3D?line=8'>9</a>\u001b[0m \t\tdisable_paths\u001b[39m=\u001b[39;49mmcr\u001b[39m.\u001b[39;49mdisable_paths,\n\u001b[1;32m     <a href='vscode-notebook-cell:/home/moritz/dev/uni/mcr-py/notebooks/mcr.ipynb#Y101sZmlsZQ%3D%3D?line=9'>10</a>\u001b[0m \t\tenable_limit\u001b[39m=\u001b[39;49mmcr\u001b[39m.\u001b[39;49menable_limit,\n\u001b[1;32m     <a href='vscode-notebook-cell:/home/moritz/dev/uni/mcr-py/notebooks/mcr.ipynb#Y101sZmlsZQ%3D%3D?line=10'>11</a>\u001b[0m \t)\n",
      "\u001b[0;31mPanicException\u001b[0m: called `Result::unwrap()` on an `Err` value: PyErr { type: <class 'TypeError'>, value: TypeError(\"'str' object cannot be interpreted as an integer\"), traceback: None }"
     ]
    }
   ],
   "source": [
    "\n",
    "with mcr.timer.info(\"Running walking step\"):\n",
    "\twalking_result_bags = mcr_py.run_mlc_with_bags(\n",
    "\t\tmcr.geo_data.walking_graph_cache,\n",
    "\t\twalking_bags,\n",
    "\t\tdisable_paths=mcr.disable_paths,\n",
    "\t\tenable_limit=mcr.enable_limit,\n",
    "\t)"
   ]
  },
  {
   "cell_type": "code",
   "execution_count": null,
   "metadata": {},
   "outputs": [],
   "source": [
    "with mcr.timer.info(\"Extracting walking step bags\"):\n",
    "\twalking_result_bags = mcr.convert_walking_bags(\n",
    "\t\twalking_result_bags, path_index_offset=offset + 1\n",
    "\t)\n",
    "\n",
    "bags_i[i] = walking_result_bags\n",
    "\n",
    "with mcr.timer.info(\"Saving bags\"):\n",
    "mcr.save_bags(bags_i, output_path)\n"
   ]
  },
  {
   "cell_type": "code",
   "execution_count": null,
   "metadata": {},
   "outputs": [
    {
     "data": {
      "text/html": [
       "<pre style=\"white-space:pre;overflow-x:auto;line-height:normal;font-family:Menlo,'DejaVu Sans Mono',consolas,'Courier New',monospace\"><span style=\"color: #7fbfbf; text-decoration-color: #7fbfbf\">[09:16:17] </span><span style=\"color: #000080; text-decoration-color: #000080\">INFO    </span> Reading stops and geo meta                                                           <a href=\"file:///home/moritz/dev/uni/mcr-py/notebooks/../src/package/mcr/data.py\" target=\"_blank\"><span style=\"color: #7f7f7f; text-decoration-color: #7f7f7f\">data.py</span></a><span style=\"color: #7f7f7f; text-decoration-color: #7f7f7f\">:</span><a href=\"file:///home/moritz/dev/uni/mcr-py/notebooks/../src/package/mcr/data.py#40\" target=\"_blank\"><span style=\"color: #7f7f7f; text-decoration-color: #7f7f7f\">40</span></a>\n",
       "</pre>\n"
      ],
      "text/plain": [
       "\u001b[2;36m[09:16:17]\u001b[0m\u001b[2;36m \u001b[0m\u001b[34mINFO    \u001b[0m Reading stops and geo meta                                                           \u001b]8;id=523592;file:///home/moritz/dev/uni/mcr-py/notebooks/../src/package/mcr/data.py\u001b\\\u001b[2mdata.py\u001b[0m\u001b]8;;\u001b\\\u001b[2m:\u001b[0m\u001b]8;id=505202;file:///home/moritz/dev/uni/mcr-py/notebooks/../src/package/mcr/data.py#40\u001b\\\u001b[2m40\u001b[0m\u001b]8;;\u001b\\\n"
      ]
     },
     "metadata": {},
     "output_type": "display_data"
    },
    {
     "data": {
      "text/html": [
       "<pre style=\"white-space:pre;overflow-x:auto;line-height:normal;font-family:Menlo,'DejaVu Sans Mono',consolas,'Courier New',monospace\"><span style=\"color: #7fbfbf; text-decoration-color: #7fbfbf\">           </span><span style=\"color: #000080; text-decoration-color: #000080\">INFO    </span> Reading stops and geo meta done <span style=\"font-weight: bold\">(</span><span style=\"color: #008080; text-decoration-color: #008080; font-weight: bold\">0.10</span> seconds<span style=\"font-weight: bold\">)</span>                                       <a href=\"file:///home/moritz/dev/uni/mcr-py/notebooks/../src/package/mcr/data.py\" target=\"_blank\"><span style=\"color: #7f7f7f; text-decoration-color: #7f7f7f\">data.py</span></a><span style=\"color: #7f7f7f; text-decoration-color: #7f7f7f\">:</span><a href=\"file:///home/moritz/dev/uni/mcr-py/notebooks/../src/package/mcr/data.py#40\" target=\"_blank\"><span style=\"color: #7f7f7f; text-decoration-color: #7f7f7f\">40</span></a>\n",
       "</pre>\n"
      ],
      "text/plain": [
       "\u001b[2;36m          \u001b[0m\u001b[2;36m \u001b[0m\u001b[34mINFO    \u001b[0m Reading stops and geo meta done \u001b[1m(\u001b[0m\u001b[1;36m0.10\u001b[0m seconds\u001b[1m)\u001b[0m                                       \u001b]8;id=996382;file:///home/moritz/dev/uni/mcr-py/notebooks/../src/package/mcr/data.py\u001b\\\u001b[2mdata.py\u001b[0m\u001b]8;;\u001b\\\u001b[2m:\u001b[0m\u001b]8;id=670565;file:///home/moritz/dev/uni/mcr-py/notebooks/../src/package/mcr/data.py#40\u001b\\\u001b[2m40\u001b[0m\u001b]8;;\u001b\\\n"
      ]
     },
     "metadata": {},
     "output_type": "display_data"
    },
    {
     "data": {
      "text/html": [
       "<pre style=\"white-space:pre;overflow-x:auto;line-height:normal;font-family:Menlo,'DejaVu Sans Mono',consolas,'Courier New',monospace\"><span style=\"color: #7fbfbf; text-decoration-color: #7fbfbf\">           </span><span style=\"color: #000080; text-decoration-color: #000080\">INFO    </span> Preparing graphs                                                                     <a href=\"file:///home/moritz/dev/uni/mcr-py/notebooks/../src/package/mcr/data.py\" target=\"_blank\"><span style=\"color: #7f7f7f; text-decoration-color: #7f7f7f\">data.py</span></a><span style=\"color: #7f7f7f; text-decoration-color: #7f7f7f\">:</span><a href=\"file:///home/moritz/dev/uni/mcr-py/notebooks/../src/package/mcr/data.py#44\" target=\"_blank\"><span style=\"color: #7f7f7f; text-decoration-color: #7f7f7f\">44</span></a>\n",
       "</pre>\n"
      ],
      "text/plain": [
       "\u001b[2;36m          \u001b[0m\u001b[2;36m \u001b[0m\u001b[34mINFO    \u001b[0m Preparing graphs                                                                     \u001b]8;id=732994;file:///home/moritz/dev/uni/mcr-py/notebooks/../src/package/mcr/data.py\u001b\\\u001b[2mdata.py\u001b[0m\u001b]8;;\u001b\\\u001b[2m:\u001b[0m\u001b]8;id=873269;file:///home/moritz/dev/uni/mcr-py/notebooks/../src/package/mcr/data.py#44\u001b\\\u001b[2m44\u001b[0m\u001b]8;;\u001b\\\n"
      ]
     },
     "metadata": {},
     "output_type": "display_data"
    },
    {
     "data": {
      "text/html": [
       "<pre style=\"white-space:pre;overflow-x:auto;line-height:normal;font-family:Menlo,'DejaVu Sans Mono',consolas,'Courier New',monospace\"><span style=\"color: #7fbfbf; text-decoration-color: #7fbfbf\">           </span><span style=\"color: #000080; text-decoration-color: #000080\">INFO    </span> Using existing OSM data                                                              <a href=\"file:///home/moritz/dev/uni/mcr-py/notebooks/../src/package/mcr/data.py\" target=\"_blank\"><span style=\"color: #7f7f7f; text-decoration-color: #7f7f7f\">data.py</span></a><span style=\"color: #7f7f7f; text-decoration-color: #7f7f7f\">:</span><a href=\"file:///home/moritz/dev/uni/mcr-py/notebooks/../src/package/mcr/data.py#44\" target=\"_blank\"><span style=\"color: #7f7f7f; text-decoration-color: #7f7f7f\">44</span></a>\n",
       "</pre>\n"
      ],
      "text/plain": [
       "\u001b[2;36m          \u001b[0m\u001b[2;36m \u001b[0m\u001b[34mINFO    \u001b[0m Using existing OSM data                                                              \u001b]8;id=98038;file:///home/moritz/dev/uni/mcr-py/notebooks/../src/package/mcr/data.py\u001b\\\u001b[2mdata.py\u001b[0m\u001b]8;;\u001b\\\u001b[2m:\u001b[0m\u001b]8;id=541345;file:///home/moritz/dev/uni/mcr-py/notebooks/../src/package/mcr/data.py#44\u001b\\\u001b[2m44\u001b[0m\u001b]8;;\u001b\\\n"
      ]
     },
     "metadata": {},
     "output_type": "display_data"
    },
    {
     "data": {
      "text/html": [
       "<pre style=\"white-space:pre;overflow-x:auto;line-height:normal;font-family:Menlo,'DejaVu Sans Mono',consolas,'Courier New',monospace\"><span style=\"color: #7fbfbf; text-decoration-color: #7fbfbf\">           </span><span style=\"color: #000080; text-decoration-color: #000080\">INFO    </span> Loading OSM network from cache                                                       <a href=\"file:///home/moritz/dev/uni/mcr-py/notebooks/../src/package/mcr/data.py\" target=\"_blank\"><span style=\"color: #7f7f7f; text-decoration-color: #7f7f7f\">data.py</span></a><span style=\"color: #7f7f7f; text-decoration-color: #7f7f7f\">:</span><a href=\"file:///home/moritz/dev/uni/mcr-py/notebooks/../src/package/mcr/data.py#44\" target=\"_blank\"><span style=\"color: #7f7f7f; text-decoration-color: #7f7f7f\">44</span></a>\n",
       "</pre>\n"
      ],
      "text/plain": [
       "\u001b[2;36m          \u001b[0m\u001b[2;36m \u001b[0m\u001b[34mINFO    \u001b[0m Loading OSM network from cache                                                       \u001b]8;id=569089;file:///home/moritz/dev/uni/mcr-py/notebooks/../src/package/mcr/data.py\u001b\\\u001b[2mdata.py\u001b[0m\u001b]8;;\u001b\\\u001b[2m:\u001b[0m\u001b]8;id=326929;file:///home/moritz/dev/uni/mcr-py/notebooks/../src/package/mcr/data.py#44\u001b\\\u001b[2m44\u001b[0m\u001b]8;;\u001b\\\n"
      ]
     },
     "metadata": {},
     "output_type": "display_data"
    },
    {
     "data": {
      "text/html": [
       "<pre style=\"white-space:pre;overflow-x:auto;line-height:normal;font-family:Menlo,'DejaVu Sans Mono',consolas,'Courier New',monospace\"><span style=\"color: #7fbfbf; text-decoration-color: #7fbfbf\">[09:16:57] </span><span style=\"color: #000080; text-decoration-color: #000080\">INFO    </span> Reading bicycle locations                                                            <a href=\"file:///home/moritz/dev/uni/mcr-py/notebooks/../src/package/mcr/data.py\" target=\"_blank\"><span style=\"color: #7f7f7f; text-decoration-color: #7f7f7f\">data.py</span></a><span style=\"color: #7f7f7f; text-decoration-color: #7f7f7f\">:</span><a href=\"file:///home/moritz/dev/uni/mcr-py/notebooks/../src/package/mcr/data.py#60\" target=\"_blank\"><span style=\"color: #7f7f7f; text-decoration-color: #7f7f7f\">60</span></a>\n",
       "</pre>\n"
      ],
      "text/plain": [
       "\u001b[2;36m[09:16:57]\u001b[0m\u001b[2;36m \u001b[0m\u001b[34mINFO    \u001b[0m Reading bicycle locations                                                            \u001b]8;id=766786;file:///home/moritz/dev/uni/mcr-py/notebooks/../src/package/mcr/data.py\u001b\\\u001b[2mdata.py\u001b[0m\u001b]8;;\u001b\\\u001b[2m:\u001b[0m\u001b]8;id=245330;file:///home/moritz/dev/uni/mcr-py/notebooks/../src/package/mcr/data.py#60\u001b\\\u001b[2m60\u001b[0m\u001b]8;;\u001b\\\n"
      ]
     },
     "metadata": {},
     "output_type": "display_data"
    },
    {
     "data": {
      "text/html": [
       "<pre style=\"white-space:pre;overflow-x:auto;line-height:normal;font-family:Menlo,'DejaVu Sans Mono',consolas,'Courier New',monospace\"><span style=\"color: #7fbfbf; text-decoration-color: #7fbfbf\">           </span><span style=\"color: #000080; text-decoration-color: #000080\">INFO    </span> Reading bicycle locations done <span style=\"font-weight: bold\">(</span><span style=\"color: #008080; text-decoration-color: #008080; font-weight: bold\">0.38</span> seconds<span style=\"font-weight: bold\">)</span>                                        <a href=\"file:///home/moritz/dev/uni/mcr-py/notebooks/../src/package/mcr/data.py\" target=\"_blank\"><span style=\"color: #7f7f7f; text-decoration-color: #7f7f7f\">data.py</span></a><span style=\"color: #7f7f7f; text-decoration-color: #7f7f7f\">:</span><a href=\"file:///home/moritz/dev/uni/mcr-py/notebooks/../src/package/mcr/data.py#60\" target=\"_blank\"><span style=\"color: #7f7f7f; text-decoration-color: #7f7f7f\">60</span></a>\n",
       "</pre>\n"
      ],
      "text/plain": [
       "\u001b[2;36m          \u001b[0m\u001b[2;36m \u001b[0m\u001b[34mINFO    \u001b[0m Reading bicycle locations done \u001b[1m(\u001b[0m\u001b[1;36m0.38\u001b[0m seconds\u001b[1m)\u001b[0m                                        \u001b]8;id=645157;file:///home/moritz/dev/uni/mcr-py/notebooks/../src/package/mcr/data.py\u001b\\\u001b[2mdata.py\u001b[0m\u001b]8;;\u001b\\\u001b[2m:\u001b[0m\u001b]8;id=603030;file:///home/moritz/dev/uni/mcr-py/notebooks/../src/package/mcr/data.py#60\u001b\\\u001b[2m60\u001b[0m\u001b]8;;\u001b\\\n"
      ]
     },
     "metadata": {},
     "output_type": "display_data"
    },
    {
     "data": {
      "text/html": [
       "<pre style=\"white-space:pre;overflow-x:auto;line-height:normal;font-family:Menlo,'DejaVu Sans Mono',consolas,'Courier New',monospace\"><span style=\"color: #7fbfbf; text-decoration-color: #7fbfbf\">[09:17:20] </span><span style=\"color: #000080; text-decoration-color: #000080\">INFO    </span> Preparing graphs done <span style=\"font-weight: bold\">(</span><span style=\"color: #00ff00; text-decoration-color: #00ff00; font-weight: bold\">1:02</span> minutes<span style=\"font-weight: bold\">)</span>                                                 <a href=\"file:///home/moritz/dev/uni/mcr-py/notebooks/../src/package/mcr/data.py\" target=\"_blank\"><span style=\"color: #7f7f7f; text-decoration-color: #7f7f7f\">data.py</span></a><span style=\"color: #7f7f7f; text-decoration-color: #7f7f7f\">:</span><a href=\"file:///home/moritz/dev/uni/mcr-py/notebooks/../src/package/mcr/data.py#44\" target=\"_blank\"><span style=\"color: #7f7f7f; text-decoration-color: #7f7f7f\">44</span></a>\n",
       "</pre>\n"
      ],
      "text/plain": [
       "\u001b[2;36m[09:17:20]\u001b[0m\u001b[2;36m \u001b[0m\u001b[34mINFO    \u001b[0m Preparing graphs done \u001b[1m(\u001b[0m\u001b[1;92m1:02\u001b[0m minutes\u001b[1m)\u001b[0m                                                 \u001b]8;id=730234;file:///home/moritz/dev/uni/mcr-py/notebooks/../src/package/mcr/data.py\u001b\\\u001b[2mdata.py\u001b[0m\u001b]8;;\u001b\\\u001b[2m:\u001b[0m\u001b]8;id=417376;file:///home/moritz/dev/uni/mcr-py/notebooks/../src/package/mcr/data.py#44\u001b\\\u001b[2m44\u001b[0m\u001b]8;;\u001b\\\n"
      ]
     },
     "metadata": {},
     "output_type": "display_data"
    },
    {
     "data": {
      "text/html": [
       "<pre style=\"white-space:pre;overflow-x:auto;line-height:normal;font-family:Menlo,'DejaVu Sans Mono',consolas,'Courier New',monospace\"><span style=\"color: #7fbfbf; text-decoration-color: #7fbfbf\">           </span><span style=\"color: #000080; text-decoration-color: #000080\">INFO    </span> Creating graph cache                                                                <a href=\"file:///home/moritz/dev/uni/mcr-py/notebooks/../src/package/mcr/data.py\" target=\"_blank\"><span style=\"color: #7f7f7f; text-decoration-color: #7f7f7f\">data.py</span></a><span style=\"color: #7f7f7f; text-decoration-color: #7f7f7f\">:</span><a href=\"file:///home/moritz/dev/uni/mcr-py/notebooks/../src/package/mcr/data.py#147\" target=\"_blank\"><span style=\"color: #7f7f7f; text-decoration-color: #7f7f7f\">147</span></a>\n",
       "</pre>\n"
      ],
      "text/plain": [
       "\u001b[2;36m          \u001b[0m\u001b[2;36m \u001b[0m\u001b[34mINFO    \u001b[0m Creating graph cache                                                                \u001b]8;id=132980;file:///home/moritz/dev/uni/mcr-py/notebooks/../src/package/mcr/data.py\u001b\\\u001b[2mdata.py\u001b[0m\u001b]8;;\u001b\\\u001b[2m:\u001b[0m\u001b]8;id=330086;file:///home/moritz/dev/uni/mcr-py/notebooks/../src/package/mcr/data.py#147\u001b\\\u001b[2m147\u001b[0m\u001b]8;;\u001b\\\n"
      ]
     },
     "metadata": {},
     "output_type": "display_data"
    },
    {
     "data": {
      "text/html": [
       "<pre style=\"white-space:pre;overflow-x:auto;line-height:normal;font-family:Menlo,'DejaVu Sans Mono',consolas,'Courier New',monospace\"><span style=\"color: #7fbfbf; text-decoration-color: #7fbfbf\">[09:17:30] </span><span style=\"color: #000080; text-decoration-color: #000080\">INFO    </span> Creating graph cache done <span style=\"font-weight: bold\">(</span><span style=\"color: #008080; text-decoration-color: #008080; font-weight: bold\">10.46</span> seconds<span style=\"font-weight: bold\">)</span>                                           <a href=\"file:///home/moritz/dev/uni/mcr-py/notebooks/../src/package/mcr/data.py\" target=\"_blank\"><span style=\"color: #7f7f7f; text-decoration-color: #7f7f7f\">data.py</span></a><span style=\"color: #7f7f7f; text-decoration-color: #7f7f7f\">:</span><a href=\"file:///home/moritz/dev/uni/mcr-py/notebooks/../src/package/mcr/data.py#147\" target=\"_blank\"><span style=\"color: #7f7f7f; text-decoration-color: #7f7f7f\">147</span></a>\n",
       "</pre>\n"
      ],
      "text/plain": [
       "\u001b[2;36m[09:17:30]\u001b[0m\u001b[2;36m \u001b[0m\u001b[34mINFO    \u001b[0m Creating graph cache done \u001b[1m(\u001b[0m\u001b[1;36m10.46\u001b[0m seconds\u001b[1m)\u001b[0m                                           \u001b]8;id=27891;file:///home/moritz/dev/uni/mcr-py/notebooks/../src/package/mcr/data.py\u001b\\\u001b[2mdata.py\u001b[0m\u001b]8;;\u001b\\\u001b[2m:\u001b[0m\u001b]8;id=766126;file:///home/moritz/dev/uni/mcr-py/notebooks/../src/package/mcr/data.py#147\u001b\\\u001b[2m147\u001b[0m\u001b]8;;\u001b\\\n"
      ]
     },
     "metadata": {},
     "output_type": "display_data"
    }
   ],
   "source": [
    "stops_path = \"../data/cleaned/stops.csv\"\n",
    "city_id = \"Koeln\"\n",
    "osm_path = \"\"\n",
    "structs = \"../data/structs.pkl\"\n",
    "bicycle_location_path = \"../data/bicycle_locations/2022-11-01_09_01_00.csv\"\n",
    "geo_meta_path = \"../data/geometa.pkl\"\n",
    "\n",
    "mcr_geo_data = MCRGeoData(\n",
    "    stops_path,\n",
    "    structs,\n",
    "    geo_meta_path,\n",
    "    city_id,\n",
    "    bicycle_location_path=bicycle_location_path,\n",
    ")\n"
   ]
  },
  {
   "cell_type": "code",
   "execution_count": null,
   "metadata": {},
   "outputs": [],
   "source": [
    "mcr_geo_data.add_pois_to_mm_graph(pois)"
   ]
  },
  {
   "cell_type": "code",
   "execution_count": null,
   "metadata": {},
   "outputs": [
    {
     "data": {
      "text/html": [
       "<pre style=\"white-space:pre;overflow-x:auto;line-height:normal;font-family:Menlo,'DejaVu Sans Mono',consolas,'Courier New',monospace\"><span style=\"color: #7fbfbf; text-decoration-color: #7fbfbf\">[09:19:20] </span><span style=\"color: #000080; text-decoration-color: #000080\">INFO    </span> Running Dijkstra step                                                              <a href=\"file:///home/moritz/dev/uni/mcr-py/notebooks/../src/package/logger.py\" target=\"_blank\"><span style=\"color: #7f7f7f; text-decoration-color: #7f7f7f\">logger.py</span></a><span style=\"color: #7f7f7f; text-decoration-color: #7f7f7f\">:</span><a href=\"file:///home/moritz/dev/uni/mcr-py/notebooks/../src/package/logger.py#37\" target=\"_blank\"><span style=\"color: #7f7f7f; text-decoration-color: #7f7f7f\">37</span></a>\n",
       "</pre>\n"
      ],
      "text/plain": [
       "\u001b[2;36m[09:19:20]\u001b[0m\u001b[2;36m \u001b[0m\u001b[34mINFO    \u001b[0m Running Dijkstra step                                                              \u001b]8;id=378213;file:///home/moritz/dev/uni/mcr-py/notebooks/../src/package/logger.py\u001b\\\u001b[2mlogger.py\u001b[0m\u001b]8;;\u001b\\\u001b[2m:\u001b[0m\u001b]8;id=746871;file:///home/moritz/dev/uni/mcr-py/notebooks/../src/package/logger.py#37\u001b\\\u001b[2m37\u001b[0m\u001b]8;;\u001b\\\n"
      ]
     },
     "metadata": {},
     "output_type": "display_data"
    },
    {
     "data": {
      "text/html": [
       "<pre style=\"white-space:pre;overflow-x:auto;line-height:normal;font-family:Menlo,'DejaVu Sans Mono',consolas,'Courier New',monospace\"><span style=\"color: #7fbfbf; text-decoration-color: #7fbfbf\">[09:19:26] </span><span style=\"color: #000080; text-decoration-color: #000080\">INFO    </span> Running Dijkstra step done <span style=\"font-weight: bold\">(</span><span style=\"color: #008080; text-decoration-color: #008080; font-weight: bold\">5.60</span> seconds<span style=\"font-weight: bold\">)</span>                                          <a href=\"file:///home/moritz/dev/uni/mcr-py/notebooks/../src/package/logger.py\" target=\"_blank\"><span style=\"color: #7f7f7f; text-decoration-color: #7f7f7f\">logger.py</span></a><span style=\"color: #7f7f7f; text-decoration-color: #7f7f7f\">:</span><a href=\"file:///home/moritz/dev/uni/mcr-py/notebooks/../src/package/logger.py#37\" target=\"_blank\"><span style=\"color: #7f7f7f; text-decoration-color: #7f7f7f\">37</span></a>\n",
       "</pre>\n"
      ],
      "text/plain": [
       "\u001b[2;36m[09:19:26]\u001b[0m\u001b[2;36m \u001b[0m\u001b[34mINFO    \u001b[0m Running Dijkstra step done \u001b[1m(\u001b[0m\u001b[1;36m5.60\u001b[0m seconds\u001b[1m)\u001b[0m                                          \u001b]8;id=670575;file:///home/moritz/dev/uni/mcr-py/notebooks/../src/package/logger.py\u001b\\\u001b[2mlogger.py\u001b[0m\u001b]8;;\u001b\\\u001b[2m:\u001b[0m\u001b]8;id=115860;file:///home/moritz/dev/uni/mcr-py/notebooks/../src/package/logger.py#37\u001b\\\u001b[2m37\u001b[0m\u001b]8;;\u001b\\\n"
      ]
     },
     "metadata": {},
     "output_type": "display_data"
    },
    {
     "data": {
      "text/html": [
       "<pre style=\"white-space:pre;overflow-x:auto;line-height:normal;font-family:Menlo,'DejaVu Sans Mono',consolas,'Courier New',monospace\"><span style=\"color: #7fbfbf; text-decoration-color: #7fbfbf\">           </span><span style=\"color: #000080; text-decoration-color: #000080\">INFO    </span> Extracting dijkstra step bags                                                      <a href=\"file:///home/moritz/dev/uni/mcr-py/notebooks/../src/package/logger.py\" target=\"_blank\"><span style=\"color: #7f7f7f; text-decoration-color: #7f7f7f\">logger.py</span></a><span style=\"color: #7f7f7f; text-decoration-color: #7f7f7f\">:</span><a href=\"file:///home/moritz/dev/uni/mcr-py/notebooks/../src/package/logger.py#37\" target=\"_blank\"><span style=\"color: #7f7f7f; text-decoration-color: #7f7f7f\">37</span></a>\n",
       "</pre>\n"
      ],
      "text/plain": [
       "\u001b[2;36m          \u001b[0m\u001b[2;36m \u001b[0m\u001b[34mINFO    \u001b[0m Extracting dijkstra step bags                                                      \u001b]8;id=127319;file:///home/moritz/dev/uni/mcr-py/notebooks/../src/package/logger.py\u001b\\\u001b[2mlogger.py\u001b[0m\u001b]8;;\u001b\\\u001b[2m:\u001b[0m\u001b]8;id=930482;file:///home/moritz/dev/uni/mcr-py/notebooks/../src/package/logger.py#37\u001b\\\u001b[2m37\u001b[0m\u001b]8;;\u001b\\\n"
      ]
     },
     "metadata": {},
     "output_type": "display_data"
    },
    {
     "data": {
      "text/html": [
       "<pre style=\"white-space:pre;overflow-x:auto;line-height:normal;font-family:Menlo,'DejaVu Sans Mono',consolas,'Courier New',monospace\"><span style=\"color: #7fbfbf; text-decoration-color: #7fbfbf\">[09:19:38] </span><span style=\"color: #000080; text-decoration-color: #000080\">INFO    </span> Extracting dijkstra step bags done <span style=\"font-weight: bold\">(</span><span style=\"color: #008080; text-decoration-color: #008080; font-weight: bold\">12.29</span> seconds<span style=\"font-weight: bold\">)</span>                                 <a href=\"file:///home/moritz/dev/uni/mcr-py/notebooks/../src/package/logger.py\" target=\"_blank\"><span style=\"color: #7f7f7f; text-decoration-color: #7f7f7f\">logger.py</span></a><span style=\"color: #7f7f7f; text-decoration-color: #7f7f7f\">:</span><a href=\"file:///home/moritz/dev/uni/mcr-py/notebooks/../src/package/logger.py#37\" target=\"_blank\"><span style=\"color: #7f7f7f; text-decoration-color: #7f7f7f\">37</span></a>\n",
       "</pre>\n"
      ],
      "text/plain": [
       "\u001b[2;36m[09:19:38]\u001b[0m\u001b[2;36m \u001b[0m\u001b[34mINFO    \u001b[0m Extracting dijkstra step bags done \u001b[1m(\u001b[0m\u001b[1;36m12.29\u001b[0m seconds\u001b[1m)\u001b[0m                                 \u001b]8;id=416563;file:///home/moritz/dev/uni/mcr-py/notebooks/../src/package/logger.py\u001b\\\u001b[2mlogger.py\u001b[0m\u001b]8;;\u001b\\\u001b[2m:\u001b[0m\u001b]8;id=956125;file:///home/moritz/dev/uni/mcr-py/notebooks/../src/package/logger.py#37\u001b\\\u001b[2m37\u001b[0m\u001b]8;;\u001b\\\n"
      ]
     },
     "metadata": {},
     "output_type": "display_data"
    },
    {
     "data": {
      "text/html": [
       "<pre style=\"white-space:pre;overflow-x:auto;line-height:normal;font-family:Menlo,'DejaVu Sans Mono',consolas,'Courier New',monospace\"><span style=\"color: #7fbfbf; text-decoration-color: #7fbfbf\">           </span><span style=\"color: #000080; text-decoration-color: #000080\">INFO    </span> Running iteration <span style=\"color: #008080; text-decoration-color: #008080; font-weight: bold\">1</span>                                                                   <a href=\"file:///home/moritz/dev/uni/mcr-py/notebooks/../src/package/mcr/mcr.py\" target=\"_blank\"><span style=\"color: #7f7f7f; text-decoration-color: #7f7f7f\">mcr.py</span></a><span style=\"color: #7f7f7f; text-decoration-color: #7f7f7f\">:</span><a href=\"file:///home/moritz/dev/uni/mcr-py/notebooks/../src/package/mcr/mcr.py#94\" target=\"_blank\"><span style=\"color: #7f7f7f; text-decoration-color: #7f7f7f\">94</span></a>\n",
       "</pre>\n"
      ],
      "text/plain": [
       "\u001b[2;36m          \u001b[0m\u001b[2;36m \u001b[0m\u001b[34mINFO    \u001b[0m Running iteration \u001b[1;36m1\u001b[0m                                                                   \u001b]8;id=248679;file:///home/moritz/dev/uni/mcr-py/notebooks/../src/package/mcr/mcr.py\u001b\\\u001b[2mmcr.py\u001b[0m\u001b]8;;\u001b\\\u001b[2m:\u001b[0m\u001b]8;id=359458;file:///home/moritz/dev/uni/mcr-py/notebooks/../src/package/mcr/mcr.py#94\u001b\\\u001b[2m94\u001b[0m\u001b]8;;\u001b\\\n"
      ]
     },
     "metadata": {},
     "output_type": "display_data"
    },
    {
     "data": {
      "text/html": [
       "<pre style=\"white-space:pre;overflow-x:auto;line-height:normal;font-family:Menlo,'DejaVu Sans Mono',consolas,'Courier New',monospace\"><span style=\"color: #7fbfbf; text-decoration-color: #7fbfbf\">           </span><span style=\"color: #000080; text-decoration-color: #000080\">INFO    </span> Preparing input for bicycle step                                                   <a href=\"file:///home/moritz/dev/uni/mcr-py/notebooks/../src/package/logger.py\" target=\"_blank\"><span style=\"color: #7f7f7f; text-decoration-color: #7f7f7f\">logger.py</span></a><span style=\"color: #7f7f7f; text-decoration-color: #7f7f7f\">:</span><a href=\"file:///home/moritz/dev/uni/mcr-py/notebooks/../src/package/logger.py#37\" target=\"_blank\"><span style=\"color: #7f7f7f; text-decoration-color: #7f7f7f\">37</span></a>\n",
       "</pre>\n"
      ],
      "text/plain": [
       "\u001b[2;36m          \u001b[0m\u001b[2;36m \u001b[0m\u001b[34mINFO    \u001b[0m Preparing input for bicycle step                                                   \u001b]8;id=170041;file:///home/moritz/dev/uni/mcr-py/notebooks/../src/package/logger.py\u001b\\\u001b[2mlogger.py\u001b[0m\u001b]8;;\u001b\\\u001b[2m:\u001b[0m\u001b]8;id=512117;file:///home/moritz/dev/uni/mcr-py/notebooks/../src/package/logger.py#37\u001b\\\u001b[2m37\u001b[0m\u001b]8;;\u001b\\\n"
      ]
     },
     "metadata": {},
     "output_type": "display_data"
    },
    {
     "data": {
      "text/html": [
       "<pre style=\"white-space:pre;overflow-x:auto;line-height:normal;font-family:Menlo,'DejaVu Sans Mono',consolas,'Courier New',monospace\"><span style=\"color: #7fbfbf; text-decoration-color: #7fbfbf\">[09:19:39] </span><span style=\"color: #000080; text-decoration-color: #000080\">INFO    </span> Preparing input for bicycle step done <span style=\"font-weight: bold\">(</span><span style=\"color: #008080; text-decoration-color: #008080; font-weight: bold\">0.77</span> seconds<span style=\"font-weight: bold\">)</span>                               <a href=\"file:///home/moritz/dev/uni/mcr-py/notebooks/../src/package/logger.py\" target=\"_blank\"><span style=\"color: #7f7f7f; text-decoration-color: #7f7f7f\">logger.py</span></a><span style=\"color: #7f7f7f; text-decoration-color: #7f7f7f\">:</span><a href=\"file:///home/moritz/dev/uni/mcr-py/notebooks/../src/package/logger.py#37\" target=\"_blank\"><span style=\"color: #7f7f7f; text-decoration-color: #7f7f7f\">37</span></a>\n",
       "</pre>\n"
      ],
      "text/plain": [
       "\u001b[2;36m[09:19:39]\u001b[0m\u001b[2;36m \u001b[0m\u001b[34mINFO    \u001b[0m Preparing input for bicycle step done \u001b[1m(\u001b[0m\u001b[1;36m0.77\u001b[0m seconds\u001b[1m)\u001b[0m                               \u001b]8;id=757033;file:///home/moritz/dev/uni/mcr-py/notebooks/../src/package/logger.py\u001b\\\u001b[2mlogger.py\u001b[0m\u001b]8;;\u001b\\\u001b[2m:\u001b[0m\u001b]8;id=355630;file:///home/moritz/dev/uni/mcr-py/notebooks/../src/package/logger.py#37\u001b\\\u001b[2m37\u001b[0m\u001b]8;;\u001b\\\n"
      ]
     },
     "metadata": {},
     "output_type": "display_data"
    },
    {
     "ename": "",
     "evalue": "",
     "output_type": "error",
     "traceback": [
      "\u001b[1;31mThe Kernel crashed while executing code in the the current cell or a previous cell. Please review the code in the cell(s) to identify a possible cause of the failure. Click <a href='https://aka.ms/vscodeJupyterKernelCrash'>here</a> for more info. View Jupyter <a href='command:jupyter.viewOutput'>log</a> for further details."
     ]
    }
   ],
   "source": [
    "mcr = MCR(mcr_geo_data, disable_paths=False, enable_limit=False)\n",
    "mcr.run(1638242852, \"08:00:00\", 2, output_path=\"../data/bags.pkl\")"
   ]
  },
  {
   "cell_type": "code",
   "execution_count": null,
   "metadata": {},
   "outputs": [],
   "source": []
  }
 ],
 "metadata": {
  "kernelspec": {
   "display_name": "mcr-py",
   "language": "python",
   "name": "python3"
  },
  "language_info": {
   "codemirror_mode": {
    "name": "ipython",
    "version": 3
   },
   "file_extension": ".py",
   "mimetype": "text/x-python",
   "name": "python",
   "nbconvert_exporter": "python",
   "pygments_lexer": "ipython3",
   "version": "3.10.12"
  },
  "orig_nbformat": 4
 },
 "nbformat": 4,
 "nbformat_minor": 2
}
