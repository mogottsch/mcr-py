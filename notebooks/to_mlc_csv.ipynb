{
 "cells": [
  {
   "cell_type": "code",
   "execution_count": 1,
   "metadata": {},
   "outputs": [],
   "source": [
    "%load_ext autoreload\n",
    "%autoreload 2\n",
    "# add . to module name\n",
    "import sys\n",
    "sys.path.append('../src/')"
   ]
  },
  {
   "cell_type": "code",
   "execution_count": 2,
   "metadata": {},
   "outputs": [],
   "source": [
    "import os\n",
    "from package import key, storage\n",
    "from package.osm import osm\n",
    "from package.logger import Timed, rlog\n",
    "import pandas as pd\n",
    "import folium"
   ]
  },
  {
   "cell_type": "code",
   "execution_count": 3,
   "metadata": {},
   "outputs": [],
   "source": [
    "from package.logger import setup\n",
    "setup(\"INFO\")"
   ]
  },
  {
   "cell_type": "code",
   "execution_count": 4,
   "metadata": {},
   "outputs": [
    {
     "data": {
      "text/html": [
       "<pre style=\"white-space:pre;overflow-x:auto;line-height:normal;font-family:Menlo,'DejaVu Sans Mono',consolas,'Courier New',monospace\"><span style=\"color: #7fbfbf; text-decoration-color: #7fbfbf\">[10:32:46] </span><span style=\"color: #000080; text-decoration-color: #000080\">INFO    </span> Reading stops                                                                   <a href=\"file:///tmp/ipykernel_10801/2164838183.py\" target=\"_blank\"><span style=\"color: #7f7f7f; text-decoration-color: #7f7f7f\">2164838183.py</span></a><span style=\"color: #7f7f7f; text-decoration-color: #7f7f7f\">:</span><a href=\"file:///tmp/ipykernel_10801/2164838183.py#5\" target=\"_blank\"><span style=\"color: #7f7f7f; text-decoration-color: #7f7f7f\">5</span></a>\n",
       "</pre>\n"
      ],
      "text/plain": [
       "\u001b[2;36m[10:32:46]\u001b[0m\u001b[2;36m \u001b[0m\u001b[34mINFO    \u001b[0m Reading stops                                                                   \u001b]8;id=975145;file:///tmp/ipykernel_10801/2164838183.py\u001b\\\u001b[2m2164838183.py\u001b[0m\u001b]8;;\u001b\\\u001b[2m:\u001b[0m\u001b]8;id=349336;file:///tmp/ipykernel_10801/2164838183.py#5\u001b\\\u001b[2m5\u001b[0m\u001b]8;;\u001b\\\n"
      ]
     },
     "metadata": {},
     "output_type": "display_data"
    },
    {
     "data": {
      "text/html": [
       "<pre style=\"white-space:pre;overflow-x:auto;line-height:normal;font-family:Menlo,'DejaVu Sans Mono',consolas,'Courier New',monospace\"><span style=\"color: #7fbfbf; text-decoration-color: #7fbfbf\">           </span><span style=\"color: #000080; text-decoration-color: #000080\">INFO    </span> Reading stops done <span style=\"font-weight: bold\">(</span><span style=\"color: #008080; text-decoration-color: #008080; font-weight: bold\">0.24</span> seconds<span style=\"font-weight: bold\">)</span>                                               <a href=\"file:///tmp/ipykernel_10801/2164838183.py\" target=\"_blank\"><span style=\"color: #7f7f7f; text-decoration-color: #7f7f7f\">2164838183.py</span></a><span style=\"color: #7f7f7f; text-decoration-color: #7f7f7f\">:</span><a href=\"file:///tmp/ipykernel_10801/2164838183.py#5\" target=\"_blank\"><span style=\"color: #7f7f7f; text-decoration-color: #7f7f7f\">5</span></a>\n",
       "</pre>\n"
      ],
      "text/plain": [
       "\u001b[2;36m          \u001b[0m\u001b[2;36m \u001b[0m\u001b[34mINFO    \u001b[0m Reading stops done \u001b[1m(\u001b[0m\u001b[1;36m0.24\u001b[0m seconds\u001b[1m)\u001b[0m                                               \u001b]8;id=600870;file:///tmp/ipykernel_10801/2164838183.py\u001b\\\u001b[2m2164838183.py\u001b[0m\u001b]8;;\u001b\\\u001b[2m:\u001b[0m\u001b]8;id=303037;file:///tmp/ipykernel_10801/2164838183.py#5\u001b\\\u001b[2m5\u001b[0m\u001b]8;;\u001b\\\n"
      ]
     },
     "metadata": {},
     "output_type": "display_data"
    },
    {
     "data": {
      "text/html": [
       "<pre style=\"white-space:pre;overflow-x:auto;line-height:normal;font-family:Menlo,'DejaVu Sans Mono',consolas,'Courier New',monospace\"><span style=\"color: #7fbfbf; text-decoration-color: #7fbfbf\">           </span><span style=\"color: #000080; text-decoration-color: #000080\">INFO    </span> Downloading OSM data                                                            <a href=\"file:///tmp/ipykernel_10801/2164838183.py\" target=\"_blank\"><span style=\"color: #7f7f7f; text-decoration-color: #7f7f7f\">2164838183.py</span></a><span style=\"color: #7f7f7f; text-decoration-color: #7f7f7f\">:</span><a href=\"file:///tmp/ipykernel_10801/2164838183.py#9\" target=\"_blank\"><span style=\"color: #7f7f7f; text-decoration-color: #7f7f7f\">9</span></a>\n",
       "</pre>\n"
      ],
      "text/plain": [
       "\u001b[2;36m          \u001b[0m\u001b[2;36m \u001b[0m\u001b[34mINFO    \u001b[0m Downloading OSM data                                                            \u001b]8;id=609801;file:///tmp/ipykernel_10801/2164838183.py\u001b\\\u001b[2m2164838183.py\u001b[0m\u001b]8;;\u001b\\\u001b[2m:\u001b[0m\u001b]8;id=196070;file:///tmp/ipykernel_10801/2164838183.py#9\u001b\\\u001b[2m9\u001b[0m\u001b]8;;\u001b\\\n"
      ]
     },
     "metadata": {},
     "output_type": "display_data"
    },
    {
     "name": "stdout",
     "output_type": "stream",
     "text": [
      "Downloaded Protobuf data 'Koeln.osm.pbf' (75.38 MB) to:\n",
      "'/tmp/pyrosm/Koeln.osm.pbf'\n"
     ]
    },
    {
     "data": {
      "text/html": [
       "<pre style=\"white-space:pre;overflow-x:auto;line-height:normal;font-family:Menlo,'DejaVu Sans Mono',consolas,'Courier New',monospace\"><span style=\"color: #7fbfbf; text-decoration-color: #7fbfbf\">[10:32:53] </span><span style=\"color: #000080; text-decoration-color: #000080\">INFO    </span> Getting OSM graph                                                              <a href=\"file:///tmp/ipykernel_10801/2164838183.py\" target=\"_blank\"><span style=\"color: #7f7f7f; text-decoration-color: #7f7f7f\">2164838183.py</span></a><span style=\"color: #7f7f7f; text-decoration-color: #7f7f7f\">:</span><a href=\"file:///tmp/ipykernel_10801/2164838183.py#16\" target=\"_blank\"><span style=\"color: #7f7f7f; text-decoration-color: #7f7f7f\">16</span></a>\n",
       "</pre>\n"
      ],
      "text/plain": [
       "\u001b[2;36m[10:32:53]\u001b[0m\u001b[2;36m \u001b[0m\u001b[34mINFO    \u001b[0m Getting OSM graph                                                              \u001b]8;id=517692;file:///tmp/ipykernel_10801/2164838183.py\u001b\\\u001b[2m2164838183.py\u001b[0m\u001b]8;;\u001b\\\u001b[2m:\u001b[0m\u001b]8;id=654776;file:///tmp/ipykernel_10801/2164838183.py#16\u001b\\\u001b[2m16\u001b[0m\u001b]8;;\u001b\\\n"
      ]
     },
     "metadata": {},
     "output_type": "display_data"
    },
    {
     "data": {
      "text/html": [
       "<pre style=\"white-space:pre;overflow-x:auto;line-height:normal;font-family:Menlo,'DejaVu Sans Mono',consolas,'Courier New',monospace\"><span style=\"color: #7fbfbf; text-decoration-color: #7fbfbf\">           </span><span style=\"color: #000080; text-decoration-color: #000080\">INFO    </span> Hash for OSM network:                                                          <a href=\"file:///tmp/ipykernel_10801/2164838183.py\" target=\"_blank\"><span style=\"color: #7f7f7f; text-decoration-color: #7f7f7f\">2164838183.py</span></a><span style=\"color: #7f7f7f; text-decoration-color: #7f7f7f\">:</span><a href=\"file:///tmp/ipykernel_10801/2164838183.py#16\" target=\"_blank\"><span style=\"color: #7f7f7f; text-decoration-color: #7f7f7f\">16</span></a>\n",
       "<span style=\"color: #7fbfbf; text-decoration-color: #7fbfbf\">           </span>         <span style=\"color: #008080; text-decoration-color: #008080; font-weight: bold\">25519526578071114144969288949484232041135192474713375411543851787353293669047</span>  <span style=\"color: #7f7f7f; text-decoration-color: #7f7f7f\">                </span>\n",
       "</pre>\n"
      ],
      "text/plain": [
       "\u001b[2;36m          \u001b[0m\u001b[2;36m \u001b[0m\u001b[34mINFO    \u001b[0m Hash for OSM network:                                                          \u001b]8;id=72442;file:///tmp/ipykernel_10801/2164838183.py\u001b\\\u001b[2m2164838183.py\u001b[0m\u001b]8;;\u001b\\\u001b[2m:\u001b[0m\u001b]8;id=325557;file:///tmp/ipykernel_10801/2164838183.py#16\u001b\\\u001b[2m16\u001b[0m\u001b]8;;\u001b\\\n",
       "\u001b[2;36m           \u001b[0m         \u001b[1;36m25519526578071114144969288949484232041135192474713375411543851787353293669047\u001b[0m  \u001b[2m                \u001b[0m\n"
      ]
     },
     "metadata": {},
     "output_type": "display_data"
    },
    {
     "data": {
      "text/html": [
       "<pre style=\"white-space:pre;overflow-x:auto;line-height:normal;font-family:Menlo,'DejaVu Sans Mono',consolas,'Courier New',monospace\"><span style=\"color: #7fbfbf; text-decoration-color: #7fbfbf\">           </span><span style=\"color: #000080; text-decoration-color: #000080\">INFO    </span> Reading OSM network                                                                   <a href=\"file:///home/moritz/dev/uni/mcr-py/notebooks/../src/package/osm/osm.py\" target=\"_blank\"><span style=\"color: #7f7f7f; text-decoration-color: #7f7f7f\">osm.py</span></a><span style=\"color: #7f7f7f; text-decoration-color: #7f7f7f\">:</span><a href=\"file:///home/moritz/dev/uni/mcr-py/notebooks/../src/package/osm/osm.py#67\" target=\"_blank\"><span style=\"color: #7f7f7f; text-decoration-color: #7f7f7f\">67</span></a>\n",
       "</pre>\n"
      ],
      "text/plain": [
       "\u001b[2;36m          \u001b[0m\u001b[2;36m \u001b[0m\u001b[34mINFO    \u001b[0m Reading OSM network                                                                   \u001b]8;id=905678;file:///home/moritz/dev/uni/mcr-py/notebooks/../src/package/osm/osm.py\u001b\\\u001b[2mosm.py\u001b[0m\u001b]8;;\u001b\\\u001b[2m:\u001b[0m\u001b]8;id=659318;file:///home/moritz/dev/uni/mcr-py/notebooks/../src/package/osm/osm.py#67\u001b\\\u001b[2m67\u001b[0m\u001b]8;;\u001b\\\n"
      ]
     },
     "metadata": {},
     "output_type": "display_data"
    },
    {
     "data": {
      "text/html": [
       "<pre style=\"white-space:pre;overflow-x:auto;line-height:normal;font-family:Menlo,'DejaVu Sans Mono',consolas,'Courier New',monospace\"><span style=\"color: #7fbfbf; text-decoration-color: #7fbfbf\">[10:33:46] </span><span style=\"color: #000080; text-decoration-color: #000080\">INFO    </span> Reading OSM network done <span style=\"font-weight: bold\">(</span><span style=\"color: #008080; text-decoration-color: #008080; font-weight: bold\">52.87</span> seconds<span style=\"font-weight: bold\">)</span>                                              <a href=\"file:///home/moritz/dev/uni/mcr-py/notebooks/../src/package/osm/osm.py\" target=\"_blank\"><span style=\"color: #7f7f7f; text-decoration-color: #7f7f7f\">osm.py</span></a><span style=\"color: #7f7f7f; text-decoration-color: #7f7f7f\">:</span><a href=\"file:///home/moritz/dev/uni/mcr-py/notebooks/../src/package/osm/osm.py#67\" target=\"_blank\"><span style=\"color: #7f7f7f; text-decoration-color: #7f7f7f\">67</span></a>\n",
       "</pre>\n"
      ],
      "text/plain": [
       "\u001b[2;36m[10:33:46]\u001b[0m\u001b[2;36m \u001b[0m\u001b[34mINFO    \u001b[0m Reading OSM network done \u001b[1m(\u001b[0m\u001b[1;36m52.87\u001b[0m seconds\u001b[1m)\u001b[0m                                              \u001b]8;id=179641;file:///home/moritz/dev/uni/mcr-py/notebooks/../src/package/osm/osm.py\u001b\\\u001b[2mosm.py\u001b[0m\u001b]8;;\u001b\\\u001b[2m:\u001b[0m\u001b]8;id=364381;file:///home/moritz/dev/uni/mcr-py/notebooks/../src/package/osm/osm.py#67\u001b\\\u001b[2m67\u001b[0m\u001b]8;;\u001b\\\n"
      ]
     },
     "metadata": {},
     "output_type": "display_data"
    },
    {
     "data": {
      "text/html": [
       "<pre style=\"white-space:pre;overflow-x:auto;line-height:normal;font-family:Menlo,'DejaVu Sans Mono',consolas,'Courier New',monospace\"><span style=\"color: #7fbfbf; text-decoration-color: #7fbfbf\">           </span><span style=\"color: #000080; text-decoration-color: #000080\">INFO    </span> Cropping OSM network to stops                                                         <a href=\"file:///home/moritz/dev/uni/mcr-py/notebooks/../src/package/osm/osm.py\" target=\"_blank\"><span style=\"color: #7f7f7f; text-decoration-color: #7f7f7f\">osm.py</span></a><span style=\"color: #7f7f7f; text-decoration-color: #7f7f7f\">:</span><a href=\"file:///home/moritz/dev/uni/mcr-py/notebooks/../src/package/osm/osm.py#71\" target=\"_blank\"><span style=\"color: #7f7f7f; text-decoration-color: #7f7f7f\">71</span></a>\n",
       "</pre>\n"
      ],
      "text/plain": [
       "\u001b[2;36m          \u001b[0m\u001b[2;36m \u001b[0m\u001b[34mINFO    \u001b[0m Cropping OSM network to stops                                                         \u001b]8;id=394316;file:///home/moritz/dev/uni/mcr-py/notebooks/../src/package/osm/osm.py\u001b\\\u001b[2mosm.py\u001b[0m\u001b]8;;\u001b\\\u001b[2m:\u001b[0m\u001b]8;id=241904;file:///home/moritz/dev/uni/mcr-py/notebooks/../src/package/osm/osm.py#71\u001b\\\u001b[2m71\u001b[0m\u001b]8;;\u001b\\\n"
      ]
     },
     "metadata": {},
     "output_type": "display_data"
    },
    {
     "data": {
      "text/html": [
       "<pre style=\"white-space:pre;overflow-x:auto;line-height:normal;font-family:Menlo,'DejaVu Sans Mono',consolas,'Courier New',monospace\"><span style=\"color: #7fbfbf; text-decoration-color: #7fbfbf\">           </span><span style=\"color: #000080; text-decoration-color: #000080\">INFO    </span> <span style=\"color: #008080; text-decoration-color: #008080; font-weight: bold\">53184</span>/<span style=\"color: #008080; text-decoration-color: #008080; font-weight: bold\">1215754</span> <span style=\"font-weight: bold\">(</span><span style=\"color: #008080; text-decoration-color: #008080; font-weight: bold\">4.37</span>%<span style=\"font-weight: bold\">)</span> nodes remaining                                                 <a href=\"file:///home/moritz/dev/uni/mcr-py/notebooks/../src/package/osm/osm.py\" target=\"_blank\"><span style=\"color: #7f7f7f; text-decoration-color: #7f7f7f\">osm.py</span></a><span style=\"color: #7f7f7f; text-decoration-color: #7f7f7f\">:</span><a href=\"file:///home/moritz/dev/uni/mcr-py/notebooks/../src/package/osm/osm.py#71\" target=\"_blank\"><span style=\"color: #7f7f7f; text-decoration-color: #7f7f7f\">71</span></a>\n",
       "</pre>\n"
      ],
      "text/plain": [
       "\u001b[2;36m          \u001b[0m\u001b[2;36m \u001b[0m\u001b[34mINFO    \u001b[0m \u001b[1;36m53184\u001b[0m/\u001b[1;36m1215754\u001b[0m \u001b[1m(\u001b[0m\u001b[1;36m4.37\u001b[0m%\u001b[1m)\u001b[0m nodes remaining                                                 \u001b]8;id=255187;file:///home/moritz/dev/uni/mcr-py/notebooks/../src/package/osm/osm.py\u001b\\\u001b[2mosm.py\u001b[0m\u001b]8;;\u001b\\\u001b[2m:\u001b[0m\u001b]8;id=797063;file:///home/moritz/dev/uni/mcr-py/notebooks/../src/package/osm/osm.py#71\u001b\\\u001b[2m71\u001b[0m\u001b]8;;\u001b\\\n"
      ]
     },
     "metadata": {},
     "output_type": "display_data"
    },
    {
     "data": {
      "text/html": [
       "<pre style=\"white-space:pre;overflow-x:auto;line-height:normal;font-family:Menlo,'DejaVu Sans Mono',consolas,'Courier New',monospace\"><span style=\"color: #7fbfbf; text-decoration-color: #7fbfbf\">           </span><span style=\"color: #000080; text-decoration-color: #000080\">INFO    </span> <span style=\"color: #008080; text-decoration-color: #008080; font-weight: bold\">60020</span>/<span style=\"color: #008080; text-decoration-color: #008080; font-weight: bold\">1331690</span> <span style=\"font-weight: bold\">(</span><span style=\"color: #008080; text-decoration-color: #008080; font-weight: bold\">4.51</span>%<span style=\"font-weight: bold\">)</span> edges remaining                                                 <a href=\"file:///home/moritz/dev/uni/mcr-py/notebooks/../src/package/osm/osm.py\" target=\"_blank\"><span style=\"color: #7f7f7f; text-decoration-color: #7f7f7f\">osm.py</span></a><span style=\"color: #7f7f7f; text-decoration-color: #7f7f7f\">:</span><a href=\"file:///home/moritz/dev/uni/mcr-py/notebooks/../src/package/osm/osm.py#71\" target=\"_blank\"><span style=\"color: #7f7f7f; text-decoration-color: #7f7f7f\">71</span></a>\n",
       "</pre>\n"
      ],
      "text/plain": [
       "\u001b[2;36m          \u001b[0m\u001b[2;36m \u001b[0m\u001b[34mINFO    \u001b[0m \u001b[1;36m60020\u001b[0m/\u001b[1;36m1331690\u001b[0m \u001b[1m(\u001b[0m\u001b[1;36m4.51\u001b[0m%\u001b[1m)\u001b[0m edges remaining                                                 \u001b]8;id=958325;file:///home/moritz/dev/uni/mcr-py/notebooks/../src/package/osm/osm.py\u001b\\\u001b[2mosm.py\u001b[0m\u001b]8;;\u001b\\\u001b[2m:\u001b[0m\u001b]8;id=35893;file:///home/moritz/dev/uni/mcr-py/notebooks/../src/package/osm/osm.py#71\u001b\\\u001b[2m71\u001b[0m\u001b]8;;\u001b\\\n"
      ]
     },
     "metadata": {},
     "output_type": "display_data"
    },
    {
     "data": {
      "text/html": [
       "<pre style=\"white-space:pre;overflow-x:auto;line-height:normal;font-family:Menlo,'DejaVu Sans Mono',consolas,'Courier New',monospace\"><span style=\"color: #7fbfbf; text-decoration-color: #7fbfbf\">[10:33:47] </span><span style=\"color: #000080; text-decoration-color: #000080\">INFO    </span> Cropping OSM network to stops done <span style=\"font-weight: bold\">(</span><span style=\"color: #008080; text-decoration-color: #008080; font-weight: bold\">0.92</span> seconds<span style=\"font-weight: bold\">)</span>                                     <a href=\"file:///home/moritz/dev/uni/mcr-py/notebooks/../src/package/osm/osm.py\" target=\"_blank\"><span style=\"color: #7f7f7f; text-decoration-color: #7f7f7f\">osm.py</span></a><span style=\"color: #7f7f7f; text-decoration-color: #7f7f7f\">:</span><a href=\"file:///home/moritz/dev/uni/mcr-py/notebooks/../src/package/osm/osm.py#71\" target=\"_blank\"><span style=\"color: #7f7f7f; text-decoration-color: #7f7f7f\">71</span></a>\n",
       "</pre>\n"
      ],
      "text/plain": [
       "\u001b[2;36m[10:33:47]\u001b[0m\u001b[2;36m \u001b[0m\u001b[34mINFO    \u001b[0m Cropping OSM network to stops done \u001b[1m(\u001b[0m\u001b[1;36m0.92\u001b[0m seconds\u001b[1m)\u001b[0m                                     \u001b]8;id=157242;file:///home/moritz/dev/uni/mcr-py/notebooks/../src/package/osm/osm.py\u001b\\\u001b[2mosm.py\u001b[0m\u001b]8;;\u001b\\\u001b[2m:\u001b[0m\u001b]8;id=632257;file:///home/moritz/dev/uni/mcr-py/notebooks/../src/package/osm/osm.py#71\u001b\\\u001b[2m71\u001b[0m\u001b]8;;\u001b\\\n"
      ]
     },
     "metadata": {},
     "output_type": "display_data"
    },
    {
     "data": {
      "text/html": [
       "<pre style=\"white-space:pre;overflow-x:auto;line-height:normal;font-family:Menlo,'DejaVu Sans Mono',consolas,'Courier New',monospace\"><span style=\"color: #7fbfbf; text-decoration-color: #7fbfbf\">           </span><span style=\"color: #000080; text-decoration-color: #000080\">INFO    </span> Caching OSM network                                                                   <a href=\"file:///home/moritz/dev/uni/mcr-py/notebooks/../src/package/osm/osm.py\" target=\"_blank\"><span style=\"color: #7f7f7f; text-decoration-color: #7f7f7f\">osm.py</span></a><span style=\"color: #7f7f7f; text-decoration-color: #7f7f7f\">:</span><a href=\"file:///home/moritz/dev/uni/mcr-py/notebooks/../src/package/osm/osm.py#74\" target=\"_blank\"><span style=\"color: #7f7f7f; text-decoration-color: #7f7f7f\">74</span></a>\n",
       "</pre>\n"
      ],
      "text/plain": [
       "\u001b[2;36m          \u001b[0m\u001b[2;36m \u001b[0m\u001b[34mINFO    \u001b[0m Caching OSM network                                                                   \u001b]8;id=511984;file:///home/moritz/dev/uni/mcr-py/notebooks/../src/package/osm/osm.py\u001b\\\u001b[2mosm.py\u001b[0m\u001b]8;;\u001b\\\u001b[2m:\u001b[0m\u001b]8;id=269808;file:///home/moritz/dev/uni/mcr-py/notebooks/../src/package/osm/osm.py#74\u001b\\\u001b[2m74\u001b[0m\u001b]8;;\u001b\\\n"
      ]
     },
     "metadata": {},
     "output_type": "display_data"
    },
    {
     "data": {
      "text/html": [
       "<pre style=\"white-space:pre;overflow-x:auto;line-height:normal;font-family:Menlo,'DejaVu Sans Mono',consolas,'Courier New',monospace\"><span style=\"color: #7fbfbf; text-decoration-color: #7fbfbf\">           </span><span style=\"color: #000080; text-decoration-color: #000080\">INFO    </span> Caching OSM network done <span style=\"font-weight: bold\">(</span><span style=\"color: #008080; text-decoration-color: #008080; font-weight: bold\">0.29</span> seconds<span style=\"font-weight: bold\">)</span>                                               <a href=\"file:///home/moritz/dev/uni/mcr-py/notebooks/../src/package/osm/osm.py\" target=\"_blank\"><span style=\"color: #7f7f7f; text-decoration-color: #7f7f7f\">osm.py</span></a><span style=\"color: #7f7f7f; text-decoration-color: #7f7f7f\">:</span><a href=\"file:///home/moritz/dev/uni/mcr-py/notebooks/../src/package/osm/osm.py#74\" target=\"_blank\"><span style=\"color: #7f7f7f; text-decoration-color: #7f7f7f\">74</span></a>\n",
       "</pre>\n"
      ],
      "text/plain": [
       "\u001b[2;36m          \u001b[0m\u001b[2;36m \u001b[0m\u001b[34mINFO    \u001b[0m Caching OSM network done \u001b[1m(\u001b[0m\u001b[1;36m0.29\u001b[0m seconds\u001b[1m)\u001b[0m                                               \u001b]8;id=701005;file:///home/moritz/dev/uni/mcr-py/notebooks/../src/package/osm/osm.py\u001b\\\u001b[2mosm.py\u001b[0m\u001b]8;;\u001b\\\u001b[2m:\u001b[0m\u001b]8;id=844489;file:///home/moritz/dev/uni/mcr-py/notebooks/../src/package/osm/osm.py#74\u001b\\\u001b[2m74\u001b[0m\u001b]8;;\u001b\\\n"
      ]
     },
     "metadata": {},
     "output_type": "display_data"
    },
    {
     "data": {
      "text/html": [
       "<pre style=\"white-space:pre;overflow-x:auto;line-height:normal;font-family:Menlo,'DejaVu Sans Mono',consolas,'Courier New',monospace\"><span style=\"color: #7fbfbf; text-decoration-color: #7fbfbf\">           </span><span style=\"color: #000080; text-decoration-color: #000080\">INFO    </span> Getting OSM graph done <span style=\"font-weight: bold\">(</span><span style=\"color: #008080; text-decoration-color: #008080; font-weight: bold\">54.11</span> seconds<span style=\"font-weight: bold\">)</span>                                         <a href=\"file:///tmp/ipykernel_10801/2164838183.py\" target=\"_blank\"><span style=\"color: #7f7f7f; text-decoration-color: #7f7f7f\">2164838183.py</span></a><span style=\"color: #7f7f7f; text-decoration-color: #7f7f7f\">:</span><a href=\"file:///tmp/ipykernel_10801/2164838183.py#16\" target=\"_blank\"><span style=\"color: #7f7f7f; text-decoration-color: #7f7f7f\">16</span></a>\n",
       "</pre>\n"
      ],
      "text/plain": [
       "\u001b[2;36m          \u001b[0m\u001b[2;36m \u001b[0m\u001b[34mINFO    \u001b[0m Getting OSM graph done \u001b[1m(\u001b[0m\u001b[1;36m54.11\u001b[0m seconds\u001b[1m)\u001b[0m                                         \u001b]8;id=230362;file:///tmp/ipykernel_10801/2164838183.py\u001b\\\u001b[2m2164838183.py\u001b[0m\u001b]8;;\u001b\\\u001b[2m:\u001b[0m\u001b]8;id=184439;file:///tmp/ipykernel_10801/2164838183.py#16\u001b\\\u001b[2m16\u001b[0m\u001b]8;;\u001b\\\n"
      ]
     },
     "metadata": {},
     "output_type": "display_data"
    }
   ],
   "source": [
    "city_id = \"Koeln\"\n",
    "stops_path = \"../data/cleaned/stops.csv\"\n",
    "osm_path = osm.get_osm_path_from_city_id(city_id)\n",
    "\n",
    "with Timed.info(\"Reading stops\"):\n",
    "\tstops_df = storage.read_gdf(stops_path)\n",
    "\n",
    "if not os.path.exists(osm_path) and city_id:\n",
    "\trlog.info(\"Downloading OSM data\")\n",
    "\tosm.download_city(city_id, osm_path)\n",
    "else:\n",
    "\trlog.info(\"Using existing OSM data\")\n",
    "\n",
    "osm_reader = osm.new_osm_reader(osm_path)\n",
    "\n",
    "with Timed.info(\"Getting OSM graph\"):\n",
    "\tnodes, edges = osm.get_graph_for_city_cropped_to_stops(osm_reader, stops_df)\n"
   ]
  },
  {
   "cell_type": "code",
   "execution_count": 5,
   "metadata": {},
   "outputs": [],
   "source": [
    "# edges['lit'] = edges['lit'].apply(lambda x: 1 if x == 'yes' else 0)\n",
    "# edges['not_lit'] = edges['lit'].apply(lambda x: 0 if x == 1 else 1)\n",
    "# edges['length_not_lit'] = (edges['length'] * edges['not_lit']).astype(int)\n",
    "\n",
    "# edges['length'] = (edges['length'] * 1000).astype(int)\n",
    "\n",
    "# edges['weights'] = '(' + edges['length'].astype(str) + ';' + edges['length_not_lit'].astype(str) + ')'\n",
    "\n",
    "# edges[['u', 'v', 'weights']].to_csv(\"../data/mlc_edges.csv\", index=False)"
   ]
  },
  {
   "cell_type": "markdown",
   "metadata": {},
   "source": [
    "### multi modal"
   ]
  },
  {
   "cell_type": "code",
   "execution_count": 6,
   "metadata": {},
   "outputs": [],
   "source": [
    "nodes[\"has_bicycle\"] = False\n",
    "nodes.loc[nodes.sample(100).index, \"has_bicycle\"] = True\n",
    "nodes = nodes[['id', 'has_bicycle']]"
   ]
  },
  {
   "cell_type": "code",
   "execution_count": 7,
   "metadata": {},
   "outputs": [],
   "source": [
    "walking_nodes = nodes.copy()\n",
    "bike_nodes = nodes.copy()\n",
    "\n",
    "walking_nodes[\"old_id\"] = walking_nodes[\"id\"]\n",
    "walking_nodes[\"id\"] = \"W\" + walking_nodes[\"id\"].astype(str)\n",
    "\n",
    "bike_nodes[\"old_id\"] = bike_nodes[\"id\"]\n",
    "bike_nodes[\"id\"] = \"B\" + bike_nodes[\"id\"].astype(str)"
   ]
  },
  {
   "cell_type": "code",
   "execution_count": 8,
   "metadata": {},
   "outputs": [],
   "source": [
    "edges = edges[[\"u\", \"v\", \"length\"]]\n",
    "walking_edges = edges.copy()\n",
    "bike_edges = edges.copy()\n",
    "\n",
    "walking_edges[\"u\"] = \"W\" + walking_edges[\"u\"].astype(str)\n",
    "walking_edges[\"v\"] = \"W\" + walking_edges[\"v\"].astype(str)\n",
    "\n",
    "bike_edges[\"u\"] = \"B\" + bike_edges[\"u\"].astype(str)\n",
    "bike_edges[\"v\"] = \"B\" + bike_edges[\"v\"].astype(str)"
   ]
  },
  {
   "cell_type": "code",
   "execution_count": 9,
   "metadata": {},
   "outputs": [],
   "source": [
    "# create edges that go from each bicycle node to each walking node - free floating bicycle system\n",
    "transfer_edges_values = walking_nodes.apply(\n",
    "    lambda x: [\"B\" + str(x.old_id), \"W\" + str(x.old_id), 0], axis=1\n",
    ")\n",
    "transfer_edges = pd.DataFrame(\n",
    "    transfer_edges_values.tolist(), columns=[\"u\", \"v\", \"length\"]\n",
    ")"
   ]
  },
  {
   "cell_type": "code",
   "execution_count": 10,
   "metadata": {},
   "outputs": [],
   "source": [
    "avg_walking_speed = 1.4 # m/s\n",
    "avg_biking_speed = 4.0 # m/s"
   ]
  },
  {
   "cell_type": "code",
   "execution_count": 11,
   "metadata": {},
   "outputs": [],
   "source": [
    "walking_edges[\"travel_time\"] = walking_edges.length / avg_walking_speed\n",
    "bike_edges[\"travel_time\"] = bike_edges.length / avg_biking_speed"
   ]
  },
  {
   "cell_type": "code",
   "execution_count": 12,
   "metadata": {},
   "outputs": [
    {
     "data": {
      "text/html": [
       "<div>\n",
       "<style scoped>\n",
       "    .dataframe tbody tr th:only-of-type {\n",
       "        vertical-align: middle;\n",
       "    }\n",
       "\n",
       "    .dataframe tbody tr th {\n",
       "        vertical-align: top;\n",
       "    }\n",
       "\n",
       "    .dataframe thead th {\n",
       "        text-align: right;\n",
       "    }\n",
       "</style>\n",
       "<table border=\"1\" class=\"dataframe\">\n",
       "  <thead>\n",
       "    <tr style=\"text-align: right;\">\n",
       "      <th></th>\n",
       "      <th>u</th>\n",
       "      <th>v</th>\n",
       "      <th>length</th>\n",
       "      <th>travel_time</th>\n",
       "    </tr>\n",
       "  </thead>\n",
       "  <tbody>\n",
       "    <tr>\n",
       "      <th>0</th>\n",
       "      <td>W21063145</td>\n",
       "      <td>W7151289920</td>\n",
       "      <td>7.161</td>\n",
       "      <td>5.115000</td>\n",
       "    </tr>\n",
       "    <tr>\n",
       "      <th>1</th>\n",
       "      <td>W7151289920</td>\n",
       "      <td>W10929975</td>\n",
       "      <td>7.575</td>\n",
       "      <td>5.410714</td>\n",
       "    </tr>\n",
       "    <tr>\n",
       "      <th>2</th>\n",
       "      <td>W10929975</td>\n",
       "      <td>W10853912</td>\n",
       "      <td>132.615</td>\n",
       "      <td>94.725000</td>\n",
       "    </tr>\n",
       "    <tr>\n",
       "      <th>4</th>\n",
       "      <td>W367149</td>\n",
       "      <td>W1672380543</td>\n",
       "      <td>7.730</td>\n",
       "      <td>5.521429</td>\n",
       "    </tr>\n",
       "    <tr>\n",
       "      <th>5</th>\n",
       "      <td>W1672380543</td>\n",
       "      <td>W1588847134</td>\n",
       "      <td>11.032</td>\n",
       "      <td>7.880000</td>\n",
       "    </tr>\n",
       "    <tr>\n",
       "      <th>...</th>\n",
       "      <td>...</td>\n",
       "      <td>...</td>\n",
       "      <td>...</td>\n",
       "      <td>...</td>\n",
       "    </tr>\n",
       "    <tr>\n",
       "      <th>1331671</th>\n",
       "      <td>W11105976044</td>\n",
       "      <td>W11105976043</td>\n",
       "      <td>3.237</td>\n",
       "      <td>2.312143</td>\n",
       "    </tr>\n",
       "    <tr>\n",
       "      <th>1331672</th>\n",
       "      <td>W11105943446</td>\n",
       "      <td>W11105943462</td>\n",
       "      <td>13.513</td>\n",
       "      <td>9.652143</td>\n",
       "    </tr>\n",
       "    <tr>\n",
       "      <th>1331673</th>\n",
       "      <td>W11105943462</td>\n",
       "      <td>W11105943463</td>\n",
       "      <td>9.101</td>\n",
       "      <td>6.500714</td>\n",
       "    </tr>\n",
       "    <tr>\n",
       "      <th>1331674</th>\n",
       "      <td>W11105943463</td>\n",
       "      <td>W11105943464</td>\n",
       "      <td>12.710</td>\n",
       "      <td>9.078571</td>\n",
       "    </tr>\n",
       "    <tr>\n",
       "      <th>1331675</th>\n",
       "      <td>W11105943464</td>\n",
       "      <td>W11105943465</td>\n",
       "      <td>8.103</td>\n",
       "      <td>5.787857</td>\n",
       "    </tr>\n",
       "  </tbody>\n",
       "</table>\n",
       "<p>60020 rows × 4 columns</p>\n",
       "</div>"
      ],
      "text/plain": [
       "                    u             v   length  travel_time\n",
       "0           W21063145   W7151289920    7.161     5.115000\n",
       "1         W7151289920     W10929975    7.575     5.410714\n",
       "2           W10929975     W10853912  132.615    94.725000\n",
       "4             W367149   W1672380543    7.730     5.521429\n",
       "5         W1672380543   W1588847134   11.032     7.880000\n",
       "...               ...           ...      ...          ...\n",
       "1331671  W11105976044  W11105976043    3.237     2.312143\n",
       "1331672  W11105943446  W11105943462   13.513     9.652143\n",
       "1331673  W11105943462  W11105943463    9.101     6.500714\n",
       "1331674  W11105943463  W11105943464   12.710     9.078571\n",
       "1331675  W11105943464  W11105943465    8.103     5.787857\n",
       "\n",
       "[60020 rows x 4 columns]"
      ]
     },
     "execution_count": 12,
     "metadata": {},
     "output_type": "execute_result"
    }
   ],
   "source": [
    "walking_edges"
   ]
  },
  {
   "cell_type": "code",
   "execution_count": 13,
   "metadata": {},
   "outputs": [],
   "source": [
    "bike_edges[\"travel_time_bike\"] = bike_edges[\"travel_time\"]"
   ]
  },
  {
   "cell_type": "code",
   "execution_count": 14,
   "metadata": {},
   "outputs": [
    {
     "name": "stdout",
     "output_type": "stream",
     "text": [
      "1000\n"
     ]
    },
    {
     "data": {
      "text/html": [
       "<div>\n",
       "<style scoped>\n",
       "    .dataframe tbody tr th:only-of-type {\n",
       "        vertical-align: middle;\n",
       "    }\n",
       "\n",
       "    .dataframe tbody tr th {\n",
       "        vertical-align: top;\n",
       "    }\n",
       "\n",
       "    .dataframe thead th {\n",
       "        text-align: right;\n",
       "    }\n",
       "</style>\n",
       "<table border=\"1\" class=\"dataframe\">\n",
       "  <thead>\n",
       "    <tr style=\"text-align: right;\">\n",
       "      <th></th>\n",
       "      <th>u</th>\n",
       "      <th>v</th>\n",
       "      <th>length</th>\n",
       "      <th>travel_time</th>\n",
       "      <th>travel_time_bike</th>\n",
       "      <th>weights</th>\n",
       "      <th>hidden_weights</th>\n",
       "    </tr>\n",
       "  </thead>\n",
       "  <tbody>\n",
       "    <tr>\n",
       "      <th>0</th>\n",
       "      <td>W21063145</td>\n",
       "      <td>W7151289920</td>\n",
       "      <td>7.161</td>\n",
       "      <td>5.115000</td>\n",
       "      <td>0.0</td>\n",
       "      <td>(5115;0)</td>\n",
       "      <td>(0)</td>\n",
       "    </tr>\n",
       "    <tr>\n",
       "      <th>1</th>\n",
       "      <td>W7151289920</td>\n",
       "      <td>W10929975</td>\n",
       "      <td>7.575</td>\n",
       "      <td>5.410714</td>\n",
       "      <td>0.0</td>\n",
       "      <td>(5410;0)</td>\n",
       "      <td>(0)</td>\n",
       "    </tr>\n",
       "  </tbody>\n",
       "</table>\n",
       "</div>"
      ],
      "text/plain": [
       "             u            v  length  travel_time  travel_time_bike   weights  \\\n",
       "0    W21063145  W7151289920   7.161     5.115000               0.0  (5115;0)   \n",
       "1  W7151289920    W10929975   7.575     5.410714               0.0  (5410;0)   \n",
       "\n",
       "  hidden_weights  \n",
       "0            (0)  \n",
       "1            (0)  "
      ]
     },
     "execution_count": 14,
     "metadata": {},
     "output_type": "execute_result"
    }
   ],
   "source": [
    "edges = pd.concat([walking_edges, bike_edges, transfer_edges], ignore_index=True)\n",
    "# fill travel_time for transfer edges and\n",
    "# travel_time_bike for walking and transfer edges\n",
    "edges = edges.fillna(0)\n",
    "# weights = trave_time, travel_time_bike, cost\n",
    "accuracy = 4\n",
    "accuracy_multiplier = 10 ** (accuracy - 1)\n",
    "print(accuracy_multiplier)\n",
    "edges[\"weights\"] = (\n",
    "    \"(\"\n",
    "    + (edges[\"travel_time\"].round(accuracy) * accuracy_multiplier)\n",
    "    .astype(int)\n",
    "    .astype(str)\n",
    "    + \";0)\"\n",
    ")\n",
    "edges[\"hidden_weights\"] = (\n",
    "    \"(\"\n",
    "    + (edges[\"travel_time_bike\"].round(accuracy) * accuracy_multiplier)\n",
    "    .astype(int)\n",
    "    .astype(str)\n",
    "    + \")\"\n",
    ")\n",
    "edges.head(2)\n"
   ]
  },
  {
   "cell_type": "code",
   "execution_count": 15,
   "metadata": {},
   "outputs": [
    {
     "data": {
      "text/html": [
       "<div>\n",
       "<style scoped>\n",
       "    .dataframe tbody tr th:only-of-type {\n",
       "        vertical-align: middle;\n",
       "    }\n",
       "\n",
       "    .dataframe tbody tr th {\n",
       "        vertical-align: top;\n",
       "    }\n",
       "\n",
       "    .dataframe thead th {\n",
       "        text-align: right;\n",
       "    }\n",
       "</style>\n",
       "<table border=\"1\" class=\"dataframe\">\n",
       "  <thead>\n",
       "    <tr style=\"text-align: right;\">\n",
       "      <th></th>\n",
       "      <th>id</th>\n",
       "      <th>has_bicycle</th>\n",
       "      <th>old_id</th>\n",
       "    </tr>\n",
       "  </thead>\n",
       "  <tbody>\n",
       "    <tr>\n",
       "      <th>0</th>\n",
       "      <td>W21063145</td>\n",
       "      <td>False</td>\n",
       "      <td>21063145</td>\n",
       "    </tr>\n",
       "    <tr>\n",
       "      <th>1</th>\n",
       "      <td>W7151289920</td>\n",
       "      <td>False</td>\n",
       "      <td>7151289920</td>\n",
       "    </tr>\n",
       "  </tbody>\n",
       "</table>\n",
       "</div>"
      ],
      "text/plain": [
       "            id  has_bicycle      old_id\n",
       "0    W21063145        False    21063145\n",
       "1  W7151289920        False  7151289920"
      ]
     },
     "execution_count": 15,
     "metadata": {},
     "output_type": "execute_result"
    }
   ],
   "source": [
    "nodes = pd.concat([walking_nodes, bike_nodes])\n",
    "nodes.head(2)"
   ]
  },
  {
   "cell_type": "code",
   "execution_count": 16,
   "metadata": {},
   "outputs": [],
   "source": [
    "node_map = {}\n",
    "for i, node_id in enumerate(nodes.id.unique()):\n",
    "\tnode_map[node_id] = i\n",
    "\n",
    "nodes[\"old_id\"] = nodes[\"id\"]\n",
    "nodes[\"id\"] = nodes[\"id\"].map(node_map)\n",
    "edges[\"u\"] = edges[\"u\"].map(node_map)\n",
    "edges[\"v\"] = edges[\"v\"].map(node_map)"
   ]
  },
  {
   "cell_type": "code",
   "execution_count": 17,
   "metadata": {},
   "outputs": [],
   "source": [
    "walking_node_map = {}\n",
    "for i, node_id in enumerate(walking_nodes.id.unique()):\n",
    "\twalking_node_map[node_id] = i\n",
    "\n",
    "walking_nodes[\"old_id\"] = walking_nodes[\"id\"]\n",
    "walking_nodes[\"id\"] = walking_nodes[\"id\"].map(node_map)\n",
    "walking_edges[\"u\"] = walking_edges[\"u\"].map(node_map)\n",
    "walking_edges[\"v\"] = walking_edges[\"v\"].map(node_map)"
   ]
  },
  {
   "cell_type": "code",
   "execution_count": 18,
   "metadata": {},
   "outputs": [
    {
     "name": "stdout",
     "output_type": "stream",
     "text": [
      "0\n",
      "0\n",
      "0\n",
      "0\n",
      "0\n",
      "0\n"
     ]
    }
   ],
   "source": [
    "print(nodes.id.isna().sum())\n",
    "print(edges.u.isna().sum())\n",
    "print(edges.v.isna().sum())\n",
    "\n",
    "print(walking_nodes.id.isna().sum())\n",
    "print(walking_edges.u.isna().sum())\n",
    "print(walking_edges.v.isna().sum())"
   ]
  },
  {
   "cell_type": "code",
   "execution_count": 19,
   "metadata": {},
   "outputs": [
    {
     "data": {
      "text/html": [
       "<div>\n",
       "<style scoped>\n",
       "    .dataframe tbody tr th:only-of-type {\n",
       "        vertical-align: middle;\n",
       "    }\n",
       "\n",
       "    .dataframe tbody tr th {\n",
       "        vertical-align: top;\n",
       "    }\n",
       "\n",
       "    .dataframe thead th {\n",
       "        text-align: right;\n",
       "    }\n",
       "</style>\n",
       "<table border=\"1\" class=\"dataframe\">\n",
       "  <thead>\n",
       "    <tr style=\"text-align: right;\">\n",
       "      <th></th>\n",
       "      <th>u</th>\n",
       "      <th>v</th>\n",
       "      <th>length</th>\n",
       "      <th>travel_time</th>\n",
       "      <th>travel_time_bike</th>\n",
       "      <th>weights</th>\n",
       "      <th>hidden_weights</th>\n",
       "    </tr>\n",
       "  </thead>\n",
       "  <tbody>\n",
       "    <tr>\n",
       "      <th>0</th>\n",
       "      <td>0</td>\n",
       "      <td>1</td>\n",
       "      <td>7.161</td>\n",
       "      <td>5.11500</td>\n",
       "      <td>0.00000</td>\n",
       "      <td>(5115;0)</td>\n",
       "      <td>(0)</td>\n",
       "    </tr>\n",
       "    <tr>\n",
       "      <th>135494</th>\n",
       "      <td>68638</td>\n",
       "      <td>15454</td>\n",
       "      <td>0.000</td>\n",
       "      <td>0.00000</td>\n",
       "      <td>0.00000</td>\n",
       "      <td>(0;0)</td>\n",
       "      <td>(0)</td>\n",
       "    </tr>\n",
       "    <tr>\n",
       "      <th>135493</th>\n",
       "      <td>68637</td>\n",
       "      <td>15453</td>\n",
       "      <td>0.000</td>\n",
       "      <td>0.00000</td>\n",
       "      <td>0.00000</td>\n",
       "      <td>(0;0)</td>\n",
       "      <td>(0)</td>\n",
       "    </tr>\n",
       "    <tr>\n",
       "      <th>135492</th>\n",
       "      <td>68636</td>\n",
       "      <td>15452</td>\n",
       "      <td>0.000</td>\n",
       "      <td>0.00000</td>\n",
       "      <td>0.00000</td>\n",
       "      <td>(0;0)</td>\n",
       "      <td>(0)</td>\n",
       "    </tr>\n",
       "    <tr>\n",
       "      <th>135491</th>\n",
       "      <td>68635</td>\n",
       "      <td>15451</td>\n",
       "      <td>0.000</td>\n",
       "      <td>0.00000</td>\n",
       "      <td>0.00000</td>\n",
       "      <td>(0;0)</td>\n",
       "      <td>(0)</td>\n",
       "    </tr>\n",
       "    <tr>\n",
       "      <th>...</th>\n",
       "      <td>...</td>\n",
       "      <td>...</td>\n",
       "      <td>...</td>\n",
       "      <td>...</td>\n",
       "      <td>...</td>\n",
       "      <td>...</td>\n",
       "      <td>...</td>\n",
       "    </tr>\n",
       "    <tr>\n",
       "      <th>103428</th>\n",
       "      <td>78087</td>\n",
       "      <td>77808</td>\n",
       "      <td>414.769</td>\n",
       "      <td>103.69225</td>\n",
       "      <td>103.69225</td>\n",
       "      <td>(103692;0)</td>\n",
       "      <td>(103692)</td>\n",
       "    </tr>\n",
       "    <tr>\n",
       "      <th>112629</th>\n",
       "      <td>100751</td>\n",
       "      <td>77799</td>\n",
       "      <td>414.769</td>\n",
       "      <td>103.69225</td>\n",
       "      <td>103.69225</td>\n",
       "      <td>(103692;0)</td>\n",
       "      <td>(103692)</td>\n",
       "    </tr>\n",
       "    <tr>\n",
       "      <th>61734</th>\n",
       "      <td>55096</td>\n",
       "      <td>55097</td>\n",
       "      <td>488.963</td>\n",
       "      <td>122.24075</td>\n",
       "      <td>122.24075</td>\n",
       "      <td>(122240;0)</td>\n",
       "      <td>(122240)</td>\n",
       "    </tr>\n",
       "    <tr>\n",
       "      <th>107677</th>\n",
       "      <td>96725</td>\n",
       "      <td>62234</td>\n",
       "      <td>539.549</td>\n",
       "      <td>134.88725</td>\n",
       "      <td>134.88725</td>\n",
       "      <td>(134887;0)</td>\n",
       "      <td>(134887)</td>\n",
       "    </tr>\n",
       "    <tr>\n",
       "      <th>75574</th>\n",
       "      <td>69225</td>\n",
       "      <td>62202</td>\n",
       "      <td>718.155</td>\n",
       "      <td>179.53875</td>\n",
       "      <td>179.53875</td>\n",
       "      <td>(179538;0)</td>\n",
       "      <td>(179538)</td>\n",
       "    </tr>\n",
       "  </tbody>\n",
       "</table>\n",
       "<p>173224 rows × 7 columns</p>\n",
       "</div>"
      ],
      "text/plain": [
       "             u      v   length  travel_time  travel_time_bike     weights  \\\n",
       "0            0      1    7.161      5.11500           0.00000    (5115;0)   \n",
       "135494   68638  15454    0.000      0.00000           0.00000       (0;0)   \n",
       "135493   68637  15453    0.000      0.00000           0.00000       (0;0)   \n",
       "135492   68636  15452    0.000      0.00000           0.00000       (0;0)   \n",
       "135491   68635  15451    0.000      0.00000           0.00000       (0;0)   \n",
       "...        ...    ...      ...          ...               ...         ...   \n",
       "103428   78087  77808  414.769    103.69225         103.69225  (103692;0)   \n",
       "112629  100751  77799  414.769    103.69225         103.69225  (103692;0)   \n",
       "61734    55096  55097  488.963    122.24075         122.24075  (122240;0)   \n",
       "107677   96725  62234  539.549    134.88725         134.88725  (134887;0)   \n",
       "75574    69225  62202  718.155    179.53875         179.53875  (179538;0)   \n",
       "\n",
       "       hidden_weights  \n",
       "0                 (0)  \n",
       "135494            (0)  \n",
       "135493            (0)  \n",
       "135492            (0)  \n",
       "135491            (0)  \n",
       "...               ...  \n",
       "103428       (103692)  \n",
       "112629       (103692)  \n",
       "61734        (122240)  \n",
       "107677       (134887)  \n",
       "75574        (179538)  \n",
       "\n",
       "[173224 rows x 7 columns]"
      ]
     },
     "execution_count": 19,
     "metadata": {},
     "output_type": "execute_result"
    }
   ],
   "source": [
    "edges.sort_values('travel_time_bike')"
   ]
  },
  {
   "cell_type": "code",
   "execution_count": 20,
   "metadata": {},
   "outputs": [],
   "source": [
    "edges[[\"u\", \"v\", \"weights\", \"hidden_weights\"]].to_csv(\n",
    "    \"../data/mlc_edges.csv\", index=False\n",
    ")"
   ]
  },
  {
   "cell_type": "code",
   "execution_count": 21,
   "metadata": {},
   "outputs": [],
   "source": [
    "walking_edges[\"weights\"] = (\n",
    "    \"(\"\n",
    "    + (walking_edges[\"travel_time\"].round(accuracy) * accuracy_multiplier)\n",
    "    .astype(int)\n",
    "    .astype(str)\n",
    "    + \")\"\n",
    ")\n"
   ]
  },
  {
   "cell_type": "code",
   "execution_count": 22,
   "metadata": {},
   "outputs": [],
   "source": [
    "walking_edges[[\"u\", \"v\", \"weights\"]].to_csv(\n",
    "    \"../data/mlc_walking_edges.csv\", index=False\n",
    ")"
   ]
  },
  {
   "cell_type": "code",
   "execution_count": 23,
   "metadata": {},
   "outputs": [],
   "source": [
    "storage.write_any_dict(\n",
    "    {\"node_map\": node_map, \"walking_node_map\": walking_node_map}, \"../data/node_map.pkl\"\n",
    ")\n"
   ]
  },
  {
   "cell_type": "code",
   "execution_count": 24,
   "metadata": {},
   "outputs": [],
   "source": [
    "start_node_id = walking_node_map[\"W21063145\"]\n",
    "start_bags = {\n",
    "\tstart_node_id: {\n",
    "\t\t\"node_id\": start_node_id,\n",
    "\t\t\"path\": [start_node_id],\n",
    "\t\t\"values\": [0],\n",
    "\t}\n",
    "}"
   ]
  },
  {
   "cell_type": "code",
   "execution_count": 29,
   "metadata": {},
   "outputs": [],
   "source": [
    "import mcr_py\n",
    "from mcr_py import GraphCache"
   ]
  },
  {
   "cell_type": "code",
   "execution_count": 37,
   "metadata": {},
   "outputs": [],
   "source": [
    "raw_edges = walking_edges[[\"u\", \"v\", \"weights\"]].to_dict(\"records\")\n",
    "\n",
    "gc = GraphCache()\n",
    "gc.set_graph(raw_edges)"
   ]
  },
  {
   "cell_type": "code",
   "execution_count": 38,
   "metadata": {},
   "outputs": [],
   "source": [
    "gc.summary()"
   ]
  },
  {
   "cell_type": "code",
   "execution_count": 34,
   "metadata": {},
   "outputs": [],
   "source": [
    "bags = mcr_py.run_mlc(gc, 0)"
   ]
  },
  {
   "cell_type": "code",
   "execution_count": 35,
   "metadata": {},
   "outputs": [
    {
     "data": {
      "text/plain": [
       "{0: [<PyLabel at 0x7fad3baf2e90>]}"
      ]
     },
     "execution_count": 35,
     "metadata": {},
     "output_type": "execute_result"
    }
   ],
   "source": [
    "bags"
   ]
  },
  {
   "cell_type": "code",
   "execution_count": null,
   "metadata": {},
   "outputs": [
    {
     "data": {
      "text/plain": [
       "0"
      ]
     },
     "execution_count": 114,
     "metadata": {},
     "output_type": "execute_result"
    }
   ],
   "source": [
    "storage.read_any_dict(\"jk\")"
   ]
  }
 ],
 "metadata": {
  "kernelspec": {
   "display_name": "mcr-py",
   "language": "python",
   "name": "python3"
  },
  "language_info": {
   "codemirror_mode": {
    "name": "ipython",
    "version": 3
   },
   "file_extension": ".py",
   "mimetype": "text/x-python",
   "name": "python",
   "nbconvert_exporter": "python",
   "pygments_lexer": "ipython3",
   "version": "3.10.12"
  },
  "orig_nbformat": 4
 },
 "nbformat": 4,
 "nbformat_minor": 2
}
