{
  "cells": [
    {
      "cell_type": "code",
      "execution_count": 1,
      "metadata": {},
      "outputs": [],
      "source": [
        "%load_ext autoreload\n",
        "%autoreload 2\n",
        "# add . to module name\n",
        "import sys\n",
        "sys.path.append('../src/')"
      ]
    },
    {
      "cell_type": "code",
      "execution_count": 2,
      "metadata": {},
      "outputs": [],
      "source": [
        "from package.logger import Timed, rlog, setup\n",
        "from package import storage\n",
        "setup(\"INFO\")"
      ]
    },
    {
      "cell_type": "code",
      "execution_count": 3,
      "metadata": {},
      "outputs": [],
      "source": [
        "import os\n",
        "\n",
        "import folium\n",
        "import geopandas as gpd\n",
        "import pandas as pd\n",
        "\n",
        "from package import strtime\n",
        "from package.osm import osm\n",
        "from package.mcr.data import NetworkType, OSMData\n",
        "from package.mcr5.h3 import (\n",
        "    get_h3_cells_for_nodes,\n",
        "    get_h3_cells_for_bbox,\n",
        "    plot_h3_cells_on_folium,\n",
        ")\n",
        "from package.mcr5.h3_osm_interaction import get_location_mappings_for_cells\n",
        "from package.mcr5.mcr5 import MCR5\n",
        "from package.osm.osm import add_nearest_osm_node_id\n",
        "from package.mcr5.labels import read_labels_for_nodes\n",
        "from package.minute_city import minute_city\n",
        "\n",
        "from package.geometa import GeoMeta\n",
        "from package.mcr.data import NetworkType"
      ]
    },
    {
      "cell_type": "code",
      "execution_count": 4,
      "metadata": {},
      "outputs": [],
      "source": [
        "geo_meta_path = \"../data/geometa.pkl\"\n",
        "city_id = \"Koeln\"\n",
        "stops = \"../data/cleaned/stops.csv\"\n",
        "structs = \"../data/structs.pkl\"\n",
        "bicycle_location_path = \"../data/bicycle_locations/2022-11-01_09_01_00.csv\""
      ]
    },
    {
      "cell_type": "code",
      "execution_count": 5,
      "metadata": {},
      "outputs": [
        {
          "data": {
            "text/html": [
              "<pre style=\"white-space:pre;overflow-x:auto;line-height:normal;font-family:Menlo,'DejaVu Sans Mono',consolas,'Courier New',monospace\"><span style=\"color: #7fbfbf; text-decoration-color: #7fbfbf\">[19:15:29] </span><span style=\"color: #000080; text-decoration-color: #000080\">INFO    </span> Using existing OSM data                                                              <a href=\"file:///home/moritz/dev/uni/mcr-py/notebooks/../src/package/osm/osm.py\" target=\"_blank\"><span style=\"color: #7f7f7f; text-decoration-color: #7f7f7f\">osm.py</span></a><span style=\"color: #7f7f7f; text-decoration-color: #7f7f7f\">:</span><a href=\"file:///home/moritz/dev/uni/mcr-py/notebooks/../src/package/osm/osm.py#106\" target=\"_blank\"><span style=\"color: #7f7f7f; text-decoration-color: #7f7f7f\">106</span></a>\n",
              "</pre>\n"
            ],
            "text/plain": [
              "\u001b[2;36m[19:15:29]\u001b[0m\u001b[2;36m \u001b[0m\u001b[34mINFO    \u001b[0m Using existing OSM data                                                              \u001b]8;id=741833;file:///home/moritz/dev/uni/mcr-py/notebooks/../src/package/osm/osm.py\u001b\\\u001b[2mosm.py\u001b[0m\u001b]8;;\u001b\\\u001b[2m:\u001b[0m\u001b]8;id=547808;file:///home/moritz/dev/uni/mcr-py/notebooks/../src/package/osm/osm.py#106\u001b\\\u001b[2m106\u001b[0m\u001b]8;;\u001b\\\n"
            ]
          },
          "metadata": {},
          "output_type": "display_data"
        },
        {
          "data": {
            "text/html": [
              "<pre style=\"white-space:pre;overflow-x:auto;line-height:normal;font-family:Menlo,'DejaVu Sans Mono',consolas,'Courier New',monospace\"><span style=\"color: #7fbfbf; text-decoration-color: #7fbfbf\">           </span><span style=\"color: #000080; text-decoration-color: #000080\">INFO    </span> Loading OSM network from cache <span style=\"font-weight: bold\">(</span>walking<span style=\"font-weight: bold\">)</span>                                              <a href=\"file:///home/moritz/dev/uni/mcr-py/notebooks/../src/package/osm/osm.py\" target=\"_blank\"><span style=\"color: #7f7f7f; text-decoration-color: #7f7f7f\">osm.py</span></a><span style=\"color: #7f7f7f; text-decoration-color: #7f7f7f\">:</span><a href=\"file:///home/moritz/dev/uni/mcr-py/notebooks/../src/package/osm/osm.py#69\" target=\"_blank\"><span style=\"color: #7f7f7f; text-decoration-color: #7f7f7f\">69</span></a>\n",
              "</pre>\n"
            ],
            "text/plain": [
              "\u001b[2;36m          \u001b[0m\u001b[2;36m \u001b[0m\u001b[34mINFO    \u001b[0m Loading OSM network from cache \u001b[1m(\u001b[0mwalking\u001b[1m)\u001b[0m                                              \u001b]8;id=894048;file:///home/moritz/dev/uni/mcr-py/notebooks/../src/package/osm/osm.py\u001b\\\u001b[2mosm.py\u001b[0m\u001b]8;;\u001b\\\u001b[2m:\u001b[0m\u001b]8;id=873045;file:///home/moritz/dev/uni/mcr-py/notebooks/../src/package/osm/osm.py#69\u001b\\\u001b[2m69\u001b[0m\u001b]8;;\u001b\\\n"
            ]
          },
          "metadata": {},
          "output_type": "display_data"
        },
        {
          "data": {
            "text/html": [
              "<pre style=\"white-space:pre;overflow-x:auto;line-height:normal;font-family:Menlo,'DejaVu Sans Mono',consolas,'Courier New',monospace\"><span style=\"color: #7fbfbf; text-decoration-color: #7fbfbf\">[19:15:34] </span><span style=\"color: #000080; text-decoration-color: #000080\">INFO    </span> Using existing OSM data                                                              <a href=\"file:///home/moritz/dev/uni/mcr-py/notebooks/../src/package/osm/osm.py\" target=\"_blank\"><span style=\"color: #7f7f7f; text-decoration-color: #7f7f7f\">osm.py</span></a><span style=\"color: #7f7f7f; text-decoration-color: #7f7f7f\">:</span><a href=\"file:///home/moritz/dev/uni/mcr-py/notebooks/../src/package/osm/osm.py#106\" target=\"_blank\"><span style=\"color: #7f7f7f; text-decoration-color: #7f7f7f\">106</span></a>\n",
              "</pre>\n"
            ],
            "text/plain": [
              "\u001b[2;36m[19:15:34]\u001b[0m\u001b[2;36m \u001b[0m\u001b[34mINFO    \u001b[0m Using existing OSM data                                                              \u001b]8;id=258601;file:///home/moritz/dev/uni/mcr-py/notebooks/../src/package/osm/osm.py\u001b\\\u001b[2mosm.py\u001b[0m\u001b]8;;\u001b\\\u001b[2m:\u001b[0m\u001b]8;id=775618;file:///home/moritz/dev/uni/mcr-py/notebooks/../src/package/osm/osm.py#106\u001b\\\u001b[2m106\u001b[0m\u001b]8;;\u001b\\\n"
            ]
          },
          "metadata": {},
          "output_type": "display_data"
        },
        {
          "data": {
            "text/html": [
              "<pre style=\"white-space:pre;overflow-x:auto;line-height:normal;font-family:Menlo,'DejaVu Sans Mono',consolas,'Courier New',monospace\"><span style=\"color: #7fbfbf; text-decoration-color: #7fbfbf\">           </span><span style=\"color: #000080; text-decoration-color: #000080\">INFO    </span> Loading OSM network from cache <span style=\"font-weight: bold\">(</span>driving<span style=\"font-weight: bold\">)</span>                                              <a href=\"file:///home/moritz/dev/uni/mcr-py/notebooks/../src/package/osm/osm.py\" target=\"_blank\"><span style=\"color: #7f7f7f; text-decoration-color: #7f7f7f\">osm.py</span></a><span style=\"color: #7f7f7f; text-decoration-color: #7f7f7f\">:</span><a href=\"file:///home/moritz/dev/uni/mcr-py/notebooks/../src/package/osm/osm.py#69\" target=\"_blank\"><span style=\"color: #7f7f7f; text-decoration-color: #7f7f7f\">69</span></a>\n",
              "</pre>\n"
            ],
            "text/plain": [
              "\u001b[2;36m          \u001b[0m\u001b[2;36m \u001b[0m\u001b[34mINFO    \u001b[0m Loading OSM network from cache \u001b[1m(\u001b[0mdriving\u001b[1m)\u001b[0m                                              \u001b]8;id=229977;file:///home/moritz/dev/uni/mcr-py/notebooks/../src/package/osm/osm.py\u001b\\\u001b[2mosm.py\u001b[0m\u001b]8;;\u001b\\\u001b[2m:\u001b[0m\u001b]8;id=631125;file:///home/moritz/dev/uni/mcr-py/notebooks/../src/package/osm/osm.py#69\u001b\\\u001b[2m69\u001b[0m\u001b]8;;\u001b\\\n"
            ]
          },
          "metadata": {},
          "output_type": "display_data"
        }
      ],
      "source": [
        "geo_meta = GeoMeta.load(geo_meta_path)\n",
        "geo_data = OSMData(\n",
        "\tgeo_meta,\n",
        "\tcity_id,\n",
        "\tadditional_network_types=[NetworkType.DRIVING],\n",
        ")\n",
        "nodes = geo_data.osm_nodes\n",
        "edges = geo_data.osm_edges\n",
        "driving_nodes, _, _ = geo_data.additional_networks[NetworkType.DRIVING]"
      ]
    },
    {
      "cell_type": "code",
      "execution_count": 6,
      "metadata": {},
      "outputs": [],
      "source": [
        "h3_cells = get_h3_cells_for_nodes(nodes[[\"lat\", \"lon\"]].to_dict(\"records\"), 9)\n",
        "driving_h3_cells = get_h3_cells_for_nodes(driving_nodes[[\"lat\", \"lon\"]].to_dict(\"records\"), 9)\n",
        "h3_cells = h3_cells.intersection(driving_h3_cells)"
      ]
    },
    {
      "cell_type": "code",
      "execution_count": 7,
      "metadata": {},
      "outputs": [
        {
          "data": {
            "text/plain": [
              "[]"
            ]
          },
          "execution_count": 7,
          "metadata": {},
          "output_type": "execute_result"
        }
      ],
      "source": [
        "location_mappings, invalid_h3_cells = get_location_mappings_for_cells(list(h3_cells), nodes, max_tries=20)\n",
        "invalid_h3_cells"
      ]
    },
    {
      "cell_type": "code",
      "execution_count": 8,
      "metadata": {},
      "outputs": [],
      "source": [
        "car_location_mappings, invalid_h3_cells = get_location_mappings_for_cells(\n",
        "    list(h3_cells), driving_nodes, max_tries=40\n",
        ")"
      ]
    },
    {
      "cell_type": "code",
      "execution_count": 9,
      "metadata": {},
      "outputs": [],
      "source": [
        "from command.step_config import (\n",
        "    get_bicycle_public_transport_config,\n",
        "    get_car_only_config,\n",
        "    get_bicycle_only_config,\n",
        "\tget_public_transport_only_config,\n",
        "    get_walking_only_config,\n",
        ")\n"
      ]
    },
    {
      "cell_type": "code",
      "execution_count": 10,
      "metadata": {},
      "outputs": [
        {
          "data": {
            "text/html": [
              "<pre style=\"white-space:pre;overflow-x:auto;line-height:normal;font-family:Menlo,'DejaVu Sans Mono',consolas,'Courier New',monospace\"><span style=\"color: #7fbfbf; text-decoration-color: #7fbfbf\">[19:15:36] </span><span style=\"color: #000080; text-decoration-color: #000080\">INFO    </span> Using existing OSM data                                                              <a href=\"file:///home/moritz/dev/uni/mcr-py/notebooks/../src/package/osm/osm.py\" target=\"_blank\"><span style=\"color: #7f7f7f; text-decoration-color: #7f7f7f\">osm.py</span></a><span style=\"color: #7f7f7f; text-decoration-color: #7f7f7f\">:</span><a href=\"file:///home/moritz/dev/uni/mcr-py/notebooks/../src/package/osm/osm.py#106\" target=\"_blank\"><span style=\"color: #7f7f7f; text-decoration-color: #7f7f7f\">106</span></a>\n",
              "</pre>\n"
            ],
            "text/plain": [
              "\u001b[2;36m[19:15:36]\u001b[0m\u001b[2;36m \u001b[0m\u001b[34mINFO    \u001b[0m Using existing OSM data                                                              \u001b]8;id=886910;file:///home/moritz/dev/uni/mcr-py/notebooks/../src/package/osm/osm.py\u001b\\\u001b[2mosm.py\u001b[0m\u001b]8;;\u001b\\\u001b[2m:\u001b[0m\u001b]8;id=846250;file:///home/moritz/dev/uni/mcr-py/notebooks/../src/package/osm/osm.py#106\u001b\\\u001b[2m106\u001b[0m\u001b]8;;\u001b\\\n"
            ]
          },
          "metadata": {},
          "output_type": "display_data"
        },
        {
          "data": {
            "text/html": [
              "<pre style=\"white-space:pre;overflow-x:auto;line-height:normal;font-family:Menlo,'DejaVu Sans Mono',consolas,'Courier New',monospace\"><span style=\"color: #7fbfbf; text-decoration-color: #7fbfbf\">           </span><span style=\"color: #000080; text-decoration-color: #000080\">INFO    </span> Loading OSM network from cache <span style=\"font-weight: bold\">(</span>walking<span style=\"font-weight: bold\">)</span>                                              <a href=\"file:///home/moritz/dev/uni/mcr-py/notebooks/../src/package/osm/osm.py\" target=\"_blank\"><span style=\"color: #7f7f7f; text-decoration-color: #7f7f7f\">osm.py</span></a><span style=\"color: #7f7f7f; text-decoration-color: #7f7f7f\">:</span><a href=\"file:///home/moritz/dev/uni/mcr-py/notebooks/../src/package/osm/osm.py#69\" target=\"_blank\"><span style=\"color: #7f7f7f; text-decoration-color: #7f7f7f\">69</span></a>\n",
              "</pre>\n"
            ],
            "text/plain": [
              "\u001b[2;36m          \u001b[0m\u001b[2;36m \u001b[0m\u001b[34mINFO    \u001b[0m Loading OSM network from cache \u001b[1m(\u001b[0mwalking\u001b[1m)\u001b[0m                                              \u001b]8;id=863486;file:///home/moritz/dev/uni/mcr-py/notebooks/../src/package/osm/osm.py\u001b\\\u001b[2mosm.py\u001b[0m\u001b]8;;\u001b\\\u001b[2m:\u001b[0m\u001b]8;id=424822;file:///home/moritz/dev/uni/mcr-py/notebooks/../src/package/osm/osm.py#69\u001b\\\u001b[2m69\u001b[0m\u001b]8;;\u001b\\\n"
            ]
          },
          "metadata": {},
          "output_type": "display_data"
        },
        {
          "data": {
            "text/html": [
              "<pre style=\"white-space:pre;overflow-x:auto;line-height:normal;font-family:Menlo,'DejaVu Sans Mono',consolas,'Courier New',monospace\"><span style=\"color: #7fbfbf; text-decoration-color: #7fbfbf\">[19:15:41] </span><span style=\"color: #000080; text-decoration-color: #000080\">INFO    </span> Using existing OSM data                                                              <a href=\"file:///home/moritz/dev/uni/mcr-py/notebooks/../src/package/osm/osm.py\" target=\"_blank\"><span style=\"color: #7f7f7f; text-decoration-color: #7f7f7f\">osm.py</span></a><span style=\"color: #7f7f7f; text-decoration-color: #7f7f7f\">:</span><a href=\"file:///home/moritz/dev/uni/mcr-py/notebooks/../src/package/osm/osm.py#106\" target=\"_blank\"><span style=\"color: #7f7f7f; text-decoration-color: #7f7f7f\">106</span></a>\n",
              "</pre>\n"
            ],
            "text/plain": [
              "\u001b[2;36m[19:15:41]\u001b[0m\u001b[2;36m \u001b[0m\u001b[34mINFO    \u001b[0m Using existing OSM data                                                              \u001b]8;id=624271;file:///home/moritz/dev/uni/mcr-py/notebooks/../src/package/osm/osm.py\u001b\\\u001b[2mosm.py\u001b[0m\u001b]8;;\u001b\\\u001b[2m:\u001b[0m\u001b]8;id=266582;file:///home/moritz/dev/uni/mcr-py/notebooks/../src/package/osm/osm.py#106\u001b\\\u001b[2m106\u001b[0m\u001b]8;;\u001b\\\n"
            ]
          },
          "metadata": {},
          "output_type": "display_data"
        },
        {
          "data": {
            "text/html": [
              "<pre style=\"white-space:pre;overflow-x:auto;line-height:normal;font-family:Menlo,'DejaVu Sans Mono',consolas,'Courier New',monospace\"><span style=\"color: #7fbfbf; text-decoration-color: #7fbfbf\">           </span><span style=\"color: #000080; text-decoration-color: #000080\">INFO    </span> Loading OSM network from cache <span style=\"font-weight: bold\">(</span>cycling<span style=\"font-weight: bold\">)</span>                                              <a href=\"file:///home/moritz/dev/uni/mcr-py/notebooks/../src/package/osm/osm.py\" target=\"_blank\"><span style=\"color: #7f7f7f; text-decoration-color: #7f7f7f\">osm.py</span></a><span style=\"color: #7f7f7f; text-decoration-color: #7f7f7f\">:</span><a href=\"file:///home/moritz/dev/uni/mcr-py/notebooks/../src/package/osm/osm.py#69\" target=\"_blank\"><span style=\"color: #7f7f7f; text-decoration-color: #7f7f7f\">69</span></a>\n",
              "</pre>\n"
            ],
            "text/plain": [
              "\u001b[2;36m          \u001b[0m\u001b[2;36m \u001b[0m\u001b[34mINFO    \u001b[0m Loading OSM network from cache \u001b[1m(\u001b[0mcycling\u001b[1m)\u001b[0m                                              \u001b]8;id=545067;file:///home/moritz/dev/uni/mcr-py/notebooks/../src/package/osm/osm.py\u001b\\\u001b[2mosm.py\u001b[0m\u001b]8;;\u001b\\\u001b[2m:\u001b[0m\u001b]8;id=877639;file:///home/moritz/dev/uni/mcr-py/notebooks/../src/package/osm/osm.py#69\u001b\\\u001b[2m69\u001b[0m\u001b]8;;\u001b\\\n"
            ]
          },
          "metadata": {},
          "output_type": "display_data"
        },
        {
          "data": {
            "text/html": [
              "<pre style=\"white-space:pre;overflow-x:auto;line-height:normal;font-family:Menlo,'DejaVu Sans Mono',consolas,'Courier New',monospace\"><span style=\"color: #7fbfbf; text-decoration-color: #7fbfbf\">[19:15:45] </span><span style=\"color: #000080; text-decoration-color: #000080\">INFO    </span> Fetching POI for runtime optimization                                         <a href=\"file:///home/moritz/dev/uni/mcr-py/notebooks/../src/command/step_config.py\" target=\"_blank\"><span style=\"color: #7f7f7f; text-decoration-color: #7f7f7f\">step_config.py</span></a><span style=\"color: #7f7f7f; text-decoration-color: #7f7f7f\">:</span><a href=\"file:///home/moritz/dev/uni/mcr-py/notebooks/../src/command/step_config.py#72\" target=\"_blank\"><span style=\"color: #7f7f7f; text-decoration-color: #7f7f7f\">72</span></a>\n",
              "</pre>\n"
            ],
            "text/plain": [
              "\u001b[2;36m[19:15:45]\u001b[0m\u001b[2;36m \u001b[0m\u001b[34mINFO    \u001b[0m Fetching POI for runtime optimization                                         \u001b]8;id=300199;file:///home/moritz/dev/uni/mcr-py/notebooks/../src/command/step_config.py\u001b\\\u001b[2mstep_config.py\u001b[0m\u001b]8;;\u001b\\\u001b[2m:\u001b[0m\u001b]8;id=348377;file:///home/moritz/dev/uni/mcr-py/notebooks/../src/command/step_config.py#72\u001b\\\u001b[2m72\u001b[0m\u001b]8;;\u001b\\\n"
            ]
          },
          "metadata": {},
          "output_type": "display_data"
        },
        {
          "data": {
            "text/html": [
              "<pre style=\"white-space:pre;overflow-x:auto;line-height:normal;font-family:Menlo,'DejaVu Sans Mono',consolas,'Courier New',monospace\"><span style=\"color: #7fbfbf; text-decoration-color: #7fbfbf\">           </span><span style=\"color: #000080; text-decoration-color: #000080\">INFO    </span> Fetching POI for runtime optimization done <span style=\"font-weight: bold\">(</span><span style=\"color: #008080; text-decoration-color: #008080; font-weight: bold\">0.11</span> seconds<span style=\"font-weight: bold\">)</span>                     <a href=\"file:///home/moritz/dev/uni/mcr-py/notebooks/../src/command/step_config.py\" target=\"_blank\"><span style=\"color: #7f7f7f; text-decoration-color: #7f7f7f\">step_config.py</span></a><span style=\"color: #7f7f7f; text-decoration-color: #7f7f7f\">:</span><a href=\"file:///home/moritz/dev/uni/mcr-py/notebooks/../src/command/step_config.py#72\" target=\"_blank\"><span style=\"color: #7f7f7f; text-decoration-color: #7f7f7f\">72</span></a>\n",
              "</pre>\n"
            ],
            "text/plain": [
              "\u001b[2;36m          \u001b[0m\u001b[2;36m \u001b[0m\u001b[34mINFO    \u001b[0m Fetching POI for runtime optimization done \u001b[1m(\u001b[0m\u001b[1;36m0.11\u001b[0m seconds\u001b[1m)\u001b[0m                     \u001b]8;id=768563;file:///home/moritz/dev/uni/mcr-py/notebooks/../src/command/step_config.py\u001b\\\u001b[2mstep_config.py\u001b[0m\u001b]8;;\u001b\\\u001b[2m:\u001b[0m\u001b]8;id=377891;file:///home/moritz/dev/uni/mcr-py/notebooks/../src/command/step_config.py#72\u001b\\\u001b[2m72\u001b[0m\u001b]8;;\u001b\\\n"
            ]
          },
          "metadata": {},
          "output_type": "display_data"
        },
        {
          "data": {
            "text/html": [
              "<pre style=\"white-space:pre;overflow-x:auto;line-height:normal;font-family:Menlo,'DejaVu Sans Mono',consolas,'Courier New',monospace\"><span style=\"color: #7fbfbf; text-decoration-color: #7fbfbf\">[19:15:49] </span><span style=\"color: #000080; text-decoration-color: #000080\">INFO    </span> Reading stops                                                           <a href=\"file:///home/moritz/dev/uni/mcr-py/notebooks/../src/package/mcr/steps/public_transport.py\" target=\"_blank\"><span style=\"color: #7f7f7f; text-decoration-color: #7f7f7f\">public_transport.py</span></a><span style=\"color: #7f7f7f; text-decoration-color: #7f7f7f\">:</span><a href=\"file:///home/moritz/dev/uni/mcr-py/notebooks/../src/package/mcr/steps/public_transport.py#141\" target=\"_blank\"><span style=\"color: #7f7f7f; text-decoration-color: #7f7f7f\">141</span></a>\n",
              "</pre>\n"
            ],
            "text/plain": [
              "\u001b[2;36m[19:15:49]\u001b[0m\u001b[2;36m \u001b[0m\u001b[34mINFO    \u001b[0m Reading stops                                                           \u001b]8;id=92069;file:///home/moritz/dev/uni/mcr-py/notebooks/../src/package/mcr/steps/public_transport.py\u001b\\\u001b[2mpublic_transport.py\u001b[0m\u001b]8;;\u001b\\\u001b[2m:\u001b[0m\u001b]8;id=606783;file:///home/moritz/dev/uni/mcr-py/notebooks/../src/package/mcr/steps/public_transport.py#141\u001b\\\u001b[2m141\u001b[0m\u001b]8;;\u001b\\\n"
            ]
          },
          "metadata": {},
          "output_type": "display_data"
        },
        {
          "data": {
            "text/html": [
              "<pre style=\"white-space:pre;overflow-x:auto;line-height:normal;font-family:Menlo,'DejaVu Sans Mono',consolas,'Courier New',monospace\"><span style=\"color: #7fbfbf; text-decoration-color: #7fbfbf\">           </span><span style=\"color: #000080; text-decoration-color: #000080\">INFO    </span> Reading stops done <span style=\"font-weight: bold\">(</span><span style=\"color: #008080; text-decoration-color: #008080; font-weight: bold\">0.03</span> seconds<span style=\"font-weight: bold\">)</span>                                       <a href=\"file:///home/moritz/dev/uni/mcr-py/notebooks/../src/package/mcr/steps/public_transport.py\" target=\"_blank\"><span style=\"color: #7f7f7f; text-decoration-color: #7f7f7f\">public_transport.py</span></a><span style=\"color: #7f7f7f; text-decoration-color: #7f7f7f\">:</span><a href=\"file:///home/moritz/dev/uni/mcr-py/notebooks/../src/package/mcr/steps/public_transport.py#141\" target=\"_blank\"><span style=\"color: #7f7f7f; text-decoration-color: #7f7f7f\">141</span></a>\n",
              "</pre>\n"
            ],
            "text/plain": [
              "\u001b[2;36m          \u001b[0m\u001b[2;36m \u001b[0m\u001b[34mINFO    \u001b[0m Reading stops done \u001b[1m(\u001b[0m\u001b[1;36m0.03\u001b[0m seconds\u001b[1m)\u001b[0m                                       \u001b]8;id=793373;file:///home/moritz/dev/uni/mcr-py/notebooks/../src/package/mcr/steps/public_transport.py\u001b\\\u001b[2mpublic_transport.py\u001b[0m\u001b]8;;\u001b\\\u001b[2m:\u001b[0m\u001b]8;id=921564;file:///home/moritz/dev/uni/mcr-py/notebooks/../src/package/mcr/steps/public_transport.py#141\u001b\\\u001b[2m141\u001b[0m\u001b]8;;\u001b\\\n"
            ]
          },
          "metadata": {},
          "output_type": "display_data"
        },
        {
          "data": {
            "text/html": [
              "<pre style=\"white-space:pre;overflow-x:auto;line-height:normal;font-family:Menlo,'DejaVu Sans Mono',consolas,'Courier New',monospace\"><span style=\"color: #7fbfbf; text-decoration-color: #7fbfbf\">[19:15:50] </span><span style=\"color: #000080; text-decoration-color: #000080\">INFO    </span> Using existing OSM data                                                              <a href=\"file:///home/moritz/dev/uni/mcr-py/notebooks/../src/package/osm/osm.py\" target=\"_blank\"><span style=\"color: #7f7f7f; text-decoration-color: #7f7f7f\">osm.py</span></a><span style=\"color: #7f7f7f; text-decoration-color: #7f7f7f\">:</span><a href=\"file:///home/moritz/dev/uni/mcr-py/notebooks/../src/package/osm/osm.py#106\" target=\"_blank\"><span style=\"color: #7f7f7f; text-decoration-color: #7f7f7f\">106</span></a>\n",
              "</pre>\n"
            ],
            "text/plain": [
              "\u001b[2;36m[19:15:50]\u001b[0m\u001b[2;36m \u001b[0m\u001b[34mINFO    \u001b[0m Using existing OSM data                                                              \u001b]8;id=281239;file:///home/moritz/dev/uni/mcr-py/notebooks/../src/package/osm/osm.py\u001b\\\u001b[2mosm.py\u001b[0m\u001b]8;;\u001b\\\u001b[2m:\u001b[0m\u001b]8;id=482165;file:///home/moritz/dev/uni/mcr-py/notebooks/../src/package/osm/osm.py#106\u001b\\\u001b[2m106\u001b[0m\u001b]8;;\u001b\\\n"
            ]
          },
          "metadata": {},
          "output_type": "display_data"
        },
        {
          "data": {
            "text/html": [
              "<pre style=\"white-space:pre;overflow-x:auto;line-height:normal;font-family:Menlo,'DejaVu Sans Mono',consolas,'Courier New',monospace\"><span style=\"color: #7fbfbf; text-decoration-color: #7fbfbf\">           </span><span style=\"color: #000080; text-decoration-color: #000080\">INFO    </span> Loading OSM network from cache <span style=\"font-weight: bold\">(</span>walking<span style=\"font-weight: bold\">)</span>                                              <a href=\"file:///home/moritz/dev/uni/mcr-py/notebooks/../src/package/osm/osm.py\" target=\"_blank\"><span style=\"color: #7f7f7f; text-decoration-color: #7f7f7f\">osm.py</span></a><span style=\"color: #7f7f7f; text-decoration-color: #7f7f7f\">:</span><a href=\"file:///home/moritz/dev/uni/mcr-py/notebooks/../src/package/osm/osm.py#69\" target=\"_blank\"><span style=\"color: #7f7f7f; text-decoration-color: #7f7f7f\">69</span></a>\n",
              "</pre>\n"
            ],
            "text/plain": [
              "\u001b[2;36m          \u001b[0m\u001b[2;36m \u001b[0m\u001b[34mINFO    \u001b[0m Loading OSM network from cache \u001b[1m(\u001b[0mwalking\u001b[1m)\u001b[0m                                              \u001b]8;id=781810;file:///home/moritz/dev/uni/mcr-py/notebooks/../src/package/osm/osm.py\u001b\\\u001b[2mosm.py\u001b[0m\u001b]8;;\u001b\\\u001b[2m:\u001b[0m\u001b]8;id=960703;file:///home/moritz/dev/uni/mcr-py/notebooks/../src/package/osm/osm.py#69\u001b\\\u001b[2m69\u001b[0m\u001b]8;;\u001b\\\n"
            ]
          },
          "metadata": {},
          "output_type": "display_data"
        },
        {
          "data": {
            "text/html": [
              "<pre style=\"white-space:pre;overflow-x:auto;line-height:normal;font-family:Menlo,'DejaVu Sans Mono',consolas,'Courier New',monospace\"><span style=\"color: #7fbfbf; text-decoration-color: #7fbfbf\">[19:15:55] </span><span style=\"color: #000080; text-decoration-color: #000080\">INFO    </span> Using existing OSM data                                                              <a href=\"file:///home/moritz/dev/uni/mcr-py/notebooks/../src/package/osm/osm.py\" target=\"_blank\"><span style=\"color: #7f7f7f; text-decoration-color: #7f7f7f\">osm.py</span></a><span style=\"color: #7f7f7f; text-decoration-color: #7f7f7f\">:</span><a href=\"file:///home/moritz/dev/uni/mcr-py/notebooks/../src/package/osm/osm.py#106\" target=\"_blank\"><span style=\"color: #7f7f7f; text-decoration-color: #7f7f7f\">106</span></a>\n",
              "</pre>\n"
            ],
            "text/plain": [
              "\u001b[2;36m[19:15:55]\u001b[0m\u001b[2;36m \u001b[0m\u001b[34mINFO    \u001b[0m Using existing OSM data                                                              \u001b]8;id=923506;file:///home/moritz/dev/uni/mcr-py/notebooks/../src/package/osm/osm.py\u001b\\\u001b[2mosm.py\u001b[0m\u001b]8;;\u001b\\\u001b[2m:\u001b[0m\u001b]8;id=677882;file:///home/moritz/dev/uni/mcr-py/notebooks/../src/package/osm/osm.py#106\u001b\\\u001b[2m106\u001b[0m\u001b]8;;\u001b\\\n"
            ]
          },
          "metadata": {},
          "output_type": "display_data"
        },
        {
          "data": {
            "text/html": [
              "<pre style=\"white-space:pre;overflow-x:auto;line-height:normal;font-family:Menlo,'DejaVu Sans Mono',consolas,'Courier New',monospace\"><span style=\"color: #7fbfbf; text-decoration-color: #7fbfbf\">           </span><span style=\"color: #000080; text-decoration-color: #000080\">INFO    </span> Loading OSM network from cache <span style=\"font-weight: bold\">(</span>driving<span style=\"font-weight: bold\">)</span>                                              <a href=\"file:///home/moritz/dev/uni/mcr-py/notebooks/../src/package/osm/osm.py\" target=\"_blank\"><span style=\"color: #7f7f7f; text-decoration-color: #7f7f7f\">osm.py</span></a><span style=\"color: #7f7f7f; text-decoration-color: #7f7f7f\">:</span><a href=\"file:///home/moritz/dev/uni/mcr-py/notebooks/../src/package/osm/osm.py#69\" target=\"_blank\"><span style=\"color: #7f7f7f; text-decoration-color: #7f7f7f\">69</span></a>\n",
              "</pre>\n"
            ],
            "text/plain": [
              "\u001b[2;36m          \u001b[0m\u001b[2;36m \u001b[0m\u001b[34mINFO    \u001b[0m Loading OSM network from cache \u001b[1m(\u001b[0mdriving\u001b[1m)\u001b[0m                                              \u001b]8;id=606592;file:///home/moritz/dev/uni/mcr-py/notebooks/../src/package/osm/osm.py\u001b\\\u001b[2mosm.py\u001b[0m\u001b]8;;\u001b\\\u001b[2m:\u001b[0m\u001b]8;id=775603;file:///home/moritz/dev/uni/mcr-py/notebooks/../src/package/osm/osm.py#69\u001b\\\u001b[2m69\u001b[0m\u001b]8;;\u001b\\\n"
            ]
          },
          "metadata": {},
          "output_type": "display_data"
        },
        {
          "data": {
            "text/html": [
              "<pre style=\"white-space:pre;overflow-x:auto;line-height:normal;font-family:Menlo,'DejaVu Sans Mono',consolas,'Courier New',monospace\"><span style=\"color: #7fbfbf; text-decoration-color: #7fbfbf\">[19:15:57] </span><span style=\"color: #000080; text-decoration-color: #000080\">INFO    </span> Fetching POI for runtime optimization                                         <a href=\"file:///home/moritz/dev/uni/mcr-py/notebooks/../src/command/step_config.py\" target=\"_blank\"><span style=\"color: #7f7f7f; text-decoration-color: #7f7f7f\">step_config.py</span></a><span style=\"color: #7f7f7f; text-decoration-color: #7f7f7f\">:</span><a href=\"file:///home/moritz/dev/uni/mcr-py/notebooks/../src/command/step_config.py#37\" target=\"_blank\"><span style=\"color: #7f7f7f; text-decoration-color: #7f7f7f\">37</span></a>\n",
              "</pre>\n"
            ],
            "text/plain": [
              "\u001b[2;36m[19:15:57]\u001b[0m\u001b[2;36m \u001b[0m\u001b[34mINFO    \u001b[0m Fetching POI for runtime optimization                                         \u001b]8;id=724798;file:///home/moritz/dev/uni/mcr-py/notebooks/../src/command/step_config.py\u001b\\\u001b[2mstep_config.py\u001b[0m\u001b]8;;\u001b\\\u001b[2m:\u001b[0m\u001b]8;id=932151;file:///home/moritz/dev/uni/mcr-py/notebooks/../src/command/step_config.py#37\u001b\\\u001b[2m37\u001b[0m\u001b]8;;\u001b\\\n"
            ]
          },
          "metadata": {},
          "output_type": "display_data"
        },
        {
          "data": {
            "text/html": [
              "<pre style=\"white-space:pre;overflow-x:auto;line-height:normal;font-family:Menlo,'DejaVu Sans Mono',consolas,'Courier New',monospace\"><span style=\"color: #7fbfbf; text-decoration-color: #7fbfbf\">           </span><span style=\"color: #000080; text-decoration-color: #000080\">INFO    </span> Fetching POI for runtime optimization done <span style=\"font-weight: bold\">(</span><span style=\"color: #008080; text-decoration-color: #008080; font-weight: bold\">0.01</span> seconds<span style=\"font-weight: bold\">)</span>                     <a href=\"file:///home/moritz/dev/uni/mcr-py/notebooks/../src/command/step_config.py\" target=\"_blank\"><span style=\"color: #7f7f7f; text-decoration-color: #7f7f7f\">step_config.py</span></a><span style=\"color: #7f7f7f; text-decoration-color: #7f7f7f\">:</span><a href=\"file:///home/moritz/dev/uni/mcr-py/notebooks/../src/command/step_config.py#37\" target=\"_blank\"><span style=\"color: #7f7f7f; text-decoration-color: #7f7f7f\">37</span></a>\n",
              "</pre>\n"
            ],
            "text/plain": [
              "\u001b[2;36m          \u001b[0m\u001b[2;36m \u001b[0m\u001b[34mINFO    \u001b[0m Fetching POI for runtime optimization done \u001b[1m(\u001b[0m\u001b[1;36m0.01\u001b[0m seconds\u001b[1m)\u001b[0m                     \u001b]8;id=932758;file:///home/moritz/dev/uni/mcr-py/notebooks/../src/command/step_config.py\u001b\\\u001b[2mstep_config.py\u001b[0m\u001b]8;;\u001b\\\u001b[2m:\u001b[0m\u001b]8;id=224599;file:///home/moritz/dev/uni/mcr-py/notebooks/../src/command/step_config.py#37\u001b\\\u001b[2m37\u001b[0m\u001b]8;;\u001b\\\n"
            ]
          },
          "metadata": {},
          "output_type": "display_data"
        },
        {
          "data": {
            "text/html": [
              "<pre style=\"white-space:pre;overflow-x:auto;line-height:normal;font-family:Menlo,'DejaVu Sans Mono',consolas,'Courier New',monospace\"><span style=\"color: #7fbfbf; text-decoration-color: #7fbfbf\">[19:16:00] </span><span style=\"color: #000080; text-decoration-color: #000080\">INFO    </span> Using existing OSM data                                                              <a href=\"file:///home/moritz/dev/uni/mcr-py/notebooks/../src/package/osm/osm.py\" target=\"_blank\"><span style=\"color: #7f7f7f; text-decoration-color: #7f7f7f\">osm.py</span></a><span style=\"color: #7f7f7f; text-decoration-color: #7f7f7f\">:</span><a href=\"file:///home/moritz/dev/uni/mcr-py/notebooks/../src/package/osm/osm.py#106\" target=\"_blank\"><span style=\"color: #7f7f7f; text-decoration-color: #7f7f7f\">106</span></a>\n",
              "</pre>\n"
            ],
            "text/plain": [
              "\u001b[2;36m[19:16:00]\u001b[0m\u001b[2;36m \u001b[0m\u001b[34mINFO    \u001b[0m Using existing OSM data                                                              \u001b]8;id=180040;file:///home/moritz/dev/uni/mcr-py/notebooks/../src/package/osm/osm.py\u001b\\\u001b[2mosm.py\u001b[0m\u001b]8;;\u001b\\\u001b[2m:\u001b[0m\u001b]8;id=535869;file:///home/moritz/dev/uni/mcr-py/notebooks/../src/package/osm/osm.py#106\u001b\\\u001b[2m106\u001b[0m\u001b]8;;\u001b\\\n"
            ]
          },
          "metadata": {},
          "output_type": "display_data"
        },
        {
          "data": {
            "text/html": [
              "<pre style=\"white-space:pre;overflow-x:auto;line-height:normal;font-family:Menlo,'DejaVu Sans Mono',consolas,'Courier New',monospace\"><span style=\"color: #7fbfbf; text-decoration-color: #7fbfbf\">           </span><span style=\"color: #000080; text-decoration-color: #000080\">INFO    </span> Loading OSM network from cache <span style=\"font-weight: bold\">(</span>walking<span style=\"font-weight: bold\">)</span>                                              <a href=\"file:///home/moritz/dev/uni/mcr-py/notebooks/../src/package/osm/osm.py\" target=\"_blank\"><span style=\"color: #7f7f7f; text-decoration-color: #7f7f7f\">osm.py</span></a><span style=\"color: #7f7f7f; text-decoration-color: #7f7f7f\">:</span><a href=\"file:///home/moritz/dev/uni/mcr-py/notebooks/../src/package/osm/osm.py#69\" target=\"_blank\"><span style=\"color: #7f7f7f; text-decoration-color: #7f7f7f\">69</span></a>\n",
              "</pre>\n"
            ],
            "text/plain": [
              "\u001b[2;36m          \u001b[0m\u001b[2;36m \u001b[0m\u001b[34mINFO    \u001b[0m Loading OSM network from cache \u001b[1m(\u001b[0mwalking\u001b[1m)\u001b[0m                                              \u001b]8;id=434473;file:///home/moritz/dev/uni/mcr-py/notebooks/../src/package/osm/osm.py\u001b\\\u001b[2mosm.py\u001b[0m\u001b]8;;\u001b\\\u001b[2m:\u001b[0m\u001b]8;id=121684;file:///home/moritz/dev/uni/mcr-py/notebooks/../src/package/osm/osm.py#69\u001b\\\u001b[2m69\u001b[0m\u001b]8;;\u001b\\\n"
            ]
          },
          "metadata": {},
          "output_type": "display_data"
        },
        {
          "data": {
            "text/html": [
              "<pre style=\"white-space:pre;overflow-x:auto;line-height:normal;font-family:Menlo,'DejaVu Sans Mono',consolas,'Courier New',monospace\"><span style=\"color: #7fbfbf; text-decoration-color: #7fbfbf\">[19:16:05] </span><span style=\"color: #000080; text-decoration-color: #000080\">INFO    </span> Using existing OSM data                                                              <a href=\"file:///home/moritz/dev/uni/mcr-py/notebooks/../src/package/osm/osm.py\" target=\"_blank\"><span style=\"color: #7f7f7f; text-decoration-color: #7f7f7f\">osm.py</span></a><span style=\"color: #7f7f7f; text-decoration-color: #7f7f7f\">:</span><a href=\"file:///home/moritz/dev/uni/mcr-py/notebooks/../src/package/osm/osm.py#106\" target=\"_blank\"><span style=\"color: #7f7f7f; text-decoration-color: #7f7f7f\">106</span></a>\n",
              "</pre>\n"
            ],
            "text/plain": [
              "\u001b[2;36m[19:16:05]\u001b[0m\u001b[2;36m \u001b[0m\u001b[34mINFO    \u001b[0m Using existing OSM data                                                              \u001b]8;id=791822;file:///home/moritz/dev/uni/mcr-py/notebooks/../src/package/osm/osm.py\u001b\\\u001b[2mosm.py\u001b[0m\u001b]8;;\u001b\\\u001b[2m:\u001b[0m\u001b]8;id=889051;file:///home/moritz/dev/uni/mcr-py/notebooks/../src/package/osm/osm.py#106\u001b\\\u001b[2m106\u001b[0m\u001b]8;;\u001b\\\n"
            ]
          },
          "metadata": {},
          "output_type": "display_data"
        },
        {
          "data": {
            "text/html": [
              "<pre style=\"white-space:pre;overflow-x:auto;line-height:normal;font-family:Menlo,'DejaVu Sans Mono',consolas,'Courier New',monospace\"><span style=\"color: #7fbfbf; text-decoration-color: #7fbfbf\">           </span><span style=\"color: #000080; text-decoration-color: #000080\">INFO    </span> Loading OSM network from cache <span style=\"font-weight: bold\">(</span>cycling<span style=\"font-weight: bold\">)</span>                                              <a href=\"file:///home/moritz/dev/uni/mcr-py/notebooks/../src/package/osm/osm.py\" target=\"_blank\"><span style=\"color: #7f7f7f; text-decoration-color: #7f7f7f\">osm.py</span></a><span style=\"color: #7f7f7f; text-decoration-color: #7f7f7f\">:</span><a href=\"file:///home/moritz/dev/uni/mcr-py/notebooks/../src/package/osm/osm.py#69\" target=\"_blank\"><span style=\"color: #7f7f7f; text-decoration-color: #7f7f7f\">69</span></a>\n",
              "</pre>\n"
            ],
            "text/plain": [
              "\u001b[2;36m          \u001b[0m\u001b[2;36m \u001b[0m\u001b[34mINFO    \u001b[0m Loading OSM network from cache \u001b[1m(\u001b[0mcycling\u001b[1m)\u001b[0m                                              \u001b]8;id=748739;file:///home/moritz/dev/uni/mcr-py/notebooks/../src/package/osm/osm.py\u001b\\\u001b[2mosm.py\u001b[0m\u001b]8;;\u001b\\\u001b[2m:\u001b[0m\u001b]8;id=464115;file:///home/moritz/dev/uni/mcr-py/notebooks/../src/package/osm/osm.py#69\u001b\\\u001b[2m69\u001b[0m\u001b]8;;\u001b\\\n"
            ]
          },
          "metadata": {},
          "output_type": "display_data"
        },
        {
          "data": {
            "text/html": [
              "<pre style=\"white-space:pre;overflow-x:auto;line-height:normal;font-family:Menlo,'DejaVu Sans Mono',consolas,'Courier New',monospace\"><span style=\"color: #7fbfbf; text-decoration-color: #7fbfbf\">[19:16:08] </span><span style=\"color: #000080; text-decoration-color: #000080\">INFO    </span> Fetching POI for runtime optimization                                        <a href=\"file:///home/moritz/dev/uni/mcr-py/notebooks/../src/command/step_config.py\" target=\"_blank\"><span style=\"color: #7f7f7f; text-decoration-color: #7f7f7f\">step_config.py</span></a><span style=\"color: #7f7f7f; text-decoration-color: #7f7f7f\">:</span><a href=\"file:///home/moritz/dev/uni/mcr-py/notebooks/../src/command/step_config.py#123\" target=\"_blank\"><span style=\"color: #7f7f7f; text-decoration-color: #7f7f7f\">123</span></a>\n",
              "</pre>\n"
            ],
            "text/plain": [
              "\u001b[2;36m[19:16:08]\u001b[0m\u001b[2;36m \u001b[0m\u001b[34mINFO    \u001b[0m Fetching POI for runtime optimization                                        \u001b]8;id=358773;file:///home/moritz/dev/uni/mcr-py/notebooks/../src/command/step_config.py\u001b\\\u001b[2mstep_config.py\u001b[0m\u001b]8;;\u001b\\\u001b[2m:\u001b[0m\u001b]8;id=978694;file:///home/moritz/dev/uni/mcr-py/notebooks/../src/command/step_config.py#123\u001b\\\u001b[2m123\u001b[0m\u001b]8;;\u001b\\\n"
            ]
          },
          "metadata": {},
          "output_type": "display_data"
        },
        {
          "data": {
            "text/html": [
              "<pre style=\"white-space:pre;overflow-x:auto;line-height:normal;font-family:Menlo,'DejaVu Sans Mono',consolas,'Courier New',monospace\"><span style=\"color: #7fbfbf; text-decoration-color: #7fbfbf\">           </span><span style=\"color: #000080; text-decoration-color: #000080\">INFO    </span> Fetching POI for runtime optimization done <span style=\"font-weight: bold\">(</span><span style=\"color: #008080; text-decoration-color: #008080; font-weight: bold\">0.01</span> seconds<span style=\"font-weight: bold\">)</span>                    <a href=\"file:///home/moritz/dev/uni/mcr-py/notebooks/../src/command/step_config.py\" target=\"_blank\"><span style=\"color: #7f7f7f; text-decoration-color: #7f7f7f\">step_config.py</span></a><span style=\"color: #7f7f7f; text-decoration-color: #7f7f7f\">:</span><a href=\"file:///home/moritz/dev/uni/mcr-py/notebooks/../src/command/step_config.py#123\" target=\"_blank\"><span style=\"color: #7f7f7f; text-decoration-color: #7f7f7f\">123</span></a>\n",
              "</pre>\n"
            ],
            "text/plain": [
              "\u001b[2;36m          \u001b[0m\u001b[2;36m \u001b[0m\u001b[34mINFO    \u001b[0m Fetching POI for runtime optimization done \u001b[1m(\u001b[0m\u001b[1;36m0.01\u001b[0m seconds\u001b[1m)\u001b[0m                    \u001b]8;id=163658;file:///home/moritz/dev/uni/mcr-py/notebooks/../src/command/step_config.py\u001b\\\u001b[2mstep_config.py\u001b[0m\u001b]8;;\u001b\\\u001b[2m:\u001b[0m\u001b]8;id=211029;file:///home/moritz/dev/uni/mcr-py/notebooks/../src/command/step_config.py#123\u001b\\\u001b[2m123\u001b[0m\u001b]8;;\u001b\\\n"
            ]
          },
          "metadata": {},
          "output_type": "display_data"
        },
        {
          "data": {
            "text/html": [
              "<pre style=\"white-space:pre;overflow-x:auto;line-height:normal;font-family:Menlo,'DejaVu Sans Mono',consolas,'Courier New',monospace\"><span style=\"color: #7fbfbf; text-decoration-color: #7fbfbf\">[19:16:14] </span><span style=\"color: #000080; text-decoration-color: #000080\">INFO    </span> Using existing OSM data                                                              <a href=\"file:///home/moritz/dev/uni/mcr-py/notebooks/../src/package/osm/osm.py\" target=\"_blank\"><span style=\"color: #7f7f7f; text-decoration-color: #7f7f7f\">osm.py</span></a><span style=\"color: #7f7f7f; text-decoration-color: #7f7f7f\">:</span><a href=\"file:///home/moritz/dev/uni/mcr-py/notebooks/../src/package/osm/osm.py#106\" target=\"_blank\"><span style=\"color: #7f7f7f; text-decoration-color: #7f7f7f\">106</span></a>\n",
              "</pre>\n"
            ],
            "text/plain": [
              "\u001b[2;36m[19:16:14]\u001b[0m\u001b[2;36m \u001b[0m\u001b[34mINFO    \u001b[0m Using existing OSM data                                                              \u001b]8;id=464086;file:///home/moritz/dev/uni/mcr-py/notebooks/../src/package/osm/osm.py\u001b\\\u001b[2mosm.py\u001b[0m\u001b]8;;\u001b\\\u001b[2m:\u001b[0m\u001b]8;id=302860;file:///home/moritz/dev/uni/mcr-py/notebooks/../src/package/osm/osm.py#106\u001b\\\u001b[2m106\u001b[0m\u001b]8;;\u001b\\\n"
            ]
          },
          "metadata": {},
          "output_type": "display_data"
        },
        {
          "data": {
            "text/html": [
              "<pre style=\"white-space:pre;overflow-x:auto;line-height:normal;font-family:Menlo,'DejaVu Sans Mono',consolas,'Courier New',monospace\"><span style=\"color: #7fbfbf; text-decoration-color: #7fbfbf\">           </span><span style=\"color: #000080; text-decoration-color: #000080\">INFO    </span> Loading OSM network from cache <span style=\"font-weight: bold\">(</span>walking<span style=\"font-weight: bold\">)</span>                                              <a href=\"file:///home/moritz/dev/uni/mcr-py/notebooks/../src/package/osm/osm.py\" target=\"_blank\"><span style=\"color: #7f7f7f; text-decoration-color: #7f7f7f\">osm.py</span></a><span style=\"color: #7f7f7f; text-decoration-color: #7f7f7f\">:</span><a href=\"file:///home/moritz/dev/uni/mcr-py/notebooks/../src/package/osm/osm.py#69\" target=\"_blank\"><span style=\"color: #7f7f7f; text-decoration-color: #7f7f7f\">69</span></a>\n",
              "</pre>\n"
            ],
            "text/plain": [
              "\u001b[2;36m          \u001b[0m\u001b[2;36m \u001b[0m\u001b[34mINFO    \u001b[0m Loading OSM network from cache \u001b[1m(\u001b[0mwalking\u001b[1m)\u001b[0m                                              \u001b]8;id=906368;file:///home/moritz/dev/uni/mcr-py/notebooks/../src/package/osm/osm.py\u001b\\\u001b[2mosm.py\u001b[0m\u001b]8;;\u001b\\\u001b[2m:\u001b[0m\u001b]8;id=813764;file:///home/moritz/dev/uni/mcr-py/notebooks/../src/package/osm/osm.py#69\u001b\\\u001b[2m69\u001b[0m\u001b]8;;\u001b\\\n"
            ]
          },
          "metadata": {},
          "output_type": "display_data"
        },
        {
          "data": {
            "text/html": [
              "<pre style=\"white-space:pre;overflow-x:auto;line-height:normal;font-family:Menlo,'DejaVu Sans Mono',consolas,'Courier New',monospace\"><span style=\"color: #7fbfbf; text-decoration-color: #7fbfbf\">[19:16:18] </span><span style=\"color: #000080; text-decoration-color: #000080\">INFO    </span> Fetching POI for runtime optimization                                        <a href=\"file:///home/moritz/dev/uni/mcr-py/notebooks/../src/command/step_config.py\" target=\"_blank\"><span style=\"color: #7f7f7f; text-decoration-color: #7f7f7f\">step_config.py</span></a><span style=\"color: #7f7f7f; text-decoration-color: #7f7f7f\">:</span><a href=\"file:///home/moritz/dev/uni/mcr-py/notebooks/../src/command/step_config.py#194\" target=\"_blank\"><span style=\"color: #7f7f7f; text-decoration-color: #7f7f7f\">194</span></a>\n",
              "</pre>\n"
            ],
            "text/plain": [
              "\u001b[2;36m[19:16:18]\u001b[0m\u001b[2;36m \u001b[0m\u001b[34mINFO    \u001b[0m Fetching POI for runtime optimization                                        \u001b]8;id=19309;file:///home/moritz/dev/uni/mcr-py/notebooks/../src/command/step_config.py\u001b\\\u001b[2mstep_config.py\u001b[0m\u001b]8;;\u001b\\\u001b[2m:\u001b[0m\u001b]8;id=28596;file:///home/moritz/dev/uni/mcr-py/notebooks/../src/command/step_config.py#194\u001b\\\u001b[2m194\u001b[0m\u001b]8;;\u001b\\\n"
            ]
          },
          "metadata": {},
          "output_type": "display_data"
        },
        {
          "data": {
            "text/html": [
              "<pre style=\"white-space:pre;overflow-x:auto;line-height:normal;font-family:Menlo,'DejaVu Sans Mono',consolas,'Courier New',monospace\"><span style=\"color: #7fbfbf; text-decoration-color: #7fbfbf\">           </span><span style=\"color: #000080; text-decoration-color: #000080\">INFO    </span> Fetching POI for runtime optimization done <span style=\"font-weight: bold\">(</span><span style=\"color: #008080; text-decoration-color: #008080; font-weight: bold\">0.01</span> seconds<span style=\"font-weight: bold\">)</span>                    <a href=\"file:///home/moritz/dev/uni/mcr-py/notebooks/../src/command/step_config.py\" target=\"_blank\"><span style=\"color: #7f7f7f; text-decoration-color: #7f7f7f\">step_config.py</span></a><span style=\"color: #7f7f7f; text-decoration-color: #7f7f7f\">:</span><a href=\"file:///home/moritz/dev/uni/mcr-py/notebooks/../src/command/step_config.py#194\" target=\"_blank\"><span style=\"color: #7f7f7f; text-decoration-color: #7f7f7f\">194</span></a>\n",
              "</pre>\n"
            ],
            "text/plain": [
              "\u001b[2;36m          \u001b[0m\u001b[2;36m \u001b[0m\u001b[34mINFO    \u001b[0m Fetching POI for runtime optimization done \u001b[1m(\u001b[0m\u001b[1;36m0.01\u001b[0m seconds\u001b[1m)\u001b[0m                    \u001b]8;id=552789;file:///home/moritz/dev/uni/mcr-py/notebooks/../src/command/step_config.py\u001b\\\u001b[2mstep_config.py\u001b[0m\u001b]8;;\u001b\\\u001b[2m:\u001b[0m\u001b]8;id=757480;file:///home/moritz/dev/uni/mcr-py/notebooks/../src/command/step_config.py#194\u001b\\\u001b[2m194\u001b[0m\u001b]8;;\u001b\\\n"
            ]
          },
          "metadata": {},
          "output_type": "display_data"
        },
        {
          "data": {
            "text/html": [
              "<pre style=\"white-space:pre;overflow-x:auto;line-height:normal;font-family:Menlo,'DejaVu Sans Mono',consolas,'Courier New',monospace\"><span style=\"color: #7fbfbf; text-decoration-color: #7fbfbf\">[19:16:19] </span><span style=\"color: #000080; text-decoration-color: #000080\">INFO    </span> Reading stops                                                           <a href=\"file:///home/moritz/dev/uni/mcr-py/notebooks/../src/package/mcr/steps/public_transport.py\" target=\"_blank\"><span style=\"color: #7f7f7f; text-decoration-color: #7f7f7f\">public_transport.py</span></a><span style=\"color: #7f7f7f; text-decoration-color: #7f7f7f\">:</span><a href=\"file:///home/moritz/dev/uni/mcr-py/notebooks/../src/package/mcr/steps/public_transport.py#141\" target=\"_blank\"><span style=\"color: #7f7f7f; text-decoration-color: #7f7f7f\">141</span></a>\n",
              "</pre>\n"
            ],
            "text/plain": [
              "\u001b[2;36m[19:16:19]\u001b[0m\u001b[2;36m \u001b[0m\u001b[34mINFO    \u001b[0m Reading stops                                                           \u001b]8;id=984979;file:///home/moritz/dev/uni/mcr-py/notebooks/../src/package/mcr/steps/public_transport.py\u001b\\\u001b[2mpublic_transport.py\u001b[0m\u001b]8;;\u001b\\\u001b[2m:\u001b[0m\u001b]8;id=164261;file:///home/moritz/dev/uni/mcr-py/notebooks/../src/package/mcr/steps/public_transport.py#141\u001b\\\u001b[2m141\u001b[0m\u001b]8;;\u001b\\\n"
            ]
          },
          "metadata": {},
          "output_type": "display_data"
        },
        {
          "data": {
            "text/html": [
              "<pre style=\"white-space:pre;overflow-x:auto;line-height:normal;font-family:Menlo,'DejaVu Sans Mono',consolas,'Courier New',monospace\"><span style=\"color: #7fbfbf; text-decoration-color: #7fbfbf\">           </span><span style=\"color: #000080; text-decoration-color: #000080\">INFO    </span> Reading stops done <span style=\"font-weight: bold\">(</span><span style=\"color: #008080; text-decoration-color: #008080; font-weight: bold\">0.02</span> seconds<span style=\"font-weight: bold\">)</span>                                       <a href=\"file:///home/moritz/dev/uni/mcr-py/notebooks/../src/package/mcr/steps/public_transport.py\" target=\"_blank\"><span style=\"color: #7f7f7f; text-decoration-color: #7f7f7f\">public_transport.py</span></a><span style=\"color: #7f7f7f; text-decoration-color: #7f7f7f\">:</span><a href=\"file:///home/moritz/dev/uni/mcr-py/notebooks/../src/package/mcr/steps/public_transport.py#141\" target=\"_blank\"><span style=\"color: #7f7f7f; text-decoration-color: #7f7f7f\">141</span></a>\n",
              "</pre>\n"
            ],
            "text/plain": [
              "\u001b[2;36m          \u001b[0m\u001b[2;36m \u001b[0m\u001b[34mINFO    \u001b[0m Reading stops done \u001b[1m(\u001b[0m\u001b[1;36m0.02\u001b[0m seconds\u001b[1m)\u001b[0m                                       \u001b]8;id=274560;file:///home/moritz/dev/uni/mcr-py/notebooks/../src/package/mcr/steps/public_transport.py\u001b\\\u001b[2mpublic_transport.py\u001b[0m\u001b]8;;\u001b\\\u001b[2m:\u001b[0m\u001b]8;id=642447;file:///home/moritz/dev/uni/mcr-py/notebooks/../src/package/mcr/steps/public_transport.py#141\u001b\\\u001b[2m141\u001b[0m\u001b]8;;\u001b\\\n"
            ]
          },
          "metadata": {},
          "output_type": "display_data"
        },
        {
          "data": {
            "text/html": [
              "<pre style=\"white-space:pre;overflow-x:auto;line-height:normal;font-family:Menlo,'DejaVu Sans Mono',consolas,'Courier New',monospace\"><span style=\"color: #7fbfbf; text-decoration-color: #7fbfbf\">[19:16:20] </span><span style=\"color: #000080; text-decoration-color: #000080\">INFO    </span> Using existing OSM data                                                              <a href=\"file:///home/moritz/dev/uni/mcr-py/notebooks/../src/package/osm/osm.py\" target=\"_blank\"><span style=\"color: #7f7f7f; text-decoration-color: #7f7f7f\">osm.py</span></a><span style=\"color: #7f7f7f; text-decoration-color: #7f7f7f\">:</span><a href=\"file:///home/moritz/dev/uni/mcr-py/notebooks/../src/package/osm/osm.py#106\" target=\"_blank\"><span style=\"color: #7f7f7f; text-decoration-color: #7f7f7f\">106</span></a>\n",
              "</pre>\n"
            ],
            "text/plain": [
              "\u001b[2;36m[19:16:20]\u001b[0m\u001b[2;36m \u001b[0m\u001b[34mINFO    \u001b[0m Using existing OSM data                                                              \u001b]8;id=674947;file:///home/moritz/dev/uni/mcr-py/notebooks/../src/package/osm/osm.py\u001b\\\u001b[2mosm.py\u001b[0m\u001b]8;;\u001b\\\u001b[2m:\u001b[0m\u001b]8;id=863462;file:///home/moritz/dev/uni/mcr-py/notebooks/../src/package/osm/osm.py#106\u001b\\\u001b[2m106\u001b[0m\u001b]8;;\u001b\\\n"
            ]
          },
          "metadata": {},
          "output_type": "display_data"
        },
        {
          "data": {
            "text/html": [
              "<pre style=\"white-space:pre;overflow-x:auto;line-height:normal;font-family:Menlo,'DejaVu Sans Mono',consolas,'Courier New',monospace\"><span style=\"color: #7fbfbf; text-decoration-color: #7fbfbf\">           </span><span style=\"color: #000080; text-decoration-color: #000080\">INFO    </span> Loading OSM network from cache <span style=\"font-weight: bold\">(</span>walking<span style=\"font-weight: bold\">)</span>                                              <a href=\"file:///home/moritz/dev/uni/mcr-py/notebooks/../src/package/osm/osm.py\" target=\"_blank\"><span style=\"color: #7f7f7f; text-decoration-color: #7f7f7f\">osm.py</span></a><span style=\"color: #7f7f7f; text-decoration-color: #7f7f7f\">:</span><a href=\"file:///home/moritz/dev/uni/mcr-py/notebooks/../src/package/osm/osm.py#69\" target=\"_blank\"><span style=\"color: #7f7f7f; text-decoration-color: #7f7f7f\">69</span></a>\n",
              "</pre>\n"
            ],
            "text/plain": [
              "\u001b[2;36m          \u001b[0m\u001b[2;36m \u001b[0m\u001b[34mINFO    \u001b[0m Loading OSM network from cache \u001b[1m(\u001b[0mwalking\u001b[1m)\u001b[0m                                              \u001b]8;id=580327;file:///home/moritz/dev/uni/mcr-py/notebooks/../src/package/osm/osm.py\u001b\\\u001b[2mosm.py\u001b[0m\u001b]8;;\u001b\\\u001b[2m:\u001b[0m\u001b]8;id=69691;file:///home/moritz/dev/uni/mcr-py/notebooks/../src/package/osm/osm.py#69\u001b\\\u001b[2m69\u001b[0m\u001b]8;;\u001b\\\n"
            ]
          },
          "metadata": {},
          "output_type": "display_data"
        },
        {
          "data": {
            "text/html": [
              "<pre style=\"white-space:pre;overflow-x:auto;line-height:normal;font-family:Menlo,'DejaVu Sans Mono',consolas,'Courier New',monospace\"><span style=\"color: #7fbfbf; text-decoration-color: #7fbfbf\">[19:16:25] </span><span style=\"color: #000080; text-decoration-color: #000080\">INFO    </span> Fetching POI for runtime optimization                                        <a href=\"file:///home/moritz/dev/uni/mcr-py/notebooks/../src/command/step_config.py\" target=\"_blank\"><span style=\"color: #7f7f7f; text-decoration-color: #7f7f7f\">step_config.py</span></a><span style=\"color: #7f7f7f; text-decoration-color: #7f7f7f\">:</span><a href=\"file:///home/moritz/dev/uni/mcr-py/notebooks/../src/command/step_config.py#165\" target=\"_blank\"><span style=\"color: #7f7f7f; text-decoration-color: #7f7f7f\">165</span></a>\n",
              "</pre>\n"
            ],
            "text/plain": [
              "\u001b[2;36m[19:16:25]\u001b[0m\u001b[2;36m \u001b[0m\u001b[34mINFO    \u001b[0m Fetching POI for runtime optimization                                        \u001b]8;id=26118;file:///home/moritz/dev/uni/mcr-py/notebooks/../src/command/step_config.py\u001b\\\u001b[2mstep_config.py\u001b[0m\u001b]8;;\u001b\\\u001b[2m:\u001b[0m\u001b]8;id=279814;file:///home/moritz/dev/uni/mcr-py/notebooks/../src/command/step_config.py#165\u001b\\\u001b[2m165\u001b[0m\u001b]8;;\u001b\\\n"
            ]
          },
          "metadata": {},
          "output_type": "display_data"
        },
        {
          "data": {
            "text/html": [
              "<pre style=\"white-space:pre;overflow-x:auto;line-height:normal;font-family:Menlo,'DejaVu Sans Mono',consolas,'Courier New',monospace\"><span style=\"color: #7fbfbf; text-decoration-color: #7fbfbf\">           </span><span style=\"color: #000080; text-decoration-color: #000080\">INFO    </span> Fetching POI for runtime optimization done <span style=\"font-weight: bold\">(</span><span style=\"color: #008080; text-decoration-color: #008080; font-weight: bold\">0.01</span> seconds<span style=\"font-weight: bold\">)</span>                    <a href=\"file:///home/moritz/dev/uni/mcr-py/notebooks/../src/command/step_config.py\" target=\"_blank\"><span style=\"color: #7f7f7f; text-decoration-color: #7f7f7f\">step_config.py</span></a><span style=\"color: #7f7f7f; text-decoration-color: #7f7f7f\">:</span><a href=\"file:///home/moritz/dev/uni/mcr-py/notebooks/../src/command/step_config.py#165\" target=\"_blank\"><span style=\"color: #7f7f7f; text-decoration-color: #7f7f7f\">165</span></a>\n",
              "</pre>\n"
            ],
            "text/plain": [
              "\u001b[2;36m          \u001b[0m\u001b[2;36m \u001b[0m\u001b[34mINFO    \u001b[0m Fetching POI for runtime optimization done \u001b[1m(\u001b[0m\u001b[1;36m0.01\u001b[0m seconds\u001b[1m)\u001b[0m                    \u001b]8;id=174870;file:///home/moritz/dev/uni/mcr-py/notebooks/../src/command/step_config.py\u001b\\\u001b[2mstep_config.py\u001b[0m\u001b]8;;\u001b\\\u001b[2m:\u001b[0m\u001b]8;id=37355;file:///home/moritz/dev/uni/mcr-py/notebooks/../src/command/step_config.py#165\u001b\\\u001b[2m165\u001b[0m\u001b]8;;\u001b\\\n"
            ]
          },
          "metadata": {},
          "output_type": "display_data"
        }
      ],
      "source": [
        "configs = {}\n",
        "initial_steps, repeating_steps = get_bicycle_public_transport_config(\n",
        "    geo_meta_path=geo_meta_path,\n",
        "    city_id=city_id,\n",
        "    bicycle_price_function=\"next_bike_no_tariff\",\n",
        "    bicycle_location_path=bicycle_location_path,\n",
        "    structs_path=structs,\n",
        "    stops_path=stops,\n",
        ")\n",
        "configs[\"bicycle_public_transport\"] = {\n",
        "    \"init_kwargs\": {\n",
        "        \"initial_steps\": initial_steps,\n",
        "        \"repeating_steps\": repeating_steps,\n",
        "    },\n",
        "    \"location_mappings\": location_mappings,\n",
        "    \"max_transfers\": 2,\n",
        "}\n",
        "\n",
        "initial_steps, repeating_steps = get_car_only_config(\n",
        "    geo_meta_path,\n",
        "    city_id,\n",
        ")\n",
        "configs[\"car\"] = {\n",
        "    \"init_kwargs\": {\n",
        "        \"initial_steps\": initial_steps,\n",
        "        \"repeating_steps\": repeating_steps,\n",
        "    },\n",
        "    \"location_mappings\": car_location_mappings,\n",
        "    \"max_transfers\": 1,\n",
        "}\n",
        "\n",
        "\n",
        "initial_steps, repeating_steps = get_bicycle_only_config(\n",
        "    geo_meta_path=geo_meta_path,\n",
        "    city_id=city_id,\n",
        "    bicycle_price_function=\"next_bike_no_tariff\",\n",
        "    bicycle_location_path=bicycle_location_path,\n",
        ")\n",
        "configs[\"bicycle\"] = {\n",
        "    \"init_kwargs\": {\n",
        "        \"initial_steps\": initial_steps,\n",
        "        \"repeating_steps\": repeating_steps,\n",
        "    },\n",
        "    \"location_mappings\": location_mappings,\n",
        "    \"max_transfers\": 2,\n",
        "}\n",
        "\n",
        "\n",
        "initial_steps, repeating_steps = get_public_transport_only_config(\n",
        "    geo_meta_path=geo_meta_path,\n",
        "    city_id=city_id,\n",
        "    structs_path=structs,\n",
        "    stops_path=stops,\n",
        ")\n",
        "configs[\"public_transport\"] = {\n",
        "    \"init_kwargs\": {\n",
        "        \"initial_steps\": initial_steps,\n",
        "        \"repeating_steps\": repeating_steps,\n",
        "    },\n",
        "    \"location_mappings\": location_mappings,\n",
        "    \"max_transfers\": 2,\n",
        "}\n",
        "\n",
        "initial_steps, repeating_steps = get_walking_only_config(\n",
        "    geo_meta_path=geo_meta_path,\n",
        "    city_id=city_id,\n",
        ")\n",
        "configs[\"walking\"] = {\n",
        "    \"init_kwargs\": {\n",
        "        \"initial_steps\": initial_steps,\n",
        "        \"repeating_steps\": repeating_steps,\n",
        "    },\n",
        "    \"location_mappings\": location_mappings,\n",
        "    \"max_transfers\": 0,\n",
        "}\n"
      ]
    },
    {
      "cell_type": "code",
      "execution_count": 11,
      "metadata": {},
      "outputs": [
        {
          "data": {
            "text/html": [
              "<pre style=\"white-space:pre;overflow-x:auto;line-height:normal;font-family:Menlo,'DejaVu Sans Mono',consolas,'Courier New',monospace\"><span style=\"color: #7fbfbf; text-decoration-color: #7fbfbf\">[19:16:26] </span><span style=\"color: #000080; text-decoration-color: #000080\">INFO    </span> Running MCR5 for bicycle_public_transport                                        <a href=\"file:///tmp/ipykernel_89635/494235893.py\" target=\"_blank\"><span style=\"color: #7f7f7f; text-decoration-color: #7f7f7f\">494235893.py</span></a><span style=\"color: #7f7f7f; text-decoration-color: #7f7f7f\">:</span><a href=\"file:///tmp/ipykernel_89635/494235893.py#4\" target=\"_blank\"><span style=\"color: #7f7f7f; text-decoration-color: #7f7f7f\">4</span></a>\n",
              "</pre>\n"
            ],
            "text/plain": [
              "\u001b[2;36m[19:16:26]\u001b[0m\u001b[2;36m \u001b[0m\u001b[34mINFO    \u001b[0m Running MCR5 for bicycle_public_transport                                        \u001b]8;id=102983;file:///tmp/ipykernel_89635/494235893.py\u001b\\\u001b[2m494235893.py\u001b[0m\u001b]8;;\u001b\\\u001b[2m:\u001b[0m\u001b]8;id=512620;file:///tmp/ipykernel_89635/494235893.py#4\u001b\\\u001b[2m4\u001b[0m\u001b]8;;\u001b\\\n"
            ]
          },
          "metadata": {},
          "output_type": "display_data"
        },
        {
          "name": "stdout",
          "output_type": "stream",
          "text": [
            "Running MCR5 for bicycle_public_transport\n"
          ]
        },
        {
          "data": {
            "application/vnd.jupyter.widget-view+json": {
              "model_id": "d11cb97b9e884e38b4a9dd17592fbe67",
              "version_major": 2,
              "version_minor": 0
            },
            "text/plain": [
              "Starting:   0%|          | 0/257 [00:00<?, ?it/s]"
            ]
          },
          "metadata": {},
          "output_type": "display_data"
        },
        {
          "name": "stderr",
          "output_type": "stream",
          "text": [
            "thread '<unnamed>' panicked at 'assertion failed: !bags.is_empty()', /home/moritz/dev/uni/mlc/src/mlc.rs:152:9\n",
            "note: run with `RUST_BACKTRACE=1` environment variable to display a backtrace\n",
            "thread '<unnamed>' panicked at 'assertion failed: !bags.is_empty()', /home/moritz/dev/uni/mlc/src/mlc.rs:152:9\n",
            "note: run with `RUST_BACKTRACE=1` environment variable to display a backtrace\n",
            "thread '<unnamed>' panicked at 'assertion failed: !bags.is_empty()', /home/moritz/dev/uni/mlc/src/mlc.rs:152:9\n",
            "note: run with `RUST_BACKTRACE=1` environment variable to display a backtrace\n",
            "thread '<unnamed>' panicked at 'assertion failed: !bags.is_empty()', /home/moritz/dev/uni/mlc/src/mlc.rs:152:9\n",
            "note: run with `RUST_BACKTRACE=1` environment variable to display a backtrace\n",
            "thread '<unnamed>' panicked at 'assertion failed: !bags.is_empty()', /home/moritz/dev/uni/mlc/src/mlc.rs:152:9\n",
            "note: run with `RUST_BACKTRACE=1` environment variable to display a backtrace\n",
            "thread '<unnamed>' panicked at 'assertion failed: !bags.is_empty()', /home/moritz/dev/uni/mlc/src/mlc.rs:152:9\n",
            "note: run with `RUST_BACKTRACE=1` environment variable to display a backtrace\n",
            "thread '<unnamed>' panicked at 'assertion failed: !bags.is_empty()', /home/moritz/dev/uni/mlc/src/mlc.rs:152:9\n",
            "note: run with `RUST_BACKTRACE=1` environment variable to display a backtrace\n",
            "thread '<unnamed>' panicked at 'assertion failed: !bags.is_empty()', /home/moritz/dev/uni/mlc/src/mlc.rs:152:9\n",
            "note: run with `RUST_BACKTRACE=1` environment variable to display a backtrace\n",
            "thread '<unnamed>' panicked at 'assertion failed: !bags.is_empty()', /home/moritz/dev/uni/mlc/src/mlc.rs:152:9\n",
            "note: run with `RUST_BACKTRACE=1` environment variable to display a backtrace\n",
            "thread '<unnamed>' panicked at 'assertion failed: !bags.is_empty()', /home/moritz/dev/uni/mlc/src/mlc.rs:152:9\n",
            "note: run with `RUST_BACKTRACE=1` environment variable to display a backtrace\n"
          ]
        },
        {
          "data": {
            "text/html": [
              "<pre style=\"white-space:pre;overflow-x:auto;line-height:normal;font-family:Menlo,'DejaVu Sans Mono',consolas,'Courier New',monospace\"><span style=\"color: #7fbfbf; text-decoration-color: #7fbfbf\">[19:16:54] </span><span style=\"color: #000080; text-decoration-color: #000080\">INFO    </span> All processes finished.                                                             <a href=\"file:///home/moritz/dev/uni/mcr-py/notebooks/../src/package/mcr5/mcr5.py\" target=\"_blank\"><span style=\"color: #7f7f7f; text-decoration-color: #7f7f7f\">mcr5.py</span></a><span style=\"color: #7f7f7f; text-decoration-color: #7f7f7f\">:</span><a href=\"file:///home/moritz/dev/uni/mcr-py/notebooks/../src/package/mcr5/mcr5.py#100\" target=\"_blank\"><span style=\"color: #7f7f7f; text-decoration-color: #7f7f7f\">100</span></a>\n",
              "</pre>\n"
            ],
            "text/plain": [
              "\u001b[2;36m[19:16:54]\u001b[0m\u001b[2;36m \u001b[0m\u001b[34mINFO    \u001b[0m All processes finished.                                                             \u001b]8;id=967274;file:///home/moritz/dev/uni/mcr-py/notebooks/../src/package/mcr5/mcr5.py\u001b\\\u001b[2mmcr5.py\u001b[0m\u001b]8;;\u001b\\\u001b[2m:\u001b[0m\u001b]8;id=342217;file:///home/moritz/dev/uni/mcr-py/notebooks/../src/package/mcr5/mcr5.py#100\u001b\\\u001b[2m100\u001b[0m\u001b]8;;\u001b\\\n"
            ]
          },
          "metadata": {},
          "output_type": "display_data"
        },
        {
          "data": {
            "text/html": [
              "<pre style=\"white-space:pre;overflow-x:auto;line-height:normal;font-family:Menlo,'DejaVu Sans Mono',consolas,'Courier New',monospace\"><span style=\"color: #7fbfbf; text-decoration-color: #7fbfbf\">           </span><span style=\"color: #800000; text-decoration-color: #800000\">WARNING </span> <span style=\"color: #008080; text-decoration-color: #008080; font-weight: bold\">10</span> errors occurred during the analysis.                                             <a href=\"file:///home/moritz/dev/uni/mcr-py/notebooks/../src/package/mcr5/mcr5.py\" target=\"_blank\"><span style=\"color: #7f7f7f; text-decoration-color: #7f7f7f\">mcr5.py</span></a><span style=\"color: #7f7f7f; text-decoration-color: #7f7f7f\">:</span><a href=\"file:///home/moritz/dev/uni/mcr-py/notebooks/../src/package/mcr5/mcr5.py#106\" target=\"_blank\"><span style=\"color: #7f7f7f; text-decoration-color: #7f7f7f\">106</span></a>\n",
              "</pre>\n"
            ],
            "text/plain": [
              "\u001b[2;36m          \u001b[0m\u001b[2;36m \u001b[0m\u001b[31mWARNING \u001b[0m \u001b[1;36m10\u001b[0m errors occurred during the analysis.                                             \u001b]8;id=406102;file:///home/moritz/dev/uni/mcr-py/notebooks/../src/package/mcr5/mcr5.py\u001b\\\u001b[2mmcr5.py\u001b[0m\u001b]8;;\u001b\\\u001b[2m:\u001b[0m\u001b]8;id=652201;file:///home/moritz/dev/uni/mcr-py/notebooks/../src/package/mcr5/mcr5.py#106\u001b\\\u001b[2m106\u001b[0m\u001b]8;;\u001b\\\n"
            ]
          },
          "metadata": {},
          "output_type": "display_data"
        },
        {
          "data": {
            "text/html": [
              "<pre style=\"white-space:pre;overflow-x:auto;line-height:normal;font-family:Menlo,'DejaVu Sans Mono',consolas,'Courier New',monospace\"><span style=\"color: #7fbfbf; text-decoration-color: #7fbfbf\">           </span><span style=\"color: #000080; text-decoration-color: #000080\">INFO    </span> Running MCR5 for car                                                             <a href=\"file:///tmp/ipykernel_89635/494235893.py\" target=\"_blank\"><span style=\"color: #7f7f7f; text-decoration-color: #7f7f7f\">494235893.py</span></a><span style=\"color: #7f7f7f; text-decoration-color: #7f7f7f\">:</span><a href=\"file:///tmp/ipykernel_89635/494235893.py#4\" target=\"_blank\"><span style=\"color: #7f7f7f; text-decoration-color: #7f7f7f\">4</span></a>\n",
              "</pre>\n"
            ],
            "text/plain": [
              "\u001b[2;36m          \u001b[0m\u001b[2;36m \u001b[0m\u001b[34mINFO    \u001b[0m Running MCR5 for car                                                             \u001b]8;id=583462;file:///tmp/ipykernel_89635/494235893.py\u001b\\\u001b[2m494235893.py\u001b[0m\u001b]8;;\u001b\\\u001b[2m:\u001b[0m\u001b]8;id=137624;file:///tmp/ipykernel_89635/494235893.py#4\u001b\\\u001b[2m4\u001b[0m\u001b]8;;\u001b\\\n"
            ]
          },
          "metadata": {},
          "output_type": "display_data"
        },
        {
          "name": "stdout",
          "output_type": "stream",
          "text": [
            "Running MCR5 for car\n"
          ]
        },
        {
          "data": {
            "application/vnd.jupyter.widget-view+json": {
              "model_id": "f200e987979045128532ba86d841a687",
              "version_major": 2,
              "version_minor": 0
            },
            "text/plain": [
              "Starting:   0%|          | 0/257 [00:00<?, ?it/s]"
            ]
          },
          "metadata": {},
          "output_type": "display_data"
        },
        {
          "data": {
            "text/html": [
              "<pre style=\"white-space:pre;overflow-x:auto;line-height:normal;font-family:Menlo,'DejaVu Sans Mono',consolas,'Courier New',monospace\"><span style=\"color: #7fbfbf; text-decoration-color: #7fbfbf\">[19:17:05] </span><span style=\"color: #000080; text-decoration-color: #000080\">INFO    </span> All processes finished.                                                             <a href=\"file:///home/moritz/dev/uni/mcr-py/notebooks/../src/package/mcr5/mcr5.py\" target=\"_blank\"><span style=\"color: #7f7f7f; text-decoration-color: #7f7f7f\">mcr5.py</span></a><span style=\"color: #7f7f7f; text-decoration-color: #7f7f7f\">:</span><a href=\"file:///home/moritz/dev/uni/mcr-py/notebooks/../src/package/mcr5/mcr5.py#100\" target=\"_blank\"><span style=\"color: #7f7f7f; text-decoration-color: #7f7f7f\">100</span></a>\n",
              "</pre>\n"
            ],
            "text/plain": [
              "\u001b[2;36m[19:17:05]\u001b[0m\u001b[2;36m \u001b[0m\u001b[34mINFO    \u001b[0m All processes finished.                                                             \u001b]8;id=479278;file:///home/moritz/dev/uni/mcr-py/notebooks/../src/package/mcr5/mcr5.py\u001b\\\u001b[2mmcr5.py\u001b[0m\u001b]8;;\u001b\\\u001b[2m:\u001b[0m\u001b]8;id=945827;file:///home/moritz/dev/uni/mcr-py/notebooks/../src/package/mcr5/mcr5.py#100\u001b\\\u001b[2m100\u001b[0m\u001b]8;;\u001b\\\n"
            ]
          },
          "metadata": {},
          "output_type": "display_data"
        },
        {
          "data": {
            "text/html": [
              "<pre style=\"white-space:pre;overflow-x:auto;line-height:normal;font-family:Menlo,'DejaVu Sans Mono',consolas,'Courier New',monospace\"><span style=\"color: #7fbfbf; text-decoration-color: #7fbfbf\">           </span><span style=\"color: #000080; text-decoration-color: #000080\">INFO    </span> Running MCR5 for bicycle                                                         <a href=\"file:///tmp/ipykernel_89635/494235893.py\" target=\"_blank\"><span style=\"color: #7f7f7f; text-decoration-color: #7f7f7f\">494235893.py</span></a><span style=\"color: #7f7f7f; text-decoration-color: #7f7f7f\">:</span><a href=\"file:///tmp/ipykernel_89635/494235893.py#4\" target=\"_blank\"><span style=\"color: #7f7f7f; text-decoration-color: #7f7f7f\">4</span></a>\n",
              "</pre>\n"
            ],
            "text/plain": [
              "\u001b[2;36m          \u001b[0m\u001b[2;36m \u001b[0m\u001b[34mINFO    \u001b[0m Running MCR5 for bicycle                                                         \u001b]8;id=414690;file:///tmp/ipykernel_89635/494235893.py\u001b\\\u001b[2m494235893.py\u001b[0m\u001b]8;;\u001b\\\u001b[2m:\u001b[0m\u001b]8;id=190296;file:///tmp/ipykernel_89635/494235893.py#4\u001b\\\u001b[2m4\u001b[0m\u001b]8;;\u001b\\\n"
            ]
          },
          "metadata": {},
          "output_type": "display_data"
        },
        {
          "name": "stdout",
          "output_type": "stream",
          "text": [
            "Running MCR5 for bicycle\n"
          ]
        },
        {
          "data": {
            "application/vnd.jupyter.widget-view+json": {
              "model_id": "fe0a75e0b786412d9fea28dc766b352e",
              "version_major": 2,
              "version_minor": 0
            },
            "text/plain": [
              "Starting:   0%|          | 0/257 [00:00<?, ?it/s]"
            ]
          },
          "metadata": {},
          "output_type": "display_data"
        },
        {
          "name": "stderr",
          "output_type": "stream",
          "text": [
            "thread '<unnamed>' panicked at 'assertion failed: !bags.is_empty()', /home/moritz/dev/uni/mlc/src/mlc.rs:152:9\n",
            "note: run with `RUST_BACKTRACE=1` environment variable to display a backtrace\n",
            "thread '<unnamed>' panicked at 'assertion failed: !bags.is_empty()', /home/moritz/dev/uni/mlc/src/mlc.rs:152:9\n",
            "note: run with `RUST_BACKTRACE=1` environment variable to display a backtrace\n",
            "thread '<unnamed>' panicked at 'assertion failed: !bags.is_empty()', /home/moritz/dev/uni/mlc/src/mlc.rs:152:9\n",
            "note: run with `RUST_BACKTRACE=1` environment variable to display a backtrace\n",
            "thread '<unnamed>' panicked at 'assertion failed: !bags.is_empty()', /home/moritz/dev/uni/mlc/src/mlc.rs:152:9\n",
            "note: run with `RUST_BACKTRACE=1` environment variable to display a backtrace\n",
            "thread '<unnamed>' panicked at 'assertion failed: !bags.is_empty()', /home/moritz/dev/uni/mlc/src/mlc.rs:152:9\n",
            "note: run with `RUST_BACKTRACE=1` environment variable to display a backtrace\n",
            "thread '<unnamed>' panicked at 'assertion failed: !bags.is_empty()', /home/moritz/dev/uni/mlc/src/mlc.rs:152:9\n",
            "note: run with `RUST_BACKTRACE=1` environment variable to display a backtrace\n",
            "thread '<unnamed>' panicked at 'assertion failed: !bags.is_empty()', /home/moritz/dev/uni/mlc/src/mlc.rs:152:9\n",
            "note: run with `RUST_BACKTRACE=1` environment variable to display a backtrace\n",
            "thread '<unnamed>' panicked at 'assertion failed: !bags.is_empty()', /home/moritz/dev/uni/mlc/src/mlc.rs:152:9\n",
            "note: run with `RUST_BACKTRACE=1` environment variable to display a backtrace\n",
            "thread '<unnamed>' panicked at 'assertion failed: !bags.is_empty()', /home/moritz/dev/uni/mlc/src/mlc.rs:152:9\n",
            "note: run with `RUST_BACKTRACE=1` environment variable to display a backtrace\n",
            "thread '<unnamed>' panicked at 'assertion failed: !bags.is_empty()', /home/moritz/dev/uni/mlc/src/mlc.rs:152:9\n",
            "note: run with `RUST_BACKTRACE=1` environment variable to display a backtrace\n"
          ]
        },
        {
          "data": {
            "text/html": [
              "<pre style=\"white-space:pre;overflow-x:auto;line-height:normal;font-family:Menlo,'DejaVu Sans Mono',consolas,'Courier New',monospace\"><span style=\"color: #7fbfbf; text-decoration-color: #7fbfbf\">[19:17:32] </span><span style=\"color: #000080; text-decoration-color: #000080\">INFO    </span> All processes finished.                                                             <a href=\"file:///home/moritz/dev/uni/mcr-py/notebooks/../src/package/mcr5/mcr5.py\" target=\"_blank\"><span style=\"color: #7f7f7f; text-decoration-color: #7f7f7f\">mcr5.py</span></a><span style=\"color: #7f7f7f; text-decoration-color: #7f7f7f\">:</span><a href=\"file:///home/moritz/dev/uni/mcr-py/notebooks/../src/package/mcr5/mcr5.py#100\" target=\"_blank\"><span style=\"color: #7f7f7f; text-decoration-color: #7f7f7f\">100</span></a>\n",
              "</pre>\n"
            ],
            "text/plain": [
              "\u001b[2;36m[19:17:32]\u001b[0m\u001b[2;36m \u001b[0m\u001b[34mINFO    \u001b[0m All processes finished.                                                             \u001b]8;id=31200;file:///home/moritz/dev/uni/mcr-py/notebooks/../src/package/mcr5/mcr5.py\u001b\\\u001b[2mmcr5.py\u001b[0m\u001b]8;;\u001b\\\u001b[2m:\u001b[0m\u001b]8;id=270245;file:///home/moritz/dev/uni/mcr-py/notebooks/../src/package/mcr5/mcr5.py#100\u001b\\\u001b[2m100\u001b[0m\u001b]8;;\u001b\\\n"
            ]
          },
          "metadata": {},
          "output_type": "display_data"
        },
        {
          "data": {
            "text/html": [
              "<pre style=\"white-space:pre;overflow-x:auto;line-height:normal;font-family:Menlo,'DejaVu Sans Mono',consolas,'Courier New',monospace\"><span style=\"color: #7fbfbf; text-decoration-color: #7fbfbf\">           </span><span style=\"color: #800000; text-decoration-color: #800000\">WARNING </span> <span style=\"color: #008080; text-decoration-color: #008080; font-weight: bold\">10</span> errors occurred during the analysis.                                             <a href=\"file:///home/moritz/dev/uni/mcr-py/notebooks/../src/package/mcr5/mcr5.py\" target=\"_blank\"><span style=\"color: #7f7f7f; text-decoration-color: #7f7f7f\">mcr5.py</span></a><span style=\"color: #7f7f7f; text-decoration-color: #7f7f7f\">:</span><a href=\"file:///home/moritz/dev/uni/mcr-py/notebooks/../src/package/mcr5/mcr5.py#106\" target=\"_blank\"><span style=\"color: #7f7f7f; text-decoration-color: #7f7f7f\">106</span></a>\n",
              "</pre>\n"
            ],
            "text/plain": [
              "\u001b[2;36m          \u001b[0m\u001b[2;36m \u001b[0m\u001b[31mWARNING \u001b[0m \u001b[1;36m10\u001b[0m errors occurred during the analysis.                                             \u001b]8;id=912700;file:///home/moritz/dev/uni/mcr-py/notebooks/../src/package/mcr5/mcr5.py\u001b\\\u001b[2mmcr5.py\u001b[0m\u001b]8;;\u001b\\\u001b[2m:\u001b[0m\u001b]8;id=256041;file:///home/moritz/dev/uni/mcr-py/notebooks/../src/package/mcr5/mcr5.py#106\u001b\\\u001b[2m106\u001b[0m\u001b]8;;\u001b\\\n"
            ]
          },
          "metadata": {},
          "output_type": "display_data"
        },
        {
          "data": {
            "text/html": [
              "<pre style=\"white-space:pre;overflow-x:auto;line-height:normal;font-family:Menlo,'DejaVu Sans Mono',consolas,'Courier New',monospace\"><span style=\"color: #7fbfbf; text-decoration-color: #7fbfbf\">           </span><span style=\"color: #000080; text-decoration-color: #000080\">INFO    </span> Running MCR5 for public_transport                                                <a href=\"file:///tmp/ipykernel_89635/494235893.py\" target=\"_blank\"><span style=\"color: #7f7f7f; text-decoration-color: #7f7f7f\">494235893.py</span></a><span style=\"color: #7f7f7f; text-decoration-color: #7f7f7f\">:</span><a href=\"file:///tmp/ipykernel_89635/494235893.py#4\" target=\"_blank\"><span style=\"color: #7f7f7f; text-decoration-color: #7f7f7f\">4</span></a>\n",
              "</pre>\n"
            ],
            "text/plain": [
              "\u001b[2;36m          \u001b[0m\u001b[2;36m \u001b[0m\u001b[34mINFO    \u001b[0m Running MCR5 for public_transport                                                \u001b]8;id=534698;file:///tmp/ipykernel_89635/494235893.py\u001b\\\u001b[2m494235893.py\u001b[0m\u001b]8;;\u001b\\\u001b[2m:\u001b[0m\u001b]8;id=491572;file:///tmp/ipykernel_89635/494235893.py#4\u001b\\\u001b[2m4\u001b[0m\u001b]8;;\u001b\\\n"
            ]
          },
          "metadata": {},
          "output_type": "display_data"
        },
        {
          "name": "stdout",
          "output_type": "stream",
          "text": [
            "Running MCR5 for public_transport\n"
          ]
        },
        {
          "data": {
            "application/vnd.jupyter.widget-view+json": {
              "model_id": "a6501012360c4d12ab793f72d0fffcce",
              "version_major": 2,
              "version_minor": 0
            },
            "text/plain": [
              "Starting:   0%|          | 0/257 [00:00<?, ?it/s]"
            ]
          },
          "metadata": {},
          "output_type": "display_data"
        },
        {
          "data": {
            "text/html": [
              "<pre style=\"white-space:pre;overflow-x:auto;line-height:normal;font-family:Menlo,'DejaVu Sans Mono',consolas,'Courier New',monospace\"><span style=\"color: #7fbfbf; text-decoration-color: #7fbfbf\">[19:17:45] </span><span style=\"color: #000080; text-decoration-color: #000080\">INFO    </span> All processes finished.                                                             <a href=\"file:///home/moritz/dev/uni/mcr-py/notebooks/../src/package/mcr5/mcr5.py\" target=\"_blank\"><span style=\"color: #7f7f7f; text-decoration-color: #7f7f7f\">mcr5.py</span></a><span style=\"color: #7f7f7f; text-decoration-color: #7f7f7f\">:</span><a href=\"file:///home/moritz/dev/uni/mcr-py/notebooks/../src/package/mcr5/mcr5.py#100\" target=\"_blank\"><span style=\"color: #7f7f7f; text-decoration-color: #7f7f7f\">100</span></a>\n",
              "</pre>\n"
            ],
            "text/plain": [
              "\u001b[2;36m[19:17:45]\u001b[0m\u001b[2;36m \u001b[0m\u001b[34mINFO    \u001b[0m All processes finished.                                                             \u001b]8;id=730454;file:///home/moritz/dev/uni/mcr-py/notebooks/../src/package/mcr5/mcr5.py\u001b\\\u001b[2mmcr5.py\u001b[0m\u001b]8;;\u001b\\\u001b[2m:\u001b[0m\u001b]8;id=151793;file:///home/moritz/dev/uni/mcr-py/notebooks/../src/package/mcr5/mcr5.py#100\u001b\\\u001b[2m100\u001b[0m\u001b]8;;\u001b\\\n"
            ]
          },
          "metadata": {},
          "output_type": "display_data"
        },
        {
          "data": {
            "text/html": [
              "<pre style=\"white-space:pre;overflow-x:auto;line-height:normal;font-family:Menlo,'DejaVu Sans Mono',consolas,'Courier New',monospace\"><span style=\"color: #7fbfbf; text-decoration-color: #7fbfbf\">           </span><span style=\"color: #000080; text-decoration-color: #000080\">INFO    </span> Running MCR5 for walking                                                         <a href=\"file:///tmp/ipykernel_89635/494235893.py\" target=\"_blank\"><span style=\"color: #7f7f7f; text-decoration-color: #7f7f7f\">494235893.py</span></a><span style=\"color: #7f7f7f; text-decoration-color: #7f7f7f\">:</span><a href=\"file:///tmp/ipykernel_89635/494235893.py#4\" target=\"_blank\"><span style=\"color: #7f7f7f; text-decoration-color: #7f7f7f\">4</span></a>\n",
              "</pre>\n"
            ],
            "text/plain": [
              "\u001b[2;36m          \u001b[0m\u001b[2;36m \u001b[0m\u001b[34mINFO    \u001b[0m Running MCR5 for walking                                                         \u001b]8;id=110876;file:///tmp/ipykernel_89635/494235893.py\u001b\\\u001b[2m494235893.py\u001b[0m\u001b]8;;\u001b\\\u001b[2m:\u001b[0m\u001b]8;id=110360;file:///tmp/ipykernel_89635/494235893.py#4\u001b\\\u001b[2m4\u001b[0m\u001b]8;;\u001b\\\n"
            ]
          },
          "metadata": {},
          "output_type": "display_data"
        },
        {
          "name": "stdout",
          "output_type": "stream",
          "text": [
            "Running MCR5 for walking\n"
          ]
        },
        {
          "data": {
            "application/vnd.jupyter.widget-view+json": {
              "model_id": "c2261530acbc4724b466b2df632c80a1",
              "version_major": 2,
              "version_minor": 0
            },
            "text/plain": [
              "Starting:   0%|          | 0/257 [00:00<?, ?it/s]"
            ]
          },
          "metadata": {},
          "output_type": "display_data"
        },
        {
          "data": {
            "text/html": [
              "<pre style=\"white-space:pre;overflow-x:auto;line-height:normal;font-family:Menlo,'DejaVu Sans Mono',consolas,'Courier New',monospace\"><span style=\"color: #7fbfbf; text-decoration-color: #7fbfbf\">[19:17:55] </span><span style=\"color: #000080; text-decoration-color: #000080\">INFO    </span> All processes finished.                                                             <a href=\"file:///home/moritz/dev/uni/mcr-py/notebooks/../src/package/mcr5/mcr5.py\" target=\"_blank\"><span style=\"color: #7f7f7f; text-decoration-color: #7f7f7f\">mcr5.py</span></a><span style=\"color: #7f7f7f; text-decoration-color: #7f7f7f\">:</span><a href=\"file:///home/moritz/dev/uni/mcr-py/notebooks/../src/package/mcr5/mcr5.py#100\" target=\"_blank\"><span style=\"color: #7f7f7f; text-decoration-color: #7f7f7f\">100</span></a>\n",
              "</pre>\n"
            ],
            "text/plain": [
              "\u001b[2;36m[19:17:55]\u001b[0m\u001b[2;36m \u001b[0m\u001b[34mINFO    \u001b[0m All processes finished.                                                             \u001b]8;id=448808;file:///home/moritz/dev/uni/mcr-py/notebooks/../src/package/mcr5/mcr5.py\u001b\\\u001b[2mmcr5.py\u001b[0m\u001b]8;;\u001b\\\u001b[2m:\u001b[0m\u001b]8;id=384950;file:///home/moritz/dev/uni/mcr-py/notebooks/../src/package/mcr5/mcr5.py#100\u001b\\\u001b[2m100\u001b[0m\u001b]8;;\u001b\\\n"
            ]
          },
          "metadata": {},
          "output_type": "display_data"
        }
      ],
      "source": [
        "for key, config in configs.items():\n",
        "    mcr5 = MCR5(**config[\"init_kwargs\"])\n",
        "\n",
        "    rlog.info(f\"Running MCR5 for {key}\")\n",
        "    print(f\"Running MCR5 for {key}\")\n",
        "\n",
        "    mcr5_output_path = os.path.join(\"../data/mcr5/Koeln\", key)\n",
        "\n",
        "    location_mappings = config[\"location_mappings\"]\n",
        "\n",
        "    errors = mcr5.run(\n",
        "        location_mappings, start_time=\"08:00:00\", output_dir=mcr5_output_path, max_transfers=config[\"max_transfers\"]\n",
        "    )\n"
      ]
    },
    {
      "cell_type": "code",
      "execution_count": 13,
      "metadata": {},
      "outputs": [
        {
          "name": "stdout",
          "output_type": "stream",
          "text": [
            "2023-10-23 19:17:05,065 - mcr5-891fa1998afffff - DEBUG - Starting MCR with config: {'disable_paths': True, 'path_manager': None, 'output_format': <OutputFormat.DF_FEATHER: 'df_feather'>, 'logger': <Logger mcr5-891fa1998afffff (DEBUG)>, 'timer': <package.logger.Timer object at 0x7fe3a7f1fdc0>, 'enable_limit': True, 'initial_steps': [[WalkingStep]], 'repeating_steps': [[BicycleStep], [WalkingStep]]}\n",
            "2023-10-23 19:17:05,065 - mcr5-891fa1998afffff - DEBUG - Starting MCR with config: {'disable_paths': True, 'path_manager': None, 'output_format': <OutputFormat.DF_FEATHER: 'df_feather'>, 'logger': <Logger mcr5-891fa1998afffff (DEBUG)>, 'timer': <package.logger.Timer object at 0x7fe3a7f1fdc0>, 'enable_limit': True, 'initial_steps': [[WalkingStep]], 'repeating_steps': [[BicycleStep], [WalkingStep]]}\n",
            "2023-10-23 19:17:05,066 - mcr5-891fa1998afffff - INFO - Running initial step\n",
            "2023-10-23 19:17:05,066 - mcr5-891fa1998afffff - INFO - Running initial step\n",
            "2023-10-23 19:17:05,087 - mcr5-891fa1998afffff - INFO - Preparing input for walking step\n",
            "2023-10-23 19:17:05,087 - mcr5-891fa1998afffff - INFO - Preparing input for walking step\n",
            "2023-10-23 19:17:05,087 - mcr5-891fa1998afffff - INFO - Preparing input for walking step done (0.02 seconds)\n",
            "2023-10-23 19:17:05,087 - mcr5-891fa1998afffff - INFO - Preparing input for walking step done (0.02 seconds)\n",
            "2023-10-23 19:17:05,097 - mcr5-891fa1998afffff - INFO - Running walking step\n",
            "2023-10-23 19:17:05,097 - mcr5-891fa1998afffff - INFO - Running walking step\n",
            "2023-10-23 19:17:05,106 - mlc.mlc - DEBUG - mlc config: MLC { debug: false, disable_paths: true, enable_limit: true, update_label_func_defined: false, weight_length: 2, hidden_weights_length: 2 }\n",
            "2023-10-23 19:17:05,110 - mlc.mlc - DEBUG - 40 labels were discarded because they exceeded the limit\n",
            "2023-10-23 19:17:05,113 - mcr5-891fa1998afffff - INFO - Running walking step done (0.03 seconds)\n",
            "2023-10-23 19:17:05,113 - mcr5-891fa1998afffff - INFO - Running walking step done (0.03 seconds)\n",
            "2023-10-23 19:17:05,121 - mcr5-891fa1998afffff - INFO - Extracting walking step bags\n",
            "2023-10-23 19:17:05,121 - mcr5-891fa1998afffff - INFO - Extracting walking step bags\n",
            "2023-10-23 19:17:05,123 - mcr5-891fa1998afffff - INFO - Extracting walking step bags done (0.01 seconds)\n",
            "2023-10-23 19:17:05,123 - mcr5-891fa1998afffff - INFO - Extracting walking step bags done (0.01 seconds)\n",
            "2023-10-23 19:17:05,124 - mcr5-891fa1998afffff - INFO - Running iteration 1\n",
            "2023-10-23 19:17:05,124 - mcr5-891fa1998afffff - INFO - Running iteration 1\n",
            "2023-10-23 19:17:05,133 - mcr5-891fa1998afffff - INFO - Preparing input for bicycle step\n",
            "2023-10-23 19:17:05,133 - mcr5-891fa1998afffff - INFO - Preparing input for bicycle step\n",
            "2023-10-23 19:17:05,135 - mcr5-891fa1998afffff - INFO - Preparing input for bicycle step done (0.01 seconds)\n",
            "2023-10-23 19:17:05,135 - mcr5-891fa1998afffff - INFO - Preparing input for bicycle step done (0.01 seconds)\n",
            "2023-10-23 19:17:05,140 - mcr5-891fa1998afffff - INFO - Running bicycle step\n",
            "2023-10-23 19:17:05,140 - mcr5-891fa1998afffff - INFO - Running bicycle step\n",
            "2023-10-23 19:17:05,160 - mcr5-891fa1998afffff - INFO - Running bicycle step failed (0.03 seconds)\n",
            "2023-10-23 19:17:05,160 - mcr5-891fa1998afffff - INFO - Running bicycle step failed (0.03 seconds)\n",
            "\n"
          ]
        }
      ],
      "source": [
        "import pickle\n",
        "errors = storage.read_any_dict(\"../data/mcr5/Koeln/bicycle/errors.pkl\")\n",
        "print(errors[0][\"logs\"])"
      ]
    },
    {
      "cell_type": "code",
      "execution_count": null,
      "metadata": {},
      "outputs": [],
      "source": []
    },
    {
      "cell_type": "markdown",
      "metadata": {},
      "source": [
        "**small area**  \n",
        "2s with limits  \n",
        "20s without limits\n",
        "\n",
        "\n",
        "**full area**  \n",
        "2s with limits  \n",
        "9m58s without limits"
      ]
    }
  ],
  "metadata": {
    "kernelspec": {
      "display_name": "mcr-py",
      "language": "python",
      "name": "python3"
    },
    "language_info": {
      "codemirror_mode": {
        "name": "ipython",
        "version": 3
      },
      "file_extension": ".py",
      "mimetype": "text/x-python",
      "name": "python",
      "nbconvert_exporter": "python",
      "pygments_lexer": "ipython3",
      "version": "3.10.12"
    },
    "orig_nbformat": 4
  },
  "nbformat": 4,
  "nbformat_minor": 2
}
