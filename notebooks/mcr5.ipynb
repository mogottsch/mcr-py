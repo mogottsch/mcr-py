{
  "cells": [
    {
      "cell_type": "code",
      "execution_count": 1,
      "metadata": {},
      "outputs": [],
      "source": [
        "%load_ext autoreload\n",
        "%autoreload 2\n",
        "import sys\n",
        "sys.path.append('../src/')"
      ]
    },
    {
      "cell_type": "code",
      "execution_count": 2,
      "metadata": {},
      "outputs": [],
      "source": [
        "from package.logger import Timed, rlog, setup\n",
        "from package import storage\n",
        "\n",
        "setup(\"INFO\")"
      ]
    },
    {
      "cell_type": "code",
      "execution_count": 3,
      "metadata": {},
      "outputs": [],
      "source": [
        "import os\n",
        "\n",
        "import folium\n",
        "import geopandas as gpd\n",
        "import pandas as pd\n",
        "\n",
        "from package import strtime\n",
        "from package.osm import osm\n",
        "from package.mcr.data import NetworkType, OSMData\n",
        "from package.mcr5.mcr5 import MCR5\n",
        "from package import storage\n",
        "\n",
        "from package.geometa import GeoMeta\n",
        "from package.mcr.data import NetworkType"
      ]
    },
    {
      "cell_type": "code",
      "execution_count": 4,
      "metadata": {},
      "outputs": [],
      "source": [
        "geo_meta_path = \"../data/geometa.pkl\"\n",
        "city_id = \"Koeln\"\n",
        "stops = \"../data/cleaned/stops.csv\"\n",
        "structs = \"../data/structs.pkl\"\n",
        "# bicycle_location_path = \"../data/bicycle_locations/2022-11-01_09_01_00.csv\""
      ]
    },
    {
      "cell_type": "code",
      "execution_count": 5,
      "metadata": {},
      "outputs": [],
      "source": [
        "geo_meta = GeoMeta.load(geo_meta_path)\n",
        "# geo_data = OSMData(\n",
        "# \tgeo_meta,\n",
        "# \tcity_id,\n",
        "# \tadditional_network_types=[NetworkType.DRIVING, NetworkType.CYCLING],\n",
        "# )\n",
        "# nodes = geo_data.osm_nodes\n",
        "# edges = geo_data.osm_edges\n",
        "# driving_nodes, _, _ = geo_data.additional_networks[NetworkType.DRIVING]"
      ]
    },
    {
      "cell_type": "code",
      "execution_count": 6,
      "metadata": {},
      "outputs": [],
      "source": [
        "lm_data = storage.read_any_dict(\"../data/location_mappings.pkl\")\n",
        "location_mappings = lm_data[\"location_mappings\"]\n",
        "car_location_mappings = lm_data[\"car_location_mappings\"]"
      ]
    },
    {
      "cell_type": "code",
      "execution_count": 7,
      "metadata": {},
      "outputs": [],
      "source": [
        "from command.step_config import (\n",
        "    get_bicycle_public_transport_config,\n",
        "    get_car_only_config,\n",
        "    get_bicycle_only_config,\n",
        "    get_public_transport_only_config,\n",
        "    get_walking_only_config,\n",
        ")"
      ]
    },
    {
      "cell_type": "code",
      "execution_count": 8,
      "metadata": {},
      "outputs": [],
      "source": [
        "configs = {}\n",
        "\n",
        "\n",
        "def get_bicyle_public_transport_config_ready(bicycle_location_path, start_time):\n",
        "    initial_steps, repeating_steps = get_bicycle_public_transport_config(\n",
        "        geo_meta_path=geo_meta_path,\n",
        "        city_id=city_id,\n",
        "        bicycle_price_function=\"next_bike_no_tariff\",\n",
        "        bicycle_location_path=bicycle_location_path,\n",
        "        structs_path=structs,\n",
        "        stops_path=stops,\n",
        "    )\n",
        "    return {\n",
        "        \"init_kwargs\": {\n",
        "            \"initial_steps\": initial_steps,\n",
        "            \"repeating_steps\": repeating_steps,\n",
        "        },\n",
        "        \"location_mappings\": location_mappings,\n",
        "        \"max_transfers\": 2,\n",
        "        \"start_time\": start_time,\n",
        "    }\n",
        "\n",
        "\n",
        "def get_car_only_config_ready():\n",
        "    initial_steps, repeating_steps = get_car_only_config(\n",
        "        geo_meta_path=geo_meta_path,\n",
        "        city_id=city_id,\n",
        "    )\n",
        "    return {\n",
        "        \"init_kwargs\": {\n",
        "            \"initial_steps\": initial_steps,\n",
        "            \"repeating_steps\": repeating_steps,\n",
        "        },\n",
        "        \"location_mappings\": car_location_mappings,\n",
        "        \"max_transfers\": 1,\n",
        "    }\n",
        "\n",
        "\n",
        "def get_bicycle_only_config_ready(bicycle_location_path):\n",
        "    initial_steps, repeating_steps = get_bicycle_only_config(\n",
        "        geo_meta_path=geo_meta_path,\n",
        "        city_id=city_id,\n",
        "        bicycle_price_function=\"next_bike_no_tariff\",\n",
        "        bicycle_location_path=bicycle_location_path,\n",
        "    )\n",
        "    return {\n",
        "        \"init_kwargs\": {\n",
        "            \"initial_steps\": initial_steps,\n",
        "            \"repeating_steps\": repeating_steps,\n",
        "        },\n",
        "        \"location_mappings\": location_mappings,\n",
        "        \"max_transfers\": 2,\n",
        "    }\n",
        "\n",
        "\n",
        "def get_public_transport_only_config_ready(start_time):\n",
        "    initial_steps, repeating_steps = get_public_transport_only_config(\n",
        "        geo_meta_path=geo_meta_path,\n",
        "        city_id=city_id,\n",
        "        structs_path=structs,\n",
        "        stops_path=stops,\n",
        "    )\n",
        "    return {\n",
        "        \"init_kwargs\": {\n",
        "            \"initial_steps\": initial_steps,\n",
        "            \"repeating_steps\": repeating_steps,\n",
        "        },\n",
        "        \"location_mappings\": location_mappings,\n",
        "        \"max_transfers\": 2,\n",
        "        \"start_time\": start_time,\n",
        "    }\n",
        "\n",
        "\n",
        "def get_walking_only_config_ready():\n",
        "    initial_steps, repeating_steps = get_walking_only_config(\n",
        "        geo_meta_path=geo_meta_path,\n",
        "        city_id=city_id,\n",
        "    )\n",
        "    return {\n",
        "        \"init_kwargs\": {\n",
        "            \"initial_steps\": initial_steps,\n",
        "            \"repeating_steps\": repeating_steps,\n",
        "        },\n",
        "        \"location_mappings\": location_mappings,\n",
        "        \"max_transfers\": 0,\n",
        "    }"
      ]
    },
    {
      "cell_type": "code",
      "execution_count": 9,
      "metadata": {},
      "outputs": [],
      "source": [
        "import itertools\n",
        "import os\n",
        "\n",
        "times = [\n",
        "    \"08:00:00\",\n",
        "    \"12:00:00\",\n",
        "    \"18:00:00\",\n",
        "]\n",
        "bicycle_base_path = \"../data/bicycle_locations/\"\n",
        "bicycle_location_paths = [\n",
        "    os.path.join(bicycle_base_path, path)\n",
        "    for path in os.listdir(\"../data/bicycle_locations/\")\n",
        "]\n",
        "\n",
        "bicycle_public_transport_config_args = list(itertools.product(\n",
        "\ttimes,\n",
        "\tbicycle_location_paths,\n",
        "))"
      ]
    },
    {
      "cell_type": "code",
      "execution_count": 10,
      "metadata": {},
      "outputs": [
        {
          "name": "stdout",
          "output_type": "stream",
          "text": [
            "0 08:00:00 ../data/bicycle_locations/2022-11-02_16_01_00.csv\n",
            "1 08:00:00 ../data/bicycle_locations/2022-11-01_09_01_00.csv\n",
            "2 08:00:00 ../data/bicycle_locations/2022-07-18_06_01_00.csv\n",
            "3 08:00:00 ../data/bicycle_locations/2022-04-19_17_01_00.csv\n",
            "4 12:00:00 ../data/bicycle_locations/2022-11-02_16_01_00.csv\n",
            "5 12:00:00 ../data/bicycle_locations/2022-11-01_09_01_00.csv\n",
            "6 12:00:00 ../data/bicycle_locations/2022-07-18_06_01_00.csv\n",
            "7 12:00:00 ../data/bicycle_locations/2022-04-19_17_01_00.csv\n",
            "8 18:00:00 ../data/bicycle_locations/2022-11-02_16_01_00.csv\n",
            "9 18:00:00 ../data/bicycle_locations/2022-11-01_09_01_00.csv\n",
            "10 18:00:00 ../data/bicycle_locations/2022-07-18_06_01_00.csv\n",
            "11 18:00:00 ../data/bicycle_locations/2022-04-19_17_01_00.csv\n",
            "\n",
            "0 08:00:00\n",
            "1 12:00:00\n",
            "2 18:00:00\n",
            "\n",
            "0 ../data/bicycle_locations/2022-11-02_16_01_00.csv\n",
            "1 ../data/bicycle_locations/2022-11-01_09_01_00.csv\n",
            "2 ../data/bicycle_locations/2022-07-18_06_01_00.csv\n",
            "3 ../data/bicycle_locations/2022-04-19_17_01_00.csv\n"
          ]
        }
      ],
      "source": [
        "from functools import partial\n",
        "\n",
        "for i, (time, bicycle_location_path) in enumerate(bicycle_public_transport_config_args):\n",
        "    print(i, time, bicycle_location_path)\n",
        "    configs[f\"bicycle_public_transport_{i}\"] = partial(\n",
        "        get_bicyle_public_transport_config_ready, bicycle_location_path, time\n",
        "    )\n",
        "\n",
        "print()\n",
        "for i, time in enumerate(times):\n",
        "    print(i, time)\n",
        "    configs[f\"public_transport_{i}\"] = partial(\n",
        "        get_public_transport_only_config_ready, time\n",
        "    )\n",
        "\n",
        "print()\n",
        "for i, bicycle_location_path in enumerate(bicycle_location_paths):\n",
        "    print(i, bicycle_location_path)\n",
        "    configs[f\"bicycle_{i}\"] = partial(\n",
        "        get_bicycle_only_config_ready, bicycle_location_path\n",
        "    )\n",
        "\n",
        "configs[\"car\"] = get_car_only_config_ready\n",
        "configs[\"walking\"] = get_walking_only_config_ready"
      ]
    },
    {
      "cell_type": "code",
      "execution_count": 11,
      "metadata": {},
      "outputs": [],
      "source": [
        "mcr5_output_path = \"../data/mcr5/Koeln-rerun\""
      ]
    },
    {
      "cell_type": "code",
      "execution_count": 12,
      "metadata": {},
      "outputs": [],
      "source": [
        "if os.path.exists(mcr5_output_path):\n",
        "\traise Exception(\"Output path already exists\")"
      ]
    },
    {
      "cell_type": "code",
      "execution_count": 13,
      "metadata": {},
      "outputs": [],
      "source": [
        "from datetime import datetime\n",
        "import pickle"
      ]
    },
    {
      "cell_type": "code",
      "execution_count": 14,
      "metadata": {},
      "outputs": [
        {
          "data": {
            "text/plain": [
              "{'bicycle_public_transport_0': functools.partial(<function get_bicyle_public_transport_config_ready at 0x7f2171481e10>, '../data/bicycle_locations/2022-11-02_16_01_00.csv', '08:00:00'),\n",
              " 'bicycle_public_transport_1': functools.partial(<function get_bicyle_public_transport_config_ready at 0x7f2171481e10>, '../data/bicycle_locations/2022-11-01_09_01_00.csv', '08:00:00'),\n",
              " 'bicycle_public_transport_2': functools.partial(<function get_bicyle_public_transport_config_ready at 0x7f2171481e10>, '../data/bicycle_locations/2022-07-18_06_01_00.csv', '08:00:00'),\n",
              " 'bicycle_public_transport_3': functools.partial(<function get_bicyle_public_transport_config_ready at 0x7f2171481e10>, '../data/bicycle_locations/2022-04-19_17_01_00.csv', '08:00:00'),\n",
              " 'bicycle_public_transport_4': functools.partial(<function get_bicyle_public_transport_config_ready at 0x7f2171481e10>, '../data/bicycle_locations/2022-11-02_16_01_00.csv', '12:00:00'),\n",
              " 'bicycle_public_transport_5': functools.partial(<function get_bicyle_public_transport_config_ready at 0x7f2171481e10>, '../data/bicycle_locations/2022-11-01_09_01_00.csv', '12:00:00'),\n",
              " 'bicycle_public_transport_6': functools.partial(<function get_bicyle_public_transport_config_ready at 0x7f2171481e10>, '../data/bicycle_locations/2022-07-18_06_01_00.csv', '12:00:00'),\n",
              " 'bicycle_public_transport_7': functools.partial(<function get_bicyle_public_transport_config_ready at 0x7f2171481e10>, '../data/bicycle_locations/2022-04-19_17_01_00.csv', '12:00:00'),\n",
              " 'bicycle_public_transport_8': functools.partial(<function get_bicyle_public_transport_config_ready at 0x7f2171481e10>, '../data/bicycle_locations/2022-11-02_16_01_00.csv', '18:00:00'),\n",
              " 'bicycle_public_transport_9': functools.partial(<function get_bicyle_public_transport_config_ready at 0x7f2171481e10>, '../data/bicycle_locations/2022-11-01_09_01_00.csv', '18:00:00'),\n",
              " 'bicycle_public_transport_10': functools.partial(<function get_bicyle_public_transport_config_ready at 0x7f2171481e10>, '../data/bicycle_locations/2022-07-18_06_01_00.csv', '18:00:00'),\n",
              " 'bicycle_public_transport_11': functools.partial(<function get_bicyle_public_transport_config_ready at 0x7f2171481e10>, '../data/bicycle_locations/2022-04-19_17_01_00.csv', '18:00:00'),\n",
              " 'public_transport_0': functools.partial(<function get_public_transport_only_config_ready at 0x7f20b0421630>, '08:00:00'),\n",
              " 'public_transport_1': functools.partial(<function get_public_transport_only_config_ready at 0x7f20b0421630>, '12:00:00'),\n",
              " 'public_transport_2': functools.partial(<function get_public_transport_only_config_ready at 0x7f20b0421630>, '18:00:00'),\n",
              " 'bicycle_0': functools.partial(<function get_bicycle_only_config_ready at 0x7f20b0421480>, '../data/bicycle_locations/2022-11-02_16_01_00.csv'),\n",
              " 'bicycle_1': functools.partial(<function get_bicycle_only_config_ready at 0x7f20b0421480>, '../data/bicycle_locations/2022-11-01_09_01_00.csv'),\n",
              " 'bicycle_2': functools.partial(<function get_bicycle_only_config_ready at 0x7f20b0421480>, '../data/bicycle_locations/2022-07-18_06_01_00.csv'),\n",
              " 'bicycle_3': functools.partial(<function get_bicycle_only_config_ready at 0x7f20b0421480>, '../data/bicycle_locations/2022-04-19_17_01_00.csv'),\n",
              " 'car': <function __main__.get_car_only_config_ready()>,\n",
              " 'walking': <function __main__.get_walking_only_config_ready()>}"
            ]
          },
          "execution_count": 14,
          "metadata": {},
          "output_type": "execute_result"
        }
      ],
      "source": [
        "configs"
      ]
    },
    {
      "cell_type": "code",
      "execution_count": 15,
      "metadata": {},
      "outputs": [
        {
          "data": {
            "text/html": [
              "<pre style=\"white-space:pre;overflow-x:auto;line-height:normal;font-family:Menlo,'DejaVu Sans Mono',consolas,'Courier New',monospace\"><span style=\"color: #7fbfbf; text-decoration-color: #7fbfbf\">[00:34:18] </span><span style=\"color: #000080; text-decoration-color: #000080\">INFO    </span> Running MCR5 for bicycle_public_transport_0                                      <a href=\"file:///tmp/ipykernel_5877/542061263.py\" target=\"_blank\"><span style=\"color: #7f7f7f; text-decoration-color: #7f7f7f\">542061263.py</span></a><span style=\"color: #7f7f7f; text-decoration-color: #7f7f7f\">:</span><a href=\"file:///tmp/ipykernel_5877/542061263.py#4\" target=\"_blank\"><span style=\"color: #7f7f7f; text-decoration-color: #7f7f7f\">4</span></a>\n",
              "</pre>\n"
            ],
            "text/plain": [
              "\u001b[2;36m[00:34:18]\u001b[0m\u001b[2;36m \u001b[0m\u001b[34mINFO    \u001b[0m Running MCR5 for bicycle_public_transport_0                                      \u001b]8;id=785383;file:///tmp/ipykernel_5877/542061263.py\u001b\\\u001b[2m542061263.py\u001b[0m\u001b]8;;\u001b\\\u001b[2m:\u001b[0m\u001b]8;id=183019;file:///tmp/ipykernel_5877/542061263.py#4\u001b\\\u001b[2m4\u001b[0m\u001b]8;;\u001b\\\n"
            ]
          },
          "metadata": {},
          "output_type": "display_data"
        },
        {
          "data": {
            "text/html": [
              "<pre style=\"white-space:pre;overflow-x:auto;line-height:normal;font-family:Menlo,'DejaVu Sans Mono',consolas,'Courier New',monospace\"><span style=\"color: #7fbfbf; text-decoration-color: #7fbfbf\">           </span><span style=\"color: #000080; text-decoration-color: #000080\">INFO    </span> Using existing OSM data                                                              <a href=\"file:///home/moritz/dev/uni/mcr-py/notebooks/../src/package/osm/osm.py\" target=\"_blank\"><span style=\"color: #7f7f7f; text-decoration-color: #7f7f7f\">osm.py</span></a><span style=\"color: #7f7f7f; text-decoration-color: #7f7f7f\">:</span><a href=\"file:///home/moritz/dev/uni/mcr-py/notebooks/../src/package/osm/osm.py#106\" target=\"_blank\"><span style=\"color: #7f7f7f; text-decoration-color: #7f7f7f\">106</span></a>\n",
              "</pre>\n"
            ],
            "text/plain": [
              "\u001b[2;36m          \u001b[0m\u001b[2;36m \u001b[0m\u001b[34mINFO    \u001b[0m Using existing OSM data                                                              \u001b]8;id=594565;file:///home/moritz/dev/uni/mcr-py/notebooks/../src/package/osm/osm.py\u001b\\\u001b[2mosm.py\u001b[0m\u001b]8;;\u001b\\\u001b[2m:\u001b[0m\u001b]8;id=724112;file:///home/moritz/dev/uni/mcr-py/notebooks/../src/package/osm/osm.py#106\u001b\\\u001b[2m106\u001b[0m\u001b]8;;\u001b\\\n"
            ]
          },
          "metadata": {},
          "output_type": "display_data"
        },
        {
          "data": {
            "text/html": [
              "<pre style=\"white-space:pre;overflow-x:auto;line-height:normal;font-family:Menlo,'DejaVu Sans Mono',consolas,'Courier New',monospace\"><span style=\"color: #7fbfbf; text-decoration-color: #7fbfbf\">           </span><span style=\"color: #000080; text-decoration-color: #000080\">INFO    </span> Loading OSM network from cache <span style=\"font-weight: bold\">(</span>walking<span style=\"font-weight: bold\">)</span>                                              <a href=\"file:///home/moritz/dev/uni/mcr-py/notebooks/../src/package/osm/osm.py\" target=\"_blank\"><span style=\"color: #7f7f7f; text-decoration-color: #7f7f7f\">osm.py</span></a><span style=\"color: #7f7f7f; text-decoration-color: #7f7f7f\">:</span><a href=\"file:///home/moritz/dev/uni/mcr-py/notebooks/../src/package/osm/osm.py#69\" target=\"_blank\"><span style=\"color: #7f7f7f; text-decoration-color: #7f7f7f\">69</span></a>\n",
              "</pre>\n"
            ],
            "text/plain": [
              "\u001b[2;36m          \u001b[0m\u001b[2;36m \u001b[0m\u001b[34mINFO    \u001b[0m Loading OSM network from cache \u001b[1m(\u001b[0mwalking\u001b[1m)\u001b[0m                                              \u001b]8;id=627057;file:///home/moritz/dev/uni/mcr-py/notebooks/../src/package/osm/osm.py\u001b\\\u001b[2mosm.py\u001b[0m\u001b]8;;\u001b\\\u001b[2m:\u001b[0m\u001b]8;id=867703;file:///home/moritz/dev/uni/mcr-py/notebooks/../src/package/osm/osm.py#69\u001b\\\u001b[2m69\u001b[0m\u001b]8;;\u001b\\\n"
            ]
          },
          "metadata": {},
          "output_type": "display_data"
        },
        {
          "data": {
            "text/html": [
              "<pre style=\"white-space:pre;overflow-x:auto;line-height:normal;font-family:Menlo,'DejaVu Sans Mono',consolas,'Courier New',monospace\"><span style=\"color: #7fbfbf; text-decoration-color: #7fbfbf\">[00:35:21] </span><span style=\"color: #000080; text-decoration-color: #000080\">INFO    </span> Using existing OSM data                                                              <a href=\"file:///home/moritz/dev/uni/mcr-py/notebooks/../src/package/osm/osm.py\" target=\"_blank\"><span style=\"color: #7f7f7f; text-decoration-color: #7f7f7f\">osm.py</span></a><span style=\"color: #7f7f7f; text-decoration-color: #7f7f7f\">:</span><a href=\"file:///home/moritz/dev/uni/mcr-py/notebooks/../src/package/osm/osm.py#106\" target=\"_blank\"><span style=\"color: #7f7f7f; text-decoration-color: #7f7f7f\">106</span></a>\n",
              "</pre>\n"
            ],
            "text/plain": [
              "\u001b[2;36m[00:35:21]\u001b[0m\u001b[2;36m \u001b[0m\u001b[34mINFO    \u001b[0m Using existing OSM data                                                              \u001b]8;id=483817;file:///home/moritz/dev/uni/mcr-py/notebooks/../src/package/osm/osm.py\u001b\\\u001b[2mosm.py\u001b[0m\u001b]8;;\u001b\\\u001b[2m:\u001b[0m\u001b]8;id=853515;file:///home/moritz/dev/uni/mcr-py/notebooks/../src/package/osm/osm.py#106\u001b\\\u001b[2m106\u001b[0m\u001b]8;;\u001b\\\n"
            ]
          },
          "metadata": {},
          "output_type": "display_data"
        },
        {
          "data": {
            "text/html": [
              "<pre style=\"white-space:pre;overflow-x:auto;line-height:normal;font-family:Menlo,'DejaVu Sans Mono',consolas,'Courier New',monospace\"><span style=\"color: #7fbfbf; text-decoration-color: #7fbfbf\">           </span><span style=\"color: #000080; text-decoration-color: #000080\">INFO    </span> Loading OSM network from cache <span style=\"font-weight: bold\">(</span>cycling<span style=\"font-weight: bold\">)</span>                                              <a href=\"file:///home/moritz/dev/uni/mcr-py/notebooks/../src/package/osm/osm.py\" target=\"_blank\"><span style=\"color: #7f7f7f; text-decoration-color: #7f7f7f\">osm.py</span></a><span style=\"color: #7f7f7f; text-decoration-color: #7f7f7f\">:</span><a href=\"file:///home/moritz/dev/uni/mcr-py/notebooks/../src/package/osm/osm.py#69\" target=\"_blank\"><span style=\"color: #7f7f7f; text-decoration-color: #7f7f7f\">69</span></a>\n",
              "</pre>\n"
            ],
            "text/plain": [
              "\u001b[2;36m          \u001b[0m\u001b[2;36m \u001b[0m\u001b[34mINFO    \u001b[0m Loading OSM network from cache \u001b[1m(\u001b[0mcycling\u001b[1m)\u001b[0m                                              \u001b]8;id=151629;file:///home/moritz/dev/uni/mcr-py/notebooks/../src/package/osm/osm.py\u001b\\\u001b[2mosm.py\u001b[0m\u001b]8;;\u001b\\\u001b[2m:\u001b[0m\u001b]8;id=242682;file:///home/moritz/dev/uni/mcr-py/notebooks/../src/package/osm/osm.py#69\u001b\\\u001b[2m69\u001b[0m\u001b]8;;\u001b\\\n"
            ]
          },
          "metadata": {},
          "output_type": "display_data"
        },
        {
          "data": {
            "text/html": [
              "<pre style=\"white-space:pre;overflow-x:auto;line-height:normal;font-family:Menlo,'DejaVu Sans Mono',consolas,'Courier New',monospace\"><span style=\"color: #7fbfbf; text-decoration-color: #7fbfbf\">[00:36:14] </span><span style=\"color: #000080; text-decoration-color: #000080\">INFO    </span> Fetching POI for runtime optimization                                         <a href=\"file:///home/moritz/dev/uni/mcr-py/notebooks/../src/command/step_config.py\" target=\"_blank\"><span style=\"color: #7f7f7f; text-decoration-color: #7f7f7f\">step_config.py</span></a><span style=\"color: #7f7f7f; text-decoration-color: #7f7f7f\">:</span><a href=\"file:///home/moritz/dev/uni/mcr-py/notebooks/../src/command/step_config.py#51\" target=\"_blank\"><span style=\"color: #7f7f7f; text-decoration-color: #7f7f7f\">51</span></a>\n",
              "</pre>\n"
            ],
            "text/plain": [
              "\u001b[2;36m[00:36:14]\u001b[0m\u001b[2;36m \u001b[0m\u001b[34mINFO    \u001b[0m Fetching POI for runtime optimization                                         \u001b]8;id=855474;file:///home/moritz/dev/uni/mcr-py/notebooks/../src/command/step_config.py\u001b\\\u001b[2mstep_config.py\u001b[0m\u001b]8;;\u001b\\\u001b[2m:\u001b[0m\u001b]8;id=586523;file:///home/moritz/dev/uni/mcr-py/notebooks/../src/command/step_config.py#51\u001b\\\u001b[2m51\u001b[0m\u001b]8;;\u001b\\\n"
            ]
          },
          "metadata": {},
          "output_type": "display_data"
        },
        {
          "data": {
            "text/html": [
              "<pre style=\"white-space:pre;overflow-x:auto;line-height:normal;font-family:Menlo,'DejaVu Sans Mono',consolas,'Courier New',monospace\"><span style=\"color: #7fbfbf; text-decoration-color: #7fbfbf\">           </span><span style=\"color: #000080; text-decoration-color: #000080\">INFO    </span> Fetching POI for runtime optimization done <span style=\"font-weight: bold\">(</span><span style=\"color: #008080; text-decoration-color: #008080; font-weight: bold\">0.18</span> seconds<span style=\"font-weight: bold\">)</span>                     <a href=\"file:///home/moritz/dev/uni/mcr-py/notebooks/../src/command/step_config.py\" target=\"_blank\"><span style=\"color: #7f7f7f; text-decoration-color: #7f7f7f\">step_config.py</span></a><span style=\"color: #7f7f7f; text-decoration-color: #7f7f7f\">:</span><a href=\"file:///home/moritz/dev/uni/mcr-py/notebooks/../src/command/step_config.py#51\" target=\"_blank\"><span style=\"color: #7f7f7f; text-decoration-color: #7f7f7f\">51</span></a>\n",
              "</pre>\n"
            ],
            "text/plain": [
              "\u001b[2;36m          \u001b[0m\u001b[2;36m \u001b[0m\u001b[34mINFO    \u001b[0m Fetching POI for runtime optimization done \u001b[1m(\u001b[0m\u001b[1;36m0.18\u001b[0m seconds\u001b[1m)\u001b[0m                     \u001b]8;id=788666;file:///home/moritz/dev/uni/mcr-py/notebooks/../src/command/step_config.py\u001b\\\u001b[2mstep_config.py\u001b[0m\u001b]8;;\u001b\\\u001b[2m:\u001b[0m\u001b]8;id=370570;file:///home/moritz/dev/uni/mcr-py/notebooks/../src/command/step_config.py#51\u001b\\\u001b[2m51\u001b[0m\u001b]8;;\u001b\\\n"
            ]
          },
          "metadata": {},
          "output_type": "display_data"
        },
        {
          "data": {
            "text/html": [
              "<pre style=\"white-space:pre;overflow-x:auto;line-height:normal;font-family:Menlo,'DejaVu Sans Mono',consolas,'Courier New',monospace\"><span style=\"color: #7fbfbf; text-decoration-color: #7fbfbf\">[00:37:14] </span><span style=\"color: #000080; text-decoration-color: #000080\">INFO    </span> Reading stops                                                           <a href=\"file:///home/moritz/dev/uni/mcr-py/notebooks/../src/package/mcr/steps/public_transport.py\" target=\"_blank\"><span style=\"color: #7f7f7f; text-decoration-color: #7f7f7f\">public_transport.py</span></a><span style=\"color: #7f7f7f; text-decoration-color: #7f7f7f\">:</span><a href=\"file:///home/moritz/dev/uni/mcr-py/notebooks/../src/package/mcr/steps/public_transport.py#144\" target=\"_blank\"><span style=\"color: #7f7f7f; text-decoration-color: #7f7f7f\">144</span></a>\n",
              "</pre>\n"
            ],
            "text/plain": [
              "\u001b[2;36m[00:37:14]\u001b[0m\u001b[2;36m \u001b[0m\u001b[34mINFO    \u001b[0m Reading stops                                                           \u001b]8;id=60882;file:///home/moritz/dev/uni/mcr-py/notebooks/../src/package/mcr/steps/public_transport.py\u001b\\\u001b[2mpublic_transport.py\u001b[0m\u001b]8;;\u001b\\\u001b[2m:\u001b[0m\u001b]8;id=396090;file:///home/moritz/dev/uni/mcr-py/notebooks/../src/package/mcr/steps/public_transport.py#144\u001b\\\u001b[2m144\u001b[0m\u001b]8;;\u001b\\\n"
            ]
          },
          "metadata": {},
          "output_type": "display_data"
        },
        {
          "data": {
            "text/html": [
              "<pre style=\"white-space:pre;overflow-x:auto;line-height:normal;font-family:Menlo,'DejaVu Sans Mono',consolas,'Courier New',monospace\"><span style=\"color: #7fbfbf; text-decoration-color: #7fbfbf\">           </span><span style=\"color: #000080; text-decoration-color: #000080\">INFO    </span> Reading stops done <span style=\"font-weight: bold\">(</span><span style=\"color: #008080; text-decoration-color: #008080; font-weight: bold\">0.22</span> seconds<span style=\"font-weight: bold\">)</span>                                       <a href=\"file:///home/moritz/dev/uni/mcr-py/notebooks/../src/package/mcr/steps/public_transport.py\" target=\"_blank\"><span style=\"color: #7f7f7f; text-decoration-color: #7f7f7f\">public_transport.py</span></a><span style=\"color: #7f7f7f; text-decoration-color: #7f7f7f\">:</span><a href=\"file:///home/moritz/dev/uni/mcr-py/notebooks/../src/package/mcr/steps/public_transport.py#144\" target=\"_blank\"><span style=\"color: #7f7f7f; text-decoration-color: #7f7f7f\">144</span></a>\n",
              "</pre>\n"
            ],
            "text/plain": [
              "\u001b[2;36m          \u001b[0m\u001b[2;36m \u001b[0m\u001b[34mINFO    \u001b[0m Reading stops done \u001b[1m(\u001b[0m\u001b[1;36m0.22\u001b[0m seconds\u001b[1m)\u001b[0m                                       \u001b]8;id=683942;file:///home/moritz/dev/uni/mcr-py/notebooks/../src/package/mcr/steps/public_transport.py\u001b\\\u001b[2mpublic_transport.py\u001b[0m\u001b]8;;\u001b\\\u001b[2m:\u001b[0m\u001b]8;id=218830;file:///home/moritz/dev/uni/mcr-py/notebooks/../src/package/mcr/steps/public_transport.py#144\u001b\\\u001b[2m144\u001b[0m\u001b]8;;\u001b\\\n"
            ]
          },
          "metadata": {},
          "output_type": "display_data"
        },
        {
          "data": {
            "application/vnd.jupyter.widget-view+json": {
              "model_id": "f5f684e0af1b4496a024932d8f270423",
              "version_major": 2,
              "version_minor": 0
            },
            "text/plain": [
              "Starting:   0%|          | 0/1782 [00:00<?, ?it/s]"
            ]
          },
          "metadata": {},
          "output_type": "display_data"
        },
        {
          "data": {
            "text/html": [
              "<pre style=\"white-space:pre;overflow-x:auto;line-height:normal;font-family:Menlo,'DejaVu Sans Mono',consolas,'Courier New',monospace\"><span style=\"color: #7fbfbf; text-decoration-color: #7fbfbf\">[00:47:16] </span><span style=\"color: #000080; text-decoration-color: #000080\">INFO    </span> All processes finished.                                                             <a href=\"file:///home/moritz/dev/uni/mcr-py/notebooks/../src/package/mcr5/mcr5.py\" target=\"_blank\"><span style=\"color: #7f7f7f; text-decoration-color: #7f7f7f\">mcr5.py</span></a><span style=\"color: #7f7f7f; text-decoration-color: #7f7f7f\">:</span><a href=\"file:///home/moritz/dev/uni/mcr-py/notebooks/../src/package/mcr5/mcr5.py#100\" target=\"_blank\"><span style=\"color: #7f7f7f; text-decoration-color: #7f7f7f\">100</span></a>\n",
              "</pre>\n"
            ],
            "text/plain": [
              "\u001b[2;36m[00:47:16]\u001b[0m\u001b[2;36m \u001b[0m\u001b[34mINFO    \u001b[0m All processes finished.                                                             \u001b]8;id=364870;file:///home/moritz/dev/uni/mcr-py/notebooks/../src/package/mcr5/mcr5.py\u001b\\\u001b[2mmcr5.py\u001b[0m\u001b]8;;\u001b\\\u001b[2m:\u001b[0m\u001b]8;id=322981;file:///home/moritz/dev/uni/mcr-py/notebooks/../src/package/mcr5/mcr5.py#100\u001b\\\u001b[2m100\u001b[0m\u001b]8;;\u001b\\\n"
            ]
          },
          "metadata": {},
          "output_type": "display_data"
        },
        {
          "data": {
            "text/html": [
              "<pre style=\"white-space:pre;overflow-x:auto;line-height:normal;font-family:Menlo,'DejaVu Sans Mono',consolas,'Courier New',monospace\"><span style=\"color: #7fbfbf; text-decoration-color: #7fbfbf\">           </span><span style=\"color: #000080; text-decoration-color: #000080\">INFO    </span> Running MCR5 for bicycle_public_transport_1                                      <a href=\"file:///tmp/ipykernel_5877/542061263.py\" target=\"_blank\"><span style=\"color: #7f7f7f; text-decoration-color: #7f7f7f\">542061263.py</span></a><span style=\"color: #7f7f7f; text-decoration-color: #7f7f7f\">:</span><a href=\"file:///tmp/ipykernel_5877/542061263.py#4\" target=\"_blank\"><span style=\"color: #7f7f7f; text-decoration-color: #7f7f7f\">4</span></a>\n",
              "</pre>\n"
            ],
            "text/plain": [
              "\u001b[2;36m          \u001b[0m\u001b[2;36m \u001b[0m\u001b[34mINFO    \u001b[0m Running MCR5 for bicycle_public_transport_1                                      \u001b]8;id=917865;file:///tmp/ipykernel_5877/542061263.py\u001b\\\u001b[2m542061263.py\u001b[0m\u001b]8;;\u001b\\\u001b[2m:\u001b[0m\u001b]8;id=371712;file:///tmp/ipykernel_5877/542061263.py#4\u001b\\\u001b[2m4\u001b[0m\u001b]8;;\u001b\\\n"
            ]
          },
          "metadata": {},
          "output_type": "display_data"
        },
        {
          "data": {
            "text/html": [
              "<pre style=\"white-space:pre;overflow-x:auto;line-height:normal;font-family:Menlo,'DejaVu Sans Mono',consolas,'Courier New',monospace\"><span style=\"color: #7fbfbf; text-decoration-color: #7fbfbf\">           </span><span style=\"color: #000080; text-decoration-color: #000080\">INFO    </span> Using existing OSM data                                                              <a href=\"file:///home/moritz/dev/uni/mcr-py/notebooks/../src/package/osm/osm.py\" target=\"_blank\"><span style=\"color: #7f7f7f; text-decoration-color: #7f7f7f\">osm.py</span></a><span style=\"color: #7f7f7f; text-decoration-color: #7f7f7f\">:</span><a href=\"file:///home/moritz/dev/uni/mcr-py/notebooks/../src/package/osm/osm.py#106\" target=\"_blank\"><span style=\"color: #7f7f7f; text-decoration-color: #7f7f7f\">106</span></a>\n",
              "</pre>\n"
            ],
            "text/plain": [
              "\u001b[2;36m          \u001b[0m\u001b[2;36m \u001b[0m\u001b[34mINFO    \u001b[0m Using existing OSM data                                                              \u001b]8;id=740970;file:///home/moritz/dev/uni/mcr-py/notebooks/../src/package/osm/osm.py\u001b\\\u001b[2mosm.py\u001b[0m\u001b]8;;\u001b\\\u001b[2m:\u001b[0m\u001b]8;id=156936;file:///home/moritz/dev/uni/mcr-py/notebooks/../src/package/osm/osm.py#106\u001b\\\u001b[2m106\u001b[0m\u001b]8;;\u001b\\\n"
            ]
          },
          "metadata": {},
          "output_type": "display_data"
        },
        {
          "data": {
            "text/html": [
              "<pre style=\"white-space:pre;overflow-x:auto;line-height:normal;font-family:Menlo,'DejaVu Sans Mono',consolas,'Courier New',monospace\"><span style=\"color: #7fbfbf; text-decoration-color: #7fbfbf\">           </span><span style=\"color: #000080; text-decoration-color: #000080\">INFO    </span> Loading OSM network from cache <span style=\"font-weight: bold\">(</span>walking<span style=\"font-weight: bold\">)</span>                                              <a href=\"file:///home/moritz/dev/uni/mcr-py/notebooks/../src/package/osm/osm.py\" target=\"_blank\"><span style=\"color: #7f7f7f; text-decoration-color: #7f7f7f\">osm.py</span></a><span style=\"color: #7f7f7f; text-decoration-color: #7f7f7f\">:</span><a href=\"file:///home/moritz/dev/uni/mcr-py/notebooks/../src/package/osm/osm.py#69\" target=\"_blank\"><span style=\"color: #7f7f7f; text-decoration-color: #7f7f7f\">69</span></a>\n",
              "</pre>\n"
            ],
            "text/plain": [
              "\u001b[2;36m          \u001b[0m\u001b[2;36m \u001b[0m\u001b[34mINFO    \u001b[0m Loading OSM network from cache \u001b[1m(\u001b[0mwalking\u001b[1m)\u001b[0m                                              \u001b]8;id=81068;file:///home/moritz/dev/uni/mcr-py/notebooks/../src/package/osm/osm.py\u001b\\\u001b[2mosm.py\u001b[0m\u001b]8;;\u001b\\\u001b[2m:\u001b[0m\u001b]8;id=560073;file:///home/moritz/dev/uni/mcr-py/notebooks/../src/package/osm/osm.py#69\u001b\\\u001b[2m69\u001b[0m\u001b]8;;\u001b\\\n"
            ]
          },
          "metadata": {},
          "output_type": "display_data"
        },
        {
          "data": {
            "text/html": [
              "<pre style=\"white-space:pre;overflow-x:auto;line-height:normal;font-family:Menlo,'DejaVu Sans Mono',consolas,'Courier New',monospace\"><span style=\"color: #7fbfbf; text-decoration-color: #7fbfbf\">[00:48:20] </span><span style=\"color: #000080; text-decoration-color: #000080\">INFO    </span> Using existing OSM data                                                              <a href=\"file:///home/moritz/dev/uni/mcr-py/notebooks/../src/package/osm/osm.py\" target=\"_blank\"><span style=\"color: #7f7f7f; text-decoration-color: #7f7f7f\">osm.py</span></a><span style=\"color: #7f7f7f; text-decoration-color: #7f7f7f\">:</span><a href=\"file:///home/moritz/dev/uni/mcr-py/notebooks/../src/package/osm/osm.py#106\" target=\"_blank\"><span style=\"color: #7f7f7f; text-decoration-color: #7f7f7f\">106</span></a>\n",
              "</pre>\n"
            ],
            "text/plain": [
              "\u001b[2;36m[00:48:20]\u001b[0m\u001b[2;36m \u001b[0m\u001b[34mINFO    \u001b[0m Using existing OSM data                                                              \u001b]8;id=576295;file:///home/moritz/dev/uni/mcr-py/notebooks/../src/package/osm/osm.py\u001b\\\u001b[2mosm.py\u001b[0m\u001b]8;;\u001b\\\u001b[2m:\u001b[0m\u001b]8;id=186250;file:///home/moritz/dev/uni/mcr-py/notebooks/../src/package/osm/osm.py#106\u001b\\\u001b[2m106\u001b[0m\u001b]8;;\u001b\\\n"
            ]
          },
          "metadata": {},
          "output_type": "display_data"
        },
        {
          "data": {
            "text/html": [
              "<pre style=\"white-space:pre;overflow-x:auto;line-height:normal;font-family:Menlo,'DejaVu Sans Mono',consolas,'Courier New',monospace\"><span style=\"color: #7fbfbf; text-decoration-color: #7fbfbf\">           </span><span style=\"color: #000080; text-decoration-color: #000080\">INFO    </span> Loading OSM network from cache <span style=\"font-weight: bold\">(</span>cycling<span style=\"font-weight: bold\">)</span>                                              <a href=\"file:///home/moritz/dev/uni/mcr-py/notebooks/../src/package/osm/osm.py\" target=\"_blank\"><span style=\"color: #7f7f7f; text-decoration-color: #7f7f7f\">osm.py</span></a><span style=\"color: #7f7f7f; text-decoration-color: #7f7f7f\">:</span><a href=\"file:///home/moritz/dev/uni/mcr-py/notebooks/../src/package/osm/osm.py#69\" target=\"_blank\"><span style=\"color: #7f7f7f; text-decoration-color: #7f7f7f\">69</span></a>\n",
              "</pre>\n"
            ],
            "text/plain": [
              "\u001b[2;36m          \u001b[0m\u001b[2;36m \u001b[0m\u001b[34mINFO    \u001b[0m Loading OSM network from cache \u001b[1m(\u001b[0mcycling\u001b[1m)\u001b[0m                                              \u001b]8;id=945385;file:///home/moritz/dev/uni/mcr-py/notebooks/../src/package/osm/osm.py\u001b\\\u001b[2mosm.py\u001b[0m\u001b]8;;\u001b\\\u001b[2m:\u001b[0m\u001b]8;id=233857;file:///home/moritz/dev/uni/mcr-py/notebooks/../src/package/osm/osm.py#69\u001b\\\u001b[2m69\u001b[0m\u001b]8;;\u001b\\\n"
            ]
          },
          "metadata": {},
          "output_type": "display_data"
        },
        {
          "data": {
            "text/html": [
              "<pre style=\"white-space:pre;overflow-x:auto;line-height:normal;font-family:Menlo,'DejaVu Sans Mono',consolas,'Courier New',monospace\"><span style=\"color: #7fbfbf; text-decoration-color: #7fbfbf\">[00:49:14] </span><span style=\"color: #000080; text-decoration-color: #000080\">INFO    </span> Fetching POI for runtime optimization                                         <a href=\"file:///home/moritz/dev/uni/mcr-py/notebooks/../src/command/step_config.py\" target=\"_blank\"><span style=\"color: #7f7f7f; text-decoration-color: #7f7f7f\">step_config.py</span></a><span style=\"color: #7f7f7f; text-decoration-color: #7f7f7f\">:</span><a href=\"file:///home/moritz/dev/uni/mcr-py/notebooks/../src/command/step_config.py#51\" target=\"_blank\"><span style=\"color: #7f7f7f; text-decoration-color: #7f7f7f\">51</span></a>\n",
              "</pre>\n"
            ],
            "text/plain": [
              "\u001b[2;36m[00:49:14]\u001b[0m\u001b[2;36m \u001b[0m\u001b[34mINFO    \u001b[0m Fetching POI for runtime optimization                                         \u001b]8;id=645080;file:///home/moritz/dev/uni/mcr-py/notebooks/../src/command/step_config.py\u001b\\\u001b[2mstep_config.py\u001b[0m\u001b]8;;\u001b\\\u001b[2m:\u001b[0m\u001b]8;id=307703;file:///home/moritz/dev/uni/mcr-py/notebooks/../src/command/step_config.py#51\u001b\\\u001b[2m51\u001b[0m\u001b]8;;\u001b\\\n"
            ]
          },
          "metadata": {},
          "output_type": "display_data"
        },
        {
          "data": {
            "text/html": [
              "<pre style=\"white-space:pre;overflow-x:auto;line-height:normal;font-family:Menlo,'DejaVu Sans Mono',consolas,'Courier New',monospace\"><span style=\"color: #7fbfbf; text-decoration-color: #7fbfbf\">           </span><span style=\"color: #000080; text-decoration-color: #000080\">INFO    </span> Fetching POI for runtime optimization done <span style=\"font-weight: bold\">(</span><span style=\"color: #008080; text-decoration-color: #008080; font-weight: bold\">0.04</span> seconds<span style=\"font-weight: bold\">)</span>                     <a href=\"file:///home/moritz/dev/uni/mcr-py/notebooks/../src/command/step_config.py\" target=\"_blank\"><span style=\"color: #7f7f7f; text-decoration-color: #7f7f7f\">step_config.py</span></a><span style=\"color: #7f7f7f; text-decoration-color: #7f7f7f\">:</span><a href=\"file:///home/moritz/dev/uni/mcr-py/notebooks/../src/command/step_config.py#51\" target=\"_blank\"><span style=\"color: #7f7f7f; text-decoration-color: #7f7f7f\">51</span></a>\n",
              "</pre>\n"
            ],
            "text/plain": [
              "\u001b[2;36m          \u001b[0m\u001b[2;36m \u001b[0m\u001b[34mINFO    \u001b[0m Fetching POI for runtime optimization done \u001b[1m(\u001b[0m\u001b[1;36m0.04\u001b[0m seconds\u001b[1m)\u001b[0m                     \u001b]8;id=629656;file:///home/moritz/dev/uni/mcr-py/notebooks/../src/command/step_config.py\u001b\\\u001b[2mstep_config.py\u001b[0m\u001b]8;;\u001b\\\u001b[2m:\u001b[0m\u001b]8;id=65180;file:///home/moritz/dev/uni/mcr-py/notebooks/../src/command/step_config.py#51\u001b\\\u001b[2m51\u001b[0m\u001b]8;;\u001b\\\n"
            ]
          },
          "metadata": {},
          "output_type": "display_data"
        },
        {
          "data": {
            "text/html": [
              "<pre style=\"white-space:pre;overflow-x:auto;line-height:normal;font-family:Menlo,'DejaVu Sans Mono',consolas,'Courier New',monospace\"><span style=\"color: #7fbfbf; text-decoration-color: #7fbfbf\">[00:50:14] </span><span style=\"color: #000080; text-decoration-color: #000080\">INFO    </span> Reading stops                                                           <a href=\"file:///home/moritz/dev/uni/mcr-py/notebooks/../src/package/mcr/steps/public_transport.py\" target=\"_blank\"><span style=\"color: #7f7f7f; text-decoration-color: #7f7f7f\">public_transport.py</span></a><span style=\"color: #7f7f7f; text-decoration-color: #7f7f7f\">:</span><a href=\"file:///home/moritz/dev/uni/mcr-py/notebooks/../src/package/mcr/steps/public_transport.py#144\" target=\"_blank\"><span style=\"color: #7f7f7f; text-decoration-color: #7f7f7f\">144</span></a>\n",
              "</pre>\n"
            ],
            "text/plain": [
              "\u001b[2;36m[00:50:14]\u001b[0m\u001b[2;36m \u001b[0m\u001b[34mINFO    \u001b[0m Reading stops                                                           \u001b]8;id=394328;file:///home/moritz/dev/uni/mcr-py/notebooks/../src/package/mcr/steps/public_transport.py\u001b\\\u001b[2mpublic_transport.py\u001b[0m\u001b]8;;\u001b\\\u001b[2m:\u001b[0m\u001b]8;id=692391;file:///home/moritz/dev/uni/mcr-py/notebooks/../src/package/mcr/steps/public_transport.py#144\u001b\\\u001b[2m144\u001b[0m\u001b]8;;\u001b\\\n"
            ]
          },
          "metadata": {},
          "output_type": "display_data"
        },
        {
          "data": {
            "text/html": [
              "<pre style=\"white-space:pre;overflow-x:auto;line-height:normal;font-family:Menlo,'DejaVu Sans Mono',consolas,'Courier New',monospace\"><span style=\"color: #7fbfbf; text-decoration-color: #7fbfbf\">           </span><span style=\"color: #000080; text-decoration-color: #000080\">INFO    </span> Reading stops done <span style=\"font-weight: bold\">(</span><span style=\"color: #008080; text-decoration-color: #008080; font-weight: bold\">0.21</span> seconds<span style=\"font-weight: bold\">)</span>                                       <a href=\"file:///home/moritz/dev/uni/mcr-py/notebooks/../src/package/mcr/steps/public_transport.py\" target=\"_blank\"><span style=\"color: #7f7f7f; text-decoration-color: #7f7f7f\">public_transport.py</span></a><span style=\"color: #7f7f7f; text-decoration-color: #7f7f7f\">:</span><a href=\"file:///home/moritz/dev/uni/mcr-py/notebooks/../src/package/mcr/steps/public_transport.py#144\" target=\"_blank\"><span style=\"color: #7f7f7f; text-decoration-color: #7f7f7f\">144</span></a>\n",
              "</pre>\n"
            ],
            "text/plain": [
              "\u001b[2;36m          \u001b[0m\u001b[2;36m \u001b[0m\u001b[34mINFO    \u001b[0m Reading stops done \u001b[1m(\u001b[0m\u001b[1;36m0.21\u001b[0m seconds\u001b[1m)\u001b[0m                                       \u001b]8;id=925836;file:///home/moritz/dev/uni/mcr-py/notebooks/../src/package/mcr/steps/public_transport.py\u001b\\\u001b[2mpublic_transport.py\u001b[0m\u001b]8;;\u001b\\\u001b[2m:\u001b[0m\u001b]8;id=628174;file:///home/moritz/dev/uni/mcr-py/notebooks/../src/package/mcr/steps/public_transport.py#144\u001b\\\u001b[2m144\u001b[0m\u001b]8;;\u001b\\\n"
            ]
          },
          "metadata": {},
          "output_type": "display_data"
        },
        {
          "data": {
            "application/vnd.jupyter.widget-view+json": {
              "model_id": "3ebe73f686a440b99f926638f64d4b21",
              "version_major": 2,
              "version_minor": 0
            },
            "text/plain": [
              "Starting:   0%|          | 0/1782 [00:00<?, ?it/s]"
            ]
          },
          "metadata": {},
          "output_type": "display_data"
        },
        {
          "data": {
            "text/html": [
              "<pre style=\"white-space:pre;overflow-x:auto;line-height:normal;font-family:Menlo,'DejaVu Sans Mono',consolas,'Courier New',monospace\"><span style=\"color: #7fbfbf; text-decoration-color: #7fbfbf\">[01:01:24] </span><span style=\"color: #000080; text-decoration-color: #000080\">INFO    </span> All processes finished.                                                             <a href=\"file:///home/moritz/dev/uni/mcr-py/notebooks/../src/package/mcr5/mcr5.py\" target=\"_blank\"><span style=\"color: #7f7f7f; text-decoration-color: #7f7f7f\">mcr5.py</span></a><span style=\"color: #7f7f7f; text-decoration-color: #7f7f7f\">:</span><a href=\"file:///home/moritz/dev/uni/mcr-py/notebooks/../src/package/mcr5/mcr5.py#100\" target=\"_blank\"><span style=\"color: #7f7f7f; text-decoration-color: #7f7f7f\">100</span></a>\n",
              "</pre>\n"
            ],
            "text/plain": [
              "\u001b[2;36m[01:01:24]\u001b[0m\u001b[2;36m \u001b[0m\u001b[34mINFO    \u001b[0m All processes finished.                                                             \u001b]8;id=436217;file:///home/moritz/dev/uni/mcr-py/notebooks/../src/package/mcr5/mcr5.py\u001b\\\u001b[2mmcr5.py\u001b[0m\u001b]8;;\u001b\\\u001b[2m:\u001b[0m\u001b]8;id=322451;file:///home/moritz/dev/uni/mcr-py/notebooks/../src/package/mcr5/mcr5.py#100\u001b\\\u001b[2m100\u001b[0m\u001b]8;;\u001b\\\n"
            ]
          },
          "metadata": {},
          "output_type": "display_data"
        },
        {
          "data": {
            "text/html": [
              "<pre style=\"white-space:pre;overflow-x:auto;line-height:normal;font-family:Menlo,'DejaVu Sans Mono',consolas,'Courier New',monospace\"><span style=\"color: #7fbfbf; text-decoration-color: #7fbfbf\">           </span><span style=\"color: #000080; text-decoration-color: #000080\">INFO    </span> Running MCR5 for bicycle_public_transport_2                                      <a href=\"file:///tmp/ipykernel_5877/542061263.py\" target=\"_blank\"><span style=\"color: #7f7f7f; text-decoration-color: #7f7f7f\">542061263.py</span></a><span style=\"color: #7f7f7f; text-decoration-color: #7f7f7f\">:</span><a href=\"file:///tmp/ipykernel_5877/542061263.py#4\" target=\"_blank\"><span style=\"color: #7f7f7f; text-decoration-color: #7f7f7f\">4</span></a>\n",
              "</pre>\n"
            ],
            "text/plain": [
              "\u001b[2;36m          \u001b[0m\u001b[2;36m \u001b[0m\u001b[34mINFO    \u001b[0m Running MCR5 for bicycle_public_transport_2                                      \u001b]8;id=447658;file:///tmp/ipykernel_5877/542061263.py\u001b\\\u001b[2m542061263.py\u001b[0m\u001b]8;;\u001b\\\u001b[2m:\u001b[0m\u001b]8;id=633560;file:///tmp/ipykernel_5877/542061263.py#4\u001b\\\u001b[2m4\u001b[0m\u001b]8;;\u001b\\\n"
            ]
          },
          "metadata": {},
          "output_type": "display_data"
        },
        {
          "data": {
            "text/html": [
              "<pre style=\"white-space:pre;overflow-x:auto;line-height:normal;font-family:Menlo,'DejaVu Sans Mono',consolas,'Courier New',monospace\"><span style=\"color: #7fbfbf; text-decoration-color: #7fbfbf\">           </span><span style=\"color: #000080; text-decoration-color: #000080\">INFO    </span> Using existing OSM data                                                              <a href=\"file:///home/moritz/dev/uni/mcr-py/notebooks/../src/package/osm/osm.py\" target=\"_blank\"><span style=\"color: #7f7f7f; text-decoration-color: #7f7f7f\">osm.py</span></a><span style=\"color: #7f7f7f; text-decoration-color: #7f7f7f\">:</span><a href=\"file:///home/moritz/dev/uni/mcr-py/notebooks/../src/package/osm/osm.py#106\" target=\"_blank\"><span style=\"color: #7f7f7f; text-decoration-color: #7f7f7f\">106</span></a>\n",
              "</pre>\n"
            ],
            "text/plain": [
              "\u001b[2;36m          \u001b[0m\u001b[2;36m \u001b[0m\u001b[34mINFO    \u001b[0m Using existing OSM data                                                              \u001b]8;id=884761;file:///home/moritz/dev/uni/mcr-py/notebooks/../src/package/osm/osm.py\u001b\\\u001b[2mosm.py\u001b[0m\u001b]8;;\u001b\\\u001b[2m:\u001b[0m\u001b]8;id=475226;file:///home/moritz/dev/uni/mcr-py/notebooks/../src/package/osm/osm.py#106\u001b\\\u001b[2m106\u001b[0m\u001b]8;;\u001b\\\n"
            ]
          },
          "metadata": {},
          "output_type": "display_data"
        },
        {
          "data": {
            "text/html": [
              "<pre style=\"white-space:pre;overflow-x:auto;line-height:normal;font-family:Menlo,'DejaVu Sans Mono',consolas,'Courier New',monospace\"><span style=\"color: #7fbfbf; text-decoration-color: #7fbfbf\">           </span><span style=\"color: #000080; text-decoration-color: #000080\">INFO    </span> Loading OSM network from cache <span style=\"font-weight: bold\">(</span>walking<span style=\"font-weight: bold\">)</span>                                              <a href=\"file:///home/moritz/dev/uni/mcr-py/notebooks/../src/package/osm/osm.py\" target=\"_blank\"><span style=\"color: #7f7f7f; text-decoration-color: #7f7f7f\">osm.py</span></a><span style=\"color: #7f7f7f; text-decoration-color: #7f7f7f\">:</span><a href=\"file:///home/moritz/dev/uni/mcr-py/notebooks/../src/package/osm/osm.py#69\" target=\"_blank\"><span style=\"color: #7f7f7f; text-decoration-color: #7f7f7f\">69</span></a>\n",
              "</pre>\n"
            ],
            "text/plain": [
              "\u001b[2;36m          \u001b[0m\u001b[2;36m \u001b[0m\u001b[34mINFO    \u001b[0m Loading OSM network from cache \u001b[1m(\u001b[0mwalking\u001b[1m)\u001b[0m                                              \u001b]8;id=69452;file:///home/moritz/dev/uni/mcr-py/notebooks/../src/package/osm/osm.py\u001b\\\u001b[2mosm.py\u001b[0m\u001b]8;;\u001b\\\u001b[2m:\u001b[0m\u001b]8;id=358975;file:///home/moritz/dev/uni/mcr-py/notebooks/../src/package/osm/osm.py#69\u001b\\\u001b[2m69\u001b[0m\u001b]8;;\u001b\\\n"
            ]
          },
          "metadata": {},
          "output_type": "display_data"
        },
        {
          "data": {
            "text/html": [
              "<pre style=\"white-space:pre;overflow-x:auto;line-height:normal;font-family:Menlo,'DejaVu Sans Mono',consolas,'Courier New',monospace\"><span style=\"color: #7fbfbf; text-decoration-color: #7fbfbf\">[01:02:31] </span><span style=\"color: #000080; text-decoration-color: #000080\">INFO    </span> Using existing OSM data                                                              <a href=\"file:///home/moritz/dev/uni/mcr-py/notebooks/../src/package/osm/osm.py\" target=\"_blank\"><span style=\"color: #7f7f7f; text-decoration-color: #7f7f7f\">osm.py</span></a><span style=\"color: #7f7f7f; text-decoration-color: #7f7f7f\">:</span><a href=\"file:///home/moritz/dev/uni/mcr-py/notebooks/../src/package/osm/osm.py#106\" target=\"_blank\"><span style=\"color: #7f7f7f; text-decoration-color: #7f7f7f\">106</span></a>\n",
              "</pre>\n"
            ],
            "text/plain": [
              "\u001b[2;36m[01:02:31]\u001b[0m\u001b[2;36m \u001b[0m\u001b[34mINFO    \u001b[0m Using existing OSM data                                                              \u001b]8;id=864022;file:///home/moritz/dev/uni/mcr-py/notebooks/../src/package/osm/osm.py\u001b\\\u001b[2mosm.py\u001b[0m\u001b]8;;\u001b\\\u001b[2m:\u001b[0m\u001b]8;id=581266;file:///home/moritz/dev/uni/mcr-py/notebooks/../src/package/osm/osm.py#106\u001b\\\u001b[2m106\u001b[0m\u001b]8;;\u001b\\\n"
            ]
          },
          "metadata": {},
          "output_type": "display_data"
        },
        {
          "data": {
            "text/html": [
              "<pre style=\"white-space:pre;overflow-x:auto;line-height:normal;font-family:Menlo,'DejaVu Sans Mono',consolas,'Courier New',monospace\"><span style=\"color: #7fbfbf; text-decoration-color: #7fbfbf\">           </span><span style=\"color: #000080; text-decoration-color: #000080\">INFO    </span> Loading OSM network from cache <span style=\"font-weight: bold\">(</span>cycling<span style=\"font-weight: bold\">)</span>                                              <a href=\"file:///home/moritz/dev/uni/mcr-py/notebooks/../src/package/osm/osm.py\" target=\"_blank\"><span style=\"color: #7f7f7f; text-decoration-color: #7f7f7f\">osm.py</span></a><span style=\"color: #7f7f7f; text-decoration-color: #7f7f7f\">:</span><a href=\"file:///home/moritz/dev/uni/mcr-py/notebooks/../src/package/osm/osm.py#69\" target=\"_blank\"><span style=\"color: #7f7f7f; text-decoration-color: #7f7f7f\">69</span></a>\n",
              "</pre>\n"
            ],
            "text/plain": [
              "\u001b[2;36m          \u001b[0m\u001b[2;36m \u001b[0m\u001b[34mINFO    \u001b[0m Loading OSM network from cache \u001b[1m(\u001b[0mcycling\u001b[1m)\u001b[0m                                              \u001b]8;id=436177;file:///home/moritz/dev/uni/mcr-py/notebooks/../src/package/osm/osm.py\u001b\\\u001b[2mosm.py\u001b[0m\u001b]8;;\u001b\\\u001b[2m:\u001b[0m\u001b]8;id=570754;file:///home/moritz/dev/uni/mcr-py/notebooks/../src/package/osm/osm.py#69\u001b\\\u001b[2m69\u001b[0m\u001b]8;;\u001b\\\n"
            ]
          },
          "metadata": {},
          "output_type": "display_data"
        },
        {
          "data": {
            "text/html": [
              "<pre style=\"white-space:pre;overflow-x:auto;line-height:normal;font-family:Menlo,'DejaVu Sans Mono',consolas,'Courier New',monospace\"><span style=\"color: #7fbfbf; text-decoration-color: #7fbfbf\">[01:03:27] </span><span style=\"color: #000080; text-decoration-color: #000080\">INFO    </span> Fetching POI for runtime optimization                                         <a href=\"file:///home/moritz/dev/uni/mcr-py/notebooks/../src/command/step_config.py\" target=\"_blank\"><span style=\"color: #7f7f7f; text-decoration-color: #7f7f7f\">step_config.py</span></a><span style=\"color: #7f7f7f; text-decoration-color: #7f7f7f\">:</span><a href=\"file:///home/moritz/dev/uni/mcr-py/notebooks/../src/command/step_config.py#51\" target=\"_blank\"><span style=\"color: #7f7f7f; text-decoration-color: #7f7f7f\">51</span></a>\n",
              "</pre>\n"
            ],
            "text/plain": [
              "\u001b[2;36m[01:03:27]\u001b[0m\u001b[2;36m \u001b[0m\u001b[34mINFO    \u001b[0m Fetching POI for runtime optimization                                         \u001b]8;id=264477;file:///home/moritz/dev/uni/mcr-py/notebooks/../src/command/step_config.py\u001b\\\u001b[2mstep_config.py\u001b[0m\u001b]8;;\u001b\\\u001b[2m:\u001b[0m\u001b]8;id=170525;file:///home/moritz/dev/uni/mcr-py/notebooks/../src/command/step_config.py#51\u001b\\\u001b[2m51\u001b[0m\u001b]8;;\u001b\\\n"
            ]
          },
          "metadata": {},
          "output_type": "display_data"
        },
        {
          "data": {
            "text/html": [
              "<pre style=\"white-space:pre;overflow-x:auto;line-height:normal;font-family:Menlo,'DejaVu Sans Mono',consolas,'Courier New',monospace\"><span style=\"color: #7fbfbf; text-decoration-color: #7fbfbf\">           </span><span style=\"color: #000080; text-decoration-color: #000080\">INFO    </span> Fetching POI for runtime optimization done <span style=\"font-weight: bold\">(</span><span style=\"color: #008080; text-decoration-color: #008080; font-weight: bold\">0.06</span> seconds<span style=\"font-weight: bold\">)</span>                     <a href=\"file:///home/moritz/dev/uni/mcr-py/notebooks/../src/command/step_config.py\" target=\"_blank\"><span style=\"color: #7f7f7f; text-decoration-color: #7f7f7f\">step_config.py</span></a><span style=\"color: #7f7f7f; text-decoration-color: #7f7f7f\">:</span><a href=\"file:///home/moritz/dev/uni/mcr-py/notebooks/../src/command/step_config.py#51\" target=\"_blank\"><span style=\"color: #7f7f7f; text-decoration-color: #7f7f7f\">51</span></a>\n",
              "</pre>\n"
            ],
            "text/plain": [
              "\u001b[2;36m          \u001b[0m\u001b[2;36m \u001b[0m\u001b[34mINFO    \u001b[0m Fetching POI for runtime optimization done \u001b[1m(\u001b[0m\u001b[1;36m0.06\u001b[0m seconds\u001b[1m)\u001b[0m                     \u001b]8;id=652002;file:///home/moritz/dev/uni/mcr-py/notebooks/../src/command/step_config.py\u001b\\\u001b[2mstep_config.py\u001b[0m\u001b]8;;\u001b\\\u001b[2m:\u001b[0m\u001b]8;id=984657;file:///home/moritz/dev/uni/mcr-py/notebooks/../src/command/step_config.py#51\u001b\\\u001b[2m51\u001b[0m\u001b]8;;\u001b\\\n"
            ]
          },
          "metadata": {},
          "output_type": "display_data"
        },
        {
          "data": {
            "text/html": [
              "<pre style=\"white-space:pre;overflow-x:auto;line-height:normal;font-family:Menlo,'DejaVu Sans Mono',consolas,'Courier New',monospace\"><span style=\"color: #7fbfbf; text-decoration-color: #7fbfbf\">[01:04:32] </span><span style=\"color: #000080; text-decoration-color: #000080\">INFO    </span> Reading stops                                                           <a href=\"file:///home/moritz/dev/uni/mcr-py/notebooks/../src/package/mcr/steps/public_transport.py\" target=\"_blank\"><span style=\"color: #7f7f7f; text-decoration-color: #7f7f7f\">public_transport.py</span></a><span style=\"color: #7f7f7f; text-decoration-color: #7f7f7f\">:</span><a href=\"file:///home/moritz/dev/uni/mcr-py/notebooks/../src/package/mcr/steps/public_transport.py#144\" target=\"_blank\"><span style=\"color: #7f7f7f; text-decoration-color: #7f7f7f\">144</span></a>\n",
              "</pre>\n"
            ],
            "text/plain": [
              "\u001b[2;36m[01:04:32]\u001b[0m\u001b[2;36m \u001b[0m\u001b[34mINFO    \u001b[0m Reading stops                                                           \u001b]8;id=129252;file:///home/moritz/dev/uni/mcr-py/notebooks/../src/package/mcr/steps/public_transport.py\u001b\\\u001b[2mpublic_transport.py\u001b[0m\u001b]8;;\u001b\\\u001b[2m:\u001b[0m\u001b]8;id=568253;file:///home/moritz/dev/uni/mcr-py/notebooks/../src/package/mcr/steps/public_transport.py#144\u001b\\\u001b[2m144\u001b[0m\u001b]8;;\u001b\\\n"
            ]
          },
          "metadata": {},
          "output_type": "display_data"
        },
        {
          "data": {
            "text/html": [
              "<pre style=\"white-space:pre;overflow-x:auto;line-height:normal;font-family:Menlo,'DejaVu Sans Mono',consolas,'Courier New',monospace\"><span style=\"color: #7fbfbf; text-decoration-color: #7fbfbf\">           </span><span style=\"color: #000080; text-decoration-color: #000080\">INFO    </span> Reading stops done <span style=\"font-weight: bold\">(</span><span style=\"color: #008080; text-decoration-color: #008080; font-weight: bold\">0.20</span> seconds<span style=\"font-weight: bold\">)</span>                                       <a href=\"file:///home/moritz/dev/uni/mcr-py/notebooks/../src/package/mcr/steps/public_transport.py\" target=\"_blank\"><span style=\"color: #7f7f7f; text-decoration-color: #7f7f7f\">public_transport.py</span></a><span style=\"color: #7f7f7f; text-decoration-color: #7f7f7f\">:</span><a href=\"file:///home/moritz/dev/uni/mcr-py/notebooks/../src/package/mcr/steps/public_transport.py#144\" target=\"_blank\"><span style=\"color: #7f7f7f; text-decoration-color: #7f7f7f\">144</span></a>\n",
              "</pre>\n"
            ],
            "text/plain": [
              "\u001b[2;36m          \u001b[0m\u001b[2;36m \u001b[0m\u001b[34mINFO    \u001b[0m Reading stops done \u001b[1m(\u001b[0m\u001b[1;36m0.20\u001b[0m seconds\u001b[1m)\u001b[0m                                       \u001b]8;id=822647;file:///home/moritz/dev/uni/mcr-py/notebooks/../src/package/mcr/steps/public_transport.py\u001b\\\u001b[2mpublic_transport.py\u001b[0m\u001b]8;;\u001b\\\u001b[2m:\u001b[0m\u001b]8;id=468222;file:///home/moritz/dev/uni/mcr-py/notebooks/../src/package/mcr/steps/public_transport.py#144\u001b\\\u001b[2m144\u001b[0m\u001b]8;;\u001b\\\n"
            ]
          },
          "metadata": {},
          "output_type": "display_data"
        },
        {
          "data": {
            "application/vnd.jupyter.widget-view+json": {
              "model_id": "447f1f94114f4ade800107b5e1238401",
              "version_major": 2,
              "version_minor": 0
            },
            "text/plain": [
              "Starting:   0%|          | 0/1782 [00:00<?, ?it/s]"
            ]
          },
          "metadata": {},
          "output_type": "display_data"
        },
        {
          "data": {
            "text/html": [
              "<pre style=\"white-space:pre;overflow-x:auto;line-height:normal;font-family:Menlo,'DejaVu Sans Mono',consolas,'Courier New',monospace\"><span style=\"color: #7fbfbf; text-decoration-color: #7fbfbf\">[01:16:25] </span><span style=\"color: #000080; text-decoration-color: #000080\">INFO    </span> All processes finished.                                                             <a href=\"file:///home/moritz/dev/uni/mcr-py/notebooks/../src/package/mcr5/mcr5.py\" target=\"_blank\"><span style=\"color: #7f7f7f; text-decoration-color: #7f7f7f\">mcr5.py</span></a><span style=\"color: #7f7f7f; text-decoration-color: #7f7f7f\">:</span><a href=\"file:///home/moritz/dev/uni/mcr-py/notebooks/../src/package/mcr5/mcr5.py#100\" target=\"_blank\"><span style=\"color: #7f7f7f; text-decoration-color: #7f7f7f\">100</span></a>\n",
              "</pre>\n"
            ],
            "text/plain": [
              "\u001b[2;36m[01:16:25]\u001b[0m\u001b[2;36m \u001b[0m\u001b[34mINFO    \u001b[0m All processes finished.                                                             \u001b]8;id=95754;file:///home/moritz/dev/uni/mcr-py/notebooks/../src/package/mcr5/mcr5.py\u001b\\\u001b[2mmcr5.py\u001b[0m\u001b]8;;\u001b\\\u001b[2m:\u001b[0m\u001b]8;id=355002;file:///home/moritz/dev/uni/mcr-py/notebooks/../src/package/mcr5/mcr5.py#100\u001b\\\u001b[2m100\u001b[0m\u001b]8;;\u001b\\\n"
            ]
          },
          "metadata": {},
          "output_type": "display_data"
        },
        {
          "data": {
            "text/html": [
              "<pre style=\"white-space:pre;overflow-x:auto;line-height:normal;font-family:Menlo,'DejaVu Sans Mono',consolas,'Courier New',monospace\"><span style=\"color: #7fbfbf; text-decoration-color: #7fbfbf\">           </span><span style=\"color: #000080; text-decoration-color: #000080\">INFO    </span> Running MCR5 for bicycle_public_transport_3                                      <a href=\"file:///tmp/ipykernel_5877/542061263.py\" target=\"_blank\"><span style=\"color: #7f7f7f; text-decoration-color: #7f7f7f\">542061263.py</span></a><span style=\"color: #7f7f7f; text-decoration-color: #7f7f7f\">:</span><a href=\"file:///tmp/ipykernel_5877/542061263.py#4\" target=\"_blank\"><span style=\"color: #7f7f7f; text-decoration-color: #7f7f7f\">4</span></a>\n",
              "</pre>\n"
            ],
            "text/plain": [
              "\u001b[2;36m          \u001b[0m\u001b[2;36m \u001b[0m\u001b[34mINFO    \u001b[0m Running MCR5 for bicycle_public_transport_3                                      \u001b]8;id=805807;file:///tmp/ipykernel_5877/542061263.py\u001b\\\u001b[2m542061263.py\u001b[0m\u001b]8;;\u001b\\\u001b[2m:\u001b[0m\u001b]8;id=462516;file:///tmp/ipykernel_5877/542061263.py#4\u001b\\\u001b[2m4\u001b[0m\u001b]8;;\u001b\\\n"
            ]
          },
          "metadata": {},
          "output_type": "display_data"
        },
        {
          "data": {
            "text/html": [
              "<pre style=\"white-space:pre;overflow-x:auto;line-height:normal;font-family:Menlo,'DejaVu Sans Mono',consolas,'Courier New',monospace\"><span style=\"color: #7fbfbf; text-decoration-color: #7fbfbf\">           </span><span style=\"color: #000080; text-decoration-color: #000080\">INFO    </span> Using existing OSM data                                                              <a href=\"file:///home/moritz/dev/uni/mcr-py/notebooks/../src/package/osm/osm.py\" target=\"_blank\"><span style=\"color: #7f7f7f; text-decoration-color: #7f7f7f\">osm.py</span></a><span style=\"color: #7f7f7f; text-decoration-color: #7f7f7f\">:</span><a href=\"file:///home/moritz/dev/uni/mcr-py/notebooks/../src/package/osm/osm.py#106\" target=\"_blank\"><span style=\"color: #7f7f7f; text-decoration-color: #7f7f7f\">106</span></a>\n",
              "</pre>\n"
            ],
            "text/plain": [
              "\u001b[2;36m          \u001b[0m\u001b[2;36m \u001b[0m\u001b[34mINFO    \u001b[0m Using existing OSM data                                                              \u001b]8;id=686233;file:///home/moritz/dev/uni/mcr-py/notebooks/../src/package/osm/osm.py\u001b\\\u001b[2mosm.py\u001b[0m\u001b]8;;\u001b\\\u001b[2m:\u001b[0m\u001b]8;id=233970;file:///home/moritz/dev/uni/mcr-py/notebooks/../src/package/osm/osm.py#106\u001b\\\u001b[2m106\u001b[0m\u001b]8;;\u001b\\\n"
            ]
          },
          "metadata": {},
          "output_type": "display_data"
        },
        {
          "data": {
            "text/html": [
              "<pre style=\"white-space:pre;overflow-x:auto;line-height:normal;font-family:Menlo,'DejaVu Sans Mono',consolas,'Courier New',monospace\"><span style=\"color: #7fbfbf; text-decoration-color: #7fbfbf\">           </span><span style=\"color: #000080; text-decoration-color: #000080\">INFO    </span> Loading OSM network from cache <span style=\"font-weight: bold\">(</span>walking<span style=\"font-weight: bold\">)</span>                                              <a href=\"file:///home/moritz/dev/uni/mcr-py/notebooks/../src/package/osm/osm.py\" target=\"_blank\"><span style=\"color: #7f7f7f; text-decoration-color: #7f7f7f\">osm.py</span></a><span style=\"color: #7f7f7f; text-decoration-color: #7f7f7f\">:</span><a href=\"file:///home/moritz/dev/uni/mcr-py/notebooks/../src/package/osm/osm.py#69\" target=\"_blank\"><span style=\"color: #7f7f7f; text-decoration-color: #7f7f7f\">69</span></a>\n",
              "</pre>\n"
            ],
            "text/plain": [
              "\u001b[2;36m          \u001b[0m\u001b[2;36m \u001b[0m\u001b[34mINFO    \u001b[0m Loading OSM network from cache \u001b[1m(\u001b[0mwalking\u001b[1m)\u001b[0m                                              \u001b]8;id=614049;file:///home/moritz/dev/uni/mcr-py/notebooks/../src/package/osm/osm.py\u001b\\\u001b[2mosm.py\u001b[0m\u001b]8;;\u001b\\\u001b[2m:\u001b[0m\u001b]8;id=623915;file:///home/moritz/dev/uni/mcr-py/notebooks/../src/package/osm/osm.py#69\u001b\\\u001b[2m69\u001b[0m\u001b]8;;\u001b\\\n"
            ]
          },
          "metadata": {},
          "output_type": "display_data"
        },
        {
          "data": {
            "text/html": [
              "<pre style=\"white-space:pre;overflow-x:auto;line-height:normal;font-family:Menlo,'DejaVu Sans Mono',consolas,'Courier New',monospace\"><span style=\"color: #7fbfbf; text-decoration-color: #7fbfbf\">[01:17:32] </span><span style=\"color: #000080; text-decoration-color: #000080\">INFO    </span> Using existing OSM data                                                              <a href=\"file:///home/moritz/dev/uni/mcr-py/notebooks/../src/package/osm/osm.py\" target=\"_blank\"><span style=\"color: #7f7f7f; text-decoration-color: #7f7f7f\">osm.py</span></a><span style=\"color: #7f7f7f; text-decoration-color: #7f7f7f\">:</span><a href=\"file:///home/moritz/dev/uni/mcr-py/notebooks/../src/package/osm/osm.py#106\" target=\"_blank\"><span style=\"color: #7f7f7f; text-decoration-color: #7f7f7f\">106</span></a>\n",
              "</pre>\n"
            ],
            "text/plain": [
              "\u001b[2;36m[01:17:32]\u001b[0m\u001b[2;36m \u001b[0m\u001b[34mINFO    \u001b[0m Using existing OSM data                                                              \u001b]8;id=373039;file:///home/moritz/dev/uni/mcr-py/notebooks/../src/package/osm/osm.py\u001b\\\u001b[2mosm.py\u001b[0m\u001b]8;;\u001b\\\u001b[2m:\u001b[0m\u001b]8;id=513882;file:///home/moritz/dev/uni/mcr-py/notebooks/../src/package/osm/osm.py#106\u001b\\\u001b[2m106\u001b[0m\u001b]8;;\u001b\\\n"
            ]
          },
          "metadata": {},
          "output_type": "display_data"
        },
        {
          "data": {
            "text/html": [
              "<pre style=\"white-space:pre;overflow-x:auto;line-height:normal;font-family:Menlo,'DejaVu Sans Mono',consolas,'Courier New',monospace\"><span style=\"color: #7fbfbf; text-decoration-color: #7fbfbf\">           </span><span style=\"color: #000080; text-decoration-color: #000080\">INFO    </span> Loading OSM network from cache <span style=\"font-weight: bold\">(</span>cycling<span style=\"font-weight: bold\">)</span>                                              <a href=\"file:///home/moritz/dev/uni/mcr-py/notebooks/../src/package/osm/osm.py\" target=\"_blank\"><span style=\"color: #7f7f7f; text-decoration-color: #7f7f7f\">osm.py</span></a><span style=\"color: #7f7f7f; text-decoration-color: #7f7f7f\">:</span><a href=\"file:///home/moritz/dev/uni/mcr-py/notebooks/../src/package/osm/osm.py#69\" target=\"_blank\"><span style=\"color: #7f7f7f; text-decoration-color: #7f7f7f\">69</span></a>\n",
              "</pre>\n"
            ],
            "text/plain": [
              "\u001b[2;36m          \u001b[0m\u001b[2;36m \u001b[0m\u001b[34mINFO    \u001b[0m Loading OSM network from cache \u001b[1m(\u001b[0mcycling\u001b[1m)\u001b[0m                                              \u001b]8;id=37709;file:///home/moritz/dev/uni/mcr-py/notebooks/../src/package/osm/osm.py\u001b\\\u001b[2mosm.py\u001b[0m\u001b]8;;\u001b\\\u001b[2m:\u001b[0m\u001b]8;id=713073;file:///home/moritz/dev/uni/mcr-py/notebooks/../src/package/osm/osm.py#69\u001b\\\u001b[2m69\u001b[0m\u001b]8;;\u001b\\\n"
            ]
          },
          "metadata": {},
          "output_type": "display_data"
        },
        {
          "data": {
            "text/html": [
              "<pre style=\"white-space:pre;overflow-x:auto;line-height:normal;font-family:Menlo,'DejaVu Sans Mono',consolas,'Courier New',monospace\"><span style=\"color: #7fbfbf; text-decoration-color: #7fbfbf\">[01:18:31] </span><span style=\"color: #000080; text-decoration-color: #000080\">INFO    </span> Fetching POI for runtime optimization                                         <a href=\"file:///home/moritz/dev/uni/mcr-py/notebooks/../src/command/step_config.py\" target=\"_blank\"><span style=\"color: #7f7f7f; text-decoration-color: #7f7f7f\">step_config.py</span></a><span style=\"color: #7f7f7f; text-decoration-color: #7f7f7f\">:</span><a href=\"file:///home/moritz/dev/uni/mcr-py/notebooks/../src/command/step_config.py#51\" target=\"_blank\"><span style=\"color: #7f7f7f; text-decoration-color: #7f7f7f\">51</span></a>\n",
              "</pre>\n"
            ],
            "text/plain": [
              "\u001b[2;36m[01:18:31]\u001b[0m\u001b[2;36m \u001b[0m\u001b[34mINFO    \u001b[0m Fetching POI for runtime optimization                                         \u001b]8;id=232307;file:///home/moritz/dev/uni/mcr-py/notebooks/../src/command/step_config.py\u001b\\\u001b[2mstep_config.py\u001b[0m\u001b]8;;\u001b\\\u001b[2m:\u001b[0m\u001b]8;id=949188;file:///home/moritz/dev/uni/mcr-py/notebooks/../src/command/step_config.py#51\u001b\\\u001b[2m51\u001b[0m\u001b]8;;\u001b\\\n"
            ]
          },
          "metadata": {},
          "output_type": "display_data"
        },
        {
          "data": {
            "text/html": [
              "<pre style=\"white-space:pre;overflow-x:auto;line-height:normal;font-family:Menlo,'DejaVu Sans Mono',consolas,'Courier New',monospace\"><span style=\"color: #7fbfbf; text-decoration-color: #7fbfbf\">           </span><span style=\"color: #000080; text-decoration-color: #000080\">INFO    </span> Fetching POI for runtime optimization done <span style=\"font-weight: bold\">(</span><span style=\"color: #008080; text-decoration-color: #008080; font-weight: bold\">0.05</span> seconds<span style=\"font-weight: bold\">)</span>                     <a href=\"file:///home/moritz/dev/uni/mcr-py/notebooks/../src/command/step_config.py\" target=\"_blank\"><span style=\"color: #7f7f7f; text-decoration-color: #7f7f7f\">step_config.py</span></a><span style=\"color: #7f7f7f; text-decoration-color: #7f7f7f\">:</span><a href=\"file:///home/moritz/dev/uni/mcr-py/notebooks/../src/command/step_config.py#51\" target=\"_blank\"><span style=\"color: #7f7f7f; text-decoration-color: #7f7f7f\">51</span></a>\n",
              "</pre>\n"
            ],
            "text/plain": [
              "\u001b[2;36m          \u001b[0m\u001b[2;36m \u001b[0m\u001b[34mINFO    \u001b[0m Fetching POI for runtime optimization done \u001b[1m(\u001b[0m\u001b[1;36m0.05\u001b[0m seconds\u001b[1m)\u001b[0m                     \u001b]8;id=159848;file:///home/moritz/dev/uni/mcr-py/notebooks/../src/command/step_config.py\u001b\\\u001b[2mstep_config.py\u001b[0m\u001b]8;;\u001b\\\u001b[2m:\u001b[0m\u001b]8;id=128954;file:///home/moritz/dev/uni/mcr-py/notebooks/../src/command/step_config.py#51\u001b\\\u001b[2m51\u001b[0m\u001b]8;;\u001b\\\n"
            ]
          },
          "metadata": {},
          "output_type": "display_data"
        },
        {
          "data": {
            "text/html": [
              "<pre style=\"white-space:pre;overflow-x:auto;line-height:normal;font-family:Menlo,'DejaVu Sans Mono',consolas,'Courier New',monospace\"><span style=\"color: #7fbfbf; text-decoration-color: #7fbfbf\">[01:19:35] </span><span style=\"color: #000080; text-decoration-color: #000080\">INFO    </span> Reading stops                                                           <a href=\"file:///home/moritz/dev/uni/mcr-py/notebooks/../src/package/mcr/steps/public_transport.py\" target=\"_blank\"><span style=\"color: #7f7f7f; text-decoration-color: #7f7f7f\">public_transport.py</span></a><span style=\"color: #7f7f7f; text-decoration-color: #7f7f7f\">:</span><a href=\"file:///home/moritz/dev/uni/mcr-py/notebooks/../src/package/mcr/steps/public_transport.py#144\" target=\"_blank\"><span style=\"color: #7f7f7f; text-decoration-color: #7f7f7f\">144</span></a>\n",
              "</pre>\n"
            ],
            "text/plain": [
              "\u001b[2;36m[01:19:35]\u001b[0m\u001b[2;36m \u001b[0m\u001b[34mINFO    \u001b[0m Reading stops                                                           \u001b]8;id=783845;file:///home/moritz/dev/uni/mcr-py/notebooks/../src/package/mcr/steps/public_transport.py\u001b\\\u001b[2mpublic_transport.py\u001b[0m\u001b]8;;\u001b\\\u001b[2m:\u001b[0m\u001b]8;id=89129;file:///home/moritz/dev/uni/mcr-py/notebooks/../src/package/mcr/steps/public_transport.py#144\u001b\\\u001b[2m144\u001b[0m\u001b]8;;\u001b\\\n"
            ]
          },
          "metadata": {},
          "output_type": "display_data"
        },
        {
          "data": {
            "text/html": [
              "<pre style=\"white-space:pre;overflow-x:auto;line-height:normal;font-family:Menlo,'DejaVu Sans Mono',consolas,'Courier New',monospace\"><span style=\"color: #7fbfbf; text-decoration-color: #7fbfbf\">           </span><span style=\"color: #000080; text-decoration-color: #000080\">INFO    </span> Reading stops done <span style=\"font-weight: bold\">(</span><span style=\"color: #008080; text-decoration-color: #008080; font-weight: bold\">0.25</span> seconds<span style=\"font-weight: bold\">)</span>                                       <a href=\"file:///home/moritz/dev/uni/mcr-py/notebooks/../src/package/mcr/steps/public_transport.py\" target=\"_blank\"><span style=\"color: #7f7f7f; text-decoration-color: #7f7f7f\">public_transport.py</span></a><span style=\"color: #7f7f7f; text-decoration-color: #7f7f7f\">:</span><a href=\"file:///home/moritz/dev/uni/mcr-py/notebooks/../src/package/mcr/steps/public_transport.py#144\" target=\"_blank\"><span style=\"color: #7f7f7f; text-decoration-color: #7f7f7f\">144</span></a>\n",
              "</pre>\n"
            ],
            "text/plain": [
              "\u001b[2;36m          \u001b[0m\u001b[2;36m \u001b[0m\u001b[34mINFO    \u001b[0m Reading stops done \u001b[1m(\u001b[0m\u001b[1;36m0.25\u001b[0m seconds\u001b[1m)\u001b[0m                                       \u001b]8;id=991073;file:///home/moritz/dev/uni/mcr-py/notebooks/../src/package/mcr/steps/public_transport.py\u001b\\\u001b[2mpublic_transport.py\u001b[0m\u001b]8;;\u001b\\\u001b[2m:\u001b[0m\u001b]8;id=26316;file:///home/moritz/dev/uni/mcr-py/notebooks/../src/package/mcr/steps/public_transport.py#144\u001b\\\u001b[2m144\u001b[0m\u001b]8;;\u001b\\\n"
            ]
          },
          "metadata": {},
          "output_type": "display_data"
        },
        {
          "data": {
            "application/vnd.jupyter.widget-view+json": {
              "model_id": "49876a8c23934c07a0473cc71eb3ae71",
              "version_major": 2,
              "version_minor": 0
            },
            "text/plain": [
              "Starting:   0%|          | 0/1782 [00:00<?, ?it/s]"
            ]
          },
          "metadata": {},
          "output_type": "display_data"
        },
        {
          "data": {
            "text/html": [
              "<pre style=\"white-space:pre;overflow-x:auto;line-height:normal;font-family:Menlo,'DejaVu Sans Mono',consolas,'Courier New',monospace\"><span style=\"color: #7fbfbf; text-decoration-color: #7fbfbf\">[01:30:21] </span><span style=\"color: #000080; text-decoration-color: #000080\">INFO    </span> All processes finished.                                                             <a href=\"file:///home/moritz/dev/uni/mcr-py/notebooks/../src/package/mcr5/mcr5.py\" target=\"_blank\"><span style=\"color: #7f7f7f; text-decoration-color: #7f7f7f\">mcr5.py</span></a><span style=\"color: #7f7f7f; text-decoration-color: #7f7f7f\">:</span><a href=\"file:///home/moritz/dev/uni/mcr-py/notebooks/../src/package/mcr5/mcr5.py#100\" target=\"_blank\"><span style=\"color: #7f7f7f; text-decoration-color: #7f7f7f\">100</span></a>\n",
              "</pre>\n"
            ],
            "text/plain": [
              "\u001b[2;36m[01:30:21]\u001b[0m\u001b[2;36m \u001b[0m\u001b[34mINFO    \u001b[0m All processes finished.                                                             \u001b]8;id=947142;file:///home/moritz/dev/uni/mcr-py/notebooks/../src/package/mcr5/mcr5.py\u001b\\\u001b[2mmcr5.py\u001b[0m\u001b]8;;\u001b\\\u001b[2m:\u001b[0m\u001b]8;id=398316;file:///home/moritz/dev/uni/mcr-py/notebooks/../src/package/mcr5/mcr5.py#100\u001b\\\u001b[2m100\u001b[0m\u001b]8;;\u001b\\\n"
            ]
          },
          "metadata": {},
          "output_type": "display_data"
        },
        {
          "data": {
            "text/html": [
              "<pre style=\"white-space:pre;overflow-x:auto;line-height:normal;font-family:Menlo,'DejaVu Sans Mono',consolas,'Courier New',monospace\"><span style=\"color: #7fbfbf; text-decoration-color: #7fbfbf\">           </span><span style=\"color: #000080; text-decoration-color: #000080\">INFO    </span> Running MCR5 for bicycle_public_transport_4                                      <a href=\"file:///tmp/ipykernel_5877/542061263.py\" target=\"_blank\"><span style=\"color: #7f7f7f; text-decoration-color: #7f7f7f\">542061263.py</span></a><span style=\"color: #7f7f7f; text-decoration-color: #7f7f7f\">:</span><a href=\"file:///tmp/ipykernel_5877/542061263.py#4\" target=\"_blank\"><span style=\"color: #7f7f7f; text-decoration-color: #7f7f7f\">4</span></a>\n",
              "</pre>\n"
            ],
            "text/plain": [
              "\u001b[2;36m          \u001b[0m\u001b[2;36m \u001b[0m\u001b[34mINFO    \u001b[0m Running MCR5 for bicycle_public_transport_4                                      \u001b]8;id=701601;file:///tmp/ipykernel_5877/542061263.py\u001b\\\u001b[2m542061263.py\u001b[0m\u001b]8;;\u001b\\\u001b[2m:\u001b[0m\u001b]8;id=239973;file:///tmp/ipykernel_5877/542061263.py#4\u001b\\\u001b[2m4\u001b[0m\u001b]8;;\u001b\\\n"
            ]
          },
          "metadata": {},
          "output_type": "display_data"
        },
        {
          "data": {
            "text/html": [
              "<pre style=\"white-space:pre;overflow-x:auto;line-height:normal;font-family:Menlo,'DejaVu Sans Mono',consolas,'Courier New',monospace\"><span style=\"color: #7fbfbf; text-decoration-color: #7fbfbf\">           </span><span style=\"color: #000080; text-decoration-color: #000080\">INFO    </span> Using existing OSM data                                                              <a href=\"file:///home/moritz/dev/uni/mcr-py/notebooks/../src/package/osm/osm.py\" target=\"_blank\"><span style=\"color: #7f7f7f; text-decoration-color: #7f7f7f\">osm.py</span></a><span style=\"color: #7f7f7f; text-decoration-color: #7f7f7f\">:</span><a href=\"file:///home/moritz/dev/uni/mcr-py/notebooks/../src/package/osm/osm.py#106\" target=\"_blank\"><span style=\"color: #7f7f7f; text-decoration-color: #7f7f7f\">106</span></a>\n",
              "</pre>\n"
            ],
            "text/plain": [
              "\u001b[2;36m          \u001b[0m\u001b[2;36m \u001b[0m\u001b[34mINFO    \u001b[0m Using existing OSM data                                                              \u001b]8;id=728503;file:///home/moritz/dev/uni/mcr-py/notebooks/../src/package/osm/osm.py\u001b\\\u001b[2mosm.py\u001b[0m\u001b]8;;\u001b\\\u001b[2m:\u001b[0m\u001b]8;id=986083;file:///home/moritz/dev/uni/mcr-py/notebooks/../src/package/osm/osm.py#106\u001b\\\u001b[2m106\u001b[0m\u001b]8;;\u001b\\\n"
            ]
          },
          "metadata": {},
          "output_type": "display_data"
        },
        {
          "data": {
            "text/html": [
              "<pre style=\"white-space:pre;overflow-x:auto;line-height:normal;font-family:Menlo,'DejaVu Sans Mono',consolas,'Courier New',monospace\"><span style=\"color: #7fbfbf; text-decoration-color: #7fbfbf\">           </span><span style=\"color: #000080; text-decoration-color: #000080\">INFO    </span> Loading OSM network from cache <span style=\"font-weight: bold\">(</span>walking<span style=\"font-weight: bold\">)</span>                                              <a href=\"file:///home/moritz/dev/uni/mcr-py/notebooks/../src/package/osm/osm.py\" target=\"_blank\"><span style=\"color: #7f7f7f; text-decoration-color: #7f7f7f\">osm.py</span></a><span style=\"color: #7f7f7f; text-decoration-color: #7f7f7f\">:</span><a href=\"file:///home/moritz/dev/uni/mcr-py/notebooks/../src/package/osm/osm.py#69\" target=\"_blank\"><span style=\"color: #7f7f7f; text-decoration-color: #7f7f7f\">69</span></a>\n",
              "</pre>\n"
            ],
            "text/plain": [
              "\u001b[2;36m          \u001b[0m\u001b[2;36m \u001b[0m\u001b[34mINFO    \u001b[0m Loading OSM network from cache \u001b[1m(\u001b[0mwalking\u001b[1m)\u001b[0m                                              \u001b]8;id=207106;file:///home/moritz/dev/uni/mcr-py/notebooks/../src/package/osm/osm.py\u001b\\\u001b[2mosm.py\u001b[0m\u001b]8;;\u001b\\\u001b[2m:\u001b[0m\u001b]8;id=619436;file:///home/moritz/dev/uni/mcr-py/notebooks/../src/package/osm/osm.py#69\u001b\\\u001b[2m69\u001b[0m\u001b]8;;\u001b\\\n"
            ]
          },
          "metadata": {},
          "output_type": "display_data"
        },
        {
          "data": {
            "text/html": [
              "<pre style=\"white-space:pre;overflow-x:auto;line-height:normal;font-family:Menlo,'DejaVu Sans Mono',consolas,'Courier New',monospace\"><span style=\"color: #7fbfbf; text-decoration-color: #7fbfbf\">[01:31:29] </span><span style=\"color: #000080; text-decoration-color: #000080\">INFO    </span> Using existing OSM data                                                              <a href=\"file:///home/moritz/dev/uni/mcr-py/notebooks/../src/package/osm/osm.py\" target=\"_blank\"><span style=\"color: #7f7f7f; text-decoration-color: #7f7f7f\">osm.py</span></a><span style=\"color: #7f7f7f; text-decoration-color: #7f7f7f\">:</span><a href=\"file:///home/moritz/dev/uni/mcr-py/notebooks/../src/package/osm/osm.py#106\" target=\"_blank\"><span style=\"color: #7f7f7f; text-decoration-color: #7f7f7f\">106</span></a>\n",
              "</pre>\n"
            ],
            "text/plain": [
              "\u001b[2;36m[01:31:29]\u001b[0m\u001b[2;36m \u001b[0m\u001b[34mINFO    \u001b[0m Using existing OSM data                                                              \u001b]8;id=154336;file:///home/moritz/dev/uni/mcr-py/notebooks/../src/package/osm/osm.py\u001b\\\u001b[2mosm.py\u001b[0m\u001b]8;;\u001b\\\u001b[2m:\u001b[0m\u001b]8;id=541683;file:///home/moritz/dev/uni/mcr-py/notebooks/../src/package/osm/osm.py#106\u001b\\\u001b[2m106\u001b[0m\u001b]8;;\u001b\\\n"
            ]
          },
          "metadata": {},
          "output_type": "display_data"
        },
        {
          "data": {
            "text/html": [
              "<pre style=\"white-space:pre;overflow-x:auto;line-height:normal;font-family:Menlo,'DejaVu Sans Mono',consolas,'Courier New',monospace\"><span style=\"color: #7fbfbf; text-decoration-color: #7fbfbf\">           </span><span style=\"color: #000080; text-decoration-color: #000080\">INFO    </span> Loading OSM network from cache <span style=\"font-weight: bold\">(</span>cycling<span style=\"font-weight: bold\">)</span>                                              <a href=\"file:///home/moritz/dev/uni/mcr-py/notebooks/../src/package/osm/osm.py\" target=\"_blank\"><span style=\"color: #7f7f7f; text-decoration-color: #7f7f7f\">osm.py</span></a><span style=\"color: #7f7f7f; text-decoration-color: #7f7f7f\">:</span><a href=\"file:///home/moritz/dev/uni/mcr-py/notebooks/../src/package/osm/osm.py#69\" target=\"_blank\"><span style=\"color: #7f7f7f; text-decoration-color: #7f7f7f\">69</span></a>\n",
              "</pre>\n"
            ],
            "text/plain": [
              "\u001b[2;36m          \u001b[0m\u001b[2;36m \u001b[0m\u001b[34mINFO    \u001b[0m Loading OSM network from cache \u001b[1m(\u001b[0mcycling\u001b[1m)\u001b[0m                                              \u001b]8;id=235261;file:///home/moritz/dev/uni/mcr-py/notebooks/../src/package/osm/osm.py\u001b\\\u001b[2mosm.py\u001b[0m\u001b]8;;\u001b\\\u001b[2m:\u001b[0m\u001b]8;id=596697;file:///home/moritz/dev/uni/mcr-py/notebooks/../src/package/osm/osm.py#69\u001b\\\u001b[2m69\u001b[0m\u001b]8;;\u001b\\\n"
            ]
          },
          "metadata": {},
          "output_type": "display_data"
        },
        {
          "data": {
            "text/html": [
              "<pre style=\"white-space:pre;overflow-x:auto;line-height:normal;font-family:Menlo,'DejaVu Sans Mono',consolas,'Courier New',monospace\"><span style=\"color: #7fbfbf; text-decoration-color: #7fbfbf\">[01:32:30] </span><span style=\"color: #000080; text-decoration-color: #000080\">INFO    </span> Fetching POI for runtime optimization                                         <a href=\"file:///home/moritz/dev/uni/mcr-py/notebooks/../src/command/step_config.py\" target=\"_blank\"><span style=\"color: #7f7f7f; text-decoration-color: #7f7f7f\">step_config.py</span></a><span style=\"color: #7f7f7f; text-decoration-color: #7f7f7f\">:</span><a href=\"file:///home/moritz/dev/uni/mcr-py/notebooks/../src/command/step_config.py#51\" target=\"_blank\"><span style=\"color: #7f7f7f; text-decoration-color: #7f7f7f\">51</span></a>\n",
              "</pre>\n"
            ],
            "text/plain": [
              "\u001b[2;36m[01:32:30]\u001b[0m\u001b[2;36m \u001b[0m\u001b[34mINFO    \u001b[0m Fetching POI for runtime optimization                                         \u001b]8;id=806662;file:///home/moritz/dev/uni/mcr-py/notebooks/../src/command/step_config.py\u001b\\\u001b[2mstep_config.py\u001b[0m\u001b]8;;\u001b\\\u001b[2m:\u001b[0m\u001b]8;id=904610;file:///home/moritz/dev/uni/mcr-py/notebooks/../src/command/step_config.py#51\u001b\\\u001b[2m51\u001b[0m\u001b]8;;\u001b\\\n"
            ]
          },
          "metadata": {},
          "output_type": "display_data"
        },
        {
          "data": {
            "text/html": [
              "<pre style=\"white-space:pre;overflow-x:auto;line-height:normal;font-family:Menlo,'DejaVu Sans Mono',consolas,'Courier New',monospace\"><span style=\"color: #7fbfbf; text-decoration-color: #7fbfbf\">           </span><span style=\"color: #000080; text-decoration-color: #000080\">INFO    </span> Fetching POI for runtime optimization done <span style=\"font-weight: bold\">(</span><span style=\"color: #008080; text-decoration-color: #008080; font-weight: bold\">0.06</span> seconds<span style=\"font-weight: bold\">)</span>                     <a href=\"file:///home/moritz/dev/uni/mcr-py/notebooks/../src/command/step_config.py\" target=\"_blank\"><span style=\"color: #7f7f7f; text-decoration-color: #7f7f7f\">step_config.py</span></a><span style=\"color: #7f7f7f; text-decoration-color: #7f7f7f\">:</span><a href=\"file:///home/moritz/dev/uni/mcr-py/notebooks/../src/command/step_config.py#51\" target=\"_blank\"><span style=\"color: #7f7f7f; text-decoration-color: #7f7f7f\">51</span></a>\n",
              "</pre>\n"
            ],
            "text/plain": [
              "\u001b[2;36m          \u001b[0m\u001b[2;36m \u001b[0m\u001b[34mINFO    \u001b[0m Fetching POI for runtime optimization done \u001b[1m(\u001b[0m\u001b[1;36m0.06\u001b[0m seconds\u001b[1m)\u001b[0m                     \u001b]8;id=683256;file:///home/moritz/dev/uni/mcr-py/notebooks/../src/command/step_config.py\u001b\\\u001b[2mstep_config.py\u001b[0m\u001b]8;;\u001b\\\u001b[2m:\u001b[0m\u001b]8;id=442326;file:///home/moritz/dev/uni/mcr-py/notebooks/../src/command/step_config.py#51\u001b\\\u001b[2m51\u001b[0m\u001b]8;;\u001b\\\n"
            ]
          },
          "metadata": {},
          "output_type": "display_data"
        },
        {
          "data": {
            "text/html": [
              "<pre style=\"white-space:pre;overflow-x:auto;line-height:normal;font-family:Menlo,'DejaVu Sans Mono',consolas,'Courier New',monospace\"><span style=\"color: #7fbfbf; text-decoration-color: #7fbfbf\">[01:33:35] </span><span style=\"color: #000080; text-decoration-color: #000080\">INFO    </span> Reading stops                                                           <a href=\"file:///home/moritz/dev/uni/mcr-py/notebooks/../src/package/mcr/steps/public_transport.py\" target=\"_blank\"><span style=\"color: #7f7f7f; text-decoration-color: #7f7f7f\">public_transport.py</span></a><span style=\"color: #7f7f7f; text-decoration-color: #7f7f7f\">:</span><a href=\"file:///home/moritz/dev/uni/mcr-py/notebooks/../src/package/mcr/steps/public_transport.py#144\" target=\"_blank\"><span style=\"color: #7f7f7f; text-decoration-color: #7f7f7f\">144</span></a>\n",
              "</pre>\n"
            ],
            "text/plain": [
              "\u001b[2;36m[01:33:35]\u001b[0m\u001b[2;36m \u001b[0m\u001b[34mINFO    \u001b[0m Reading stops                                                           \u001b]8;id=373893;file:///home/moritz/dev/uni/mcr-py/notebooks/../src/package/mcr/steps/public_transport.py\u001b\\\u001b[2mpublic_transport.py\u001b[0m\u001b]8;;\u001b\\\u001b[2m:\u001b[0m\u001b]8;id=312484;file:///home/moritz/dev/uni/mcr-py/notebooks/../src/package/mcr/steps/public_transport.py#144\u001b\\\u001b[2m144\u001b[0m\u001b]8;;\u001b\\\n"
            ]
          },
          "metadata": {},
          "output_type": "display_data"
        },
        {
          "data": {
            "text/html": [
              "<pre style=\"white-space:pre;overflow-x:auto;line-height:normal;font-family:Menlo,'DejaVu Sans Mono',consolas,'Courier New',monospace\"><span style=\"color: #7fbfbf; text-decoration-color: #7fbfbf\">           </span><span style=\"color: #000080; text-decoration-color: #000080\">INFO    </span> Reading stops done <span style=\"font-weight: bold\">(</span><span style=\"color: #008080; text-decoration-color: #008080; font-weight: bold\">0.19</span> seconds<span style=\"font-weight: bold\">)</span>                                       <a href=\"file:///home/moritz/dev/uni/mcr-py/notebooks/../src/package/mcr/steps/public_transport.py\" target=\"_blank\"><span style=\"color: #7f7f7f; text-decoration-color: #7f7f7f\">public_transport.py</span></a><span style=\"color: #7f7f7f; text-decoration-color: #7f7f7f\">:</span><a href=\"file:///home/moritz/dev/uni/mcr-py/notebooks/../src/package/mcr/steps/public_transport.py#144\" target=\"_blank\"><span style=\"color: #7f7f7f; text-decoration-color: #7f7f7f\">144</span></a>\n",
              "</pre>\n"
            ],
            "text/plain": [
              "\u001b[2;36m          \u001b[0m\u001b[2;36m \u001b[0m\u001b[34mINFO    \u001b[0m Reading stops done \u001b[1m(\u001b[0m\u001b[1;36m0.19\u001b[0m seconds\u001b[1m)\u001b[0m                                       \u001b]8;id=261111;file:///home/moritz/dev/uni/mcr-py/notebooks/../src/package/mcr/steps/public_transport.py\u001b\\\u001b[2mpublic_transport.py\u001b[0m\u001b]8;;\u001b\\\u001b[2m:\u001b[0m\u001b]8;id=249802;file:///home/moritz/dev/uni/mcr-py/notebooks/../src/package/mcr/steps/public_transport.py#144\u001b\\\u001b[2m144\u001b[0m\u001b]8;;\u001b\\\n"
            ]
          },
          "metadata": {},
          "output_type": "display_data"
        },
        {
          "data": {
            "application/vnd.jupyter.widget-view+json": {
              "model_id": "6ce15261566c4963bca6b117a7797ba7",
              "version_major": 2,
              "version_minor": 0
            },
            "text/plain": [
              "Starting:   0%|          | 0/1782 [00:00<?, ?it/s]"
            ]
          },
          "metadata": {},
          "output_type": "display_data"
        },
        {
          "data": {
            "text/html": [
              "<pre style=\"white-space:pre;overflow-x:auto;line-height:normal;font-family:Menlo,'DejaVu Sans Mono',consolas,'Courier New',monospace\"><span style=\"color: #7fbfbf; text-decoration-color: #7fbfbf\">[01:47:38] </span><span style=\"color: #000080; text-decoration-color: #000080\">INFO    </span> All processes finished.                                                             <a href=\"file:///home/moritz/dev/uni/mcr-py/notebooks/../src/package/mcr5/mcr5.py\" target=\"_blank\"><span style=\"color: #7f7f7f; text-decoration-color: #7f7f7f\">mcr5.py</span></a><span style=\"color: #7f7f7f; text-decoration-color: #7f7f7f\">:</span><a href=\"file:///home/moritz/dev/uni/mcr-py/notebooks/../src/package/mcr5/mcr5.py#100\" target=\"_blank\"><span style=\"color: #7f7f7f; text-decoration-color: #7f7f7f\">100</span></a>\n",
              "</pre>\n"
            ],
            "text/plain": [
              "\u001b[2;36m[01:47:38]\u001b[0m\u001b[2;36m \u001b[0m\u001b[34mINFO    \u001b[0m All processes finished.                                                             \u001b]8;id=174715;file:///home/moritz/dev/uni/mcr-py/notebooks/../src/package/mcr5/mcr5.py\u001b\\\u001b[2mmcr5.py\u001b[0m\u001b]8;;\u001b\\\u001b[2m:\u001b[0m\u001b]8;id=908444;file:///home/moritz/dev/uni/mcr-py/notebooks/../src/package/mcr5/mcr5.py#100\u001b\\\u001b[2m100\u001b[0m\u001b]8;;\u001b\\\n"
            ]
          },
          "metadata": {},
          "output_type": "display_data"
        },
        {
          "data": {
            "text/html": [
              "<pre style=\"white-space:pre;overflow-x:auto;line-height:normal;font-family:Menlo,'DejaVu Sans Mono',consolas,'Courier New',monospace\"><span style=\"color: #7fbfbf; text-decoration-color: #7fbfbf\">           </span><span style=\"color: #000080; text-decoration-color: #000080\">INFO    </span> Running MCR5 for bicycle_public_transport_5                                      <a href=\"file:///tmp/ipykernel_5877/542061263.py\" target=\"_blank\"><span style=\"color: #7f7f7f; text-decoration-color: #7f7f7f\">542061263.py</span></a><span style=\"color: #7f7f7f; text-decoration-color: #7f7f7f\">:</span><a href=\"file:///tmp/ipykernel_5877/542061263.py#4\" target=\"_blank\"><span style=\"color: #7f7f7f; text-decoration-color: #7f7f7f\">4</span></a>\n",
              "</pre>\n"
            ],
            "text/plain": [
              "\u001b[2;36m          \u001b[0m\u001b[2;36m \u001b[0m\u001b[34mINFO    \u001b[0m Running MCR5 for bicycle_public_transport_5                                      \u001b]8;id=26985;file:///tmp/ipykernel_5877/542061263.py\u001b\\\u001b[2m542061263.py\u001b[0m\u001b]8;;\u001b\\\u001b[2m:\u001b[0m\u001b]8;id=275251;file:///tmp/ipykernel_5877/542061263.py#4\u001b\\\u001b[2m4\u001b[0m\u001b]8;;\u001b\\\n"
            ]
          },
          "metadata": {},
          "output_type": "display_data"
        },
        {
          "data": {
            "text/html": [
              "<pre style=\"white-space:pre;overflow-x:auto;line-height:normal;font-family:Menlo,'DejaVu Sans Mono',consolas,'Courier New',monospace\"><span style=\"color: #7fbfbf; text-decoration-color: #7fbfbf\">           </span><span style=\"color: #000080; text-decoration-color: #000080\">INFO    </span> Using existing OSM data                                                              <a href=\"file:///home/moritz/dev/uni/mcr-py/notebooks/../src/package/osm/osm.py\" target=\"_blank\"><span style=\"color: #7f7f7f; text-decoration-color: #7f7f7f\">osm.py</span></a><span style=\"color: #7f7f7f; text-decoration-color: #7f7f7f\">:</span><a href=\"file:///home/moritz/dev/uni/mcr-py/notebooks/../src/package/osm/osm.py#106\" target=\"_blank\"><span style=\"color: #7f7f7f; text-decoration-color: #7f7f7f\">106</span></a>\n",
              "</pre>\n"
            ],
            "text/plain": [
              "\u001b[2;36m          \u001b[0m\u001b[2;36m \u001b[0m\u001b[34mINFO    \u001b[0m Using existing OSM data                                                              \u001b]8;id=278735;file:///home/moritz/dev/uni/mcr-py/notebooks/../src/package/osm/osm.py\u001b\\\u001b[2mosm.py\u001b[0m\u001b]8;;\u001b\\\u001b[2m:\u001b[0m\u001b]8;id=545821;file:///home/moritz/dev/uni/mcr-py/notebooks/../src/package/osm/osm.py#106\u001b\\\u001b[2m106\u001b[0m\u001b]8;;\u001b\\\n"
            ]
          },
          "metadata": {},
          "output_type": "display_data"
        },
        {
          "data": {
            "text/html": [
              "<pre style=\"white-space:pre;overflow-x:auto;line-height:normal;font-family:Menlo,'DejaVu Sans Mono',consolas,'Courier New',monospace\"><span style=\"color: #7fbfbf; text-decoration-color: #7fbfbf\">           </span><span style=\"color: #000080; text-decoration-color: #000080\">INFO    </span> Loading OSM network from cache <span style=\"font-weight: bold\">(</span>walking<span style=\"font-weight: bold\">)</span>                                              <a href=\"file:///home/moritz/dev/uni/mcr-py/notebooks/../src/package/osm/osm.py\" target=\"_blank\"><span style=\"color: #7f7f7f; text-decoration-color: #7f7f7f\">osm.py</span></a><span style=\"color: #7f7f7f; text-decoration-color: #7f7f7f\">:</span><a href=\"file:///home/moritz/dev/uni/mcr-py/notebooks/../src/package/osm/osm.py#69\" target=\"_blank\"><span style=\"color: #7f7f7f; text-decoration-color: #7f7f7f\">69</span></a>\n",
              "</pre>\n"
            ],
            "text/plain": [
              "\u001b[2;36m          \u001b[0m\u001b[2;36m \u001b[0m\u001b[34mINFO    \u001b[0m Loading OSM network from cache \u001b[1m(\u001b[0mwalking\u001b[1m)\u001b[0m                                              \u001b]8;id=958037;file:///home/moritz/dev/uni/mcr-py/notebooks/../src/package/osm/osm.py\u001b\\\u001b[2mosm.py\u001b[0m\u001b]8;;\u001b\\\u001b[2m:\u001b[0m\u001b]8;id=642721;file:///home/moritz/dev/uni/mcr-py/notebooks/../src/package/osm/osm.py#69\u001b\\\u001b[2m69\u001b[0m\u001b]8;;\u001b\\\n"
            ]
          },
          "metadata": {},
          "output_type": "display_data"
        },
        {
          "data": {
            "text/html": [
              "<pre style=\"white-space:pre;overflow-x:auto;line-height:normal;font-family:Menlo,'DejaVu Sans Mono',consolas,'Courier New',monospace\"><span style=\"color: #7fbfbf; text-decoration-color: #7fbfbf\">[01:48:49] </span><span style=\"color: #000080; text-decoration-color: #000080\">INFO    </span> Using existing OSM data                                                              <a href=\"file:///home/moritz/dev/uni/mcr-py/notebooks/../src/package/osm/osm.py\" target=\"_blank\"><span style=\"color: #7f7f7f; text-decoration-color: #7f7f7f\">osm.py</span></a><span style=\"color: #7f7f7f; text-decoration-color: #7f7f7f\">:</span><a href=\"file:///home/moritz/dev/uni/mcr-py/notebooks/../src/package/osm/osm.py#106\" target=\"_blank\"><span style=\"color: #7f7f7f; text-decoration-color: #7f7f7f\">106</span></a>\n",
              "</pre>\n"
            ],
            "text/plain": [
              "\u001b[2;36m[01:48:49]\u001b[0m\u001b[2;36m \u001b[0m\u001b[34mINFO    \u001b[0m Using existing OSM data                                                              \u001b]8;id=525246;file:///home/moritz/dev/uni/mcr-py/notebooks/../src/package/osm/osm.py\u001b\\\u001b[2mosm.py\u001b[0m\u001b]8;;\u001b\\\u001b[2m:\u001b[0m\u001b]8;id=602741;file:///home/moritz/dev/uni/mcr-py/notebooks/../src/package/osm/osm.py#106\u001b\\\u001b[2m106\u001b[0m\u001b]8;;\u001b\\\n"
            ]
          },
          "metadata": {},
          "output_type": "display_data"
        },
        {
          "data": {
            "text/html": [
              "<pre style=\"white-space:pre;overflow-x:auto;line-height:normal;font-family:Menlo,'DejaVu Sans Mono',consolas,'Courier New',monospace\"><span style=\"color: #7fbfbf; text-decoration-color: #7fbfbf\">           </span><span style=\"color: #000080; text-decoration-color: #000080\">INFO    </span> Loading OSM network from cache <span style=\"font-weight: bold\">(</span>cycling<span style=\"font-weight: bold\">)</span>                                              <a href=\"file:///home/moritz/dev/uni/mcr-py/notebooks/../src/package/osm/osm.py\" target=\"_blank\"><span style=\"color: #7f7f7f; text-decoration-color: #7f7f7f\">osm.py</span></a><span style=\"color: #7f7f7f; text-decoration-color: #7f7f7f\">:</span><a href=\"file:///home/moritz/dev/uni/mcr-py/notebooks/../src/package/osm/osm.py#69\" target=\"_blank\"><span style=\"color: #7f7f7f; text-decoration-color: #7f7f7f\">69</span></a>\n",
              "</pre>\n"
            ],
            "text/plain": [
              "\u001b[2;36m          \u001b[0m\u001b[2;36m \u001b[0m\u001b[34mINFO    \u001b[0m Loading OSM network from cache \u001b[1m(\u001b[0mcycling\u001b[1m)\u001b[0m                                              \u001b]8;id=141568;file:///home/moritz/dev/uni/mcr-py/notebooks/../src/package/osm/osm.py\u001b\\\u001b[2mosm.py\u001b[0m\u001b]8;;\u001b\\\u001b[2m:\u001b[0m\u001b]8;id=165887;file:///home/moritz/dev/uni/mcr-py/notebooks/../src/package/osm/osm.py#69\u001b\\\u001b[2m69\u001b[0m\u001b]8;;\u001b\\\n"
            ]
          },
          "metadata": {},
          "output_type": "display_data"
        },
        {
          "data": {
            "text/html": [
              "<pre style=\"white-space:pre;overflow-x:auto;line-height:normal;font-family:Menlo,'DejaVu Sans Mono',consolas,'Courier New',monospace\"><span style=\"color: #7fbfbf; text-decoration-color: #7fbfbf\">[01:49:49] </span><span style=\"color: #000080; text-decoration-color: #000080\">INFO    </span> Fetching POI for runtime optimization                                         <a href=\"file:///home/moritz/dev/uni/mcr-py/notebooks/../src/command/step_config.py\" target=\"_blank\"><span style=\"color: #7f7f7f; text-decoration-color: #7f7f7f\">step_config.py</span></a><span style=\"color: #7f7f7f; text-decoration-color: #7f7f7f\">:</span><a href=\"file:///home/moritz/dev/uni/mcr-py/notebooks/../src/command/step_config.py#51\" target=\"_blank\"><span style=\"color: #7f7f7f; text-decoration-color: #7f7f7f\">51</span></a>\n",
              "</pre>\n"
            ],
            "text/plain": [
              "\u001b[2;36m[01:49:49]\u001b[0m\u001b[2;36m \u001b[0m\u001b[34mINFO    \u001b[0m Fetching POI for runtime optimization                                         \u001b]8;id=449051;file:///home/moritz/dev/uni/mcr-py/notebooks/../src/command/step_config.py\u001b\\\u001b[2mstep_config.py\u001b[0m\u001b]8;;\u001b\\\u001b[2m:\u001b[0m\u001b]8;id=965296;file:///home/moritz/dev/uni/mcr-py/notebooks/../src/command/step_config.py#51\u001b\\\u001b[2m51\u001b[0m\u001b]8;;\u001b\\\n"
            ]
          },
          "metadata": {},
          "output_type": "display_data"
        },
        {
          "data": {
            "text/html": [
              "<pre style=\"white-space:pre;overflow-x:auto;line-height:normal;font-family:Menlo,'DejaVu Sans Mono',consolas,'Courier New',monospace\"><span style=\"color: #7fbfbf; text-decoration-color: #7fbfbf\">           </span><span style=\"color: #000080; text-decoration-color: #000080\">INFO    </span> Fetching POI for runtime optimization done <span style=\"font-weight: bold\">(</span><span style=\"color: #008080; text-decoration-color: #008080; font-weight: bold\">0.06</span> seconds<span style=\"font-weight: bold\">)</span>                     <a href=\"file:///home/moritz/dev/uni/mcr-py/notebooks/../src/command/step_config.py\" target=\"_blank\"><span style=\"color: #7f7f7f; text-decoration-color: #7f7f7f\">step_config.py</span></a><span style=\"color: #7f7f7f; text-decoration-color: #7f7f7f\">:</span><a href=\"file:///home/moritz/dev/uni/mcr-py/notebooks/../src/command/step_config.py#51\" target=\"_blank\"><span style=\"color: #7f7f7f; text-decoration-color: #7f7f7f\">51</span></a>\n",
              "</pre>\n"
            ],
            "text/plain": [
              "\u001b[2;36m          \u001b[0m\u001b[2;36m \u001b[0m\u001b[34mINFO    \u001b[0m Fetching POI for runtime optimization done \u001b[1m(\u001b[0m\u001b[1;36m0.06\u001b[0m seconds\u001b[1m)\u001b[0m                     \u001b]8;id=546898;file:///home/moritz/dev/uni/mcr-py/notebooks/../src/command/step_config.py\u001b\\\u001b[2mstep_config.py\u001b[0m\u001b]8;;\u001b\\\u001b[2m:\u001b[0m\u001b]8;id=148405;file:///home/moritz/dev/uni/mcr-py/notebooks/../src/command/step_config.py#51\u001b\\\u001b[2m51\u001b[0m\u001b]8;;\u001b\\\n"
            ]
          },
          "metadata": {},
          "output_type": "display_data"
        },
        {
          "data": {
            "text/html": [
              "<pre style=\"white-space:pre;overflow-x:auto;line-height:normal;font-family:Menlo,'DejaVu Sans Mono',consolas,'Courier New',monospace\"><span style=\"color: #7fbfbf; text-decoration-color: #7fbfbf\">[01:50:53] </span><span style=\"color: #000080; text-decoration-color: #000080\">INFO    </span> Reading stops                                                           <a href=\"file:///home/moritz/dev/uni/mcr-py/notebooks/../src/package/mcr/steps/public_transport.py\" target=\"_blank\"><span style=\"color: #7f7f7f; text-decoration-color: #7f7f7f\">public_transport.py</span></a><span style=\"color: #7f7f7f; text-decoration-color: #7f7f7f\">:</span><a href=\"file:///home/moritz/dev/uni/mcr-py/notebooks/../src/package/mcr/steps/public_transport.py#144\" target=\"_blank\"><span style=\"color: #7f7f7f; text-decoration-color: #7f7f7f\">144</span></a>\n",
              "</pre>\n"
            ],
            "text/plain": [
              "\u001b[2;36m[01:50:53]\u001b[0m\u001b[2;36m \u001b[0m\u001b[34mINFO    \u001b[0m Reading stops                                                           \u001b]8;id=5122;file:///home/moritz/dev/uni/mcr-py/notebooks/../src/package/mcr/steps/public_transport.py\u001b\\\u001b[2mpublic_transport.py\u001b[0m\u001b]8;;\u001b\\\u001b[2m:\u001b[0m\u001b]8;id=548394;file:///home/moritz/dev/uni/mcr-py/notebooks/../src/package/mcr/steps/public_transport.py#144\u001b\\\u001b[2m144\u001b[0m\u001b]8;;\u001b\\\n"
            ]
          },
          "metadata": {},
          "output_type": "display_data"
        },
        {
          "data": {
            "text/html": [
              "<pre style=\"white-space:pre;overflow-x:auto;line-height:normal;font-family:Menlo,'DejaVu Sans Mono',consolas,'Courier New',monospace\"><span style=\"color: #7fbfbf; text-decoration-color: #7fbfbf\">           </span><span style=\"color: #000080; text-decoration-color: #000080\">INFO    </span> Reading stops done <span style=\"font-weight: bold\">(</span><span style=\"color: #008080; text-decoration-color: #008080; font-weight: bold\">0.29</span> seconds<span style=\"font-weight: bold\">)</span>                                       <a href=\"file:///home/moritz/dev/uni/mcr-py/notebooks/../src/package/mcr/steps/public_transport.py\" target=\"_blank\"><span style=\"color: #7f7f7f; text-decoration-color: #7f7f7f\">public_transport.py</span></a><span style=\"color: #7f7f7f; text-decoration-color: #7f7f7f\">:</span><a href=\"file:///home/moritz/dev/uni/mcr-py/notebooks/../src/package/mcr/steps/public_transport.py#144\" target=\"_blank\"><span style=\"color: #7f7f7f; text-decoration-color: #7f7f7f\">144</span></a>\n",
              "</pre>\n"
            ],
            "text/plain": [
              "\u001b[2;36m          \u001b[0m\u001b[2;36m \u001b[0m\u001b[34mINFO    \u001b[0m Reading stops done \u001b[1m(\u001b[0m\u001b[1;36m0.29\u001b[0m seconds\u001b[1m)\u001b[0m                                       \u001b]8;id=31002;file:///home/moritz/dev/uni/mcr-py/notebooks/../src/package/mcr/steps/public_transport.py\u001b\\\u001b[2mpublic_transport.py\u001b[0m\u001b]8;;\u001b\\\u001b[2m:\u001b[0m\u001b]8;id=633104;file:///home/moritz/dev/uni/mcr-py/notebooks/../src/package/mcr/steps/public_transport.py#144\u001b\\\u001b[2m144\u001b[0m\u001b]8;;\u001b\\\n"
            ]
          },
          "metadata": {},
          "output_type": "display_data"
        },
        {
          "data": {
            "application/vnd.jupyter.widget-view+json": {
              "model_id": "91d9dbd8b5b84864b1387e6fc85c7774",
              "version_major": 2,
              "version_minor": 0
            },
            "text/plain": [
              "Starting:   0%|          | 0/1782 [00:00<?, ?it/s]"
            ]
          },
          "metadata": {},
          "output_type": "display_data"
        },
        {
          "data": {
            "text/html": [
              "<pre style=\"white-space:pre;overflow-x:auto;line-height:normal;font-family:Menlo,'DejaVu Sans Mono',consolas,'Courier New',monospace\"><span style=\"color: #7fbfbf; text-decoration-color: #7fbfbf\">[02:05:27] </span><span style=\"color: #000080; text-decoration-color: #000080\">INFO    </span> All processes finished.                                                             <a href=\"file:///home/moritz/dev/uni/mcr-py/notebooks/../src/package/mcr5/mcr5.py\" target=\"_blank\"><span style=\"color: #7f7f7f; text-decoration-color: #7f7f7f\">mcr5.py</span></a><span style=\"color: #7f7f7f; text-decoration-color: #7f7f7f\">:</span><a href=\"file:///home/moritz/dev/uni/mcr-py/notebooks/../src/package/mcr5/mcr5.py#100\" target=\"_blank\"><span style=\"color: #7f7f7f; text-decoration-color: #7f7f7f\">100</span></a>\n",
              "</pre>\n"
            ],
            "text/plain": [
              "\u001b[2;36m[02:05:27]\u001b[0m\u001b[2;36m \u001b[0m\u001b[34mINFO    \u001b[0m All processes finished.                                                             \u001b]8;id=839074;file:///home/moritz/dev/uni/mcr-py/notebooks/../src/package/mcr5/mcr5.py\u001b\\\u001b[2mmcr5.py\u001b[0m\u001b]8;;\u001b\\\u001b[2m:\u001b[0m\u001b]8;id=879649;file:///home/moritz/dev/uni/mcr-py/notebooks/../src/package/mcr5/mcr5.py#100\u001b\\\u001b[2m100\u001b[0m\u001b]8;;\u001b\\\n"
            ]
          },
          "metadata": {},
          "output_type": "display_data"
        },
        {
          "data": {
            "text/html": [
              "<pre style=\"white-space:pre;overflow-x:auto;line-height:normal;font-family:Menlo,'DejaVu Sans Mono',consolas,'Courier New',monospace\"><span style=\"color: #7fbfbf; text-decoration-color: #7fbfbf\">           </span><span style=\"color: #000080; text-decoration-color: #000080\">INFO    </span> Running MCR5 for bicycle_public_transport_6                                      <a href=\"file:///tmp/ipykernel_5877/542061263.py\" target=\"_blank\"><span style=\"color: #7f7f7f; text-decoration-color: #7f7f7f\">542061263.py</span></a><span style=\"color: #7f7f7f; text-decoration-color: #7f7f7f\">:</span><a href=\"file:///tmp/ipykernel_5877/542061263.py#4\" target=\"_blank\"><span style=\"color: #7f7f7f; text-decoration-color: #7f7f7f\">4</span></a>\n",
              "</pre>\n"
            ],
            "text/plain": [
              "\u001b[2;36m          \u001b[0m\u001b[2;36m \u001b[0m\u001b[34mINFO    \u001b[0m Running MCR5 for bicycle_public_transport_6                                      \u001b]8;id=199098;file:///tmp/ipykernel_5877/542061263.py\u001b\\\u001b[2m542061263.py\u001b[0m\u001b]8;;\u001b\\\u001b[2m:\u001b[0m\u001b]8;id=882248;file:///tmp/ipykernel_5877/542061263.py#4\u001b\\\u001b[2m4\u001b[0m\u001b]8;;\u001b\\\n"
            ]
          },
          "metadata": {},
          "output_type": "display_data"
        },
        {
          "data": {
            "text/html": [
              "<pre style=\"white-space:pre;overflow-x:auto;line-height:normal;font-family:Menlo,'DejaVu Sans Mono',consolas,'Courier New',monospace\"><span style=\"color: #7fbfbf; text-decoration-color: #7fbfbf\">           </span><span style=\"color: #000080; text-decoration-color: #000080\">INFO    </span> Using existing OSM data                                                              <a href=\"file:///home/moritz/dev/uni/mcr-py/notebooks/../src/package/osm/osm.py\" target=\"_blank\"><span style=\"color: #7f7f7f; text-decoration-color: #7f7f7f\">osm.py</span></a><span style=\"color: #7f7f7f; text-decoration-color: #7f7f7f\">:</span><a href=\"file:///home/moritz/dev/uni/mcr-py/notebooks/../src/package/osm/osm.py#106\" target=\"_blank\"><span style=\"color: #7f7f7f; text-decoration-color: #7f7f7f\">106</span></a>\n",
              "</pre>\n"
            ],
            "text/plain": [
              "\u001b[2;36m          \u001b[0m\u001b[2;36m \u001b[0m\u001b[34mINFO    \u001b[0m Using existing OSM data                                                              \u001b]8;id=589605;file:///home/moritz/dev/uni/mcr-py/notebooks/../src/package/osm/osm.py\u001b\\\u001b[2mosm.py\u001b[0m\u001b]8;;\u001b\\\u001b[2m:\u001b[0m\u001b]8;id=460686;file:///home/moritz/dev/uni/mcr-py/notebooks/../src/package/osm/osm.py#106\u001b\\\u001b[2m106\u001b[0m\u001b]8;;\u001b\\\n"
            ]
          },
          "metadata": {},
          "output_type": "display_data"
        },
        {
          "data": {
            "text/html": [
              "<pre style=\"white-space:pre;overflow-x:auto;line-height:normal;font-family:Menlo,'DejaVu Sans Mono',consolas,'Courier New',monospace\"><span style=\"color: #7fbfbf; text-decoration-color: #7fbfbf\">           </span><span style=\"color: #000080; text-decoration-color: #000080\">INFO    </span> Loading OSM network from cache <span style=\"font-weight: bold\">(</span>walking<span style=\"font-weight: bold\">)</span>                                              <a href=\"file:///home/moritz/dev/uni/mcr-py/notebooks/../src/package/osm/osm.py\" target=\"_blank\"><span style=\"color: #7f7f7f; text-decoration-color: #7f7f7f\">osm.py</span></a><span style=\"color: #7f7f7f; text-decoration-color: #7f7f7f\">:</span><a href=\"file:///home/moritz/dev/uni/mcr-py/notebooks/../src/package/osm/osm.py#69\" target=\"_blank\"><span style=\"color: #7f7f7f; text-decoration-color: #7f7f7f\">69</span></a>\n",
              "</pre>\n"
            ],
            "text/plain": [
              "\u001b[2;36m          \u001b[0m\u001b[2;36m \u001b[0m\u001b[34mINFO    \u001b[0m Loading OSM network from cache \u001b[1m(\u001b[0mwalking\u001b[1m)\u001b[0m                                              \u001b]8;id=124480;file:///home/moritz/dev/uni/mcr-py/notebooks/../src/package/osm/osm.py\u001b\\\u001b[2mosm.py\u001b[0m\u001b]8;;\u001b\\\u001b[2m:\u001b[0m\u001b]8;id=490460;file:///home/moritz/dev/uni/mcr-py/notebooks/../src/package/osm/osm.py#69\u001b\\\u001b[2m69\u001b[0m\u001b]8;;\u001b\\\n"
            ]
          },
          "metadata": {},
          "output_type": "display_data"
        },
        {
          "data": {
            "text/html": [
              "<pre style=\"white-space:pre;overflow-x:auto;line-height:normal;font-family:Menlo,'DejaVu Sans Mono',consolas,'Courier New',monospace\"><span style=\"color: #7fbfbf; text-decoration-color: #7fbfbf\">[02:06:37] </span><span style=\"color: #000080; text-decoration-color: #000080\">INFO    </span> Using existing OSM data                                                              <a href=\"file:///home/moritz/dev/uni/mcr-py/notebooks/../src/package/osm/osm.py\" target=\"_blank\"><span style=\"color: #7f7f7f; text-decoration-color: #7f7f7f\">osm.py</span></a><span style=\"color: #7f7f7f; text-decoration-color: #7f7f7f\">:</span><a href=\"file:///home/moritz/dev/uni/mcr-py/notebooks/../src/package/osm/osm.py#106\" target=\"_blank\"><span style=\"color: #7f7f7f; text-decoration-color: #7f7f7f\">106</span></a>\n",
              "</pre>\n"
            ],
            "text/plain": [
              "\u001b[2;36m[02:06:37]\u001b[0m\u001b[2;36m \u001b[0m\u001b[34mINFO    \u001b[0m Using existing OSM data                                                              \u001b]8;id=971775;file:///home/moritz/dev/uni/mcr-py/notebooks/../src/package/osm/osm.py\u001b\\\u001b[2mosm.py\u001b[0m\u001b]8;;\u001b\\\u001b[2m:\u001b[0m\u001b]8;id=583993;file:///home/moritz/dev/uni/mcr-py/notebooks/../src/package/osm/osm.py#106\u001b\\\u001b[2m106\u001b[0m\u001b]8;;\u001b\\\n"
            ]
          },
          "metadata": {},
          "output_type": "display_data"
        },
        {
          "data": {
            "text/html": [
              "<pre style=\"white-space:pre;overflow-x:auto;line-height:normal;font-family:Menlo,'DejaVu Sans Mono',consolas,'Courier New',monospace\"><span style=\"color: #7fbfbf; text-decoration-color: #7fbfbf\">           </span><span style=\"color: #000080; text-decoration-color: #000080\">INFO    </span> Loading OSM network from cache <span style=\"font-weight: bold\">(</span>cycling<span style=\"font-weight: bold\">)</span>                                              <a href=\"file:///home/moritz/dev/uni/mcr-py/notebooks/../src/package/osm/osm.py\" target=\"_blank\"><span style=\"color: #7f7f7f; text-decoration-color: #7f7f7f\">osm.py</span></a><span style=\"color: #7f7f7f; text-decoration-color: #7f7f7f\">:</span><a href=\"file:///home/moritz/dev/uni/mcr-py/notebooks/../src/package/osm/osm.py#69\" target=\"_blank\"><span style=\"color: #7f7f7f; text-decoration-color: #7f7f7f\">69</span></a>\n",
              "</pre>\n"
            ],
            "text/plain": [
              "\u001b[2;36m          \u001b[0m\u001b[2;36m \u001b[0m\u001b[34mINFO    \u001b[0m Loading OSM network from cache \u001b[1m(\u001b[0mcycling\u001b[1m)\u001b[0m                                              \u001b]8;id=699905;file:///home/moritz/dev/uni/mcr-py/notebooks/../src/package/osm/osm.py\u001b\\\u001b[2mosm.py\u001b[0m\u001b]8;;\u001b\\\u001b[2m:\u001b[0m\u001b]8;id=233215;file:///home/moritz/dev/uni/mcr-py/notebooks/../src/package/osm/osm.py#69\u001b\\\u001b[2m69\u001b[0m\u001b]8;;\u001b\\\n"
            ]
          },
          "metadata": {},
          "output_type": "display_data"
        },
        {
          "data": {
            "text/html": [
              "<pre style=\"white-space:pre;overflow-x:auto;line-height:normal;font-family:Menlo,'DejaVu Sans Mono',consolas,'Courier New',monospace\"><span style=\"color: #7fbfbf; text-decoration-color: #7fbfbf\">[02:07:36] </span><span style=\"color: #000080; text-decoration-color: #000080\">INFO    </span> Fetching POI for runtime optimization                                         <a href=\"file:///home/moritz/dev/uni/mcr-py/notebooks/../src/command/step_config.py\" target=\"_blank\"><span style=\"color: #7f7f7f; text-decoration-color: #7f7f7f\">step_config.py</span></a><span style=\"color: #7f7f7f; text-decoration-color: #7f7f7f\">:</span><a href=\"file:///home/moritz/dev/uni/mcr-py/notebooks/../src/command/step_config.py#51\" target=\"_blank\"><span style=\"color: #7f7f7f; text-decoration-color: #7f7f7f\">51</span></a>\n",
              "</pre>\n"
            ],
            "text/plain": [
              "\u001b[2;36m[02:07:36]\u001b[0m\u001b[2;36m \u001b[0m\u001b[34mINFO    \u001b[0m Fetching POI for runtime optimization                                         \u001b]8;id=374198;file:///home/moritz/dev/uni/mcr-py/notebooks/../src/command/step_config.py\u001b\\\u001b[2mstep_config.py\u001b[0m\u001b]8;;\u001b\\\u001b[2m:\u001b[0m\u001b]8;id=930285;file:///home/moritz/dev/uni/mcr-py/notebooks/../src/command/step_config.py#51\u001b\\\u001b[2m51\u001b[0m\u001b]8;;\u001b\\\n"
            ]
          },
          "metadata": {},
          "output_type": "display_data"
        },
        {
          "data": {
            "text/html": [
              "<pre style=\"white-space:pre;overflow-x:auto;line-height:normal;font-family:Menlo,'DejaVu Sans Mono',consolas,'Courier New',monospace\"><span style=\"color: #7fbfbf; text-decoration-color: #7fbfbf\">           </span><span style=\"color: #000080; text-decoration-color: #000080\">INFO    </span> Fetching POI for runtime optimization done <span style=\"font-weight: bold\">(</span><span style=\"color: #008080; text-decoration-color: #008080; font-weight: bold\">0.05</span> seconds<span style=\"font-weight: bold\">)</span>                     <a href=\"file:///home/moritz/dev/uni/mcr-py/notebooks/../src/command/step_config.py\" target=\"_blank\"><span style=\"color: #7f7f7f; text-decoration-color: #7f7f7f\">step_config.py</span></a><span style=\"color: #7f7f7f; text-decoration-color: #7f7f7f\">:</span><a href=\"file:///home/moritz/dev/uni/mcr-py/notebooks/../src/command/step_config.py#51\" target=\"_blank\"><span style=\"color: #7f7f7f; text-decoration-color: #7f7f7f\">51</span></a>\n",
              "</pre>\n"
            ],
            "text/plain": [
              "\u001b[2;36m          \u001b[0m\u001b[2;36m \u001b[0m\u001b[34mINFO    \u001b[0m Fetching POI for runtime optimization done \u001b[1m(\u001b[0m\u001b[1;36m0.05\u001b[0m seconds\u001b[1m)\u001b[0m                     \u001b]8;id=10066;file:///home/moritz/dev/uni/mcr-py/notebooks/../src/command/step_config.py\u001b\\\u001b[2mstep_config.py\u001b[0m\u001b]8;;\u001b\\\u001b[2m:\u001b[0m\u001b]8;id=924065;file:///home/moritz/dev/uni/mcr-py/notebooks/../src/command/step_config.py#51\u001b\\\u001b[2m51\u001b[0m\u001b]8;;\u001b\\\n"
            ]
          },
          "metadata": {},
          "output_type": "display_data"
        },
        {
          "data": {
            "text/html": [
              "<pre style=\"white-space:pre;overflow-x:auto;line-height:normal;font-family:Menlo,'DejaVu Sans Mono',consolas,'Courier New',monospace\"><span style=\"color: #7fbfbf; text-decoration-color: #7fbfbf\">[02:08:39] </span><span style=\"color: #000080; text-decoration-color: #000080\">INFO    </span> Reading stops                                                           <a href=\"file:///home/moritz/dev/uni/mcr-py/notebooks/../src/package/mcr/steps/public_transport.py\" target=\"_blank\"><span style=\"color: #7f7f7f; text-decoration-color: #7f7f7f\">public_transport.py</span></a><span style=\"color: #7f7f7f; text-decoration-color: #7f7f7f\">:</span><a href=\"file:///home/moritz/dev/uni/mcr-py/notebooks/../src/package/mcr/steps/public_transport.py#144\" target=\"_blank\"><span style=\"color: #7f7f7f; text-decoration-color: #7f7f7f\">144</span></a>\n",
              "</pre>\n"
            ],
            "text/plain": [
              "\u001b[2;36m[02:08:39]\u001b[0m\u001b[2;36m \u001b[0m\u001b[34mINFO    \u001b[0m Reading stops                                                           \u001b]8;id=658423;file:///home/moritz/dev/uni/mcr-py/notebooks/../src/package/mcr/steps/public_transport.py\u001b\\\u001b[2mpublic_transport.py\u001b[0m\u001b]8;;\u001b\\\u001b[2m:\u001b[0m\u001b]8;id=303703;file:///home/moritz/dev/uni/mcr-py/notebooks/../src/package/mcr/steps/public_transport.py#144\u001b\\\u001b[2m144\u001b[0m\u001b]8;;\u001b\\\n"
            ]
          },
          "metadata": {},
          "output_type": "display_data"
        },
        {
          "data": {
            "text/html": [
              "<pre style=\"white-space:pre;overflow-x:auto;line-height:normal;font-family:Menlo,'DejaVu Sans Mono',consolas,'Courier New',monospace\"><span style=\"color: #7fbfbf; text-decoration-color: #7fbfbf\">           </span><span style=\"color: #000080; text-decoration-color: #000080\">INFO    </span> Reading stops done <span style=\"font-weight: bold\">(</span><span style=\"color: #008080; text-decoration-color: #008080; font-weight: bold\">0.21</span> seconds<span style=\"font-weight: bold\">)</span>                                       <a href=\"file:///home/moritz/dev/uni/mcr-py/notebooks/../src/package/mcr/steps/public_transport.py\" target=\"_blank\"><span style=\"color: #7f7f7f; text-decoration-color: #7f7f7f\">public_transport.py</span></a><span style=\"color: #7f7f7f; text-decoration-color: #7f7f7f\">:</span><a href=\"file:///home/moritz/dev/uni/mcr-py/notebooks/../src/package/mcr/steps/public_transport.py#144\" target=\"_blank\"><span style=\"color: #7f7f7f; text-decoration-color: #7f7f7f\">144</span></a>\n",
              "</pre>\n"
            ],
            "text/plain": [
              "\u001b[2;36m          \u001b[0m\u001b[2;36m \u001b[0m\u001b[34mINFO    \u001b[0m Reading stops done \u001b[1m(\u001b[0m\u001b[1;36m0.21\u001b[0m seconds\u001b[1m)\u001b[0m                                       \u001b]8;id=166782;file:///home/moritz/dev/uni/mcr-py/notebooks/../src/package/mcr/steps/public_transport.py\u001b\\\u001b[2mpublic_transport.py\u001b[0m\u001b]8;;\u001b\\\u001b[2m:\u001b[0m\u001b]8;id=672490;file:///home/moritz/dev/uni/mcr-py/notebooks/../src/package/mcr/steps/public_transport.py#144\u001b\\\u001b[2m144\u001b[0m\u001b]8;;\u001b\\\n"
            ]
          },
          "metadata": {},
          "output_type": "display_data"
        },
        {
          "data": {
            "application/vnd.jupyter.widget-view+json": {
              "model_id": "b6407cfd86844c928b1218665447fc34",
              "version_major": 2,
              "version_minor": 0
            },
            "text/plain": [
              "Starting:   0%|          | 0/1782 [00:00<?, ?it/s]"
            ]
          },
          "metadata": {},
          "output_type": "display_data"
        },
        {
          "data": {
            "text/html": [
              "<pre style=\"white-space:pre;overflow-x:auto;line-height:normal;font-family:Menlo,'DejaVu Sans Mono',consolas,'Courier New',monospace\"><span style=\"color: #7fbfbf; text-decoration-color: #7fbfbf\">[02:23:01] </span><span style=\"color: #000080; text-decoration-color: #000080\">INFO    </span> All processes finished.                                                             <a href=\"file:///home/moritz/dev/uni/mcr-py/notebooks/../src/package/mcr5/mcr5.py\" target=\"_blank\"><span style=\"color: #7f7f7f; text-decoration-color: #7f7f7f\">mcr5.py</span></a><span style=\"color: #7f7f7f; text-decoration-color: #7f7f7f\">:</span><a href=\"file:///home/moritz/dev/uni/mcr-py/notebooks/../src/package/mcr5/mcr5.py#100\" target=\"_blank\"><span style=\"color: #7f7f7f; text-decoration-color: #7f7f7f\">100</span></a>\n",
              "</pre>\n"
            ],
            "text/plain": [
              "\u001b[2;36m[02:23:01]\u001b[0m\u001b[2;36m \u001b[0m\u001b[34mINFO    \u001b[0m All processes finished.                                                             \u001b]8;id=443088;file:///home/moritz/dev/uni/mcr-py/notebooks/../src/package/mcr5/mcr5.py\u001b\\\u001b[2mmcr5.py\u001b[0m\u001b]8;;\u001b\\\u001b[2m:\u001b[0m\u001b]8;id=239152;file:///home/moritz/dev/uni/mcr-py/notebooks/../src/package/mcr5/mcr5.py#100\u001b\\\u001b[2m100\u001b[0m\u001b]8;;\u001b\\\n"
            ]
          },
          "metadata": {},
          "output_type": "display_data"
        },
        {
          "data": {
            "text/html": [
              "<pre style=\"white-space:pre;overflow-x:auto;line-height:normal;font-family:Menlo,'DejaVu Sans Mono',consolas,'Courier New',monospace\"><span style=\"color: #7fbfbf; text-decoration-color: #7fbfbf\">           </span><span style=\"color: #000080; text-decoration-color: #000080\">INFO    </span> Running MCR5 for bicycle_public_transport_7                                      <a href=\"file:///tmp/ipykernel_5877/542061263.py\" target=\"_blank\"><span style=\"color: #7f7f7f; text-decoration-color: #7f7f7f\">542061263.py</span></a><span style=\"color: #7f7f7f; text-decoration-color: #7f7f7f\">:</span><a href=\"file:///tmp/ipykernel_5877/542061263.py#4\" target=\"_blank\"><span style=\"color: #7f7f7f; text-decoration-color: #7f7f7f\">4</span></a>\n",
              "</pre>\n"
            ],
            "text/plain": [
              "\u001b[2;36m          \u001b[0m\u001b[2;36m \u001b[0m\u001b[34mINFO    \u001b[0m Running MCR5 for bicycle_public_transport_7                                      \u001b]8;id=577725;file:///tmp/ipykernel_5877/542061263.py\u001b\\\u001b[2m542061263.py\u001b[0m\u001b]8;;\u001b\\\u001b[2m:\u001b[0m\u001b]8;id=807377;file:///tmp/ipykernel_5877/542061263.py#4\u001b\\\u001b[2m4\u001b[0m\u001b]8;;\u001b\\\n"
            ]
          },
          "metadata": {},
          "output_type": "display_data"
        },
        {
          "data": {
            "text/html": [
              "<pre style=\"white-space:pre;overflow-x:auto;line-height:normal;font-family:Menlo,'DejaVu Sans Mono',consolas,'Courier New',monospace\"><span style=\"color: #7fbfbf; text-decoration-color: #7fbfbf\">           </span><span style=\"color: #000080; text-decoration-color: #000080\">INFO    </span> Using existing OSM data                                                              <a href=\"file:///home/moritz/dev/uni/mcr-py/notebooks/../src/package/osm/osm.py\" target=\"_blank\"><span style=\"color: #7f7f7f; text-decoration-color: #7f7f7f\">osm.py</span></a><span style=\"color: #7f7f7f; text-decoration-color: #7f7f7f\">:</span><a href=\"file:///home/moritz/dev/uni/mcr-py/notebooks/../src/package/osm/osm.py#106\" target=\"_blank\"><span style=\"color: #7f7f7f; text-decoration-color: #7f7f7f\">106</span></a>\n",
              "</pre>\n"
            ],
            "text/plain": [
              "\u001b[2;36m          \u001b[0m\u001b[2;36m \u001b[0m\u001b[34mINFO    \u001b[0m Using existing OSM data                                                              \u001b]8;id=767116;file:///home/moritz/dev/uni/mcr-py/notebooks/../src/package/osm/osm.py\u001b\\\u001b[2mosm.py\u001b[0m\u001b]8;;\u001b\\\u001b[2m:\u001b[0m\u001b]8;id=204987;file:///home/moritz/dev/uni/mcr-py/notebooks/../src/package/osm/osm.py#106\u001b\\\u001b[2m106\u001b[0m\u001b]8;;\u001b\\\n"
            ]
          },
          "metadata": {},
          "output_type": "display_data"
        },
        {
          "data": {
            "text/html": [
              "<pre style=\"white-space:pre;overflow-x:auto;line-height:normal;font-family:Menlo,'DejaVu Sans Mono',consolas,'Courier New',monospace\"><span style=\"color: #7fbfbf; text-decoration-color: #7fbfbf\">           </span><span style=\"color: #000080; text-decoration-color: #000080\">INFO    </span> Loading OSM network from cache <span style=\"font-weight: bold\">(</span>walking<span style=\"font-weight: bold\">)</span>                                              <a href=\"file:///home/moritz/dev/uni/mcr-py/notebooks/../src/package/osm/osm.py\" target=\"_blank\"><span style=\"color: #7f7f7f; text-decoration-color: #7f7f7f\">osm.py</span></a><span style=\"color: #7f7f7f; text-decoration-color: #7f7f7f\">:</span><a href=\"file:///home/moritz/dev/uni/mcr-py/notebooks/../src/package/osm/osm.py#69\" target=\"_blank\"><span style=\"color: #7f7f7f; text-decoration-color: #7f7f7f\">69</span></a>\n",
              "</pre>\n"
            ],
            "text/plain": [
              "\u001b[2;36m          \u001b[0m\u001b[2;36m \u001b[0m\u001b[34mINFO    \u001b[0m Loading OSM network from cache \u001b[1m(\u001b[0mwalking\u001b[1m)\u001b[0m                                              \u001b]8;id=682184;file:///home/moritz/dev/uni/mcr-py/notebooks/../src/package/osm/osm.py\u001b\\\u001b[2mosm.py\u001b[0m\u001b]8;;\u001b\\\u001b[2m:\u001b[0m\u001b]8;id=960550;file:///home/moritz/dev/uni/mcr-py/notebooks/../src/package/osm/osm.py#69\u001b\\\u001b[2m69\u001b[0m\u001b]8;;\u001b\\\n"
            ]
          },
          "metadata": {},
          "output_type": "display_data"
        },
        {
          "data": {
            "text/html": [
              "<pre style=\"white-space:pre;overflow-x:auto;line-height:normal;font-family:Menlo,'DejaVu Sans Mono',consolas,'Courier New',monospace\"><span style=\"color: #7fbfbf; text-decoration-color: #7fbfbf\">[02:24:13] </span><span style=\"color: #000080; text-decoration-color: #000080\">INFO    </span> Using existing OSM data                                                              <a href=\"file:///home/moritz/dev/uni/mcr-py/notebooks/../src/package/osm/osm.py\" target=\"_blank\"><span style=\"color: #7f7f7f; text-decoration-color: #7f7f7f\">osm.py</span></a><span style=\"color: #7f7f7f; text-decoration-color: #7f7f7f\">:</span><a href=\"file:///home/moritz/dev/uni/mcr-py/notebooks/../src/package/osm/osm.py#106\" target=\"_blank\"><span style=\"color: #7f7f7f; text-decoration-color: #7f7f7f\">106</span></a>\n",
              "</pre>\n"
            ],
            "text/plain": [
              "\u001b[2;36m[02:24:13]\u001b[0m\u001b[2;36m \u001b[0m\u001b[34mINFO    \u001b[0m Using existing OSM data                                                              \u001b]8;id=43639;file:///home/moritz/dev/uni/mcr-py/notebooks/../src/package/osm/osm.py\u001b\\\u001b[2mosm.py\u001b[0m\u001b]8;;\u001b\\\u001b[2m:\u001b[0m\u001b]8;id=997399;file:///home/moritz/dev/uni/mcr-py/notebooks/../src/package/osm/osm.py#106\u001b\\\u001b[2m106\u001b[0m\u001b]8;;\u001b\\\n"
            ]
          },
          "metadata": {},
          "output_type": "display_data"
        },
        {
          "data": {
            "text/html": [
              "<pre style=\"white-space:pre;overflow-x:auto;line-height:normal;font-family:Menlo,'DejaVu Sans Mono',consolas,'Courier New',monospace\"><span style=\"color: #7fbfbf; text-decoration-color: #7fbfbf\">           </span><span style=\"color: #000080; text-decoration-color: #000080\">INFO    </span> Loading OSM network from cache <span style=\"font-weight: bold\">(</span>cycling<span style=\"font-weight: bold\">)</span>                                              <a href=\"file:///home/moritz/dev/uni/mcr-py/notebooks/../src/package/osm/osm.py\" target=\"_blank\"><span style=\"color: #7f7f7f; text-decoration-color: #7f7f7f\">osm.py</span></a><span style=\"color: #7f7f7f; text-decoration-color: #7f7f7f\">:</span><a href=\"file:///home/moritz/dev/uni/mcr-py/notebooks/../src/package/osm/osm.py#69\" target=\"_blank\"><span style=\"color: #7f7f7f; text-decoration-color: #7f7f7f\">69</span></a>\n",
              "</pre>\n"
            ],
            "text/plain": [
              "\u001b[2;36m          \u001b[0m\u001b[2;36m \u001b[0m\u001b[34mINFO    \u001b[0m Loading OSM network from cache \u001b[1m(\u001b[0mcycling\u001b[1m)\u001b[0m                                              \u001b]8;id=275538;file:///home/moritz/dev/uni/mcr-py/notebooks/../src/package/osm/osm.py\u001b\\\u001b[2mosm.py\u001b[0m\u001b]8;;\u001b\\\u001b[2m:\u001b[0m\u001b]8;id=796112;file:///home/moritz/dev/uni/mcr-py/notebooks/../src/package/osm/osm.py#69\u001b\\\u001b[2m69\u001b[0m\u001b]8;;\u001b\\\n"
            ]
          },
          "metadata": {},
          "output_type": "display_data"
        },
        {
          "data": {
            "text/html": [
              "<pre style=\"white-space:pre;overflow-x:auto;line-height:normal;font-family:Menlo,'DejaVu Sans Mono',consolas,'Courier New',monospace\"><span style=\"color: #7fbfbf; text-decoration-color: #7fbfbf\">[02:25:12] </span><span style=\"color: #000080; text-decoration-color: #000080\">INFO    </span> Fetching POI for runtime optimization                                         <a href=\"file:///home/moritz/dev/uni/mcr-py/notebooks/../src/command/step_config.py\" target=\"_blank\"><span style=\"color: #7f7f7f; text-decoration-color: #7f7f7f\">step_config.py</span></a><span style=\"color: #7f7f7f; text-decoration-color: #7f7f7f\">:</span><a href=\"file:///home/moritz/dev/uni/mcr-py/notebooks/../src/command/step_config.py#51\" target=\"_blank\"><span style=\"color: #7f7f7f; text-decoration-color: #7f7f7f\">51</span></a>\n",
              "</pre>\n"
            ],
            "text/plain": [
              "\u001b[2;36m[02:25:12]\u001b[0m\u001b[2;36m \u001b[0m\u001b[34mINFO    \u001b[0m Fetching POI for runtime optimization                                         \u001b]8;id=821537;file:///home/moritz/dev/uni/mcr-py/notebooks/../src/command/step_config.py\u001b\\\u001b[2mstep_config.py\u001b[0m\u001b]8;;\u001b\\\u001b[2m:\u001b[0m\u001b]8;id=997520;file:///home/moritz/dev/uni/mcr-py/notebooks/../src/command/step_config.py#51\u001b\\\u001b[2m51\u001b[0m\u001b]8;;\u001b\\\n"
            ]
          },
          "metadata": {},
          "output_type": "display_data"
        },
        {
          "data": {
            "text/html": [
              "<pre style=\"white-space:pre;overflow-x:auto;line-height:normal;font-family:Menlo,'DejaVu Sans Mono',consolas,'Courier New',monospace\"><span style=\"color: #7fbfbf; text-decoration-color: #7fbfbf\">           </span><span style=\"color: #000080; text-decoration-color: #000080\">INFO    </span> Fetching POI for runtime optimization done <span style=\"font-weight: bold\">(</span><span style=\"color: #008080; text-decoration-color: #008080; font-weight: bold\">0.06</span> seconds<span style=\"font-weight: bold\">)</span>                     <a href=\"file:///home/moritz/dev/uni/mcr-py/notebooks/../src/command/step_config.py\" target=\"_blank\"><span style=\"color: #7f7f7f; text-decoration-color: #7f7f7f\">step_config.py</span></a><span style=\"color: #7f7f7f; text-decoration-color: #7f7f7f\">:</span><a href=\"file:///home/moritz/dev/uni/mcr-py/notebooks/../src/command/step_config.py#51\" target=\"_blank\"><span style=\"color: #7f7f7f; text-decoration-color: #7f7f7f\">51</span></a>\n",
              "</pre>\n"
            ],
            "text/plain": [
              "\u001b[2;36m          \u001b[0m\u001b[2;36m \u001b[0m\u001b[34mINFO    \u001b[0m Fetching POI for runtime optimization done \u001b[1m(\u001b[0m\u001b[1;36m0.06\u001b[0m seconds\u001b[1m)\u001b[0m                     \u001b]8;id=368718;file:///home/moritz/dev/uni/mcr-py/notebooks/../src/command/step_config.py\u001b\\\u001b[2mstep_config.py\u001b[0m\u001b]8;;\u001b\\\u001b[2m:\u001b[0m\u001b]8;id=158592;file:///home/moritz/dev/uni/mcr-py/notebooks/../src/command/step_config.py#51\u001b\\\u001b[2m51\u001b[0m\u001b]8;;\u001b\\\n"
            ]
          },
          "metadata": {},
          "output_type": "display_data"
        },
        {
          "data": {
            "text/html": [
              "<pre style=\"white-space:pre;overflow-x:auto;line-height:normal;font-family:Menlo,'DejaVu Sans Mono',consolas,'Courier New',monospace\"><span style=\"color: #7fbfbf; text-decoration-color: #7fbfbf\">[02:26:19] </span><span style=\"color: #000080; text-decoration-color: #000080\">INFO    </span> Reading stops                                                           <a href=\"file:///home/moritz/dev/uni/mcr-py/notebooks/../src/package/mcr/steps/public_transport.py\" target=\"_blank\"><span style=\"color: #7f7f7f; text-decoration-color: #7f7f7f\">public_transport.py</span></a><span style=\"color: #7f7f7f; text-decoration-color: #7f7f7f\">:</span><a href=\"file:///home/moritz/dev/uni/mcr-py/notebooks/../src/package/mcr/steps/public_transport.py#144\" target=\"_blank\"><span style=\"color: #7f7f7f; text-decoration-color: #7f7f7f\">144</span></a>\n",
              "</pre>\n"
            ],
            "text/plain": [
              "\u001b[2;36m[02:26:19]\u001b[0m\u001b[2;36m \u001b[0m\u001b[34mINFO    \u001b[0m Reading stops                                                           \u001b]8;id=818396;file:///home/moritz/dev/uni/mcr-py/notebooks/../src/package/mcr/steps/public_transport.py\u001b\\\u001b[2mpublic_transport.py\u001b[0m\u001b]8;;\u001b\\\u001b[2m:\u001b[0m\u001b]8;id=102293;file:///home/moritz/dev/uni/mcr-py/notebooks/../src/package/mcr/steps/public_transport.py#144\u001b\\\u001b[2m144\u001b[0m\u001b]8;;\u001b\\\n"
            ]
          },
          "metadata": {},
          "output_type": "display_data"
        },
        {
          "data": {
            "text/html": [
              "<pre style=\"white-space:pre;overflow-x:auto;line-height:normal;font-family:Menlo,'DejaVu Sans Mono',consolas,'Courier New',monospace\"><span style=\"color: #7fbfbf; text-decoration-color: #7fbfbf\">           </span><span style=\"color: #000080; text-decoration-color: #000080\">INFO    </span> Reading stops done <span style=\"font-weight: bold\">(</span><span style=\"color: #008080; text-decoration-color: #008080; font-weight: bold\">0.20</span> seconds<span style=\"font-weight: bold\">)</span>                                       <a href=\"file:///home/moritz/dev/uni/mcr-py/notebooks/../src/package/mcr/steps/public_transport.py\" target=\"_blank\"><span style=\"color: #7f7f7f; text-decoration-color: #7f7f7f\">public_transport.py</span></a><span style=\"color: #7f7f7f; text-decoration-color: #7f7f7f\">:</span><a href=\"file:///home/moritz/dev/uni/mcr-py/notebooks/../src/package/mcr/steps/public_transport.py#144\" target=\"_blank\"><span style=\"color: #7f7f7f; text-decoration-color: #7f7f7f\">144</span></a>\n",
              "</pre>\n"
            ],
            "text/plain": [
              "\u001b[2;36m          \u001b[0m\u001b[2;36m \u001b[0m\u001b[34mINFO    \u001b[0m Reading stops done \u001b[1m(\u001b[0m\u001b[1;36m0.20\u001b[0m seconds\u001b[1m)\u001b[0m                                       \u001b]8;id=191657;file:///home/moritz/dev/uni/mcr-py/notebooks/../src/package/mcr/steps/public_transport.py\u001b\\\u001b[2mpublic_transport.py\u001b[0m\u001b]8;;\u001b\\\u001b[2m:\u001b[0m\u001b]8;id=129069;file:///home/moritz/dev/uni/mcr-py/notebooks/../src/package/mcr/steps/public_transport.py#144\u001b\\\u001b[2m144\u001b[0m\u001b]8;;\u001b\\\n"
            ]
          },
          "metadata": {},
          "output_type": "display_data"
        },
        {
          "data": {
            "application/vnd.jupyter.widget-view+json": {
              "model_id": "6f343d027b434e08ad8f094f43ad04e2",
              "version_major": 2,
              "version_minor": 0
            },
            "text/plain": [
              "Starting:   0%|          | 0/1782 [00:00<?, ?it/s]"
            ]
          },
          "metadata": {},
          "output_type": "display_data"
        },
        {
          "data": {
            "text/html": [
              "<pre style=\"white-space:pre;overflow-x:auto;line-height:normal;font-family:Menlo,'DejaVu Sans Mono',consolas,'Courier New',monospace\"><span style=\"color: #7fbfbf; text-decoration-color: #7fbfbf\">[02:40:19] </span><span style=\"color: #000080; text-decoration-color: #000080\">INFO    </span> All processes finished.                                                             <a href=\"file:///home/moritz/dev/uni/mcr-py/notebooks/../src/package/mcr5/mcr5.py\" target=\"_blank\"><span style=\"color: #7f7f7f; text-decoration-color: #7f7f7f\">mcr5.py</span></a><span style=\"color: #7f7f7f; text-decoration-color: #7f7f7f\">:</span><a href=\"file:///home/moritz/dev/uni/mcr-py/notebooks/../src/package/mcr5/mcr5.py#100\" target=\"_blank\"><span style=\"color: #7f7f7f; text-decoration-color: #7f7f7f\">100</span></a>\n",
              "</pre>\n"
            ],
            "text/plain": [
              "\u001b[2;36m[02:40:19]\u001b[0m\u001b[2;36m \u001b[0m\u001b[34mINFO    \u001b[0m All processes finished.                                                             \u001b]8;id=159965;file:///home/moritz/dev/uni/mcr-py/notebooks/../src/package/mcr5/mcr5.py\u001b\\\u001b[2mmcr5.py\u001b[0m\u001b]8;;\u001b\\\u001b[2m:\u001b[0m\u001b]8;id=293178;file:///home/moritz/dev/uni/mcr-py/notebooks/../src/package/mcr5/mcr5.py#100\u001b\\\u001b[2m100\u001b[0m\u001b]8;;\u001b\\\n"
            ]
          },
          "metadata": {},
          "output_type": "display_data"
        },
        {
          "data": {
            "text/html": [
              "<pre style=\"white-space:pre;overflow-x:auto;line-height:normal;font-family:Menlo,'DejaVu Sans Mono',consolas,'Courier New',monospace\"><span style=\"color: #7fbfbf; text-decoration-color: #7fbfbf\">           </span><span style=\"color: #000080; text-decoration-color: #000080\">INFO    </span> Running MCR5 for bicycle_public_transport_8                                      <a href=\"file:///tmp/ipykernel_5877/542061263.py\" target=\"_blank\"><span style=\"color: #7f7f7f; text-decoration-color: #7f7f7f\">542061263.py</span></a><span style=\"color: #7f7f7f; text-decoration-color: #7f7f7f\">:</span><a href=\"file:///tmp/ipykernel_5877/542061263.py#4\" target=\"_blank\"><span style=\"color: #7f7f7f; text-decoration-color: #7f7f7f\">4</span></a>\n",
              "</pre>\n"
            ],
            "text/plain": [
              "\u001b[2;36m          \u001b[0m\u001b[2;36m \u001b[0m\u001b[34mINFO    \u001b[0m Running MCR5 for bicycle_public_transport_8                                      \u001b]8;id=838577;file:///tmp/ipykernel_5877/542061263.py\u001b\\\u001b[2m542061263.py\u001b[0m\u001b]8;;\u001b\\\u001b[2m:\u001b[0m\u001b]8;id=52398;file:///tmp/ipykernel_5877/542061263.py#4\u001b\\\u001b[2m4\u001b[0m\u001b]8;;\u001b\\\n"
            ]
          },
          "metadata": {},
          "output_type": "display_data"
        },
        {
          "data": {
            "text/html": [
              "<pre style=\"white-space:pre;overflow-x:auto;line-height:normal;font-family:Menlo,'DejaVu Sans Mono',consolas,'Courier New',monospace\"><span style=\"color: #7fbfbf; text-decoration-color: #7fbfbf\">           </span><span style=\"color: #000080; text-decoration-color: #000080\">INFO    </span> Using existing OSM data                                                              <a href=\"file:///home/moritz/dev/uni/mcr-py/notebooks/../src/package/osm/osm.py\" target=\"_blank\"><span style=\"color: #7f7f7f; text-decoration-color: #7f7f7f\">osm.py</span></a><span style=\"color: #7f7f7f; text-decoration-color: #7f7f7f\">:</span><a href=\"file:///home/moritz/dev/uni/mcr-py/notebooks/../src/package/osm/osm.py#106\" target=\"_blank\"><span style=\"color: #7f7f7f; text-decoration-color: #7f7f7f\">106</span></a>\n",
              "</pre>\n"
            ],
            "text/plain": [
              "\u001b[2;36m          \u001b[0m\u001b[2;36m \u001b[0m\u001b[34mINFO    \u001b[0m Using existing OSM data                                                              \u001b]8;id=261083;file:///home/moritz/dev/uni/mcr-py/notebooks/../src/package/osm/osm.py\u001b\\\u001b[2mosm.py\u001b[0m\u001b]8;;\u001b\\\u001b[2m:\u001b[0m\u001b]8;id=450954;file:///home/moritz/dev/uni/mcr-py/notebooks/../src/package/osm/osm.py#106\u001b\\\u001b[2m106\u001b[0m\u001b]8;;\u001b\\\n"
            ]
          },
          "metadata": {},
          "output_type": "display_data"
        },
        {
          "data": {
            "text/html": [
              "<pre style=\"white-space:pre;overflow-x:auto;line-height:normal;font-family:Menlo,'DejaVu Sans Mono',consolas,'Courier New',monospace\"><span style=\"color: #7fbfbf; text-decoration-color: #7fbfbf\">           </span><span style=\"color: #000080; text-decoration-color: #000080\">INFO    </span> Loading OSM network from cache <span style=\"font-weight: bold\">(</span>walking<span style=\"font-weight: bold\">)</span>                                              <a href=\"file:///home/moritz/dev/uni/mcr-py/notebooks/../src/package/osm/osm.py\" target=\"_blank\"><span style=\"color: #7f7f7f; text-decoration-color: #7f7f7f\">osm.py</span></a><span style=\"color: #7f7f7f; text-decoration-color: #7f7f7f\">:</span><a href=\"file:///home/moritz/dev/uni/mcr-py/notebooks/../src/package/osm/osm.py#69\" target=\"_blank\"><span style=\"color: #7f7f7f; text-decoration-color: #7f7f7f\">69</span></a>\n",
              "</pre>\n"
            ],
            "text/plain": [
              "\u001b[2;36m          \u001b[0m\u001b[2;36m \u001b[0m\u001b[34mINFO    \u001b[0m Loading OSM network from cache \u001b[1m(\u001b[0mwalking\u001b[1m)\u001b[0m                                              \u001b]8;id=456284;file:///home/moritz/dev/uni/mcr-py/notebooks/../src/package/osm/osm.py\u001b\\\u001b[2mosm.py\u001b[0m\u001b]8;;\u001b\\\u001b[2m:\u001b[0m\u001b]8;id=154995;file:///home/moritz/dev/uni/mcr-py/notebooks/../src/package/osm/osm.py#69\u001b\\\u001b[2m69\u001b[0m\u001b]8;;\u001b\\\n"
            ]
          },
          "metadata": {},
          "output_type": "display_data"
        },
        {
          "data": {
            "text/html": [
              "<pre style=\"white-space:pre;overflow-x:auto;line-height:normal;font-family:Menlo,'DejaVu Sans Mono',consolas,'Courier New',monospace\"><span style=\"color: #7fbfbf; text-decoration-color: #7fbfbf\">[02:41:31] </span><span style=\"color: #000080; text-decoration-color: #000080\">INFO    </span> Using existing OSM data                                                              <a href=\"file:///home/moritz/dev/uni/mcr-py/notebooks/../src/package/osm/osm.py\" target=\"_blank\"><span style=\"color: #7f7f7f; text-decoration-color: #7f7f7f\">osm.py</span></a><span style=\"color: #7f7f7f; text-decoration-color: #7f7f7f\">:</span><a href=\"file:///home/moritz/dev/uni/mcr-py/notebooks/../src/package/osm/osm.py#106\" target=\"_blank\"><span style=\"color: #7f7f7f; text-decoration-color: #7f7f7f\">106</span></a>\n",
              "</pre>\n"
            ],
            "text/plain": [
              "\u001b[2;36m[02:41:31]\u001b[0m\u001b[2;36m \u001b[0m\u001b[34mINFO    \u001b[0m Using existing OSM data                                                              \u001b]8;id=750152;file:///home/moritz/dev/uni/mcr-py/notebooks/../src/package/osm/osm.py\u001b\\\u001b[2mosm.py\u001b[0m\u001b]8;;\u001b\\\u001b[2m:\u001b[0m\u001b]8;id=963578;file:///home/moritz/dev/uni/mcr-py/notebooks/../src/package/osm/osm.py#106\u001b\\\u001b[2m106\u001b[0m\u001b]8;;\u001b\\\n"
            ]
          },
          "metadata": {},
          "output_type": "display_data"
        },
        {
          "data": {
            "text/html": [
              "<pre style=\"white-space:pre;overflow-x:auto;line-height:normal;font-family:Menlo,'DejaVu Sans Mono',consolas,'Courier New',monospace\"><span style=\"color: #7fbfbf; text-decoration-color: #7fbfbf\">           </span><span style=\"color: #000080; text-decoration-color: #000080\">INFO    </span> Loading OSM network from cache <span style=\"font-weight: bold\">(</span>cycling<span style=\"font-weight: bold\">)</span>                                              <a href=\"file:///home/moritz/dev/uni/mcr-py/notebooks/../src/package/osm/osm.py\" target=\"_blank\"><span style=\"color: #7f7f7f; text-decoration-color: #7f7f7f\">osm.py</span></a><span style=\"color: #7f7f7f; text-decoration-color: #7f7f7f\">:</span><a href=\"file:///home/moritz/dev/uni/mcr-py/notebooks/../src/package/osm/osm.py#69\" target=\"_blank\"><span style=\"color: #7f7f7f; text-decoration-color: #7f7f7f\">69</span></a>\n",
              "</pre>\n"
            ],
            "text/plain": [
              "\u001b[2;36m          \u001b[0m\u001b[2;36m \u001b[0m\u001b[34mINFO    \u001b[0m Loading OSM network from cache \u001b[1m(\u001b[0mcycling\u001b[1m)\u001b[0m                                              \u001b]8;id=412996;file:///home/moritz/dev/uni/mcr-py/notebooks/../src/package/osm/osm.py\u001b\\\u001b[2mosm.py\u001b[0m\u001b]8;;\u001b\\\u001b[2m:\u001b[0m\u001b]8;id=959830;file:///home/moritz/dev/uni/mcr-py/notebooks/../src/package/osm/osm.py#69\u001b\\\u001b[2m69\u001b[0m\u001b]8;;\u001b\\\n"
            ]
          },
          "metadata": {},
          "output_type": "display_data"
        },
        {
          "data": {
            "text/html": [
              "<pre style=\"white-space:pre;overflow-x:auto;line-height:normal;font-family:Menlo,'DejaVu Sans Mono',consolas,'Courier New',monospace\"><span style=\"color: #7fbfbf; text-decoration-color: #7fbfbf\">[02:42:28] </span><span style=\"color: #000080; text-decoration-color: #000080\">INFO    </span> Fetching POI for runtime optimization                                         <a href=\"file:///home/moritz/dev/uni/mcr-py/notebooks/../src/command/step_config.py\" target=\"_blank\"><span style=\"color: #7f7f7f; text-decoration-color: #7f7f7f\">step_config.py</span></a><span style=\"color: #7f7f7f; text-decoration-color: #7f7f7f\">:</span><a href=\"file:///home/moritz/dev/uni/mcr-py/notebooks/../src/command/step_config.py#51\" target=\"_blank\"><span style=\"color: #7f7f7f; text-decoration-color: #7f7f7f\">51</span></a>\n",
              "</pre>\n"
            ],
            "text/plain": [
              "\u001b[2;36m[02:42:28]\u001b[0m\u001b[2;36m \u001b[0m\u001b[34mINFO    \u001b[0m Fetching POI for runtime optimization                                         \u001b]8;id=55221;file:///home/moritz/dev/uni/mcr-py/notebooks/../src/command/step_config.py\u001b\\\u001b[2mstep_config.py\u001b[0m\u001b]8;;\u001b\\\u001b[2m:\u001b[0m\u001b]8;id=463547;file:///home/moritz/dev/uni/mcr-py/notebooks/../src/command/step_config.py#51\u001b\\\u001b[2m51\u001b[0m\u001b]8;;\u001b\\\n"
            ]
          },
          "metadata": {},
          "output_type": "display_data"
        },
        {
          "data": {
            "text/html": [
              "<pre style=\"white-space:pre;overflow-x:auto;line-height:normal;font-family:Menlo,'DejaVu Sans Mono',consolas,'Courier New',monospace\"><span style=\"color: #7fbfbf; text-decoration-color: #7fbfbf\">           </span><span style=\"color: #000080; text-decoration-color: #000080\">INFO    </span> Fetching POI for runtime optimization done <span style=\"font-weight: bold\">(</span><span style=\"color: #008080; text-decoration-color: #008080; font-weight: bold\">0.05</span> seconds<span style=\"font-weight: bold\">)</span>                     <a href=\"file:///home/moritz/dev/uni/mcr-py/notebooks/../src/command/step_config.py\" target=\"_blank\"><span style=\"color: #7f7f7f; text-decoration-color: #7f7f7f\">step_config.py</span></a><span style=\"color: #7f7f7f; text-decoration-color: #7f7f7f\">:</span><a href=\"file:///home/moritz/dev/uni/mcr-py/notebooks/../src/command/step_config.py#51\" target=\"_blank\"><span style=\"color: #7f7f7f; text-decoration-color: #7f7f7f\">51</span></a>\n",
              "</pre>\n"
            ],
            "text/plain": [
              "\u001b[2;36m          \u001b[0m\u001b[2;36m \u001b[0m\u001b[34mINFO    \u001b[0m Fetching POI for runtime optimization done \u001b[1m(\u001b[0m\u001b[1;36m0.05\u001b[0m seconds\u001b[1m)\u001b[0m                     \u001b]8;id=70019;file:///home/moritz/dev/uni/mcr-py/notebooks/../src/command/step_config.py\u001b\\\u001b[2mstep_config.py\u001b[0m\u001b]8;;\u001b\\\u001b[2m:\u001b[0m\u001b]8;id=589808;file:///home/moritz/dev/uni/mcr-py/notebooks/../src/command/step_config.py#51\u001b\\\u001b[2m51\u001b[0m\u001b]8;;\u001b\\\n"
            ]
          },
          "metadata": {},
          "output_type": "display_data"
        },
        {
          "data": {
            "text/html": [
              "<pre style=\"white-space:pre;overflow-x:auto;line-height:normal;font-family:Menlo,'DejaVu Sans Mono',consolas,'Courier New',monospace\"><span style=\"color: #7fbfbf; text-decoration-color: #7fbfbf\">[02:43:32] </span><span style=\"color: #000080; text-decoration-color: #000080\">INFO    </span> Reading stops                                                           <a href=\"file:///home/moritz/dev/uni/mcr-py/notebooks/../src/package/mcr/steps/public_transport.py\" target=\"_blank\"><span style=\"color: #7f7f7f; text-decoration-color: #7f7f7f\">public_transport.py</span></a><span style=\"color: #7f7f7f; text-decoration-color: #7f7f7f\">:</span><a href=\"file:///home/moritz/dev/uni/mcr-py/notebooks/../src/package/mcr/steps/public_transport.py#144\" target=\"_blank\"><span style=\"color: #7f7f7f; text-decoration-color: #7f7f7f\">144</span></a>\n",
              "</pre>\n"
            ],
            "text/plain": [
              "\u001b[2;36m[02:43:32]\u001b[0m\u001b[2;36m \u001b[0m\u001b[34mINFO    \u001b[0m Reading stops                                                           \u001b]8;id=799764;file:///home/moritz/dev/uni/mcr-py/notebooks/../src/package/mcr/steps/public_transport.py\u001b\\\u001b[2mpublic_transport.py\u001b[0m\u001b]8;;\u001b\\\u001b[2m:\u001b[0m\u001b]8;id=761413;file:///home/moritz/dev/uni/mcr-py/notebooks/../src/package/mcr/steps/public_transport.py#144\u001b\\\u001b[2m144\u001b[0m\u001b]8;;\u001b\\\n"
            ]
          },
          "metadata": {},
          "output_type": "display_data"
        },
        {
          "data": {
            "text/html": [
              "<pre style=\"white-space:pre;overflow-x:auto;line-height:normal;font-family:Menlo,'DejaVu Sans Mono',consolas,'Courier New',monospace\"><span style=\"color: #7fbfbf; text-decoration-color: #7fbfbf\">           </span><span style=\"color: #000080; text-decoration-color: #000080\">INFO    </span> Reading stops done <span style=\"font-weight: bold\">(</span><span style=\"color: #008080; text-decoration-color: #008080; font-weight: bold\">0.31</span> seconds<span style=\"font-weight: bold\">)</span>                                       <a href=\"file:///home/moritz/dev/uni/mcr-py/notebooks/../src/package/mcr/steps/public_transport.py\" target=\"_blank\"><span style=\"color: #7f7f7f; text-decoration-color: #7f7f7f\">public_transport.py</span></a><span style=\"color: #7f7f7f; text-decoration-color: #7f7f7f\">:</span><a href=\"file:///home/moritz/dev/uni/mcr-py/notebooks/../src/package/mcr/steps/public_transport.py#144\" target=\"_blank\"><span style=\"color: #7f7f7f; text-decoration-color: #7f7f7f\">144</span></a>\n",
              "</pre>\n"
            ],
            "text/plain": [
              "\u001b[2;36m          \u001b[0m\u001b[2;36m \u001b[0m\u001b[34mINFO    \u001b[0m Reading stops done \u001b[1m(\u001b[0m\u001b[1;36m0.31\u001b[0m seconds\u001b[1m)\u001b[0m                                       \u001b]8;id=170537;file:///home/moritz/dev/uni/mcr-py/notebooks/../src/package/mcr/steps/public_transport.py\u001b\\\u001b[2mpublic_transport.py\u001b[0m\u001b]8;;\u001b\\\u001b[2m:\u001b[0m\u001b]8;id=551563;file:///home/moritz/dev/uni/mcr-py/notebooks/../src/package/mcr/steps/public_transport.py#144\u001b\\\u001b[2m144\u001b[0m\u001b]8;;\u001b\\\n"
            ]
          },
          "metadata": {},
          "output_type": "display_data"
        },
        {
          "data": {
            "application/vnd.jupyter.widget-view+json": {
              "model_id": "89e107a739ef46e58bc1e4be3a85ec29",
              "version_major": 2,
              "version_minor": 0
            },
            "text/plain": [
              "Starting:   0%|          | 0/1782 [00:00<?, ?it/s]"
            ]
          },
          "metadata": {},
          "output_type": "display_data"
        },
        {
          "data": {
            "text/html": [
              "<pre style=\"white-space:pre;overflow-x:auto;line-height:normal;font-family:Menlo,'DejaVu Sans Mono',consolas,'Courier New',monospace\"><span style=\"color: #7fbfbf; text-decoration-color: #7fbfbf\">[02:59:23] </span><span style=\"color: #000080; text-decoration-color: #000080\">INFO    </span> All processes finished.                                                             <a href=\"file:///home/moritz/dev/uni/mcr-py/notebooks/../src/package/mcr5/mcr5.py\" target=\"_blank\"><span style=\"color: #7f7f7f; text-decoration-color: #7f7f7f\">mcr5.py</span></a><span style=\"color: #7f7f7f; text-decoration-color: #7f7f7f\">:</span><a href=\"file:///home/moritz/dev/uni/mcr-py/notebooks/../src/package/mcr5/mcr5.py#100\" target=\"_blank\"><span style=\"color: #7f7f7f; text-decoration-color: #7f7f7f\">100</span></a>\n",
              "</pre>\n"
            ],
            "text/plain": [
              "\u001b[2;36m[02:59:23]\u001b[0m\u001b[2;36m \u001b[0m\u001b[34mINFO    \u001b[0m All processes finished.                                                             \u001b]8;id=594831;file:///home/moritz/dev/uni/mcr-py/notebooks/../src/package/mcr5/mcr5.py\u001b\\\u001b[2mmcr5.py\u001b[0m\u001b]8;;\u001b\\\u001b[2m:\u001b[0m\u001b]8;id=117445;file:///home/moritz/dev/uni/mcr-py/notebooks/../src/package/mcr5/mcr5.py#100\u001b\\\u001b[2m100\u001b[0m\u001b]8;;\u001b\\\n"
            ]
          },
          "metadata": {},
          "output_type": "display_data"
        },
        {
          "data": {
            "text/html": [
              "<pre style=\"white-space:pre;overflow-x:auto;line-height:normal;font-family:Menlo,'DejaVu Sans Mono',consolas,'Courier New',monospace\"><span style=\"color: #7fbfbf; text-decoration-color: #7fbfbf\">           </span><span style=\"color: #000080; text-decoration-color: #000080\">INFO    </span> Running MCR5 for bicycle_public_transport_9                                      <a href=\"file:///tmp/ipykernel_5877/542061263.py\" target=\"_blank\"><span style=\"color: #7f7f7f; text-decoration-color: #7f7f7f\">542061263.py</span></a><span style=\"color: #7f7f7f; text-decoration-color: #7f7f7f\">:</span><a href=\"file:///tmp/ipykernel_5877/542061263.py#4\" target=\"_blank\"><span style=\"color: #7f7f7f; text-decoration-color: #7f7f7f\">4</span></a>\n",
              "</pre>\n"
            ],
            "text/plain": [
              "\u001b[2;36m          \u001b[0m\u001b[2;36m \u001b[0m\u001b[34mINFO    \u001b[0m Running MCR5 for bicycle_public_transport_9                                      \u001b]8;id=903655;file:///tmp/ipykernel_5877/542061263.py\u001b\\\u001b[2m542061263.py\u001b[0m\u001b]8;;\u001b\\\u001b[2m:\u001b[0m\u001b]8;id=507937;file:///tmp/ipykernel_5877/542061263.py#4\u001b\\\u001b[2m4\u001b[0m\u001b]8;;\u001b\\\n"
            ]
          },
          "metadata": {},
          "output_type": "display_data"
        },
        {
          "data": {
            "text/html": [
              "<pre style=\"white-space:pre;overflow-x:auto;line-height:normal;font-family:Menlo,'DejaVu Sans Mono',consolas,'Courier New',monospace\"><span style=\"color: #7fbfbf; text-decoration-color: #7fbfbf\">           </span><span style=\"color: #000080; text-decoration-color: #000080\">INFO    </span> Using existing OSM data                                                              <a href=\"file:///home/moritz/dev/uni/mcr-py/notebooks/../src/package/osm/osm.py\" target=\"_blank\"><span style=\"color: #7f7f7f; text-decoration-color: #7f7f7f\">osm.py</span></a><span style=\"color: #7f7f7f; text-decoration-color: #7f7f7f\">:</span><a href=\"file:///home/moritz/dev/uni/mcr-py/notebooks/../src/package/osm/osm.py#106\" target=\"_blank\"><span style=\"color: #7f7f7f; text-decoration-color: #7f7f7f\">106</span></a>\n",
              "</pre>\n"
            ],
            "text/plain": [
              "\u001b[2;36m          \u001b[0m\u001b[2;36m \u001b[0m\u001b[34mINFO    \u001b[0m Using existing OSM data                                                              \u001b]8;id=880767;file:///home/moritz/dev/uni/mcr-py/notebooks/../src/package/osm/osm.py\u001b\\\u001b[2mosm.py\u001b[0m\u001b]8;;\u001b\\\u001b[2m:\u001b[0m\u001b]8;id=344873;file:///home/moritz/dev/uni/mcr-py/notebooks/../src/package/osm/osm.py#106\u001b\\\u001b[2m106\u001b[0m\u001b]8;;\u001b\\\n"
            ]
          },
          "metadata": {},
          "output_type": "display_data"
        },
        {
          "data": {
            "text/html": [
              "<pre style=\"white-space:pre;overflow-x:auto;line-height:normal;font-family:Menlo,'DejaVu Sans Mono',consolas,'Courier New',monospace\"><span style=\"color: #7fbfbf; text-decoration-color: #7fbfbf\">           </span><span style=\"color: #000080; text-decoration-color: #000080\">INFO    </span> Loading OSM network from cache <span style=\"font-weight: bold\">(</span>walking<span style=\"font-weight: bold\">)</span>                                              <a href=\"file:///home/moritz/dev/uni/mcr-py/notebooks/../src/package/osm/osm.py\" target=\"_blank\"><span style=\"color: #7f7f7f; text-decoration-color: #7f7f7f\">osm.py</span></a><span style=\"color: #7f7f7f; text-decoration-color: #7f7f7f\">:</span><a href=\"file:///home/moritz/dev/uni/mcr-py/notebooks/../src/package/osm/osm.py#69\" target=\"_blank\"><span style=\"color: #7f7f7f; text-decoration-color: #7f7f7f\">69</span></a>\n",
              "</pre>\n"
            ],
            "text/plain": [
              "\u001b[2;36m          \u001b[0m\u001b[2;36m \u001b[0m\u001b[34mINFO    \u001b[0m Loading OSM network from cache \u001b[1m(\u001b[0mwalking\u001b[1m)\u001b[0m                                              \u001b]8;id=171205;file:///home/moritz/dev/uni/mcr-py/notebooks/../src/package/osm/osm.py\u001b\\\u001b[2mosm.py\u001b[0m\u001b]8;;\u001b\\\u001b[2m:\u001b[0m\u001b]8;id=741771;file:///home/moritz/dev/uni/mcr-py/notebooks/../src/package/osm/osm.py#69\u001b\\\u001b[2m69\u001b[0m\u001b]8;;\u001b\\\n"
            ]
          },
          "metadata": {},
          "output_type": "display_data"
        },
        {
          "data": {
            "text/html": [
              "<pre style=\"white-space:pre;overflow-x:auto;line-height:normal;font-family:Menlo,'DejaVu Sans Mono',consolas,'Courier New',monospace\"><span style=\"color: #7fbfbf; text-decoration-color: #7fbfbf\">[03:00:35] </span><span style=\"color: #000080; text-decoration-color: #000080\">INFO    </span> Using existing OSM data                                                              <a href=\"file:///home/moritz/dev/uni/mcr-py/notebooks/../src/package/osm/osm.py\" target=\"_blank\"><span style=\"color: #7f7f7f; text-decoration-color: #7f7f7f\">osm.py</span></a><span style=\"color: #7f7f7f; text-decoration-color: #7f7f7f\">:</span><a href=\"file:///home/moritz/dev/uni/mcr-py/notebooks/../src/package/osm/osm.py#106\" target=\"_blank\"><span style=\"color: #7f7f7f; text-decoration-color: #7f7f7f\">106</span></a>\n",
              "</pre>\n"
            ],
            "text/plain": [
              "\u001b[2;36m[03:00:35]\u001b[0m\u001b[2;36m \u001b[0m\u001b[34mINFO    \u001b[0m Using existing OSM data                                                              \u001b]8;id=982371;file:///home/moritz/dev/uni/mcr-py/notebooks/../src/package/osm/osm.py\u001b\\\u001b[2mosm.py\u001b[0m\u001b]8;;\u001b\\\u001b[2m:\u001b[0m\u001b]8;id=212146;file:///home/moritz/dev/uni/mcr-py/notebooks/../src/package/osm/osm.py#106\u001b\\\u001b[2m106\u001b[0m\u001b]8;;\u001b\\\n"
            ]
          },
          "metadata": {},
          "output_type": "display_data"
        },
        {
          "data": {
            "text/html": [
              "<pre style=\"white-space:pre;overflow-x:auto;line-height:normal;font-family:Menlo,'DejaVu Sans Mono',consolas,'Courier New',monospace\"><span style=\"color: #7fbfbf; text-decoration-color: #7fbfbf\">           </span><span style=\"color: #000080; text-decoration-color: #000080\">INFO    </span> Loading OSM network from cache <span style=\"font-weight: bold\">(</span>cycling<span style=\"font-weight: bold\">)</span>                                              <a href=\"file:///home/moritz/dev/uni/mcr-py/notebooks/../src/package/osm/osm.py\" target=\"_blank\"><span style=\"color: #7f7f7f; text-decoration-color: #7f7f7f\">osm.py</span></a><span style=\"color: #7f7f7f; text-decoration-color: #7f7f7f\">:</span><a href=\"file:///home/moritz/dev/uni/mcr-py/notebooks/../src/package/osm/osm.py#69\" target=\"_blank\"><span style=\"color: #7f7f7f; text-decoration-color: #7f7f7f\">69</span></a>\n",
              "</pre>\n"
            ],
            "text/plain": [
              "\u001b[2;36m          \u001b[0m\u001b[2;36m \u001b[0m\u001b[34mINFO    \u001b[0m Loading OSM network from cache \u001b[1m(\u001b[0mcycling\u001b[1m)\u001b[0m                                              \u001b]8;id=515984;file:///home/moritz/dev/uni/mcr-py/notebooks/../src/package/osm/osm.py\u001b\\\u001b[2mosm.py\u001b[0m\u001b]8;;\u001b\\\u001b[2m:\u001b[0m\u001b]8;id=413795;file:///home/moritz/dev/uni/mcr-py/notebooks/../src/package/osm/osm.py#69\u001b\\\u001b[2m69\u001b[0m\u001b]8;;\u001b\\\n"
            ]
          },
          "metadata": {},
          "output_type": "display_data"
        },
        {
          "data": {
            "text/html": [
              "<pre style=\"white-space:pre;overflow-x:auto;line-height:normal;font-family:Menlo,'DejaVu Sans Mono',consolas,'Courier New',monospace\"><span style=\"color: #7fbfbf; text-decoration-color: #7fbfbf\">[03:01:32] </span><span style=\"color: #000080; text-decoration-color: #000080\">INFO    </span> Fetching POI for runtime optimization                                         <a href=\"file:///home/moritz/dev/uni/mcr-py/notebooks/../src/command/step_config.py\" target=\"_blank\"><span style=\"color: #7f7f7f; text-decoration-color: #7f7f7f\">step_config.py</span></a><span style=\"color: #7f7f7f; text-decoration-color: #7f7f7f\">:</span><a href=\"file:///home/moritz/dev/uni/mcr-py/notebooks/../src/command/step_config.py#51\" target=\"_blank\"><span style=\"color: #7f7f7f; text-decoration-color: #7f7f7f\">51</span></a>\n",
              "</pre>\n"
            ],
            "text/plain": [
              "\u001b[2;36m[03:01:32]\u001b[0m\u001b[2;36m \u001b[0m\u001b[34mINFO    \u001b[0m Fetching POI for runtime optimization                                         \u001b]8;id=659033;file:///home/moritz/dev/uni/mcr-py/notebooks/../src/command/step_config.py\u001b\\\u001b[2mstep_config.py\u001b[0m\u001b]8;;\u001b\\\u001b[2m:\u001b[0m\u001b]8;id=291289;file:///home/moritz/dev/uni/mcr-py/notebooks/../src/command/step_config.py#51\u001b\\\u001b[2m51\u001b[0m\u001b]8;;\u001b\\\n"
            ]
          },
          "metadata": {},
          "output_type": "display_data"
        },
        {
          "data": {
            "text/html": [
              "<pre style=\"white-space:pre;overflow-x:auto;line-height:normal;font-family:Menlo,'DejaVu Sans Mono',consolas,'Courier New',monospace\"><span style=\"color: #7fbfbf; text-decoration-color: #7fbfbf\">[03:01:33] </span><span style=\"color: #000080; text-decoration-color: #000080\">INFO    </span> Fetching POI for runtime optimization done <span style=\"font-weight: bold\">(</span><span style=\"color: #008080; text-decoration-color: #008080; font-weight: bold\">0.07</span> seconds<span style=\"font-weight: bold\">)</span>                     <a href=\"file:///home/moritz/dev/uni/mcr-py/notebooks/../src/command/step_config.py\" target=\"_blank\"><span style=\"color: #7f7f7f; text-decoration-color: #7f7f7f\">step_config.py</span></a><span style=\"color: #7f7f7f; text-decoration-color: #7f7f7f\">:</span><a href=\"file:///home/moritz/dev/uni/mcr-py/notebooks/../src/command/step_config.py#51\" target=\"_blank\"><span style=\"color: #7f7f7f; text-decoration-color: #7f7f7f\">51</span></a>\n",
              "</pre>\n"
            ],
            "text/plain": [
              "\u001b[2;36m[03:01:33]\u001b[0m\u001b[2;36m \u001b[0m\u001b[34mINFO    \u001b[0m Fetching POI for runtime optimization done \u001b[1m(\u001b[0m\u001b[1;36m0.07\u001b[0m seconds\u001b[1m)\u001b[0m                     \u001b]8;id=342466;file:///home/moritz/dev/uni/mcr-py/notebooks/../src/command/step_config.py\u001b\\\u001b[2mstep_config.py\u001b[0m\u001b]8;;\u001b\\\u001b[2m:\u001b[0m\u001b]8;id=438340;file:///home/moritz/dev/uni/mcr-py/notebooks/../src/command/step_config.py#51\u001b\\\u001b[2m51\u001b[0m\u001b]8;;\u001b\\\n"
            ]
          },
          "metadata": {},
          "output_type": "display_data"
        },
        {
          "data": {
            "text/html": [
              "<pre style=\"white-space:pre;overflow-x:auto;line-height:normal;font-family:Menlo,'DejaVu Sans Mono',consolas,'Courier New',monospace\"><span style=\"color: #7fbfbf; text-decoration-color: #7fbfbf\">[03:02:38] </span><span style=\"color: #000080; text-decoration-color: #000080\">INFO    </span> Reading stops                                                           <a href=\"file:///home/moritz/dev/uni/mcr-py/notebooks/../src/package/mcr/steps/public_transport.py\" target=\"_blank\"><span style=\"color: #7f7f7f; text-decoration-color: #7f7f7f\">public_transport.py</span></a><span style=\"color: #7f7f7f; text-decoration-color: #7f7f7f\">:</span><a href=\"file:///home/moritz/dev/uni/mcr-py/notebooks/../src/package/mcr/steps/public_transport.py#144\" target=\"_blank\"><span style=\"color: #7f7f7f; text-decoration-color: #7f7f7f\">144</span></a>\n",
              "</pre>\n"
            ],
            "text/plain": [
              "\u001b[2;36m[03:02:38]\u001b[0m\u001b[2;36m \u001b[0m\u001b[34mINFO    \u001b[0m Reading stops                                                           \u001b]8;id=21254;file:///home/moritz/dev/uni/mcr-py/notebooks/../src/package/mcr/steps/public_transport.py\u001b\\\u001b[2mpublic_transport.py\u001b[0m\u001b]8;;\u001b\\\u001b[2m:\u001b[0m\u001b]8;id=127683;file:///home/moritz/dev/uni/mcr-py/notebooks/../src/package/mcr/steps/public_transport.py#144\u001b\\\u001b[2m144\u001b[0m\u001b]8;;\u001b\\\n"
            ]
          },
          "metadata": {},
          "output_type": "display_data"
        },
        {
          "data": {
            "text/html": [
              "<pre style=\"white-space:pre;overflow-x:auto;line-height:normal;font-family:Menlo,'DejaVu Sans Mono',consolas,'Courier New',monospace\"><span style=\"color: #7fbfbf; text-decoration-color: #7fbfbf\">           </span><span style=\"color: #000080; text-decoration-color: #000080\">INFO    </span> Reading stops done <span style=\"font-weight: bold\">(</span><span style=\"color: #008080; text-decoration-color: #008080; font-weight: bold\">0.20</span> seconds<span style=\"font-weight: bold\">)</span>                                       <a href=\"file:///home/moritz/dev/uni/mcr-py/notebooks/../src/package/mcr/steps/public_transport.py\" target=\"_blank\"><span style=\"color: #7f7f7f; text-decoration-color: #7f7f7f\">public_transport.py</span></a><span style=\"color: #7f7f7f; text-decoration-color: #7f7f7f\">:</span><a href=\"file:///home/moritz/dev/uni/mcr-py/notebooks/../src/package/mcr/steps/public_transport.py#144\" target=\"_blank\"><span style=\"color: #7f7f7f; text-decoration-color: #7f7f7f\">144</span></a>\n",
              "</pre>\n"
            ],
            "text/plain": [
              "\u001b[2;36m          \u001b[0m\u001b[2;36m \u001b[0m\u001b[34mINFO    \u001b[0m Reading stops done \u001b[1m(\u001b[0m\u001b[1;36m0.20\u001b[0m seconds\u001b[1m)\u001b[0m                                       \u001b]8;id=16930;file:///home/moritz/dev/uni/mcr-py/notebooks/../src/package/mcr/steps/public_transport.py\u001b\\\u001b[2mpublic_transport.py\u001b[0m\u001b]8;;\u001b\\\u001b[2m:\u001b[0m\u001b]8;id=810191;file:///home/moritz/dev/uni/mcr-py/notebooks/../src/package/mcr/steps/public_transport.py#144\u001b\\\u001b[2m144\u001b[0m\u001b]8;;\u001b\\\n"
            ]
          },
          "metadata": {},
          "output_type": "display_data"
        },
        {
          "data": {
            "application/vnd.jupyter.widget-view+json": {
              "model_id": "7472c3ccdf18414a9c72e9541c5cb90f",
              "version_major": 2,
              "version_minor": 0
            },
            "text/plain": [
              "Starting:   0%|          | 0/1782 [00:00<?, ?it/s]"
            ]
          },
          "metadata": {},
          "output_type": "display_data"
        },
        {
          "data": {
            "text/html": [
              "<pre style=\"white-space:pre;overflow-x:auto;line-height:normal;font-family:Menlo,'DejaVu Sans Mono',consolas,'Courier New',monospace\"><span style=\"color: #7fbfbf; text-decoration-color: #7fbfbf\">[03:18:40] </span><span style=\"color: #000080; text-decoration-color: #000080\">INFO    </span> All processes finished.                                                             <a href=\"file:///home/moritz/dev/uni/mcr-py/notebooks/../src/package/mcr5/mcr5.py\" target=\"_blank\"><span style=\"color: #7f7f7f; text-decoration-color: #7f7f7f\">mcr5.py</span></a><span style=\"color: #7f7f7f; text-decoration-color: #7f7f7f\">:</span><a href=\"file:///home/moritz/dev/uni/mcr-py/notebooks/../src/package/mcr5/mcr5.py#100\" target=\"_blank\"><span style=\"color: #7f7f7f; text-decoration-color: #7f7f7f\">100</span></a>\n",
              "</pre>\n"
            ],
            "text/plain": [
              "\u001b[2;36m[03:18:40]\u001b[0m\u001b[2;36m \u001b[0m\u001b[34mINFO    \u001b[0m All processes finished.                                                             \u001b]8;id=157119;file:///home/moritz/dev/uni/mcr-py/notebooks/../src/package/mcr5/mcr5.py\u001b\\\u001b[2mmcr5.py\u001b[0m\u001b]8;;\u001b\\\u001b[2m:\u001b[0m\u001b]8;id=526616;file:///home/moritz/dev/uni/mcr-py/notebooks/../src/package/mcr5/mcr5.py#100\u001b\\\u001b[2m100\u001b[0m\u001b]8;;\u001b\\\n"
            ]
          },
          "metadata": {},
          "output_type": "display_data"
        },
        {
          "data": {
            "text/html": [
              "<pre style=\"white-space:pre;overflow-x:auto;line-height:normal;font-family:Menlo,'DejaVu Sans Mono',consolas,'Courier New',monospace\"><span style=\"color: #7fbfbf; text-decoration-color: #7fbfbf\">           </span><span style=\"color: #000080; text-decoration-color: #000080\">INFO    </span> Running MCR5 for bicycle_public_transport_10                                     <a href=\"file:///tmp/ipykernel_5877/542061263.py\" target=\"_blank\"><span style=\"color: #7f7f7f; text-decoration-color: #7f7f7f\">542061263.py</span></a><span style=\"color: #7f7f7f; text-decoration-color: #7f7f7f\">:</span><a href=\"file:///tmp/ipykernel_5877/542061263.py#4\" target=\"_blank\"><span style=\"color: #7f7f7f; text-decoration-color: #7f7f7f\">4</span></a>\n",
              "</pre>\n"
            ],
            "text/plain": [
              "\u001b[2;36m          \u001b[0m\u001b[2;36m \u001b[0m\u001b[34mINFO    \u001b[0m Running MCR5 for bicycle_public_transport_10                                     \u001b]8;id=651062;file:///tmp/ipykernel_5877/542061263.py\u001b\\\u001b[2m542061263.py\u001b[0m\u001b]8;;\u001b\\\u001b[2m:\u001b[0m\u001b]8;id=770061;file:///tmp/ipykernel_5877/542061263.py#4\u001b\\\u001b[2m4\u001b[0m\u001b]8;;\u001b\\\n"
            ]
          },
          "metadata": {},
          "output_type": "display_data"
        },
        {
          "data": {
            "text/html": [
              "<pre style=\"white-space:pre;overflow-x:auto;line-height:normal;font-family:Menlo,'DejaVu Sans Mono',consolas,'Courier New',monospace\"><span style=\"color: #7fbfbf; text-decoration-color: #7fbfbf\">           </span><span style=\"color: #000080; text-decoration-color: #000080\">INFO    </span> Using existing OSM data                                                              <a href=\"file:///home/moritz/dev/uni/mcr-py/notebooks/../src/package/osm/osm.py\" target=\"_blank\"><span style=\"color: #7f7f7f; text-decoration-color: #7f7f7f\">osm.py</span></a><span style=\"color: #7f7f7f; text-decoration-color: #7f7f7f\">:</span><a href=\"file:///home/moritz/dev/uni/mcr-py/notebooks/../src/package/osm/osm.py#106\" target=\"_blank\"><span style=\"color: #7f7f7f; text-decoration-color: #7f7f7f\">106</span></a>\n",
              "</pre>\n"
            ],
            "text/plain": [
              "\u001b[2;36m          \u001b[0m\u001b[2;36m \u001b[0m\u001b[34mINFO    \u001b[0m Using existing OSM data                                                              \u001b]8;id=239334;file:///home/moritz/dev/uni/mcr-py/notebooks/../src/package/osm/osm.py\u001b\\\u001b[2mosm.py\u001b[0m\u001b]8;;\u001b\\\u001b[2m:\u001b[0m\u001b]8;id=448096;file:///home/moritz/dev/uni/mcr-py/notebooks/../src/package/osm/osm.py#106\u001b\\\u001b[2m106\u001b[0m\u001b]8;;\u001b\\\n"
            ]
          },
          "metadata": {},
          "output_type": "display_data"
        },
        {
          "data": {
            "text/html": [
              "<pre style=\"white-space:pre;overflow-x:auto;line-height:normal;font-family:Menlo,'DejaVu Sans Mono',consolas,'Courier New',monospace\"><span style=\"color: #7fbfbf; text-decoration-color: #7fbfbf\">           </span><span style=\"color: #000080; text-decoration-color: #000080\">INFO    </span> Loading OSM network from cache <span style=\"font-weight: bold\">(</span>walking<span style=\"font-weight: bold\">)</span>                                              <a href=\"file:///home/moritz/dev/uni/mcr-py/notebooks/../src/package/osm/osm.py\" target=\"_blank\"><span style=\"color: #7f7f7f; text-decoration-color: #7f7f7f\">osm.py</span></a><span style=\"color: #7f7f7f; text-decoration-color: #7f7f7f\">:</span><a href=\"file:///home/moritz/dev/uni/mcr-py/notebooks/../src/package/osm/osm.py#69\" target=\"_blank\"><span style=\"color: #7f7f7f; text-decoration-color: #7f7f7f\">69</span></a>\n",
              "</pre>\n"
            ],
            "text/plain": [
              "\u001b[2;36m          \u001b[0m\u001b[2;36m \u001b[0m\u001b[34mINFO    \u001b[0m Loading OSM network from cache \u001b[1m(\u001b[0mwalking\u001b[1m)\u001b[0m                                              \u001b]8;id=496836;file:///home/moritz/dev/uni/mcr-py/notebooks/../src/package/osm/osm.py\u001b\\\u001b[2mosm.py\u001b[0m\u001b]8;;\u001b\\\u001b[2m:\u001b[0m\u001b]8;id=30715;file:///home/moritz/dev/uni/mcr-py/notebooks/../src/package/osm/osm.py#69\u001b\\\u001b[2m69\u001b[0m\u001b]8;;\u001b\\\n"
            ]
          },
          "metadata": {},
          "output_type": "display_data"
        },
        {
          "data": {
            "text/html": [
              "<pre style=\"white-space:pre;overflow-x:auto;line-height:normal;font-family:Menlo,'DejaVu Sans Mono',consolas,'Courier New',monospace\"><span style=\"color: #7fbfbf; text-decoration-color: #7fbfbf\">[03:19:47] </span><span style=\"color: #000080; text-decoration-color: #000080\">INFO    </span> Using existing OSM data                                                              <a href=\"file:///home/moritz/dev/uni/mcr-py/notebooks/../src/package/osm/osm.py\" target=\"_blank\"><span style=\"color: #7f7f7f; text-decoration-color: #7f7f7f\">osm.py</span></a><span style=\"color: #7f7f7f; text-decoration-color: #7f7f7f\">:</span><a href=\"file:///home/moritz/dev/uni/mcr-py/notebooks/../src/package/osm/osm.py#106\" target=\"_blank\"><span style=\"color: #7f7f7f; text-decoration-color: #7f7f7f\">106</span></a>\n",
              "</pre>\n"
            ],
            "text/plain": [
              "\u001b[2;36m[03:19:47]\u001b[0m\u001b[2;36m \u001b[0m\u001b[34mINFO    \u001b[0m Using existing OSM data                                                              \u001b]8;id=928447;file:///home/moritz/dev/uni/mcr-py/notebooks/../src/package/osm/osm.py\u001b\\\u001b[2mosm.py\u001b[0m\u001b]8;;\u001b\\\u001b[2m:\u001b[0m\u001b]8;id=681165;file:///home/moritz/dev/uni/mcr-py/notebooks/../src/package/osm/osm.py#106\u001b\\\u001b[2m106\u001b[0m\u001b]8;;\u001b\\\n"
            ]
          },
          "metadata": {},
          "output_type": "display_data"
        },
        {
          "data": {
            "text/html": [
              "<pre style=\"white-space:pre;overflow-x:auto;line-height:normal;font-family:Menlo,'DejaVu Sans Mono',consolas,'Courier New',monospace\"><span style=\"color: #7fbfbf; text-decoration-color: #7fbfbf\">           </span><span style=\"color: #000080; text-decoration-color: #000080\">INFO    </span> Loading OSM network from cache <span style=\"font-weight: bold\">(</span>cycling<span style=\"font-weight: bold\">)</span>                                              <a href=\"file:///home/moritz/dev/uni/mcr-py/notebooks/../src/package/osm/osm.py\" target=\"_blank\"><span style=\"color: #7f7f7f; text-decoration-color: #7f7f7f\">osm.py</span></a><span style=\"color: #7f7f7f; text-decoration-color: #7f7f7f\">:</span><a href=\"file:///home/moritz/dev/uni/mcr-py/notebooks/../src/package/osm/osm.py#69\" target=\"_blank\"><span style=\"color: #7f7f7f; text-decoration-color: #7f7f7f\">69</span></a>\n",
              "</pre>\n"
            ],
            "text/plain": [
              "\u001b[2;36m          \u001b[0m\u001b[2;36m \u001b[0m\u001b[34mINFO    \u001b[0m Loading OSM network from cache \u001b[1m(\u001b[0mcycling\u001b[1m)\u001b[0m                                              \u001b]8;id=94122;file:///home/moritz/dev/uni/mcr-py/notebooks/../src/package/osm/osm.py\u001b\\\u001b[2mosm.py\u001b[0m\u001b]8;;\u001b\\\u001b[2m:\u001b[0m\u001b]8;id=907213;file:///home/moritz/dev/uni/mcr-py/notebooks/../src/package/osm/osm.py#69\u001b\\\u001b[2m69\u001b[0m\u001b]8;;\u001b\\\n"
            ]
          },
          "metadata": {},
          "output_type": "display_data"
        },
        {
          "data": {
            "text/html": [
              "<pre style=\"white-space:pre;overflow-x:auto;line-height:normal;font-family:Menlo,'DejaVu Sans Mono',consolas,'Courier New',monospace\"><span style=\"color: #7fbfbf; text-decoration-color: #7fbfbf\">[03:20:43] </span><span style=\"color: #000080; text-decoration-color: #000080\">INFO    </span> Fetching POI for runtime optimization                                         <a href=\"file:///home/moritz/dev/uni/mcr-py/notebooks/../src/command/step_config.py\" target=\"_blank\"><span style=\"color: #7f7f7f; text-decoration-color: #7f7f7f\">step_config.py</span></a><span style=\"color: #7f7f7f; text-decoration-color: #7f7f7f\">:</span><a href=\"file:///home/moritz/dev/uni/mcr-py/notebooks/../src/command/step_config.py#51\" target=\"_blank\"><span style=\"color: #7f7f7f; text-decoration-color: #7f7f7f\">51</span></a>\n",
              "</pre>\n"
            ],
            "text/plain": [
              "\u001b[2;36m[03:20:43]\u001b[0m\u001b[2;36m \u001b[0m\u001b[34mINFO    \u001b[0m Fetching POI for runtime optimization                                         \u001b]8;id=252531;file:///home/moritz/dev/uni/mcr-py/notebooks/../src/command/step_config.py\u001b\\\u001b[2mstep_config.py\u001b[0m\u001b]8;;\u001b\\\u001b[2m:\u001b[0m\u001b]8;id=637831;file:///home/moritz/dev/uni/mcr-py/notebooks/../src/command/step_config.py#51\u001b\\\u001b[2m51\u001b[0m\u001b]8;;\u001b\\\n"
            ]
          },
          "metadata": {},
          "output_type": "display_data"
        },
        {
          "data": {
            "text/html": [
              "<pre style=\"white-space:pre;overflow-x:auto;line-height:normal;font-family:Menlo,'DejaVu Sans Mono',consolas,'Courier New',monospace\"><span style=\"color: #7fbfbf; text-decoration-color: #7fbfbf\">           </span><span style=\"color: #000080; text-decoration-color: #000080\">INFO    </span> Fetching POI for runtime optimization done <span style=\"font-weight: bold\">(</span><span style=\"color: #008080; text-decoration-color: #008080; font-weight: bold\">0.05</span> seconds<span style=\"font-weight: bold\">)</span>                     <a href=\"file:///home/moritz/dev/uni/mcr-py/notebooks/../src/command/step_config.py\" target=\"_blank\"><span style=\"color: #7f7f7f; text-decoration-color: #7f7f7f\">step_config.py</span></a><span style=\"color: #7f7f7f; text-decoration-color: #7f7f7f\">:</span><a href=\"file:///home/moritz/dev/uni/mcr-py/notebooks/../src/command/step_config.py#51\" target=\"_blank\"><span style=\"color: #7f7f7f; text-decoration-color: #7f7f7f\">51</span></a>\n",
              "</pre>\n"
            ],
            "text/plain": [
              "\u001b[2;36m          \u001b[0m\u001b[2;36m \u001b[0m\u001b[34mINFO    \u001b[0m Fetching POI for runtime optimization done \u001b[1m(\u001b[0m\u001b[1;36m0.05\u001b[0m seconds\u001b[1m)\u001b[0m                     \u001b]8;id=402735;file:///home/moritz/dev/uni/mcr-py/notebooks/../src/command/step_config.py\u001b\\\u001b[2mstep_config.py\u001b[0m\u001b]8;;\u001b\\\u001b[2m:\u001b[0m\u001b]8;id=568765;file:///home/moritz/dev/uni/mcr-py/notebooks/../src/command/step_config.py#51\u001b\\\u001b[2m51\u001b[0m\u001b]8;;\u001b\\\n"
            ]
          },
          "metadata": {},
          "output_type": "display_data"
        },
        {
          "data": {
            "text/html": [
              "<pre style=\"white-space:pre;overflow-x:auto;line-height:normal;font-family:Menlo,'DejaVu Sans Mono',consolas,'Courier New',monospace\"><span style=\"color: #7fbfbf; text-decoration-color: #7fbfbf\">[03:21:47] </span><span style=\"color: #000080; text-decoration-color: #000080\">INFO    </span> Reading stops                                                           <a href=\"file:///home/moritz/dev/uni/mcr-py/notebooks/../src/package/mcr/steps/public_transport.py\" target=\"_blank\"><span style=\"color: #7f7f7f; text-decoration-color: #7f7f7f\">public_transport.py</span></a><span style=\"color: #7f7f7f; text-decoration-color: #7f7f7f\">:</span><a href=\"file:///home/moritz/dev/uni/mcr-py/notebooks/../src/package/mcr/steps/public_transport.py#144\" target=\"_blank\"><span style=\"color: #7f7f7f; text-decoration-color: #7f7f7f\">144</span></a>\n",
              "</pre>\n"
            ],
            "text/plain": [
              "\u001b[2;36m[03:21:47]\u001b[0m\u001b[2;36m \u001b[0m\u001b[34mINFO    \u001b[0m Reading stops                                                           \u001b]8;id=301848;file:///home/moritz/dev/uni/mcr-py/notebooks/../src/package/mcr/steps/public_transport.py\u001b\\\u001b[2mpublic_transport.py\u001b[0m\u001b]8;;\u001b\\\u001b[2m:\u001b[0m\u001b]8;id=665754;file:///home/moritz/dev/uni/mcr-py/notebooks/../src/package/mcr/steps/public_transport.py#144\u001b\\\u001b[2m144\u001b[0m\u001b]8;;\u001b\\\n"
            ]
          },
          "metadata": {},
          "output_type": "display_data"
        },
        {
          "data": {
            "text/html": [
              "<pre style=\"white-space:pre;overflow-x:auto;line-height:normal;font-family:Menlo,'DejaVu Sans Mono',consolas,'Courier New',monospace\"><span style=\"color: #7fbfbf; text-decoration-color: #7fbfbf\">           </span><span style=\"color: #000080; text-decoration-color: #000080\">INFO    </span> Reading stops done <span style=\"font-weight: bold\">(</span><span style=\"color: #008080; text-decoration-color: #008080; font-weight: bold\">0.19</span> seconds<span style=\"font-weight: bold\">)</span>                                       <a href=\"file:///home/moritz/dev/uni/mcr-py/notebooks/../src/package/mcr/steps/public_transport.py\" target=\"_blank\"><span style=\"color: #7f7f7f; text-decoration-color: #7f7f7f\">public_transport.py</span></a><span style=\"color: #7f7f7f; text-decoration-color: #7f7f7f\">:</span><a href=\"file:///home/moritz/dev/uni/mcr-py/notebooks/../src/package/mcr/steps/public_transport.py#144\" target=\"_blank\"><span style=\"color: #7f7f7f; text-decoration-color: #7f7f7f\">144</span></a>\n",
              "</pre>\n"
            ],
            "text/plain": [
              "\u001b[2;36m          \u001b[0m\u001b[2;36m \u001b[0m\u001b[34mINFO    \u001b[0m Reading stops done \u001b[1m(\u001b[0m\u001b[1;36m0.19\u001b[0m seconds\u001b[1m)\u001b[0m                                       \u001b]8;id=573023;file:///home/moritz/dev/uni/mcr-py/notebooks/../src/package/mcr/steps/public_transport.py\u001b\\\u001b[2mpublic_transport.py\u001b[0m\u001b]8;;\u001b\\\u001b[2m:\u001b[0m\u001b]8;id=867156;file:///home/moritz/dev/uni/mcr-py/notebooks/../src/package/mcr/steps/public_transport.py#144\u001b\\\u001b[2m144\u001b[0m\u001b]8;;\u001b\\\n"
            ]
          },
          "metadata": {},
          "output_type": "display_data"
        },
        {
          "data": {
            "application/vnd.jupyter.widget-view+json": {
              "model_id": "395c293f85dd4297844a3d65a307ca92",
              "version_major": 2,
              "version_minor": 0
            },
            "text/plain": [
              "Starting:   0%|          | 0/1782 [00:00<?, ?it/s]"
            ]
          },
          "metadata": {},
          "output_type": "display_data"
        },
        {
          "data": {
            "text/html": [
              "<pre style=\"white-space:pre;overflow-x:auto;line-height:normal;font-family:Menlo,'DejaVu Sans Mono',consolas,'Courier New',monospace\"><span style=\"color: #7fbfbf; text-decoration-color: #7fbfbf\">[03:37:30] </span><span style=\"color: #000080; text-decoration-color: #000080\">INFO    </span> All processes finished.                                                             <a href=\"file:///home/moritz/dev/uni/mcr-py/notebooks/../src/package/mcr5/mcr5.py\" target=\"_blank\"><span style=\"color: #7f7f7f; text-decoration-color: #7f7f7f\">mcr5.py</span></a><span style=\"color: #7f7f7f; text-decoration-color: #7f7f7f\">:</span><a href=\"file:///home/moritz/dev/uni/mcr-py/notebooks/../src/package/mcr5/mcr5.py#100\" target=\"_blank\"><span style=\"color: #7f7f7f; text-decoration-color: #7f7f7f\">100</span></a>\n",
              "</pre>\n"
            ],
            "text/plain": [
              "\u001b[2;36m[03:37:30]\u001b[0m\u001b[2;36m \u001b[0m\u001b[34mINFO    \u001b[0m All processes finished.                                                             \u001b]8;id=719606;file:///home/moritz/dev/uni/mcr-py/notebooks/../src/package/mcr5/mcr5.py\u001b\\\u001b[2mmcr5.py\u001b[0m\u001b]8;;\u001b\\\u001b[2m:\u001b[0m\u001b]8;id=720370;file:///home/moritz/dev/uni/mcr-py/notebooks/../src/package/mcr5/mcr5.py#100\u001b\\\u001b[2m100\u001b[0m\u001b]8;;\u001b\\\n"
            ]
          },
          "metadata": {},
          "output_type": "display_data"
        },
        {
          "data": {
            "text/html": [
              "<pre style=\"white-space:pre;overflow-x:auto;line-height:normal;font-family:Menlo,'DejaVu Sans Mono',consolas,'Courier New',monospace\"><span style=\"color: #7fbfbf; text-decoration-color: #7fbfbf\">           </span><span style=\"color: #000080; text-decoration-color: #000080\">INFO    </span> Running MCR5 for bicycle_public_transport_11                                     <a href=\"file:///tmp/ipykernel_5877/542061263.py\" target=\"_blank\"><span style=\"color: #7f7f7f; text-decoration-color: #7f7f7f\">542061263.py</span></a><span style=\"color: #7f7f7f; text-decoration-color: #7f7f7f\">:</span><a href=\"file:///tmp/ipykernel_5877/542061263.py#4\" target=\"_blank\"><span style=\"color: #7f7f7f; text-decoration-color: #7f7f7f\">4</span></a>\n",
              "</pre>\n"
            ],
            "text/plain": [
              "\u001b[2;36m          \u001b[0m\u001b[2;36m \u001b[0m\u001b[34mINFO    \u001b[0m Running MCR5 for bicycle_public_transport_11                                     \u001b]8;id=474890;file:///tmp/ipykernel_5877/542061263.py\u001b\\\u001b[2m542061263.py\u001b[0m\u001b]8;;\u001b\\\u001b[2m:\u001b[0m\u001b]8;id=397925;file:///tmp/ipykernel_5877/542061263.py#4\u001b\\\u001b[2m4\u001b[0m\u001b]8;;\u001b\\\n"
            ]
          },
          "metadata": {},
          "output_type": "display_data"
        },
        {
          "data": {
            "text/html": [
              "<pre style=\"white-space:pre;overflow-x:auto;line-height:normal;font-family:Menlo,'DejaVu Sans Mono',consolas,'Courier New',monospace\"><span style=\"color: #7fbfbf; text-decoration-color: #7fbfbf\">           </span><span style=\"color: #000080; text-decoration-color: #000080\">INFO    </span> Using existing OSM data                                                              <a href=\"file:///home/moritz/dev/uni/mcr-py/notebooks/../src/package/osm/osm.py\" target=\"_blank\"><span style=\"color: #7f7f7f; text-decoration-color: #7f7f7f\">osm.py</span></a><span style=\"color: #7f7f7f; text-decoration-color: #7f7f7f\">:</span><a href=\"file:///home/moritz/dev/uni/mcr-py/notebooks/../src/package/osm/osm.py#106\" target=\"_blank\"><span style=\"color: #7f7f7f; text-decoration-color: #7f7f7f\">106</span></a>\n",
              "</pre>\n"
            ],
            "text/plain": [
              "\u001b[2;36m          \u001b[0m\u001b[2;36m \u001b[0m\u001b[34mINFO    \u001b[0m Using existing OSM data                                                              \u001b]8;id=142167;file:///home/moritz/dev/uni/mcr-py/notebooks/../src/package/osm/osm.py\u001b\\\u001b[2mosm.py\u001b[0m\u001b]8;;\u001b\\\u001b[2m:\u001b[0m\u001b]8;id=656656;file:///home/moritz/dev/uni/mcr-py/notebooks/../src/package/osm/osm.py#106\u001b\\\u001b[2m106\u001b[0m\u001b]8;;\u001b\\\n"
            ]
          },
          "metadata": {},
          "output_type": "display_data"
        },
        {
          "data": {
            "text/html": [
              "<pre style=\"white-space:pre;overflow-x:auto;line-height:normal;font-family:Menlo,'DejaVu Sans Mono',consolas,'Courier New',monospace\"><span style=\"color: #7fbfbf; text-decoration-color: #7fbfbf\">           </span><span style=\"color: #000080; text-decoration-color: #000080\">INFO    </span> Loading OSM network from cache <span style=\"font-weight: bold\">(</span>walking<span style=\"font-weight: bold\">)</span>                                              <a href=\"file:///home/moritz/dev/uni/mcr-py/notebooks/../src/package/osm/osm.py\" target=\"_blank\"><span style=\"color: #7f7f7f; text-decoration-color: #7f7f7f\">osm.py</span></a><span style=\"color: #7f7f7f; text-decoration-color: #7f7f7f\">:</span><a href=\"file:///home/moritz/dev/uni/mcr-py/notebooks/../src/package/osm/osm.py#69\" target=\"_blank\"><span style=\"color: #7f7f7f; text-decoration-color: #7f7f7f\">69</span></a>\n",
              "</pre>\n"
            ],
            "text/plain": [
              "\u001b[2;36m          \u001b[0m\u001b[2;36m \u001b[0m\u001b[34mINFO    \u001b[0m Loading OSM network from cache \u001b[1m(\u001b[0mwalking\u001b[1m)\u001b[0m                                              \u001b]8;id=840338;file:///home/moritz/dev/uni/mcr-py/notebooks/../src/package/osm/osm.py\u001b\\\u001b[2mosm.py\u001b[0m\u001b]8;;\u001b\\\u001b[2m:\u001b[0m\u001b]8;id=796054;file:///home/moritz/dev/uni/mcr-py/notebooks/../src/package/osm/osm.py#69\u001b\\\u001b[2m69\u001b[0m\u001b]8;;\u001b\\\n"
            ]
          },
          "metadata": {},
          "output_type": "display_data"
        },
        {
          "data": {
            "text/html": [
              "<pre style=\"white-space:pre;overflow-x:auto;line-height:normal;font-family:Menlo,'DejaVu Sans Mono',consolas,'Courier New',monospace\"><span style=\"color: #7fbfbf; text-decoration-color: #7fbfbf\">[03:38:39] </span><span style=\"color: #000080; text-decoration-color: #000080\">INFO    </span> Using existing OSM data                                                              <a href=\"file:///home/moritz/dev/uni/mcr-py/notebooks/../src/package/osm/osm.py\" target=\"_blank\"><span style=\"color: #7f7f7f; text-decoration-color: #7f7f7f\">osm.py</span></a><span style=\"color: #7f7f7f; text-decoration-color: #7f7f7f\">:</span><a href=\"file:///home/moritz/dev/uni/mcr-py/notebooks/../src/package/osm/osm.py#106\" target=\"_blank\"><span style=\"color: #7f7f7f; text-decoration-color: #7f7f7f\">106</span></a>\n",
              "</pre>\n"
            ],
            "text/plain": [
              "\u001b[2;36m[03:38:39]\u001b[0m\u001b[2;36m \u001b[0m\u001b[34mINFO    \u001b[0m Using existing OSM data                                                              \u001b]8;id=356166;file:///home/moritz/dev/uni/mcr-py/notebooks/../src/package/osm/osm.py\u001b\\\u001b[2mosm.py\u001b[0m\u001b]8;;\u001b\\\u001b[2m:\u001b[0m\u001b]8;id=18208;file:///home/moritz/dev/uni/mcr-py/notebooks/../src/package/osm/osm.py#106\u001b\\\u001b[2m106\u001b[0m\u001b]8;;\u001b\\\n"
            ]
          },
          "metadata": {},
          "output_type": "display_data"
        },
        {
          "data": {
            "text/html": [
              "<pre style=\"white-space:pre;overflow-x:auto;line-height:normal;font-family:Menlo,'DejaVu Sans Mono',consolas,'Courier New',monospace\"><span style=\"color: #7fbfbf; text-decoration-color: #7fbfbf\">           </span><span style=\"color: #000080; text-decoration-color: #000080\">INFO    </span> Loading OSM network from cache <span style=\"font-weight: bold\">(</span>cycling<span style=\"font-weight: bold\">)</span>                                              <a href=\"file:///home/moritz/dev/uni/mcr-py/notebooks/../src/package/osm/osm.py\" target=\"_blank\"><span style=\"color: #7f7f7f; text-decoration-color: #7f7f7f\">osm.py</span></a><span style=\"color: #7f7f7f; text-decoration-color: #7f7f7f\">:</span><a href=\"file:///home/moritz/dev/uni/mcr-py/notebooks/../src/package/osm/osm.py#69\" target=\"_blank\"><span style=\"color: #7f7f7f; text-decoration-color: #7f7f7f\">69</span></a>\n",
              "</pre>\n"
            ],
            "text/plain": [
              "\u001b[2;36m          \u001b[0m\u001b[2;36m \u001b[0m\u001b[34mINFO    \u001b[0m Loading OSM network from cache \u001b[1m(\u001b[0mcycling\u001b[1m)\u001b[0m                                              \u001b]8;id=571508;file:///home/moritz/dev/uni/mcr-py/notebooks/../src/package/osm/osm.py\u001b\\\u001b[2mosm.py\u001b[0m\u001b]8;;\u001b\\\u001b[2m:\u001b[0m\u001b]8;id=142789;file:///home/moritz/dev/uni/mcr-py/notebooks/../src/package/osm/osm.py#69\u001b\\\u001b[2m69\u001b[0m\u001b]8;;\u001b\\\n"
            ]
          },
          "metadata": {},
          "output_type": "display_data"
        },
        {
          "data": {
            "text/html": [
              "<pre style=\"white-space:pre;overflow-x:auto;line-height:normal;font-family:Menlo,'DejaVu Sans Mono',consolas,'Courier New',monospace\"><span style=\"color: #7fbfbf; text-decoration-color: #7fbfbf\">[03:39:42] </span><span style=\"color: #000080; text-decoration-color: #000080\">INFO    </span> Fetching POI for runtime optimization                                         <a href=\"file:///home/moritz/dev/uni/mcr-py/notebooks/../src/command/step_config.py\" target=\"_blank\"><span style=\"color: #7f7f7f; text-decoration-color: #7f7f7f\">step_config.py</span></a><span style=\"color: #7f7f7f; text-decoration-color: #7f7f7f\">:</span><a href=\"file:///home/moritz/dev/uni/mcr-py/notebooks/../src/command/step_config.py#51\" target=\"_blank\"><span style=\"color: #7f7f7f; text-decoration-color: #7f7f7f\">51</span></a>\n",
              "</pre>\n"
            ],
            "text/plain": [
              "\u001b[2;36m[03:39:42]\u001b[0m\u001b[2;36m \u001b[0m\u001b[34mINFO    \u001b[0m Fetching POI for runtime optimization                                         \u001b]8;id=490061;file:///home/moritz/dev/uni/mcr-py/notebooks/../src/command/step_config.py\u001b\\\u001b[2mstep_config.py\u001b[0m\u001b]8;;\u001b\\\u001b[2m:\u001b[0m\u001b]8;id=238722;file:///home/moritz/dev/uni/mcr-py/notebooks/../src/command/step_config.py#51\u001b\\\u001b[2m51\u001b[0m\u001b]8;;\u001b\\\n"
            ]
          },
          "metadata": {},
          "output_type": "display_data"
        },
        {
          "data": {
            "text/html": [
              "<pre style=\"white-space:pre;overflow-x:auto;line-height:normal;font-family:Menlo,'DejaVu Sans Mono',consolas,'Courier New',monospace\"><span style=\"color: #7fbfbf; text-decoration-color: #7fbfbf\">           </span><span style=\"color: #000080; text-decoration-color: #000080\">INFO    </span> Fetching POI for runtime optimization done <span style=\"font-weight: bold\">(</span><span style=\"color: #008080; text-decoration-color: #008080; font-weight: bold\">0.07</span> seconds<span style=\"font-weight: bold\">)</span>                     <a href=\"file:///home/moritz/dev/uni/mcr-py/notebooks/../src/command/step_config.py\" target=\"_blank\"><span style=\"color: #7f7f7f; text-decoration-color: #7f7f7f\">step_config.py</span></a><span style=\"color: #7f7f7f; text-decoration-color: #7f7f7f\">:</span><a href=\"file:///home/moritz/dev/uni/mcr-py/notebooks/../src/command/step_config.py#51\" target=\"_blank\"><span style=\"color: #7f7f7f; text-decoration-color: #7f7f7f\">51</span></a>\n",
              "</pre>\n"
            ],
            "text/plain": [
              "\u001b[2;36m          \u001b[0m\u001b[2;36m \u001b[0m\u001b[34mINFO    \u001b[0m Fetching POI for runtime optimization done \u001b[1m(\u001b[0m\u001b[1;36m0.07\u001b[0m seconds\u001b[1m)\u001b[0m                     \u001b]8;id=938855;file:///home/moritz/dev/uni/mcr-py/notebooks/../src/command/step_config.py\u001b\\\u001b[2mstep_config.py\u001b[0m\u001b]8;;\u001b\\\u001b[2m:\u001b[0m\u001b]8;id=670977;file:///home/moritz/dev/uni/mcr-py/notebooks/../src/command/step_config.py#51\u001b\\\u001b[2m51\u001b[0m\u001b]8;;\u001b\\\n"
            ]
          },
          "metadata": {},
          "output_type": "display_data"
        },
        {
          "data": {
            "text/html": [
              "<pre style=\"white-space:pre;overflow-x:auto;line-height:normal;font-family:Menlo,'DejaVu Sans Mono',consolas,'Courier New',monospace\"><span style=\"color: #7fbfbf; text-decoration-color: #7fbfbf\">[03:40:46] </span><span style=\"color: #000080; text-decoration-color: #000080\">INFO    </span> Reading stops                                                           <a href=\"file:///home/moritz/dev/uni/mcr-py/notebooks/../src/package/mcr/steps/public_transport.py\" target=\"_blank\"><span style=\"color: #7f7f7f; text-decoration-color: #7f7f7f\">public_transport.py</span></a><span style=\"color: #7f7f7f; text-decoration-color: #7f7f7f\">:</span><a href=\"file:///home/moritz/dev/uni/mcr-py/notebooks/../src/package/mcr/steps/public_transport.py#144\" target=\"_blank\"><span style=\"color: #7f7f7f; text-decoration-color: #7f7f7f\">144</span></a>\n",
              "</pre>\n"
            ],
            "text/plain": [
              "\u001b[2;36m[03:40:46]\u001b[0m\u001b[2;36m \u001b[0m\u001b[34mINFO    \u001b[0m Reading stops                                                           \u001b]8;id=706776;file:///home/moritz/dev/uni/mcr-py/notebooks/../src/package/mcr/steps/public_transport.py\u001b\\\u001b[2mpublic_transport.py\u001b[0m\u001b]8;;\u001b\\\u001b[2m:\u001b[0m\u001b]8;id=593082;file:///home/moritz/dev/uni/mcr-py/notebooks/../src/package/mcr/steps/public_transport.py#144\u001b\\\u001b[2m144\u001b[0m\u001b]8;;\u001b\\\n"
            ]
          },
          "metadata": {},
          "output_type": "display_data"
        },
        {
          "data": {
            "text/html": [
              "<pre style=\"white-space:pre;overflow-x:auto;line-height:normal;font-family:Menlo,'DejaVu Sans Mono',consolas,'Courier New',monospace\"><span style=\"color: #7fbfbf; text-decoration-color: #7fbfbf\">           </span><span style=\"color: #000080; text-decoration-color: #000080\">INFO    </span> Reading stops done <span style=\"font-weight: bold\">(</span><span style=\"color: #008080; text-decoration-color: #008080; font-weight: bold\">0.27</span> seconds<span style=\"font-weight: bold\">)</span>                                       <a href=\"file:///home/moritz/dev/uni/mcr-py/notebooks/../src/package/mcr/steps/public_transport.py\" target=\"_blank\"><span style=\"color: #7f7f7f; text-decoration-color: #7f7f7f\">public_transport.py</span></a><span style=\"color: #7f7f7f; text-decoration-color: #7f7f7f\">:</span><a href=\"file:///home/moritz/dev/uni/mcr-py/notebooks/../src/package/mcr/steps/public_transport.py#144\" target=\"_blank\"><span style=\"color: #7f7f7f; text-decoration-color: #7f7f7f\">144</span></a>\n",
              "</pre>\n"
            ],
            "text/plain": [
              "\u001b[2;36m          \u001b[0m\u001b[2;36m \u001b[0m\u001b[34mINFO    \u001b[0m Reading stops done \u001b[1m(\u001b[0m\u001b[1;36m0.27\u001b[0m seconds\u001b[1m)\u001b[0m                                       \u001b]8;id=195037;file:///home/moritz/dev/uni/mcr-py/notebooks/../src/package/mcr/steps/public_transport.py\u001b\\\u001b[2mpublic_transport.py\u001b[0m\u001b]8;;\u001b\\\u001b[2m:\u001b[0m\u001b]8;id=328785;file:///home/moritz/dev/uni/mcr-py/notebooks/../src/package/mcr/steps/public_transport.py#144\u001b\\\u001b[2m144\u001b[0m\u001b]8;;\u001b\\\n"
            ]
          },
          "metadata": {},
          "output_type": "display_data"
        },
        {
          "data": {
            "application/vnd.jupyter.widget-view+json": {
              "model_id": "f7975f77970448d395fc15583634dcfe",
              "version_major": 2,
              "version_minor": 0
            },
            "text/plain": [
              "Starting:   0%|          | 0/1782 [00:00<?, ?it/s]"
            ]
          },
          "metadata": {},
          "output_type": "display_data"
        },
        {
          "data": {
            "text/html": [
              "<pre style=\"white-space:pre;overflow-x:auto;line-height:normal;font-family:Menlo,'DejaVu Sans Mono',consolas,'Courier New',monospace\"><span style=\"color: #7fbfbf; text-decoration-color: #7fbfbf\">[03:56:09] </span><span style=\"color: #000080; text-decoration-color: #000080\">INFO    </span> All processes finished.                                                             <a href=\"file:///home/moritz/dev/uni/mcr-py/notebooks/../src/package/mcr5/mcr5.py\" target=\"_blank\"><span style=\"color: #7f7f7f; text-decoration-color: #7f7f7f\">mcr5.py</span></a><span style=\"color: #7f7f7f; text-decoration-color: #7f7f7f\">:</span><a href=\"file:///home/moritz/dev/uni/mcr-py/notebooks/../src/package/mcr5/mcr5.py#100\" target=\"_blank\"><span style=\"color: #7f7f7f; text-decoration-color: #7f7f7f\">100</span></a>\n",
              "</pre>\n"
            ],
            "text/plain": [
              "\u001b[2;36m[03:56:09]\u001b[0m\u001b[2;36m \u001b[0m\u001b[34mINFO    \u001b[0m All processes finished.                                                             \u001b]8;id=381569;file:///home/moritz/dev/uni/mcr-py/notebooks/../src/package/mcr5/mcr5.py\u001b\\\u001b[2mmcr5.py\u001b[0m\u001b]8;;\u001b\\\u001b[2m:\u001b[0m\u001b]8;id=688456;file:///home/moritz/dev/uni/mcr-py/notebooks/../src/package/mcr5/mcr5.py#100\u001b\\\u001b[2m100\u001b[0m\u001b]8;;\u001b\\\n"
            ]
          },
          "metadata": {},
          "output_type": "display_data"
        },
        {
          "data": {
            "text/html": [
              "<pre style=\"white-space:pre;overflow-x:auto;line-height:normal;font-family:Menlo,'DejaVu Sans Mono',consolas,'Courier New',monospace\"><span style=\"color: #7fbfbf; text-decoration-color: #7fbfbf\">           </span><span style=\"color: #000080; text-decoration-color: #000080\">INFO    </span> Running MCR5 for public_transport_0                                              <a href=\"file:///tmp/ipykernel_5877/542061263.py\" target=\"_blank\"><span style=\"color: #7f7f7f; text-decoration-color: #7f7f7f\">542061263.py</span></a><span style=\"color: #7f7f7f; text-decoration-color: #7f7f7f\">:</span><a href=\"file:///tmp/ipykernel_5877/542061263.py#4\" target=\"_blank\"><span style=\"color: #7f7f7f; text-decoration-color: #7f7f7f\">4</span></a>\n",
              "</pre>\n"
            ],
            "text/plain": [
              "\u001b[2;36m          \u001b[0m\u001b[2;36m \u001b[0m\u001b[34mINFO    \u001b[0m Running MCR5 for public_transport_0                                              \u001b]8;id=559197;file:///tmp/ipykernel_5877/542061263.py\u001b\\\u001b[2m542061263.py\u001b[0m\u001b]8;;\u001b\\\u001b[2m:\u001b[0m\u001b]8;id=267052;file:///tmp/ipykernel_5877/542061263.py#4\u001b\\\u001b[2m4\u001b[0m\u001b]8;;\u001b\\\n"
            ]
          },
          "metadata": {},
          "output_type": "display_data"
        },
        {
          "data": {
            "text/html": [
              "<pre style=\"white-space:pre;overflow-x:auto;line-height:normal;font-family:Menlo,'DejaVu Sans Mono',consolas,'Courier New',monospace\"><span style=\"color: #7fbfbf; text-decoration-color: #7fbfbf\">           </span><span style=\"color: #000080; text-decoration-color: #000080\">INFO    </span> Using existing OSM data                                                              <a href=\"file:///home/moritz/dev/uni/mcr-py/notebooks/../src/package/osm/osm.py\" target=\"_blank\"><span style=\"color: #7f7f7f; text-decoration-color: #7f7f7f\">osm.py</span></a><span style=\"color: #7f7f7f; text-decoration-color: #7f7f7f\">:</span><a href=\"file:///home/moritz/dev/uni/mcr-py/notebooks/../src/package/osm/osm.py#106\" target=\"_blank\"><span style=\"color: #7f7f7f; text-decoration-color: #7f7f7f\">106</span></a>\n",
              "</pre>\n"
            ],
            "text/plain": [
              "\u001b[2;36m          \u001b[0m\u001b[2;36m \u001b[0m\u001b[34mINFO    \u001b[0m Using existing OSM data                                                              \u001b]8;id=382450;file:///home/moritz/dev/uni/mcr-py/notebooks/../src/package/osm/osm.py\u001b\\\u001b[2mosm.py\u001b[0m\u001b]8;;\u001b\\\u001b[2m:\u001b[0m\u001b]8;id=373940;file:///home/moritz/dev/uni/mcr-py/notebooks/../src/package/osm/osm.py#106\u001b\\\u001b[2m106\u001b[0m\u001b]8;;\u001b\\\n"
            ]
          },
          "metadata": {},
          "output_type": "display_data"
        },
        {
          "data": {
            "text/html": [
              "<pre style=\"white-space:pre;overflow-x:auto;line-height:normal;font-family:Menlo,'DejaVu Sans Mono',consolas,'Courier New',monospace\"><span style=\"color: #7fbfbf; text-decoration-color: #7fbfbf\">           </span><span style=\"color: #000080; text-decoration-color: #000080\">INFO    </span> Loading OSM network from cache <span style=\"font-weight: bold\">(</span>walking<span style=\"font-weight: bold\">)</span>                                              <a href=\"file:///home/moritz/dev/uni/mcr-py/notebooks/../src/package/osm/osm.py\" target=\"_blank\"><span style=\"color: #7f7f7f; text-decoration-color: #7f7f7f\">osm.py</span></a><span style=\"color: #7f7f7f; text-decoration-color: #7f7f7f\">:</span><a href=\"file:///home/moritz/dev/uni/mcr-py/notebooks/../src/package/osm/osm.py#69\" target=\"_blank\"><span style=\"color: #7f7f7f; text-decoration-color: #7f7f7f\">69</span></a>\n",
              "</pre>\n"
            ],
            "text/plain": [
              "\u001b[2;36m          \u001b[0m\u001b[2;36m \u001b[0m\u001b[34mINFO    \u001b[0m Loading OSM network from cache \u001b[1m(\u001b[0mwalking\u001b[1m)\u001b[0m                                              \u001b]8;id=864724;file:///home/moritz/dev/uni/mcr-py/notebooks/../src/package/osm/osm.py\u001b\\\u001b[2mosm.py\u001b[0m\u001b]8;;\u001b\\\u001b[2m:\u001b[0m\u001b]8;id=321828;file:///home/moritz/dev/uni/mcr-py/notebooks/../src/package/osm/osm.py#69\u001b\\\u001b[2m69\u001b[0m\u001b]8;;\u001b\\\n"
            ]
          },
          "metadata": {},
          "output_type": "display_data"
        },
        {
          "data": {
            "text/html": [
              "<pre style=\"white-space:pre;overflow-x:auto;line-height:normal;font-family:Menlo,'DejaVu Sans Mono',consolas,'Courier New',monospace\"><span style=\"color: #7fbfbf; text-decoration-color: #7fbfbf\">[03:57:21] </span><span style=\"color: #000080; text-decoration-color: #000080\">INFO    </span> Fetching POI for runtime optimization                                        <a href=\"file:///home/moritz/dev/uni/mcr-py/notebooks/../src/command/step_config.py\" target=\"_blank\"><span style=\"color: #7f7f7f; text-decoration-color: #7f7f7f\">step_config.py</span></a><span style=\"color: #7f7f7f; text-decoration-color: #7f7f7f\">:</span><a href=\"file:///home/moritz/dev/uni/mcr-py/notebooks/../src/command/step_config.py#145\" target=\"_blank\"><span style=\"color: #7f7f7f; text-decoration-color: #7f7f7f\">145</span></a>\n",
              "</pre>\n"
            ],
            "text/plain": [
              "\u001b[2;36m[03:57:21]\u001b[0m\u001b[2;36m \u001b[0m\u001b[34mINFO    \u001b[0m Fetching POI for runtime optimization                                        \u001b]8;id=532468;file:///home/moritz/dev/uni/mcr-py/notebooks/../src/command/step_config.py\u001b\\\u001b[2mstep_config.py\u001b[0m\u001b]8;;\u001b\\\u001b[2m:\u001b[0m\u001b]8;id=771233;file:///home/moritz/dev/uni/mcr-py/notebooks/../src/command/step_config.py#145\u001b\\\u001b[2m145\u001b[0m\u001b]8;;\u001b\\\n"
            ]
          },
          "metadata": {},
          "output_type": "display_data"
        },
        {
          "data": {
            "text/html": [
              "<pre style=\"white-space:pre;overflow-x:auto;line-height:normal;font-family:Menlo,'DejaVu Sans Mono',consolas,'Courier New',monospace\"><span style=\"color: #7fbfbf; text-decoration-color: #7fbfbf\">           </span><span style=\"color: #000080; text-decoration-color: #000080\">INFO    </span> Fetching POI for runtime optimization done <span style=\"font-weight: bold\">(</span><span style=\"color: #008080; text-decoration-color: #008080; font-weight: bold\">0.06</span> seconds<span style=\"font-weight: bold\">)</span>                    <a href=\"file:///home/moritz/dev/uni/mcr-py/notebooks/../src/command/step_config.py\" target=\"_blank\"><span style=\"color: #7f7f7f; text-decoration-color: #7f7f7f\">step_config.py</span></a><span style=\"color: #7f7f7f; text-decoration-color: #7f7f7f\">:</span><a href=\"file:///home/moritz/dev/uni/mcr-py/notebooks/../src/command/step_config.py#145\" target=\"_blank\"><span style=\"color: #7f7f7f; text-decoration-color: #7f7f7f\">145</span></a>\n",
              "</pre>\n"
            ],
            "text/plain": [
              "\u001b[2;36m          \u001b[0m\u001b[2;36m \u001b[0m\u001b[34mINFO    \u001b[0m Fetching POI for runtime optimization done \u001b[1m(\u001b[0m\u001b[1;36m0.06\u001b[0m seconds\u001b[1m)\u001b[0m                    \u001b]8;id=999674;file:///home/moritz/dev/uni/mcr-py/notebooks/../src/command/step_config.py\u001b\\\u001b[2mstep_config.py\u001b[0m\u001b]8;;\u001b\\\u001b[2m:\u001b[0m\u001b]8;id=929125;file:///home/moritz/dev/uni/mcr-py/notebooks/../src/command/step_config.py#145\u001b\\\u001b[2m145\u001b[0m\u001b]8;;\u001b\\\n"
            ]
          },
          "metadata": {},
          "output_type": "display_data"
        },
        {
          "data": {
            "text/html": [
              "<pre style=\"white-space:pre;overflow-x:auto;line-height:normal;font-family:Menlo,'DejaVu Sans Mono',consolas,'Courier New',monospace\"><span style=\"color: #7fbfbf; text-decoration-color: #7fbfbf\">[03:57:44] </span><span style=\"color: #000080; text-decoration-color: #000080\">INFO    </span> Reading stops                                                           <a href=\"file:///home/moritz/dev/uni/mcr-py/notebooks/../src/package/mcr/steps/public_transport.py\" target=\"_blank\"><span style=\"color: #7f7f7f; text-decoration-color: #7f7f7f\">public_transport.py</span></a><span style=\"color: #7f7f7f; text-decoration-color: #7f7f7f\">:</span><a href=\"file:///home/moritz/dev/uni/mcr-py/notebooks/../src/package/mcr/steps/public_transport.py#144\" target=\"_blank\"><span style=\"color: #7f7f7f; text-decoration-color: #7f7f7f\">144</span></a>\n",
              "</pre>\n"
            ],
            "text/plain": [
              "\u001b[2;36m[03:57:44]\u001b[0m\u001b[2;36m \u001b[0m\u001b[34mINFO    \u001b[0m Reading stops                                                           \u001b]8;id=799611;file:///home/moritz/dev/uni/mcr-py/notebooks/../src/package/mcr/steps/public_transport.py\u001b\\\u001b[2mpublic_transport.py\u001b[0m\u001b]8;;\u001b\\\u001b[2m:\u001b[0m\u001b]8;id=308514;file:///home/moritz/dev/uni/mcr-py/notebooks/../src/package/mcr/steps/public_transport.py#144\u001b\\\u001b[2m144\u001b[0m\u001b]8;;\u001b\\\n"
            ]
          },
          "metadata": {},
          "output_type": "display_data"
        },
        {
          "data": {
            "text/html": [
              "<pre style=\"white-space:pre;overflow-x:auto;line-height:normal;font-family:Menlo,'DejaVu Sans Mono',consolas,'Courier New',monospace\"><span style=\"color: #7fbfbf; text-decoration-color: #7fbfbf\">           </span><span style=\"color: #000080; text-decoration-color: #000080\">INFO    </span> Reading stops done <span style=\"font-weight: bold\">(</span><span style=\"color: #008080; text-decoration-color: #008080; font-weight: bold\">0.21</span> seconds<span style=\"font-weight: bold\">)</span>                                       <a href=\"file:///home/moritz/dev/uni/mcr-py/notebooks/../src/package/mcr/steps/public_transport.py\" target=\"_blank\"><span style=\"color: #7f7f7f; text-decoration-color: #7f7f7f\">public_transport.py</span></a><span style=\"color: #7f7f7f; text-decoration-color: #7f7f7f\">:</span><a href=\"file:///home/moritz/dev/uni/mcr-py/notebooks/../src/package/mcr/steps/public_transport.py#144\" target=\"_blank\"><span style=\"color: #7f7f7f; text-decoration-color: #7f7f7f\">144</span></a>\n",
              "</pre>\n"
            ],
            "text/plain": [
              "\u001b[2;36m          \u001b[0m\u001b[2;36m \u001b[0m\u001b[34mINFO    \u001b[0m Reading stops done \u001b[1m(\u001b[0m\u001b[1;36m0.21\u001b[0m seconds\u001b[1m)\u001b[0m                                       \u001b]8;id=918505;file:///home/moritz/dev/uni/mcr-py/notebooks/../src/package/mcr/steps/public_transport.py\u001b\\\u001b[2mpublic_transport.py\u001b[0m\u001b]8;;\u001b\\\u001b[2m:\u001b[0m\u001b]8;id=402273;file:///home/moritz/dev/uni/mcr-py/notebooks/../src/package/mcr/steps/public_transport.py#144\u001b\\\u001b[2m144\u001b[0m\u001b]8;;\u001b\\\n"
            ]
          },
          "metadata": {},
          "output_type": "display_data"
        },
        {
          "data": {
            "application/vnd.jupyter.widget-view+json": {
              "model_id": "708ef3fe53044ab58acb6d41c301207a",
              "version_major": 2,
              "version_minor": 0
            },
            "text/plain": [
              "Starting:   0%|          | 0/1782 [00:00<?, ?it/s]"
            ]
          },
          "metadata": {},
          "output_type": "display_data"
        },
        {
          "data": {
            "text/html": [
              "<pre style=\"white-space:pre;overflow-x:auto;line-height:normal;font-family:Menlo,'DejaVu Sans Mono',consolas,'Courier New',monospace\"><span style=\"color: #7fbfbf; text-decoration-color: #7fbfbf\">[04:12:12] </span><span style=\"color: #000080; text-decoration-color: #000080\">INFO    </span> All processes finished.                                                             <a href=\"file:///home/moritz/dev/uni/mcr-py/notebooks/../src/package/mcr5/mcr5.py\" target=\"_blank\"><span style=\"color: #7f7f7f; text-decoration-color: #7f7f7f\">mcr5.py</span></a><span style=\"color: #7f7f7f; text-decoration-color: #7f7f7f\">:</span><a href=\"file:///home/moritz/dev/uni/mcr-py/notebooks/../src/package/mcr5/mcr5.py#100\" target=\"_blank\"><span style=\"color: #7f7f7f; text-decoration-color: #7f7f7f\">100</span></a>\n",
              "</pre>\n"
            ],
            "text/plain": [
              "\u001b[2;36m[04:12:12]\u001b[0m\u001b[2;36m \u001b[0m\u001b[34mINFO    \u001b[0m All processes finished.                                                             \u001b]8;id=546425;file:///home/moritz/dev/uni/mcr-py/notebooks/../src/package/mcr5/mcr5.py\u001b\\\u001b[2mmcr5.py\u001b[0m\u001b]8;;\u001b\\\u001b[2m:\u001b[0m\u001b]8;id=271416;file:///home/moritz/dev/uni/mcr-py/notebooks/../src/package/mcr5/mcr5.py#100\u001b\\\u001b[2m100\u001b[0m\u001b]8;;\u001b\\\n"
            ]
          },
          "metadata": {},
          "output_type": "display_data"
        },
        {
          "data": {
            "text/html": [
              "<pre style=\"white-space:pre;overflow-x:auto;line-height:normal;font-family:Menlo,'DejaVu Sans Mono',consolas,'Courier New',monospace\"><span style=\"color: #7fbfbf; text-decoration-color: #7fbfbf\">           </span><span style=\"color: #000080; text-decoration-color: #000080\">INFO    </span> Running MCR5 for public_transport_1                                              <a href=\"file:///tmp/ipykernel_5877/542061263.py\" target=\"_blank\"><span style=\"color: #7f7f7f; text-decoration-color: #7f7f7f\">542061263.py</span></a><span style=\"color: #7f7f7f; text-decoration-color: #7f7f7f\">:</span><a href=\"file:///tmp/ipykernel_5877/542061263.py#4\" target=\"_blank\"><span style=\"color: #7f7f7f; text-decoration-color: #7f7f7f\">4</span></a>\n",
              "</pre>\n"
            ],
            "text/plain": [
              "\u001b[2;36m          \u001b[0m\u001b[2;36m \u001b[0m\u001b[34mINFO    \u001b[0m Running MCR5 for public_transport_1                                              \u001b]8;id=185857;file:///tmp/ipykernel_5877/542061263.py\u001b\\\u001b[2m542061263.py\u001b[0m\u001b]8;;\u001b\\\u001b[2m:\u001b[0m\u001b]8;id=828711;file:///tmp/ipykernel_5877/542061263.py#4\u001b\\\u001b[2m4\u001b[0m\u001b]8;;\u001b\\\n"
            ]
          },
          "metadata": {},
          "output_type": "display_data"
        },
        {
          "data": {
            "text/html": [
              "<pre style=\"white-space:pre;overflow-x:auto;line-height:normal;font-family:Menlo,'DejaVu Sans Mono',consolas,'Courier New',monospace\"><span style=\"color: #7fbfbf; text-decoration-color: #7fbfbf\">[04:12:13] </span><span style=\"color: #000080; text-decoration-color: #000080\">INFO    </span> Using existing OSM data                                                              <a href=\"file:///home/moritz/dev/uni/mcr-py/notebooks/../src/package/osm/osm.py\" target=\"_blank\"><span style=\"color: #7f7f7f; text-decoration-color: #7f7f7f\">osm.py</span></a><span style=\"color: #7f7f7f; text-decoration-color: #7f7f7f\">:</span><a href=\"file:///home/moritz/dev/uni/mcr-py/notebooks/../src/package/osm/osm.py#106\" target=\"_blank\"><span style=\"color: #7f7f7f; text-decoration-color: #7f7f7f\">106</span></a>\n",
              "</pre>\n"
            ],
            "text/plain": [
              "\u001b[2;36m[04:12:13]\u001b[0m\u001b[2;36m \u001b[0m\u001b[34mINFO    \u001b[0m Using existing OSM data                                                              \u001b]8;id=569661;file:///home/moritz/dev/uni/mcr-py/notebooks/../src/package/osm/osm.py\u001b\\\u001b[2mosm.py\u001b[0m\u001b]8;;\u001b\\\u001b[2m:\u001b[0m\u001b]8;id=46598;file:///home/moritz/dev/uni/mcr-py/notebooks/../src/package/osm/osm.py#106\u001b\\\u001b[2m106\u001b[0m\u001b]8;;\u001b\\\n"
            ]
          },
          "metadata": {},
          "output_type": "display_data"
        },
        {
          "data": {
            "text/html": [
              "<pre style=\"white-space:pre;overflow-x:auto;line-height:normal;font-family:Menlo,'DejaVu Sans Mono',consolas,'Courier New',monospace\"><span style=\"color: #7fbfbf; text-decoration-color: #7fbfbf\">           </span><span style=\"color: #000080; text-decoration-color: #000080\">INFO    </span> Loading OSM network from cache <span style=\"font-weight: bold\">(</span>walking<span style=\"font-weight: bold\">)</span>                                              <a href=\"file:///home/moritz/dev/uni/mcr-py/notebooks/../src/package/osm/osm.py\" target=\"_blank\"><span style=\"color: #7f7f7f; text-decoration-color: #7f7f7f\">osm.py</span></a><span style=\"color: #7f7f7f; text-decoration-color: #7f7f7f\">:</span><a href=\"file:///home/moritz/dev/uni/mcr-py/notebooks/../src/package/osm/osm.py#69\" target=\"_blank\"><span style=\"color: #7f7f7f; text-decoration-color: #7f7f7f\">69</span></a>\n",
              "</pre>\n"
            ],
            "text/plain": [
              "\u001b[2;36m          \u001b[0m\u001b[2;36m \u001b[0m\u001b[34mINFO    \u001b[0m Loading OSM network from cache \u001b[1m(\u001b[0mwalking\u001b[1m)\u001b[0m                                              \u001b]8;id=258485;file:///home/moritz/dev/uni/mcr-py/notebooks/../src/package/osm/osm.py\u001b\\\u001b[2mosm.py\u001b[0m\u001b]8;;\u001b\\\u001b[2m:\u001b[0m\u001b]8;id=349332;file:///home/moritz/dev/uni/mcr-py/notebooks/../src/package/osm/osm.py#69\u001b\\\u001b[2m69\u001b[0m\u001b]8;;\u001b\\\n"
            ]
          },
          "metadata": {},
          "output_type": "display_data"
        },
        {
          "data": {
            "text/html": [
              "<pre style=\"white-space:pre;overflow-x:auto;line-height:normal;font-family:Menlo,'DejaVu Sans Mono',consolas,'Courier New',monospace\"><span style=\"color: #7fbfbf; text-decoration-color: #7fbfbf\">[04:13:28] </span><span style=\"color: #000080; text-decoration-color: #000080\">INFO    </span> Fetching POI for runtime optimization                                        <a href=\"file:///home/moritz/dev/uni/mcr-py/notebooks/../src/command/step_config.py\" target=\"_blank\"><span style=\"color: #7f7f7f; text-decoration-color: #7f7f7f\">step_config.py</span></a><span style=\"color: #7f7f7f; text-decoration-color: #7f7f7f\">:</span><a href=\"file:///home/moritz/dev/uni/mcr-py/notebooks/../src/command/step_config.py#145\" target=\"_blank\"><span style=\"color: #7f7f7f; text-decoration-color: #7f7f7f\">145</span></a>\n",
              "</pre>\n"
            ],
            "text/plain": [
              "\u001b[2;36m[04:13:28]\u001b[0m\u001b[2;36m \u001b[0m\u001b[34mINFO    \u001b[0m Fetching POI for runtime optimization                                        \u001b]8;id=251957;file:///home/moritz/dev/uni/mcr-py/notebooks/../src/command/step_config.py\u001b\\\u001b[2mstep_config.py\u001b[0m\u001b]8;;\u001b\\\u001b[2m:\u001b[0m\u001b]8;id=380736;file:///home/moritz/dev/uni/mcr-py/notebooks/../src/command/step_config.py#145\u001b\\\u001b[2m145\u001b[0m\u001b]8;;\u001b\\\n"
            ]
          },
          "metadata": {},
          "output_type": "display_data"
        },
        {
          "data": {
            "text/html": [
              "<pre style=\"white-space:pre;overflow-x:auto;line-height:normal;font-family:Menlo,'DejaVu Sans Mono',consolas,'Courier New',monospace\"><span style=\"color: #7fbfbf; text-decoration-color: #7fbfbf\">           </span><span style=\"color: #000080; text-decoration-color: #000080\">INFO    </span> Fetching POI for runtime optimization done <span style=\"font-weight: bold\">(</span><span style=\"color: #008080; text-decoration-color: #008080; font-weight: bold\">0.05</span> seconds<span style=\"font-weight: bold\">)</span>                    <a href=\"file:///home/moritz/dev/uni/mcr-py/notebooks/../src/command/step_config.py\" target=\"_blank\"><span style=\"color: #7f7f7f; text-decoration-color: #7f7f7f\">step_config.py</span></a><span style=\"color: #7f7f7f; text-decoration-color: #7f7f7f\">:</span><a href=\"file:///home/moritz/dev/uni/mcr-py/notebooks/../src/command/step_config.py#145\" target=\"_blank\"><span style=\"color: #7f7f7f; text-decoration-color: #7f7f7f\">145</span></a>\n",
              "</pre>\n"
            ],
            "text/plain": [
              "\u001b[2;36m          \u001b[0m\u001b[2;36m \u001b[0m\u001b[34mINFO    \u001b[0m Fetching POI for runtime optimization done \u001b[1m(\u001b[0m\u001b[1;36m0.05\u001b[0m seconds\u001b[1m)\u001b[0m                    \u001b]8;id=354352;file:///home/moritz/dev/uni/mcr-py/notebooks/../src/command/step_config.py\u001b\\\u001b[2mstep_config.py\u001b[0m\u001b]8;;\u001b\\\u001b[2m:\u001b[0m\u001b]8;id=376151;file:///home/moritz/dev/uni/mcr-py/notebooks/../src/command/step_config.py#145\u001b\\\u001b[2m145\u001b[0m\u001b]8;;\u001b\\\n"
            ]
          },
          "metadata": {},
          "output_type": "display_data"
        },
        {
          "data": {
            "text/html": [
              "<pre style=\"white-space:pre;overflow-x:auto;line-height:normal;font-family:Menlo,'DejaVu Sans Mono',consolas,'Courier New',monospace\"><span style=\"color: #7fbfbf; text-decoration-color: #7fbfbf\">[04:13:50] </span><span style=\"color: #000080; text-decoration-color: #000080\">INFO    </span> Reading stops                                                           <a href=\"file:///home/moritz/dev/uni/mcr-py/notebooks/../src/package/mcr/steps/public_transport.py\" target=\"_blank\"><span style=\"color: #7f7f7f; text-decoration-color: #7f7f7f\">public_transport.py</span></a><span style=\"color: #7f7f7f; text-decoration-color: #7f7f7f\">:</span><a href=\"file:///home/moritz/dev/uni/mcr-py/notebooks/../src/package/mcr/steps/public_transport.py#144\" target=\"_blank\"><span style=\"color: #7f7f7f; text-decoration-color: #7f7f7f\">144</span></a>\n",
              "</pre>\n"
            ],
            "text/plain": [
              "\u001b[2;36m[04:13:50]\u001b[0m\u001b[2;36m \u001b[0m\u001b[34mINFO    \u001b[0m Reading stops                                                           \u001b]8;id=318537;file:///home/moritz/dev/uni/mcr-py/notebooks/../src/package/mcr/steps/public_transport.py\u001b\\\u001b[2mpublic_transport.py\u001b[0m\u001b]8;;\u001b\\\u001b[2m:\u001b[0m\u001b]8;id=640487;file:///home/moritz/dev/uni/mcr-py/notebooks/../src/package/mcr/steps/public_transport.py#144\u001b\\\u001b[2m144\u001b[0m\u001b]8;;\u001b\\\n"
            ]
          },
          "metadata": {},
          "output_type": "display_data"
        },
        {
          "data": {
            "text/html": [
              "<pre style=\"white-space:pre;overflow-x:auto;line-height:normal;font-family:Menlo,'DejaVu Sans Mono',consolas,'Courier New',monospace\"><span style=\"color: #7fbfbf; text-decoration-color: #7fbfbf\">           </span><span style=\"color: #000080; text-decoration-color: #000080\">INFO    </span> Reading stops done <span style=\"font-weight: bold\">(</span><span style=\"color: #008080; text-decoration-color: #008080; font-weight: bold\">0.20</span> seconds<span style=\"font-weight: bold\">)</span>                                       <a href=\"file:///home/moritz/dev/uni/mcr-py/notebooks/../src/package/mcr/steps/public_transport.py\" target=\"_blank\"><span style=\"color: #7f7f7f; text-decoration-color: #7f7f7f\">public_transport.py</span></a><span style=\"color: #7f7f7f; text-decoration-color: #7f7f7f\">:</span><a href=\"file:///home/moritz/dev/uni/mcr-py/notebooks/../src/package/mcr/steps/public_transport.py#144\" target=\"_blank\"><span style=\"color: #7f7f7f; text-decoration-color: #7f7f7f\">144</span></a>\n",
              "</pre>\n"
            ],
            "text/plain": [
              "\u001b[2;36m          \u001b[0m\u001b[2;36m \u001b[0m\u001b[34mINFO    \u001b[0m Reading stops done \u001b[1m(\u001b[0m\u001b[1;36m0.20\u001b[0m seconds\u001b[1m)\u001b[0m                                       \u001b]8;id=166455;file:///home/moritz/dev/uni/mcr-py/notebooks/../src/package/mcr/steps/public_transport.py\u001b\\\u001b[2mpublic_transport.py\u001b[0m\u001b]8;;\u001b\\\u001b[2m:\u001b[0m\u001b]8;id=345473;file:///home/moritz/dev/uni/mcr-py/notebooks/../src/package/mcr/steps/public_transport.py#144\u001b\\\u001b[2m144\u001b[0m\u001b]8;;\u001b\\\n"
            ]
          },
          "metadata": {},
          "output_type": "display_data"
        },
        {
          "data": {
            "application/vnd.jupyter.widget-view+json": {
              "model_id": "cdba02985c6b4b73807a9a0eeab5e623",
              "version_major": 2,
              "version_minor": 0
            },
            "text/plain": [
              "Starting:   0%|          | 0/1782 [00:00<?, ?it/s]"
            ]
          },
          "metadata": {},
          "output_type": "display_data"
        },
        {
          "data": {
            "text/html": [
              "<pre style=\"white-space:pre;overflow-x:auto;line-height:normal;font-family:Menlo,'DejaVu Sans Mono',consolas,'Courier New',monospace\"><span style=\"color: #7fbfbf; text-decoration-color: #7fbfbf\">[04:29:03] </span><span style=\"color: #000080; text-decoration-color: #000080\">INFO    </span> All processes finished.                                                             <a href=\"file:///home/moritz/dev/uni/mcr-py/notebooks/../src/package/mcr5/mcr5.py\" target=\"_blank\"><span style=\"color: #7f7f7f; text-decoration-color: #7f7f7f\">mcr5.py</span></a><span style=\"color: #7f7f7f; text-decoration-color: #7f7f7f\">:</span><a href=\"file:///home/moritz/dev/uni/mcr-py/notebooks/../src/package/mcr5/mcr5.py#100\" target=\"_blank\"><span style=\"color: #7f7f7f; text-decoration-color: #7f7f7f\">100</span></a>\n",
              "</pre>\n"
            ],
            "text/plain": [
              "\u001b[2;36m[04:29:03]\u001b[0m\u001b[2;36m \u001b[0m\u001b[34mINFO    \u001b[0m All processes finished.                                                             \u001b]8;id=307256;file:///home/moritz/dev/uni/mcr-py/notebooks/../src/package/mcr5/mcr5.py\u001b\\\u001b[2mmcr5.py\u001b[0m\u001b]8;;\u001b\\\u001b[2m:\u001b[0m\u001b]8;id=90913;file:///home/moritz/dev/uni/mcr-py/notebooks/../src/package/mcr5/mcr5.py#100\u001b\\\u001b[2m100\u001b[0m\u001b]8;;\u001b\\\n"
            ]
          },
          "metadata": {},
          "output_type": "display_data"
        },
        {
          "data": {
            "text/html": [
              "<pre style=\"white-space:pre;overflow-x:auto;line-height:normal;font-family:Menlo,'DejaVu Sans Mono',consolas,'Courier New',monospace\"><span style=\"color: #7fbfbf; text-decoration-color: #7fbfbf\">           </span><span style=\"color: #000080; text-decoration-color: #000080\">INFO    </span> Running MCR5 for public_transport_2                                              <a href=\"file:///tmp/ipykernel_5877/542061263.py\" target=\"_blank\"><span style=\"color: #7f7f7f; text-decoration-color: #7f7f7f\">542061263.py</span></a><span style=\"color: #7f7f7f; text-decoration-color: #7f7f7f\">:</span><a href=\"file:///tmp/ipykernel_5877/542061263.py#4\" target=\"_blank\"><span style=\"color: #7f7f7f; text-decoration-color: #7f7f7f\">4</span></a>\n",
              "</pre>\n"
            ],
            "text/plain": [
              "\u001b[2;36m          \u001b[0m\u001b[2;36m \u001b[0m\u001b[34mINFO    \u001b[0m Running MCR5 for public_transport_2                                              \u001b]8;id=393629;file:///tmp/ipykernel_5877/542061263.py\u001b\\\u001b[2m542061263.py\u001b[0m\u001b]8;;\u001b\\\u001b[2m:\u001b[0m\u001b]8;id=658584;file:///tmp/ipykernel_5877/542061263.py#4\u001b\\\u001b[2m4\u001b[0m\u001b]8;;\u001b\\\n"
            ]
          },
          "metadata": {},
          "output_type": "display_data"
        },
        {
          "data": {
            "text/html": [
              "<pre style=\"white-space:pre;overflow-x:auto;line-height:normal;font-family:Menlo,'DejaVu Sans Mono',consolas,'Courier New',monospace\"><span style=\"color: #7fbfbf; text-decoration-color: #7fbfbf\">           </span><span style=\"color: #000080; text-decoration-color: #000080\">INFO    </span> Using existing OSM data                                                              <a href=\"file:///home/moritz/dev/uni/mcr-py/notebooks/../src/package/osm/osm.py\" target=\"_blank\"><span style=\"color: #7f7f7f; text-decoration-color: #7f7f7f\">osm.py</span></a><span style=\"color: #7f7f7f; text-decoration-color: #7f7f7f\">:</span><a href=\"file:///home/moritz/dev/uni/mcr-py/notebooks/../src/package/osm/osm.py#106\" target=\"_blank\"><span style=\"color: #7f7f7f; text-decoration-color: #7f7f7f\">106</span></a>\n",
              "</pre>\n"
            ],
            "text/plain": [
              "\u001b[2;36m          \u001b[0m\u001b[2;36m \u001b[0m\u001b[34mINFO    \u001b[0m Using existing OSM data                                                              \u001b]8;id=487397;file:///home/moritz/dev/uni/mcr-py/notebooks/../src/package/osm/osm.py\u001b\\\u001b[2mosm.py\u001b[0m\u001b]8;;\u001b\\\u001b[2m:\u001b[0m\u001b]8;id=42576;file:///home/moritz/dev/uni/mcr-py/notebooks/../src/package/osm/osm.py#106\u001b\\\u001b[2m106\u001b[0m\u001b]8;;\u001b\\\n"
            ]
          },
          "metadata": {},
          "output_type": "display_data"
        },
        {
          "data": {
            "text/html": [
              "<pre style=\"white-space:pre;overflow-x:auto;line-height:normal;font-family:Menlo,'DejaVu Sans Mono',consolas,'Courier New',monospace\"><span style=\"color: #7fbfbf; text-decoration-color: #7fbfbf\">           </span><span style=\"color: #000080; text-decoration-color: #000080\">INFO    </span> Loading OSM network from cache <span style=\"font-weight: bold\">(</span>walking<span style=\"font-weight: bold\">)</span>                                              <a href=\"file:///home/moritz/dev/uni/mcr-py/notebooks/../src/package/osm/osm.py\" target=\"_blank\"><span style=\"color: #7f7f7f; text-decoration-color: #7f7f7f\">osm.py</span></a><span style=\"color: #7f7f7f; text-decoration-color: #7f7f7f\">:</span><a href=\"file:///home/moritz/dev/uni/mcr-py/notebooks/../src/package/osm/osm.py#69\" target=\"_blank\"><span style=\"color: #7f7f7f; text-decoration-color: #7f7f7f\">69</span></a>\n",
              "</pre>\n"
            ],
            "text/plain": [
              "\u001b[2;36m          \u001b[0m\u001b[2;36m \u001b[0m\u001b[34mINFO    \u001b[0m Loading OSM network from cache \u001b[1m(\u001b[0mwalking\u001b[1m)\u001b[0m                                              \u001b]8;id=432186;file:///home/moritz/dev/uni/mcr-py/notebooks/../src/package/osm/osm.py\u001b\\\u001b[2mosm.py\u001b[0m\u001b]8;;\u001b\\\u001b[2m:\u001b[0m\u001b]8;id=106465;file:///home/moritz/dev/uni/mcr-py/notebooks/../src/package/osm/osm.py#69\u001b\\\u001b[2m69\u001b[0m\u001b]8;;\u001b\\\n"
            ]
          },
          "metadata": {},
          "output_type": "display_data"
        },
        {
          "data": {
            "text/html": [
              "<pre style=\"white-space:pre;overflow-x:auto;line-height:normal;font-family:Menlo,'DejaVu Sans Mono',consolas,'Courier New',monospace\"><span style=\"color: #7fbfbf; text-decoration-color: #7fbfbf\">[04:30:22] </span><span style=\"color: #000080; text-decoration-color: #000080\">INFO    </span> Fetching POI for runtime optimization                                        <a href=\"file:///home/moritz/dev/uni/mcr-py/notebooks/../src/command/step_config.py\" target=\"_blank\"><span style=\"color: #7f7f7f; text-decoration-color: #7f7f7f\">step_config.py</span></a><span style=\"color: #7f7f7f; text-decoration-color: #7f7f7f\">:</span><a href=\"file:///home/moritz/dev/uni/mcr-py/notebooks/../src/command/step_config.py#145\" target=\"_blank\"><span style=\"color: #7f7f7f; text-decoration-color: #7f7f7f\">145</span></a>\n",
              "</pre>\n"
            ],
            "text/plain": [
              "\u001b[2;36m[04:30:22]\u001b[0m\u001b[2;36m \u001b[0m\u001b[34mINFO    \u001b[0m Fetching POI for runtime optimization                                        \u001b]8;id=403857;file:///home/moritz/dev/uni/mcr-py/notebooks/../src/command/step_config.py\u001b\\\u001b[2mstep_config.py\u001b[0m\u001b]8;;\u001b\\\u001b[2m:\u001b[0m\u001b]8;id=943433;file:///home/moritz/dev/uni/mcr-py/notebooks/../src/command/step_config.py#145\u001b\\\u001b[2m145\u001b[0m\u001b]8;;\u001b\\\n"
            ]
          },
          "metadata": {},
          "output_type": "display_data"
        },
        {
          "data": {
            "text/html": [
              "<pre style=\"white-space:pre;overflow-x:auto;line-height:normal;font-family:Menlo,'DejaVu Sans Mono',consolas,'Courier New',monospace\"><span style=\"color: #7fbfbf; text-decoration-color: #7fbfbf\">           </span><span style=\"color: #000080; text-decoration-color: #000080\">INFO    </span> Fetching POI for runtime optimization done <span style=\"font-weight: bold\">(</span><span style=\"color: #008080; text-decoration-color: #008080; font-weight: bold\">0.05</span> seconds<span style=\"font-weight: bold\">)</span>                    <a href=\"file:///home/moritz/dev/uni/mcr-py/notebooks/../src/command/step_config.py\" target=\"_blank\"><span style=\"color: #7f7f7f; text-decoration-color: #7f7f7f\">step_config.py</span></a><span style=\"color: #7f7f7f; text-decoration-color: #7f7f7f\">:</span><a href=\"file:///home/moritz/dev/uni/mcr-py/notebooks/../src/command/step_config.py#145\" target=\"_blank\"><span style=\"color: #7f7f7f; text-decoration-color: #7f7f7f\">145</span></a>\n",
              "</pre>\n"
            ],
            "text/plain": [
              "\u001b[2;36m          \u001b[0m\u001b[2;36m \u001b[0m\u001b[34mINFO    \u001b[0m Fetching POI for runtime optimization done \u001b[1m(\u001b[0m\u001b[1;36m0.05\u001b[0m seconds\u001b[1m)\u001b[0m                    \u001b]8;id=619801;file:///home/moritz/dev/uni/mcr-py/notebooks/../src/command/step_config.py\u001b\\\u001b[2mstep_config.py\u001b[0m\u001b]8;;\u001b\\\u001b[2m:\u001b[0m\u001b]8;id=380413;file:///home/moritz/dev/uni/mcr-py/notebooks/../src/command/step_config.py#145\u001b\\\u001b[2m145\u001b[0m\u001b]8;;\u001b\\\n"
            ]
          },
          "metadata": {},
          "output_type": "display_data"
        },
        {
          "data": {
            "text/html": [
              "<pre style=\"white-space:pre;overflow-x:auto;line-height:normal;font-family:Menlo,'DejaVu Sans Mono',consolas,'Courier New',monospace\"><span style=\"color: #7fbfbf; text-decoration-color: #7fbfbf\">[04:30:42] </span><span style=\"color: #000080; text-decoration-color: #000080\">INFO    </span> Reading stops                                                           <a href=\"file:///home/moritz/dev/uni/mcr-py/notebooks/../src/package/mcr/steps/public_transport.py\" target=\"_blank\"><span style=\"color: #7f7f7f; text-decoration-color: #7f7f7f\">public_transport.py</span></a><span style=\"color: #7f7f7f; text-decoration-color: #7f7f7f\">:</span><a href=\"file:///home/moritz/dev/uni/mcr-py/notebooks/../src/package/mcr/steps/public_transport.py#144\" target=\"_blank\"><span style=\"color: #7f7f7f; text-decoration-color: #7f7f7f\">144</span></a>\n",
              "</pre>\n"
            ],
            "text/plain": [
              "\u001b[2;36m[04:30:42]\u001b[0m\u001b[2;36m \u001b[0m\u001b[34mINFO    \u001b[0m Reading stops                                                           \u001b]8;id=52800;file:///home/moritz/dev/uni/mcr-py/notebooks/../src/package/mcr/steps/public_transport.py\u001b\\\u001b[2mpublic_transport.py\u001b[0m\u001b]8;;\u001b\\\u001b[2m:\u001b[0m\u001b]8;id=337118;file:///home/moritz/dev/uni/mcr-py/notebooks/../src/package/mcr/steps/public_transport.py#144\u001b\\\u001b[2m144\u001b[0m\u001b]8;;\u001b\\\n"
            ]
          },
          "metadata": {},
          "output_type": "display_data"
        },
        {
          "data": {
            "text/html": [
              "<pre style=\"white-space:pre;overflow-x:auto;line-height:normal;font-family:Menlo,'DejaVu Sans Mono',consolas,'Courier New',monospace\"><span style=\"color: #7fbfbf; text-decoration-color: #7fbfbf\">           </span><span style=\"color: #000080; text-decoration-color: #000080\">INFO    </span> Reading stops done <span style=\"font-weight: bold\">(</span><span style=\"color: #008080; text-decoration-color: #008080; font-weight: bold\">0.18</span> seconds<span style=\"font-weight: bold\">)</span>                                       <a href=\"file:///home/moritz/dev/uni/mcr-py/notebooks/../src/package/mcr/steps/public_transport.py\" target=\"_blank\"><span style=\"color: #7f7f7f; text-decoration-color: #7f7f7f\">public_transport.py</span></a><span style=\"color: #7f7f7f; text-decoration-color: #7f7f7f\">:</span><a href=\"file:///home/moritz/dev/uni/mcr-py/notebooks/../src/package/mcr/steps/public_transport.py#144\" target=\"_blank\"><span style=\"color: #7f7f7f; text-decoration-color: #7f7f7f\">144</span></a>\n",
              "</pre>\n"
            ],
            "text/plain": [
              "\u001b[2;36m          \u001b[0m\u001b[2;36m \u001b[0m\u001b[34mINFO    \u001b[0m Reading stops done \u001b[1m(\u001b[0m\u001b[1;36m0.18\u001b[0m seconds\u001b[1m)\u001b[0m                                       \u001b]8;id=942730;file:///home/moritz/dev/uni/mcr-py/notebooks/../src/package/mcr/steps/public_transport.py\u001b\\\u001b[2mpublic_transport.py\u001b[0m\u001b]8;;\u001b\\\u001b[2m:\u001b[0m\u001b]8;id=314955;file:///home/moritz/dev/uni/mcr-py/notebooks/../src/package/mcr/steps/public_transport.py#144\u001b\\\u001b[2m144\u001b[0m\u001b]8;;\u001b\\\n"
            ]
          },
          "metadata": {},
          "output_type": "display_data"
        },
        {
          "data": {
            "application/vnd.jupyter.widget-view+json": {
              "model_id": "53a59eadd63c4a28b6c29a746d8c22af",
              "version_major": 2,
              "version_minor": 0
            },
            "text/plain": [
              "Starting:   0%|          | 0/1782 [00:00<?, ?it/s]"
            ]
          },
          "metadata": {},
          "output_type": "display_data"
        },
        {
          "data": {
            "text/html": [
              "<pre style=\"white-space:pre;overflow-x:auto;line-height:normal;font-family:Menlo,'DejaVu Sans Mono',consolas,'Courier New',monospace\"><span style=\"color: #7fbfbf; text-decoration-color: #7fbfbf\">[04:46:07] </span><span style=\"color: #000080; text-decoration-color: #000080\">INFO    </span> All processes finished.                                                             <a href=\"file:///home/moritz/dev/uni/mcr-py/notebooks/../src/package/mcr5/mcr5.py\" target=\"_blank\"><span style=\"color: #7f7f7f; text-decoration-color: #7f7f7f\">mcr5.py</span></a><span style=\"color: #7f7f7f; text-decoration-color: #7f7f7f\">:</span><a href=\"file:///home/moritz/dev/uni/mcr-py/notebooks/../src/package/mcr5/mcr5.py#100\" target=\"_blank\"><span style=\"color: #7f7f7f; text-decoration-color: #7f7f7f\">100</span></a>\n",
              "</pre>\n"
            ],
            "text/plain": [
              "\u001b[2;36m[04:46:07]\u001b[0m\u001b[2;36m \u001b[0m\u001b[34mINFO    \u001b[0m All processes finished.                                                             \u001b]8;id=193427;file:///home/moritz/dev/uni/mcr-py/notebooks/../src/package/mcr5/mcr5.py\u001b\\\u001b[2mmcr5.py\u001b[0m\u001b]8;;\u001b\\\u001b[2m:\u001b[0m\u001b]8;id=565744;file:///home/moritz/dev/uni/mcr-py/notebooks/../src/package/mcr5/mcr5.py#100\u001b\\\u001b[2m100\u001b[0m\u001b]8;;\u001b\\\n"
            ]
          },
          "metadata": {},
          "output_type": "display_data"
        },
        {
          "data": {
            "text/html": [
              "<pre style=\"white-space:pre;overflow-x:auto;line-height:normal;font-family:Menlo,'DejaVu Sans Mono',consolas,'Courier New',monospace\"><span style=\"color: #7fbfbf; text-decoration-color: #7fbfbf\">           </span><span style=\"color: #000080; text-decoration-color: #000080\">INFO    </span> Running MCR5 for bicycle_0                                                       <a href=\"file:///tmp/ipykernel_5877/542061263.py\" target=\"_blank\"><span style=\"color: #7f7f7f; text-decoration-color: #7f7f7f\">542061263.py</span></a><span style=\"color: #7f7f7f; text-decoration-color: #7f7f7f\">:</span><a href=\"file:///tmp/ipykernel_5877/542061263.py#4\" target=\"_blank\"><span style=\"color: #7f7f7f; text-decoration-color: #7f7f7f\">4</span></a>\n",
              "</pre>\n"
            ],
            "text/plain": [
              "\u001b[2;36m          \u001b[0m\u001b[2;36m \u001b[0m\u001b[34mINFO    \u001b[0m Running MCR5 for bicycle_0                                                       \u001b]8;id=620128;file:///tmp/ipykernel_5877/542061263.py\u001b\\\u001b[2m542061263.py\u001b[0m\u001b]8;;\u001b\\\u001b[2m:\u001b[0m\u001b]8;id=962344;file:///tmp/ipykernel_5877/542061263.py#4\u001b\\\u001b[2m4\u001b[0m\u001b]8;;\u001b\\\n"
            ]
          },
          "metadata": {},
          "output_type": "display_data"
        },
        {
          "data": {
            "text/html": [
              "<pre style=\"white-space:pre;overflow-x:auto;line-height:normal;font-family:Menlo,'DejaVu Sans Mono',consolas,'Courier New',monospace\"><span style=\"color: #7fbfbf; text-decoration-color: #7fbfbf\">           </span><span style=\"color: #000080; text-decoration-color: #000080\">INFO    </span> Using existing OSM data                                                              <a href=\"file:///home/moritz/dev/uni/mcr-py/notebooks/../src/package/osm/osm.py\" target=\"_blank\"><span style=\"color: #7f7f7f; text-decoration-color: #7f7f7f\">osm.py</span></a><span style=\"color: #7f7f7f; text-decoration-color: #7f7f7f\">:</span><a href=\"file:///home/moritz/dev/uni/mcr-py/notebooks/../src/package/osm/osm.py#106\" target=\"_blank\"><span style=\"color: #7f7f7f; text-decoration-color: #7f7f7f\">106</span></a>\n",
              "</pre>\n"
            ],
            "text/plain": [
              "\u001b[2;36m          \u001b[0m\u001b[2;36m \u001b[0m\u001b[34mINFO    \u001b[0m Using existing OSM data                                                              \u001b]8;id=437821;file:///home/moritz/dev/uni/mcr-py/notebooks/../src/package/osm/osm.py\u001b\\\u001b[2mosm.py\u001b[0m\u001b]8;;\u001b\\\u001b[2m:\u001b[0m\u001b]8;id=868389;file:///home/moritz/dev/uni/mcr-py/notebooks/../src/package/osm/osm.py#106\u001b\\\u001b[2m106\u001b[0m\u001b]8;;\u001b\\\n"
            ]
          },
          "metadata": {},
          "output_type": "display_data"
        },
        {
          "data": {
            "text/html": [
              "<pre style=\"white-space:pre;overflow-x:auto;line-height:normal;font-family:Menlo,'DejaVu Sans Mono',consolas,'Courier New',monospace\"><span style=\"color: #7fbfbf; text-decoration-color: #7fbfbf\">           </span><span style=\"color: #000080; text-decoration-color: #000080\">INFO    </span> Loading OSM network from cache <span style=\"font-weight: bold\">(</span>walking<span style=\"font-weight: bold\">)</span>                                              <a href=\"file:///home/moritz/dev/uni/mcr-py/notebooks/../src/package/osm/osm.py\" target=\"_blank\"><span style=\"color: #7f7f7f; text-decoration-color: #7f7f7f\">osm.py</span></a><span style=\"color: #7f7f7f; text-decoration-color: #7f7f7f\">:</span><a href=\"file:///home/moritz/dev/uni/mcr-py/notebooks/../src/package/osm/osm.py#69\" target=\"_blank\"><span style=\"color: #7f7f7f; text-decoration-color: #7f7f7f\">69</span></a>\n",
              "</pre>\n"
            ],
            "text/plain": [
              "\u001b[2;36m          \u001b[0m\u001b[2;36m \u001b[0m\u001b[34mINFO    \u001b[0m Loading OSM network from cache \u001b[1m(\u001b[0mwalking\u001b[1m)\u001b[0m                                              \u001b]8;id=547371;file:///home/moritz/dev/uni/mcr-py/notebooks/../src/package/osm/osm.py\u001b\\\u001b[2mosm.py\u001b[0m\u001b]8;;\u001b\\\u001b[2m:\u001b[0m\u001b]8;id=205975;file:///home/moritz/dev/uni/mcr-py/notebooks/../src/package/osm/osm.py#69\u001b\\\u001b[2m69\u001b[0m\u001b]8;;\u001b\\\n"
            ]
          },
          "metadata": {},
          "output_type": "display_data"
        },
        {
          "data": {
            "text/html": [
              "<pre style=\"white-space:pre;overflow-x:auto;line-height:normal;font-family:Menlo,'DejaVu Sans Mono',consolas,'Courier New',monospace\"><span style=\"color: #7fbfbf; text-decoration-color: #7fbfbf\">[04:47:22] </span><span style=\"color: #000080; text-decoration-color: #000080\">INFO    </span> Using existing OSM data                                                              <a href=\"file:///home/moritz/dev/uni/mcr-py/notebooks/../src/package/osm/osm.py\" target=\"_blank\"><span style=\"color: #7f7f7f; text-decoration-color: #7f7f7f\">osm.py</span></a><span style=\"color: #7f7f7f; text-decoration-color: #7f7f7f\">:</span><a href=\"file:///home/moritz/dev/uni/mcr-py/notebooks/../src/package/osm/osm.py#106\" target=\"_blank\"><span style=\"color: #7f7f7f; text-decoration-color: #7f7f7f\">106</span></a>\n",
              "</pre>\n"
            ],
            "text/plain": [
              "\u001b[2;36m[04:47:22]\u001b[0m\u001b[2;36m \u001b[0m\u001b[34mINFO    \u001b[0m Using existing OSM data                                                              \u001b]8;id=521593;file:///home/moritz/dev/uni/mcr-py/notebooks/../src/package/osm/osm.py\u001b\\\u001b[2mosm.py\u001b[0m\u001b]8;;\u001b\\\u001b[2m:\u001b[0m\u001b]8;id=658712;file:///home/moritz/dev/uni/mcr-py/notebooks/../src/package/osm/osm.py#106\u001b\\\u001b[2m106\u001b[0m\u001b]8;;\u001b\\\n"
            ]
          },
          "metadata": {},
          "output_type": "display_data"
        },
        {
          "data": {
            "text/html": [
              "<pre style=\"white-space:pre;overflow-x:auto;line-height:normal;font-family:Menlo,'DejaVu Sans Mono',consolas,'Courier New',monospace\"><span style=\"color: #7fbfbf; text-decoration-color: #7fbfbf\">           </span><span style=\"color: #000080; text-decoration-color: #000080\">INFO    </span> Loading OSM network from cache <span style=\"font-weight: bold\">(</span>cycling<span style=\"font-weight: bold\">)</span>                                              <a href=\"file:///home/moritz/dev/uni/mcr-py/notebooks/../src/package/osm/osm.py\" target=\"_blank\"><span style=\"color: #7f7f7f; text-decoration-color: #7f7f7f\">osm.py</span></a><span style=\"color: #7f7f7f; text-decoration-color: #7f7f7f\">:</span><a href=\"file:///home/moritz/dev/uni/mcr-py/notebooks/../src/package/osm/osm.py#69\" target=\"_blank\"><span style=\"color: #7f7f7f; text-decoration-color: #7f7f7f\">69</span></a>\n",
              "</pre>\n"
            ],
            "text/plain": [
              "\u001b[2;36m          \u001b[0m\u001b[2;36m \u001b[0m\u001b[34mINFO    \u001b[0m Loading OSM network from cache \u001b[1m(\u001b[0mcycling\u001b[1m)\u001b[0m                                              \u001b]8;id=656520;file:///home/moritz/dev/uni/mcr-py/notebooks/../src/package/osm/osm.py\u001b\\\u001b[2mosm.py\u001b[0m\u001b]8;;\u001b\\\u001b[2m:\u001b[0m\u001b]8;id=54029;file:///home/moritz/dev/uni/mcr-py/notebooks/../src/package/osm/osm.py#69\u001b\\\u001b[2m69\u001b[0m\u001b]8;;\u001b\\\n"
            ]
          },
          "metadata": {},
          "output_type": "display_data"
        },
        {
          "data": {
            "text/html": [
              "<pre style=\"white-space:pre;overflow-x:auto;line-height:normal;font-family:Menlo,'DejaVu Sans Mono',consolas,'Courier New',monospace\"><span style=\"color: #7fbfbf; text-decoration-color: #7fbfbf\">[04:48:29] </span><span style=\"color: #000080; text-decoration-color: #000080\">INFO    </span> Fetching POI for runtime optimization                                         <a href=\"file:///home/moritz/dev/uni/mcr-py/notebooks/../src/command/step_config.py\" target=\"_blank\"><span style=\"color: #7f7f7f; text-decoration-color: #7f7f7f\">step_config.py</span></a><span style=\"color: #7f7f7f; text-decoration-color: #7f7f7f\">:</span><a href=\"file:///home/moritz/dev/uni/mcr-py/notebooks/../src/command/step_config.py#93\" target=\"_blank\"><span style=\"color: #7f7f7f; text-decoration-color: #7f7f7f\">93</span></a>\n",
              "</pre>\n"
            ],
            "text/plain": [
              "\u001b[2;36m[04:48:29]\u001b[0m\u001b[2;36m \u001b[0m\u001b[34mINFO    \u001b[0m Fetching POI for runtime optimization                                         \u001b]8;id=196377;file:///home/moritz/dev/uni/mcr-py/notebooks/../src/command/step_config.py\u001b\\\u001b[2mstep_config.py\u001b[0m\u001b]8;;\u001b\\\u001b[2m:\u001b[0m\u001b]8;id=979065;file:///home/moritz/dev/uni/mcr-py/notebooks/../src/command/step_config.py#93\u001b\\\u001b[2m93\u001b[0m\u001b]8;;\u001b\\\n"
            ]
          },
          "metadata": {},
          "output_type": "display_data"
        },
        {
          "data": {
            "text/html": [
              "<pre style=\"white-space:pre;overflow-x:auto;line-height:normal;font-family:Menlo,'DejaVu Sans Mono',consolas,'Courier New',monospace\"><span style=\"color: #7fbfbf; text-decoration-color: #7fbfbf\">           </span><span style=\"color: #000080; text-decoration-color: #000080\">INFO    </span> Fetching POI for runtime optimization done <span style=\"font-weight: bold\">(</span><span style=\"color: #008080; text-decoration-color: #008080; font-weight: bold\">0.07</span> seconds<span style=\"font-weight: bold\">)</span>                     <a href=\"file:///home/moritz/dev/uni/mcr-py/notebooks/../src/command/step_config.py\" target=\"_blank\"><span style=\"color: #7f7f7f; text-decoration-color: #7f7f7f\">step_config.py</span></a><span style=\"color: #7f7f7f; text-decoration-color: #7f7f7f\">:</span><a href=\"file:///home/moritz/dev/uni/mcr-py/notebooks/../src/command/step_config.py#93\" target=\"_blank\"><span style=\"color: #7f7f7f; text-decoration-color: #7f7f7f\">93</span></a>\n",
              "</pre>\n"
            ],
            "text/plain": [
              "\u001b[2;36m          \u001b[0m\u001b[2;36m \u001b[0m\u001b[34mINFO    \u001b[0m Fetching POI for runtime optimization done \u001b[1m(\u001b[0m\u001b[1;36m0.07\u001b[0m seconds\u001b[1m)\u001b[0m                     \u001b]8;id=403839;file:///home/moritz/dev/uni/mcr-py/notebooks/../src/command/step_config.py\u001b\\\u001b[2mstep_config.py\u001b[0m\u001b]8;;\u001b\\\u001b[2m:\u001b[0m\u001b]8;id=470808;file:///home/moritz/dev/uni/mcr-py/notebooks/../src/command/step_config.py#93\u001b\\\u001b[2m93\u001b[0m\u001b]8;;\u001b\\\n"
            ]
          },
          "metadata": {},
          "output_type": "display_data"
        },
        {
          "data": {
            "application/vnd.jupyter.widget-view+json": {
              "model_id": "2748eb908f3b409fb07b6cbb65ce8509",
              "version_major": 2,
              "version_minor": 0
            },
            "text/plain": [
              "Starting:   0%|          | 0/1782 [00:00<?, ?it/s]"
            ]
          },
          "metadata": {},
          "output_type": "display_data"
        },
        {
          "data": {
            "text/html": [
              "<pre style=\"white-space:pre;overflow-x:auto;line-height:normal;font-family:Menlo,'DejaVu Sans Mono',consolas,'Courier New',monospace\"><span style=\"color: #7fbfbf; text-decoration-color: #7fbfbf\">[05:05:31] </span><span style=\"color: #000080; text-decoration-color: #000080\">INFO    </span> All processes finished.                                                             <a href=\"file:///home/moritz/dev/uni/mcr-py/notebooks/../src/package/mcr5/mcr5.py\" target=\"_blank\"><span style=\"color: #7f7f7f; text-decoration-color: #7f7f7f\">mcr5.py</span></a><span style=\"color: #7f7f7f; text-decoration-color: #7f7f7f\">:</span><a href=\"file:///home/moritz/dev/uni/mcr-py/notebooks/../src/package/mcr5/mcr5.py#100\" target=\"_blank\"><span style=\"color: #7f7f7f; text-decoration-color: #7f7f7f\">100</span></a>\n",
              "</pre>\n"
            ],
            "text/plain": [
              "\u001b[2;36m[05:05:31]\u001b[0m\u001b[2;36m \u001b[0m\u001b[34mINFO    \u001b[0m All processes finished.                                                             \u001b]8;id=9652;file:///home/moritz/dev/uni/mcr-py/notebooks/../src/package/mcr5/mcr5.py\u001b\\\u001b[2mmcr5.py\u001b[0m\u001b]8;;\u001b\\\u001b[2m:\u001b[0m\u001b]8;id=176452;file:///home/moritz/dev/uni/mcr-py/notebooks/../src/package/mcr5/mcr5.py#100\u001b\\\u001b[2m100\u001b[0m\u001b]8;;\u001b\\\n"
            ]
          },
          "metadata": {},
          "output_type": "display_data"
        },
        {
          "data": {
            "text/html": [
              "<pre style=\"white-space:pre;overflow-x:auto;line-height:normal;font-family:Menlo,'DejaVu Sans Mono',consolas,'Courier New',monospace\"><span style=\"color: #7fbfbf; text-decoration-color: #7fbfbf\">           </span><span style=\"color: #000080; text-decoration-color: #000080\">INFO    </span> Running MCR5 for bicycle_1                                                       <a href=\"file:///tmp/ipykernel_5877/542061263.py\" target=\"_blank\"><span style=\"color: #7f7f7f; text-decoration-color: #7f7f7f\">542061263.py</span></a><span style=\"color: #7f7f7f; text-decoration-color: #7f7f7f\">:</span><a href=\"file:///tmp/ipykernel_5877/542061263.py#4\" target=\"_blank\"><span style=\"color: #7f7f7f; text-decoration-color: #7f7f7f\">4</span></a>\n",
              "</pre>\n"
            ],
            "text/plain": [
              "\u001b[2;36m          \u001b[0m\u001b[2;36m \u001b[0m\u001b[34mINFO    \u001b[0m Running MCR5 for bicycle_1                                                       \u001b]8;id=942945;file:///tmp/ipykernel_5877/542061263.py\u001b\\\u001b[2m542061263.py\u001b[0m\u001b]8;;\u001b\\\u001b[2m:\u001b[0m\u001b]8;id=314037;file:///tmp/ipykernel_5877/542061263.py#4\u001b\\\u001b[2m4\u001b[0m\u001b]8;;\u001b\\\n"
            ]
          },
          "metadata": {},
          "output_type": "display_data"
        },
        {
          "data": {
            "text/html": [
              "<pre style=\"white-space:pre;overflow-x:auto;line-height:normal;font-family:Menlo,'DejaVu Sans Mono',consolas,'Courier New',monospace\"><span style=\"color: #7fbfbf; text-decoration-color: #7fbfbf\">           </span><span style=\"color: #000080; text-decoration-color: #000080\">INFO    </span> Using existing OSM data                                                              <a href=\"file:///home/moritz/dev/uni/mcr-py/notebooks/../src/package/osm/osm.py\" target=\"_blank\"><span style=\"color: #7f7f7f; text-decoration-color: #7f7f7f\">osm.py</span></a><span style=\"color: #7f7f7f; text-decoration-color: #7f7f7f\">:</span><a href=\"file:///home/moritz/dev/uni/mcr-py/notebooks/../src/package/osm/osm.py#106\" target=\"_blank\"><span style=\"color: #7f7f7f; text-decoration-color: #7f7f7f\">106</span></a>\n",
              "</pre>\n"
            ],
            "text/plain": [
              "\u001b[2;36m          \u001b[0m\u001b[2;36m \u001b[0m\u001b[34mINFO    \u001b[0m Using existing OSM data                                                              \u001b]8;id=124328;file:///home/moritz/dev/uni/mcr-py/notebooks/../src/package/osm/osm.py\u001b\\\u001b[2mosm.py\u001b[0m\u001b]8;;\u001b\\\u001b[2m:\u001b[0m\u001b]8;id=767124;file:///home/moritz/dev/uni/mcr-py/notebooks/../src/package/osm/osm.py#106\u001b\\\u001b[2m106\u001b[0m\u001b]8;;\u001b\\\n"
            ]
          },
          "metadata": {},
          "output_type": "display_data"
        },
        {
          "data": {
            "text/html": [
              "<pre style=\"white-space:pre;overflow-x:auto;line-height:normal;font-family:Menlo,'DejaVu Sans Mono',consolas,'Courier New',monospace\"><span style=\"color: #7fbfbf; text-decoration-color: #7fbfbf\">           </span><span style=\"color: #000080; text-decoration-color: #000080\">INFO    </span> Loading OSM network from cache <span style=\"font-weight: bold\">(</span>walking<span style=\"font-weight: bold\">)</span>                                              <a href=\"file:///home/moritz/dev/uni/mcr-py/notebooks/../src/package/osm/osm.py\" target=\"_blank\"><span style=\"color: #7f7f7f; text-decoration-color: #7f7f7f\">osm.py</span></a><span style=\"color: #7f7f7f; text-decoration-color: #7f7f7f\">:</span><a href=\"file:///home/moritz/dev/uni/mcr-py/notebooks/../src/package/osm/osm.py#69\" target=\"_blank\"><span style=\"color: #7f7f7f; text-decoration-color: #7f7f7f\">69</span></a>\n",
              "</pre>\n"
            ],
            "text/plain": [
              "\u001b[2;36m          \u001b[0m\u001b[2;36m \u001b[0m\u001b[34mINFO    \u001b[0m Loading OSM network from cache \u001b[1m(\u001b[0mwalking\u001b[1m)\u001b[0m                                              \u001b]8;id=769799;file:///home/moritz/dev/uni/mcr-py/notebooks/../src/package/osm/osm.py\u001b\\\u001b[2mosm.py\u001b[0m\u001b]8;;\u001b\\\u001b[2m:\u001b[0m\u001b]8;id=125538;file:///home/moritz/dev/uni/mcr-py/notebooks/../src/package/osm/osm.py#69\u001b\\\u001b[2m69\u001b[0m\u001b]8;;\u001b\\\n"
            ]
          },
          "metadata": {},
          "output_type": "display_data"
        },
        {
          "data": {
            "text/html": [
              "<pre style=\"white-space:pre;overflow-x:auto;line-height:normal;font-family:Menlo,'DejaVu Sans Mono',consolas,'Courier New',monospace\"><span style=\"color: #7fbfbf; text-decoration-color: #7fbfbf\">[05:06:39] </span><span style=\"color: #000080; text-decoration-color: #000080\">INFO    </span> Using existing OSM data                                                              <a href=\"file:///home/moritz/dev/uni/mcr-py/notebooks/../src/package/osm/osm.py\" target=\"_blank\"><span style=\"color: #7f7f7f; text-decoration-color: #7f7f7f\">osm.py</span></a><span style=\"color: #7f7f7f; text-decoration-color: #7f7f7f\">:</span><a href=\"file:///home/moritz/dev/uni/mcr-py/notebooks/../src/package/osm/osm.py#106\" target=\"_blank\"><span style=\"color: #7f7f7f; text-decoration-color: #7f7f7f\">106</span></a>\n",
              "</pre>\n"
            ],
            "text/plain": [
              "\u001b[2;36m[05:06:39]\u001b[0m\u001b[2;36m \u001b[0m\u001b[34mINFO    \u001b[0m Using existing OSM data                                                              \u001b]8;id=460976;file:///home/moritz/dev/uni/mcr-py/notebooks/../src/package/osm/osm.py\u001b\\\u001b[2mosm.py\u001b[0m\u001b]8;;\u001b\\\u001b[2m:\u001b[0m\u001b]8;id=440913;file:///home/moritz/dev/uni/mcr-py/notebooks/../src/package/osm/osm.py#106\u001b\\\u001b[2m106\u001b[0m\u001b]8;;\u001b\\\n"
            ]
          },
          "metadata": {},
          "output_type": "display_data"
        },
        {
          "data": {
            "text/html": [
              "<pre style=\"white-space:pre;overflow-x:auto;line-height:normal;font-family:Menlo,'DejaVu Sans Mono',consolas,'Courier New',monospace\"><span style=\"color: #7fbfbf; text-decoration-color: #7fbfbf\">           </span><span style=\"color: #000080; text-decoration-color: #000080\">INFO    </span> Loading OSM network from cache <span style=\"font-weight: bold\">(</span>cycling<span style=\"font-weight: bold\">)</span>                                              <a href=\"file:///home/moritz/dev/uni/mcr-py/notebooks/../src/package/osm/osm.py\" target=\"_blank\"><span style=\"color: #7f7f7f; text-decoration-color: #7f7f7f\">osm.py</span></a><span style=\"color: #7f7f7f; text-decoration-color: #7f7f7f\">:</span><a href=\"file:///home/moritz/dev/uni/mcr-py/notebooks/../src/package/osm/osm.py#69\" target=\"_blank\"><span style=\"color: #7f7f7f; text-decoration-color: #7f7f7f\">69</span></a>\n",
              "</pre>\n"
            ],
            "text/plain": [
              "\u001b[2;36m          \u001b[0m\u001b[2;36m \u001b[0m\u001b[34mINFO    \u001b[0m Loading OSM network from cache \u001b[1m(\u001b[0mcycling\u001b[1m)\u001b[0m                                              \u001b]8;id=840314;file:///home/moritz/dev/uni/mcr-py/notebooks/../src/package/osm/osm.py\u001b\\\u001b[2mosm.py\u001b[0m\u001b]8;;\u001b\\\u001b[2m:\u001b[0m\u001b]8;id=484058;file:///home/moritz/dev/uni/mcr-py/notebooks/../src/package/osm/osm.py#69\u001b\\\u001b[2m69\u001b[0m\u001b]8;;\u001b\\\n"
            ]
          },
          "metadata": {},
          "output_type": "display_data"
        },
        {
          "data": {
            "text/html": [
              "<pre style=\"white-space:pre;overflow-x:auto;line-height:normal;font-family:Menlo,'DejaVu Sans Mono',consolas,'Courier New',monospace\"><span style=\"color: #7fbfbf; text-decoration-color: #7fbfbf\">[05:07:37] </span><span style=\"color: #000080; text-decoration-color: #000080\">INFO    </span> Fetching POI for runtime optimization                                         <a href=\"file:///home/moritz/dev/uni/mcr-py/notebooks/../src/command/step_config.py\" target=\"_blank\"><span style=\"color: #7f7f7f; text-decoration-color: #7f7f7f\">step_config.py</span></a><span style=\"color: #7f7f7f; text-decoration-color: #7f7f7f\">:</span><a href=\"file:///home/moritz/dev/uni/mcr-py/notebooks/../src/command/step_config.py#93\" target=\"_blank\"><span style=\"color: #7f7f7f; text-decoration-color: #7f7f7f\">93</span></a>\n",
              "</pre>\n"
            ],
            "text/plain": [
              "\u001b[2;36m[05:07:37]\u001b[0m\u001b[2;36m \u001b[0m\u001b[34mINFO    \u001b[0m Fetching POI for runtime optimization                                         \u001b]8;id=312506;file:///home/moritz/dev/uni/mcr-py/notebooks/../src/command/step_config.py\u001b\\\u001b[2mstep_config.py\u001b[0m\u001b]8;;\u001b\\\u001b[2m:\u001b[0m\u001b]8;id=606253;file:///home/moritz/dev/uni/mcr-py/notebooks/../src/command/step_config.py#93\u001b\\\u001b[2m93\u001b[0m\u001b]8;;\u001b\\\n"
            ]
          },
          "metadata": {},
          "output_type": "display_data"
        },
        {
          "data": {
            "text/html": [
              "<pre style=\"white-space:pre;overflow-x:auto;line-height:normal;font-family:Menlo,'DejaVu Sans Mono',consolas,'Courier New',monospace\"><span style=\"color: #7fbfbf; text-decoration-color: #7fbfbf\">           </span><span style=\"color: #000080; text-decoration-color: #000080\">INFO    </span> Fetching POI for runtime optimization done <span style=\"font-weight: bold\">(</span><span style=\"color: #008080; text-decoration-color: #008080; font-weight: bold\">0.06</span> seconds<span style=\"font-weight: bold\">)</span>                     <a href=\"file:///home/moritz/dev/uni/mcr-py/notebooks/../src/command/step_config.py\" target=\"_blank\"><span style=\"color: #7f7f7f; text-decoration-color: #7f7f7f\">step_config.py</span></a><span style=\"color: #7f7f7f; text-decoration-color: #7f7f7f\">:</span><a href=\"file:///home/moritz/dev/uni/mcr-py/notebooks/../src/command/step_config.py#93\" target=\"_blank\"><span style=\"color: #7f7f7f; text-decoration-color: #7f7f7f\">93</span></a>\n",
              "</pre>\n"
            ],
            "text/plain": [
              "\u001b[2;36m          \u001b[0m\u001b[2;36m \u001b[0m\u001b[34mINFO    \u001b[0m Fetching POI for runtime optimization done \u001b[1m(\u001b[0m\u001b[1;36m0.06\u001b[0m seconds\u001b[1m)\u001b[0m                     \u001b]8;id=598752;file:///home/moritz/dev/uni/mcr-py/notebooks/../src/command/step_config.py\u001b\\\u001b[2mstep_config.py\u001b[0m\u001b]8;;\u001b\\\u001b[2m:\u001b[0m\u001b]8;id=669575;file:///home/moritz/dev/uni/mcr-py/notebooks/../src/command/step_config.py#93\u001b\\\u001b[2m93\u001b[0m\u001b]8;;\u001b\\\n"
            ]
          },
          "metadata": {},
          "output_type": "display_data"
        },
        {
          "data": {
            "application/vnd.jupyter.widget-view+json": {
              "model_id": "ef742faa113c4ac9933f00831a1aed05",
              "version_major": 2,
              "version_minor": 0
            },
            "text/plain": [
              "Starting:   0%|          | 0/1782 [00:00<?, ?it/s]"
            ]
          },
          "metadata": {},
          "output_type": "display_data"
        },
        {
          "data": {
            "text/html": [
              "<pre style=\"white-space:pre;overflow-x:auto;line-height:normal;font-family:Menlo,'DejaVu Sans Mono',consolas,'Courier New',monospace\"><span style=\"color: #7fbfbf; text-decoration-color: #7fbfbf\">[05:26:15] </span><span style=\"color: #000080; text-decoration-color: #000080\">INFO    </span> All processes finished.                                                             <a href=\"file:///home/moritz/dev/uni/mcr-py/notebooks/../src/package/mcr5/mcr5.py\" target=\"_blank\"><span style=\"color: #7f7f7f; text-decoration-color: #7f7f7f\">mcr5.py</span></a><span style=\"color: #7f7f7f; text-decoration-color: #7f7f7f\">:</span><a href=\"file:///home/moritz/dev/uni/mcr-py/notebooks/../src/package/mcr5/mcr5.py#100\" target=\"_blank\"><span style=\"color: #7f7f7f; text-decoration-color: #7f7f7f\">100</span></a>\n",
              "</pre>\n"
            ],
            "text/plain": [
              "\u001b[2;36m[05:26:15]\u001b[0m\u001b[2;36m \u001b[0m\u001b[34mINFO    \u001b[0m All processes finished.                                                             \u001b]8;id=307138;file:///home/moritz/dev/uni/mcr-py/notebooks/../src/package/mcr5/mcr5.py\u001b\\\u001b[2mmcr5.py\u001b[0m\u001b]8;;\u001b\\\u001b[2m:\u001b[0m\u001b]8;id=947579;file:///home/moritz/dev/uni/mcr-py/notebooks/../src/package/mcr5/mcr5.py#100\u001b\\\u001b[2m100\u001b[0m\u001b]8;;\u001b\\\n"
            ]
          },
          "metadata": {},
          "output_type": "display_data"
        },
        {
          "data": {
            "text/html": [
              "<pre style=\"white-space:pre;overflow-x:auto;line-height:normal;font-family:Menlo,'DejaVu Sans Mono',consolas,'Courier New',monospace\"><span style=\"color: #7fbfbf; text-decoration-color: #7fbfbf\">           </span><span style=\"color: #000080; text-decoration-color: #000080\">INFO    </span> Running MCR5 for bicycle_2                                                       <a href=\"file:///tmp/ipykernel_5877/542061263.py\" target=\"_blank\"><span style=\"color: #7f7f7f; text-decoration-color: #7f7f7f\">542061263.py</span></a><span style=\"color: #7f7f7f; text-decoration-color: #7f7f7f\">:</span><a href=\"file:///tmp/ipykernel_5877/542061263.py#4\" target=\"_blank\"><span style=\"color: #7f7f7f; text-decoration-color: #7f7f7f\">4</span></a>\n",
              "</pre>\n"
            ],
            "text/plain": [
              "\u001b[2;36m          \u001b[0m\u001b[2;36m \u001b[0m\u001b[34mINFO    \u001b[0m Running MCR5 for bicycle_2                                                       \u001b]8;id=461558;file:///tmp/ipykernel_5877/542061263.py\u001b\\\u001b[2m542061263.py\u001b[0m\u001b]8;;\u001b\\\u001b[2m:\u001b[0m\u001b]8;id=148136;file:///tmp/ipykernel_5877/542061263.py#4\u001b\\\u001b[2m4\u001b[0m\u001b]8;;\u001b\\\n"
            ]
          },
          "metadata": {},
          "output_type": "display_data"
        },
        {
          "data": {
            "text/html": [
              "<pre style=\"white-space:pre;overflow-x:auto;line-height:normal;font-family:Menlo,'DejaVu Sans Mono',consolas,'Courier New',monospace\"><span style=\"color: #7fbfbf; text-decoration-color: #7fbfbf\">           </span><span style=\"color: #000080; text-decoration-color: #000080\">INFO    </span> Using existing OSM data                                                              <a href=\"file:///home/moritz/dev/uni/mcr-py/notebooks/../src/package/osm/osm.py\" target=\"_blank\"><span style=\"color: #7f7f7f; text-decoration-color: #7f7f7f\">osm.py</span></a><span style=\"color: #7f7f7f; text-decoration-color: #7f7f7f\">:</span><a href=\"file:///home/moritz/dev/uni/mcr-py/notebooks/../src/package/osm/osm.py#106\" target=\"_blank\"><span style=\"color: #7f7f7f; text-decoration-color: #7f7f7f\">106</span></a>\n",
              "</pre>\n"
            ],
            "text/plain": [
              "\u001b[2;36m          \u001b[0m\u001b[2;36m \u001b[0m\u001b[34mINFO    \u001b[0m Using existing OSM data                                                              \u001b]8;id=835415;file:///home/moritz/dev/uni/mcr-py/notebooks/../src/package/osm/osm.py\u001b\\\u001b[2mosm.py\u001b[0m\u001b]8;;\u001b\\\u001b[2m:\u001b[0m\u001b]8;id=193810;file:///home/moritz/dev/uni/mcr-py/notebooks/../src/package/osm/osm.py#106\u001b\\\u001b[2m106\u001b[0m\u001b]8;;\u001b\\\n"
            ]
          },
          "metadata": {},
          "output_type": "display_data"
        },
        {
          "data": {
            "text/html": [
              "<pre style=\"white-space:pre;overflow-x:auto;line-height:normal;font-family:Menlo,'DejaVu Sans Mono',consolas,'Courier New',monospace\"><span style=\"color: #7fbfbf; text-decoration-color: #7fbfbf\">           </span><span style=\"color: #000080; text-decoration-color: #000080\">INFO    </span> Loading OSM network from cache <span style=\"font-weight: bold\">(</span>walking<span style=\"font-weight: bold\">)</span>                                              <a href=\"file:///home/moritz/dev/uni/mcr-py/notebooks/../src/package/osm/osm.py\" target=\"_blank\"><span style=\"color: #7f7f7f; text-decoration-color: #7f7f7f\">osm.py</span></a><span style=\"color: #7f7f7f; text-decoration-color: #7f7f7f\">:</span><a href=\"file:///home/moritz/dev/uni/mcr-py/notebooks/../src/package/osm/osm.py#69\" target=\"_blank\"><span style=\"color: #7f7f7f; text-decoration-color: #7f7f7f\">69</span></a>\n",
              "</pre>\n"
            ],
            "text/plain": [
              "\u001b[2;36m          \u001b[0m\u001b[2;36m \u001b[0m\u001b[34mINFO    \u001b[0m Loading OSM network from cache \u001b[1m(\u001b[0mwalking\u001b[1m)\u001b[0m                                              \u001b]8;id=883935;file:///home/moritz/dev/uni/mcr-py/notebooks/../src/package/osm/osm.py\u001b\\\u001b[2mosm.py\u001b[0m\u001b]8;;\u001b\\\u001b[2m:\u001b[0m\u001b]8;id=523132;file:///home/moritz/dev/uni/mcr-py/notebooks/../src/package/osm/osm.py#69\u001b\\\u001b[2m69\u001b[0m\u001b]8;;\u001b\\\n"
            ]
          },
          "metadata": {},
          "output_type": "display_data"
        },
        {
          "data": {
            "text/html": [
              "<pre style=\"white-space:pre;overflow-x:auto;line-height:normal;font-family:Menlo,'DejaVu Sans Mono',consolas,'Courier New',monospace\"><span style=\"color: #7fbfbf; text-decoration-color: #7fbfbf\">[05:27:24] </span><span style=\"color: #000080; text-decoration-color: #000080\">INFO    </span> Using existing OSM data                                                              <a href=\"file:///home/moritz/dev/uni/mcr-py/notebooks/../src/package/osm/osm.py\" target=\"_blank\"><span style=\"color: #7f7f7f; text-decoration-color: #7f7f7f\">osm.py</span></a><span style=\"color: #7f7f7f; text-decoration-color: #7f7f7f\">:</span><a href=\"file:///home/moritz/dev/uni/mcr-py/notebooks/../src/package/osm/osm.py#106\" target=\"_blank\"><span style=\"color: #7f7f7f; text-decoration-color: #7f7f7f\">106</span></a>\n",
              "</pre>\n"
            ],
            "text/plain": [
              "\u001b[2;36m[05:27:24]\u001b[0m\u001b[2;36m \u001b[0m\u001b[34mINFO    \u001b[0m Using existing OSM data                                                              \u001b]8;id=831282;file:///home/moritz/dev/uni/mcr-py/notebooks/../src/package/osm/osm.py\u001b\\\u001b[2mosm.py\u001b[0m\u001b]8;;\u001b\\\u001b[2m:\u001b[0m\u001b]8;id=688955;file:///home/moritz/dev/uni/mcr-py/notebooks/../src/package/osm/osm.py#106\u001b\\\u001b[2m106\u001b[0m\u001b]8;;\u001b\\\n"
            ]
          },
          "metadata": {},
          "output_type": "display_data"
        },
        {
          "data": {
            "text/html": [
              "<pre style=\"white-space:pre;overflow-x:auto;line-height:normal;font-family:Menlo,'DejaVu Sans Mono',consolas,'Courier New',monospace\"><span style=\"color: #7fbfbf; text-decoration-color: #7fbfbf\">           </span><span style=\"color: #000080; text-decoration-color: #000080\">INFO    </span> Loading OSM network from cache <span style=\"font-weight: bold\">(</span>cycling<span style=\"font-weight: bold\">)</span>                                              <a href=\"file:///home/moritz/dev/uni/mcr-py/notebooks/../src/package/osm/osm.py\" target=\"_blank\"><span style=\"color: #7f7f7f; text-decoration-color: #7f7f7f\">osm.py</span></a><span style=\"color: #7f7f7f; text-decoration-color: #7f7f7f\">:</span><a href=\"file:///home/moritz/dev/uni/mcr-py/notebooks/../src/package/osm/osm.py#69\" target=\"_blank\"><span style=\"color: #7f7f7f; text-decoration-color: #7f7f7f\">69</span></a>\n",
              "</pre>\n"
            ],
            "text/plain": [
              "\u001b[2;36m          \u001b[0m\u001b[2;36m \u001b[0m\u001b[34mINFO    \u001b[0m Loading OSM network from cache \u001b[1m(\u001b[0mcycling\u001b[1m)\u001b[0m                                              \u001b]8;id=936597;file:///home/moritz/dev/uni/mcr-py/notebooks/../src/package/osm/osm.py\u001b\\\u001b[2mosm.py\u001b[0m\u001b]8;;\u001b\\\u001b[2m:\u001b[0m\u001b]8;id=683253;file:///home/moritz/dev/uni/mcr-py/notebooks/../src/package/osm/osm.py#69\u001b\\\u001b[2m69\u001b[0m\u001b]8;;\u001b\\\n"
            ]
          },
          "metadata": {},
          "output_type": "display_data"
        },
        {
          "data": {
            "text/html": [
              "<pre style=\"white-space:pre;overflow-x:auto;line-height:normal;font-family:Menlo,'DejaVu Sans Mono',consolas,'Courier New',monospace\"><span style=\"color: #7fbfbf; text-decoration-color: #7fbfbf\">[05:28:27] </span><span style=\"color: #000080; text-decoration-color: #000080\">INFO    </span> Fetching POI for runtime optimization                                         <a href=\"file:///home/moritz/dev/uni/mcr-py/notebooks/../src/command/step_config.py\" target=\"_blank\"><span style=\"color: #7f7f7f; text-decoration-color: #7f7f7f\">step_config.py</span></a><span style=\"color: #7f7f7f; text-decoration-color: #7f7f7f\">:</span><a href=\"file:///home/moritz/dev/uni/mcr-py/notebooks/../src/command/step_config.py#93\" target=\"_blank\"><span style=\"color: #7f7f7f; text-decoration-color: #7f7f7f\">93</span></a>\n",
              "</pre>\n"
            ],
            "text/plain": [
              "\u001b[2;36m[05:28:27]\u001b[0m\u001b[2;36m \u001b[0m\u001b[34mINFO    \u001b[0m Fetching POI for runtime optimization                                         \u001b]8;id=307102;file:///home/moritz/dev/uni/mcr-py/notebooks/../src/command/step_config.py\u001b\\\u001b[2mstep_config.py\u001b[0m\u001b]8;;\u001b\\\u001b[2m:\u001b[0m\u001b]8;id=643489;file:///home/moritz/dev/uni/mcr-py/notebooks/../src/command/step_config.py#93\u001b\\\u001b[2m93\u001b[0m\u001b]8;;\u001b\\\n"
            ]
          },
          "metadata": {},
          "output_type": "display_data"
        },
        {
          "data": {
            "text/html": [
              "<pre style=\"white-space:pre;overflow-x:auto;line-height:normal;font-family:Menlo,'DejaVu Sans Mono',consolas,'Courier New',monospace\"><span style=\"color: #7fbfbf; text-decoration-color: #7fbfbf\">           </span><span style=\"color: #000080; text-decoration-color: #000080\">INFO    </span> Fetching POI for runtime optimization done <span style=\"font-weight: bold\">(</span><span style=\"color: #008080; text-decoration-color: #008080; font-weight: bold\">0.06</span> seconds<span style=\"font-weight: bold\">)</span>                     <a href=\"file:///home/moritz/dev/uni/mcr-py/notebooks/../src/command/step_config.py\" target=\"_blank\"><span style=\"color: #7f7f7f; text-decoration-color: #7f7f7f\">step_config.py</span></a><span style=\"color: #7f7f7f; text-decoration-color: #7f7f7f\">:</span><a href=\"file:///home/moritz/dev/uni/mcr-py/notebooks/../src/command/step_config.py#93\" target=\"_blank\"><span style=\"color: #7f7f7f; text-decoration-color: #7f7f7f\">93</span></a>\n",
              "</pre>\n"
            ],
            "text/plain": [
              "\u001b[2;36m          \u001b[0m\u001b[2;36m \u001b[0m\u001b[34mINFO    \u001b[0m Fetching POI for runtime optimization done \u001b[1m(\u001b[0m\u001b[1;36m0.06\u001b[0m seconds\u001b[1m)\u001b[0m                     \u001b]8;id=430477;file:///home/moritz/dev/uni/mcr-py/notebooks/../src/command/step_config.py\u001b\\\u001b[2mstep_config.py\u001b[0m\u001b]8;;\u001b\\\u001b[2m:\u001b[0m\u001b]8;id=553070;file:///home/moritz/dev/uni/mcr-py/notebooks/../src/command/step_config.py#93\u001b\\\u001b[2m93\u001b[0m\u001b]8;;\u001b\\\n"
            ]
          },
          "metadata": {},
          "output_type": "display_data"
        },
        {
          "data": {
            "application/vnd.jupyter.widget-view+json": {
              "model_id": "ad5877c0f5474f63b3664a949417fb9a",
              "version_major": 2,
              "version_minor": 0
            },
            "text/plain": [
              "Starting:   0%|          | 0/1782 [00:00<?, ?it/s]"
            ]
          },
          "metadata": {},
          "output_type": "display_data"
        },
        {
          "data": {
            "text/html": [
              "<pre style=\"white-space:pre;overflow-x:auto;line-height:normal;font-family:Menlo,'DejaVu Sans Mono',consolas,'Courier New',monospace\"><span style=\"color: #7fbfbf; text-decoration-color: #7fbfbf\">[05:47:02] </span><span style=\"color: #000080; text-decoration-color: #000080\">INFO    </span> All processes finished.                                                             <a href=\"file:///home/moritz/dev/uni/mcr-py/notebooks/../src/package/mcr5/mcr5.py\" target=\"_blank\"><span style=\"color: #7f7f7f; text-decoration-color: #7f7f7f\">mcr5.py</span></a><span style=\"color: #7f7f7f; text-decoration-color: #7f7f7f\">:</span><a href=\"file:///home/moritz/dev/uni/mcr-py/notebooks/../src/package/mcr5/mcr5.py#100\" target=\"_blank\"><span style=\"color: #7f7f7f; text-decoration-color: #7f7f7f\">100</span></a>\n",
              "</pre>\n"
            ],
            "text/plain": [
              "\u001b[2;36m[05:47:02]\u001b[0m\u001b[2;36m \u001b[0m\u001b[34mINFO    \u001b[0m All processes finished.                                                             \u001b]8;id=340579;file:///home/moritz/dev/uni/mcr-py/notebooks/../src/package/mcr5/mcr5.py\u001b\\\u001b[2mmcr5.py\u001b[0m\u001b]8;;\u001b\\\u001b[2m:\u001b[0m\u001b]8;id=213915;file:///home/moritz/dev/uni/mcr-py/notebooks/../src/package/mcr5/mcr5.py#100\u001b\\\u001b[2m100\u001b[0m\u001b]8;;\u001b\\\n"
            ]
          },
          "metadata": {},
          "output_type": "display_data"
        },
        {
          "data": {
            "text/html": [
              "<pre style=\"white-space:pre;overflow-x:auto;line-height:normal;font-family:Menlo,'DejaVu Sans Mono',consolas,'Courier New',monospace\"><span style=\"color: #7fbfbf; text-decoration-color: #7fbfbf\">           </span><span style=\"color: #000080; text-decoration-color: #000080\">INFO    </span> Running MCR5 for bicycle_3                                                       <a href=\"file:///tmp/ipykernel_5877/542061263.py\" target=\"_blank\"><span style=\"color: #7f7f7f; text-decoration-color: #7f7f7f\">542061263.py</span></a><span style=\"color: #7f7f7f; text-decoration-color: #7f7f7f\">:</span><a href=\"file:///tmp/ipykernel_5877/542061263.py#4\" target=\"_blank\"><span style=\"color: #7f7f7f; text-decoration-color: #7f7f7f\">4</span></a>\n",
              "</pre>\n"
            ],
            "text/plain": [
              "\u001b[2;36m          \u001b[0m\u001b[2;36m \u001b[0m\u001b[34mINFO    \u001b[0m Running MCR5 for bicycle_3                                                       \u001b]8;id=716819;file:///tmp/ipykernel_5877/542061263.py\u001b\\\u001b[2m542061263.py\u001b[0m\u001b]8;;\u001b\\\u001b[2m:\u001b[0m\u001b]8;id=276526;file:///tmp/ipykernel_5877/542061263.py#4\u001b\\\u001b[2m4\u001b[0m\u001b]8;;\u001b\\\n"
            ]
          },
          "metadata": {},
          "output_type": "display_data"
        },
        {
          "data": {
            "text/html": [
              "<pre style=\"white-space:pre;overflow-x:auto;line-height:normal;font-family:Menlo,'DejaVu Sans Mono',consolas,'Courier New',monospace\"><span style=\"color: #7fbfbf; text-decoration-color: #7fbfbf\">           </span><span style=\"color: #000080; text-decoration-color: #000080\">INFO    </span> Using existing OSM data                                                              <a href=\"file:///home/moritz/dev/uni/mcr-py/notebooks/../src/package/osm/osm.py\" target=\"_blank\"><span style=\"color: #7f7f7f; text-decoration-color: #7f7f7f\">osm.py</span></a><span style=\"color: #7f7f7f; text-decoration-color: #7f7f7f\">:</span><a href=\"file:///home/moritz/dev/uni/mcr-py/notebooks/../src/package/osm/osm.py#106\" target=\"_blank\"><span style=\"color: #7f7f7f; text-decoration-color: #7f7f7f\">106</span></a>\n",
              "</pre>\n"
            ],
            "text/plain": [
              "\u001b[2;36m          \u001b[0m\u001b[2;36m \u001b[0m\u001b[34mINFO    \u001b[0m Using existing OSM data                                                              \u001b]8;id=3109;file:///home/moritz/dev/uni/mcr-py/notebooks/../src/package/osm/osm.py\u001b\\\u001b[2mosm.py\u001b[0m\u001b]8;;\u001b\\\u001b[2m:\u001b[0m\u001b]8;id=426406;file:///home/moritz/dev/uni/mcr-py/notebooks/../src/package/osm/osm.py#106\u001b\\\u001b[2m106\u001b[0m\u001b]8;;\u001b\\\n"
            ]
          },
          "metadata": {},
          "output_type": "display_data"
        },
        {
          "data": {
            "text/html": [
              "<pre style=\"white-space:pre;overflow-x:auto;line-height:normal;font-family:Menlo,'DejaVu Sans Mono',consolas,'Courier New',monospace\"><span style=\"color: #7fbfbf; text-decoration-color: #7fbfbf\">           </span><span style=\"color: #000080; text-decoration-color: #000080\">INFO    </span> Loading OSM network from cache <span style=\"font-weight: bold\">(</span>walking<span style=\"font-weight: bold\">)</span>                                              <a href=\"file:///home/moritz/dev/uni/mcr-py/notebooks/../src/package/osm/osm.py\" target=\"_blank\"><span style=\"color: #7f7f7f; text-decoration-color: #7f7f7f\">osm.py</span></a><span style=\"color: #7f7f7f; text-decoration-color: #7f7f7f\">:</span><a href=\"file:///home/moritz/dev/uni/mcr-py/notebooks/../src/package/osm/osm.py#69\" target=\"_blank\"><span style=\"color: #7f7f7f; text-decoration-color: #7f7f7f\">69</span></a>\n",
              "</pre>\n"
            ],
            "text/plain": [
              "\u001b[2;36m          \u001b[0m\u001b[2;36m \u001b[0m\u001b[34mINFO    \u001b[0m Loading OSM network from cache \u001b[1m(\u001b[0mwalking\u001b[1m)\u001b[0m                                              \u001b]8;id=795812;file:///home/moritz/dev/uni/mcr-py/notebooks/../src/package/osm/osm.py\u001b\\\u001b[2mosm.py\u001b[0m\u001b]8;;\u001b\\\u001b[2m:\u001b[0m\u001b]8;id=700896;file:///home/moritz/dev/uni/mcr-py/notebooks/../src/package/osm/osm.py#69\u001b\\\u001b[2m69\u001b[0m\u001b]8;;\u001b\\\n"
            ]
          },
          "metadata": {},
          "output_type": "display_data"
        },
        {
          "data": {
            "text/html": [
              "<pre style=\"white-space:pre;overflow-x:auto;line-height:normal;font-family:Menlo,'DejaVu Sans Mono',consolas,'Courier New',monospace\"><span style=\"color: #7fbfbf; text-decoration-color: #7fbfbf\">[05:48:15] </span><span style=\"color: #000080; text-decoration-color: #000080\">INFO    </span> Using existing OSM data                                                              <a href=\"file:///home/moritz/dev/uni/mcr-py/notebooks/../src/package/osm/osm.py\" target=\"_blank\"><span style=\"color: #7f7f7f; text-decoration-color: #7f7f7f\">osm.py</span></a><span style=\"color: #7f7f7f; text-decoration-color: #7f7f7f\">:</span><a href=\"file:///home/moritz/dev/uni/mcr-py/notebooks/../src/package/osm/osm.py#106\" target=\"_blank\"><span style=\"color: #7f7f7f; text-decoration-color: #7f7f7f\">106</span></a>\n",
              "</pre>\n"
            ],
            "text/plain": [
              "\u001b[2;36m[05:48:15]\u001b[0m\u001b[2;36m \u001b[0m\u001b[34mINFO    \u001b[0m Using existing OSM data                                                              \u001b]8;id=443963;file:///home/moritz/dev/uni/mcr-py/notebooks/../src/package/osm/osm.py\u001b\\\u001b[2mosm.py\u001b[0m\u001b]8;;\u001b\\\u001b[2m:\u001b[0m\u001b]8;id=188394;file:///home/moritz/dev/uni/mcr-py/notebooks/../src/package/osm/osm.py#106\u001b\\\u001b[2m106\u001b[0m\u001b]8;;\u001b\\\n"
            ]
          },
          "metadata": {},
          "output_type": "display_data"
        },
        {
          "data": {
            "text/html": [
              "<pre style=\"white-space:pre;overflow-x:auto;line-height:normal;font-family:Menlo,'DejaVu Sans Mono',consolas,'Courier New',monospace\"><span style=\"color: #7fbfbf; text-decoration-color: #7fbfbf\">           </span><span style=\"color: #000080; text-decoration-color: #000080\">INFO    </span> Loading OSM network from cache <span style=\"font-weight: bold\">(</span>cycling<span style=\"font-weight: bold\">)</span>                                              <a href=\"file:///home/moritz/dev/uni/mcr-py/notebooks/../src/package/osm/osm.py\" target=\"_blank\"><span style=\"color: #7f7f7f; text-decoration-color: #7f7f7f\">osm.py</span></a><span style=\"color: #7f7f7f; text-decoration-color: #7f7f7f\">:</span><a href=\"file:///home/moritz/dev/uni/mcr-py/notebooks/../src/package/osm/osm.py#69\" target=\"_blank\"><span style=\"color: #7f7f7f; text-decoration-color: #7f7f7f\">69</span></a>\n",
              "</pre>\n"
            ],
            "text/plain": [
              "\u001b[2;36m          \u001b[0m\u001b[2;36m \u001b[0m\u001b[34mINFO    \u001b[0m Loading OSM network from cache \u001b[1m(\u001b[0mcycling\u001b[1m)\u001b[0m                                              \u001b]8;id=304664;file:///home/moritz/dev/uni/mcr-py/notebooks/../src/package/osm/osm.py\u001b\\\u001b[2mosm.py\u001b[0m\u001b]8;;\u001b\\\u001b[2m:\u001b[0m\u001b]8;id=599998;file:///home/moritz/dev/uni/mcr-py/notebooks/../src/package/osm/osm.py#69\u001b\\\u001b[2m69\u001b[0m\u001b]8;;\u001b\\\n"
            ]
          },
          "metadata": {},
          "output_type": "display_data"
        },
        {
          "data": {
            "text/html": [
              "<pre style=\"white-space:pre;overflow-x:auto;line-height:normal;font-family:Menlo,'DejaVu Sans Mono',consolas,'Courier New',monospace\"><span style=\"color: #7fbfbf; text-decoration-color: #7fbfbf\">[05:49:16] </span><span style=\"color: #000080; text-decoration-color: #000080\">INFO    </span> Fetching POI for runtime optimization                                         <a href=\"file:///home/moritz/dev/uni/mcr-py/notebooks/../src/command/step_config.py\" target=\"_blank\"><span style=\"color: #7f7f7f; text-decoration-color: #7f7f7f\">step_config.py</span></a><span style=\"color: #7f7f7f; text-decoration-color: #7f7f7f\">:</span><a href=\"file:///home/moritz/dev/uni/mcr-py/notebooks/../src/command/step_config.py#93\" target=\"_blank\"><span style=\"color: #7f7f7f; text-decoration-color: #7f7f7f\">93</span></a>\n",
              "</pre>\n"
            ],
            "text/plain": [
              "\u001b[2;36m[05:49:16]\u001b[0m\u001b[2;36m \u001b[0m\u001b[34mINFO    \u001b[0m Fetching POI for runtime optimization                                         \u001b]8;id=889582;file:///home/moritz/dev/uni/mcr-py/notebooks/../src/command/step_config.py\u001b\\\u001b[2mstep_config.py\u001b[0m\u001b]8;;\u001b\\\u001b[2m:\u001b[0m\u001b]8;id=959882;file:///home/moritz/dev/uni/mcr-py/notebooks/../src/command/step_config.py#93\u001b\\\u001b[2m93\u001b[0m\u001b]8;;\u001b\\\n"
            ]
          },
          "metadata": {},
          "output_type": "display_data"
        },
        {
          "data": {
            "text/html": [
              "<pre style=\"white-space:pre;overflow-x:auto;line-height:normal;font-family:Menlo,'DejaVu Sans Mono',consolas,'Courier New',monospace\"><span style=\"color: #7fbfbf; text-decoration-color: #7fbfbf\">           </span><span style=\"color: #000080; text-decoration-color: #000080\">INFO    </span> Fetching POI for runtime optimization done <span style=\"font-weight: bold\">(</span><span style=\"color: #008080; text-decoration-color: #008080; font-weight: bold\">0.06</span> seconds<span style=\"font-weight: bold\">)</span>                     <a href=\"file:///home/moritz/dev/uni/mcr-py/notebooks/../src/command/step_config.py\" target=\"_blank\"><span style=\"color: #7f7f7f; text-decoration-color: #7f7f7f\">step_config.py</span></a><span style=\"color: #7f7f7f; text-decoration-color: #7f7f7f\">:</span><a href=\"file:///home/moritz/dev/uni/mcr-py/notebooks/../src/command/step_config.py#93\" target=\"_blank\"><span style=\"color: #7f7f7f; text-decoration-color: #7f7f7f\">93</span></a>\n",
              "</pre>\n"
            ],
            "text/plain": [
              "\u001b[2;36m          \u001b[0m\u001b[2;36m \u001b[0m\u001b[34mINFO    \u001b[0m Fetching POI for runtime optimization done \u001b[1m(\u001b[0m\u001b[1;36m0.06\u001b[0m seconds\u001b[1m)\u001b[0m                     \u001b]8;id=70968;file:///home/moritz/dev/uni/mcr-py/notebooks/../src/command/step_config.py\u001b\\\u001b[2mstep_config.py\u001b[0m\u001b]8;;\u001b\\\u001b[2m:\u001b[0m\u001b]8;id=520834;file:///home/moritz/dev/uni/mcr-py/notebooks/../src/command/step_config.py#93\u001b\\\u001b[2m93\u001b[0m\u001b]8;;\u001b\\\n"
            ]
          },
          "metadata": {},
          "output_type": "display_data"
        },
        {
          "data": {
            "application/vnd.jupyter.widget-view+json": {
              "model_id": "fd8fbe0374c946e0a2366942c09a4d03",
              "version_major": 2,
              "version_minor": 0
            },
            "text/plain": [
              "Starting:   0%|          | 0/1782 [00:00<?, ?it/s]"
            ]
          },
          "metadata": {},
          "output_type": "display_data"
        },
        {
          "data": {
            "text/html": [
              "<pre style=\"white-space:pre;overflow-x:auto;line-height:normal;font-family:Menlo,'DejaVu Sans Mono',consolas,'Courier New',monospace\"><span style=\"color: #7fbfbf; text-decoration-color: #7fbfbf\">[06:07:39] </span><span style=\"color: #000080; text-decoration-color: #000080\">INFO    </span> All processes finished.                                                             <a href=\"file:///home/moritz/dev/uni/mcr-py/notebooks/../src/package/mcr5/mcr5.py\" target=\"_blank\"><span style=\"color: #7f7f7f; text-decoration-color: #7f7f7f\">mcr5.py</span></a><span style=\"color: #7f7f7f; text-decoration-color: #7f7f7f\">:</span><a href=\"file:///home/moritz/dev/uni/mcr-py/notebooks/../src/package/mcr5/mcr5.py#100\" target=\"_blank\"><span style=\"color: #7f7f7f; text-decoration-color: #7f7f7f\">100</span></a>\n",
              "</pre>\n"
            ],
            "text/plain": [
              "\u001b[2;36m[06:07:39]\u001b[0m\u001b[2;36m \u001b[0m\u001b[34mINFO    \u001b[0m All processes finished.                                                             \u001b]8;id=842459;file:///home/moritz/dev/uni/mcr-py/notebooks/../src/package/mcr5/mcr5.py\u001b\\\u001b[2mmcr5.py\u001b[0m\u001b]8;;\u001b\\\u001b[2m:\u001b[0m\u001b]8;id=331188;file:///home/moritz/dev/uni/mcr-py/notebooks/../src/package/mcr5/mcr5.py#100\u001b\\\u001b[2m100\u001b[0m\u001b]8;;\u001b\\\n"
            ]
          },
          "metadata": {},
          "output_type": "display_data"
        },
        {
          "data": {
            "text/html": [
              "<pre style=\"white-space:pre;overflow-x:auto;line-height:normal;font-family:Menlo,'DejaVu Sans Mono',consolas,'Courier New',monospace\"><span style=\"color: #7fbfbf; text-decoration-color: #7fbfbf\">           </span><span style=\"color: #000080; text-decoration-color: #000080\">INFO    </span> Running MCR5 for car                                                             <a href=\"file:///tmp/ipykernel_5877/542061263.py\" target=\"_blank\"><span style=\"color: #7f7f7f; text-decoration-color: #7f7f7f\">542061263.py</span></a><span style=\"color: #7f7f7f; text-decoration-color: #7f7f7f\">:</span><a href=\"file:///tmp/ipykernel_5877/542061263.py#4\" target=\"_blank\"><span style=\"color: #7f7f7f; text-decoration-color: #7f7f7f\">4</span></a>\n",
              "</pre>\n"
            ],
            "text/plain": [
              "\u001b[2;36m          \u001b[0m\u001b[2;36m \u001b[0m\u001b[34mINFO    \u001b[0m Running MCR5 for car                                                             \u001b]8;id=895140;file:///tmp/ipykernel_5877/542061263.py\u001b\\\u001b[2m542061263.py\u001b[0m\u001b]8;;\u001b\\\u001b[2m:\u001b[0m\u001b]8;id=602109;file:///tmp/ipykernel_5877/542061263.py#4\u001b\\\u001b[2m4\u001b[0m\u001b]8;;\u001b\\\n"
            ]
          },
          "metadata": {},
          "output_type": "display_data"
        },
        {
          "data": {
            "text/html": [
              "<pre style=\"white-space:pre;overflow-x:auto;line-height:normal;font-family:Menlo,'DejaVu Sans Mono',consolas,'Courier New',monospace\"><span style=\"color: #7fbfbf; text-decoration-color: #7fbfbf\">           </span><span style=\"color: #000080; text-decoration-color: #000080\">INFO    </span> Using existing OSM data                                                              <a href=\"file:///home/moritz/dev/uni/mcr-py/notebooks/../src/package/osm/osm.py\" target=\"_blank\"><span style=\"color: #7f7f7f; text-decoration-color: #7f7f7f\">osm.py</span></a><span style=\"color: #7f7f7f; text-decoration-color: #7f7f7f\">:</span><a href=\"file:///home/moritz/dev/uni/mcr-py/notebooks/../src/package/osm/osm.py#106\" target=\"_blank\"><span style=\"color: #7f7f7f; text-decoration-color: #7f7f7f\">106</span></a>\n",
              "</pre>\n"
            ],
            "text/plain": [
              "\u001b[2;36m          \u001b[0m\u001b[2;36m \u001b[0m\u001b[34mINFO    \u001b[0m Using existing OSM data                                                              \u001b]8;id=333750;file:///home/moritz/dev/uni/mcr-py/notebooks/../src/package/osm/osm.py\u001b\\\u001b[2mosm.py\u001b[0m\u001b]8;;\u001b\\\u001b[2m:\u001b[0m\u001b]8;id=372105;file:///home/moritz/dev/uni/mcr-py/notebooks/../src/package/osm/osm.py#106\u001b\\\u001b[2m106\u001b[0m\u001b]8;;\u001b\\\n"
            ]
          },
          "metadata": {},
          "output_type": "display_data"
        },
        {
          "data": {
            "text/html": [
              "<pre style=\"white-space:pre;overflow-x:auto;line-height:normal;font-family:Menlo,'DejaVu Sans Mono',consolas,'Courier New',monospace\"><span style=\"color: #7fbfbf; text-decoration-color: #7fbfbf\">           </span><span style=\"color: #000080; text-decoration-color: #000080\">INFO    </span> Loading OSM network from cache <span style=\"font-weight: bold\">(</span>walking<span style=\"font-weight: bold\">)</span>                                              <a href=\"file:///home/moritz/dev/uni/mcr-py/notebooks/../src/package/osm/osm.py\" target=\"_blank\"><span style=\"color: #7f7f7f; text-decoration-color: #7f7f7f\">osm.py</span></a><span style=\"color: #7f7f7f; text-decoration-color: #7f7f7f\">:</span><a href=\"file:///home/moritz/dev/uni/mcr-py/notebooks/../src/package/osm/osm.py#69\" target=\"_blank\"><span style=\"color: #7f7f7f; text-decoration-color: #7f7f7f\">69</span></a>\n",
              "</pre>\n"
            ],
            "text/plain": [
              "\u001b[2;36m          \u001b[0m\u001b[2;36m \u001b[0m\u001b[34mINFO    \u001b[0m Loading OSM network from cache \u001b[1m(\u001b[0mwalking\u001b[1m)\u001b[0m                                              \u001b]8;id=265697;file:///home/moritz/dev/uni/mcr-py/notebooks/../src/package/osm/osm.py\u001b\\\u001b[2mosm.py\u001b[0m\u001b]8;;\u001b\\\u001b[2m:\u001b[0m\u001b]8;id=161519;file:///home/moritz/dev/uni/mcr-py/notebooks/../src/package/osm/osm.py#69\u001b\\\u001b[2m69\u001b[0m\u001b]8;;\u001b\\\n"
            ]
          },
          "metadata": {},
          "output_type": "display_data"
        },
        {
          "data": {
            "text/html": [
              "<pre style=\"white-space:pre;overflow-x:auto;line-height:normal;font-family:Menlo,'DejaVu Sans Mono',consolas,'Courier New',monospace\"><span style=\"color: #7fbfbf; text-decoration-color: #7fbfbf\">[06:08:52] </span><span style=\"color: #000080; text-decoration-color: #000080\">INFO    </span> Using existing OSM data                                                              <a href=\"file:///home/moritz/dev/uni/mcr-py/notebooks/../src/package/osm/osm.py\" target=\"_blank\"><span style=\"color: #7f7f7f; text-decoration-color: #7f7f7f\">osm.py</span></a><span style=\"color: #7f7f7f; text-decoration-color: #7f7f7f\">:</span><a href=\"file:///home/moritz/dev/uni/mcr-py/notebooks/../src/package/osm/osm.py#106\" target=\"_blank\"><span style=\"color: #7f7f7f; text-decoration-color: #7f7f7f\">106</span></a>\n",
              "</pre>\n"
            ],
            "text/plain": [
              "\u001b[2;36m[06:08:52]\u001b[0m\u001b[2;36m \u001b[0m\u001b[34mINFO    \u001b[0m Using existing OSM data                                                              \u001b]8;id=802482;file:///home/moritz/dev/uni/mcr-py/notebooks/../src/package/osm/osm.py\u001b\\\u001b[2mosm.py\u001b[0m\u001b]8;;\u001b\\\u001b[2m:\u001b[0m\u001b]8;id=489551;file:///home/moritz/dev/uni/mcr-py/notebooks/../src/package/osm/osm.py#106\u001b\\\u001b[2m106\u001b[0m\u001b]8;;\u001b\\\n"
            ]
          },
          "metadata": {},
          "output_type": "display_data"
        },
        {
          "data": {
            "text/html": [
              "<pre style=\"white-space:pre;overflow-x:auto;line-height:normal;font-family:Menlo,'DejaVu Sans Mono',consolas,'Courier New',monospace\"><span style=\"color: #7fbfbf; text-decoration-color: #7fbfbf\">           </span><span style=\"color: #000080; text-decoration-color: #000080\">INFO    </span> Loading OSM network from cache <span style=\"font-weight: bold\">(</span>driving<span style=\"font-weight: bold\">)</span>                                              <a href=\"file:///home/moritz/dev/uni/mcr-py/notebooks/../src/package/osm/osm.py\" target=\"_blank\"><span style=\"color: #7f7f7f; text-decoration-color: #7f7f7f\">osm.py</span></a><span style=\"color: #7f7f7f; text-decoration-color: #7f7f7f\">:</span><a href=\"file:///home/moritz/dev/uni/mcr-py/notebooks/../src/package/osm/osm.py#69\" target=\"_blank\"><span style=\"color: #7f7f7f; text-decoration-color: #7f7f7f\">69</span></a>\n",
              "</pre>\n"
            ],
            "text/plain": [
              "\u001b[2;36m          \u001b[0m\u001b[2;36m \u001b[0m\u001b[34mINFO    \u001b[0m Loading OSM network from cache \u001b[1m(\u001b[0mdriving\u001b[1m)\u001b[0m                                              \u001b]8;id=734083;file:///home/moritz/dev/uni/mcr-py/notebooks/../src/package/osm/osm.py\u001b\\\u001b[2mosm.py\u001b[0m\u001b]8;;\u001b\\\u001b[2m:\u001b[0m\u001b]8;id=438576;file:///home/moritz/dev/uni/mcr-py/notebooks/../src/package/osm/osm.py#69\u001b\\\u001b[2m69\u001b[0m\u001b]8;;\u001b\\\n"
            ]
          },
          "metadata": {},
          "output_type": "display_data"
        },
        {
          "data": {
            "text/html": [
              "<pre style=\"white-space:pre;overflow-x:auto;line-height:normal;font-family:Menlo,'DejaVu Sans Mono',consolas,'Courier New',monospace\"><span style=\"color: #7fbfbf; text-decoration-color: #7fbfbf\">[06:09:28] </span><span style=\"color: #000080; text-decoration-color: #000080\">INFO    </span> Fetching POI for runtime optimization                                         <a href=\"file:///home/moritz/dev/uni/mcr-py/notebooks/../src/command/step_config.py\" target=\"_blank\"><span style=\"color: #7f7f7f; text-decoration-color: #7f7f7f\">step_config.py</span></a><span style=\"color: #7f7f7f; text-decoration-color: #7f7f7f\">:</span><a href=\"file:///home/moritz/dev/uni/mcr-py/notebooks/../src/command/step_config.py#26\" target=\"_blank\"><span style=\"color: #7f7f7f; text-decoration-color: #7f7f7f\">26</span></a>\n",
              "</pre>\n"
            ],
            "text/plain": [
              "\u001b[2;36m[06:09:28]\u001b[0m\u001b[2;36m \u001b[0m\u001b[34mINFO    \u001b[0m Fetching POI for runtime optimization                                         \u001b]8;id=564992;file:///home/moritz/dev/uni/mcr-py/notebooks/../src/command/step_config.py\u001b\\\u001b[2mstep_config.py\u001b[0m\u001b]8;;\u001b\\\u001b[2m:\u001b[0m\u001b]8;id=42315;file:///home/moritz/dev/uni/mcr-py/notebooks/../src/command/step_config.py#26\u001b\\\u001b[2m26\u001b[0m\u001b]8;;\u001b\\\n"
            ]
          },
          "metadata": {},
          "output_type": "display_data"
        },
        {
          "data": {
            "text/html": [
              "<pre style=\"white-space:pre;overflow-x:auto;line-height:normal;font-family:Menlo,'DejaVu Sans Mono',consolas,'Courier New',monospace\"><span style=\"color: #7fbfbf; text-decoration-color: #7fbfbf\">           </span><span style=\"color: #000080; text-decoration-color: #000080\">INFO    </span> Fetching POI for runtime optimization done <span style=\"font-weight: bold\">(</span><span style=\"color: #008080; text-decoration-color: #008080; font-weight: bold\">0.06</span> seconds<span style=\"font-weight: bold\">)</span>                     <a href=\"file:///home/moritz/dev/uni/mcr-py/notebooks/../src/command/step_config.py\" target=\"_blank\"><span style=\"color: #7f7f7f; text-decoration-color: #7f7f7f\">step_config.py</span></a><span style=\"color: #7f7f7f; text-decoration-color: #7f7f7f\">:</span><a href=\"file:///home/moritz/dev/uni/mcr-py/notebooks/../src/command/step_config.py#26\" target=\"_blank\"><span style=\"color: #7f7f7f; text-decoration-color: #7f7f7f\">26</span></a>\n",
              "</pre>\n"
            ],
            "text/plain": [
              "\u001b[2;36m          \u001b[0m\u001b[2;36m \u001b[0m\u001b[34mINFO    \u001b[0m Fetching POI for runtime optimization done \u001b[1m(\u001b[0m\u001b[1;36m0.06\u001b[0m seconds\u001b[1m)\u001b[0m                     \u001b]8;id=419619;file:///home/moritz/dev/uni/mcr-py/notebooks/../src/command/step_config.py\u001b\\\u001b[2mstep_config.py\u001b[0m\u001b]8;;\u001b\\\u001b[2m:\u001b[0m\u001b]8;id=108928;file:///home/moritz/dev/uni/mcr-py/notebooks/../src/command/step_config.py#26\u001b\\\u001b[2m26\u001b[0m\u001b]8;;\u001b\\\n"
            ]
          },
          "metadata": {},
          "output_type": "display_data"
        },
        {
          "data": {
            "application/vnd.jupyter.widget-view+json": {
              "model_id": "7f672648471749daa84dd11360eba68d",
              "version_major": 2,
              "version_minor": 0
            },
            "text/plain": [
              "Starting:   0%|          | 0/1782 [00:00<?, ?it/s]"
            ]
          },
          "metadata": {},
          "output_type": "display_data"
        },
        {
          "data": {
            "text/html": [
              "<pre style=\"white-space:pre;overflow-x:auto;line-height:normal;font-family:Menlo,'DejaVu Sans Mono',consolas,'Courier New',monospace\"><span style=\"color: #7fbfbf; text-decoration-color: #7fbfbf\">[06:27:26] </span><span style=\"color: #000080; text-decoration-color: #000080\">INFO    </span> All processes finished.                                                             <a href=\"file:///home/moritz/dev/uni/mcr-py/notebooks/../src/package/mcr5/mcr5.py\" target=\"_blank\"><span style=\"color: #7f7f7f; text-decoration-color: #7f7f7f\">mcr5.py</span></a><span style=\"color: #7f7f7f; text-decoration-color: #7f7f7f\">:</span><a href=\"file:///home/moritz/dev/uni/mcr-py/notebooks/../src/package/mcr5/mcr5.py#100\" target=\"_blank\"><span style=\"color: #7f7f7f; text-decoration-color: #7f7f7f\">100</span></a>\n",
              "</pre>\n"
            ],
            "text/plain": [
              "\u001b[2;36m[06:27:26]\u001b[0m\u001b[2;36m \u001b[0m\u001b[34mINFO    \u001b[0m All processes finished.                                                             \u001b]8;id=665225;file:///home/moritz/dev/uni/mcr-py/notebooks/../src/package/mcr5/mcr5.py\u001b\\\u001b[2mmcr5.py\u001b[0m\u001b]8;;\u001b\\\u001b[2m:\u001b[0m\u001b]8;id=418558;file:///home/moritz/dev/uni/mcr-py/notebooks/../src/package/mcr5/mcr5.py#100\u001b\\\u001b[2m100\u001b[0m\u001b]8;;\u001b\\\n"
            ]
          },
          "metadata": {},
          "output_type": "display_data"
        },
        {
          "data": {
            "text/html": [
              "<pre style=\"white-space:pre;overflow-x:auto;line-height:normal;font-family:Menlo,'DejaVu Sans Mono',consolas,'Courier New',monospace\"><span style=\"color: #7fbfbf; text-decoration-color: #7fbfbf\">           </span><span style=\"color: #000080; text-decoration-color: #000080\">INFO    </span> Running MCR5 for walking                                                         <a href=\"file:///tmp/ipykernel_5877/542061263.py\" target=\"_blank\"><span style=\"color: #7f7f7f; text-decoration-color: #7f7f7f\">542061263.py</span></a><span style=\"color: #7f7f7f; text-decoration-color: #7f7f7f\">:</span><a href=\"file:///tmp/ipykernel_5877/542061263.py#4\" target=\"_blank\"><span style=\"color: #7f7f7f; text-decoration-color: #7f7f7f\">4</span></a>\n",
              "</pre>\n"
            ],
            "text/plain": [
              "\u001b[2;36m          \u001b[0m\u001b[2;36m \u001b[0m\u001b[34mINFO    \u001b[0m Running MCR5 for walking                                                         \u001b]8;id=447405;file:///tmp/ipykernel_5877/542061263.py\u001b\\\u001b[2m542061263.py\u001b[0m\u001b]8;;\u001b\\\u001b[2m:\u001b[0m\u001b]8;id=251654;file:///tmp/ipykernel_5877/542061263.py#4\u001b\\\u001b[2m4\u001b[0m\u001b]8;;\u001b\\\n"
            ]
          },
          "metadata": {},
          "output_type": "display_data"
        },
        {
          "data": {
            "text/html": [
              "<pre style=\"white-space:pre;overflow-x:auto;line-height:normal;font-family:Menlo,'DejaVu Sans Mono',consolas,'Courier New',monospace\"><span style=\"color: #7fbfbf; text-decoration-color: #7fbfbf\">           </span><span style=\"color: #000080; text-decoration-color: #000080\">INFO    </span> Using existing OSM data                                                              <a href=\"file:///home/moritz/dev/uni/mcr-py/notebooks/../src/package/osm/osm.py\" target=\"_blank\"><span style=\"color: #7f7f7f; text-decoration-color: #7f7f7f\">osm.py</span></a><span style=\"color: #7f7f7f; text-decoration-color: #7f7f7f\">:</span><a href=\"file:///home/moritz/dev/uni/mcr-py/notebooks/../src/package/osm/osm.py#106\" target=\"_blank\"><span style=\"color: #7f7f7f; text-decoration-color: #7f7f7f\">106</span></a>\n",
              "</pre>\n"
            ],
            "text/plain": [
              "\u001b[2;36m          \u001b[0m\u001b[2;36m \u001b[0m\u001b[34mINFO    \u001b[0m Using existing OSM data                                                              \u001b]8;id=773517;file:///home/moritz/dev/uni/mcr-py/notebooks/../src/package/osm/osm.py\u001b\\\u001b[2mosm.py\u001b[0m\u001b]8;;\u001b\\\u001b[2m:\u001b[0m\u001b]8;id=511295;file:///home/moritz/dev/uni/mcr-py/notebooks/../src/package/osm/osm.py#106\u001b\\\u001b[2m106\u001b[0m\u001b]8;;\u001b\\\n"
            ]
          },
          "metadata": {},
          "output_type": "display_data"
        },
        {
          "data": {
            "text/html": [
              "<pre style=\"white-space:pre;overflow-x:auto;line-height:normal;font-family:Menlo,'DejaVu Sans Mono',consolas,'Courier New',monospace\"><span style=\"color: #7fbfbf; text-decoration-color: #7fbfbf\">           </span><span style=\"color: #000080; text-decoration-color: #000080\">INFO    </span> Loading OSM network from cache <span style=\"font-weight: bold\">(</span>walking<span style=\"font-weight: bold\">)</span>                                              <a href=\"file:///home/moritz/dev/uni/mcr-py/notebooks/../src/package/osm/osm.py\" target=\"_blank\"><span style=\"color: #7f7f7f; text-decoration-color: #7f7f7f\">osm.py</span></a><span style=\"color: #7f7f7f; text-decoration-color: #7f7f7f\">:</span><a href=\"file:///home/moritz/dev/uni/mcr-py/notebooks/../src/package/osm/osm.py#69\" target=\"_blank\"><span style=\"color: #7f7f7f; text-decoration-color: #7f7f7f\">69</span></a>\n",
              "</pre>\n"
            ],
            "text/plain": [
              "\u001b[2;36m          \u001b[0m\u001b[2;36m \u001b[0m\u001b[34mINFO    \u001b[0m Loading OSM network from cache \u001b[1m(\u001b[0mwalking\u001b[1m)\u001b[0m                                              \u001b]8;id=342376;file:///home/moritz/dev/uni/mcr-py/notebooks/../src/package/osm/osm.py\u001b\\\u001b[2mosm.py\u001b[0m\u001b]8;;\u001b\\\u001b[2m:\u001b[0m\u001b]8;id=228513;file:///home/moritz/dev/uni/mcr-py/notebooks/../src/package/osm/osm.py#69\u001b\\\u001b[2m69\u001b[0m\u001b]8;;\u001b\\\n"
            ]
          },
          "metadata": {},
          "output_type": "display_data"
        },
        {
          "data": {
            "text/html": [
              "<pre style=\"white-space:pre;overflow-x:auto;line-height:normal;font-family:Menlo,'DejaVu Sans Mono',consolas,'Courier New',monospace\"><span style=\"color: #7fbfbf; text-decoration-color: #7fbfbf\">[06:28:38] </span><span style=\"color: #000080; text-decoration-color: #000080\">INFO    </span> Fetching POI for runtime optimization                                        <a href=\"file:///home/moritz/dev/uni/mcr-py/notebooks/../src/command/step_config.py\" target=\"_blank\"><span style=\"color: #7f7f7f; text-decoration-color: #7f7f7f\">step_config.py</span></a><span style=\"color: #7f7f7f; text-decoration-color: #7f7f7f\">:</span><a href=\"file:///home/moritz/dev/uni/mcr-py/notebooks/../src/command/step_config.py#124\" target=\"_blank\"><span style=\"color: #7f7f7f; text-decoration-color: #7f7f7f\">124</span></a>\n",
              "</pre>\n"
            ],
            "text/plain": [
              "\u001b[2;36m[06:28:38]\u001b[0m\u001b[2;36m \u001b[0m\u001b[34mINFO    \u001b[0m Fetching POI for runtime optimization                                        \u001b]8;id=85824;file:///home/moritz/dev/uni/mcr-py/notebooks/../src/command/step_config.py\u001b\\\u001b[2mstep_config.py\u001b[0m\u001b]8;;\u001b\\\u001b[2m:\u001b[0m\u001b]8;id=311751;file:///home/moritz/dev/uni/mcr-py/notebooks/../src/command/step_config.py#124\u001b\\\u001b[2m124\u001b[0m\u001b]8;;\u001b\\\n"
            ]
          },
          "metadata": {},
          "output_type": "display_data"
        },
        {
          "data": {
            "text/html": [
              "<pre style=\"white-space:pre;overflow-x:auto;line-height:normal;font-family:Menlo,'DejaVu Sans Mono',consolas,'Courier New',monospace\"><span style=\"color: #7fbfbf; text-decoration-color: #7fbfbf\">           </span><span style=\"color: #000080; text-decoration-color: #000080\">INFO    </span> Fetching POI for runtime optimization done <span style=\"font-weight: bold\">(</span><span style=\"color: #008080; text-decoration-color: #008080; font-weight: bold\">0.06</span> seconds<span style=\"font-weight: bold\">)</span>                    <a href=\"file:///home/moritz/dev/uni/mcr-py/notebooks/../src/command/step_config.py\" target=\"_blank\"><span style=\"color: #7f7f7f; text-decoration-color: #7f7f7f\">step_config.py</span></a><span style=\"color: #7f7f7f; text-decoration-color: #7f7f7f\">:</span><a href=\"file:///home/moritz/dev/uni/mcr-py/notebooks/../src/command/step_config.py#124\" target=\"_blank\"><span style=\"color: #7f7f7f; text-decoration-color: #7f7f7f\">124</span></a>\n",
              "</pre>\n"
            ],
            "text/plain": [
              "\u001b[2;36m          \u001b[0m\u001b[2;36m \u001b[0m\u001b[34mINFO    \u001b[0m Fetching POI for runtime optimization done \u001b[1m(\u001b[0m\u001b[1;36m0.06\u001b[0m seconds\u001b[1m)\u001b[0m                    \u001b]8;id=106165;file:///home/moritz/dev/uni/mcr-py/notebooks/../src/command/step_config.py\u001b\\\u001b[2mstep_config.py\u001b[0m\u001b]8;;\u001b\\\u001b[2m:\u001b[0m\u001b]8;id=419972;file:///home/moritz/dev/uni/mcr-py/notebooks/../src/command/step_config.py#124\u001b\\\u001b[2m124\u001b[0m\u001b]8;;\u001b\\\n"
            ]
          },
          "metadata": {},
          "output_type": "display_data"
        },
        {
          "data": {
            "application/vnd.jupyter.widget-view+json": {
              "model_id": "2e5a9acfbdec478d94565bb886e9a3a9",
              "version_major": 2,
              "version_minor": 0
            },
            "text/plain": [
              "Starting:   0%|          | 0/1782 [00:00<?, ?it/s]"
            ]
          },
          "metadata": {},
          "output_type": "display_data"
        },
        {
          "data": {
            "text/html": [
              "<pre style=\"white-space:pre;overflow-x:auto;line-height:normal;font-family:Menlo,'DejaVu Sans Mono',consolas,'Courier New',monospace\"><span style=\"color: #7fbfbf; text-decoration-color: #7fbfbf\">[06:45:41] </span><span style=\"color: #000080; text-decoration-color: #000080\">INFO    </span> All processes finished.                                                             <a href=\"file:///home/moritz/dev/uni/mcr-py/notebooks/../src/package/mcr5/mcr5.py\" target=\"_blank\"><span style=\"color: #7f7f7f; text-decoration-color: #7f7f7f\">mcr5.py</span></a><span style=\"color: #7f7f7f; text-decoration-color: #7f7f7f\">:</span><a href=\"file:///home/moritz/dev/uni/mcr-py/notebooks/../src/package/mcr5/mcr5.py#100\" target=\"_blank\"><span style=\"color: #7f7f7f; text-decoration-color: #7f7f7f\">100</span></a>\n",
              "</pre>\n"
            ],
            "text/plain": [
              "\u001b[2;36m[06:45:41]\u001b[0m\u001b[2;36m \u001b[0m\u001b[34mINFO    \u001b[0m All processes finished.                                                             \u001b]8;id=525146;file:///home/moritz/dev/uni/mcr-py/notebooks/../src/package/mcr5/mcr5.py\u001b\\\u001b[2mmcr5.py\u001b[0m\u001b]8;;\u001b\\\u001b[2m:\u001b[0m\u001b]8;id=909510;file:///home/moritz/dev/uni/mcr-py/notebooks/../src/package/mcr5/mcr5.py#100\u001b\\\u001b[2m100\u001b[0m\u001b]8;;\u001b\\\n"
            ]
          },
          "metadata": {},
          "output_type": "display_data"
        },
        {
          "data": {
            "text/html": [
              "<pre style=\"white-space:pre;overflow-x:auto;line-height:normal;font-family:Menlo,'DejaVu Sans Mono',consolas,'Courier New',monospace\"><span style=\"color: #7fbfbf; text-decoration-color: #7fbfbf\">           </span><span style=\"color: #800000; text-decoration-color: #800000\">WARNING </span> <span style=\"color: #008080; text-decoration-color: #008080; font-weight: bold\">32</span> errors occurred during the analysis.                                             <a href=\"file:///home/moritz/dev/uni/mcr-py/notebooks/../src/package/mcr5/mcr5.py\" target=\"_blank\"><span style=\"color: #7f7f7f; text-decoration-color: #7f7f7f\">mcr5.py</span></a><span style=\"color: #7f7f7f; text-decoration-color: #7f7f7f\">:</span><a href=\"file:///home/moritz/dev/uni/mcr-py/notebooks/../src/package/mcr5/mcr5.py#106\" target=\"_blank\"><span style=\"color: #7f7f7f; text-decoration-color: #7f7f7f\">106</span></a>\n",
              "</pre>\n"
            ],
            "text/plain": [
              "\u001b[2;36m          \u001b[0m\u001b[2;36m \u001b[0m\u001b[31mWARNING \u001b[0m \u001b[1;36m32\u001b[0m errors occurred during the analysis.                                             \u001b]8;id=942460;file:///home/moritz/dev/uni/mcr-py/notebooks/../src/package/mcr5/mcr5.py\u001b\\\u001b[2mmcr5.py\u001b[0m\u001b]8;;\u001b\\\u001b[2m:\u001b[0m\u001b]8;id=480193;file:///home/moritz/dev/uni/mcr-py/notebooks/../src/package/mcr5/mcr5.py#106\u001b\\\u001b[2m106\u001b[0m\u001b]8;;\u001b\\\n"
            ]
          },
          "metadata": {},
          "output_type": "display_data"
        }
      ],
      "source": [
        "runtimes = {}\n",
        "for key, config in configs.items():\n",
        "    start = datetime.now()\n",
        "    rlog.info(f\"Running MCR5 for {key}\")\n",
        "\n",
        "    config = config()\n",
        "    mcr5 = MCR5(**config[\"init_kwargs\"], max_processes=8)\n",
        "\n",
        "    loaded_at = datetime.now()\n",
        "    load_time = loaded_at - start\n",
        "\n",
        "    output_path = os.path.join(mcr5_output_path, key)\n",
        "\n",
        "    location_mappings = config[\"location_mappings\"]\n",
        "\n",
        "    start_time = config.get(\"start_time\", \"08:00:00\")\n",
        "    errors = mcr5.run(\n",
        "        location_mappings,\n",
        "        start_time=start_time,\n",
        "        output_dir=output_path,\n",
        "        max_transfers=config[\"max_transfers\"],\n",
        "    )\n",
        "\n",
        "    run_time = datetime.now() - loaded_at\n",
        "    total_time = datetime.now() - start\n",
        "    runtimes[key] = {\n",
        "        \"load_time\": load_time,\n",
        "        \"run_time\": run_time,\n",
        "        \"total_time\": total_time,\n",
        "    }\n",
        "\n",
        "with open(os.path.join(mcr5_output_path, \"runtimes.pkl\"), \"wb\") as f:\n",
        "    pickle.dump(runtimes, f)"
      ]
    },
    {
      "cell_type": "code",
      "execution_count": 16,
      "metadata": {},
      "outputs": [],
      "source": [
        "import pickle\n",
        "\n",
        "# errors = storage.read_any_dict(\"../data/mcr5/Koeln/bicycle_public_transport/errors.pkl\")\n",
        "# errors"
      ]
    }
  ],
  "metadata": {
    "kernelspec": {
      "display_name": "mcr-py",
      "language": "python",
      "name": "python3"
    },
    "language_info": {
      "codemirror_mode": {
        "name": "ipython",
        "version": 3
      },
      "file_extension": ".py",
      "mimetype": "text/x-python",
      "name": "python",
      "nbconvert_exporter": "python",
      "pygments_lexer": "ipython3",
      "version": "3.10.13"
    },
    "orig_nbformat": 4
  },
  "nbformat": 4,
  "nbformat_minor": 2
}
