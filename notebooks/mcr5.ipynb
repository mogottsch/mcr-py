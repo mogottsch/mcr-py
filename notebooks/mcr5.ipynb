{
  "cells": [
    {
      "cell_type": "code",
      "execution_count": 1,
      "metadata": {},
      "outputs": [],
      "source": [
        "%load_ext autoreload\n",
        "%autoreload 2\n",
        "import sys\n",
        "sys.path.append('../src/')"
      ]
    },
    {
      "cell_type": "code",
      "execution_count": 2,
      "metadata": {},
      "outputs": [],
      "source": [
        "from package.logger import Timed, rlog, setup\n",
        "from package import storage\n",
        "\n",
        "setup(\"INFO\")"
      ]
    },
    {
      "cell_type": "code",
      "execution_count": 3,
      "metadata": {},
      "outputs": [],
      "source": [
        "import os\n",
        "\n",
        "import folium\n",
        "import geopandas as gpd\n",
        "import pandas as pd\n",
        "\n",
        "from package import strtime\n",
        "from package.osm import osm\n",
        "from package.mcr.data import NetworkType, OSMData\n",
        "from package.mcr5.mcr5 import MCR5\n",
        "from package import storage\n",
        "\n",
        "from package.geometa import GeoMeta\n",
        "from package.mcr.data import NetworkType"
      ]
    },
    {
      "cell_type": "code",
      "execution_count": 4,
      "metadata": {},
      "outputs": [],
      "source": [
        "geo_meta_path = \"../data/geometa.pkl\"\n",
        "city_id = \"Koeln\"\n",
        "stops = \"../data/cleaned/stops.csv\"\n",
        "structs = \"../data/structs.pkl\"\n",
        "# bicycle_location_path = \"../data/bicycle_locations/2022-11-01_09_01_00.csv\""
      ]
    },
    {
      "cell_type": "code",
      "execution_count": 5,
      "metadata": {},
      "outputs": [],
      "source": [
        "geo_meta = GeoMeta.load(geo_meta_path)\n",
        "# geo_data = OSMData(\n",
        "# \tgeo_meta,\n",
        "# \tcity_id,\n",
        "# \tadditional_network_types=[NetworkType.DRIVING, NetworkType.CYCLING],\n",
        "# )\n",
        "# nodes = geo_data.osm_nodes\n",
        "# edges = geo_data.osm_edges\n",
        "# driving_nodes, _, _ = geo_data.additional_networks[NetworkType.DRIVING]"
      ]
    },
    {
      "cell_type": "code",
      "execution_count": 6,
      "metadata": {},
      "outputs": [],
      "source": [
        "lm_data = storage.read_any_dict(\"../data/location_mappings.pkl\")\n",
        "location_mappings = lm_data[\"location_mappings\"]\n",
        "car_location_mappings = lm_data[\"car_location_mappings\"]"
      ]
    },
    {
      "cell_type": "code",
      "execution_count": 8,
      "metadata": {},
      "outputs": [
        {
          "data": {
            "text/plain": [
              "1782"
            ]
          },
          "execution_count": 8,
          "metadata": {},
          "output_type": "execute_result"
        }
      ],
      "source": [
        "len(location_mappings)"
      ]
    },
    {
      "cell_type": "code",
      "execution_count": 7,
      "metadata": {},
      "outputs": [],
      "source": [
        "from command.step_config import (\n",
        "    get_bicycle_public_transport_config,\n",
        "    get_car_only_config,\n",
        "    get_bicycle_only_config,\n",
        "    get_public_transport_only_config,\n",
        "    get_walking_only_config,\n",
        ")"
      ]
    },
    {
      "cell_type": "code",
      "execution_count": 8,
      "metadata": {},
      "outputs": [],
      "source": [
        "configs = {}\n",
        "\n",
        "\n",
        "def get_bicyle_public_transport_config_ready(bicycle_location_path, start_time):\n",
        "    initial_steps, repeating_steps = get_bicycle_public_transport_config(\n",
        "        geo_meta_path=geo_meta_path,\n",
        "        city_id=city_id,\n",
        "        bicycle_price_function=\"next_bike_no_tariff\",\n",
        "        bicycle_location_path=bicycle_location_path,\n",
        "        structs_path=structs,\n",
        "        stops_path=stops,\n",
        "    )\n",
        "    return {\n",
        "        \"init_kwargs\": {\n",
        "            \"initial_steps\": initial_steps,\n",
        "            \"repeating_steps\": repeating_steps,\n",
        "        },\n",
        "        \"location_mappings\": location_mappings,\n",
        "        \"max_transfers\": 2,\n",
        "        \"start_time\": start_time,\n",
        "    }\n",
        "\n",
        "\n",
        "def get_car_only_config_ready():\n",
        "    initial_steps, repeating_steps = get_car_only_config(\n",
        "        geo_meta_path=geo_meta_path,\n",
        "        city_id=city_id,\n",
        "    )\n",
        "    return {\n",
        "        \"init_kwargs\": {\n",
        "            \"initial_steps\": initial_steps,\n",
        "            \"repeating_steps\": repeating_steps,\n",
        "        },\n",
        "        \"location_mappings\": car_location_mappings,\n",
        "        \"max_transfers\": 1,\n",
        "    }\n",
        "\n",
        "\n",
        "def get_bicycle_only_config_ready(bicycle_location_path):\n",
        "    initial_steps, repeating_steps = get_bicycle_only_config(\n",
        "        geo_meta_path=geo_meta_path,\n",
        "        city_id=city_id,\n",
        "        bicycle_price_function=\"next_bike_no_tariff\",\n",
        "        bicycle_location_path=bicycle_location_path,\n",
        "    )\n",
        "    return {\n",
        "        \"init_kwargs\": {\n",
        "            \"initial_steps\": initial_steps,\n",
        "            \"repeating_steps\": repeating_steps,\n",
        "        },\n",
        "        \"location_mappings\": location_mappings,\n",
        "        \"max_transfers\": 2,\n",
        "    }\n",
        "\n",
        "\n",
        "def get_public_transport_only_config_ready(start_time):\n",
        "    initial_steps, repeating_steps = get_public_transport_only_config(\n",
        "        geo_meta_path=geo_meta_path,\n",
        "        city_id=city_id,\n",
        "        structs_path=structs,\n",
        "        stops_path=stops,\n",
        "    )\n",
        "    return {\n",
        "        \"init_kwargs\": {\n",
        "            \"initial_steps\": initial_steps,\n",
        "            \"repeating_steps\": repeating_steps,\n",
        "        },\n",
        "        \"location_mappings\": location_mappings,\n",
        "        \"max_transfers\": 2,\n",
        "        \"start_time\": start_time,\n",
        "    }\n",
        "\n",
        "\n",
        "def get_walking_only_config_ready():\n",
        "    initial_steps, repeating_steps = get_walking_only_config(\n",
        "        geo_meta_path=geo_meta_path,\n",
        "        city_id=city_id,\n",
        "    )\n",
        "    return {\n",
        "        \"init_kwargs\": {\n",
        "            \"initial_steps\": initial_steps,\n",
        "            \"repeating_steps\": repeating_steps,\n",
        "        },\n",
        "        \"location_mappings\": location_mappings,\n",
        "        \"max_transfers\": 0,\n",
        "    }"
      ]
    },
    {
      "cell_type": "code",
      "execution_count": 9,
      "metadata": {},
      "outputs": [],
      "source": [
        "import itertools\n",
        "import os\n",
        "\n",
        "times = [\n",
        "    \"08:00:00\",\n",
        "    \"12:00:00\",\n",
        "    \"18:00:00\",\n",
        "]\n",
        "bicycle_base_path = \"../data/bicycle_locations/\"\n",
        "bicycle_location_paths = [\n",
        "    os.path.join(bicycle_base_path, path)\n",
        "    for path in os.listdir(\"../data/bicycle_locations/\")\n",
        "]\n",
        "\n",
        "bicycle_public_transport_config_args = list(itertools.product(\n",
        "\ttimes,\n",
        "\tbicycle_location_paths,\n",
        "))"
      ]
    },
    {
      "cell_type": "code",
      "execution_count": 10,
      "metadata": {},
      "outputs": [
        {
          "name": "stdout",
          "output_type": "stream",
          "text": [
            "0 08:00:00 ../data/bicycle_locations/2022-11-02_16_01_00.csv\n",
            "1 08:00:00 ../data/bicycle_locations/2022-11-01_09_01_00.csv\n",
            "2 08:00:00 ../data/bicycle_locations/2022-07-18_06_01_00.csv\n",
            "3 08:00:00 ../data/bicycle_locations/2022-04-19_17_01_00.csv\n",
            "4 12:00:00 ../data/bicycle_locations/2022-11-02_16_01_00.csv\n",
            "5 12:00:00 ../data/bicycle_locations/2022-11-01_09_01_00.csv\n",
            "6 12:00:00 ../data/bicycle_locations/2022-07-18_06_01_00.csv\n",
            "7 12:00:00 ../data/bicycle_locations/2022-04-19_17_01_00.csv\n",
            "8 18:00:00 ../data/bicycle_locations/2022-11-02_16_01_00.csv\n",
            "9 18:00:00 ../data/bicycle_locations/2022-11-01_09_01_00.csv\n",
            "10 18:00:00 ../data/bicycle_locations/2022-07-18_06_01_00.csv\n",
            "11 18:00:00 ../data/bicycle_locations/2022-04-19_17_01_00.csv\n",
            "\n",
            "0 08:00:00\n",
            "1 12:00:00\n",
            "2 18:00:00\n",
            "\n",
            "0 ../data/bicycle_locations/2022-11-02_16_01_00.csv\n",
            "1 ../data/bicycle_locations/2022-11-01_09_01_00.csv\n",
            "2 ../data/bicycle_locations/2022-07-18_06_01_00.csv\n",
            "3 ../data/bicycle_locations/2022-04-19_17_01_00.csv\n"
          ]
        }
      ],
      "source": [
        "from functools import partial\n",
        "\n",
        "for i, (time, bicycle_location_path) in enumerate(bicycle_public_transport_config_args):\n",
        "    print(i, time, bicycle_location_path)\n",
        "    configs[f\"bicycle_public_transport_{i}\"] = partial(\n",
        "        get_bicyle_public_transport_config_ready, bicycle_location_path, time\n",
        "    )\n",
        "\n",
        "print()\n",
        "for i, time in enumerate(times):\n",
        "    print(i, time)\n",
        "    configs[f\"public_transport_{i}\"] = partial(\n",
        "        get_public_transport_only_config_ready, time\n",
        "    )\n",
        "\n",
        "print()\n",
        "for i, bicycle_location_path in enumerate(bicycle_location_paths):\n",
        "    print(i, bicycle_location_path)\n",
        "    configs[f\"bicycle_{i}\"] = partial(\n",
        "        get_bicycle_only_config_ready, bicycle_location_path\n",
        "    )\n",
        "\n",
        "configs[\"car\"] = get_car_only_config_ready\n",
        "configs[\"walking\"] = get_walking_only_config_ready"
      ]
    },
    {
      "cell_type": "code",
      "execution_count": 11,
      "metadata": {},
      "outputs": [],
      "source": [
        "mcr5_output_path = \"../data/mcr5/Koeln-new\""
      ]
    },
    {
      "cell_type": "code",
      "execution_count": 12,
      "metadata": {},
      "outputs": [],
      "source": [
        "# configs = {\n",
        "# \t\"bicycle_0\": configs[\"bicycle_0\"],\n",
        "# \t\"bicycle_1\": configs[\"bicycle_1\"],\n",
        "# \t\"bicycle_2\": configs[\"bicycle_2\"],\n",
        "# \t\"bicycle_3\": configs[\"bicycle_3\"],\n",
        "# }"
      ]
    },
    {
      "cell_type": "code",
      "execution_count": 13,
      "metadata": {},
      "outputs": [],
      "source": [
        "if os.path.exists(mcr5_output_path):\n",
        "\traise Exception(\"Output path already exists\")"
      ]
    },
    {
      "cell_type": "code",
      "execution_count": 14,
      "metadata": {},
      "outputs": [
        {
          "data": {
            "text/html": [
              "<pre style=\"white-space:pre;overflow-x:auto;line-height:normal;font-family:Menlo,'DejaVu Sans Mono',consolas,'Courier New',monospace\"><span style=\"color: #7fbfbf; text-decoration-color: #7fbfbf\">[12:14:43] </span><span style=\"color: #000080; text-decoration-color: #000080\">INFO    </span> Running MCR5 for bicycle_public_transport_0                                      <a href=\"file:///tmp/ipykernel_187379/617489973.py\" target=\"_blank\"><span style=\"color: #7f7f7f; text-decoration-color: #7f7f7f\">617489973.py</span></a><span style=\"color: #7f7f7f; text-decoration-color: #7f7f7f\">:</span><a href=\"file:///tmp/ipykernel_187379/617489973.py#2\" target=\"_blank\"><span style=\"color: #7f7f7f; text-decoration-color: #7f7f7f\">2</span></a>\n",
              "</pre>\n"
            ],
            "text/plain": [
              "\u001b[2;36m[12:14:43]\u001b[0m\u001b[2;36m \u001b[0m\u001b[34mINFO    \u001b[0m Running MCR5 for bicycle_public_transport_0                                      \u001b]8;id=737314;file:///tmp/ipykernel_187379/617489973.py\u001b\\\u001b[2m617489973.py\u001b[0m\u001b]8;;\u001b\\\u001b[2m:\u001b[0m\u001b]8;id=69510;file:///tmp/ipykernel_187379/617489973.py#2\u001b\\\u001b[2m2\u001b[0m\u001b]8;;\u001b\\\n"
            ]
          },
          "metadata": {},
          "output_type": "display_data"
        },
        {
          "data": {
            "text/html": [
              "<pre style=\"white-space:pre;overflow-x:auto;line-height:normal;font-family:Menlo,'DejaVu Sans Mono',consolas,'Courier New',monospace\"><span style=\"color: #7fbfbf; text-decoration-color: #7fbfbf\">           </span><span style=\"color: #000080; text-decoration-color: #000080\">INFO    </span> Loading config                                                                   <a href=\"file:///tmp/ipykernel_187379/617489973.py\" target=\"_blank\"><span style=\"color: #7f7f7f; text-decoration-color: #7f7f7f\">617489973.py</span></a><span style=\"color: #7f7f7f; text-decoration-color: #7f7f7f\">:</span><a href=\"file:///tmp/ipykernel_187379/617489973.py#4\" target=\"_blank\"><span style=\"color: #7f7f7f; text-decoration-color: #7f7f7f\">4</span></a>\n",
              "</pre>\n"
            ],
            "text/plain": [
              "\u001b[2;36m          \u001b[0m\u001b[2;36m \u001b[0m\u001b[34mINFO    \u001b[0m Loading config                                                                   \u001b]8;id=57957;file:///tmp/ipykernel_187379/617489973.py\u001b\\\u001b[2m617489973.py\u001b[0m\u001b]8;;\u001b\\\u001b[2m:\u001b[0m\u001b]8;id=586306;file:///tmp/ipykernel_187379/617489973.py#4\u001b\\\u001b[2m4\u001b[0m\u001b]8;;\u001b\\\n"
            ]
          },
          "metadata": {},
          "output_type": "display_data"
        },
        {
          "data": {
            "text/html": [
              "<pre style=\"white-space:pre;overflow-x:auto;line-height:normal;font-family:Menlo,'DejaVu Sans Mono',consolas,'Courier New',monospace\"><span style=\"color: #7fbfbf; text-decoration-color: #7fbfbf\">           </span><span style=\"color: #000080; text-decoration-color: #000080\">INFO    </span> Using existing OSM data                                                          <a href=\"file:///tmp/ipykernel_187379/617489973.py\" target=\"_blank\"><span style=\"color: #7f7f7f; text-decoration-color: #7f7f7f\">617489973.py</span></a><span style=\"color: #7f7f7f; text-decoration-color: #7f7f7f\">:</span><a href=\"file:///tmp/ipykernel_187379/617489973.py#4\" target=\"_blank\"><span style=\"color: #7f7f7f; text-decoration-color: #7f7f7f\">4</span></a>\n",
              "</pre>\n"
            ],
            "text/plain": [
              "\u001b[2;36m          \u001b[0m\u001b[2;36m \u001b[0m\u001b[34mINFO    \u001b[0m Using existing OSM data                                                          \u001b]8;id=87677;file:///tmp/ipykernel_187379/617489973.py\u001b\\\u001b[2m617489973.py\u001b[0m\u001b]8;;\u001b\\\u001b[2m:\u001b[0m\u001b]8;id=353421;file:///tmp/ipykernel_187379/617489973.py#4\u001b\\\u001b[2m4\u001b[0m\u001b]8;;\u001b\\\n"
            ]
          },
          "metadata": {},
          "output_type": "display_data"
        },
        {
          "data": {
            "text/html": [
              "<pre style=\"white-space:pre;overflow-x:auto;line-height:normal;font-family:Menlo,'DejaVu Sans Mono',consolas,'Courier New',monospace\"><span style=\"color: #7fbfbf; text-decoration-color: #7fbfbf\">           </span><span style=\"color: #000080; text-decoration-color: #000080\">INFO    </span> Loading OSM network from cache <span style=\"font-weight: bold\">(</span>walking<span style=\"font-weight: bold\">)</span>                                         <a href=\"file:///tmp/ipykernel_187379/617489973.py\" target=\"_blank\"><span style=\"color: #7f7f7f; text-decoration-color: #7f7f7f\">617489973.py</span></a><span style=\"color: #7f7f7f; text-decoration-color: #7f7f7f\">:</span><a href=\"file:///tmp/ipykernel_187379/617489973.py#4\" target=\"_blank\"><span style=\"color: #7f7f7f; text-decoration-color: #7f7f7f\">4</span></a>\n",
              "</pre>\n"
            ],
            "text/plain": [
              "\u001b[2;36m          \u001b[0m\u001b[2;36m \u001b[0m\u001b[34mINFO    \u001b[0m Loading OSM network from cache \u001b[1m(\u001b[0mwalking\u001b[1m)\u001b[0m                                         \u001b]8;id=613208;file:///tmp/ipykernel_187379/617489973.py\u001b\\\u001b[2m617489973.py\u001b[0m\u001b]8;;\u001b\\\u001b[2m:\u001b[0m\u001b]8;id=271423;file:///tmp/ipykernel_187379/617489973.py#4\u001b\\\u001b[2m4\u001b[0m\u001b]8;;\u001b\\\n"
            ]
          },
          "metadata": {},
          "output_type": "display_data"
        },
        {
          "data": {
            "text/html": [
              "<pre style=\"white-space:pre;overflow-x:auto;line-height:normal;font-family:Menlo,'DejaVu Sans Mono',consolas,'Courier New',monospace\"><span style=\"color: #7fbfbf; text-decoration-color: #7fbfbf\">[12:15:46] </span><span style=\"color: #000080; text-decoration-color: #000080\">INFO    </span> Using existing OSM data                                                          <a href=\"file:///tmp/ipykernel_187379/617489973.py\" target=\"_blank\"><span style=\"color: #7f7f7f; text-decoration-color: #7f7f7f\">617489973.py</span></a><span style=\"color: #7f7f7f; text-decoration-color: #7f7f7f\">:</span><a href=\"file:///tmp/ipykernel_187379/617489973.py#4\" target=\"_blank\"><span style=\"color: #7f7f7f; text-decoration-color: #7f7f7f\">4</span></a>\n",
              "</pre>\n"
            ],
            "text/plain": [
              "\u001b[2;36m[12:15:46]\u001b[0m\u001b[2;36m \u001b[0m\u001b[34mINFO    \u001b[0m Using existing OSM data                                                          \u001b]8;id=342468;file:///tmp/ipykernel_187379/617489973.py\u001b\\\u001b[2m617489973.py\u001b[0m\u001b]8;;\u001b\\\u001b[2m:\u001b[0m\u001b]8;id=616435;file:///tmp/ipykernel_187379/617489973.py#4\u001b\\\u001b[2m4\u001b[0m\u001b]8;;\u001b\\\n"
            ]
          },
          "metadata": {},
          "output_type": "display_data"
        },
        {
          "data": {
            "text/html": [
              "<pre style=\"white-space:pre;overflow-x:auto;line-height:normal;font-family:Menlo,'DejaVu Sans Mono',consolas,'Courier New',monospace\"><span style=\"color: #7fbfbf; text-decoration-color: #7fbfbf\">           </span><span style=\"color: #000080; text-decoration-color: #000080\">INFO    </span> Loading OSM network from cache <span style=\"font-weight: bold\">(</span>cycling<span style=\"font-weight: bold\">)</span>                                         <a href=\"file:///tmp/ipykernel_187379/617489973.py\" target=\"_blank\"><span style=\"color: #7f7f7f; text-decoration-color: #7f7f7f\">617489973.py</span></a><span style=\"color: #7f7f7f; text-decoration-color: #7f7f7f\">:</span><a href=\"file:///tmp/ipykernel_187379/617489973.py#4\" target=\"_blank\"><span style=\"color: #7f7f7f; text-decoration-color: #7f7f7f\">4</span></a>\n",
              "</pre>\n"
            ],
            "text/plain": [
              "\u001b[2;36m          \u001b[0m\u001b[2;36m \u001b[0m\u001b[34mINFO    \u001b[0m Loading OSM network from cache \u001b[1m(\u001b[0mcycling\u001b[1m)\u001b[0m                                         \u001b]8;id=709115;file:///tmp/ipykernel_187379/617489973.py\u001b\\\u001b[2m617489973.py\u001b[0m\u001b]8;;\u001b\\\u001b[2m:\u001b[0m\u001b]8;id=112160;file:///tmp/ipykernel_187379/617489973.py#4\u001b\\\u001b[2m4\u001b[0m\u001b]8;;\u001b\\\n"
            ]
          },
          "metadata": {},
          "output_type": "display_data"
        },
        {
          "data": {
            "text/html": [
              "<pre style=\"white-space:pre;overflow-x:auto;line-height:normal;font-family:Menlo,'DejaVu Sans Mono',consolas,'Courier New',monospace\"><span style=\"color: #7fbfbf; text-decoration-color: #7fbfbf\">[12:16:40] </span><span style=\"color: #000080; text-decoration-color: #000080\">INFO    </span> Fetching POI for runtime optimization                                         <a href=\"file:///home/moritz/dev/uni/mcr-py/notebooks/../src/command/step_config.py\" target=\"_blank\"><span style=\"color: #7f7f7f; text-decoration-color: #7f7f7f\">step_config.py</span></a><span style=\"color: #7f7f7f; text-decoration-color: #7f7f7f\">:</span><a href=\"file:///home/moritz/dev/uni/mcr-py/notebooks/../src/command/step_config.py#51\" target=\"_blank\"><span style=\"color: #7f7f7f; text-decoration-color: #7f7f7f\">51</span></a>\n",
              "</pre>\n"
            ],
            "text/plain": [
              "\u001b[2;36m[12:16:40]\u001b[0m\u001b[2;36m \u001b[0m\u001b[34mINFO    \u001b[0m Fetching POI for runtime optimization                                         \u001b]8;id=493427;file:///home/moritz/dev/uni/mcr-py/notebooks/../src/command/step_config.py\u001b\\\u001b[2mstep_config.py\u001b[0m\u001b]8;;\u001b\\\u001b[2m:\u001b[0m\u001b]8;id=197713;file:///home/moritz/dev/uni/mcr-py/notebooks/../src/command/step_config.py#51\u001b\\\u001b[2m51\u001b[0m\u001b]8;;\u001b\\\n"
            ]
          },
          "metadata": {},
          "output_type": "display_data"
        },
        {
          "data": {
            "text/html": [
              "<pre style=\"white-space:pre;overflow-x:auto;line-height:normal;font-family:Menlo,'DejaVu Sans Mono',consolas,'Courier New',monospace\"><span style=\"color: #7fbfbf; text-decoration-color: #7fbfbf\">           </span><span style=\"color: #000080; text-decoration-color: #000080\">INFO    </span> Fetching POI for runtime optimization done <span style=\"font-weight: bold\">(</span><span style=\"color: #008080; text-decoration-color: #008080; font-weight: bold\">0.05</span> seconds<span style=\"font-weight: bold\">)</span>                     <a href=\"file:///home/moritz/dev/uni/mcr-py/notebooks/../src/command/step_config.py\" target=\"_blank\"><span style=\"color: #7f7f7f; text-decoration-color: #7f7f7f\">step_config.py</span></a><span style=\"color: #7f7f7f; text-decoration-color: #7f7f7f\">:</span><a href=\"file:///home/moritz/dev/uni/mcr-py/notebooks/../src/command/step_config.py#51\" target=\"_blank\"><span style=\"color: #7f7f7f; text-decoration-color: #7f7f7f\">51</span></a>\n",
              "</pre>\n"
            ],
            "text/plain": [
              "\u001b[2;36m          \u001b[0m\u001b[2;36m \u001b[0m\u001b[34mINFO    \u001b[0m Fetching POI for runtime optimization done \u001b[1m(\u001b[0m\u001b[1;36m0.05\u001b[0m seconds\u001b[1m)\u001b[0m                     \u001b]8;id=324914;file:///home/moritz/dev/uni/mcr-py/notebooks/../src/command/step_config.py\u001b\\\u001b[2mstep_config.py\u001b[0m\u001b]8;;\u001b\\\u001b[2m:\u001b[0m\u001b]8;id=477418;file:///home/moritz/dev/uni/mcr-py/notebooks/../src/command/step_config.py#51\u001b\\\u001b[2m51\u001b[0m\u001b]8;;\u001b\\\n"
            ]
          },
          "metadata": {},
          "output_type": "display_data"
        },
        {
          "data": {
            "text/html": [
              "<pre style=\"white-space:pre;overflow-x:auto;line-height:normal;font-family:Menlo,'DejaVu Sans Mono',consolas,'Courier New',monospace\"><span style=\"color: #7fbfbf; text-decoration-color: #7fbfbf\">[12:17:41] </span><span style=\"color: #000080; text-decoration-color: #000080\">INFO    </span> Reading stops                                                           <a href=\"file:///home/moritz/dev/uni/mcr-py/notebooks/../src/package/mcr/steps/public_transport.py\" target=\"_blank\"><span style=\"color: #7f7f7f; text-decoration-color: #7f7f7f\">public_transport.py</span></a><span style=\"color: #7f7f7f; text-decoration-color: #7f7f7f\">:</span><a href=\"file:///home/moritz/dev/uni/mcr-py/notebooks/../src/package/mcr/steps/public_transport.py#144\" target=\"_blank\"><span style=\"color: #7f7f7f; text-decoration-color: #7f7f7f\">144</span></a>\n",
              "</pre>\n"
            ],
            "text/plain": [
              "\u001b[2;36m[12:17:41]\u001b[0m\u001b[2;36m \u001b[0m\u001b[34mINFO    \u001b[0m Reading stops                                                           \u001b]8;id=455676;file:///home/moritz/dev/uni/mcr-py/notebooks/../src/package/mcr/steps/public_transport.py\u001b\\\u001b[2mpublic_transport.py\u001b[0m\u001b]8;;\u001b\\\u001b[2m:\u001b[0m\u001b]8;id=835786;file:///home/moritz/dev/uni/mcr-py/notebooks/../src/package/mcr/steps/public_transport.py#144\u001b\\\u001b[2m144\u001b[0m\u001b]8;;\u001b\\\n"
            ]
          },
          "metadata": {},
          "output_type": "display_data"
        },
        {
          "data": {
            "text/html": [
              "<pre style=\"white-space:pre;overflow-x:auto;line-height:normal;font-family:Menlo,'DejaVu Sans Mono',consolas,'Courier New',monospace\"><span style=\"color: #7fbfbf; text-decoration-color: #7fbfbf\">           </span><span style=\"color: #000080; text-decoration-color: #000080\">INFO    </span> Reading stops done <span style=\"font-weight: bold\">(</span><span style=\"color: #008080; text-decoration-color: #008080; font-weight: bold\">0.24</span> seconds<span style=\"font-weight: bold\">)</span>                                       <a href=\"file:///home/moritz/dev/uni/mcr-py/notebooks/../src/package/mcr/steps/public_transport.py\" target=\"_blank\"><span style=\"color: #7f7f7f; text-decoration-color: #7f7f7f\">public_transport.py</span></a><span style=\"color: #7f7f7f; text-decoration-color: #7f7f7f\">:</span><a href=\"file:///home/moritz/dev/uni/mcr-py/notebooks/../src/package/mcr/steps/public_transport.py#144\" target=\"_blank\"><span style=\"color: #7f7f7f; text-decoration-color: #7f7f7f\">144</span></a>\n",
              "</pre>\n"
            ],
            "text/plain": [
              "\u001b[2;36m          \u001b[0m\u001b[2;36m \u001b[0m\u001b[34mINFO    \u001b[0m Reading stops done \u001b[1m(\u001b[0m\u001b[1;36m0.24\u001b[0m seconds\u001b[1m)\u001b[0m                                       \u001b]8;id=682649;file:///home/moritz/dev/uni/mcr-py/notebooks/../src/package/mcr/steps/public_transport.py\u001b\\\u001b[2mpublic_transport.py\u001b[0m\u001b]8;;\u001b\\\u001b[2m:\u001b[0m\u001b]8;id=55961;file:///home/moritz/dev/uni/mcr-py/notebooks/../src/package/mcr/steps/public_transport.py#144\u001b\\\u001b[2m144\u001b[0m\u001b]8;;\u001b\\\n"
            ]
          },
          "metadata": {},
          "output_type": "display_data"
        },
        {
          "data": {
            "text/html": [
              "<pre style=\"white-space:pre;overflow-x:auto;line-height:normal;font-family:Menlo,'DejaVu Sans Mono',consolas,'Courier New',monospace\"><span style=\"color: #7fbfbf; text-decoration-color: #7fbfbf\">[12:18:10] </span><span style=\"color: #000080; text-decoration-color: #000080\">INFO    </span> Loading config done <span style=\"font-weight: bold\">(</span><span style=\"color: #00ff00; text-decoration-color: #00ff00; font-weight: bold\">3:26</span> minutes<span style=\"font-weight: bold\">)</span>                                               <a href=\"file:///tmp/ipykernel_187379/617489973.py\" target=\"_blank\"><span style=\"color: #7f7f7f; text-decoration-color: #7f7f7f\">617489973.py</span></a><span style=\"color: #7f7f7f; text-decoration-color: #7f7f7f\">:</span><a href=\"file:///tmp/ipykernel_187379/617489973.py#4\" target=\"_blank\"><span style=\"color: #7f7f7f; text-decoration-color: #7f7f7f\">4</span></a>\n",
              "</pre>\n"
            ],
            "text/plain": [
              "\u001b[2;36m[12:18:10]\u001b[0m\u001b[2;36m \u001b[0m\u001b[34mINFO    \u001b[0m Loading config done \u001b[1m(\u001b[0m\u001b[1;92m3:26\u001b[0m minutes\u001b[1m)\u001b[0m                                               \u001b]8;id=678598;file:///tmp/ipykernel_187379/617489973.py\u001b\\\u001b[2m617489973.py\u001b[0m\u001b]8;;\u001b\\\u001b[2m:\u001b[0m\u001b]8;id=574818;file:///tmp/ipykernel_187379/617489973.py#4\u001b\\\u001b[2m4\u001b[0m\u001b]8;;\u001b\\\n"
            ]
          },
          "metadata": {},
          "output_type": "display_data"
        },
        {
          "data": {
            "text/html": [
              "<pre style=\"white-space:pre;overflow-x:auto;line-height:normal;font-family:Menlo,'DejaVu Sans Mono',consolas,'Courier New',monospace\"><span style=\"color: #7fbfbf; text-decoration-color: #7fbfbf\">           </span><span style=\"color: #000080; text-decoration-color: #000080\">INFO    </span> Running MCR5                                                                    <a href=\"file:///tmp/ipykernel_187379/617489973.py\" target=\"_blank\"><span style=\"color: #7f7f7f; text-decoration-color: #7f7f7f\">617489973.py</span></a><span style=\"color: #7f7f7f; text-decoration-color: #7f7f7f\">:</span><a href=\"file:///tmp/ipykernel_187379/617489973.py#12\" target=\"_blank\"><span style=\"color: #7f7f7f; text-decoration-color: #7f7f7f\">12</span></a>\n",
              "</pre>\n"
            ],
            "text/plain": [
              "\u001b[2;36m          \u001b[0m\u001b[2;36m \u001b[0m\u001b[34mINFO    \u001b[0m Running MCR5                                                                    \u001b]8;id=102633;file:///tmp/ipykernel_187379/617489973.py\u001b\\\u001b[2m617489973.py\u001b[0m\u001b]8;;\u001b\\\u001b[2m:\u001b[0m\u001b]8;id=483228;file:///tmp/ipykernel_187379/617489973.py#12\u001b\\\u001b[2m12\u001b[0m\u001b]8;;\u001b\\\n"
            ]
          },
          "metadata": {},
          "output_type": "display_data"
        },
        {
          "data": {
            "application/vnd.jupyter.widget-view+json": {
              "model_id": "83327473149d460995971175b5d677e2",
              "version_major": 2,
              "version_minor": 0
            },
            "text/plain": [
              "Starting:   0%|          | 0/1782 [00:00<?, ?it/s]"
            ]
          },
          "metadata": {},
          "output_type": "display_data"
        },
        {
          "data": {
            "text/html": [
              "<pre style=\"white-space:pre;overflow-x:auto;line-height:normal;font-family:Menlo,'DejaVu Sans Mono',consolas,'Courier New',monospace\"><span style=\"color: #7fbfbf; text-decoration-color: #7fbfbf\">[12:25:53] </span><span style=\"color: #000080; text-decoration-color: #000080\">INFO    </span> All processes finished.                                                         <a href=\"file:///tmp/ipykernel_187379/617489973.py\" target=\"_blank\"><span style=\"color: #7f7f7f; text-decoration-color: #7f7f7f\">617489973.py</span></a><span style=\"color: #7f7f7f; text-decoration-color: #7f7f7f\">:</span><a href=\"file:///tmp/ipykernel_187379/617489973.py#12\" target=\"_blank\"><span style=\"color: #7f7f7f; text-decoration-color: #7f7f7f\">12</span></a>\n",
              "</pre>\n"
            ],
            "text/plain": [
              "\u001b[2;36m[12:25:53]\u001b[0m\u001b[2;36m \u001b[0m\u001b[34mINFO    \u001b[0m All processes finished.                                                         \u001b]8;id=38604;file:///tmp/ipykernel_187379/617489973.py\u001b\\\u001b[2m617489973.py\u001b[0m\u001b]8;;\u001b\\\u001b[2m:\u001b[0m\u001b]8;id=641204;file:///tmp/ipykernel_187379/617489973.py#12\u001b\\\u001b[2m12\u001b[0m\u001b]8;;\u001b\\\n"
            ]
          },
          "metadata": {},
          "output_type": "display_data"
        },
        {
          "data": {
            "text/html": [
              "<pre style=\"white-space:pre;overflow-x:auto;line-height:normal;font-family:Menlo,'DejaVu Sans Mono',consolas,'Courier New',monospace\"><span style=\"color: #7fbfbf; text-decoration-color: #7fbfbf\">           </span><span style=\"color: #000080; text-decoration-color: #000080\">INFO    </span> Running MCR5 done <span style=\"font-weight: bold\">(</span><span style=\"color: #00ff00; text-decoration-color: #00ff00; font-weight: bold\">7:43</span> minutes<span style=\"font-weight: bold\">)</span>                                                <a href=\"file:///tmp/ipykernel_187379/617489973.py\" target=\"_blank\"><span style=\"color: #7f7f7f; text-decoration-color: #7f7f7f\">617489973.py</span></a><span style=\"color: #7f7f7f; text-decoration-color: #7f7f7f\">:</span><a href=\"file:///tmp/ipykernel_187379/617489973.py#12\" target=\"_blank\"><span style=\"color: #7f7f7f; text-decoration-color: #7f7f7f\">12</span></a>\n",
              "</pre>\n"
            ],
            "text/plain": [
              "\u001b[2;36m          \u001b[0m\u001b[2;36m \u001b[0m\u001b[34mINFO    \u001b[0m Running MCR5 done \u001b[1m(\u001b[0m\u001b[1;92m7:43\u001b[0m minutes\u001b[1m)\u001b[0m                                                \u001b]8;id=128533;file:///tmp/ipykernel_187379/617489973.py\u001b\\\u001b[2m617489973.py\u001b[0m\u001b]8;;\u001b\\\u001b[2m:\u001b[0m\u001b]8;id=731834;file:///tmp/ipykernel_187379/617489973.py#12\u001b\\\u001b[2m12\u001b[0m\u001b]8;;\u001b\\\n"
            ]
          },
          "metadata": {},
          "output_type": "display_data"
        },
        {
          "data": {
            "text/html": [
              "<pre style=\"white-space:pre;overflow-x:auto;line-height:normal;font-family:Menlo,'DejaVu Sans Mono',consolas,'Courier New',monospace\"><span style=\"color: #7fbfbf; text-decoration-color: #7fbfbf\">           </span><span style=\"color: #000080; text-decoration-color: #000080\">INFO    </span> Running MCR5 for bicycle_public_transport_1                                      <a href=\"file:///tmp/ipykernel_187379/617489973.py\" target=\"_blank\"><span style=\"color: #7f7f7f; text-decoration-color: #7f7f7f\">617489973.py</span></a><span style=\"color: #7f7f7f; text-decoration-color: #7f7f7f\">:</span><a href=\"file:///tmp/ipykernel_187379/617489973.py#2\" target=\"_blank\"><span style=\"color: #7f7f7f; text-decoration-color: #7f7f7f\">2</span></a>\n",
              "</pre>\n"
            ],
            "text/plain": [
              "\u001b[2;36m          \u001b[0m\u001b[2;36m \u001b[0m\u001b[34mINFO    \u001b[0m Running MCR5 for bicycle_public_transport_1                                      \u001b]8;id=610265;file:///tmp/ipykernel_187379/617489973.py\u001b\\\u001b[2m617489973.py\u001b[0m\u001b]8;;\u001b\\\u001b[2m:\u001b[0m\u001b]8;id=674934;file:///tmp/ipykernel_187379/617489973.py#2\u001b\\\u001b[2m2\u001b[0m\u001b]8;;\u001b\\\n"
            ]
          },
          "metadata": {},
          "output_type": "display_data"
        },
        {
          "data": {
            "text/html": [
              "<pre style=\"white-space:pre;overflow-x:auto;line-height:normal;font-family:Menlo,'DejaVu Sans Mono',consolas,'Courier New',monospace\"><span style=\"color: #7fbfbf; text-decoration-color: #7fbfbf\">           </span><span style=\"color: #000080; text-decoration-color: #000080\">INFO    </span> Loading config                                                                   <a href=\"file:///tmp/ipykernel_187379/617489973.py\" target=\"_blank\"><span style=\"color: #7f7f7f; text-decoration-color: #7f7f7f\">617489973.py</span></a><span style=\"color: #7f7f7f; text-decoration-color: #7f7f7f\">:</span><a href=\"file:///tmp/ipykernel_187379/617489973.py#4\" target=\"_blank\"><span style=\"color: #7f7f7f; text-decoration-color: #7f7f7f\">4</span></a>\n",
              "</pre>\n"
            ],
            "text/plain": [
              "\u001b[2;36m          \u001b[0m\u001b[2;36m \u001b[0m\u001b[34mINFO    \u001b[0m Loading config                                                                   \u001b]8;id=304184;file:///tmp/ipykernel_187379/617489973.py\u001b\\\u001b[2m617489973.py\u001b[0m\u001b]8;;\u001b\\\u001b[2m:\u001b[0m\u001b]8;id=247706;file:///tmp/ipykernel_187379/617489973.py#4\u001b\\\u001b[2m4\u001b[0m\u001b]8;;\u001b\\\n"
            ]
          },
          "metadata": {},
          "output_type": "display_data"
        },
        {
          "data": {
            "text/html": [
              "<pre style=\"white-space:pre;overflow-x:auto;line-height:normal;font-family:Menlo,'DejaVu Sans Mono',consolas,'Courier New',monospace\"><span style=\"color: #7fbfbf; text-decoration-color: #7fbfbf\">           </span><span style=\"color: #000080; text-decoration-color: #000080\">INFO    </span> Using existing OSM data                                                          <a href=\"file:///tmp/ipykernel_187379/617489973.py\" target=\"_blank\"><span style=\"color: #7f7f7f; text-decoration-color: #7f7f7f\">617489973.py</span></a><span style=\"color: #7f7f7f; text-decoration-color: #7f7f7f\">:</span><a href=\"file:///tmp/ipykernel_187379/617489973.py#4\" target=\"_blank\"><span style=\"color: #7f7f7f; text-decoration-color: #7f7f7f\">4</span></a>\n",
              "</pre>\n"
            ],
            "text/plain": [
              "\u001b[2;36m          \u001b[0m\u001b[2;36m \u001b[0m\u001b[34mINFO    \u001b[0m Using existing OSM data                                                          \u001b]8;id=336664;file:///tmp/ipykernel_187379/617489973.py\u001b\\\u001b[2m617489973.py\u001b[0m\u001b]8;;\u001b\\\u001b[2m:\u001b[0m\u001b]8;id=401778;file:///tmp/ipykernel_187379/617489973.py#4\u001b\\\u001b[2m4\u001b[0m\u001b]8;;\u001b\\\n"
            ]
          },
          "metadata": {},
          "output_type": "display_data"
        },
        {
          "data": {
            "text/html": [
              "<pre style=\"white-space:pre;overflow-x:auto;line-height:normal;font-family:Menlo,'DejaVu Sans Mono',consolas,'Courier New',monospace\"><span style=\"color: #7fbfbf; text-decoration-color: #7fbfbf\">           </span><span style=\"color: #000080; text-decoration-color: #000080\">INFO    </span> Loading OSM network from cache <span style=\"font-weight: bold\">(</span>walking<span style=\"font-weight: bold\">)</span>                                         <a href=\"file:///tmp/ipykernel_187379/617489973.py\" target=\"_blank\"><span style=\"color: #7f7f7f; text-decoration-color: #7f7f7f\">617489973.py</span></a><span style=\"color: #7f7f7f; text-decoration-color: #7f7f7f\">:</span><a href=\"file:///tmp/ipykernel_187379/617489973.py#4\" target=\"_blank\"><span style=\"color: #7f7f7f; text-decoration-color: #7f7f7f\">4</span></a>\n",
              "</pre>\n"
            ],
            "text/plain": [
              "\u001b[2;36m          \u001b[0m\u001b[2;36m \u001b[0m\u001b[34mINFO    \u001b[0m Loading OSM network from cache \u001b[1m(\u001b[0mwalking\u001b[1m)\u001b[0m                                         \u001b]8;id=579181;file:///tmp/ipykernel_187379/617489973.py\u001b\\\u001b[2m617489973.py\u001b[0m\u001b]8;;\u001b\\\u001b[2m:\u001b[0m\u001b]8;id=873841;file:///tmp/ipykernel_187379/617489973.py#4\u001b\\\u001b[2m4\u001b[0m\u001b]8;;\u001b\\\n"
            ]
          },
          "metadata": {},
          "output_type": "display_data"
        },
        {
          "data": {
            "text/html": [
              "<pre style=\"white-space:pre;overflow-x:auto;line-height:normal;font-family:Menlo,'DejaVu Sans Mono',consolas,'Courier New',monospace\"><span style=\"color: #7fbfbf; text-decoration-color: #7fbfbf\">[12:26:57] </span><span style=\"color: #000080; text-decoration-color: #000080\">INFO    </span> Using existing OSM data                                                          <a href=\"file:///tmp/ipykernel_187379/617489973.py\" target=\"_blank\"><span style=\"color: #7f7f7f; text-decoration-color: #7f7f7f\">617489973.py</span></a><span style=\"color: #7f7f7f; text-decoration-color: #7f7f7f\">:</span><a href=\"file:///tmp/ipykernel_187379/617489973.py#4\" target=\"_blank\"><span style=\"color: #7f7f7f; text-decoration-color: #7f7f7f\">4</span></a>\n",
              "</pre>\n"
            ],
            "text/plain": [
              "\u001b[2;36m[12:26:57]\u001b[0m\u001b[2;36m \u001b[0m\u001b[34mINFO    \u001b[0m Using existing OSM data                                                          \u001b]8;id=962431;file:///tmp/ipykernel_187379/617489973.py\u001b\\\u001b[2m617489973.py\u001b[0m\u001b]8;;\u001b\\\u001b[2m:\u001b[0m\u001b]8;id=847767;file:///tmp/ipykernel_187379/617489973.py#4\u001b\\\u001b[2m4\u001b[0m\u001b]8;;\u001b\\\n"
            ]
          },
          "metadata": {},
          "output_type": "display_data"
        },
        {
          "data": {
            "text/html": [
              "<pre style=\"white-space:pre;overflow-x:auto;line-height:normal;font-family:Menlo,'DejaVu Sans Mono',consolas,'Courier New',monospace\"><span style=\"color: #7fbfbf; text-decoration-color: #7fbfbf\">           </span><span style=\"color: #000080; text-decoration-color: #000080\">INFO    </span> Loading OSM network from cache <span style=\"font-weight: bold\">(</span>cycling<span style=\"font-weight: bold\">)</span>                                         <a href=\"file:///tmp/ipykernel_187379/617489973.py\" target=\"_blank\"><span style=\"color: #7f7f7f; text-decoration-color: #7f7f7f\">617489973.py</span></a><span style=\"color: #7f7f7f; text-decoration-color: #7f7f7f\">:</span><a href=\"file:///tmp/ipykernel_187379/617489973.py#4\" target=\"_blank\"><span style=\"color: #7f7f7f; text-decoration-color: #7f7f7f\">4</span></a>\n",
              "</pre>\n"
            ],
            "text/plain": [
              "\u001b[2;36m          \u001b[0m\u001b[2;36m \u001b[0m\u001b[34mINFO    \u001b[0m Loading OSM network from cache \u001b[1m(\u001b[0mcycling\u001b[1m)\u001b[0m                                         \u001b]8;id=932125;file:///tmp/ipykernel_187379/617489973.py\u001b\\\u001b[2m617489973.py\u001b[0m\u001b]8;;\u001b\\\u001b[2m:\u001b[0m\u001b]8;id=195410;file:///tmp/ipykernel_187379/617489973.py#4\u001b\\\u001b[2m4\u001b[0m\u001b]8;;\u001b\\\n"
            ]
          },
          "metadata": {},
          "output_type": "display_data"
        },
        {
          "data": {
            "text/html": [
              "<pre style=\"white-space:pre;overflow-x:auto;line-height:normal;font-family:Menlo,'DejaVu Sans Mono',consolas,'Courier New',monospace\"><span style=\"color: #7fbfbf; text-decoration-color: #7fbfbf\">[12:27:54] </span><span style=\"color: #000080; text-decoration-color: #000080\">INFO    </span> Fetching POI for runtime optimization                                         <a href=\"file:///home/moritz/dev/uni/mcr-py/notebooks/../src/command/step_config.py\" target=\"_blank\"><span style=\"color: #7f7f7f; text-decoration-color: #7f7f7f\">step_config.py</span></a><span style=\"color: #7f7f7f; text-decoration-color: #7f7f7f\">:</span><a href=\"file:///home/moritz/dev/uni/mcr-py/notebooks/../src/command/step_config.py#51\" target=\"_blank\"><span style=\"color: #7f7f7f; text-decoration-color: #7f7f7f\">51</span></a>\n",
              "</pre>\n"
            ],
            "text/plain": [
              "\u001b[2;36m[12:27:54]\u001b[0m\u001b[2;36m \u001b[0m\u001b[34mINFO    \u001b[0m Fetching POI for runtime optimization                                         \u001b]8;id=508413;file:///home/moritz/dev/uni/mcr-py/notebooks/../src/command/step_config.py\u001b\\\u001b[2mstep_config.py\u001b[0m\u001b]8;;\u001b\\\u001b[2m:\u001b[0m\u001b]8;id=117395;file:///home/moritz/dev/uni/mcr-py/notebooks/../src/command/step_config.py#51\u001b\\\u001b[2m51\u001b[0m\u001b]8;;\u001b\\\n"
            ]
          },
          "metadata": {},
          "output_type": "display_data"
        },
        {
          "data": {
            "text/html": [
              "<pre style=\"white-space:pre;overflow-x:auto;line-height:normal;font-family:Menlo,'DejaVu Sans Mono',consolas,'Courier New',monospace\"><span style=\"color: #7fbfbf; text-decoration-color: #7fbfbf\">           </span><span style=\"color: #000080; text-decoration-color: #000080\">INFO    </span> Fetching POI for runtime optimization done <span style=\"font-weight: bold\">(</span><span style=\"color: #008080; text-decoration-color: #008080; font-weight: bold\">0.10</span> seconds<span style=\"font-weight: bold\">)</span>                     <a href=\"file:///home/moritz/dev/uni/mcr-py/notebooks/../src/command/step_config.py\" target=\"_blank\"><span style=\"color: #7f7f7f; text-decoration-color: #7f7f7f\">step_config.py</span></a><span style=\"color: #7f7f7f; text-decoration-color: #7f7f7f\">:</span><a href=\"file:///home/moritz/dev/uni/mcr-py/notebooks/../src/command/step_config.py#51\" target=\"_blank\"><span style=\"color: #7f7f7f; text-decoration-color: #7f7f7f\">51</span></a>\n",
              "</pre>\n"
            ],
            "text/plain": [
              "\u001b[2;36m          \u001b[0m\u001b[2;36m \u001b[0m\u001b[34mINFO    \u001b[0m Fetching POI for runtime optimization done \u001b[1m(\u001b[0m\u001b[1;36m0.10\u001b[0m seconds\u001b[1m)\u001b[0m                     \u001b]8;id=830808;file:///home/moritz/dev/uni/mcr-py/notebooks/../src/command/step_config.py\u001b\\\u001b[2mstep_config.py\u001b[0m\u001b]8;;\u001b\\\u001b[2m:\u001b[0m\u001b]8;id=158261;file:///home/moritz/dev/uni/mcr-py/notebooks/../src/command/step_config.py#51\u001b\\\u001b[2m51\u001b[0m\u001b]8;;\u001b\\\n"
            ]
          },
          "metadata": {},
          "output_type": "display_data"
        },
        {
          "data": {
            "text/html": [
              "<pre style=\"white-space:pre;overflow-x:auto;line-height:normal;font-family:Menlo,'DejaVu Sans Mono',consolas,'Courier New',monospace\"><span style=\"color: #7fbfbf; text-decoration-color: #7fbfbf\">[12:28:55] </span><span style=\"color: #000080; text-decoration-color: #000080\">INFO    </span> Reading stops                                                           <a href=\"file:///home/moritz/dev/uni/mcr-py/notebooks/../src/package/mcr/steps/public_transport.py\" target=\"_blank\"><span style=\"color: #7f7f7f; text-decoration-color: #7f7f7f\">public_transport.py</span></a><span style=\"color: #7f7f7f; text-decoration-color: #7f7f7f\">:</span><a href=\"file:///home/moritz/dev/uni/mcr-py/notebooks/../src/package/mcr/steps/public_transport.py#144\" target=\"_blank\"><span style=\"color: #7f7f7f; text-decoration-color: #7f7f7f\">144</span></a>\n",
              "</pre>\n"
            ],
            "text/plain": [
              "\u001b[2;36m[12:28:55]\u001b[0m\u001b[2;36m \u001b[0m\u001b[34mINFO    \u001b[0m Reading stops                                                           \u001b]8;id=264751;file:///home/moritz/dev/uni/mcr-py/notebooks/../src/package/mcr/steps/public_transport.py\u001b\\\u001b[2mpublic_transport.py\u001b[0m\u001b]8;;\u001b\\\u001b[2m:\u001b[0m\u001b]8;id=711887;file:///home/moritz/dev/uni/mcr-py/notebooks/../src/package/mcr/steps/public_transport.py#144\u001b\\\u001b[2m144\u001b[0m\u001b]8;;\u001b\\\n"
            ]
          },
          "metadata": {},
          "output_type": "display_data"
        },
        {
          "data": {
            "text/html": [
              "<pre style=\"white-space:pre;overflow-x:auto;line-height:normal;font-family:Menlo,'DejaVu Sans Mono',consolas,'Courier New',monospace\"><span style=\"color: #7fbfbf; text-decoration-color: #7fbfbf\">           </span><span style=\"color: #000080; text-decoration-color: #000080\">INFO    </span> Reading stops done <span style=\"font-weight: bold\">(</span><span style=\"color: #008080; text-decoration-color: #008080; font-weight: bold\">0.19</span> seconds<span style=\"font-weight: bold\">)</span>                                       <a href=\"file:///home/moritz/dev/uni/mcr-py/notebooks/../src/package/mcr/steps/public_transport.py\" target=\"_blank\"><span style=\"color: #7f7f7f; text-decoration-color: #7f7f7f\">public_transport.py</span></a><span style=\"color: #7f7f7f; text-decoration-color: #7f7f7f\">:</span><a href=\"file:///home/moritz/dev/uni/mcr-py/notebooks/../src/package/mcr/steps/public_transport.py#144\" target=\"_blank\"><span style=\"color: #7f7f7f; text-decoration-color: #7f7f7f\">144</span></a>\n",
              "</pre>\n"
            ],
            "text/plain": [
              "\u001b[2;36m          \u001b[0m\u001b[2;36m \u001b[0m\u001b[34mINFO    \u001b[0m Reading stops done \u001b[1m(\u001b[0m\u001b[1;36m0.19\u001b[0m seconds\u001b[1m)\u001b[0m                                       \u001b]8;id=769880;file:///home/moritz/dev/uni/mcr-py/notebooks/../src/package/mcr/steps/public_transport.py\u001b\\\u001b[2mpublic_transport.py\u001b[0m\u001b]8;;\u001b\\\u001b[2m:\u001b[0m\u001b]8;id=852856;file:///home/moritz/dev/uni/mcr-py/notebooks/../src/package/mcr/steps/public_transport.py#144\u001b\\\u001b[2m144\u001b[0m\u001b]8;;\u001b\\\n"
            ]
          },
          "metadata": {},
          "output_type": "display_data"
        },
        {
          "data": {
            "text/html": [
              "<pre style=\"white-space:pre;overflow-x:auto;line-height:normal;font-family:Menlo,'DejaVu Sans Mono',consolas,'Courier New',monospace\"><span style=\"color: #7fbfbf; text-decoration-color: #7fbfbf\">[12:29:27] </span><span style=\"color: #000080; text-decoration-color: #000080\">INFO    </span> Loading config done <span style=\"font-weight: bold\">(</span><span style=\"color: #00ff00; text-decoration-color: #00ff00; font-weight: bold\">3:33</span> minutes<span style=\"font-weight: bold\">)</span>                                               <a href=\"file:///tmp/ipykernel_187379/617489973.py\" target=\"_blank\"><span style=\"color: #7f7f7f; text-decoration-color: #7f7f7f\">617489973.py</span></a><span style=\"color: #7f7f7f; text-decoration-color: #7f7f7f\">:</span><a href=\"file:///tmp/ipykernel_187379/617489973.py#4\" target=\"_blank\"><span style=\"color: #7f7f7f; text-decoration-color: #7f7f7f\">4</span></a>\n",
              "</pre>\n"
            ],
            "text/plain": [
              "\u001b[2;36m[12:29:27]\u001b[0m\u001b[2;36m \u001b[0m\u001b[34mINFO    \u001b[0m Loading config done \u001b[1m(\u001b[0m\u001b[1;92m3:33\u001b[0m minutes\u001b[1m)\u001b[0m                                               \u001b]8;id=931343;file:///tmp/ipykernel_187379/617489973.py\u001b\\\u001b[2m617489973.py\u001b[0m\u001b]8;;\u001b\\\u001b[2m:\u001b[0m\u001b]8;id=189540;file:///tmp/ipykernel_187379/617489973.py#4\u001b\\\u001b[2m4\u001b[0m\u001b]8;;\u001b\\\n"
            ]
          },
          "metadata": {},
          "output_type": "display_data"
        },
        {
          "data": {
            "text/html": [
              "<pre style=\"white-space:pre;overflow-x:auto;line-height:normal;font-family:Menlo,'DejaVu Sans Mono',consolas,'Courier New',monospace\"><span style=\"color: #7fbfbf; text-decoration-color: #7fbfbf\">           </span><span style=\"color: #000080; text-decoration-color: #000080\">INFO    </span> Running MCR5                                                                    <a href=\"file:///tmp/ipykernel_187379/617489973.py\" target=\"_blank\"><span style=\"color: #7f7f7f; text-decoration-color: #7f7f7f\">617489973.py</span></a><span style=\"color: #7f7f7f; text-decoration-color: #7f7f7f\">:</span><a href=\"file:///tmp/ipykernel_187379/617489973.py#12\" target=\"_blank\"><span style=\"color: #7f7f7f; text-decoration-color: #7f7f7f\">12</span></a>\n",
              "</pre>\n"
            ],
            "text/plain": [
              "\u001b[2;36m          \u001b[0m\u001b[2;36m \u001b[0m\u001b[34mINFO    \u001b[0m Running MCR5                                                                    \u001b]8;id=95929;file:///tmp/ipykernel_187379/617489973.py\u001b\\\u001b[2m617489973.py\u001b[0m\u001b]8;;\u001b\\\u001b[2m:\u001b[0m\u001b]8;id=593694;file:///tmp/ipykernel_187379/617489973.py#12\u001b\\\u001b[2m12\u001b[0m\u001b]8;;\u001b\\\n"
            ]
          },
          "metadata": {},
          "output_type": "display_data"
        },
        {
          "data": {
            "application/vnd.jupyter.widget-view+json": {
              "model_id": "0f2b9695ab2c49aa9069fbf0284902ae",
              "version_major": 2,
              "version_minor": 0
            },
            "text/plain": [
              "Starting:   0%|          | 0/1782 [00:00<?, ?it/s]"
            ]
          },
          "metadata": {},
          "output_type": "display_data"
        },
        {
          "data": {
            "text/html": [
              "<pre style=\"white-space:pre;overflow-x:auto;line-height:normal;font-family:Menlo,'DejaVu Sans Mono',consolas,'Courier New',monospace\"><span style=\"color: #7fbfbf; text-decoration-color: #7fbfbf\">[12:38:27] </span><span style=\"color: #000080; text-decoration-color: #000080\">INFO    </span> All processes finished.                                                         <a href=\"file:///tmp/ipykernel_187379/617489973.py\" target=\"_blank\"><span style=\"color: #7f7f7f; text-decoration-color: #7f7f7f\">617489973.py</span></a><span style=\"color: #7f7f7f; text-decoration-color: #7f7f7f\">:</span><a href=\"file:///tmp/ipykernel_187379/617489973.py#12\" target=\"_blank\"><span style=\"color: #7f7f7f; text-decoration-color: #7f7f7f\">12</span></a>\n",
              "</pre>\n"
            ],
            "text/plain": [
              "\u001b[2;36m[12:38:27]\u001b[0m\u001b[2;36m \u001b[0m\u001b[34mINFO    \u001b[0m All processes finished.                                                         \u001b]8;id=159660;file:///tmp/ipykernel_187379/617489973.py\u001b\\\u001b[2m617489973.py\u001b[0m\u001b]8;;\u001b\\\u001b[2m:\u001b[0m\u001b]8;id=489331;file:///tmp/ipykernel_187379/617489973.py#12\u001b\\\u001b[2m12\u001b[0m\u001b]8;;\u001b\\\n"
            ]
          },
          "metadata": {},
          "output_type": "display_data"
        },
        {
          "data": {
            "text/html": [
              "<pre style=\"white-space:pre;overflow-x:auto;line-height:normal;font-family:Menlo,'DejaVu Sans Mono',consolas,'Courier New',monospace\"><span style=\"color: #7fbfbf; text-decoration-color: #7fbfbf\">           </span><span style=\"color: #000080; text-decoration-color: #000080\">INFO    </span> Running MCR5 done <span style=\"font-weight: bold\">(</span><span style=\"color: #00ff00; text-decoration-color: #00ff00; font-weight: bold\">8:59</span> minutes<span style=\"font-weight: bold\">)</span>                                                <a href=\"file:///tmp/ipykernel_187379/617489973.py\" target=\"_blank\"><span style=\"color: #7f7f7f; text-decoration-color: #7f7f7f\">617489973.py</span></a><span style=\"color: #7f7f7f; text-decoration-color: #7f7f7f\">:</span><a href=\"file:///tmp/ipykernel_187379/617489973.py#12\" target=\"_blank\"><span style=\"color: #7f7f7f; text-decoration-color: #7f7f7f\">12</span></a>\n",
              "</pre>\n"
            ],
            "text/plain": [
              "\u001b[2;36m          \u001b[0m\u001b[2;36m \u001b[0m\u001b[34mINFO    \u001b[0m Running MCR5 done \u001b[1m(\u001b[0m\u001b[1;92m8:59\u001b[0m minutes\u001b[1m)\u001b[0m                                                \u001b]8;id=991856;file:///tmp/ipykernel_187379/617489973.py\u001b\\\u001b[2m617489973.py\u001b[0m\u001b]8;;\u001b\\\u001b[2m:\u001b[0m\u001b]8;id=783510;file:///tmp/ipykernel_187379/617489973.py#12\u001b\\\u001b[2m12\u001b[0m\u001b]8;;\u001b\\\n"
            ]
          },
          "metadata": {},
          "output_type": "display_data"
        },
        {
          "data": {
            "text/html": [
              "<pre style=\"white-space:pre;overflow-x:auto;line-height:normal;font-family:Menlo,'DejaVu Sans Mono',consolas,'Courier New',monospace\"><span style=\"color: #7fbfbf; text-decoration-color: #7fbfbf\">           </span><span style=\"color: #000080; text-decoration-color: #000080\">INFO    </span> Running MCR5 for bicycle_public_transport_2                                      <a href=\"file:///tmp/ipykernel_187379/617489973.py\" target=\"_blank\"><span style=\"color: #7f7f7f; text-decoration-color: #7f7f7f\">617489973.py</span></a><span style=\"color: #7f7f7f; text-decoration-color: #7f7f7f\">:</span><a href=\"file:///tmp/ipykernel_187379/617489973.py#2\" target=\"_blank\"><span style=\"color: #7f7f7f; text-decoration-color: #7f7f7f\">2</span></a>\n",
              "</pre>\n"
            ],
            "text/plain": [
              "\u001b[2;36m          \u001b[0m\u001b[2;36m \u001b[0m\u001b[34mINFO    \u001b[0m Running MCR5 for bicycle_public_transport_2                                      \u001b]8;id=273229;file:///tmp/ipykernel_187379/617489973.py\u001b\\\u001b[2m617489973.py\u001b[0m\u001b]8;;\u001b\\\u001b[2m:\u001b[0m\u001b]8;id=410295;file:///tmp/ipykernel_187379/617489973.py#2\u001b\\\u001b[2m2\u001b[0m\u001b]8;;\u001b\\\n"
            ]
          },
          "metadata": {},
          "output_type": "display_data"
        },
        {
          "data": {
            "text/html": [
              "<pre style=\"white-space:pre;overflow-x:auto;line-height:normal;font-family:Menlo,'DejaVu Sans Mono',consolas,'Courier New',monospace\"><span style=\"color: #7fbfbf; text-decoration-color: #7fbfbf\">           </span><span style=\"color: #000080; text-decoration-color: #000080\">INFO    </span> Loading config                                                                   <a href=\"file:///tmp/ipykernel_187379/617489973.py\" target=\"_blank\"><span style=\"color: #7f7f7f; text-decoration-color: #7f7f7f\">617489973.py</span></a><span style=\"color: #7f7f7f; text-decoration-color: #7f7f7f\">:</span><a href=\"file:///tmp/ipykernel_187379/617489973.py#4\" target=\"_blank\"><span style=\"color: #7f7f7f; text-decoration-color: #7f7f7f\">4</span></a>\n",
              "</pre>\n"
            ],
            "text/plain": [
              "\u001b[2;36m          \u001b[0m\u001b[2;36m \u001b[0m\u001b[34mINFO    \u001b[0m Loading config                                                                   \u001b]8;id=743484;file:///tmp/ipykernel_187379/617489973.py\u001b\\\u001b[2m617489973.py\u001b[0m\u001b]8;;\u001b\\\u001b[2m:\u001b[0m\u001b]8;id=28100;file:///tmp/ipykernel_187379/617489973.py#4\u001b\\\u001b[2m4\u001b[0m\u001b]8;;\u001b\\\n"
            ]
          },
          "metadata": {},
          "output_type": "display_data"
        },
        {
          "data": {
            "text/html": [
              "<pre style=\"white-space:pre;overflow-x:auto;line-height:normal;font-family:Menlo,'DejaVu Sans Mono',consolas,'Courier New',monospace\"><span style=\"color: #7fbfbf; text-decoration-color: #7fbfbf\">           </span><span style=\"color: #000080; text-decoration-color: #000080\">INFO    </span> Using existing OSM data                                                          <a href=\"file:///tmp/ipykernel_187379/617489973.py\" target=\"_blank\"><span style=\"color: #7f7f7f; text-decoration-color: #7f7f7f\">617489973.py</span></a><span style=\"color: #7f7f7f; text-decoration-color: #7f7f7f\">:</span><a href=\"file:///tmp/ipykernel_187379/617489973.py#4\" target=\"_blank\"><span style=\"color: #7f7f7f; text-decoration-color: #7f7f7f\">4</span></a>\n",
              "</pre>\n"
            ],
            "text/plain": [
              "\u001b[2;36m          \u001b[0m\u001b[2;36m \u001b[0m\u001b[34mINFO    \u001b[0m Using existing OSM data                                                          \u001b]8;id=405469;file:///tmp/ipykernel_187379/617489973.py\u001b\\\u001b[2m617489973.py\u001b[0m\u001b]8;;\u001b\\\u001b[2m:\u001b[0m\u001b]8;id=835744;file:///tmp/ipykernel_187379/617489973.py#4\u001b\\\u001b[2m4\u001b[0m\u001b]8;;\u001b\\\n"
            ]
          },
          "metadata": {},
          "output_type": "display_data"
        },
        {
          "data": {
            "text/html": [
              "<pre style=\"white-space:pre;overflow-x:auto;line-height:normal;font-family:Menlo,'DejaVu Sans Mono',consolas,'Courier New',monospace\"><span style=\"color: #7fbfbf; text-decoration-color: #7fbfbf\">           </span><span style=\"color: #000080; text-decoration-color: #000080\">INFO    </span> Loading OSM network from cache <span style=\"font-weight: bold\">(</span>walking<span style=\"font-weight: bold\">)</span>                                         <a href=\"file:///tmp/ipykernel_187379/617489973.py\" target=\"_blank\"><span style=\"color: #7f7f7f; text-decoration-color: #7f7f7f\">617489973.py</span></a><span style=\"color: #7f7f7f; text-decoration-color: #7f7f7f\">:</span><a href=\"file:///tmp/ipykernel_187379/617489973.py#4\" target=\"_blank\"><span style=\"color: #7f7f7f; text-decoration-color: #7f7f7f\">4</span></a>\n",
              "</pre>\n"
            ],
            "text/plain": [
              "\u001b[2;36m          \u001b[0m\u001b[2;36m \u001b[0m\u001b[34mINFO    \u001b[0m Loading OSM network from cache \u001b[1m(\u001b[0mwalking\u001b[1m)\u001b[0m                                         \u001b]8;id=266635;file:///tmp/ipykernel_187379/617489973.py\u001b\\\u001b[2m617489973.py\u001b[0m\u001b]8;;\u001b\\\u001b[2m:\u001b[0m\u001b]8;id=909256;file:///tmp/ipykernel_187379/617489973.py#4\u001b\\\u001b[2m4\u001b[0m\u001b]8;;\u001b\\\n"
            ]
          },
          "metadata": {},
          "output_type": "display_data"
        },
        {
          "data": {
            "text/html": [
              "<pre style=\"white-space:pre;overflow-x:auto;line-height:normal;font-family:Menlo,'DejaVu Sans Mono',consolas,'Courier New',monospace\"><span style=\"color: #7fbfbf; text-decoration-color: #7fbfbf\">[12:39:35] </span><span style=\"color: #000080; text-decoration-color: #000080\">INFO    </span> Using existing OSM data                                                          <a href=\"file:///tmp/ipykernel_187379/617489973.py\" target=\"_blank\"><span style=\"color: #7f7f7f; text-decoration-color: #7f7f7f\">617489973.py</span></a><span style=\"color: #7f7f7f; text-decoration-color: #7f7f7f\">:</span><a href=\"file:///tmp/ipykernel_187379/617489973.py#4\" target=\"_blank\"><span style=\"color: #7f7f7f; text-decoration-color: #7f7f7f\">4</span></a>\n",
              "</pre>\n"
            ],
            "text/plain": [
              "\u001b[2;36m[12:39:35]\u001b[0m\u001b[2;36m \u001b[0m\u001b[34mINFO    \u001b[0m Using existing OSM data                                                          \u001b]8;id=532535;file:///tmp/ipykernel_187379/617489973.py\u001b\\\u001b[2m617489973.py\u001b[0m\u001b]8;;\u001b\\\u001b[2m:\u001b[0m\u001b]8;id=940633;file:///tmp/ipykernel_187379/617489973.py#4\u001b\\\u001b[2m4\u001b[0m\u001b]8;;\u001b\\\n"
            ]
          },
          "metadata": {},
          "output_type": "display_data"
        },
        {
          "data": {
            "text/html": [
              "<pre style=\"white-space:pre;overflow-x:auto;line-height:normal;font-family:Menlo,'DejaVu Sans Mono',consolas,'Courier New',monospace\"><span style=\"color: #7fbfbf; text-decoration-color: #7fbfbf\">           </span><span style=\"color: #000080; text-decoration-color: #000080\">INFO    </span> Loading OSM network from cache <span style=\"font-weight: bold\">(</span>cycling<span style=\"font-weight: bold\">)</span>                                         <a href=\"file:///tmp/ipykernel_187379/617489973.py\" target=\"_blank\"><span style=\"color: #7f7f7f; text-decoration-color: #7f7f7f\">617489973.py</span></a><span style=\"color: #7f7f7f; text-decoration-color: #7f7f7f\">:</span><a href=\"file:///tmp/ipykernel_187379/617489973.py#4\" target=\"_blank\"><span style=\"color: #7f7f7f; text-decoration-color: #7f7f7f\">4</span></a>\n",
              "</pre>\n"
            ],
            "text/plain": [
              "\u001b[2;36m          \u001b[0m\u001b[2;36m \u001b[0m\u001b[34mINFO    \u001b[0m Loading OSM network from cache \u001b[1m(\u001b[0mcycling\u001b[1m)\u001b[0m                                         \u001b]8;id=713636;file:///tmp/ipykernel_187379/617489973.py\u001b\\\u001b[2m617489973.py\u001b[0m\u001b]8;;\u001b\\\u001b[2m:\u001b[0m\u001b]8;id=8475;file:///tmp/ipykernel_187379/617489973.py#4\u001b\\\u001b[2m4\u001b[0m\u001b]8;;\u001b\\\n"
            ]
          },
          "metadata": {},
          "output_type": "display_data"
        },
        {
          "data": {
            "text/html": [
              "<pre style=\"white-space:pre;overflow-x:auto;line-height:normal;font-family:Menlo,'DejaVu Sans Mono',consolas,'Courier New',monospace\"><span style=\"color: #7fbfbf; text-decoration-color: #7fbfbf\">[12:40:36] </span><span style=\"color: #000080; text-decoration-color: #000080\">INFO    </span> Fetching POI for runtime optimization                                         <a href=\"file:///home/moritz/dev/uni/mcr-py/notebooks/../src/command/step_config.py\" target=\"_blank\"><span style=\"color: #7f7f7f; text-decoration-color: #7f7f7f\">step_config.py</span></a><span style=\"color: #7f7f7f; text-decoration-color: #7f7f7f\">:</span><a href=\"file:///home/moritz/dev/uni/mcr-py/notebooks/../src/command/step_config.py#51\" target=\"_blank\"><span style=\"color: #7f7f7f; text-decoration-color: #7f7f7f\">51</span></a>\n",
              "</pre>\n"
            ],
            "text/plain": [
              "\u001b[2;36m[12:40:36]\u001b[0m\u001b[2;36m \u001b[0m\u001b[34mINFO    \u001b[0m Fetching POI for runtime optimization                                         \u001b]8;id=732087;file:///home/moritz/dev/uni/mcr-py/notebooks/../src/command/step_config.py\u001b\\\u001b[2mstep_config.py\u001b[0m\u001b]8;;\u001b\\\u001b[2m:\u001b[0m\u001b]8;id=21658;file:///home/moritz/dev/uni/mcr-py/notebooks/../src/command/step_config.py#51\u001b\\\u001b[2m51\u001b[0m\u001b]8;;\u001b\\\n"
            ]
          },
          "metadata": {},
          "output_type": "display_data"
        },
        {
          "data": {
            "text/html": [
              "<pre style=\"white-space:pre;overflow-x:auto;line-height:normal;font-family:Menlo,'DejaVu Sans Mono',consolas,'Courier New',monospace\"><span style=\"color: #7fbfbf; text-decoration-color: #7fbfbf\">           </span><span style=\"color: #000080; text-decoration-color: #000080\">INFO    </span> Fetching POI for runtime optimization done <span style=\"font-weight: bold\">(</span><span style=\"color: #008080; text-decoration-color: #008080; font-weight: bold\">0.07</span> seconds<span style=\"font-weight: bold\">)</span>                     <a href=\"file:///home/moritz/dev/uni/mcr-py/notebooks/../src/command/step_config.py\" target=\"_blank\"><span style=\"color: #7f7f7f; text-decoration-color: #7f7f7f\">step_config.py</span></a><span style=\"color: #7f7f7f; text-decoration-color: #7f7f7f\">:</span><a href=\"file:///home/moritz/dev/uni/mcr-py/notebooks/../src/command/step_config.py#51\" target=\"_blank\"><span style=\"color: #7f7f7f; text-decoration-color: #7f7f7f\">51</span></a>\n",
              "</pre>\n"
            ],
            "text/plain": [
              "\u001b[2;36m          \u001b[0m\u001b[2;36m \u001b[0m\u001b[34mINFO    \u001b[0m Fetching POI for runtime optimization done \u001b[1m(\u001b[0m\u001b[1;36m0.07\u001b[0m seconds\u001b[1m)\u001b[0m                     \u001b]8;id=801813;file:///home/moritz/dev/uni/mcr-py/notebooks/../src/command/step_config.py\u001b\\\u001b[2mstep_config.py\u001b[0m\u001b]8;;\u001b\\\u001b[2m:\u001b[0m\u001b]8;id=614592;file:///home/moritz/dev/uni/mcr-py/notebooks/../src/command/step_config.py#51\u001b\\\u001b[2m51\u001b[0m\u001b]8;;\u001b\\\n"
            ]
          },
          "metadata": {},
          "output_type": "display_data"
        },
        {
          "data": {
            "text/html": [
              "<pre style=\"white-space:pre;overflow-x:auto;line-height:normal;font-family:Menlo,'DejaVu Sans Mono',consolas,'Courier New',monospace\"><span style=\"color: #7fbfbf; text-decoration-color: #7fbfbf\">[12:41:46] </span><span style=\"color: #000080; text-decoration-color: #000080\">INFO    </span> Reading stops                                                           <a href=\"file:///home/moritz/dev/uni/mcr-py/notebooks/../src/package/mcr/steps/public_transport.py\" target=\"_blank\"><span style=\"color: #7f7f7f; text-decoration-color: #7f7f7f\">public_transport.py</span></a><span style=\"color: #7f7f7f; text-decoration-color: #7f7f7f\">:</span><a href=\"file:///home/moritz/dev/uni/mcr-py/notebooks/../src/package/mcr/steps/public_transport.py#144\" target=\"_blank\"><span style=\"color: #7f7f7f; text-decoration-color: #7f7f7f\">144</span></a>\n",
              "</pre>\n"
            ],
            "text/plain": [
              "\u001b[2;36m[12:41:46]\u001b[0m\u001b[2;36m \u001b[0m\u001b[34mINFO    \u001b[0m Reading stops                                                           \u001b]8;id=269247;file:///home/moritz/dev/uni/mcr-py/notebooks/../src/package/mcr/steps/public_transport.py\u001b\\\u001b[2mpublic_transport.py\u001b[0m\u001b]8;;\u001b\\\u001b[2m:\u001b[0m\u001b]8;id=519498;file:///home/moritz/dev/uni/mcr-py/notebooks/../src/package/mcr/steps/public_transport.py#144\u001b\\\u001b[2m144\u001b[0m\u001b]8;;\u001b\\\n"
            ]
          },
          "metadata": {},
          "output_type": "display_data"
        },
        {
          "data": {
            "text/html": [
              "<pre style=\"white-space:pre;overflow-x:auto;line-height:normal;font-family:Menlo,'DejaVu Sans Mono',consolas,'Courier New',monospace\"><span style=\"color: #7fbfbf; text-decoration-color: #7fbfbf\">[12:41:47] </span><span style=\"color: #000080; text-decoration-color: #000080\">INFO    </span> Reading stops done <span style=\"font-weight: bold\">(</span><span style=\"color: #008080; text-decoration-color: #008080; font-weight: bold\">0.32</span> seconds<span style=\"font-weight: bold\">)</span>                                       <a href=\"file:///home/moritz/dev/uni/mcr-py/notebooks/../src/package/mcr/steps/public_transport.py\" target=\"_blank\"><span style=\"color: #7f7f7f; text-decoration-color: #7f7f7f\">public_transport.py</span></a><span style=\"color: #7f7f7f; text-decoration-color: #7f7f7f\">:</span><a href=\"file:///home/moritz/dev/uni/mcr-py/notebooks/../src/package/mcr/steps/public_transport.py#144\" target=\"_blank\"><span style=\"color: #7f7f7f; text-decoration-color: #7f7f7f\">144</span></a>\n",
              "</pre>\n"
            ],
            "text/plain": [
              "\u001b[2;36m[12:41:47]\u001b[0m\u001b[2;36m \u001b[0m\u001b[34mINFO    \u001b[0m Reading stops done \u001b[1m(\u001b[0m\u001b[1;36m0.32\u001b[0m seconds\u001b[1m)\u001b[0m                                       \u001b]8;id=587456;file:///home/moritz/dev/uni/mcr-py/notebooks/../src/package/mcr/steps/public_transport.py\u001b\\\u001b[2mpublic_transport.py\u001b[0m\u001b]8;;\u001b\\\u001b[2m:\u001b[0m\u001b]8;id=174382;file:///home/moritz/dev/uni/mcr-py/notebooks/../src/package/mcr/steps/public_transport.py#144\u001b\\\u001b[2m144\u001b[0m\u001b]8;;\u001b\\\n"
            ]
          },
          "metadata": {},
          "output_type": "display_data"
        },
        {
          "data": {
            "text/html": [
              "<pre style=\"white-space:pre;overflow-x:auto;line-height:normal;font-family:Menlo,'DejaVu Sans Mono',consolas,'Courier New',monospace\"><span style=\"color: #7fbfbf; text-decoration-color: #7fbfbf\">[12:42:21] </span><span style=\"color: #000080; text-decoration-color: #000080\">INFO    </span> Loading config done <span style=\"font-weight: bold\">(</span><span style=\"color: #00ff00; text-decoration-color: #00ff00; font-weight: bold\">3:54</span> minutes<span style=\"font-weight: bold\">)</span>                                               <a href=\"file:///tmp/ipykernel_187379/617489973.py\" target=\"_blank\"><span style=\"color: #7f7f7f; text-decoration-color: #7f7f7f\">617489973.py</span></a><span style=\"color: #7f7f7f; text-decoration-color: #7f7f7f\">:</span><a href=\"file:///tmp/ipykernel_187379/617489973.py#4\" target=\"_blank\"><span style=\"color: #7f7f7f; text-decoration-color: #7f7f7f\">4</span></a>\n",
              "</pre>\n"
            ],
            "text/plain": [
              "\u001b[2;36m[12:42:21]\u001b[0m\u001b[2;36m \u001b[0m\u001b[34mINFO    \u001b[0m Loading config done \u001b[1m(\u001b[0m\u001b[1;92m3:54\u001b[0m minutes\u001b[1m)\u001b[0m                                               \u001b]8;id=850845;file:///tmp/ipykernel_187379/617489973.py\u001b\\\u001b[2m617489973.py\u001b[0m\u001b]8;;\u001b\\\u001b[2m:\u001b[0m\u001b]8;id=16952;file:///tmp/ipykernel_187379/617489973.py#4\u001b\\\u001b[2m4\u001b[0m\u001b]8;;\u001b\\\n"
            ]
          },
          "metadata": {},
          "output_type": "display_data"
        },
        {
          "data": {
            "text/html": [
              "<pre style=\"white-space:pre;overflow-x:auto;line-height:normal;font-family:Menlo,'DejaVu Sans Mono',consolas,'Courier New',monospace\"><span style=\"color: #7fbfbf; text-decoration-color: #7fbfbf\">           </span><span style=\"color: #000080; text-decoration-color: #000080\">INFO    </span> Running MCR5                                                                    <a href=\"file:///tmp/ipykernel_187379/617489973.py\" target=\"_blank\"><span style=\"color: #7f7f7f; text-decoration-color: #7f7f7f\">617489973.py</span></a><span style=\"color: #7f7f7f; text-decoration-color: #7f7f7f\">:</span><a href=\"file:///tmp/ipykernel_187379/617489973.py#12\" target=\"_blank\"><span style=\"color: #7f7f7f; text-decoration-color: #7f7f7f\">12</span></a>\n",
              "</pre>\n"
            ],
            "text/plain": [
              "\u001b[2;36m          \u001b[0m\u001b[2;36m \u001b[0m\u001b[34mINFO    \u001b[0m Running MCR5                                                                    \u001b]8;id=490194;file:///tmp/ipykernel_187379/617489973.py\u001b\\\u001b[2m617489973.py\u001b[0m\u001b]8;;\u001b\\\u001b[2m:\u001b[0m\u001b]8;id=761029;file:///tmp/ipykernel_187379/617489973.py#12\u001b\\\u001b[2m12\u001b[0m\u001b]8;;\u001b\\\n"
            ]
          },
          "metadata": {},
          "output_type": "display_data"
        },
        {
          "data": {
            "application/vnd.jupyter.widget-view+json": {
              "model_id": "849c23b6be6249049e647f4d5a18b688",
              "version_major": 2,
              "version_minor": 0
            },
            "text/plain": [
              "Starting:   0%|          | 0/1782 [00:00<?, ?it/s]"
            ]
          },
          "metadata": {},
          "output_type": "display_data"
        },
        {
          "data": {
            "text/html": [
              "<pre style=\"white-space:pre;overflow-x:auto;line-height:normal;font-family:Menlo,'DejaVu Sans Mono',consolas,'Courier New',monospace\"><span style=\"color: #7fbfbf; text-decoration-color: #7fbfbf\">[12:52:56] </span><span style=\"color: #000080; text-decoration-color: #000080\">INFO    </span> All processes finished.                                                         <a href=\"file:///tmp/ipykernel_187379/617489973.py\" target=\"_blank\"><span style=\"color: #7f7f7f; text-decoration-color: #7f7f7f\">617489973.py</span></a><span style=\"color: #7f7f7f; text-decoration-color: #7f7f7f\">:</span><a href=\"file:///tmp/ipykernel_187379/617489973.py#12\" target=\"_blank\"><span style=\"color: #7f7f7f; text-decoration-color: #7f7f7f\">12</span></a>\n",
              "</pre>\n"
            ],
            "text/plain": [
              "\u001b[2;36m[12:52:56]\u001b[0m\u001b[2;36m \u001b[0m\u001b[34mINFO    \u001b[0m All processes finished.                                                         \u001b]8;id=156289;file:///tmp/ipykernel_187379/617489973.py\u001b\\\u001b[2m617489973.py\u001b[0m\u001b]8;;\u001b\\\u001b[2m:\u001b[0m\u001b]8;id=148723;file:///tmp/ipykernel_187379/617489973.py#12\u001b\\\u001b[2m12\u001b[0m\u001b]8;;\u001b\\\n"
            ]
          },
          "metadata": {},
          "output_type": "display_data"
        },
        {
          "data": {
            "text/html": [
              "<pre style=\"white-space:pre;overflow-x:auto;line-height:normal;font-family:Menlo,'DejaVu Sans Mono',consolas,'Courier New',monospace\"><span style=\"color: #7fbfbf; text-decoration-color: #7fbfbf\">           </span><span style=\"color: #000080; text-decoration-color: #000080\">INFO    </span> Running MCR5 done <span style=\"font-weight: bold\">(</span><span style=\"color: #00ff00; text-decoration-color: #00ff00; font-weight: bold\">10:34</span> minutes<span style=\"font-weight: bold\">)</span>                                               <a href=\"file:///tmp/ipykernel_187379/617489973.py\" target=\"_blank\"><span style=\"color: #7f7f7f; text-decoration-color: #7f7f7f\">617489973.py</span></a><span style=\"color: #7f7f7f; text-decoration-color: #7f7f7f\">:</span><a href=\"file:///tmp/ipykernel_187379/617489973.py#12\" target=\"_blank\"><span style=\"color: #7f7f7f; text-decoration-color: #7f7f7f\">12</span></a>\n",
              "</pre>\n"
            ],
            "text/plain": [
              "\u001b[2;36m          \u001b[0m\u001b[2;36m \u001b[0m\u001b[34mINFO    \u001b[0m Running MCR5 done \u001b[1m(\u001b[0m\u001b[1;92m10:34\u001b[0m minutes\u001b[1m)\u001b[0m                                               \u001b]8;id=729958;file:///tmp/ipykernel_187379/617489973.py\u001b\\\u001b[2m617489973.py\u001b[0m\u001b]8;;\u001b\\\u001b[2m:\u001b[0m\u001b]8;id=420996;file:///tmp/ipykernel_187379/617489973.py#12\u001b\\\u001b[2m12\u001b[0m\u001b]8;;\u001b\\\n"
            ]
          },
          "metadata": {},
          "output_type": "display_data"
        },
        {
          "data": {
            "text/html": [
              "<pre style=\"white-space:pre;overflow-x:auto;line-height:normal;font-family:Menlo,'DejaVu Sans Mono',consolas,'Courier New',monospace\"><span style=\"color: #7fbfbf; text-decoration-color: #7fbfbf\">           </span><span style=\"color: #000080; text-decoration-color: #000080\">INFO    </span> Running MCR5 for bicycle_public_transport_3                                      <a href=\"file:///tmp/ipykernel_187379/617489973.py\" target=\"_blank\"><span style=\"color: #7f7f7f; text-decoration-color: #7f7f7f\">617489973.py</span></a><span style=\"color: #7f7f7f; text-decoration-color: #7f7f7f\">:</span><a href=\"file:///tmp/ipykernel_187379/617489973.py#2\" target=\"_blank\"><span style=\"color: #7f7f7f; text-decoration-color: #7f7f7f\">2</span></a>\n",
              "</pre>\n"
            ],
            "text/plain": [
              "\u001b[2;36m          \u001b[0m\u001b[2;36m \u001b[0m\u001b[34mINFO    \u001b[0m Running MCR5 for bicycle_public_transport_3                                      \u001b]8;id=659419;file:///tmp/ipykernel_187379/617489973.py\u001b\\\u001b[2m617489973.py\u001b[0m\u001b]8;;\u001b\\\u001b[2m:\u001b[0m\u001b]8;id=998764;file:///tmp/ipykernel_187379/617489973.py#2\u001b\\\u001b[2m2\u001b[0m\u001b]8;;\u001b\\\n"
            ]
          },
          "metadata": {},
          "output_type": "display_data"
        },
        {
          "data": {
            "text/html": [
              "<pre style=\"white-space:pre;overflow-x:auto;line-height:normal;font-family:Menlo,'DejaVu Sans Mono',consolas,'Courier New',monospace\"><span style=\"color: #7fbfbf; text-decoration-color: #7fbfbf\">           </span><span style=\"color: #000080; text-decoration-color: #000080\">INFO    </span> Loading config                                                                   <a href=\"file:///tmp/ipykernel_187379/617489973.py\" target=\"_blank\"><span style=\"color: #7f7f7f; text-decoration-color: #7f7f7f\">617489973.py</span></a><span style=\"color: #7f7f7f; text-decoration-color: #7f7f7f\">:</span><a href=\"file:///tmp/ipykernel_187379/617489973.py#4\" target=\"_blank\"><span style=\"color: #7f7f7f; text-decoration-color: #7f7f7f\">4</span></a>\n",
              "</pre>\n"
            ],
            "text/plain": [
              "\u001b[2;36m          \u001b[0m\u001b[2;36m \u001b[0m\u001b[34mINFO    \u001b[0m Loading config                                                                   \u001b]8;id=712502;file:///tmp/ipykernel_187379/617489973.py\u001b\\\u001b[2m617489973.py\u001b[0m\u001b]8;;\u001b\\\u001b[2m:\u001b[0m\u001b]8;id=1892;file:///tmp/ipykernel_187379/617489973.py#4\u001b\\\u001b[2m4\u001b[0m\u001b]8;;\u001b\\\n"
            ]
          },
          "metadata": {},
          "output_type": "display_data"
        },
        {
          "data": {
            "text/html": [
              "<pre style=\"white-space:pre;overflow-x:auto;line-height:normal;font-family:Menlo,'DejaVu Sans Mono',consolas,'Courier New',monospace\"><span style=\"color: #7fbfbf; text-decoration-color: #7fbfbf\">           </span><span style=\"color: #000080; text-decoration-color: #000080\">INFO    </span> Using existing OSM data                                                          <a href=\"file:///tmp/ipykernel_187379/617489973.py\" target=\"_blank\"><span style=\"color: #7f7f7f; text-decoration-color: #7f7f7f\">617489973.py</span></a><span style=\"color: #7f7f7f; text-decoration-color: #7f7f7f\">:</span><a href=\"file:///tmp/ipykernel_187379/617489973.py#4\" target=\"_blank\"><span style=\"color: #7f7f7f; text-decoration-color: #7f7f7f\">4</span></a>\n",
              "</pre>\n"
            ],
            "text/plain": [
              "\u001b[2;36m          \u001b[0m\u001b[2;36m \u001b[0m\u001b[34mINFO    \u001b[0m Using existing OSM data                                                          \u001b]8;id=91237;file:///tmp/ipykernel_187379/617489973.py\u001b\\\u001b[2m617489973.py\u001b[0m\u001b]8;;\u001b\\\u001b[2m:\u001b[0m\u001b]8;id=308002;file:///tmp/ipykernel_187379/617489973.py#4\u001b\\\u001b[2m4\u001b[0m\u001b]8;;\u001b\\\n"
            ]
          },
          "metadata": {},
          "output_type": "display_data"
        },
        {
          "data": {
            "text/html": [
              "<pre style=\"white-space:pre;overflow-x:auto;line-height:normal;font-family:Menlo,'DejaVu Sans Mono',consolas,'Courier New',monospace\"><span style=\"color: #7fbfbf; text-decoration-color: #7fbfbf\">           </span><span style=\"color: #000080; text-decoration-color: #000080\">INFO    </span> Loading OSM network from cache <span style=\"font-weight: bold\">(</span>walking<span style=\"font-weight: bold\">)</span>                                         <a href=\"file:///tmp/ipykernel_187379/617489973.py\" target=\"_blank\"><span style=\"color: #7f7f7f; text-decoration-color: #7f7f7f\">617489973.py</span></a><span style=\"color: #7f7f7f; text-decoration-color: #7f7f7f\">:</span><a href=\"file:///tmp/ipykernel_187379/617489973.py#4\" target=\"_blank\"><span style=\"color: #7f7f7f; text-decoration-color: #7f7f7f\">4</span></a>\n",
              "</pre>\n"
            ],
            "text/plain": [
              "\u001b[2;36m          \u001b[0m\u001b[2;36m \u001b[0m\u001b[34mINFO    \u001b[0m Loading OSM network from cache \u001b[1m(\u001b[0mwalking\u001b[1m)\u001b[0m                                         \u001b]8;id=431667;file:///tmp/ipykernel_187379/617489973.py\u001b\\\u001b[2m617489973.py\u001b[0m\u001b]8;;\u001b\\\u001b[2m:\u001b[0m\u001b]8;id=940035;file:///tmp/ipykernel_187379/617489973.py#4\u001b\\\u001b[2m4\u001b[0m\u001b]8;;\u001b\\\n"
            ]
          },
          "metadata": {},
          "output_type": "display_data"
        },
        {
          "data": {
            "text/html": [
              "<pre style=\"white-space:pre;overflow-x:auto;line-height:normal;font-family:Menlo,'DejaVu Sans Mono',consolas,'Courier New',monospace\"><span style=\"color: #7fbfbf; text-decoration-color: #7fbfbf\">[12:54:05] </span><span style=\"color: #000080; text-decoration-color: #000080\">INFO    </span> Using existing OSM data                                                          <a href=\"file:///tmp/ipykernel_187379/617489973.py\" target=\"_blank\"><span style=\"color: #7f7f7f; text-decoration-color: #7f7f7f\">617489973.py</span></a><span style=\"color: #7f7f7f; text-decoration-color: #7f7f7f\">:</span><a href=\"file:///tmp/ipykernel_187379/617489973.py#4\" target=\"_blank\"><span style=\"color: #7f7f7f; text-decoration-color: #7f7f7f\">4</span></a>\n",
              "</pre>\n"
            ],
            "text/plain": [
              "\u001b[2;36m[12:54:05]\u001b[0m\u001b[2;36m \u001b[0m\u001b[34mINFO    \u001b[0m Using existing OSM data                                                          \u001b]8;id=832094;file:///tmp/ipykernel_187379/617489973.py\u001b\\\u001b[2m617489973.py\u001b[0m\u001b]8;;\u001b\\\u001b[2m:\u001b[0m\u001b]8;id=171860;file:///tmp/ipykernel_187379/617489973.py#4\u001b\\\u001b[2m4\u001b[0m\u001b]8;;\u001b\\\n"
            ]
          },
          "metadata": {},
          "output_type": "display_data"
        },
        {
          "data": {
            "text/html": [
              "<pre style=\"white-space:pre;overflow-x:auto;line-height:normal;font-family:Menlo,'DejaVu Sans Mono',consolas,'Courier New',monospace\"><span style=\"color: #7fbfbf; text-decoration-color: #7fbfbf\">           </span><span style=\"color: #000080; text-decoration-color: #000080\">INFO    </span> Loading OSM network from cache <span style=\"font-weight: bold\">(</span>cycling<span style=\"font-weight: bold\">)</span>                                         <a href=\"file:///tmp/ipykernel_187379/617489973.py\" target=\"_blank\"><span style=\"color: #7f7f7f; text-decoration-color: #7f7f7f\">617489973.py</span></a><span style=\"color: #7f7f7f; text-decoration-color: #7f7f7f\">:</span><a href=\"file:///tmp/ipykernel_187379/617489973.py#4\" target=\"_blank\"><span style=\"color: #7f7f7f; text-decoration-color: #7f7f7f\">4</span></a>\n",
              "</pre>\n"
            ],
            "text/plain": [
              "\u001b[2;36m          \u001b[0m\u001b[2;36m \u001b[0m\u001b[34mINFO    \u001b[0m Loading OSM network from cache \u001b[1m(\u001b[0mcycling\u001b[1m)\u001b[0m                                         \u001b]8;id=583425;file:///tmp/ipykernel_187379/617489973.py\u001b\\\u001b[2m617489973.py\u001b[0m\u001b]8;;\u001b\\\u001b[2m:\u001b[0m\u001b]8;id=609852;file:///tmp/ipykernel_187379/617489973.py#4\u001b\\\u001b[2m4\u001b[0m\u001b]8;;\u001b\\\n"
            ]
          },
          "metadata": {},
          "output_type": "display_data"
        },
        {
          "data": {
            "text/html": [
              "<pre style=\"white-space:pre;overflow-x:auto;line-height:normal;font-family:Menlo,'DejaVu Sans Mono',consolas,'Courier New',monospace\"><span style=\"color: #7fbfbf; text-decoration-color: #7fbfbf\">[12:55:09] </span><span style=\"color: #000080; text-decoration-color: #000080\">INFO    </span> Fetching POI for runtime optimization                                         <a href=\"file:///home/moritz/dev/uni/mcr-py/notebooks/../src/command/step_config.py\" target=\"_blank\"><span style=\"color: #7f7f7f; text-decoration-color: #7f7f7f\">step_config.py</span></a><span style=\"color: #7f7f7f; text-decoration-color: #7f7f7f\">:</span><a href=\"file:///home/moritz/dev/uni/mcr-py/notebooks/../src/command/step_config.py#51\" target=\"_blank\"><span style=\"color: #7f7f7f; text-decoration-color: #7f7f7f\">51</span></a>\n",
              "</pre>\n"
            ],
            "text/plain": [
              "\u001b[2;36m[12:55:09]\u001b[0m\u001b[2;36m \u001b[0m\u001b[34mINFO    \u001b[0m Fetching POI for runtime optimization                                         \u001b]8;id=339073;file:///home/moritz/dev/uni/mcr-py/notebooks/../src/command/step_config.py\u001b\\\u001b[2mstep_config.py\u001b[0m\u001b]8;;\u001b\\\u001b[2m:\u001b[0m\u001b]8;id=166318;file:///home/moritz/dev/uni/mcr-py/notebooks/../src/command/step_config.py#51\u001b\\\u001b[2m51\u001b[0m\u001b]8;;\u001b\\\n"
            ]
          },
          "metadata": {},
          "output_type": "display_data"
        },
        {
          "data": {
            "text/html": [
              "<pre style=\"white-space:pre;overflow-x:auto;line-height:normal;font-family:Menlo,'DejaVu Sans Mono',consolas,'Courier New',monospace\"><span style=\"color: #7fbfbf; text-decoration-color: #7fbfbf\">           </span><span style=\"color: #000080; text-decoration-color: #000080\">INFO    </span> Fetching POI for runtime optimization done <span style=\"font-weight: bold\">(</span><span style=\"color: #008080; text-decoration-color: #008080; font-weight: bold\">0.07</span> seconds<span style=\"font-weight: bold\">)</span>                     <a href=\"file:///home/moritz/dev/uni/mcr-py/notebooks/../src/command/step_config.py\" target=\"_blank\"><span style=\"color: #7f7f7f; text-decoration-color: #7f7f7f\">step_config.py</span></a><span style=\"color: #7f7f7f; text-decoration-color: #7f7f7f\">:</span><a href=\"file:///home/moritz/dev/uni/mcr-py/notebooks/../src/command/step_config.py#51\" target=\"_blank\"><span style=\"color: #7f7f7f; text-decoration-color: #7f7f7f\">51</span></a>\n",
              "</pre>\n"
            ],
            "text/plain": [
              "\u001b[2;36m          \u001b[0m\u001b[2;36m \u001b[0m\u001b[34mINFO    \u001b[0m Fetching POI for runtime optimization done \u001b[1m(\u001b[0m\u001b[1;36m0.07\u001b[0m seconds\u001b[1m)\u001b[0m                     \u001b]8;id=170167;file:///home/moritz/dev/uni/mcr-py/notebooks/../src/command/step_config.py\u001b\\\u001b[2mstep_config.py\u001b[0m\u001b]8;;\u001b\\\u001b[2m:\u001b[0m\u001b]8;id=19710;file:///home/moritz/dev/uni/mcr-py/notebooks/../src/command/step_config.py#51\u001b\\\u001b[2m51\u001b[0m\u001b]8;;\u001b\\\n"
            ]
          },
          "metadata": {},
          "output_type": "display_data"
        },
        {
          "data": {
            "text/html": [
              "<pre style=\"white-space:pre;overflow-x:auto;line-height:normal;font-family:Menlo,'DejaVu Sans Mono',consolas,'Courier New',monospace\"><span style=\"color: #7fbfbf; text-decoration-color: #7fbfbf\">[12:56:15] </span><span style=\"color: #000080; text-decoration-color: #000080\">INFO    </span> Reading stops                                                           <a href=\"file:///home/moritz/dev/uni/mcr-py/notebooks/../src/package/mcr/steps/public_transport.py\" target=\"_blank\"><span style=\"color: #7f7f7f; text-decoration-color: #7f7f7f\">public_transport.py</span></a><span style=\"color: #7f7f7f; text-decoration-color: #7f7f7f\">:</span><a href=\"file:///home/moritz/dev/uni/mcr-py/notebooks/../src/package/mcr/steps/public_transport.py#144\" target=\"_blank\"><span style=\"color: #7f7f7f; text-decoration-color: #7f7f7f\">144</span></a>\n",
              "</pre>\n"
            ],
            "text/plain": [
              "\u001b[2;36m[12:56:15]\u001b[0m\u001b[2;36m \u001b[0m\u001b[34mINFO    \u001b[0m Reading stops                                                           \u001b]8;id=674933;file:///home/moritz/dev/uni/mcr-py/notebooks/../src/package/mcr/steps/public_transport.py\u001b\\\u001b[2mpublic_transport.py\u001b[0m\u001b]8;;\u001b\\\u001b[2m:\u001b[0m\u001b]8;id=682101;file:///home/moritz/dev/uni/mcr-py/notebooks/../src/package/mcr/steps/public_transport.py#144\u001b\\\u001b[2m144\u001b[0m\u001b]8;;\u001b\\\n"
            ]
          },
          "metadata": {},
          "output_type": "display_data"
        },
        {
          "data": {
            "text/html": [
              "<pre style=\"white-space:pre;overflow-x:auto;line-height:normal;font-family:Menlo,'DejaVu Sans Mono',consolas,'Courier New',monospace\"><span style=\"color: #7fbfbf; text-decoration-color: #7fbfbf\">           </span><span style=\"color: #000080; text-decoration-color: #000080\">INFO    </span> Reading stops done <span style=\"font-weight: bold\">(</span><span style=\"color: #008080; text-decoration-color: #008080; font-weight: bold\">0.31</span> seconds<span style=\"font-weight: bold\">)</span>                                       <a href=\"file:///home/moritz/dev/uni/mcr-py/notebooks/../src/package/mcr/steps/public_transport.py\" target=\"_blank\"><span style=\"color: #7f7f7f; text-decoration-color: #7f7f7f\">public_transport.py</span></a><span style=\"color: #7f7f7f; text-decoration-color: #7f7f7f\">:</span><a href=\"file:///home/moritz/dev/uni/mcr-py/notebooks/../src/package/mcr/steps/public_transport.py#144\" target=\"_blank\"><span style=\"color: #7f7f7f; text-decoration-color: #7f7f7f\">144</span></a>\n",
              "</pre>\n"
            ],
            "text/plain": [
              "\u001b[2;36m          \u001b[0m\u001b[2;36m \u001b[0m\u001b[34mINFO    \u001b[0m Reading stops done \u001b[1m(\u001b[0m\u001b[1;36m0.31\u001b[0m seconds\u001b[1m)\u001b[0m                                       \u001b]8;id=148172;file:///home/moritz/dev/uni/mcr-py/notebooks/../src/package/mcr/steps/public_transport.py\u001b\\\u001b[2mpublic_transport.py\u001b[0m\u001b]8;;\u001b\\\u001b[2m:\u001b[0m\u001b]8;id=580285;file:///home/moritz/dev/uni/mcr-py/notebooks/../src/package/mcr/steps/public_transport.py#144\u001b\\\u001b[2m144\u001b[0m\u001b]8;;\u001b\\\n"
            ]
          },
          "metadata": {},
          "output_type": "display_data"
        },
        {
          "data": {
            "text/html": [
              "<pre style=\"white-space:pre;overflow-x:auto;line-height:normal;font-family:Menlo,'DejaVu Sans Mono',consolas,'Courier New',monospace\"><span style=\"color: #7fbfbf; text-decoration-color: #7fbfbf\">[12:56:51] </span><span style=\"color: #000080; text-decoration-color: #000080\">INFO    </span> Loading config done <span style=\"font-weight: bold\">(</span><span style=\"color: #00ff00; text-decoration-color: #00ff00; font-weight: bold\">3:55</span> minutes<span style=\"font-weight: bold\">)</span>                                               <a href=\"file:///tmp/ipykernel_187379/617489973.py\" target=\"_blank\"><span style=\"color: #7f7f7f; text-decoration-color: #7f7f7f\">617489973.py</span></a><span style=\"color: #7f7f7f; text-decoration-color: #7f7f7f\">:</span><a href=\"file:///tmp/ipykernel_187379/617489973.py#4\" target=\"_blank\"><span style=\"color: #7f7f7f; text-decoration-color: #7f7f7f\">4</span></a>\n",
              "</pre>\n"
            ],
            "text/plain": [
              "\u001b[2;36m[12:56:51]\u001b[0m\u001b[2;36m \u001b[0m\u001b[34mINFO    \u001b[0m Loading config done \u001b[1m(\u001b[0m\u001b[1;92m3:55\u001b[0m minutes\u001b[1m)\u001b[0m                                               \u001b]8;id=668378;file:///tmp/ipykernel_187379/617489973.py\u001b\\\u001b[2m617489973.py\u001b[0m\u001b]8;;\u001b\\\u001b[2m:\u001b[0m\u001b]8;id=390120;file:///tmp/ipykernel_187379/617489973.py#4\u001b\\\u001b[2m4\u001b[0m\u001b]8;;\u001b\\\n"
            ]
          },
          "metadata": {},
          "output_type": "display_data"
        },
        {
          "data": {
            "text/html": [
              "<pre style=\"white-space:pre;overflow-x:auto;line-height:normal;font-family:Menlo,'DejaVu Sans Mono',consolas,'Courier New',monospace\"><span style=\"color: #7fbfbf; text-decoration-color: #7fbfbf\">           </span><span style=\"color: #000080; text-decoration-color: #000080\">INFO    </span> Running MCR5                                                                    <a href=\"file:///tmp/ipykernel_187379/617489973.py\" target=\"_blank\"><span style=\"color: #7f7f7f; text-decoration-color: #7f7f7f\">617489973.py</span></a><span style=\"color: #7f7f7f; text-decoration-color: #7f7f7f\">:</span><a href=\"file:///tmp/ipykernel_187379/617489973.py#12\" target=\"_blank\"><span style=\"color: #7f7f7f; text-decoration-color: #7f7f7f\">12</span></a>\n",
              "</pre>\n"
            ],
            "text/plain": [
              "\u001b[2;36m          \u001b[0m\u001b[2;36m \u001b[0m\u001b[34mINFO    \u001b[0m Running MCR5                                                                    \u001b]8;id=94950;file:///tmp/ipykernel_187379/617489973.py\u001b\\\u001b[2m617489973.py\u001b[0m\u001b]8;;\u001b\\\u001b[2m:\u001b[0m\u001b]8;id=910284;file:///tmp/ipykernel_187379/617489973.py#12\u001b\\\u001b[2m12\u001b[0m\u001b]8;;\u001b\\\n"
            ]
          },
          "metadata": {},
          "output_type": "display_data"
        },
        {
          "data": {
            "application/vnd.jupyter.widget-view+json": {
              "model_id": "6dc2794f929943a28bb7206ac3d2f98d",
              "version_major": 2,
              "version_minor": 0
            },
            "text/plain": [
              "Starting:   0%|          | 0/1782 [00:00<?, ?it/s]"
            ]
          },
          "metadata": {},
          "output_type": "display_data"
        },
        {
          "data": {
            "text/html": [
              "<pre style=\"white-space:pre;overflow-x:auto;line-height:normal;font-family:Menlo,'DejaVu Sans Mono',consolas,'Courier New',monospace\"><span style=\"color: #7fbfbf; text-decoration-color: #7fbfbf\">[13:07:31] </span><span style=\"color: #000080; text-decoration-color: #000080\">INFO    </span> All processes finished.                                                         <a href=\"file:///tmp/ipykernel_187379/617489973.py\" target=\"_blank\"><span style=\"color: #7f7f7f; text-decoration-color: #7f7f7f\">617489973.py</span></a><span style=\"color: #7f7f7f; text-decoration-color: #7f7f7f\">:</span><a href=\"file:///tmp/ipykernel_187379/617489973.py#12\" target=\"_blank\"><span style=\"color: #7f7f7f; text-decoration-color: #7f7f7f\">12</span></a>\n",
              "</pre>\n"
            ],
            "text/plain": [
              "\u001b[2;36m[13:07:31]\u001b[0m\u001b[2;36m \u001b[0m\u001b[34mINFO    \u001b[0m All processes finished.                                                         \u001b]8;id=400498;file:///tmp/ipykernel_187379/617489973.py\u001b\\\u001b[2m617489973.py\u001b[0m\u001b]8;;\u001b\\\u001b[2m:\u001b[0m\u001b]8;id=896923;file:///tmp/ipykernel_187379/617489973.py#12\u001b\\\u001b[2m12\u001b[0m\u001b]8;;\u001b\\\n"
            ]
          },
          "metadata": {},
          "output_type": "display_data"
        },
        {
          "data": {
            "text/html": [
              "<pre style=\"white-space:pre;overflow-x:auto;line-height:normal;font-family:Menlo,'DejaVu Sans Mono',consolas,'Courier New',monospace\"><span style=\"color: #7fbfbf; text-decoration-color: #7fbfbf\">           </span><span style=\"color: #000080; text-decoration-color: #000080\">INFO    </span> Running MCR5 done <span style=\"font-weight: bold\">(</span><span style=\"color: #00ff00; text-decoration-color: #00ff00; font-weight: bold\">10:39</span> minutes<span style=\"font-weight: bold\">)</span>                                               <a href=\"file:///tmp/ipykernel_187379/617489973.py\" target=\"_blank\"><span style=\"color: #7f7f7f; text-decoration-color: #7f7f7f\">617489973.py</span></a><span style=\"color: #7f7f7f; text-decoration-color: #7f7f7f\">:</span><a href=\"file:///tmp/ipykernel_187379/617489973.py#12\" target=\"_blank\"><span style=\"color: #7f7f7f; text-decoration-color: #7f7f7f\">12</span></a>\n",
              "</pre>\n"
            ],
            "text/plain": [
              "\u001b[2;36m          \u001b[0m\u001b[2;36m \u001b[0m\u001b[34mINFO    \u001b[0m Running MCR5 done \u001b[1m(\u001b[0m\u001b[1;92m10:39\u001b[0m minutes\u001b[1m)\u001b[0m                                               \u001b]8;id=949777;file:///tmp/ipykernel_187379/617489973.py\u001b\\\u001b[2m617489973.py\u001b[0m\u001b]8;;\u001b\\\u001b[2m:\u001b[0m\u001b]8;id=568049;file:///tmp/ipykernel_187379/617489973.py#12\u001b\\\u001b[2m12\u001b[0m\u001b]8;;\u001b\\\n"
            ]
          },
          "metadata": {},
          "output_type": "display_data"
        },
        {
          "data": {
            "text/html": [
              "<pre style=\"white-space:pre;overflow-x:auto;line-height:normal;font-family:Menlo,'DejaVu Sans Mono',consolas,'Courier New',monospace\"><span style=\"color: #7fbfbf; text-decoration-color: #7fbfbf\">           </span><span style=\"color: #000080; text-decoration-color: #000080\">INFO    </span> Running MCR5 for bicycle_public_transport_4                                      <a href=\"file:///tmp/ipykernel_187379/617489973.py\" target=\"_blank\"><span style=\"color: #7f7f7f; text-decoration-color: #7f7f7f\">617489973.py</span></a><span style=\"color: #7f7f7f; text-decoration-color: #7f7f7f\">:</span><a href=\"file:///tmp/ipykernel_187379/617489973.py#2\" target=\"_blank\"><span style=\"color: #7f7f7f; text-decoration-color: #7f7f7f\">2</span></a>\n",
              "</pre>\n"
            ],
            "text/plain": [
              "\u001b[2;36m          \u001b[0m\u001b[2;36m \u001b[0m\u001b[34mINFO    \u001b[0m Running MCR5 for bicycle_public_transport_4                                      \u001b]8;id=595488;file:///tmp/ipykernel_187379/617489973.py\u001b\\\u001b[2m617489973.py\u001b[0m\u001b]8;;\u001b\\\u001b[2m:\u001b[0m\u001b]8;id=736831;file:///tmp/ipykernel_187379/617489973.py#2\u001b\\\u001b[2m2\u001b[0m\u001b]8;;\u001b\\\n"
            ]
          },
          "metadata": {},
          "output_type": "display_data"
        },
        {
          "data": {
            "text/html": [
              "<pre style=\"white-space:pre;overflow-x:auto;line-height:normal;font-family:Menlo,'DejaVu Sans Mono',consolas,'Courier New',monospace\"><span style=\"color: #7fbfbf; text-decoration-color: #7fbfbf\">           </span><span style=\"color: #000080; text-decoration-color: #000080\">INFO    </span> Loading config                                                                   <a href=\"file:///tmp/ipykernel_187379/617489973.py\" target=\"_blank\"><span style=\"color: #7f7f7f; text-decoration-color: #7f7f7f\">617489973.py</span></a><span style=\"color: #7f7f7f; text-decoration-color: #7f7f7f\">:</span><a href=\"file:///tmp/ipykernel_187379/617489973.py#4\" target=\"_blank\"><span style=\"color: #7f7f7f; text-decoration-color: #7f7f7f\">4</span></a>\n",
              "</pre>\n"
            ],
            "text/plain": [
              "\u001b[2;36m          \u001b[0m\u001b[2;36m \u001b[0m\u001b[34mINFO    \u001b[0m Loading config                                                                   \u001b]8;id=777215;file:///tmp/ipykernel_187379/617489973.py\u001b\\\u001b[2m617489973.py\u001b[0m\u001b]8;;\u001b\\\u001b[2m:\u001b[0m\u001b]8;id=819059;file:///tmp/ipykernel_187379/617489973.py#4\u001b\\\u001b[2m4\u001b[0m\u001b]8;;\u001b\\\n"
            ]
          },
          "metadata": {},
          "output_type": "display_data"
        },
        {
          "data": {
            "text/html": [
              "<pre style=\"white-space:pre;overflow-x:auto;line-height:normal;font-family:Menlo,'DejaVu Sans Mono',consolas,'Courier New',monospace\"><span style=\"color: #7fbfbf; text-decoration-color: #7fbfbf\">           </span><span style=\"color: #000080; text-decoration-color: #000080\">INFO    </span> Using existing OSM data                                                          <a href=\"file:///tmp/ipykernel_187379/617489973.py\" target=\"_blank\"><span style=\"color: #7f7f7f; text-decoration-color: #7f7f7f\">617489973.py</span></a><span style=\"color: #7f7f7f; text-decoration-color: #7f7f7f\">:</span><a href=\"file:///tmp/ipykernel_187379/617489973.py#4\" target=\"_blank\"><span style=\"color: #7f7f7f; text-decoration-color: #7f7f7f\">4</span></a>\n",
              "</pre>\n"
            ],
            "text/plain": [
              "\u001b[2;36m          \u001b[0m\u001b[2;36m \u001b[0m\u001b[34mINFO    \u001b[0m Using existing OSM data                                                          \u001b]8;id=858992;file:///tmp/ipykernel_187379/617489973.py\u001b\\\u001b[2m617489973.py\u001b[0m\u001b]8;;\u001b\\\u001b[2m:\u001b[0m\u001b]8;id=195713;file:///tmp/ipykernel_187379/617489973.py#4\u001b\\\u001b[2m4\u001b[0m\u001b]8;;\u001b\\\n"
            ]
          },
          "metadata": {},
          "output_type": "display_data"
        },
        {
          "data": {
            "text/html": [
              "<pre style=\"white-space:pre;overflow-x:auto;line-height:normal;font-family:Menlo,'DejaVu Sans Mono',consolas,'Courier New',monospace\"><span style=\"color: #7fbfbf; text-decoration-color: #7fbfbf\">           </span><span style=\"color: #000080; text-decoration-color: #000080\">INFO    </span> Loading OSM network from cache <span style=\"font-weight: bold\">(</span>walking<span style=\"font-weight: bold\">)</span>                                         <a href=\"file:///tmp/ipykernel_187379/617489973.py\" target=\"_blank\"><span style=\"color: #7f7f7f; text-decoration-color: #7f7f7f\">617489973.py</span></a><span style=\"color: #7f7f7f; text-decoration-color: #7f7f7f\">:</span><a href=\"file:///tmp/ipykernel_187379/617489973.py#4\" target=\"_blank\"><span style=\"color: #7f7f7f; text-decoration-color: #7f7f7f\">4</span></a>\n",
              "</pre>\n"
            ],
            "text/plain": [
              "\u001b[2;36m          \u001b[0m\u001b[2;36m \u001b[0m\u001b[34mINFO    \u001b[0m Loading OSM network from cache \u001b[1m(\u001b[0mwalking\u001b[1m)\u001b[0m                                         \u001b]8;id=959743;file:///tmp/ipykernel_187379/617489973.py\u001b\\\u001b[2m617489973.py\u001b[0m\u001b]8;;\u001b\\\u001b[2m:\u001b[0m\u001b]8;id=903428;file:///tmp/ipykernel_187379/617489973.py#4\u001b\\\u001b[2m4\u001b[0m\u001b]8;;\u001b\\\n"
            ]
          },
          "metadata": {},
          "output_type": "display_data"
        },
        {
          "data": {
            "text/html": [
              "<pre style=\"white-space:pre;overflow-x:auto;line-height:normal;font-family:Menlo,'DejaVu Sans Mono',consolas,'Courier New',monospace\"><span style=\"color: #7fbfbf; text-decoration-color: #7fbfbf\">[13:08:42] </span><span style=\"color: #000080; text-decoration-color: #000080\">INFO    </span> Using existing OSM data                                                          <a href=\"file:///tmp/ipykernel_187379/617489973.py\" target=\"_blank\"><span style=\"color: #7f7f7f; text-decoration-color: #7f7f7f\">617489973.py</span></a><span style=\"color: #7f7f7f; text-decoration-color: #7f7f7f\">:</span><a href=\"file:///tmp/ipykernel_187379/617489973.py#4\" target=\"_blank\"><span style=\"color: #7f7f7f; text-decoration-color: #7f7f7f\">4</span></a>\n",
              "</pre>\n"
            ],
            "text/plain": [
              "\u001b[2;36m[13:08:42]\u001b[0m\u001b[2;36m \u001b[0m\u001b[34mINFO    \u001b[0m Using existing OSM data                                                          \u001b]8;id=222068;file:///tmp/ipykernel_187379/617489973.py\u001b\\\u001b[2m617489973.py\u001b[0m\u001b]8;;\u001b\\\u001b[2m:\u001b[0m\u001b]8;id=871935;file:///tmp/ipykernel_187379/617489973.py#4\u001b\\\u001b[2m4\u001b[0m\u001b]8;;\u001b\\\n"
            ]
          },
          "metadata": {},
          "output_type": "display_data"
        },
        {
          "data": {
            "text/html": [
              "<pre style=\"white-space:pre;overflow-x:auto;line-height:normal;font-family:Menlo,'DejaVu Sans Mono',consolas,'Courier New',monospace\"><span style=\"color: #7fbfbf; text-decoration-color: #7fbfbf\">           </span><span style=\"color: #000080; text-decoration-color: #000080\">INFO    </span> Loading OSM network from cache <span style=\"font-weight: bold\">(</span>cycling<span style=\"font-weight: bold\">)</span>                                         <a href=\"file:///tmp/ipykernel_187379/617489973.py\" target=\"_blank\"><span style=\"color: #7f7f7f; text-decoration-color: #7f7f7f\">617489973.py</span></a><span style=\"color: #7f7f7f; text-decoration-color: #7f7f7f\">:</span><a href=\"file:///tmp/ipykernel_187379/617489973.py#4\" target=\"_blank\"><span style=\"color: #7f7f7f; text-decoration-color: #7f7f7f\">4</span></a>\n",
              "</pre>\n"
            ],
            "text/plain": [
              "\u001b[2;36m          \u001b[0m\u001b[2;36m \u001b[0m\u001b[34mINFO    \u001b[0m Loading OSM network from cache \u001b[1m(\u001b[0mcycling\u001b[1m)\u001b[0m                                         \u001b]8;id=475853;file:///tmp/ipykernel_187379/617489973.py\u001b\\\u001b[2m617489973.py\u001b[0m\u001b]8;;\u001b\\\u001b[2m:\u001b[0m\u001b]8;id=801929;file:///tmp/ipykernel_187379/617489973.py#4\u001b\\\u001b[2m4\u001b[0m\u001b]8;;\u001b\\\n"
            ]
          },
          "metadata": {},
          "output_type": "display_data"
        },
        {
          "data": {
            "text/html": [
              "<pre style=\"white-space:pre;overflow-x:auto;line-height:normal;font-family:Menlo,'DejaVu Sans Mono',consolas,'Courier New',monospace\"><span style=\"color: #7fbfbf; text-decoration-color: #7fbfbf\">[13:09:45] </span><span style=\"color: #000080; text-decoration-color: #000080\">INFO    </span> Fetching POI for runtime optimization                                         <a href=\"file:///home/moritz/dev/uni/mcr-py/notebooks/../src/command/step_config.py\" target=\"_blank\"><span style=\"color: #7f7f7f; text-decoration-color: #7f7f7f\">step_config.py</span></a><span style=\"color: #7f7f7f; text-decoration-color: #7f7f7f\">:</span><a href=\"file:///home/moritz/dev/uni/mcr-py/notebooks/../src/command/step_config.py#51\" target=\"_blank\"><span style=\"color: #7f7f7f; text-decoration-color: #7f7f7f\">51</span></a>\n",
              "</pre>\n"
            ],
            "text/plain": [
              "\u001b[2;36m[13:09:45]\u001b[0m\u001b[2;36m \u001b[0m\u001b[34mINFO    \u001b[0m Fetching POI for runtime optimization                                         \u001b]8;id=18219;file:///home/moritz/dev/uni/mcr-py/notebooks/../src/command/step_config.py\u001b\\\u001b[2mstep_config.py\u001b[0m\u001b]8;;\u001b\\\u001b[2m:\u001b[0m\u001b]8;id=331050;file:///home/moritz/dev/uni/mcr-py/notebooks/../src/command/step_config.py#51\u001b\\\u001b[2m51\u001b[0m\u001b]8;;\u001b\\\n"
            ]
          },
          "metadata": {},
          "output_type": "display_data"
        },
        {
          "data": {
            "text/html": [
              "<pre style=\"white-space:pre;overflow-x:auto;line-height:normal;font-family:Menlo,'DejaVu Sans Mono',consolas,'Courier New',monospace\"><span style=\"color: #7fbfbf; text-decoration-color: #7fbfbf\">           </span><span style=\"color: #000080; text-decoration-color: #000080\">INFO    </span> Fetching POI for runtime optimization done <span style=\"font-weight: bold\">(</span><span style=\"color: #008080; text-decoration-color: #008080; font-weight: bold\">0.07</span> seconds<span style=\"font-weight: bold\">)</span>                     <a href=\"file:///home/moritz/dev/uni/mcr-py/notebooks/../src/command/step_config.py\" target=\"_blank\"><span style=\"color: #7f7f7f; text-decoration-color: #7f7f7f\">step_config.py</span></a><span style=\"color: #7f7f7f; text-decoration-color: #7f7f7f\">:</span><a href=\"file:///home/moritz/dev/uni/mcr-py/notebooks/../src/command/step_config.py#51\" target=\"_blank\"><span style=\"color: #7f7f7f; text-decoration-color: #7f7f7f\">51</span></a>\n",
              "</pre>\n"
            ],
            "text/plain": [
              "\u001b[2;36m          \u001b[0m\u001b[2;36m \u001b[0m\u001b[34mINFO    \u001b[0m Fetching POI for runtime optimization done \u001b[1m(\u001b[0m\u001b[1;36m0.07\u001b[0m seconds\u001b[1m)\u001b[0m                     \u001b]8;id=54134;file:///home/moritz/dev/uni/mcr-py/notebooks/../src/command/step_config.py\u001b\\\u001b[2mstep_config.py\u001b[0m\u001b]8;;\u001b\\\u001b[2m:\u001b[0m\u001b]8;id=384446;file:///home/moritz/dev/uni/mcr-py/notebooks/../src/command/step_config.py#51\u001b\\\u001b[2m51\u001b[0m\u001b]8;;\u001b\\\n"
            ]
          },
          "metadata": {},
          "output_type": "display_data"
        },
        {
          "data": {
            "text/html": [
              "<pre style=\"white-space:pre;overflow-x:auto;line-height:normal;font-family:Menlo,'DejaVu Sans Mono',consolas,'Courier New',monospace\"><span style=\"color: #7fbfbf; text-decoration-color: #7fbfbf\">[13:10:48] </span><span style=\"color: #000080; text-decoration-color: #000080\">INFO    </span> Reading stops                                                           <a href=\"file:///home/moritz/dev/uni/mcr-py/notebooks/../src/package/mcr/steps/public_transport.py\" target=\"_blank\"><span style=\"color: #7f7f7f; text-decoration-color: #7f7f7f\">public_transport.py</span></a><span style=\"color: #7f7f7f; text-decoration-color: #7f7f7f\">:</span><a href=\"file:///home/moritz/dev/uni/mcr-py/notebooks/../src/package/mcr/steps/public_transport.py#144\" target=\"_blank\"><span style=\"color: #7f7f7f; text-decoration-color: #7f7f7f\">144</span></a>\n",
              "</pre>\n"
            ],
            "text/plain": [
              "\u001b[2;36m[13:10:48]\u001b[0m\u001b[2;36m \u001b[0m\u001b[34mINFO    \u001b[0m Reading stops                                                           \u001b]8;id=255271;file:///home/moritz/dev/uni/mcr-py/notebooks/../src/package/mcr/steps/public_transport.py\u001b\\\u001b[2mpublic_transport.py\u001b[0m\u001b]8;;\u001b\\\u001b[2m:\u001b[0m\u001b]8;id=639515;file:///home/moritz/dev/uni/mcr-py/notebooks/../src/package/mcr/steps/public_transport.py#144\u001b\\\u001b[2m144\u001b[0m\u001b]8;;\u001b\\\n"
            ]
          },
          "metadata": {},
          "output_type": "display_data"
        },
        {
          "data": {
            "text/html": [
              "<pre style=\"white-space:pre;overflow-x:auto;line-height:normal;font-family:Menlo,'DejaVu Sans Mono',consolas,'Courier New',monospace\"><span style=\"color: #7fbfbf; text-decoration-color: #7fbfbf\">           </span><span style=\"color: #000080; text-decoration-color: #000080\">INFO    </span> Reading stops done <span style=\"font-weight: bold\">(</span><span style=\"color: #008080; text-decoration-color: #008080; font-weight: bold\">0.21</span> seconds<span style=\"font-weight: bold\">)</span>                                       <a href=\"file:///home/moritz/dev/uni/mcr-py/notebooks/../src/package/mcr/steps/public_transport.py\" target=\"_blank\"><span style=\"color: #7f7f7f; text-decoration-color: #7f7f7f\">public_transport.py</span></a><span style=\"color: #7f7f7f; text-decoration-color: #7f7f7f\">:</span><a href=\"file:///home/moritz/dev/uni/mcr-py/notebooks/../src/package/mcr/steps/public_transport.py#144\" target=\"_blank\"><span style=\"color: #7f7f7f; text-decoration-color: #7f7f7f\">144</span></a>\n",
              "</pre>\n"
            ],
            "text/plain": [
              "\u001b[2;36m          \u001b[0m\u001b[2;36m \u001b[0m\u001b[34mINFO    \u001b[0m Reading stops done \u001b[1m(\u001b[0m\u001b[1;36m0.21\u001b[0m seconds\u001b[1m)\u001b[0m                                       \u001b]8;id=236789;file:///home/moritz/dev/uni/mcr-py/notebooks/../src/package/mcr/steps/public_transport.py\u001b\\\u001b[2mpublic_transport.py\u001b[0m\u001b]8;;\u001b\\\u001b[2m:\u001b[0m\u001b]8;id=282875;file:///home/moritz/dev/uni/mcr-py/notebooks/../src/package/mcr/steps/public_transport.py#144\u001b\\\u001b[2m144\u001b[0m\u001b]8;;\u001b\\\n"
            ]
          },
          "metadata": {},
          "output_type": "display_data"
        },
        {
          "data": {
            "text/html": [
              "<pre style=\"white-space:pre;overflow-x:auto;line-height:normal;font-family:Menlo,'DejaVu Sans Mono',consolas,'Courier New',monospace\"><span style=\"color: #7fbfbf; text-decoration-color: #7fbfbf\">[13:11:22] </span><span style=\"color: #000080; text-decoration-color: #000080\">INFO    </span> Loading config done <span style=\"font-weight: bold\">(</span><span style=\"color: #00ff00; text-decoration-color: #00ff00; font-weight: bold\">3:51</span> minutes<span style=\"font-weight: bold\">)</span>                                               <a href=\"file:///tmp/ipykernel_187379/617489973.py\" target=\"_blank\"><span style=\"color: #7f7f7f; text-decoration-color: #7f7f7f\">617489973.py</span></a><span style=\"color: #7f7f7f; text-decoration-color: #7f7f7f\">:</span><a href=\"file:///tmp/ipykernel_187379/617489973.py#4\" target=\"_blank\"><span style=\"color: #7f7f7f; text-decoration-color: #7f7f7f\">4</span></a>\n",
              "</pre>\n"
            ],
            "text/plain": [
              "\u001b[2;36m[13:11:22]\u001b[0m\u001b[2;36m \u001b[0m\u001b[34mINFO    \u001b[0m Loading config done \u001b[1m(\u001b[0m\u001b[1;92m3:51\u001b[0m minutes\u001b[1m)\u001b[0m                                               \u001b]8;id=489463;file:///tmp/ipykernel_187379/617489973.py\u001b\\\u001b[2m617489973.py\u001b[0m\u001b]8;;\u001b\\\u001b[2m:\u001b[0m\u001b]8;id=734238;file:///tmp/ipykernel_187379/617489973.py#4\u001b\\\u001b[2m4\u001b[0m\u001b]8;;\u001b\\\n"
            ]
          },
          "metadata": {},
          "output_type": "display_data"
        },
        {
          "data": {
            "text/html": [
              "<pre style=\"white-space:pre;overflow-x:auto;line-height:normal;font-family:Menlo,'DejaVu Sans Mono',consolas,'Courier New',monospace\"><span style=\"color: #7fbfbf; text-decoration-color: #7fbfbf\">[13:11:23] </span><span style=\"color: #000080; text-decoration-color: #000080\">INFO    </span> Running MCR5                                                                    <a href=\"file:///tmp/ipykernel_187379/617489973.py\" target=\"_blank\"><span style=\"color: #7f7f7f; text-decoration-color: #7f7f7f\">617489973.py</span></a><span style=\"color: #7f7f7f; text-decoration-color: #7f7f7f\">:</span><a href=\"file:///tmp/ipykernel_187379/617489973.py#12\" target=\"_blank\"><span style=\"color: #7f7f7f; text-decoration-color: #7f7f7f\">12</span></a>\n",
              "</pre>\n"
            ],
            "text/plain": [
              "\u001b[2;36m[13:11:23]\u001b[0m\u001b[2;36m \u001b[0m\u001b[34mINFO    \u001b[0m Running MCR5                                                                    \u001b]8;id=35950;file:///tmp/ipykernel_187379/617489973.py\u001b\\\u001b[2m617489973.py\u001b[0m\u001b]8;;\u001b\\\u001b[2m:\u001b[0m\u001b]8;id=637619;file:///tmp/ipykernel_187379/617489973.py#12\u001b\\\u001b[2m12\u001b[0m\u001b]8;;\u001b\\\n"
            ]
          },
          "metadata": {},
          "output_type": "display_data"
        },
        {
          "data": {
            "application/vnd.jupyter.widget-view+json": {
              "model_id": "cabf77e3a10240159e5b6958bf88ba9f",
              "version_major": 2,
              "version_minor": 0
            },
            "text/plain": [
              "Starting:   0%|          | 0/1782 [00:00<?, ?it/s]"
            ]
          },
          "metadata": {},
          "output_type": "display_data"
        },
        {
          "data": {
            "text/html": [
              "<pre style=\"white-space:pre;overflow-x:auto;line-height:normal;font-family:Menlo,'DejaVu Sans Mono',consolas,'Courier New',monospace\"><span style=\"color: #7fbfbf; text-decoration-color: #7fbfbf\">[13:23:23] </span><span style=\"color: #000080; text-decoration-color: #000080\">INFO    </span> All processes finished.                                                         <a href=\"file:///tmp/ipykernel_187379/617489973.py\" target=\"_blank\"><span style=\"color: #7f7f7f; text-decoration-color: #7f7f7f\">617489973.py</span></a><span style=\"color: #7f7f7f; text-decoration-color: #7f7f7f\">:</span><a href=\"file:///tmp/ipykernel_187379/617489973.py#12\" target=\"_blank\"><span style=\"color: #7f7f7f; text-decoration-color: #7f7f7f\">12</span></a>\n",
              "</pre>\n"
            ],
            "text/plain": [
              "\u001b[2;36m[13:23:23]\u001b[0m\u001b[2;36m \u001b[0m\u001b[34mINFO    \u001b[0m All processes finished.                                                         \u001b]8;id=880105;file:///tmp/ipykernel_187379/617489973.py\u001b\\\u001b[2m617489973.py\u001b[0m\u001b]8;;\u001b\\\u001b[2m:\u001b[0m\u001b]8;id=68288;file:///tmp/ipykernel_187379/617489973.py#12\u001b\\\u001b[2m12\u001b[0m\u001b]8;;\u001b\\\n"
            ]
          },
          "metadata": {},
          "output_type": "display_data"
        },
        {
          "data": {
            "text/html": [
              "<pre style=\"white-space:pre;overflow-x:auto;line-height:normal;font-family:Menlo,'DejaVu Sans Mono',consolas,'Courier New',monospace\"><span style=\"color: #7fbfbf; text-decoration-color: #7fbfbf\">           </span><span style=\"color: #000080; text-decoration-color: #000080\">INFO    </span> Running MCR5 done <span style=\"font-weight: bold\">(</span><span style=\"color: #00ff00; text-decoration-color: #00ff00; font-weight: bold\">12:00</span> minutes<span style=\"font-weight: bold\">)</span>                                               <a href=\"file:///tmp/ipykernel_187379/617489973.py\" target=\"_blank\"><span style=\"color: #7f7f7f; text-decoration-color: #7f7f7f\">617489973.py</span></a><span style=\"color: #7f7f7f; text-decoration-color: #7f7f7f\">:</span><a href=\"file:///tmp/ipykernel_187379/617489973.py#12\" target=\"_blank\"><span style=\"color: #7f7f7f; text-decoration-color: #7f7f7f\">12</span></a>\n",
              "</pre>\n"
            ],
            "text/plain": [
              "\u001b[2;36m          \u001b[0m\u001b[2;36m \u001b[0m\u001b[34mINFO    \u001b[0m Running MCR5 done \u001b[1m(\u001b[0m\u001b[1;92m12:00\u001b[0m minutes\u001b[1m)\u001b[0m                                               \u001b]8;id=843013;file:///tmp/ipykernel_187379/617489973.py\u001b\\\u001b[2m617489973.py\u001b[0m\u001b]8;;\u001b\\\u001b[2m:\u001b[0m\u001b]8;id=481201;file:///tmp/ipykernel_187379/617489973.py#12\u001b\\\u001b[2m12\u001b[0m\u001b]8;;\u001b\\\n"
            ]
          },
          "metadata": {},
          "output_type": "display_data"
        },
        {
          "data": {
            "text/html": [
              "<pre style=\"white-space:pre;overflow-x:auto;line-height:normal;font-family:Menlo,'DejaVu Sans Mono',consolas,'Courier New',monospace\"><span style=\"color: #7fbfbf; text-decoration-color: #7fbfbf\">           </span><span style=\"color: #000080; text-decoration-color: #000080\">INFO    </span> Running MCR5 for bicycle_public_transport_5                                      <a href=\"file:///tmp/ipykernel_187379/617489973.py\" target=\"_blank\"><span style=\"color: #7f7f7f; text-decoration-color: #7f7f7f\">617489973.py</span></a><span style=\"color: #7f7f7f; text-decoration-color: #7f7f7f\">:</span><a href=\"file:///tmp/ipykernel_187379/617489973.py#2\" target=\"_blank\"><span style=\"color: #7f7f7f; text-decoration-color: #7f7f7f\">2</span></a>\n",
              "</pre>\n"
            ],
            "text/plain": [
              "\u001b[2;36m          \u001b[0m\u001b[2;36m \u001b[0m\u001b[34mINFO    \u001b[0m Running MCR5 for bicycle_public_transport_5                                      \u001b]8;id=277850;file:///tmp/ipykernel_187379/617489973.py\u001b\\\u001b[2m617489973.py\u001b[0m\u001b]8;;\u001b\\\u001b[2m:\u001b[0m\u001b]8;id=291526;file:///tmp/ipykernel_187379/617489973.py#2\u001b\\\u001b[2m2\u001b[0m\u001b]8;;\u001b\\\n"
            ]
          },
          "metadata": {},
          "output_type": "display_data"
        },
        {
          "data": {
            "text/html": [
              "<pre style=\"white-space:pre;overflow-x:auto;line-height:normal;font-family:Menlo,'DejaVu Sans Mono',consolas,'Courier New',monospace\"><span style=\"color: #7fbfbf; text-decoration-color: #7fbfbf\">           </span><span style=\"color: #000080; text-decoration-color: #000080\">INFO    </span> Loading config                                                                   <a href=\"file:///tmp/ipykernel_187379/617489973.py\" target=\"_blank\"><span style=\"color: #7f7f7f; text-decoration-color: #7f7f7f\">617489973.py</span></a><span style=\"color: #7f7f7f; text-decoration-color: #7f7f7f\">:</span><a href=\"file:///tmp/ipykernel_187379/617489973.py#4\" target=\"_blank\"><span style=\"color: #7f7f7f; text-decoration-color: #7f7f7f\">4</span></a>\n",
              "</pre>\n"
            ],
            "text/plain": [
              "\u001b[2;36m          \u001b[0m\u001b[2;36m \u001b[0m\u001b[34mINFO    \u001b[0m Loading config                                                                   \u001b]8;id=66586;file:///tmp/ipykernel_187379/617489973.py\u001b\\\u001b[2m617489973.py\u001b[0m\u001b]8;;\u001b\\\u001b[2m:\u001b[0m\u001b]8;id=795209;file:///tmp/ipykernel_187379/617489973.py#4\u001b\\\u001b[2m4\u001b[0m\u001b]8;;\u001b\\\n"
            ]
          },
          "metadata": {},
          "output_type": "display_data"
        },
        {
          "data": {
            "text/html": [
              "<pre style=\"white-space:pre;overflow-x:auto;line-height:normal;font-family:Menlo,'DejaVu Sans Mono',consolas,'Courier New',monospace\"><span style=\"color: #7fbfbf; text-decoration-color: #7fbfbf\">           </span><span style=\"color: #000080; text-decoration-color: #000080\">INFO    </span> Using existing OSM data                                                          <a href=\"file:///tmp/ipykernel_187379/617489973.py\" target=\"_blank\"><span style=\"color: #7f7f7f; text-decoration-color: #7f7f7f\">617489973.py</span></a><span style=\"color: #7f7f7f; text-decoration-color: #7f7f7f\">:</span><a href=\"file:///tmp/ipykernel_187379/617489973.py#4\" target=\"_blank\"><span style=\"color: #7f7f7f; text-decoration-color: #7f7f7f\">4</span></a>\n",
              "</pre>\n"
            ],
            "text/plain": [
              "\u001b[2;36m          \u001b[0m\u001b[2;36m \u001b[0m\u001b[34mINFO    \u001b[0m Using existing OSM data                                                          \u001b]8;id=796401;file:///tmp/ipykernel_187379/617489973.py\u001b\\\u001b[2m617489973.py\u001b[0m\u001b]8;;\u001b\\\u001b[2m:\u001b[0m\u001b]8;id=990962;file:///tmp/ipykernel_187379/617489973.py#4\u001b\\\u001b[2m4\u001b[0m\u001b]8;;\u001b\\\n"
            ]
          },
          "metadata": {},
          "output_type": "display_data"
        },
        {
          "data": {
            "text/html": [
              "<pre style=\"white-space:pre;overflow-x:auto;line-height:normal;font-family:Menlo,'DejaVu Sans Mono',consolas,'Courier New',monospace\"><span style=\"color: #7fbfbf; text-decoration-color: #7fbfbf\">           </span><span style=\"color: #000080; text-decoration-color: #000080\">INFO    </span> Loading OSM network from cache <span style=\"font-weight: bold\">(</span>walking<span style=\"font-weight: bold\">)</span>                                         <a href=\"file:///tmp/ipykernel_187379/617489973.py\" target=\"_blank\"><span style=\"color: #7f7f7f; text-decoration-color: #7f7f7f\">617489973.py</span></a><span style=\"color: #7f7f7f; text-decoration-color: #7f7f7f\">:</span><a href=\"file:///tmp/ipykernel_187379/617489973.py#4\" target=\"_blank\"><span style=\"color: #7f7f7f; text-decoration-color: #7f7f7f\">4</span></a>\n",
              "</pre>\n"
            ],
            "text/plain": [
              "\u001b[2;36m          \u001b[0m\u001b[2;36m \u001b[0m\u001b[34mINFO    \u001b[0m Loading OSM network from cache \u001b[1m(\u001b[0mwalking\u001b[1m)\u001b[0m                                         \u001b]8;id=941234;file:///tmp/ipykernel_187379/617489973.py\u001b\\\u001b[2m617489973.py\u001b[0m\u001b]8;;\u001b\\\u001b[2m:\u001b[0m\u001b]8;id=89307;file:///tmp/ipykernel_187379/617489973.py#4\u001b\\\u001b[2m4\u001b[0m\u001b]8;;\u001b\\\n"
            ]
          },
          "metadata": {},
          "output_type": "display_data"
        },
        {
          "data": {
            "text/html": [
              "<pre style=\"white-space:pre;overflow-x:auto;line-height:normal;font-family:Menlo,'DejaVu Sans Mono',consolas,'Courier New',monospace\"><span style=\"color: #7fbfbf; text-decoration-color: #7fbfbf\">[13:24:40] </span><span style=\"color: #000080; text-decoration-color: #000080\">INFO    </span> Using existing OSM data                                                          <a href=\"file:///tmp/ipykernel_187379/617489973.py\" target=\"_blank\"><span style=\"color: #7f7f7f; text-decoration-color: #7f7f7f\">617489973.py</span></a><span style=\"color: #7f7f7f; text-decoration-color: #7f7f7f\">:</span><a href=\"file:///tmp/ipykernel_187379/617489973.py#4\" target=\"_blank\"><span style=\"color: #7f7f7f; text-decoration-color: #7f7f7f\">4</span></a>\n",
              "</pre>\n"
            ],
            "text/plain": [
              "\u001b[2;36m[13:24:40]\u001b[0m\u001b[2;36m \u001b[0m\u001b[34mINFO    \u001b[0m Using existing OSM data                                                          \u001b]8;id=653435;file:///tmp/ipykernel_187379/617489973.py\u001b\\\u001b[2m617489973.py\u001b[0m\u001b]8;;\u001b\\\u001b[2m:\u001b[0m\u001b]8;id=453028;file:///tmp/ipykernel_187379/617489973.py#4\u001b\\\u001b[2m4\u001b[0m\u001b]8;;\u001b\\\n"
            ]
          },
          "metadata": {},
          "output_type": "display_data"
        },
        {
          "data": {
            "text/html": [
              "<pre style=\"white-space:pre;overflow-x:auto;line-height:normal;font-family:Menlo,'DejaVu Sans Mono',consolas,'Courier New',monospace\"><span style=\"color: #7fbfbf; text-decoration-color: #7fbfbf\">           </span><span style=\"color: #000080; text-decoration-color: #000080\">INFO    </span> Loading OSM network from cache <span style=\"font-weight: bold\">(</span>cycling<span style=\"font-weight: bold\">)</span>                                         <a href=\"file:///tmp/ipykernel_187379/617489973.py\" target=\"_blank\"><span style=\"color: #7f7f7f; text-decoration-color: #7f7f7f\">617489973.py</span></a><span style=\"color: #7f7f7f; text-decoration-color: #7f7f7f\">:</span><a href=\"file:///tmp/ipykernel_187379/617489973.py#4\" target=\"_blank\"><span style=\"color: #7f7f7f; text-decoration-color: #7f7f7f\">4</span></a>\n",
              "</pre>\n"
            ],
            "text/plain": [
              "\u001b[2;36m          \u001b[0m\u001b[2;36m \u001b[0m\u001b[34mINFO    \u001b[0m Loading OSM network from cache \u001b[1m(\u001b[0mcycling\u001b[1m)\u001b[0m                                         \u001b]8;id=72819;file:///tmp/ipykernel_187379/617489973.py\u001b\\\u001b[2m617489973.py\u001b[0m\u001b]8;;\u001b\\\u001b[2m:\u001b[0m\u001b]8;id=42353;file:///tmp/ipykernel_187379/617489973.py#4\u001b\\\u001b[2m4\u001b[0m\u001b]8;;\u001b\\\n"
            ]
          },
          "metadata": {},
          "output_type": "display_data"
        },
        {
          "data": {
            "text/html": [
              "<pre style=\"white-space:pre;overflow-x:auto;line-height:normal;font-family:Menlo,'DejaVu Sans Mono',consolas,'Courier New',monospace\"><span style=\"color: #7fbfbf; text-decoration-color: #7fbfbf\">[13:25:41] </span><span style=\"color: #000080; text-decoration-color: #000080\">INFO    </span> Fetching POI for runtime optimization                                         <a href=\"file:///home/moritz/dev/uni/mcr-py/notebooks/../src/command/step_config.py\" target=\"_blank\"><span style=\"color: #7f7f7f; text-decoration-color: #7f7f7f\">step_config.py</span></a><span style=\"color: #7f7f7f; text-decoration-color: #7f7f7f\">:</span><a href=\"file:///home/moritz/dev/uni/mcr-py/notebooks/../src/command/step_config.py#51\" target=\"_blank\"><span style=\"color: #7f7f7f; text-decoration-color: #7f7f7f\">51</span></a>\n",
              "</pre>\n"
            ],
            "text/plain": [
              "\u001b[2;36m[13:25:41]\u001b[0m\u001b[2;36m \u001b[0m\u001b[34mINFO    \u001b[0m Fetching POI for runtime optimization                                         \u001b]8;id=589907;file:///home/moritz/dev/uni/mcr-py/notebooks/../src/command/step_config.py\u001b\\\u001b[2mstep_config.py\u001b[0m\u001b]8;;\u001b\\\u001b[2m:\u001b[0m\u001b]8;id=898677;file:///home/moritz/dev/uni/mcr-py/notebooks/../src/command/step_config.py#51\u001b\\\u001b[2m51\u001b[0m\u001b]8;;\u001b\\\n"
            ]
          },
          "metadata": {},
          "output_type": "display_data"
        },
        {
          "data": {
            "text/html": [
              "<pre style=\"white-space:pre;overflow-x:auto;line-height:normal;font-family:Menlo,'DejaVu Sans Mono',consolas,'Courier New',monospace\"><span style=\"color: #7fbfbf; text-decoration-color: #7fbfbf\">           </span><span style=\"color: #000080; text-decoration-color: #000080\">INFO    </span> Fetching POI for runtime optimization done <span style=\"font-weight: bold\">(</span><span style=\"color: #008080; text-decoration-color: #008080; font-weight: bold\">0.07</span> seconds<span style=\"font-weight: bold\">)</span>                     <a href=\"file:///home/moritz/dev/uni/mcr-py/notebooks/../src/command/step_config.py\" target=\"_blank\"><span style=\"color: #7f7f7f; text-decoration-color: #7f7f7f\">step_config.py</span></a><span style=\"color: #7f7f7f; text-decoration-color: #7f7f7f\">:</span><a href=\"file:///home/moritz/dev/uni/mcr-py/notebooks/../src/command/step_config.py#51\" target=\"_blank\"><span style=\"color: #7f7f7f; text-decoration-color: #7f7f7f\">51</span></a>\n",
              "</pre>\n"
            ],
            "text/plain": [
              "\u001b[2;36m          \u001b[0m\u001b[2;36m \u001b[0m\u001b[34mINFO    \u001b[0m Fetching POI for runtime optimization done \u001b[1m(\u001b[0m\u001b[1;36m0.07\u001b[0m seconds\u001b[1m)\u001b[0m                     \u001b]8;id=51296;file:///home/moritz/dev/uni/mcr-py/notebooks/../src/command/step_config.py\u001b\\\u001b[2mstep_config.py\u001b[0m\u001b]8;;\u001b\\\u001b[2m:\u001b[0m\u001b]8;id=993925;file:///home/moritz/dev/uni/mcr-py/notebooks/../src/command/step_config.py#51\u001b\\\u001b[2m51\u001b[0m\u001b]8;;\u001b\\\n"
            ]
          },
          "metadata": {},
          "output_type": "display_data"
        },
        {
          "data": {
            "text/html": [
              "<pre style=\"white-space:pre;overflow-x:auto;line-height:normal;font-family:Menlo,'DejaVu Sans Mono',consolas,'Courier New',monospace\"><span style=\"color: #7fbfbf; text-decoration-color: #7fbfbf\">[13:26:48] </span><span style=\"color: #000080; text-decoration-color: #000080\">INFO    </span> Reading stops                                                           <a href=\"file:///home/moritz/dev/uni/mcr-py/notebooks/../src/package/mcr/steps/public_transport.py\" target=\"_blank\"><span style=\"color: #7f7f7f; text-decoration-color: #7f7f7f\">public_transport.py</span></a><span style=\"color: #7f7f7f; text-decoration-color: #7f7f7f\">:</span><a href=\"file:///home/moritz/dev/uni/mcr-py/notebooks/../src/package/mcr/steps/public_transport.py#144\" target=\"_blank\"><span style=\"color: #7f7f7f; text-decoration-color: #7f7f7f\">144</span></a>\n",
              "</pre>\n"
            ],
            "text/plain": [
              "\u001b[2;36m[13:26:48]\u001b[0m\u001b[2;36m \u001b[0m\u001b[34mINFO    \u001b[0m Reading stops                                                           \u001b]8;id=246468;file:///home/moritz/dev/uni/mcr-py/notebooks/../src/package/mcr/steps/public_transport.py\u001b\\\u001b[2mpublic_transport.py\u001b[0m\u001b]8;;\u001b\\\u001b[2m:\u001b[0m\u001b]8;id=288117;file:///home/moritz/dev/uni/mcr-py/notebooks/../src/package/mcr/steps/public_transport.py#144\u001b\\\u001b[2m144\u001b[0m\u001b]8;;\u001b\\\n"
            ]
          },
          "metadata": {},
          "output_type": "display_data"
        },
        {
          "data": {
            "text/html": [
              "<pre style=\"white-space:pre;overflow-x:auto;line-height:normal;font-family:Menlo,'DejaVu Sans Mono',consolas,'Courier New',monospace\"><span style=\"color: #7fbfbf; text-decoration-color: #7fbfbf\">[13:26:49] </span><span style=\"color: #000080; text-decoration-color: #000080\">INFO    </span> Reading stops done <span style=\"font-weight: bold\">(</span><span style=\"color: #008080; text-decoration-color: #008080; font-weight: bold\">0.29</span> seconds<span style=\"font-weight: bold\">)</span>                                       <a href=\"file:///home/moritz/dev/uni/mcr-py/notebooks/../src/package/mcr/steps/public_transport.py\" target=\"_blank\"><span style=\"color: #7f7f7f; text-decoration-color: #7f7f7f\">public_transport.py</span></a><span style=\"color: #7f7f7f; text-decoration-color: #7f7f7f\">:</span><a href=\"file:///home/moritz/dev/uni/mcr-py/notebooks/../src/package/mcr/steps/public_transport.py#144\" target=\"_blank\"><span style=\"color: #7f7f7f; text-decoration-color: #7f7f7f\">144</span></a>\n",
              "</pre>\n"
            ],
            "text/plain": [
              "\u001b[2;36m[13:26:49]\u001b[0m\u001b[2;36m \u001b[0m\u001b[34mINFO    \u001b[0m Reading stops done \u001b[1m(\u001b[0m\u001b[1;36m0.29\u001b[0m seconds\u001b[1m)\u001b[0m                                       \u001b]8;id=132544;file:///home/moritz/dev/uni/mcr-py/notebooks/../src/package/mcr/steps/public_transport.py\u001b\\\u001b[2mpublic_transport.py\u001b[0m\u001b]8;;\u001b\\\u001b[2m:\u001b[0m\u001b]8;id=346283;file:///home/moritz/dev/uni/mcr-py/notebooks/../src/package/mcr/steps/public_transport.py#144\u001b\\\u001b[2m144\u001b[0m\u001b]8;;\u001b\\\n"
            ]
          },
          "metadata": {},
          "output_type": "display_data"
        },
        {
          "data": {
            "text/html": [
              "<pre style=\"white-space:pre;overflow-x:auto;line-height:normal;font-family:Menlo,'DejaVu Sans Mono',consolas,'Courier New',monospace\"><span style=\"color: #7fbfbf; text-decoration-color: #7fbfbf\">[13:27:25] </span><span style=\"color: #000080; text-decoration-color: #000080\">INFO    </span> Loading config done <span style=\"font-weight: bold\">(</span><span style=\"color: #00ff00; text-decoration-color: #00ff00; font-weight: bold\">4:02</span> minutes<span style=\"font-weight: bold\">)</span>                                               <a href=\"file:///tmp/ipykernel_187379/617489973.py\" target=\"_blank\"><span style=\"color: #7f7f7f; text-decoration-color: #7f7f7f\">617489973.py</span></a><span style=\"color: #7f7f7f; text-decoration-color: #7f7f7f\">:</span><a href=\"file:///tmp/ipykernel_187379/617489973.py#4\" target=\"_blank\"><span style=\"color: #7f7f7f; text-decoration-color: #7f7f7f\">4</span></a>\n",
              "</pre>\n"
            ],
            "text/plain": [
              "\u001b[2;36m[13:27:25]\u001b[0m\u001b[2;36m \u001b[0m\u001b[34mINFO    \u001b[0m Loading config done \u001b[1m(\u001b[0m\u001b[1;92m4:02\u001b[0m minutes\u001b[1m)\u001b[0m                                               \u001b]8;id=423295;file:///tmp/ipykernel_187379/617489973.py\u001b\\\u001b[2m617489973.py\u001b[0m\u001b]8;;\u001b\\\u001b[2m:\u001b[0m\u001b]8;id=916315;file:///tmp/ipykernel_187379/617489973.py#4\u001b\\\u001b[2m4\u001b[0m\u001b]8;;\u001b\\\n"
            ]
          },
          "metadata": {},
          "output_type": "display_data"
        },
        {
          "data": {
            "text/html": [
              "<pre style=\"white-space:pre;overflow-x:auto;line-height:normal;font-family:Menlo,'DejaVu Sans Mono',consolas,'Courier New',monospace\"><span style=\"color: #7fbfbf; text-decoration-color: #7fbfbf\">           </span><span style=\"color: #000080; text-decoration-color: #000080\">INFO    </span> Running MCR5                                                                    <a href=\"file:///tmp/ipykernel_187379/617489973.py\" target=\"_blank\"><span style=\"color: #7f7f7f; text-decoration-color: #7f7f7f\">617489973.py</span></a><span style=\"color: #7f7f7f; text-decoration-color: #7f7f7f\">:</span><a href=\"file:///tmp/ipykernel_187379/617489973.py#12\" target=\"_blank\"><span style=\"color: #7f7f7f; text-decoration-color: #7f7f7f\">12</span></a>\n",
              "</pre>\n"
            ],
            "text/plain": [
              "\u001b[2;36m          \u001b[0m\u001b[2;36m \u001b[0m\u001b[34mINFO    \u001b[0m Running MCR5                                                                    \u001b]8;id=492535;file:///tmp/ipykernel_187379/617489973.py\u001b\\\u001b[2m617489973.py\u001b[0m\u001b]8;;\u001b\\\u001b[2m:\u001b[0m\u001b]8;id=819663;file:///tmp/ipykernel_187379/617489973.py#12\u001b\\\u001b[2m12\u001b[0m\u001b]8;;\u001b\\\n"
            ]
          },
          "metadata": {},
          "output_type": "display_data"
        },
        {
          "data": {
            "application/vnd.jupyter.widget-view+json": {
              "model_id": "da3dbf186e814341a4d822012555eb69",
              "version_major": 2,
              "version_minor": 0
            },
            "text/plain": [
              "Starting:   0%|          | 0/1782 [00:00<?, ?it/s]"
            ]
          },
          "metadata": {},
          "output_type": "display_data"
        },
        {
          "data": {
            "text/html": [
              "<pre style=\"white-space:pre;overflow-x:auto;line-height:normal;font-family:Menlo,'DejaVu Sans Mono',consolas,'Courier New',monospace\"><span style=\"color: #7fbfbf; text-decoration-color: #7fbfbf\">[13:40:34] </span><span style=\"color: #000080; text-decoration-color: #000080\">INFO    </span> All processes finished.                                                         <a href=\"file:///tmp/ipykernel_187379/617489973.py\" target=\"_blank\"><span style=\"color: #7f7f7f; text-decoration-color: #7f7f7f\">617489973.py</span></a><span style=\"color: #7f7f7f; text-decoration-color: #7f7f7f\">:</span><a href=\"file:///tmp/ipykernel_187379/617489973.py#12\" target=\"_blank\"><span style=\"color: #7f7f7f; text-decoration-color: #7f7f7f\">12</span></a>\n",
              "</pre>\n"
            ],
            "text/plain": [
              "\u001b[2;36m[13:40:34]\u001b[0m\u001b[2;36m \u001b[0m\u001b[34mINFO    \u001b[0m All processes finished.                                                         \u001b]8;id=602719;file:///tmp/ipykernel_187379/617489973.py\u001b\\\u001b[2m617489973.py\u001b[0m\u001b]8;;\u001b\\\u001b[2m:\u001b[0m\u001b]8;id=621661;file:///tmp/ipykernel_187379/617489973.py#12\u001b\\\u001b[2m12\u001b[0m\u001b]8;;\u001b\\\n"
            ]
          },
          "metadata": {},
          "output_type": "display_data"
        },
        {
          "data": {
            "text/html": [
              "<pre style=\"white-space:pre;overflow-x:auto;line-height:normal;font-family:Menlo,'DejaVu Sans Mono',consolas,'Courier New',monospace\"><span style=\"color: #7fbfbf; text-decoration-color: #7fbfbf\">           </span><span style=\"color: #000080; text-decoration-color: #000080\">INFO    </span> Running MCR5 done <span style=\"font-weight: bold\">(</span><span style=\"color: #00ff00; text-decoration-color: #00ff00; font-weight: bold\">13:09</span> minutes<span style=\"font-weight: bold\">)</span>                                               <a href=\"file:///tmp/ipykernel_187379/617489973.py\" target=\"_blank\"><span style=\"color: #7f7f7f; text-decoration-color: #7f7f7f\">617489973.py</span></a><span style=\"color: #7f7f7f; text-decoration-color: #7f7f7f\">:</span><a href=\"file:///tmp/ipykernel_187379/617489973.py#12\" target=\"_blank\"><span style=\"color: #7f7f7f; text-decoration-color: #7f7f7f\">12</span></a>\n",
              "</pre>\n"
            ],
            "text/plain": [
              "\u001b[2;36m          \u001b[0m\u001b[2;36m \u001b[0m\u001b[34mINFO    \u001b[0m Running MCR5 done \u001b[1m(\u001b[0m\u001b[1;92m13:09\u001b[0m minutes\u001b[1m)\u001b[0m                                               \u001b]8;id=807893;file:///tmp/ipykernel_187379/617489973.py\u001b\\\u001b[2m617489973.py\u001b[0m\u001b]8;;\u001b\\\u001b[2m:\u001b[0m\u001b]8;id=347581;file:///tmp/ipykernel_187379/617489973.py#12\u001b\\\u001b[2m12\u001b[0m\u001b]8;;\u001b\\\n"
            ]
          },
          "metadata": {},
          "output_type": "display_data"
        },
        {
          "data": {
            "text/html": [
              "<pre style=\"white-space:pre;overflow-x:auto;line-height:normal;font-family:Menlo,'DejaVu Sans Mono',consolas,'Courier New',monospace\"><span style=\"color: #7fbfbf; text-decoration-color: #7fbfbf\">           </span><span style=\"color: #000080; text-decoration-color: #000080\">INFO    </span> Running MCR5 for bicycle_public_transport_6                                      <a href=\"file:///tmp/ipykernel_187379/617489973.py\" target=\"_blank\"><span style=\"color: #7f7f7f; text-decoration-color: #7f7f7f\">617489973.py</span></a><span style=\"color: #7f7f7f; text-decoration-color: #7f7f7f\">:</span><a href=\"file:///tmp/ipykernel_187379/617489973.py#2\" target=\"_blank\"><span style=\"color: #7f7f7f; text-decoration-color: #7f7f7f\">2</span></a>\n",
              "</pre>\n"
            ],
            "text/plain": [
              "\u001b[2;36m          \u001b[0m\u001b[2;36m \u001b[0m\u001b[34mINFO    \u001b[0m Running MCR5 for bicycle_public_transport_6                                      \u001b]8;id=850109;file:///tmp/ipykernel_187379/617489973.py\u001b\\\u001b[2m617489973.py\u001b[0m\u001b]8;;\u001b\\\u001b[2m:\u001b[0m\u001b]8;id=179742;file:///tmp/ipykernel_187379/617489973.py#2\u001b\\\u001b[2m2\u001b[0m\u001b]8;;\u001b\\\n"
            ]
          },
          "metadata": {},
          "output_type": "display_data"
        },
        {
          "data": {
            "text/html": [
              "<pre style=\"white-space:pre;overflow-x:auto;line-height:normal;font-family:Menlo,'DejaVu Sans Mono',consolas,'Courier New',monospace\"><span style=\"color: #7fbfbf; text-decoration-color: #7fbfbf\">           </span><span style=\"color: #000080; text-decoration-color: #000080\">INFO    </span> Loading config                                                                   <a href=\"file:///tmp/ipykernel_187379/617489973.py\" target=\"_blank\"><span style=\"color: #7f7f7f; text-decoration-color: #7f7f7f\">617489973.py</span></a><span style=\"color: #7f7f7f; text-decoration-color: #7f7f7f\">:</span><a href=\"file:///tmp/ipykernel_187379/617489973.py#4\" target=\"_blank\"><span style=\"color: #7f7f7f; text-decoration-color: #7f7f7f\">4</span></a>\n",
              "</pre>\n"
            ],
            "text/plain": [
              "\u001b[2;36m          \u001b[0m\u001b[2;36m \u001b[0m\u001b[34mINFO    \u001b[0m Loading config                                                                   \u001b]8;id=901107;file:///tmp/ipykernel_187379/617489973.py\u001b\\\u001b[2m617489973.py\u001b[0m\u001b]8;;\u001b\\\u001b[2m:\u001b[0m\u001b]8;id=484682;file:///tmp/ipykernel_187379/617489973.py#4\u001b\\\u001b[2m4\u001b[0m\u001b]8;;\u001b\\\n"
            ]
          },
          "metadata": {},
          "output_type": "display_data"
        },
        {
          "data": {
            "text/html": [
              "<pre style=\"white-space:pre;overflow-x:auto;line-height:normal;font-family:Menlo,'DejaVu Sans Mono',consolas,'Courier New',monospace\"><span style=\"color: #7fbfbf; text-decoration-color: #7fbfbf\">           </span><span style=\"color: #000080; text-decoration-color: #000080\">INFO    </span> Using existing OSM data                                                          <a href=\"file:///tmp/ipykernel_187379/617489973.py\" target=\"_blank\"><span style=\"color: #7f7f7f; text-decoration-color: #7f7f7f\">617489973.py</span></a><span style=\"color: #7f7f7f; text-decoration-color: #7f7f7f\">:</span><a href=\"file:///tmp/ipykernel_187379/617489973.py#4\" target=\"_blank\"><span style=\"color: #7f7f7f; text-decoration-color: #7f7f7f\">4</span></a>\n",
              "</pre>\n"
            ],
            "text/plain": [
              "\u001b[2;36m          \u001b[0m\u001b[2;36m \u001b[0m\u001b[34mINFO    \u001b[0m Using existing OSM data                                                          \u001b]8;id=445125;file:///tmp/ipykernel_187379/617489973.py\u001b\\\u001b[2m617489973.py\u001b[0m\u001b]8;;\u001b\\\u001b[2m:\u001b[0m\u001b]8;id=580510;file:///tmp/ipykernel_187379/617489973.py#4\u001b\\\u001b[2m4\u001b[0m\u001b]8;;\u001b\\\n"
            ]
          },
          "metadata": {},
          "output_type": "display_data"
        },
        {
          "data": {
            "text/html": [
              "<pre style=\"white-space:pre;overflow-x:auto;line-height:normal;font-family:Menlo,'DejaVu Sans Mono',consolas,'Courier New',monospace\"><span style=\"color: #7fbfbf; text-decoration-color: #7fbfbf\">           </span><span style=\"color: #000080; text-decoration-color: #000080\">INFO    </span> Loading OSM network from cache <span style=\"font-weight: bold\">(</span>walking<span style=\"font-weight: bold\">)</span>                                         <a href=\"file:///tmp/ipykernel_187379/617489973.py\" target=\"_blank\"><span style=\"color: #7f7f7f; text-decoration-color: #7f7f7f\">617489973.py</span></a><span style=\"color: #7f7f7f; text-decoration-color: #7f7f7f\">:</span><a href=\"file:///tmp/ipykernel_187379/617489973.py#4\" target=\"_blank\"><span style=\"color: #7f7f7f; text-decoration-color: #7f7f7f\">4</span></a>\n",
              "</pre>\n"
            ],
            "text/plain": [
              "\u001b[2;36m          \u001b[0m\u001b[2;36m \u001b[0m\u001b[34mINFO    \u001b[0m Loading OSM network from cache \u001b[1m(\u001b[0mwalking\u001b[1m)\u001b[0m                                         \u001b]8;id=880;file:///tmp/ipykernel_187379/617489973.py\u001b\\\u001b[2m617489973.py\u001b[0m\u001b]8;;\u001b\\\u001b[2m:\u001b[0m\u001b]8;id=328916;file:///tmp/ipykernel_187379/617489973.py#4\u001b\\\u001b[2m4\u001b[0m\u001b]8;;\u001b\\\n"
            ]
          },
          "metadata": {},
          "output_type": "display_data"
        },
        {
          "data": {
            "text/html": [
              "<pre style=\"white-space:pre;overflow-x:auto;line-height:normal;font-family:Menlo,'DejaVu Sans Mono',consolas,'Courier New',monospace\"><span style=\"color: #7fbfbf; text-decoration-color: #7fbfbf\">[13:41:52] </span><span style=\"color: #000080; text-decoration-color: #000080\">INFO    </span> Using existing OSM data                                                          <a href=\"file:///tmp/ipykernel_187379/617489973.py\" target=\"_blank\"><span style=\"color: #7f7f7f; text-decoration-color: #7f7f7f\">617489973.py</span></a><span style=\"color: #7f7f7f; text-decoration-color: #7f7f7f\">:</span><a href=\"file:///tmp/ipykernel_187379/617489973.py#4\" target=\"_blank\"><span style=\"color: #7f7f7f; text-decoration-color: #7f7f7f\">4</span></a>\n",
              "</pre>\n"
            ],
            "text/plain": [
              "\u001b[2;36m[13:41:52]\u001b[0m\u001b[2;36m \u001b[0m\u001b[34mINFO    \u001b[0m Using existing OSM data                                                          \u001b]8;id=698538;file:///tmp/ipykernel_187379/617489973.py\u001b\\\u001b[2m617489973.py\u001b[0m\u001b]8;;\u001b\\\u001b[2m:\u001b[0m\u001b]8;id=557447;file:///tmp/ipykernel_187379/617489973.py#4\u001b\\\u001b[2m4\u001b[0m\u001b]8;;\u001b\\\n"
            ]
          },
          "metadata": {},
          "output_type": "display_data"
        },
        {
          "data": {
            "text/html": [
              "<pre style=\"white-space:pre;overflow-x:auto;line-height:normal;font-family:Menlo,'DejaVu Sans Mono',consolas,'Courier New',monospace\"><span style=\"color: #7fbfbf; text-decoration-color: #7fbfbf\">           </span><span style=\"color: #000080; text-decoration-color: #000080\">INFO    </span> Loading OSM network from cache <span style=\"font-weight: bold\">(</span>cycling<span style=\"font-weight: bold\">)</span>                                         <a href=\"file:///tmp/ipykernel_187379/617489973.py\" target=\"_blank\"><span style=\"color: #7f7f7f; text-decoration-color: #7f7f7f\">617489973.py</span></a><span style=\"color: #7f7f7f; text-decoration-color: #7f7f7f\">:</span><a href=\"file:///tmp/ipykernel_187379/617489973.py#4\" target=\"_blank\"><span style=\"color: #7f7f7f; text-decoration-color: #7f7f7f\">4</span></a>\n",
              "</pre>\n"
            ],
            "text/plain": [
              "\u001b[2;36m          \u001b[0m\u001b[2;36m \u001b[0m\u001b[34mINFO    \u001b[0m Loading OSM network from cache \u001b[1m(\u001b[0mcycling\u001b[1m)\u001b[0m                                         \u001b]8;id=552840;file:///tmp/ipykernel_187379/617489973.py\u001b\\\u001b[2m617489973.py\u001b[0m\u001b]8;;\u001b\\\u001b[2m:\u001b[0m\u001b]8;id=153427;file:///tmp/ipykernel_187379/617489973.py#4\u001b\\\u001b[2m4\u001b[0m\u001b]8;;\u001b\\\n"
            ]
          },
          "metadata": {},
          "output_type": "display_data"
        },
        {
          "data": {
            "text/html": [
              "<pre style=\"white-space:pre;overflow-x:auto;line-height:normal;font-family:Menlo,'DejaVu Sans Mono',consolas,'Courier New',monospace\"><span style=\"color: #7fbfbf; text-decoration-color: #7fbfbf\">[13:42:57] </span><span style=\"color: #000080; text-decoration-color: #000080\">INFO    </span> Fetching POI for runtime optimization                                         <a href=\"file:///home/moritz/dev/uni/mcr-py/notebooks/../src/command/step_config.py\" target=\"_blank\"><span style=\"color: #7f7f7f; text-decoration-color: #7f7f7f\">step_config.py</span></a><span style=\"color: #7f7f7f; text-decoration-color: #7f7f7f\">:</span><a href=\"file:///home/moritz/dev/uni/mcr-py/notebooks/../src/command/step_config.py#51\" target=\"_blank\"><span style=\"color: #7f7f7f; text-decoration-color: #7f7f7f\">51</span></a>\n",
              "</pre>\n"
            ],
            "text/plain": [
              "\u001b[2;36m[13:42:57]\u001b[0m\u001b[2;36m \u001b[0m\u001b[34mINFO    \u001b[0m Fetching POI for runtime optimization                                         \u001b]8;id=427907;file:///home/moritz/dev/uni/mcr-py/notebooks/../src/command/step_config.py\u001b\\\u001b[2mstep_config.py\u001b[0m\u001b]8;;\u001b\\\u001b[2m:\u001b[0m\u001b]8;id=990799;file:///home/moritz/dev/uni/mcr-py/notebooks/../src/command/step_config.py#51\u001b\\\u001b[2m51\u001b[0m\u001b]8;;\u001b\\\n"
            ]
          },
          "metadata": {},
          "output_type": "display_data"
        },
        {
          "data": {
            "text/html": [
              "<pre style=\"white-space:pre;overflow-x:auto;line-height:normal;font-family:Menlo,'DejaVu Sans Mono',consolas,'Courier New',monospace\"><span style=\"color: #7fbfbf; text-decoration-color: #7fbfbf\">           </span><span style=\"color: #000080; text-decoration-color: #000080\">INFO    </span> Fetching POI for runtime optimization done <span style=\"font-weight: bold\">(</span><span style=\"color: #008080; text-decoration-color: #008080; font-weight: bold\">0.07</span> seconds<span style=\"font-weight: bold\">)</span>                     <a href=\"file:///home/moritz/dev/uni/mcr-py/notebooks/../src/command/step_config.py\" target=\"_blank\"><span style=\"color: #7f7f7f; text-decoration-color: #7f7f7f\">step_config.py</span></a><span style=\"color: #7f7f7f; text-decoration-color: #7f7f7f\">:</span><a href=\"file:///home/moritz/dev/uni/mcr-py/notebooks/../src/command/step_config.py#51\" target=\"_blank\"><span style=\"color: #7f7f7f; text-decoration-color: #7f7f7f\">51</span></a>\n",
              "</pre>\n"
            ],
            "text/plain": [
              "\u001b[2;36m          \u001b[0m\u001b[2;36m \u001b[0m\u001b[34mINFO    \u001b[0m Fetching POI for runtime optimization done \u001b[1m(\u001b[0m\u001b[1;36m0.07\u001b[0m seconds\u001b[1m)\u001b[0m                     \u001b]8;id=57153;file:///home/moritz/dev/uni/mcr-py/notebooks/../src/command/step_config.py\u001b\\\u001b[2mstep_config.py\u001b[0m\u001b]8;;\u001b\\\u001b[2m:\u001b[0m\u001b]8;id=266511;file:///home/moritz/dev/uni/mcr-py/notebooks/../src/command/step_config.py#51\u001b\\\u001b[2m51\u001b[0m\u001b]8;;\u001b\\\n"
            ]
          },
          "metadata": {},
          "output_type": "display_data"
        },
        {
          "data": {
            "text/html": [
              "<pre style=\"white-space:pre;overflow-x:auto;line-height:normal;font-family:Menlo,'DejaVu Sans Mono',consolas,'Courier New',monospace\"><span style=\"color: #7fbfbf; text-decoration-color: #7fbfbf\">[13:44:06] </span><span style=\"color: #000080; text-decoration-color: #000080\">INFO    </span> Reading stops                                                           <a href=\"file:///home/moritz/dev/uni/mcr-py/notebooks/../src/package/mcr/steps/public_transport.py\" target=\"_blank\"><span style=\"color: #7f7f7f; text-decoration-color: #7f7f7f\">public_transport.py</span></a><span style=\"color: #7f7f7f; text-decoration-color: #7f7f7f\">:</span><a href=\"file:///home/moritz/dev/uni/mcr-py/notebooks/../src/package/mcr/steps/public_transport.py#144\" target=\"_blank\"><span style=\"color: #7f7f7f; text-decoration-color: #7f7f7f\">144</span></a>\n",
              "</pre>\n"
            ],
            "text/plain": [
              "\u001b[2;36m[13:44:06]\u001b[0m\u001b[2;36m \u001b[0m\u001b[34mINFO    \u001b[0m Reading stops                                                           \u001b]8;id=406049;file:///home/moritz/dev/uni/mcr-py/notebooks/../src/package/mcr/steps/public_transport.py\u001b\\\u001b[2mpublic_transport.py\u001b[0m\u001b]8;;\u001b\\\u001b[2m:\u001b[0m\u001b]8;id=410383;file:///home/moritz/dev/uni/mcr-py/notebooks/../src/package/mcr/steps/public_transport.py#144\u001b\\\u001b[2m144\u001b[0m\u001b]8;;\u001b\\\n"
            ]
          },
          "metadata": {},
          "output_type": "display_data"
        },
        {
          "data": {
            "text/html": [
              "<pre style=\"white-space:pre;overflow-x:auto;line-height:normal;font-family:Menlo,'DejaVu Sans Mono',consolas,'Courier New',monospace\"><span style=\"color: #7fbfbf; text-decoration-color: #7fbfbf\">[13:44:07] </span><span style=\"color: #000080; text-decoration-color: #000080\">INFO    </span> Reading stops done <span style=\"font-weight: bold\">(</span><span style=\"color: #008080; text-decoration-color: #008080; font-weight: bold\">0.85</span> seconds<span style=\"font-weight: bold\">)</span>                                       <a href=\"file:///home/moritz/dev/uni/mcr-py/notebooks/../src/package/mcr/steps/public_transport.py\" target=\"_blank\"><span style=\"color: #7f7f7f; text-decoration-color: #7f7f7f\">public_transport.py</span></a><span style=\"color: #7f7f7f; text-decoration-color: #7f7f7f\">:</span><a href=\"file:///home/moritz/dev/uni/mcr-py/notebooks/../src/package/mcr/steps/public_transport.py#144\" target=\"_blank\"><span style=\"color: #7f7f7f; text-decoration-color: #7f7f7f\">144</span></a>\n",
              "</pre>\n"
            ],
            "text/plain": [
              "\u001b[2;36m[13:44:07]\u001b[0m\u001b[2;36m \u001b[0m\u001b[34mINFO    \u001b[0m Reading stops done \u001b[1m(\u001b[0m\u001b[1;36m0.85\u001b[0m seconds\u001b[1m)\u001b[0m                                       \u001b]8;id=602217;file:///home/moritz/dev/uni/mcr-py/notebooks/../src/package/mcr/steps/public_transport.py\u001b\\\u001b[2mpublic_transport.py\u001b[0m\u001b]8;;\u001b\\\u001b[2m:\u001b[0m\u001b]8;id=233626;file:///home/moritz/dev/uni/mcr-py/notebooks/../src/package/mcr/steps/public_transport.py#144\u001b\\\u001b[2m144\u001b[0m\u001b]8;;\u001b\\\n"
            ]
          },
          "metadata": {},
          "output_type": "display_data"
        },
        {
          "data": {
            "text/html": [
              "<pre style=\"white-space:pre;overflow-x:auto;line-height:normal;font-family:Menlo,'DejaVu Sans Mono',consolas,'Courier New',monospace\"><span style=\"color: #7fbfbf; text-decoration-color: #7fbfbf\">[13:44:40] </span><span style=\"color: #000080; text-decoration-color: #000080\">INFO    </span> Loading config done <span style=\"font-weight: bold\">(</span><span style=\"color: #00ff00; text-decoration-color: #00ff00; font-weight: bold\">4:05</span> minutes<span style=\"font-weight: bold\">)</span>                                               <a href=\"file:///tmp/ipykernel_187379/617489973.py\" target=\"_blank\"><span style=\"color: #7f7f7f; text-decoration-color: #7f7f7f\">617489973.py</span></a><span style=\"color: #7f7f7f; text-decoration-color: #7f7f7f\">:</span><a href=\"file:///tmp/ipykernel_187379/617489973.py#4\" target=\"_blank\"><span style=\"color: #7f7f7f; text-decoration-color: #7f7f7f\">4</span></a>\n",
              "</pre>\n"
            ],
            "text/plain": [
              "\u001b[2;36m[13:44:40]\u001b[0m\u001b[2;36m \u001b[0m\u001b[34mINFO    \u001b[0m Loading config done \u001b[1m(\u001b[0m\u001b[1;92m4:05\u001b[0m minutes\u001b[1m)\u001b[0m                                               \u001b]8;id=569504;file:///tmp/ipykernel_187379/617489973.py\u001b\\\u001b[2m617489973.py\u001b[0m\u001b]8;;\u001b\\\u001b[2m:\u001b[0m\u001b]8;id=981331;file:///tmp/ipykernel_187379/617489973.py#4\u001b\\\u001b[2m4\u001b[0m\u001b]8;;\u001b\\\n"
            ]
          },
          "metadata": {},
          "output_type": "display_data"
        },
        {
          "data": {
            "text/html": [
              "<pre style=\"white-space:pre;overflow-x:auto;line-height:normal;font-family:Menlo,'DejaVu Sans Mono',consolas,'Courier New',monospace\"><span style=\"color: #7fbfbf; text-decoration-color: #7fbfbf\">           </span><span style=\"color: #000080; text-decoration-color: #000080\">INFO    </span> Running MCR5                                                                    <a href=\"file:///tmp/ipykernel_187379/617489973.py\" target=\"_blank\"><span style=\"color: #7f7f7f; text-decoration-color: #7f7f7f\">617489973.py</span></a><span style=\"color: #7f7f7f; text-decoration-color: #7f7f7f\">:</span><a href=\"file:///tmp/ipykernel_187379/617489973.py#12\" target=\"_blank\"><span style=\"color: #7f7f7f; text-decoration-color: #7f7f7f\">12</span></a>\n",
              "</pre>\n"
            ],
            "text/plain": [
              "\u001b[2;36m          \u001b[0m\u001b[2;36m \u001b[0m\u001b[34mINFO    \u001b[0m Running MCR5                                                                    \u001b]8;id=43200;file:///tmp/ipykernel_187379/617489973.py\u001b\\\u001b[2m617489973.py\u001b[0m\u001b]8;;\u001b\\\u001b[2m:\u001b[0m\u001b]8;id=275149;file:///tmp/ipykernel_187379/617489973.py#12\u001b\\\u001b[2m12\u001b[0m\u001b]8;;\u001b\\\n"
            ]
          },
          "metadata": {},
          "output_type": "display_data"
        },
        {
          "data": {
            "application/vnd.jupyter.widget-view+json": {
              "model_id": "08c00b9dba7d40da8bb04ddd7beffad8",
              "version_major": 2,
              "version_minor": 0
            },
            "text/plain": [
              "Starting:   0%|          | 0/1782 [00:00<?, ?it/s]"
            ]
          },
          "metadata": {},
          "output_type": "display_data"
        },
        {
          "data": {
            "text/html": [
              "<pre style=\"white-space:pre;overflow-x:auto;line-height:normal;font-family:Menlo,'DejaVu Sans Mono',consolas,'Courier New',monospace\"><span style=\"color: #7fbfbf; text-decoration-color: #7fbfbf\">[13:59:06] </span><span style=\"color: #000080; text-decoration-color: #000080\">INFO    </span> All processes finished.                                                         <a href=\"file:///tmp/ipykernel_187379/617489973.py\" target=\"_blank\"><span style=\"color: #7f7f7f; text-decoration-color: #7f7f7f\">617489973.py</span></a><span style=\"color: #7f7f7f; text-decoration-color: #7f7f7f\">:</span><a href=\"file:///tmp/ipykernel_187379/617489973.py#12\" target=\"_blank\"><span style=\"color: #7f7f7f; text-decoration-color: #7f7f7f\">12</span></a>\n",
              "</pre>\n"
            ],
            "text/plain": [
              "\u001b[2;36m[13:59:06]\u001b[0m\u001b[2;36m \u001b[0m\u001b[34mINFO    \u001b[0m All processes finished.                                                         \u001b]8;id=64535;file:///tmp/ipykernel_187379/617489973.py\u001b\\\u001b[2m617489973.py\u001b[0m\u001b]8;;\u001b\\\u001b[2m:\u001b[0m\u001b]8;id=546933;file:///tmp/ipykernel_187379/617489973.py#12\u001b\\\u001b[2m12\u001b[0m\u001b]8;;\u001b\\\n"
            ]
          },
          "metadata": {},
          "output_type": "display_data"
        },
        {
          "data": {
            "text/html": [
              "<pre style=\"white-space:pre;overflow-x:auto;line-height:normal;font-family:Menlo,'DejaVu Sans Mono',consolas,'Courier New',monospace\"><span style=\"color: #7fbfbf; text-decoration-color: #7fbfbf\">           </span><span style=\"color: #000080; text-decoration-color: #000080\">INFO    </span> Running MCR5 done <span style=\"font-weight: bold\">(</span><span style=\"color: #00ff00; text-decoration-color: #00ff00; font-weight: bold\">14:25</span> minutes<span style=\"font-weight: bold\">)</span>                                               <a href=\"file:///tmp/ipykernel_187379/617489973.py\" target=\"_blank\"><span style=\"color: #7f7f7f; text-decoration-color: #7f7f7f\">617489973.py</span></a><span style=\"color: #7f7f7f; text-decoration-color: #7f7f7f\">:</span><a href=\"file:///tmp/ipykernel_187379/617489973.py#12\" target=\"_blank\"><span style=\"color: #7f7f7f; text-decoration-color: #7f7f7f\">12</span></a>\n",
              "</pre>\n"
            ],
            "text/plain": [
              "\u001b[2;36m          \u001b[0m\u001b[2;36m \u001b[0m\u001b[34mINFO    \u001b[0m Running MCR5 done \u001b[1m(\u001b[0m\u001b[1;92m14:25\u001b[0m minutes\u001b[1m)\u001b[0m                                               \u001b]8;id=389920;file:///tmp/ipykernel_187379/617489973.py\u001b\\\u001b[2m617489973.py\u001b[0m\u001b]8;;\u001b\\\u001b[2m:\u001b[0m\u001b]8;id=374199;file:///tmp/ipykernel_187379/617489973.py#12\u001b\\\u001b[2m12\u001b[0m\u001b]8;;\u001b\\\n"
            ]
          },
          "metadata": {},
          "output_type": "display_data"
        },
        {
          "data": {
            "text/html": [
              "<pre style=\"white-space:pre;overflow-x:auto;line-height:normal;font-family:Menlo,'DejaVu Sans Mono',consolas,'Courier New',monospace\"><span style=\"color: #7fbfbf; text-decoration-color: #7fbfbf\">           </span><span style=\"color: #000080; text-decoration-color: #000080\">INFO    </span> Running MCR5 for bicycle_public_transport_7                                      <a href=\"file:///tmp/ipykernel_187379/617489973.py\" target=\"_blank\"><span style=\"color: #7f7f7f; text-decoration-color: #7f7f7f\">617489973.py</span></a><span style=\"color: #7f7f7f; text-decoration-color: #7f7f7f\">:</span><a href=\"file:///tmp/ipykernel_187379/617489973.py#2\" target=\"_blank\"><span style=\"color: #7f7f7f; text-decoration-color: #7f7f7f\">2</span></a>\n",
              "</pre>\n"
            ],
            "text/plain": [
              "\u001b[2;36m          \u001b[0m\u001b[2;36m \u001b[0m\u001b[34mINFO    \u001b[0m Running MCR5 for bicycle_public_transport_7                                      \u001b]8;id=157435;file:///tmp/ipykernel_187379/617489973.py\u001b\\\u001b[2m617489973.py\u001b[0m\u001b]8;;\u001b\\\u001b[2m:\u001b[0m\u001b]8;id=381184;file:///tmp/ipykernel_187379/617489973.py#2\u001b\\\u001b[2m2\u001b[0m\u001b]8;;\u001b\\\n"
            ]
          },
          "metadata": {},
          "output_type": "display_data"
        },
        {
          "data": {
            "text/html": [
              "<pre style=\"white-space:pre;overflow-x:auto;line-height:normal;font-family:Menlo,'DejaVu Sans Mono',consolas,'Courier New',monospace\"><span style=\"color: #7fbfbf; text-decoration-color: #7fbfbf\">           </span><span style=\"color: #000080; text-decoration-color: #000080\">INFO    </span> Loading config                                                                   <a href=\"file:///tmp/ipykernel_187379/617489973.py\" target=\"_blank\"><span style=\"color: #7f7f7f; text-decoration-color: #7f7f7f\">617489973.py</span></a><span style=\"color: #7f7f7f; text-decoration-color: #7f7f7f\">:</span><a href=\"file:///tmp/ipykernel_187379/617489973.py#4\" target=\"_blank\"><span style=\"color: #7f7f7f; text-decoration-color: #7f7f7f\">4</span></a>\n",
              "</pre>\n"
            ],
            "text/plain": [
              "\u001b[2;36m          \u001b[0m\u001b[2;36m \u001b[0m\u001b[34mINFO    \u001b[0m Loading config                                                                   \u001b]8;id=225911;file:///tmp/ipykernel_187379/617489973.py\u001b\\\u001b[2m617489973.py\u001b[0m\u001b]8;;\u001b\\\u001b[2m:\u001b[0m\u001b]8;id=719690;file:///tmp/ipykernel_187379/617489973.py#4\u001b\\\u001b[2m4\u001b[0m\u001b]8;;\u001b\\\n"
            ]
          },
          "metadata": {},
          "output_type": "display_data"
        },
        {
          "data": {
            "text/html": [
              "<pre style=\"white-space:pre;overflow-x:auto;line-height:normal;font-family:Menlo,'DejaVu Sans Mono',consolas,'Courier New',monospace\"><span style=\"color: #7fbfbf; text-decoration-color: #7fbfbf\">           </span><span style=\"color: #000080; text-decoration-color: #000080\">INFO    </span> Using existing OSM data                                                          <a href=\"file:///tmp/ipykernel_187379/617489973.py\" target=\"_blank\"><span style=\"color: #7f7f7f; text-decoration-color: #7f7f7f\">617489973.py</span></a><span style=\"color: #7f7f7f; text-decoration-color: #7f7f7f\">:</span><a href=\"file:///tmp/ipykernel_187379/617489973.py#4\" target=\"_blank\"><span style=\"color: #7f7f7f; text-decoration-color: #7f7f7f\">4</span></a>\n",
              "</pre>\n"
            ],
            "text/plain": [
              "\u001b[2;36m          \u001b[0m\u001b[2;36m \u001b[0m\u001b[34mINFO    \u001b[0m Using existing OSM data                                                          \u001b]8;id=280665;file:///tmp/ipykernel_187379/617489973.py\u001b\\\u001b[2m617489973.py\u001b[0m\u001b]8;;\u001b\\\u001b[2m:\u001b[0m\u001b]8;id=715239;file:///tmp/ipykernel_187379/617489973.py#4\u001b\\\u001b[2m4\u001b[0m\u001b]8;;\u001b\\\n"
            ]
          },
          "metadata": {},
          "output_type": "display_data"
        },
        {
          "data": {
            "text/html": [
              "<pre style=\"white-space:pre;overflow-x:auto;line-height:normal;font-family:Menlo,'DejaVu Sans Mono',consolas,'Courier New',monospace\"><span style=\"color: #7fbfbf; text-decoration-color: #7fbfbf\">           </span><span style=\"color: #000080; text-decoration-color: #000080\">INFO    </span> Loading OSM network from cache <span style=\"font-weight: bold\">(</span>walking<span style=\"font-weight: bold\">)</span>                                         <a href=\"file:///tmp/ipykernel_187379/617489973.py\" target=\"_blank\"><span style=\"color: #7f7f7f; text-decoration-color: #7f7f7f\">617489973.py</span></a><span style=\"color: #7f7f7f; text-decoration-color: #7f7f7f\">:</span><a href=\"file:///tmp/ipykernel_187379/617489973.py#4\" target=\"_blank\"><span style=\"color: #7f7f7f; text-decoration-color: #7f7f7f\">4</span></a>\n",
              "</pre>\n"
            ],
            "text/plain": [
              "\u001b[2;36m          \u001b[0m\u001b[2;36m \u001b[0m\u001b[34mINFO    \u001b[0m Loading OSM network from cache \u001b[1m(\u001b[0mwalking\u001b[1m)\u001b[0m                                         \u001b]8;id=242912;file:///tmp/ipykernel_187379/617489973.py\u001b\\\u001b[2m617489973.py\u001b[0m\u001b]8;;\u001b\\\u001b[2m:\u001b[0m\u001b]8;id=45911;file:///tmp/ipykernel_187379/617489973.py#4\u001b\\\u001b[2m4\u001b[0m\u001b]8;;\u001b\\\n"
            ]
          },
          "metadata": {},
          "output_type": "display_data"
        },
        {
          "data": {
            "text/html": [
              "<pre style=\"white-space:pre;overflow-x:auto;line-height:normal;font-family:Menlo,'DejaVu Sans Mono',consolas,'Courier New',monospace\"><span style=\"color: #7fbfbf; text-decoration-color: #7fbfbf\">[14:00:20] </span><span style=\"color: #000080; text-decoration-color: #000080\">INFO    </span> Using existing OSM data                                                          <a href=\"file:///tmp/ipykernel_187379/617489973.py\" target=\"_blank\"><span style=\"color: #7f7f7f; text-decoration-color: #7f7f7f\">617489973.py</span></a><span style=\"color: #7f7f7f; text-decoration-color: #7f7f7f\">:</span><a href=\"file:///tmp/ipykernel_187379/617489973.py#4\" target=\"_blank\"><span style=\"color: #7f7f7f; text-decoration-color: #7f7f7f\">4</span></a>\n",
              "</pre>\n"
            ],
            "text/plain": [
              "\u001b[2;36m[14:00:20]\u001b[0m\u001b[2;36m \u001b[0m\u001b[34mINFO    \u001b[0m Using existing OSM data                                                          \u001b]8;id=632070;file:///tmp/ipykernel_187379/617489973.py\u001b\\\u001b[2m617489973.py\u001b[0m\u001b]8;;\u001b\\\u001b[2m:\u001b[0m\u001b]8;id=811217;file:///tmp/ipykernel_187379/617489973.py#4\u001b\\\u001b[2m4\u001b[0m\u001b]8;;\u001b\\\n"
            ]
          },
          "metadata": {},
          "output_type": "display_data"
        },
        {
          "data": {
            "text/html": [
              "<pre style=\"white-space:pre;overflow-x:auto;line-height:normal;font-family:Menlo,'DejaVu Sans Mono',consolas,'Courier New',monospace\"><span style=\"color: #7fbfbf; text-decoration-color: #7fbfbf\">           </span><span style=\"color: #000080; text-decoration-color: #000080\">INFO    </span> Loading OSM network from cache <span style=\"font-weight: bold\">(</span>cycling<span style=\"font-weight: bold\">)</span>                                         <a href=\"file:///tmp/ipykernel_187379/617489973.py\" target=\"_blank\"><span style=\"color: #7f7f7f; text-decoration-color: #7f7f7f\">617489973.py</span></a><span style=\"color: #7f7f7f; text-decoration-color: #7f7f7f\">:</span><a href=\"file:///tmp/ipykernel_187379/617489973.py#4\" target=\"_blank\"><span style=\"color: #7f7f7f; text-decoration-color: #7f7f7f\">4</span></a>\n",
              "</pre>\n"
            ],
            "text/plain": [
              "\u001b[2;36m          \u001b[0m\u001b[2;36m \u001b[0m\u001b[34mINFO    \u001b[0m Loading OSM network from cache \u001b[1m(\u001b[0mcycling\u001b[1m)\u001b[0m                                         \u001b]8;id=870888;file:///tmp/ipykernel_187379/617489973.py\u001b\\\u001b[2m617489973.py\u001b[0m\u001b]8;;\u001b\\\u001b[2m:\u001b[0m\u001b]8;id=843185;file:///tmp/ipykernel_187379/617489973.py#4\u001b\\\u001b[2m4\u001b[0m\u001b]8;;\u001b\\\n"
            ]
          },
          "metadata": {},
          "output_type": "display_data"
        },
        {
          "data": {
            "text/html": [
              "<pre style=\"white-space:pre;overflow-x:auto;line-height:normal;font-family:Menlo,'DejaVu Sans Mono',consolas,'Courier New',monospace\"><span style=\"color: #7fbfbf; text-decoration-color: #7fbfbf\">[14:01:27] </span><span style=\"color: #000080; text-decoration-color: #000080\">INFO    </span> Fetching POI for runtime optimization                                         <a href=\"file:///home/moritz/dev/uni/mcr-py/notebooks/../src/command/step_config.py\" target=\"_blank\"><span style=\"color: #7f7f7f; text-decoration-color: #7f7f7f\">step_config.py</span></a><span style=\"color: #7f7f7f; text-decoration-color: #7f7f7f\">:</span><a href=\"file:///home/moritz/dev/uni/mcr-py/notebooks/../src/command/step_config.py#51\" target=\"_blank\"><span style=\"color: #7f7f7f; text-decoration-color: #7f7f7f\">51</span></a>\n",
              "</pre>\n"
            ],
            "text/plain": [
              "\u001b[2;36m[14:01:27]\u001b[0m\u001b[2;36m \u001b[0m\u001b[34mINFO    \u001b[0m Fetching POI for runtime optimization                                         \u001b]8;id=646825;file:///home/moritz/dev/uni/mcr-py/notebooks/../src/command/step_config.py\u001b\\\u001b[2mstep_config.py\u001b[0m\u001b]8;;\u001b\\\u001b[2m:\u001b[0m\u001b]8;id=794421;file:///home/moritz/dev/uni/mcr-py/notebooks/../src/command/step_config.py#51\u001b\\\u001b[2m51\u001b[0m\u001b]8;;\u001b\\\n"
            ]
          },
          "metadata": {},
          "output_type": "display_data"
        },
        {
          "data": {
            "text/html": [
              "<pre style=\"white-space:pre;overflow-x:auto;line-height:normal;font-family:Menlo,'DejaVu Sans Mono',consolas,'Courier New',monospace\"><span style=\"color: #7fbfbf; text-decoration-color: #7fbfbf\">           </span><span style=\"color: #000080; text-decoration-color: #000080\">INFO    </span> Fetching POI for runtime optimization done <span style=\"font-weight: bold\">(</span><span style=\"color: #008080; text-decoration-color: #008080; font-weight: bold\">0.23</span> seconds<span style=\"font-weight: bold\">)</span>                     <a href=\"file:///home/moritz/dev/uni/mcr-py/notebooks/../src/command/step_config.py\" target=\"_blank\"><span style=\"color: #7f7f7f; text-decoration-color: #7f7f7f\">step_config.py</span></a><span style=\"color: #7f7f7f; text-decoration-color: #7f7f7f\">:</span><a href=\"file:///home/moritz/dev/uni/mcr-py/notebooks/../src/command/step_config.py#51\" target=\"_blank\"><span style=\"color: #7f7f7f; text-decoration-color: #7f7f7f\">51</span></a>\n",
              "</pre>\n"
            ],
            "text/plain": [
              "\u001b[2;36m          \u001b[0m\u001b[2;36m \u001b[0m\u001b[34mINFO    \u001b[0m Fetching POI for runtime optimization done \u001b[1m(\u001b[0m\u001b[1;36m0.23\u001b[0m seconds\u001b[1m)\u001b[0m                     \u001b]8;id=531252;file:///home/moritz/dev/uni/mcr-py/notebooks/../src/command/step_config.py\u001b\\\u001b[2mstep_config.py\u001b[0m\u001b]8;;\u001b\\\u001b[2m:\u001b[0m\u001b]8;id=599551;file:///home/moritz/dev/uni/mcr-py/notebooks/../src/command/step_config.py#51\u001b\\\u001b[2m51\u001b[0m\u001b]8;;\u001b\\\n"
            ]
          },
          "metadata": {},
          "output_type": "display_data"
        },
        {
          "data": {
            "text/html": [
              "<pre style=\"white-space:pre;overflow-x:auto;line-height:normal;font-family:Menlo,'DejaVu Sans Mono',consolas,'Courier New',monospace\"><span style=\"color: #7fbfbf; text-decoration-color: #7fbfbf\">[14:02:35] </span><span style=\"color: #000080; text-decoration-color: #000080\">INFO    </span> Reading stops                                                           <a href=\"file:///home/moritz/dev/uni/mcr-py/notebooks/../src/package/mcr/steps/public_transport.py\" target=\"_blank\"><span style=\"color: #7f7f7f; text-decoration-color: #7f7f7f\">public_transport.py</span></a><span style=\"color: #7f7f7f; text-decoration-color: #7f7f7f\">:</span><a href=\"file:///home/moritz/dev/uni/mcr-py/notebooks/../src/package/mcr/steps/public_transport.py#144\" target=\"_blank\"><span style=\"color: #7f7f7f; text-decoration-color: #7f7f7f\">144</span></a>\n",
              "</pre>\n"
            ],
            "text/plain": [
              "\u001b[2;36m[14:02:35]\u001b[0m\u001b[2;36m \u001b[0m\u001b[34mINFO    \u001b[0m Reading stops                                                           \u001b]8;id=328776;file:///home/moritz/dev/uni/mcr-py/notebooks/../src/package/mcr/steps/public_transport.py\u001b\\\u001b[2mpublic_transport.py\u001b[0m\u001b]8;;\u001b\\\u001b[2m:\u001b[0m\u001b]8;id=801090;file:///home/moritz/dev/uni/mcr-py/notebooks/../src/package/mcr/steps/public_transport.py#144\u001b\\\u001b[2m144\u001b[0m\u001b]8;;\u001b\\\n"
            ]
          },
          "metadata": {},
          "output_type": "display_data"
        },
        {
          "data": {
            "text/html": [
              "<pre style=\"white-space:pre;overflow-x:auto;line-height:normal;font-family:Menlo,'DejaVu Sans Mono',consolas,'Courier New',monospace\"><span style=\"color: #7fbfbf; text-decoration-color: #7fbfbf\">           </span><span style=\"color: #000080; text-decoration-color: #000080\">INFO    </span> Reading stops done <span style=\"font-weight: bold\">(</span><span style=\"color: #008080; text-decoration-color: #008080; font-weight: bold\">0.33</span> seconds<span style=\"font-weight: bold\">)</span>                                       <a href=\"file:///home/moritz/dev/uni/mcr-py/notebooks/../src/package/mcr/steps/public_transport.py\" target=\"_blank\"><span style=\"color: #7f7f7f; text-decoration-color: #7f7f7f\">public_transport.py</span></a><span style=\"color: #7f7f7f; text-decoration-color: #7f7f7f\">:</span><a href=\"file:///home/moritz/dev/uni/mcr-py/notebooks/../src/package/mcr/steps/public_transport.py#144\" target=\"_blank\"><span style=\"color: #7f7f7f; text-decoration-color: #7f7f7f\">144</span></a>\n",
              "</pre>\n"
            ],
            "text/plain": [
              "\u001b[2;36m          \u001b[0m\u001b[2;36m \u001b[0m\u001b[34mINFO    \u001b[0m Reading stops done \u001b[1m(\u001b[0m\u001b[1;36m0.33\u001b[0m seconds\u001b[1m)\u001b[0m                                       \u001b]8;id=581614;file:///home/moritz/dev/uni/mcr-py/notebooks/../src/package/mcr/steps/public_transport.py\u001b\\\u001b[2mpublic_transport.py\u001b[0m\u001b]8;;\u001b\\\u001b[2m:\u001b[0m\u001b]8;id=538859;file:///home/moritz/dev/uni/mcr-py/notebooks/../src/package/mcr/steps/public_transport.py#144\u001b\\\u001b[2m144\u001b[0m\u001b]8;;\u001b\\\n"
            ]
          },
          "metadata": {},
          "output_type": "display_data"
        },
        {
          "data": {
            "text/html": [
              "<pre style=\"white-space:pre;overflow-x:auto;line-height:normal;font-family:Menlo,'DejaVu Sans Mono',consolas,'Courier New',monospace\"><span style=\"color: #7fbfbf; text-decoration-color: #7fbfbf\">[14:03:08] </span><span style=\"color: #000080; text-decoration-color: #000080\">INFO    </span> Loading config done <span style=\"font-weight: bold\">(</span><span style=\"color: #00ff00; text-decoration-color: #00ff00; font-weight: bold\">4:02</span> minutes<span style=\"font-weight: bold\">)</span>                                               <a href=\"file:///tmp/ipykernel_187379/617489973.py\" target=\"_blank\"><span style=\"color: #7f7f7f; text-decoration-color: #7f7f7f\">617489973.py</span></a><span style=\"color: #7f7f7f; text-decoration-color: #7f7f7f\">:</span><a href=\"file:///tmp/ipykernel_187379/617489973.py#4\" target=\"_blank\"><span style=\"color: #7f7f7f; text-decoration-color: #7f7f7f\">4</span></a>\n",
              "</pre>\n"
            ],
            "text/plain": [
              "\u001b[2;36m[14:03:08]\u001b[0m\u001b[2;36m \u001b[0m\u001b[34mINFO    \u001b[0m Loading config done \u001b[1m(\u001b[0m\u001b[1;92m4:02\u001b[0m minutes\u001b[1m)\u001b[0m                                               \u001b]8;id=303925;file:///tmp/ipykernel_187379/617489973.py\u001b\\\u001b[2m617489973.py\u001b[0m\u001b]8;;\u001b\\\u001b[2m:\u001b[0m\u001b]8;id=973469;file:///tmp/ipykernel_187379/617489973.py#4\u001b\\\u001b[2m4\u001b[0m\u001b]8;;\u001b\\\n"
            ]
          },
          "metadata": {},
          "output_type": "display_data"
        },
        {
          "data": {
            "text/html": [
              "<pre style=\"white-space:pre;overflow-x:auto;line-height:normal;font-family:Menlo,'DejaVu Sans Mono',consolas,'Courier New',monospace\"><span style=\"color: #7fbfbf; text-decoration-color: #7fbfbf\">[14:03:09] </span><span style=\"color: #000080; text-decoration-color: #000080\">INFO    </span> Running MCR5                                                                    <a href=\"file:///tmp/ipykernel_187379/617489973.py\" target=\"_blank\"><span style=\"color: #7f7f7f; text-decoration-color: #7f7f7f\">617489973.py</span></a><span style=\"color: #7f7f7f; text-decoration-color: #7f7f7f\">:</span><a href=\"file:///tmp/ipykernel_187379/617489973.py#12\" target=\"_blank\"><span style=\"color: #7f7f7f; text-decoration-color: #7f7f7f\">12</span></a>\n",
              "</pre>\n"
            ],
            "text/plain": [
              "\u001b[2;36m[14:03:09]\u001b[0m\u001b[2;36m \u001b[0m\u001b[34mINFO    \u001b[0m Running MCR5                                                                    \u001b]8;id=88632;file:///tmp/ipykernel_187379/617489973.py\u001b\\\u001b[2m617489973.py\u001b[0m\u001b]8;;\u001b\\\u001b[2m:\u001b[0m\u001b]8;id=43753;file:///tmp/ipykernel_187379/617489973.py#12\u001b\\\u001b[2m12\u001b[0m\u001b]8;;\u001b\\\n"
            ]
          },
          "metadata": {},
          "output_type": "display_data"
        },
        {
          "data": {
            "application/vnd.jupyter.widget-view+json": {
              "model_id": "32bd6382162d4bc18f8192befdf41cd0",
              "version_major": 2,
              "version_minor": 0
            },
            "text/plain": [
              "Starting:   0%|          | 0/1782 [00:00<?, ?it/s]"
            ]
          },
          "metadata": {},
          "output_type": "display_data"
        },
        {
          "data": {
            "text/html": [
              "<pre style=\"white-space:pre;overflow-x:auto;line-height:normal;font-family:Menlo,'DejaVu Sans Mono',consolas,'Courier New',monospace\"><span style=\"color: #7fbfbf; text-decoration-color: #7fbfbf\">[14:17:49] </span><span style=\"color: #000080; text-decoration-color: #000080\">INFO    </span> All processes finished.                                                         <a href=\"file:///tmp/ipykernel_187379/617489973.py\" target=\"_blank\"><span style=\"color: #7f7f7f; text-decoration-color: #7f7f7f\">617489973.py</span></a><span style=\"color: #7f7f7f; text-decoration-color: #7f7f7f\">:</span><a href=\"file:///tmp/ipykernel_187379/617489973.py#12\" target=\"_blank\"><span style=\"color: #7f7f7f; text-decoration-color: #7f7f7f\">12</span></a>\n",
              "</pre>\n"
            ],
            "text/plain": [
              "\u001b[2;36m[14:17:49]\u001b[0m\u001b[2;36m \u001b[0m\u001b[34mINFO    \u001b[0m All processes finished.                                                         \u001b]8;id=184401;file:///tmp/ipykernel_187379/617489973.py\u001b\\\u001b[2m617489973.py\u001b[0m\u001b]8;;\u001b\\\u001b[2m:\u001b[0m\u001b]8;id=483926;file:///tmp/ipykernel_187379/617489973.py#12\u001b\\\u001b[2m12\u001b[0m\u001b]8;;\u001b\\\n"
            ]
          },
          "metadata": {},
          "output_type": "display_data"
        },
        {
          "data": {
            "text/html": [
              "<pre style=\"white-space:pre;overflow-x:auto;line-height:normal;font-family:Menlo,'DejaVu Sans Mono',consolas,'Courier New',monospace\"><span style=\"color: #7fbfbf; text-decoration-color: #7fbfbf\">           </span><span style=\"color: #000080; text-decoration-color: #000080\">INFO    </span> Running MCR5 done <span style=\"font-weight: bold\">(</span><span style=\"color: #00ff00; text-decoration-color: #00ff00; font-weight: bold\">14:40</span> minutes<span style=\"font-weight: bold\">)</span>                                               <a href=\"file:///tmp/ipykernel_187379/617489973.py\" target=\"_blank\"><span style=\"color: #7f7f7f; text-decoration-color: #7f7f7f\">617489973.py</span></a><span style=\"color: #7f7f7f; text-decoration-color: #7f7f7f\">:</span><a href=\"file:///tmp/ipykernel_187379/617489973.py#12\" target=\"_blank\"><span style=\"color: #7f7f7f; text-decoration-color: #7f7f7f\">12</span></a>\n",
              "</pre>\n"
            ],
            "text/plain": [
              "\u001b[2;36m          \u001b[0m\u001b[2;36m \u001b[0m\u001b[34mINFO    \u001b[0m Running MCR5 done \u001b[1m(\u001b[0m\u001b[1;92m14:40\u001b[0m minutes\u001b[1m)\u001b[0m                                               \u001b]8;id=225146;file:///tmp/ipykernel_187379/617489973.py\u001b\\\u001b[2m617489973.py\u001b[0m\u001b]8;;\u001b\\\u001b[2m:\u001b[0m\u001b]8;id=349906;file:///tmp/ipykernel_187379/617489973.py#12\u001b\\\u001b[2m12\u001b[0m\u001b]8;;\u001b\\\n"
            ]
          },
          "metadata": {},
          "output_type": "display_data"
        },
        {
          "data": {
            "text/html": [
              "<pre style=\"white-space:pre;overflow-x:auto;line-height:normal;font-family:Menlo,'DejaVu Sans Mono',consolas,'Courier New',monospace\"><span style=\"color: #7fbfbf; text-decoration-color: #7fbfbf\">           </span><span style=\"color: #000080; text-decoration-color: #000080\">INFO    </span> Running MCR5 for bicycle_public_transport_8                                      <a href=\"file:///tmp/ipykernel_187379/617489973.py\" target=\"_blank\"><span style=\"color: #7f7f7f; text-decoration-color: #7f7f7f\">617489973.py</span></a><span style=\"color: #7f7f7f; text-decoration-color: #7f7f7f\">:</span><a href=\"file:///tmp/ipykernel_187379/617489973.py#2\" target=\"_blank\"><span style=\"color: #7f7f7f; text-decoration-color: #7f7f7f\">2</span></a>\n",
              "</pre>\n"
            ],
            "text/plain": [
              "\u001b[2;36m          \u001b[0m\u001b[2;36m \u001b[0m\u001b[34mINFO    \u001b[0m Running MCR5 for bicycle_public_transport_8                                      \u001b]8;id=470599;file:///tmp/ipykernel_187379/617489973.py\u001b\\\u001b[2m617489973.py\u001b[0m\u001b]8;;\u001b\\\u001b[2m:\u001b[0m\u001b]8;id=24395;file:///tmp/ipykernel_187379/617489973.py#2\u001b\\\u001b[2m2\u001b[0m\u001b]8;;\u001b\\\n"
            ]
          },
          "metadata": {},
          "output_type": "display_data"
        },
        {
          "data": {
            "text/html": [
              "<pre style=\"white-space:pre;overflow-x:auto;line-height:normal;font-family:Menlo,'DejaVu Sans Mono',consolas,'Courier New',monospace\"><span style=\"color: #7fbfbf; text-decoration-color: #7fbfbf\">           </span><span style=\"color: #000080; text-decoration-color: #000080\">INFO    </span> Loading config                                                                   <a href=\"file:///tmp/ipykernel_187379/617489973.py\" target=\"_blank\"><span style=\"color: #7f7f7f; text-decoration-color: #7f7f7f\">617489973.py</span></a><span style=\"color: #7f7f7f; text-decoration-color: #7f7f7f\">:</span><a href=\"file:///tmp/ipykernel_187379/617489973.py#4\" target=\"_blank\"><span style=\"color: #7f7f7f; text-decoration-color: #7f7f7f\">4</span></a>\n",
              "</pre>\n"
            ],
            "text/plain": [
              "\u001b[2;36m          \u001b[0m\u001b[2;36m \u001b[0m\u001b[34mINFO    \u001b[0m Loading config                                                                   \u001b]8;id=843054;file:///tmp/ipykernel_187379/617489973.py\u001b\\\u001b[2m617489973.py\u001b[0m\u001b]8;;\u001b\\\u001b[2m:\u001b[0m\u001b]8;id=333008;file:///tmp/ipykernel_187379/617489973.py#4\u001b\\\u001b[2m4\u001b[0m\u001b]8;;\u001b\\\n"
            ]
          },
          "metadata": {},
          "output_type": "display_data"
        },
        {
          "data": {
            "text/html": [
              "<pre style=\"white-space:pre;overflow-x:auto;line-height:normal;font-family:Menlo,'DejaVu Sans Mono',consolas,'Courier New',monospace\"><span style=\"color: #7fbfbf; text-decoration-color: #7fbfbf\">           </span><span style=\"color: #000080; text-decoration-color: #000080\">INFO    </span> Using existing OSM data                                                          <a href=\"file:///tmp/ipykernel_187379/617489973.py\" target=\"_blank\"><span style=\"color: #7f7f7f; text-decoration-color: #7f7f7f\">617489973.py</span></a><span style=\"color: #7f7f7f; text-decoration-color: #7f7f7f\">:</span><a href=\"file:///tmp/ipykernel_187379/617489973.py#4\" target=\"_blank\"><span style=\"color: #7f7f7f; text-decoration-color: #7f7f7f\">4</span></a>\n",
              "</pre>\n"
            ],
            "text/plain": [
              "\u001b[2;36m          \u001b[0m\u001b[2;36m \u001b[0m\u001b[34mINFO    \u001b[0m Using existing OSM data                                                          \u001b]8;id=639061;file:///tmp/ipykernel_187379/617489973.py\u001b\\\u001b[2m617489973.py\u001b[0m\u001b]8;;\u001b\\\u001b[2m:\u001b[0m\u001b]8;id=659174;file:///tmp/ipykernel_187379/617489973.py#4\u001b\\\u001b[2m4\u001b[0m\u001b]8;;\u001b\\\n"
            ]
          },
          "metadata": {},
          "output_type": "display_data"
        },
        {
          "data": {
            "text/html": [
              "<pre style=\"white-space:pre;overflow-x:auto;line-height:normal;font-family:Menlo,'DejaVu Sans Mono',consolas,'Courier New',monospace\"><span style=\"color: #7fbfbf; text-decoration-color: #7fbfbf\">           </span><span style=\"color: #000080; text-decoration-color: #000080\">INFO    </span> Loading OSM network from cache <span style=\"font-weight: bold\">(</span>walking<span style=\"font-weight: bold\">)</span>                                         <a href=\"file:///tmp/ipykernel_187379/617489973.py\" target=\"_blank\"><span style=\"color: #7f7f7f; text-decoration-color: #7f7f7f\">617489973.py</span></a><span style=\"color: #7f7f7f; text-decoration-color: #7f7f7f\">:</span><a href=\"file:///tmp/ipykernel_187379/617489973.py#4\" target=\"_blank\"><span style=\"color: #7f7f7f; text-decoration-color: #7f7f7f\">4</span></a>\n",
              "</pre>\n"
            ],
            "text/plain": [
              "\u001b[2;36m          \u001b[0m\u001b[2;36m \u001b[0m\u001b[34mINFO    \u001b[0m Loading OSM network from cache \u001b[1m(\u001b[0mwalking\u001b[1m)\u001b[0m                                         \u001b]8;id=998121;file:///tmp/ipykernel_187379/617489973.py\u001b\\\u001b[2m617489973.py\u001b[0m\u001b]8;;\u001b\\\u001b[2m:\u001b[0m\u001b]8;id=200323;file:///tmp/ipykernel_187379/617489973.py#4\u001b\\\u001b[2m4\u001b[0m\u001b]8;;\u001b\\\n"
            ]
          },
          "metadata": {},
          "output_type": "display_data"
        },
        {
          "data": {
            "text/html": [
              "<pre style=\"white-space:pre;overflow-x:auto;line-height:normal;font-family:Menlo,'DejaVu Sans Mono',consolas,'Courier New',monospace\"><span style=\"color: #7fbfbf; text-decoration-color: #7fbfbf\">[14:19:05] </span><span style=\"color: #000080; text-decoration-color: #000080\">INFO    </span> Using existing OSM data                                                          <a href=\"file:///tmp/ipykernel_187379/617489973.py\" target=\"_blank\"><span style=\"color: #7f7f7f; text-decoration-color: #7f7f7f\">617489973.py</span></a><span style=\"color: #7f7f7f; text-decoration-color: #7f7f7f\">:</span><a href=\"file:///tmp/ipykernel_187379/617489973.py#4\" target=\"_blank\"><span style=\"color: #7f7f7f; text-decoration-color: #7f7f7f\">4</span></a>\n",
              "</pre>\n"
            ],
            "text/plain": [
              "\u001b[2;36m[14:19:05]\u001b[0m\u001b[2;36m \u001b[0m\u001b[34mINFO    \u001b[0m Using existing OSM data                                                          \u001b]8;id=705667;file:///tmp/ipykernel_187379/617489973.py\u001b\\\u001b[2m617489973.py\u001b[0m\u001b]8;;\u001b\\\u001b[2m:\u001b[0m\u001b]8;id=107454;file:///tmp/ipykernel_187379/617489973.py#4\u001b\\\u001b[2m4\u001b[0m\u001b]8;;\u001b\\\n"
            ]
          },
          "metadata": {},
          "output_type": "display_data"
        },
        {
          "data": {
            "text/html": [
              "<pre style=\"white-space:pre;overflow-x:auto;line-height:normal;font-family:Menlo,'DejaVu Sans Mono',consolas,'Courier New',monospace\"><span style=\"color: #7fbfbf; text-decoration-color: #7fbfbf\">           </span><span style=\"color: #000080; text-decoration-color: #000080\">INFO    </span> Loading OSM network from cache <span style=\"font-weight: bold\">(</span>cycling<span style=\"font-weight: bold\">)</span>                                         <a href=\"file:///tmp/ipykernel_187379/617489973.py\" target=\"_blank\"><span style=\"color: #7f7f7f; text-decoration-color: #7f7f7f\">617489973.py</span></a><span style=\"color: #7f7f7f; text-decoration-color: #7f7f7f\">:</span><a href=\"file:///tmp/ipykernel_187379/617489973.py#4\" target=\"_blank\"><span style=\"color: #7f7f7f; text-decoration-color: #7f7f7f\">4</span></a>\n",
              "</pre>\n"
            ],
            "text/plain": [
              "\u001b[2;36m          \u001b[0m\u001b[2;36m \u001b[0m\u001b[34mINFO    \u001b[0m Loading OSM network from cache \u001b[1m(\u001b[0mcycling\u001b[1m)\u001b[0m                                         \u001b]8;id=385440;file:///tmp/ipykernel_187379/617489973.py\u001b\\\u001b[2m617489973.py\u001b[0m\u001b]8;;\u001b\\\u001b[2m:\u001b[0m\u001b]8;id=959391;file:///tmp/ipykernel_187379/617489973.py#4\u001b\\\u001b[2m4\u001b[0m\u001b]8;;\u001b\\\n"
            ]
          },
          "metadata": {},
          "output_type": "display_data"
        },
        {
          "data": {
            "text/html": [
              "<pre style=\"white-space:pre;overflow-x:auto;line-height:normal;font-family:Menlo,'DejaVu Sans Mono',consolas,'Courier New',monospace\"><span style=\"color: #7fbfbf; text-decoration-color: #7fbfbf\">[14:20:13] </span><span style=\"color: #000080; text-decoration-color: #000080\">INFO    </span> Fetching POI for runtime optimization                                         <a href=\"file:///home/moritz/dev/uni/mcr-py/notebooks/../src/command/step_config.py\" target=\"_blank\"><span style=\"color: #7f7f7f; text-decoration-color: #7f7f7f\">step_config.py</span></a><span style=\"color: #7f7f7f; text-decoration-color: #7f7f7f\">:</span><a href=\"file:///home/moritz/dev/uni/mcr-py/notebooks/../src/command/step_config.py#51\" target=\"_blank\"><span style=\"color: #7f7f7f; text-decoration-color: #7f7f7f\">51</span></a>\n",
              "</pre>\n"
            ],
            "text/plain": [
              "\u001b[2;36m[14:20:13]\u001b[0m\u001b[2;36m \u001b[0m\u001b[34mINFO    \u001b[0m Fetching POI for runtime optimization                                         \u001b]8;id=634147;file:///home/moritz/dev/uni/mcr-py/notebooks/../src/command/step_config.py\u001b\\\u001b[2mstep_config.py\u001b[0m\u001b]8;;\u001b\\\u001b[2m:\u001b[0m\u001b]8;id=70867;file:///home/moritz/dev/uni/mcr-py/notebooks/../src/command/step_config.py#51\u001b\\\u001b[2m51\u001b[0m\u001b]8;;\u001b\\\n"
            ]
          },
          "metadata": {},
          "output_type": "display_data"
        },
        {
          "data": {
            "text/html": [
              "<pre style=\"white-space:pre;overflow-x:auto;line-height:normal;font-family:Menlo,'DejaVu Sans Mono',consolas,'Courier New',monospace\"><span style=\"color: #7fbfbf; text-decoration-color: #7fbfbf\">           </span><span style=\"color: #000080; text-decoration-color: #000080\">INFO    </span> Fetching POI for runtime optimization done <span style=\"font-weight: bold\">(</span><span style=\"color: #008080; text-decoration-color: #008080; font-weight: bold\">0.07</span> seconds<span style=\"font-weight: bold\">)</span>                     <a href=\"file:///home/moritz/dev/uni/mcr-py/notebooks/../src/command/step_config.py\" target=\"_blank\"><span style=\"color: #7f7f7f; text-decoration-color: #7f7f7f\">step_config.py</span></a><span style=\"color: #7f7f7f; text-decoration-color: #7f7f7f\">:</span><a href=\"file:///home/moritz/dev/uni/mcr-py/notebooks/../src/command/step_config.py#51\" target=\"_blank\"><span style=\"color: #7f7f7f; text-decoration-color: #7f7f7f\">51</span></a>\n",
              "</pre>\n"
            ],
            "text/plain": [
              "\u001b[2;36m          \u001b[0m\u001b[2;36m \u001b[0m\u001b[34mINFO    \u001b[0m Fetching POI for runtime optimization done \u001b[1m(\u001b[0m\u001b[1;36m0.07\u001b[0m seconds\u001b[1m)\u001b[0m                     \u001b]8;id=530166;file:///home/moritz/dev/uni/mcr-py/notebooks/../src/command/step_config.py\u001b\\\u001b[2mstep_config.py\u001b[0m\u001b]8;;\u001b\\\u001b[2m:\u001b[0m\u001b]8;id=82583;file:///home/moritz/dev/uni/mcr-py/notebooks/../src/command/step_config.py#51\u001b\\\u001b[2m51\u001b[0m\u001b]8;;\u001b\\\n"
            ]
          },
          "metadata": {},
          "output_type": "display_data"
        },
        {
          "data": {
            "text/html": [
              "<pre style=\"white-space:pre;overflow-x:auto;line-height:normal;font-family:Menlo,'DejaVu Sans Mono',consolas,'Courier New',monospace\"><span style=\"color: #7fbfbf; text-decoration-color: #7fbfbf\">[14:21:22] </span><span style=\"color: #000080; text-decoration-color: #000080\">INFO    </span> Reading stops                                                           <a href=\"file:///home/moritz/dev/uni/mcr-py/notebooks/../src/package/mcr/steps/public_transport.py\" target=\"_blank\"><span style=\"color: #7f7f7f; text-decoration-color: #7f7f7f\">public_transport.py</span></a><span style=\"color: #7f7f7f; text-decoration-color: #7f7f7f\">:</span><a href=\"file:///home/moritz/dev/uni/mcr-py/notebooks/../src/package/mcr/steps/public_transport.py#144\" target=\"_blank\"><span style=\"color: #7f7f7f; text-decoration-color: #7f7f7f\">144</span></a>\n",
              "</pre>\n"
            ],
            "text/plain": [
              "\u001b[2;36m[14:21:22]\u001b[0m\u001b[2;36m \u001b[0m\u001b[34mINFO    \u001b[0m Reading stops                                                           \u001b]8;id=912524;file:///home/moritz/dev/uni/mcr-py/notebooks/../src/package/mcr/steps/public_transport.py\u001b\\\u001b[2mpublic_transport.py\u001b[0m\u001b]8;;\u001b\\\u001b[2m:\u001b[0m\u001b]8;id=201549;file:///home/moritz/dev/uni/mcr-py/notebooks/../src/package/mcr/steps/public_transport.py#144\u001b\\\u001b[2m144\u001b[0m\u001b]8;;\u001b\\\n"
            ]
          },
          "metadata": {},
          "output_type": "display_data"
        },
        {
          "data": {
            "text/html": [
              "<pre style=\"white-space:pre;overflow-x:auto;line-height:normal;font-family:Menlo,'DejaVu Sans Mono',consolas,'Courier New',monospace\"><span style=\"color: #7fbfbf; text-decoration-color: #7fbfbf\">[14:21:23] </span><span style=\"color: #000080; text-decoration-color: #000080\">INFO    </span> Reading stops done <span style=\"font-weight: bold\">(</span><span style=\"color: #008080; text-decoration-color: #008080; font-weight: bold\">0.87</span> seconds<span style=\"font-weight: bold\">)</span>                                       <a href=\"file:///home/moritz/dev/uni/mcr-py/notebooks/../src/package/mcr/steps/public_transport.py\" target=\"_blank\"><span style=\"color: #7f7f7f; text-decoration-color: #7f7f7f\">public_transport.py</span></a><span style=\"color: #7f7f7f; text-decoration-color: #7f7f7f\">:</span><a href=\"file:///home/moritz/dev/uni/mcr-py/notebooks/../src/package/mcr/steps/public_transport.py#144\" target=\"_blank\"><span style=\"color: #7f7f7f; text-decoration-color: #7f7f7f\">144</span></a>\n",
              "</pre>\n"
            ],
            "text/plain": [
              "\u001b[2;36m[14:21:23]\u001b[0m\u001b[2;36m \u001b[0m\u001b[34mINFO    \u001b[0m Reading stops done \u001b[1m(\u001b[0m\u001b[1;36m0.87\u001b[0m seconds\u001b[1m)\u001b[0m                                       \u001b]8;id=407404;file:///home/moritz/dev/uni/mcr-py/notebooks/../src/package/mcr/steps/public_transport.py\u001b\\\u001b[2mpublic_transport.py\u001b[0m\u001b]8;;\u001b\\\u001b[2m:\u001b[0m\u001b]8;id=859009;file:///home/moritz/dev/uni/mcr-py/notebooks/../src/package/mcr/steps/public_transport.py#144\u001b\\\u001b[2m144\u001b[0m\u001b]8;;\u001b\\\n"
            ]
          },
          "metadata": {},
          "output_type": "display_data"
        },
        {
          "data": {
            "text/html": [
              "<pre style=\"white-space:pre;overflow-x:auto;line-height:normal;font-family:Menlo,'DejaVu Sans Mono',consolas,'Courier New',monospace\"><span style=\"color: #7fbfbf; text-decoration-color: #7fbfbf\">[14:21:56] </span><span style=\"color: #000080; text-decoration-color: #000080\">INFO    </span> Loading config done <span style=\"font-weight: bold\">(</span><span style=\"color: #00ff00; text-decoration-color: #00ff00; font-weight: bold\">4:06</span> minutes<span style=\"font-weight: bold\">)</span>                                               <a href=\"file:///tmp/ipykernel_187379/617489973.py\" target=\"_blank\"><span style=\"color: #7f7f7f; text-decoration-color: #7f7f7f\">617489973.py</span></a><span style=\"color: #7f7f7f; text-decoration-color: #7f7f7f\">:</span><a href=\"file:///tmp/ipykernel_187379/617489973.py#4\" target=\"_blank\"><span style=\"color: #7f7f7f; text-decoration-color: #7f7f7f\">4</span></a>\n",
              "</pre>\n"
            ],
            "text/plain": [
              "\u001b[2;36m[14:21:56]\u001b[0m\u001b[2;36m \u001b[0m\u001b[34mINFO    \u001b[0m Loading config done \u001b[1m(\u001b[0m\u001b[1;92m4:06\u001b[0m minutes\u001b[1m)\u001b[0m                                               \u001b]8;id=535860;file:///tmp/ipykernel_187379/617489973.py\u001b\\\u001b[2m617489973.py\u001b[0m\u001b]8;;\u001b\\\u001b[2m:\u001b[0m\u001b]8;id=744344;file:///tmp/ipykernel_187379/617489973.py#4\u001b\\\u001b[2m4\u001b[0m\u001b]8;;\u001b\\\n"
            ]
          },
          "metadata": {},
          "output_type": "display_data"
        },
        {
          "data": {
            "text/html": [
              "<pre style=\"white-space:pre;overflow-x:auto;line-height:normal;font-family:Menlo,'DejaVu Sans Mono',consolas,'Courier New',monospace\"><span style=\"color: #7fbfbf; text-decoration-color: #7fbfbf\">           </span><span style=\"color: #000080; text-decoration-color: #000080\">INFO    </span> Running MCR5                                                                    <a href=\"file:///tmp/ipykernel_187379/617489973.py\" target=\"_blank\"><span style=\"color: #7f7f7f; text-decoration-color: #7f7f7f\">617489973.py</span></a><span style=\"color: #7f7f7f; text-decoration-color: #7f7f7f\">:</span><a href=\"file:///tmp/ipykernel_187379/617489973.py#12\" target=\"_blank\"><span style=\"color: #7f7f7f; text-decoration-color: #7f7f7f\">12</span></a>\n",
              "</pre>\n"
            ],
            "text/plain": [
              "\u001b[2;36m          \u001b[0m\u001b[2;36m \u001b[0m\u001b[34mINFO    \u001b[0m Running MCR5                                                                    \u001b]8;id=716277;file:///tmp/ipykernel_187379/617489973.py\u001b\\\u001b[2m617489973.py\u001b[0m\u001b]8;;\u001b\\\u001b[2m:\u001b[0m\u001b]8;id=91850;file:///tmp/ipykernel_187379/617489973.py#12\u001b\\\u001b[2m12\u001b[0m\u001b]8;;\u001b\\\n"
            ]
          },
          "metadata": {},
          "output_type": "display_data"
        },
        {
          "data": {
            "application/vnd.jupyter.widget-view+json": {
              "model_id": "4e2f076a88854d09b1810aeefa50a248",
              "version_major": 2,
              "version_minor": 0
            },
            "text/plain": [
              "Starting:   0%|          | 0/1782 [00:00<?, ?it/s]"
            ]
          },
          "metadata": {},
          "output_type": "display_data"
        },
        {
          "data": {
            "text/html": [
              "<pre style=\"white-space:pre;overflow-x:auto;line-height:normal;font-family:Menlo,'DejaVu Sans Mono',consolas,'Courier New',monospace\"><span style=\"color: #7fbfbf; text-decoration-color: #7fbfbf\">[14:38:45] </span><span style=\"color: #000080; text-decoration-color: #000080\">INFO    </span> All processes finished.                                                         <a href=\"file:///tmp/ipykernel_187379/617489973.py\" target=\"_blank\"><span style=\"color: #7f7f7f; text-decoration-color: #7f7f7f\">617489973.py</span></a><span style=\"color: #7f7f7f; text-decoration-color: #7f7f7f\">:</span><a href=\"file:///tmp/ipykernel_187379/617489973.py#12\" target=\"_blank\"><span style=\"color: #7f7f7f; text-decoration-color: #7f7f7f\">12</span></a>\n",
              "</pre>\n"
            ],
            "text/plain": [
              "\u001b[2;36m[14:38:45]\u001b[0m\u001b[2;36m \u001b[0m\u001b[34mINFO    \u001b[0m All processes finished.                                                         \u001b]8;id=308413;file:///tmp/ipykernel_187379/617489973.py\u001b\\\u001b[2m617489973.py\u001b[0m\u001b]8;;\u001b\\\u001b[2m:\u001b[0m\u001b]8;id=151882;file:///tmp/ipykernel_187379/617489973.py#12\u001b\\\u001b[2m12\u001b[0m\u001b]8;;\u001b\\\n"
            ]
          },
          "metadata": {},
          "output_type": "display_data"
        },
        {
          "data": {
            "text/html": [
              "<pre style=\"white-space:pre;overflow-x:auto;line-height:normal;font-family:Menlo,'DejaVu Sans Mono',consolas,'Courier New',monospace\"><span style=\"color: #7fbfbf; text-decoration-color: #7fbfbf\">           </span><span style=\"color: #000080; text-decoration-color: #000080\">INFO    </span> Running MCR5 done <span style=\"font-weight: bold\">(</span><span style=\"color: #00ff00; text-decoration-color: #00ff00; font-weight: bold\">16:49</span> minutes<span style=\"font-weight: bold\">)</span>                                               <a href=\"file:///tmp/ipykernel_187379/617489973.py\" target=\"_blank\"><span style=\"color: #7f7f7f; text-decoration-color: #7f7f7f\">617489973.py</span></a><span style=\"color: #7f7f7f; text-decoration-color: #7f7f7f\">:</span><a href=\"file:///tmp/ipykernel_187379/617489973.py#12\" target=\"_blank\"><span style=\"color: #7f7f7f; text-decoration-color: #7f7f7f\">12</span></a>\n",
              "</pre>\n"
            ],
            "text/plain": [
              "\u001b[2;36m          \u001b[0m\u001b[2;36m \u001b[0m\u001b[34mINFO    \u001b[0m Running MCR5 done \u001b[1m(\u001b[0m\u001b[1;92m16:49\u001b[0m minutes\u001b[1m)\u001b[0m                                               \u001b]8;id=757104;file:///tmp/ipykernel_187379/617489973.py\u001b\\\u001b[2m617489973.py\u001b[0m\u001b]8;;\u001b\\\u001b[2m:\u001b[0m\u001b]8;id=519434;file:///tmp/ipykernel_187379/617489973.py#12\u001b\\\u001b[2m12\u001b[0m\u001b]8;;\u001b\\\n"
            ]
          },
          "metadata": {},
          "output_type": "display_data"
        },
        {
          "data": {
            "text/html": [
              "<pre style=\"white-space:pre;overflow-x:auto;line-height:normal;font-family:Menlo,'DejaVu Sans Mono',consolas,'Courier New',monospace\"><span style=\"color: #7fbfbf; text-decoration-color: #7fbfbf\">           </span><span style=\"color: #000080; text-decoration-color: #000080\">INFO    </span> Running MCR5 for bicycle_public_transport_9                                      <a href=\"file:///tmp/ipykernel_187379/617489973.py\" target=\"_blank\"><span style=\"color: #7f7f7f; text-decoration-color: #7f7f7f\">617489973.py</span></a><span style=\"color: #7f7f7f; text-decoration-color: #7f7f7f\">:</span><a href=\"file:///tmp/ipykernel_187379/617489973.py#2\" target=\"_blank\"><span style=\"color: #7f7f7f; text-decoration-color: #7f7f7f\">2</span></a>\n",
              "</pre>\n"
            ],
            "text/plain": [
              "\u001b[2;36m          \u001b[0m\u001b[2;36m \u001b[0m\u001b[34mINFO    \u001b[0m Running MCR5 for bicycle_public_transport_9                                      \u001b]8;id=910094;file:///tmp/ipykernel_187379/617489973.py\u001b\\\u001b[2m617489973.py\u001b[0m\u001b]8;;\u001b\\\u001b[2m:\u001b[0m\u001b]8;id=100296;file:///tmp/ipykernel_187379/617489973.py#2\u001b\\\u001b[2m2\u001b[0m\u001b]8;;\u001b\\\n"
            ]
          },
          "metadata": {},
          "output_type": "display_data"
        },
        {
          "data": {
            "text/html": [
              "<pre style=\"white-space:pre;overflow-x:auto;line-height:normal;font-family:Menlo,'DejaVu Sans Mono',consolas,'Courier New',monospace\"><span style=\"color: #7fbfbf; text-decoration-color: #7fbfbf\">           </span><span style=\"color: #000080; text-decoration-color: #000080\">INFO    </span> Loading config                                                                   <a href=\"file:///tmp/ipykernel_187379/617489973.py\" target=\"_blank\"><span style=\"color: #7f7f7f; text-decoration-color: #7f7f7f\">617489973.py</span></a><span style=\"color: #7f7f7f; text-decoration-color: #7f7f7f\">:</span><a href=\"file:///tmp/ipykernel_187379/617489973.py#4\" target=\"_blank\"><span style=\"color: #7f7f7f; text-decoration-color: #7f7f7f\">4</span></a>\n",
              "</pre>\n"
            ],
            "text/plain": [
              "\u001b[2;36m          \u001b[0m\u001b[2;36m \u001b[0m\u001b[34mINFO    \u001b[0m Loading config                                                                   \u001b]8;id=325108;file:///tmp/ipykernel_187379/617489973.py\u001b\\\u001b[2m617489973.py\u001b[0m\u001b]8;;\u001b\\\u001b[2m:\u001b[0m\u001b]8;id=417416;file:///tmp/ipykernel_187379/617489973.py#4\u001b\\\u001b[2m4\u001b[0m\u001b]8;;\u001b\\\n"
            ]
          },
          "metadata": {},
          "output_type": "display_data"
        },
        {
          "data": {
            "text/html": [
              "<pre style=\"white-space:pre;overflow-x:auto;line-height:normal;font-family:Menlo,'DejaVu Sans Mono',consolas,'Courier New',monospace\"><span style=\"color: #7fbfbf; text-decoration-color: #7fbfbf\">           </span><span style=\"color: #000080; text-decoration-color: #000080\">INFO    </span> Using existing OSM data                                                          <a href=\"file:///tmp/ipykernel_187379/617489973.py\" target=\"_blank\"><span style=\"color: #7f7f7f; text-decoration-color: #7f7f7f\">617489973.py</span></a><span style=\"color: #7f7f7f; text-decoration-color: #7f7f7f\">:</span><a href=\"file:///tmp/ipykernel_187379/617489973.py#4\" target=\"_blank\"><span style=\"color: #7f7f7f; text-decoration-color: #7f7f7f\">4</span></a>\n",
              "</pre>\n"
            ],
            "text/plain": [
              "\u001b[2;36m          \u001b[0m\u001b[2;36m \u001b[0m\u001b[34mINFO    \u001b[0m Using existing OSM data                                                          \u001b]8;id=21495;file:///tmp/ipykernel_187379/617489973.py\u001b\\\u001b[2m617489973.py\u001b[0m\u001b]8;;\u001b\\\u001b[2m:\u001b[0m\u001b]8;id=714902;file:///tmp/ipykernel_187379/617489973.py#4\u001b\\\u001b[2m4\u001b[0m\u001b]8;;\u001b\\\n"
            ]
          },
          "metadata": {},
          "output_type": "display_data"
        },
        {
          "data": {
            "text/html": [
              "<pre style=\"white-space:pre;overflow-x:auto;line-height:normal;font-family:Menlo,'DejaVu Sans Mono',consolas,'Courier New',monospace\"><span style=\"color: #7fbfbf; text-decoration-color: #7fbfbf\">           </span><span style=\"color: #000080; text-decoration-color: #000080\">INFO    </span> Loading OSM network from cache <span style=\"font-weight: bold\">(</span>walking<span style=\"font-weight: bold\">)</span>                                         <a href=\"file:///tmp/ipykernel_187379/617489973.py\" target=\"_blank\"><span style=\"color: #7f7f7f; text-decoration-color: #7f7f7f\">617489973.py</span></a><span style=\"color: #7f7f7f; text-decoration-color: #7f7f7f\">:</span><a href=\"file:///tmp/ipykernel_187379/617489973.py#4\" target=\"_blank\"><span style=\"color: #7f7f7f; text-decoration-color: #7f7f7f\">4</span></a>\n",
              "</pre>\n"
            ],
            "text/plain": [
              "\u001b[2;36m          \u001b[0m\u001b[2;36m \u001b[0m\u001b[34mINFO    \u001b[0m Loading OSM network from cache \u001b[1m(\u001b[0mwalking\u001b[1m)\u001b[0m                                         \u001b]8;id=682532;file:///tmp/ipykernel_187379/617489973.py\u001b\\\u001b[2m617489973.py\u001b[0m\u001b]8;;\u001b\\\u001b[2m:\u001b[0m\u001b]8;id=452413;file:///tmp/ipykernel_187379/617489973.py#4\u001b\\\u001b[2m4\u001b[0m\u001b]8;;\u001b\\\n"
            ]
          },
          "metadata": {},
          "output_type": "display_data"
        },
        {
          "data": {
            "text/html": [
              "<pre style=\"white-space:pre;overflow-x:auto;line-height:normal;font-family:Menlo,'DejaVu Sans Mono',consolas,'Courier New',monospace\"><span style=\"color: #7fbfbf; text-decoration-color: #7fbfbf\">[14:40:27] </span><span style=\"color: #000080; text-decoration-color: #000080\">INFO    </span> Using existing OSM data                                                          <a href=\"file:///tmp/ipykernel_187379/617489973.py\" target=\"_blank\"><span style=\"color: #7f7f7f; text-decoration-color: #7f7f7f\">617489973.py</span></a><span style=\"color: #7f7f7f; text-decoration-color: #7f7f7f\">:</span><a href=\"file:///tmp/ipykernel_187379/617489973.py#4\" target=\"_blank\"><span style=\"color: #7f7f7f; text-decoration-color: #7f7f7f\">4</span></a>\n",
              "</pre>\n"
            ],
            "text/plain": [
              "\u001b[2;36m[14:40:27]\u001b[0m\u001b[2;36m \u001b[0m\u001b[34mINFO    \u001b[0m Using existing OSM data                                                          \u001b]8;id=640740;file:///tmp/ipykernel_187379/617489973.py\u001b\\\u001b[2m617489973.py\u001b[0m\u001b]8;;\u001b\\\u001b[2m:\u001b[0m\u001b]8;id=593591;file:///tmp/ipykernel_187379/617489973.py#4\u001b\\\u001b[2m4\u001b[0m\u001b]8;;\u001b\\\n"
            ]
          },
          "metadata": {},
          "output_type": "display_data"
        },
        {
          "data": {
            "text/html": [
              "<pre style=\"white-space:pre;overflow-x:auto;line-height:normal;font-family:Menlo,'DejaVu Sans Mono',consolas,'Courier New',monospace\"><span style=\"color: #7fbfbf; text-decoration-color: #7fbfbf\">           </span><span style=\"color: #000080; text-decoration-color: #000080\">INFO    </span> Loading OSM network from cache <span style=\"font-weight: bold\">(</span>cycling<span style=\"font-weight: bold\">)</span>                                         <a href=\"file:///tmp/ipykernel_187379/617489973.py\" target=\"_blank\"><span style=\"color: #7f7f7f; text-decoration-color: #7f7f7f\">617489973.py</span></a><span style=\"color: #7f7f7f; text-decoration-color: #7f7f7f\">:</span><a href=\"file:///tmp/ipykernel_187379/617489973.py#4\" target=\"_blank\"><span style=\"color: #7f7f7f; text-decoration-color: #7f7f7f\">4</span></a>\n",
              "</pre>\n"
            ],
            "text/plain": [
              "\u001b[2;36m          \u001b[0m\u001b[2;36m \u001b[0m\u001b[34mINFO    \u001b[0m Loading OSM network from cache \u001b[1m(\u001b[0mcycling\u001b[1m)\u001b[0m                                         \u001b]8;id=378408;file:///tmp/ipykernel_187379/617489973.py\u001b\\\u001b[2m617489973.py\u001b[0m\u001b]8;;\u001b\\\u001b[2m:\u001b[0m\u001b]8;id=804459;file:///tmp/ipykernel_187379/617489973.py#4\u001b\\\u001b[2m4\u001b[0m\u001b]8;;\u001b\\\n"
            ]
          },
          "metadata": {},
          "output_type": "display_data"
        },
        {
          "data": {
            "text/html": [
              "<pre style=\"white-space:pre;overflow-x:auto;line-height:normal;font-family:Menlo,'DejaVu Sans Mono',consolas,'Courier New',monospace\"><span style=\"color: #7fbfbf; text-decoration-color: #7fbfbf\">[14:41:43] </span><span style=\"color: #000080; text-decoration-color: #000080\">INFO    </span> Fetching POI for runtime optimization                                         <a href=\"file:///home/moritz/dev/uni/mcr-py/notebooks/../src/command/step_config.py\" target=\"_blank\"><span style=\"color: #7f7f7f; text-decoration-color: #7f7f7f\">step_config.py</span></a><span style=\"color: #7f7f7f; text-decoration-color: #7f7f7f\">:</span><a href=\"file:///home/moritz/dev/uni/mcr-py/notebooks/../src/command/step_config.py#51\" target=\"_blank\"><span style=\"color: #7f7f7f; text-decoration-color: #7f7f7f\">51</span></a>\n",
              "</pre>\n"
            ],
            "text/plain": [
              "\u001b[2;36m[14:41:43]\u001b[0m\u001b[2;36m \u001b[0m\u001b[34mINFO    \u001b[0m Fetching POI for runtime optimization                                         \u001b]8;id=381581;file:///home/moritz/dev/uni/mcr-py/notebooks/../src/command/step_config.py\u001b\\\u001b[2mstep_config.py\u001b[0m\u001b]8;;\u001b\\\u001b[2m:\u001b[0m\u001b]8;id=219925;file:///home/moritz/dev/uni/mcr-py/notebooks/../src/command/step_config.py#51\u001b\\\u001b[2m51\u001b[0m\u001b]8;;\u001b\\\n"
            ]
          },
          "metadata": {},
          "output_type": "display_data"
        },
        {
          "data": {
            "text/html": [
              "<pre style=\"white-space:pre;overflow-x:auto;line-height:normal;font-family:Menlo,'DejaVu Sans Mono',consolas,'Courier New',monospace\"><span style=\"color: #7fbfbf; text-decoration-color: #7fbfbf\">           </span><span style=\"color: #000080; text-decoration-color: #000080\">INFO    </span> Fetching POI for runtime optimization done <span style=\"font-weight: bold\">(</span><span style=\"color: #008080; text-decoration-color: #008080; font-weight: bold\">0.07</span> seconds<span style=\"font-weight: bold\">)</span>                     <a href=\"file:///home/moritz/dev/uni/mcr-py/notebooks/../src/command/step_config.py\" target=\"_blank\"><span style=\"color: #7f7f7f; text-decoration-color: #7f7f7f\">step_config.py</span></a><span style=\"color: #7f7f7f; text-decoration-color: #7f7f7f\">:</span><a href=\"file:///home/moritz/dev/uni/mcr-py/notebooks/../src/command/step_config.py#51\" target=\"_blank\"><span style=\"color: #7f7f7f; text-decoration-color: #7f7f7f\">51</span></a>\n",
              "</pre>\n"
            ],
            "text/plain": [
              "\u001b[2;36m          \u001b[0m\u001b[2;36m \u001b[0m\u001b[34mINFO    \u001b[0m Fetching POI for runtime optimization done \u001b[1m(\u001b[0m\u001b[1;36m0.07\u001b[0m seconds\u001b[1m)\u001b[0m                     \u001b]8;id=349864;file:///home/moritz/dev/uni/mcr-py/notebooks/../src/command/step_config.py\u001b\\\u001b[2mstep_config.py\u001b[0m\u001b]8;;\u001b\\\u001b[2m:\u001b[0m\u001b]8;id=710805;file:///home/moritz/dev/uni/mcr-py/notebooks/../src/command/step_config.py#51\u001b\\\u001b[2m51\u001b[0m\u001b]8;;\u001b\\\n"
            ]
          },
          "metadata": {},
          "output_type": "display_data"
        },
        {
          "data": {
            "text/html": [
              "<pre style=\"white-space:pre;overflow-x:auto;line-height:normal;font-family:Menlo,'DejaVu Sans Mono',consolas,'Courier New',monospace\"><span style=\"color: #7fbfbf; text-decoration-color: #7fbfbf\">[14:42:56] </span><span style=\"color: #000080; text-decoration-color: #000080\">INFO    </span> Reading stops                                                           <a href=\"file:///home/moritz/dev/uni/mcr-py/notebooks/../src/package/mcr/steps/public_transport.py\" target=\"_blank\"><span style=\"color: #7f7f7f; text-decoration-color: #7f7f7f\">public_transport.py</span></a><span style=\"color: #7f7f7f; text-decoration-color: #7f7f7f\">:</span><a href=\"file:///home/moritz/dev/uni/mcr-py/notebooks/../src/package/mcr/steps/public_transport.py#144\" target=\"_blank\"><span style=\"color: #7f7f7f; text-decoration-color: #7f7f7f\">144</span></a>\n",
              "</pre>\n"
            ],
            "text/plain": [
              "\u001b[2;36m[14:42:56]\u001b[0m\u001b[2;36m \u001b[0m\u001b[34mINFO    \u001b[0m Reading stops                                                           \u001b]8;id=821966;file:///home/moritz/dev/uni/mcr-py/notebooks/../src/package/mcr/steps/public_transport.py\u001b\\\u001b[2mpublic_transport.py\u001b[0m\u001b]8;;\u001b\\\u001b[2m:\u001b[0m\u001b]8;id=9201;file:///home/moritz/dev/uni/mcr-py/notebooks/../src/package/mcr/steps/public_transport.py#144\u001b\\\u001b[2m144\u001b[0m\u001b]8;;\u001b\\\n"
            ]
          },
          "metadata": {},
          "output_type": "display_data"
        },
        {
          "data": {
            "text/html": [
              "<pre style=\"white-space:pre;overflow-x:auto;line-height:normal;font-family:Menlo,'DejaVu Sans Mono',consolas,'Courier New',monospace\"><span style=\"color: #7fbfbf; text-decoration-color: #7fbfbf\">           </span><span style=\"color: #000080; text-decoration-color: #000080\">INFO    </span> Reading stops done <span style=\"font-weight: bold\">(</span><span style=\"color: #008080; text-decoration-color: #008080; font-weight: bold\">0.42</span> seconds<span style=\"font-weight: bold\">)</span>                                       <a href=\"file:///home/moritz/dev/uni/mcr-py/notebooks/../src/package/mcr/steps/public_transport.py\" target=\"_blank\"><span style=\"color: #7f7f7f; text-decoration-color: #7f7f7f\">public_transport.py</span></a><span style=\"color: #7f7f7f; text-decoration-color: #7f7f7f\">:</span><a href=\"file:///home/moritz/dev/uni/mcr-py/notebooks/../src/package/mcr/steps/public_transport.py#144\" target=\"_blank\"><span style=\"color: #7f7f7f; text-decoration-color: #7f7f7f\">144</span></a>\n",
              "</pre>\n"
            ],
            "text/plain": [
              "\u001b[2;36m          \u001b[0m\u001b[2;36m \u001b[0m\u001b[34mINFO    \u001b[0m Reading stops done \u001b[1m(\u001b[0m\u001b[1;36m0.42\u001b[0m seconds\u001b[1m)\u001b[0m                                       \u001b]8;id=721449;file:///home/moritz/dev/uni/mcr-py/notebooks/../src/package/mcr/steps/public_transport.py\u001b\\\u001b[2mpublic_transport.py\u001b[0m\u001b]8;;\u001b\\\u001b[2m:\u001b[0m\u001b]8;id=331224;file:///home/moritz/dev/uni/mcr-py/notebooks/../src/package/mcr/steps/public_transport.py#144\u001b\\\u001b[2m144\u001b[0m\u001b]8;;\u001b\\\n"
            ]
          },
          "metadata": {},
          "output_type": "display_data"
        },
        {
          "data": {
            "text/html": [
              "<pre style=\"white-space:pre;overflow-x:auto;line-height:normal;font-family:Menlo,'DejaVu Sans Mono',consolas,'Courier New',monospace\"><span style=\"color: #7fbfbf; text-decoration-color: #7fbfbf\">[14:43:42] </span><span style=\"color: #000080; text-decoration-color: #000080\">INFO    </span> Loading config done <span style=\"font-weight: bold\">(</span><span style=\"color: #00ff00; text-decoration-color: #00ff00; font-weight: bold\">4:56</span> minutes<span style=\"font-weight: bold\">)</span>                                               <a href=\"file:///tmp/ipykernel_187379/617489973.py\" target=\"_blank\"><span style=\"color: #7f7f7f; text-decoration-color: #7f7f7f\">617489973.py</span></a><span style=\"color: #7f7f7f; text-decoration-color: #7f7f7f\">:</span><a href=\"file:///tmp/ipykernel_187379/617489973.py#4\" target=\"_blank\"><span style=\"color: #7f7f7f; text-decoration-color: #7f7f7f\">4</span></a>\n",
              "</pre>\n"
            ],
            "text/plain": [
              "\u001b[2;36m[14:43:42]\u001b[0m\u001b[2;36m \u001b[0m\u001b[34mINFO    \u001b[0m Loading config done \u001b[1m(\u001b[0m\u001b[1;92m4:56\u001b[0m minutes\u001b[1m)\u001b[0m                                               \u001b]8;id=439578;file:///tmp/ipykernel_187379/617489973.py\u001b\\\u001b[2m617489973.py\u001b[0m\u001b]8;;\u001b\\\u001b[2m:\u001b[0m\u001b]8;id=477561;file:///tmp/ipykernel_187379/617489973.py#4\u001b\\\u001b[2m4\u001b[0m\u001b]8;;\u001b\\\n"
            ]
          },
          "metadata": {},
          "output_type": "display_data"
        },
        {
          "data": {
            "text/html": [
              "<pre style=\"white-space:pre;overflow-x:auto;line-height:normal;font-family:Menlo,'DejaVu Sans Mono',consolas,'Courier New',monospace\"><span style=\"color: #7fbfbf; text-decoration-color: #7fbfbf\">           </span><span style=\"color: #000080; text-decoration-color: #000080\">INFO    </span> Running MCR5                                                                    <a href=\"file:///tmp/ipykernel_187379/617489973.py\" target=\"_blank\"><span style=\"color: #7f7f7f; text-decoration-color: #7f7f7f\">617489973.py</span></a><span style=\"color: #7f7f7f; text-decoration-color: #7f7f7f\">:</span><a href=\"file:///tmp/ipykernel_187379/617489973.py#12\" target=\"_blank\"><span style=\"color: #7f7f7f; text-decoration-color: #7f7f7f\">12</span></a>\n",
              "</pre>\n"
            ],
            "text/plain": [
              "\u001b[2;36m          \u001b[0m\u001b[2;36m \u001b[0m\u001b[34mINFO    \u001b[0m Running MCR5                                                                    \u001b]8;id=269314;file:///tmp/ipykernel_187379/617489973.py\u001b\\\u001b[2m617489973.py\u001b[0m\u001b]8;;\u001b\\\u001b[2m:\u001b[0m\u001b]8;id=568304;file:///tmp/ipykernel_187379/617489973.py#12\u001b\\\u001b[2m12\u001b[0m\u001b]8;;\u001b\\\n"
            ]
          },
          "metadata": {},
          "output_type": "display_data"
        },
        {
          "data": {
            "application/vnd.jupyter.widget-view+json": {
              "model_id": "6b49ea975b1249e3aacf10d191b4e379",
              "version_major": 2,
              "version_minor": 0
            },
            "text/plain": [
              "Starting:   0%|          | 0/1782 [00:00<?, ?it/s]"
            ]
          },
          "metadata": {},
          "output_type": "display_data"
        },
        {
          "data": {
            "text/html": [
              "<pre style=\"white-space:pre;overflow-x:auto;line-height:normal;font-family:Menlo,'DejaVu Sans Mono',consolas,'Courier New',monospace\"><span style=\"color: #7fbfbf; text-decoration-color: #7fbfbf\">[15:01:54] </span><span style=\"color: #000080; text-decoration-color: #000080\">INFO    </span> All processes finished.                                                         <a href=\"file:///tmp/ipykernel_187379/617489973.py\" target=\"_blank\"><span style=\"color: #7f7f7f; text-decoration-color: #7f7f7f\">617489973.py</span></a><span style=\"color: #7f7f7f; text-decoration-color: #7f7f7f\">:</span><a href=\"file:///tmp/ipykernel_187379/617489973.py#12\" target=\"_blank\"><span style=\"color: #7f7f7f; text-decoration-color: #7f7f7f\">12</span></a>\n",
              "</pre>\n"
            ],
            "text/plain": [
              "\u001b[2;36m[15:01:54]\u001b[0m\u001b[2;36m \u001b[0m\u001b[34mINFO    \u001b[0m All processes finished.                                                         \u001b]8;id=790343;file:///tmp/ipykernel_187379/617489973.py\u001b\\\u001b[2m617489973.py\u001b[0m\u001b]8;;\u001b\\\u001b[2m:\u001b[0m\u001b]8;id=445234;file:///tmp/ipykernel_187379/617489973.py#12\u001b\\\u001b[2m12\u001b[0m\u001b]8;;\u001b\\\n"
            ]
          },
          "metadata": {},
          "output_type": "display_data"
        },
        {
          "data": {
            "text/html": [
              "<pre style=\"white-space:pre;overflow-x:auto;line-height:normal;font-family:Menlo,'DejaVu Sans Mono',consolas,'Courier New',monospace\"><span style=\"color: #7fbfbf; text-decoration-color: #7fbfbf\">           </span><span style=\"color: #000080; text-decoration-color: #000080\">INFO    </span> Running MCR5 done <span style=\"font-weight: bold\">(</span><span style=\"color: #00ff00; text-decoration-color: #00ff00; font-weight: bold\">18:12</span> minutes<span style=\"font-weight: bold\">)</span>                                               <a href=\"file:///tmp/ipykernel_187379/617489973.py\" target=\"_blank\"><span style=\"color: #7f7f7f; text-decoration-color: #7f7f7f\">617489973.py</span></a><span style=\"color: #7f7f7f; text-decoration-color: #7f7f7f\">:</span><a href=\"file:///tmp/ipykernel_187379/617489973.py#12\" target=\"_blank\"><span style=\"color: #7f7f7f; text-decoration-color: #7f7f7f\">12</span></a>\n",
              "</pre>\n"
            ],
            "text/plain": [
              "\u001b[2;36m          \u001b[0m\u001b[2;36m \u001b[0m\u001b[34mINFO    \u001b[0m Running MCR5 done \u001b[1m(\u001b[0m\u001b[1;92m18:12\u001b[0m minutes\u001b[1m)\u001b[0m                                               \u001b]8;id=972458;file:///tmp/ipykernel_187379/617489973.py\u001b\\\u001b[2m617489973.py\u001b[0m\u001b]8;;\u001b\\\u001b[2m:\u001b[0m\u001b]8;id=831538;file:///tmp/ipykernel_187379/617489973.py#12\u001b\\\u001b[2m12\u001b[0m\u001b]8;;\u001b\\\n"
            ]
          },
          "metadata": {},
          "output_type": "display_data"
        },
        {
          "data": {
            "text/html": [
              "<pre style=\"white-space:pre;overflow-x:auto;line-height:normal;font-family:Menlo,'DejaVu Sans Mono',consolas,'Courier New',monospace\"><span style=\"color: #7fbfbf; text-decoration-color: #7fbfbf\">           </span><span style=\"color: #000080; text-decoration-color: #000080\">INFO    </span> Running MCR5 for bicycle_public_transport_10                                     <a href=\"file:///tmp/ipykernel_187379/617489973.py\" target=\"_blank\"><span style=\"color: #7f7f7f; text-decoration-color: #7f7f7f\">617489973.py</span></a><span style=\"color: #7f7f7f; text-decoration-color: #7f7f7f\">:</span><a href=\"file:///tmp/ipykernel_187379/617489973.py#2\" target=\"_blank\"><span style=\"color: #7f7f7f; text-decoration-color: #7f7f7f\">2</span></a>\n",
              "</pre>\n"
            ],
            "text/plain": [
              "\u001b[2;36m          \u001b[0m\u001b[2;36m \u001b[0m\u001b[34mINFO    \u001b[0m Running MCR5 for bicycle_public_transport_10                                     \u001b]8;id=805932;file:///tmp/ipykernel_187379/617489973.py\u001b\\\u001b[2m617489973.py\u001b[0m\u001b]8;;\u001b\\\u001b[2m:\u001b[0m\u001b]8;id=13416;file:///tmp/ipykernel_187379/617489973.py#2\u001b\\\u001b[2m2\u001b[0m\u001b]8;;\u001b\\\n"
            ]
          },
          "metadata": {},
          "output_type": "display_data"
        },
        {
          "data": {
            "text/html": [
              "<pre style=\"white-space:pre;overflow-x:auto;line-height:normal;font-family:Menlo,'DejaVu Sans Mono',consolas,'Courier New',monospace\"><span style=\"color: #7fbfbf; text-decoration-color: #7fbfbf\">           </span><span style=\"color: #000080; text-decoration-color: #000080\">INFO    </span> Loading config                                                                   <a href=\"file:///tmp/ipykernel_187379/617489973.py\" target=\"_blank\"><span style=\"color: #7f7f7f; text-decoration-color: #7f7f7f\">617489973.py</span></a><span style=\"color: #7f7f7f; text-decoration-color: #7f7f7f\">:</span><a href=\"file:///tmp/ipykernel_187379/617489973.py#4\" target=\"_blank\"><span style=\"color: #7f7f7f; text-decoration-color: #7f7f7f\">4</span></a>\n",
              "</pre>\n"
            ],
            "text/plain": [
              "\u001b[2;36m          \u001b[0m\u001b[2;36m \u001b[0m\u001b[34mINFO    \u001b[0m Loading config                                                                   \u001b]8;id=972795;file:///tmp/ipykernel_187379/617489973.py\u001b\\\u001b[2m617489973.py\u001b[0m\u001b]8;;\u001b\\\u001b[2m:\u001b[0m\u001b]8;id=399413;file:///tmp/ipykernel_187379/617489973.py#4\u001b\\\u001b[2m4\u001b[0m\u001b]8;;\u001b\\\n"
            ]
          },
          "metadata": {},
          "output_type": "display_data"
        },
        {
          "data": {
            "text/html": [
              "<pre style=\"white-space:pre;overflow-x:auto;line-height:normal;font-family:Menlo,'DejaVu Sans Mono',consolas,'Courier New',monospace\"><span style=\"color: #7fbfbf; text-decoration-color: #7fbfbf\">           </span><span style=\"color: #000080; text-decoration-color: #000080\">INFO    </span> Using existing OSM data                                                          <a href=\"file:///tmp/ipykernel_187379/617489973.py\" target=\"_blank\"><span style=\"color: #7f7f7f; text-decoration-color: #7f7f7f\">617489973.py</span></a><span style=\"color: #7f7f7f; text-decoration-color: #7f7f7f\">:</span><a href=\"file:///tmp/ipykernel_187379/617489973.py#4\" target=\"_blank\"><span style=\"color: #7f7f7f; text-decoration-color: #7f7f7f\">4</span></a>\n",
              "</pre>\n"
            ],
            "text/plain": [
              "\u001b[2;36m          \u001b[0m\u001b[2;36m \u001b[0m\u001b[34mINFO    \u001b[0m Using existing OSM data                                                          \u001b]8;id=782208;file:///tmp/ipykernel_187379/617489973.py\u001b\\\u001b[2m617489973.py\u001b[0m\u001b]8;;\u001b\\\u001b[2m:\u001b[0m\u001b]8;id=562338;file:///tmp/ipykernel_187379/617489973.py#4\u001b\\\u001b[2m4\u001b[0m\u001b]8;;\u001b\\\n"
            ]
          },
          "metadata": {},
          "output_type": "display_data"
        },
        {
          "data": {
            "text/html": [
              "<pre style=\"white-space:pre;overflow-x:auto;line-height:normal;font-family:Menlo,'DejaVu Sans Mono',consolas,'Courier New',monospace\"><span style=\"color: #7fbfbf; text-decoration-color: #7fbfbf\">           </span><span style=\"color: #000080; text-decoration-color: #000080\">INFO    </span> Loading OSM network from cache <span style=\"font-weight: bold\">(</span>walking<span style=\"font-weight: bold\">)</span>                                         <a href=\"file:///tmp/ipykernel_187379/617489973.py\" target=\"_blank\"><span style=\"color: #7f7f7f; text-decoration-color: #7f7f7f\">617489973.py</span></a><span style=\"color: #7f7f7f; text-decoration-color: #7f7f7f\">:</span><a href=\"file:///tmp/ipykernel_187379/617489973.py#4\" target=\"_blank\"><span style=\"color: #7f7f7f; text-decoration-color: #7f7f7f\">4</span></a>\n",
              "</pre>\n"
            ],
            "text/plain": [
              "\u001b[2;36m          \u001b[0m\u001b[2;36m \u001b[0m\u001b[34mINFO    \u001b[0m Loading OSM network from cache \u001b[1m(\u001b[0mwalking\u001b[1m)\u001b[0m                                         \u001b]8;id=164644;file:///tmp/ipykernel_187379/617489973.py\u001b\\\u001b[2m617489973.py\u001b[0m\u001b]8;;\u001b\\\u001b[2m:\u001b[0m\u001b]8;id=395091;file:///tmp/ipykernel_187379/617489973.py#4\u001b\\\u001b[2m4\u001b[0m\u001b]8;;\u001b\\\n"
            ]
          },
          "metadata": {},
          "output_type": "display_data"
        },
        {
          "data": {
            "text/html": [
              "<pre style=\"white-space:pre;overflow-x:auto;line-height:normal;font-family:Menlo,'DejaVu Sans Mono',consolas,'Courier New',monospace\"><span style=\"color: #7fbfbf; text-decoration-color: #7fbfbf\">[15:03:34] </span><span style=\"color: #000080; text-decoration-color: #000080\">INFO    </span> Using existing OSM data                                                          <a href=\"file:///tmp/ipykernel_187379/617489973.py\" target=\"_blank\"><span style=\"color: #7f7f7f; text-decoration-color: #7f7f7f\">617489973.py</span></a><span style=\"color: #7f7f7f; text-decoration-color: #7f7f7f\">:</span><a href=\"file:///tmp/ipykernel_187379/617489973.py#4\" target=\"_blank\"><span style=\"color: #7f7f7f; text-decoration-color: #7f7f7f\">4</span></a>\n",
              "</pre>\n"
            ],
            "text/plain": [
              "\u001b[2;36m[15:03:34]\u001b[0m\u001b[2;36m \u001b[0m\u001b[34mINFO    \u001b[0m Using existing OSM data                                                          \u001b]8;id=501584;file:///tmp/ipykernel_187379/617489973.py\u001b\\\u001b[2m617489973.py\u001b[0m\u001b]8;;\u001b\\\u001b[2m:\u001b[0m\u001b]8;id=407411;file:///tmp/ipykernel_187379/617489973.py#4\u001b\\\u001b[2m4\u001b[0m\u001b]8;;\u001b\\\n"
            ]
          },
          "metadata": {},
          "output_type": "display_data"
        },
        {
          "data": {
            "text/html": [
              "<pre style=\"white-space:pre;overflow-x:auto;line-height:normal;font-family:Menlo,'DejaVu Sans Mono',consolas,'Courier New',monospace\"><span style=\"color: #7fbfbf; text-decoration-color: #7fbfbf\">           </span><span style=\"color: #000080; text-decoration-color: #000080\">INFO    </span> Loading OSM network from cache <span style=\"font-weight: bold\">(</span>cycling<span style=\"font-weight: bold\">)</span>                                         <a href=\"file:///tmp/ipykernel_187379/617489973.py\" target=\"_blank\"><span style=\"color: #7f7f7f; text-decoration-color: #7f7f7f\">617489973.py</span></a><span style=\"color: #7f7f7f; text-decoration-color: #7f7f7f\">:</span><a href=\"file:///tmp/ipykernel_187379/617489973.py#4\" target=\"_blank\"><span style=\"color: #7f7f7f; text-decoration-color: #7f7f7f\">4</span></a>\n",
              "</pre>\n"
            ],
            "text/plain": [
              "\u001b[2;36m          \u001b[0m\u001b[2;36m \u001b[0m\u001b[34mINFO    \u001b[0m Loading OSM network from cache \u001b[1m(\u001b[0mcycling\u001b[1m)\u001b[0m                                         \u001b]8;id=598960;file:///tmp/ipykernel_187379/617489973.py\u001b\\\u001b[2m617489973.py\u001b[0m\u001b]8;;\u001b\\\u001b[2m:\u001b[0m\u001b]8;id=810741;file:///tmp/ipykernel_187379/617489973.py#4\u001b\\\u001b[2m4\u001b[0m\u001b]8;;\u001b\\\n"
            ]
          },
          "metadata": {},
          "output_type": "display_data"
        },
        {
          "data": {
            "text/html": [
              "<pre style=\"white-space:pre;overflow-x:auto;line-height:normal;font-family:Menlo,'DejaVu Sans Mono',consolas,'Courier New',monospace\"><span style=\"color: #7fbfbf; text-decoration-color: #7fbfbf\">[15:04:50] </span><span style=\"color: #000080; text-decoration-color: #000080\">INFO    </span> Fetching POI for runtime optimization                                         <a href=\"file:///home/moritz/dev/uni/mcr-py/notebooks/../src/command/step_config.py\" target=\"_blank\"><span style=\"color: #7f7f7f; text-decoration-color: #7f7f7f\">step_config.py</span></a><span style=\"color: #7f7f7f; text-decoration-color: #7f7f7f\">:</span><a href=\"file:///home/moritz/dev/uni/mcr-py/notebooks/../src/command/step_config.py#51\" target=\"_blank\"><span style=\"color: #7f7f7f; text-decoration-color: #7f7f7f\">51</span></a>\n",
              "</pre>\n"
            ],
            "text/plain": [
              "\u001b[2;36m[15:04:50]\u001b[0m\u001b[2;36m \u001b[0m\u001b[34mINFO    \u001b[0m Fetching POI for runtime optimization                                         \u001b]8;id=628622;file:///home/moritz/dev/uni/mcr-py/notebooks/../src/command/step_config.py\u001b\\\u001b[2mstep_config.py\u001b[0m\u001b]8;;\u001b\\\u001b[2m:\u001b[0m\u001b]8;id=350139;file:///home/moritz/dev/uni/mcr-py/notebooks/../src/command/step_config.py#51\u001b\\\u001b[2m51\u001b[0m\u001b]8;;\u001b\\\n"
            ]
          },
          "metadata": {},
          "output_type": "display_data"
        },
        {
          "data": {
            "text/html": [
              "<pre style=\"white-space:pre;overflow-x:auto;line-height:normal;font-family:Menlo,'DejaVu Sans Mono',consolas,'Courier New',monospace\"><span style=\"color: #7fbfbf; text-decoration-color: #7fbfbf\">           </span><span style=\"color: #000080; text-decoration-color: #000080\">INFO    </span> Fetching POI for runtime optimization done <span style=\"font-weight: bold\">(</span><span style=\"color: #008080; text-decoration-color: #008080; font-weight: bold\">0.13</span> seconds<span style=\"font-weight: bold\">)</span>                     <a href=\"file:///home/moritz/dev/uni/mcr-py/notebooks/../src/command/step_config.py\" target=\"_blank\"><span style=\"color: #7f7f7f; text-decoration-color: #7f7f7f\">step_config.py</span></a><span style=\"color: #7f7f7f; text-decoration-color: #7f7f7f\">:</span><a href=\"file:///home/moritz/dev/uni/mcr-py/notebooks/../src/command/step_config.py#51\" target=\"_blank\"><span style=\"color: #7f7f7f; text-decoration-color: #7f7f7f\">51</span></a>\n",
              "</pre>\n"
            ],
            "text/plain": [
              "\u001b[2;36m          \u001b[0m\u001b[2;36m \u001b[0m\u001b[34mINFO    \u001b[0m Fetching POI for runtime optimization done \u001b[1m(\u001b[0m\u001b[1;36m0.13\u001b[0m seconds\u001b[1m)\u001b[0m                     \u001b]8;id=831939;file:///home/moritz/dev/uni/mcr-py/notebooks/../src/command/step_config.py\u001b\\\u001b[2mstep_config.py\u001b[0m\u001b]8;;\u001b\\\u001b[2m:\u001b[0m\u001b]8;id=87805;file:///home/moritz/dev/uni/mcr-py/notebooks/../src/command/step_config.py#51\u001b\\\u001b[2m51\u001b[0m\u001b]8;;\u001b\\\n"
            ]
          },
          "metadata": {},
          "output_type": "display_data"
        },
        {
          "data": {
            "text/html": [
              "<pre style=\"white-space:pre;overflow-x:auto;line-height:normal;font-family:Menlo,'DejaVu Sans Mono',consolas,'Courier New',monospace\"><span style=\"color: #7fbfbf; text-decoration-color: #7fbfbf\">[15:06:04] </span><span style=\"color: #000080; text-decoration-color: #000080\">INFO    </span> Reading stops                                                           <a href=\"file:///home/moritz/dev/uni/mcr-py/notebooks/../src/package/mcr/steps/public_transport.py\" target=\"_blank\"><span style=\"color: #7f7f7f; text-decoration-color: #7f7f7f\">public_transport.py</span></a><span style=\"color: #7f7f7f; text-decoration-color: #7f7f7f\">:</span><a href=\"file:///home/moritz/dev/uni/mcr-py/notebooks/../src/package/mcr/steps/public_transport.py#144\" target=\"_blank\"><span style=\"color: #7f7f7f; text-decoration-color: #7f7f7f\">144</span></a>\n",
              "</pre>\n"
            ],
            "text/plain": [
              "\u001b[2;36m[15:06:04]\u001b[0m\u001b[2;36m \u001b[0m\u001b[34mINFO    \u001b[0m Reading stops                                                           \u001b]8;id=931682;file:///home/moritz/dev/uni/mcr-py/notebooks/../src/package/mcr/steps/public_transport.py\u001b\\\u001b[2mpublic_transport.py\u001b[0m\u001b]8;;\u001b\\\u001b[2m:\u001b[0m\u001b]8;id=730913;file:///home/moritz/dev/uni/mcr-py/notebooks/../src/package/mcr/steps/public_transport.py#144\u001b\\\u001b[2m144\u001b[0m\u001b]8;;\u001b\\\n"
            ]
          },
          "metadata": {},
          "output_type": "display_data"
        },
        {
          "data": {
            "text/html": [
              "<pre style=\"white-space:pre;overflow-x:auto;line-height:normal;font-family:Menlo,'DejaVu Sans Mono',consolas,'Courier New',monospace\"><span style=\"color: #7fbfbf; text-decoration-color: #7fbfbf\">[15:06:05] </span><span style=\"color: #000080; text-decoration-color: #000080\">INFO    </span> Reading stops done <span style=\"font-weight: bold\">(</span><span style=\"color: #008080; text-decoration-color: #008080; font-weight: bold\">0.97</span> seconds<span style=\"font-weight: bold\">)</span>                                       <a href=\"file:///home/moritz/dev/uni/mcr-py/notebooks/../src/package/mcr/steps/public_transport.py\" target=\"_blank\"><span style=\"color: #7f7f7f; text-decoration-color: #7f7f7f\">public_transport.py</span></a><span style=\"color: #7f7f7f; text-decoration-color: #7f7f7f\">:</span><a href=\"file:///home/moritz/dev/uni/mcr-py/notebooks/../src/package/mcr/steps/public_transport.py#144\" target=\"_blank\"><span style=\"color: #7f7f7f; text-decoration-color: #7f7f7f\">144</span></a>\n",
              "</pre>\n"
            ],
            "text/plain": [
              "\u001b[2;36m[15:06:05]\u001b[0m\u001b[2;36m \u001b[0m\u001b[34mINFO    \u001b[0m Reading stops done \u001b[1m(\u001b[0m\u001b[1;36m0.97\u001b[0m seconds\u001b[1m)\u001b[0m                                       \u001b]8;id=220542;file:///home/moritz/dev/uni/mcr-py/notebooks/../src/package/mcr/steps/public_transport.py\u001b\\\u001b[2mpublic_transport.py\u001b[0m\u001b]8;;\u001b\\\u001b[2m:\u001b[0m\u001b]8;id=612293;file:///home/moritz/dev/uni/mcr-py/notebooks/../src/package/mcr/steps/public_transport.py#144\u001b\\\u001b[2m144\u001b[0m\u001b]8;;\u001b\\\n"
            ]
          },
          "metadata": {},
          "output_type": "display_data"
        },
        {
          "data": {
            "text/html": [
              "<pre style=\"white-space:pre;overflow-x:auto;line-height:normal;font-family:Menlo,'DejaVu Sans Mono',consolas,'Courier New',monospace\"><span style=\"color: #7fbfbf; text-decoration-color: #7fbfbf\">[15:07:25] </span><span style=\"color: #000080; text-decoration-color: #000080\">INFO    </span> Loading config done <span style=\"font-weight: bold\">(</span><span style=\"color: #00ff00; text-decoration-color: #00ff00; font-weight: bold\">5:31</span> minutes<span style=\"font-weight: bold\">)</span>                                               <a href=\"file:///tmp/ipykernel_187379/617489973.py\" target=\"_blank\"><span style=\"color: #7f7f7f; text-decoration-color: #7f7f7f\">617489973.py</span></a><span style=\"color: #7f7f7f; text-decoration-color: #7f7f7f\">:</span><a href=\"file:///tmp/ipykernel_187379/617489973.py#4\" target=\"_blank\"><span style=\"color: #7f7f7f; text-decoration-color: #7f7f7f\">4</span></a>\n",
              "</pre>\n"
            ],
            "text/plain": [
              "\u001b[2;36m[15:07:25]\u001b[0m\u001b[2;36m \u001b[0m\u001b[34mINFO    \u001b[0m Loading config done \u001b[1m(\u001b[0m\u001b[1;92m5:31\u001b[0m minutes\u001b[1m)\u001b[0m                                               \u001b]8;id=281155;file:///tmp/ipykernel_187379/617489973.py\u001b\\\u001b[2m617489973.py\u001b[0m\u001b]8;;\u001b\\\u001b[2m:\u001b[0m\u001b]8;id=506964;file:///tmp/ipykernel_187379/617489973.py#4\u001b\\\u001b[2m4\u001b[0m\u001b]8;;\u001b\\\n"
            ]
          },
          "metadata": {},
          "output_type": "display_data"
        },
        {
          "data": {
            "text/html": [
              "<pre style=\"white-space:pre;overflow-x:auto;line-height:normal;font-family:Menlo,'DejaVu Sans Mono',consolas,'Courier New',monospace\"><span style=\"color: #7fbfbf; text-decoration-color: #7fbfbf\">           </span><span style=\"color: #000080; text-decoration-color: #000080\">INFO    </span> Running MCR5                                                                    <a href=\"file:///tmp/ipykernel_187379/617489973.py\" target=\"_blank\"><span style=\"color: #7f7f7f; text-decoration-color: #7f7f7f\">617489973.py</span></a><span style=\"color: #7f7f7f; text-decoration-color: #7f7f7f\">:</span><a href=\"file:///tmp/ipykernel_187379/617489973.py#12\" target=\"_blank\"><span style=\"color: #7f7f7f; text-decoration-color: #7f7f7f\">12</span></a>\n",
              "</pre>\n"
            ],
            "text/plain": [
              "\u001b[2;36m          \u001b[0m\u001b[2;36m \u001b[0m\u001b[34mINFO    \u001b[0m Running MCR5                                                                    \u001b]8;id=796834;file:///tmp/ipykernel_187379/617489973.py\u001b\\\u001b[2m617489973.py\u001b[0m\u001b]8;;\u001b\\\u001b[2m:\u001b[0m\u001b]8;id=155700;file:///tmp/ipykernel_187379/617489973.py#12\u001b\\\u001b[2m12\u001b[0m\u001b]8;;\u001b\\\n"
            ]
          },
          "metadata": {},
          "output_type": "display_data"
        },
        {
          "data": {
            "application/vnd.jupyter.widget-view+json": {
              "model_id": "a9a4f03ace9044b5a70be31ede011482",
              "version_major": 2,
              "version_minor": 0
            },
            "text/plain": [
              "Starting:   0%|          | 0/1782 [00:00<?, ?it/s]"
            ]
          },
          "metadata": {},
          "output_type": "display_data"
        },
        {
          "data": {
            "text/html": [
              "<pre style=\"white-space:pre;overflow-x:auto;line-height:normal;font-family:Menlo,'DejaVu Sans Mono',consolas,'Courier New',monospace\"><span style=\"color: #7fbfbf; text-decoration-color: #7fbfbf\">[15:24:52] </span><span style=\"color: #000080; text-decoration-color: #000080\">INFO    </span> All processes finished.                                                         <a href=\"file:///tmp/ipykernel_187379/617489973.py\" target=\"_blank\"><span style=\"color: #7f7f7f; text-decoration-color: #7f7f7f\">617489973.py</span></a><span style=\"color: #7f7f7f; text-decoration-color: #7f7f7f\">:</span><a href=\"file:///tmp/ipykernel_187379/617489973.py#12\" target=\"_blank\"><span style=\"color: #7f7f7f; text-decoration-color: #7f7f7f\">12</span></a>\n",
              "</pre>\n"
            ],
            "text/plain": [
              "\u001b[2;36m[15:24:52]\u001b[0m\u001b[2;36m \u001b[0m\u001b[34mINFO    \u001b[0m All processes finished.                                                         \u001b]8;id=293098;file:///tmp/ipykernel_187379/617489973.py\u001b\\\u001b[2m617489973.py\u001b[0m\u001b]8;;\u001b\\\u001b[2m:\u001b[0m\u001b]8;id=572618;file:///tmp/ipykernel_187379/617489973.py#12\u001b\\\u001b[2m12\u001b[0m\u001b]8;;\u001b\\\n"
            ]
          },
          "metadata": {},
          "output_type": "display_data"
        },
        {
          "data": {
            "text/html": [
              "<pre style=\"white-space:pre;overflow-x:auto;line-height:normal;font-family:Menlo,'DejaVu Sans Mono',consolas,'Courier New',monospace\"><span style=\"color: #7fbfbf; text-decoration-color: #7fbfbf\">           </span><span style=\"color: #000080; text-decoration-color: #000080\">INFO    </span> Running MCR5 done <span style=\"font-weight: bold\">(</span><span style=\"color: #00ff00; text-decoration-color: #00ff00; font-weight: bold\">17:26</span> minutes<span style=\"font-weight: bold\">)</span>                                               <a href=\"file:///tmp/ipykernel_187379/617489973.py\" target=\"_blank\"><span style=\"color: #7f7f7f; text-decoration-color: #7f7f7f\">617489973.py</span></a><span style=\"color: #7f7f7f; text-decoration-color: #7f7f7f\">:</span><a href=\"file:///tmp/ipykernel_187379/617489973.py#12\" target=\"_blank\"><span style=\"color: #7f7f7f; text-decoration-color: #7f7f7f\">12</span></a>\n",
              "</pre>\n"
            ],
            "text/plain": [
              "\u001b[2;36m          \u001b[0m\u001b[2;36m \u001b[0m\u001b[34mINFO    \u001b[0m Running MCR5 done \u001b[1m(\u001b[0m\u001b[1;92m17:26\u001b[0m minutes\u001b[1m)\u001b[0m                                               \u001b]8;id=275956;file:///tmp/ipykernel_187379/617489973.py\u001b\\\u001b[2m617489973.py\u001b[0m\u001b]8;;\u001b\\\u001b[2m:\u001b[0m\u001b]8;id=84769;file:///tmp/ipykernel_187379/617489973.py#12\u001b\\\u001b[2m12\u001b[0m\u001b]8;;\u001b\\\n"
            ]
          },
          "metadata": {},
          "output_type": "display_data"
        },
        {
          "data": {
            "text/html": [
              "<pre style=\"white-space:pre;overflow-x:auto;line-height:normal;font-family:Menlo,'DejaVu Sans Mono',consolas,'Courier New',monospace\"><span style=\"color: #7fbfbf; text-decoration-color: #7fbfbf\">           </span><span style=\"color: #000080; text-decoration-color: #000080\">INFO    </span> Running MCR5 for bicycle_public_transport_11                                     <a href=\"file:///tmp/ipykernel_187379/617489973.py\" target=\"_blank\"><span style=\"color: #7f7f7f; text-decoration-color: #7f7f7f\">617489973.py</span></a><span style=\"color: #7f7f7f; text-decoration-color: #7f7f7f\">:</span><a href=\"file:///tmp/ipykernel_187379/617489973.py#2\" target=\"_blank\"><span style=\"color: #7f7f7f; text-decoration-color: #7f7f7f\">2</span></a>\n",
              "</pre>\n"
            ],
            "text/plain": [
              "\u001b[2;36m          \u001b[0m\u001b[2;36m \u001b[0m\u001b[34mINFO    \u001b[0m Running MCR5 for bicycle_public_transport_11                                     \u001b]8;id=964241;file:///tmp/ipykernel_187379/617489973.py\u001b\\\u001b[2m617489973.py\u001b[0m\u001b]8;;\u001b\\\u001b[2m:\u001b[0m\u001b]8;id=998713;file:///tmp/ipykernel_187379/617489973.py#2\u001b\\\u001b[2m2\u001b[0m\u001b]8;;\u001b\\\n"
            ]
          },
          "metadata": {},
          "output_type": "display_data"
        },
        {
          "data": {
            "text/html": [
              "<pre style=\"white-space:pre;overflow-x:auto;line-height:normal;font-family:Menlo,'DejaVu Sans Mono',consolas,'Courier New',monospace\"><span style=\"color: #7fbfbf; text-decoration-color: #7fbfbf\">           </span><span style=\"color: #000080; text-decoration-color: #000080\">INFO    </span> Loading config                                                                   <a href=\"file:///tmp/ipykernel_187379/617489973.py\" target=\"_blank\"><span style=\"color: #7f7f7f; text-decoration-color: #7f7f7f\">617489973.py</span></a><span style=\"color: #7f7f7f; text-decoration-color: #7f7f7f\">:</span><a href=\"file:///tmp/ipykernel_187379/617489973.py#4\" target=\"_blank\"><span style=\"color: #7f7f7f; text-decoration-color: #7f7f7f\">4</span></a>\n",
              "</pre>\n"
            ],
            "text/plain": [
              "\u001b[2;36m          \u001b[0m\u001b[2;36m \u001b[0m\u001b[34mINFO    \u001b[0m Loading config                                                                   \u001b]8;id=97167;file:///tmp/ipykernel_187379/617489973.py\u001b\\\u001b[2m617489973.py\u001b[0m\u001b]8;;\u001b\\\u001b[2m:\u001b[0m\u001b]8;id=168298;file:///tmp/ipykernel_187379/617489973.py#4\u001b\\\u001b[2m4\u001b[0m\u001b]8;;\u001b\\\n"
            ]
          },
          "metadata": {},
          "output_type": "display_data"
        },
        {
          "data": {
            "text/html": [
              "<pre style=\"white-space:pre;overflow-x:auto;line-height:normal;font-family:Menlo,'DejaVu Sans Mono',consolas,'Courier New',monospace\"><span style=\"color: #7fbfbf; text-decoration-color: #7fbfbf\">           </span><span style=\"color: #000080; text-decoration-color: #000080\">INFO    </span> Using existing OSM data                                                          <a href=\"file:///tmp/ipykernel_187379/617489973.py\" target=\"_blank\"><span style=\"color: #7f7f7f; text-decoration-color: #7f7f7f\">617489973.py</span></a><span style=\"color: #7f7f7f; text-decoration-color: #7f7f7f\">:</span><a href=\"file:///tmp/ipykernel_187379/617489973.py#4\" target=\"_blank\"><span style=\"color: #7f7f7f; text-decoration-color: #7f7f7f\">4</span></a>\n",
              "</pre>\n"
            ],
            "text/plain": [
              "\u001b[2;36m          \u001b[0m\u001b[2;36m \u001b[0m\u001b[34mINFO    \u001b[0m Using existing OSM data                                                          \u001b]8;id=108787;file:///tmp/ipykernel_187379/617489973.py\u001b\\\u001b[2m617489973.py\u001b[0m\u001b]8;;\u001b\\\u001b[2m:\u001b[0m\u001b]8;id=999893;file:///tmp/ipykernel_187379/617489973.py#4\u001b\\\u001b[2m4\u001b[0m\u001b]8;;\u001b\\\n"
            ]
          },
          "metadata": {},
          "output_type": "display_data"
        },
        {
          "data": {
            "text/html": [
              "<pre style=\"white-space:pre;overflow-x:auto;line-height:normal;font-family:Menlo,'DejaVu Sans Mono',consolas,'Courier New',monospace\"><span style=\"color: #7fbfbf; text-decoration-color: #7fbfbf\">           </span><span style=\"color: #000080; text-decoration-color: #000080\">INFO    </span> Loading OSM network from cache <span style=\"font-weight: bold\">(</span>walking<span style=\"font-weight: bold\">)</span>                                         <a href=\"file:///tmp/ipykernel_187379/617489973.py\" target=\"_blank\"><span style=\"color: #7f7f7f; text-decoration-color: #7f7f7f\">617489973.py</span></a><span style=\"color: #7f7f7f; text-decoration-color: #7f7f7f\">:</span><a href=\"file:///tmp/ipykernel_187379/617489973.py#4\" target=\"_blank\"><span style=\"color: #7f7f7f; text-decoration-color: #7f7f7f\">4</span></a>\n",
              "</pre>\n"
            ],
            "text/plain": [
              "\u001b[2;36m          \u001b[0m\u001b[2;36m \u001b[0m\u001b[34mINFO    \u001b[0m Loading OSM network from cache \u001b[1m(\u001b[0mwalking\u001b[1m)\u001b[0m                                         \u001b]8;id=775446;file:///tmp/ipykernel_187379/617489973.py\u001b\\\u001b[2m617489973.py\u001b[0m\u001b]8;;\u001b\\\u001b[2m:\u001b[0m\u001b]8;id=998729;file:///tmp/ipykernel_187379/617489973.py#4\u001b\\\u001b[2m4\u001b[0m\u001b]8;;\u001b\\\n"
            ]
          },
          "metadata": {},
          "output_type": "display_data"
        },
        {
          "data": {
            "text/html": [
              "<pre style=\"white-space:pre;overflow-x:auto;line-height:normal;font-family:Menlo,'DejaVu Sans Mono',consolas,'Courier New',monospace\"><span style=\"color: #7fbfbf; text-decoration-color: #7fbfbf\">[15:26:20] </span><span style=\"color: #000080; text-decoration-color: #000080\">INFO    </span> Using existing OSM data                                                          <a href=\"file:///tmp/ipykernel_187379/617489973.py\" target=\"_blank\"><span style=\"color: #7f7f7f; text-decoration-color: #7f7f7f\">617489973.py</span></a><span style=\"color: #7f7f7f; text-decoration-color: #7f7f7f\">:</span><a href=\"file:///tmp/ipykernel_187379/617489973.py#4\" target=\"_blank\"><span style=\"color: #7f7f7f; text-decoration-color: #7f7f7f\">4</span></a>\n",
              "</pre>\n"
            ],
            "text/plain": [
              "\u001b[2;36m[15:26:20]\u001b[0m\u001b[2;36m \u001b[0m\u001b[34mINFO    \u001b[0m Using existing OSM data                                                          \u001b]8;id=331553;file:///tmp/ipykernel_187379/617489973.py\u001b\\\u001b[2m617489973.py\u001b[0m\u001b]8;;\u001b\\\u001b[2m:\u001b[0m\u001b]8;id=191954;file:///tmp/ipykernel_187379/617489973.py#4\u001b\\\u001b[2m4\u001b[0m\u001b]8;;\u001b\\\n"
            ]
          },
          "metadata": {},
          "output_type": "display_data"
        },
        {
          "data": {
            "text/html": [
              "<pre style=\"white-space:pre;overflow-x:auto;line-height:normal;font-family:Menlo,'DejaVu Sans Mono',consolas,'Courier New',monospace\"><span style=\"color: #7fbfbf; text-decoration-color: #7fbfbf\">           </span><span style=\"color: #000080; text-decoration-color: #000080\">INFO    </span> Loading OSM network from cache <span style=\"font-weight: bold\">(</span>cycling<span style=\"font-weight: bold\">)</span>                                         <a href=\"file:///tmp/ipykernel_187379/617489973.py\" target=\"_blank\"><span style=\"color: #7f7f7f; text-decoration-color: #7f7f7f\">617489973.py</span></a><span style=\"color: #7f7f7f; text-decoration-color: #7f7f7f\">:</span><a href=\"file:///tmp/ipykernel_187379/617489973.py#4\" target=\"_blank\"><span style=\"color: #7f7f7f; text-decoration-color: #7f7f7f\">4</span></a>\n",
              "</pre>\n"
            ],
            "text/plain": [
              "\u001b[2;36m          \u001b[0m\u001b[2;36m \u001b[0m\u001b[34mINFO    \u001b[0m Loading OSM network from cache \u001b[1m(\u001b[0mcycling\u001b[1m)\u001b[0m                                         \u001b]8;id=38648;file:///tmp/ipykernel_187379/617489973.py\u001b\\\u001b[2m617489973.py\u001b[0m\u001b]8;;\u001b\\\u001b[2m:\u001b[0m\u001b]8;id=541111;file:///tmp/ipykernel_187379/617489973.py#4\u001b\\\u001b[2m4\u001b[0m\u001b]8;;\u001b\\\n"
            ]
          },
          "metadata": {},
          "output_type": "display_data"
        },
        {
          "data": {
            "text/html": [
              "<pre style=\"white-space:pre;overflow-x:auto;line-height:normal;font-family:Menlo,'DejaVu Sans Mono',consolas,'Courier New',monospace\"><span style=\"color: #7fbfbf; text-decoration-color: #7fbfbf\">[15:27:26] </span><span style=\"color: #000080; text-decoration-color: #000080\">INFO    </span> Fetching POI for runtime optimization                                         <a href=\"file:///home/moritz/dev/uni/mcr-py/notebooks/../src/command/step_config.py\" target=\"_blank\"><span style=\"color: #7f7f7f; text-decoration-color: #7f7f7f\">step_config.py</span></a><span style=\"color: #7f7f7f; text-decoration-color: #7f7f7f\">:</span><a href=\"file:///home/moritz/dev/uni/mcr-py/notebooks/../src/command/step_config.py#51\" target=\"_blank\"><span style=\"color: #7f7f7f; text-decoration-color: #7f7f7f\">51</span></a>\n",
              "</pre>\n"
            ],
            "text/plain": [
              "\u001b[2;36m[15:27:26]\u001b[0m\u001b[2;36m \u001b[0m\u001b[34mINFO    \u001b[0m Fetching POI for runtime optimization                                         \u001b]8;id=404915;file:///home/moritz/dev/uni/mcr-py/notebooks/../src/command/step_config.py\u001b\\\u001b[2mstep_config.py\u001b[0m\u001b]8;;\u001b\\\u001b[2m:\u001b[0m\u001b]8;id=632858;file:///home/moritz/dev/uni/mcr-py/notebooks/../src/command/step_config.py#51\u001b\\\u001b[2m51\u001b[0m\u001b]8;;\u001b\\\n"
            ]
          },
          "metadata": {},
          "output_type": "display_data"
        },
        {
          "data": {
            "text/html": [
              "<pre style=\"white-space:pre;overflow-x:auto;line-height:normal;font-family:Menlo,'DejaVu Sans Mono',consolas,'Courier New',monospace\"><span style=\"color: #7fbfbf; text-decoration-color: #7fbfbf\">           </span><span style=\"color: #000080; text-decoration-color: #000080\">INFO    </span> Fetching POI for runtime optimization done <span style=\"font-weight: bold\">(</span><span style=\"color: #008080; text-decoration-color: #008080; font-weight: bold\">0.09</span> seconds<span style=\"font-weight: bold\">)</span>                     <a href=\"file:///home/moritz/dev/uni/mcr-py/notebooks/../src/command/step_config.py\" target=\"_blank\"><span style=\"color: #7f7f7f; text-decoration-color: #7f7f7f\">step_config.py</span></a><span style=\"color: #7f7f7f; text-decoration-color: #7f7f7f\">:</span><a href=\"file:///home/moritz/dev/uni/mcr-py/notebooks/../src/command/step_config.py#51\" target=\"_blank\"><span style=\"color: #7f7f7f; text-decoration-color: #7f7f7f\">51</span></a>\n",
              "</pre>\n"
            ],
            "text/plain": [
              "\u001b[2;36m          \u001b[0m\u001b[2;36m \u001b[0m\u001b[34mINFO    \u001b[0m Fetching POI for runtime optimization done \u001b[1m(\u001b[0m\u001b[1;36m0.09\u001b[0m seconds\u001b[1m)\u001b[0m                     \u001b]8;id=218291;file:///home/moritz/dev/uni/mcr-py/notebooks/../src/command/step_config.py\u001b\\\u001b[2mstep_config.py\u001b[0m\u001b]8;;\u001b\\\u001b[2m:\u001b[0m\u001b]8;id=329863;file:///home/moritz/dev/uni/mcr-py/notebooks/../src/command/step_config.py#51\u001b\\\u001b[2m51\u001b[0m\u001b]8;;\u001b\\\n"
            ]
          },
          "metadata": {},
          "output_type": "display_data"
        },
        {
          "data": {
            "text/html": [
              "<pre style=\"white-space:pre;overflow-x:auto;line-height:normal;font-family:Menlo,'DejaVu Sans Mono',consolas,'Courier New',monospace\"><span style=\"color: #7fbfbf; text-decoration-color: #7fbfbf\">[15:28:31] </span><span style=\"color: #000080; text-decoration-color: #000080\">INFO    </span> Reading stops                                                           <a href=\"file:///home/moritz/dev/uni/mcr-py/notebooks/../src/package/mcr/steps/public_transport.py\" target=\"_blank\"><span style=\"color: #7f7f7f; text-decoration-color: #7f7f7f\">public_transport.py</span></a><span style=\"color: #7f7f7f; text-decoration-color: #7f7f7f\">:</span><a href=\"file:///home/moritz/dev/uni/mcr-py/notebooks/../src/package/mcr/steps/public_transport.py#144\" target=\"_blank\"><span style=\"color: #7f7f7f; text-decoration-color: #7f7f7f\">144</span></a>\n",
              "</pre>\n"
            ],
            "text/plain": [
              "\u001b[2;36m[15:28:31]\u001b[0m\u001b[2;36m \u001b[0m\u001b[34mINFO    \u001b[0m Reading stops                                                           \u001b]8;id=330955;file:///home/moritz/dev/uni/mcr-py/notebooks/../src/package/mcr/steps/public_transport.py\u001b\\\u001b[2mpublic_transport.py\u001b[0m\u001b]8;;\u001b\\\u001b[2m:\u001b[0m\u001b]8;id=368730;file:///home/moritz/dev/uni/mcr-py/notebooks/../src/package/mcr/steps/public_transport.py#144\u001b\\\u001b[2m144\u001b[0m\u001b]8;;\u001b\\\n"
            ]
          },
          "metadata": {},
          "output_type": "display_data"
        },
        {
          "data": {
            "text/html": [
              "<pre style=\"white-space:pre;overflow-x:auto;line-height:normal;font-family:Menlo,'DejaVu Sans Mono',consolas,'Courier New',monospace\"><span style=\"color: #7fbfbf; text-decoration-color: #7fbfbf\">           </span><span style=\"color: #000080; text-decoration-color: #000080\">INFO    </span> Reading stops done <span style=\"font-weight: bold\">(</span><span style=\"color: #008080; text-decoration-color: #008080; font-weight: bold\">0.29</span> seconds<span style=\"font-weight: bold\">)</span>                                       <a href=\"file:///home/moritz/dev/uni/mcr-py/notebooks/../src/package/mcr/steps/public_transport.py\" target=\"_blank\"><span style=\"color: #7f7f7f; text-decoration-color: #7f7f7f\">public_transport.py</span></a><span style=\"color: #7f7f7f; text-decoration-color: #7f7f7f\">:</span><a href=\"file:///home/moritz/dev/uni/mcr-py/notebooks/../src/package/mcr/steps/public_transport.py#144\" target=\"_blank\"><span style=\"color: #7f7f7f; text-decoration-color: #7f7f7f\">144</span></a>\n",
              "</pre>\n"
            ],
            "text/plain": [
              "\u001b[2;36m          \u001b[0m\u001b[2;36m \u001b[0m\u001b[34mINFO    \u001b[0m Reading stops done \u001b[1m(\u001b[0m\u001b[1;36m0.29\u001b[0m seconds\u001b[1m)\u001b[0m                                       \u001b]8;id=131376;file:///home/moritz/dev/uni/mcr-py/notebooks/../src/package/mcr/steps/public_transport.py\u001b\\\u001b[2mpublic_transport.py\u001b[0m\u001b]8;;\u001b\\\u001b[2m:\u001b[0m\u001b]8;id=923041;file:///home/moritz/dev/uni/mcr-py/notebooks/../src/package/mcr/steps/public_transport.py#144\u001b\\\u001b[2m144\u001b[0m\u001b]8;;\u001b\\\n"
            ]
          },
          "metadata": {},
          "output_type": "display_data"
        },
        {
          "data": {
            "text/html": [
              "<pre style=\"white-space:pre;overflow-x:auto;line-height:normal;font-family:Menlo,'DejaVu Sans Mono',consolas,'Courier New',monospace\"><span style=\"color: #7fbfbf; text-decoration-color: #7fbfbf\">[15:29:08] </span><span style=\"color: #000080; text-decoration-color: #000080\">INFO    </span> Loading config done <span style=\"font-weight: bold\">(</span><span style=\"color: #00ff00; text-decoration-color: #00ff00; font-weight: bold\">4:15</span> minutes<span style=\"font-weight: bold\">)</span>                                               <a href=\"file:///tmp/ipykernel_187379/617489973.py\" target=\"_blank\"><span style=\"color: #7f7f7f; text-decoration-color: #7f7f7f\">617489973.py</span></a><span style=\"color: #7f7f7f; text-decoration-color: #7f7f7f\">:</span><a href=\"file:///tmp/ipykernel_187379/617489973.py#4\" target=\"_blank\"><span style=\"color: #7f7f7f; text-decoration-color: #7f7f7f\">4</span></a>\n",
              "</pre>\n"
            ],
            "text/plain": [
              "\u001b[2;36m[15:29:08]\u001b[0m\u001b[2;36m \u001b[0m\u001b[34mINFO    \u001b[0m Loading config done \u001b[1m(\u001b[0m\u001b[1;92m4:15\u001b[0m minutes\u001b[1m)\u001b[0m                                               \u001b]8;id=399484;file:///tmp/ipykernel_187379/617489973.py\u001b\\\u001b[2m617489973.py\u001b[0m\u001b]8;;\u001b\\\u001b[2m:\u001b[0m\u001b]8;id=744664;file:///tmp/ipykernel_187379/617489973.py#4\u001b\\\u001b[2m4\u001b[0m\u001b]8;;\u001b\\\n"
            ]
          },
          "metadata": {},
          "output_type": "display_data"
        },
        {
          "data": {
            "text/html": [
              "<pre style=\"white-space:pre;overflow-x:auto;line-height:normal;font-family:Menlo,'DejaVu Sans Mono',consolas,'Courier New',monospace\"><span style=\"color: #7fbfbf; text-decoration-color: #7fbfbf\">           </span><span style=\"color: #000080; text-decoration-color: #000080\">INFO    </span> Running MCR5                                                                    <a href=\"file:///tmp/ipykernel_187379/617489973.py\" target=\"_blank\"><span style=\"color: #7f7f7f; text-decoration-color: #7f7f7f\">617489973.py</span></a><span style=\"color: #7f7f7f; text-decoration-color: #7f7f7f\">:</span><a href=\"file:///tmp/ipykernel_187379/617489973.py#12\" target=\"_blank\"><span style=\"color: #7f7f7f; text-decoration-color: #7f7f7f\">12</span></a>\n",
              "</pre>\n"
            ],
            "text/plain": [
              "\u001b[2;36m          \u001b[0m\u001b[2;36m \u001b[0m\u001b[34mINFO    \u001b[0m Running MCR5                                                                    \u001b]8;id=230946;file:///tmp/ipykernel_187379/617489973.py\u001b\\\u001b[2m617489973.py\u001b[0m\u001b]8;;\u001b\\\u001b[2m:\u001b[0m\u001b]8;id=674655;file:///tmp/ipykernel_187379/617489973.py#12\u001b\\\u001b[2m12\u001b[0m\u001b]8;;\u001b\\\n"
            ]
          },
          "metadata": {},
          "output_type": "display_data"
        },
        {
          "data": {
            "application/vnd.jupyter.widget-view+json": {
              "model_id": "11237e166b01453091fe99f1f50a2311",
              "version_major": 2,
              "version_minor": 0
            },
            "text/plain": [
              "Starting:   0%|          | 0/1782 [00:00<?, ?it/s]"
            ]
          },
          "metadata": {},
          "output_type": "display_data"
        },
        {
          "data": {
            "text/html": [
              "<pre style=\"white-space:pre;overflow-x:auto;line-height:normal;font-family:Menlo,'DejaVu Sans Mono',consolas,'Courier New',monospace\"><span style=\"color: #7fbfbf; text-decoration-color: #7fbfbf\">[15:46:52] </span><span style=\"color: #000080; text-decoration-color: #000080\">INFO    </span> All processes finished.                                                         <a href=\"file:///tmp/ipykernel_187379/617489973.py\" target=\"_blank\"><span style=\"color: #7f7f7f; text-decoration-color: #7f7f7f\">617489973.py</span></a><span style=\"color: #7f7f7f; text-decoration-color: #7f7f7f\">:</span><a href=\"file:///tmp/ipykernel_187379/617489973.py#12\" target=\"_blank\"><span style=\"color: #7f7f7f; text-decoration-color: #7f7f7f\">12</span></a>\n",
              "</pre>\n"
            ],
            "text/plain": [
              "\u001b[2;36m[15:46:52]\u001b[0m\u001b[2;36m \u001b[0m\u001b[34mINFO    \u001b[0m All processes finished.                                                         \u001b]8;id=329679;file:///tmp/ipykernel_187379/617489973.py\u001b\\\u001b[2m617489973.py\u001b[0m\u001b]8;;\u001b\\\u001b[2m:\u001b[0m\u001b]8;id=472534;file:///tmp/ipykernel_187379/617489973.py#12\u001b\\\u001b[2m12\u001b[0m\u001b]8;;\u001b\\\n"
            ]
          },
          "metadata": {},
          "output_type": "display_data"
        },
        {
          "data": {
            "text/html": [
              "<pre style=\"white-space:pre;overflow-x:auto;line-height:normal;font-family:Menlo,'DejaVu Sans Mono',consolas,'Courier New',monospace\"><span style=\"color: #7fbfbf; text-decoration-color: #7fbfbf\">           </span><span style=\"color: #000080; text-decoration-color: #000080\">INFO    </span> Running MCR5 done <span style=\"font-weight: bold\">(</span><span style=\"color: #00ff00; text-decoration-color: #00ff00; font-weight: bold\">17:44</span> minutes<span style=\"font-weight: bold\">)</span>                                               <a href=\"file:///tmp/ipykernel_187379/617489973.py\" target=\"_blank\"><span style=\"color: #7f7f7f; text-decoration-color: #7f7f7f\">617489973.py</span></a><span style=\"color: #7f7f7f; text-decoration-color: #7f7f7f\">:</span><a href=\"file:///tmp/ipykernel_187379/617489973.py#12\" target=\"_blank\"><span style=\"color: #7f7f7f; text-decoration-color: #7f7f7f\">12</span></a>\n",
              "</pre>\n"
            ],
            "text/plain": [
              "\u001b[2;36m          \u001b[0m\u001b[2;36m \u001b[0m\u001b[34mINFO    \u001b[0m Running MCR5 done \u001b[1m(\u001b[0m\u001b[1;92m17:44\u001b[0m minutes\u001b[1m)\u001b[0m                                               \u001b]8;id=952969;file:///tmp/ipykernel_187379/617489973.py\u001b\\\u001b[2m617489973.py\u001b[0m\u001b]8;;\u001b\\\u001b[2m:\u001b[0m\u001b]8;id=897091;file:///tmp/ipykernel_187379/617489973.py#12\u001b\\\u001b[2m12\u001b[0m\u001b]8;;\u001b\\\n"
            ]
          },
          "metadata": {},
          "output_type": "display_data"
        },
        {
          "data": {
            "text/html": [
              "<pre style=\"white-space:pre;overflow-x:auto;line-height:normal;font-family:Menlo,'DejaVu Sans Mono',consolas,'Courier New',monospace\"><span style=\"color: #7fbfbf; text-decoration-color: #7fbfbf\">           </span><span style=\"color: #000080; text-decoration-color: #000080\">INFO    </span> Running MCR5 for public_transport_0                                              <a href=\"file:///tmp/ipykernel_187379/617489973.py\" target=\"_blank\"><span style=\"color: #7f7f7f; text-decoration-color: #7f7f7f\">617489973.py</span></a><span style=\"color: #7f7f7f; text-decoration-color: #7f7f7f\">:</span><a href=\"file:///tmp/ipykernel_187379/617489973.py#2\" target=\"_blank\"><span style=\"color: #7f7f7f; text-decoration-color: #7f7f7f\">2</span></a>\n",
              "</pre>\n"
            ],
            "text/plain": [
              "\u001b[2;36m          \u001b[0m\u001b[2;36m \u001b[0m\u001b[34mINFO    \u001b[0m Running MCR5 for public_transport_0                                              \u001b]8;id=992451;file:///tmp/ipykernel_187379/617489973.py\u001b\\\u001b[2m617489973.py\u001b[0m\u001b]8;;\u001b\\\u001b[2m:\u001b[0m\u001b]8;id=584159;file:///tmp/ipykernel_187379/617489973.py#2\u001b\\\u001b[2m2\u001b[0m\u001b]8;;\u001b\\\n"
            ]
          },
          "metadata": {},
          "output_type": "display_data"
        },
        {
          "data": {
            "text/html": [
              "<pre style=\"white-space:pre;overflow-x:auto;line-height:normal;font-family:Menlo,'DejaVu Sans Mono',consolas,'Courier New',monospace\"><span style=\"color: #7fbfbf; text-decoration-color: #7fbfbf\">           </span><span style=\"color: #000080; text-decoration-color: #000080\">INFO    </span> Loading config                                                                   <a href=\"file:///tmp/ipykernel_187379/617489973.py\" target=\"_blank\"><span style=\"color: #7f7f7f; text-decoration-color: #7f7f7f\">617489973.py</span></a><span style=\"color: #7f7f7f; text-decoration-color: #7f7f7f\">:</span><a href=\"file:///tmp/ipykernel_187379/617489973.py#4\" target=\"_blank\"><span style=\"color: #7f7f7f; text-decoration-color: #7f7f7f\">4</span></a>\n",
              "</pre>\n"
            ],
            "text/plain": [
              "\u001b[2;36m          \u001b[0m\u001b[2;36m \u001b[0m\u001b[34mINFO    \u001b[0m Loading config                                                                   \u001b]8;id=99196;file:///tmp/ipykernel_187379/617489973.py\u001b\\\u001b[2m617489973.py\u001b[0m\u001b]8;;\u001b\\\u001b[2m:\u001b[0m\u001b]8;id=465556;file:///tmp/ipykernel_187379/617489973.py#4\u001b\\\u001b[2m4\u001b[0m\u001b]8;;\u001b\\\n"
            ]
          },
          "metadata": {},
          "output_type": "display_data"
        },
        {
          "data": {
            "text/html": [
              "<pre style=\"white-space:pre;overflow-x:auto;line-height:normal;font-family:Menlo,'DejaVu Sans Mono',consolas,'Courier New',monospace\"><span style=\"color: #7fbfbf; text-decoration-color: #7fbfbf\">           </span><span style=\"color: #000080; text-decoration-color: #000080\">INFO    </span> Using existing OSM data                                                          <a href=\"file:///tmp/ipykernel_187379/617489973.py\" target=\"_blank\"><span style=\"color: #7f7f7f; text-decoration-color: #7f7f7f\">617489973.py</span></a><span style=\"color: #7f7f7f; text-decoration-color: #7f7f7f\">:</span><a href=\"file:///tmp/ipykernel_187379/617489973.py#4\" target=\"_blank\"><span style=\"color: #7f7f7f; text-decoration-color: #7f7f7f\">4</span></a>\n",
              "</pre>\n"
            ],
            "text/plain": [
              "\u001b[2;36m          \u001b[0m\u001b[2;36m \u001b[0m\u001b[34mINFO    \u001b[0m Using existing OSM data                                                          \u001b]8;id=172450;file:///tmp/ipykernel_187379/617489973.py\u001b\\\u001b[2m617489973.py\u001b[0m\u001b]8;;\u001b\\\u001b[2m:\u001b[0m\u001b]8;id=938878;file:///tmp/ipykernel_187379/617489973.py#4\u001b\\\u001b[2m4\u001b[0m\u001b]8;;\u001b\\\n"
            ]
          },
          "metadata": {},
          "output_type": "display_data"
        },
        {
          "data": {
            "text/html": [
              "<pre style=\"white-space:pre;overflow-x:auto;line-height:normal;font-family:Menlo,'DejaVu Sans Mono',consolas,'Courier New',monospace\"><span style=\"color: #7fbfbf; text-decoration-color: #7fbfbf\">           </span><span style=\"color: #000080; text-decoration-color: #000080\">INFO    </span> Loading OSM network from cache <span style=\"font-weight: bold\">(</span>walking<span style=\"font-weight: bold\">)</span>                                         <a href=\"file:///tmp/ipykernel_187379/617489973.py\" target=\"_blank\"><span style=\"color: #7f7f7f; text-decoration-color: #7f7f7f\">617489973.py</span></a><span style=\"color: #7f7f7f; text-decoration-color: #7f7f7f\">:</span><a href=\"file:///tmp/ipykernel_187379/617489973.py#4\" target=\"_blank\"><span style=\"color: #7f7f7f; text-decoration-color: #7f7f7f\">4</span></a>\n",
              "</pre>\n"
            ],
            "text/plain": [
              "\u001b[2;36m          \u001b[0m\u001b[2;36m \u001b[0m\u001b[34mINFO    \u001b[0m Loading OSM network from cache \u001b[1m(\u001b[0mwalking\u001b[1m)\u001b[0m                                         \u001b]8;id=826246;file:///tmp/ipykernel_187379/617489973.py\u001b\\\u001b[2m617489973.py\u001b[0m\u001b]8;;\u001b\\\u001b[2m:\u001b[0m\u001b]8;id=407764;file:///tmp/ipykernel_187379/617489973.py#4\u001b\\\u001b[2m4\u001b[0m\u001b]8;;\u001b\\\n"
            ]
          },
          "metadata": {},
          "output_type": "display_data"
        },
        {
          "data": {
            "text/html": [
              "<pre style=\"white-space:pre;overflow-x:auto;line-height:normal;font-family:Menlo,'DejaVu Sans Mono',consolas,'Courier New',monospace\"><span style=\"color: #7fbfbf; text-decoration-color: #7fbfbf\">[15:48:22] </span><span style=\"color: #000080; text-decoration-color: #000080\">INFO    </span> Fetching POI for runtime optimization                                        <a href=\"file:///home/moritz/dev/uni/mcr-py/notebooks/../src/command/step_config.py\" target=\"_blank\"><span style=\"color: #7f7f7f; text-decoration-color: #7f7f7f\">step_config.py</span></a><span style=\"color: #7f7f7f; text-decoration-color: #7f7f7f\">:</span><a href=\"file:///home/moritz/dev/uni/mcr-py/notebooks/../src/command/step_config.py#145\" target=\"_blank\"><span style=\"color: #7f7f7f; text-decoration-color: #7f7f7f\">145</span></a>\n",
              "</pre>\n"
            ],
            "text/plain": [
              "\u001b[2;36m[15:48:22]\u001b[0m\u001b[2;36m \u001b[0m\u001b[34mINFO    \u001b[0m Fetching POI for runtime optimization                                        \u001b]8;id=779408;file:///home/moritz/dev/uni/mcr-py/notebooks/../src/command/step_config.py\u001b\\\u001b[2mstep_config.py\u001b[0m\u001b]8;;\u001b\\\u001b[2m:\u001b[0m\u001b]8;id=177125;file:///home/moritz/dev/uni/mcr-py/notebooks/../src/command/step_config.py#145\u001b\\\u001b[2m145\u001b[0m\u001b]8;;\u001b\\\n"
            ]
          },
          "metadata": {},
          "output_type": "display_data"
        },
        {
          "data": {
            "text/html": [
              "<pre style=\"white-space:pre;overflow-x:auto;line-height:normal;font-family:Menlo,'DejaVu Sans Mono',consolas,'Courier New',monospace\"><span style=\"color: #7fbfbf; text-decoration-color: #7fbfbf\">           </span><span style=\"color: #000080; text-decoration-color: #000080\">INFO    </span> Fetching POI for runtime optimization done <span style=\"font-weight: bold\">(</span><span style=\"color: #008080; text-decoration-color: #008080; font-weight: bold\">0.08</span> seconds<span style=\"font-weight: bold\">)</span>                    <a href=\"file:///home/moritz/dev/uni/mcr-py/notebooks/../src/command/step_config.py\" target=\"_blank\"><span style=\"color: #7f7f7f; text-decoration-color: #7f7f7f\">step_config.py</span></a><span style=\"color: #7f7f7f; text-decoration-color: #7f7f7f\">:</span><a href=\"file:///home/moritz/dev/uni/mcr-py/notebooks/../src/command/step_config.py#145\" target=\"_blank\"><span style=\"color: #7f7f7f; text-decoration-color: #7f7f7f\">145</span></a>\n",
              "</pre>\n"
            ],
            "text/plain": [
              "\u001b[2;36m          \u001b[0m\u001b[2;36m \u001b[0m\u001b[34mINFO    \u001b[0m Fetching POI for runtime optimization done \u001b[1m(\u001b[0m\u001b[1;36m0.08\u001b[0m seconds\u001b[1m)\u001b[0m                    \u001b]8;id=697535;file:///home/moritz/dev/uni/mcr-py/notebooks/../src/command/step_config.py\u001b\\\u001b[2mstep_config.py\u001b[0m\u001b]8;;\u001b\\\u001b[2m:\u001b[0m\u001b]8;id=619877;file:///home/moritz/dev/uni/mcr-py/notebooks/../src/command/step_config.py#145\u001b\\\u001b[2m145\u001b[0m\u001b]8;;\u001b\\\n"
            ]
          },
          "metadata": {},
          "output_type": "display_data"
        },
        {
          "data": {
            "text/html": [
              "<pre style=\"white-space:pre;overflow-x:auto;line-height:normal;font-family:Menlo,'DejaVu Sans Mono',consolas,'Courier New',monospace\"><span style=\"color: #7fbfbf; text-decoration-color: #7fbfbf\">[15:48:45] </span><span style=\"color: #000080; text-decoration-color: #000080\">INFO    </span> Reading stops                                                           <a href=\"file:///home/moritz/dev/uni/mcr-py/notebooks/../src/package/mcr/steps/public_transport.py\" target=\"_blank\"><span style=\"color: #7f7f7f; text-decoration-color: #7f7f7f\">public_transport.py</span></a><span style=\"color: #7f7f7f; text-decoration-color: #7f7f7f\">:</span><a href=\"file:///home/moritz/dev/uni/mcr-py/notebooks/../src/package/mcr/steps/public_transport.py#144\" target=\"_blank\"><span style=\"color: #7f7f7f; text-decoration-color: #7f7f7f\">144</span></a>\n",
              "</pre>\n"
            ],
            "text/plain": [
              "\u001b[2;36m[15:48:45]\u001b[0m\u001b[2;36m \u001b[0m\u001b[34mINFO    \u001b[0m Reading stops                                                           \u001b]8;id=763393;file:///home/moritz/dev/uni/mcr-py/notebooks/../src/package/mcr/steps/public_transport.py\u001b\\\u001b[2mpublic_transport.py\u001b[0m\u001b]8;;\u001b\\\u001b[2m:\u001b[0m\u001b]8;id=144168;file:///home/moritz/dev/uni/mcr-py/notebooks/../src/package/mcr/steps/public_transport.py#144\u001b\\\u001b[2m144\u001b[0m\u001b]8;;\u001b\\\n"
            ]
          },
          "metadata": {},
          "output_type": "display_data"
        },
        {
          "data": {
            "text/html": [
              "<pre style=\"white-space:pre;overflow-x:auto;line-height:normal;font-family:Menlo,'DejaVu Sans Mono',consolas,'Courier New',monospace\"><span style=\"color: #7fbfbf; text-decoration-color: #7fbfbf\">           </span><span style=\"color: #000080; text-decoration-color: #000080\">INFO    </span> Reading stops done <span style=\"font-weight: bold\">(</span><span style=\"color: #008080; text-decoration-color: #008080; font-weight: bold\">0.32</span> seconds<span style=\"font-weight: bold\">)</span>                                       <a href=\"file:///home/moritz/dev/uni/mcr-py/notebooks/../src/package/mcr/steps/public_transport.py\" target=\"_blank\"><span style=\"color: #7f7f7f; text-decoration-color: #7f7f7f\">public_transport.py</span></a><span style=\"color: #7f7f7f; text-decoration-color: #7f7f7f\">:</span><a href=\"file:///home/moritz/dev/uni/mcr-py/notebooks/../src/package/mcr/steps/public_transport.py#144\" target=\"_blank\"><span style=\"color: #7f7f7f; text-decoration-color: #7f7f7f\">144</span></a>\n",
              "</pre>\n"
            ],
            "text/plain": [
              "\u001b[2;36m          \u001b[0m\u001b[2;36m \u001b[0m\u001b[34mINFO    \u001b[0m Reading stops done \u001b[1m(\u001b[0m\u001b[1;36m0.32\u001b[0m seconds\u001b[1m)\u001b[0m                                       \u001b]8;id=106563;file:///home/moritz/dev/uni/mcr-py/notebooks/../src/package/mcr/steps/public_transport.py\u001b\\\u001b[2mpublic_transport.py\u001b[0m\u001b]8;;\u001b\\\u001b[2m:\u001b[0m\u001b]8;id=194184;file:///home/moritz/dev/uni/mcr-py/notebooks/../src/package/mcr/steps/public_transport.py#144\u001b\\\u001b[2m144\u001b[0m\u001b]8;;\u001b\\\n"
            ]
          },
          "metadata": {},
          "output_type": "display_data"
        },
        {
          "data": {
            "text/html": [
              "<pre style=\"white-space:pre;overflow-x:auto;line-height:normal;font-family:Menlo,'DejaVu Sans Mono',consolas,'Courier New',monospace\"><span style=\"color: #7fbfbf; text-decoration-color: #7fbfbf\">[15:48:59] </span><span style=\"color: #000080; text-decoration-color: #000080\">INFO    </span> Loading config done <span style=\"font-weight: bold\">(</span><span style=\"color: #00ff00; text-decoration-color: #00ff00; font-weight: bold\">2:07</span> minutes<span style=\"font-weight: bold\">)</span>                                               <a href=\"file:///tmp/ipykernel_187379/617489973.py\" target=\"_blank\"><span style=\"color: #7f7f7f; text-decoration-color: #7f7f7f\">617489973.py</span></a><span style=\"color: #7f7f7f; text-decoration-color: #7f7f7f\">:</span><a href=\"file:///tmp/ipykernel_187379/617489973.py#4\" target=\"_blank\"><span style=\"color: #7f7f7f; text-decoration-color: #7f7f7f\">4</span></a>\n",
              "</pre>\n"
            ],
            "text/plain": [
              "\u001b[2;36m[15:48:59]\u001b[0m\u001b[2;36m \u001b[0m\u001b[34mINFO    \u001b[0m Loading config done \u001b[1m(\u001b[0m\u001b[1;92m2:07\u001b[0m minutes\u001b[1m)\u001b[0m                                               \u001b]8;id=284594;file:///tmp/ipykernel_187379/617489973.py\u001b\\\u001b[2m617489973.py\u001b[0m\u001b]8;;\u001b\\\u001b[2m:\u001b[0m\u001b]8;id=325914;file:///tmp/ipykernel_187379/617489973.py#4\u001b\\\u001b[2m4\u001b[0m\u001b]8;;\u001b\\\n"
            ]
          },
          "metadata": {},
          "output_type": "display_data"
        },
        {
          "data": {
            "text/html": [
              "<pre style=\"white-space:pre;overflow-x:auto;line-height:normal;font-family:Menlo,'DejaVu Sans Mono',consolas,'Courier New',monospace\"><span style=\"color: #7fbfbf; text-decoration-color: #7fbfbf\">[15:49:00] </span><span style=\"color: #000080; text-decoration-color: #000080\">INFO    </span> Running MCR5                                                                    <a href=\"file:///tmp/ipykernel_187379/617489973.py\" target=\"_blank\"><span style=\"color: #7f7f7f; text-decoration-color: #7f7f7f\">617489973.py</span></a><span style=\"color: #7f7f7f; text-decoration-color: #7f7f7f\">:</span><a href=\"file:///tmp/ipykernel_187379/617489973.py#12\" target=\"_blank\"><span style=\"color: #7f7f7f; text-decoration-color: #7f7f7f\">12</span></a>\n",
              "</pre>\n"
            ],
            "text/plain": [
              "\u001b[2;36m[15:49:00]\u001b[0m\u001b[2;36m \u001b[0m\u001b[34mINFO    \u001b[0m Running MCR5                                                                    \u001b]8;id=940859;file:///tmp/ipykernel_187379/617489973.py\u001b\\\u001b[2m617489973.py\u001b[0m\u001b]8;;\u001b\\\u001b[2m:\u001b[0m\u001b]8;id=702867;file:///tmp/ipykernel_187379/617489973.py#12\u001b\\\u001b[2m12\u001b[0m\u001b]8;;\u001b\\\n"
            ]
          },
          "metadata": {},
          "output_type": "display_data"
        },
        {
          "data": {
            "application/vnd.jupyter.widget-view+json": {
              "model_id": "c68923c3d41b41d4aafd4e5047cdd800",
              "version_major": 2,
              "version_minor": 0
            },
            "text/plain": [
              "Starting:   0%|          | 0/1782 [00:00<?, ?it/s]"
            ]
          },
          "metadata": {},
          "output_type": "display_data"
        },
        {
          "data": {
            "text/html": [
              "<pre style=\"white-space:pre;overflow-x:auto;line-height:normal;font-family:Menlo,'DejaVu Sans Mono',consolas,'Courier New',monospace\"><span style=\"color: #7fbfbf; text-decoration-color: #7fbfbf\">[16:05:27] </span><span style=\"color: #000080; text-decoration-color: #000080\">INFO    </span> All processes finished.                                                         <a href=\"file:///tmp/ipykernel_187379/617489973.py\" target=\"_blank\"><span style=\"color: #7f7f7f; text-decoration-color: #7f7f7f\">617489973.py</span></a><span style=\"color: #7f7f7f; text-decoration-color: #7f7f7f\">:</span><a href=\"file:///tmp/ipykernel_187379/617489973.py#12\" target=\"_blank\"><span style=\"color: #7f7f7f; text-decoration-color: #7f7f7f\">12</span></a>\n",
              "</pre>\n"
            ],
            "text/plain": [
              "\u001b[2;36m[16:05:27]\u001b[0m\u001b[2;36m \u001b[0m\u001b[34mINFO    \u001b[0m All processes finished.                                                         \u001b]8;id=493207;file:///tmp/ipykernel_187379/617489973.py\u001b\\\u001b[2m617489973.py\u001b[0m\u001b]8;;\u001b\\\u001b[2m:\u001b[0m\u001b]8;id=739730;file:///tmp/ipykernel_187379/617489973.py#12\u001b\\\u001b[2m12\u001b[0m\u001b]8;;\u001b\\\n"
            ]
          },
          "metadata": {},
          "output_type": "display_data"
        },
        {
          "data": {
            "text/html": [
              "<pre style=\"white-space:pre;overflow-x:auto;line-height:normal;font-family:Menlo,'DejaVu Sans Mono',consolas,'Courier New',monospace\"><span style=\"color: #7fbfbf; text-decoration-color: #7fbfbf\">[16:05:28] </span><span style=\"color: #000080; text-decoration-color: #000080\">INFO    </span> Running MCR5 done <span style=\"font-weight: bold\">(</span><span style=\"color: #00ff00; text-decoration-color: #00ff00; font-weight: bold\">16:27</span> minutes<span style=\"font-weight: bold\">)</span>                                               <a href=\"file:///tmp/ipykernel_187379/617489973.py\" target=\"_blank\"><span style=\"color: #7f7f7f; text-decoration-color: #7f7f7f\">617489973.py</span></a><span style=\"color: #7f7f7f; text-decoration-color: #7f7f7f\">:</span><a href=\"file:///tmp/ipykernel_187379/617489973.py#12\" target=\"_blank\"><span style=\"color: #7f7f7f; text-decoration-color: #7f7f7f\">12</span></a>\n",
              "</pre>\n"
            ],
            "text/plain": [
              "\u001b[2;36m[16:05:28]\u001b[0m\u001b[2;36m \u001b[0m\u001b[34mINFO    \u001b[0m Running MCR5 done \u001b[1m(\u001b[0m\u001b[1;92m16:27\u001b[0m minutes\u001b[1m)\u001b[0m                                               \u001b]8;id=111467;file:///tmp/ipykernel_187379/617489973.py\u001b\\\u001b[2m617489973.py\u001b[0m\u001b]8;;\u001b\\\u001b[2m:\u001b[0m\u001b]8;id=894795;file:///tmp/ipykernel_187379/617489973.py#12\u001b\\\u001b[2m12\u001b[0m\u001b]8;;\u001b\\\n"
            ]
          },
          "metadata": {},
          "output_type": "display_data"
        },
        {
          "data": {
            "text/html": [
              "<pre style=\"white-space:pre;overflow-x:auto;line-height:normal;font-family:Menlo,'DejaVu Sans Mono',consolas,'Courier New',monospace\"><span style=\"color: #7fbfbf; text-decoration-color: #7fbfbf\">           </span><span style=\"color: #000080; text-decoration-color: #000080\">INFO    </span> Running MCR5 for public_transport_1                                              <a href=\"file:///tmp/ipykernel_187379/617489973.py\" target=\"_blank\"><span style=\"color: #7f7f7f; text-decoration-color: #7f7f7f\">617489973.py</span></a><span style=\"color: #7f7f7f; text-decoration-color: #7f7f7f\">:</span><a href=\"file:///tmp/ipykernel_187379/617489973.py#2\" target=\"_blank\"><span style=\"color: #7f7f7f; text-decoration-color: #7f7f7f\">2</span></a>\n",
              "</pre>\n"
            ],
            "text/plain": [
              "\u001b[2;36m          \u001b[0m\u001b[2;36m \u001b[0m\u001b[34mINFO    \u001b[0m Running MCR5 for public_transport_1                                              \u001b]8;id=691798;file:///tmp/ipykernel_187379/617489973.py\u001b\\\u001b[2m617489973.py\u001b[0m\u001b]8;;\u001b\\\u001b[2m:\u001b[0m\u001b]8;id=720308;file:///tmp/ipykernel_187379/617489973.py#2\u001b\\\u001b[2m2\u001b[0m\u001b]8;;\u001b\\\n"
            ]
          },
          "metadata": {},
          "output_type": "display_data"
        },
        {
          "data": {
            "text/html": [
              "<pre style=\"white-space:pre;overflow-x:auto;line-height:normal;font-family:Menlo,'DejaVu Sans Mono',consolas,'Courier New',monospace\"><span style=\"color: #7fbfbf; text-decoration-color: #7fbfbf\">           </span><span style=\"color: #000080; text-decoration-color: #000080\">INFO    </span> Loading config                                                                   <a href=\"file:///tmp/ipykernel_187379/617489973.py\" target=\"_blank\"><span style=\"color: #7f7f7f; text-decoration-color: #7f7f7f\">617489973.py</span></a><span style=\"color: #7f7f7f; text-decoration-color: #7f7f7f\">:</span><a href=\"file:///tmp/ipykernel_187379/617489973.py#4\" target=\"_blank\"><span style=\"color: #7f7f7f; text-decoration-color: #7f7f7f\">4</span></a>\n",
              "</pre>\n"
            ],
            "text/plain": [
              "\u001b[2;36m          \u001b[0m\u001b[2;36m \u001b[0m\u001b[34mINFO    \u001b[0m Loading config                                                                   \u001b]8;id=694401;file:///tmp/ipykernel_187379/617489973.py\u001b\\\u001b[2m617489973.py\u001b[0m\u001b]8;;\u001b\\\u001b[2m:\u001b[0m\u001b]8;id=635271;file:///tmp/ipykernel_187379/617489973.py#4\u001b\\\u001b[2m4\u001b[0m\u001b]8;;\u001b\\\n"
            ]
          },
          "metadata": {},
          "output_type": "display_data"
        },
        {
          "data": {
            "text/html": [
              "<pre style=\"white-space:pre;overflow-x:auto;line-height:normal;font-family:Menlo,'DejaVu Sans Mono',consolas,'Courier New',monospace\"><span style=\"color: #7fbfbf; text-decoration-color: #7fbfbf\">           </span><span style=\"color: #000080; text-decoration-color: #000080\">INFO    </span> Using existing OSM data                                                          <a href=\"file:///tmp/ipykernel_187379/617489973.py\" target=\"_blank\"><span style=\"color: #7f7f7f; text-decoration-color: #7f7f7f\">617489973.py</span></a><span style=\"color: #7f7f7f; text-decoration-color: #7f7f7f\">:</span><a href=\"file:///tmp/ipykernel_187379/617489973.py#4\" target=\"_blank\"><span style=\"color: #7f7f7f; text-decoration-color: #7f7f7f\">4</span></a>\n",
              "</pre>\n"
            ],
            "text/plain": [
              "\u001b[2;36m          \u001b[0m\u001b[2;36m \u001b[0m\u001b[34mINFO    \u001b[0m Using existing OSM data                                                          \u001b]8;id=564183;file:///tmp/ipykernel_187379/617489973.py\u001b\\\u001b[2m617489973.py\u001b[0m\u001b]8;;\u001b\\\u001b[2m:\u001b[0m\u001b]8;id=369975;file:///tmp/ipykernel_187379/617489973.py#4\u001b\\\u001b[2m4\u001b[0m\u001b]8;;\u001b\\\n"
            ]
          },
          "metadata": {},
          "output_type": "display_data"
        },
        {
          "data": {
            "text/html": [
              "<pre style=\"white-space:pre;overflow-x:auto;line-height:normal;font-family:Menlo,'DejaVu Sans Mono',consolas,'Courier New',monospace\"><span style=\"color: #7fbfbf; text-decoration-color: #7fbfbf\">           </span><span style=\"color: #000080; text-decoration-color: #000080\">INFO    </span> Loading OSM network from cache <span style=\"font-weight: bold\">(</span>walking<span style=\"font-weight: bold\">)</span>                                         <a href=\"file:///tmp/ipykernel_187379/617489973.py\" target=\"_blank\"><span style=\"color: #7f7f7f; text-decoration-color: #7f7f7f\">617489973.py</span></a><span style=\"color: #7f7f7f; text-decoration-color: #7f7f7f\">:</span><a href=\"file:///tmp/ipykernel_187379/617489973.py#4\" target=\"_blank\"><span style=\"color: #7f7f7f; text-decoration-color: #7f7f7f\">4</span></a>\n",
              "</pre>\n"
            ],
            "text/plain": [
              "\u001b[2;36m          \u001b[0m\u001b[2;36m \u001b[0m\u001b[34mINFO    \u001b[0m Loading OSM network from cache \u001b[1m(\u001b[0mwalking\u001b[1m)\u001b[0m                                         \u001b]8;id=665925;file:///tmp/ipykernel_187379/617489973.py\u001b\\\u001b[2m617489973.py\u001b[0m\u001b]8;;\u001b\\\u001b[2m:\u001b[0m\u001b]8;id=763529;file:///tmp/ipykernel_187379/617489973.py#4\u001b\\\u001b[2m4\u001b[0m\u001b]8;;\u001b\\\n"
            ]
          },
          "metadata": {},
          "output_type": "display_data"
        },
        {
          "data": {
            "text/html": [
              "<pre style=\"white-space:pre;overflow-x:auto;line-height:normal;font-family:Menlo,'DejaVu Sans Mono',consolas,'Courier New',monospace\"><span style=\"color: #7fbfbf; text-decoration-color: #7fbfbf\">[16:06:43] </span><span style=\"color: #000080; text-decoration-color: #000080\">INFO    </span> Fetching POI for runtime optimization                                        <a href=\"file:///home/moritz/dev/uni/mcr-py/notebooks/../src/command/step_config.py\" target=\"_blank\"><span style=\"color: #7f7f7f; text-decoration-color: #7f7f7f\">step_config.py</span></a><span style=\"color: #7f7f7f; text-decoration-color: #7f7f7f\">:</span><a href=\"file:///home/moritz/dev/uni/mcr-py/notebooks/../src/command/step_config.py#145\" target=\"_blank\"><span style=\"color: #7f7f7f; text-decoration-color: #7f7f7f\">145</span></a>\n",
              "</pre>\n"
            ],
            "text/plain": [
              "\u001b[2;36m[16:06:43]\u001b[0m\u001b[2;36m \u001b[0m\u001b[34mINFO    \u001b[0m Fetching POI for runtime optimization                                        \u001b]8;id=363509;file:///home/moritz/dev/uni/mcr-py/notebooks/../src/command/step_config.py\u001b\\\u001b[2mstep_config.py\u001b[0m\u001b]8;;\u001b\\\u001b[2m:\u001b[0m\u001b]8;id=731595;file:///home/moritz/dev/uni/mcr-py/notebooks/../src/command/step_config.py#145\u001b\\\u001b[2m145\u001b[0m\u001b]8;;\u001b\\\n"
            ]
          },
          "metadata": {},
          "output_type": "display_data"
        },
        {
          "data": {
            "text/html": [
              "<pre style=\"white-space:pre;overflow-x:auto;line-height:normal;font-family:Menlo,'DejaVu Sans Mono',consolas,'Courier New',monospace\"><span style=\"color: #7fbfbf; text-decoration-color: #7fbfbf\">[16:06:44] </span><span style=\"color: #000080; text-decoration-color: #000080\">INFO    </span> Fetching POI for runtime optimization done <span style=\"font-weight: bold\">(</span><span style=\"color: #008080; text-decoration-color: #008080; font-weight: bold\">0.05</span> seconds<span style=\"font-weight: bold\">)</span>                    <a href=\"file:///home/moritz/dev/uni/mcr-py/notebooks/../src/command/step_config.py\" target=\"_blank\"><span style=\"color: #7f7f7f; text-decoration-color: #7f7f7f\">step_config.py</span></a><span style=\"color: #7f7f7f; text-decoration-color: #7f7f7f\">:</span><a href=\"file:///home/moritz/dev/uni/mcr-py/notebooks/../src/command/step_config.py#145\" target=\"_blank\"><span style=\"color: #7f7f7f; text-decoration-color: #7f7f7f\">145</span></a>\n",
              "</pre>\n"
            ],
            "text/plain": [
              "\u001b[2;36m[16:06:44]\u001b[0m\u001b[2;36m \u001b[0m\u001b[34mINFO    \u001b[0m Fetching POI for runtime optimization done \u001b[1m(\u001b[0m\u001b[1;36m0.05\u001b[0m seconds\u001b[1m)\u001b[0m                    \u001b]8;id=279328;file:///home/moritz/dev/uni/mcr-py/notebooks/../src/command/step_config.py\u001b\\\u001b[2mstep_config.py\u001b[0m\u001b]8;;\u001b\\\u001b[2m:\u001b[0m\u001b]8;id=650665;file:///home/moritz/dev/uni/mcr-py/notebooks/../src/command/step_config.py#145\u001b\\\u001b[2m145\u001b[0m\u001b]8;;\u001b\\\n"
            ]
          },
          "metadata": {},
          "output_type": "display_data"
        },
        {
          "data": {
            "text/html": [
              "<pre style=\"white-space:pre;overflow-x:auto;line-height:normal;font-family:Menlo,'DejaVu Sans Mono',consolas,'Courier New',monospace\"><span style=\"color: #7fbfbf; text-decoration-color: #7fbfbf\">[16:07:03] </span><span style=\"color: #000080; text-decoration-color: #000080\">INFO    </span> Reading stops                                                           <a href=\"file:///home/moritz/dev/uni/mcr-py/notebooks/../src/package/mcr/steps/public_transport.py\" target=\"_blank\"><span style=\"color: #7f7f7f; text-decoration-color: #7f7f7f\">public_transport.py</span></a><span style=\"color: #7f7f7f; text-decoration-color: #7f7f7f\">:</span><a href=\"file:///home/moritz/dev/uni/mcr-py/notebooks/../src/package/mcr/steps/public_transport.py#144\" target=\"_blank\"><span style=\"color: #7f7f7f; text-decoration-color: #7f7f7f\">144</span></a>\n",
              "</pre>\n"
            ],
            "text/plain": [
              "\u001b[2;36m[16:07:03]\u001b[0m\u001b[2;36m \u001b[0m\u001b[34mINFO    \u001b[0m Reading stops                                                           \u001b]8;id=964084;file:///home/moritz/dev/uni/mcr-py/notebooks/../src/package/mcr/steps/public_transport.py\u001b\\\u001b[2mpublic_transport.py\u001b[0m\u001b]8;;\u001b\\\u001b[2m:\u001b[0m\u001b]8;id=638857;file:///home/moritz/dev/uni/mcr-py/notebooks/../src/package/mcr/steps/public_transport.py#144\u001b\\\u001b[2m144\u001b[0m\u001b]8;;\u001b\\\n"
            ]
          },
          "metadata": {},
          "output_type": "display_data"
        },
        {
          "data": {
            "text/html": [
              "<pre style=\"white-space:pre;overflow-x:auto;line-height:normal;font-family:Menlo,'DejaVu Sans Mono',consolas,'Courier New',monospace\"><span style=\"color: #7fbfbf; text-decoration-color: #7fbfbf\">           </span><span style=\"color: #000080; text-decoration-color: #000080\">INFO    </span> Reading stops done <span style=\"font-weight: bold\">(</span><span style=\"color: #008080; text-decoration-color: #008080; font-weight: bold\">0.19</span> seconds<span style=\"font-weight: bold\">)</span>                                       <a href=\"file:///home/moritz/dev/uni/mcr-py/notebooks/../src/package/mcr/steps/public_transport.py\" target=\"_blank\"><span style=\"color: #7f7f7f; text-decoration-color: #7f7f7f\">public_transport.py</span></a><span style=\"color: #7f7f7f; text-decoration-color: #7f7f7f\">:</span><a href=\"file:///home/moritz/dev/uni/mcr-py/notebooks/../src/package/mcr/steps/public_transport.py#144\" target=\"_blank\"><span style=\"color: #7f7f7f; text-decoration-color: #7f7f7f\">144</span></a>\n",
              "</pre>\n"
            ],
            "text/plain": [
              "\u001b[2;36m          \u001b[0m\u001b[2;36m \u001b[0m\u001b[34mINFO    \u001b[0m Reading stops done \u001b[1m(\u001b[0m\u001b[1;36m0.19\u001b[0m seconds\u001b[1m)\u001b[0m                                       \u001b]8;id=690978;file:///home/moritz/dev/uni/mcr-py/notebooks/../src/package/mcr/steps/public_transport.py\u001b\\\u001b[2mpublic_transport.py\u001b[0m\u001b]8;;\u001b\\\u001b[2m:\u001b[0m\u001b]8;id=392966;file:///home/moritz/dev/uni/mcr-py/notebooks/../src/package/mcr/steps/public_transport.py#144\u001b\\\u001b[2m144\u001b[0m\u001b]8;;\u001b\\\n"
            ]
          },
          "metadata": {},
          "output_type": "display_data"
        },
        {
          "data": {
            "text/html": [
              "<pre style=\"white-space:pre;overflow-x:auto;line-height:normal;font-family:Menlo,'DejaVu Sans Mono',consolas,'Courier New',monospace\"><span style=\"color: #7fbfbf; text-decoration-color: #7fbfbf\">[16:07:13] </span><span style=\"color: #000080; text-decoration-color: #000080\">INFO    </span> Loading config done <span style=\"font-weight: bold\">(</span><span style=\"color: #00ff00; text-decoration-color: #00ff00; font-weight: bold\">1:45</span> minutes<span style=\"font-weight: bold\">)</span>                                               <a href=\"file:///tmp/ipykernel_187379/617489973.py\" target=\"_blank\"><span style=\"color: #7f7f7f; text-decoration-color: #7f7f7f\">617489973.py</span></a><span style=\"color: #7f7f7f; text-decoration-color: #7f7f7f\">:</span><a href=\"file:///tmp/ipykernel_187379/617489973.py#4\" target=\"_blank\"><span style=\"color: #7f7f7f; text-decoration-color: #7f7f7f\">4</span></a>\n",
              "</pre>\n"
            ],
            "text/plain": [
              "\u001b[2;36m[16:07:13]\u001b[0m\u001b[2;36m \u001b[0m\u001b[34mINFO    \u001b[0m Loading config done \u001b[1m(\u001b[0m\u001b[1;92m1:45\u001b[0m minutes\u001b[1m)\u001b[0m                                               \u001b]8;id=306339;file:///tmp/ipykernel_187379/617489973.py\u001b\\\u001b[2m617489973.py\u001b[0m\u001b]8;;\u001b\\\u001b[2m:\u001b[0m\u001b]8;id=302398;file:///tmp/ipykernel_187379/617489973.py#4\u001b\\\u001b[2m4\u001b[0m\u001b]8;;\u001b\\\n"
            ]
          },
          "metadata": {},
          "output_type": "display_data"
        },
        {
          "data": {
            "text/html": [
              "<pre style=\"white-space:pre;overflow-x:auto;line-height:normal;font-family:Menlo,'DejaVu Sans Mono',consolas,'Courier New',monospace\"><span style=\"color: #7fbfbf; text-decoration-color: #7fbfbf\">           </span><span style=\"color: #000080; text-decoration-color: #000080\">INFO    </span> Running MCR5                                                                    <a href=\"file:///tmp/ipykernel_187379/617489973.py\" target=\"_blank\"><span style=\"color: #7f7f7f; text-decoration-color: #7f7f7f\">617489973.py</span></a><span style=\"color: #7f7f7f; text-decoration-color: #7f7f7f\">:</span><a href=\"file:///tmp/ipykernel_187379/617489973.py#12\" target=\"_blank\"><span style=\"color: #7f7f7f; text-decoration-color: #7f7f7f\">12</span></a>\n",
              "</pre>\n"
            ],
            "text/plain": [
              "\u001b[2;36m          \u001b[0m\u001b[2;36m \u001b[0m\u001b[34mINFO    \u001b[0m Running MCR5                                                                    \u001b]8;id=463530;file:///tmp/ipykernel_187379/617489973.py\u001b\\\u001b[2m617489973.py\u001b[0m\u001b]8;;\u001b\\\u001b[2m:\u001b[0m\u001b]8;id=885147;file:///tmp/ipykernel_187379/617489973.py#12\u001b\\\u001b[2m12\u001b[0m\u001b]8;;\u001b\\\n"
            ]
          },
          "metadata": {},
          "output_type": "display_data"
        },
        {
          "data": {
            "application/vnd.jupyter.widget-view+json": {
              "model_id": "ca77c426a5ed4be28bde8ed4e78be21d",
              "version_major": 2,
              "version_minor": 0
            },
            "text/plain": [
              "Starting:   0%|          | 0/1782 [00:00<?, ?it/s]"
            ]
          },
          "metadata": {},
          "output_type": "display_data"
        },
        {
          "data": {
            "text/html": [
              "<pre style=\"white-space:pre;overflow-x:auto;line-height:normal;font-family:Menlo,'DejaVu Sans Mono',consolas,'Courier New',monospace\"><span style=\"color: #7fbfbf; text-decoration-color: #7fbfbf\">[16:23:39] </span><span style=\"color: #000080; text-decoration-color: #000080\">INFO    </span> All processes finished.                                                         <a href=\"file:///tmp/ipykernel_187379/617489973.py\" target=\"_blank\"><span style=\"color: #7f7f7f; text-decoration-color: #7f7f7f\">617489973.py</span></a><span style=\"color: #7f7f7f; text-decoration-color: #7f7f7f\">:</span><a href=\"file:///tmp/ipykernel_187379/617489973.py#12\" target=\"_blank\"><span style=\"color: #7f7f7f; text-decoration-color: #7f7f7f\">12</span></a>\n",
              "</pre>\n"
            ],
            "text/plain": [
              "\u001b[2;36m[16:23:39]\u001b[0m\u001b[2;36m \u001b[0m\u001b[34mINFO    \u001b[0m All processes finished.                                                         \u001b]8;id=765639;file:///tmp/ipykernel_187379/617489973.py\u001b\\\u001b[2m617489973.py\u001b[0m\u001b]8;;\u001b\\\u001b[2m:\u001b[0m\u001b]8;id=458884;file:///tmp/ipykernel_187379/617489973.py#12\u001b\\\u001b[2m12\u001b[0m\u001b]8;;\u001b\\\n"
            ]
          },
          "metadata": {},
          "output_type": "display_data"
        },
        {
          "data": {
            "text/html": [
              "<pre style=\"white-space:pre;overflow-x:auto;line-height:normal;font-family:Menlo,'DejaVu Sans Mono',consolas,'Courier New',monospace\"><span style=\"color: #7fbfbf; text-decoration-color: #7fbfbf\">           </span><span style=\"color: #000080; text-decoration-color: #000080\">INFO    </span> Running MCR5 done <span style=\"font-weight: bold\">(</span><span style=\"color: #00ff00; text-decoration-color: #00ff00; font-weight: bold\">16:25</span> minutes<span style=\"font-weight: bold\">)</span>                                               <a href=\"file:///tmp/ipykernel_187379/617489973.py\" target=\"_blank\"><span style=\"color: #7f7f7f; text-decoration-color: #7f7f7f\">617489973.py</span></a><span style=\"color: #7f7f7f; text-decoration-color: #7f7f7f\">:</span><a href=\"file:///tmp/ipykernel_187379/617489973.py#12\" target=\"_blank\"><span style=\"color: #7f7f7f; text-decoration-color: #7f7f7f\">12</span></a>\n",
              "</pre>\n"
            ],
            "text/plain": [
              "\u001b[2;36m          \u001b[0m\u001b[2;36m \u001b[0m\u001b[34mINFO    \u001b[0m Running MCR5 done \u001b[1m(\u001b[0m\u001b[1;92m16:25\u001b[0m minutes\u001b[1m)\u001b[0m                                               \u001b]8;id=192986;file:///tmp/ipykernel_187379/617489973.py\u001b\\\u001b[2m617489973.py\u001b[0m\u001b]8;;\u001b\\\u001b[2m:\u001b[0m\u001b]8;id=820749;file:///tmp/ipykernel_187379/617489973.py#12\u001b\\\u001b[2m12\u001b[0m\u001b]8;;\u001b\\\n"
            ]
          },
          "metadata": {},
          "output_type": "display_data"
        },
        {
          "data": {
            "text/html": [
              "<pre style=\"white-space:pre;overflow-x:auto;line-height:normal;font-family:Menlo,'DejaVu Sans Mono',consolas,'Courier New',monospace\"><span style=\"color: #7fbfbf; text-decoration-color: #7fbfbf\">           </span><span style=\"color: #000080; text-decoration-color: #000080\">INFO    </span> Running MCR5 for public_transport_2                                              <a href=\"file:///tmp/ipykernel_187379/617489973.py\" target=\"_blank\"><span style=\"color: #7f7f7f; text-decoration-color: #7f7f7f\">617489973.py</span></a><span style=\"color: #7f7f7f; text-decoration-color: #7f7f7f\">:</span><a href=\"file:///tmp/ipykernel_187379/617489973.py#2\" target=\"_blank\"><span style=\"color: #7f7f7f; text-decoration-color: #7f7f7f\">2</span></a>\n",
              "</pre>\n"
            ],
            "text/plain": [
              "\u001b[2;36m          \u001b[0m\u001b[2;36m \u001b[0m\u001b[34mINFO    \u001b[0m Running MCR5 for public_transport_2                                              \u001b]8;id=273768;file:///tmp/ipykernel_187379/617489973.py\u001b\\\u001b[2m617489973.py\u001b[0m\u001b]8;;\u001b\\\u001b[2m:\u001b[0m\u001b]8;id=575628;file:///tmp/ipykernel_187379/617489973.py#2\u001b\\\u001b[2m2\u001b[0m\u001b]8;;\u001b\\\n"
            ]
          },
          "metadata": {},
          "output_type": "display_data"
        },
        {
          "data": {
            "text/html": [
              "<pre style=\"white-space:pre;overflow-x:auto;line-height:normal;font-family:Menlo,'DejaVu Sans Mono',consolas,'Courier New',monospace\"><span style=\"color: #7fbfbf; text-decoration-color: #7fbfbf\">           </span><span style=\"color: #000080; text-decoration-color: #000080\">INFO    </span> Loading config                                                                   <a href=\"file:///tmp/ipykernel_187379/617489973.py\" target=\"_blank\"><span style=\"color: #7f7f7f; text-decoration-color: #7f7f7f\">617489973.py</span></a><span style=\"color: #7f7f7f; text-decoration-color: #7f7f7f\">:</span><a href=\"file:///tmp/ipykernel_187379/617489973.py#4\" target=\"_blank\"><span style=\"color: #7f7f7f; text-decoration-color: #7f7f7f\">4</span></a>\n",
              "</pre>\n"
            ],
            "text/plain": [
              "\u001b[2;36m          \u001b[0m\u001b[2;36m \u001b[0m\u001b[34mINFO    \u001b[0m Loading config                                                                   \u001b]8;id=43655;file:///tmp/ipykernel_187379/617489973.py\u001b\\\u001b[2m617489973.py\u001b[0m\u001b]8;;\u001b\\\u001b[2m:\u001b[0m\u001b]8;id=187519;file:///tmp/ipykernel_187379/617489973.py#4\u001b\\\u001b[2m4\u001b[0m\u001b]8;;\u001b\\\n"
            ]
          },
          "metadata": {},
          "output_type": "display_data"
        },
        {
          "data": {
            "text/html": [
              "<pre style=\"white-space:pre;overflow-x:auto;line-height:normal;font-family:Menlo,'DejaVu Sans Mono',consolas,'Courier New',monospace\"><span style=\"color: #7fbfbf; text-decoration-color: #7fbfbf\">           </span><span style=\"color: #000080; text-decoration-color: #000080\">INFO    </span> Using existing OSM data                                                          <a href=\"file:///tmp/ipykernel_187379/617489973.py\" target=\"_blank\"><span style=\"color: #7f7f7f; text-decoration-color: #7f7f7f\">617489973.py</span></a><span style=\"color: #7f7f7f; text-decoration-color: #7f7f7f\">:</span><a href=\"file:///tmp/ipykernel_187379/617489973.py#4\" target=\"_blank\"><span style=\"color: #7f7f7f; text-decoration-color: #7f7f7f\">4</span></a>\n",
              "</pre>\n"
            ],
            "text/plain": [
              "\u001b[2;36m          \u001b[0m\u001b[2;36m \u001b[0m\u001b[34mINFO    \u001b[0m Using existing OSM data                                                          \u001b]8;id=244643;file:///tmp/ipykernel_187379/617489973.py\u001b\\\u001b[2m617489973.py\u001b[0m\u001b]8;;\u001b\\\u001b[2m:\u001b[0m\u001b]8;id=292314;file:///tmp/ipykernel_187379/617489973.py#4\u001b\\\u001b[2m4\u001b[0m\u001b]8;;\u001b\\\n"
            ]
          },
          "metadata": {},
          "output_type": "display_data"
        },
        {
          "data": {
            "text/html": [
              "<pre style=\"white-space:pre;overflow-x:auto;line-height:normal;font-family:Menlo,'DejaVu Sans Mono',consolas,'Courier New',monospace\"><span style=\"color: #7fbfbf; text-decoration-color: #7fbfbf\">           </span><span style=\"color: #000080; text-decoration-color: #000080\">INFO    </span> Loading OSM network from cache <span style=\"font-weight: bold\">(</span>walking<span style=\"font-weight: bold\">)</span>                                         <a href=\"file:///tmp/ipykernel_187379/617489973.py\" target=\"_blank\"><span style=\"color: #7f7f7f; text-decoration-color: #7f7f7f\">617489973.py</span></a><span style=\"color: #7f7f7f; text-decoration-color: #7f7f7f\">:</span><a href=\"file:///tmp/ipykernel_187379/617489973.py#4\" target=\"_blank\"><span style=\"color: #7f7f7f; text-decoration-color: #7f7f7f\">4</span></a>\n",
              "</pre>\n"
            ],
            "text/plain": [
              "\u001b[2;36m          \u001b[0m\u001b[2;36m \u001b[0m\u001b[34mINFO    \u001b[0m Loading OSM network from cache \u001b[1m(\u001b[0mwalking\u001b[1m)\u001b[0m                                         \u001b]8;id=832160;file:///tmp/ipykernel_187379/617489973.py\u001b\\\u001b[2m617489973.py\u001b[0m\u001b]8;;\u001b\\\u001b[2m:\u001b[0m\u001b]8;id=56667;file:///tmp/ipykernel_187379/617489973.py#4\u001b\\\u001b[2m4\u001b[0m\u001b]8;;\u001b\\\n"
            ]
          },
          "metadata": {},
          "output_type": "display_data"
        },
        {
          "data": {
            "text/html": [
              "<pre style=\"white-space:pre;overflow-x:auto;line-height:normal;font-family:Menlo,'DejaVu Sans Mono',consolas,'Courier New',monospace\"><span style=\"color: #7fbfbf; text-decoration-color: #7fbfbf\">[16:24:56] </span><span style=\"color: #000080; text-decoration-color: #000080\">INFO    </span> Fetching POI for runtime optimization                                        <a href=\"file:///home/moritz/dev/uni/mcr-py/notebooks/../src/command/step_config.py\" target=\"_blank\"><span style=\"color: #7f7f7f; text-decoration-color: #7f7f7f\">step_config.py</span></a><span style=\"color: #7f7f7f; text-decoration-color: #7f7f7f\">:</span><a href=\"file:///home/moritz/dev/uni/mcr-py/notebooks/../src/command/step_config.py#145\" target=\"_blank\"><span style=\"color: #7f7f7f; text-decoration-color: #7f7f7f\">145</span></a>\n",
              "</pre>\n"
            ],
            "text/plain": [
              "\u001b[2;36m[16:24:56]\u001b[0m\u001b[2;36m \u001b[0m\u001b[34mINFO    \u001b[0m Fetching POI for runtime optimization                                        \u001b]8;id=655362;file:///home/moritz/dev/uni/mcr-py/notebooks/../src/command/step_config.py\u001b\\\u001b[2mstep_config.py\u001b[0m\u001b]8;;\u001b\\\u001b[2m:\u001b[0m\u001b]8;id=808692;file:///home/moritz/dev/uni/mcr-py/notebooks/../src/command/step_config.py#145\u001b\\\u001b[2m145\u001b[0m\u001b]8;;\u001b\\\n"
            ]
          },
          "metadata": {},
          "output_type": "display_data"
        },
        {
          "data": {
            "text/html": [
              "<pre style=\"white-space:pre;overflow-x:auto;line-height:normal;font-family:Menlo,'DejaVu Sans Mono',consolas,'Courier New',monospace\"><span style=\"color: #7fbfbf; text-decoration-color: #7fbfbf\">           </span><span style=\"color: #000080; text-decoration-color: #000080\">INFO    </span> Fetching POI for runtime optimization done <span style=\"font-weight: bold\">(</span><span style=\"color: #008080; text-decoration-color: #008080; font-weight: bold\">0.05</span> seconds<span style=\"font-weight: bold\">)</span>                    <a href=\"file:///home/moritz/dev/uni/mcr-py/notebooks/../src/command/step_config.py\" target=\"_blank\"><span style=\"color: #7f7f7f; text-decoration-color: #7f7f7f\">step_config.py</span></a><span style=\"color: #7f7f7f; text-decoration-color: #7f7f7f\">:</span><a href=\"file:///home/moritz/dev/uni/mcr-py/notebooks/../src/command/step_config.py#145\" target=\"_blank\"><span style=\"color: #7f7f7f; text-decoration-color: #7f7f7f\">145</span></a>\n",
              "</pre>\n"
            ],
            "text/plain": [
              "\u001b[2;36m          \u001b[0m\u001b[2;36m \u001b[0m\u001b[34mINFO    \u001b[0m Fetching POI for runtime optimization done \u001b[1m(\u001b[0m\u001b[1;36m0.05\u001b[0m seconds\u001b[1m)\u001b[0m                    \u001b]8;id=525064;file:///home/moritz/dev/uni/mcr-py/notebooks/../src/command/step_config.py\u001b\\\u001b[2mstep_config.py\u001b[0m\u001b]8;;\u001b\\\u001b[2m:\u001b[0m\u001b]8;id=117620;file:///home/moritz/dev/uni/mcr-py/notebooks/../src/command/step_config.py#145\u001b\\\u001b[2m145\u001b[0m\u001b]8;;\u001b\\\n"
            ]
          },
          "metadata": {},
          "output_type": "display_data"
        },
        {
          "data": {
            "text/html": [
              "<pre style=\"white-space:pre;overflow-x:auto;line-height:normal;font-family:Menlo,'DejaVu Sans Mono',consolas,'Courier New',monospace\"><span style=\"color: #7fbfbf; text-decoration-color: #7fbfbf\">[16:25:20] </span><span style=\"color: #000080; text-decoration-color: #000080\">INFO    </span> Reading stops                                                           <a href=\"file:///home/moritz/dev/uni/mcr-py/notebooks/../src/package/mcr/steps/public_transport.py\" target=\"_blank\"><span style=\"color: #7f7f7f; text-decoration-color: #7f7f7f\">public_transport.py</span></a><span style=\"color: #7f7f7f; text-decoration-color: #7f7f7f\">:</span><a href=\"file:///home/moritz/dev/uni/mcr-py/notebooks/../src/package/mcr/steps/public_transport.py#144\" target=\"_blank\"><span style=\"color: #7f7f7f; text-decoration-color: #7f7f7f\">144</span></a>\n",
              "</pre>\n"
            ],
            "text/plain": [
              "\u001b[2;36m[16:25:20]\u001b[0m\u001b[2;36m \u001b[0m\u001b[34mINFO    \u001b[0m Reading stops                                                           \u001b]8;id=504873;file:///home/moritz/dev/uni/mcr-py/notebooks/../src/package/mcr/steps/public_transport.py\u001b\\\u001b[2mpublic_transport.py\u001b[0m\u001b]8;;\u001b\\\u001b[2m:\u001b[0m\u001b]8;id=442845;file:///home/moritz/dev/uni/mcr-py/notebooks/../src/package/mcr/steps/public_transport.py#144\u001b\\\u001b[2m144\u001b[0m\u001b]8;;\u001b\\\n"
            ]
          },
          "metadata": {},
          "output_type": "display_data"
        },
        {
          "data": {
            "text/html": [
              "<pre style=\"white-space:pre;overflow-x:auto;line-height:normal;font-family:Menlo,'DejaVu Sans Mono',consolas,'Courier New',monospace\"><span style=\"color: #7fbfbf; text-decoration-color: #7fbfbf\">           </span><span style=\"color: #000080; text-decoration-color: #000080\">INFO    </span> Reading stops done <span style=\"font-weight: bold\">(</span><span style=\"color: #008080; text-decoration-color: #008080; font-weight: bold\">0.20</span> seconds<span style=\"font-weight: bold\">)</span>                                       <a href=\"file:///home/moritz/dev/uni/mcr-py/notebooks/../src/package/mcr/steps/public_transport.py\" target=\"_blank\"><span style=\"color: #7f7f7f; text-decoration-color: #7f7f7f\">public_transport.py</span></a><span style=\"color: #7f7f7f; text-decoration-color: #7f7f7f\">:</span><a href=\"file:///home/moritz/dev/uni/mcr-py/notebooks/../src/package/mcr/steps/public_transport.py#144\" target=\"_blank\"><span style=\"color: #7f7f7f; text-decoration-color: #7f7f7f\">144</span></a>\n",
              "</pre>\n"
            ],
            "text/plain": [
              "\u001b[2;36m          \u001b[0m\u001b[2;36m \u001b[0m\u001b[34mINFO    \u001b[0m Reading stops done \u001b[1m(\u001b[0m\u001b[1;36m0.20\u001b[0m seconds\u001b[1m)\u001b[0m                                       \u001b]8;id=945902;file:///home/moritz/dev/uni/mcr-py/notebooks/../src/package/mcr/steps/public_transport.py\u001b\\\u001b[2mpublic_transport.py\u001b[0m\u001b]8;;\u001b\\\u001b[2m:\u001b[0m\u001b]8;id=730368;file:///home/moritz/dev/uni/mcr-py/notebooks/../src/package/mcr/steps/public_transport.py#144\u001b\\\u001b[2m144\u001b[0m\u001b]8;;\u001b\\\n"
            ]
          },
          "metadata": {},
          "output_type": "display_data"
        },
        {
          "data": {
            "text/html": [
              "<pre style=\"white-space:pre;overflow-x:auto;line-height:normal;font-family:Menlo,'DejaVu Sans Mono',consolas,'Courier New',monospace\"><span style=\"color: #7fbfbf; text-decoration-color: #7fbfbf\">[16:25:28] </span><span style=\"color: #000080; text-decoration-color: #000080\">INFO    </span> Loading config done <span style=\"font-weight: bold\">(</span><span style=\"color: #00ff00; text-decoration-color: #00ff00; font-weight: bold\">1:48</span> minutes<span style=\"font-weight: bold\">)</span>                                               <a href=\"file:///tmp/ipykernel_187379/617489973.py\" target=\"_blank\"><span style=\"color: #7f7f7f; text-decoration-color: #7f7f7f\">617489973.py</span></a><span style=\"color: #7f7f7f; text-decoration-color: #7f7f7f\">:</span><a href=\"file:///tmp/ipykernel_187379/617489973.py#4\" target=\"_blank\"><span style=\"color: #7f7f7f; text-decoration-color: #7f7f7f\">4</span></a>\n",
              "</pre>\n"
            ],
            "text/plain": [
              "\u001b[2;36m[16:25:28]\u001b[0m\u001b[2;36m \u001b[0m\u001b[34mINFO    \u001b[0m Loading config done \u001b[1m(\u001b[0m\u001b[1;92m1:48\u001b[0m minutes\u001b[1m)\u001b[0m                                               \u001b]8;id=933535;file:///tmp/ipykernel_187379/617489973.py\u001b\\\u001b[2m617489973.py\u001b[0m\u001b]8;;\u001b\\\u001b[2m:\u001b[0m\u001b]8;id=778927;file:///tmp/ipykernel_187379/617489973.py#4\u001b\\\u001b[2m4\u001b[0m\u001b]8;;\u001b\\\n"
            ]
          },
          "metadata": {},
          "output_type": "display_data"
        },
        {
          "data": {
            "text/html": [
              "<pre style=\"white-space:pre;overflow-x:auto;line-height:normal;font-family:Menlo,'DejaVu Sans Mono',consolas,'Courier New',monospace\"><span style=\"color: #7fbfbf; text-decoration-color: #7fbfbf\">           </span><span style=\"color: #000080; text-decoration-color: #000080\">INFO    </span> Running MCR5                                                                    <a href=\"file:///tmp/ipykernel_187379/617489973.py\" target=\"_blank\"><span style=\"color: #7f7f7f; text-decoration-color: #7f7f7f\">617489973.py</span></a><span style=\"color: #7f7f7f; text-decoration-color: #7f7f7f\">:</span><a href=\"file:///tmp/ipykernel_187379/617489973.py#12\" target=\"_blank\"><span style=\"color: #7f7f7f; text-decoration-color: #7f7f7f\">12</span></a>\n",
              "</pre>\n"
            ],
            "text/plain": [
              "\u001b[2;36m          \u001b[0m\u001b[2;36m \u001b[0m\u001b[34mINFO    \u001b[0m Running MCR5                                                                    \u001b]8;id=162531;file:///tmp/ipykernel_187379/617489973.py\u001b\\\u001b[2m617489973.py\u001b[0m\u001b]8;;\u001b\\\u001b[2m:\u001b[0m\u001b]8;id=546676;file:///tmp/ipykernel_187379/617489973.py#12\u001b\\\u001b[2m12\u001b[0m\u001b]8;;\u001b\\\n"
            ]
          },
          "metadata": {},
          "output_type": "display_data"
        },
        {
          "data": {
            "application/vnd.jupyter.widget-view+json": {
              "model_id": "9fff648c438e4508ad39b2f6a5f2cdb1",
              "version_major": 2,
              "version_minor": 0
            },
            "text/plain": [
              "Starting:   0%|          | 0/1782 [00:00<?, ?it/s]"
            ]
          },
          "metadata": {},
          "output_type": "display_data"
        },
        {
          "data": {
            "text/html": [
              "<pre style=\"white-space:pre;overflow-x:auto;line-height:normal;font-family:Menlo,'DejaVu Sans Mono',consolas,'Courier New',monospace\"><span style=\"color: #7fbfbf; text-decoration-color: #7fbfbf\">[16:42:04] </span><span style=\"color: #000080; text-decoration-color: #000080\">INFO    </span> All processes finished.                                                         <a href=\"file:///tmp/ipykernel_187379/617489973.py\" target=\"_blank\"><span style=\"color: #7f7f7f; text-decoration-color: #7f7f7f\">617489973.py</span></a><span style=\"color: #7f7f7f; text-decoration-color: #7f7f7f\">:</span><a href=\"file:///tmp/ipykernel_187379/617489973.py#12\" target=\"_blank\"><span style=\"color: #7f7f7f; text-decoration-color: #7f7f7f\">12</span></a>\n",
              "</pre>\n"
            ],
            "text/plain": [
              "\u001b[2;36m[16:42:04]\u001b[0m\u001b[2;36m \u001b[0m\u001b[34mINFO    \u001b[0m All processes finished.                                                         \u001b]8;id=839602;file:///tmp/ipykernel_187379/617489973.py\u001b\\\u001b[2m617489973.py\u001b[0m\u001b]8;;\u001b\\\u001b[2m:\u001b[0m\u001b]8;id=667939;file:///tmp/ipykernel_187379/617489973.py#12\u001b\\\u001b[2m12\u001b[0m\u001b]8;;\u001b\\\n"
            ]
          },
          "metadata": {},
          "output_type": "display_data"
        },
        {
          "data": {
            "text/html": [
              "<pre style=\"white-space:pre;overflow-x:auto;line-height:normal;font-family:Menlo,'DejaVu Sans Mono',consolas,'Courier New',monospace\"><span style=\"color: #7fbfbf; text-decoration-color: #7fbfbf\">           </span><span style=\"color: #000080; text-decoration-color: #000080\">INFO    </span> Running MCR5 done <span style=\"font-weight: bold\">(</span><span style=\"color: #00ff00; text-decoration-color: #00ff00; font-weight: bold\">16:36</span> minutes<span style=\"font-weight: bold\">)</span>                                               <a href=\"file:///tmp/ipykernel_187379/617489973.py\" target=\"_blank\"><span style=\"color: #7f7f7f; text-decoration-color: #7f7f7f\">617489973.py</span></a><span style=\"color: #7f7f7f; text-decoration-color: #7f7f7f\">:</span><a href=\"file:///tmp/ipykernel_187379/617489973.py#12\" target=\"_blank\"><span style=\"color: #7f7f7f; text-decoration-color: #7f7f7f\">12</span></a>\n",
              "</pre>\n"
            ],
            "text/plain": [
              "\u001b[2;36m          \u001b[0m\u001b[2;36m \u001b[0m\u001b[34mINFO    \u001b[0m Running MCR5 done \u001b[1m(\u001b[0m\u001b[1;92m16:36\u001b[0m minutes\u001b[1m)\u001b[0m                                               \u001b]8;id=820920;file:///tmp/ipykernel_187379/617489973.py\u001b\\\u001b[2m617489973.py\u001b[0m\u001b]8;;\u001b\\\u001b[2m:\u001b[0m\u001b]8;id=83458;file:///tmp/ipykernel_187379/617489973.py#12\u001b\\\u001b[2m12\u001b[0m\u001b]8;;\u001b\\\n"
            ]
          },
          "metadata": {},
          "output_type": "display_data"
        },
        {
          "data": {
            "text/html": [
              "<pre style=\"white-space:pre;overflow-x:auto;line-height:normal;font-family:Menlo,'DejaVu Sans Mono',consolas,'Courier New',monospace\"><span style=\"color: #7fbfbf; text-decoration-color: #7fbfbf\">           </span><span style=\"color: #000080; text-decoration-color: #000080\">INFO    </span> Running MCR5 for bicycle_0                                                       <a href=\"file:///tmp/ipykernel_187379/617489973.py\" target=\"_blank\"><span style=\"color: #7f7f7f; text-decoration-color: #7f7f7f\">617489973.py</span></a><span style=\"color: #7f7f7f; text-decoration-color: #7f7f7f\">:</span><a href=\"file:///tmp/ipykernel_187379/617489973.py#2\" target=\"_blank\"><span style=\"color: #7f7f7f; text-decoration-color: #7f7f7f\">2</span></a>\n",
              "</pre>\n"
            ],
            "text/plain": [
              "\u001b[2;36m          \u001b[0m\u001b[2;36m \u001b[0m\u001b[34mINFO    \u001b[0m Running MCR5 for bicycle_0                                                       \u001b]8;id=796288;file:///tmp/ipykernel_187379/617489973.py\u001b\\\u001b[2m617489973.py\u001b[0m\u001b]8;;\u001b\\\u001b[2m:\u001b[0m\u001b]8;id=150634;file:///tmp/ipykernel_187379/617489973.py#2\u001b\\\u001b[2m2\u001b[0m\u001b]8;;\u001b\\\n"
            ]
          },
          "metadata": {},
          "output_type": "display_data"
        },
        {
          "data": {
            "text/html": [
              "<pre style=\"white-space:pre;overflow-x:auto;line-height:normal;font-family:Menlo,'DejaVu Sans Mono',consolas,'Courier New',monospace\"><span style=\"color: #7fbfbf; text-decoration-color: #7fbfbf\">           </span><span style=\"color: #000080; text-decoration-color: #000080\">INFO    </span> Loading config                                                                   <a href=\"file:///tmp/ipykernel_187379/617489973.py\" target=\"_blank\"><span style=\"color: #7f7f7f; text-decoration-color: #7f7f7f\">617489973.py</span></a><span style=\"color: #7f7f7f; text-decoration-color: #7f7f7f\">:</span><a href=\"file:///tmp/ipykernel_187379/617489973.py#4\" target=\"_blank\"><span style=\"color: #7f7f7f; text-decoration-color: #7f7f7f\">4</span></a>\n",
              "</pre>\n"
            ],
            "text/plain": [
              "\u001b[2;36m          \u001b[0m\u001b[2;36m \u001b[0m\u001b[34mINFO    \u001b[0m Loading config                                                                   \u001b]8;id=620210;file:///tmp/ipykernel_187379/617489973.py\u001b\\\u001b[2m617489973.py\u001b[0m\u001b]8;;\u001b\\\u001b[2m:\u001b[0m\u001b]8;id=217994;file:///tmp/ipykernel_187379/617489973.py#4\u001b\\\u001b[2m4\u001b[0m\u001b]8;;\u001b\\\n"
            ]
          },
          "metadata": {},
          "output_type": "display_data"
        },
        {
          "data": {
            "text/html": [
              "<pre style=\"white-space:pre;overflow-x:auto;line-height:normal;font-family:Menlo,'DejaVu Sans Mono',consolas,'Courier New',monospace\"><span style=\"color: #7fbfbf; text-decoration-color: #7fbfbf\">           </span><span style=\"color: #000080; text-decoration-color: #000080\">INFO    </span> Using existing OSM data                                                          <a href=\"file:///tmp/ipykernel_187379/617489973.py\" target=\"_blank\"><span style=\"color: #7f7f7f; text-decoration-color: #7f7f7f\">617489973.py</span></a><span style=\"color: #7f7f7f; text-decoration-color: #7f7f7f\">:</span><a href=\"file:///tmp/ipykernel_187379/617489973.py#4\" target=\"_blank\"><span style=\"color: #7f7f7f; text-decoration-color: #7f7f7f\">4</span></a>\n",
              "</pre>\n"
            ],
            "text/plain": [
              "\u001b[2;36m          \u001b[0m\u001b[2;36m \u001b[0m\u001b[34mINFO    \u001b[0m Using existing OSM data                                                          \u001b]8;id=127659;file:///tmp/ipykernel_187379/617489973.py\u001b\\\u001b[2m617489973.py\u001b[0m\u001b]8;;\u001b\\\u001b[2m:\u001b[0m\u001b]8;id=398751;file:///tmp/ipykernel_187379/617489973.py#4\u001b\\\u001b[2m4\u001b[0m\u001b]8;;\u001b\\\n"
            ]
          },
          "metadata": {},
          "output_type": "display_data"
        },
        {
          "data": {
            "text/html": [
              "<pre style=\"white-space:pre;overflow-x:auto;line-height:normal;font-family:Menlo,'DejaVu Sans Mono',consolas,'Courier New',monospace\"><span style=\"color: #7fbfbf; text-decoration-color: #7fbfbf\">           </span><span style=\"color: #000080; text-decoration-color: #000080\">INFO    </span> Loading OSM network from cache <span style=\"font-weight: bold\">(</span>walking<span style=\"font-weight: bold\">)</span>                                         <a href=\"file:///tmp/ipykernel_187379/617489973.py\" target=\"_blank\"><span style=\"color: #7f7f7f; text-decoration-color: #7f7f7f\">617489973.py</span></a><span style=\"color: #7f7f7f; text-decoration-color: #7f7f7f\">:</span><a href=\"file:///tmp/ipykernel_187379/617489973.py#4\" target=\"_blank\"><span style=\"color: #7f7f7f; text-decoration-color: #7f7f7f\">4</span></a>\n",
              "</pre>\n"
            ],
            "text/plain": [
              "\u001b[2;36m          \u001b[0m\u001b[2;36m \u001b[0m\u001b[34mINFO    \u001b[0m Loading OSM network from cache \u001b[1m(\u001b[0mwalking\u001b[1m)\u001b[0m                                         \u001b]8;id=884663;file:///tmp/ipykernel_187379/617489973.py\u001b\\\u001b[2m617489973.py\u001b[0m\u001b]8;;\u001b\\\u001b[2m:\u001b[0m\u001b]8;id=629836;file:///tmp/ipykernel_187379/617489973.py#4\u001b\\\u001b[2m4\u001b[0m\u001b]8;;\u001b\\\n"
            ]
          },
          "metadata": {},
          "output_type": "display_data"
        },
        {
          "data": {
            "text/html": [
              "<pre style=\"white-space:pre;overflow-x:auto;line-height:normal;font-family:Menlo,'DejaVu Sans Mono',consolas,'Courier New',monospace\"><span style=\"color: #7fbfbf; text-decoration-color: #7fbfbf\">[16:43:24] </span><span style=\"color: #000080; text-decoration-color: #000080\">INFO    </span> Using existing OSM data                                                          <a href=\"file:///tmp/ipykernel_187379/617489973.py\" target=\"_blank\"><span style=\"color: #7f7f7f; text-decoration-color: #7f7f7f\">617489973.py</span></a><span style=\"color: #7f7f7f; text-decoration-color: #7f7f7f\">:</span><a href=\"file:///tmp/ipykernel_187379/617489973.py#4\" target=\"_blank\"><span style=\"color: #7f7f7f; text-decoration-color: #7f7f7f\">4</span></a>\n",
              "</pre>\n"
            ],
            "text/plain": [
              "\u001b[2;36m[16:43:24]\u001b[0m\u001b[2;36m \u001b[0m\u001b[34mINFO    \u001b[0m Using existing OSM data                                                          \u001b]8;id=820793;file:///tmp/ipykernel_187379/617489973.py\u001b\\\u001b[2m617489973.py\u001b[0m\u001b]8;;\u001b\\\u001b[2m:\u001b[0m\u001b]8;id=475601;file:///tmp/ipykernel_187379/617489973.py#4\u001b\\\u001b[2m4\u001b[0m\u001b]8;;\u001b\\\n"
            ]
          },
          "metadata": {},
          "output_type": "display_data"
        },
        {
          "data": {
            "text/html": [
              "<pre style=\"white-space:pre;overflow-x:auto;line-height:normal;font-family:Menlo,'DejaVu Sans Mono',consolas,'Courier New',monospace\"><span style=\"color: #7fbfbf; text-decoration-color: #7fbfbf\">           </span><span style=\"color: #000080; text-decoration-color: #000080\">INFO    </span> Loading OSM network from cache <span style=\"font-weight: bold\">(</span>cycling<span style=\"font-weight: bold\">)</span>                                         <a href=\"file:///tmp/ipykernel_187379/617489973.py\" target=\"_blank\"><span style=\"color: #7f7f7f; text-decoration-color: #7f7f7f\">617489973.py</span></a><span style=\"color: #7f7f7f; text-decoration-color: #7f7f7f\">:</span><a href=\"file:///tmp/ipykernel_187379/617489973.py#4\" target=\"_blank\"><span style=\"color: #7f7f7f; text-decoration-color: #7f7f7f\">4</span></a>\n",
              "</pre>\n"
            ],
            "text/plain": [
              "\u001b[2;36m          \u001b[0m\u001b[2;36m \u001b[0m\u001b[34mINFO    \u001b[0m Loading OSM network from cache \u001b[1m(\u001b[0mcycling\u001b[1m)\u001b[0m                                         \u001b]8;id=316267;file:///tmp/ipykernel_187379/617489973.py\u001b\\\u001b[2m617489973.py\u001b[0m\u001b]8;;\u001b\\\u001b[2m:\u001b[0m\u001b]8;id=942154;file:///tmp/ipykernel_187379/617489973.py#4\u001b\\\u001b[2m4\u001b[0m\u001b]8;;\u001b\\\n"
            ]
          },
          "metadata": {},
          "output_type": "display_data"
        },
        {
          "data": {
            "text/html": [
              "<pre style=\"white-space:pre;overflow-x:auto;line-height:normal;font-family:Menlo,'DejaVu Sans Mono',consolas,'Courier New',monospace\"><span style=\"color: #7fbfbf; text-decoration-color: #7fbfbf\">[16:44:27] </span><span style=\"color: #000080; text-decoration-color: #000080\">INFO    </span> Fetching POI for runtime optimization                                         <a href=\"file:///home/moritz/dev/uni/mcr-py/notebooks/../src/command/step_config.py\" target=\"_blank\"><span style=\"color: #7f7f7f; text-decoration-color: #7f7f7f\">step_config.py</span></a><span style=\"color: #7f7f7f; text-decoration-color: #7f7f7f\">:</span><a href=\"file:///home/moritz/dev/uni/mcr-py/notebooks/../src/command/step_config.py#93\" target=\"_blank\"><span style=\"color: #7f7f7f; text-decoration-color: #7f7f7f\">93</span></a>\n",
              "</pre>\n"
            ],
            "text/plain": [
              "\u001b[2;36m[16:44:27]\u001b[0m\u001b[2;36m \u001b[0m\u001b[34mINFO    \u001b[0m Fetching POI for runtime optimization                                         \u001b]8;id=138609;file:///home/moritz/dev/uni/mcr-py/notebooks/../src/command/step_config.py\u001b\\\u001b[2mstep_config.py\u001b[0m\u001b]8;;\u001b\\\u001b[2m:\u001b[0m\u001b]8;id=458451;file:///home/moritz/dev/uni/mcr-py/notebooks/../src/command/step_config.py#93\u001b\\\u001b[2m93\u001b[0m\u001b]8;;\u001b\\\n"
            ]
          },
          "metadata": {},
          "output_type": "display_data"
        },
        {
          "data": {
            "text/html": [
              "<pre style=\"white-space:pre;overflow-x:auto;line-height:normal;font-family:Menlo,'DejaVu Sans Mono',consolas,'Courier New',monospace\"><span style=\"color: #7fbfbf; text-decoration-color: #7fbfbf\">           </span><span style=\"color: #000080; text-decoration-color: #000080\">INFO    </span> Fetching POI for runtime optimization done <span style=\"font-weight: bold\">(</span><span style=\"color: #008080; text-decoration-color: #008080; font-weight: bold\">0.09</span> seconds<span style=\"font-weight: bold\">)</span>                     <a href=\"file:///home/moritz/dev/uni/mcr-py/notebooks/../src/command/step_config.py\" target=\"_blank\"><span style=\"color: #7f7f7f; text-decoration-color: #7f7f7f\">step_config.py</span></a><span style=\"color: #7f7f7f; text-decoration-color: #7f7f7f\">:</span><a href=\"file:///home/moritz/dev/uni/mcr-py/notebooks/../src/command/step_config.py#93\" target=\"_blank\"><span style=\"color: #7f7f7f; text-decoration-color: #7f7f7f\">93</span></a>\n",
              "</pre>\n"
            ],
            "text/plain": [
              "\u001b[2;36m          \u001b[0m\u001b[2;36m \u001b[0m\u001b[34mINFO    \u001b[0m Fetching POI for runtime optimization done \u001b[1m(\u001b[0m\u001b[1;36m0.09\u001b[0m seconds\u001b[1m)\u001b[0m                     \u001b]8;id=877124;file:///home/moritz/dev/uni/mcr-py/notebooks/../src/command/step_config.py\u001b\\\u001b[2mstep_config.py\u001b[0m\u001b]8;;\u001b\\\u001b[2m:\u001b[0m\u001b]8;id=59353;file:///home/moritz/dev/uni/mcr-py/notebooks/../src/command/step_config.py#93\u001b\\\u001b[2m93\u001b[0m\u001b]8;;\u001b\\\n"
            ]
          },
          "metadata": {},
          "output_type": "display_data"
        },
        {
          "data": {
            "text/html": [
              "<pre style=\"white-space:pre;overflow-x:auto;line-height:normal;font-family:Menlo,'DejaVu Sans Mono',consolas,'Courier New',monospace\"><span style=\"color: #7fbfbf; text-decoration-color: #7fbfbf\">[16:46:01] </span><span style=\"color: #000080; text-decoration-color: #000080\">INFO    </span> Loading config done <span style=\"font-weight: bold\">(</span><span style=\"color: #00ff00; text-decoration-color: #00ff00; font-weight: bold\">3:56</span> minutes<span style=\"font-weight: bold\">)</span>                                               <a href=\"file:///tmp/ipykernel_187379/617489973.py\" target=\"_blank\"><span style=\"color: #7f7f7f; text-decoration-color: #7f7f7f\">617489973.py</span></a><span style=\"color: #7f7f7f; text-decoration-color: #7f7f7f\">:</span><a href=\"file:///tmp/ipykernel_187379/617489973.py#4\" target=\"_blank\"><span style=\"color: #7f7f7f; text-decoration-color: #7f7f7f\">4</span></a>\n",
              "</pre>\n"
            ],
            "text/plain": [
              "\u001b[2;36m[16:46:01]\u001b[0m\u001b[2;36m \u001b[0m\u001b[34mINFO    \u001b[0m Loading config done \u001b[1m(\u001b[0m\u001b[1;92m3:56\u001b[0m minutes\u001b[1m)\u001b[0m                                               \u001b]8;id=856900;file:///tmp/ipykernel_187379/617489973.py\u001b\\\u001b[2m617489973.py\u001b[0m\u001b]8;;\u001b\\\u001b[2m:\u001b[0m\u001b]8;id=7020;file:///tmp/ipykernel_187379/617489973.py#4\u001b\\\u001b[2m4\u001b[0m\u001b]8;;\u001b\\\n"
            ]
          },
          "metadata": {},
          "output_type": "display_data"
        },
        {
          "data": {
            "text/html": [
              "<pre style=\"white-space:pre;overflow-x:auto;line-height:normal;font-family:Menlo,'DejaVu Sans Mono',consolas,'Courier New',monospace\"><span style=\"color: #7fbfbf; text-decoration-color: #7fbfbf\">           </span><span style=\"color: #000080; text-decoration-color: #000080\">INFO    </span> Running MCR5                                                                    <a href=\"file:///tmp/ipykernel_187379/617489973.py\" target=\"_blank\"><span style=\"color: #7f7f7f; text-decoration-color: #7f7f7f\">617489973.py</span></a><span style=\"color: #7f7f7f; text-decoration-color: #7f7f7f\">:</span><a href=\"file:///tmp/ipykernel_187379/617489973.py#12\" target=\"_blank\"><span style=\"color: #7f7f7f; text-decoration-color: #7f7f7f\">12</span></a>\n",
              "</pre>\n"
            ],
            "text/plain": [
              "\u001b[2;36m          \u001b[0m\u001b[2;36m \u001b[0m\u001b[34mINFO    \u001b[0m Running MCR5                                                                    \u001b]8;id=681483;file:///tmp/ipykernel_187379/617489973.py\u001b\\\u001b[2m617489973.py\u001b[0m\u001b]8;;\u001b\\\u001b[2m:\u001b[0m\u001b]8;id=130191;file:///tmp/ipykernel_187379/617489973.py#12\u001b\\\u001b[2m12\u001b[0m\u001b]8;;\u001b\\\n"
            ]
          },
          "metadata": {},
          "output_type": "display_data"
        },
        {
          "data": {
            "application/vnd.jupyter.widget-view+json": {
              "model_id": "21570e506fc044ac894a80c99cb23b11",
              "version_major": 2,
              "version_minor": 0
            },
            "text/plain": [
              "Starting:   0%|          | 0/1782 [00:00<?, ?it/s]"
            ]
          },
          "metadata": {},
          "output_type": "display_data"
        },
        {
          "data": {
            "text/html": [
              "<pre style=\"white-space:pre;overflow-x:auto;line-height:normal;font-family:Menlo,'DejaVu Sans Mono',consolas,'Courier New',monospace\"><span style=\"color: #7fbfbf; text-decoration-color: #7fbfbf\">[17:02:47] </span><span style=\"color: #000080; text-decoration-color: #000080\">INFO    </span> All processes finished.                                                         <a href=\"file:///tmp/ipykernel_187379/617489973.py\" target=\"_blank\"><span style=\"color: #7f7f7f; text-decoration-color: #7f7f7f\">617489973.py</span></a><span style=\"color: #7f7f7f; text-decoration-color: #7f7f7f\">:</span><a href=\"file:///tmp/ipykernel_187379/617489973.py#12\" target=\"_blank\"><span style=\"color: #7f7f7f; text-decoration-color: #7f7f7f\">12</span></a>\n",
              "</pre>\n"
            ],
            "text/plain": [
              "\u001b[2;36m[17:02:47]\u001b[0m\u001b[2;36m \u001b[0m\u001b[34mINFO    \u001b[0m All processes finished.                                                         \u001b]8;id=631817;file:///tmp/ipykernel_187379/617489973.py\u001b\\\u001b[2m617489973.py\u001b[0m\u001b]8;;\u001b\\\u001b[2m:\u001b[0m\u001b]8;id=841048;file:///tmp/ipykernel_187379/617489973.py#12\u001b\\\u001b[2m12\u001b[0m\u001b]8;;\u001b\\\n"
            ]
          },
          "metadata": {},
          "output_type": "display_data"
        },
        {
          "data": {
            "text/html": [
              "<pre style=\"white-space:pre;overflow-x:auto;line-height:normal;font-family:Menlo,'DejaVu Sans Mono',consolas,'Courier New',monospace\"><span style=\"color: #7fbfbf; text-decoration-color: #7fbfbf\">           </span><span style=\"color: #000080; text-decoration-color: #000080\">INFO    </span> Running MCR5 done <span style=\"font-weight: bold\">(</span><span style=\"color: #00ff00; text-decoration-color: #00ff00; font-weight: bold\">16:45</span> minutes<span style=\"font-weight: bold\">)</span>                                               <a href=\"file:///tmp/ipykernel_187379/617489973.py\" target=\"_blank\"><span style=\"color: #7f7f7f; text-decoration-color: #7f7f7f\">617489973.py</span></a><span style=\"color: #7f7f7f; text-decoration-color: #7f7f7f\">:</span><a href=\"file:///tmp/ipykernel_187379/617489973.py#12\" target=\"_blank\"><span style=\"color: #7f7f7f; text-decoration-color: #7f7f7f\">12</span></a>\n",
              "</pre>\n"
            ],
            "text/plain": [
              "\u001b[2;36m          \u001b[0m\u001b[2;36m \u001b[0m\u001b[34mINFO    \u001b[0m Running MCR5 done \u001b[1m(\u001b[0m\u001b[1;92m16:45\u001b[0m minutes\u001b[1m)\u001b[0m                                               \u001b]8;id=730577;file:///tmp/ipykernel_187379/617489973.py\u001b\\\u001b[2m617489973.py\u001b[0m\u001b]8;;\u001b\\\u001b[2m:\u001b[0m\u001b]8;id=611389;file:///tmp/ipykernel_187379/617489973.py#12\u001b\\\u001b[2m12\u001b[0m\u001b]8;;\u001b\\\n"
            ]
          },
          "metadata": {},
          "output_type": "display_data"
        },
        {
          "data": {
            "text/html": [
              "<pre style=\"white-space:pre;overflow-x:auto;line-height:normal;font-family:Menlo,'DejaVu Sans Mono',consolas,'Courier New',monospace\"><span style=\"color: #7fbfbf; text-decoration-color: #7fbfbf\">           </span><span style=\"color: #000080; text-decoration-color: #000080\">INFO    </span> Running MCR5 for bicycle_1                                                       <a href=\"file:///tmp/ipykernel_187379/617489973.py\" target=\"_blank\"><span style=\"color: #7f7f7f; text-decoration-color: #7f7f7f\">617489973.py</span></a><span style=\"color: #7f7f7f; text-decoration-color: #7f7f7f\">:</span><a href=\"file:///tmp/ipykernel_187379/617489973.py#2\" target=\"_blank\"><span style=\"color: #7f7f7f; text-decoration-color: #7f7f7f\">2</span></a>\n",
              "</pre>\n"
            ],
            "text/plain": [
              "\u001b[2;36m          \u001b[0m\u001b[2;36m \u001b[0m\u001b[34mINFO    \u001b[0m Running MCR5 for bicycle_1                                                       \u001b]8;id=30935;file:///tmp/ipykernel_187379/617489973.py\u001b\\\u001b[2m617489973.py\u001b[0m\u001b]8;;\u001b\\\u001b[2m:\u001b[0m\u001b]8;id=355707;file:///tmp/ipykernel_187379/617489973.py#2\u001b\\\u001b[2m2\u001b[0m\u001b]8;;\u001b\\\n"
            ]
          },
          "metadata": {},
          "output_type": "display_data"
        },
        {
          "data": {
            "text/html": [
              "<pre style=\"white-space:pre;overflow-x:auto;line-height:normal;font-family:Menlo,'DejaVu Sans Mono',consolas,'Courier New',monospace\"><span style=\"color: #7fbfbf; text-decoration-color: #7fbfbf\">           </span><span style=\"color: #000080; text-decoration-color: #000080\">INFO    </span> Loading config                                                                   <a href=\"file:///tmp/ipykernel_187379/617489973.py\" target=\"_blank\"><span style=\"color: #7f7f7f; text-decoration-color: #7f7f7f\">617489973.py</span></a><span style=\"color: #7f7f7f; text-decoration-color: #7f7f7f\">:</span><a href=\"file:///tmp/ipykernel_187379/617489973.py#4\" target=\"_blank\"><span style=\"color: #7f7f7f; text-decoration-color: #7f7f7f\">4</span></a>\n",
              "</pre>\n"
            ],
            "text/plain": [
              "\u001b[2;36m          \u001b[0m\u001b[2;36m \u001b[0m\u001b[34mINFO    \u001b[0m Loading config                                                                   \u001b]8;id=723577;file:///tmp/ipykernel_187379/617489973.py\u001b\\\u001b[2m617489973.py\u001b[0m\u001b]8;;\u001b\\\u001b[2m:\u001b[0m\u001b]8;id=945385;file:///tmp/ipykernel_187379/617489973.py#4\u001b\\\u001b[2m4\u001b[0m\u001b]8;;\u001b\\\n"
            ]
          },
          "metadata": {},
          "output_type": "display_data"
        },
        {
          "data": {
            "text/html": [
              "<pre style=\"white-space:pre;overflow-x:auto;line-height:normal;font-family:Menlo,'DejaVu Sans Mono',consolas,'Courier New',monospace\"><span style=\"color: #7fbfbf; text-decoration-color: #7fbfbf\">           </span><span style=\"color: #000080; text-decoration-color: #000080\">INFO    </span> Using existing OSM data                                                          <a href=\"file:///tmp/ipykernel_187379/617489973.py\" target=\"_blank\"><span style=\"color: #7f7f7f; text-decoration-color: #7f7f7f\">617489973.py</span></a><span style=\"color: #7f7f7f; text-decoration-color: #7f7f7f\">:</span><a href=\"file:///tmp/ipykernel_187379/617489973.py#4\" target=\"_blank\"><span style=\"color: #7f7f7f; text-decoration-color: #7f7f7f\">4</span></a>\n",
              "</pre>\n"
            ],
            "text/plain": [
              "\u001b[2;36m          \u001b[0m\u001b[2;36m \u001b[0m\u001b[34mINFO    \u001b[0m Using existing OSM data                                                          \u001b]8;id=692494;file:///tmp/ipykernel_187379/617489973.py\u001b\\\u001b[2m617489973.py\u001b[0m\u001b]8;;\u001b\\\u001b[2m:\u001b[0m\u001b]8;id=447624;file:///tmp/ipykernel_187379/617489973.py#4\u001b\\\u001b[2m4\u001b[0m\u001b]8;;\u001b\\\n"
            ]
          },
          "metadata": {},
          "output_type": "display_data"
        },
        {
          "data": {
            "text/html": [
              "<pre style=\"white-space:pre;overflow-x:auto;line-height:normal;font-family:Menlo,'DejaVu Sans Mono',consolas,'Courier New',monospace\"><span style=\"color: #7fbfbf; text-decoration-color: #7fbfbf\">           </span><span style=\"color: #000080; text-decoration-color: #000080\">INFO    </span> Loading OSM network from cache <span style=\"font-weight: bold\">(</span>walking<span style=\"font-weight: bold\">)</span>                                         <a href=\"file:///tmp/ipykernel_187379/617489973.py\" target=\"_blank\"><span style=\"color: #7f7f7f; text-decoration-color: #7f7f7f\">617489973.py</span></a><span style=\"color: #7f7f7f; text-decoration-color: #7f7f7f\">:</span><a href=\"file:///tmp/ipykernel_187379/617489973.py#4\" target=\"_blank\"><span style=\"color: #7f7f7f; text-decoration-color: #7f7f7f\">4</span></a>\n",
              "</pre>\n"
            ],
            "text/plain": [
              "\u001b[2;36m          \u001b[0m\u001b[2;36m \u001b[0m\u001b[34mINFO    \u001b[0m Loading OSM network from cache \u001b[1m(\u001b[0mwalking\u001b[1m)\u001b[0m                                         \u001b]8;id=50510;file:///tmp/ipykernel_187379/617489973.py\u001b\\\u001b[2m617489973.py\u001b[0m\u001b]8;;\u001b\\\u001b[2m:\u001b[0m\u001b]8;id=939812;file:///tmp/ipykernel_187379/617489973.py#4\u001b\\\u001b[2m4\u001b[0m\u001b]8;;\u001b\\\n"
            ]
          },
          "metadata": {},
          "output_type": "display_data"
        },
        {
          "data": {
            "text/html": [
              "<pre style=\"white-space:pre;overflow-x:auto;line-height:normal;font-family:Menlo,'DejaVu Sans Mono',consolas,'Courier New',monospace\"><span style=\"color: #7fbfbf; text-decoration-color: #7fbfbf\">[17:04:17] </span><span style=\"color: #000080; text-decoration-color: #000080\">INFO    </span> Using existing OSM data                                                          <a href=\"file:///tmp/ipykernel_187379/617489973.py\" target=\"_blank\"><span style=\"color: #7f7f7f; text-decoration-color: #7f7f7f\">617489973.py</span></a><span style=\"color: #7f7f7f; text-decoration-color: #7f7f7f\">:</span><a href=\"file:///tmp/ipykernel_187379/617489973.py#4\" target=\"_blank\"><span style=\"color: #7f7f7f; text-decoration-color: #7f7f7f\">4</span></a>\n",
              "</pre>\n"
            ],
            "text/plain": [
              "\u001b[2;36m[17:04:17]\u001b[0m\u001b[2;36m \u001b[0m\u001b[34mINFO    \u001b[0m Using existing OSM data                                                          \u001b]8;id=810975;file:///tmp/ipykernel_187379/617489973.py\u001b\\\u001b[2m617489973.py\u001b[0m\u001b]8;;\u001b\\\u001b[2m:\u001b[0m\u001b]8;id=838259;file:///tmp/ipykernel_187379/617489973.py#4\u001b\\\u001b[2m4\u001b[0m\u001b]8;;\u001b\\\n"
            ]
          },
          "metadata": {},
          "output_type": "display_data"
        },
        {
          "data": {
            "text/html": [
              "<pre style=\"white-space:pre;overflow-x:auto;line-height:normal;font-family:Menlo,'DejaVu Sans Mono',consolas,'Courier New',monospace\"><span style=\"color: #7fbfbf; text-decoration-color: #7fbfbf\">           </span><span style=\"color: #000080; text-decoration-color: #000080\">INFO    </span> Loading OSM network from cache <span style=\"font-weight: bold\">(</span>cycling<span style=\"font-weight: bold\">)</span>                                         <a href=\"file:///tmp/ipykernel_187379/617489973.py\" target=\"_blank\"><span style=\"color: #7f7f7f; text-decoration-color: #7f7f7f\">617489973.py</span></a><span style=\"color: #7f7f7f; text-decoration-color: #7f7f7f\">:</span><a href=\"file:///tmp/ipykernel_187379/617489973.py#4\" target=\"_blank\"><span style=\"color: #7f7f7f; text-decoration-color: #7f7f7f\">4</span></a>\n",
              "</pre>\n"
            ],
            "text/plain": [
              "\u001b[2;36m          \u001b[0m\u001b[2;36m \u001b[0m\u001b[34mINFO    \u001b[0m Loading OSM network from cache \u001b[1m(\u001b[0mcycling\u001b[1m)\u001b[0m                                         \u001b]8;id=466798;file:///tmp/ipykernel_187379/617489973.py\u001b\\\u001b[2m617489973.py\u001b[0m\u001b]8;;\u001b\\\u001b[2m:\u001b[0m\u001b]8;id=918864;file:///tmp/ipykernel_187379/617489973.py#4\u001b\\\u001b[2m4\u001b[0m\u001b]8;;\u001b\\\n"
            ]
          },
          "metadata": {},
          "output_type": "display_data"
        },
        {
          "data": {
            "text/html": [
              "<pre style=\"white-space:pre;overflow-x:auto;line-height:normal;font-family:Menlo,'DejaVu Sans Mono',consolas,'Courier New',monospace\"><span style=\"color: #7fbfbf; text-decoration-color: #7fbfbf\">[17:05:23] </span><span style=\"color: #000080; text-decoration-color: #000080\">INFO    </span> Fetching POI for runtime optimization                                         <a href=\"file:///home/moritz/dev/uni/mcr-py/notebooks/../src/command/step_config.py\" target=\"_blank\"><span style=\"color: #7f7f7f; text-decoration-color: #7f7f7f\">step_config.py</span></a><span style=\"color: #7f7f7f; text-decoration-color: #7f7f7f\">:</span><a href=\"file:///home/moritz/dev/uni/mcr-py/notebooks/../src/command/step_config.py#93\" target=\"_blank\"><span style=\"color: #7f7f7f; text-decoration-color: #7f7f7f\">93</span></a>\n",
              "</pre>\n"
            ],
            "text/plain": [
              "\u001b[2;36m[17:05:23]\u001b[0m\u001b[2;36m \u001b[0m\u001b[34mINFO    \u001b[0m Fetching POI for runtime optimization                                         \u001b]8;id=854833;file:///home/moritz/dev/uni/mcr-py/notebooks/../src/command/step_config.py\u001b\\\u001b[2mstep_config.py\u001b[0m\u001b]8;;\u001b\\\u001b[2m:\u001b[0m\u001b]8;id=143715;file:///home/moritz/dev/uni/mcr-py/notebooks/../src/command/step_config.py#93\u001b\\\u001b[2m93\u001b[0m\u001b]8;;\u001b\\\n"
            ]
          },
          "metadata": {},
          "output_type": "display_data"
        },
        {
          "data": {
            "text/html": [
              "<pre style=\"white-space:pre;overflow-x:auto;line-height:normal;font-family:Menlo,'DejaVu Sans Mono',consolas,'Courier New',monospace\"><span style=\"color: #7fbfbf; text-decoration-color: #7fbfbf\">           </span><span style=\"color: #000080; text-decoration-color: #000080\">INFO    </span> Fetching POI for runtime optimization done <span style=\"font-weight: bold\">(</span><span style=\"color: #008080; text-decoration-color: #008080; font-weight: bold\">0.09</span> seconds<span style=\"font-weight: bold\">)</span>                     <a href=\"file:///home/moritz/dev/uni/mcr-py/notebooks/../src/command/step_config.py\" target=\"_blank\"><span style=\"color: #7f7f7f; text-decoration-color: #7f7f7f\">step_config.py</span></a><span style=\"color: #7f7f7f; text-decoration-color: #7f7f7f\">:</span><a href=\"file:///home/moritz/dev/uni/mcr-py/notebooks/../src/command/step_config.py#93\" target=\"_blank\"><span style=\"color: #7f7f7f; text-decoration-color: #7f7f7f\">93</span></a>\n",
              "</pre>\n"
            ],
            "text/plain": [
              "\u001b[2;36m          \u001b[0m\u001b[2;36m \u001b[0m\u001b[34mINFO    \u001b[0m Fetching POI for runtime optimization done \u001b[1m(\u001b[0m\u001b[1;36m0.09\u001b[0m seconds\u001b[1m)\u001b[0m                     \u001b]8;id=441682;file:///home/moritz/dev/uni/mcr-py/notebooks/../src/command/step_config.py\u001b\\\u001b[2mstep_config.py\u001b[0m\u001b]8;;\u001b\\\u001b[2m:\u001b[0m\u001b]8;id=191756;file:///home/moritz/dev/uni/mcr-py/notebooks/../src/command/step_config.py#93\u001b\\\u001b[2m93\u001b[0m\u001b]8;;\u001b\\\n"
            ]
          },
          "metadata": {},
          "output_type": "display_data"
        },
        {
          "data": {
            "text/html": [
              "<pre style=\"white-space:pre;overflow-x:auto;line-height:normal;font-family:Menlo,'DejaVu Sans Mono',consolas,'Courier New',monospace\"><span style=\"color: #7fbfbf; text-decoration-color: #7fbfbf\">[17:07:02] </span><span style=\"color: #000080; text-decoration-color: #000080\">INFO    </span> Loading config done <span style=\"font-weight: bold\">(</span><span style=\"color: #00ff00; text-decoration-color: #00ff00; font-weight: bold\">4:14</span> minutes<span style=\"font-weight: bold\">)</span>                                               <a href=\"file:///tmp/ipykernel_187379/617489973.py\" target=\"_blank\"><span style=\"color: #7f7f7f; text-decoration-color: #7f7f7f\">617489973.py</span></a><span style=\"color: #7f7f7f; text-decoration-color: #7f7f7f\">:</span><a href=\"file:///tmp/ipykernel_187379/617489973.py#4\" target=\"_blank\"><span style=\"color: #7f7f7f; text-decoration-color: #7f7f7f\">4</span></a>\n",
              "</pre>\n"
            ],
            "text/plain": [
              "\u001b[2;36m[17:07:02]\u001b[0m\u001b[2;36m \u001b[0m\u001b[34mINFO    \u001b[0m Loading config done \u001b[1m(\u001b[0m\u001b[1;92m4:14\u001b[0m minutes\u001b[1m)\u001b[0m                                               \u001b]8;id=500616;file:///tmp/ipykernel_187379/617489973.py\u001b\\\u001b[2m617489973.py\u001b[0m\u001b]8;;\u001b\\\u001b[2m:\u001b[0m\u001b]8;id=139754;file:///tmp/ipykernel_187379/617489973.py#4\u001b\\\u001b[2m4\u001b[0m\u001b]8;;\u001b\\\n"
            ]
          },
          "metadata": {},
          "output_type": "display_data"
        },
        {
          "data": {
            "text/html": [
              "<pre style=\"white-space:pre;overflow-x:auto;line-height:normal;font-family:Menlo,'DejaVu Sans Mono',consolas,'Courier New',monospace\"><span style=\"color: #7fbfbf; text-decoration-color: #7fbfbf\">           </span><span style=\"color: #000080; text-decoration-color: #000080\">INFO    </span> Running MCR5                                                                    <a href=\"file:///tmp/ipykernel_187379/617489973.py\" target=\"_blank\"><span style=\"color: #7f7f7f; text-decoration-color: #7f7f7f\">617489973.py</span></a><span style=\"color: #7f7f7f; text-decoration-color: #7f7f7f\">:</span><a href=\"file:///tmp/ipykernel_187379/617489973.py#12\" target=\"_blank\"><span style=\"color: #7f7f7f; text-decoration-color: #7f7f7f\">12</span></a>\n",
              "</pre>\n"
            ],
            "text/plain": [
              "\u001b[2;36m          \u001b[0m\u001b[2;36m \u001b[0m\u001b[34mINFO    \u001b[0m Running MCR5                                                                    \u001b]8;id=458388;file:///tmp/ipykernel_187379/617489973.py\u001b\\\u001b[2m617489973.py\u001b[0m\u001b]8;;\u001b\\\u001b[2m:\u001b[0m\u001b]8;id=432863;file:///tmp/ipykernel_187379/617489973.py#12\u001b\\\u001b[2m12\u001b[0m\u001b]8;;\u001b\\\n"
            ]
          },
          "metadata": {},
          "output_type": "display_data"
        },
        {
          "data": {
            "application/vnd.jupyter.widget-view+json": {
              "model_id": "d8d0bf0a09f244649ac3f9007a4094b3",
              "version_major": 2,
              "version_minor": 0
            },
            "text/plain": [
              "Starting:   0%|          | 0/1782 [00:00<?, ?it/s]"
            ]
          },
          "metadata": {},
          "output_type": "display_data"
        },
        {
          "data": {
            "text/html": [
              "<pre style=\"white-space:pre;overflow-x:auto;line-height:normal;font-family:Menlo,'DejaVu Sans Mono',consolas,'Courier New',monospace\"><span style=\"color: #7fbfbf; text-decoration-color: #7fbfbf\">[17:24:33] </span><span style=\"color: #000080; text-decoration-color: #000080\">INFO    </span> All processes finished.                                                         <a href=\"file:///tmp/ipykernel_187379/617489973.py\" target=\"_blank\"><span style=\"color: #7f7f7f; text-decoration-color: #7f7f7f\">617489973.py</span></a><span style=\"color: #7f7f7f; text-decoration-color: #7f7f7f\">:</span><a href=\"file:///tmp/ipykernel_187379/617489973.py#12\" target=\"_blank\"><span style=\"color: #7f7f7f; text-decoration-color: #7f7f7f\">12</span></a>\n",
              "</pre>\n"
            ],
            "text/plain": [
              "\u001b[2;36m[17:24:33]\u001b[0m\u001b[2;36m \u001b[0m\u001b[34mINFO    \u001b[0m All processes finished.                                                         \u001b]8;id=505599;file:///tmp/ipykernel_187379/617489973.py\u001b\\\u001b[2m617489973.py\u001b[0m\u001b]8;;\u001b\\\u001b[2m:\u001b[0m\u001b]8;id=487768;file:///tmp/ipykernel_187379/617489973.py#12\u001b\\\u001b[2m12\u001b[0m\u001b]8;;\u001b\\\n"
            ]
          },
          "metadata": {},
          "output_type": "display_data"
        },
        {
          "data": {
            "text/html": [
              "<pre style=\"white-space:pre;overflow-x:auto;line-height:normal;font-family:Menlo,'DejaVu Sans Mono',consolas,'Courier New',monospace\"><span style=\"color: #7fbfbf; text-decoration-color: #7fbfbf\">           </span><span style=\"color: #000080; text-decoration-color: #000080\">INFO    </span> Running MCR5 done <span style=\"font-weight: bold\">(</span><span style=\"color: #00ff00; text-decoration-color: #00ff00; font-weight: bold\">17:30</span> minutes<span style=\"font-weight: bold\">)</span>                                               <a href=\"file:///tmp/ipykernel_187379/617489973.py\" target=\"_blank\"><span style=\"color: #7f7f7f; text-decoration-color: #7f7f7f\">617489973.py</span></a><span style=\"color: #7f7f7f; text-decoration-color: #7f7f7f\">:</span><a href=\"file:///tmp/ipykernel_187379/617489973.py#12\" target=\"_blank\"><span style=\"color: #7f7f7f; text-decoration-color: #7f7f7f\">12</span></a>\n",
              "</pre>\n"
            ],
            "text/plain": [
              "\u001b[2;36m          \u001b[0m\u001b[2;36m \u001b[0m\u001b[34mINFO    \u001b[0m Running MCR5 done \u001b[1m(\u001b[0m\u001b[1;92m17:30\u001b[0m minutes\u001b[1m)\u001b[0m                                               \u001b]8;id=725723;file:///tmp/ipykernel_187379/617489973.py\u001b\\\u001b[2m617489973.py\u001b[0m\u001b]8;;\u001b\\\u001b[2m:\u001b[0m\u001b]8;id=833980;file:///tmp/ipykernel_187379/617489973.py#12\u001b\\\u001b[2m12\u001b[0m\u001b]8;;\u001b\\\n"
            ]
          },
          "metadata": {},
          "output_type": "display_data"
        },
        {
          "data": {
            "text/html": [
              "<pre style=\"white-space:pre;overflow-x:auto;line-height:normal;font-family:Menlo,'DejaVu Sans Mono',consolas,'Courier New',monospace\"><span style=\"color: #7fbfbf; text-decoration-color: #7fbfbf\">           </span><span style=\"color: #000080; text-decoration-color: #000080\">INFO    </span> Running MCR5 for bicycle_2                                                       <a href=\"file:///tmp/ipykernel_187379/617489973.py\" target=\"_blank\"><span style=\"color: #7f7f7f; text-decoration-color: #7f7f7f\">617489973.py</span></a><span style=\"color: #7f7f7f; text-decoration-color: #7f7f7f\">:</span><a href=\"file:///tmp/ipykernel_187379/617489973.py#2\" target=\"_blank\"><span style=\"color: #7f7f7f; text-decoration-color: #7f7f7f\">2</span></a>\n",
              "</pre>\n"
            ],
            "text/plain": [
              "\u001b[2;36m          \u001b[0m\u001b[2;36m \u001b[0m\u001b[34mINFO    \u001b[0m Running MCR5 for bicycle_2                                                       \u001b]8;id=780797;file:///tmp/ipykernel_187379/617489973.py\u001b\\\u001b[2m617489973.py\u001b[0m\u001b]8;;\u001b\\\u001b[2m:\u001b[0m\u001b]8;id=194973;file:///tmp/ipykernel_187379/617489973.py#2\u001b\\\u001b[2m2\u001b[0m\u001b]8;;\u001b\\\n"
            ]
          },
          "metadata": {},
          "output_type": "display_data"
        },
        {
          "data": {
            "text/html": [
              "<pre style=\"white-space:pre;overflow-x:auto;line-height:normal;font-family:Menlo,'DejaVu Sans Mono',consolas,'Courier New',monospace\"><span style=\"color: #7fbfbf; text-decoration-color: #7fbfbf\">           </span><span style=\"color: #000080; text-decoration-color: #000080\">INFO    </span> Loading config                                                                   <a href=\"file:///tmp/ipykernel_187379/617489973.py\" target=\"_blank\"><span style=\"color: #7f7f7f; text-decoration-color: #7f7f7f\">617489973.py</span></a><span style=\"color: #7f7f7f; text-decoration-color: #7f7f7f\">:</span><a href=\"file:///tmp/ipykernel_187379/617489973.py#4\" target=\"_blank\"><span style=\"color: #7f7f7f; text-decoration-color: #7f7f7f\">4</span></a>\n",
              "</pre>\n"
            ],
            "text/plain": [
              "\u001b[2;36m          \u001b[0m\u001b[2;36m \u001b[0m\u001b[34mINFO    \u001b[0m Loading config                                                                   \u001b]8;id=810332;file:///tmp/ipykernel_187379/617489973.py\u001b\\\u001b[2m617489973.py\u001b[0m\u001b]8;;\u001b\\\u001b[2m:\u001b[0m\u001b]8;id=590716;file:///tmp/ipykernel_187379/617489973.py#4\u001b\\\u001b[2m4\u001b[0m\u001b]8;;\u001b\\\n"
            ]
          },
          "metadata": {},
          "output_type": "display_data"
        },
        {
          "data": {
            "text/html": [
              "<pre style=\"white-space:pre;overflow-x:auto;line-height:normal;font-family:Menlo,'DejaVu Sans Mono',consolas,'Courier New',monospace\"><span style=\"color: #7fbfbf; text-decoration-color: #7fbfbf\">           </span><span style=\"color: #000080; text-decoration-color: #000080\">INFO    </span> Using existing OSM data                                                          <a href=\"file:///tmp/ipykernel_187379/617489973.py\" target=\"_blank\"><span style=\"color: #7f7f7f; text-decoration-color: #7f7f7f\">617489973.py</span></a><span style=\"color: #7f7f7f; text-decoration-color: #7f7f7f\">:</span><a href=\"file:///tmp/ipykernel_187379/617489973.py#4\" target=\"_blank\"><span style=\"color: #7f7f7f; text-decoration-color: #7f7f7f\">4</span></a>\n",
              "</pre>\n"
            ],
            "text/plain": [
              "\u001b[2;36m          \u001b[0m\u001b[2;36m \u001b[0m\u001b[34mINFO    \u001b[0m Using existing OSM data                                                          \u001b]8;id=150470;file:///tmp/ipykernel_187379/617489973.py\u001b\\\u001b[2m617489973.py\u001b[0m\u001b]8;;\u001b\\\u001b[2m:\u001b[0m\u001b]8;id=27862;file:///tmp/ipykernel_187379/617489973.py#4\u001b\\\u001b[2m4\u001b[0m\u001b]8;;\u001b\\\n"
            ]
          },
          "metadata": {},
          "output_type": "display_data"
        },
        {
          "data": {
            "text/html": [
              "<pre style=\"white-space:pre;overflow-x:auto;line-height:normal;font-family:Menlo,'DejaVu Sans Mono',consolas,'Courier New',monospace\"><span style=\"color: #7fbfbf; text-decoration-color: #7fbfbf\">           </span><span style=\"color: #000080; text-decoration-color: #000080\">INFO    </span> Loading OSM network from cache <span style=\"font-weight: bold\">(</span>walking<span style=\"font-weight: bold\">)</span>                                         <a href=\"file:///tmp/ipykernel_187379/617489973.py\" target=\"_blank\"><span style=\"color: #7f7f7f; text-decoration-color: #7f7f7f\">617489973.py</span></a><span style=\"color: #7f7f7f; text-decoration-color: #7f7f7f\">:</span><a href=\"file:///tmp/ipykernel_187379/617489973.py#4\" target=\"_blank\"><span style=\"color: #7f7f7f; text-decoration-color: #7f7f7f\">4</span></a>\n",
              "</pre>\n"
            ],
            "text/plain": [
              "\u001b[2;36m          \u001b[0m\u001b[2;36m \u001b[0m\u001b[34mINFO    \u001b[0m Loading OSM network from cache \u001b[1m(\u001b[0mwalking\u001b[1m)\u001b[0m                                         \u001b]8;id=438467;file:///tmp/ipykernel_187379/617489973.py\u001b\\\u001b[2m617489973.py\u001b[0m\u001b]8;;\u001b\\\u001b[2m:\u001b[0m\u001b]8;id=180632;file:///tmp/ipykernel_187379/617489973.py#4\u001b\\\u001b[2m4\u001b[0m\u001b]8;;\u001b\\\n"
            ]
          },
          "metadata": {},
          "output_type": "display_data"
        },
        {
          "data": {
            "text/html": [
              "<pre style=\"white-space:pre;overflow-x:auto;line-height:normal;font-family:Menlo,'DejaVu Sans Mono',consolas,'Courier New',monospace\"><span style=\"color: #7fbfbf; text-decoration-color: #7fbfbf\">[17:25:52] </span><span style=\"color: #000080; text-decoration-color: #000080\">INFO    </span> Using existing OSM data                                                          <a href=\"file:///tmp/ipykernel_187379/617489973.py\" target=\"_blank\"><span style=\"color: #7f7f7f; text-decoration-color: #7f7f7f\">617489973.py</span></a><span style=\"color: #7f7f7f; text-decoration-color: #7f7f7f\">:</span><a href=\"file:///tmp/ipykernel_187379/617489973.py#4\" target=\"_blank\"><span style=\"color: #7f7f7f; text-decoration-color: #7f7f7f\">4</span></a>\n",
              "</pre>\n"
            ],
            "text/plain": [
              "\u001b[2;36m[17:25:52]\u001b[0m\u001b[2;36m \u001b[0m\u001b[34mINFO    \u001b[0m Using existing OSM data                                                          \u001b]8;id=658178;file:///tmp/ipykernel_187379/617489973.py\u001b\\\u001b[2m617489973.py\u001b[0m\u001b]8;;\u001b\\\u001b[2m:\u001b[0m\u001b]8;id=49794;file:///tmp/ipykernel_187379/617489973.py#4\u001b\\\u001b[2m4\u001b[0m\u001b]8;;\u001b\\\n"
            ]
          },
          "metadata": {},
          "output_type": "display_data"
        },
        {
          "data": {
            "text/html": [
              "<pre style=\"white-space:pre;overflow-x:auto;line-height:normal;font-family:Menlo,'DejaVu Sans Mono',consolas,'Courier New',monospace\"><span style=\"color: #7fbfbf; text-decoration-color: #7fbfbf\">           </span><span style=\"color: #000080; text-decoration-color: #000080\">INFO    </span> Loading OSM network from cache <span style=\"font-weight: bold\">(</span>cycling<span style=\"font-weight: bold\">)</span>                                         <a href=\"file:///tmp/ipykernel_187379/617489973.py\" target=\"_blank\"><span style=\"color: #7f7f7f; text-decoration-color: #7f7f7f\">617489973.py</span></a><span style=\"color: #7f7f7f; text-decoration-color: #7f7f7f\">:</span><a href=\"file:///tmp/ipykernel_187379/617489973.py#4\" target=\"_blank\"><span style=\"color: #7f7f7f; text-decoration-color: #7f7f7f\">4</span></a>\n",
              "</pre>\n"
            ],
            "text/plain": [
              "\u001b[2;36m          \u001b[0m\u001b[2;36m \u001b[0m\u001b[34mINFO    \u001b[0m Loading OSM network from cache \u001b[1m(\u001b[0mcycling\u001b[1m)\u001b[0m                                         \u001b]8;id=767170;file:///tmp/ipykernel_187379/617489973.py\u001b\\\u001b[2m617489973.py\u001b[0m\u001b]8;;\u001b\\\u001b[2m:\u001b[0m\u001b]8;id=75208;file:///tmp/ipykernel_187379/617489973.py#4\u001b\\\u001b[2m4\u001b[0m\u001b]8;;\u001b\\\n"
            ]
          },
          "metadata": {},
          "output_type": "display_data"
        },
        {
          "data": {
            "text/html": [
              "<pre style=\"white-space:pre;overflow-x:auto;line-height:normal;font-family:Menlo,'DejaVu Sans Mono',consolas,'Courier New',monospace\"><span style=\"color: #7fbfbf; text-decoration-color: #7fbfbf\">[17:26:58] </span><span style=\"color: #000080; text-decoration-color: #000080\">INFO    </span> Fetching POI for runtime optimization                                         <a href=\"file:///home/moritz/dev/uni/mcr-py/notebooks/../src/command/step_config.py\" target=\"_blank\"><span style=\"color: #7f7f7f; text-decoration-color: #7f7f7f\">step_config.py</span></a><span style=\"color: #7f7f7f; text-decoration-color: #7f7f7f\">:</span><a href=\"file:///home/moritz/dev/uni/mcr-py/notebooks/../src/command/step_config.py#93\" target=\"_blank\"><span style=\"color: #7f7f7f; text-decoration-color: #7f7f7f\">93</span></a>\n",
              "</pre>\n"
            ],
            "text/plain": [
              "\u001b[2;36m[17:26:58]\u001b[0m\u001b[2;36m \u001b[0m\u001b[34mINFO    \u001b[0m Fetching POI for runtime optimization                                         \u001b]8;id=777520;file:///home/moritz/dev/uni/mcr-py/notebooks/../src/command/step_config.py\u001b\\\u001b[2mstep_config.py\u001b[0m\u001b]8;;\u001b\\\u001b[2m:\u001b[0m\u001b]8;id=236673;file:///home/moritz/dev/uni/mcr-py/notebooks/../src/command/step_config.py#93\u001b\\\u001b[2m93\u001b[0m\u001b]8;;\u001b\\\n"
            ]
          },
          "metadata": {},
          "output_type": "display_data"
        },
        {
          "data": {
            "text/html": [
              "<pre style=\"white-space:pre;overflow-x:auto;line-height:normal;font-family:Menlo,'DejaVu Sans Mono',consolas,'Courier New',monospace\"><span style=\"color: #7fbfbf; text-decoration-color: #7fbfbf\">           </span><span style=\"color: #000080; text-decoration-color: #000080\">INFO    </span> Fetching POI for runtime optimization done <span style=\"font-weight: bold\">(</span><span style=\"color: #008080; text-decoration-color: #008080; font-weight: bold\">0.09</span> seconds<span style=\"font-weight: bold\">)</span>                     <a href=\"file:///home/moritz/dev/uni/mcr-py/notebooks/../src/command/step_config.py\" target=\"_blank\"><span style=\"color: #7f7f7f; text-decoration-color: #7f7f7f\">step_config.py</span></a><span style=\"color: #7f7f7f; text-decoration-color: #7f7f7f\">:</span><a href=\"file:///home/moritz/dev/uni/mcr-py/notebooks/../src/command/step_config.py#93\" target=\"_blank\"><span style=\"color: #7f7f7f; text-decoration-color: #7f7f7f\">93</span></a>\n",
              "</pre>\n"
            ],
            "text/plain": [
              "\u001b[2;36m          \u001b[0m\u001b[2;36m \u001b[0m\u001b[34mINFO    \u001b[0m Fetching POI for runtime optimization done \u001b[1m(\u001b[0m\u001b[1;36m0.09\u001b[0m seconds\u001b[1m)\u001b[0m                     \u001b]8;id=596868;file:///home/moritz/dev/uni/mcr-py/notebooks/../src/command/step_config.py\u001b\\\u001b[2mstep_config.py\u001b[0m\u001b]8;;\u001b\\\u001b[2m:\u001b[0m\u001b]8;id=987204;file:///home/moritz/dev/uni/mcr-py/notebooks/../src/command/step_config.py#93\u001b\\\u001b[2m93\u001b[0m\u001b]8;;\u001b\\\n"
            ]
          },
          "metadata": {},
          "output_type": "display_data"
        },
        {
          "data": {
            "text/html": [
              "<pre style=\"white-space:pre;overflow-x:auto;line-height:normal;font-family:Menlo,'DejaVu Sans Mono',consolas,'Courier New',monospace\"><span style=\"color: #7fbfbf; text-decoration-color: #7fbfbf\">[17:28:36] </span><span style=\"color: #000080; text-decoration-color: #000080\">INFO    </span> Loading config done <span style=\"font-weight: bold\">(</span><span style=\"color: #00ff00; text-decoration-color: #00ff00; font-weight: bold\">4:03</span> minutes<span style=\"font-weight: bold\">)</span>                                               <a href=\"file:///tmp/ipykernel_187379/617489973.py\" target=\"_blank\"><span style=\"color: #7f7f7f; text-decoration-color: #7f7f7f\">617489973.py</span></a><span style=\"color: #7f7f7f; text-decoration-color: #7f7f7f\">:</span><a href=\"file:///tmp/ipykernel_187379/617489973.py#4\" target=\"_blank\"><span style=\"color: #7f7f7f; text-decoration-color: #7f7f7f\">4</span></a>\n",
              "</pre>\n"
            ],
            "text/plain": [
              "\u001b[2;36m[17:28:36]\u001b[0m\u001b[2;36m \u001b[0m\u001b[34mINFO    \u001b[0m Loading config done \u001b[1m(\u001b[0m\u001b[1;92m4:03\u001b[0m minutes\u001b[1m)\u001b[0m                                               \u001b]8;id=51602;file:///tmp/ipykernel_187379/617489973.py\u001b\\\u001b[2m617489973.py\u001b[0m\u001b]8;;\u001b\\\u001b[2m:\u001b[0m\u001b]8;id=960452;file:///tmp/ipykernel_187379/617489973.py#4\u001b\\\u001b[2m4\u001b[0m\u001b]8;;\u001b\\\n"
            ]
          },
          "metadata": {},
          "output_type": "display_data"
        },
        {
          "data": {
            "text/html": [
              "<pre style=\"white-space:pre;overflow-x:auto;line-height:normal;font-family:Menlo,'DejaVu Sans Mono',consolas,'Courier New',monospace\"><span style=\"color: #7fbfbf; text-decoration-color: #7fbfbf\">           </span><span style=\"color: #000080; text-decoration-color: #000080\">INFO    </span> Running MCR5                                                                    <a href=\"file:///tmp/ipykernel_187379/617489973.py\" target=\"_blank\"><span style=\"color: #7f7f7f; text-decoration-color: #7f7f7f\">617489973.py</span></a><span style=\"color: #7f7f7f; text-decoration-color: #7f7f7f\">:</span><a href=\"file:///tmp/ipykernel_187379/617489973.py#12\" target=\"_blank\"><span style=\"color: #7f7f7f; text-decoration-color: #7f7f7f\">12</span></a>\n",
              "</pre>\n"
            ],
            "text/plain": [
              "\u001b[2;36m          \u001b[0m\u001b[2;36m \u001b[0m\u001b[34mINFO    \u001b[0m Running MCR5                                                                    \u001b]8;id=996297;file:///tmp/ipykernel_187379/617489973.py\u001b\\\u001b[2m617489973.py\u001b[0m\u001b]8;;\u001b\\\u001b[2m:\u001b[0m\u001b]8;id=164667;file:///tmp/ipykernel_187379/617489973.py#12\u001b\\\u001b[2m12\u001b[0m\u001b]8;;\u001b\\\n"
            ]
          },
          "metadata": {},
          "output_type": "display_data"
        },
        {
          "data": {
            "application/vnd.jupyter.widget-view+json": {
              "model_id": "6441fade60614a9bb1c1145e8a1c1bb1",
              "version_major": 2,
              "version_minor": 0
            },
            "text/plain": [
              "Starting:   0%|          | 0/1782 [00:00<?, ?it/s]"
            ]
          },
          "metadata": {},
          "output_type": "display_data"
        },
        {
          "data": {
            "text/html": [
              "<pre style=\"white-space:pre;overflow-x:auto;line-height:normal;font-family:Menlo,'DejaVu Sans Mono',consolas,'Courier New',monospace\"><span style=\"color: #7fbfbf; text-decoration-color: #7fbfbf\">[17:46:18] </span><span style=\"color: #000080; text-decoration-color: #000080\">INFO    </span> All processes finished.                                                         <a href=\"file:///tmp/ipykernel_187379/617489973.py\" target=\"_blank\"><span style=\"color: #7f7f7f; text-decoration-color: #7f7f7f\">617489973.py</span></a><span style=\"color: #7f7f7f; text-decoration-color: #7f7f7f\">:</span><a href=\"file:///tmp/ipykernel_187379/617489973.py#12\" target=\"_blank\"><span style=\"color: #7f7f7f; text-decoration-color: #7f7f7f\">12</span></a>\n",
              "</pre>\n"
            ],
            "text/plain": [
              "\u001b[2;36m[17:46:18]\u001b[0m\u001b[2;36m \u001b[0m\u001b[34mINFO    \u001b[0m All processes finished.                                                         \u001b]8;id=688935;file:///tmp/ipykernel_187379/617489973.py\u001b\\\u001b[2m617489973.py\u001b[0m\u001b]8;;\u001b\\\u001b[2m:\u001b[0m\u001b]8;id=884119;file:///tmp/ipykernel_187379/617489973.py#12\u001b\\\u001b[2m12\u001b[0m\u001b]8;;\u001b\\\n"
            ]
          },
          "metadata": {},
          "output_type": "display_data"
        },
        {
          "data": {
            "text/html": [
              "<pre style=\"white-space:pre;overflow-x:auto;line-height:normal;font-family:Menlo,'DejaVu Sans Mono',consolas,'Courier New',monospace\"><span style=\"color: #7fbfbf; text-decoration-color: #7fbfbf\">           </span><span style=\"color: #000080; text-decoration-color: #000080\">INFO    </span> Running MCR5 done <span style=\"font-weight: bold\">(</span><span style=\"color: #00ff00; text-decoration-color: #00ff00; font-weight: bold\">17:41</span> minutes<span style=\"font-weight: bold\">)</span>                                               <a href=\"file:///tmp/ipykernel_187379/617489973.py\" target=\"_blank\"><span style=\"color: #7f7f7f; text-decoration-color: #7f7f7f\">617489973.py</span></a><span style=\"color: #7f7f7f; text-decoration-color: #7f7f7f\">:</span><a href=\"file:///tmp/ipykernel_187379/617489973.py#12\" target=\"_blank\"><span style=\"color: #7f7f7f; text-decoration-color: #7f7f7f\">12</span></a>\n",
              "</pre>\n"
            ],
            "text/plain": [
              "\u001b[2;36m          \u001b[0m\u001b[2;36m \u001b[0m\u001b[34mINFO    \u001b[0m Running MCR5 done \u001b[1m(\u001b[0m\u001b[1;92m17:41\u001b[0m minutes\u001b[1m)\u001b[0m                                               \u001b]8;id=217067;file:///tmp/ipykernel_187379/617489973.py\u001b\\\u001b[2m617489973.py\u001b[0m\u001b]8;;\u001b\\\u001b[2m:\u001b[0m\u001b]8;id=895489;file:///tmp/ipykernel_187379/617489973.py#12\u001b\\\u001b[2m12\u001b[0m\u001b]8;;\u001b\\\n"
            ]
          },
          "metadata": {},
          "output_type": "display_data"
        },
        {
          "data": {
            "text/html": [
              "<pre style=\"white-space:pre;overflow-x:auto;line-height:normal;font-family:Menlo,'DejaVu Sans Mono',consolas,'Courier New',monospace\"><span style=\"color: #7fbfbf; text-decoration-color: #7fbfbf\">           </span><span style=\"color: #000080; text-decoration-color: #000080\">INFO    </span> Running MCR5 for bicycle_3                                                       <a href=\"file:///tmp/ipykernel_187379/617489973.py\" target=\"_blank\"><span style=\"color: #7f7f7f; text-decoration-color: #7f7f7f\">617489973.py</span></a><span style=\"color: #7f7f7f; text-decoration-color: #7f7f7f\">:</span><a href=\"file:///tmp/ipykernel_187379/617489973.py#2\" target=\"_blank\"><span style=\"color: #7f7f7f; text-decoration-color: #7f7f7f\">2</span></a>\n",
              "</pre>\n"
            ],
            "text/plain": [
              "\u001b[2;36m          \u001b[0m\u001b[2;36m \u001b[0m\u001b[34mINFO    \u001b[0m Running MCR5 for bicycle_3                                                       \u001b]8;id=430907;file:///tmp/ipykernel_187379/617489973.py\u001b\\\u001b[2m617489973.py\u001b[0m\u001b]8;;\u001b\\\u001b[2m:\u001b[0m\u001b]8;id=251800;file:///tmp/ipykernel_187379/617489973.py#2\u001b\\\u001b[2m2\u001b[0m\u001b]8;;\u001b\\\n"
            ]
          },
          "metadata": {},
          "output_type": "display_data"
        },
        {
          "data": {
            "text/html": [
              "<pre style=\"white-space:pre;overflow-x:auto;line-height:normal;font-family:Menlo,'DejaVu Sans Mono',consolas,'Courier New',monospace\"><span style=\"color: #7fbfbf; text-decoration-color: #7fbfbf\">           </span><span style=\"color: #000080; text-decoration-color: #000080\">INFO    </span> Loading config                                                                   <a href=\"file:///tmp/ipykernel_187379/617489973.py\" target=\"_blank\"><span style=\"color: #7f7f7f; text-decoration-color: #7f7f7f\">617489973.py</span></a><span style=\"color: #7f7f7f; text-decoration-color: #7f7f7f\">:</span><a href=\"file:///tmp/ipykernel_187379/617489973.py#4\" target=\"_blank\"><span style=\"color: #7f7f7f; text-decoration-color: #7f7f7f\">4</span></a>\n",
              "</pre>\n"
            ],
            "text/plain": [
              "\u001b[2;36m          \u001b[0m\u001b[2;36m \u001b[0m\u001b[34mINFO    \u001b[0m Loading config                                                                   \u001b]8;id=902218;file:///tmp/ipykernel_187379/617489973.py\u001b\\\u001b[2m617489973.py\u001b[0m\u001b]8;;\u001b\\\u001b[2m:\u001b[0m\u001b]8;id=106153;file:///tmp/ipykernel_187379/617489973.py#4\u001b\\\u001b[2m4\u001b[0m\u001b]8;;\u001b\\\n"
            ]
          },
          "metadata": {},
          "output_type": "display_data"
        },
        {
          "data": {
            "text/html": [
              "<pre style=\"white-space:pre;overflow-x:auto;line-height:normal;font-family:Menlo,'DejaVu Sans Mono',consolas,'Courier New',monospace\"><span style=\"color: #7fbfbf; text-decoration-color: #7fbfbf\">           </span><span style=\"color: #000080; text-decoration-color: #000080\">INFO    </span> Using existing OSM data                                                          <a href=\"file:///tmp/ipykernel_187379/617489973.py\" target=\"_blank\"><span style=\"color: #7f7f7f; text-decoration-color: #7f7f7f\">617489973.py</span></a><span style=\"color: #7f7f7f; text-decoration-color: #7f7f7f\">:</span><a href=\"file:///tmp/ipykernel_187379/617489973.py#4\" target=\"_blank\"><span style=\"color: #7f7f7f; text-decoration-color: #7f7f7f\">4</span></a>\n",
              "</pre>\n"
            ],
            "text/plain": [
              "\u001b[2;36m          \u001b[0m\u001b[2;36m \u001b[0m\u001b[34mINFO    \u001b[0m Using existing OSM data                                                          \u001b]8;id=994749;file:///tmp/ipykernel_187379/617489973.py\u001b\\\u001b[2m617489973.py\u001b[0m\u001b]8;;\u001b\\\u001b[2m:\u001b[0m\u001b]8;id=486355;file:///tmp/ipykernel_187379/617489973.py#4\u001b\\\u001b[2m4\u001b[0m\u001b]8;;\u001b\\\n"
            ]
          },
          "metadata": {},
          "output_type": "display_data"
        },
        {
          "data": {
            "text/html": [
              "<pre style=\"white-space:pre;overflow-x:auto;line-height:normal;font-family:Menlo,'DejaVu Sans Mono',consolas,'Courier New',monospace\"><span style=\"color: #7fbfbf; text-decoration-color: #7fbfbf\">           </span><span style=\"color: #000080; text-decoration-color: #000080\">INFO    </span> Loading OSM network from cache <span style=\"font-weight: bold\">(</span>walking<span style=\"font-weight: bold\">)</span>                                         <a href=\"file:///tmp/ipykernel_187379/617489973.py\" target=\"_blank\"><span style=\"color: #7f7f7f; text-decoration-color: #7f7f7f\">617489973.py</span></a><span style=\"color: #7f7f7f; text-decoration-color: #7f7f7f\">:</span><a href=\"file:///tmp/ipykernel_187379/617489973.py#4\" target=\"_blank\"><span style=\"color: #7f7f7f; text-decoration-color: #7f7f7f\">4</span></a>\n",
              "</pre>\n"
            ],
            "text/plain": [
              "\u001b[2;36m          \u001b[0m\u001b[2;36m \u001b[0m\u001b[34mINFO    \u001b[0m Loading OSM network from cache \u001b[1m(\u001b[0mwalking\u001b[1m)\u001b[0m                                         \u001b]8;id=478289;file:///tmp/ipykernel_187379/617489973.py\u001b\\\u001b[2m617489973.py\u001b[0m\u001b]8;;\u001b\\\u001b[2m:\u001b[0m\u001b]8;id=196454;file:///tmp/ipykernel_187379/617489973.py#4\u001b\\\u001b[2m4\u001b[0m\u001b]8;;\u001b\\\n"
            ]
          },
          "metadata": {},
          "output_type": "display_data"
        },
        {
          "data": {
            "text/html": [
              "<pre style=\"white-space:pre;overflow-x:auto;line-height:normal;font-family:Menlo,'DejaVu Sans Mono',consolas,'Courier New',monospace\"><span style=\"color: #7fbfbf; text-decoration-color: #7fbfbf\">[17:47:36] </span><span style=\"color: #000080; text-decoration-color: #000080\">INFO    </span> Using existing OSM data                                                          <a href=\"file:///tmp/ipykernel_187379/617489973.py\" target=\"_blank\"><span style=\"color: #7f7f7f; text-decoration-color: #7f7f7f\">617489973.py</span></a><span style=\"color: #7f7f7f; text-decoration-color: #7f7f7f\">:</span><a href=\"file:///tmp/ipykernel_187379/617489973.py#4\" target=\"_blank\"><span style=\"color: #7f7f7f; text-decoration-color: #7f7f7f\">4</span></a>\n",
              "</pre>\n"
            ],
            "text/plain": [
              "\u001b[2;36m[17:47:36]\u001b[0m\u001b[2;36m \u001b[0m\u001b[34mINFO    \u001b[0m Using existing OSM data                                                          \u001b]8;id=761972;file:///tmp/ipykernel_187379/617489973.py\u001b\\\u001b[2m617489973.py\u001b[0m\u001b]8;;\u001b\\\u001b[2m:\u001b[0m\u001b]8;id=143936;file:///tmp/ipykernel_187379/617489973.py#4\u001b\\\u001b[2m4\u001b[0m\u001b]8;;\u001b\\\n"
            ]
          },
          "metadata": {},
          "output_type": "display_data"
        },
        {
          "data": {
            "text/html": [
              "<pre style=\"white-space:pre;overflow-x:auto;line-height:normal;font-family:Menlo,'DejaVu Sans Mono',consolas,'Courier New',monospace\"><span style=\"color: #7fbfbf; text-decoration-color: #7fbfbf\">           </span><span style=\"color: #000080; text-decoration-color: #000080\">INFO    </span> Loading OSM network from cache <span style=\"font-weight: bold\">(</span>cycling<span style=\"font-weight: bold\">)</span>                                         <a href=\"file:///tmp/ipykernel_187379/617489973.py\" target=\"_blank\"><span style=\"color: #7f7f7f; text-decoration-color: #7f7f7f\">617489973.py</span></a><span style=\"color: #7f7f7f; text-decoration-color: #7f7f7f\">:</span><a href=\"file:///tmp/ipykernel_187379/617489973.py#4\" target=\"_blank\"><span style=\"color: #7f7f7f; text-decoration-color: #7f7f7f\">4</span></a>\n",
              "</pre>\n"
            ],
            "text/plain": [
              "\u001b[2;36m          \u001b[0m\u001b[2;36m \u001b[0m\u001b[34mINFO    \u001b[0m Loading OSM network from cache \u001b[1m(\u001b[0mcycling\u001b[1m)\u001b[0m                                         \u001b]8;id=220054;file:///tmp/ipykernel_187379/617489973.py\u001b\\\u001b[2m617489973.py\u001b[0m\u001b]8;;\u001b\\\u001b[2m:\u001b[0m\u001b]8;id=514186;file:///tmp/ipykernel_187379/617489973.py#4\u001b\\\u001b[2m4\u001b[0m\u001b]8;;\u001b\\\n"
            ]
          },
          "metadata": {},
          "output_type": "display_data"
        },
        {
          "data": {
            "text/html": [
              "<pre style=\"white-space:pre;overflow-x:auto;line-height:normal;font-family:Menlo,'DejaVu Sans Mono',consolas,'Courier New',monospace\"><span style=\"color: #7fbfbf; text-decoration-color: #7fbfbf\">[17:48:40] </span><span style=\"color: #000080; text-decoration-color: #000080\">INFO    </span> Fetching POI for runtime optimization                                         <a href=\"file:///home/moritz/dev/uni/mcr-py/notebooks/../src/command/step_config.py\" target=\"_blank\"><span style=\"color: #7f7f7f; text-decoration-color: #7f7f7f\">step_config.py</span></a><span style=\"color: #7f7f7f; text-decoration-color: #7f7f7f\">:</span><a href=\"file:///home/moritz/dev/uni/mcr-py/notebooks/../src/command/step_config.py#93\" target=\"_blank\"><span style=\"color: #7f7f7f; text-decoration-color: #7f7f7f\">93</span></a>\n",
              "</pre>\n"
            ],
            "text/plain": [
              "\u001b[2;36m[17:48:40]\u001b[0m\u001b[2;36m \u001b[0m\u001b[34mINFO    \u001b[0m Fetching POI for runtime optimization                                         \u001b]8;id=400627;file:///home/moritz/dev/uni/mcr-py/notebooks/../src/command/step_config.py\u001b\\\u001b[2mstep_config.py\u001b[0m\u001b]8;;\u001b\\\u001b[2m:\u001b[0m\u001b]8;id=146581;file:///home/moritz/dev/uni/mcr-py/notebooks/../src/command/step_config.py#93\u001b\\\u001b[2m93\u001b[0m\u001b]8;;\u001b\\\n"
            ]
          },
          "metadata": {},
          "output_type": "display_data"
        },
        {
          "data": {
            "text/html": [
              "<pre style=\"white-space:pre;overflow-x:auto;line-height:normal;font-family:Menlo,'DejaVu Sans Mono',consolas,'Courier New',monospace\"><span style=\"color: #7fbfbf; text-decoration-color: #7fbfbf\">           </span><span style=\"color: #000080; text-decoration-color: #000080\">INFO    </span> Fetching POI for runtime optimization done <span style=\"font-weight: bold\">(</span><span style=\"color: #008080; text-decoration-color: #008080; font-weight: bold\">0.08</span> seconds<span style=\"font-weight: bold\">)</span>                     <a href=\"file:///home/moritz/dev/uni/mcr-py/notebooks/../src/command/step_config.py\" target=\"_blank\"><span style=\"color: #7f7f7f; text-decoration-color: #7f7f7f\">step_config.py</span></a><span style=\"color: #7f7f7f; text-decoration-color: #7f7f7f\">:</span><a href=\"file:///home/moritz/dev/uni/mcr-py/notebooks/../src/command/step_config.py#93\" target=\"_blank\"><span style=\"color: #7f7f7f; text-decoration-color: #7f7f7f\">93</span></a>\n",
              "</pre>\n"
            ],
            "text/plain": [
              "\u001b[2;36m          \u001b[0m\u001b[2;36m \u001b[0m\u001b[34mINFO    \u001b[0m Fetching POI for runtime optimization done \u001b[1m(\u001b[0m\u001b[1;36m0.08\u001b[0m seconds\u001b[1m)\u001b[0m                     \u001b]8;id=327876;file:///home/moritz/dev/uni/mcr-py/notebooks/../src/command/step_config.py\u001b\\\u001b[2mstep_config.py\u001b[0m\u001b]8;;\u001b\\\u001b[2m:\u001b[0m\u001b]8;id=671678;file:///home/moritz/dev/uni/mcr-py/notebooks/../src/command/step_config.py#93\u001b\\\u001b[2m93\u001b[0m\u001b]8;;\u001b\\\n"
            ]
          },
          "metadata": {},
          "output_type": "display_data"
        },
        {
          "data": {
            "text/html": [
              "<pre style=\"white-space:pre;overflow-x:auto;line-height:normal;font-family:Menlo,'DejaVu Sans Mono',consolas,'Courier New',monospace\"><span style=\"color: #7fbfbf; text-decoration-color: #7fbfbf\">[17:50:19] </span><span style=\"color: #000080; text-decoration-color: #000080\">INFO    </span> Loading config done <span style=\"font-weight: bold\">(</span><span style=\"color: #00ff00; text-decoration-color: #00ff00; font-weight: bold\">4:01</span> minutes<span style=\"font-weight: bold\">)</span>                                               <a href=\"file:///tmp/ipykernel_187379/617489973.py\" target=\"_blank\"><span style=\"color: #7f7f7f; text-decoration-color: #7f7f7f\">617489973.py</span></a><span style=\"color: #7f7f7f; text-decoration-color: #7f7f7f\">:</span><a href=\"file:///tmp/ipykernel_187379/617489973.py#4\" target=\"_blank\"><span style=\"color: #7f7f7f; text-decoration-color: #7f7f7f\">4</span></a>\n",
              "</pre>\n"
            ],
            "text/plain": [
              "\u001b[2;36m[17:50:19]\u001b[0m\u001b[2;36m \u001b[0m\u001b[34mINFO    \u001b[0m Loading config done \u001b[1m(\u001b[0m\u001b[1;92m4:01\u001b[0m minutes\u001b[1m)\u001b[0m                                               \u001b]8;id=87389;file:///tmp/ipykernel_187379/617489973.py\u001b\\\u001b[2m617489973.py\u001b[0m\u001b]8;;\u001b\\\u001b[2m:\u001b[0m\u001b]8;id=124226;file:///tmp/ipykernel_187379/617489973.py#4\u001b\\\u001b[2m4\u001b[0m\u001b]8;;\u001b\\\n"
            ]
          },
          "metadata": {},
          "output_type": "display_data"
        },
        {
          "data": {
            "text/html": [
              "<pre style=\"white-space:pre;overflow-x:auto;line-height:normal;font-family:Menlo,'DejaVu Sans Mono',consolas,'Courier New',monospace\"><span style=\"color: #7fbfbf; text-decoration-color: #7fbfbf\">           </span><span style=\"color: #000080; text-decoration-color: #000080\">INFO    </span> Running MCR5                                                                    <a href=\"file:///tmp/ipykernel_187379/617489973.py\" target=\"_blank\"><span style=\"color: #7f7f7f; text-decoration-color: #7f7f7f\">617489973.py</span></a><span style=\"color: #7f7f7f; text-decoration-color: #7f7f7f\">:</span><a href=\"file:///tmp/ipykernel_187379/617489973.py#12\" target=\"_blank\"><span style=\"color: #7f7f7f; text-decoration-color: #7f7f7f\">12</span></a>\n",
              "</pre>\n"
            ],
            "text/plain": [
              "\u001b[2;36m          \u001b[0m\u001b[2;36m \u001b[0m\u001b[34mINFO    \u001b[0m Running MCR5                                                                    \u001b]8;id=970040;file:///tmp/ipykernel_187379/617489973.py\u001b\\\u001b[2m617489973.py\u001b[0m\u001b]8;;\u001b\\\u001b[2m:\u001b[0m\u001b]8;id=410818;file:///tmp/ipykernel_187379/617489973.py#12\u001b\\\u001b[2m12\u001b[0m\u001b]8;;\u001b\\\n"
            ]
          },
          "metadata": {},
          "output_type": "display_data"
        },
        {
          "data": {
            "application/vnd.jupyter.widget-view+json": {
              "model_id": "44c78be0d28147b3a9489387fdba62a9",
              "version_major": 2,
              "version_minor": 0
            },
            "text/plain": [
              "Starting:   0%|          | 0/1782 [00:00<?, ?it/s]"
            ]
          },
          "metadata": {},
          "output_type": "display_data"
        },
        {
          "data": {
            "text/html": [
              "<pre style=\"white-space:pre;overflow-x:auto;line-height:normal;font-family:Menlo,'DejaVu Sans Mono',consolas,'Courier New',monospace\"><span style=\"color: #7fbfbf; text-decoration-color: #7fbfbf\">[18:07:45] </span><span style=\"color: #000080; text-decoration-color: #000080\">INFO    </span> All processes finished.                                                         <a href=\"file:///tmp/ipykernel_187379/617489973.py\" target=\"_blank\"><span style=\"color: #7f7f7f; text-decoration-color: #7f7f7f\">617489973.py</span></a><span style=\"color: #7f7f7f; text-decoration-color: #7f7f7f\">:</span><a href=\"file:///tmp/ipykernel_187379/617489973.py#12\" target=\"_blank\"><span style=\"color: #7f7f7f; text-decoration-color: #7f7f7f\">12</span></a>\n",
              "</pre>\n"
            ],
            "text/plain": [
              "\u001b[2;36m[18:07:45]\u001b[0m\u001b[2;36m \u001b[0m\u001b[34mINFO    \u001b[0m All processes finished.                                                         \u001b]8;id=409690;file:///tmp/ipykernel_187379/617489973.py\u001b\\\u001b[2m617489973.py\u001b[0m\u001b]8;;\u001b\\\u001b[2m:\u001b[0m\u001b]8;id=462513;file:///tmp/ipykernel_187379/617489973.py#12\u001b\\\u001b[2m12\u001b[0m\u001b]8;;\u001b\\\n"
            ]
          },
          "metadata": {},
          "output_type": "display_data"
        },
        {
          "data": {
            "text/html": [
              "<pre style=\"white-space:pre;overflow-x:auto;line-height:normal;font-family:Menlo,'DejaVu Sans Mono',consolas,'Courier New',monospace\"><span style=\"color: #7fbfbf; text-decoration-color: #7fbfbf\">           </span><span style=\"color: #000080; text-decoration-color: #000080\">INFO    </span> Running MCR5 done <span style=\"font-weight: bold\">(</span><span style=\"color: #00ff00; text-decoration-color: #00ff00; font-weight: bold\">17:26</span> minutes<span style=\"font-weight: bold\">)</span>                                               <a href=\"file:///tmp/ipykernel_187379/617489973.py\" target=\"_blank\"><span style=\"color: #7f7f7f; text-decoration-color: #7f7f7f\">617489973.py</span></a><span style=\"color: #7f7f7f; text-decoration-color: #7f7f7f\">:</span><a href=\"file:///tmp/ipykernel_187379/617489973.py#12\" target=\"_blank\"><span style=\"color: #7f7f7f; text-decoration-color: #7f7f7f\">12</span></a>\n",
              "</pre>\n"
            ],
            "text/plain": [
              "\u001b[2;36m          \u001b[0m\u001b[2;36m \u001b[0m\u001b[34mINFO    \u001b[0m Running MCR5 done \u001b[1m(\u001b[0m\u001b[1;92m17:26\u001b[0m minutes\u001b[1m)\u001b[0m                                               \u001b]8;id=11908;file:///tmp/ipykernel_187379/617489973.py\u001b\\\u001b[2m617489973.py\u001b[0m\u001b]8;;\u001b\\\u001b[2m:\u001b[0m\u001b]8;id=178452;file:///tmp/ipykernel_187379/617489973.py#12\u001b\\\u001b[2m12\u001b[0m\u001b]8;;\u001b\\\n"
            ]
          },
          "metadata": {},
          "output_type": "display_data"
        },
        {
          "data": {
            "text/html": [
              "<pre style=\"white-space:pre;overflow-x:auto;line-height:normal;font-family:Menlo,'DejaVu Sans Mono',consolas,'Courier New',monospace\"><span style=\"color: #7fbfbf; text-decoration-color: #7fbfbf\">           </span><span style=\"color: #000080; text-decoration-color: #000080\">INFO    </span> Running MCR5 for car                                                             <a href=\"file:///tmp/ipykernel_187379/617489973.py\" target=\"_blank\"><span style=\"color: #7f7f7f; text-decoration-color: #7f7f7f\">617489973.py</span></a><span style=\"color: #7f7f7f; text-decoration-color: #7f7f7f\">:</span><a href=\"file:///tmp/ipykernel_187379/617489973.py#2\" target=\"_blank\"><span style=\"color: #7f7f7f; text-decoration-color: #7f7f7f\">2</span></a>\n",
              "</pre>\n"
            ],
            "text/plain": [
              "\u001b[2;36m          \u001b[0m\u001b[2;36m \u001b[0m\u001b[34mINFO    \u001b[0m Running MCR5 for car                                                             \u001b]8;id=864798;file:///tmp/ipykernel_187379/617489973.py\u001b\\\u001b[2m617489973.py\u001b[0m\u001b]8;;\u001b\\\u001b[2m:\u001b[0m\u001b]8;id=674306;file:///tmp/ipykernel_187379/617489973.py#2\u001b\\\u001b[2m2\u001b[0m\u001b]8;;\u001b\\\n"
            ]
          },
          "metadata": {},
          "output_type": "display_data"
        },
        {
          "data": {
            "text/html": [
              "<pre style=\"white-space:pre;overflow-x:auto;line-height:normal;font-family:Menlo,'DejaVu Sans Mono',consolas,'Courier New',monospace\"><span style=\"color: #7fbfbf; text-decoration-color: #7fbfbf\">           </span><span style=\"color: #000080; text-decoration-color: #000080\">INFO    </span> Loading config                                                                   <a href=\"file:///tmp/ipykernel_187379/617489973.py\" target=\"_blank\"><span style=\"color: #7f7f7f; text-decoration-color: #7f7f7f\">617489973.py</span></a><span style=\"color: #7f7f7f; text-decoration-color: #7f7f7f\">:</span><a href=\"file:///tmp/ipykernel_187379/617489973.py#4\" target=\"_blank\"><span style=\"color: #7f7f7f; text-decoration-color: #7f7f7f\">4</span></a>\n",
              "</pre>\n"
            ],
            "text/plain": [
              "\u001b[2;36m          \u001b[0m\u001b[2;36m \u001b[0m\u001b[34mINFO    \u001b[0m Loading config                                                                   \u001b]8;id=517106;file:///tmp/ipykernel_187379/617489973.py\u001b\\\u001b[2m617489973.py\u001b[0m\u001b]8;;\u001b\\\u001b[2m:\u001b[0m\u001b]8;id=268993;file:///tmp/ipykernel_187379/617489973.py#4\u001b\\\u001b[2m4\u001b[0m\u001b]8;;\u001b\\\n"
            ]
          },
          "metadata": {},
          "output_type": "display_data"
        },
        {
          "data": {
            "text/html": [
              "<pre style=\"white-space:pre;overflow-x:auto;line-height:normal;font-family:Menlo,'DejaVu Sans Mono',consolas,'Courier New',monospace\"><span style=\"color: #7fbfbf; text-decoration-color: #7fbfbf\">           </span><span style=\"color: #000080; text-decoration-color: #000080\">INFO    </span> Using existing OSM data                                                          <a href=\"file:///tmp/ipykernel_187379/617489973.py\" target=\"_blank\"><span style=\"color: #7f7f7f; text-decoration-color: #7f7f7f\">617489973.py</span></a><span style=\"color: #7f7f7f; text-decoration-color: #7f7f7f\">:</span><a href=\"file:///tmp/ipykernel_187379/617489973.py#4\" target=\"_blank\"><span style=\"color: #7f7f7f; text-decoration-color: #7f7f7f\">4</span></a>\n",
              "</pre>\n"
            ],
            "text/plain": [
              "\u001b[2;36m          \u001b[0m\u001b[2;36m \u001b[0m\u001b[34mINFO    \u001b[0m Using existing OSM data                                                          \u001b]8;id=844008;file:///tmp/ipykernel_187379/617489973.py\u001b\\\u001b[2m617489973.py\u001b[0m\u001b]8;;\u001b\\\u001b[2m:\u001b[0m\u001b]8;id=344858;file:///tmp/ipykernel_187379/617489973.py#4\u001b\\\u001b[2m4\u001b[0m\u001b]8;;\u001b\\\n"
            ]
          },
          "metadata": {},
          "output_type": "display_data"
        },
        {
          "data": {
            "text/html": [
              "<pre style=\"white-space:pre;overflow-x:auto;line-height:normal;font-family:Menlo,'DejaVu Sans Mono',consolas,'Courier New',monospace\"><span style=\"color: #7fbfbf; text-decoration-color: #7fbfbf\">           </span><span style=\"color: #000080; text-decoration-color: #000080\">INFO    </span> Loading OSM network from cache <span style=\"font-weight: bold\">(</span>walking<span style=\"font-weight: bold\">)</span>                                         <a href=\"file:///tmp/ipykernel_187379/617489973.py\" target=\"_blank\"><span style=\"color: #7f7f7f; text-decoration-color: #7f7f7f\">617489973.py</span></a><span style=\"color: #7f7f7f; text-decoration-color: #7f7f7f\">:</span><a href=\"file:///tmp/ipykernel_187379/617489973.py#4\" target=\"_blank\"><span style=\"color: #7f7f7f; text-decoration-color: #7f7f7f\">4</span></a>\n",
              "</pre>\n"
            ],
            "text/plain": [
              "\u001b[2;36m          \u001b[0m\u001b[2;36m \u001b[0m\u001b[34mINFO    \u001b[0m Loading OSM network from cache \u001b[1m(\u001b[0mwalking\u001b[1m)\u001b[0m                                         \u001b]8;id=497079;file:///tmp/ipykernel_187379/617489973.py\u001b\\\u001b[2m617489973.py\u001b[0m\u001b]8;;\u001b\\\u001b[2m:\u001b[0m\u001b]8;id=898861;file:///tmp/ipykernel_187379/617489973.py#4\u001b\\\u001b[2m4\u001b[0m\u001b]8;;\u001b\\\n"
            ]
          },
          "metadata": {},
          "output_type": "display_data"
        },
        {
          "data": {
            "text/html": [
              "<pre style=\"white-space:pre;overflow-x:auto;line-height:normal;font-family:Menlo,'DejaVu Sans Mono',consolas,'Courier New',monospace\"><span style=\"color: #7fbfbf; text-decoration-color: #7fbfbf\">[18:09:09] </span><span style=\"color: #000080; text-decoration-color: #000080\">INFO    </span> Using existing OSM data                                                          <a href=\"file:///tmp/ipykernel_187379/617489973.py\" target=\"_blank\"><span style=\"color: #7f7f7f; text-decoration-color: #7f7f7f\">617489973.py</span></a><span style=\"color: #7f7f7f; text-decoration-color: #7f7f7f\">:</span><a href=\"file:///tmp/ipykernel_187379/617489973.py#4\" target=\"_blank\"><span style=\"color: #7f7f7f; text-decoration-color: #7f7f7f\">4</span></a>\n",
              "</pre>\n"
            ],
            "text/plain": [
              "\u001b[2;36m[18:09:09]\u001b[0m\u001b[2;36m \u001b[0m\u001b[34mINFO    \u001b[0m Using existing OSM data                                                          \u001b]8;id=397106;file:///tmp/ipykernel_187379/617489973.py\u001b\\\u001b[2m617489973.py\u001b[0m\u001b]8;;\u001b\\\u001b[2m:\u001b[0m\u001b]8;id=470629;file:///tmp/ipykernel_187379/617489973.py#4\u001b\\\u001b[2m4\u001b[0m\u001b]8;;\u001b\\\n"
            ]
          },
          "metadata": {},
          "output_type": "display_data"
        },
        {
          "data": {
            "text/html": [
              "<pre style=\"white-space:pre;overflow-x:auto;line-height:normal;font-family:Menlo,'DejaVu Sans Mono',consolas,'Courier New',monospace\"><span style=\"color: #7fbfbf; text-decoration-color: #7fbfbf\">           </span><span style=\"color: #000080; text-decoration-color: #000080\">INFO    </span> Loading OSM network from cache <span style=\"font-weight: bold\">(</span>driving<span style=\"font-weight: bold\">)</span>                                         <a href=\"file:///tmp/ipykernel_187379/617489973.py\" target=\"_blank\"><span style=\"color: #7f7f7f; text-decoration-color: #7f7f7f\">617489973.py</span></a><span style=\"color: #7f7f7f; text-decoration-color: #7f7f7f\">:</span><a href=\"file:///tmp/ipykernel_187379/617489973.py#4\" target=\"_blank\"><span style=\"color: #7f7f7f; text-decoration-color: #7f7f7f\">4</span></a>\n",
              "</pre>\n"
            ],
            "text/plain": [
              "\u001b[2;36m          \u001b[0m\u001b[2;36m \u001b[0m\u001b[34mINFO    \u001b[0m Loading OSM network from cache \u001b[1m(\u001b[0mdriving\u001b[1m)\u001b[0m                                         \u001b]8;id=376492;file:///tmp/ipykernel_187379/617489973.py\u001b\\\u001b[2m617489973.py\u001b[0m\u001b]8;;\u001b\\\u001b[2m:\u001b[0m\u001b]8;id=471955;file:///tmp/ipykernel_187379/617489973.py#4\u001b\\\u001b[2m4\u001b[0m\u001b]8;;\u001b\\\n"
            ]
          },
          "metadata": {},
          "output_type": "display_data"
        },
        {
          "data": {
            "text/html": [
              "<pre style=\"white-space:pre;overflow-x:auto;line-height:normal;font-family:Menlo,'DejaVu Sans Mono',consolas,'Courier New',monospace\"><span style=\"color: #7fbfbf; text-decoration-color: #7fbfbf\">[18:09:48] </span><span style=\"color: #000080; text-decoration-color: #000080\">INFO    </span> Fetching POI for runtime optimization                                         <a href=\"file:///home/moritz/dev/uni/mcr-py/notebooks/../src/command/step_config.py\" target=\"_blank\"><span style=\"color: #7f7f7f; text-decoration-color: #7f7f7f\">step_config.py</span></a><span style=\"color: #7f7f7f; text-decoration-color: #7f7f7f\">:</span><a href=\"file:///home/moritz/dev/uni/mcr-py/notebooks/../src/command/step_config.py#26\" target=\"_blank\"><span style=\"color: #7f7f7f; text-decoration-color: #7f7f7f\">26</span></a>\n",
              "</pre>\n"
            ],
            "text/plain": [
              "\u001b[2;36m[18:09:48]\u001b[0m\u001b[2;36m \u001b[0m\u001b[34mINFO    \u001b[0m Fetching POI for runtime optimization                                         \u001b]8;id=308084;file:///home/moritz/dev/uni/mcr-py/notebooks/../src/command/step_config.py\u001b\\\u001b[2mstep_config.py\u001b[0m\u001b]8;;\u001b\\\u001b[2m:\u001b[0m\u001b]8;id=95770;file:///home/moritz/dev/uni/mcr-py/notebooks/../src/command/step_config.py#26\u001b\\\u001b[2m26\u001b[0m\u001b]8;;\u001b\\\n"
            ]
          },
          "metadata": {},
          "output_type": "display_data"
        },
        {
          "data": {
            "text/html": [
              "<pre style=\"white-space:pre;overflow-x:auto;line-height:normal;font-family:Menlo,'DejaVu Sans Mono',consolas,'Courier New',monospace\"><span style=\"color: #7fbfbf; text-decoration-color: #7fbfbf\">           </span><span style=\"color: #000080; text-decoration-color: #000080\">INFO    </span> Fetching POI for runtime optimization done <span style=\"font-weight: bold\">(</span><span style=\"color: #008080; text-decoration-color: #008080; font-weight: bold\">0.06</span> seconds<span style=\"font-weight: bold\">)</span>                     <a href=\"file:///home/moritz/dev/uni/mcr-py/notebooks/../src/command/step_config.py\" target=\"_blank\"><span style=\"color: #7f7f7f; text-decoration-color: #7f7f7f\">step_config.py</span></a><span style=\"color: #7f7f7f; text-decoration-color: #7f7f7f\">:</span><a href=\"file:///home/moritz/dev/uni/mcr-py/notebooks/../src/command/step_config.py#26\" target=\"_blank\"><span style=\"color: #7f7f7f; text-decoration-color: #7f7f7f\">26</span></a>\n",
              "</pre>\n"
            ],
            "text/plain": [
              "\u001b[2;36m          \u001b[0m\u001b[2;36m \u001b[0m\u001b[34mINFO    \u001b[0m Fetching POI for runtime optimization done \u001b[1m(\u001b[0m\u001b[1;36m0.06\u001b[0m seconds\u001b[1m)\u001b[0m                     \u001b]8;id=234914;file:///home/moritz/dev/uni/mcr-py/notebooks/../src/command/step_config.py\u001b\\\u001b[2mstep_config.py\u001b[0m\u001b]8;;\u001b\\\u001b[2m:\u001b[0m\u001b]8;id=709633;file:///home/moritz/dev/uni/mcr-py/notebooks/../src/command/step_config.py#26\u001b\\\u001b[2m26\u001b[0m\u001b]8;;\u001b\\\n"
            ]
          },
          "metadata": {},
          "output_type": "display_data"
        },
        {
          "data": {
            "text/html": [
              "<pre style=\"white-space:pre;overflow-x:auto;line-height:normal;font-family:Menlo,'DejaVu Sans Mono',consolas,'Courier New',monospace\"><span style=\"color: #7fbfbf; text-decoration-color: #7fbfbf\">[18:11:00] </span><span style=\"color: #000080; text-decoration-color: #000080\">INFO    </span> Loading config done <span style=\"font-weight: bold\">(</span><span style=\"color: #00ff00; text-decoration-color: #00ff00; font-weight: bold\">3:14</span> minutes<span style=\"font-weight: bold\">)</span>                                               <a href=\"file:///tmp/ipykernel_187379/617489973.py\" target=\"_blank\"><span style=\"color: #7f7f7f; text-decoration-color: #7f7f7f\">617489973.py</span></a><span style=\"color: #7f7f7f; text-decoration-color: #7f7f7f\">:</span><a href=\"file:///tmp/ipykernel_187379/617489973.py#4\" target=\"_blank\"><span style=\"color: #7f7f7f; text-decoration-color: #7f7f7f\">4</span></a>\n",
              "</pre>\n"
            ],
            "text/plain": [
              "\u001b[2;36m[18:11:00]\u001b[0m\u001b[2;36m \u001b[0m\u001b[34mINFO    \u001b[0m Loading config done \u001b[1m(\u001b[0m\u001b[1;92m3:14\u001b[0m minutes\u001b[1m)\u001b[0m                                               \u001b]8;id=592071;file:///tmp/ipykernel_187379/617489973.py\u001b\\\u001b[2m617489973.py\u001b[0m\u001b]8;;\u001b\\\u001b[2m:\u001b[0m\u001b]8;id=500809;file:///tmp/ipykernel_187379/617489973.py#4\u001b\\\u001b[2m4\u001b[0m\u001b]8;;\u001b\\\n"
            ]
          },
          "metadata": {},
          "output_type": "display_data"
        },
        {
          "data": {
            "text/html": [
              "<pre style=\"white-space:pre;overflow-x:auto;line-height:normal;font-family:Menlo,'DejaVu Sans Mono',consolas,'Courier New',monospace\"><span style=\"color: #7fbfbf; text-decoration-color: #7fbfbf\">           </span><span style=\"color: #000080; text-decoration-color: #000080\">INFO    </span> Running MCR5                                                                    <a href=\"file:///tmp/ipykernel_187379/617489973.py\" target=\"_blank\"><span style=\"color: #7f7f7f; text-decoration-color: #7f7f7f\">617489973.py</span></a><span style=\"color: #7f7f7f; text-decoration-color: #7f7f7f\">:</span><a href=\"file:///tmp/ipykernel_187379/617489973.py#12\" target=\"_blank\"><span style=\"color: #7f7f7f; text-decoration-color: #7f7f7f\">12</span></a>\n",
              "</pre>\n"
            ],
            "text/plain": [
              "\u001b[2;36m          \u001b[0m\u001b[2;36m \u001b[0m\u001b[34mINFO    \u001b[0m Running MCR5                                                                    \u001b]8;id=265422;file:///tmp/ipykernel_187379/617489973.py\u001b\\\u001b[2m617489973.py\u001b[0m\u001b]8;;\u001b\\\u001b[2m:\u001b[0m\u001b]8;id=247302;file:///tmp/ipykernel_187379/617489973.py#12\u001b\\\u001b[2m12\u001b[0m\u001b]8;;\u001b\\\n"
            ]
          },
          "metadata": {},
          "output_type": "display_data"
        },
        {
          "data": {
            "application/vnd.jupyter.widget-view+json": {
              "model_id": "bcdade0e7e274f5cb60f97e6c656a308",
              "version_major": 2,
              "version_minor": 0
            },
            "text/plain": [
              "Starting:   0%|          | 0/1782 [00:00<?, ?it/s]"
            ]
          },
          "metadata": {},
          "output_type": "display_data"
        },
        {
          "data": {
            "text/html": [
              "<pre style=\"white-space:pre;overflow-x:auto;line-height:normal;font-family:Menlo,'DejaVu Sans Mono',consolas,'Courier New',monospace\"><span style=\"color: #7fbfbf; text-decoration-color: #7fbfbf\">[18:28:48] </span><span style=\"color: #000080; text-decoration-color: #000080\">INFO    </span> All processes finished.                                                         <a href=\"file:///tmp/ipykernel_187379/617489973.py\" target=\"_blank\"><span style=\"color: #7f7f7f; text-decoration-color: #7f7f7f\">617489973.py</span></a><span style=\"color: #7f7f7f; text-decoration-color: #7f7f7f\">:</span><a href=\"file:///tmp/ipykernel_187379/617489973.py#12\" target=\"_blank\"><span style=\"color: #7f7f7f; text-decoration-color: #7f7f7f\">12</span></a>\n",
              "</pre>\n"
            ],
            "text/plain": [
              "\u001b[2;36m[18:28:48]\u001b[0m\u001b[2;36m \u001b[0m\u001b[34mINFO    \u001b[0m All processes finished.                                                         \u001b]8;id=923088;file:///tmp/ipykernel_187379/617489973.py\u001b\\\u001b[2m617489973.py\u001b[0m\u001b]8;;\u001b\\\u001b[2m:\u001b[0m\u001b]8;id=340066;file:///tmp/ipykernel_187379/617489973.py#12\u001b\\\u001b[2m12\u001b[0m\u001b]8;;\u001b\\\n"
            ]
          },
          "metadata": {},
          "output_type": "display_data"
        },
        {
          "data": {
            "text/html": [
              "<pre style=\"white-space:pre;overflow-x:auto;line-height:normal;font-family:Menlo,'DejaVu Sans Mono',consolas,'Courier New',monospace\"><span style=\"color: #7fbfbf; text-decoration-color: #7fbfbf\">           </span><span style=\"color: #000080; text-decoration-color: #000080\">INFO    </span> Running MCR5 done <span style=\"font-weight: bold\">(</span><span style=\"color: #00ff00; text-decoration-color: #00ff00; font-weight: bold\">17:48</span> minutes<span style=\"font-weight: bold\">)</span>                                               <a href=\"file:///tmp/ipykernel_187379/617489973.py\" target=\"_blank\"><span style=\"color: #7f7f7f; text-decoration-color: #7f7f7f\">617489973.py</span></a><span style=\"color: #7f7f7f; text-decoration-color: #7f7f7f\">:</span><a href=\"file:///tmp/ipykernel_187379/617489973.py#12\" target=\"_blank\"><span style=\"color: #7f7f7f; text-decoration-color: #7f7f7f\">12</span></a>\n",
              "</pre>\n"
            ],
            "text/plain": [
              "\u001b[2;36m          \u001b[0m\u001b[2;36m \u001b[0m\u001b[34mINFO    \u001b[0m Running MCR5 done \u001b[1m(\u001b[0m\u001b[1;92m17:48\u001b[0m minutes\u001b[1m)\u001b[0m                                               \u001b]8;id=71185;file:///tmp/ipykernel_187379/617489973.py\u001b\\\u001b[2m617489973.py\u001b[0m\u001b]8;;\u001b\\\u001b[2m:\u001b[0m\u001b]8;id=909481;file:///tmp/ipykernel_187379/617489973.py#12\u001b\\\u001b[2m12\u001b[0m\u001b]8;;\u001b\\\n"
            ]
          },
          "metadata": {},
          "output_type": "display_data"
        },
        {
          "data": {
            "text/html": [
              "<pre style=\"white-space:pre;overflow-x:auto;line-height:normal;font-family:Menlo,'DejaVu Sans Mono',consolas,'Courier New',monospace\"><span style=\"color: #7fbfbf; text-decoration-color: #7fbfbf\">           </span><span style=\"color: #000080; text-decoration-color: #000080\">INFO    </span> Running MCR5 for walking                                                         <a href=\"file:///tmp/ipykernel_187379/617489973.py\" target=\"_blank\"><span style=\"color: #7f7f7f; text-decoration-color: #7f7f7f\">617489973.py</span></a><span style=\"color: #7f7f7f; text-decoration-color: #7f7f7f\">:</span><a href=\"file:///tmp/ipykernel_187379/617489973.py#2\" target=\"_blank\"><span style=\"color: #7f7f7f; text-decoration-color: #7f7f7f\">2</span></a>\n",
              "</pre>\n"
            ],
            "text/plain": [
              "\u001b[2;36m          \u001b[0m\u001b[2;36m \u001b[0m\u001b[34mINFO    \u001b[0m Running MCR5 for walking                                                         \u001b]8;id=772220;file:///tmp/ipykernel_187379/617489973.py\u001b\\\u001b[2m617489973.py\u001b[0m\u001b]8;;\u001b\\\u001b[2m:\u001b[0m\u001b]8;id=446317;file:///tmp/ipykernel_187379/617489973.py#2\u001b\\\u001b[2m2\u001b[0m\u001b]8;;\u001b\\\n"
            ]
          },
          "metadata": {},
          "output_type": "display_data"
        },
        {
          "data": {
            "text/html": [
              "<pre style=\"white-space:pre;overflow-x:auto;line-height:normal;font-family:Menlo,'DejaVu Sans Mono',consolas,'Courier New',monospace\"><span style=\"color: #7fbfbf; text-decoration-color: #7fbfbf\">           </span><span style=\"color: #000080; text-decoration-color: #000080\">INFO    </span> Loading config                                                                   <a href=\"file:///tmp/ipykernel_187379/617489973.py\" target=\"_blank\"><span style=\"color: #7f7f7f; text-decoration-color: #7f7f7f\">617489973.py</span></a><span style=\"color: #7f7f7f; text-decoration-color: #7f7f7f\">:</span><a href=\"file:///tmp/ipykernel_187379/617489973.py#4\" target=\"_blank\"><span style=\"color: #7f7f7f; text-decoration-color: #7f7f7f\">4</span></a>\n",
              "</pre>\n"
            ],
            "text/plain": [
              "\u001b[2;36m          \u001b[0m\u001b[2;36m \u001b[0m\u001b[34mINFO    \u001b[0m Loading config                                                                   \u001b]8;id=694355;file:///tmp/ipykernel_187379/617489973.py\u001b\\\u001b[2m617489973.py\u001b[0m\u001b]8;;\u001b\\\u001b[2m:\u001b[0m\u001b]8;id=887234;file:///tmp/ipykernel_187379/617489973.py#4\u001b\\\u001b[2m4\u001b[0m\u001b]8;;\u001b\\\n"
            ]
          },
          "metadata": {},
          "output_type": "display_data"
        },
        {
          "data": {
            "text/html": [
              "<pre style=\"white-space:pre;overflow-x:auto;line-height:normal;font-family:Menlo,'DejaVu Sans Mono',consolas,'Courier New',monospace\"><span style=\"color: #7fbfbf; text-decoration-color: #7fbfbf\">           </span><span style=\"color: #000080; text-decoration-color: #000080\">INFO    </span> Using existing OSM data                                                          <a href=\"file:///tmp/ipykernel_187379/617489973.py\" target=\"_blank\"><span style=\"color: #7f7f7f; text-decoration-color: #7f7f7f\">617489973.py</span></a><span style=\"color: #7f7f7f; text-decoration-color: #7f7f7f\">:</span><a href=\"file:///tmp/ipykernel_187379/617489973.py#4\" target=\"_blank\"><span style=\"color: #7f7f7f; text-decoration-color: #7f7f7f\">4</span></a>\n",
              "</pre>\n"
            ],
            "text/plain": [
              "\u001b[2;36m          \u001b[0m\u001b[2;36m \u001b[0m\u001b[34mINFO    \u001b[0m Using existing OSM data                                                          \u001b]8;id=775809;file:///tmp/ipykernel_187379/617489973.py\u001b\\\u001b[2m617489973.py\u001b[0m\u001b]8;;\u001b\\\u001b[2m:\u001b[0m\u001b]8;id=921060;file:///tmp/ipykernel_187379/617489973.py#4\u001b\\\u001b[2m4\u001b[0m\u001b]8;;\u001b\\\n"
            ]
          },
          "metadata": {},
          "output_type": "display_data"
        },
        {
          "data": {
            "text/html": [
              "<pre style=\"white-space:pre;overflow-x:auto;line-height:normal;font-family:Menlo,'DejaVu Sans Mono',consolas,'Courier New',monospace\"><span style=\"color: #7fbfbf; text-decoration-color: #7fbfbf\">           </span><span style=\"color: #000080; text-decoration-color: #000080\">INFO    </span> Loading OSM network from cache <span style=\"font-weight: bold\">(</span>walking<span style=\"font-weight: bold\">)</span>                                         <a href=\"file:///tmp/ipykernel_187379/617489973.py\" target=\"_blank\"><span style=\"color: #7f7f7f; text-decoration-color: #7f7f7f\">617489973.py</span></a><span style=\"color: #7f7f7f; text-decoration-color: #7f7f7f\">:</span><a href=\"file:///tmp/ipykernel_187379/617489973.py#4\" target=\"_blank\"><span style=\"color: #7f7f7f; text-decoration-color: #7f7f7f\">4</span></a>\n",
              "</pre>\n"
            ],
            "text/plain": [
              "\u001b[2;36m          \u001b[0m\u001b[2;36m \u001b[0m\u001b[34mINFO    \u001b[0m Loading OSM network from cache \u001b[1m(\u001b[0mwalking\u001b[1m)\u001b[0m                                         \u001b]8;id=624299;file:///tmp/ipykernel_187379/617489973.py\u001b\\\u001b[2m617489973.py\u001b[0m\u001b]8;;\u001b\\\u001b[2m:\u001b[0m\u001b]8;id=484765;file:///tmp/ipykernel_187379/617489973.py#4\u001b\\\u001b[2m4\u001b[0m\u001b]8;;\u001b\\\n"
            ]
          },
          "metadata": {},
          "output_type": "display_data"
        },
        {
          "data": {
            "text/html": [
              "<pre style=\"white-space:pre;overflow-x:auto;line-height:normal;font-family:Menlo,'DejaVu Sans Mono',consolas,'Courier New',monospace\"><span style=\"color: #7fbfbf; text-decoration-color: #7fbfbf\">[18:30:06] </span><span style=\"color: #000080; text-decoration-color: #000080\">INFO    </span> Fetching POI for runtime optimization                                        <a href=\"file:///home/moritz/dev/uni/mcr-py/notebooks/../src/command/step_config.py\" target=\"_blank\"><span style=\"color: #7f7f7f; text-decoration-color: #7f7f7f\">step_config.py</span></a><span style=\"color: #7f7f7f; text-decoration-color: #7f7f7f\">:</span><a href=\"file:///home/moritz/dev/uni/mcr-py/notebooks/../src/command/step_config.py#124\" target=\"_blank\"><span style=\"color: #7f7f7f; text-decoration-color: #7f7f7f\">124</span></a>\n",
              "</pre>\n"
            ],
            "text/plain": [
              "\u001b[2;36m[18:30:06]\u001b[0m\u001b[2;36m \u001b[0m\u001b[34mINFO    \u001b[0m Fetching POI for runtime optimization                                        \u001b]8;id=191851;file:///home/moritz/dev/uni/mcr-py/notebooks/../src/command/step_config.py\u001b\\\u001b[2mstep_config.py\u001b[0m\u001b]8;;\u001b\\\u001b[2m:\u001b[0m\u001b]8;id=191512;file:///home/moritz/dev/uni/mcr-py/notebooks/../src/command/step_config.py#124\u001b\\\u001b[2m124\u001b[0m\u001b]8;;\u001b\\\n"
            ]
          },
          "metadata": {},
          "output_type": "display_data"
        },
        {
          "data": {
            "text/html": [
              "<pre style=\"white-space:pre;overflow-x:auto;line-height:normal;font-family:Menlo,'DejaVu Sans Mono',consolas,'Courier New',monospace\"><span style=\"color: #7fbfbf; text-decoration-color: #7fbfbf\">           </span><span style=\"color: #000080; text-decoration-color: #000080\">INFO    </span> Fetching POI for runtime optimization done <span style=\"font-weight: bold\">(</span><span style=\"color: #008080; text-decoration-color: #008080; font-weight: bold\">0.05</span> seconds<span style=\"font-weight: bold\">)</span>                    <a href=\"file:///home/moritz/dev/uni/mcr-py/notebooks/../src/command/step_config.py\" target=\"_blank\"><span style=\"color: #7f7f7f; text-decoration-color: #7f7f7f\">step_config.py</span></a><span style=\"color: #7f7f7f; text-decoration-color: #7f7f7f\">:</span><a href=\"file:///home/moritz/dev/uni/mcr-py/notebooks/../src/command/step_config.py#124\" target=\"_blank\"><span style=\"color: #7f7f7f; text-decoration-color: #7f7f7f\">124</span></a>\n",
              "</pre>\n"
            ],
            "text/plain": [
              "\u001b[2;36m          \u001b[0m\u001b[2;36m \u001b[0m\u001b[34mINFO    \u001b[0m Fetching POI for runtime optimization done \u001b[1m(\u001b[0m\u001b[1;36m0.05\u001b[0m seconds\u001b[1m)\u001b[0m                    \u001b]8;id=418171;file:///home/moritz/dev/uni/mcr-py/notebooks/../src/command/step_config.py\u001b\\\u001b[2mstep_config.py\u001b[0m\u001b]8;;\u001b\\\u001b[2m:\u001b[0m\u001b]8;id=565559;file:///home/moritz/dev/uni/mcr-py/notebooks/../src/command/step_config.py#124\u001b\\\u001b[2m124\u001b[0m\u001b]8;;\u001b\\\n"
            ]
          },
          "metadata": {},
          "output_type": "display_data"
        },
        {
          "data": {
            "text/html": [
              "<pre style=\"white-space:pre;overflow-x:auto;line-height:normal;font-family:Menlo,'DejaVu Sans Mono',consolas,'Courier New',monospace\"><span style=\"color: #7fbfbf; text-decoration-color: #7fbfbf\">[18:30:32] </span><span style=\"color: #000080; text-decoration-color: #000080\">INFO    </span> Loading config done <span style=\"font-weight: bold\">(</span><span style=\"color: #00ff00; text-decoration-color: #00ff00; font-weight: bold\">1:44</span> minutes<span style=\"font-weight: bold\">)</span>                                               <a href=\"file:///tmp/ipykernel_187379/617489973.py\" target=\"_blank\"><span style=\"color: #7f7f7f; text-decoration-color: #7f7f7f\">617489973.py</span></a><span style=\"color: #7f7f7f; text-decoration-color: #7f7f7f\">:</span><a href=\"file:///tmp/ipykernel_187379/617489973.py#4\" target=\"_blank\"><span style=\"color: #7f7f7f; text-decoration-color: #7f7f7f\">4</span></a>\n",
              "</pre>\n"
            ],
            "text/plain": [
              "\u001b[2;36m[18:30:32]\u001b[0m\u001b[2;36m \u001b[0m\u001b[34mINFO    \u001b[0m Loading config done \u001b[1m(\u001b[0m\u001b[1;92m1:44\u001b[0m minutes\u001b[1m)\u001b[0m                                               \u001b]8;id=917;file:///tmp/ipykernel_187379/617489973.py\u001b\\\u001b[2m617489973.py\u001b[0m\u001b]8;;\u001b\\\u001b[2m:\u001b[0m\u001b]8;id=997333;file:///tmp/ipykernel_187379/617489973.py#4\u001b\\\u001b[2m4\u001b[0m\u001b]8;;\u001b\\\n"
            ]
          },
          "metadata": {},
          "output_type": "display_data"
        },
        {
          "data": {
            "text/html": [
              "<pre style=\"white-space:pre;overflow-x:auto;line-height:normal;font-family:Menlo,'DejaVu Sans Mono',consolas,'Courier New',monospace\"><span style=\"color: #7fbfbf; text-decoration-color: #7fbfbf\">[18:30:33] </span><span style=\"color: #000080; text-decoration-color: #000080\">INFO    </span> Running MCR5                                                                    <a href=\"file:///tmp/ipykernel_187379/617489973.py\" target=\"_blank\"><span style=\"color: #7f7f7f; text-decoration-color: #7f7f7f\">617489973.py</span></a><span style=\"color: #7f7f7f; text-decoration-color: #7f7f7f\">:</span><a href=\"file:///tmp/ipykernel_187379/617489973.py#12\" target=\"_blank\"><span style=\"color: #7f7f7f; text-decoration-color: #7f7f7f\">12</span></a>\n",
              "</pre>\n"
            ],
            "text/plain": [
              "\u001b[2;36m[18:30:33]\u001b[0m\u001b[2;36m \u001b[0m\u001b[34mINFO    \u001b[0m Running MCR5                                                                    \u001b]8;id=541385;file:///tmp/ipykernel_187379/617489973.py\u001b\\\u001b[2m617489973.py\u001b[0m\u001b]8;;\u001b\\\u001b[2m:\u001b[0m\u001b]8;id=583747;file:///tmp/ipykernel_187379/617489973.py#12\u001b\\\u001b[2m12\u001b[0m\u001b]8;;\u001b\\\n"
            ]
          },
          "metadata": {},
          "output_type": "display_data"
        },
        {
          "data": {
            "application/vnd.jupyter.widget-view+json": {
              "model_id": "59d7f2b9d1b245f7bbe60d6c49810da1",
              "version_major": 2,
              "version_minor": 0
            },
            "text/plain": [
              "Starting:   0%|          | 0/1782 [00:00<?, ?it/s]"
            ]
          },
          "metadata": {},
          "output_type": "display_data"
        },
        {
          "data": {
            "text/html": [
              "<pre style=\"white-space:pre;overflow-x:auto;line-height:normal;font-family:Menlo,'DejaVu Sans Mono',consolas,'Courier New',monospace\"><span style=\"color: #7fbfbf; text-decoration-color: #7fbfbf\">[18:47:11] </span><span style=\"color: #000080; text-decoration-color: #000080\">INFO    </span> All processes finished.                                                         <a href=\"file:///tmp/ipykernel_187379/617489973.py\" target=\"_blank\"><span style=\"color: #7f7f7f; text-decoration-color: #7f7f7f\">617489973.py</span></a><span style=\"color: #7f7f7f; text-decoration-color: #7f7f7f\">:</span><a href=\"file:///tmp/ipykernel_187379/617489973.py#12\" target=\"_blank\"><span style=\"color: #7f7f7f; text-decoration-color: #7f7f7f\">12</span></a>\n",
              "</pre>\n"
            ],
            "text/plain": [
              "\u001b[2;36m[18:47:11]\u001b[0m\u001b[2;36m \u001b[0m\u001b[34mINFO    \u001b[0m All processes finished.                                                         \u001b]8;id=218831;file:///tmp/ipykernel_187379/617489973.py\u001b\\\u001b[2m617489973.py\u001b[0m\u001b]8;;\u001b\\\u001b[2m:\u001b[0m\u001b]8;id=482159;file:///tmp/ipykernel_187379/617489973.py#12\u001b\\\u001b[2m12\u001b[0m\u001b]8;;\u001b\\\n"
            ]
          },
          "metadata": {},
          "output_type": "display_data"
        },
        {
          "data": {
            "text/html": [
              "<pre style=\"white-space:pre;overflow-x:auto;line-height:normal;font-family:Menlo,'DejaVu Sans Mono',consolas,'Courier New',monospace\"><span style=\"color: #7fbfbf; text-decoration-color: #7fbfbf\">           </span><span style=\"color: #800000; text-decoration-color: #800000\">WARNING </span> <span style=\"color: #008080; text-decoration-color: #008080; font-weight: bold\">32</span> errors occurred during the analysis.                                         <a href=\"file:///tmp/ipykernel_187379/617489973.py\" target=\"_blank\"><span style=\"color: #7f7f7f; text-decoration-color: #7f7f7f\">617489973.py</span></a><span style=\"color: #7f7f7f; text-decoration-color: #7f7f7f\">:</span><a href=\"file:///tmp/ipykernel_187379/617489973.py#12\" target=\"_blank\"><span style=\"color: #7f7f7f; text-decoration-color: #7f7f7f\">12</span></a>\n",
              "</pre>\n"
            ],
            "text/plain": [
              "\u001b[2;36m          \u001b[0m\u001b[2;36m \u001b[0m\u001b[31mWARNING \u001b[0m \u001b[1;36m32\u001b[0m errors occurred during the analysis.                                         \u001b]8;id=74884;file:///tmp/ipykernel_187379/617489973.py\u001b\\\u001b[2m617489973.py\u001b[0m\u001b]8;;\u001b\\\u001b[2m:\u001b[0m\u001b]8;id=884199;file:///tmp/ipykernel_187379/617489973.py#12\u001b\\\u001b[2m12\u001b[0m\u001b]8;;\u001b\\\n"
            ]
          },
          "metadata": {},
          "output_type": "display_data"
        },
        {
          "data": {
            "text/html": [
              "<pre style=\"white-space:pre;overflow-x:auto;line-height:normal;font-family:Menlo,'DejaVu Sans Mono',consolas,'Courier New',monospace\"><span style=\"color: #7fbfbf; text-decoration-color: #7fbfbf\">           </span><span style=\"color: #000080; text-decoration-color: #000080\">INFO    </span> Running MCR5 done <span style=\"font-weight: bold\">(</span><span style=\"color: #00ff00; text-decoration-color: #00ff00; font-weight: bold\">16:37</span> minutes<span style=\"font-weight: bold\">)</span>                                               <a href=\"file:///tmp/ipykernel_187379/617489973.py\" target=\"_blank\"><span style=\"color: #7f7f7f; text-decoration-color: #7f7f7f\">617489973.py</span></a><span style=\"color: #7f7f7f; text-decoration-color: #7f7f7f\">:</span><a href=\"file:///tmp/ipykernel_187379/617489973.py#12\" target=\"_blank\"><span style=\"color: #7f7f7f; text-decoration-color: #7f7f7f\">12</span></a>\n",
              "</pre>\n"
            ],
            "text/plain": [
              "\u001b[2;36m          \u001b[0m\u001b[2;36m \u001b[0m\u001b[34mINFO    \u001b[0m Running MCR5 done \u001b[1m(\u001b[0m\u001b[1;92m16:37\u001b[0m minutes\u001b[1m)\u001b[0m                                               \u001b]8;id=742300;file:///tmp/ipykernel_187379/617489973.py\u001b\\\u001b[2m617489973.py\u001b[0m\u001b]8;;\u001b\\\u001b[2m:\u001b[0m\u001b]8;id=780347;file:///tmp/ipykernel_187379/617489973.py#12\u001b\\\u001b[2m12\u001b[0m\u001b]8;;\u001b\\\n"
            ]
          },
          "metadata": {},
          "output_type": "display_data"
        }
      ],
      "source": [
        "for key, config in configs.items():\n",
        "    rlog.info(f\"Running MCR5 for {key}\")\n",
        "\n",
        "    with Timed.info(\"Loading config\"):\n",
        "        config = config()\n",
        "        mcr5 = MCR5(**config[\"init_kwargs\"])\n",
        "\n",
        "    output_path = os.path.join(mcr5_output_path, key)\n",
        "\n",
        "    location_mappings = config[\"location_mappings\"]\n",
        "\n",
        "    with Timed.info(\"Running MCR5\"):\n",
        "        start_time = config.get(\"start_time\", \"08:00:00\")\n",
        "        errors = mcr5.run(\n",
        "            location_mappings,\n",
        "            start_time=start_time,\n",
        "            output_dir=output_path,\n",
        "            max_transfers=config[\"max_transfers\"],\n",
        "        )"
      ]
    },
    {
      "cell_type": "code",
      "execution_count": 15,
      "metadata": {},
      "outputs": [],
      "source": [
        "import pickle\n",
        "\n",
        "# errors = storage.read_any_dict(\"../data/mcr5/Koeln/bicycle_public_transport/errors.pkl\")\n",
        "# errors"
      ]
    }
  ],
  "metadata": {
    "kernelspec": {
      "display_name": "mcr-py",
      "language": "python",
      "name": "python3"
    },
    "language_info": {
      "codemirror_mode": {
        "name": "ipython",
        "version": 3
      },
      "file_extension": ".py",
      "mimetype": "text/x-python",
      "name": "python",
      "nbconvert_exporter": "python",
      "pygments_lexer": "ipython3",
      "version": "3.10.13"
    },
    "orig_nbformat": 4
  },
  "nbformat": 4,
  "nbformat_minor": 2
}
