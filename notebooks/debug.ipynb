{
 "cells": [
  {
   "cell_type": "code",
   "execution_count": 1,
   "metadata": {},
   "outputs": [],
   "source": [
    "%load_ext autoreload\n",
    "%autoreload 2"
   ]
  },
  {
   "cell_type": "code",
   "execution_count": 2,
   "metadata": {},
   "outputs": [],
   "source": [
    "import sys\n",
    "sys.path.append('../src/')"
   ]
  },
  {
   "cell_type": "code",
   "execution_count": 3,
   "metadata": {},
   "outputs": [],
   "source": [
    "from package.logger import setup\n",
    "setup(\"INFO\")"
   ]
  },
  {
   "cell_type": "code",
   "execution_count": 4,
   "metadata": {},
   "outputs": [],
   "source": [
    "from package import storage, strtime, key\n",
    "from package.structs import build\n",
    "from package.raptor.mcraptor import McRaptor\n",
    "from package.raptor import bag\n",
    "from package.gtfs import archive\n",
    "from typing_extensions import Self\n"
   ]
  },
  {
   "cell_type": "code",
   "execution_count": 5,
   "metadata": {},
   "outputs": [],
   "source": [
    "footpaths_dict = storage.read_any_dict(\"../data/footpaths.pkl\")\n",
    "footpaths_dict = footpaths_dict[\"footpaths\"]\n",
    "\n",
    "structs_dict = storage.read_any_dict(\"../data/structs.pkl\")\n",
    "build.validate_structs_dict(structs_dict)\n"
   ]
  },
  {
   "cell_type": "code",
   "execution_count": 6,
   "metadata": {},
   "outputs": [],
   "source": [
    "import mcr_py"
   ]
  },
  {
   "cell_type": "code",
   "execution_count": 44,
   "metadata": {},
   "outputs": [
    {
     "data": {
      "text/html": [
       "<pre style=\"white-space:pre;overflow-x:auto;line-height:normal;font-family:Menlo,'DejaVu Sans Mono',consolas,'Courier New',monospace\"><span style=\"color: #7fbfbf; text-decoration-color: #7fbfbf\">[13:45:51] </span><span style=\"color: #000080; text-decoration-color: #000080\">INFO    </span> Using existing OSM data                                                         <a href=\"file:///tmp/ipykernel_53215/338260996.py\" target=\"_blank\"><span style=\"color: #7f7f7f; text-decoration-color: #7f7f7f\">338260996.py</span></a><span style=\"color: #7f7f7f; text-decoration-color: #7f7f7f\">:</span><a href=\"file:///tmp/ipykernel_53215/338260996.py#25\" target=\"_blank\"><span style=\"color: #7f7f7f; text-decoration-color: #7f7f7f\">25</span></a>\n",
       "</pre>\n"
      ],
      "text/plain": [
       "\u001b[2;36m[13:45:51]\u001b[0m\u001b[2;36m \u001b[0m\u001b[34mINFO    \u001b[0m Using existing OSM data                                                         \u001b]8;id=732647;file:///tmp/ipykernel_53215/338260996.py\u001b\\\u001b[2m338260996.py\u001b[0m\u001b]8;;\u001b\\\u001b[2m:\u001b[0m\u001b]8;id=848677;file:///tmp/ipykernel_53215/338260996.py#25\u001b\\\u001b[2m25\u001b[0m\u001b]8;;\u001b\\\n"
      ]
     },
     "metadata": {},
     "output_type": "display_data"
    },
    {
     "data": {
      "text/html": [
       "<pre style=\"white-space:pre;overflow-x:auto;line-height:normal;font-family:Menlo,'DejaVu Sans Mono',consolas,'Courier New',monospace\"><span style=\"color: #7fbfbf; text-decoration-color: #7fbfbf\">           </span><span style=\"color: #000080; text-decoration-color: #000080\">INFO    </span> Reading stops                                                                   <a href=\"file:///tmp/ipykernel_53215/338260996.py\" target=\"_blank\"><span style=\"color: #7f7f7f; text-decoration-color: #7f7f7f\">338260996.py</span></a><span style=\"color: #7f7f7f; text-decoration-color: #7f7f7f\">:</span><a href=\"file:///tmp/ipykernel_53215/338260996.py#27\" target=\"_blank\"><span style=\"color: #7f7f7f; text-decoration-color: #7f7f7f\">27</span></a>\n",
       "</pre>\n"
      ],
      "text/plain": [
       "\u001b[2;36m          \u001b[0m\u001b[2;36m \u001b[0m\u001b[34mINFO    \u001b[0m Reading stops                                                                   \u001b]8;id=180071;file:///tmp/ipykernel_53215/338260996.py\u001b\\\u001b[2m338260996.py\u001b[0m\u001b]8;;\u001b\\\u001b[2m:\u001b[0m\u001b]8;id=791693;file:///tmp/ipykernel_53215/338260996.py#27\u001b\\\u001b[2m27\u001b[0m\u001b]8;;\u001b\\\n"
      ]
     },
     "metadata": {},
     "output_type": "display_data"
    },
    {
     "data": {
      "text/html": [
       "<pre style=\"white-space:pre;overflow-x:auto;line-height:normal;font-family:Menlo,'DejaVu Sans Mono',consolas,'Courier New',monospace\"><span style=\"color: #7fbfbf; text-decoration-color: #7fbfbf\">           </span><span style=\"color: #000080; text-decoration-color: #000080\">INFO    </span> Reading stops done <span style=\"font-weight: bold\">(</span><span style=\"color: #008080; text-decoration-color: #008080; font-weight: bold\">0.02</span> seconds<span style=\"font-weight: bold\">)</span>                                               <a href=\"file:///tmp/ipykernel_53215/338260996.py\" target=\"_blank\"><span style=\"color: #7f7f7f; text-decoration-color: #7f7f7f\">338260996.py</span></a><span style=\"color: #7f7f7f; text-decoration-color: #7f7f7f\">:</span><a href=\"file:///tmp/ipykernel_53215/338260996.py#27\" target=\"_blank\"><span style=\"color: #7f7f7f; text-decoration-color: #7f7f7f\">27</span></a>\n",
       "</pre>\n"
      ],
      "text/plain": [
       "\u001b[2;36m          \u001b[0m\u001b[2;36m \u001b[0m\u001b[34mINFO    \u001b[0m Reading stops done \u001b[1m(\u001b[0m\u001b[1;36m0.02\u001b[0m seconds\u001b[1m)\u001b[0m                                               \u001b]8;id=426853;file:///tmp/ipykernel_53215/338260996.py\u001b\\\u001b[2m338260996.py\u001b[0m\u001b]8;;\u001b\\\u001b[2m:\u001b[0m\u001b]8;id=173188;file:///tmp/ipykernel_53215/338260996.py#27\u001b\\\u001b[2m27\u001b[0m\u001b]8;;\u001b\\\n"
      ]
     },
     "metadata": {},
     "output_type": "display_data"
    },
    {
     "data": {
      "text/html": [
       "<pre style=\"white-space:pre;overflow-x:auto;line-height:normal;font-family:Menlo,'DejaVu Sans Mono',consolas,'Courier New',monospace\"><span style=\"color: #7fbfbf; text-decoration-color: #7fbfbf\">           </span><span style=\"color: #000080; text-decoration-color: #000080\">INFO    </span> Calculating bounding box                                                        <a href=\"file:///tmp/ipykernel_53215/338260996.py\" target=\"_blank\"><span style=\"color: #7f7f7f; text-decoration-color: #7f7f7f\">338260996.py</span></a><span style=\"color: #7f7f7f; text-decoration-color: #7f7f7f\">:</span><a href=\"file:///tmp/ipykernel_53215/338260996.py#30\" target=\"_blank\"><span style=\"color: #7f7f7f; text-decoration-color: #7f7f7f\">30</span></a>\n",
       "</pre>\n"
      ],
      "text/plain": [
       "\u001b[2;36m          \u001b[0m\u001b[2;36m \u001b[0m\u001b[34mINFO    \u001b[0m Calculating bounding box                                                        \u001b]8;id=232588;file:///tmp/ipykernel_53215/338260996.py\u001b\\\u001b[2m338260996.py\u001b[0m\u001b]8;;\u001b\\\u001b[2m:\u001b[0m\u001b]8;id=11119;file:///tmp/ipykernel_53215/338260996.py#30\u001b\\\u001b[2m30\u001b[0m\u001b]8;;\u001b\\\n"
      ]
     },
     "metadata": {},
     "output_type": "display_data"
    },
    {
     "data": {
      "text/html": [
       "<pre style=\"white-space:pre;overflow-x:auto;line-height:normal;font-family:Menlo,'DejaVu Sans Mono',consolas,'Courier New',monospace\"><span style=\"color: #7fbfbf; text-decoration-color: #7fbfbf\">           </span><span style=\"color: #000080; text-decoration-color: #000080\">INFO    </span> Calculating bounding box done <span style=\"font-weight: bold\">(</span><span style=\"color: #008080; text-decoration-color: #008080; font-weight: bold\">0.01</span> seconds<span style=\"font-weight: bold\">)</span>                                    <a href=\"file:///tmp/ipykernel_53215/338260996.py\" target=\"_blank\"><span style=\"color: #7f7f7f; text-decoration-color: #7f7f7f\">338260996.py</span></a><span style=\"color: #7f7f7f; text-decoration-color: #7f7f7f\">:</span><a href=\"file:///tmp/ipykernel_53215/338260996.py#30\" target=\"_blank\"><span style=\"color: #7f7f7f; text-decoration-color: #7f7f7f\">30</span></a>\n",
       "</pre>\n"
      ],
      "text/plain": [
       "\u001b[2;36m          \u001b[0m\u001b[2;36m \u001b[0m\u001b[34mINFO    \u001b[0m Calculating bounding box done \u001b[1m(\u001b[0m\u001b[1;36m0.01\u001b[0m seconds\u001b[1m)\u001b[0m                                    \u001b]8;id=165390;file:///tmp/ipykernel_53215/338260996.py\u001b\\\u001b[2m338260996.py\u001b[0m\u001b]8;;\u001b\\\u001b[2m:\u001b[0m\u001b]8;id=901805;file:///tmp/ipykernel_53215/338260996.py#30\u001b\\\u001b[2m30\u001b[0m\u001b]8;;\u001b\\\n"
      ]
     },
     "metadata": {},
     "output_type": "display_data"
    }
   ],
   "source": [
    "\n",
    "import shutil\n",
    "import os\n",
    "from enum import Enum\n",
    "\n",
    "from pyrosm.data import get_data\n",
    "import pyrosm\n",
    "import geopandas as gpd\n",
    "import networkx as nx\n",
    "import osmnx as ox\n",
    "\n",
    "from package import key, storage, osm\n",
    "from package.logger import Timed, rlog\n",
    "from package.graph import igraph, fast_path\n",
    "from package.footpaths import *\n",
    "\n",
    "osm_path = \"\"\n",
    "city_id = \"Koeln\"\n",
    "stops_path = \"../data/cleaned/stops.csv\"\n",
    "osm_path = osm_path if osm_path else osm.get_osm_path_from_city_id(city_id)\n",
    "\n",
    "if not os.path.exists(osm_path) and city_id:\n",
    "\trlog.info(\"Downloading OSM data\")\n",
    "\tosm.download_city(city_id, osm_path)\n",
    "else:\n",
    "\trlog.info(\"Using existing OSM data\")\n",
    "\n",
    "with Timed.info(\"Reading stops\"):\n",
    "\tstops_df = storage.read_gdf(stops_path)\n",
    "\n",
    "with Timed.info(\"Calculating bounding box\"):\n",
    "\tcombined_geometry = MultiPoint(stops_df.geometry.tolist())\n",
    "\tconvex_hull = combined_geometry.convex_hull\n",
    "\tbounding_box = convex_hull.buffer(0.01)\n"
   ]
  },
  {
   "cell_type": "code",
   "execution_count": 46,
   "metadata": {},
   "outputs": [
    {
     "data": {
      "text/plain": [
       "(6.959501392113865, 50.96440539211387, 6.982997607886134, 50.98488060788613)"
      ]
     },
     "execution_count": 46,
     "metadata": {},
     "output_type": "execute_result"
    }
   ],
   "source": [
    "bounds = bounding_box.bounds\n",
    "bounds"
   ]
  },
  {
   "cell_type": "code",
   "execution_count": 47,
   "metadata": {},
   "outputs": [],
   "source": [
    "import folium"
   ]
  },
  {
   "cell_type": "code",
   "execution_count": 52,
   "metadata": {},
   "outputs": [
    {
     "data": {
      "text/html": [
       "<div style=\"width:100%;\"><div style=\"position:relative;width:100%;height:0;padding-bottom:60%;\"><span style=\"color:#565656\">Make this Notebook Trusted to load map: File -> Trust Notebook</span><iframe srcdoc=\"&lt;!DOCTYPE html&gt;\n",
       "&lt;html&gt;\n",
       "&lt;head&gt;\n",
       "    \n",
       "    &lt;meta http-equiv=&quot;content-type&quot; content=&quot;text/html; charset=UTF-8&quot; /&gt;\n",
       "    \n",
       "        &lt;script&gt;\n",
       "            L_NO_TOUCH = false;\n",
       "            L_DISABLE_3D = false;\n",
       "        &lt;/script&gt;\n",
       "    \n",
       "    &lt;style&gt;html, body {width: 100%;height: 100%;margin: 0;padding: 0;}&lt;/style&gt;\n",
       "    &lt;style&gt;#map {position:absolute;top:0;bottom:0;right:0;left:0;}&lt;/style&gt;\n",
       "    &lt;script src=&quot;https://cdn.jsdelivr.net/npm/leaflet@1.9.3/dist/leaflet.js&quot;&gt;&lt;/script&gt;\n",
       "    &lt;script src=&quot;https://code.jquery.com/jquery-1.12.4.min.js&quot;&gt;&lt;/script&gt;\n",
       "    &lt;script src=&quot;https://cdn.jsdelivr.net/npm/bootstrap@5.2.2/dist/js/bootstrap.bundle.min.js&quot;&gt;&lt;/script&gt;\n",
       "    &lt;script src=&quot;https://cdnjs.cloudflare.com/ajax/libs/Leaflet.awesome-markers/2.0.2/leaflet.awesome-markers.js&quot;&gt;&lt;/script&gt;\n",
       "    &lt;link rel=&quot;stylesheet&quot; href=&quot;https://cdn.jsdelivr.net/npm/leaflet@1.9.3/dist/leaflet.css&quot;/&gt;\n",
       "    &lt;link rel=&quot;stylesheet&quot; href=&quot;https://cdn.jsdelivr.net/npm/bootstrap@5.2.2/dist/css/bootstrap.min.css&quot;/&gt;\n",
       "    &lt;link rel=&quot;stylesheet&quot; href=&quot;https://netdna.bootstrapcdn.com/bootstrap/3.0.0/css/bootstrap.min.css&quot;/&gt;\n",
       "    &lt;link rel=&quot;stylesheet&quot; href=&quot;https://cdn.jsdelivr.net/npm/@fortawesome/fontawesome-free@6.2.0/css/all.min.css&quot;/&gt;\n",
       "    &lt;link rel=&quot;stylesheet&quot; href=&quot;https://cdnjs.cloudflare.com/ajax/libs/Leaflet.awesome-markers/2.0.2/leaflet.awesome-markers.css&quot;/&gt;\n",
       "    &lt;link rel=&quot;stylesheet&quot; href=&quot;https://cdn.jsdelivr.net/gh/python-visualization/folium/folium/templates/leaflet.awesome.rotate.min.css&quot;/&gt;\n",
       "    \n",
       "            &lt;meta name=&quot;viewport&quot; content=&quot;width=device-width,\n",
       "                initial-scale=1.0, maximum-scale=1.0, user-scalable=no&quot; /&gt;\n",
       "            &lt;style&gt;\n",
       "                #map_53be396ee6f0ce9a477b027b36ec0287 {\n",
       "                    position: relative;\n",
       "                    width: 100.0%;\n",
       "                    height: 100.0%;\n",
       "                    left: 0.0%;\n",
       "                    top: 0.0%;\n",
       "                }\n",
       "                .leaflet-container { font-size: 1rem; }\n",
       "            &lt;/style&gt;\n",
       "        \n",
       "&lt;/head&gt;\n",
       "&lt;body&gt;\n",
       "    \n",
       "    \n",
       "            &lt;div class=&quot;folium-map&quot; id=&quot;map_53be396ee6f0ce9a477b027b36ec0287&quot; &gt;&lt;/div&gt;\n",
       "        \n",
       "&lt;/body&gt;\n",
       "&lt;script&gt;\n",
       "    \n",
       "    \n",
       "            var map_53be396ee6f0ce9a477b027b36ec0287 = L.map(\n",
       "                &quot;map_53be396ee6f0ce9a477b027b36ec0287&quot;,\n",
       "                {\n",
       "                    center: [50.96440539211387, 6.959501392113865],\n",
       "                    crs: L.CRS.EPSG3857,\n",
       "                    zoom: 12,\n",
       "                    zoomControl: true,\n",
       "                    preferCanvas: false,\n",
       "                }\n",
       "            );\n",
       "\n",
       "            \n",
       "\n",
       "        \n",
       "    \n",
       "            var tile_layer_ba5c12e83688fd35ae9e2513a9bba5a7 = L.tileLayer(\n",
       "                &quot;https://{s}.tile.openstreetmap.org/{z}/{x}/{y}.png&quot;,\n",
       "                {&quot;attribution&quot;: &quot;Data by \\u0026copy; \\u003ca target=\\&quot;_blank\\&quot; href=\\&quot;http://openstreetmap.org\\&quot;\\u003eOpenStreetMap\\u003c/a\\u003e, under \\u003ca target=\\&quot;_blank\\&quot; href=\\&quot;http://www.openstreetmap.org/copyright\\&quot;\\u003eODbL\\u003c/a\\u003e.&quot;, &quot;detectRetina&quot;: false, &quot;maxNativeZoom&quot;: 18, &quot;maxZoom&quot;: 18, &quot;minZoom&quot;: 0, &quot;noWrap&quot;: false, &quot;opacity&quot;: 1, &quot;subdomains&quot;: &quot;abc&quot;, &quot;tms&quot;: false}\n",
       "            ).addTo(map_53be396ee6f0ce9a477b027b36ec0287);\n",
       "        \n",
       "    \n",
       "            var rectangle_6450b93753fc14e4200bdb24d9b4add7 = L.rectangle(\n",
       "                [[50.96440539211387, 6.959501392113865], [50.98488060788613, 6.982997607886134]],\n",
       "                {&quot;bubblingMouseEvents&quot;: true, &quot;color&quot;: &quot;black&quot;, &quot;dashArray&quot;: null, &quot;dashOffset&quot;: null, &quot;fill&quot;: false, &quot;fillColor&quot;: &quot;black&quot;, &quot;fillOpacity&quot;: 0.2, &quot;fillRule&quot;: &quot;evenodd&quot;, &quot;lineCap&quot;: &quot;round&quot;, &quot;lineJoin&quot;: &quot;round&quot;, &quot;noClip&quot;: false, &quot;opacity&quot;: 1.0, &quot;smoothFactor&quot;: 1.0, &quot;stroke&quot;: true, &quot;weight&quot;: 3}\n",
       "            ).addTo(map_53be396ee6f0ce9a477b027b36ec0287);\n",
       "        \n",
       "    \n",
       "            var marker_00f40d7e3bc838797ac8a2dea5368a32 = L.marker(\n",
       "                [50.974889, 6.973006],\n",
       "                {}\n",
       "            ).addTo(map_53be396ee6f0ce9a477b027b36ec0287);\n",
       "        \n",
       "    \n",
       "            var icon_ed2ac52c7ee0626ef283d0d6442d10cb = L.AwesomeMarkers.icon(\n",
       "                {&quot;extraClasses&quot;: &quot;fa-rotate-0&quot;, &quot;icon&quot;: &quot;info-sign&quot;, &quot;iconColor&quot;: &quot;white&quot;, &quot;markerColor&quot;: &quot;red&quot;, &quot;prefix&quot;: &quot;glyphicon&quot;}\n",
       "            );\n",
       "            marker_00f40d7e3bc838797ac8a2dea5368a32.setIcon(icon_ed2ac52c7ee0626ef283d0d6442d10cb);\n",
       "        \n",
       "    \n",
       "        var popup_4ff43aab132987496dbf14b7bfce5611 = L.popup({&quot;maxWidth&quot;: &quot;100%&quot;});\n",
       "\n",
       "        \n",
       "            \n",
       "                var html_4be982eab22f174976ba2c8c75f4d3d0 = $(`&lt;div id=&quot;html_4be982eab22f174976ba2c8c75f4d3d0&quot; style=&quot;width: 100.0%; height: 100.0%;&quot;&gt;Köln Niehl Betriebshof Nord&lt;/div&gt;`)[0];\n",
       "                popup_4ff43aab132987496dbf14b7bfce5611.setContent(html_4be982eab22f174976ba2c8c75f4d3d0);\n",
       "            \n",
       "        \n",
       "\n",
       "        marker_00f40d7e3bc838797ac8a2dea5368a32.bindPopup(popup_4ff43aab132987496dbf14b7bfce5611)\n",
       "        ;\n",
       "\n",
       "        \n",
       "    \n",
       "    \n",
       "            var marker_1658fc00ad32331d79653e299616537f = L.marker(\n",
       "                [50.974397, 6.969493],\n",
       "                {}\n",
       "            ).addTo(map_53be396ee6f0ce9a477b027b36ec0287);\n",
       "        \n",
       "    \n",
       "            var icon_96cad926caf9270f0c5363666cbec094 = L.AwesomeMarkers.icon(\n",
       "                {&quot;extraClasses&quot;: &quot;fa-rotate-0&quot;, &quot;icon&quot;: &quot;info-sign&quot;, &quot;iconColor&quot;: &quot;white&quot;, &quot;markerColor&quot;: &quot;red&quot;, &quot;prefix&quot;: &quot;glyphicon&quot;}\n",
       "            );\n",
       "            marker_1658fc00ad32331d79653e299616537f.setIcon(icon_96cad926caf9270f0c5363666cbec094);\n",
       "        \n",
       "    \n",
       "        var popup_737ef9bc3da89e7153159ea49d1aa2f5 = L.popup({&quot;maxWidth&quot;: &quot;100%&quot;});\n",
       "\n",
       "        \n",
       "            \n",
       "                var html_3489d0fcd1e8e12de6b534500bf93e5f = $(`&lt;div id=&quot;html_3489d0fcd1e8e12de6b534500bf93e5f&quot; style=&quot;width: 100.0%; height: 100.0%;&quot;&gt;Köln Neven DuMont Haus&lt;/div&gt;`)[0];\n",
       "                popup_737ef9bc3da89e7153159ea49d1aa2f5.setContent(html_3489d0fcd1e8e12de6b534500bf93e5f);\n",
       "            \n",
       "        \n",
       "\n",
       "        marker_1658fc00ad32331d79653e299616537f.bindPopup(popup_737ef9bc3da89e7153159ea49d1aa2f5)\n",
       "        ;\n",
       "\n",
       "        \n",
       "    \n",
       "&lt;/script&gt;\n",
       "&lt;/html&gt;\" style=\"position:absolute;width:100%;height:100%;left:0;top:0;border:none !important;\" allowfullscreen webkitallowfullscreen mozallowfullscreen></iframe></div></div>"
      ],
      "text/plain": [
       "<folium.folium.Map at 0x7f135603bca0>"
      ]
     },
     "execution_count": 52,
     "metadata": {},
     "output_type": "execute_result"
    }
   ],
   "source": [
    "m = folium.Map(\n",
    "\tlocation=[bounds[1], bounds[0]],\n",
    "\tzoom_start=12,\n",
    ")\n",
    "\n",
    "# plot bounds\n",
    "folium.Rectangle(\n",
    "\t[[bounds[1], bounds[0]], [bounds[3], bounds[2]]],\n",
    "\tcolor='black',\n",
    "\tfill=False,\n",
    ").add_to(m)\n",
    "for _, row in stops_df.iterrows():\n",
    "\tfolium.Marker(\n",
    "\t\tlocation=[row['stop_lat'], row['stop_lon']],\n",
    "\t\ticon=folium.Icon(color='red'),\n",
    "\t\tpopup=row['stop_name'],\n",
    "\t).add_to(m)\n",
    "m"
   ]
  },
  {
   "cell_type": "code",
   "execution_count": 8,
   "metadata": {},
   "outputs": [
    {
     "data": {
      "text/plain": [
       "[{'u': 21063145, 'v': 7151289920, 'weights': [7]},\n",
       " {'u': 7151289920, 'v': 10929975, 'weights': [7]},\n",
       " {'u': 10929975, 'v': 10853912, 'weights': [132]}]"
      ]
     },
     "execution_count": 8,
     "metadata": {},
     "output_type": "execute_result"
    }
   ],
   "source": [
    "raw_edges = edges[[\"u\", \"v\", \"length\"]].to_dict(orient=\"records\")\n",
    "raw_edges = [{'u': int(edge['u']), 'v': int(edge['v']), 'weights': [int(edge['length'])]} for edge in raw_edges]\n",
    "raw_edges[:3]"
   ]
  },
  {
   "cell_type": "code",
   "execution_count": 9,
   "metadata": {},
   "outputs": [
    {
     "ename": "",
     "evalue": "",
     "output_type": "error",
     "traceback": [
      "\u001b[1;31mCannot execute code, session has been disposed. Please try restarting the Kernel."
     ]
    },
    {
     "ename": "",
     "evalue": "",
     "output_type": "error",
     "traceback": [
      "\u001b[1;31mThe Kernel crashed while executing code in the the current cell or a previous cell. Please review the code in the cell(s) to identify a possible cause of the failure. Click <a href='https://aka.ms/vscodeJupyterKernelCrash'>here</a> for more info. View Jupyter <a href='command:jupyter.viewOutput'>log</a> for further details."
     ]
    }
   ],
   "source": [
    "mcr_py.run_mlc(raw_edges, 21063145)"
   ]
  },
  {
   "cell_type": "code",
   "execution_count": null,
   "metadata": {},
   "outputs": [],
   "source": [
    "class CustomLabel(bag.LabelInterface):\n",
    "    def __init__(self, time: int, stop: str):\n",
    "        self.arrival_time = time\n",
    "        self.travel_time = 0\n",
    "        self.walking_time = 0\n",
    "        self.waiting_time = 0\n",
    "\n",
    "        self.stop = stop\n",
    "\n",
    "    def __repr__(self):\n",
    "        return f\"Label({self.arrival_time}, t={self.travel_time}, w={self.walking_time}, wait={self.waiting_time})\"\n",
    "\n",
    "    def strictly_dominates(self, other: Self) -> bool:\n",
    "        return (\n",
    "            self.arrival_time <= other.arrival_time\n",
    "            and self.travel_time <= other.travel_time\n",
    "            and self.walking_time <= other.walking_time\n",
    "            and self.waiting_time <= other.waiting_time\n",
    "        )\n",
    "\n",
    "    def update_along_trip(self, arrival_time: int):\n",
    "        interval = arrival_time - self.arrival_time\n",
    "        if interval < 0:\n",
    "            print(self)\n",
    "        # assert interval >= 0\n",
    "        self.arrival_time = arrival_time\n",
    "        self.travel_time += interval\n",
    "\n",
    "    def update_along_footpath(self, walking_time: int):\n",
    "        self.arrival_time = self.arrival_time + walking_time\n",
    "        self.walking_time += walking_time\n",
    "\n",
    "    def update_before_route_bag_merge(self, departure_time: int):\n",
    "        interval = departure_time - self.arrival_time\n",
    "        if interval < 0:\n",
    "            print(self)\n",
    "        # assert interval >= 0\n",
    "        self.arrival_time = departure_time\n",
    "        self.waiting_time += interval\n",
    "\n",
    "    def to_human_readable(self):\n",
    "        return {\n",
    "            \"arrival_time\": strtime.seconds_to_str_time(self.arrival_time),\n",
    "            \"travel_time\": strtime.seconds_to_str_time(self.travel_time),\n",
    "            \"walking_time\": strtime.seconds_to_str_time(self.walking_time),\n",
    "            \"waiting_time\": strtime.seconds_to_str_time(self.waiting_time),\n",
    "        }\n",
    "\n",
    "    def copy(self: Self) -> Self:\n",
    "        label = CustomLabel(self.arrival_time, self.stop)\n",
    "\n",
    "        label.travel_time = self.travel_time\n",
    "        label.walking_time = self.walking_time\n",
    "        label.waiting_time = self.waiting_time\n",
    "\n",
    "        return label\n"
   ]
  },
  {
   "cell_type": "code",
   "execution_count": null,
   "metadata": {},
   "outputs": [],
   "source": [
    "label_class = CustomLabel"
   ]
  },
  {
   "cell_type": "code",
   "execution_count": null,
   "metadata": {},
   "outputs": [
    {
     "ename": "TypeError",
     "evalue": "CustomLabel.update_before_route_bag_merge() takes 2 positional arguments but 3 were given",
     "output_type": "error",
     "traceback": [
      "\u001b[0;31m---------------------------------------------------------------------------\u001b[0m",
      "\u001b[0;31mTypeError\u001b[0m                                 Traceback (most recent call last)",
      "Cell \u001b[0;32mIn[8], line 2\u001b[0m\n\u001b[1;32m      1\u001b[0m mcraptor \u001b[39m=\u001b[39m McRaptor(structs_dict, footpaths_dict, \u001b[39m2\u001b[39m, \u001b[39m60\u001b[39m, {}, {}, label_class)\n\u001b[0;32m----> 2\u001b[0m res \u001b[39m=\u001b[39m mcraptor\u001b[39m.\u001b[39;49mrun(\u001b[39m\"\u001b[39;49m\u001b[39m818\u001b[39;49m\u001b[39m\"\u001b[39;49m, \u001b[39m\"\u001b[39;49m\u001b[39m\"\u001b[39;49m, \u001b[39m\"\u001b[39;49m\u001b[39m15:00:00\u001b[39;49m\u001b[39m\"\u001b[39;49m)\n",
      "File \u001b[0;32m~/dev/uni/mcr-py/notebooks/../src/package/raptor/mcraptor.py:69\u001b[0m, in \u001b[0;36mMcRaptor.run\u001b[0;34m(self, start_stop_id, end_stop_id, start_time_str)\u001b[0m\n\u001b[1;32m     65\u001b[0m b_i[k] \u001b[39m=\u001b[39m b_i[k \u001b[39m-\u001b[39m \u001b[39m1\u001b[39m]\u001b[39m.\u001b[39mcopy()\n\u001b[1;32m     67\u001b[0m Q \u001b[39m=\u001b[39m \u001b[39mself\u001b[39m\u001b[39m.\u001b[39mcollect_Q(marked_stops)\n\u001b[0;32m---> 69\u001b[0m b_i, marked_stops \u001b[39m=\u001b[39m \u001b[39mself\u001b[39;49m\u001b[39m.\u001b[39;49mprocess_routes(Q, k, b_i)\n\u001b[1;32m     70\u001b[0m b_i, additional_marked_stops \u001b[39m=\u001b[39m \u001b[39mself\u001b[39m\u001b[39m.\u001b[39mprocess_footpaths(marked_stops, k, b_i)\n\u001b[1;32m     72\u001b[0m marked_stops\u001b[39m.\u001b[39mupdate(additional_marked_stops)\n",
      "File \u001b[0;32m~/dev/uni/mcr-py/notebooks/../src/package/raptor/mcraptor.py:144\u001b[0m, in \u001b[0;36mMcRaptor.process_routes\u001b[0;34m(self, Q, k, b_i)\u001b[0m\n\u001b[1;32m    139\u001b[0m     route_bag \u001b[39m=\u001b[39m RouteBag[L, S, T](\n\u001b[1;32m    140\u001b[0m         \u001b[39mself\u001b[39m\u001b[39m.\u001b[39mdq,\n\u001b[1;32m    141\u001b[0m     )\n\u001b[1;32m    143\u001b[0m     \u001b[39mfor\u001b[39;00m stop_id \u001b[39min\u001b[39;00m \u001b[39mself\u001b[39m\u001b[39m.\u001b[39mdq\u001b[39m.\u001b[39miterate_stops_in_route_from_idx(route_id, idx):\n\u001b[0;32m--> 144\u001b[0m         b_i, marked_stops, route_bag \u001b[39m=\u001b[39m \u001b[39mself\u001b[39;49m\u001b[39m.\u001b[39;49mprocess_route(\n\u001b[1;32m    145\u001b[0m             route_id,\n\u001b[1;32m    146\u001b[0m             stop_id,\n\u001b[1;32m    147\u001b[0m             k,\n\u001b[1;32m    148\u001b[0m             b_i,\n\u001b[1;32m    149\u001b[0m             route_bag,\n\u001b[1;32m    150\u001b[0m             marked_stops,\n\u001b[1;32m    151\u001b[0m         )\n\u001b[1;32m    152\u001b[0m \u001b[39mreturn\u001b[39;00m b_i, marked_stops\n",
      "File \u001b[0;32m~/dev/uni/mcr-py/notebooks/../src/package/raptor/mcraptor.py:180\u001b[0m, in \u001b[0;36mMcRaptor.process_route\u001b[0;34m(self, route_id, stop_id, k, b_i, route_bag, marked_stops)\u001b[0m\n\u001b[1;32m    170\u001b[0m     marked_stops\u001b[39m.\u001b[39madd(stop_id)\n\u001b[1;32m    172\u001b[0m \u001b[39m# third step - merge stop_bag into route_bag\u001b[39;00m\n\u001b[1;32m    173\u001b[0m \u001b[39m# transfer_time_stop_bag = (\u001b[39;00m\n\u001b[1;32m    174\u001b[0m \u001b[39m#     stop_bag.create_bag_with_timeoffset(  # TODO: do we need this?\u001b[39;00m\n\u001b[0;32m   (...)\u001b[0m\n\u001b[1;32m    178\u001b[0m \u001b[39m#     )\u001b[39;00m\n\u001b[1;32m    179\u001b[0m \u001b[39m# )\u001b[39;00m\n\u001b[0;32m--> 180\u001b[0m \u001b[39mself\u001b[39;49m\u001b[39m.\u001b[39;49mmerge_bag_into_route_bag(\n\u001b[1;32m    181\u001b[0m     route_bag,\n\u001b[1;32m    182\u001b[0m     stop_bag,\n\u001b[1;32m    183\u001b[0m     route_id,\n\u001b[1;32m    184\u001b[0m     stop_id,\n\u001b[1;32m    185\u001b[0m )\n\u001b[1;32m    186\u001b[0m \u001b[39mreturn\u001b[39;00m b_i, marked_stops, route_bag\n",
      "File \u001b[0;32m~/dev/uni/mcr-py/notebooks/../src/package/raptor/mcraptor.py:208\u001b[0m, in \u001b[0;36mMcRaptor.merge_bag_into_route_bag\u001b[0;34m(self, route_bag, bag, route_id, stop_id)\u001b[0m\n\u001b[1;32m    206\u001b[0m trip, departure_time \u001b[39m=\u001b[39m res\n\u001b[1;32m    207\u001b[0m label \u001b[39m=\u001b[39m label\u001b[39m.\u001b[39mcopy()\n\u001b[0;32m--> 208\u001b[0m label\u001b[39m.\u001b[39;49mupdate_before_route_bag_merge(departure_time,stop_id)\n\u001b[1;32m    209\u001b[0m route_bag\u001b[39m.\u001b[39madd_if_necessary(label, trip)\n",
      "\u001b[0;31mTypeError\u001b[0m: CustomLabel.update_before_route_bag_merge() takes 2 positional arguments but 3 were given"
     ]
    }
   ],
   "source": [
    "mcraptor = McRaptor(structs_dict, footpaths_dict, 2, 60, {}, {}, label_class)\n",
    "res = mcraptor.run(\"818\", \"\", \"15:00:00\")"
   ]
  },
  {
   "cell_type": "code",
   "execution_count": null,
   "metadata": {},
   "outputs": [],
   "source": [
    "from rich.pretty import pprint\n",
    "import pandas as pd\n"
   ]
  },
  {
   "cell_type": "code",
   "execution_count": null,
   "metadata": {},
   "outputs": [],
   "source": [
    "df = pd.DataFrame.from_dict(\n",
    "    {\n",
    "        (outer_key, inner_key): values\n",
    "        for outer_key, inner_dict in res.items()\n",
    "        for inner_key, values in enumerate(inner_dict)\n",
    "    }\n",
    ").T\n",
    "\n",
    "df = df.reset_index(names=[\"stop_id\", \"idx\"])"
   ]
  },
  {
   "cell_type": "code",
   "execution_count": null,
   "metadata": {},
   "outputs": [
    {
     "data": {
      "text/plain": [
       "stop_id\n",
       "180     238\n",
       "1098    221\n",
       "6827    219\n",
       "1097    218\n",
       "5862    196\n",
       "       ... \n",
       "316      24\n",
       "343      24\n",
       "317      23\n",
       "819      22\n",
       "818      20\n",
       "Length: 299, dtype: int64"
      ]
     },
     "execution_count": 77,
     "metadata": {},
     "output_type": "execute_result"
    }
   ],
   "source": [
    "df.groupby(\"stop_id\").size().sort_values(ascending=False)"
   ]
  },
  {
   "cell_type": "code",
   "execution_count": null,
   "metadata": {},
   "outputs": [
    {
     "data": {
      "text/html": [
       "<div>\n",
       "<style scoped>\n",
       "    .dataframe tbody tr th:only-of-type {\n",
       "        vertical-align: middle;\n",
       "    }\n",
       "\n",
       "    .dataframe tbody tr th {\n",
       "        vertical-align: top;\n",
       "    }\n",
       "\n",
       "    .dataframe thead th {\n",
       "        text-align: right;\n",
       "    }\n",
       "</style>\n",
       "<table border=\"1\" class=\"dataframe\">\n",
       "  <thead>\n",
       "    <tr style=\"text-align: right;\">\n",
       "      <th></th>\n",
       "      <th>stop_id</th>\n",
       "      <th>idx</th>\n",
       "      <th>arrival_time</th>\n",
       "      <th>travel_time</th>\n",
       "      <th>walking_time</th>\n",
       "      <th>waiting_time</th>\n",
       "    </tr>\n",
       "  </thead>\n",
       "  <tbody>\n",
       "    <tr>\n",
       "      <th>11415</th>\n",
       "      <td>818</td>\n",
       "      <td>0</td>\n",
       "      <td>17:34:04</td>\n",
       "      <td>-1:59:00</td>\n",
       "      <td>02:29:00</td>\n",
       "      <td>00:06:04</td>\n",
       "    </tr>\n",
       "    <tr>\n",
       "      <th>11416</th>\n",
       "      <td>818</td>\n",
       "      <td>1</td>\n",
       "      <td>17:36:04</td>\n",
       "      <td>-1:59:00</td>\n",
       "      <td>02:12:44</td>\n",
       "      <td>00:24:20</td>\n",
       "    </tr>\n",
       "    <tr>\n",
       "      <th>11417</th>\n",
       "      <td>818</td>\n",
       "      <td>2</td>\n",
       "      <td>17:36:04</td>\n",
       "      <td>-1:58:00</td>\n",
       "      <td>02:20:16</td>\n",
       "      <td>00:17:48</td>\n",
       "    </tr>\n",
       "    <tr>\n",
       "      <th>11418</th>\n",
       "      <td>818</td>\n",
       "      <td>3</td>\n",
       "      <td>17:46:04</td>\n",
       "      <td>-1:55:00</td>\n",
       "      <td>02:32:42</td>\n",
       "      <td>00:18:22</td>\n",
       "    </tr>\n",
       "    <tr>\n",
       "      <th>11419</th>\n",
       "      <td>818</td>\n",
       "      <td>4</td>\n",
       "      <td>17:36:04</td>\n",
       "      <td>-1:57:00</td>\n",
       "      <td>02:23:58</td>\n",
       "      <td>00:15:06</td>\n",
       "    </tr>\n",
       "    <tr>\n",
       "      <th>11420</th>\n",
       "      <td>818</td>\n",
       "      <td>5</td>\n",
       "      <td>17:33:39</td>\n",
       "      <td>-1:59:00</td>\n",
       "      <td>02:28:17</td>\n",
       "      <td>00:06:22</td>\n",
       "    </tr>\n",
       "    <tr>\n",
       "      <th>11421</th>\n",
       "      <td>818</td>\n",
       "      <td>6</td>\n",
       "      <td>17:34:56</td>\n",
       "      <td>-1:56:00</td>\n",
       "      <td>02:29:50</td>\n",
       "      <td>00:09:06</td>\n",
       "    </tr>\n",
       "    <tr>\n",
       "      <th>11422</th>\n",
       "      <td>818</td>\n",
       "      <td>7</td>\n",
       "      <td>17:33:01</td>\n",
       "      <td>-1:59:00</td>\n",
       "      <td>02:18:55</td>\n",
       "      <td>00:15:06</td>\n",
       "    </tr>\n",
       "    <tr>\n",
       "      <th>11423</th>\n",
       "      <td>818</td>\n",
       "      <td>8</td>\n",
       "      <td>17:34:56</td>\n",
       "      <td>-1:58:00</td>\n",
       "      <td>02:34:52</td>\n",
       "      <td>00:02:04</td>\n",
       "    </tr>\n",
       "    <tr>\n",
       "      <th>11424</th>\n",
       "      <td>818</td>\n",
       "      <td>9</td>\n",
       "      <td>17:44:56</td>\n",
       "      <td>-1:54:00</td>\n",
       "      <td>02:38:34</td>\n",
       "      <td>00:12:22</td>\n",
       "    </tr>\n",
       "    <tr>\n",
       "      <th>11425</th>\n",
       "      <td>818</td>\n",
       "      <td>10</td>\n",
       "      <td>17:46:04</td>\n",
       "      <td>-1:56:00</td>\n",
       "      <td>02:29:00</td>\n",
       "      <td>00:21:04</td>\n",
       "    </tr>\n",
       "    <tr>\n",
       "      <th>11426</th>\n",
       "      <td>818</td>\n",
       "      <td>11</td>\n",
       "      <td>17:34:56</td>\n",
       "      <td>-1:57:00</td>\n",
       "      <td>02:26:08</td>\n",
       "      <td>00:11:48</td>\n",
       "    </tr>\n",
       "    <tr>\n",
       "      <th>11427</th>\n",
       "      <td>818</td>\n",
       "      <td>12</td>\n",
       "      <td>17:34:56</td>\n",
       "      <td>-1:59:00</td>\n",
       "      <td>02:27:51</td>\n",
       "      <td>00:08:05</td>\n",
       "    </tr>\n",
       "    <tr>\n",
       "      <th>11428</th>\n",
       "      <td>818</td>\n",
       "      <td>13</td>\n",
       "      <td>15:00:00</td>\n",
       "      <td>00:00:00</td>\n",
       "      <td>00:00:00</td>\n",
       "      <td>00:00:00</td>\n",
       "    </tr>\n",
       "    <tr>\n",
       "      <th>11429</th>\n",
       "      <td>818</td>\n",
       "      <td>14</td>\n",
       "      <td>17:44:56</td>\n",
       "      <td>-1:55:00</td>\n",
       "      <td>02:34:52</td>\n",
       "      <td>00:15:04</td>\n",
       "    </tr>\n",
       "    <tr>\n",
       "      <th>11430</th>\n",
       "      <td>818</td>\n",
       "      <td>15</td>\n",
       "      <td>17:38:56</td>\n",
       "      <td>-1:57:00</td>\n",
       "      <td>02:38:34</td>\n",
       "      <td>00:03:22</td>\n",
       "    </tr>\n",
       "    <tr>\n",
       "      <th>11431</th>\n",
       "      <td>818</td>\n",
       "      <td>16</td>\n",
       "      <td>17:34:56</td>\n",
       "      <td>-1:59:00</td>\n",
       "      <td>02:17:30</td>\n",
       "      <td>00:18:26</td>\n",
       "    </tr>\n",
       "    <tr>\n",
       "      <th>11432</th>\n",
       "      <td>818</td>\n",
       "      <td>17</td>\n",
       "      <td>17:28:56</td>\n",
       "      <td>-1:59:00</td>\n",
       "      <td>02:29:50</td>\n",
       "      <td>00:00:06</td>\n",
       "    </tr>\n",
       "    <tr>\n",
       "      <th>11433</th>\n",
       "      <td>818</td>\n",
       "      <td>18</td>\n",
       "      <td>17:34:56</td>\n",
       "      <td>-1:58:00</td>\n",
       "      <td>02:18:36</td>\n",
       "      <td>00:18:20</td>\n",
       "    </tr>\n",
       "    <tr>\n",
       "      <th>11434</th>\n",
       "      <td>818</td>\n",
       "      <td>19</td>\n",
       "      <td>17:34:04</td>\n",
       "      <td>-1:58:00</td>\n",
       "      <td>02:32:42</td>\n",
       "      <td>00:03:22</td>\n",
       "    </tr>\n",
       "  </tbody>\n",
       "</table>\n",
       "</div>"
      ],
      "text/plain": [
       "      stop_id  idx arrival_time travel_time walking_time waiting_time\n",
       "11415     818    0     17:34:04    -1:59:00     02:29:00     00:06:04\n",
       "11416     818    1     17:36:04    -1:59:00     02:12:44     00:24:20\n",
       "11417     818    2     17:36:04    -1:58:00     02:20:16     00:17:48\n",
       "11418     818    3     17:46:04    -1:55:00     02:32:42     00:18:22\n",
       "11419     818    4     17:36:04    -1:57:00     02:23:58     00:15:06\n",
       "11420     818    5     17:33:39    -1:59:00     02:28:17     00:06:22\n",
       "11421     818    6     17:34:56    -1:56:00     02:29:50     00:09:06\n",
       "11422     818    7     17:33:01    -1:59:00     02:18:55     00:15:06\n",
       "11423     818    8     17:34:56    -1:58:00     02:34:52     00:02:04\n",
       "11424     818    9     17:44:56    -1:54:00     02:38:34     00:12:22\n",
       "11425     818   10     17:46:04    -1:56:00     02:29:00     00:21:04\n",
       "11426     818   11     17:34:56    -1:57:00     02:26:08     00:11:48\n",
       "11427     818   12     17:34:56    -1:59:00     02:27:51     00:08:05\n",
       "11428     818   13     15:00:00    00:00:00     00:00:00     00:00:00\n",
       "11429     818   14     17:44:56    -1:55:00     02:34:52     00:15:04\n",
       "11430     818   15     17:38:56    -1:57:00     02:38:34     00:03:22\n",
       "11431     818   16     17:34:56    -1:59:00     02:17:30     00:18:26\n",
       "11432     818   17     17:28:56    -1:59:00     02:29:50     00:00:06\n",
       "11433     818   18     17:34:56    -1:58:00     02:18:36     00:18:20\n",
       "11434     818   19     17:34:04    -1:58:00     02:32:42     00:03:22"
      ]
     },
     "execution_count": 78,
     "metadata": {},
     "output_type": "execute_result"
    }
   ],
   "source": [
    "df[df[\"stop_id\"] == \"818\"]"
   ]
  },
  {
   "cell_type": "code",
   "execution_count": null,
   "metadata": {},
   "outputs": [
    {
     "name": "stdout",
     "output_type": "stream",
     "text": [
      "16:05:00\n",
      "16:06:00\n"
     ]
    }
   ],
   "source": [
    "print(strtime.seconds_to_str_time(57900)) # new arrival time # 61\n",
    "print(strtime.seconds_to_str_time(57960)) # old arrival tiem # 60\n",
    "# 36-131-001-124.2.22:151500-45-256_16EC2130-92AF-4579-ACDF-AFF1013D6778"
   ]
  },
  {
   "cell_type": "code",
   "execution_count": null,
   "metadata": {},
   "outputs": [
    {
     "name": "stdout",
     "output_type": "stream",
     "text": [
      "16:06:00\n"
     ]
    }
   ],
   "source": [
    "times_by_stop_by_trip = structs_dict[\"times_by_stop_by_trip\"]\n",
    "t = times_by_stop_by_trip[\"36-131-001-124.2.22:151500-45-256_16EC2130-92AF-4579-ACDF-AFF1013D6778\"][\"60\"][0]\n",
    "print(strtime.seconds_to_str_time(t)) # 60"
   ]
  },
  {
   "cell_type": "code",
   "execution_count": null,
   "metadata": {},
   "outputs": [
    {
     "data": {
      "text/plain": [
       "[('116', ['15:32:00', '15:32:00']),\n",
       " ('111', ['15:34:00', '15:34:00']),\n",
       " ('109', ['15:35:00', '15:35:00']),\n",
       " ('106', ['15:38:00', '15:38:00']),\n",
       " ('120', ['15:41:00', '15:41:00']),\n",
       " ('73', ['15:57:00', '15:57:00']),\n",
       " ('72', ['15:59:00', '15:59:00']),\n",
       " ('57', ['16:01:00', '16:02:00']),\n",
       " ('61', ['16:05:00', '16:05:00']),\n",
       " ('60', ['16:06:00', '16:06:00']),\n",
       " ('62', ['16:07:00', '16:07:00']),\n",
       " ('56', ['16:09:00', '16:09:00']),\n",
       " ('59', ['16:10:00', '16:10:00']),\n",
       " ('58', ['16:11:00', '16:11:00']),\n",
       " ('54', ['16:14:00', '16:14:00']),\n",
       " ('916', ['16:15:00', '16:15:00']),\n",
       " ('159', ['16:16:00', '16:16:00']),\n",
       " ('152', ['16:18:00', '16:18:00']),\n",
       " ('157', ['16:20:00', '16:20:00']),\n",
       " ('162', ['16:22:00', '16:22:00'])]"
      ]
     },
     "execution_count": 36,
     "metadata": {},
     "output_type": "execute_result"
    }
   ],
   "source": [
    "tt = times_by_stop_by_trip[\n",
    "    \"36-131-001-124.2.22:151500-45-256_16EC2130-92AF-4579-ACDF-AFF1013D6778\"\n",
    "]\n",
    "sorted(\n",
    "    [\n",
    "        (key, (list(strtime.seconds_to_str_time(t) for t in values)))\n",
    "        for key, values in tt.items()\n",
    "    ],\n",
    "    key=lambda x: x[1][0],\n",
    ")\n"
   ]
  }
 ],
 "metadata": {
  "kernelspec": {
   "display_name": "mcr-py",
   "language": "python",
   "name": "python3"
  },
  "language_info": {
   "codemirror_mode": {
    "name": "ipython",
    "version": 3
   },
   "file_extension": ".py",
   "mimetype": "text/x-python",
   "name": "python",
   "nbconvert_exporter": "python",
   "pygments_lexer": "ipython3",
   "version": "3.10.12"
  },
  "orig_nbformat": 4
 },
 "nbformat": 4,
 "nbformat_minor": 2
}
